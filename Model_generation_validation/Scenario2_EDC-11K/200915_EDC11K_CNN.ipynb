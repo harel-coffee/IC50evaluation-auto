{
 "cells": [
  {
   "cell_type": "code",
   "execution_count": 1,
   "metadata": {},
   "outputs": [
    {
     "name": "stderr",
     "output_type": "stream",
     "text": [
      "Using TensorFlow backend.\n"
     ]
    }
   ],
   "source": [
    "import os\n",
    "import pandas as pd\n",
    "import numpy as np\n",
    "import tensorflow as tf\n",
    "import random\n",
    "from pandas import DataFrame\n",
    "from datetime import datetime\n",
    "import keras\n",
    "from keras.models import Sequential,Input,Model\n",
    "from keras.layers import Dense, Dropout, Flatten, Reshape, Activation\n",
    "from keras.layers import Conv1D, MaxPooling1D ,AveragePooling1D\n",
    "from keras.layers.normalization import BatchNormalization\n",
    "from keras.layers.advanced_activations import LeakyReLU\n",
    "from keras import backend as K\n",
    "from keras.callbacks import ModelCheckpoint, CSVLogger\n",
    "from keras.optimizers import Adam, RMSprop\n",
    "from keras.layers import Input, Dense, Conv1D, MaxPooling1D\n",
    "from keras.layers import Flatten, Concatenate, Dropout, Reshape, BatchNormalization\n",
    "from keras.models import Model\n",
    "\n",
    "# input file path\n",
    "workdir = \"E://Ronny_TF//200914_reupload//Dataset//Scenario2_EDC-11K\"\n"
   ]
  },
  {
   "cell_type": "code",
   "execution_count": 2,
   "metadata": {},
   "outputs": [
    {
     "name": "stdout",
     "output_type": "stream",
     "text": [
      "[name: \"/device:CPU:0\"\n",
      "device_type: \"CPU\"\n",
      "memory_limit: 268435456\n",
      "locality {\n",
      "}\n",
      "incarnation: 10586681505313592809\n",
      ", name: \"/device:GPU:0\"\n",
      "device_type: \"GPU\"\n",
      "memory_limit: 10112512820\n",
      "locality {\n",
      "  bus_id: 1\n",
      "  links {\n",
      "  }\n",
      "}\n",
      "incarnation: 13846861906815962867\n",
      "physical_device_desc: \"device: 0, name: GeForce GTX 1080 Ti, pci bus id: 0000:01:00.0, compute capability: 6.1\"\n",
      "]\n"
     ]
    }
   ],
   "source": [
    "from tensorflow.python.client import device_lib\n",
    "print(device_lib.list_local_devices())\n",
    "\n"
   ]
  },
  {
   "cell_type": "code",
   "execution_count": 3,
   "metadata": {},
   "outputs": [],
   "source": [
    "# input and index file\n",
    "dataset = np.load(workdir + \"//200914_EDC11K.npz\")\n",
    "ss0 = np.load(workdir + '//200914_EDC11K_r0_9_1.npz')"
   ]
  },
  {
   "cell_type": "code",
   "execution_count": 4,
   "metadata": {},
   "outputs": [],
   "source": [
    "# input and index file assign\n",
    "x = dataset['x']\n",
    "y = dataset['y']\n",
    "# y_linear = dataset['y_lnIC50']\n",
    "ss0_train = ss0['train']\n",
    "ss0_test = ss0['test']"
   ]
  },
  {
   "cell_type": "code",
   "execution_count": 5,
   "metadata": {},
   "outputs": [],
   "source": [
    "# training and test dataset assign\n",
    "training_image_array, training_label_array = x[ss0_train], y[ss0_train]\n",
    "test_image_array, test_label_array = x[ss0_test], y[ss0_test]\n"
   ]
  },
  {
   "cell_type": "code",
   "execution_count": 7,
   "metadata": {},
   "outputs": [
    {
     "data": {
      "text/plain": [
       "(11360, 21313)"
      ]
     },
     "execution_count": 7,
     "metadata": {},
     "output_type": "execute_result"
    }
   ],
   "source": [
    "# checking the size of dataset\n",
    "x.shape"
   ]
  },
  {
   "cell_type": "code",
   "execution_count": 8,
   "metadata": {},
   "outputs": [
    {
     "data": {
      "text/plain": [
       "(10224, 21313)"
      ]
     },
     "execution_count": 8,
     "metadata": {},
     "output_type": "execute_result"
    }
   ],
   "source": [
    "# checking the size of training set\n",
    "training_image_array.shape"
   ]
  },
  {
   "cell_type": "code",
   "execution_count": 9,
   "metadata": {},
   "outputs": [],
   "source": [
    "# hyperparameters of this model\n",
    "num_classes = 1\n",
    "learning_rate = 0.0002\n",
    "training_epochs = 150\n",
    "batch_size = 100\n"
   ]
  },
  {
   "cell_type": "code",
   "execution_count": 10,
   "metadata": {},
   "outputs": [],
   "source": [
    "train_X, train_y, test_X, test_y = training_image_array, training_label_array, test_image_array, test_label_array\n",
    "\n",
    "\n"
   ]
  },
  {
   "cell_type": "code",
   "execution_count": 11,
   "metadata": {},
   "outputs": [
    {
     "name": "stdout",
     "output_type": "stream",
     "text": [
      "18988\n"
     ]
    }
   ],
   "source": [
    "shape_value = 18988\n",
    "print(shape_value)"
   ]
  },
  {
   "cell_type": "code",
   "execution_count": 12,
   "metadata": {},
   "outputs": [
    {
     "data": {
      "text/plain": [
       "(10224, 21313)"
      ]
     },
     "execution_count": 12,
     "metadata": {},
     "output_type": "execute_result"
    }
   ],
   "source": [
    "train_X.shape"
   ]
  },
  {
   "cell_type": "code",
   "execution_count": 13,
   "metadata": {},
   "outputs": [],
   "source": [
    "# data shaping for CNN model\n",
    "train_X_cell = train_X[:,:shape_value]\n",
    "train_X_drug =train_X[:,shape_value:]\n",
    "test_X_cell = test_X[:,:shape_value]\n",
    "test_X_drug = test_X[:,shape_value:]"
   ]
  },
  {
   "cell_type": "code",
   "execution_count": 14,
   "metadata": {},
   "outputs": [
    {
     "data": {
      "text/plain": [
       "(10224, 18988)"
      ]
     },
     "execution_count": 14,
     "metadata": {},
     "output_type": "execute_result"
    }
   ],
   "source": [
    "train_X_cell.shape"
   ]
  },
  {
   "cell_type": "code",
   "execution_count": 15,
   "metadata": {},
   "outputs": [],
   "source": [
    "train_X_cell = train_X_cell.reshape(train_X_cell.shape[0], train_X_cell.shape[1], 1)\n",
    "train_X_drug = train_X_drug.reshape(train_X_drug.shape[0], train_X_drug.shape[1], 1)\n",
    "test_X_cell = test_X_cell.reshape(test_X_cell.shape[0], test_X_cell.shape[1], 1)\n",
    "test_X_drug = test_X_drug.reshape(test_X_drug.shape[0], test_X_drug.shape[1], 1)\n",
    "#input_shape = (img_rows, img_cols, 1)"
   ]
  },
  {
   "cell_type": "code",
   "execution_count": 16,
   "metadata": {},
   "outputs": [
    {
     "name": "stdout",
     "output_type": "stream",
     "text": [
      "(10224, 18988, 1) (10224, 2325, 1) (10224,) (1136, 18988, 1) (1136, 2325, 1) (1136,)\n"
     ]
    }
   ],
   "source": [
    "# data shape\n",
    "print(train_X_cell.shape,train_X_drug.shape, train_y.shape, test_X_cell.shape,test_X_drug.shape, test_y.shape)"
   ]
  },
  {
   "cell_type": "code",
   "execution_count": 17,
   "metadata": {},
   "outputs": [
    {
     "data": {
      "text/plain": [
       "(10224, 18988, 1)"
      ]
     },
     "execution_count": 17,
     "metadata": {},
     "output_type": "execute_result"
    }
   ],
   "source": [
    "train_X_cell.shape"
   ]
  },
  {
   "cell_type": "code",
   "execution_count": 39,
   "metadata": {},
   "outputs": [
    {
     "name": "stdout",
     "output_type": "stream",
     "text": [
      "train_X shape: (10224, 21313)\n",
      "10224 train samples\n",
      "1136 test samples\n"
     ]
    }
   ],
   "source": [
    "# data typing and the number of samples\n",
    "train_X_cell = train_X_cell.astype('float32')\n",
    "test_X_cell = test_X_cell.astype('float32')\n",
    "train_X_drug = train_X_drug.astype('float32')\n",
    "test_X_drug = test_X_drug.astype('float32')\n",
    "# train_X /= 255\n",
    "# test_X /= 255\n",
    "print('train_X shape:', train_X.shape)\n",
    "print(train_X.shape[0], 'train samples')\n",
    "print(test_X.shape[0], 'test samples')"
   ]
  },
  {
   "cell_type": "code",
   "execution_count": 19,
   "metadata": {},
   "outputs": [
    {
     "name": "stderr",
     "output_type": "stream",
     "text": [
      "WARNING: Logging before flag parsing goes to stderr.\n",
      "W0915 09:55:50.641646 14964 deprecation_wrapper.py:119] From c:\\users\\a\\anaconda3\\envs\\tf_gpu_3.6\\lib\\site-packages\\keras\\backend\\tensorflow_backend.py:514: The name tf.placeholder is deprecated. Please use tf.compat.v1.placeholder instead.\n",
      "\n",
      "W0915 09:55:50.650437 14964 deprecation_wrapper.py:119] From c:\\users\\a\\anaconda3\\envs\\tf_gpu_3.6\\lib\\site-packages\\keras\\backend\\tensorflow_backend.py:71: The name tf.get_default_graph is deprecated. Please use tf.compat.v1.get_default_graph instead.\n",
      "\n",
      "W0915 09:55:50.652519 14964 deprecation_wrapper.py:119] From c:\\users\\a\\anaconda3\\envs\\tf_gpu_3.6\\lib\\site-packages\\keras\\backend\\tensorflow_backend.py:4076: The name tf.random_uniform is deprecated. Please use tf.random.uniform instead.\n",
      "\n",
      "W0915 09:55:50.675812 14964 deprecation_wrapper.py:119] From c:\\users\\a\\anaconda3\\envs\\tf_gpu_3.6\\lib\\site-packages\\keras\\backend\\tensorflow_backend.py:3900: The name tf.nn.max_pool is deprecated. Please use tf.nn.max_pool2d instead.\n",
      "\n",
      "W0915 09:55:50.708994 14964 deprecation_wrapper.py:119] From c:\\users\\a\\anaconda3\\envs\\tf_gpu_3.6\\lib\\site-packages\\keras\\backend\\tensorflow_backend.py:130: The name tf.placeholder_with_default is deprecated. Please use tf.compat.v1.placeholder_with_default instead.\n",
      "\n",
      "W0915 09:55:50.714851 14964 deprecation.py:506] From c:\\users\\a\\anaconda3\\envs\\tf_gpu_3.6\\lib\\site-packages\\keras\\backend\\tensorflow_backend.py:3363: calling dropout (from tensorflow.python.ops.nn_ops) with keep_prob is deprecated and will be removed in a future version.\n",
      "Instructions for updating:\n",
      "Please use `rate` instead of `keep_prob`. Rate should be set to `rate = 1 - keep_prob`.\n"
     ]
    }
   ],
   "source": [
    "# model architecture\n",
    "with K.tf.device('/GPU:0'):\n",
    "    input_cell = Input(shape=(train_X_cell.shape[1], train_X_cell.shape[2]), name='cell_input')\n",
    "    input_drug = Input(shape=(train_X_drug.shape[1], train_X_drug.shape[2]), name='drug_input')\n",
    "\n",
    "    conv_cell_line_1 = Conv1D(filters=50, kernel_size=700, strides=5, activation='tanh')(input_cell)\n",
    "    maxpool_cell_line_1 = MaxPooling1D(pool_size=5)(conv_cell_line_1)\n",
    "    conv_cell_line_2 = Conv1D(filters=30, kernel_size=5, strides=2, activation='relu')(maxpool_cell_line_1)\n",
    "    maxpool_cell_line_2 = MaxPooling1D(pool_size=10)(conv_cell_line_2)\n",
    "    flatten_cell_line = Flatten()(maxpool_cell_line_2)\n",
    "    dense_cell_line = Dense(100, activation='relu')(flatten_cell_line)\n",
    "    dropout_cell_line = Dropout(0.1)(dense_cell_line)\n",
    "\n",
    "    conv_drug_1 = Conv1D(filters=50, kernel_size=200, strides=3, activation='tanh')(input_drug)\n",
    "    maxpool_drug_1 = MaxPooling1D(pool_size=5)(conv_drug_1)\n",
    "    conv_drug_2 = Conv1D(filters=30, kernel_size=50, strides=5, activation='relu')(maxpool_drug_1)\n",
    "    maxpool_drug_2 = MaxPooling1D(pool_size=10)(conv_drug_2)\n",
    "    flatten_drug = Flatten()(maxpool_drug_2)\n",
    "    dense_drug = Dense(100, activation='relu')(flatten_drug)\n",
    "    dropout_drug = Dropout(0.1)(dense_drug)\n",
    "\n",
    "    concatenate = Concatenate()([dropout_cell_line, dropout_drug])\n",
    "    dense_1 = Dense(300, activation='tanh')(concatenate)\n",
    "    dropout_1 = Dropout(0.1)(dense_1)\n",
    "    reshape_1 = Reshape((300,1))(dropout_1)\n",
    "    conv_1 = Conv1D(filters=30, kernel_size=150, strides=1, activation='relu')(reshape_1)\n",
    "    maxpool_1 = MaxPooling1D(pool_size=2)(conv_1)\n",
    "    conv_2 = Conv1D(filters=10, kernel_size=5, strides=1, activation='relu')(maxpool_1)\n",
    "    maxpool_2 = MaxPooling1D(pool_size=3)(conv_2)\n",
    "    conv_3 = Conv1D(filters=5, kernel_size=5, strides=1, activation='relu')(maxpool_2)\n",
    "    maxpool_3 = MaxPooling1D(pool_size=3)(conv_3)\n",
    "    dropout_2 = Dropout(0.1)(maxpool_3)\n",
    "    flatten = Flatten()(dropout_2)\n",
    "    dropout_3 = Dropout(0.2)(flatten)\n",
    "    output = Dense(1, activation='linear', name='pred_lnIC50')(dropout_3)\n",
    "    model = Model(inputs=[input_cell, input_drug], outputs=output, name='MasterModel')\n",
    "\n"
   ]
  },
  {
   "cell_type": "code",
   "execution_count": 20,
   "metadata": {
    "scrolled": true
   },
   "outputs": [
    {
     "name": "stdout",
     "output_type": "stream",
     "text": [
      "__________________________________________________________________________________________________\n",
      "Layer (type)                    Output Shape         Param #     Connected to                     \n",
      "==================================================================================================\n",
      "cell_input (InputLayer)         (None, 18988, 1)     0                                            \n",
      "__________________________________________________________________________________________________\n",
      "drug_input (InputLayer)         (None, 2325, 1)      0                                            \n",
      "__________________________________________________________________________________________________\n",
      "conv1d_1 (Conv1D)               (None, 3658, 50)     35050       cell_input[0][0]                 \n",
      "__________________________________________________________________________________________________\n",
      "conv1d_3 (Conv1D)               (None, 709, 50)      10050       drug_input[0][0]                 \n",
      "__________________________________________________________________________________________________\n",
      "max_pooling1d_1 (MaxPooling1D)  (None, 731, 50)      0           conv1d_1[0][0]                   \n",
      "__________________________________________________________________________________________________\n",
      "max_pooling1d_3 (MaxPooling1D)  (None, 141, 50)      0           conv1d_3[0][0]                   \n",
      "__________________________________________________________________________________________________\n",
      "conv1d_2 (Conv1D)               (None, 364, 30)      7530        max_pooling1d_1[0][0]            \n",
      "__________________________________________________________________________________________________\n",
      "conv1d_4 (Conv1D)               (None, 19, 30)       75030       max_pooling1d_3[0][0]            \n",
      "__________________________________________________________________________________________________\n",
      "max_pooling1d_2 (MaxPooling1D)  (None, 36, 30)       0           conv1d_2[0][0]                   \n",
      "__________________________________________________________________________________________________\n",
      "max_pooling1d_4 (MaxPooling1D)  (None, 1, 30)        0           conv1d_4[0][0]                   \n",
      "__________________________________________________________________________________________________\n",
      "flatten_1 (Flatten)             (None, 1080)         0           max_pooling1d_2[0][0]            \n",
      "__________________________________________________________________________________________________\n",
      "flatten_2 (Flatten)             (None, 30)           0           max_pooling1d_4[0][0]            \n",
      "__________________________________________________________________________________________________\n",
      "dense_1 (Dense)                 (None, 100)          108100      flatten_1[0][0]                  \n",
      "__________________________________________________________________________________________________\n",
      "dense_2 (Dense)                 (None, 100)          3100        flatten_2[0][0]                  \n",
      "__________________________________________________________________________________________________\n",
      "dropout_1 (Dropout)             (None, 100)          0           dense_1[0][0]                    \n",
      "__________________________________________________________________________________________________\n",
      "dropout_2 (Dropout)             (None, 100)          0           dense_2[0][0]                    \n",
      "__________________________________________________________________________________________________\n",
      "concatenate_1 (Concatenate)     (None, 200)          0           dropout_1[0][0]                  \n",
      "                                                                 dropout_2[0][0]                  \n",
      "__________________________________________________________________________________________________\n",
      "dense_3 (Dense)                 (None, 300)          60300       concatenate_1[0][0]              \n",
      "__________________________________________________________________________________________________\n",
      "dropout_3 (Dropout)             (None, 300)          0           dense_3[0][0]                    \n",
      "__________________________________________________________________________________________________\n",
      "reshape_1 (Reshape)             (None, 300, 1)       0           dropout_3[0][0]                  \n",
      "__________________________________________________________________________________________________\n",
      "conv1d_5 (Conv1D)               (None, 151, 30)      4530        reshape_1[0][0]                  \n",
      "__________________________________________________________________________________________________\n",
      "max_pooling1d_5 (MaxPooling1D)  (None, 75, 30)       0           conv1d_5[0][0]                   \n",
      "__________________________________________________________________________________________________\n",
      "conv1d_6 (Conv1D)               (None, 71, 10)       1510        max_pooling1d_5[0][0]            \n",
      "__________________________________________________________________________________________________\n",
      "max_pooling1d_6 (MaxPooling1D)  (None, 23, 10)       0           conv1d_6[0][0]                   \n",
      "__________________________________________________________________________________________________\n",
      "conv1d_7 (Conv1D)               (None, 19, 5)        255         max_pooling1d_6[0][0]            \n",
      "__________________________________________________________________________________________________\n",
      "max_pooling1d_7 (MaxPooling1D)  (None, 6, 5)         0           conv1d_7[0][0]                   \n",
      "__________________________________________________________________________________________________\n",
      "dropout_4 (Dropout)             (None, 6, 5)         0           max_pooling1d_7[0][0]            \n",
      "__________________________________________________________________________________________________\n",
      "flatten_3 (Flatten)             (None, 30)           0           dropout_4[0][0]                  \n",
      "__________________________________________________________________________________________________\n",
      "dropout_5 (Dropout)             (None, 30)           0           flatten_3[0][0]                  \n",
      "__________________________________________________________________________________________________\n",
      "pred_lnIC50 (Dense)             (None, 1)            31          dropout_5[0][0]                  \n",
      "==================================================================================================\n",
      "Total params: 305,486\n",
      "Trainable params: 305,486\n",
      "Non-trainable params: 0\n",
      "__________________________________________________________________________________________________\n"
     ]
    }
   ],
   "source": [
    "# model architecture\n",
    "model.summary()"
   ]
  },
  {
   "cell_type": "code",
   "execution_count": 21,
   "metadata": {},
   "outputs": [],
   "source": [
    "config = tf.ConfigProto()\n",
    "config.gpu_options.allow_growth = True\n",
    "sess = tf.Session(config=config)"
   ]
  },
  {
   "cell_type": "code",
   "execution_count": 22,
   "metadata": {
    "scrolled": true
   },
   "outputs": [
    {
     "name": "stderr",
     "output_type": "stream",
     "text": [
      "W0915 09:56:11.208581 14964 deprecation_wrapper.py:119] From c:\\users\\a\\anaconda3\\envs\\tf_gpu_3.6\\lib\\site-packages\\keras\\optimizers.py:757: The name tf.train.Optimizer is deprecated. Please use tf.compat.v1.train.Optimizer instead.\n",
      "\n"
     ]
    },
    {
     "name": "stdout",
     "output_type": "stream",
     "text": [
      "StartTime : 2020-09-15 09:56:11.223221\n"
     ]
    },
    {
     "name": "stderr",
     "output_type": "stream",
     "text": [
      "W0915 09:56:11.571108 14964 deprecation_wrapper.py:119] From c:\\users\\a\\anaconda3\\envs\\tf_gpu_3.6\\lib\\site-packages\\keras\\backend\\tensorflow_backend.py:983: The name tf.assign_add is deprecated. Please use tf.compat.v1.assign_add instead.\n",
      "\n"
     ]
    },
    {
     "name": "stdout",
     "output_type": "stream",
     "text": [
      "Train on 10224 samples, validate on 1136 samples\n",
      "Epoch 1/150\n",
      "10224/10224 [==============================] - 7s 715us/step - loss: 4.0736 - mean_squared_error: 4.0736 - mean_absolute_error: 1.6161 - val_loss: 4.0510 - val_mean_squared_error: 4.0510 - val_mean_absolute_error: 1.4673\n",
      "Epoch 2/150\n",
      "10224/10224 [==============================] - 4s 356us/step - loss: 4.0243 - mean_squared_error: 4.0243 - mean_absolute_error: 1.5844 - val_loss: 4.0151 - val_mean_squared_error: 4.0151 - val_mean_absolute_error: 1.4793\n",
      "Epoch 3/150\n",
      "10224/10224 [==============================] - 4s 350us/step - loss: 4.0142 - mean_squared_error: 4.0142 - mean_absolute_error: 1.5791 - val_loss: 4.0230 - val_mean_squared_error: 4.0230 - val_mean_absolute_error: 1.4632\n",
      "Epoch 4/150\n",
      "10224/10224 [==============================] - 4s 350us/step - loss: 4.0066 - mean_squared_error: 4.0066 - mean_absolute_error: 1.5744 - val_loss: 3.9903 - val_mean_squared_error: 3.9903 - val_mean_absolute_error: 1.5063\n",
      "Epoch 5/150\n",
      "10224/10224 [==============================] - 4s 356us/step - loss: 3.9738 - mean_squared_error: 3.9738 - mean_absolute_error: 1.5622 - val_loss: 4.0020 - val_mean_squared_error: 4.0020 - val_mean_absolute_error: 1.6065\n",
      "Epoch 6/150\n",
      "10224/10224 [==============================] - 4s 358us/step - loss: 3.9658 - mean_squared_error: 3.9658 - mean_absolute_error: 1.5609 - val_loss: 4.0238 - val_mean_squared_error: 4.0238 - val_mean_absolute_error: 1.6224\n",
      "Epoch 7/150\n",
      "10224/10224 [==============================] - 4s 356us/step - loss: 3.9710 - mean_squared_error: 3.9710 - mean_absolute_error: 1.5694 - val_loss: 3.9773 - val_mean_squared_error: 3.9773 - val_mean_absolute_error: 1.5336\n",
      "Epoch 8/150\n",
      "10224/10224 [==============================] - 4s 359us/step - loss: 3.9553 - mean_squared_error: 3.9553 - mean_absolute_error: 1.5570 - val_loss: 3.9878 - val_mean_squared_error: 3.9878 - val_mean_absolute_error: 1.5098\n",
      "Epoch 9/150\n",
      "10224/10224 [==============================] - 4s 362us/step - loss: 3.9472 - mean_squared_error: 3.9472 - mean_absolute_error: 1.5495 - val_loss: 4.0884 - val_mean_squared_error: 4.0884 - val_mean_absolute_error: 1.6828\n",
      "Epoch 10/150\n",
      "10224/10224 [==============================] - 4s 352us/step - loss: 3.9241 - mean_squared_error: 3.9241 - mean_absolute_error: 1.5478 - val_loss: 3.9979 - val_mean_squared_error: 3.9979 - val_mean_absolute_error: 1.4684\n",
      "Epoch 11/150\n",
      "10224/10224 [==============================] - 4s 357us/step - loss: 3.9263 - mean_squared_error: 3.9263 - mean_absolute_error: 1.5423 - val_loss: 3.9751 - val_mean_squared_error: 3.9751 - val_mean_absolute_error: 1.5569\n",
      "Epoch 12/150\n",
      "10224/10224 [==============================] - 4s 354us/step - loss: 3.9329 - mean_squared_error: 3.9329 - mean_absolute_error: 1.5502 - val_loss: 3.9930 - val_mean_squared_error: 3.9930 - val_mean_absolute_error: 1.5279\n",
      "Epoch 13/150\n",
      "10224/10224 [==============================] - 4s 356us/step - loss: 3.9040 - mean_squared_error: 3.9040 - mean_absolute_error: 1.5405 - val_loss: 4.0140 - val_mean_squared_error: 4.0140 - val_mean_absolute_error: 1.4572\n",
      "Epoch 14/150\n",
      "10224/10224 [==============================] - 4s 356us/step - loss: 3.8979 - mean_squared_error: 3.8979 - mean_absolute_error: 1.5327 - val_loss: 4.0069 - val_mean_squared_error: 4.0069 - val_mean_absolute_error: 1.4910\n",
      "Epoch 15/150\n",
      "10224/10224 [==============================] - 4s 352us/step - loss: 3.8959 - mean_squared_error: 3.8959 - mean_absolute_error: 1.5305 - val_loss: 4.0091 - val_mean_squared_error: 4.0091 - val_mean_absolute_error: 1.5756\n",
      "Epoch 16/150\n",
      "10224/10224 [==============================] - 4s 354us/step - loss: 3.9051 - mean_squared_error: 3.9051 - mean_absolute_error: 1.5390 - val_loss: 4.0030 - val_mean_squared_error: 4.0030 - val_mean_absolute_error: 1.5724\n",
      "Epoch 17/150\n",
      "10224/10224 [==============================] - 4s 356us/step - loss: 3.8735 - mean_squared_error: 3.8735 - mean_absolute_error: 1.5195 - val_loss: 4.0183 - val_mean_squared_error: 4.0183 - val_mean_absolute_error: 1.5989\n",
      "Epoch 18/150\n",
      "10224/10224 [==============================] - 4s 359us/step - loss: 3.8685 - mean_squared_error: 3.8685 - mean_absolute_error: 1.5266 - val_loss: 4.0385 - val_mean_squared_error: 4.0385 - val_mean_absolute_error: 1.6134\n",
      "Epoch 19/150\n",
      "10224/10224 [==============================] - 4s 356us/step - loss: 3.8795 - mean_squared_error: 3.8795 - mean_absolute_error: 1.5257 - val_loss: 4.0315 - val_mean_squared_error: 4.0315 - val_mean_absolute_error: 1.6034\n",
      "Epoch 20/150\n",
      "10224/10224 [==============================] - 4s 355us/step - loss: 3.8879 - mean_squared_error: 3.8879 - mean_absolute_error: 1.5274 - val_loss: 4.0265 - val_mean_squared_error: 4.0265 - val_mean_absolute_error: 1.5487\n",
      "Epoch 21/150\n",
      "10224/10224 [==============================] - 4s 356us/step - loss: 3.8949 - mean_squared_error: 3.8949 - mean_absolute_error: 1.5364 - val_loss: 4.0466 - val_mean_squared_error: 4.0466 - val_mean_absolute_error: 1.5029\n",
      "Epoch 22/150\n",
      "10224/10224 [==============================] - 4s 361us/step - loss: 3.8819 - mean_squared_error: 3.8819 - mean_absolute_error: 1.5256 - val_loss: 4.0325 - val_mean_squared_error: 4.0325 - val_mean_absolute_error: 1.4986\n",
      "Epoch 23/150\n",
      "10224/10224 [==============================] - 4s 359us/step - loss: 3.8826 - mean_squared_error: 3.8826 - mean_absolute_error: 1.5339 - val_loss: 4.0589 - val_mean_squared_error: 4.0589 - val_mean_absolute_error: 1.6306\n",
      "Epoch 24/150\n",
      "10224/10224 [==============================] - 4s 377us/step - loss: 3.8761 - mean_squared_error: 3.8761 - mean_absolute_error: 1.5252 - val_loss: 4.0799 - val_mean_squared_error: 4.0799 - val_mean_absolute_error: 1.6468\n",
      "Epoch 25/150\n",
      "10224/10224 [==============================] - 4s 362us/step - loss: 3.8676 - mean_squared_error: 3.8676 - mean_absolute_error: 1.5220 - val_loss: 4.1080 - val_mean_squared_error: 4.1080 - val_mean_absolute_error: 1.6671\n",
      "Epoch 26/150\n",
      "10224/10224 [==============================] - 4s 358us/step - loss: 3.8645 - mean_squared_error: 3.8645 - mean_absolute_error: 1.5309 - val_loss: 4.0536 - val_mean_squared_error: 4.0536 - val_mean_absolute_error: 1.5521\n",
      "Epoch 27/150\n",
      "10224/10224 [==============================] - 4s 359us/step - loss: 3.8689 - mean_squared_error: 3.8689 - mean_absolute_error: 1.5177 - val_loss: 4.0441 - val_mean_squared_error: 4.0441 - val_mean_absolute_error: 1.5373\n",
      "Epoch 28/150\n",
      "10224/10224 [==============================] - 4s 361us/step - loss: 3.8572 - mean_squared_error: 3.8572 - mean_absolute_error: 1.5193 - val_loss: 4.0603 - val_mean_squared_error: 4.0603 - val_mean_absolute_error: 1.5221\n",
      "Epoch 29/150\n",
      "10224/10224 [==============================] - 4s 366us/step - loss: 3.8650 - mean_squared_error: 3.8650 - mean_absolute_error: 1.5275 - val_loss: 4.0688 - val_mean_squared_error: 4.0688 - val_mean_absolute_error: 1.5531\n",
      "Epoch 30/150\n",
      "10224/10224 [==============================] - 4s 362us/step - loss: 3.8608 - mean_squared_error: 3.8608 - mean_absolute_error: 1.5232 - val_loss: 4.1509 - val_mean_squared_error: 4.1509 - val_mean_absolute_error: 1.6620\n",
      "Epoch 31/150\n",
      "10224/10224 [==============================] - 4s 357us/step - loss: 3.8397 - mean_squared_error: 3.8397 - mean_absolute_error: 1.5134 - val_loss: 4.0626 - val_mean_squared_error: 4.0626 - val_mean_absolute_error: 1.5538\n",
      "Epoch 32/150\n",
      "10224/10224 [==============================] - 4s 364us/step - loss: 3.8549 - mean_squared_error: 3.8549 - mean_absolute_error: 1.5226 - val_loss: 4.0635 - val_mean_squared_error: 4.0635 - val_mean_absolute_error: 1.5574\n",
      "Epoch 33/150\n",
      "10224/10224 [==============================] - 4s 359us/step - loss: 3.8589 - mean_squared_error: 3.8589 - mean_absolute_error: 1.5226 - val_loss: 4.0793 - val_mean_squared_error: 4.0793 - val_mean_absolute_error: 1.5129\n",
      "Epoch 34/150\n",
      "10224/10224 [==============================] - 4s 350us/step - loss: 3.8353 - mean_squared_error: 3.8353 - mean_absolute_error: 1.5156 - val_loss: 4.0806 - val_mean_squared_error: 4.0806 - val_mean_absolute_error: 1.5053\n",
      "Epoch 35/150\n",
      "10224/10224 [==============================] - 4s 358us/step - loss: 3.8683 - mean_squared_error: 3.8683 - mean_absolute_error: 1.5205 - val_loss: 4.0424 - val_mean_squared_error: 4.0424 - val_mean_absolute_error: 1.5536\n"
     ]
    },
    {
     "name": "stdout",
     "output_type": "stream",
     "text": [
      "Epoch 36/150\n",
      "10224/10224 [==============================] - 4s 365us/step - loss: 3.8584 - mean_squared_error: 3.8584 - mean_absolute_error: 1.5154 - val_loss: 4.2197 - val_mean_squared_error: 4.2197 - val_mean_absolute_error: 1.7390\n",
      "Epoch 37/150\n",
      "10224/10224 [==============================] - 4s 364us/step - loss: 3.8635 - mean_squared_error: 3.8635 - mean_absolute_error: 1.5296 - val_loss: 4.0848 - val_mean_squared_error: 4.0848 - val_mean_absolute_error: 1.4944\n",
      "Epoch 38/150\n",
      "10224/10224 [==============================] - 4s 360us/step - loss: 3.8520 - mean_squared_error: 3.8520 - mean_absolute_error: 1.5234 - val_loss: 4.0530 - val_mean_squared_error: 4.0530 - val_mean_absolute_error: 1.5660\n",
      "Epoch 39/150\n",
      "10224/10224 [==============================] - 4s 359us/step - loss: 3.8436 - mean_squared_error: 3.8436 - mean_absolute_error: 1.5211 - val_loss: 4.0689 - val_mean_squared_error: 4.0689 - val_mean_absolute_error: 1.4664\n",
      "Epoch 40/150\n",
      "10224/10224 [==============================] - 4s 361us/step - loss: 3.8344 - mean_squared_error: 3.8344 - mean_absolute_error: 1.5112 - val_loss: 4.0770 - val_mean_squared_error: 4.0770 - val_mean_absolute_error: 1.5327\n",
      "Epoch 41/150\n",
      "10224/10224 [==============================] - 4s 362us/step - loss: 3.8444 - mean_squared_error: 3.8444 - mean_absolute_error: 1.5140 - val_loss: 4.0658 - val_mean_squared_error: 4.0658 - val_mean_absolute_error: 1.5590\n",
      "Epoch 42/150\n",
      "10224/10224 [==============================] - 4s 360us/step - loss: 3.8516 - mean_squared_error: 3.8516 - mean_absolute_error: 1.5163 - val_loss: 4.1206 - val_mean_squared_error: 4.1206 - val_mean_absolute_error: 1.6520\n",
      "Epoch 43/150\n",
      "10224/10224 [==============================] - 4s 362us/step - loss: 3.8403 - mean_squared_error: 3.8403 - mean_absolute_error: 1.5168 - val_loss: 4.1464 - val_mean_squared_error: 4.1464 - val_mean_absolute_error: 1.6388\n",
      "Epoch 44/150\n",
      "10224/10224 [==============================] - 4s 356us/step - loss: 3.8430 - mean_squared_error: 3.8430 - mean_absolute_error: 1.5193 - val_loss: 4.1499 - val_mean_squared_error: 4.1499 - val_mean_absolute_error: 1.5407\n",
      "Epoch 45/150\n",
      "10224/10224 [==============================] - 4s 355us/step - loss: 3.8625 - mean_squared_error: 3.8625 - mean_absolute_error: 1.5182 - val_loss: 4.1557 - val_mean_squared_error: 4.1557 - val_mean_absolute_error: 1.6420\n",
      "Epoch 46/150\n",
      "10224/10224 [==============================] - 4s 356us/step - loss: 3.8557 - mean_squared_error: 3.8557 - mean_absolute_error: 1.5218 - val_loss: 4.0710 - val_mean_squared_error: 4.0710 - val_mean_absolute_error: 1.5297\n",
      "Epoch 47/150\n",
      "10224/10224 [==============================] - 4s 356us/step - loss: 3.8539 - mean_squared_error: 3.8539 - mean_absolute_error: 1.5164 - val_loss: 4.1026 - val_mean_squared_error: 4.1026 - val_mean_absolute_error: 1.6503\n",
      "Epoch 48/150\n",
      "10224/10224 [==============================] - 4s 355us/step - loss: 3.8349 - mean_squared_error: 3.8349 - mean_absolute_error: 1.5114 - val_loss: 4.1136 - val_mean_squared_error: 4.1136 - val_mean_absolute_error: 1.6217\n",
      "Epoch 49/150\n",
      "10224/10224 [==============================] - 4s 355us/step - loss: 3.8463 - mean_squared_error: 3.8463 - mean_absolute_error: 1.5188 - val_loss: 4.0894 - val_mean_squared_error: 4.0894 - val_mean_absolute_error: 1.4812\n",
      "Epoch 50/150\n",
      "10224/10224 [==============================] - 4s 355us/step - loss: 3.8448 - mean_squared_error: 3.8448 - mean_absolute_error: 1.5196 - val_loss: 4.1525 - val_mean_squared_error: 4.1525 - val_mean_absolute_error: 1.6503\n",
      "Epoch 51/150\n",
      "10224/10224 [==============================] - 4s 356us/step - loss: 3.8356 - mean_squared_error: 3.8356 - mean_absolute_error: 1.5129 - val_loss: 4.1162 - val_mean_squared_error: 4.1162 - val_mean_absolute_error: 1.6002\n",
      "Epoch 52/150\n",
      "10224/10224 [==============================] - 4s 355us/step - loss: 3.8326 - mean_squared_error: 3.8326 - mean_absolute_error: 1.5093 - val_loss: 4.1615 - val_mean_squared_error: 4.1615 - val_mean_absolute_error: 1.6761\n",
      "Epoch 53/150\n",
      "10224/10224 [==============================] - 4s 355us/step - loss: 3.8286 - mean_squared_error: 3.8286 - mean_absolute_error: 1.5092 - val_loss: 4.1221 - val_mean_squared_error: 4.1221 - val_mean_absolute_error: 1.6300\n",
      "Epoch 54/150\n",
      "10224/10224 [==============================] - 4s 357us/step - loss: 3.8383 - mean_squared_error: 3.8383 - mean_absolute_error: 1.5107 - val_loss: 4.1607 - val_mean_squared_error: 4.1607 - val_mean_absolute_error: 1.6486\n",
      "Epoch 55/150\n",
      "10224/10224 [==============================] - 4s 357us/step - loss: 3.8327 - mean_squared_error: 3.8327 - mean_absolute_error: 1.5130 - val_loss: 4.0827 - val_mean_squared_error: 4.0827 - val_mean_absolute_error: 1.5425\n",
      "Epoch 56/150\n",
      "10224/10224 [==============================] - 4s 355us/step - loss: 3.8453 - mean_squared_error: 3.8453 - mean_absolute_error: 1.5175 - val_loss: 4.1240 - val_mean_squared_error: 4.1240 - val_mean_absolute_error: 1.6063\n",
      "Epoch 57/150\n",
      "10224/10224 [==============================] - 4s 356us/step - loss: 3.8433 - mean_squared_error: 3.8433 - mean_absolute_error: 1.5173 - val_loss: 4.1009 - val_mean_squared_error: 4.1009 - val_mean_absolute_error: 1.5485\n",
      "Epoch 58/150\n",
      "10224/10224 [==============================] - 4s 353us/step - loss: 3.8357 - mean_squared_error: 3.8357 - mean_absolute_error: 1.5091 - val_loss: 4.0818 - val_mean_squared_error: 4.0818 - val_mean_absolute_error: 1.5861\n",
      "Epoch 59/150\n",
      "10224/10224 [==============================] - 4s 355us/step - loss: 3.8408 - mean_squared_error: 3.8408 - mean_absolute_error: 1.5195 - val_loss: 4.0919 - val_mean_squared_error: 4.0919 - val_mean_absolute_error: 1.5693\n",
      "Epoch 60/150\n",
      "10224/10224 [==============================] - 4s 355us/step - loss: 3.8348 - mean_squared_error: 3.8348 - mean_absolute_error: 1.5168 - val_loss: 4.0867 - val_mean_squared_error: 4.0867 - val_mean_absolute_error: 1.5311\n",
      "Epoch 61/150\n",
      "10224/10224 [==============================] - 4s 356us/step - loss: 3.8214 - mean_squared_error: 3.8214 - mean_absolute_error: 1.5097 - val_loss: 4.1155 - val_mean_squared_error: 4.1155 - val_mean_absolute_error: 1.5868\n",
      "Epoch 62/150\n",
      "10224/10224 [==============================] - 4s 355us/step - loss: 3.8476 - mean_squared_error: 3.8476 - mean_absolute_error: 1.5188 - val_loss: 4.1008 - val_mean_squared_error: 4.1008 - val_mean_absolute_error: 1.6090\n",
      "Epoch 63/150\n",
      "10224/10224 [==============================] - 4s 356us/step - loss: 3.8363 - mean_squared_error: 3.8363 - mean_absolute_error: 1.5112 - val_loss: 4.0746 - val_mean_squared_error: 4.0746 - val_mean_absolute_error: 1.5832\n",
      "Epoch 64/150\n",
      "10224/10224 [==============================] - 4s 359us/step - loss: 3.8243 - mean_squared_error: 3.8243 - mean_absolute_error: 1.5089 - val_loss: 4.1043 - val_mean_squared_error: 4.1043 - val_mean_absolute_error: 1.5254\n",
      "Epoch 65/150\n",
      "10224/10224 [==============================] - 4s 355us/step - loss: 3.8356 - mean_squared_error: 3.8356 - mean_absolute_error: 1.5113 - val_loss: 4.0964 - val_mean_squared_error: 4.0964 - val_mean_absolute_error: 1.5945\n",
      "Epoch 66/150\n",
      "10224/10224 [==============================] - 4s 353us/step - loss: 3.8412 - mean_squared_error: 3.8412 - mean_absolute_error: 1.5186 - val_loss: 4.1121 - val_mean_squared_error: 4.1121 - val_mean_absolute_error: 1.5082\n",
      "Epoch 67/150\n",
      "10224/10224 [==============================] - 4s 355us/step - loss: 3.8366 - mean_squared_error: 3.8366 - mean_absolute_error: 1.5093 - val_loss: 4.0709 - val_mean_squared_error: 4.0709 - val_mean_absolute_error: 1.5474\n",
      "Epoch 68/150\n",
      "10224/10224 [==============================] - 4s 356us/step - loss: 3.8204 - mean_squared_error: 3.8204 - mean_absolute_error: 1.5088 - val_loss: 4.1307 - val_mean_squared_error: 4.1307 - val_mean_absolute_error: 1.5886\n",
      "Epoch 69/150\n",
      "10224/10224 [==============================] - 4s 355us/step - loss: 3.8260 - mean_squared_error: 3.8260 - mean_absolute_error: 1.5088 - val_loss: 4.1218 - val_mean_squared_error: 4.1218 - val_mean_absolute_error: 1.5500\n",
      "Epoch 70/150\n",
      "10224/10224 [==============================] - 4s 355us/step - loss: 3.8136 - mean_squared_error: 3.8136 - mean_absolute_error: 1.5025 - val_loss: 4.1734 - val_mean_squared_error: 4.1734 - val_mean_absolute_error: 1.6273\n",
      "Epoch 71/150\n"
     ]
    },
    {
     "name": "stdout",
     "output_type": "stream",
     "text": [
      "10224/10224 [==============================] - 4s 357us/step - loss: 3.8197 - mean_squared_error: 3.8197 - mean_absolute_error: 1.5056 - val_loss: 4.0846 - val_mean_squared_error: 4.0846 - val_mean_absolute_error: 1.5691\n",
      "Epoch 72/150\n",
      "10224/10224 [==============================] - 4s 360us/step - loss: 3.8238 - mean_squared_error: 3.8238 - mean_absolute_error: 1.5121 - val_loss: 4.0834 - val_mean_squared_error: 4.0834 - val_mean_absolute_error: 1.5494\n",
      "Epoch 73/150\n",
      "10224/10224 [==============================] - 4s 349us/step - loss: 3.8328 - mean_squared_error: 3.8328 - mean_absolute_error: 1.5099 - val_loss: 4.0717 - val_mean_squared_error: 4.0717 - val_mean_absolute_error: 1.5832\n",
      "Epoch 74/150\n",
      "10224/10224 [==============================] - 4s 348us/step - loss: 3.8251 - mean_squared_error: 3.8251 - mean_absolute_error: 1.5125 - val_loss: 4.1288 - val_mean_squared_error: 4.1288 - val_mean_absolute_error: 1.5487\n",
      "Epoch 75/150\n",
      "10224/10224 [==============================] - 4s 349us/step - loss: 3.8238 - mean_squared_error: 3.8238 - mean_absolute_error: 1.5029 - val_loss: 4.0867 - val_mean_squared_error: 4.0867 - val_mean_absolute_error: 1.5327\n",
      "Epoch 76/150\n",
      "10224/10224 [==============================] - 4s 347us/step - loss: 3.8178 - mean_squared_error: 3.8178 - mean_absolute_error: 1.5009 - val_loss: 4.0650 - val_mean_squared_error: 4.0650 - val_mean_absolute_error: 1.5725\n",
      "Epoch 77/150\n",
      "10224/10224 [==============================] - 4s 346us/step - loss: 3.8250 - mean_squared_error: 3.8250 - mean_absolute_error: 1.5092 - val_loss: 4.1424 - val_mean_squared_error: 4.1424 - val_mean_absolute_error: 1.6247\n",
      "Epoch 78/150\n",
      "10224/10224 [==============================] - 4s 349us/step - loss: 3.8298 - mean_squared_error: 3.8298 - mean_absolute_error: 1.5153 - val_loss: 4.1116 - val_mean_squared_error: 4.1116 - val_mean_absolute_error: 1.5739\n",
      "Epoch 79/150\n",
      "10224/10224 [==============================] - 4s 348us/step - loss: 3.8377 - mean_squared_error: 3.8377 - mean_absolute_error: 1.5146 - val_loss: 4.1033 - val_mean_squared_error: 4.1033 - val_mean_absolute_error: 1.6104\n",
      "Epoch 80/150\n",
      "10224/10224 [==============================] - 4s 347us/step - loss: 3.8357 - mean_squared_error: 3.8357 - mean_absolute_error: 1.5101 - val_loss: 4.0931 - val_mean_squared_error: 4.0931 - val_mean_absolute_error: 1.5761\n",
      "Epoch 81/150\n",
      "10224/10224 [==============================] - 4s 350us/step - loss: 3.8325 - mean_squared_error: 3.8325 - mean_absolute_error: 1.5145 - val_loss: 4.1282 - val_mean_squared_error: 4.1282 - val_mean_absolute_error: 1.5419\n",
      "Epoch 82/150\n",
      "10224/10224 [==============================] - 4s 349us/step - loss: 3.8278 - mean_squared_error: 3.8278 - mean_absolute_error: 1.5132 - val_loss: 4.1540 - val_mean_squared_error: 4.1540 - val_mean_absolute_error: 1.5488\n",
      "Epoch 83/150\n",
      "10224/10224 [==============================] - 4s 346us/step - loss: 3.8364 - mean_squared_error: 3.8364 - mean_absolute_error: 1.5078 - val_loss: 4.1487 - val_mean_squared_error: 4.1487 - val_mean_absolute_error: 1.6328\n",
      "Epoch 84/150\n",
      "10224/10224 [==============================] - 4s 350us/step - loss: 3.8250 - mean_squared_error: 3.8250 - mean_absolute_error: 1.5132 - val_loss: 4.0791 - val_mean_squared_error: 4.0791 - val_mean_absolute_error: 1.5684\n",
      "Epoch 85/150\n",
      "10224/10224 [==============================] - 4s 348us/step - loss: 3.8295 - mean_squared_error: 3.8295 - mean_absolute_error: 1.5081 - val_loss: 4.1276 - val_mean_squared_error: 4.1276 - val_mean_absolute_error: 1.6193\n",
      "Epoch 86/150\n",
      "10224/10224 [==============================] - 4s 346us/step - loss: 3.8284 - mean_squared_error: 3.8284 - mean_absolute_error: 1.5083 - val_loss: 4.1679 - val_mean_squared_error: 4.1679 - val_mean_absolute_error: 1.6864\n",
      "Epoch 87/150\n",
      "10224/10224 [==============================] - 4s 348us/step - loss: 3.8180 - mean_squared_error: 3.8180 - mean_absolute_error: 1.5108 - val_loss: 4.1485 - val_mean_squared_error: 4.1485 - val_mean_absolute_error: 1.5051\n",
      "Epoch 88/150\n",
      "10224/10224 [==============================] - 4s 348us/step - loss: 3.8235 - mean_squared_error: 3.8235 - mean_absolute_error: 1.5121 - val_loss: 4.1171 - val_mean_squared_error: 4.1171 - val_mean_absolute_error: 1.5558\n",
      "Epoch 89/150\n",
      "10224/10224 [==============================] - 4s 347us/step - loss: 3.8184 - mean_squared_error: 3.8184 - mean_absolute_error: 1.5047 - val_loss: 4.1000 - val_mean_squared_error: 4.1000 - val_mean_absolute_error: 1.5984\n",
      "Epoch 90/150\n",
      "10224/10224 [==============================] - 4s 347us/step - loss: 3.8262 - mean_squared_error: 3.8262 - mean_absolute_error: 1.5118 - val_loss: 4.1389 - val_mean_squared_error: 4.1389 - val_mean_absolute_error: 1.5892\n",
      "Epoch 91/150\n",
      "10224/10224 [==============================] - 4s 347us/step - loss: 3.8210 - mean_squared_error: 3.8210 - mean_absolute_error: 1.5069 - val_loss: 4.1613 - val_mean_squared_error: 4.1613 - val_mean_absolute_error: 1.5067\n",
      "Epoch 92/150\n",
      "10224/10224 [==============================] - 4s 347us/step - loss: 3.8244 - mean_squared_error: 3.8244 - mean_absolute_error: 1.5089 - val_loss: 4.1441 - val_mean_squared_error: 4.1441 - val_mean_absolute_error: 1.5355\n",
      "Epoch 93/150\n",
      "10224/10224 [==============================] - 4s 348us/step - loss: 3.8130 - mean_squared_error: 3.8130 - mean_absolute_error: 1.5000 - val_loss: 4.1210 - val_mean_squared_error: 4.1210 - val_mean_absolute_error: 1.5830\n",
      "Epoch 94/150\n",
      "10224/10224 [==============================] - 4s 348us/step - loss: 3.8190 - mean_squared_error: 3.8190 - mean_absolute_error: 1.5135 - val_loss: 4.1209 - val_mean_squared_error: 4.1209 - val_mean_absolute_error: 1.5367\n",
      "Epoch 95/150\n",
      "10224/10224 [==============================] - 4s 347us/step - loss: 3.8286 - mean_squared_error: 3.8286 - mean_absolute_error: 1.5044 - val_loss: 4.1451 - val_mean_squared_error: 4.1451 - val_mean_absolute_error: 1.6634\n",
      "Epoch 96/150\n",
      "10224/10224 [==============================] - 4s 349us/step - loss: 3.8230 - mean_squared_error: 3.8230 - mean_absolute_error: 1.5101 - val_loss: 4.1476 - val_mean_squared_error: 4.1476 - val_mean_absolute_error: 1.5780\n",
      "Epoch 97/150\n",
      "10224/10224 [==============================] - 4s 348us/step - loss: 3.8287 - mean_squared_error: 3.8287 - mean_absolute_error: 1.5101 - val_loss: 4.1424 - val_mean_squared_error: 4.1424 - val_mean_absolute_error: 1.5757\n",
      "Epoch 98/150\n",
      "10224/10224 [==============================] - 4s 347us/step - loss: 3.8175 - mean_squared_error: 3.8175 - mean_absolute_error: 1.5054 - val_loss: 4.1303 - val_mean_squared_error: 4.1303 - val_mean_absolute_error: 1.5917\n",
      "Epoch 99/150\n",
      "10224/10224 [==============================] - 4s 348us/step - loss: 3.8248 - mean_squared_error: 3.8248 - mean_absolute_error: 1.5131 - val_loss: 4.1545 - val_mean_squared_error: 4.1545 - val_mean_absolute_error: 1.5420\n",
      "Epoch 100/150\n",
      "10224/10224 [==============================] - 4s 349us/step - loss: 3.8078 - mean_squared_error: 3.8078 - mean_absolute_error: 1.5027 - val_loss: 4.1495 - val_mean_squared_error: 4.1495 - val_mean_absolute_error: 1.5200\n",
      "Epoch 101/150\n",
      "10224/10224 [==============================] - 4s 349us/step - loss: 3.8178 - mean_squared_error: 3.8178 - mean_absolute_error: 1.5034 - val_loss: 4.1129 - val_mean_squared_error: 4.1129 - val_mean_absolute_error: 1.5965\n",
      "Epoch 102/150\n",
      "10224/10224 [==============================] - 4s 348us/step - loss: 3.8188 - mean_squared_error: 3.8188 - mean_absolute_error: 1.5062 - val_loss: 4.1398 - val_mean_squared_error: 4.1398 - val_mean_absolute_error: 1.5954\n",
      "Epoch 103/150\n",
      "10224/10224 [==============================] - 4s 348us/step - loss: 3.8163 - mean_squared_error: 3.8163 - mean_absolute_error: 1.5042 - val_loss: 4.1291 - val_mean_squared_error: 4.1291 - val_mean_absolute_error: 1.5892\n",
      "Epoch 104/150\n",
      "10224/10224 [==============================] - 4s 348us/step - loss: 3.8162 - mean_squared_error: 3.8162 - mean_absolute_error: 1.5080 - val_loss: 4.1140 - val_mean_squared_error: 4.1140 - val_mean_absolute_error: 1.5797\n",
      "Epoch 105/150\n",
      "10224/10224 [==============================] - 4s 349us/step - loss: 3.8132 - mean_squared_error: 3.8132 - mean_absolute_error: 1.5004 - val_loss: 4.1373 - val_mean_squared_error: 4.1373 - val_mean_absolute_error: 1.6600\n",
      "Epoch 106/150\n"
     ]
    },
    {
     "name": "stdout",
     "output_type": "stream",
     "text": [
      "10224/10224 [==============================] - 4s 351us/step - loss: 3.8189 - mean_squared_error: 3.8189 - mean_absolute_error: 1.5123 - val_loss: 4.1260 - val_mean_squared_error: 4.1260 - val_mean_absolute_error: 1.5956\n",
      "Epoch 107/150\n",
      "10224/10224 [==============================] - 4s 350us/step - loss: 3.8080 - mean_squared_error: 3.8080 - mean_absolute_error: 1.4979 - val_loss: 4.1309 - val_mean_squared_error: 4.1309 - val_mean_absolute_error: 1.5902\n",
      "Epoch 108/150\n",
      "10224/10224 [==============================] - 4s 351us/step - loss: 3.8096 - mean_squared_error: 3.8096 - mean_absolute_error: 1.5042 - val_loss: 4.1619 - val_mean_squared_error: 4.1619 - val_mean_absolute_error: 1.5242\n",
      "Epoch 109/150\n",
      "10224/10224 [==============================] - 4s 349us/step - loss: 3.8170 - mean_squared_error: 3.8170 - mean_absolute_error: 1.5038 - val_loss: 4.1561 - val_mean_squared_error: 4.1561 - val_mean_absolute_error: 1.5872\n",
      "Epoch 110/150\n",
      "10224/10224 [==============================] - 4s 348us/step - loss: 3.8142 - mean_squared_error: 3.8142 - mean_absolute_error: 1.5024 - val_loss: 4.1412 - val_mean_squared_error: 4.1412 - val_mean_absolute_error: 1.6239\n",
      "Epoch 111/150\n",
      "10224/10224 [==============================] - 4s 347us/step - loss: 3.8116 - mean_squared_error: 3.8116 - mean_absolute_error: 1.5055 - val_loss: 4.0960 - val_mean_squared_error: 4.0960 - val_mean_absolute_error: 1.5121\n",
      "Epoch 112/150\n",
      "10224/10224 [==============================] - 4s 352us/step - loss: 3.8159 - mean_squared_error: 3.8159 - mean_absolute_error: 1.5082 - val_loss: 4.1166 - val_mean_squared_error: 4.1166 - val_mean_absolute_error: 1.5138\n",
      "Epoch 113/150\n",
      "10224/10224 [==============================] - 4s 351us/step - loss: 3.8147 - mean_squared_error: 3.8147 - mean_absolute_error: 1.5020 - val_loss: 4.1156 - val_mean_squared_error: 4.1156 - val_mean_absolute_error: 1.5519\n",
      "Epoch 114/150\n",
      "10224/10224 [==============================] - 4s 356us/step - loss: 3.8232 - mean_squared_error: 3.8232 - mean_absolute_error: 1.5141 - val_loss: 4.1706 - val_mean_squared_error: 4.1706 - val_mean_absolute_error: 1.4971\n",
      "Epoch 115/150\n",
      "10224/10224 [==============================] - 4s 356us/step - loss: 3.8180 - mean_squared_error: 3.8180 - mean_absolute_error: 1.5072 - val_loss: 4.1532 - val_mean_squared_error: 4.1532 - val_mean_absolute_error: 1.5433\n",
      "Epoch 116/150\n",
      "10224/10224 [==============================] - 4s 354us/step - loss: 3.8184 - mean_squared_error: 3.8184 - mean_absolute_error: 1.5058 - val_loss: 4.1214 - val_mean_squared_error: 4.1214 - val_mean_absolute_error: 1.5992\n",
      "Epoch 117/150\n",
      "10224/10224 [==============================] - 4s 354us/step - loss: 3.8129 - mean_squared_error: 3.8129 - mean_absolute_error: 1.5054 - val_loss: 4.0949 - val_mean_squared_error: 4.0949 - val_mean_absolute_error: 1.5099\n",
      "Epoch 118/150\n",
      "10224/10224 [==============================] - 4s 355us/step - loss: 3.8186 - mean_squared_error: 3.8186 - mean_absolute_error: 1.5073 - val_loss: 4.1355 - val_mean_squared_error: 4.1355 - val_mean_absolute_error: 1.5738\n",
      "Epoch 119/150\n",
      "10224/10224 [==============================] - 4s 355us/step - loss: 3.8080 - mean_squared_error: 3.8080 - mean_absolute_error: 1.5032 - val_loss: 4.1268 - val_mean_squared_error: 4.1268 - val_mean_absolute_error: 1.5595\n",
      "Epoch 120/150\n",
      "10224/10224 [==============================] - 4s 352us/step - loss: 3.8047 - mean_squared_error: 3.8047 - mean_absolute_error: 1.4968 - val_loss: 4.1221 - val_mean_squared_error: 4.1221 - val_mean_absolute_error: 1.6226\n",
      "Epoch 121/150\n",
      "10224/10224 [==============================] - 4s 349us/step - loss: 3.8114 - mean_squared_error: 3.8114 - mean_absolute_error: 1.5038 - val_loss: 4.1698 - val_mean_squared_error: 4.1698 - val_mean_absolute_error: 1.5926\n",
      "Epoch 122/150\n",
      "10224/10224 [==============================] - 4s 348us/step - loss: 3.8080 - mean_squared_error: 3.8080 - mean_absolute_error: 1.5046 - val_loss: 4.1443 - val_mean_squared_error: 4.1443 - val_mean_absolute_error: 1.5426\n",
      "Epoch 123/150\n",
      "10224/10224 [==============================] - 4s 349us/step - loss: 3.8224 - mean_squared_error: 3.8224 - mean_absolute_error: 1.5068 - val_loss: 4.0815 - val_mean_squared_error: 4.0815 - val_mean_absolute_error: 1.5538\n",
      "Epoch 124/150\n",
      "10224/10224 [==============================] - 4s 348us/step - loss: 3.8093 - mean_squared_error: 3.8093 - mean_absolute_error: 1.5059 - val_loss: 4.1575 - val_mean_squared_error: 4.1575 - val_mean_absolute_error: 1.5642\n",
      "Epoch 125/150\n",
      "10224/10224 [==============================] - 4s 348us/step - loss: 3.8131 - mean_squared_error: 3.8131 - mean_absolute_error: 1.5071 - val_loss: 4.1468 - val_mean_squared_error: 4.1468 - val_mean_absolute_error: 1.5751\n",
      "Epoch 126/150\n",
      "10224/10224 [==============================] - 4s 349us/step - loss: 3.8150 - mean_squared_error: 3.8150 - mean_absolute_error: 1.5062 - val_loss: 4.1698 - val_mean_squared_error: 4.1698 - val_mean_absolute_error: 1.6464\n",
      "Epoch 127/150\n",
      "10224/10224 [==============================] - 4s 348us/step - loss: 3.8166 - mean_squared_error: 3.8166 - mean_absolute_error: 1.5049 - val_loss: 4.1186 - val_mean_squared_error: 4.1186 - val_mean_absolute_error: 1.6303\n",
      "Epoch 128/150\n",
      "10224/10224 [==============================] - 4s 348us/step - loss: 3.8075 - mean_squared_error: 3.8075 - mean_absolute_error: 1.5020 - val_loss: 4.1371 - val_mean_squared_error: 4.1371 - val_mean_absolute_error: 1.5571\n",
      "Epoch 129/150\n",
      "10224/10224 [==============================] - 4s 350us/step - loss: 3.8153 - mean_squared_error: 3.8153 - mean_absolute_error: 1.5026 - val_loss: 4.1880 - val_mean_squared_error: 4.1880 - val_mean_absolute_error: 1.5367\n",
      "Epoch 130/150\n",
      "10224/10224 [==============================] - 4s 350us/step - loss: 3.8149 - mean_squared_error: 3.8149 - mean_absolute_error: 1.5113 - val_loss: 4.1634 - val_mean_squared_error: 4.1634 - val_mean_absolute_error: 1.5233\n",
      "Epoch 131/150\n",
      "10224/10224 [==============================] - 4s 350us/step - loss: 3.8138 - mean_squared_error: 3.8138 - mean_absolute_error: 1.5039 - val_loss: 4.1767 - val_mean_squared_error: 4.1767 - val_mean_absolute_error: 1.6126\n",
      "Epoch 132/150\n",
      "10224/10224 [==============================] - 4s 347us/step - loss: 3.8137 - mean_squared_error: 3.8137 - mean_absolute_error: 1.4997 - val_loss: 4.1065 - val_mean_squared_error: 4.1065 - val_mean_absolute_error: 1.5498\n",
      "Epoch 133/150\n",
      "10224/10224 [==============================] - 4s 349us/step - loss: 3.8178 - mean_squared_error: 3.8178 - mean_absolute_error: 1.5073 - val_loss: 4.0770 - val_mean_squared_error: 4.0770 - val_mean_absolute_error: 1.5949\n",
      "Epoch 134/150\n",
      "10224/10224 [==============================] - 4s 351us/step - loss: 3.8186 - mean_squared_error: 3.8186 - mean_absolute_error: 1.5061 - val_loss: 4.1386 - val_mean_squared_error: 4.1386 - val_mean_absolute_error: 1.5550\n",
      "Epoch 135/150\n",
      "10224/10224 [==============================] - 4s 347us/step - loss: 3.8160 - mean_squared_error: 3.8160 - mean_absolute_error: 1.4978 - val_loss: 4.1351 - val_mean_squared_error: 4.1351 - val_mean_absolute_error: 1.6262\n",
      "Epoch 136/150\n",
      "10224/10224 [==============================] - 4s 349us/step - loss: 3.8165 - mean_squared_error: 3.8165 - mean_absolute_error: 1.5091 - val_loss: 4.1645 - val_mean_squared_error: 4.1645 - val_mean_absolute_error: 1.6303\n",
      "Epoch 137/150\n",
      "10224/10224 [==============================] - 4s 347us/step - loss: 3.8124 - mean_squared_error: 3.8124 - mean_absolute_error: 1.5004 - val_loss: 4.1116 - val_mean_squared_error: 4.1116 - val_mean_absolute_error: 1.5411\n",
      "Epoch 138/150\n",
      "10224/10224 [==============================] - 4s 352us/step - loss: 3.8044 - mean_squared_error: 3.8044 - mean_absolute_error: 1.5030 - val_loss: 4.1607 - val_mean_squared_error: 4.1607 - val_mean_absolute_error: 1.5876\n",
      "Epoch 139/150\n",
      "10224/10224 [==============================] - 4s 348us/step - loss: 3.8113 - mean_squared_error: 3.8113 - mean_absolute_error: 1.5083 - val_loss: 4.1097 - val_mean_squared_error: 4.1097 - val_mean_absolute_error: 1.5285\n",
      "Epoch 140/150\n",
      "10224/10224 [==============================] - 4s 349us/step - loss: 3.8128 - mean_squared_error: 3.8128 - mean_absolute_error: 1.5012 - val_loss: 4.1706 - val_mean_squared_error: 4.1706 - val_mean_absolute_error: 1.5661\n"
     ]
    },
    {
     "name": "stdout",
     "output_type": "stream",
     "text": [
      "Epoch 141/150\n",
      "10224/10224 [==============================] - 4s 349us/step - loss: 3.8155 - mean_squared_error: 3.8155 - mean_absolute_error: 1.5019 - val_loss: 4.0974 - val_mean_squared_error: 4.0974 - val_mean_absolute_error: 1.6242\n",
      "Epoch 142/150\n",
      "10224/10224 [==============================] - 4s 351us/step - loss: 3.8079 - mean_squared_error: 3.8079 - mean_absolute_error: 1.5053 - val_loss: 4.1204 - val_mean_squared_error: 4.1204 - val_mean_absolute_error: 1.5802\n",
      "Epoch 143/150\n",
      "10224/10224 [==============================] - 4s 349us/step - loss: 3.8083 - mean_squared_error: 3.8083 - mean_absolute_error: 1.5095 - val_loss: 4.2128 - val_mean_squared_error: 4.2128 - val_mean_absolute_error: 1.5069\n",
      "Epoch 144/150\n",
      "10224/10224 [==============================] - 4s 347us/step - loss: 3.8054 - mean_squared_error: 3.8054 - mean_absolute_error: 1.4975 - val_loss: 4.1896 - val_mean_squared_error: 4.1896 - val_mean_absolute_error: 1.6122\n",
      "Epoch 145/150\n",
      "10224/10224 [==============================] - 4s 350us/step - loss: 3.8122 - mean_squared_error: 3.8122 - mean_absolute_error: 1.5039 - val_loss: 4.1564 - val_mean_squared_error: 4.1564 - val_mean_absolute_error: 1.6297\n",
      "Epoch 146/150\n",
      "10224/10224 [==============================] - 4s 351us/step - loss: 3.8079 - mean_squared_error: 3.8079 - mean_absolute_error: 1.5030 - val_loss: 4.1348 - val_mean_squared_error: 4.1348 - val_mean_absolute_error: 1.5151\n",
      "Epoch 147/150\n",
      "10224/10224 [==============================] - 4s 349us/step - loss: 3.8122 - mean_squared_error: 3.8122 - mean_absolute_error: 1.5023 - val_loss: 4.1359 - val_mean_squared_error: 4.1359 - val_mean_absolute_error: 1.5779\n",
      "Epoch 148/150\n",
      "10224/10224 [==============================] - 4s 349us/step - loss: 3.8063 - mean_squared_error: 3.8063 - mean_absolute_error: 1.5023 - val_loss: 4.1194 - val_mean_squared_error: 4.1194 - val_mean_absolute_error: 1.5989\n",
      "Epoch 149/150\n",
      "10224/10224 [==============================] - 4s 349us/step - loss: 3.8038 - mean_squared_error: 3.8038 - mean_absolute_error: 1.5031 - val_loss: 4.1719 - val_mean_squared_error: 4.1719 - val_mean_absolute_error: 1.5353\n",
      "Epoch 150/150\n",
      "10224/10224 [==============================] - 4s 350us/step - loss: 3.8083 - mean_squared_error: 3.8083 - mean_absolute_error: 1.4998 - val_loss: 4.1321 - val_mean_squared_error: 4.1321 - val_mean_absolute_error: 1.6384\n",
      "EndTime : 2020-09-15 10:05:17.220293\n"
     ]
    }
   ],
   "source": [
    "optim = Adam(lr=learning_rate)\n",
    "\n",
    "model.compile(loss='mse',\n",
    "\t\t      optimizer=optim,\n",
    "\t\t\t  metrics=['mse','mae'])\n",
    "\n",
    "StartTime8 = datetime.now()\n",
    "print(\"StartTime :\", StartTime8)\n",
    "with K.tf.device('/GPU:0'):\n",
    "    model_train = model.fit([train_X_cell, train_X_drug], train_y, validation_data=([test_X_cell, test_X_drug], test_y),\n",
    "                            batch_size=batch_size,epochs=training_epochs,verbose=1)\n",
    "\n",
    "EndTime8 = datetime.now()\n",
    "print(\"EndTime :\", EndTime8)"
   ]
  },
  {
   "cell_type": "code",
   "execution_count": 23,
   "metadata": {},
   "outputs": [],
   "source": [
    "# model save\n",
    "import json\n",
    "from keras.models import model_from_json, load_model\n",
    "workdir = \"E://Ronny_TF//200914_reupload//Result//EDC-11K\"\n",
    "# Option 1: Save Weights + Architecture\n",
    "model.save_weights(workdir + '//EDC11K_CNN_model_fix_v3.h5')\n",
    "with open(workdir + '//EDC11K_CNN_model_architecture_fix_v3.json', 'w') as f:\n",
    "    f.write(model.to_json())"
   ]
  },
  {
   "cell_type": "code",
   "execution_count": 24,
   "metadata": {},
   "outputs": [],
   "source": [
    "# Option 2: Save/Load the Entire Model\n",
    "from keras.models import load_model\n",
    "\n",
    "# Creates a HDF5 file 'my_model.h5'\n",
    "model.save(workdir + '//EDC11K_CNN_model_fix_2080ti_v3.h5')\n",
    "\n",
    "# Deletes the existing model\n",
    "# del model  \n",
    "\n",
    "# Returns a compiled model identical to the previous one\n",
    "# model = load_model('my_model.h5')"
   ]
  },
  {
   "cell_type": "code",
   "execution_count": 25,
   "metadata": {},
   "outputs": [
    {
     "name": "stdout",
     "output_type": "stream",
     "text": [
      "1136/1136 [==============================] - 0s 270us/step\n"
     ]
    }
   ],
   "source": [
    "# model evaluation\n",
    "test_eval = model.evaluate([test_X_cell,test_X_drug], test_label_array, verbose=1)"
   ]
  },
  {
   "cell_type": "code",
   "execution_count": 26,
   "metadata": {},
   "outputs": [
    {
     "data": {
      "text/plain": [
       "[4.132146385354056, 4.132146385354056, 1.6384326370669082]"
      ]
     },
     "execution_count": 26,
     "metadata": {},
     "output_type": "execute_result"
    }
   ],
   "source": [
    "test_eval"
   ]
  },
  {
   "cell_type": "code",
   "execution_count": 27,
   "metadata": {},
   "outputs": [],
   "source": [
    "# loss record\n",
    "accuracy = model_train.history['mean_squared_error']\n",
    "val_accuracy = model_train.history['val_mean_squared_error']\n",
    "loss = model_train.history['loss']\n",
    "val_loss = model_train.history['val_loss']\n",
    "\n",
    "np_acc = np.array(accuracy)\n",
    "np_val_acc = np.array(val_accuracy)\n",
    "np_loss = np.array(loss)\n",
    "np_val_loss = np.array(val_loss)"
   ]
  },
  {
   "cell_type": "code",
   "execution_count": 28,
   "metadata": {},
   "outputs": [],
   "source": [
    "# loss record\n",
    "np.savetxt(\"EDC11K_CNN_acc_cls3_fix_2080ti_v3.csv\", np_acc, delimiter=\",\")\n",
    "np.savetxt(\"EDC11K_CNN_val_acc_cls3_fix_2080ti_v3.csv\", np_val_acc, delimiter=\",\")\n",
    "np.savetxt(\"EDC11K_CNN_loss_cls3_fix_2080ti_v3.csv\", np_loss, delimiter=\",\")\n",
    "np.savetxt(\"EDC11K_CNN_val_loss_cls3_fix_2080ti_v3.csv\", np_val_loss, delimiter=\",\")"
   ]
  },
  {
   "cell_type": "code",
   "execution_count": 29,
   "metadata": {},
   "outputs": [],
   "source": [
    "import matplotlib\n",
    "from matplotlib import pyplot as plt"
   ]
  },
  {
   "cell_type": "code",
   "execution_count": 30,
   "metadata": {
    "scrolled": true
   },
   "outputs": [
    {
     "data": {
      "image/png": "[encoded data removed]",
      "text/plain": [
       "<Figure size 432x288 with 1 Axes>"
      ]
     },
     "metadata": {
      "needs_background": "light"
     },
     "output_type": "display_data"
    },
    {
     "data": {
      "image/png": "[encoded data removed]",
      "text/plain": [
       "<Figure size 432x288 with 1 Axes>"
      ]
     },
     "metadata": {
      "needs_background": "light"
     },
     "output_type": "display_data"
    }
   ],
   "source": [
    "# accuracy = model_train.history['acc']\n",
    "# val_accuracy = model_train.history['val_acc']\n",
    "# loss = model_train.history['loss']\n",
    "# val_loss = model_train.history['val_loss']\n",
    "epochs = range(len(accuracy))\n",
    "plt.plot(epochs, accuracy, 'bo', label='Training mse',c='red')\n",
    "plt.plot(epochs, val_accuracy, 'b', label='Validation mse',c='red')\n",
    "plt.title('Training and validation mse')\n",
    "plt.legend()\n",
    "plt.figure()\n",
    "plt.plot(epochs, loss, 'bo', label='Training loss',c='red')\n",
    "plt.plot(epochs, val_loss, 'b', label='Validation loss',c='red')\n",
    "plt.title('Training and validation loss')\n",
    "plt.legend()\n",
    "plt.show()"
   ]
  },
  {
   "cell_type": "code",
   "execution_count": 31,
   "metadata": {},
   "outputs": [],
   "source": [
    "predicted_classes = model.predict([test_X_cell,test_X_drug])"
   ]
  },
  {
   "cell_type": "code",
   "execution_count": 32,
   "metadata": {},
   "outputs": [],
   "source": [
    "predicted_value = predicted_classes"
   ]
  },
  {
   "cell_type": "code",
   "execution_count": 33,
   "metadata": {},
   "outputs": [],
   "source": [
    "# saving predicted ln(IC50)s and ln(IC50)s in the test set\n",
    "a = pd.DataFrame(predicted_value)\n",
    "b = pd.DataFrame(test_label_array)\n",
    "c = pd.concat([a,b], axis=1)\n",
    "c.columns=[\"Predicted\",\"Test\"]\n",
    "c.to_csv(workdir + '//200915_EDC11K_CNN_pred_and_val_result.csv', index=False)\n"
   ]
  },
  {
   "cell_type": "code",
   "execution_count": 41,
   "metadata": {},
   "outputs": [
    {
     "data": {
      "text/html": [
       "<div>\n",
       "<style scoped>\n",
       "    .dataframe tbody tr th:only-of-type {\n",
       "        vertical-align: middle;\n",
       "    }\n",
       "\n",
       "    .dataframe tbody tr th {\n",
       "        vertical-align: top;\n",
       "    }\n",
       "\n",
       "    .dataframe thead th {\n",
       "        text-align: right;\n",
       "    }\n",
       "</style>\n",
       "<table border=\"1\" class=\"dataframe\">\n",
       "  <thead>\n",
       "    <tr style=\"text-align: right;\">\n",
       "      <th></th>\n",
       "      <th>Predicted</th>\n",
       "      <th>Test</th>\n",
       "    </tr>\n",
       "  </thead>\n",
       "  <tbody>\n",
       "    <tr>\n",
       "      <th>0</th>\n",
       "      <td>0.369521</td>\n",
       "      <td>2.079442</td>\n",
       "    </tr>\n",
       "    <tr>\n",
       "      <th>1</th>\n",
       "      <td>0.509466</td>\n",
       "      <td>-3.022156</td>\n",
       "    </tr>\n",
       "    <tr>\n",
       "      <th>2</th>\n",
       "      <td>0.097100</td>\n",
       "      <td>2.079442</td>\n",
       "    </tr>\n",
       "    <tr>\n",
       "      <th>3</th>\n",
       "      <td>1.312388</td>\n",
       "      <td>2.079442</td>\n",
       "    </tr>\n",
       "    <tr>\n",
       "      <th>4</th>\n",
       "      <td>0.790176</td>\n",
       "      <td>2.079442</td>\n",
       "    </tr>\n",
       "  </tbody>\n",
       "</table>\n",
       "</div>"
      ],
      "text/plain": [
       "   Predicted      Test\n",
       "0   0.369521  2.079442\n",
       "1   0.509466 -3.022156\n",
       "2   0.097100  2.079442\n",
       "3   1.312388  2.079442\n",
       "4   0.790176  2.079442"
      ]
     },
     "execution_count": 41,
     "metadata": {},
     "output_type": "execute_result"
    }
   ],
   "source": [
    "# result table\n",
    "c.head()"
   ]
  },
  {
   "cell_type": "code",
   "execution_count": 36,
   "metadata": {},
   "outputs": [
    {
     "data": {
      "text/plain": [
       "(1136, 1)"
      ]
     },
     "execution_count": 36,
     "metadata": {},
     "output_type": "execute_result"
    }
   ],
   "source": [
    "predicted_value.shape"
   ]
  },
  {
   "cell_type": "code",
   "execution_count": 37,
   "metadata": {},
   "outputs": [
    {
     "data": {
      "image/png": "[encoded data removed]",
      "text/plain": [
       "<Figure size 432x288 with 1 Axes>"
      ]
     },
     "metadata": {
      "needs_background": "light"
     },
     "output_type": "display_data"
    }
   ],
   "source": [
    "# scatter plot\n",
    "plt.scatter(test_label_array,predicted_value,c='red')\n",
    "plt.xlabel('test_IC50_value')\n",
    "plt.ylabel('predicted_IC50_value')\n",
    "plt.savefig(workdir + '//EDC11K_CNN_test_scatterplot.png')"
   ]
  },
  {
   "cell_type": "code",
   "execution_count": 42,
   "metadata": {},
   "outputs": [
    {
     "name": "stdout",
     "output_type": "stream",
     "text": [
      "-0.027870371071846867\n"
     ]
    }
   ],
   "source": [
    "# R-squared value\n",
    "from sklearn.metrics import r2_score\n",
    "r2_value = r2_score(b,a)\n",
    "print(r2_value)"
   ]
  },
  {
   "cell_type": "code",
   "execution_count": 43,
   "metadata": {},
   "outputs": [
    {
     "data": {
      "text/plain": [
       "LinregressResult(slope=0.007505670930101758, intercept=0.6759877147652715, rvalue=0.041148354789516214, pvalue=0.16576248823961323, stderr=0.005412059146859292)"
      ]
     },
     "execution_count": 43,
     "metadata": {},
     "output_type": "execute_result"
    }
   ],
   "source": [
    "# Linear regression value (slope)\n",
    "from scipy.stats import linregress\n",
    "linregress(b[0], a[0])"
   ]
  },
  {
   "cell_type": "code",
   "execution_count": 44,
   "metadata": {},
   "outputs": [
    {
     "name": "stdout",
     "output_type": "stream",
     "text": [
      "Final rmse value is = 2.0327681302061427\n"
     ]
    }
   ],
   "source": [
    "# RMSE\n",
    "rse = ((b[0]-a[0])**2).sum()\n",
    "mse = rse / len(b)\n",
    "print(\"Final rmse value is =\",np.sqrt(mse))"
   ]
  },
  {
   "cell_type": "code",
   "execution_count": null,
   "metadata": {},
   "outputs": [],
   "source": []
  }
 ],
 "metadata": {
  "kernelspec": {
   "display_name": "Python 3",
   "language": "python",
   "name": "python3"
  },
  "language_info": {
   "codemirror_mode": {
    "name": "ipython",
    "version": 3
   },
   "file_extension": ".py",
   "mimetype": "text/x-python",
   "name": "python",
   "nbconvert_exporter": "python",
   "pygments_lexer": "ipython3",
   "version": "3.6.8"
  }
 },
 "nbformat": 4,
 "nbformat_minor": 2
}
