{
 "cells": [
  {
   "cell_type": "code",
   "execution_count": 21,
   "metadata": {},
   "outputs": [],
   "source": [
    "import os\n",
    "import pandas as pd\n",
    "import numpy as np\n",
    "import tensorflow as tf\n",
    "import random\n",
    "from pandas import DataFrame\n",
    "from datetime import datetime\n",
    "import keras\n",
    "from keras.models import Sequential,Input,Model\n",
    "from keras.layers import Dense, Dropout, Flatten, Reshape, Activation\n",
    "from keras.layers import Conv1D, MaxPooling1D ,AveragePooling1D\n",
    "from keras.layers.normalization import BatchNormalization\n",
    "from keras.layers.advanced_activations import LeakyReLU\n",
    "from keras import backend as K\n",
    "from keras.callbacks import ModelCheckpoint, CSVLogger\n",
    "from keras.optimizers import Adam, RMSprop\n",
    "from keras.layers import Input, Dense, Conv1D, MaxPooling1D\n",
    "from keras.layers import Flatten, Concatenate, Dropout, Reshape, BatchNormalization\n",
    "from keras.models import Model\n",
    "\n",
    "\n",
    "workdir = \"path\"\n"
   ]
  },
  {
   "cell_type": "code",
   "execution_count": 2,
   "metadata": {},
   "outputs": [
    {
     "name": "stdout",
     "output_type": "stream",
     "text": [
      "[name: \"/device:CPU:0\"\n",
      "device_type: \"CPU\"\n",
      "memory_limit: 268435456\n",
      "locality {\n",
      "}\n",
      "incarnation: 2510487689950273203\n",
      ", name: \"/device:GPU:0\"\n",
      "device_type: \"GPU\"\n",
      "memory_limit: 18038862643\n",
      "locality {\n",
      "  bus_id: 1\n",
      "  links {\n",
      "  }\n",
      "}\n",
      "incarnation: 10036445174868370200\n",
      "physical_device_desc: \"device: 0, name: TITAN RTX, pci bus id: 0000:01:00.0, compute capability: 7.5\"\n",
      "]\n"
     ]
    }
   ],
   "source": [
    "from tensorflow.python.client import device_lib\n",
    "print(device_lib.list_local_devices())\n",
    "\n",
    "\n",
    "# 출처: https://3months.tistory.com/206 [Deep Play]"
   ]
  },
  {
   "cell_type": "code",
   "execution_count": 3,
   "metadata": {},
   "outputs": [],
   "source": [
    "# < Important note > [ Please download input data from https://mega.nz/#F!CeYGDKyS!uqkmWJ4E2XSGJp_C2VO2gg]\n",
    "# IC50evaluation//Dataset//Scenario2_EDC-11K_znorm_minmax\n",
    "\n",
    "dataset = np.load(workdir + \"//191204_EDC11K_z_norm_minmax.npz\") # input\n",
    "ss0 = np.load(workdir + '//191204_EDC11K_z_norm_minmax_r0_9_1.npz') # split for training and test"
   ]
  },
  {
   "cell_type": "code",
   "execution_count": 4,
   "metadata": {},
   "outputs": [],
   "source": [
    "x = dataset['x']\n",
    "y = dataset['y']\n",
    "# y_linear = dataset['y_lnIC50']\n",
    "ss0_train = ss0['train']\n",
    "ss0_test = ss0['test']"
   ]
  },
  {
   "cell_type": "code",
   "execution_count": 5,
   "metadata": {},
   "outputs": [],
   "source": [
    "training_image_array, training_label_array = x[ss0_train], y[ss0_train]\n",
    "test_image_array, test_label_array = x[ss0_test], y[ss0_test]\n",
    "\n",
    "# In[9]:\n",
    "# ori = training_image_array\n",
    "# bat = np.zeros((ori.shape[0],178))\n",
    "# cat = np.hstack([ori,bat])\n",
    "# training_image_array = cat\n",
    "\n",
    "# # In[8]:\n",
    "# training_image_array.shape\n",
    "\n",
    "# # In[10]:\n",
    "# ori2 = test_image_array\n",
    "# bat2 = np.zeros((ori2.shape[0],178))\n",
    "# cat2 = np.hstack([ori2,bat2])\n",
    "# test_image_array = cat2\n"
   ]
  },
  {
   "cell_type": "code",
   "execution_count": 6,
   "metadata": {},
   "outputs": [
    {
     "name": "stdout",
     "output_type": "stream",
     "text": [
      "0 42\n"
     ]
    }
   ],
   "source": [
    "# In[15]:\n",
    "ab =[]\n",
    "for i in range(100,200):\n",
    "    ab.append(len(training_image_array) % i)\n",
    "    \n",
    "print(min(ab), ab.index(min(ab)))"
   ]
  },
  {
   "cell_type": "code",
   "execution_count": 7,
   "metadata": {},
   "outputs": [
    {
     "data": {
      "text/plain": [
       "(11360, 21313)"
      ]
     },
     "execution_count": 7,
     "metadata": {},
     "output_type": "execute_result"
    }
   ],
   "source": [
    "x.shape"
   ]
  },
  {
   "cell_type": "code",
   "execution_count": 8,
   "metadata": {},
   "outputs": [
    {
     "data": {
      "text/plain": [
       "(10224, 21313)"
      ]
     },
     "execution_count": 8,
     "metadata": {},
     "output_type": "execute_result"
    }
   ],
   "source": [
    "training_image_array.shape"
   ]
  },
  {
   "cell_type": "code",
   "execution_count": 9,
   "metadata": {},
   "outputs": [],
   "source": [
    "# In[21]:\n",
    "\n",
    "num_classes = 1\n",
    "learning_rate = 0.0002\n",
    "training_epochs = 150\n",
    "batch_size = 100\n",
    "img_rows, img_cols = 154, 154\n"
   ]
  },
  {
   "cell_type": "code",
   "execution_count": 10,
   "metadata": {},
   "outputs": [],
   "source": [
    "train_X, train_y, test_X, test_y = training_image_array, training_label_array, test_image_array, test_label_array\n",
    "\n",
    "# if K.image_data_format() == 'channels_first':\n",
    "#     train_X = train_X.reshape(train_X.shape[0], 1, img_rows, img_cols)\n",
    "#     test_X = test_X.reshape(x_test.shape[0], 1, img_rows, img_cols)\n",
    "#     input_shape = (1, img_rows, img_cols)\n",
    "# else:\n",
    "#     train_X = train_X.reshape(train_X.shape[0], img_rows, img_cols, 1)\n",
    "#     test_X = test_X.reshape(test_X.shape[0], img_rows, img_cols, 1)\n",
    "#     input_shape = (img_rows, img_cols, 1)\n"
   ]
  },
  {
   "cell_type": "code",
   "execution_count": 11,
   "metadata": {},
   "outputs": [
    {
     "name": "stdout",
     "output_type": "stream",
     "text": [
      "18988\n"
     ]
    }
   ],
   "source": [
    "shape_value = 18988\n",
    "print(shape_value)"
   ]
  },
  {
   "cell_type": "code",
   "execution_count": 12,
   "metadata": {},
   "outputs": [
    {
     "data": {
      "text/plain": [
       "(10224, 21313)"
      ]
     },
     "execution_count": 12,
     "metadata": {},
     "output_type": "execute_result"
    }
   ],
   "source": [
    "train_X.shape"
   ]
  },
  {
   "cell_type": "code",
   "execution_count": 13,
   "metadata": {},
   "outputs": [],
   "source": [
    "train_X_cell = train_X[:,:shape_value]\n",
    "train_X_drug =train_X[:,shape_value:]\n",
    "test_X_cell = test_X[:,:shape_value]\n",
    "test_X_drug = test_X[:,shape_value:]"
   ]
  },
  {
   "cell_type": "code",
   "execution_count": 14,
   "metadata": {},
   "outputs": [
    {
     "data": {
      "text/plain": [
       "(10224, 18988)"
      ]
     },
     "execution_count": 14,
     "metadata": {},
     "output_type": "execute_result"
    }
   ],
   "source": [
    "train_X_cell.shape"
   ]
  },
  {
   "cell_type": "code",
   "execution_count": 15,
   "metadata": {},
   "outputs": [],
   "source": [
    "train_X_cell = train_X_cell.reshape(train_X_cell.shape[0], train_X_cell.shape[1], 1)\n",
    "train_X_drug = train_X_drug.reshape(train_X_drug.shape[0], train_X_drug.shape[1], 1)\n",
    "test_X_cell = test_X_cell.reshape(test_X_cell.shape[0], test_X_cell.shape[1], 1)\n",
    "test_X_drug = test_X_drug.reshape(test_X_drug.shape[0], test_X_drug.shape[1], 1)\n",
    "#input_shape = (img_rows, img_cols, 1)"
   ]
  },
  {
   "cell_type": "code",
   "execution_count": 16,
   "metadata": {},
   "outputs": [
    {
     "name": "stdout",
     "output_type": "stream",
     "text": [
      "(10224, 18988, 1) (10224, 2325, 1) (10224,) (1136, 18988, 1) (1136, 2325, 1) (1136,)\n"
     ]
    }
   ],
   "source": [
    "print(train_X_cell.shape,train_X_drug.shape, train_y.shape, test_X_cell.shape,test_X_drug.shape, test_y.shape)"
   ]
  },
  {
   "cell_type": "code",
   "execution_count": 17,
   "metadata": {},
   "outputs": [
    {
     "data": {
      "text/plain": [
       "(10224, 18988, 1)"
      ]
     },
     "execution_count": 17,
     "metadata": {},
     "output_type": "execute_result"
    }
   ],
   "source": [
    "train_X_cell.shape"
   ]
  },
  {
   "cell_type": "code",
   "execution_count": 18,
   "metadata": {},
   "outputs": [
    {
     "name": "stdout",
     "output_type": "stream",
     "text": [
      "train_X shape: (10224, 21313)\n",
      "10224 train samples\n",
      "1136 test samples\n"
     ]
    }
   ],
   "source": [
    "train_X_cell = train_X_cell.astype('float32')\n",
    "test_X_cell = test_X_cell.astype('float32')\n",
    "train_X_drug = train_X_drug.astype('float32')\n",
    "test_X_drug = test_X_drug.astype('float32')\n",
    "# train_X /= 255\n",
    "# test_X /= 255\n",
    "print('train_X shape:', train_X.shape)\n",
    "print(train_X.shape[0], 'train samples')\n",
    "print(test_X.shape[0], 'test samples')"
   ]
  },
  {
   "cell_type": "code",
   "execution_count": 22,
   "metadata": {},
   "outputs": [],
   "source": [
    "with K.tf.device('/GPU:0'):\n",
    "    input_cell = Input(shape=(train_X_cell.shape[1], train_X_cell.shape[2]), name='cell_input')\n",
    "    input_drug = Input(shape=(train_X_drug.shape[1], train_X_drug.shape[2]), name='drug_input')\n",
    "\n",
    "    conv_cell_line_1 = Conv1D(filters=50, kernel_size=700, strides=5, activation='tanh')(input_cell)\n",
    "    maxpool_cell_line_1 = MaxPooling1D(pool_size=5)(conv_cell_line_1)\n",
    "    conv_cell_line_2 = Conv1D(filters=30, kernel_size=5, strides=2, activation='relu')(maxpool_cell_line_1)\n",
    "    maxpool_cell_line_2 = MaxPooling1D(pool_size=10)(conv_cell_line_2)\n",
    "    flatten_cell_line = Flatten()(maxpool_cell_line_2)\n",
    "    dense_cell_line = Dense(100, activation='relu')(flatten_cell_line)\n",
    "    dropout_cell_line = Dropout(0.1)(dense_cell_line)\n",
    "\n",
    "    conv_drug_1 = Conv1D(filters=50, kernel_size=200, strides=3, activation='tanh')(input_drug)\n",
    "    maxpool_drug_1 = MaxPooling1D(pool_size=5)(conv_drug_1)\n",
    "    conv_drug_2 = Conv1D(filters=30, kernel_size=50, strides=5, activation='relu')(maxpool_drug_1)\n",
    "    maxpool_drug_2 = MaxPooling1D(pool_size=10)(conv_drug_2)\n",
    "    flatten_drug = Flatten()(maxpool_drug_2)\n",
    "    dense_drug = Dense(100, activation='relu')(flatten_drug)\n",
    "    dropout_drug = Dropout(0.1)(dense_drug)\n",
    "\n",
    "    concatenate = Concatenate()([dropout_cell_line, dropout_drug])\n",
    "    dense_1 = Dense(300, activation='tanh')(concatenate)\n",
    "    dropout_1 = Dropout(0.1)(dense_1)\n",
    "    reshape_1 = Reshape((300,1))(dropout_1)\n",
    "    conv_1 = Conv1D(filters=30, kernel_size=150, strides=1, activation='relu')(reshape_1)\n",
    "    maxpool_1 = MaxPooling1D(pool_size=2)(conv_1)\n",
    "    conv_2 = Conv1D(filters=10, kernel_size=5, strides=1, activation='relu')(maxpool_1)\n",
    "    maxpool_2 = MaxPooling1D(pool_size=3)(conv_2)\n",
    "    conv_3 = Conv1D(filters=5, kernel_size=5, strides=1, activation='relu')(maxpool_2)\n",
    "    maxpool_3 = MaxPooling1D(pool_size=3)(conv_3)\n",
    "    dropout_2 = Dropout(0.1)(maxpool_3)\n",
    "    flatten = Flatten()(dropout_2)\n",
    "    dropout_3 = Dropout(0.2)(flatten)\n",
    "    output = Dense(1, activation='linear', name='pred_lnIC50')(dropout_3)\n",
    "    model = Model(inputs=[input_cell, input_drug], outputs=output, name='MasterModel')\n",
    "\n"
   ]
  },
  {
   "cell_type": "code",
   "execution_count": 23,
   "metadata": {
    "scrolled": false
   },
   "outputs": [
    {
     "name": "stdout",
     "output_type": "stream",
     "text": [
      "__________________________________________________________________________________________________\n",
      "Layer (type)                    Output Shape         Param #     Connected to                     \n",
      "==================================================================================================\n",
      "cell_input (InputLayer)         (None, 18988, 1)     0                                            \n",
      "__________________________________________________________________________________________________\n",
      "drug_input (InputLayer)         (None, 2325, 1)      0                                            \n",
      "__________________________________________________________________________________________________\n",
      "conv1d_5 (Conv1D)               (None, 3658, 50)     35050       cell_input[0][0]                 \n",
      "__________________________________________________________________________________________________\n",
      "conv1d_7 (Conv1D)               (None, 709, 50)      10050       drug_input[0][0]                 \n",
      "__________________________________________________________________________________________________\n",
      "max_pooling1d_5 (MaxPooling1D)  (None, 731, 50)      0           conv1d_5[0][0]                   \n",
      "__________________________________________________________________________________________________\n",
      "max_pooling1d_7 (MaxPooling1D)  (None, 141, 50)      0           conv1d_7[0][0]                   \n",
      "__________________________________________________________________________________________________\n",
      "conv1d_6 (Conv1D)               (None, 364, 30)      7530        max_pooling1d_5[0][0]            \n",
      "__________________________________________________________________________________________________\n",
      "conv1d_8 (Conv1D)               (None, 19, 30)       75030       max_pooling1d_7[0][0]            \n",
      "__________________________________________________________________________________________________\n",
      "max_pooling1d_6 (MaxPooling1D)  (None, 36, 30)       0           conv1d_6[0][0]                   \n",
      "__________________________________________________________________________________________________\n",
      "max_pooling1d_8 (MaxPooling1D)  (None, 1, 30)        0           conv1d_8[0][0]                   \n",
      "__________________________________________________________________________________________________\n",
      "flatten_3 (Flatten)             (None, 1080)         0           max_pooling1d_6[0][0]            \n",
      "__________________________________________________________________________________________________\n",
      "flatten_4 (Flatten)             (None, 30)           0           max_pooling1d_8[0][0]            \n",
      "__________________________________________________________________________________________________\n",
      "dense_3 (Dense)                 (None, 100)          108100      flatten_3[0][0]                  \n",
      "__________________________________________________________________________________________________\n",
      "dense_4 (Dense)                 (None, 100)          3100        flatten_4[0][0]                  \n",
      "__________________________________________________________________________________________________\n",
      "dropout_3 (Dropout)             (None, 100)          0           dense_3[0][0]                    \n",
      "__________________________________________________________________________________________________\n",
      "dropout_4 (Dropout)             (None, 100)          0           dense_4[0][0]                    \n",
      "__________________________________________________________________________________________________\n",
      "concatenate_1 (Concatenate)     (None, 200)          0           dropout_3[0][0]                  \n",
      "                                                                 dropout_4[0][0]                  \n",
      "__________________________________________________________________________________________________\n",
      "dense_5 (Dense)                 (None, 300)          60300       concatenate_1[0][0]              \n",
      "__________________________________________________________________________________________________\n",
      "dropout_5 (Dropout)             (None, 300)          0           dense_5[0][0]                    \n",
      "__________________________________________________________________________________________________\n",
      "reshape_1 (Reshape)             (None, 300, 1)       0           dropout_5[0][0]                  \n",
      "__________________________________________________________________________________________________\n",
      "conv1d_9 (Conv1D)               (None, 151, 30)      4530        reshape_1[0][0]                  \n",
      "__________________________________________________________________________________________________\n",
      "max_pooling1d_9 (MaxPooling1D)  (None, 75, 30)       0           conv1d_9[0][0]                   \n",
      "__________________________________________________________________________________________________\n",
      "conv1d_10 (Conv1D)              (None, 71, 10)       1510        max_pooling1d_9[0][0]            \n",
      "__________________________________________________________________________________________________\n",
      "max_pooling1d_10 (MaxPooling1D) (None, 23, 10)       0           conv1d_10[0][0]                  \n",
      "__________________________________________________________________________________________________\n",
      "conv1d_11 (Conv1D)              (None, 19, 5)        255         max_pooling1d_10[0][0]           \n",
      "__________________________________________________________________________________________________\n",
      "max_pooling1d_11 (MaxPooling1D) (None, 6, 5)         0           conv1d_11[0][0]                  \n",
      "__________________________________________________________________________________________________\n",
      "dropout_6 (Dropout)             (None, 6, 5)         0           max_pooling1d_11[0][0]           \n",
      "__________________________________________________________________________________________________\n",
      "flatten_5 (Flatten)             (None, 30)           0           dropout_6[0][0]                  \n",
      "__________________________________________________________________________________________________\n",
      "dropout_7 (Dropout)             (None, 30)           0           flatten_5[0][0]                  \n",
      "__________________________________________________________________________________________________\n",
      "pred_lnIC50 (Dense)             (None, 1)            31          dropout_7[0][0]                  \n",
      "==================================================================================================\n",
      "Total params: 305,486\n",
      "Trainable params: 305,486\n",
      "Non-trainable params: 0\n",
      "__________________________________________________________________________________________________\n"
     ]
    }
   ],
   "source": [
    "model.summary()"
   ]
  },
  {
   "cell_type": "code",
   "execution_count": 24,
   "metadata": {},
   "outputs": [],
   "source": [
    "config = tf.ConfigProto()\n",
    "config.gpu_options.allow_growth = True\n",
    "sess = tf.Session(config=config)"
   ]
  },
  {
   "cell_type": "code",
   "execution_count": 25,
   "metadata": {
    "scrolled": true
   },
   "outputs": [
    {
     "name": "stdout",
     "output_type": "stream",
     "text": [
      "StartTime : 2019-12-05 15:59:06.049000\n",
      "WARNING:tensorflow:From C:\\ProgramData\\Anaconda3\\envs\\ronnytf\\lib\\site-packages\\tensorflow\\python\\ops\\math_ops.py:3066: to_int32 (from tensorflow.python.ops.math_ops) is deprecated and will be removed in a future version.\n",
      "Instructions for updating:\n",
      "Use tf.cast instead.\n",
      "Train on 10224 samples, validate on 1136 samples\n",
      "Epoch 1/150\n",
      "10224/10224 [==============================] - 6s 575us/step - loss: 4.1200 - mean_squared_error: 4.1200 - mean_absolute_error: 1.6394 - val_loss: 4.0872 - val_mean_squared_error: 4.0872 - val_mean_absolute_error: 1.5330\n",
      "Epoch 2/150\n",
      "10224/10224 [==============================] - 3s 273us/step - loss: 4.0150 - mean_squared_error: 4.0150 - mean_absolute_error: 1.5801 - val_loss: 4.0618 - val_mean_squared_error: 4.0618 - val_mean_absolute_error: 1.5726\n",
      "Epoch 3/150\n",
      "10224/10224 [==============================] - 3s 275us/step - loss: 3.9809 - mean_squared_error: 3.9809 - mean_absolute_error: 1.5688 - val_loss: 4.0842 - val_mean_squared_error: 4.0842 - val_mean_absolute_error: 1.4788\n",
      "Epoch 4/150\n",
      "10224/10224 [==============================] - 3s 276us/step - loss: 3.9633 - mean_squared_error: 3.9633 - mean_absolute_error: 1.5601 - val_loss: 4.0279 - val_mean_squared_error: 4.0279 - val_mean_absolute_error: 1.5803\n",
      "Epoch 5/150\n",
      "10224/10224 [==============================] - 3s 274us/step - loss: 3.9290 - mean_squared_error: 3.9290 - mean_absolute_error: 1.5449 - val_loss: 4.0339 - val_mean_squared_error: 4.0339 - val_mean_absolute_error: 1.5569\n",
      "Epoch 6/150\n",
      "10224/10224 [==============================] - 3s 275us/step - loss: 3.9057 - mean_squared_error: 3.9057 - mean_absolute_error: 1.5401 - val_loss: 4.0360 - val_mean_squared_error: 4.0360 - val_mean_absolute_error: 1.5766\n",
      "Epoch 7/150\n",
      "10224/10224 [==============================] - 3s 275us/step - loss: 3.9090 - mean_squared_error: 3.9090 - mean_absolute_error: 1.5432 - val_loss: 4.0410 - val_mean_squared_error: 4.0410 - val_mean_absolute_error: 1.5338\n",
      "Epoch 8/150\n",
      "10224/10224 [==============================] - 3s 275us/step - loss: 3.8806 - mean_squared_error: 3.8806 - mean_absolute_error: 1.5275 - val_loss: 4.0397 - val_mean_squared_error: 4.0397 - val_mean_absolute_error: 1.5765\n",
      "Epoch 9/150\n",
      "10224/10224 [==============================] - 3s 276us/step - loss: 3.8857 - mean_squared_error: 3.8857 - mean_absolute_error: 1.5320 - val_loss: 4.0570 - val_mean_squared_error: 4.0570 - val_mean_absolute_error: 1.5801\n",
      "Epoch 10/150\n",
      "10224/10224 [==============================] - 3s 276us/step - loss: 3.8651 - mean_squared_error: 3.8651 - mean_absolute_error: 1.5243 - val_loss: 4.1131 - val_mean_squared_error: 4.1131 - val_mean_absolute_error: 1.4532\n",
      "Epoch 11/150\n",
      "10224/10224 [==============================] - 3s 278us/step - loss: 3.8810 - mean_squared_error: 3.8810 - mean_absolute_error: 1.5284 - val_loss: 4.0799 - val_mean_squared_error: 4.0799 - val_mean_absolute_error: 1.4899\n",
      "Epoch 12/150\n",
      "10224/10224 [==============================] - 3s 283us/step - loss: 3.8742 - mean_squared_error: 3.8742 - mean_absolute_error: 1.5289 - val_loss: 4.0551 - val_mean_squared_error: 4.0551 - val_mean_absolute_error: 1.5411\n",
      "Epoch 13/150\n",
      "10224/10224 [==============================] - 3s 277us/step - loss: 3.8687 - mean_squared_error: 3.8687 - mean_absolute_error: 1.5179 - val_loss: 4.0625 - val_mean_squared_error: 4.0625 - val_mean_absolute_error: 1.5730\n",
      "Epoch 14/150\n",
      "10224/10224 [==============================] - 3s 280us/step - loss: 3.8676 - mean_squared_error: 3.8676 - mean_absolute_error: 1.5234 - val_loss: 4.0695 - val_mean_squared_error: 4.0695 - val_mean_absolute_error: 1.5318\n",
      "Epoch 15/150\n",
      "10224/10224 [==============================] - 3s 280us/step - loss: 3.8675 - mean_squared_error: 3.8675 - mean_absolute_error: 1.5253 - val_loss: 4.0779 - val_mean_squared_error: 4.0779 - val_mean_absolute_error: 1.5038\n",
      "Epoch 16/150\n",
      "10224/10224 [==============================] - 3s 280us/step - loss: 3.8515 - mean_squared_error: 3.8515 - mean_absolute_error: 1.5201 - val_loss: 4.0636 - val_mean_squared_error: 4.0636 - val_mean_absolute_error: 1.5262\n",
      "Epoch 17/150\n",
      "10224/10224 [==============================] - 3s 278us/step - loss: 3.8642 - mean_squared_error: 3.8642 - mean_absolute_error: 1.5205 - val_loss: 4.0683 - val_mean_squared_error: 4.0683 - val_mean_absolute_error: 1.5432\n",
      "Epoch 18/150\n",
      "10224/10224 [==============================] - 3s 279us/step - loss: 3.8531 - mean_squared_error: 3.8531 - mean_absolute_error: 1.5147 - val_loss: 4.0710 - val_mean_squared_error: 4.0710 - val_mean_absolute_error: 1.5728\n",
      "Epoch 19/150\n",
      "10224/10224 [==============================] - 3s 278us/step - loss: 3.8543 - mean_squared_error: 3.8543 - mean_absolute_error: 1.5187 - val_loss: 4.0701 - val_mean_squared_error: 4.0701 - val_mean_absolute_error: 1.5677\n",
      "Epoch 20/150\n",
      "10224/10224 [==============================] - 3s 279us/step - loss: 3.8493 - mean_squared_error: 3.8493 - mean_absolute_error: 1.5201 - val_loss: 4.0857 - val_mean_squared_error: 4.0857 - val_mean_absolute_error: 1.5302\n",
      "Epoch 21/150\n",
      "10224/10224 [==============================] - 3s 280us/step - loss: 3.8576 - mean_squared_error: 3.8576 - mean_absolute_error: 1.5236 - val_loss: 4.0741 - val_mean_squared_error: 4.0741 - val_mean_absolute_error: 1.5383\n",
      "Epoch 22/150\n",
      "10224/10224 [==============================] - 3s 281us/step - loss: 3.8501 - mean_squared_error: 3.8501 - mean_absolute_error: 1.5144 - val_loss: 4.1054 - val_mean_squared_error: 4.1054 - val_mean_absolute_error: 1.5197\n",
      "Epoch 23/150\n",
      "10224/10224 [==============================] - 3s 277us/step - loss: 3.8458 - mean_squared_error: 3.8458 - mean_absolute_error: 1.5156 - val_loss: 4.0893 - val_mean_squared_error: 4.0893 - val_mean_absolute_error: 1.5497\n",
      "Epoch 24/150\n",
      "10224/10224 [==============================] - 3s 274us/step - loss: 3.8457 - mean_squared_error: 3.8457 - mean_absolute_error: 1.5169 - val_loss: 4.1132 - val_mean_squared_error: 4.1132 - val_mean_absolute_error: 1.5204\n",
      "Epoch 25/150\n",
      "10224/10224 [==============================] - 3s 282us/step - loss: 3.8471 - mean_squared_error: 3.8471 - mean_absolute_error: 1.5176 - val_loss: 4.0911 - val_mean_squared_error: 4.0911 - val_mean_absolute_error: 1.5578\n",
      "Epoch 26/150\n",
      "10224/10224 [==============================] - 3s 280us/step - loss: 3.8312 - mean_squared_error: 3.8312 - mean_absolute_error: 1.5068 - val_loss: 4.0918 - val_mean_squared_error: 4.0918 - val_mean_absolute_error: 1.5688\n",
      "Epoch 27/150\n",
      "10224/10224 [==============================] - 3s 287us/step - loss: 3.8326 - mean_squared_error: 3.8326 - mean_absolute_error: 1.5107 - val_loss: 4.0851 - val_mean_squared_error: 4.0851 - val_mean_absolute_error: 1.6032\n",
      "Epoch 28/150\n",
      "10224/10224 [==============================] - 3s 282us/step - loss: 3.8524 - mean_squared_error: 3.8524 - mean_absolute_error: 1.5187 - val_loss: 4.0700 - val_mean_squared_error: 4.0700 - val_mean_absolute_error: 1.5364\n",
      "Epoch 29/150\n",
      "10224/10224 [==============================] - 3s 284us/step - loss: 3.8341 - mean_squared_error: 3.8341 - mean_absolute_error: 1.5111 - val_loss: 4.1173 - val_mean_squared_error: 4.1173 - val_mean_absolute_error: 1.5994\n",
      "Epoch 30/150\n",
      "10224/10224 [==============================] - 3s 282us/step - loss: 3.8388 - mean_squared_error: 3.8388 - mean_absolute_error: 1.5209 - val_loss: 4.1256 - val_mean_squared_error: 4.1256 - val_mean_absolute_error: 1.5084\n",
      "Epoch 31/150\n",
      "10224/10224 [==============================] - 3s 279us/step - loss: 3.8460 - mean_squared_error: 3.8460 - mean_absolute_error: 1.5155 - val_loss: 4.0856 - val_mean_squared_error: 4.0856 - val_mean_absolute_error: 1.5930\n",
      "Epoch 32/150\n",
      "10224/10224 [==============================] - 3s 282us/step - loss: 3.8319 - mean_squared_error: 3.8319 - mean_absolute_error: 1.5094 - val_loss: 4.0972 - val_mean_squared_error: 4.0972 - val_mean_absolute_error: 1.5881\n",
      "Epoch 33/150\n",
      "10224/10224 [==============================] - 3s 281us/step - loss: 3.8369 - mean_squared_error: 3.8369 - mean_absolute_error: 1.5133 - val_loss: 4.0883 - val_mean_squared_error: 4.0883 - val_mean_absolute_error: 1.5632\n",
      "Epoch 34/150\n",
      "10224/10224 [==============================] - 3s 279us/step - loss: 3.8245 - mean_squared_error: 3.8245 - mean_absolute_error: 1.5097 - val_loss: 4.1169 - val_mean_squared_error: 4.1169 - val_mean_absolute_error: 1.5265\n",
      "Epoch 35/150\n",
      "10224/10224 [==============================] - 3s 281us/step - loss: 3.8355 - mean_squared_error: 3.8355 - mean_absolute_error: 1.5094 - val_loss: 4.0835 - val_mean_squared_error: 4.0835 - val_mean_absolute_error: 1.5699\n",
      "Epoch 36/150\n",
      "10224/10224 [==============================] - 3s 282us/step - loss: 3.8308 - mean_squared_error: 3.8308 - mean_absolute_error: 1.5156 - val_loss: 4.1267 - val_mean_squared_error: 4.1267 - val_mean_absolute_error: 1.5705\n",
      "Epoch 37/150\n",
      "10224/10224 [==============================] - 3s 281us/step - loss: 3.8329 - mean_squared_error: 3.8329 - mean_absolute_error: 1.5109 - val_loss: 4.0991 - val_mean_squared_error: 4.0991 - val_mean_absolute_error: 1.5277\n",
      "Epoch 38/150\n",
      "10224/10224 [==============================] - 3s 287us/step - loss: 3.8323 - mean_squared_error: 3.8323 - mean_absolute_error: 1.5135 - val_loss: 4.1131 - val_mean_squared_error: 4.1131 - val_mean_absolute_error: 1.5376\n",
      "Epoch 39/150\n",
      "10224/10224 [==============================] - 3s 282us/step - loss: 3.8362 - mean_squared_error: 3.8362 - mean_absolute_error: 1.5125 - val_loss: 4.0977 - val_mean_squared_error: 4.0977 - val_mean_absolute_error: 1.5712\n",
      "Epoch 40/150\n",
      "10224/10224 [==============================] - 3s 285us/step - loss: 3.8291 - mean_squared_error: 3.8291 - mean_absolute_error: 1.5116 - val_loss: 4.1320 - val_mean_squared_error: 4.1320 - val_mean_absolute_error: 1.5184\n",
      "Epoch 41/150\n",
      "10224/10224 [==============================] - 3s 291us/step - loss: 3.8345 - mean_squared_error: 3.8345 - mean_absolute_error: 1.5090 - val_loss: 4.0969 - val_mean_squared_error: 4.0969 - val_mean_absolute_error: 1.5606\n",
      "Epoch 42/150\n",
      "10224/10224 [==============================] - 3s 282us/step - loss: 3.8265 - mean_squared_error: 3.8265 - mean_absolute_error: 1.5113 - val_loss: 4.0964 - val_mean_squared_error: 4.0964 - val_mean_absolute_error: 1.5581\n",
      "Epoch 43/150\n",
      "10224/10224 [==============================] - 3s 287us/step - loss: 3.8398 - mean_squared_error: 3.8398 - mean_absolute_error: 1.5152 - val_loss: 4.0972 - val_mean_squared_error: 4.0972 - val_mean_absolute_error: 1.5275\n",
      "Epoch 44/150\n",
      "10224/10224 [==============================] - 3s 281us/step - loss: 3.8350 - mean_squared_error: 3.8350 - mean_absolute_error: 1.5120 - val_loss: 4.1394 - val_mean_squared_error: 4.1394 - val_mean_absolute_error: 1.5198\n",
      "Epoch 45/150\n",
      "10224/10224 [==============================] - 3s 284us/step - loss: 3.8289 - mean_squared_error: 3.8289 - mean_absolute_error: 1.5056 - val_loss: 4.0990 - val_mean_squared_error: 4.0990 - val_mean_absolute_error: 1.5466\n",
      "Epoch 46/150\n",
      "10224/10224 [==============================] - 3s 284us/step - loss: 3.8263 - mean_squared_error: 3.8263 - mean_absolute_error: 1.5159 - val_loss: 4.1051 - val_mean_squared_error: 4.1051 - val_mean_absolute_error: 1.5675\n",
      "Epoch 47/150\n",
      "10224/10224 [==============================] - 3s 279us/step - loss: 3.8314 - mean_squared_error: 3.8314 - mean_absolute_error: 1.5109 - val_loss: 4.0711 - val_mean_squared_error: 4.0711 - val_mean_absolute_error: 1.5814\n",
      "Epoch 48/150\n",
      "10224/10224 [==============================] - 3s 279us/step - loss: 3.8162 - mean_squared_error: 3.8162 - mean_absolute_error: 1.5092 - val_loss: 4.1281 - val_mean_squared_error: 4.1281 - val_mean_absolute_error: 1.5026\n",
      "Epoch 49/150\n",
      "10224/10224 [==============================] - 3s 282us/step - loss: 3.8308 - mean_squared_error: 3.8308 - mean_absolute_error: 1.5048 - val_loss: 4.0911 - val_mean_squared_error: 4.0911 - val_mean_absolute_error: 1.5613\n",
      "Epoch 50/150\n",
      "10224/10224 [==============================] - 3s 283us/step - loss: 3.8185 - mean_squared_error: 3.8185 - mean_absolute_error: 1.5062 - val_loss: 4.1110 - val_mean_squared_error: 4.1110 - val_mean_absolute_error: 1.5365\n",
      "Epoch 51/150\n",
      "10224/10224 [==============================] - 3s 280us/step - loss: 3.8260 - mean_squared_error: 3.8260 - mean_absolute_error: 1.5106 - val_loss: 4.1292 - val_mean_squared_error: 4.1292 - val_mean_absolute_error: 1.5127\n",
      "Epoch 52/150\n",
      "10224/10224 [==============================] - 3s 283us/step - loss: 3.8116 - mean_squared_error: 3.8116 - mean_absolute_error: 1.5010 - val_loss: 4.1208 - val_mean_squared_error: 4.1208 - val_mean_absolute_error: 1.5077\n",
      "Epoch 53/150\n",
      "10224/10224 [==============================] - 3s 280us/step - loss: 3.8214 - mean_squared_error: 3.8214 - mean_absolute_error: 1.5047 - val_loss: 4.0870 - val_mean_squared_error: 4.0870 - val_mean_absolute_error: 1.5536\n",
      "Epoch 54/150\n",
      "10224/10224 [==============================] - 3s 282us/step - loss: 3.8201 - mean_squared_error: 3.8201 - mean_absolute_error: 1.5048 - val_loss: 4.1004 - val_mean_squared_error: 4.1004 - val_mean_absolute_error: 1.5434\n",
      "Epoch 55/150\n",
      "10224/10224 [==============================] - 3s 283us/step - loss: 3.8181 - mean_squared_error: 3.8181 - mean_absolute_error: 1.5026 - val_loss: 4.0973 - val_mean_squared_error: 4.0973 - val_mean_absolute_error: 1.5822\n",
      "Epoch 56/150\n",
      "10224/10224 [==============================] - 3s 279us/step - loss: 3.8330 - mean_squared_error: 3.8330 - mean_absolute_error: 1.5139 - val_loss: 4.0897 - val_mean_squared_error: 4.0897 - val_mean_absolute_error: 1.5585\n",
      "Epoch 57/150\n",
      "10224/10224 [==============================] - 3s 279us/step - loss: 3.8300 - mean_squared_error: 3.8300 - mean_absolute_error: 1.5143 - val_loss: 4.1021 - val_mean_squared_error: 4.1021 - val_mean_absolute_error: 1.5448\n",
      "Epoch 58/150\n",
      "10224/10224 [==============================] - 3s 280us/step - loss: 3.8256 - mean_squared_error: 3.8256 - mean_absolute_error: 1.5047 - val_loss: 4.0859 - val_mean_squared_error: 4.0859 - val_mean_absolute_error: 1.5507\n",
      "Epoch 59/150\n",
      "10224/10224 [==============================] - 3s 282us/step - loss: 3.8209 - mean_squared_error: 3.8209 - mean_absolute_error: 1.5031 - val_loss: 4.1072 - val_mean_squared_error: 4.1072 - val_mean_absolute_error: 1.5542\n",
      "Epoch 60/150\n",
      "10224/10224 [==============================] - 3s 281us/step - loss: 3.8183 - mean_squared_error: 3.8183 - mean_absolute_error: 1.5070 - val_loss: 4.0940 - val_mean_squared_error: 4.0940 - val_mean_absolute_error: 1.5734\n",
      "Epoch 61/150\n",
      "10224/10224 [==============================] - 3s 282us/step - loss: 3.8213 - mean_squared_error: 3.8213 - mean_absolute_error: 1.5088 - val_loss: 4.1047 - val_mean_squared_error: 4.1047 - val_mean_absolute_error: 1.5367\n",
      "Epoch 62/150\n",
      "10224/10224 [==============================] - 3s 281us/step - loss: 3.8257 - mean_squared_error: 3.8257 - mean_absolute_error: 1.5118 - val_loss: 4.1043 - val_mean_squared_error: 4.1043 - val_mean_absolute_error: 1.5162\n",
      "Epoch 63/150\n",
      "10224/10224 [==============================] - 3s 281us/step - loss: 3.8313 - mean_squared_error: 3.8313 - mean_absolute_error: 1.5128 - val_loss: 4.1090 - val_mean_squared_error: 4.1090 - val_mean_absolute_error: 1.5447\n",
      "Epoch 64/150\n",
      "10224/10224 [==============================] - 3s 283us/step - loss: 3.8219 - mean_squared_error: 3.8219 - mean_absolute_error: 1.5069 - val_loss: 4.0841 - val_mean_squared_error: 4.0841 - val_mean_absolute_error: 1.5802\n",
      "Epoch 65/150\n",
      "10224/10224 [==============================] - 3s 281us/step - loss: 3.8191 - mean_squared_error: 3.8191 - mean_absolute_error: 1.5108 - val_loss: 4.1221 - val_mean_squared_error: 4.1221 - val_mean_absolute_error: 1.5456\n",
      "Epoch 66/150\n",
      "10224/10224 [==============================] - 3s 282us/step - loss: 3.8218 - mean_squared_error: 3.8218 - mean_absolute_error: 1.5025 - val_loss: 4.1023 - val_mean_squared_error: 4.1023 - val_mean_absolute_error: 1.6022\n",
      "Epoch 67/150\n",
      "10224/10224 [==============================] - 3s 280us/step - loss: 3.8207 - mean_squared_error: 3.8207 - mean_absolute_error: 1.5062 - val_loss: 4.1023 - val_mean_squared_error: 4.1023 - val_mean_absolute_error: 1.5618\n",
      "Epoch 68/150\n",
      "10224/10224 [==============================] - 3s 282us/step - loss: 3.8212 - mean_squared_error: 3.8212 - mean_absolute_error: 1.5064 - val_loss: 4.1279 - val_mean_squared_error: 4.1279 - val_mean_absolute_error: 1.5292\n",
      "Epoch 69/150\n"
     ]
    },
    {
     "name": "stdout",
     "output_type": "stream",
     "text": [
      "10224/10224 [==============================] - 3s 283us/step - loss: 3.8212 - mean_squared_error: 3.8212 - mean_absolute_error: 1.5105 - val_loss: 4.1010 - val_mean_squared_error: 4.1010 - val_mean_absolute_error: 1.5403\n",
      "Epoch 70/150\n",
      "10224/10224 [==============================] - 3s 282us/step - loss: 3.8246 - mean_squared_error: 3.8246 - mean_absolute_error: 1.5116 - val_loss: 4.1135 - val_mean_squared_error: 4.1135 - val_mean_absolute_error: 1.5687\n",
      "Epoch 71/150\n",
      "10224/10224 [==============================] - 3s 283us/step - loss: 3.8218 - mean_squared_error: 3.8218 - mean_absolute_error: 1.5072 - val_loss: 4.1220 - val_mean_squared_error: 4.1220 - val_mean_absolute_error: 1.5212\n",
      "Epoch 72/150\n",
      "10224/10224 [==============================] - 3s 282us/step - loss: 3.8107 - mean_squared_error: 3.8107 - mean_absolute_error: 1.5002 - val_loss: 4.0992 - val_mean_squared_error: 4.0992 - val_mean_absolute_error: 1.5431\n",
      "Epoch 73/150\n",
      "10224/10224 [==============================] - 3s 285us/step - loss: 3.8214 - mean_squared_error: 3.8214 - mean_absolute_error: 1.5058 - val_loss: 4.1108 - val_mean_squared_error: 4.1108 - val_mean_absolute_error: 1.5401\n",
      "Epoch 74/150\n",
      "10224/10224 [==============================] - 3s 281us/step - loss: 3.8193 - mean_squared_error: 3.8193 - mean_absolute_error: 1.5071 - val_loss: 4.0993 - val_mean_squared_error: 4.0993 - val_mean_absolute_error: 1.5234\n",
      "Epoch 75/150\n",
      "10224/10224 [==============================] - 3s 282us/step - loss: 3.8095 - mean_squared_error: 3.8095 - mean_absolute_error: 1.5021 - val_loss: 4.1010 - val_mean_squared_error: 4.1010 - val_mean_absolute_error: 1.5736\n",
      "Epoch 76/150\n",
      "10224/10224 [==============================] - 3s 280us/step - loss: 3.8111 - mean_squared_error: 3.8111 - mean_absolute_error: 1.5053 - val_loss: 4.1008 - val_mean_squared_error: 4.1008 - val_mean_absolute_error: 1.5494\n",
      "Epoch 77/150\n",
      "10224/10224 [==============================] - 3s 277us/step - loss: 3.8067 - mean_squared_error: 3.8067 - mean_absolute_error: 1.4945 - val_loss: 4.0899 - val_mean_squared_error: 4.0899 - val_mean_absolute_error: 1.5933\n",
      "Epoch 78/150\n",
      "10224/10224 [==============================] - 3s 277us/step - loss: 3.8132 - mean_squared_error: 3.8132 - mean_absolute_error: 1.5078 - val_loss: 4.1289 - val_mean_squared_error: 4.1289 - val_mean_absolute_error: 1.5280\n",
      "Epoch 79/150\n",
      "10224/10224 [==============================] - 3s 279us/step - loss: 3.8078 - mean_squared_error: 3.8078 - mean_absolute_error: 1.5026 - val_loss: 4.1086 - val_mean_squared_error: 4.1086 - val_mean_absolute_error: 1.5565\n",
      "Epoch 80/150\n",
      "10224/10224 [==============================] - 3s 278us/step - loss: 3.8120 - mean_squared_error: 3.8120 - mean_absolute_error: 1.5010 - val_loss: 4.1124 - val_mean_squared_error: 4.1124 - val_mean_absolute_error: 1.5597\n",
      "Epoch 81/150\n",
      "10224/10224 [==============================] - 3s 275us/step - loss: 3.8096 - mean_squared_error: 3.8096 - mean_absolute_error: 1.4988 - val_loss: 4.1008 - val_mean_squared_error: 4.1008 - val_mean_absolute_error: 1.5932\n",
      "Epoch 82/150\n",
      "10224/10224 [==============================] - 3s 277us/step - loss: 3.8167 - mean_squared_error: 3.8167 - mean_absolute_error: 1.5095 - val_loss: 4.1135 - val_mean_squared_error: 4.1135 - val_mean_absolute_error: 1.5565\n",
      "Epoch 83/150\n",
      "10224/10224 [==============================] - 3s 276us/step - loss: 3.8158 - mean_squared_error: 3.8158 - mean_absolute_error: 1.5052 - val_loss: 4.1160 - val_mean_squared_error: 4.1160 - val_mean_absolute_error: 1.5462\n",
      "Epoch 84/150\n",
      "10224/10224 [==============================] - 3s 279us/step - loss: 3.8165 - mean_squared_error: 3.8165 - mean_absolute_error: 1.5023 - val_loss: 4.0978 - val_mean_squared_error: 4.0978 - val_mean_absolute_error: 1.5593\n",
      "Epoch 85/150\n",
      "10224/10224 [==============================] - 3s 277us/step - loss: 3.8159 - mean_squared_error: 3.8159 - mean_absolute_error: 1.5041 - val_loss: 4.1217 - val_mean_squared_error: 4.1217 - val_mean_absolute_error: 1.5446\n",
      "Epoch 86/150\n",
      "10224/10224 [==============================] - 3s 277us/step - loss: 3.8121 - mean_squared_error: 3.8121 - mean_absolute_error: 1.5020 - val_loss: 4.0950 - val_mean_squared_error: 4.0950 - val_mean_absolute_error: 1.6001\n",
      "Epoch 87/150\n",
      "10224/10224 [==============================] - 3s 276us/step - loss: 3.8037 - mean_squared_error: 3.8037 - mean_absolute_error: 1.5003 - val_loss: 4.1092 - val_mean_squared_error: 4.1092 - val_mean_absolute_error: 1.5545\n",
      "Epoch 88/150\n",
      "10224/10224 [==============================] - 3s 277us/step - loss: 3.8161 - mean_squared_error: 3.8161 - mean_absolute_error: 1.5043 - val_loss: 4.1055 - val_mean_squared_error: 4.1055 - val_mean_absolute_error: 1.5590\n",
      "Epoch 89/150\n",
      "10224/10224 [==============================] - 3s 278us/step - loss: 3.8129 - mean_squared_error: 3.8129 - mean_absolute_error: 1.5039 - val_loss: 4.1039 - val_mean_squared_error: 4.1039 - val_mean_absolute_error: 1.5752\n",
      "Epoch 90/150\n",
      "10224/10224 [==============================] - 3s 276us/step - loss: 3.8135 - mean_squared_error: 3.8135 - mean_absolute_error: 1.5064 - val_loss: 4.1130 - val_mean_squared_error: 4.1130 - val_mean_absolute_error: 1.5373\n",
      "Epoch 91/150\n",
      "10224/10224 [==============================] - 3s 272us/step - loss: 3.8079 - mean_squared_error: 3.8079 - mean_absolute_error: 1.4951 - val_loss: 4.0958 - val_mean_squared_error: 4.0958 - val_mean_absolute_error: 1.5938\n",
      "Epoch 92/150\n",
      "10224/10224 [==============================] - 3s 277us/step - loss: 3.8119 - mean_squared_error: 3.8119 - mean_absolute_error: 1.5084 - val_loss: 4.1080 - val_mean_squared_error: 4.1080 - val_mean_absolute_error: 1.5648\n",
      "Epoch 93/150\n",
      "10224/10224 [==============================] - 3s 277us/step - loss: 3.8075 - mean_squared_error: 3.8075 - mean_absolute_error: 1.5029 - val_loss: 4.1233 - val_mean_squared_error: 4.1233 - val_mean_absolute_error: 1.5406\n",
      "Epoch 94/150\n",
      "10224/10224 [==============================] - 3s 276us/step - loss: 3.8119 - mean_squared_error: 3.8119 - mean_absolute_error: 1.4976 - val_loss: 4.1004 - val_mean_squared_error: 4.1004 - val_mean_absolute_error: 1.5465\n",
      "Epoch 95/150\n",
      "10224/10224 [==============================] - 3s 276us/step - loss: 3.8069 - mean_squared_error: 3.8069 - mean_absolute_error: 1.5044 - val_loss: 4.1067 - val_mean_squared_error: 4.1067 - val_mean_absolute_error: 1.5654\n",
      "Epoch 96/150\n",
      "10224/10224 [==============================] - 3s 276us/step - loss: 3.8106 - mean_squared_error: 3.8106 - mean_absolute_error: 1.5106 - val_loss: 4.1665 - val_mean_squared_error: 4.1665 - val_mean_absolute_error: 1.5162\n",
      "Epoch 97/150\n",
      "10224/10224 [==============================] - 3s 276us/step - loss: 3.8145 - mean_squared_error: 3.8145 - mean_absolute_error: 1.5012 - val_loss: 4.0999 - val_mean_squared_error: 4.0999 - val_mean_absolute_error: 1.5717\n",
      "Epoch 98/150\n",
      "10224/10224 [==============================] - 3s 278us/step - loss: 3.7997 - mean_squared_error: 3.7997 - mean_absolute_error: 1.4996 - val_loss: 4.1189 - val_mean_squared_error: 4.1189 - val_mean_absolute_error: 1.5463\n",
      "Epoch 99/150\n",
      "10224/10224 [==============================] - 3s 277us/step - loss: 3.8164 - mean_squared_error: 3.8164 - mean_absolute_error: 1.4994 - val_loss: 4.1095 - val_mean_squared_error: 4.1095 - val_mean_absolute_error: 1.5559\n",
      "Epoch 100/150\n",
      "10224/10224 [==============================] - 3s 278us/step - loss: 3.7978 - mean_squared_error: 3.7978 - mean_absolute_error: 1.4990 - val_loss: 4.1085 - val_mean_squared_error: 4.1085 - val_mean_absolute_error: 1.5562\n",
      "Epoch 101/150\n",
      "10224/10224 [==============================] - 3s 277us/step - loss: 3.8121 - mean_squared_error: 3.8121 - mean_absolute_error: 1.4983 - val_loss: 4.0858 - val_mean_squared_error: 4.0858 - val_mean_absolute_error: 1.5807\n",
      "Epoch 102/150\n",
      "10224/10224 [==============================] - 3s 278us/step - loss: 3.8012 - mean_squared_error: 3.8012 - mean_absolute_error: 1.5009 - val_loss: 4.0967 - val_mean_squared_error: 4.0967 - val_mean_absolute_error: 1.5729\n",
      "Epoch 103/150\n",
      "10224/10224 [==============================] - 3s 278us/step - loss: 3.8124 - mean_squared_error: 3.8124 - mean_absolute_error: 1.5054 - val_loss: 4.1180 - val_mean_squared_error: 4.1180 - val_mean_absolute_error: 1.5466\n",
      "Epoch 104/150\n"
     ]
    },
    {
     "name": "stdout",
     "output_type": "stream",
     "text": [
      "10224/10224 [==============================] - 3s 278us/step - loss: 3.8048 - mean_squared_error: 3.8048 - mean_absolute_error: 1.4988 - val_loss: 4.1066 - val_mean_squared_error: 4.1066 - val_mean_absolute_error: 1.5377\n",
      "Epoch 105/150\n",
      "10224/10224 [==============================] - 3s 278us/step - loss: 3.8079 - mean_squared_error: 3.8079 - mean_absolute_error: 1.4985 - val_loss: 4.0993 - val_mean_squared_error: 4.0993 - val_mean_absolute_error: 1.5828\n",
      "Epoch 106/150\n",
      "10224/10224 [==============================] - 3s 279us/step - loss: 3.8028 - mean_squared_error: 3.8028 - mean_absolute_error: 1.5044 - val_loss: 4.1024 - val_mean_squared_error: 4.1024 - val_mean_absolute_error: 1.5764\n",
      "Epoch 107/150\n",
      "10224/10224 [==============================] - 3s 280us/step - loss: 3.8049 - mean_squared_error: 3.8049 - mean_absolute_error: 1.5064 - val_loss: 4.1374 - val_mean_squared_error: 4.1374 - val_mean_absolute_error: 1.5273\n",
      "Epoch 108/150\n",
      "10224/10224 [==============================] - 3s 277us/step - loss: 3.8086 - mean_squared_error: 3.8086 - mean_absolute_error: 1.5007 - val_loss: 4.1348 - val_mean_squared_error: 4.1348 - val_mean_absolute_error: 1.5157\n",
      "Epoch 109/150\n",
      "10224/10224 [==============================] - 3s 282us/step - loss: 3.8068 - mean_squared_error: 3.8068 - mean_absolute_error: 1.5000 - val_loss: 4.1196 - val_mean_squared_error: 4.1196 - val_mean_absolute_error: 1.5565\n",
      "Epoch 110/150\n",
      "10224/10224 [==============================] - 3s 279us/step - loss: 3.8125 - mean_squared_error: 3.8125 - mean_absolute_error: 1.5005 - val_loss: 4.1005 - val_mean_squared_error: 4.1005 - val_mean_absolute_error: 1.5479\n",
      "Epoch 111/150\n",
      "10224/10224 [==============================] - 3s 278us/step - loss: 3.8079 - mean_squared_error: 3.8079 - mean_absolute_error: 1.5005 - val_loss: 4.1149 - val_mean_squared_error: 4.1149 - val_mean_absolute_error: 1.5657\n",
      "Epoch 112/150\n",
      "10224/10224 [==============================] - 3s 279us/step - loss: 3.8026 - mean_squared_error: 3.8026 - mean_absolute_error: 1.5044 - val_loss: 4.0908 - val_mean_squared_error: 4.0908 - val_mean_absolute_error: 1.5878\n",
      "Epoch 113/150\n",
      "10224/10224 [==============================] - 3s 280us/step - loss: 3.8104 - mean_squared_error: 3.8104 - mean_absolute_error: 1.5057 - val_loss: 4.1335 - val_mean_squared_error: 4.1335 - val_mean_absolute_error: 1.5465\n",
      "Epoch 114/150\n",
      "10224/10224 [==============================] - 3s 280us/step - loss: 3.8175 - mean_squared_error: 3.8175 - mean_absolute_error: 1.5039 - val_loss: 4.1142 - val_mean_squared_error: 4.1142 - val_mean_absolute_error: 1.5613\n",
      "Epoch 115/150\n",
      "10224/10224 [==============================] - 3s 280us/step - loss: 3.8067 - mean_squared_error: 3.8067 - mean_absolute_error: 1.4999 - val_loss: 4.1076 - val_mean_squared_error: 4.1076 - val_mean_absolute_error: 1.5391\n",
      "Epoch 116/150\n",
      "10224/10224 [==============================] - 3s 278us/step - loss: 3.8020 - mean_squared_error: 3.8020 - mean_absolute_error: 1.4987 - val_loss: 4.1143 - val_mean_squared_error: 4.1143 - val_mean_absolute_error: 1.5543\n",
      "Epoch 117/150\n",
      "10224/10224 [==============================] - 3s 278us/step - loss: 3.8138 - mean_squared_error: 3.8138 - mean_absolute_error: 1.5057 - val_loss: 4.1175 - val_mean_squared_error: 4.1175 - val_mean_absolute_error: 1.5464\n",
      "Epoch 118/150\n",
      "10224/10224 [==============================] - 3s 276us/step - loss: 3.8004 - mean_squared_error: 3.8004 - mean_absolute_error: 1.5003 - val_loss: 4.1572 - val_mean_squared_error: 4.1572 - val_mean_absolute_error: 1.5152\n",
      "Epoch 119/150\n",
      "10224/10224 [==============================] - 3s 278us/step - loss: 3.8032 - mean_squared_error: 3.8032 - mean_absolute_error: 1.4982 - val_loss: 4.1121 - val_mean_squared_error: 4.1121 - val_mean_absolute_error: 1.5389\n",
      "Epoch 120/150\n",
      "10224/10224 [==============================] - 3s 277us/step - loss: 3.8050 - mean_squared_error: 3.8050 - mean_absolute_error: 1.5040 - val_loss: 4.1251 - val_mean_squared_error: 4.1251 - val_mean_absolute_error: 1.5397\n",
      "Epoch 121/150\n",
      "10224/10224 [==============================] - 3s 277us/step - loss: 3.8045 - mean_squared_error: 3.8045 - mean_absolute_error: 1.4956 - val_loss: 4.1320 - val_mean_squared_error: 4.1320 - val_mean_absolute_error: 1.5298\n",
      "Epoch 122/150\n",
      "10224/10224 [==============================] - 3s 278us/step - loss: 3.8057 - mean_squared_error: 3.8057 - mean_absolute_error: 1.4955 - val_loss: 4.0999 - val_mean_squared_error: 4.0999 - val_mean_absolute_error: 1.5786\n",
      "Epoch 123/150\n",
      "10224/10224 [==============================] - 3s 279us/step - loss: 3.8091 - mean_squared_error: 3.8091 - mean_absolute_error: 1.5052 - val_loss: 4.1080 - val_mean_squared_error: 4.1080 - val_mean_absolute_error: 1.5526\n",
      "Epoch 124/150\n",
      "10224/10224 [==============================] - 3s 277us/step - loss: 3.8031 - mean_squared_error: 3.8031 - mean_absolute_error: 1.4989 - val_loss: 4.1042 - val_mean_squared_error: 4.1042 - val_mean_absolute_error: 1.5688\n",
      "Epoch 125/150\n",
      "10224/10224 [==============================] - 3s 276us/step - loss: 3.8073 - mean_squared_error: 3.8073 - mean_absolute_error: 1.4981 - val_loss: 4.1244 - val_mean_squared_error: 4.1244 - val_mean_absolute_error: 1.5479\n",
      "Epoch 126/150\n",
      "10224/10224 [==============================] - 3s 279us/step - loss: 3.8045 - mean_squared_error: 3.8045 - mean_absolute_error: 1.5029 - val_loss: 4.1326 - val_mean_squared_error: 4.1326 - val_mean_absolute_error: 1.5345\n",
      "Epoch 127/150\n",
      "10224/10224 [==============================] - 3s 278us/step - loss: 3.7991 - mean_squared_error: 3.7991 - mean_absolute_error: 1.4967 - val_loss: 4.1047 - val_mean_squared_error: 4.1047 - val_mean_absolute_error: 1.5655\n",
      "Epoch 128/150\n",
      "10224/10224 [==============================] - 3s 278us/step - loss: 3.8005 - mean_squared_error: 3.8005 - mean_absolute_error: 1.4989 - val_loss: 4.1153 - val_mean_squared_error: 4.1153 - val_mean_absolute_error: 1.5508\n",
      "Epoch 129/150\n",
      "10224/10224 [==============================] - 3s 278us/step - loss: 3.8016 - mean_squared_error: 3.8016 - mean_absolute_error: 1.5006 - val_loss: 4.1130 - val_mean_squared_error: 4.1130 - val_mean_absolute_error: 1.5574\n",
      "Epoch 130/150\n",
      "10224/10224 [==============================] - 3s 278us/step - loss: 3.8081 - mean_squared_error: 3.8081 - mean_absolute_error: 1.4986 - val_loss: 4.1019 - val_mean_squared_error: 4.1019 - val_mean_absolute_error: 1.5634\n",
      "Epoch 131/150\n",
      "10224/10224 [==============================] - 3s 277us/step - loss: 3.8057 - mean_squared_error: 3.8057 - mean_absolute_error: 1.5035 - val_loss: 4.1143 - val_mean_squared_error: 4.1143 - val_mean_absolute_error: 1.5472\n",
      "Epoch 132/150\n",
      "10224/10224 [==============================] - 3s 278us/step - loss: 3.8029 - mean_squared_error: 3.8029 - mean_absolute_error: 1.4916 - val_loss: 4.0983 - val_mean_squared_error: 4.0983 - val_mean_absolute_error: 1.5570\n",
      "Epoch 133/150\n",
      "10224/10224 [==============================] - 3s 278us/step - loss: 3.8059 - mean_squared_error: 3.8059 - mean_absolute_error: 1.5045 - val_loss: 4.1056 - val_mean_squared_error: 4.1056 - val_mean_absolute_error: 1.5692\n",
      "Epoch 134/150\n",
      "10224/10224 [==============================] - 3s 276us/step - loss: 3.7979 - mean_squared_error: 3.7979 - mean_absolute_error: 1.4991 - val_loss: 4.1119 - val_mean_squared_error: 4.1119 - val_mean_absolute_error: 1.5552\n",
      "Epoch 135/150\n",
      "10224/10224 [==============================] - 3s 278us/step - loss: 3.7999 - mean_squared_error: 3.7999 - mean_absolute_error: 1.4979 - val_loss: 4.1138 - val_mean_squared_error: 4.1138 - val_mean_absolute_error: 1.5543\n",
      "Epoch 136/150\n",
      "10224/10224 [==============================] - 3s 278us/step - loss: 3.8053 - mean_squared_error: 3.8053 - mean_absolute_error: 1.5014 - val_loss: 4.0985 - val_mean_squared_error: 4.0985 - val_mean_absolute_error: 1.5624\n",
      "Epoch 137/150\n",
      "10224/10224 [==============================] - 3s 277us/step - loss: 3.8072 - mean_squared_error: 3.8072 - mean_absolute_error: 1.5003 - val_loss: 4.1176 - val_mean_squared_error: 4.1176 - val_mean_absolute_error: 1.5630\n",
      "Epoch 138/150\n",
      "10224/10224 [==============================] - 3s 277us/step - loss: 3.8003 - mean_squared_error: 3.8003 - mean_absolute_error: 1.4986 - val_loss: 4.1187 - val_mean_squared_error: 4.1187 - val_mean_absolute_error: 1.5560\n"
     ]
    },
    {
     "name": "stdout",
     "output_type": "stream",
     "text": [
      "Epoch 139/150\n",
      "10224/10224 [==============================] - 3s 279us/step - loss: 3.8048 - mean_squared_error: 3.8048 - mean_absolute_error: 1.5030 - val_loss: 4.1259 - val_mean_squared_error: 4.1259 - val_mean_absolute_error: 1.5432\n",
      "Epoch 140/150\n",
      "10224/10224 [==============================] - 3s 278us/step - loss: 3.8029 - mean_squared_error: 3.8029 - mean_absolute_error: 1.5003 - val_loss: 4.1260 - val_mean_squared_error: 4.1260 - val_mean_absolute_error: 1.5386\n",
      "Epoch 141/150\n",
      "10224/10224 [==============================] - 3s 278us/step - loss: 3.8119 - mean_squared_error: 3.8119 - mean_absolute_error: 1.5024 - val_loss: 4.1106 - val_mean_squared_error: 4.1106 - val_mean_absolute_error: 1.5642\n",
      "Epoch 142/150\n",
      "10224/10224 [==============================] - 3s 278us/step - loss: 3.7986 - mean_squared_error: 3.7986 - mean_absolute_error: 1.4981 - val_loss: 4.1177 - val_mean_squared_error: 4.1177 - val_mean_absolute_error: 1.5891\n",
      "Epoch 143/150\n",
      "10224/10224 [==============================] - 3s 278us/step - loss: 3.7965 - mean_squared_error: 3.7965 - mean_absolute_error: 1.5020 - val_loss: 4.1422 - val_mean_squared_error: 4.1422 - val_mean_absolute_error: 1.5365\n",
      "Epoch 144/150\n",
      "10224/10224 [==============================] - 3s 277us/step - loss: 3.8015 - mean_squared_error: 3.8015 - mean_absolute_error: 1.4980 - val_loss: 4.1023 - val_mean_squared_error: 4.1023 - val_mean_absolute_error: 1.5688\n",
      "Epoch 145/150\n",
      "10224/10224 [==============================] - 3s 277us/step - loss: 3.7985 - mean_squared_error: 3.7985 - mean_absolute_error: 1.5023 - val_loss: 4.1236 - val_mean_squared_error: 4.1236 - val_mean_absolute_error: 1.5477\n",
      "Epoch 146/150\n",
      "10224/10224 [==============================] - 3s 279us/step - loss: 3.7999 - mean_squared_error: 3.7999 - mean_absolute_error: 1.5010 - val_loss: 4.1105 - val_mean_squared_error: 4.1105 - val_mean_absolute_error: 1.5674\n",
      "Epoch 147/150\n",
      "10224/10224 [==============================] - 3s 278us/step - loss: 3.8010 - mean_squared_error: 3.8010 - mean_absolute_error: 1.5027 - val_loss: 4.1128 - val_mean_squared_error: 4.1128 - val_mean_absolute_error: 1.5650\n",
      "Epoch 148/150\n",
      "10224/10224 [==============================] - 3s 278us/step - loss: 3.7893 - mean_squared_error: 3.7893 - mean_absolute_error: 1.4938 - val_loss: 4.1364 - val_mean_squared_error: 4.1364 - val_mean_absolute_error: 1.5472\n",
      "Epoch 149/150\n",
      "10224/10224 [==============================] - 3s 277us/step - loss: 3.7957 - mean_squared_error: 3.7957 - mean_absolute_error: 1.4999 - val_loss: 4.1143 - val_mean_squared_error: 4.1143 - val_mean_absolute_error: 1.5374\n",
      "Epoch 150/150\n",
      "10224/10224 [==============================] - 3s 278us/step - loss: 3.8030 - mean_squared_error: 3.8030 - mean_absolute_error: 1.4958 - val_loss: 4.1196 - val_mean_squared_error: 4.1196 - val_mean_absolute_error: 1.5599\n",
      "EndTime : 2019-12-05 16:06:18.232000\n"
     ]
    }
   ],
   "source": [
    "optim = Adam(lr=0.0002)\n",
    "\n",
    "model.compile(loss='mse',\n",
    "\t\t      optimizer=optim,\n",
    "\t\t\t  metrics=['mse','mae'])\n",
    "\n",
    "StartTime8 = datetime.now()\n",
    "print(\"StartTime :\", StartTime8)\n",
    "with K.tf.device('/GPU:0'):\n",
    "    model_train = model.fit([train_X_cell, train_X_drug], train_y, validation_data=([test_X_cell, test_X_drug], test_y),\n",
    "                            batch_size=batch_size,epochs=training_epochs,verbose=1)\n",
    "\n",
    "EndTime8 = datetime.now()\n",
    "print(\"EndTime :\", EndTime8)"
   ]
  },
  {
   "cell_type": "code",
   "execution_count": 26,
   "metadata": {},
   "outputs": [],
   "source": [
    "import json\n",
    "from keras.models import model_from_json, load_model\n",
    "workdir = \"E://Ronny_TF//DrugResponsivenessGuidelines//Experiments//191205_rerun//ResNet//Result//EDC-11K//CNN\"\n",
    "# Option 1: Save Weights + Architecture\n",
    "model.save_weights(workdir + '//EDC11K_CNN_model_fix_v3.h5')\n",
    "with open(workdir + '//EDC11K_CNN_model_architecture_fix_v3.json', 'w') as f:\n",
    "    f.write(model.to_json())\n",
    "# Option 1: Load Weights + Architecture\n",
    "# with open('model_architecture.json', 'r') as f:\n",
    "#     new_model_1 = model_from_json(f.read())\n",
    "# new_model_1.load_weights('model_weights.h5')"
   ]
  },
  {
   "cell_type": "code",
   "execution_count": 27,
   "metadata": {},
   "outputs": [],
   "source": [
    "# Option 2: Save/Load the Entire Model\n",
    "from keras.models import load_model\n",
    "\n",
    "# Creates a HDF5 file 'my_model.h5'\n",
    "model.save(workdir + '//EDC11K_CNN_model_fix_2080ti_v3.h5')\n",
    "\n",
    "# Deletes the existing model\n",
    "# del model  \n",
    "\n",
    "# Returns a compiled model identical to the previous one\n",
    "# model = load_model('my_model.h5')"
   ]
  },
  {
   "cell_type": "code",
   "execution_count": 28,
   "metadata": {},
   "outputs": [
    {
     "name": "stdout",
     "output_type": "stream",
     "text": [
      "1136/1136 [==============================] - 0s 238us/step\n"
     ]
    }
   ],
   "source": [
    "test_eval = model.evaluate([test_X_cell,test_X_drug], test_label_array, verbose=1)"
   ]
  },
  {
   "cell_type": "code",
   "execution_count": 29,
   "metadata": {},
   "outputs": [
    {
     "data": {
      "text/plain": [
       "[4.119623123759955, 4.119623123759955, 1.5599417971893095]"
      ]
     },
     "execution_count": 29,
     "metadata": {},
     "output_type": "execute_result"
    }
   ],
   "source": [
    "test_eval"
   ]
  },
  {
   "cell_type": "code",
   "execution_count": 30,
   "metadata": {},
   "outputs": [],
   "source": [
    "accuracy = model_train.history['mean_squared_error']\n",
    "val_accuracy = model_train.history['val_mean_squared_error']\n",
    "loss = model_train.history['loss']\n",
    "val_loss = model_train.history['val_loss']\n",
    "\n",
    "np_acc = np.array(accuracy)\n",
    "np_val_acc = np.array(val_accuracy)\n",
    "np_loss = np.array(loss)\n",
    "np_val_loss = np.array(val_loss)"
   ]
  },
  {
   "cell_type": "code",
   "execution_count": 31,
   "metadata": {},
   "outputs": [],
   "source": [
    "np.savetxt(\"EDC11K_CNN_acc_cls3_fix_2080ti_v3.csv\", np_acc, delimiter=\",\")\n",
    "np.savetxt(\"EDC11K_CNN_val_acc_cls3_fix_2080ti_v3.csv\", np_val_acc, delimiter=\",\")\n",
    "np.savetxt(\"EDC11K_CNN_loss_cls3_fix_2080ti_v3.csv\", np_loss, delimiter=\",\")\n",
    "np.savetxt(\"EDC11K_CNN_val_loss_cls3_fix_2080ti_v3.csv\", np_val_loss, delimiter=\",\")"
   ]
  },
  {
   "cell_type": "code",
   "execution_count": 32,
   "metadata": {},
   "outputs": [],
   "source": [
    "import matplotlib\n",
    "from matplotlib import pyplot as plt"
   ]
  },
  {
   "cell_type": "code",
   "execution_count": 33,
   "metadata": {},
   "outputs": [
    {
     "data": {
      "image/png": "[encoded data removed]",
      "text/plain": [
       "<Figure size 432x288 with 1 Axes>"
      ]
     },
     "metadata": {
      "needs_background": "light"
     },
     "output_type": "display_data"
    },
    {
     "data": {
      "image/png": "[encoded data removed]",
      "text/plain": [
       "<Figure size 432x288 with 1 Axes>"
      ]
     },
     "metadata": {
      "needs_background": "light"
     },
     "output_type": "display_data"
    }
   ],
   "source": [
    "# accuracy = model_train.history['acc']\n",
    "# val_accuracy = model_train.history['val_acc']\n",
    "# loss = model_train.history['loss']\n",
    "# val_loss = model_train.history['val_loss']\n",
    "epochs = range(len(accuracy))\n",
    "plt.plot(epochs, accuracy, 'bo', label='Training mse',c='red')\n",
    "plt.plot(epochs, val_accuracy, 'b', label='Validation mse',c='red')\n",
    "plt.title('Training and validation mse')\n",
    "plt.legend()\n",
    "plt.figure()\n",
    "plt.plot(epochs, loss, 'bo', label='Training loss',c='red')\n",
    "plt.plot(epochs, val_loss, 'b', label='Validation loss',c='red')\n",
    "plt.title('Training and validation loss')\n",
    "plt.legend()\n",
    "plt.show()"
   ]
  },
  {
   "cell_type": "code",
   "execution_count": 34,
   "metadata": {},
   "outputs": [],
   "source": [
    "predicted_classes = model.predict([test_X_cell,test_X_drug])"
   ]
  },
  {
   "cell_type": "code",
   "execution_count": 35,
   "metadata": {},
   "outputs": [],
   "source": [
    "predicted_value = predicted_classes"
   ]
  },
  {
   "cell_type": "code",
   "execution_count": 36,
   "metadata": {},
   "outputs": [],
   "source": [
    "a = pd.DataFrame(predicted_value)\n",
    "b = pd.DataFrame(test_label_array)\n",
    "c = pd.concat([a,b], axis=1)\n",
    "c.columns=[\"Predicted\",\"Test\"]"
   ]
  },
  {
   "cell_type": "code",
   "execution_count": 37,
   "metadata": {},
   "outputs": [],
   "source": [
    "c.to_csv(workdir + '//EDC11K_CNN_Predicted_test_val_for_plot.csv')"
   ]
  },
  {
   "cell_type": "code",
   "execution_count": 38,
   "metadata": {},
   "outputs": [
    {
     "data": {
      "text/html": [
       "<div>\n",
       "<style scoped>\n",
       "    .dataframe tbody tr th:only-of-type {\n",
       "        vertical-align: middle;\n",
       "    }\n",
       "\n",
       "    .dataframe tbody tr th {\n",
       "        vertical-align: top;\n",
       "    }\n",
       "\n",
       "    .dataframe thead th {\n",
       "        text-align: right;\n",
       "    }\n",
       "</style>\n",
       "<table border=\"1\" class=\"dataframe\">\n",
       "  <thead>\n",
       "    <tr style=\"text-align: right;\">\n",
       "      <th></th>\n",
       "      <th>Predicted</th>\n",
       "      <th>Test</th>\n",
       "    </tr>\n",
       "  </thead>\n",
       "  <tbody>\n",
       "    <tr>\n",
       "      <th>0</th>\n",
       "      <td>0.943165</td>\n",
       "      <td>1.393330</td>\n",
       "    </tr>\n",
       "    <tr>\n",
       "      <th>1</th>\n",
       "      <td>1.296945</td>\n",
       "      <td>2.079442</td>\n",
       "    </tr>\n",
       "    <tr>\n",
       "      <th>2</th>\n",
       "      <td>0.121435</td>\n",
       "      <td>0.308173</td>\n",
       "    </tr>\n",
       "    <tr>\n",
       "      <th>3</th>\n",
       "      <td>0.796914</td>\n",
       "      <td>2.079442</td>\n",
       "    </tr>\n",
       "    <tr>\n",
       "      <th>4</th>\n",
       "      <td>0.533469</td>\n",
       "      <td>2.079442</td>\n",
       "    </tr>\n",
       "    <tr>\n",
       "      <th>5</th>\n",
       "      <td>1.155905</td>\n",
       "      <td>1.270682</td>\n",
       "    </tr>\n",
       "    <tr>\n",
       "      <th>6</th>\n",
       "      <td>1.238859</td>\n",
       "      <td>2.079442</td>\n",
       "    </tr>\n",
       "    <tr>\n",
       "      <th>7</th>\n",
       "      <td>1.276739</td>\n",
       "      <td>1.674144</td>\n",
       "    </tr>\n",
       "    <tr>\n",
       "      <th>8</th>\n",
       "      <td>0.927200</td>\n",
       "      <td>2.079442</td>\n",
       "    </tr>\n",
       "    <tr>\n",
       "      <th>9</th>\n",
       "      <td>1.040434</td>\n",
       "      <td>2.079442</td>\n",
       "    </tr>\n",
       "    <tr>\n",
       "      <th>10</th>\n",
       "      <td>0.899024</td>\n",
       "      <td>2.079442</td>\n",
       "    </tr>\n",
       "    <tr>\n",
       "      <th>11</th>\n",
       "      <td>1.205441</td>\n",
       "      <td>-1.784149</td>\n",
       "    </tr>\n",
       "    <tr>\n",
       "      <th>12</th>\n",
       "      <td>0.658731</td>\n",
       "      <td>0.455815</td>\n",
       "    </tr>\n",
       "    <tr>\n",
       "      <th>13</th>\n",
       "      <td>1.305800</td>\n",
       "      <td>2.079442</td>\n",
       "    </tr>\n",
       "    <tr>\n",
       "      <th>14</th>\n",
       "      <td>1.440209</td>\n",
       "      <td>2.079442</td>\n",
       "    </tr>\n",
       "    <tr>\n",
       "      <th>15</th>\n",
       "      <td>0.886465</td>\n",
       "      <td>2.079442</td>\n",
       "    </tr>\n",
       "    <tr>\n",
       "      <th>16</th>\n",
       "      <td>0.573672</td>\n",
       "      <td>0.752405</td>\n",
       "    </tr>\n",
       "    <tr>\n",
       "      <th>17</th>\n",
       "      <td>1.190625</td>\n",
       "      <td>2.079442</td>\n",
       "    </tr>\n",
       "    <tr>\n",
       "      <th>18</th>\n",
       "      <td>0.540230</td>\n",
       "      <td>-0.029018</td>\n",
       "    </tr>\n",
       "    <tr>\n",
       "      <th>19</th>\n",
       "      <td>1.024961</td>\n",
       "      <td>1.413085</td>\n",
       "    </tr>\n",
       "    <tr>\n",
       "      <th>20</th>\n",
       "      <td>0.937347</td>\n",
       "      <td>1.228590</td>\n",
       "    </tr>\n",
       "    <tr>\n",
       "      <th>21</th>\n",
       "      <td>0.473143</td>\n",
       "      <td>2.079442</td>\n",
       "    </tr>\n",
       "    <tr>\n",
       "      <th>22</th>\n",
       "      <td>0.757102</td>\n",
       "      <td>2.079442</td>\n",
       "    </tr>\n",
       "    <tr>\n",
       "      <th>23</th>\n",
       "      <td>0.821012</td>\n",
       "      <td>2.079442</td>\n",
       "    </tr>\n",
       "    <tr>\n",
       "      <th>24</th>\n",
       "      <td>0.738145</td>\n",
       "      <td>-2.456043</td>\n",
       "    </tr>\n",
       "    <tr>\n",
       "      <th>25</th>\n",
       "      <td>0.949391</td>\n",
       "      <td>2.079442</td>\n",
       "    </tr>\n",
       "    <tr>\n",
       "      <th>26</th>\n",
       "      <td>1.024961</td>\n",
       "      <td>1.799557</td>\n",
       "    </tr>\n",
       "    <tr>\n",
       "      <th>27</th>\n",
       "      <td>0.927295</td>\n",
       "      <td>2.079442</td>\n",
       "    </tr>\n",
       "    <tr>\n",
       "      <th>28</th>\n",
       "      <td>0.723527</td>\n",
       "      <td>-1.982132</td>\n",
       "    </tr>\n",
       "    <tr>\n",
       "      <th>29</th>\n",
       "      <td>0.017127</td>\n",
       "      <td>-3.715987</td>\n",
       "    </tr>\n",
       "    <tr>\n",
       "      <th>...</th>\n",
       "      <td>...</td>\n",
       "      <td>...</td>\n",
       "    </tr>\n",
       "    <tr>\n",
       "      <th>1106</th>\n",
       "      <td>1.013047</td>\n",
       "      <td>2.079442</td>\n",
       "    </tr>\n",
       "    <tr>\n",
       "      <th>1107</th>\n",
       "      <td>0.288272</td>\n",
       "      <td>1.224780</td>\n",
       "    </tr>\n",
       "    <tr>\n",
       "      <th>1108</th>\n",
       "      <td>1.098015</td>\n",
       "      <td>2.079442</td>\n",
       "    </tr>\n",
       "    <tr>\n",
       "      <th>1109</th>\n",
       "      <td>0.269409</td>\n",
       "      <td>2.079442</td>\n",
       "    </tr>\n",
       "    <tr>\n",
       "      <th>1110</th>\n",
       "      <td>0.104033</td>\n",
       "      <td>-3.079947</td>\n",
       "    </tr>\n",
       "    <tr>\n",
       "      <th>1111</th>\n",
       "      <td>0.119674</td>\n",
       "      <td>2.079442</td>\n",
       "    </tr>\n",
       "    <tr>\n",
       "      <th>1112</th>\n",
       "      <td>0.757102</td>\n",
       "      <td>2.079442</td>\n",
       "    </tr>\n",
       "    <tr>\n",
       "      <th>1113</th>\n",
       "      <td>1.159247</td>\n",
       "      <td>2.079442</td>\n",
       "    </tr>\n",
       "    <tr>\n",
       "      <th>1114</th>\n",
       "      <td>0.478321</td>\n",
       "      <td>2.079442</td>\n",
       "    </tr>\n",
       "    <tr>\n",
       "      <th>1115</th>\n",
       "      <td>0.790776</td>\n",
       "      <td>2.079442</td>\n",
       "    </tr>\n",
       "    <tr>\n",
       "      <th>1116</th>\n",
       "      <td>0.908001</td>\n",
       "      <td>2.079442</td>\n",
       "    </tr>\n",
       "    <tr>\n",
       "      <th>1117</th>\n",
       "      <td>1.414658</td>\n",
       "      <td>2.079442</td>\n",
       "    </tr>\n",
       "    <tr>\n",
       "      <th>1118</th>\n",
       "      <td>0.952329</td>\n",
       "      <td>2.079442</td>\n",
       "    </tr>\n",
       "    <tr>\n",
       "      <th>1119</th>\n",
       "      <td>0.771098</td>\n",
       "      <td>0.713340</td>\n",
       "    </tr>\n",
       "    <tr>\n",
       "      <th>1120</th>\n",
       "      <td>1.026005</td>\n",
       "      <td>2.079442</td>\n",
       "    </tr>\n",
       "    <tr>\n",
       "      <th>1121</th>\n",
       "      <td>1.414641</td>\n",
       "      <td>2.079442</td>\n",
       "    </tr>\n",
       "    <tr>\n",
       "      <th>1122</th>\n",
       "      <td>1.158450</td>\n",
       "      <td>1.641961</td>\n",
       "    </tr>\n",
       "    <tr>\n",
       "      <th>1123</th>\n",
       "      <td>0.999527</td>\n",
       "      <td>2.079442</td>\n",
       "    </tr>\n",
       "    <tr>\n",
       "      <th>1124</th>\n",
       "      <td>0.826445</td>\n",
       "      <td>-2.171559</td>\n",
       "    </tr>\n",
       "    <tr>\n",
       "      <th>1125</th>\n",
       "      <td>0.963116</td>\n",
       "      <td>2.079442</td>\n",
       "    </tr>\n",
       "    <tr>\n",
       "      <th>1126</th>\n",
       "      <td>0.921219</td>\n",
       "      <td>2.079442</td>\n",
       "    </tr>\n",
       "    <tr>\n",
       "      <th>1127</th>\n",
       "      <td>0.794566</td>\n",
       "      <td>2.079442</td>\n",
       "    </tr>\n",
       "    <tr>\n",
       "      <th>1128</th>\n",
       "      <td>0.617182</td>\n",
       "      <td>2.079442</td>\n",
       "    </tr>\n",
       "    <tr>\n",
       "      <th>1129</th>\n",
       "      <td>0.448193</td>\n",
       "      <td>-3.241047</td>\n",
       "    </tr>\n",
       "    <tr>\n",
       "      <th>1130</th>\n",
       "      <td>1.556959</td>\n",
       "      <td>2.079442</td>\n",
       "    </tr>\n",
       "    <tr>\n",
       "      <th>1131</th>\n",
       "      <td>0.944733</td>\n",
       "      <td>2.079442</td>\n",
       "    </tr>\n",
       "    <tr>\n",
       "      <th>1132</th>\n",
       "      <td>1.180973</td>\n",
       "      <td>2.079442</td>\n",
       "    </tr>\n",
       "    <tr>\n",
       "      <th>1133</th>\n",
       "      <td>1.058169</td>\n",
       "      <td>0.282580</td>\n",
       "    </tr>\n",
       "    <tr>\n",
       "      <th>1134</th>\n",
       "      <td>0.327444</td>\n",
       "      <td>0.857019</td>\n",
       "    </tr>\n",
       "    <tr>\n",
       "      <th>1135</th>\n",
       "      <td>1.317841</td>\n",
       "      <td>2.079442</td>\n",
       "    </tr>\n",
       "  </tbody>\n",
       "</table>\n",
       "<p>1136 rows × 2 columns</p>\n",
       "</div>"
      ],
      "text/plain": [
       "      Predicted      Test\n",
       "0      0.943165  1.393330\n",
       "1      1.296945  2.079442\n",
       "2      0.121435  0.308173\n",
       "3      0.796914  2.079442\n",
       "4      0.533469  2.079442\n",
       "5      1.155905  1.270682\n",
       "6      1.238859  2.079442\n",
       "7      1.276739  1.674144\n",
       "8      0.927200  2.079442\n",
       "9      1.040434  2.079442\n",
       "10     0.899024  2.079442\n",
       "11     1.205441 -1.784149\n",
       "12     0.658731  0.455815\n",
       "13     1.305800  2.079442\n",
       "14     1.440209  2.079442\n",
       "15     0.886465  2.079442\n",
       "16     0.573672  0.752405\n",
       "17     1.190625  2.079442\n",
       "18     0.540230 -0.029018\n",
       "19     1.024961  1.413085\n",
       "20     0.937347  1.228590\n",
       "21     0.473143  2.079442\n",
       "22     0.757102  2.079442\n",
       "23     0.821012  2.079442\n",
       "24     0.738145 -2.456043\n",
       "25     0.949391  2.079442\n",
       "26     1.024961  1.799557\n",
       "27     0.927295  2.079442\n",
       "28     0.723527 -1.982132\n",
       "29     0.017127 -3.715987\n",
       "...         ...       ...\n",
       "1106   1.013047  2.079442\n",
       "1107   0.288272  1.224780\n",
       "1108   1.098015  2.079442\n",
       "1109   0.269409  2.079442\n",
       "1110   0.104033 -3.079947\n",
       "1111   0.119674  2.079442\n",
       "1112   0.757102  2.079442\n",
       "1113   1.159247  2.079442\n",
       "1114   0.478321  2.079442\n",
       "1115   0.790776  2.079442\n",
       "1116   0.908001  2.079442\n",
       "1117   1.414658  2.079442\n",
       "1118   0.952329  2.079442\n",
       "1119   0.771098  0.713340\n",
       "1120   1.026005  2.079442\n",
       "1121   1.414641  2.079442\n",
       "1122   1.158450  1.641961\n",
       "1123   0.999527  2.079442\n",
       "1124   0.826445 -2.171559\n",
       "1125   0.963116  2.079442\n",
       "1126   0.921219  2.079442\n",
       "1127   0.794566  2.079442\n",
       "1128   0.617182  2.079442\n",
       "1129   0.448193 -3.241047\n",
       "1130   1.556959  2.079442\n",
       "1131   0.944733  2.079442\n",
       "1132   1.180973  2.079442\n",
       "1133   1.058169  0.282580\n",
       "1134   0.327444  0.857019\n",
       "1135   1.317841  2.079442\n",
       "\n",
       "[1136 rows x 2 columns]"
      ]
     },
     "execution_count": 38,
     "metadata": {},
     "output_type": "execute_result"
    }
   ],
   "source": [
    "c"
   ]
  },
  {
   "cell_type": "code",
   "execution_count": 39,
   "metadata": {},
   "outputs": [
    {
     "data": {
      "text/plain": [
       "(1136, 1)"
      ]
     },
     "execution_count": 39,
     "metadata": {},
     "output_type": "execute_result"
    }
   ],
   "source": [
    "predicted_value.shape"
   ]
  },
  {
   "cell_type": "code",
   "execution_count": 40,
   "metadata": {},
   "outputs": [
    {
     "data": {
      "image/png": "[encoded data removed]",
      "text/plain": [
       "<Figure size 432x288 with 1 Axes>"
      ]
     },
     "metadata": {
      "needs_background": "light"
     },
     "output_type": "display_data"
    }
   ],
   "source": [
    "plt.scatter(test_label_array,predicted_value,c='red')\n",
    "plt.xlabel('test_IC50_value')\n",
    "plt.ylabel('predicted_IC50_value')\n",
    "plt.savefig(workdir + '//EDC11K_CNN_test_scatterplot.png')"
   ]
  },
  {
   "cell_type": "code",
   "execution_count": 41,
   "metadata": {},
   "outputs": [
    {
     "name": "stdout",
     "output_type": "stream",
     "text": [
      "Final rmse value is = 2.029685522075878\n"
     ]
    }
   ],
   "source": [
    "rse = ((b[0]-a[0])**2).sum()\n",
    "mse = rse / len(b)\n",
    "print(\"Final rmse value is =\",np.sqrt(mse))"
   ]
  }
 ],
 "metadata": {
  "kernelspec": {
   "display_name": "Python 3",
   "language": "python",
   "name": "python3"
  },
  "language_info": {
   "codemirror_mode": {
    "name": "ipython",
    "version": 3
   },
   "file_extension": ".py",
   "mimetype": "text/x-python",
   "name": "python",
   "nbconvert_exporter": "python",
   "pygments_lexer": "ipython3",
   "version": "3.6.9"
  }
 },
 "nbformat": 4,
 "nbformat_minor": 2
}
