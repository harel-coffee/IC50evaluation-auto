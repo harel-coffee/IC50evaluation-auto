{
 "cells": [
  {
   "cell_type": "code",
   "execution_count": 3,
   "metadata": {},
   "outputs": [],
   "source": [
    "import os\n",
    "import pandas as pd\n",
    "import numpy as np\n",
    "import tensorflow as tf\n",
    "import random\n",
    "from pandas import DataFrame\n",
    "from datetime import datetime\n",
    "import keras\n",
    "from keras.models import Sequential,Input,Model\n",
    "from keras.layers import Dense, Dropout, Flatten, Reshape, Activation\n",
    "from keras.layers import Conv1D, MaxPooling1D ,AveragePooling1D\n",
    "from keras.layers.normalization import BatchNormalization\n",
    "from keras.layers.advanced_activations import LeakyReLU\n",
    "from keras import backend as K\n",
    "from keras.callbacks import ModelCheckpoint, CSVLogger\n",
    "from keras.optimizers import Adam, RMSprop\n",
    "from keras.layers import Input, Dense, Conv1D, MaxPooling1D\n",
    "from keras.layers import Flatten, Concatenate, Dropout, Reshape, BatchNormalization\n",
    "from keras.models import Model\n",
    "\n"
   ]
  },
  {
   "cell_type": "code",
   "execution_count": 4,
   "metadata": {},
   "outputs": [
    {
     "name": "stdout",
     "output_type": "stream",
     "text": [
      "[name: \"/device:CPU:0\"\n",
      "device_type: \"CPU\"\n",
      "memory_limit: 268435456\n",
      "locality {\n",
      "}\n",
      "incarnation: 16301220355212840405\n",
      ", name: \"/device:GPU:0\"\n",
      "device_type: \"GPU\"\n",
      "memory_limit: 15080162714\n",
      "locality {\n",
      "  bus_id: 1\n",
      "  links {\n",
      "  }\n",
      "}\n",
      "incarnation: 3047168307859251715\n",
      "physical_device_desc: \"device: 0, name: TITAN RTX, pci bus id: 0000:01:00.0, compute capability: 7.5\"\n",
      "]\n"
     ]
    }
   ],
   "source": [
    "from tensorflow.python.client import device_lib\n",
    "print(device_lib.list_local_devices())\n",
    "\n",
    "\n",
    "# 출처: https://3months.tistory.com/206 [Deep Play]"
   ]
  },
  {
   "cell_type": "code",
   "execution_count": 5,
   "metadata": {},
   "outputs": [],
   "source": [
    "# < Important note > [ Please download input data from https://mega.nz/#F!CeYGDKyS!uqkmWJ4E2XSGJp_C2VO2gg]\n",
    "# IC50evaluation//Dataset//Scenario5_EYDC-9K_znorm_minmax\n",
    "workdir = \"path\"\n",
    "dataset = np.load(workdir + \"//191204_EMDC9K_z_norm_z_norm_minmax.npz\") # input file\n",
    "ss0 = np.load(workdir + '//191204_EMDC9K_z_norm_z_norm_minmax_r0.npz') # split for training and test"
   ]
  },
  {
   "cell_type": "code",
   "execution_count": 6,
   "metadata": {},
   "outputs": [],
   "source": [
    "x = dataset['x']\n",
    "y = dataset['y']\n",
    "# y_linear = dataset['y_lnIC50']\n",
    "ss0_train = ss0['train']\n",
    "ss0_test = ss0['test']"
   ]
  },
  {
   "cell_type": "code",
   "execution_count": 7,
   "metadata": {},
   "outputs": [],
   "source": [
    "training_image_array, training_label_array = x[ss0_train], y[ss0_train]\n",
    "test_image_array, test_label_array = x[ss0_test], y[ss0_test]\n",
    "\n",
    "# In[9]:\n",
    "# ori = training_image_array\n",
    "# bat = np.zeros((ori.shape[0],178))\n",
    "# cat = np.hstack([ori,bat])\n",
    "# training_image_array = cat\n",
    "\n",
    "# # In[8]:\n",
    "# training_image_array.shape\n",
    "\n",
    "# # In[10]:\n",
    "# ori2 = test_image_array\n",
    "# bat2 = np.zeros((ori2.shape[0],178))\n",
    "# cat2 = np.hstack([ori2,bat2])\n",
    "# test_image_array = cat2\n"
   ]
  },
  {
   "cell_type": "code",
   "execution_count": 8,
   "metadata": {},
   "outputs": [
    {
     "name": "stdout",
     "output_type": "stream",
     "text": [
      "0 37\n"
     ]
    }
   ],
   "source": [
    "# In[15]:\n",
    "ab =[]\n",
    "for i in range(100,200):\n",
    "    ab.append(len(training_image_array) % i)\n",
    "    \n",
    "print(min(ab), ab.index(min(ab)))"
   ]
  },
  {
   "cell_type": "code",
   "execution_count": 9,
   "metadata": {},
   "outputs": [
    {
     "data": {
      "text/plain": [
       "(9590, 41505)"
      ]
     },
     "execution_count": 9,
     "metadata": {},
     "output_type": "execute_result"
    }
   ],
   "source": [
    "x.shape"
   ]
  },
  {
   "cell_type": "code",
   "execution_count": 10,
   "metadata": {},
   "outputs": [
    {
     "data": {
      "text/plain": [
       "(8631, 41505)"
      ]
     },
     "execution_count": 10,
     "metadata": {},
     "output_type": "execute_result"
    }
   ],
   "source": [
    "training_image_array.shape"
   ]
  },
  {
   "cell_type": "code",
   "execution_count": 11,
   "metadata": {},
   "outputs": [],
   "source": [
    "# In[21]: hyperparameter\n",
    "\n",
    "num_classes = 1\n",
    "learning_rate = 0.0002\n",
    "training_epochs = 150\n",
    "batch_size = 100\n",
    "img_rows, img_cols = 154, 154\n"
   ]
  },
  {
   "cell_type": "code",
   "execution_count": 12,
   "metadata": {},
   "outputs": [],
   "source": [
    "train_X, train_y, test_X, test_y = training_image_array, training_label_array, test_image_array, test_label_array\n",
    "\n",
    "# if K.image_data_format() == 'channels_first':\n",
    "#     train_X = train_X.reshape(train_X.shape[0], 1, img_rows, img_cols)\n",
    "#     test_X = test_X.reshape(x_test.shape[0], 1, img_rows, img_cols)\n",
    "#     input_shape = (1, img_rows, img_cols)\n",
    "# else:\n",
    "#     train_X = train_X.reshape(train_X.shape[0], img_rows, img_cols, 1)\n",
    "#     test_X = test_X.reshape(test_X.shape[0], img_rows, img_cols, 1)\n",
    "#     input_shape = (img_rows, img_cols, 1)\n"
   ]
  },
  {
   "cell_type": "code",
   "execution_count": 13,
   "metadata": {},
   "outputs": [
    {
     "name": "stdout",
     "output_type": "stream",
     "text": [
      "39180\n"
     ]
    }
   ],
   "source": [
    "shape_value = 39180\n",
    "print(shape_value)"
   ]
  },
  {
   "cell_type": "code",
   "execution_count": 14,
   "metadata": {},
   "outputs": [
    {
     "data": {
      "text/plain": [
       "(8631, 41505)"
      ]
     },
     "execution_count": 14,
     "metadata": {},
     "output_type": "execute_result"
    }
   ],
   "source": [
    "train_X.shape"
   ]
  },
  {
   "cell_type": "code",
   "execution_count": 15,
   "metadata": {},
   "outputs": [],
   "source": [
    "train_X_cell = train_X[:,:shape_value]\n",
    "train_X_drug =train_X[:,shape_value:]\n",
    "test_X_cell = test_X[:,:shape_value]\n",
    "test_X_drug = test_X[:,shape_value:]"
   ]
  },
  {
   "cell_type": "code",
   "execution_count": 16,
   "metadata": {},
   "outputs": [
    {
     "data": {
      "text/plain": [
       "(8631, 39180)"
      ]
     },
     "execution_count": 16,
     "metadata": {},
     "output_type": "execute_result"
    }
   ],
   "source": [
    "train_X_cell.shape"
   ]
  },
  {
   "cell_type": "code",
   "execution_count": 17,
   "metadata": {},
   "outputs": [],
   "source": [
    "train_X_cell = train_X_cell.reshape(train_X_cell.shape[0], train_X_cell.shape[1], 1)\n",
    "train_X_drug = train_X_drug.reshape(train_X_drug.shape[0], train_X_drug.shape[1], 1)\n",
    "test_X_cell = test_X_cell.reshape(test_X_cell.shape[0], test_X_cell.shape[1], 1)\n",
    "test_X_drug = test_X_drug.reshape(test_X_drug.shape[0], test_X_drug.shape[1], 1)\n",
    "#input_shape = (img_rows, img_cols, 1)"
   ]
  },
  {
   "cell_type": "code",
   "execution_count": 18,
   "metadata": {},
   "outputs": [
    {
     "name": "stdout",
     "output_type": "stream",
     "text": [
      "(8631, 39180, 1) (8631, 2325, 1) (8631,) (959, 39180, 1) (959, 2325, 1) (959,)\n"
     ]
    }
   ],
   "source": [
    "print(train_X_cell.shape,train_X_drug.shape, train_y.shape, test_X_cell.shape,test_X_drug.shape, test_y.shape)"
   ]
  },
  {
   "cell_type": "code",
   "execution_count": 19,
   "metadata": {},
   "outputs": [
    {
     "data": {
      "text/plain": [
       "(8631, 39180, 1)"
      ]
     },
     "execution_count": 19,
     "metadata": {},
     "output_type": "execute_result"
    }
   ],
   "source": [
    "train_X_cell.shape"
   ]
  },
  {
   "cell_type": "code",
   "execution_count": 20,
   "metadata": {},
   "outputs": [
    {
     "name": "stdout",
     "output_type": "stream",
     "text": [
      "train_X shape: (8631, 41505)\n",
      "8631 train samples\n",
      "959 test samples\n"
     ]
    }
   ],
   "source": [
    "train_X_cell = train_X_cell.astype('float32')\n",
    "test_X_cell = test_X_cell.astype('float32')\n",
    "train_X_drug = train_X_drug.astype('float32')\n",
    "test_X_drug = test_X_drug.astype('float32')\n",
    "# train_X /= 255\n",
    "# test_X /= 255\n",
    "print('train_X shape:', train_X.shape)\n",
    "print(train_X.shape[0], 'train samples')\n",
    "print(test_X.shape[0], 'test samples')"
   ]
  },
  {
   "cell_type": "code",
   "execution_count": 21,
   "metadata": {},
   "outputs": [
    {
     "name": "stdout",
     "output_type": "stream",
     "text": [
      "WARNING:tensorflow:From C:\\ProgramData\\Anaconda3\\envs\\ronnytf\\lib\\site-packages\\tensorflow\\python\\framework\\op_def_library.py:263: colocate_with (from tensorflow.python.framework.ops) is deprecated and will be removed in a future version.\n",
      "Instructions for updating:\n",
      "Colocations handled automatically by placer.\n",
      "WARNING:tensorflow:From C:\\ProgramData\\Anaconda3\\envs\\ronnytf\\lib\\site-packages\\keras\\backend\\tensorflow_backend.py:3445: calling dropout (from tensorflow.python.ops.nn_ops) with keep_prob is deprecated and will be removed in a future version.\n",
      "Instructions for updating:\n",
      "Please use `rate` instead of `keep_prob`. Rate should be set to `rate = 1 - keep_prob`.\n"
     ]
    }
   ],
   "source": [
    "# Model architecture\n",
    "with K.tf.device('/GPU:0'):\n",
    "    input_cell = Input(shape=(train_X_cell.shape[1], train_X_cell.shape[2]), name='cell_input')\n",
    "    input_drug = Input(shape=(train_X_drug.shape[1], train_X_drug.shape[2]), name='drug_input')\n",
    "\n",
    "    conv_cell_line_1 = Conv1D(filters=50, kernel_size=700, strides=5, activation='tanh')(input_cell)\n",
    "    maxpool_cell_line_1 = MaxPooling1D(pool_size=5)(conv_cell_line_1)\n",
    "    conv_cell_line_2 = Conv1D(filters=30, kernel_size=5, strides=2, activation='relu')(maxpool_cell_line_1)\n",
    "    maxpool_cell_line_2 = MaxPooling1D(pool_size=10)(conv_cell_line_2)\n",
    "    flatten_cell_line = Flatten()(maxpool_cell_line_2)\n",
    "    dense_cell_line = Dense(100, activation='relu')(flatten_cell_line)\n",
    "    dropout_cell_line = Dropout(0.1)(dense_cell_line)\n",
    "\n",
    "    conv_drug_1 = Conv1D(filters=50, kernel_size=200, strides=3, activation='tanh')(input_drug)\n",
    "    maxpool_drug_1 = MaxPooling1D(pool_size=5)(conv_drug_1)\n",
    "    conv_drug_2 = Conv1D(filters=30, kernel_size=50, strides=5, activation='relu')(maxpool_drug_1)\n",
    "    maxpool_drug_2 = MaxPooling1D(pool_size=10)(conv_drug_2)\n",
    "    flatten_drug = Flatten()(maxpool_drug_2)\n",
    "    dense_drug = Dense(100, activation='relu')(flatten_drug)\n",
    "    dropout_drug = Dropout(0.1)(dense_drug)\n",
    "\n",
    "    concatenate = Concatenate()([dropout_cell_line, dropout_drug])\n",
    "    dense_1 = Dense(300, activation='tanh')(concatenate)\n",
    "    dropout_1 = Dropout(0.1)(dense_1)\n",
    "    reshape_1 = Reshape((300,1))(dropout_1)\n",
    "    conv_1 = Conv1D(filters=30, kernel_size=150, strides=1, activation='relu')(reshape_1)\n",
    "    maxpool_1 = MaxPooling1D(pool_size=2)(conv_1)\n",
    "    conv_2 = Conv1D(filters=10, kernel_size=5, strides=1, activation='relu')(maxpool_1)\n",
    "    maxpool_2 = MaxPooling1D(pool_size=3)(conv_2)\n",
    "    conv_3 = Conv1D(filters=5, kernel_size=5, strides=1, activation='relu')(maxpool_2)\n",
    "    maxpool_3 = MaxPooling1D(pool_size=3)(conv_3)\n",
    "    dropout_2 = Dropout(0.1)(maxpool_3)\n",
    "    flatten = Flatten()(dropout_2)\n",
    "    dropout_3 = Dropout(0.2)(flatten)\n",
    "    output = Dense(1, activation='linear', name='pred_lnIC50')(dropout_3)\n",
    "    model = Model(inputs=[input_cell, input_drug], outputs=output, name='MasterModel')\n",
    "\n"
   ]
  },
  {
   "cell_type": "code",
   "execution_count": 22,
   "metadata": {
    "scrolled": false
   },
   "outputs": [
    {
     "name": "stdout",
     "output_type": "stream",
     "text": [
      "__________________________________________________________________________________________________\n",
      "Layer (type)                    Output Shape         Param #     Connected to                     \n",
      "==================================================================================================\n",
      "cell_input (InputLayer)         (None, 39180, 1)     0                                            \n",
      "__________________________________________________________________________________________________\n",
      "drug_input (InputLayer)         (None, 2325, 1)      0                                            \n",
      "__________________________________________________________________________________________________\n",
      "conv1d_1 (Conv1D)               (None, 7697, 50)     35050       cell_input[0][0]                 \n",
      "__________________________________________________________________________________________________\n",
      "conv1d_3 (Conv1D)               (None, 709, 50)      10050       drug_input[0][0]                 \n",
      "__________________________________________________________________________________________________\n",
      "max_pooling1d_1 (MaxPooling1D)  (None, 1539, 50)     0           conv1d_1[0][0]                   \n",
      "__________________________________________________________________________________________________\n",
      "max_pooling1d_3 (MaxPooling1D)  (None, 141, 50)      0           conv1d_3[0][0]                   \n",
      "__________________________________________________________________________________________________\n",
      "conv1d_2 (Conv1D)               (None, 768, 30)      7530        max_pooling1d_1[0][0]            \n",
      "__________________________________________________________________________________________________\n",
      "conv1d_4 (Conv1D)               (None, 19, 30)       75030       max_pooling1d_3[0][0]            \n",
      "__________________________________________________________________________________________________\n",
      "max_pooling1d_2 (MaxPooling1D)  (None, 76, 30)       0           conv1d_2[0][0]                   \n",
      "__________________________________________________________________________________________________\n",
      "max_pooling1d_4 (MaxPooling1D)  (None, 1, 30)        0           conv1d_4[0][0]                   \n",
      "__________________________________________________________________________________________________\n",
      "flatten_1 (Flatten)             (None, 2280)         0           max_pooling1d_2[0][0]            \n",
      "__________________________________________________________________________________________________\n",
      "flatten_2 (Flatten)             (None, 30)           0           max_pooling1d_4[0][0]            \n",
      "__________________________________________________________________________________________________\n",
      "dense_1 (Dense)                 (None, 100)          228100      flatten_1[0][0]                  \n",
      "__________________________________________________________________________________________________\n",
      "dense_2 (Dense)                 (None, 100)          3100        flatten_2[0][0]                  \n",
      "__________________________________________________________________________________________________\n",
      "dropout_1 (Dropout)             (None, 100)          0           dense_1[0][0]                    \n",
      "__________________________________________________________________________________________________\n",
      "dropout_2 (Dropout)             (None, 100)          0           dense_2[0][0]                    \n",
      "__________________________________________________________________________________________________\n",
      "concatenate_1 (Concatenate)     (None, 200)          0           dropout_1[0][0]                  \n",
      "                                                                 dropout_2[0][0]                  \n",
      "__________________________________________________________________________________________________\n",
      "dense_3 (Dense)                 (None, 300)          60300       concatenate_1[0][0]              \n",
      "__________________________________________________________________________________________________\n",
      "dropout_3 (Dropout)             (None, 300)          0           dense_3[0][0]                    \n",
      "__________________________________________________________________________________________________\n",
      "reshape_1 (Reshape)             (None, 300, 1)       0           dropout_3[0][0]                  \n",
      "__________________________________________________________________________________________________\n",
      "conv1d_5 (Conv1D)               (None, 151, 30)      4530        reshape_1[0][0]                  \n",
      "__________________________________________________________________________________________________\n",
      "max_pooling1d_5 (MaxPooling1D)  (None, 75, 30)       0           conv1d_5[0][0]                   \n",
      "__________________________________________________________________________________________________\n",
      "conv1d_6 (Conv1D)               (None, 71, 10)       1510        max_pooling1d_5[0][0]            \n",
      "__________________________________________________________________________________________________\n",
      "max_pooling1d_6 (MaxPooling1D)  (None, 23, 10)       0           conv1d_6[0][0]                   \n",
      "__________________________________________________________________________________________________\n",
      "conv1d_7 (Conv1D)               (None, 19, 5)        255         max_pooling1d_6[0][0]            \n",
      "__________________________________________________________________________________________________\n",
      "max_pooling1d_7 (MaxPooling1D)  (None, 6, 5)         0           conv1d_7[0][0]                   \n",
      "__________________________________________________________________________________________________\n",
      "dropout_4 (Dropout)             (None, 6, 5)         0           max_pooling1d_7[0][0]            \n",
      "__________________________________________________________________________________________________\n",
      "flatten_3 (Flatten)             (None, 30)           0           dropout_4[0][0]                  \n",
      "__________________________________________________________________________________________________\n",
      "dropout_5 (Dropout)             (None, 30)           0           flatten_3[0][0]                  \n",
      "__________________________________________________________________________________________________\n",
      "pred_lnIC50 (Dense)             (None, 1)            31          dropout_5[0][0]                  \n",
      "==================================================================================================\n",
      "Total params: 425,486\n",
      "Trainable params: 425,486\n",
      "Non-trainable params: 0\n",
      "__________________________________________________________________________________________________\n"
     ]
    }
   ],
   "source": [
    "model.summary()"
   ]
  },
  {
   "cell_type": "code",
   "execution_count": 23,
   "metadata": {},
   "outputs": [],
   "source": [
    "config = tf.ConfigProto()\n",
    "config.gpu_options.allow_growth = True\n",
    "sess = tf.Session(config=config)"
   ]
  },
  {
   "cell_type": "code",
   "execution_count": 24,
   "metadata": {
    "scrolled": true
   },
   "outputs": [
    {
     "name": "stdout",
     "output_type": "stream",
     "text": [
      "StartTime : 2019-12-05 19:53:48.102000\n",
      "WARNING:tensorflow:From C:\\ProgramData\\Anaconda3\\envs\\ronnytf\\lib\\site-packages\\tensorflow\\python\\ops\\math_ops.py:3066: to_int32 (from tensorflow.python.ops.math_ops) is deprecated and will be removed in a future version.\n",
      "Instructions for updating:\n",
      "Use tf.cast instead.\n",
      "Train on 8631 samples, validate on 959 samples\n",
      "Epoch 1/150\n",
      "8631/8631 [==============================] - 9s 1ms/step - loss: 4.1524 - mean_squared_error: 4.1524 - mean_absolute_error: 1.6366 - val_loss: 3.8825 - val_mean_squared_error: 3.8825 - val_mean_absolute_error: 1.5921\n",
      "Epoch 2/150\n",
      "8631/8631 [==============================] - 4s 473us/step - loss: 4.0815 - mean_squared_error: 4.0815 - mean_absolute_error: 1.5932 - val_loss: 3.8745 - val_mean_squared_error: 3.8745 - val_mean_absolute_error: 1.5408\n",
      "Epoch 3/150\n",
      "8631/8631 [==============================] - 4s 474us/step - loss: 4.0640 - mean_squared_error: 4.0640 - mean_absolute_error: 1.5924 - val_loss: 3.8717 - val_mean_squared_error: 3.8717 - val_mean_absolute_error: 1.5612\n",
      "Epoch 4/150\n",
      "8631/8631 [==============================] - 4s 474us/step - loss: 4.0528 - mean_squared_error: 4.0528 - mean_absolute_error: 1.5811 - val_loss: 3.8639 - val_mean_squared_error: 3.8639 - val_mean_absolute_error: 1.5880\n",
      "Epoch 5/150\n",
      "8631/8631 [==============================] - 4s 475us/step - loss: 4.0412 - mean_squared_error: 4.0412 - mean_absolute_error: 1.5842 - val_loss: 3.8585 - val_mean_squared_error: 3.8585 - val_mean_absolute_error: 1.5332\n",
      "Epoch 6/150\n",
      "8631/8631 [==============================] - 4s 474us/step - loss: 4.0102 - mean_squared_error: 4.0102 - mean_absolute_error: 1.5692 - val_loss: 3.9135 - val_mean_squared_error: 3.9135 - val_mean_absolute_error: 1.6187\n",
      "Epoch 7/150\n",
      "8631/8631 [==============================] - 4s 481us/step - loss: 3.9977 - mean_squared_error: 3.9977 - mean_absolute_error: 1.5685 - val_loss: 3.9374 - val_mean_squared_error: 3.9374 - val_mean_absolute_error: 1.4794\n",
      "Epoch 8/150\n",
      "8631/8631 [==============================] - 4s 483us/step - loss: 3.9500 - mean_squared_error: 3.9500 - mean_absolute_error: 1.5497 - val_loss: 3.9170 - val_mean_squared_error: 3.9170 - val_mean_absolute_error: 1.5586\n",
      "Epoch 9/150\n",
      "8631/8631 [==============================] - 4s 489us/step - loss: 3.9570 - mean_squared_error: 3.9570 - mean_absolute_error: 1.5528 - val_loss: 3.9269 - val_mean_squared_error: 3.9269 - val_mean_absolute_error: 1.5363\n",
      "Epoch 10/150\n",
      "8631/8631 [==============================] - 4s 489us/step - loss: 3.9306 - mean_squared_error: 3.9306 - mean_absolute_error: 1.5444 - val_loss: 3.9664 - val_mean_squared_error: 3.9664 - val_mean_absolute_error: 1.5138\n",
      "Epoch 11/150\n",
      "8631/8631 [==============================] - 4s 483us/step - loss: 3.9212 - mean_squared_error: 3.9212 - mean_absolute_error: 1.5456 - val_loss: 3.9623 - val_mean_squared_error: 3.9623 - val_mean_absolute_error: 1.5069\n",
      "Epoch 12/150\n",
      "8631/8631 [==============================] - 4s 479us/step - loss: 3.9200 - mean_squared_error: 3.9200 - mean_absolute_error: 1.5354 - val_loss: 3.9427 - val_mean_squared_error: 3.9427 - val_mean_absolute_error: 1.5649\n",
      "Epoch 13/150\n",
      "8631/8631 [==============================] - 4s 477us/step - loss: 3.9029 - mean_squared_error: 3.9029 - mean_absolute_error: 1.5293 - val_loss: 3.9957 - val_mean_squared_error: 3.9957 - val_mean_absolute_error: 1.5499\n",
      "Epoch 14/150\n",
      "8631/8631 [==============================] - 4s 480us/step - loss: 3.9038 - mean_squared_error: 3.9038 - mean_absolute_error: 1.5309 - val_loss: 3.9647 - val_mean_squared_error: 3.9647 - val_mean_absolute_error: 1.5799\n",
      "Epoch 15/150\n",
      "8631/8631 [==============================] - 4s 480us/step - loss: 3.8978 - mean_squared_error: 3.8978 - mean_absolute_error: 1.5360 - val_loss: 4.0322 - val_mean_squared_error: 4.0322 - val_mean_absolute_error: 1.5514\n",
      "Epoch 16/150\n",
      "8631/8631 [==============================] - 4s 475us/step - loss: 3.9177 - mean_squared_error: 3.9177 - mean_absolute_error: 1.5380 - val_loss: 3.9612 - val_mean_squared_error: 3.9612 - val_mean_absolute_error: 1.5365\n",
      "Epoch 17/150\n",
      "8631/8631 [==============================] - 4s 483us/step - loss: 3.8975 - mean_squared_error: 3.8975 - mean_absolute_error: 1.5349 - val_loss: 4.0185 - val_mean_squared_error: 4.0185 - val_mean_absolute_error: 1.5174\n",
      "Epoch 18/150\n",
      "8631/8631 [==============================] - 4s 477us/step - loss: 3.9026 - mean_squared_error: 3.9026 - mean_absolute_error: 1.5330 - val_loss: 4.0136 - val_mean_squared_error: 4.0136 - val_mean_absolute_error: 1.5285\n",
      "Epoch 19/150\n",
      "8631/8631 [==============================] - 4s 479us/step - loss: 3.9009 - mean_squared_error: 3.9009 - mean_absolute_error: 1.5353 - val_loss: 3.9823 - val_mean_squared_error: 3.9823 - val_mean_absolute_error: 1.5173\n",
      "Epoch 20/150\n",
      "8631/8631 [==============================] - 4s 478us/step - loss: 3.8973 - mean_squared_error: 3.8973 - mean_absolute_error: 1.5340 - val_loss: 4.0552 - val_mean_squared_error: 4.0552 - val_mean_absolute_error: 1.5845\n",
      "Epoch 21/150\n",
      "8631/8631 [==============================] - 4s 477us/step - loss: 3.8804 - mean_squared_error: 3.8804 - mean_absolute_error: 1.5319 - val_loss: 4.0188 - val_mean_squared_error: 4.0188 - val_mean_absolute_error: 1.5517\n",
      "Epoch 22/150\n",
      "8631/8631 [==============================] - 4s 478us/step - loss: 3.8999 - mean_squared_error: 3.8999 - mean_absolute_error: 1.5313 - val_loss: 4.0457 - val_mean_squared_error: 4.0457 - val_mean_absolute_error: 1.5228\n",
      "Epoch 23/150\n",
      "8631/8631 [==============================] - 4s 480us/step - loss: 3.9027 - mean_squared_error: 3.9027 - mean_absolute_error: 1.5281 - val_loss: 4.0249 - val_mean_squared_error: 4.0249 - val_mean_absolute_error: 1.5704\n",
      "Epoch 24/150\n",
      "8631/8631 [==============================] - 4s 480us/step - loss: 3.8818 - mean_squared_error: 3.8818 - mean_absolute_error: 1.5311 - val_loss: 4.0114 - val_mean_squared_error: 4.0114 - val_mean_absolute_error: 1.5457\n",
      "Epoch 25/150\n",
      "8631/8631 [==============================] - 4s 477us/step - loss: 3.8795 - mean_squared_error: 3.8795 - mean_absolute_error: 1.5206 - val_loss: 4.0695 - val_mean_squared_error: 4.0695 - val_mean_absolute_error: 1.5751\n",
      "Epoch 26/150\n",
      "8631/8631 [==============================] - 4s 475us/step - loss: 3.8849 - mean_squared_error: 3.8849 - mean_absolute_error: 1.5320 - val_loss: 4.0705 - val_mean_squared_error: 4.0705 - val_mean_absolute_error: 1.5680\n",
      "Epoch 27/150\n",
      "8631/8631 [==============================] - 4s 478us/step - loss: 3.8891 - mean_squared_error: 3.8891 - mean_absolute_error: 1.5269 - val_loss: 4.0757 - val_mean_squared_error: 4.0757 - val_mean_absolute_error: 1.5737\n",
      "Epoch 28/150\n",
      "8631/8631 [==============================] - 4s 476us/step - loss: 3.8761 - mean_squared_error: 3.8761 - mean_absolute_error: 1.5196 - val_loss: 4.0107 - val_mean_squared_error: 4.0107 - val_mean_absolute_error: 1.5924\n",
      "Epoch 29/150\n",
      "8631/8631 [==============================] - 4s 474us/step - loss: 3.8737 - mean_squared_error: 3.8737 - mean_absolute_error: 1.5222 - val_loss: 4.0457 - val_mean_squared_error: 4.0457 - val_mean_absolute_error: 1.5469\n",
      "Epoch 30/150\n",
      "8631/8631 [==============================] - 4s 474us/step - loss: 3.8830 - mean_squared_error: 3.8830 - mean_absolute_error: 1.5300 - val_loss: 4.0018 - val_mean_squared_error: 4.0018 - val_mean_absolute_error: 1.5781\n",
      "Epoch 31/150\n",
      "8631/8631 [==============================] - 4s 480us/step - loss: 3.8697 - mean_squared_error: 3.8697 - mean_absolute_error: 1.5212 - val_loss: 4.0714 - val_mean_squared_error: 4.0714 - val_mean_absolute_error: 1.6095\n",
      "Epoch 32/150\n",
      "8631/8631 [==============================] - 4s 478us/step - loss: 3.8857 - mean_squared_error: 3.8857 - mean_absolute_error: 1.5275 - val_loss: 4.0203 - val_mean_squared_error: 4.0203 - val_mean_absolute_error: 1.5914\n",
      "Epoch 33/150\n",
      "8631/8631 [==============================] - 4s 480us/step - loss: 3.8861 - mean_squared_error: 3.8861 - mean_absolute_error: 1.5302 - val_loss: 4.0205 - val_mean_squared_error: 4.0205 - val_mean_absolute_error: 1.5617\n",
      "Epoch 34/150\n",
      "8631/8631 [==============================] - 4s 478us/step - loss: 3.8759 - mean_squared_error: 3.8759 - mean_absolute_error: 1.5262 - val_loss: 4.0236 - val_mean_squared_error: 4.0236 - val_mean_absolute_error: 1.5785\n"
     ]
    },
    {
     "name": "stdout",
     "output_type": "stream",
     "text": [
      "Epoch 35/150\n",
      "8631/8631 [==============================] - 4s 478us/step - loss: 3.8752 - mean_squared_error: 3.8752 - mean_absolute_error: 1.5201 - val_loss: 4.0291 - val_mean_squared_error: 4.0291 - val_mean_absolute_error: 1.6042\n",
      "Epoch 36/150\n",
      "8631/8631 [==============================] - 4s 475us/step - loss: 3.8588 - mean_squared_error: 3.8588 - mean_absolute_error: 1.5204 - val_loss: 4.0139 - val_mean_squared_error: 4.0139 - val_mean_absolute_error: 1.5728\n",
      "Epoch 37/150\n",
      "8631/8631 [==============================] - 4s 482us/step - loss: 3.8832 - mean_squared_error: 3.8832 - mean_absolute_error: 1.5259 - val_loss: 4.0550 - val_mean_squared_error: 4.0550 - val_mean_absolute_error: 1.5609\n",
      "Epoch 38/150\n",
      "8631/8631 [==============================] - 4s 479us/step - loss: 3.8739 - mean_squared_error: 3.8739 - mean_absolute_error: 1.5249 - val_loss: 4.1276 - val_mean_squared_error: 4.1276 - val_mean_absolute_error: 1.5628\n",
      "Epoch 39/150\n",
      "8631/8631 [==============================] - 4s 485us/step - loss: 3.8698 - mean_squared_error: 3.8698 - mean_absolute_error: 1.5160 - val_loss: 4.0174 - val_mean_squared_error: 4.0174 - val_mean_absolute_error: 1.5577\n",
      "Epoch 40/150\n",
      "8631/8631 [==============================] - 4s 481us/step - loss: 3.8652 - mean_squared_error: 3.8652 - mean_absolute_error: 1.5213 - val_loss: 4.0330 - val_mean_squared_error: 4.0330 - val_mean_absolute_error: 1.5640\n",
      "Epoch 41/150\n",
      "8631/8631 [==============================] - 4s 479us/step - loss: 3.8795 - mean_squared_error: 3.8795 - mean_absolute_error: 1.5298 - val_loss: 4.0443 - val_mean_squared_error: 4.0443 - val_mean_absolute_error: 1.5601\n",
      "Epoch 42/150\n",
      "8631/8631 [==============================] - 4s 481us/step - loss: 3.8657 - mean_squared_error: 3.8657 - mean_absolute_error: 1.5206 - val_loss: 4.0743 - val_mean_squared_error: 4.0743 - val_mean_absolute_error: 1.5760\n",
      "Epoch 43/150\n",
      "8631/8631 [==============================] - 4s 482us/step - loss: 3.8660 - mean_squared_error: 3.8660 - mean_absolute_error: 1.5167 - val_loss: 4.0583 - val_mean_squared_error: 4.0583 - val_mean_absolute_error: 1.5674\n",
      "Epoch 44/150\n",
      "8631/8631 [==============================] - 4s 482us/step - loss: 3.8748 - mean_squared_error: 3.8748 - mean_absolute_error: 1.5305 - val_loss: 4.0265 - val_mean_squared_error: 4.0265 - val_mean_absolute_error: 1.5342\n",
      "Epoch 45/150\n",
      "8631/8631 [==============================] - 4s 480us/step - loss: 3.8859 - mean_squared_error: 3.8859 - mean_absolute_error: 1.5271 - val_loss: 4.0194 - val_mean_squared_error: 4.0194 - val_mean_absolute_error: 1.5692\n",
      "Epoch 46/150\n",
      "8631/8631 [==============================] - 4s 482us/step - loss: 3.8717 - mean_squared_error: 3.8717 - mean_absolute_error: 1.5231 - val_loss: 3.9951 - val_mean_squared_error: 3.9951 - val_mean_absolute_error: 1.6002\n",
      "Epoch 47/150\n",
      "8631/8631 [==============================] - 4s 479us/step - loss: 3.8644 - mean_squared_error: 3.8644 - mean_absolute_error: 1.5183 - val_loss: 4.0091 - val_mean_squared_error: 4.0091 - val_mean_absolute_error: 1.5141\n",
      "Epoch 48/150\n",
      "8631/8631 [==============================] - 4s 479us/step - loss: 3.8745 - mean_squared_error: 3.8745 - mean_absolute_error: 1.5203 - val_loss: 4.0462 - val_mean_squared_error: 4.0462 - val_mean_absolute_error: 1.5627\n",
      "Epoch 49/150\n",
      "8631/8631 [==============================] - 4s 479us/step - loss: 3.8678 - mean_squared_error: 3.8678 - mean_absolute_error: 1.5226 - val_loss: 4.0342 - val_mean_squared_error: 4.0342 - val_mean_absolute_error: 1.5600\n",
      "Epoch 50/150\n",
      "8631/8631 [==============================] - 4s 481us/step - loss: 3.8705 - mean_squared_error: 3.8705 - mean_absolute_error: 1.5224 - val_loss: 4.0591 - val_mean_squared_error: 4.0591 - val_mean_absolute_error: 1.5668\n",
      "Epoch 51/150\n",
      "8631/8631 [==============================] - 4s 481us/step - loss: 3.8693 - mean_squared_error: 3.8693 - mean_absolute_error: 1.5235 - val_loss: 4.0397 - val_mean_squared_error: 4.0397 - val_mean_absolute_error: 1.5603\n",
      "Epoch 52/150\n",
      "8631/8631 [==============================] - 4s 482us/step - loss: 3.8611 - mean_squared_error: 3.8611 - mean_absolute_error: 1.5197 - val_loss: 4.0888 - val_mean_squared_error: 4.0888 - val_mean_absolute_error: 1.5984\n",
      "Epoch 53/150\n",
      "8631/8631 [==============================] - 4s 481us/step - loss: 3.8635 - mean_squared_error: 3.8635 - mean_absolute_error: 1.5210 - val_loss: 4.0301 - val_mean_squared_error: 4.0301 - val_mean_absolute_error: 1.5876\n",
      "Epoch 54/150\n",
      "8631/8631 [==============================] - 4s 485us/step - loss: 3.8787 - mean_squared_error: 3.8787 - mean_absolute_error: 1.5286 - val_loss: 4.0494 - val_mean_squared_error: 4.0494 - val_mean_absolute_error: 1.5920\n",
      "Epoch 55/150\n",
      "8631/8631 [==============================] - 4s 485us/step - loss: 3.8640 - mean_squared_error: 3.8640 - mean_absolute_error: 1.5209 - val_loss: 4.0746 - val_mean_squared_error: 4.0746 - val_mean_absolute_error: 1.5642\n",
      "Epoch 56/150\n",
      "8631/8631 [==============================] - 4s 485us/step - loss: 3.8598 - mean_squared_error: 3.8598 - mean_absolute_error: 1.5187 - val_loss: 4.0713 - val_mean_squared_error: 4.0713 - val_mean_absolute_error: 1.5556\n",
      "Epoch 57/150\n",
      "8631/8631 [==============================] - 4s 482us/step - loss: 3.8687 - mean_squared_error: 3.8687 - mean_absolute_error: 1.5218 - val_loss: 4.0280 - val_mean_squared_error: 4.0280 - val_mean_absolute_error: 1.5784\n",
      "Epoch 58/150\n",
      "8631/8631 [==============================] - 4s 481us/step - loss: 3.8652 - mean_squared_error: 3.8652 - mean_absolute_error: 1.5207 - val_loss: 4.0833 - val_mean_squared_error: 4.0833 - val_mean_absolute_error: 1.5538\n",
      "Epoch 59/150\n",
      "8631/8631 [==============================] - 4s 488us/step - loss: 3.8678 - mean_squared_error: 3.8678 - mean_absolute_error: 1.5171 - val_loss: 4.0872 - val_mean_squared_error: 4.0872 - val_mean_absolute_error: 1.5991\n",
      "Epoch 60/150\n",
      "8631/8631 [==============================] - 4s 488us/step - loss: 3.8579 - mean_squared_error: 3.8579 - mean_absolute_error: 1.5224 - val_loss: 4.1130 - val_mean_squared_error: 4.1130 - val_mean_absolute_error: 1.5543\n",
      "Epoch 61/150\n",
      "8631/8631 [==============================] - 4s 490us/step - loss: 3.8691 - mean_squared_error: 3.8691 - mean_absolute_error: 1.5175 - val_loss: 4.0897 - val_mean_squared_error: 4.0897 - val_mean_absolute_error: 1.5445\n",
      "Epoch 62/150\n",
      "8631/8631 [==============================] - 4s 489us/step - loss: 3.8665 - mean_squared_error: 3.8665 - mean_absolute_error: 1.5212 - val_loss: 4.1289 - val_mean_squared_error: 4.1289 - val_mean_absolute_error: 1.5289\n",
      "Epoch 63/150\n",
      "8631/8631 [==============================] - 4s 481us/step - loss: 3.8643 - mean_squared_error: 3.8643 - mean_absolute_error: 1.5209 - val_loss: 4.0170 - val_mean_squared_error: 4.0170 - val_mean_absolute_error: 1.5341\n",
      "Epoch 64/150\n",
      "8631/8631 [==============================] - 4s 481us/step - loss: 3.8677 - mean_squared_error: 3.8677 - mean_absolute_error: 1.5200 - val_loss: 4.0519 - val_mean_squared_error: 4.0519 - val_mean_absolute_error: 1.6139\n",
      "Epoch 65/150\n",
      "8631/8631 [==============================] - 4s 480us/step - loss: 3.8615 - mean_squared_error: 3.8615 - mean_absolute_error: 1.5232 - val_loss: 4.1433 - val_mean_squared_error: 4.1433 - val_mean_absolute_error: 1.5598\n",
      "Epoch 66/150\n",
      "8631/8631 [==============================] - 4s 479us/step - loss: 3.8559 - mean_squared_error: 3.8559 - mean_absolute_error: 1.5155 - val_loss: 4.0843 - val_mean_squared_error: 4.0843 - val_mean_absolute_error: 1.5628\n",
      "Epoch 67/150\n",
      "8631/8631 [==============================] - 4s 479us/step - loss: 3.8586 - mean_squared_error: 3.8586 - mean_absolute_error: 1.5188 - val_loss: 4.1068 - val_mean_squared_error: 4.1068 - val_mean_absolute_error: 1.5596\n",
      "Epoch 68/150\n",
      "8631/8631 [==============================] - 4s 481us/step - loss: 3.8543 - mean_squared_error: 3.8543 - mean_absolute_error: 1.5130 - val_loss: 4.0695 - val_mean_squared_error: 4.0695 - val_mean_absolute_error: 1.5942\n",
      "Epoch 69/150\n",
      "8631/8631 [==============================] - 4s 478us/step - loss: 3.8554 - mean_squared_error: 3.8554 - mean_absolute_error: 1.5220 - val_loss: 4.0639 - val_mean_squared_error: 4.0639 - val_mean_absolute_error: 1.5991\n",
      "Epoch 70/150\n",
      "8631/8631 [==============================] - 4s 482us/step - loss: 3.8481 - mean_squared_error: 3.8481 - mean_absolute_error: 1.5099 - val_loss: 4.0329 - val_mean_squared_error: 4.0329 - val_mean_absolute_error: 1.5985\n",
      "Epoch 71/150\n",
      "8631/8631 [==============================] - 4s 482us/step - loss: 3.8633 - mean_squared_error: 3.8633 - mean_absolute_error: 1.5257 - val_loss: 4.1298 - val_mean_squared_error: 4.1298 - val_mean_absolute_error: 1.5796\n",
      "Epoch 72/150\n",
      "8631/8631 [==============================] - 4s 481us/step - loss: 3.8643 - mean_squared_error: 3.8643 - mean_absolute_error: 1.5211 - val_loss: 4.0878 - val_mean_squared_error: 4.0878 - val_mean_absolute_error: 1.6090\n",
      "Epoch 73/150\n",
      "8631/8631 [==============================] - 4s 482us/step - loss: 3.8609 - mean_squared_error: 3.8609 - mean_absolute_error: 1.5148 - val_loss: 4.0931 - val_mean_squared_error: 4.0931 - val_mean_absolute_error: 1.6297\n",
      "Epoch 74/150\n",
      "8631/8631 [==============================] - 4s 482us/step - loss: 3.8621 - mean_squared_error: 3.8621 - mean_absolute_error: 1.5221 - val_loss: 4.0624 - val_mean_squared_error: 4.0624 - val_mean_absolute_error: 1.5887\n",
      "Epoch 75/150\n",
      "8631/8631 [==============================] - 4s 479us/step - loss: 3.8562 - mean_squared_error: 3.8562 - mean_absolute_error: 1.5176 - val_loss: 4.0747 - val_mean_squared_error: 4.0747 - val_mean_absolute_error: 1.5551\n",
      "Epoch 76/150\n",
      "8631/8631 [==============================] - 4s 480us/step - loss: 3.8540 - mean_squared_error: 3.8540 - mean_absolute_error: 1.5204 - val_loss: 4.1029 - val_mean_squared_error: 4.1029 - val_mean_absolute_error: 1.5553\n",
      "Epoch 77/150\n",
      "8631/8631 [==============================] - 4s 478us/step - loss: 3.8512 - mean_squared_error: 3.8512 - mean_absolute_error: 1.5083 - val_loss: 4.0216 - val_mean_squared_error: 4.0216 - val_mean_absolute_error: 1.5846\n",
      "Epoch 78/150\n",
      "8631/8631 [==============================] - 4s 480us/step - loss: 3.8552 - mean_squared_error: 3.8552 - mean_absolute_error: 1.5222 - val_loss: 4.0522 - val_mean_squared_error: 4.0522 - val_mean_absolute_error: 1.5590\n",
      "Epoch 79/150\n",
      "8631/8631 [==============================] - 4s 486us/step - loss: 3.8487 - mean_squared_error: 3.8487 - mean_absolute_error: 1.5224 - val_loss: 4.1388 - val_mean_squared_error: 4.1388 - val_mean_absolute_error: 1.5203\n",
      "Epoch 80/150\n",
      "8631/8631 [==============================] - 4s 479us/step - loss: 3.8457 - mean_squared_error: 3.8457 - mean_absolute_error: 1.5137 - val_loss: 4.0707 - val_mean_squared_error: 4.0707 - val_mean_absolute_error: 1.5672\n",
      "Epoch 81/150\n",
      "8631/8631 [==============================] - 4s 480us/step - loss: 3.8599 - mean_squared_error: 3.8599 - mean_absolute_error: 1.5209 - val_loss: 4.1061 - val_mean_squared_error: 4.1061 - val_mean_absolute_error: 1.5358\n",
      "Epoch 82/150\n",
      "8631/8631 [==============================] - 4s 480us/step - loss: 3.8441 - mean_squared_error: 3.8441 - mean_absolute_error: 1.5130 - val_loss: 4.0732 - val_mean_squared_error: 4.0732 - val_mean_absolute_error: 1.5917\n",
      "Epoch 83/150\n",
      "8631/8631 [==============================] - 4s 481us/step - loss: 3.8563 - mean_squared_error: 3.8563 - mean_absolute_error: 1.5198 - val_loss: 4.0314 - val_mean_squared_error: 4.0314 - val_mean_absolute_error: 1.5639\n",
      "Epoch 84/150\n",
      "8631/8631 [==============================] - 4s 484us/step - loss: 3.8510 - mean_squared_error: 3.8510 - mean_absolute_error: 1.5155 - val_loss: 4.1185 - val_mean_squared_error: 4.1185 - val_mean_absolute_error: 1.5585\n",
      "Epoch 85/150\n",
      "8631/8631 [==============================] - 4s 486us/step - loss: 3.8550 - mean_squared_error: 3.8550 - mean_absolute_error: 1.5195 - val_loss: 4.1103 - val_mean_squared_error: 4.1103 - val_mean_absolute_error: 1.5407\n",
      "Epoch 86/150\n",
      "8631/8631 [==============================] - 4s 479us/step - loss: 3.8551 - mean_squared_error: 3.8551 - mean_absolute_error: 1.5087 - val_loss: 4.0489 - val_mean_squared_error: 4.0489 - val_mean_absolute_error: 1.5921\n",
      "Epoch 87/150\n",
      "8631/8631 [==============================] - 4s 477us/step - loss: 3.8411 - mean_squared_error: 3.8411 - mean_absolute_error: 1.5139 - val_loss: 4.0876 - val_mean_squared_error: 4.0876 - val_mean_absolute_error: 1.5578\n",
      "Epoch 88/150\n",
      "8631/8631 [==============================] - 4s 478us/step - loss: 3.8699 - mean_squared_error: 3.8699 - mean_absolute_error: 1.5260 - val_loss: 4.0562 - val_mean_squared_error: 4.0562 - val_mean_absolute_error: 1.5610\n",
      "Epoch 89/150\n",
      "8631/8631 [==============================] - 4s 481us/step - loss: 3.8514 - mean_squared_error: 3.8514 - mean_absolute_error: 1.5126 - val_loss: 4.0326 - val_mean_squared_error: 4.0326 - val_mean_absolute_error: 1.5809\n",
      "Epoch 90/150\n",
      "8631/8631 [==============================] - 4s 481us/step - loss: 3.8511 - mean_squared_error: 3.8511 - mean_absolute_error: 1.5156 - val_loss: 4.0417 - val_mean_squared_error: 4.0417 - val_mean_absolute_error: 1.6097\n",
      "Epoch 91/150\n",
      "8631/8631 [==============================] - 4s 477us/step - loss: 3.8576 - mean_squared_error: 3.8576 - mean_absolute_error: 1.5195 - val_loss: 4.0715 - val_mean_squared_error: 4.0715 - val_mean_absolute_error: 1.5754\n",
      "Epoch 92/150\n",
      "8631/8631 [==============================] - 4s 477us/step - loss: 3.8436 - mean_squared_error: 3.8436 - mean_absolute_error: 1.5120 - val_loss: 4.0794 - val_mean_squared_error: 4.0794 - val_mean_absolute_error: 1.5706\n",
      "Epoch 93/150\n",
      "8631/8631 [==============================] - 4s 477us/step - loss: 3.8520 - mean_squared_error: 3.8520 - mean_absolute_error: 1.5133 - val_loss: 4.0954 - val_mean_squared_error: 4.0954 - val_mean_absolute_error: 1.5833\n",
      "Epoch 94/150\n",
      "8631/8631 [==============================] - 4s 475us/step - loss: 3.8538 - mean_squared_error: 3.8538 - mean_absolute_error: 1.5184 - val_loss: 4.1304 - val_mean_squared_error: 4.1304 - val_mean_absolute_error: 1.5395\n",
      "Epoch 95/150\n",
      "8631/8631 [==============================] - 4s 480us/step - loss: 3.8415 - mean_squared_error: 3.8415 - mean_absolute_error: 1.5100 - val_loss: 4.0082 - val_mean_squared_error: 4.0082 - val_mean_absolute_error: 1.5850\n",
      "Epoch 96/150\n",
      "8631/8631 [==============================] - 4s 481us/step - loss: 3.8477 - mean_squared_error: 3.8477 - mean_absolute_error: 1.5052 - val_loss: 4.0608 - val_mean_squared_error: 4.0608 - val_mean_absolute_error: 1.6109\n",
      "Epoch 97/150\n",
      "8631/8631 [==============================] - 4s 481us/step - loss: 3.8409 - mean_squared_error: 3.8409 - mean_absolute_error: 1.5116 - val_loss: 4.0926 - val_mean_squared_error: 4.0926 - val_mean_absolute_error: 1.5605\n",
      "Epoch 98/150\n",
      "8631/8631 [==============================] - 4s 482us/step - loss: 3.8545 - mean_squared_error: 3.8545 - mean_absolute_error: 1.5115 - val_loss: 4.0548 - val_mean_squared_error: 4.0548 - val_mean_absolute_error: 1.5802\n",
      "Epoch 99/150\n",
      "8631/8631 [==============================] - 4s 483us/step - loss: 3.8430 - mean_squared_error: 3.8430 - mean_absolute_error: 1.5174 - val_loss: 4.0871 - val_mean_squared_error: 4.0871 - val_mean_absolute_error: 1.5847\n",
      "Epoch 100/150\n",
      "8631/8631 [==============================] - 4s 479us/step - loss: 3.8527 - mean_squared_error: 3.8527 - mean_absolute_error: 1.5160 - val_loss: 4.1148 - val_mean_squared_error: 4.1148 - val_mean_absolute_error: 1.5869\n",
      "Epoch 101/150\n",
      "8631/8631 [==============================] - 4s 477us/step - loss: 3.8431 - mean_squared_error: 3.8431 - mean_absolute_error: 1.5123 - val_loss: 4.0839 - val_mean_squared_error: 4.0839 - val_mean_absolute_error: 1.5654\n",
      "Epoch 102/150\n",
      "8631/8631 [==============================] - 4s 478us/step - loss: 3.8481 - mean_squared_error: 3.8481 - mean_absolute_error: 1.5180 - val_loss: 4.0712 - val_mean_squared_error: 4.0712 - val_mean_absolute_error: 1.5554\n",
      "Epoch 103/150\n",
      "8631/8631 [==============================] - 4s 476us/step - loss: 3.8343 - mean_squared_error: 3.8343 - mean_absolute_error: 1.5061 - val_loss: 4.0787 - val_mean_squared_error: 4.0787 - val_mean_absolute_error: 1.5639\n",
      "Epoch 104/150\n",
      "8631/8631 [==============================] - 4s 478us/step - loss: 3.8516 - mean_squared_error: 3.8516 - mean_absolute_error: 1.5160 - val_loss: 4.0853 - val_mean_squared_error: 4.0853 - val_mean_absolute_error: 1.6089\n",
      "Epoch 105/150\n"
     ]
    },
    {
     "name": "stdout",
     "output_type": "stream",
     "text": [
      "8631/8631 [==============================] - 4s 477us/step - loss: 3.8375 - mean_squared_error: 3.8375 - mean_absolute_error: 1.5131 - val_loss: 4.1221 - val_mean_squared_error: 4.1221 - val_mean_absolute_error: 1.5642\n",
      "Epoch 106/150\n",
      "8631/8631 [==============================] - 4s 478us/step - loss: 3.8542 - mean_squared_error: 3.8542 - mean_absolute_error: 1.5187 - val_loss: 4.1153 - val_mean_squared_error: 4.1153 - val_mean_absolute_error: 1.5579\n",
      "Epoch 107/150\n",
      "8631/8631 [==============================] - 4s 478us/step - loss: 3.8472 - mean_squared_error: 3.8472 - mean_absolute_error: 1.5146 - val_loss: 4.0988 - val_mean_squared_error: 4.0988 - val_mean_absolute_error: 1.5876\n",
      "Epoch 108/150\n",
      "8631/8631 [==============================] - 4s 477us/step - loss: 3.8420 - mean_squared_error: 3.8420 - mean_absolute_error: 1.5111 - val_loss: 4.0982 - val_mean_squared_error: 4.0982 - val_mean_absolute_error: 1.5805\n",
      "Epoch 109/150\n",
      "8631/8631 [==============================] - 4s 480us/step - loss: 3.8433 - mean_squared_error: 3.8433 - mean_absolute_error: 1.5125 - val_loss: 4.1164 - val_mean_squared_error: 4.1164 - val_mean_absolute_error: 1.5566\n",
      "Epoch 110/150\n",
      "8631/8631 [==============================] - 4s 480us/step - loss: 3.8437 - mean_squared_error: 3.8437 - mean_absolute_error: 1.5159 - val_loss: 4.0958 - val_mean_squared_error: 4.0958 - val_mean_absolute_error: 1.5477\n",
      "Epoch 111/150\n",
      "8631/8631 [==============================] - 4s 482us/step - loss: 3.8381 - mean_squared_error: 3.8381 - mean_absolute_error: 1.5059 - val_loss: 4.0835 - val_mean_squared_error: 4.0835 - val_mean_absolute_error: 1.5868\n",
      "Epoch 112/150\n",
      "8631/8631 [==============================] - 4s 479us/step - loss: 3.8453 - mean_squared_error: 3.8453 - mean_absolute_error: 1.5143 - val_loss: 4.0660 - val_mean_squared_error: 4.0660 - val_mean_absolute_error: 1.5703\n",
      "Epoch 113/150\n",
      "8631/8631 [==============================] - 4s 478us/step - loss: 3.8374 - mean_squared_error: 3.8374 - mean_absolute_error: 1.5122 - val_loss: 4.0906 - val_mean_squared_error: 4.0906 - val_mean_absolute_error: 1.5669\n",
      "Epoch 114/150\n",
      "8631/8631 [==============================] - 4s 479us/step - loss: 3.8432 - mean_squared_error: 3.8432 - mean_absolute_error: 1.5081 - val_loss: 4.0816 - val_mean_squared_error: 4.0816 - val_mean_absolute_error: 1.6080\n",
      "Epoch 115/150\n",
      "8631/8631 [==============================] - 4s 479us/step - loss: 3.8508 - mean_squared_error: 3.8508 - mean_absolute_error: 1.5196 - val_loss: 4.0725 - val_mean_squared_error: 4.0725 - val_mean_absolute_error: 1.5787\n",
      "Epoch 116/150\n",
      "8631/8631 [==============================] - 4s 480us/step - loss: 3.8318 - mean_squared_error: 3.8318 - mean_absolute_error: 1.5013 - val_loss: 4.0617 - val_mean_squared_error: 4.0617 - val_mean_absolute_error: 1.6062\n",
      "Epoch 117/150\n",
      "8631/8631 [==============================] - 4s 479us/step - loss: 3.8439 - mean_squared_error: 3.8439 - mean_absolute_error: 1.5092 - val_loss: 4.1013 - val_mean_squared_error: 4.1013 - val_mean_absolute_error: 1.5941\n",
      "Epoch 118/150\n",
      "8631/8631 [==============================] - 4s 481us/step - loss: 3.8429 - mean_squared_error: 3.8429 - mean_absolute_error: 1.5198 - val_loss: 4.1379 - val_mean_squared_error: 4.1379 - val_mean_absolute_error: 1.5790\n",
      "Epoch 119/150\n",
      "8631/8631 [==============================] - 4s 480us/step - loss: 3.8445 - mean_squared_error: 3.8445 - mean_absolute_error: 1.5175 - val_loss: 4.1170 - val_mean_squared_error: 4.1170 - val_mean_absolute_error: 1.5472\n",
      "Epoch 120/150\n",
      "8631/8631 [==============================] - 4s 480us/step - loss: 3.8527 - mean_squared_error: 3.8527 - mean_absolute_error: 1.5149 - val_loss: 4.0816 - val_mean_squared_error: 4.0816 - val_mean_absolute_error: 1.5861\n",
      "Epoch 121/150\n",
      "8631/8631 [==============================] - 4s 482us/step - loss: 3.8421 - mean_squared_error: 3.8421 - mean_absolute_error: 1.5121 - val_loss: 4.1198 - val_mean_squared_error: 4.1198 - val_mean_absolute_error: 1.5634\n",
      "Epoch 122/150\n",
      "8631/8631 [==============================] - 4s 492us/step - loss: 3.8408 - mean_squared_error: 3.8408 - mean_absolute_error: 1.5062 - val_loss: 4.0642 - val_mean_squared_error: 4.0642 - val_mean_absolute_error: 1.6057\n",
      "Epoch 123/150\n",
      "8631/8631 [==============================] - 4s 486us/step - loss: 3.8372 - mean_squared_error: 3.8372 - mean_absolute_error: 1.5167 - val_loss: 4.1092 - val_mean_squared_error: 4.1092 - val_mean_absolute_error: 1.5851\n",
      "Epoch 124/150\n",
      "8631/8631 [==============================] - 4s 489us/step - loss: 3.8421 - mean_squared_error: 3.8421 - mean_absolute_error: 1.5116 - val_loss: 4.0837 - val_mean_squared_error: 4.0837 - val_mean_absolute_error: 1.5789\n",
      "Epoch 125/150\n",
      "8631/8631 [==============================] - 4s 492us/step - loss: 3.8464 - mean_squared_error: 3.8464 - mean_absolute_error: 1.5111 - val_loss: 4.0581 - val_mean_squared_error: 4.0581 - val_mean_absolute_error: 1.5892\n",
      "Epoch 126/150\n",
      "8631/8631 [==============================] - 4s 487us/step - loss: 3.8385 - mean_squared_error: 3.8385 - mean_absolute_error: 1.5034 - val_loss: 4.0619 - val_mean_squared_error: 4.0619 - val_mean_absolute_error: 1.6119\n",
      "Epoch 127/150\n",
      "8631/8631 [==============================] - 4s 482us/step - loss: 3.8418 - mean_squared_error: 3.8418 - mean_absolute_error: 1.5127 - val_loss: 4.0622 - val_mean_squared_error: 4.0622 - val_mean_absolute_error: 1.5851\n",
      "Epoch 128/150\n",
      "8631/8631 [==============================] - 4s 482us/step - loss: 3.8327 - mean_squared_error: 3.8327 - mean_absolute_error: 1.5153 - val_loss: 4.1136 - val_mean_squared_error: 4.1136 - val_mean_absolute_error: 1.5480\n",
      "Epoch 129/150\n",
      "8631/8631 [==============================] - 4s 481us/step - loss: 3.8339 - mean_squared_error: 3.8339 - mean_absolute_error: 1.5079 - val_loss: 4.1264 - val_mean_squared_error: 4.1264 - val_mean_absolute_error: 1.5673\n",
      "Epoch 130/150\n",
      "8631/8631 [==============================] - 4s 482us/step - loss: 3.8419 - mean_squared_error: 3.8419 - mean_absolute_error: 1.5082 - val_loss: 4.1082 - val_mean_squared_error: 4.1082 - val_mean_absolute_error: 1.5631\n",
      "Epoch 131/150\n",
      "8631/8631 [==============================] - 4s 482us/step - loss: 3.8442 - mean_squared_error: 3.8442 - mean_absolute_error: 1.5110 - val_loss: 4.1089 - val_mean_squared_error: 4.1089 - val_mean_absolute_error: 1.5656\n",
      "Epoch 132/150\n",
      "8631/8631 [==============================] - 4s 480us/step - loss: 3.8340 - mean_squared_error: 3.8340 - mean_absolute_error: 1.5109 - val_loss: 4.1134 - val_mean_squared_error: 4.1134 - val_mean_absolute_error: 1.5834\n",
      "Epoch 133/150\n",
      "8631/8631 [==============================] - 4s 481us/step - loss: 3.8407 - mean_squared_error: 3.8407 - mean_absolute_error: 1.5142 - val_loss: 4.1296 - val_mean_squared_error: 4.1296 - val_mean_absolute_error: 1.5679\n",
      "Epoch 134/150\n",
      "8631/8631 [==============================] - 4s 483us/step - loss: 3.8523 - mean_squared_error: 3.8523 - mean_absolute_error: 1.5108 - val_loss: 4.1050 - val_mean_squared_error: 4.1050 - val_mean_absolute_error: 1.5591\n",
      "Epoch 135/150\n",
      "8631/8631 [==============================] - 4s 494us/step - loss: 3.8408 - mean_squared_error: 3.8408 - mean_absolute_error: 1.5124 - val_loss: 4.1046 - val_mean_squared_error: 4.1046 - val_mean_absolute_error: 1.5816\n",
      "Epoch 136/150\n",
      "8631/8631 [==============================] - 4s 488us/step - loss: 3.8368 - mean_squared_error: 3.8368 - mean_absolute_error: 1.5129 - val_loss: 4.1219 - val_mean_squared_error: 4.1219 - val_mean_absolute_error: 1.5716\n",
      "Epoch 137/150\n",
      "8631/8631 [==============================] - 4s 489us/step - loss: 3.8449 - mean_squared_error: 3.8449 - mean_absolute_error: 1.5068 - val_loss: 4.0761 - val_mean_squared_error: 4.0761 - val_mean_absolute_error: 1.5936\n",
      "Epoch 138/150\n",
      "8631/8631 [==============================] - 4s 485us/step - loss: 3.8429 - mean_squared_error: 3.8429 - mean_absolute_error: 1.5159 - val_loss: 4.1165 - val_mean_squared_error: 4.1165 - val_mean_absolute_error: 1.5830\n",
      "Epoch 139/150\n",
      "8631/8631 [==============================] - 4s 486us/step - loss: 3.8318 - mean_squared_error: 3.8318 - mean_absolute_error: 1.5144 - val_loss: 4.1530 - val_mean_squared_error: 4.1530 - val_mean_absolute_error: 1.5601\n",
      "Epoch 140/150\n",
      "8631/8631 [==============================] - 4s 487us/step - loss: 3.8419 - mean_squared_error: 3.8419 - mean_absolute_error: 1.5123 - val_loss: 4.1080 - val_mean_squared_error: 4.1080 - val_mean_absolute_error: 1.5709\n",
      "Epoch 141/150\n",
      "8631/8631 [==============================] - 4s 487us/step - loss: 3.8331 - mean_squared_error: 3.8331 - mean_absolute_error: 1.5089 - val_loss: 4.0588 - val_mean_squared_error: 4.0588 - val_mean_absolute_error: 1.5877\n",
      "Epoch 142/150\n",
      "8631/8631 [==============================] - 4s 487us/step - loss: 3.8345 - mean_squared_error: 3.8345 - mean_absolute_error: 1.5052 - val_loss: 4.1137 - val_mean_squared_error: 4.1137 - val_mean_absolute_error: 1.5794\n",
      "Epoch 143/150\n",
      "8631/8631 [==============================] - 4s 486us/step - loss: 3.8435 - mean_squared_error: 3.8435 - mean_absolute_error: 1.5171 - val_loss: 4.0994 - val_mean_squared_error: 4.0994 - val_mean_absolute_error: 1.5860\n",
      "Epoch 144/150\n",
      "8631/8631 [==============================] - 4s 487us/step - loss: 3.8284 - mean_squared_error: 3.8284 - mean_absolute_error: 1.5087 - val_loss: 4.1111 - val_mean_squared_error: 4.1111 - val_mean_absolute_error: 1.5752\n",
      "Epoch 145/150\n",
      "8631/8631 [==============================] - 4s 487us/step - loss: 3.8379 - mean_squared_error: 3.8379 - mean_absolute_error: 1.5125 - val_loss: 4.0822 - val_mean_squared_error: 4.0822 - val_mean_absolute_error: 1.5810\n",
      "Epoch 146/150\n",
      "8631/8631 [==============================] - 4s 487us/step - loss: 3.8415 - mean_squared_error: 3.8415 - mean_absolute_error: 1.5180 - val_loss: 4.0787 - val_mean_squared_error: 4.0787 - val_mean_absolute_error: 1.5609\n",
      "Epoch 147/150\n",
      "8631/8631 [==============================] - 4s 487us/step - loss: 3.8362 - mean_squared_error: 3.8362 - mean_absolute_error: 1.5090 - val_loss: 4.1016 - val_mean_squared_error: 4.1016 - val_mean_absolute_error: 1.5695\n",
      "Epoch 148/150\n",
      "8631/8631 [==============================] - 4s 490us/step - loss: 3.8342 - mean_squared_error: 3.8342 - mean_absolute_error: 1.5003 - val_loss: 4.0584 - val_mean_squared_error: 4.0584 - val_mean_absolute_error: 1.5756\n",
      "Epoch 149/150\n",
      "8631/8631 [==============================] - 4s 488us/step - loss: 3.8294 - mean_squared_error: 3.8294 - mean_absolute_error: 1.5061 - val_loss: 4.0673 - val_mean_squared_error: 4.0673 - val_mean_absolute_error: 1.5944\n",
      "Epoch 150/150\n",
      "8631/8631 [==============================] - 4s 488us/step - loss: 3.8391 - mean_squared_error: 3.8391 - mean_absolute_error: 1.5111 - val_loss: 4.0748 - val_mean_squared_error: 4.0748 - val_mean_absolute_error: 1.5838\n",
      "EndTime : 2019-12-05 20:04:16.955000\n"
     ]
    }
   ],
   "source": [
    "# model fitting\n",
    "optim = Adam(lr=0.0002)\n",
    "\n",
    "model.compile(loss='mse',\n",
    "\t\t      optimizer=optim,\n",
    "\t\t\t  metrics=['mse','mae'])\n",
    "\n",
    "StartTime8 = datetime.now()\n",
    "print(\"StartTime :\", StartTime8)\n",
    "with K.tf.device('/GPU:0'):\n",
    "    model_train = model.fit([train_X_cell, train_X_drug], train_y, validation_data=([test_X_cell, test_X_drug], test_y),\n",
    "                            batch_size=batch_size,epochs=training_epochs,verbose=1)\n",
    "\n",
    "EndTime8 = datetime.now()\n",
    "print(\"EndTime :\", EndTime8)"
   ]
  },
  {
   "cell_type": "code",
   "execution_count": 26,
   "metadata": {},
   "outputs": [],
   "source": [
    "import json\n",
    "from keras.models import model_from_json, load_model\n",
    "workdir = \"E://Ronny_TF//DrugResponsivenessGuidelines//Experiments//191205_rerun//ResNet//Result//EYDC-9K//CNN\"\n",
    "# Option 1: Save Weights + Architecture\n",
    "model.save_weights(workdir+ '//EYDC9K_CNN_model_fix_v3.h5')\n",
    "with open(workdir + '//EYDC9K_CNN_model_architecture_fix_v3.json', 'w') as f:\n",
    "    f.write(model.to_json())\n",
    "# Option 1: Load Weights + Architecture\n",
    "# with open('model_architecture.json', 'r') as f:\n",
    "#     new_model_1 = model_from_json(f.read())\n",
    "# new_model_1.load_weights('model_weights.h5')"
   ]
  },
  {
   "cell_type": "code",
   "execution_count": 27,
   "metadata": {},
   "outputs": [],
   "source": [
    "# Option 2: Save/Load the Entire Model\n",
    "from keras.models import load_model\n",
    "\n",
    "# Creates a HDF5 file 'my_model.h5'\n",
    "model.save(workdir + '//EYDC9K_CNN_model_fix_2080ti_v3.h5')\n",
    "\n",
    "# Deletes the existing model\n",
    "# del model  \n",
    "\n",
    "# Returns a compiled model identical to the previous one\n",
    "# model = load_model('my_model.h5')"
   ]
  },
  {
   "cell_type": "code",
   "execution_count": 28,
   "metadata": {},
   "outputs": [
    {
     "name": "stdout",
     "output_type": "stream",
     "text": [
      "959/959 [==============================] - 0s 509us/step\n"
     ]
    }
   ],
   "source": [
    "test_eval = model.evaluate([test_X_cell,test_X_drug], test_label_array, verbose=1)"
   ]
  },
  {
   "cell_type": "code",
   "execution_count": 29,
   "metadata": {},
   "outputs": [
    {
     "data": {
      "text/plain": [
       "[4.0748254268335975, 4.0748254268335975, 1.583826741784407]"
      ]
     },
     "execution_count": 29,
     "metadata": {},
     "output_type": "execute_result"
    }
   ],
   "source": [
    "test_eval"
   ]
  },
  {
   "cell_type": "code",
   "execution_count": 30,
   "metadata": {},
   "outputs": [],
   "source": [
    "accuracy = model_train.history['mean_squared_error']\n",
    "val_accuracy = model_train.history['val_mean_squared_error']\n",
    "loss = model_train.history['loss']\n",
    "val_loss = model_train.history['val_loss']\n",
    "\n",
    "np_acc = np.array(accuracy)\n",
    "np_val_acc = np.array(val_accuracy)\n",
    "np_loss = np.array(loss)\n",
    "np_val_loss = np.array(val_loss)"
   ]
  },
  {
   "cell_type": "code",
   "execution_count": 31,
   "metadata": {},
   "outputs": [],
   "source": [
    "np.savetxt(\"191205_EYDC9K_CNN_acc_cls3_fix_2080ti_v3.csv\", np_acc, delimiter=\",\")\n",
    "np.savetxt(\"191205_EYDC9K_CNN_val_acc_cls3_fix_2080ti_v3.csv\", np_val_acc, delimiter=\",\")\n",
    "np.savetxt(\"191205_EYDC9K_CNN_loss_cls3_fix_2080ti_v3.csv\", np_loss, delimiter=\",\")\n",
    "np.savetxt(\"191205_EYDC9K_CNN_val_loss_cls3_fix_2080ti_v3.csv\", np_val_loss, delimiter=\",\")"
   ]
  },
  {
   "cell_type": "code",
   "execution_count": 32,
   "metadata": {},
   "outputs": [],
   "source": [
    "import matplotlib\n",
    "from matplotlib import pyplot as plt"
   ]
  },
  {
   "cell_type": "code",
   "execution_count": 33,
   "metadata": {},
   "outputs": [
    {
     "data": {
      "image/png": "[encoded data removed]",
      "text/plain": [
       "<Figure size 432x288 with 1 Axes>"
      ]
     },
     "metadata": {
      "needs_background": "light"
     },
     "output_type": "display_data"
    },
    {
     "data": {
      "image/png": "[encoded data removed]",
      "text/plain": [
       "<Figure size 432x288 with 1 Axes>"
      ]
     },
     "metadata": {
      "needs_background": "light"
     },
     "output_type": "display_data"
    }
   ],
   "source": [
    "# accuracy = model_train.history['acc']\n",
    "# val_accuracy = model_train.history['val_acc']\n",
    "# loss = model_train.history['loss']\n",
    "# val_loss = model_train.history['val_loss']\n",
    "epochs = range(len(accuracy))\n",
    "plt.plot(epochs, accuracy, 'bo', label='Training mse',c='red')\n",
    "plt.plot(epochs, val_accuracy, 'b', label='Validation mse',c='red')\n",
    "plt.title('Training and validation mse')\n",
    "plt.legend()\n",
    "plt.figure()\n",
    "plt.plot(epochs, loss, 'bo', label='Training loss',c='red')\n",
    "plt.plot(epochs, val_loss, 'b', label='Validation loss',c='red')\n",
    "plt.title('Training and validation loss')\n",
    "plt.legend()\n",
    "plt.show()"
   ]
  },
  {
   "cell_type": "code",
   "execution_count": 34,
   "metadata": {},
   "outputs": [],
   "source": [
    "predicted_classes = model.predict([test_X_cell,test_X_drug])"
   ]
  },
  {
   "cell_type": "code",
   "execution_count": 35,
   "metadata": {},
   "outputs": [],
   "source": [
    "predicted_value = predicted_classes"
   ]
  },
  {
   "cell_type": "code",
   "execution_count": 36,
   "metadata": {},
   "outputs": [],
   "source": [
    "a = pd.DataFrame(predicted_value)\n",
    "b = pd.DataFrame(test_label_array)\n",
    "c = pd.concat([a,b], axis=1)\n",
    "c.columns=[\"Predicted\",\"Test\"]"
   ]
  },
  {
   "cell_type": "code",
   "execution_count": 37,
   "metadata": {},
   "outputs": [],
   "source": [
    "c.to_csv(workdir + '//EYDC9K_CNN_Predicted_test_val_for_plot.csv')"
   ]
  },
  {
   "cell_type": "code",
   "execution_count": 38,
   "metadata": {
    "scrolled": true
   },
   "outputs": [
    {
     "data": {
      "text/html": [
       "<div>\n",
       "<style scoped>\n",
       "    .dataframe tbody tr th:only-of-type {\n",
       "        vertical-align: middle;\n",
       "    }\n",
       "\n",
       "    .dataframe tbody tr th {\n",
       "        vertical-align: top;\n",
       "    }\n",
       "\n",
       "    .dataframe thead th {\n",
       "        text-align: right;\n",
       "    }\n",
       "</style>\n",
       "<table border=\"1\" class=\"dataframe\">\n",
       "  <thead>\n",
       "    <tr style=\"text-align: right;\">\n",
       "      <th></th>\n",
       "      <th>Predicted</th>\n",
       "      <th>Test</th>\n",
       "    </tr>\n",
       "  </thead>\n",
       "  <tbody>\n",
       "    <tr>\n",
       "      <th>0</th>\n",
       "      <td>0.360415</td>\n",
       "      <td>2.079442</td>\n",
       "    </tr>\n",
       "    <tr>\n",
       "      <th>1</th>\n",
       "      <td>0.489502</td>\n",
       "      <td>2.079442</td>\n",
       "    </tr>\n",
       "    <tr>\n",
       "      <th>2</th>\n",
       "      <td>1.115429</td>\n",
       "      <td>-1.595384</td>\n",
       "    </tr>\n",
       "    <tr>\n",
       "      <th>3</th>\n",
       "      <td>0.950194</td>\n",
       "      <td>2.079442</td>\n",
       "    </tr>\n",
       "    <tr>\n",
       "      <th>4</th>\n",
       "      <td>0.486989</td>\n",
       "      <td>-3.566824</td>\n",
       "    </tr>\n",
       "    <tr>\n",
       "      <th>5</th>\n",
       "      <td>0.578317</td>\n",
       "      <td>2.079442</td>\n",
       "    </tr>\n",
       "    <tr>\n",
       "      <th>6</th>\n",
       "      <td>0.461611</td>\n",
       "      <td>-0.294071</td>\n",
       "    </tr>\n",
       "    <tr>\n",
       "      <th>7</th>\n",
       "      <td>0.718371</td>\n",
       "      <td>2.079442</td>\n",
       "    </tr>\n",
       "    <tr>\n",
       "      <th>8</th>\n",
       "      <td>1.511789</td>\n",
       "      <td>2.039509</td>\n",
       "    </tr>\n",
       "    <tr>\n",
       "      <th>9</th>\n",
       "      <td>0.360415</td>\n",
       "      <td>-0.077654</td>\n",
       "    </tr>\n",
       "    <tr>\n",
       "      <th>10</th>\n",
       "      <td>0.477279</td>\n",
       "      <td>-1.390504</td>\n",
       "    </tr>\n",
       "    <tr>\n",
       "      <th>11</th>\n",
       "      <td>1.354472</td>\n",
       "      <td>2.079442</td>\n",
       "    </tr>\n",
       "    <tr>\n",
       "      <th>12</th>\n",
       "      <td>1.162117</td>\n",
       "      <td>2.035422</td>\n",
       "    </tr>\n",
       "    <tr>\n",
       "      <th>13</th>\n",
       "      <td>0.647171</td>\n",
       "      <td>2.079442</td>\n",
       "    </tr>\n",
       "    <tr>\n",
       "      <th>14</th>\n",
       "      <td>1.271500</td>\n",
       "      <td>-1.436804</td>\n",
       "    </tr>\n",
       "    <tr>\n",
       "      <th>15</th>\n",
       "      <td>1.056689</td>\n",
       "      <td>2.079442</td>\n",
       "    </tr>\n",
       "    <tr>\n",
       "      <th>16</th>\n",
       "      <td>0.616445</td>\n",
       "      <td>1.019624</td>\n",
       "    </tr>\n",
       "    <tr>\n",
       "      <th>17</th>\n",
       "      <td>1.095515</td>\n",
       "      <td>-4.561070</td>\n",
       "    </tr>\n",
       "    <tr>\n",
       "      <th>18</th>\n",
       "      <td>-0.048221</td>\n",
       "      <td>-1.301971</td>\n",
       "    </tr>\n",
       "    <tr>\n",
       "      <th>19</th>\n",
       "      <td>0.822157</td>\n",
       "      <td>2.079442</td>\n",
       "    </tr>\n",
       "    <tr>\n",
       "      <th>20</th>\n",
       "      <td>1.058732</td>\n",
       "      <td>2.079442</td>\n",
       "    </tr>\n",
       "    <tr>\n",
       "      <th>21</th>\n",
       "      <td>0.538661</td>\n",
       "      <td>2.079442</td>\n",
       "    </tr>\n",
       "    <tr>\n",
       "      <th>22</th>\n",
       "      <td>1.236341</td>\n",
       "      <td>-5.006347</td>\n",
       "    </tr>\n",
       "    <tr>\n",
       "      <th>23</th>\n",
       "      <td>0.688872</td>\n",
       "      <td>2.079442</td>\n",
       "    </tr>\n",
       "    <tr>\n",
       "      <th>24</th>\n",
       "      <td>1.354472</td>\n",
       "      <td>2.079442</td>\n",
       "    </tr>\n",
       "    <tr>\n",
       "      <th>25</th>\n",
       "      <td>1.442641</td>\n",
       "      <td>2.079442</td>\n",
       "    </tr>\n",
       "    <tr>\n",
       "      <th>26</th>\n",
       "      <td>0.977336</td>\n",
       "      <td>-3.785315</td>\n",
       "    </tr>\n",
       "    <tr>\n",
       "      <th>27</th>\n",
       "      <td>-0.061566</td>\n",
       "      <td>2.055531</td>\n",
       "    </tr>\n",
       "    <tr>\n",
       "      <th>28</th>\n",
       "      <td>-0.117725</td>\n",
       "      <td>1.774149</td>\n",
       "    </tr>\n",
       "    <tr>\n",
       "      <th>29</th>\n",
       "      <td>0.726390</td>\n",
       "      <td>-3.256286</td>\n",
       "    </tr>\n",
       "    <tr>\n",
       "      <th>...</th>\n",
       "      <td>...</td>\n",
       "      <td>...</td>\n",
       "    </tr>\n",
       "    <tr>\n",
       "      <th>929</th>\n",
       "      <td>0.759426</td>\n",
       "      <td>-0.334657</td>\n",
       "    </tr>\n",
       "    <tr>\n",
       "      <th>930</th>\n",
       "      <td>0.968451</td>\n",
       "      <td>2.079442</td>\n",
       "    </tr>\n",
       "    <tr>\n",
       "      <th>931</th>\n",
       "      <td>1.037210</td>\n",
       "      <td>-4.362381</td>\n",
       "    </tr>\n",
       "    <tr>\n",
       "      <th>932</th>\n",
       "      <td>-0.117725</td>\n",
       "      <td>1.013571</td>\n",
       "    </tr>\n",
       "    <tr>\n",
       "      <th>933</th>\n",
       "      <td>0.024123</td>\n",
       "      <td>2.079442</td>\n",
       "    </tr>\n",
       "    <tr>\n",
       "      <th>934</th>\n",
       "      <td>1.014139</td>\n",
       "      <td>2.079442</td>\n",
       "    </tr>\n",
       "    <tr>\n",
       "      <th>935</th>\n",
       "      <td>1.529857</td>\n",
       "      <td>2.079442</td>\n",
       "    </tr>\n",
       "    <tr>\n",
       "      <th>936</th>\n",
       "      <td>1.287368</td>\n",
       "      <td>-3.618670</td>\n",
       "    </tr>\n",
       "    <tr>\n",
       "      <th>937</th>\n",
       "      <td>0.639594</td>\n",
       "      <td>2.079442</td>\n",
       "    </tr>\n",
       "    <tr>\n",
       "      <th>938</th>\n",
       "      <td>0.752579</td>\n",
       "      <td>2.079442</td>\n",
       "    </tr>\n",
       "    <tr>\n",
       "      <th>939</th>\n",
       "      <td>0.712892</td>\n",
       "      <td>2.079442</td>\n",
       "    </tr>\n",
       "    <tr>\n",
       "      <th>940</th>\n",
       "      <td>0.186844</td>\n",
       "      <td>2.079442</td>\n",
       "    </tr>\n",
       "    <tr>\n",
       "      <th>941</th>\n",
       "      <td>1.089058</td>\n",
       "      <td>1.479909</td>\n",
       "    </tr>\n",
       "    <tr>\n",
       "      <th>942</th>\n",
       "      <td>1.370668</td>\n",
       "      <td>2.079442</td>\n",
       "    </tr>\n",
       "    <tr>\n",
       "      <th>943</th>\n",
       "      <td>1.037569</td>\n",
       "      <td>2.079442</td>\n",
       "    </tr>\n",
       "    <tr>\n",
       "      <th>944</th>\n",
       "      <td>0.454959</td>\n",
       "      <td>0.470163</td>\n",
       "    </tr>\n",
       "    <tr>\n",
       "      <th>945</th>\n",
       "      <td>0.957175</td>\n",
       "      <td>2.079442</td>\n",
       "    </tr>\n",
       "    <tr>\n",
       "      <th>946</th>\n",
       "      <td>0.884758</td>\n",
       "      <td>2.079442</td>\n",
       "    </tr>\n",
       "    <tr>\n",
       "      <th>947</th>\n",
       "      <td>0.765788</td>\n",
       "      <td>-2.459193</td>\n",
       "    </tr>\n",
       "    <tr>\n",
       "      <th>948</th>\n",
       "      <td>1.621105</td>\n",
       "      <td>2.079442</td>\n",
       "    </tr>\n",
       "    <tr>\n",
       "      <th>949</th>\n",
       "      <td>1.039916</td>\n",
       "      <td>2.079442</td>\n",
       "    </tr>\n",
       "    <tr>\n",
       "      <th>950</th>\n",
       "      <td>1.091720</td>\n",
       "      <td>2.079442</td>\n",
       "    </tr>\n",
       "    <tr>\n",
       "      <th>951</th>\n",
       "      <td>0.543252</td>\n",
       "      <td>1.076232</td>\n",
       "    </tr>\n",
       "    <tr>\n",
       "      <th>952</th>\n",
       "      <td>1.039033</td>\n",
       "      <td>2.079442</td>\n",
       "    </tr>\n",
       "    <tr>\n",
       "      <th>953</th>\n",
       "      <td>-0.765347</td>\n",
       "      <td>1.357675</td>\n",
       "    </tr>\n",
       "    <tr>\n",
       "      <th>954</th>\n",
       "      <td>-0.002009</td>\n",
       "      <td>-1.024949</td>\n",
       "    </tr>\n",
       "    <tr>\n",
       "      <th>955</th>\n",
       "      <td>0.529854</td>\n",
       "      <td>-2.884054</td>\n",
       "    </tr>\n",
       "    <tr>\n",
       "      <th>956</th>\n",
       "      <td>-0.036328</td>\n",
       "      <td>-0.837603</td>\n",
       "    </tr>\n",
       "    <tr>\n",
       "      <th>957</th>\n",
       "      <td>0.695625</td>\n",
       "      <td>-1.808728</td>\n",
       "    </tr>\n",
       "    <tr>\n",
       "      <th>958</th>\n",
       "      <td>0.010420</td>\n",
       "      <td>1.896654</td>\n",
       "    </tr>\n",
       "  </tbody>\n",
       "</table>\n",
       "<p>959 rows × 2 columns</p>\n",
       "</div>"
      ],
      "text/plain": [
       "     Predicted      Test\n",
       "0     0.360415  2.079442\n",
       "1     0.489502  2.079442\n",
       "2     1.115429 -1.595384\n",
       "3     0.950194  2.079442\n",
       "4     0.486989 -3.566824\n",
       "5     0.578317  2.079442\n",
       "6     0.461611 -0.294071\n",
       "7     0.718371  2.079442\n",
       "8     1.511789  2.039509\n",
       "9     0.360415 -0.077654\n",
       "10    0.477279 -1.390504\n",
       "11    1.354472  2.079442\n",
       "12    1.162117  2.035422\n",
       "13    0.647171  2.079442\n",
       "14    1.271500 -1.436804\n",
       "15    1.056689  2.079442\n",
       "16    0.616445  1.019624\n",
       "17    1.095515 -4.561070\n",
       "18   -0.048221 -1.301971\n",
       "19    0.822157  2.079442\n",
       "20    1.058732  2.079442\n",
       "21    0.538661  2.079442\n",
       "22    1.236341 -5.006347\n",
       "23    0.688872  2.079442\n",
       "24    1.354472  2.079442\n",
       "25    1.442641  2.079442\n",
       "26    0.977336 -3.785315\n",
       "27   -0.061566  2.055531\n",
       "28   -0.117725  1.774149\n",
       "29    0.726390 -3.256286\n",
       "..         ...       ...\n",
       "929   0.759426 -0.334657\n",
       "930   0.968451  2.079442\n",
       "931   1.037210 -4.362381\n",
       "932  -0.117725  1.013571\n",
       "933   0.024123  2.079442\n",
       "934   1.014139  2.079442\n",
       "935   1.529857  2.079442\n",
       "936   1.287368 -3.618670\n",
       "937   0.639594  2.079442\n",
       "938   0.752579  2.079442\n",
       "939   0.712892  2.079442\n",
       "940   0.186844  2.079442\n",
       "941   1.089058  1.479909\n",
       "942   1.370668  2.079442\n",
       "943   1.037569  2.079442\n",
       "944   0.454959  0.470163\n",
       "945   0.957175  2.079442\n",
       "946   0.884758  2.079442\n",
       "947   0.765788 -2.459193\n",
       "948   1.621105  2.079442\n",
       "949   1.039916  2.079442\n",
       "950   1.091720  2.079442\n",
       "951   0.543252  1.076232\n",
       "952   1.039033  2.079442\n",
       "953  -0.765347  1.357675\n",
       "954  -0.002009 -1.024949\n",
       "955   0.529854 -2.884054\n",
       "956  -0.036328 -0.837603\n",
       "957   0.695625 -1.808728\n",
       "958   0.010420  1.896654\n",
       "\n",
       "[959 rows x 2 columns]"
      ]
     },
     "execution_count": 38,
     "metadata": {},
     "output_type": "execute_result"
    }
   ],
   "source": [
    "c"
   ]
  },
  {
   "cell_type": "code",
   "execution_count": 39,
   "metadata": {},
   "outputs": [
    {
     "data": {
      "text/plain": [
       "(959, 1)"
      ]
     },
     "execution_count": 39,
     "metadata": {},
     "output_type": "execute_result"
    }
   ],
   "source": [
    "predicted_value.shape"
   ]
  },
  {
   "cell_type": "code",
   "execution_count": 41,
   "metadata": {},
   "outputs": [
    {
     "data": {
      "image/png": "[encoded data removed]",
      "text/plain": [
       "<Figure size 432x288 with 1 Axes>"
      ]
     },
     "metadata": {
      "needs_background": "light"
     },
     "output_type": "display_data"
    }
   ],
   "source": [
    "# scatter plot\n",
    "plt.scatter(test_label_array,predicted_value,c='red')\n",
    "plt.xlabel('test_IC50_value')\n",
    "plt.ylabel('predicted_IC50_value')\n",
    "plt.savefig(workdir + '//191205_EYDC9k_CNN_CDR_master_scatterplot.png')"
   ]
  },
  {
   "cell_type": "code",
   "execution_count": 42,
   "metadata": {},
   "outputs": [
    {
     "name": "stdout",
     "output_type": "stream",
     "text": [
      "Final rmse value is = 2.0186197424861754\n"
     ]
    }
   ],
   "source": [
    "# RMSE\n",
    "rse = ((b[0]-a[0])**2).sum()\n",
    "mse = rse / len(b)\n",
    "print(\"Final rmse value is =\",np.sqrt(mse))"
   ]
  },
  {
   "cell_type": "code",
   "execution_count": null,
   "metadata": {},
   "outputs": [],
   "source": [
    "# R-squared value\n",
    "\n",
    "from sklearn.metrics import r2_score\n",
    "r2_value = r2_score(b, a) \n",
    "print(r2_value)"
   ]
  }
 ],
 "metadata": {
  "kernelspec": {
   "display_name": "Python 3",
   "language": "python",
   "name": "python3"
  },
  "language_info": {
   "codemirror_mode": {
    "name": "ipython",
    "version": 3
   },
   "file_extension": ".py",
   "mimetype": "text/x-python",
   "name": "python",
   "nbconvert_exporter": "python",
   "pygments_lexer": "ipython3",
   "version": "3.6.9"
  }
 },
 "nbformat": 4,
 "nbformat_minor": 2
}
