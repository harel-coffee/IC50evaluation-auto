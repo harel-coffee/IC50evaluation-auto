{
 "cells": [
  {
   "cell_type": "code",
   "execution_count": 4,
   "metadata": {},
   "outputs": [],
   "source": [
    "import os\n",
    "import pandas as pd\n",
    "import numpy as np\n",
    "import random\n",
    "from pandas import DataFrame\n",
    "from datetime import datetime\n",
    "from sklearn.linear_model import Lasso\n",
    "import matplotlib\n",
    "from matplotlib import pyplot as plt\n",
    "\n",
    "# input file path\n",
    "workdir = \"D://DrugResponsivenessGuideline_log//Github//200914_reupload//Dataset//Scenario3_EYDC-9K\""
   ]
  },
  {
   "cell_type": "code",
   "execution_count": 5,
   "metadata": {},
   "outputs": [],
   "source": [
    "# read input file and index file for training and test set\n",
    "dataset = np.load(workdir + \"//200914_EYDC9K.npz\")\n",
    "ss0 = np.load(workdir + '//200914_EYDC9K_r0_9_1.npz')"
   ]
  },
  {
   "cell_type": "code",
   "execution_count": 6,
   "metadata": {},
   "outputs": [],
   "source": [
    "# input and index file assign\n",
    "x = dataset['x']\n",
    "y = dataset['y']\n",
    "# y_linear = dataset['y_lnIC50']\n",
    "ss0_train = ss0['train']\n",
    "ss0_test = ss0['test']"
   ]
  },
  {
   "cell_type": "code",
   "execution_count": 7,
   "metadata": {},
   "outputs": [],
   "source": [
    "# training and test dataset assign\n",
    "training_image_array, training_label_array = x[ss0_train], y[ss0_train]\n",
    "test_image_array, test_label_array = x[ss0_test], y[ss0_test]\n"
   ]
  },
  {
   "cell_type": "code",
   "execution_count": 8,
   "metadata": {},
   "outputs": [
    {
     "data": {
      "text/plain": [
       "(9590, 41505)"
      ]
     },
     "execution_count": 8,
     "metadata": {},
     "output_type": "execute_result"
    }
   ],
   "source": [
    "# checking the size of dataset\n",
    "x.shape"
   ]
  },
  {
   "cell_type": "code",
   "execution_count": 9,
   "metadata": {},
   "outputs": [
    {
     "data": {
      "text/plain": [
       "(8631, 41505)"
      ]
     },
     "execution_count": 9,
     "metadata": {},
     "output_type": "execute_result"
    }
   ],
   "source": [
    "# checking the size of training set\n",
    "training_image_array.shape"
   ]
  },
  {
   "cell_type": "code",
   "execution_count": 10,
   "metadata": {},
   "outputs": [],
   "source": [
    "train_X, train_y, test_X, test_y = training_image_array, training_label_array, test_image_array, test_label_array\n"
   ]
  },
  {
   "cell_type": "code",
   "execution_count": 11,
   "metadata": {},
   "outputs": [
    {
     "name": "stdout",
     "output_type": "stream",
     "text": [
      "(8631, 41505) (8631,) (959, 41505) (959,)\n"
     ]
    }
   ],
   "source": [
    "print(train_X.shape, train_y.shape, test_X.shape, test_y.shape)"
   ]
  },
  {
   "cell_type": "code",
   "execution_count": 12,
   "metadata": {},
   "outputs": [],
   "source": [
    "# impute nan to zero\n",
    "train_X = np.nan_to_num(train_X)\n",
    "test_X = np.nan_to_num(test_X)"
   ]
  },
  {
   "cell_type": "code",
   "execution_count": 13,
   "metadata": {},
   "outputs": [
    {
     "name": "stdout",
     "output_type": "stream",
     "text": [
      "train_X shape: (8631, 41505)\n",
      "8631 train samples\n",
      "959 test samples\n"
     ]
    }
   ],
   "source": [
    "# data typing and the number of dataset\n",
    "train_X = train_X.astype('float32')\n",
    "test_X = test_X.astype('float32')\n",
    "# train_X /= 255\n",
    "# test_X /= 255\n",
    "print('train_X shape:', train_X.shape)\n",
    "print(train_X.shape[0], 'train samples')\n",
    "print(test_X.shape[0], 'test samples')"
   ]
  },
  {
   "cell_type": "code",
   "execution_count": 14,
   "metadata": {
    "scrolled": false
   },
   "outputs": [
    {
     "name": "stdout",
     "output_type": "stream",
     "text": [
      "StartTime : 2020-09-15 12:00:37.992136\n",
      "EndTime : 2020-09-15 12:02:32.634647\n"
     ]
    },
    {
     "name": "stderr",
     "output_type": "stream",
     "text": [
      "C:\\Users\\ylab\\AppData\\Local\\conda\\conda\\envs\\ronny\\lib\\site-packages\\sklearn\\linear_model\\_coordinate_descent.py:476: ConvergenceWarning: Objective did not converge. You might want to increase the number of iterations. Duality gap: 31.275390625, tolerance: 3.4873640537261963\n",
      "  positive)\n"
     ]
    }
   ],
   "source": [
    "# model fitting\n",
    "StartTime8 = datetime.now()\n",
    "print(\"StartTime :\", StartTime8)\n",
    "\n",
    "lasso_regressor = Lasso(alpha=0.001)\n",
    "lasso_regressor.fit(train_X,train_y)\n",
    "\n",
    "EndTime8 = datetime.now()\n",
    "print(\"EndTime :\", EndTime8)"
   ]
  },
  {
   "cell_type": "code",
   "execution_count": 15,
   "metadata": {},
   "outputs": [],
   "source": [
    "predicted_classes = lasso_regressor.predict(test_X)"
   ]
  },
  {
   "cell_type": "code",
   "execution_count": 16,
   "metadata": {},
   "outputs": [],
   "source": [
    "predicted_value = predicted_classes"
   ]
  },
  {
   "cell_type": "code",
   "execution_count": 17,
   "metadata": {},
   "outputs": [],
   "source": [
    "# saving predicted ln(IC50)s and ln(IC50)s in the test set\n",
    "a = pd.DataFrame(predicted_value)\n",
    "b = pd.DataFrame(test_label_array)\n",
    "c = pd.concat([a,b], axis=1)\n",
    "c.columns=[\"Predicted\",\"Test\"]\n",
    "workdir = \"D://DrugResponsivenessGuideline_log//Github//200914_reupload//Result//EYDC-9K\"\n",
    "c.to_csv(workdir + '//200915_EYDC9K_Lasso_pred_and_val_result.csv', index=False)\n"
   ]
  },
  {
   "cell_type": "code",
   "execution_count": 18,
   "metadata": {
    "scrolled": true
   },
   "outputs": [
    {
     "data": {
      "text/html": [
       "<div>\n",
       "<style scoped>\n",
       "    .dataframe tbody tr th:only-of-type {\n",
       "        vertical-align: middle;\n",
       "    }\n",
       "\n",
       "    .dataframe tbody tr th {\n",
       "        vertical-align: top;\n",
       "    }\n",
       "\n",
       "    .dataframe thead th {\n",
       "        text-align: right;\n",
       "    }\n",
       "</style>\n",
       "<table border=\"1\" class=\"dataframe\">\n",
       "  <thead>\n",
       "    <tr style=\"text-align: right;\">\n",
       "      <th></th>\n",
       "      <th>Predicted</th>\n",
       "      <th>Test</th>\n",
       "    </tr>\n",
       "  </thead>\n",
       "  <tbody>\n",
       "    <tr>\n",
       "      <th>0</th>\n",
       "      <td>-3.719768</td>\n",
       "      <td>-4.667942</td>\n",
       "    </tr>\n",
       "    <tr>\n",
       "      <th>1</th>\n",
       "      <td>2.005801</td>\n",
       "      <td>2.079442</td>\n",
       "    </tr>\n",
       "    <tr>\n",
       "      <th>2</th>\n",
       "      <td>1.631146</td>\n",
       "      <td>2.079442</td>\n",
       "    </tr>\n",
       "    <tr>\n",
       "      <th>3</th>\n",
       "      <td>2.378860</td>\n",
       "      <td>2.079442</td>\n",
       "    </tr>\n",
       "    <tr>\n",
       "      <th>4</th>\n",
       "      <td>1.987601</td>\n",
       "      <td>2.079442</td>\n",
       "    </tr>\n",
       "  </tbody>\n",
       "</table>\n",
       "</div>"
      ],
      "text/plain": [
       "   Predicted      Test\n",
       "0  -3.719768 -4.667942\n",
       "1   2.005801  2.079442\n",
       "2   1.631146  2.079442\n",
       "3   2.378860  2.079442\n",
       "4   1.987601  2.079442"
      ]
     },
     "execution_count": 18,
     "metadata": {},
     "output_type": "execute_result"
    }
   ],
   "source": [
    "# result table\n",
    "c.head()"
   ]
  },
  {
   "cell_type": "code",
   "execution_count": 19,
   "metadata": {},
   "outputs": [
    {
     "data": {
      "text/plain": [
       "(959,)"
      ]
     },
     "execution_count": 19,
     "metadata": {},
     "output_type": "execute_result"
    }
   ],
   "source": [
    "# the length of result table\n",
    "predicted_value.shape"
   ]
  },
  {
   "cell_type": "code",
   "execution_count": 21,
   "metadata": {},
   "outputs": [
    {
     "data": {
      "text/plain": [
       "['D://DrugResponsivenessGuideline_log//Github//200914_reupload//Result//EYDC-9K//200915_EYDC9K_Lasso_model.pkl']"
      ]
     },
     "execution_count": 21,
     "metadata": {},
     "output_type": "execute_result"
    }
   ],
   "source": [
    "# model save\n",
    "import pickle\n",
    "from sklearn.externals import joblib\n",
    "joblib.dump(lasso_regressor, workdir + '//200915_EYDC9K_Lasso_model.pkl') \n"
   ]
  },
  {
   "cell_type": "code",
   "execution_count": 22,
   "metadata": {},
   "outputs": [
    {
     "data": {
      "text/plain": [
       "array([-3.71976757e+00,  2.00580144e+00,  1.63114572e+00,  2.37885976e+00,\n",
       "        1.98760128e+00, -2.60624266e+00,  7.04019487e-01,  7.16783583e-01,\n",
       "       -2.77018976e+00,  1.72667241e+00,  1.23349667e-01, -9.89457130e-01,\n",
       "        2.29051971e+00,  2.28158474e+00,  1.51152349e+00,  1.91933048e+00,\n",
       "       -1.42148924e+00, -1.75320411e+00,  1.76907587e+00,  1.87273681e+00,\n",
       "        9.86844182e-01,  1.72570765e+00, -2.17281818e+00, -1.81083202e+00,\n",
       "        9.86785293e-01,  9.40685689e-01,  1.62188387e+00,  1.77924109e+00,\n",
       "        9.92773414e-01,  1.61580622e+00, -1.45408916e+00,  4.66382205e-01,\n",
       "       -1.42267823e+00,  1.45880747e+00,  1.12273955e+00,  2.35264993e+00,\n",
       "        1.80860066e+00, -2.11153030e-01,  1.16279912e+00,  2.33498192e+00,\n",
       "        1.39842355e+00,  2.73343754e+00,  5.09157479e-01,  1.19251156e+00,\n",
       "        1.27565980e+00,  1.27583635e+00,  2.26948929e+00,  7.75397301e-01,\n",
       "        2.65336490e+00,  1.93604851e+00, -1.93609905e+00,  1.95172071e+00,\n",
       "        2.00157595e+00,  1.66831946e+00,  1.66525984e+00,  7.22905517e-01,\n",
       "        1.65426481e+00,  1.15983951e+00,  1.81182790e+00,  1.89199400e+00,\n",
       "        2.27451038e+00, -3.99644494e-01,  7.54968405e-01,  9.86438811e-01,\n",
       "       -1.07823873e+00,  1.53460276e+00, -1.81551290e+00,  3.46207440e-01,\n",
       "       -4.47972059e+00,  2.21172857e+00,  2.31129026e+00,  1.56111062e+00,\n",
       "        1.38310862e+00, -4.70537305e-01, -4.57900238e+00,  2.02908611e+00,\n",
       "        2.41905451e+00,  9.09383059e-01, -4.18685198e+00,  1.52836299e+00,\n",
       "        2.44071698e+00,  1.29539084e+00,  1.61905932e+00,  2.10723639e+00,\n",
       "        6.86708391e-01,  1.20693421e+00,  1.99030852e+00,  1.16646302e+00,\n",
       "        2.20152521e+00,  1.22692275e+00,  2.19234633e+00,  1.64673018e+00,\n",
       "        2.25141621e+00, -1.74897885e+00,  2.74175000e+00,  1.16335142e+00,\n",
       "       -1.94355106e+00, -1.24305964e+00, -2.43817091e-01,  3.72858524e-01,\n",
       "        1.53690350e+00, -2.55953670e-01,  1.10834527e+00, -1.35320544e-01,\n",
       "        1.07382691e+00,  2.04476929e+00,  9.40173924e-01,  2.18086267e+00,\n",
       "       -1.29046297e+00,  1.30119741e+00,  6.70138836e-01,  1.34852767e+00,\n",
       "        1.25585186e+00,  1.49829829e+00,  2.71774244e+00,  1.15593135e+00,\n",
       "        1.98121309e+00,  2.47622514e+00,  1.86421239e+00,  2.49703479e+00,\n",
       "        3.68543148e-01,  1.58006668e+00,  1.88157690e+00,  1.04416394e+00,\n",
       "        2.54532146e+00,  2.52272034e+00,  2.03693676e+00,  1.12971616e+00,\n",
       "        1.04310596e+00,  2.43432236e+00,  1.73991227e+00,  1.81900549e+00,\n",
       "        2.39276314e+00,  3.34782600e-01,  2.22094202e+00,  2.06698418e+00,\n",
       "        1.36296821e+00, -1.64766788e+00,  1.14573956e+00, -4.08827186e-01,\n",
       "        2.20651960e+00,  1.77745843e+00,  1.61177897e+00, -2.81033230e+00,\n",
       "        2.74087691e+00, -3.77428102e+00, -3.63122416e+00,  1.60827923e+00,\n",
       "        1.17645788e+00, -4.50554371e-01, -5.37918925e-01,  1.68277168e+00,\n",
       "        1.54789770e+00, -9.05123711e-01,  2.07294464e+00, -1.62718296e+00,\n",
       "        1.76931643e+00,  1.53486633e+00,  1.46074820e+00,  6.15116000e-01,\n",
       "       -2.41683865e+00,  2.36313391e+00,  1.20408499e+00,  1.41901648e+00,\n",
       "        1.47580230e+00,  1.09701240e+00,  1.33030391e+00,  2.54606724e+00,\n",
       "        1.81453252e+00,  2.37607431e+00,  1.68280101e+00,  1.19285607e+00,\n",
       "        2.36745405e+00,  1.52815461e+00, -1.03327942e+00, -1.54394865e-01,\n",
       "        9.82129157e-01, -2.13841176e+00,  2.42977691e+00,  1.94434381e+00,\n",
       "        1.19117618e+00, -4.05016375e+00,  2.06574249e+00, -3.56569052e+00,\n",
       "        1.66114163e+00,  1.41029763e+00,  1.14009690e+00,  2.33687830e+00,\n",
       "        2.33044529e+00,  1.27830410e+00, -4.81793165e+00,  1.46386671e+00,\n",
       "        8.08725178e-01,  8.58616173e-01,  1.44843173e+00,  9.61543918e-01,\n",
       "        2.05177784e+00,  1.22230840e+00,  8.24314594e-01,  1.18996990e+00,\n",
       "        2.36304998e+00,  2.41012239e+00, -1.21194100e+00,  9.09593165e-01,\n",
       "        1.22732484e+00,  1.54432333e+00,  7.34339237e-01,  1.58508122e+00,\n",
       "        4.80149388e-01, -8.11793089e-01,  1.29385972e+00,  2.17105126e+00,\n",
       "        1.57684684e+00,  2.24945903e+00,  1.61513114e+00, -3.17725182e+00,\n",
       "        1.18967474e+00,  1.71965528e+00, -1.00693178e+00,  2.30188560e+00,\n",
       "        1.91487670e+00,  1.02584338e+00, -2.69846678e-01,  2.40512109e+00,\n",
       "        6.51637375e-01,  2.20134425e+00, -1.63417006e+00, -2.62188196e+00,\n",
       "       -1.55306482e+00,  3.97943735e-01,  2.08451533e+00,  1.92755389e+00,\n",
       "        9.31158483e-01,  8.59602928e-01,  2.09424186e+00,  2.40434861e+00,\n",
       "        2.00667858e+00,  1.68957293e+00, -1.77841139e+00,  1.97709250e+00,\n",
       "        1.91370511e+00, -7.96122074e-01,  9.26604152e-01,  2.08394289e+00,\n",
       "       -4.33558512e+00,  1.15918410e+00,  8.10913503e-01,  1.56321132e+00,\n",
       "        7.81073034e-01,  2.02227950e+00,  1.77016771e+00,  1.68132365e+00,\n",
       "        2.24725485e+00, -2.65600252e+00, -4.09439135e+00,  1.18178010e+00,\n",
       "        2.00899172e+00, -5.34935713e-01,  1.38606071e+00,  1.20776069e+00,\n",
       "        1.23783016e+00,  1.68166292e+00, -1.01884389e+00,  1.63925576e+00,\n",
       "        1.98132110e+00,  1.78167677e+00,  1.38419330e+00,  1.88583004e+00,\n",
       "        1.71114802e+00,  1.66517305e+00,  2.45637846e+00,  1.87946582e+00,\n",
       "        1.81114388e+00, -3.17239523e+00,  1.29030418e+00,  1.68154883e+00,\n",
       "        1.76940036e+00, -1.37737226e+00,  5.52835584e-01,  3.41360390e-01,\n",
       "        1.56285143e+00,  1.33878767e+00,  9.05129552e-01,  5.97902358e-01,\n",
       "        1.87975407e+00,  2.11447954e+00,  1.15215218e+00,  1.21683633e+00,\n",
       "        2.06161356e+00,  2.57377720e+00,  1.46019149e+00,  1.61329305e+00,\n",
       "       -2.82372761e+00,  9.22439873e-01,  1.22237504e+00,  1.35273051e+00,\n",
       "        1.77190220e+00,  2.15278101e+00, -3.24443817e+00,  1.74648619e+00,\n",
       "        6.97950900e-01, -1.44003844e+00,  8.96215975e-01,  1.77534318e+00,\n",
       "       -4.17805910e+00, -1.41194034e+00, -2.86091232e+00,  2.42979908e+00,\n",
       "        1.76574409e+00,  1.42822611e+00,  1.80597591e+00,  1.92775178e+00,\n",
       "        1.56141686e+00,  1.04423404e+00,  2.22906399e+00, -1.46696615e+00,\n",
       "        1.84074473e+00,  2.18364429e+00, -4.34173012e+00,  6.29947841e-01,\n",
       "       -1.36471057e+00, -2.64189363e-01,  2.31175089e+00,  2.27586651e+00,\n",
       "        7.51341283e-01,  7.56790340e-01,  2.32625628e+00,  1.85987353e+00,\n",
       "        2.08549428e+00,  9.31288362e-01,  1.54199195e+00,  1.87976623e+00,\n",
       "       -1.49107862e+00,  2.45191669e+00,  1.59374261e+00, -3.69842863e+00,\n",
       "        2.17971873e+00,  1.02541208e+00,  1.70036578e+00,  1.17330241e+00,\n",
       "       -3.58082390e+00,  1.31688070e+00,  9.46158648e-01,  2.31560469e+00,\n",
       "        2.15310311e+00,  1.02898204e+00,  1.52734613e+00,  9.38365102e-01,\n",
       "        1.42427623e+00, -1.86055183e+00,  1.49621439e+00,  1.03590274e+00,\n",
       "        1.73129773e+00,  1.29582834e+00, -2.51885629e+00,  2.28465414e+00,\n",
       "        2.15243244e+00,  1.42599714e+00,  2.24046612e+00,  1.16086388e+00,\n",
       "        7.81388640e-01,  1.23532557e+00,  1.36085200e+00, -2.13458586e+00,\n",
       "       -1.85397482e+00,  1.33820057e+00,  2.19285178e+00,  2.01508760e+00,\n",
       "        1.59192824e+00,  1.07604599e+00,  1.09667873e+00,  1.74041378e+00,\n",
       "        2.10571504e+00,  2.39223480e+00,  1.43012583e+00, -1.39446282e+00,\n",
       "        1.84235966e+00,  1.87867355e+00,  2.09386086e+00, -1.66199923e+00,\n",
       "        1.59249735e+00,  2.10067558e+00,  5.22807360e-01, -3.74584961e+00,\n",
       "        9.44391012e-01,  2.25784588e+00,  2.05100441e+00,  2.66593599e+00,\n",
       "       -2.09610629e+00,  1.13719428e+00,  2.33154249e+00,  1.99595690e+00,\n",
       "        2.68377495e+00,  1.22898245e+00,  1.26301765e-01,  2.31907344e+00,\n",
       "        1.91242266e+00,  2.36611772e+00,  1.72785592e+00, -5.00516295e-01,\n",
       "        1.22877419e+00,  2.20854092e+00, -2.82378244e+00,  1.79254818e+00,\n",
       "       -4.48568249e+00,  1.83909535e+00,  1.48641133e+00,  1.75919938e+00,\n",
       "        9.32220519e-01,  2.56676579e+00,  9.97208476e-01,  3.34078431e-01,\n",
       "        1.47053206e+00,  1.68007696e+00,  1.45899677e+00,  1.42418563e+00,\n",
       "        1.72911549e+00,  1.01174021e+00,  1.32223034e+00,  2.03625703e+00,\n",
       "        1.99353814e+00,  2.17116189e+00,  2.19480109e+00,  1.89084637e+00,\n",
       "        1.26687670e+00,  2.45033741e+00, -2.01809216e+00,  1.49338841e+00,\n",
       "        2.05587220e+00, -3.80120873e-01,  1.63937461e+00,  1.51999688e+00,\n",
       "       -3.92917299e+00,  1.73449898e+00,  1.13970637e+00,  1.96448565e+00,\n",
       "        2.00061774e+00, -1.19177723e+00,  1.25616217e+00,  5.00430882e-01,\n",
       "       -4.36598778e-01,  2.05968332e+00,  2.55973577e+00, -3.88962412e+00,\n",
       "        1.52691567e+00,  1.94157815e+00,  1.55371189e+00,  6.80094242e-01,\n",
       "       -1.00574350e+00, -5.08413911e-01,  1.83444262e-01, -1.16472292e+00,\n",
       "       -1.54276133e+00,  1.98394442e+00, -1.90141058e+00,  1.39045060e+00,\n",
       "       -1.91071653e+00,  1.87439954e+00,  2.28039908e+00,  1.74532318e+00,\n",
       "        1.96841145e+00,  2.00536466e+00,  1.01315975e-01,  2.11392498e+00,\n",
       "        1.21235466e+00,  2.08558321e+00,  2.15059328e+00,  2.33613300e+00,\n",
       "        1.64777637e+00,  1.29311585e+00,  1.81535840e+00,  1.90493929e+00,\n",
       "        2.06424284e+00,  2.37101269e+00,  9.31911469e-02,  2.28639150e+00,\n",
       "        2.09127808e+00,  1.59025908e+00, -7.19684362e-01,  6.62375569e-01,\n",
       "        8.02629471e-01,  2.02962995e+00,  1.72395074e+00,  1.02832603e+00,\n",
       "        2.18251514e+00, -2.10966682e+00, -1.51842308e+00,  1.71802449e+00,\n",
       "        1.81190777e+00,  1.78766084e+00,  1.85823703e+00,  1.88102078e+00,\n",
       "       -1.55612326e+00,  6.79186165e-01,  1.45071721e+00,  1.65688157e+00,\n",
       "        1.58321691e+00,  2.38489795e+00,  1.75394309e+00,  2.56378460e+00,\n",
       "        2.01475191e+00,  2.34797859e+00,  2.05664015e+00, -6.31873012e-01,\n",
       "        1.06560111e+00, -1.71481228e+00,  1.62373686e+00,  1.76553583e+00,\n",
       "        1.48419833e+00,  1.54621172e+00,  1.22838986e+00,  1.79146576e+00,\n",
       "        1.61879814e+00,  2.39429879e+00,  2.08859587e+00,  1.67027211e+00,\n",
       "       -4.30082178e+00,  8.76162410e-01,  1.48975110e+00,  2.36172438e+00,\n",
       "        1.10651588e+00,  9.72545683e-01,  2.24696612e+00, -1.74673915e-01,\n",
       "        1.53583813e+00,  2.09415388e+00,  1.69107652e+00, -1.01711607e+00,\n",
       "        2.26000834e+00,  4.69923973e-01,  1.60014868e+00,  2.08014250e+00,\n",
       "        1.47370863e+00,  1.92295337e+00,  1.16722131e+00, -4.02703619e+00,\n",
       "        2.02107763e+00,  9.09120202e-01,  1.95262170e+00, -4.68753934e-01,\n",
       "        1.61608338e+00,  1.89162004e+00,  5.85605562e-01,  2.46001339e+00,\n",
       "        1.87405193e+00, -3.61546516e+00,  2.49690056e+00,  2.09403896e+00,\n",
       "        1.75455356e+00,  1.48953903e+00, -2.46983075e+00,  1.39124644e+00,\n",
       "        2.24174738e+00,  1.59419775e+00,  1.46607244e+00,  1.96897829e+00,\n",
       "        1.06629300e+00,  1.34208965e+00, -1.18825936e+00,  1.95619333e+00,\n",
       "       -5.61765671e-01,  1.59054399e+00, -3.50204897e+00,  3.26848030e-03,\n",
       "        7.76596665e-01,  1.78543675e+00, -3.98116159e+00, -9.25037146e-01,\n",
       "        1.77023160e+00,  2.30321407e+00,  1.47170281e+00,  1.36262417e+00,\n",
       "        1.76241028e+00,  1.78827119e+00,  8.20288897e-01,  1.41878140e+00,\n",
       "        9.51914549e-01,  1.62018096e+00,  1.48925233e+00,  2.00307298e+00,\n",
       "        1.47579360e+00,  2.57794785e+00,  1.87248445e+00,  2.36252809e+00,\n",
       "        9.47255313e-01,  1.10775054e+00,  2.08070707e+00, -2.93980002e-01,\n",
       "        2.38070488e+00,  2.57201731e-01,  2.52128458e+00, -2.14024019e+00,\n",
       "        1.87292421e+00,  2.23860025e+00,  1.92317438e+00,  7.46186614e-01,\n",
       "        1.80911684e+00,  1.68926549e+00,  1.21496844e+00,  2.05145144e+00,\n",
       "        1.42087388e+00, -3.81508827e+00,  1.68066347e+00,  2.03523159e+00,\n",
       "        2.07721519e+00,  2.04671884e+00,  1.67705786e+00,  1.49681890e+00,\n",
       "        1.92990208e+00, -1.42711139e+00,  1.95131612e+00,  1.74941385e+00,\n",
       "        2.70917201e+00,  1.28344321e+00,  1.35227585e+00,  1.69064963e+00,\n",
       "        1.33433247e+00, -6.72497511e-01,  2.28355885e+00,  1.95593762e+00,\n",
       "        2.31772280e+00, -4.02526021e-01,  1.66775012e+00,  2.74578094e-01,\n",
       "       -1.65547132e+00,  1.38809156e+00, -1.41827464e+00,  1.62918484e+00,\n",
       "        1.04424834e+00, -2.96697998e+00,  1.31130731e+00,  5.14406502e-01,\n",
       "        2.13339496e+00, -8.52007151e-01, -1.02015042e+00,  8.17277372e-01,\n",
       "        7.93678105e-01,  1.12552786e+00,  2.09882927e+00,  1.63670647e+00,\n",
       "        8.82538199e-01,  1.92214322e+00,  2.06719279e+00,  1.83221149e+00,\n",
       "        2.00426435e+00,  1.87366080e+00,  1.94128752e+00,  1.80914950e+00,\n",
       "        2.04893303e+00,  2.10086370e+00,  1.53283393e+00,  1.90502858e+00,\n",
       "        1.48398852e+00, -7.62779236e-01,  2.43105507e+00,  2.02652526e+00,\n",
       "       -2.84089375e+00, -1.67367268e+00,  2.17292786e+00,  2.80561256e+00,\n",
       "        1.45698261e+00, -1.20350623e+00, -2.56119871e+00, -5.76937437e-01,\n",
       "       -4.01583195e+00, -3.75816441e+00, -4.42183065e+00, -9.39823627e-01,\n",
       "        2.21573234e+00,  2.24449301e+00,  2.46732259e+00,  1.61763608e+00,\n",
       "        1.27506638e+00,  1.41283607e+00, -1.72414947e+00, -1.73240614e+00,\n",
       "        1.26109719e+00,  2.18853402e+00,  2.58295202e+00,  9.40736890e-01,\n",
       "        1.94083881e+00,  1.70959187e+00,  1.95289981e+00,  1.27141213e+00,\n",
       "       -4.72907734e+00,  1.64075863e+00,  1.13328469e+00,  2.09268188e+00,\n",
       "        2.14573860e+00, -1.85611653e+00,  1.64430594e+00, -7.02692509e-01,\n",
       "        2.76201987e+00,  7.16713786e-01,  2.23653698e+00, -1.40305638e+00,\n",
       "        2.07310963e+00,  1.92572916e+00,  1.98206961e+00,  1.46407521e+00,\n",
       "        1.85503602e+00,  1.61638570e+00,  1.54619241e+00,  2.38289666e+00,\n",
       "        2.52985811e+00, -7.47931719e-01,  1.51341832e+00,  2.22289944e+00,\n",
       "        8.16154242e-01, -3.52862692e+00,  1.35620153e+00,  7.18896747e-01,\n",
       "        1.64391232e+00,  1.94891739e+00, -4.23311472e-01,  2.07273173e+00,\n",
       "        2.19733810e+00,  1.03780127e+00,  1.96888638e+00,  9.27622259e-01,\n",
       "        2.00131369e+00,  2.05743122e+00,  2.07403731e+00,  1.82911360e+00,\n",
       "       -9.74162579e-01, -4.07609701e+00,  1.61718976e+00,  2.16623020e+00,\n",
       "        1.74707127e+00, -8.60446453e-01,  1.59969056e+00, -2.83180094e+00,\n",
       "        1.94721711e+00,  2.24113679e+00,  1.36043525e+00,  9.68447149e-01,\n",
       "        2.01326180e+00, -4.52803659e+00,  1.48917270e+00,  1.07451487e+00,\n",
       "        2.30742931e+00,  1.60802865e+00,  1.80737543e+00, -7.14049220e-01,\n",
       "        1.33508503e+00,  3.98249030e-01,  1.91023207e+00,  1.97017932e+00,\n",
       "        2.31521416e+00,  1.86381423e+00, -3.69674349e+00,  2.02469563e+00,\n",
       "        2.05350780e+00, -3.59732914e+00,  1.85296535e+00,  2.38030243e+00,\n",
       "        7.08724260e-01,  6.13463938e-01, -4.21022606e+00,  1.64611340e-01,\n",
       "        2.20191908e+00,  1.97694433e+00, -9.35806751e-01,  1.92441487e+00,\n",
       "        1.68354225e+00, -1.47663927e+00,  2.77650690e+00,  2.42366886e+00,\n",
       "        1.38290036e+00,  5.78502893e-01,  1.23900485e+00,  6.73825741e-01,\n",
       "       -4.22661638e+00,  1.93870103e+00,  1.32832479e+00,  2.10258126e+00,\n",
       "        1.58639860e+00,  1.15786994e+00,  2.18339515e+00,  2.49370551e+00,\n",
       "        1.94114554e+00,  1.45349157e+00,  9.22146559e-01, -1.27611852e+00,\n",
       "        2.21099472e+00,  1.60435963e+00,  2.20672345e+00,  1.81140590e+00,\n",
       "        1.77390099e+00, -3.03273153e+00,  1.31397164e+00, -1.76622653e+00,\n",
       "        8.43623877e-01,  9.37366724e-01, -2.50801206e+00,  9.35078382e-01,\n",
       "        2.11396337e+00,  1.14488411e+00,  1.48090994e+00,  2.51544237e+00,\n",
       "        1.53945100e+00,  1.36796355e+00, -2.68005848e+00, -8.04884434e-01,\n",
       "       -2.78458714e-01,  2.01935482e+00, -3.28642702e+00,  1.57721674e+00,\n",
       "        1.32118702e+00,  1.90910649e+00,  1.71647143e+00,  1.58593976e+00,\n",
       "        9.10079479e-01,  2.12303686e+00, -3.79924440e+00,  1.68963981e+00,\n",
       "        6.65137708e-01, -3.97125912e+00,  9.84488368e-01,  1.80326068e+00,\n",
       "        1.83178639e+00,  1.77656710e+00,  2.13426447e+00,  1.51104331e+00,\n",
       "        4.85642314e-01,  2.29542637e+00,  1.13677144e+00,  1.96193433e+00,\n",
       "        1.72661257e+00,  1.49318004e+00,  1.25301385e+00,  1.93244910e+00,\n",
       "        1.91890001e+00,  1.76414108e+00,  1.84537685e+00,  1.90963686e+00,\n",
       "        1.36188269e+00,  1.65923691e+00, -4.77819824e+00,  1.66443443e+00,\n",
       "        7.68632293e-01,  2.37397838e+00,  1.56418037e+00,  5.76147795e-01,\n",
       "       -1.04149747e+00,  1.43029428e+00,  2.31664753e+00,  1.18256307e+00,\n",
       "        1.29133809e+00,  4.54267204e-01,  2.10432434e+00,  2.06236696e+00,\n",
       "        7.59112954e-01,  1.45677519e+00,  1.81335795e+00,  2.06667471e+00,\n",
       "       -3.88664103e+00, -3.52880812e+00,  1.66082978e+00, -4.37926722e+00,\n",
       "        2.37034178e+00,  7.30764091e-01,  2.04246354e+00, -1.43245125e+00,\n",
       "        1.15023935e+00, -2.30381393e+00,  3.28677118e-01, -3.42890024e-01,\n",
       "        2.04480529e-01,  1.15284514e+00,  2.21699834e+00, -3.66549921e+00,\n",
       "       -2.38694310e+00,  1.20656359e+00, -2.03717089e+00,  2.09513235e+00,\n",
       "        1.55361986e+00,  2.61733985e+00,  1.10446608e+00,  2.08738565e+00,\n",
       "        2.14314032e+00,  8.87087584e-01,  1.39477968e+00,  1.87764502e+00,\n",
       "        2.25184822e+00, -7.83733130e-01,  2.23897600e+00,  1.78786063e+00,\n",
       "       -2.82387877e+00,  7.41676331e-01,  2.94589138e+00,  1.60960758e+00,\n",
       "        2.11645961e+00, -2.48998880e+00,  4.26586926e-01,  1.97169232e+00,\n",
       "        1.20890141e-03,  1.60523117e+00, -4.27588224e-01,  2.08246565e+00,\n",
       "       -4.23505020e+00, -1.46899867e+00,  1.56637621e+00,  2.51212144e+00,\n",
       "       -1.27459812e+00,  2.44254184e+00,  9.86638308e-01,  1.67666554e+00,\n",
       "        1.25258541e+00,  1.12293255e+00,  1.82040453e+00, -9.01137590e-01,\n",
       "        2.48166800e+00,  1.65921688e+00,  2.08832788e+00, -3.59383106e-01,\n",
       "        1.61550879e+00,  1.47369754e+00,  2.54683971e+00,  2.24001884e+00,\n",
       "        2.06037855e+00,  1.39745212e+00,  1.95077670e+00,  1.86122942e+00,\n",
       "       -3.14314938e+00, -1.84564066e+00,  1.87498116e+00,  1.30454826e+00,\n",
       "        2.42227221e+00,  1.11125851e+00, -4.21409130e+00,  1.50821972e+00,\n",
       "       -4.36299944e+00,  2.48193407e+00,  1.61588669e+00, -6.40890956e-01,\n",
       "       -5.07662821e+00,  2.51639032e+00,  1.42998517e+00, -2.33210158e+00,\n",
       "        1.89914167e+00, -2.69701004e-01,  1.45073998e+00,  1.75087285e+00,\n",
       "        1.83604646e+00, -6.91511154e-01,  2.44700956e+00,  2.04663205e+00,\n",
       "       -3.64568520e+00,  2.18495607e+00,  5.19581735e-01,  1.79474998e+00,\n",
       "        1.96822000e+00, -1.00891924e+00,  2.23020530e+00,  2.30447531e+00,\n",
       "       -2.65029812e+00,  1.64743304e+00,  1.99244833e+00], dtype=float32)"
      ]
     },
     "execution_count": 22,
     "metadata": {},
     "output_type": "execute_result"
    }
   ],
   "source": [
    "# check whether the saved model is working\n",
    "regr_from_joblib = joblib.load(workdir + '//200915_EYDC9K_Lasso_model.pkl') \n",
    "regr_from_joblib.predict(test_X)"
   ]
  },
  {
   "cell_type": "code",
   "execution_count": 23,
   "metadata": {},
   "outputs": [],
   "source": [
    "import matplotlib\n",
    "from matplotlib import pyplot as plt"
   ]
  },
  {
   "cell_type": "code",
   "execution_count": 24,
   "metadata": {},
   "outputs": [
    {
     "data": {
      "image/png": "[encoded data removed]",
      "text/plain": [
       "<Figure size 432x288 with 1 Axes>"
      ]
     },
     "metadata": {
      "needs_background": "light"
     },
     "output_type": "display_data"
    }
   ],
   "source": [
    "# plotting\n",
    "plt.scatter(test_label_array,predicted_value,c='red')\n",
    "plt.xlabel('test_IC50_value')\n",
    "plt.ylabel('predicted_IC50_value')\n",
    "plt.savefig(workdir + '//200915_EYDC9K_Lasso_plot.png')"
   ]
  },
  {
   "cell_type": "code",
   "execution_count": 25,
   "metadata": {},
   "outputs": [
    {
     "name": "stdout",
     "output_type": "stream",
     "text": [
      "0.7183919738848703\n"
     ]
    }
   ],
   "source": [
    "# R-squared value\n",
    "from sklearn.metrics import r2_score\n",
    "r2_value = r2_score(b,a)\n",
    "print(r2_value)"
   ]
  },
  {
   "cell_type": "code",
   "execution_count": 26,
   "metadata": {},
   "outputs": [
    {
     "data": {
      "text/plain": [
       "LinregressResult(slope=0.7300961723165429, intercept=0.21403654111813097, rvalue=0.8478292619186233, pvalue=6.699304425816972e-266, stderr=0.014760878132000168)"
      ]
     },
     "execution_count": 26,
     "metadata": {},
     "output_type": "execute_result"
    }
   ],
   "source": [
    "# Linear regression value (slope)\n",
    "from scipy.stats import linregress\n",
    "linregress(b[0], a[0])"
   ]
  },
  {
   "cell_type": "code",
   "execution_count": 27,
   "metadata": {},
   "outputs": [
    {
     "name": "stdout",
     "output_type": "stream",
     "text": [
      "Final rmse value is = 1.047111343607621\n"
     ]
    }
   ],
   "source": [
    "# RMSE\n",
    "rse = ((b[0]-a[0])**2).sum()\n",
    "mse = rse / len(b)\n",
    "print(\"Final rmse value is =\",np.sqrt(mse))"
   ]
  },
  {
   "cell_type": "code",
   "execution_count": null,
   "metadata": {},
   "outputs": [],
   "source": []
  }
 ],
 "metadata": {
  "kernelspec": {
   "display_name": "Python 3",
   "language": "python",
   "name": "python3"
  },
  "language_info": {
   "codemirror_mode": {
    "name": "ipython",
    "version": 3
   },
   "file_extension": ".py",
   "mimetype": "text/x-python",
   "name": "python",
   "nbconvert_exporter": "python",
   "pygments_lexer": "ipython3",
   "version": "3.6.9"
  }
 },
 "nbformat": 4,
 "nbformat_minor": 2
}
