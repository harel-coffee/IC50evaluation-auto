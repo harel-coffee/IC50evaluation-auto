{
 "cells": [
  {
   "cell_type": "code",
   "execution_count": 1,
   "metadata": {},
   "outputs": [],
   "source": [
    "import os\n",
    "import pandas as pd\n",
    "import numpy as np\n",
    "import random\n",
    "from pandas import DataFrame\n",
    "from datetime import datetime\n",
    "from sklearn.linear_model import Ridge\n",
    "import matplotlib\n",
    "from matplotlib import pyplot as plt\n",
    "\n",
    "\n",
    "# input file path\n",
    "workdir = \"D://DrugResponsivenessGuideline_log//Github//200914_reupload//Dataset//Scenario3_EYDC-9K\""
   ]
  },
  {
   "cell_type": "code",
   "execution_count": 2,
   "metadata": {},
   "outputs": [],
   "source": [
    "# read input file and index file for training and test set\n",
    "dataset = np.load(workdir + \"//200914_EYDC9K.npz\")\n",
    "ss0 = np.load(workdir + '//200914_EYDC9K_r0_9_1.npz')"
   ]
  },
  {
   "cell_type": "code",
   "execution_count": 3,
   "metadata": {},
   "outputs": [],
   "source": [
    "# input and index file assign\n",
    "x = dataset['x']\n",
    "y = dataset['y']\n",
    "# y_linear = dataset['y_lnIC50']\n",
    "ss0_train = ss0['train']\n",
    "ss0_test = ss0['test']"
   ]
  },
  {
   "cell_type": "code",
   "execution_count": 4,
   "metadata": {},
   "outputs": [],
   "source": [
    "# training and test dataset assign\n",
    "training_image_array, training_label_array = x[ss0_train], y[ss0_train]\n",
    "test_image_array, test_label_array = x[ss0_test], y[ss0_test]\n"
   ]
  },
  {
   "cell_type": "code",
   "execution_count": 5,
   "metadata": {},
   "outputs": [
    {
     "data": {
      "text/plain": [
       "(9590, 41505)"
      ]
     },
     "execution_count": 5,
     "metadata": {},
     "output_type": "execute_result"
    }
   ],
   "source": [
    "# checking the size of dataset\n",
    "x.shape"
   ]
  },
  {
   "cell_type": "code",
   "execution_count": 6,
   "metadata": {},
   "outputs": [
    {
     "data": {
      "text/plain": [
       "(8631, 41505)"
      ]
     },
     "execution_count": 6,
     "metadata": {},
     "output_type": "execute_result"
    }
   ],
   "source": [
    "# checking the size of training set\n",
    "training_image_array.shape"
   ]
  },
  {
   "cell_type": "code",
   "execution_count": 7,
   "metadata": {},
   "outputs": [],
   "source": [
    "train_X, train_y, test_X, test_y = training_image_array, training_label_array, test_image_array, test_label_array\n"
   ]
  },
  {
   "cell_type": "code",
   "execution_count": 8,
   "metadata": {},
   "outputs": [
    {
     "name": "stdout",
     "output_type": "stream",
     "text": [
      "(8631, 41505) (8631,) (959, 41505) (959,)\n"
     ]
    }
   ],
   "source": [
    "print(train_X.shape, train_y.shape, test_X.shape, test_y.shape)"
   ]
  },
  {
   "cell_type": "code",
   "execution_count": 9,
   "metadata": {},
   "outputs": [],
   "source": [
    "# impute nan to zero\n",
    "train_X = np.nan_to_num(train_X)\n",
    "test_X = np.nan_to_num(test_X)"
   ]
  },
  {
   "cell_type": "code",
   "execution_count": 10,
   "metadata": {},
   "outputs": [
    {
     "name": "stdout",
     "output_type": "stream",
     "text": [
      "train_X shape: (8631, 41505)\n",
      "8631 train samples\n",
      "959 test samples\n"
     ]
    }
   ],
   "source": [
    "# data typing and the number of dataset\n",
    "train_X = train_X.astype('float32')\n",
    "test_X = test_X.astype('float32')\n",
    "# train_X /= 255\n",
    "# test_X /= 255\n",
    "print('train_X shape:', train_X.shape)\n",
    "print(train_X.shape[0], 'train samples')\n",
    "print(test_X.shape[0], 'test samples')"
   ]
  },
  {
   "cell_type": "code",
   "execution_count": 11,
   "metadata": {
    "scrolled": false
   },
   "outputs": [
    {
     "name": "stdout",
     "output_type": "stream",
     "text": [
      "StartTime : 2020-09-15 12:15:25.235404\n"
     ]
    },
    {
     "name": "stderr",
     "output_type": "stream",
     "text": [
      "C:\\Users\\ylab\\AppData\\Local\\conda\\conda\\envs\\ronny\\lib\\site-packages\\sklearn\\linear_model\\_ridge.py:190: UserWarning: Singular matrix in solving dual problem. Using least-squares solution instead.\n",
      "  warnings.warn(\"Singular matrix in solving dual problem. Using \"\n"
     ]
    },
    {
     "name": "stdout",
     "output_type": "stream",
     "text": [
      "EndTime : 2020-09-15 12:17:12.893809\n"
     ]
    }
   ],
   "source": [
    "# model fitting\n",
    "StartTime8 = datetime.now()\n",
    "print(\"StartTime :\", StartTime8)\n",
    "\n",
    "ridge_regressor = Ridge(alpha=0.001)\n",
    "\n",
    "ridge_regressor.fit(train_X,train_y)\n",
    "\n",
    "EndTime8 = datetime.now()\n",
    "print(\"EndTime :\", EndTime8)"
   ]
  },
  {
   "cell_type": "code",
   "execution_count": 12,
   "metadata": {},
   "outputs": [],
   "source": [
    "predicted_classes = ridge_regressor.predict(test_X)"
   ]
  },
  {
   "cell_type": "code",
   "execution_count": 13,
   "metadata": {},
   "outputs": [],
   "source": [
    "predicted_value = predicted_classes"
   ]
  },
  {
   "cell_type": "code",
   "execution_count": 14,
   "metadata": {},
   "outputs": [],
   "source": [
    "# saving predicted ln(IC50)s and ln(IC50)s in the test set\n",
    "a = pd.DataFrame(predicted_value)\n",
    "b = pd.DataFrame(test_label_array)\n",
    "c = pd.concat([a,b], axis=1)\n",
    "c.columns=[\"Predicted\",\"Test\"]\n",
    "workdir = \"D://DrugResponsivenessGuideline_log//Github//200914_reupload//Result//EYDC-9K\"\n",
    "c.to_csv(workdir + '//200915_EYDC9K_Ridge_pred_and_val_result.csv', index=False)\n"
   ]
  },
  {
   "cell_type": "code",
   "execution_count": 15,
   "metadata": {
    "scrolled": true
   },
   "outputs": [
    {
     "data": {
      "text/html": [
       "<div>\n",
       "<style scoped>\n",
       "    .dataframe tbody tr th:only-of-type {\n",
       "        vertical-align: middle;\n",
       "    }\n",
       "\n",
       "    .dataframe tbody tr th {\n",
       "        vertical-align: top;\n",
       "    }\n",
       "\n",
       "    .dataframe thead th {\n",
       "        text-align: right;\n",
       "    }\n",
       "</style>\n",
       "<table border=\"1\" class=\"dataframe\">\n",
       "  <thead>\n",
       "    <tr style=\"text-align: right;\">\n",
       "      <th></th>\n",
       "      <th>Predicted</th>\n",
       "      <th>Test</th>\n",
       "    </tr>\n",
       "  </thead>\n",
       "  <tbody>\n",
       "    <tr>\n",
       "      <th>0</th>\n",
       "      <td>-3.578825</td>\n",
       "      <td>-4.667942</td>\n",
       "    </tr>\n",
       "    <tr>\n",
       "      <th>1</th>\n",
       "      <td>1.988497</td>\n",
       "      <td>2.079442</td>\n",
       "    </tr>\n",
       "    <tr>\n",
       "      <th>2</th>\n",
       "      <td>1.678770</td>\n",
       "      <td>2.079442</td>\n",
       "    </tr>\n",
       "    <tr>\n",
       "      <th>3</th>\n",
       "      <td>2.359377</td>\n",
       "      <td>2.079442</td>\n",
       "    </tr>\n",
       "    <tr>\n",
       "      <th>4</th>\n",
       "      <td>1.930988</td>\n",
       "      <td>2.079442</td>\n",
       "    </tr>\n",
       "  </tbody>\n",
       "</table>\n",
       "</div>"
      ],
      "text/plain": [
       "   Predicted      Test\n",
       "0  -3.578825 -4.667942\n",
       "1   1.988497  2.079442\n",
       "2   1.678770  2.079442\n",
       "3   2.359377  2.079442\n",
       "4   1.930988  2.079442"
      ]
     },
     "execution_count": 15,
     "metadata": {},
     "output_type": "execute_result"
    }
   ],
   "source": [
    "# result table\n",
    "c.head()"
   ]
  },
  {
   "cell_type": "code",
   "execution_count": 16,
   "metadata": {},
   "outputs": [
    {
     "data": {
      "text/plain": [
       "(959,)"
      ]
     },
     "execution_count": 16,
     "metadata": {},
     "output_type": "execute_result"
    }
   ],
   "source": [
    "# the length of result table\n",
    "predicted_value.shape"
   ]
  },
  {
   "cell_type": "code",
   "execution_count": 18,
   "metadata": {},
   "outputs": [
    {
     "data": {
      "text/plain": [
       "['D://DrugResponsivenessGuideline_log//Github//200914_reupload//Result//EYDC-9K//200915_EYDC9K_Ridge_model.pkl']"
      ]
     },
     "execution_count": 18,
     "metadata": {},
     "output_type": "execute_result"
    }
   ],
   "source": [
    "# model save\n",
    "import pickle\n",
    "from sklearn.externals import joblib\n",
    "joblib.dump(ridge_regressor, workdir + '//200915_EYDC9K_Ridge_model.pkl') \n"
   ]
  },
  {
   "cell_type": "code",
   "execution_count": 19,
   "metadata": {},
   "outputs": [
    {
     "data": {
      "text/plain": [
       "array([-3.5788245 ,  1.988497  ,  1.6787697 ,  2.3593774 ,  1.930988  ,\n",
       "       -2.734221  ,  0.5728318 ,  0.71850705, -2.5875895 ,  1.7602262 ,\n",
       "       -0.11001611, -1.1336788 ,  2.3164945 ,  2.2434974 ,  1.5171669 ,\n",
       "        1.8050702 , -1.3499198 , -1.6148081 ,  1.7990494 ,  2.1362522 ,\n",
       "        0.97350043,  1.6407001 , -2.0666842 , -1.8875654 ,  0.99747294,\n",
       "        1.0162846 ,  1.5720553 ,  1.9896865 ,  1.0327263 ,  1.4573003 ,\n",
       "       -1.424115  ,  0.2932868 , -1.5106778 ,  1.473439  ,  0.9432827 ,\n",
       "        2.6093802 ,  1.6542436 , -0.20642066,  1.28182   ,  2.422688  ,\n",
       "        1.2626431 ,  2.701983  ,  0.5707035 ,  1.3033772 ,  1.4236017 ,\n",
       "        1.1973555 ,  2.3866773 ,  0.5232736 ,  2.83404   ,  1.9547305 ,\n",
       "       -1.818582  ,  2.2577686 ,  1.7974144 ,  1.7744989 ,  1.7325313 ,\n",
       "        0.66687375,  1.6312165 ,  1.161228  ,  1.921214  ,  1.9156151 ,\n",
       "        2.2137969 , -0.56791496,  0.82966274,  0.84837145, -0.8770492 ,\n",
       "        1.4102597 , -1.7711394 ,  0.06193566, -4.406835  ,  2.5122862 ,\n",
       "        2.1432045 ,  1.4440196 ,  1.4663236 , -0.33353186, -4.8475003 ,\n",
       "        1.9884636 ,  2.4411147 ,  0.63352174, -3.9489894 ,  1.6293123 ,\n",
       "        2.705431  ,  1.1483984 ,  1.5820478 ,  2.0589738 ,  0.59049183,\n",
       "        1.1091912 ,  2.0434697 ,  1.0162858 ,  1.9751928 ,  1.1762364 ,\n",
       "        2.3711388 ,  1.8826697 ,  2.0749357 , -1.8235433 ,  2.5992122 ,\n",
       "        1.1924341 , -1.9212613 , -1.4296696 , -0.09791481,  0.2724076 ,\n",
       "        1.5178386 , -0.29312956,  1.2564101 , -0.07723439,  1.2351983 ,\n",
       "        1.9589946 ,  1.0327532 ,  2.3650925 , -1.5798831 ,  1.4125446 ,\n",
       "        0.6663914 ,  1.144314  ,  1.3145669 ,  1.7516946 ,  2.7524457 ,\n",
       "        1.2660909 ,  2.1039426 ,  2.2699833 ,  1.7713051 ,  2.5319214 ,\n",
       "        0.15350753,  1.6984029 ,  1.8019367 ,  1.0192229 ,  2.4533856 ,\n",
       "        2.5433006 ,  2.0481708 ,  1.3690023 ,  0.9957729 ,  2.3469706 ,\n",
       "        1.5128839 ,  2.1090782 ,  2.6074476 ,  0.22928375,  2.2429924 ,\n",
       "        2.098013  ,  1.1129081 , -1.8900769 ,  1.4262724 , -0.28146923,\n",
       "        2.2435915 ,  1.7110803 ,  1.5232077 , -2.9217138 ,  2.785627  ,\n",
       "       -3.649551  , -3.6610904 ,  1.6697717 ,  0.97592443, -0.3935178 ,\n",
       "       -0.42190123,  1.7928615 ,  1.4297781 , -0.88934696,  2.204252  ,\n",
       "       -1.4632273 ,  1.6414307 ,  1.564724  ,  1.1522014 ,  0.46847713,\n",
       "       -2.4108462 ,  2.3330817 ,  1.4253777 ,  1.4333246 ,  1.4764876 ,\n",
       "        1.0322059 ,  1.3493767 ,  2.6272583 ,  1.4380766 ,  2.4360676 ,\n",
       "        1.5180836 ,  0.9806463 ,  2.4438264 ,  1.5824518 , -1.0715489 ,\n",
       "       -0.17315102,  1.2299696 , -2.1316295 ,  2.3132706 ,  1.8636464 ,\n",
       "        1.260164  , -3.6974363 ,  2.0799065 , -3.6992335 ,  1.6063519 ,\n",
       "        1.3737841 ,  1.2757325 ,  2.6322834 ,  2.4279282 ,  1.3665807 ,\n",
       "       -4.6172595 ,  1.2635207 ,  0.801936  ,  0.9016786 ,  1.1898599 ,\n",
       "        0.9662599 ,  2.079465  ,  1.4374752 ,  0.7058711 ,  1.1457022 ,\n",
       "        2.4066162 ,  2.2249548 , -1.1521327 ,  0.7874081 ,  1.3160837 ,\n",
       "        1.4307127 ,  0.7774348 ,  1.6304812 ,  0.7155724 , -0.9164307 ,\n",
       "        1.1681123 ,  2.1432495 ,  1.8140969 ,  2.3332098 ,  1.8413182 ,\n",
       "       -3.4718323 ,  1.2599993 ,  1.5937611 , -1.0281866 ,  2.0738914 ,\n",
       "        2.1849554 ,  0.6572304 , -0.0248962 ,  2.4080348 ,  0.5352578 ,\n",
       "        2.0860453 , -1.4749241 , -2.7824419 , -1.3694286 ,  0.62336004,\n",
       "        1.7894152 ,  1.9609697 ,  0.5609718 ,  0.59432733,  2.071137  ,\n",
       "        2.5268698 ,  1.9916699 ,  1.8501196 , -1.7621412 ,  2.0278597 ,\n",
       "        2.1102216 , -0.6332964 ,  0.87336993,  2.046949  , -4.184177  ,\n",
       "        1.1839716 ,  0.8140551 ,  1.3958762 ,  0.6112099 ,  2.1111794 ,\n",
       "        1.6095862 ,  1.8366427 ,  2.2921095 , -2.891207  , -4.2214265 ,\n",
       "        1.1295751 ,  1.9801505 , -0.33785033,  1.5132325 ,  1.4414335 ,\n",
       "        1.4617155 ,  1.5368288 , -1.0525581 ,  1.4684855 ,  2.1157317 ,\n",
       "        1.7789824 ,  1.3570846 ,  2.212988  ,  1.6090562 ,  1.9463029 ,\n",
       "        2.2174563 ,  1.7331903 ,  1.7588878 , -3.2819734 ,  1.1995779 ,\n",
       "        1.2120417 ,  2.1224043 , -1.5297394 ,  0.24724904,  0.28000757,\n",
       "        1.4744866 ,  1.2190537 ,  1.15398   ,  0.5638389 ,  2.1915705 ,\n",
       "        2.2266946 ,  1.0714474 ,  0.83829296,  1.8674216 ,  2.620533  ,\n",
       "        1.5219133 ,  1.4334087 , -2.82125   ,  1.029245  ,  1.2843639 ,\n",
       "        1.1930125 ,  1.8097804 ,  2.2046616 , -3.3832188 ,  1.8474739 ,\n",
       "        0.96537066, -1.5093613 ,  0.93603975,  1.7473594 , -4.012261  ,\n",
       "       -1.2386491 , -3.0283146 ,  2.6354327 ,  1.8201408 ,  1.387095  ,\n",
       "        1.6045107 ,  1.8803494 ,  1.729444  ,  0.9677725 ,  2.296368  ,\n",
       "       -1.6427498 ,  1.965699  ,  2.3181818 , -4.2349153 ,  0.54277766,\n",
       "       -1.271143  , -0.55592525,  2.3161783 ,  2.3098001 ,  0.69633913,\n",
       "        0.7142606 ,  2.2791078 ,  1.7221749 ,  2.21994   ,  0.8695574 ,\n",
       "        1.6659665 ,  1.7653298 , -1.630413  ,  2.2775977 ,  1.7363468 ,\n",
       "       -3.6269526 ,  1.9810948 ,  1.1382828 ,  1.5108356 ,  1.0219152 ,\n",
       "       -3.4653678 ,  1.068039  ,  0.82441276,  1.9224179 ,  2.1859746 ,\n",
       "        0.9383577 ,  1.3895159 ,  1.1215059 ,  1.4251639 , -1.7921448 ,\n",
       "        1.5190886 ,  0.81425303,  1.5711435 ,  1.0896841 , -2.5704172 ,\n",
       "        2.5080233 ,  2.463523  ,  1.458364  ,  2.3043814 ,  1.2705846 ,\n",
       "        0.746181  ,  1.2062945 ,  1.5377903 , -2.1522515 , -1.8359737 ,\n",
       "        1.2585025 ,  2.1228824 ,  1.9433566 ,  1.8231244 ,  0.98034495,\n",
       "        0.89715284,  1.5974507 ,  2.0694523 ,  2.4644828 ,  1.0839636 ,\n",
       "       -1.3663098 ,  1.7662274 ,  1.8101128 ,  2.3253314 , -1.2920762 ,\n",
       "        1.8252264 ,  1.9519675 ,  0.50953716, -3.7938628 ,  0.89482385,\n",
       "        2.3536596 ,  2.1865625 ,  2.772218  , -2.1342297 ,  1.1860275 ,\n",
       "        2.489528  ,  1.6622237 ,  2.8899443 ,  1.0026598 ,  0.23904282,\n",
       "        2.6560922 ,  1.7404296 ,  2.5856805 ,  1.921949  , -0.18978143,\n",
       "        0.9557992 ,  2.2999008 , -2.7173133 ,  1.3184568 , -4.3036118 ,\n",
       "        2.0729399 ,  1.4713348 ,  1.8570528 ,  1.0707672 ,  2.6782613 ,\n",
       "        0.9832165 ,  0.1542772 ,  1.4873457 ,  1.7381347 ,  1.1536736 ,\n",
       "        1.4465089 ,  1.7356014 ,  0.8368677 ,  1.5801789 ,  1.8884501 ,\n",
       "        1.8237379 ,  2.1644175 ,  2.1901975 ,  1.9567415 ,  1.4336832 ,\n",
       "        2.4225755 , -2.0837176 ,  1.491696  ,  2.0968187 , -0.38645685,\n",
       "        1.6148336 ,  1.1882362 , -3.9390264 ,  1.7972779 ,  1.1335332 ,\n",
       "        1.8719914 ,  2.2300053 , -1.1789367 ,  1.1761023 ,  0.47864383,\n",
       "       -0.48705125,  1.9234419 ,  2.6303725 , -3.7973108 ,  1.1415715 ,\n",
       "        1.8833731 ,  1.6911006 ,  0.605531  , -0.9908228 , -0.72431517,\n",
       "       -0.02052128, -1.1622393 , -1.605133  ,  2.2895274 , -1.8442392 ,\n",
       "        1.321257  , -2.0345736 ,  1.7076991 ,  1.8732488 ,  1.5753355 ,\n",
       "        1.9655024 ,  2.11135   ,  0.05112177,  2.28079   ,  0.8096379 ,\n",
       "        2.1270726 ,  2.199131  ,  2.51164   ,  1.1929437 ,  1.3079114 ,\n",
       "        1.7558668 ,  1.809504  ,  2.0041225 ,  2.2782593 ,  0.2466251 ,\n",
       "        2.1092994 ,  2.1215363 ,  1.6350054 , -0.78306854,  0.8072865 ,\n",
       "        0.9345666 ,  2.3401952 ,  1.6306949 ,  1.1954104 ,  1.9939936 ,\n",
       "       -2.2691913 , -1.4077425 ,  2.1962461 ,  2.0310993 ,  2.0599322 ,\n",
       "        1.9596201 ,  1.6320732 , -1.6210616 ,  0.50060344,  1.3085272 ,\n",
       "        2.0254824 ,  1.3886867 ,  2.3940268 ,  1.7130086 ,  2.7456808 ,\n",
       "        1.8427258 ,  2.2171917 ,  1.965779  , -0.5714786 ,  1.1187686 ,\n",
       "       -1.6776004 ,  1.429847  ,  1.7732801 ,  1.437155  ,  1.5488802 ,\n",
       "        1.2115158 ,  1.6994413 ,  1.5989687 ,  2.4671566 ,  1.8282208 ,\n",
       "        1.8738905 , -4.5239363 ,  0.75722814,  1.3195987 ,  2.2577276 ,\n",
       "        1.086299  ,  0.84334826,  2.243452  , -0.26309752,  1.6069946 ,\n",
       "        1.9468427 ,  1.6414508 , -0.7762933 ,  2.264205  ,  0.31519422,\n",
       "        1.5026412 ,  2.050253  ,  1.5642927 ,  2.0695314 ,  1.1079078 ,\n",
       "       -3.966332  ,  1.875184  ,  0.88552463,  1.6734898 , -0.7023034 ,\n",
       "        1.5882201 ,  1.784114  ,  0.56591964,  2.324698  ,  1.8460842 ,\n",
       "       -3.427054  ,  2.4995637 ,  2.0977383 ,  1.6371632 ,  1.5161709 ,\n",
       "       -2.4352818 ,  1.2004611 ,  2.472258  ,  1.7002097 ,  1.2462766 ,\n",
       "        1.7531534 ,  1.170284  ,  1.6935246 , -1.3900201 ,  1.9410827 ,\n",
       "       -0.39432323,  1.4891808 , -3.4959025 , -0.20739514,  0.6699937 ,\n",
       "        1.7952377 , -3.90342   , -0.94705653,  2.0283947 ,  2.6155186 ,\n",
       "        1.6604539 ,  1.5599382 ,  1.8743609 ,  1.9172469 ,  0.76314235,\n",
       "        1.4169655 ,  0.9806315 ,  1.7644557 ,  1.2503762 ,  1.7387426 ,\n",
       "        1.5790175 ,  2.5925114 ,  1.8345613 ,  2.329471  ,  1.1504539 ,\n",
       "        1.3042344 ,  2.2075963 , -0.13765126,  2.4244056 ,  0.40731627,\n",
       "        2.7217026 , -2.3042865 ,  1.9704424 ,  2.1310616 ,  1.8098311 ,\n",
       "        0.59270173,  1.7089809 ,  1.7145765 ,  1.4265343 ,  1.9687974 ,\n",
       "        1.4522768 , -3.8471217 ,  1.4768488 ,  2.2420776 ,  2.0194669 ,\n",
       "        2.0185342 ,  1.5724983 ,  1.3776098 ,  1.8373134 , -1.1484823 ,\n",
       "        2.2313616 ,  1.7980623 ,  2.8368146 ,  1.3313053 ,  1.4784026 ,\n",
       "        1.7630508 ,  1.5261779 , -0.6248213 ,  2.3954887 ,  1.8266894 ,\n",
       "        2.1204891 , -0.42564082,  1.781312  ,  0.04019642, -1.8598118 ,\n",
       "        1.3582451 , -1.474844  ,  1.5096555 ,  0.8360358 , -3.1351645 ,\n",
       "        1.1611927 ,  0.3496892 ,  2.039987  , -0.6084604 , -0.85428977,\n",
       "        0.82795906,  0.83807445,  0.88064677,  2.2480156 ,  1.7943017 ,\n",
       "        0.8669988 ,  1.865303  ,  2.0474982 ,  1.7724751 ,  1.9499359 ,\n",
       "        1.7613055 ,  1.9925089 ,  1.9208374 ,  2.0409906 ,  2.0562747 ,\n",
       "        1.4620833 ,  1.7334493 ,  1.4772604 , -0.60337484,  2.3244495 ,\n",
       "        2.044197  , -2.591037  , -1.5221086 ,  2.0915265 ,  2.9013526 ,\n",
       "        1.62822   , -1.2576536 , -2.6267896 , -0.6631911 , -3.7614937 ,\n",
       "       -3.569961  , -4.4216    , -1.0805441 ,  1.9673705 ,  2.0975277 ,\n",
       "        2.2371073 ,  1.7133855 ,  1.2946138 ,  1.1943464 , -1.7136464 ,\n",
       "       -1.8080218 ,  1.3351817 ,  2.0817044 ,  2.7093081 ,  0.63159204,\n",
       "        1.7950658 ,  1.6845458 ,  2.006108  ,  1.4117552 , -4.905149  ,\n",
       "        1.663308  ,  1.0783949 ,  2.0953655 ,  1.9583426 , -1.8416543 ,\n",
       "        1.4997526 , -0.56979454,  2.9687943 ,  0.72334087,  2.3598604 ,\n",
       "       -1.2698588 ,  1.8738643 ,  1.8948952 ,  2.1517017 ,  1.4195507 ,\n",
       "        1.9788023 ,  1.8045413 ,  1.5022274 ,  2.4591434 ,  2.6015043 ,\n",
       "       -0.8640888 ,  1.6488041 ,  2.1727247 ,  0.7857121 , -3.2994747 ,\n",
       "        1.3258991 ,  0.6603849 ,  1.6645737 ,  2.2185416 , -0.33850288,\n",
       "        2.052723  ,  2.4644828 ,  1.2480241 ,  2.061726  ,  1.0628468 ,\n",
       "        1.9038577 ,  2.078831  ,  1.9058957 ,  1.6307919 , -0.9530144 ,\n",
       "       -4.3406234 ,  1.8538377 ,  2.2970748 ,  2.1682138 , -0.7078593 ,\n",
       "        1.6163207 , -2.5904481 ,  1.9620645 ,  2.07099   ,  1.6423346 ,\n",
       "        0.72175825,  2.0397465 , -4.676269  ,  1.3949766 ,  1.3367088 ,\n",
       "        2.431115  ,  1.4641236 ,  1.8196342 , -0.62224746,  1.2333902 ,\n",
       "        0.15971273,  1.8897943 ,  2.2440467 ,  2.4281049 ,  2.0104787 ,\n",
       "       -3.6530933 ,  2.1546478 ,  2.1144142 , -3.746879  ,  1.7176515 ,\n",
       "        2.2063007 ,  0.6120943 ,  0.45239747, -4.345309  ,  0.08547926,\n",
       "        2.3521533 ,  2.0886114 , -1.0819017 ,  1.5094957 ,  1.766838  ,\n",
       "       -1.4754517 ,  2.787457  ,  2.4457974 ,  1.419463  ,  0.7411982 ,\n",
       "        1.1736312 ,  0.5959044 , -4.068381  ,  2.0906522 ,  1.3870854 ,\n",
       "        2.1831856 ,  1.5246631 ,  1.3416907 ,  2.2746465 ,  2.5272644 ,\n",
       "        2.1676197 ,  1.2279698 ,  0.72385716, -1.1722816 ,  2.291628  ,\n",
       "        1.5778903 ,  2.014074  ,  1.9089773 ,  1.7066891 , -3.0072665 ,\n",
       "        1.41414   , -1.4681773 ,  0.6566608 ,  0.8237189 , -2.4403825 ,\n",
       "        0.842352  ,  2.2676272 ,  1.1380575 ,  1.5159309 ,  2.3056927 ,\n",
       "        1.5074067 ,  1.4698831 , -2.7181416 , -0.95115066, -0.05960119,\n",
       "        2.1449914 , -3.6563196 ,  1.5316464 ,  1.2968731 ,  1.6473471 ,\n",
       "        1.4717734 ,  1.814686  ,  0.8191863 ,  1.9917836 , -3.9217806 ,\n",
       "        1.6178318 ,  0.82831776, -4.1628146 ,  0.881644  ,  1.7495092 ,\n",
       "        1.9433894 ,  1.6996725 ,  1.9852943 ,  1.3823689 ,  0.4458617 ,\n",
       "        2.3864346 ,  1.1830015 ,  1.8031205 ,  1.5134236 ,  1.4448355 ,\n",
       "        1.2691594 ,  1.712672  ,  2.1022727 ,  1.6215755 ,  2.2239985 ,\n",
       "        1.935365  ,  1.4958608 ,  1.7788796 , -4.660094  ,  1.5838422 ,\n",
       "        0.6440637 ,  2.4631164 ,  1.5839407 ,  0.98780084, -0.90365696,\n",
       "        1.2367036 ,  2.105116  ,  1.1202813 ,  1.1651483 ,  0.46097898,\n",
       "        2.0105846 ,  2.4888358 ,  0.93242466,  1.3283639 ,  1.963053  ,\n",
       "        2.0739524 , -3.7132602 , -3.4302692 ,  1.8475604 , -4.3948817 ,\n",
       "        2.5525374 ,  0.63323146,  2.0680287 , -1.3725941 ,  1.1593022 ,\n",
       "       -2.3472147 ,  0.2252593 , -0.37166744,  0.2636376 ,  1.39745   ,\n",
       "        2.1331503 , -3.9720578 , -2.531584  ,  0.93140626, -2.0391588 ,\n",
       "        2.228956  ,  1.6536568 ,  2.686085  ,  0.98881304,  2.0832086 ,\n",
       "        2.2579246 ,  0.8700066 ,  1.3894889 ,  1.7891777 ,  2.3302605 ,\n",
       "       -0.7830025 ,  1.8414292 ,  2.0829124 , -2.6489644 ,  0.53851414,\n",
       "        3.0849166 ,  1.6086463 ,  2.2303944 , -2.5247846 ,  0.5900449 ,\n",
       "        1.7558966 , -0.03381866,  1.6443563 , -0.46715975,  2.3604465 ,\n",
       "       -4.3749175 , -1.3164989 ,  1.4835432 ,  2.4488735 , -1.176631  ,\n",
       "        2.595943  ,  0.74005395,  1.6480821 ,  1.5607872 ,  0.9341556 ,\n",
       "        2.0096588 , -0.8200903 ,  2.3392968 ,  1.6677314 ,  2.186041  ,\n",
       "       -0.68528533,  1.8489766 ,  1.489822  ,  2.4870381 ,  2.0241272 ,\n",
       "        2.2117915 ,  1.5033673 ,  2.0908566 ,  1.6662344 , -3.1303525 ,\n",
       "       -2.0070224 ,  1.7392539 ,  1.3843352 ,  2.2263608 ,  1.376971  ,\n",
       "       -4.545152  ,  1.6468685 , -4.453518  ,  2.3938665 ,  1.6433411 ,\n",
       "       -0.6429113 , -5.3720183 ,  2.625204  ,  1.4912897 , -2.330195  ,\n",
       "        1.7946889 , -0.2725699 ,  1.4700906 ,  1.7040728 ,  2.0160608 ,\n",
       "       -0.81877875,  2.3998208 ,  2.1741006 , -3.513061  ,  1.9940522 ,\n",
       "        0.48746234,  1.9201133 ,  2.1777704 , -1.1412594 ,  2.5040793 ,\n",
       "        2.5165682 , -2.7769608 ,  1.2729824 ,  2.1478233 ], dtype=float32)"
      ]
     },
     "execution_count": 19,
     "metadata": {},
     "output_type": "execute_result"
    }
   ],
   "source": [
    "# check whether the saved model is working\n",
    "regr_from_joblib = joblib.load(workdir + '//200915_EYDC9K_Ridge_model.pkl') \n",
    "regr_from_joblib.predict(test_X)"
   ]
  },
  {
   "cell_type": "code",
   "execution_count": 20,
   "metadata": {},
   "outputs": [],
   "source": [
    "import matplotlib\n",
    "from matplotlib import pyplot as plt"
   ]
  },
  {
   "cell_type": "code",
   "execution_count": 21,
   "metadata": {},
   "outputs": [
    {
     "data": {
      "image/png": "[encoded data removed]",
      "text/plain": [
       "<Figure size 432x288 with 1 Axes>"
      ]
     },
     "metadata": {
      "needs_background": "light"
     },
     "output_type": "display_data"
    }
   ],
   "source": [
    "# plotting\n",
    "plt.scatter(test_label_array,predicted_value,c='red')\n",
    "plt.xlabel('test_IC50_value')\n",
    "plt.ylabel('predicted_IC50_value')\n",
    "plt.savefig(workdir + '//200915_EYDC9K_Ridge_plot.png')"
   ]
  },
  {
   "cell_type": "code",
   "execution_count": 22,
   "metadata": {},
   "outputs": [
    {
     "name": "stdout",
     "output_type": "stream",
     "text": [
      "0.7144023785081708\n"
     ]
    }
   ],
   "source": [
    "from sklearn.metrics import r2_score\n",
    "r2_value = r2_score(b,a)\n",
    "print(r2_value)"
   ]
  },
  {
   "cell_type": "code",
   "execution_count": 23,
   "metadata": {},
   "outputs": [
    {
     "data": {
      "text/plain": [
       "LinregressResult(slope=0.7325711686034957, intercept=0.20914763440290374, rvalue=0.8456462271129407, pvalue=3.479712114116117e-263, stderr=0.01494644788762455)"
      ]
     },
     "execution_count": 23,
     "metadata": {},
     "output_type": "execute_result"
    }
   ],
   "source": [
    "from scipy.stats import linregress\n",
    "linregress(b[0], a[0])"
   ]
  },
  {
   "cell_type": "code",
   "execution_count": 24,
   "metadata": {},
   "outputs": [
    {
     "name": "stdout",
     "output_type": "stream",
     "text": [
      "Final rmse value is = 1.054502558081143\n"
     ]
    }
   ],
   "source": [
    "rse = ((b[0]-a[0])**2).sum()\n",
    "mse = rse / len(b)\n",
    "print(\"Final rmse value is =\",np.sqrt(mse))"
   ]
  },
  {
   "cell_type": "code",
   "execution_count": null,
   "metadata": {},
   "outputs": [],
   "source": []
  }
 ],
 "metadata": {
  "kernelspec": {
   "display_name": "Python 3",
   "language": "python",
   "name": "python3"
  },
  "language_info": {
   "codemirror_mode": {
    "name": "ipython",
    "version": 3
   },
   "file_extension": ".py",
   "mimetype": "text/x-python",
   "name": "python",
   "nbconvert_exporter": "python",
   "pygments_lexer": "ipython3",
   "version": "3.6.9"
  }
 },
 "nbformat": 4,
 "nbformat_minor": 2
}
