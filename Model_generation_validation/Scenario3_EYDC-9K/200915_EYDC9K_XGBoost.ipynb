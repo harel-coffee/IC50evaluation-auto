{
 "cells": [
  {
   "cell_type": "code",
   "execution_count": 1,
   "metadata": {},
   "outputs": [],
   "source": [
    "import os\n",
    "import pandas as pd\n",
    "import numpy as np\n",
    "import random\n",
    "from pandas import DataFrame\n",
    "from datetime import datetime\n",
    "import xgboost as xgb\n",
    "\n",
    "# input file path\n",
    "workdir = \"D://DrugResponsivenessGuideline_log//Github//200914_reupload//Dataset//Scenario3_EYDC-9K\""
   ]
  },
  {
   "cell_type": "code",
   "execution_count": 2,
   "metadata": {},
   "outputs": [],
   "source": [
    "# read input file and index file for training and test set\n",
    "dataset = np.load(workdir + \"//200914_EYDC9K.npz\")\n",
    "ss0 = np.load(workdir + '//200914_EYDC9K_r0_9_1.npz')"
   ]
  },
  {
   "cell_type": "code",
   "execution_count": 3,
   "metadata": {},
   "outputs": [],
   "source": [
    "# input and index file assign\n",
    "x = dataset['x']\n",
    "y = dataset['y']\n",
    "# y_linear = dataset['y_lnIC50']\n",
    "ss0_train = ss0['train']\n",
    "ss0_test = ss0['test']"
   ]
  },
  {
   "cell_type": "code",
   "execution_count": 4,
   "metadata": {},
   "outputs": [],
   "source": [
    "# training and test dataset assign\n",
    "training_image_array, training_label_array = x[ss0_train], y[ss0_train]\n",
    "test_image_array, test_label_array = x[ss0_test], y[ss0_test]\n"
   ]
  },
  {
   "cell_type": "code",
   "execution_count": 5,
   "metadata": {},
   "outputs": [
    {
     "data": {
      "text/plain": [
       "(9590, 41505)"
      ]
     },
     "execution_count": 5,
     "metadata": {},
     "output_type": "execute_result"
    }
   ],
   "source": [
    "# checking the size of dataset\n",
    "x.shape"
   ]
  },
  {
   "cell_type": "code",
   "execution_count": 6,
   "metadata": {},
   "outputs": [
    {
     "data": {
      "text/plain": [
       "(8631, 41505)"
      ]
     },
     "execution_count": 6,
     "metadata": {},
     "output_type": "execute_result"
    }
   ],
   "source": [
    "# checking the size of training set\n",
    "training_image_array.shape"
   ]
  },
  {
   "cell_type": "code",
   "execution_count": 7,
   "metadata": {},
   "outputs": [],
   "source": [
    "train_X, train_y, test_X, test_y = training_image_array, training_label_array, test_image_array, test_label_array\n"
   ]
  },
  {
   "cell_type": "code",
   "execution_count": 8,
   "metadata": {},
   "outputs": [
    {
     "name": "stdout",
     "output_type": "stream",
     "text": [
      "(8631, 41505) (8631,) (959, 41505) (959,)\n"
     ]
    }
   ],
   "source": [
    "print(train_X.shape, train_y.shape, test_X.shape, test_y.shape)"
   ]
  },
  {
   "cell_type": "code",
   "execution_count": 9,
   "metadata": {},
   "outputs": [
    {
     "name": "stdout",
     "output_type": "stream",
     "text": [
      "train_X shape: (8631, 41505)\n",
      "8631 train samples\n",
      "959 test samples\n"
     ]
    }
   ],
   "source": [
    "# data typing and the number of dataset\n",
    "train_X = train_X.astype('float32')\n",
    "test_X = test_X.astype('float32')\n",
    "# train_X /= 255\n",
    "# test_X /= 255\n",
    "print('train_X shape:', train_X.shape)\n",
    "print(train_X.shape[0], 'train samples')\n",
    "print(test_X.shape[0], 'test samples')"
   ]
  },
  {
   "cell_type": "code",
   "execution_count": 10,
   "metadata": {
    "scrolled": false
   },
   "outputs": [
    {
     "name": "stdout",
     "output_type": "stream",
     "text": [
      "StartTime : 2020-09-15 12:36:51.649769\n",
      "[12:36:53] WARNING: src/objective/regression_obj.cu:152: reg:linear is now deprecated in favor of reg:squarederror.\n",
      "EndTime : 2020-09-15 12:49:50.692690\n"
     ]
    }
   ],
   "source": [
    "# model fitting\n",
    "StartTime8 = datetime.now()\n",
    "print(\"StartTime :\", StartTime8)\n",
    "\n",
    "model = xgb.XGBRegressor()\n",
    "model.fit(train_X,train_y)\n",
    "EndTime8 = datetime.now()\n",
    "print(\"EndTime :\", EndTime8)"
   ]
  },
  {
   "cell_type": "code",
   "execution_count": 11,
   "metadata": {},
   "outputs": [],
   "source": [
    "test_eval = model.score(test_X,test_y)"
   ]
  },
  {
   "cell_type": "code",
   "execution_count": 12,
   "metadata": {},
   "outputs": [
    {
     "data": {
      "text/plain": [
       "0.7492848528869769"
      ]
     },
     "execution_count": 12,
     "metadata": {},
     "output_type": "execute_result"
    }
   ],
   "source": [
    "test_eval"
   ]
  },
  {
   "cell_type": "code",
   "execution_count": 13,
   "metadata": {},
   "outputs": [],
   "source": [
    "predicted_classes = model.predict(test_X)"
   ]
  },
  {
   "cell_type": "code",
   "execution_count": 14,
   "metadata": {},
   "outputs": [],
   "source": [
    "predicted_value = predicted_classes"
   ]
  },
  {
   "cell_type": "code",
   "execution_count": 15,
   "metadata": {},
   "outputs": [],
   "source": [
    "# saving predicted ln(IC50)s and ln(IC50)s in the test set\n",
    "a = pd.DataFrame(predicted_value)\n",
    "b = pd.DataFrame(test_label_array)\n",
    "c = pd.concat([a,b], axis=1)\n",
    "c.columns=[\"Predicted\",\"Test\"]\n",
    "workdir = \"D://DrugResponsivenessGuideline_log//Github//200914_reupload//Result//EYDC-9K\"\n",
    "c.to_csv(workdir + '//200915_EYDC9K_XGB_pred_and_val_result.csv', index=False)\n"
   ]
  },
  {
   "cell_type": "code",
   "execution_count": 16,
   "metadata": {},
   "outputs": [
    {
     "data": {
      "text/html": [
       "<div>\n",
       "<style scoped>\n",
       "    .dataframe tbody tr th:only-of-type {\n",
       "        vertical-align: middle;\n",
       "    }\n",
       "\n",
       "    .dataframe tbody tr th {\n",
       "        vertical-align: top;\n",
       "    }\n",
       "\n",
       "    .dataframe thead th {\n",
       "        text-align: right;\n",
       "    }\n",
       "</style>\n",
       "<table border=\"1\" class=\"dataframe\">\n",
       "  <thead>\n",
       "    <tr style=\"text-align: right;\">\n",
       "      <th></th>\n",
       "      <th>Predicted</th>\n",
       "      <th>Test</th>\n",
       "    </tr>\n",
       "  </thead>\n",
       "  <tbody>\n",
       "    <tr>\n",
       "      <th>0</th>\n",
       "      <td>-3.875684</td>\n",
       "      <td>-4.667942</td>\n",
       "    </tr>\n",
       "    <tr>\n",
       "      <th>1</th>\n",
       "      <td>1.979814</td>\n",
       "      <td>2.079442</td>\n",
       "    </tr>\n",
       "    <tr>\n",
       "      <th>2</th>\n",
       "      <td>1.646048</td>\n",
       "      <td>2.079442</td>\n",
       "    </tr>\n",
       "    <tr>\n",
       "      <th>3</th>\n",
       "      <td>2.155189</td>\n",
       "      <td>2.079442</td>\n",
       "    </tr>\n",
       "    <tr>\n",
       "      <th>4</th>\n",
       "      <td>1.845119</td>\n",
       "      <td>2.079442</td>\n",
       "    </tr>\n",
       "  </tbody>\n",
       "</table>\n",
       "</div>"
      ],
      "text/plain": [
       "   Predicted      Test\n",
       "0  -3.875684 -4.667942\n",
       "1   1.979814  2.079442\n",
       "2   1.646048  2.079442\n",
       "3   2.155189  2.079442\n",
       "4   1.845119  2.079442"
      ]
     },
     "execution_count": 16,
     "metadata": {},
     "output_type": "execute_result"
    }
   ],
   "source": [
    "# result table\n",
    "c.head()"
   ]
  },
  {
   "cell_type": "code",
   "execution_count": 17,
   "metadata": {},
   "outputs": [
    {
     "data": {
      "text/plain": [
       "(959,)"
      ]
     },
     "execution_count": 17,
     "metadata": {},
     "output_type": "execute_result"
    }
   ],
   "source": [
    "# the length of result table\n",
    "predicted_value.shape"
   ]
  },
  {
   "cell_type": "code",
   "execution_count": 18,
   "metadata": {},
   "outputs": [
    {
     "name": "stderr",
     "output_type": "stream",
     "text": [
      "C:\\Users\\ylab\\AppData\\Local\\conda\\conda\\envs\\ronny\\lib\\site-packages\\sklearn\\externals\\joblib\\__init__.py:15: FutureWarning: sklearn.externals.joblib is deprecated in 0.21 and will be removed in 0.23. Please import this functionality directly from joblib, which can be installed with: pip install joblib. If this warning is raised when loading pickled models, you may need to re-serialize those models with scikit-learn 0.21+.\n",
      "  warnings.warn(msg, category=FutureWarning)\n"
     ]
    },
    {
     "data": {
      "text/plain": [
       "['D://DrugResponsivenessGuideline_log//Github//200914_reupload//Result//EYDC-9K//200915_EYDC9K_XGB_model.pkl']"
      ]
     },
     "execution_count": 18,
     "metadata": {},
     "output_type": "execute_result"
    }
   ],
   "source": [
    "# model save\n",
    "import pickle\n",
    "from sklearn.externals import joblib\n",
    "joblib.dump(model, workdir + '//200915_EYDC9K_XGB_model.pkl') \n"
   ]
  },
  {
   "cell_type": "code",
   "execution_count": 19,
   "metadata": {},
   "outputs": [],
   "source": [
    "import matplotlib\n",
    "from matplotlib import pyplot as plt"
   ]
  },
  {
   "cell_type": "code",
   "execution_count": 20,
   "metadata": {},
   "outputs": [
    {
     "name": "stdout",
     "output_type": "stream",
     "text": [
      "[12:49:51] WARNING: src/objective/regression_obj.cu:152: reg:linear is now deprecated in favor of reg:squarederror.\n"
     ]
    },
    {
     "data": {
      "text/plain": [
       "array([-3.8756838e+00,  1.9798137e+00,  1.6460479e+00,  2.1551890e+00,\n",
       "        1.8451194e+00, -2.4100387e+00,  1.0895414e+00,  5.6847018e-01,\n",
       "       -2.7556756e+00,  1.8076346e+00,  7.9667360e-02, -6.4253175e-01,\n",
       "        2.1598721e+00,  2.0041766e+00,  1.4551692e+00,  1.9214164e+00,\n",
       "       -1.4130095e+00, -2.2272751e+00,  1.7816632e+00,  1.8475116e+00,\n",
       "        1.2529615e+00,  1.6521480e+00, -2.1844294e+00, -1.8365428e+00,\n",
       "        1.2547343e+00,  9.3818450e-01,  1.7731003e+00,  1.8567585e+00,\n",
       "        1.0856540e+00,  1.6030771e+00, -1.6030908e+00,  6.8167484e-01,\n",
       "       -2.0604284e+00,  1.4916286e+00,  1.1771276e+00,  1.9834168e+00,\n",
       "        1.7877225e+00, -9.8749542e-01,  1.0443637e+00,  2.0110297e+00,\n",
       "        1.5964018e+00,  2.1942639e+00,  4.8101166e-01,  1.6223334e+00,\n",
       "        1.3091433e+00,  1.5828347e+00,  2.0201669e+00,  1.1569369e+00,\n",
       "        2.2315221e+00,  1.9891798e+00, -1.1468824e+00,  1.9222404e+00,\n",
       "        1.9579797e+00,  1.7894238e+00,  1.7957046e+00,  1.1029482e+00,\n",
       "        1.8734065e+00,  1.5152138e+00,  1.6691872e+00,  1.9048082e+00,\n",
       "        2.0366402e+00, -3.1413966e-01,  9.9176788e-01,  7.2120196e-01,\n",
       "       -1.0050265e+00,  1.8178695e+00, -1.6406345e+00,  9.4010979e-02,\n",
       "       -4.9901733e+00,  2.0360985e+00,  1.9807137e+00,  1.6988236e+00,\n",
       "        1.6709831e+00, -2.5161517e-01, -4.6620598e+00,  1.9150009e+00,\n",
       "        2.0929885e+00,  1.2714520e+00, -4.1464152e+00,  1.4457755e+00,\n",
       "        2.1430902e+00,  1.6015077e+00,  1.8172488e+00,  2.0556817e+00,\n",
       "        1.0262935e+00,  1.6525207e+00,  1.9069607e+00,  1.0806154e+00,\n",
       "        2.0724993e+00,  1.6251867e+00,  2.0482273e+00,  1.8685652e+00,\n",
       "        2.1097081e+00, -1.6731837e+00,  2.2057817e+00,  1.3867314e+00,\n",
       "       -1.9877958e+00, -1.1073714e+00, -2.9039878e-01,  2.3403156e-01,\n",
       "        1.4111151e+00, -2.3863643e-01,  1.4108292e+00, -4.8835391e-01,\n",
       "        1.1647897e+00,  2.0097461e+00,  1.3195696e+00,  2.0688720e+00,\n",
       "       -1.4075801e+00,  1.5867594e+00,  1.1358370e+00,  1.3648560e+00,\n",
       "        9.3327188e-01,  1.5402977e+00,  2.2316780e+00,  1.4677417e+00,\n",
       "        1.6908427e+00,  2.1878905e+00,  1.9181905e+00,  2.1427894e+00,\n",
       "        7.3426574e-01,  1.8837675e+00,  1.8749628e+00,  1.2043488e+00,\n",
       "        2.0209236e+00,  2.2187228e+00,  1.9087414e+00,  1.4954236e+00,\n",
       "        1.3179452e+00,  1.9637758e+00,  1.8174530e+00,  1.9316438e+00,\n",
       "        2.1177917e+00,  1.9964543e-01,  2.1342463e+00,  1.9285487e+00,\n",
       "        1.3758904e+00, -1.9949026e+00,  6.1650556e-01, -4.9052674e-01,\n",
       "        1.9872191e+00,  1.7334373e+00,  1.8792297e+00, -2.8353572e+00,\n",
       "        2.2512746e+00, -4.0611110e+00, -3.7536049e+00,  1.8060898e+00,\n",
       "        9.6455151e-01, -2.6682770e-01, -7.0585608e-01,  1.7397038e+00,\n",
       "        1.7775213e+00, -1.3176932e+00,  1.9471812e+00, -1.8371675e+00,\n",
       "        1.6538519e+00,  1.7564819e+00,  1.5068107e+00,  8.1849635e-01,\n",
       "       -2.5137897e+00,  2.1861143e+00,  1.2540694e+00,  1.6112015e+00,\n",
       "        1.5642715e+00,  1.3120751e+00,  1.2909331e+00,  2.0910013e+00,\n",
       "        1.8034582e+00,  2.1669393e+00,  1.7751377e+00,  1.4375894e+00,\n",
       "        2.1446607e+00,  1.4350181e+00, -6.5676343e-01, -5.9469938e-03,\n",
       "        1.2010229e+00, -2.1298811e+00,  2.0816622e+00,  1.7989075e+00,\n",
       "        1.3437271e+00, -4.5249548e+00,  1.9806122e+00, -3.4485025e+00,\n",
       "        1.6632330e+00,  1.6425213e+00,  1.2324166e+00,  2.1343999e+00,\n",
       "        2.0162935e+00,  1.2820687e+00, -5.1288791e+00,  1.4803622e+00,\n",
       "        1.0761858e+00,  1.1853967e+00,  1.5524378e+00,  1.2610065e+00,\n",
       "        1.9736022e+00,  1.3121272e+00,  7.5821203e-01,  1.2042856e+00,\n",
       "        2.1183276e+00,  2.1798868e+00, -1.0380148e+00,  8.1838119e-01,\n",
       "        1.4416761e+00,  1.7950578e+00,  8.4433353e-01,  1.7649837e+00,\n",
       "        9.5490354e-01, -1.1167681e+00,  1.7418553e+00,  2.0917192e+00,\n",
       "        1.6962510e+00,  2.2041023e+00,  1.6722072e+00, -3.4336126e+00,\n",
       "        1.5042683e+00,  1.8534181e+00, -1.4336418e+00,  1.9589510e+00,\n",
       "        1.9085785e+00,  8.2871115e-01, -6.2461615e-01,  2.1684136e+00,\n",
       "        4.3675020e-01,  2.1069298e+00, -2.1507087e+00, -2.2138004e+00,\n",
       "       -1.9555852e+00,  4.9146217e-01,  2.0520325e+00,  1.8262441e+00,\n",
       "        1.3832037e+00,  1.0998378e+00,  1.9988897e+00,  2.1667747e+00,\n",
       "        1.9470302e+00,  1.6187513e+00, -2.0765767e+00,  2.0025897e+00,\n",
       "        1.9383851e+00, -7.6406479e-01,  1.0374939e+00,  1.9050735e+00,\n",
       "       -4.6928048e+00,  1.6179558e+00,  1.1867740e+00,  7.1616739e-01,\n",
       "        1.3740467e+00,  1.9554125e+00,  1.8398234e+00,  1.6739191e+00,\n",
       "        1.9342759e+00, -2.2009180e+00, -4.4402161e+00,  1.3283277e+00,\n",
       "        1.9264741e+00, -4.0357625e-01,  1.4388752e+00,  1.4032421e+00,\n",
       "        1.2942929e+00,  1.7184792e+00, -1.2397072e+00,  1.6344172e+00,\n",
       "        2.0205722e+00,  1.8453509e+00,  1.6107059e+00,  1.9829267e+00,\n",
       "        1.7502282e+00,  1.7142515e+00,  2.1539764e+00,  1.8587545e+00,\n",
       "        1.7247610e+00, -3.0089035e+00,  1.4312036e+00,  1.6244751e+00,\n",
       "        1.9214684e+00, -1.6204584e+00,  7.2941434e-01,  2.0514488e-02,\n",
       "        1.7275110e+00,  1.0812622e+00,  1.1023486e+00,  7.6368999e-01,\n",
       "        1.7604706e+00,  1.9159062e+00,  1.3005588e+00,  1.3936965e+00,\n",
       "        1.7523758e+00,  2.2226872e+00,  1.6465749e+00,  1.6576232e+00,\n",
       "       -2.9866371e+00,  1.3868356e+00,  1.1735014e+00,  1.3654692e+00,\n",
       "        1.7396966e+00,  2.0109639e+00, -3.3156116e+00,  1.7903122e+00,\n",
       "        1.0657527e+00, -1.5727181e+00,  1.1303689e+00,  1.8143198e+00,\n",
       "       -3.6760206e+00, -1.2598492e+00, -2.7212975e+00,  2.1006486e+00,\n",
       "        1.8122357e+00,  1.0742643e+00,  1.8638631e+00,  1.8678430e+00,\n",
       "        1.8326200e+00,  1.2280287e+00,  2.0501146e+00, -1.4284785e+00,\n",
       "        1.9185302e+00,  1.9275584e+00, -4.4656458e+00,  1.0005443e+00,\n",
       "       -1.4630346e+00, -3.7874454e-01,  2.0426288e+00,  2.0620568e+00,\n",
       "        1.0724926e+00,  5.3195786e-01,  1.8168375e+00,  1.8480823e+00,\n",
       "        1.9983478e+00,  1.2206891e+00,  1.5584344e+00,  1.9486979e+00,\n",
       "       -1.8570826e+00,  2.1803718e+00,  1.5837549e+00, -3.8905706e+00,\n",
       "        2.0670733e+00,  1.3002815e+00,  1.8358442e+00,  1.5417070e+00,\n",
       "       -3.3549399e+00,  1.2223425e+00,  1.3220367e+00,  2.1590219e+00,\n",
       "        2.0216165e+00,  1.3696876e+00,  1.5036099e+00,  1.3478827e+00,\n",
       "        1.6575209e+00, -1.9176288e+00,  1.6024950e+00,  1.2423767e+00,\n",
       "        1.7821089e+00,  1.6362313e+00, -2.8326681e+00,  2.0925694e+00,\n",
       "        2.1227365e+00,  1.4737597e+00,  2.0979152e+00,  1.2460241e+00,\n",
       "        1.0972587e+00,  1.4162036e+00,  1.5256900e+00, -2.2526536e+00,\n",
       "       -2.0621250e+00,  1.6018428e+00,  1.9684299e+00,  1.9736028e+00,\n",
       "        1.5225812e+00,  9.2882073e-01,  1.0784483e+00,  1.8750619e+00,\n",
       "        1.9749444e+00,  2.0280900e+00,  1.6054295e+00, -1.5781338e+00,\n",
       "        1.8563623e+00,  1.8903857e+00,  2.0199504e+00, -1.2083421e+00,\n",
       "        1.7037838e+00,  1.9539030e+00,  5.2892625e-01, -3.6034389e+00,\n",
       "        1.0820630e+00,  2.1512198e+00,  1.9982281e+00,  2.2531323e+00,\n",
       "       -1.5820136e+00,  1.4419832e+00,  2.1045103e+00,  1.9108094e+00,\n",
       "        2.2427726e+00,  1.1647305e+00,  4.6047270e-01,  2.0459950e+00,\n",
       "        1.8772557e+00,  2.0840197e+00,  1.8730006e+00, -1.4949524e-01,\n",
       "        1.2495975e+00,  2.0836310e+00, -2.6212108e+00,  1.7452463e+00,\n",
       "       -4.1971440e+00,  1.8172550e+00,  1.6650498e+00,  1.8017887e+00,\n",
       "        1.0270503e+00,  2.2028131e+00,  1.1458013e+00,  5.6226128e-01,\n",
       "        1.5953127e+00,  1.8187521e+00,  1.5680723e+00,  1.9013628e+00,\n",
       "        1.9469427e+00,  7.8330904e-01,  1.6603783e+00,  1.7403767e+00,\n",
       "        1.9201648e+00,  2.0093496e+00,  2.0345607e+00,  1.9106892e+00,\n",
       "        1.3690679e+00,  2.2340693e+00, -2.1133606e+00,  1.5443919e+00,\n",
       "        1.9666456e+00, -1.6559947e-01,  1.7203312e+00,  1.5065000e+00,\n",
       "       -4.2663474e+00,  1.8718569e+00,  1.3545651e+00,  1.8255579e+00,\n",
       "        1.9689264e+00, -1.2511858e+00,  1.1198950e+00,  2.8451431e-01,\n",
       "       -4.7836530e-01,  2.0531216e+00,  2.2171283e+00, -3.6357388e+00,\n",
       "        1.4662584e+00,  2.0056355e+00,  1.3722064e+00,  1.1232977e+00,\n",
       "       -1.3115928e+00, -9.9884975e-01,  2.4807879e-01, -1.0243311e+00,\n",
       "       -1.8261158e+00,  1.9291078e+00, -1.9709818e+00,  1.7816645e+00,\n",
       "       -1.8073678e+00,  1.9306700e+00,  2.0429106e+00,  1.6938804e+00,\n",
       "        1.9544060e+00,  2.0083742e+00,  3.0203658e-01,  2.0810099e+00,\n",
       "        1.3831227e+00,  1.9947708e+00,  2.0296576e+00,  2.1218324e+00,\n",
       "        1.5906053e+00,  1.3492023e+00,  1.8942046e+00,  1.9797239e+00,\n",
       "        1.9941423e+00,  2.0562172e+00, -3.6364400e-01,  2.1106434e+00,\n",
       "        1.9806721e+00,  1.7320603e+00,  9.9906951e-02,  7.8820729e-01,\n",
       "        1.0130002e+00,  1.9359462e+00,  1.7694484e+00,  1.1533618e+00,\n",
       "        2.0977354e+00, -2.0076115e+00, -1.7638845e+00,  1.8752937e+00,\n",
       "        1.7002426e+00,  1.9301554e+00,  1.9060030e+00,  1.7987185e+00,\n",
       "       -1.6531644e+00,  9.3967855e-01,  1.4629519e+00,  1.6508687e+00,\n",
       "        1.5834031e+00,  2.0373206e+00,  1.8696769e+00,  2.2597694e+00,\n",
       "        2.0084126e+00,  2.1006455e+00,  1.9836878e+00, -9.8882663e-01,\n",
       "        1.2706001e+00, -1.5151520e+00,  1.7311211e+00,  1.8280989e+00,\n",
       "        1.7444721e+00,  1.6566840e+00,  1.4862626e+00,  1.9412996e+00,\n",
       "        1.8675513e+00,  2.1411788e+00,  1.9221507e+00,  1.8613913e+00,\n",
       "       -4.7954721e+00,  8.8773340e-01,  1.6580985e+00,  2.0139031e+00,\n",
       "        1.4747609e+00,  1.1933067e+00,  2.0660195e+00, -1.7470616e-01,\n",
       "        1.4880810e+00,  1.9485062e+00,  1.6954548e+00, -7.8747833e-01,\n",
       "        2.0030863e+00,  4.9525669e-01,  1.5657203e+00,  2.1149397e+00,\n",
       "        1.5123850e+00,  1.9175143e+00,  1.2254460e+00, -4.2795396e+00,\n",
       "        1.9707065e+00,  1.2912908e+00,  1.9154054e+00, -5.5365217e-01,\n",
       "        1.8419709e+00,  1.8560674e+00,  8.5977614e-01,  2.1786532e+00,\n",
       "        1.5068675e+00, -3.4947808e+00,  2.1061878e+00,  2.0141451e+00,\n",
       "        1.8649520e+00,  1.6217450e+00, -2.5835764e+00,  1.8183604e+00,\n",
       "        2.1309049e+00,  1.8884263e+00,  1.5581727e+00,  1.9813278e+00,\n",
       "        1.3515735e+00,  1.5747836e+00, -8.6758530e-01,  1.7724420e+00,\n",
       "       -6.9209111e-01,  1.7970386e+00, -3.1403484e+00, -4.4268185e-01,\n",
       "        1.1142745e+00,  1.8105870e+00, -4.0510545e+00, -1.0820295e+00,\n",
       "        1.7648346e+00,  2.0892770e+00,  1.7196033e+00,  1.6200048e+00,\n",
       "        1.9140065e+00,  1.8463544e+00,  9.5892066e-01,  1.4656641e+00,\n",
       "        9.8100728e-01,  1.9246575e+00,  1.6190761e+00,  1.7388206e+00,\n",
       "        1.5331608e+00,  2.1244988e+00,  1.7954205e+00,  1.9990765e+00,\n",
       "        1.0447851e+00,  7.8267103e-01,  1.8404975e+00,  1.1537671e-03,\n",
       "        2.1489861e+00, -1.4429605e-01,  2.1843088e+00, -2.0976334e+00,\n",
       "        1.9457406e+00,  2.0762427e+00,  1.2456717e+00, -1.1785722e-01,\n",
       "        1.9239779e+00,  1.6868653e+00,  1.4372615e+00,  1.8193207e+00,\n",
       "        1.4705782e+00, -4.0750208e+00,  1.8891419e+00,  1.7990873e+00,\n",
       "        1.6509819e+00,  1.9519968e+00,  1.6989247e+00,  1.7197504e+00,\n",
       "        1.7963153e+00, -1.0452731e+00,  2.0251808e+00,  1.9773753e+00,\n",
       "        2.2046824e+00,  1.5258405e+00,  1.5166249e+00,  1.9674274e+00,\n",
       "        1.4335864e+00, -8.2361639e-01,  2.0213542e+00,  2.0388412e+00,\n",
       "        2.0776594e+00, -4.7804999e-01,  1.6916350e+00,  6.7372108e-01,\n",
       "       -1.8212295e+00,  1.6797965e+00, -7.5762141e-01,  1.6061115e+00,\n",
       "        1.5035471e+00, -2.8397763e+00,  1.5943660e+00,  9.6694791e-01,\n",
       "        1.9380535e+00, -9.3801498e-01, -5.8167207e-01,  7.6240802e-01,\n",
       "        8.6351609e-01,  1.6008469e+00,  2.0365486e+00,  1.6280977e+00,\n",
       "        5.9640992e-01,  1.9256009e+00,  1.8004491e+00,  1.8913487e+00,\n",
       "        1.9035167e+00,  1.9156411e+00,  2.0789819e+00,  1.8488636e+00,\n",
       "        1.9466047e+00,  1.9380169e+00,  1.2397828e+00,  1.9159095e+00,\n",
       "        1.6088387e+00, -6.7498457e-01,  2.1096282e+00,  1.9381444e+00,\n",
       "       -2.6904390e+00, -1.2864343e+00,  2.0607810e+00,  2.2363529e+00,\n",
       "        1.7804461e+00, -1.4136903e+00, -2.4700701e+00, -2.5387013e-01,\n",
       "       -3.4655340e+00, -4.0052295e+00, -4.5890336e+00, -1.3562429e+00,\n",
       "        2.0712323e+00,  1.9101996e+00,  2.1542640e+00,  1.7315031e+00,\n",
       "        1.3193656e+00,  1.4785964e+00, -2.1836958e+00, -1.7664461e+00,\n",
       "        1.4542549e+00,  2.0113959e+00,  2.1455767e+00,  9.2002416e-01,\n",
       "        1.9113560e+00,  1.8235489e+00,  1.8714870e+00,  1.5662509e+00,\n",
       "       -5.0110769e+00,  1.8014567e+00,  1.3107357e+00,  1.8420261e+00,\n",
       "        1.9085970e+00, -1.9778328e+00,  1.5541198e+00, -3.2509500e-01,\n",
       "        2.2961321e+00,  7.6144934e-01,  2.0252705e+00, -1.4098030e+00,\n",
       "        2.0432303e+00,  1.7903036e+00,  1.9383219e+00,  1.6682392e+00,\n",
       "        1.7690024e+00,  1.6362518e+00,  1.8821849e+00,  2.1303897e+00,\n",
       "        2.1640654e+00, -9.4401097e-01,  1.4774663e+00,  1.9513794e+00,\n",
       "        7.2824723e-01, -3.5919147e+00,  1.6115847e+00,  7.9338706e-01,\n",
       "        1.7492836e+00,  1.9510630e+00, -2.2020978e-01,  1.9840299e+00,\n",
       "        2.1005492e+00,  1.5471504e+00,  1.8511610e+00,  1.1652830e+00,\n",
       "        1.7673990e+00,  2.0105391e+00,  2.0091498e+00,  1.7644920e+00,\n",
       "       -7.2013581e-01, -4.3034844e+00,  1.6968387e+00,  1.9238722e+00,\n",
       "        1.8357509e+00, -7.8251994e-01,  1.5438327e+00, -2.7684577e+00,\n",
       "        1.8690376e+00,  2.0240474e+00,  1.1764005e+00,  1.1745974e+00,\n",
       "        1.9817413e+00, -4.6911669e+00,  1.7237917e+00,  1.1785870e+00,\n",
       "        2.0432053e+00,  1.6452444e+00,  1.8995659e+00, -4.3418229e-01,\n",
       "        1.6070361e+00,  2.7890933e-01,  1.9231088e+00,  1.9464495e+00,\n",
       "        2.1501298e+00,  1.8073974e+00, -2.9484861e+00,  1.9525537e+00,\n",
       "        1.9909035e+00, -3.5727754e+00,  1.9191545e+00,  2.1899920e+00,\n",
       "        1.0484221e+00,  5.9768760e-01, -4.5225248e+00,  1.4045185e-01,\n",
       "        2.0724998e+00,  2.0025251e+00, -1.6302361e+00,  1.8577900e+00,\n",
       "        1.7684501e+00, -1.8082721e+00,  2.2471750e+00,  2.1432950e+00,\n",
       "        1.6889343e+00,  8.1267941e-01,  1.5157882e+00,  8.0603796e-01,\n",
       "       -4.8233237e+00,  1.9768571e+00,  1.1746833e+00,  1.9074930e+00,\n",
       "        1.5448350e+00,  1.3042926e+00,  2.0269299e+00,  2.1971536e+00,\n",
       "        2.0123158e+00,  1.4162000e+00,  1.2805257e+00, -1.0382836e+00,\n",
       "        2.0151014e+00,  1.6062771e+00,  1.9843671e+00,  1.7750690e+00,\n",
       "        1.8954815e+00, -2.9667263e+00,  1.4910204e+00, -1.9127736e+00,\n",
       "        1.1407859e+00,  9.7878158e-01, -2.2820237e+00,  1.2277718e+00,\n",
       "        2.0453711e+00,  1.2943473e+00,  1.5196639e+00,  2.1881688e+00,\n",
       "        1.6317014e+00,  1.6088604e+00, -2.7262766e+00, -8.0719912e-01,\n",
       "       -1.9681454e-03,  1.9276228e+00, -3.4593854e+00,  1.5839748e+00,\n",
       "        1.4547681e+00,  1.9072739e+00,  1.8083600e+00,  1.6795435e+00,\n",
       "        9.9597287e-01,  2.0221910e+00, -3.6781459e+00,  1.7209654e+00,\n",
       "        7.6509494e-01, -4.1728072e+00,  1.3110048e+00,  1.8209701e+00,\n",
       "        1.8858970e+00,  1.7651720e+00,  1.9167175e+00,  1.6144605e+00,\n",
       "        6.9575912e-01,  2.1254358e+00,  1.4734688e+00,  1.9634714e+00,\n",
       "        1.9819351e+00,  1.5377721e+00,  1.1816219e+00,  1.8468617e+00,\n",
       "        1.9371532e+00,  1.6629326e+00,  1.6990277e+00,  1.9237192e+00,\n",
       "        1.6510198e+00,  1.7343189e+00, -4.2504683e+00,  1.8127805e+00,\n",
       "        1.1084769e+00,  2.1634631e+00,  1.7355844e+00, -6.8463421e-01,\n",
       "       -8.6448944e-01,  1.5895773e+00,  2.1713295e+00,  1.3851011e+00,\n",
       "        1.6833240e+00,  1.4476448e-01,  2.0387640e+00,  1.9218408e+00,\n",
       "        1.1584475e+00,  1.7525306e+00,  1.8398194e+00,  2.0008073e+00,\n",
       "       -3.3636193e+00, -2.4968119e+00,  1.7279443e+00, -4.5978937e+00,\n",
       "        2.1299810e+00,  7.6466191e-01,  2.0634630e+00, -1.0440366e+00,\n",
       "        1.3873625e+00, -2.3705494e+00, -1.2603301e-01,  9.0875953e-02,\n",
       "        3.0201790e-01,  1.2262688e+00,  2.0525267e+00, -3.9779658e+00,\n",
       "       -2.4811099e+00,  1.0301626e+00, -1.9676199e+00,  1.8513025e+00,\n",
       "        1.7439249e+00,  2.2098122e+00,  1.4763237e+00,  1.8908169e+00,\n",
       "        2.0487146e+00,  1.1220090e+00,  1.3385017e+00,  2.0568013e+00,\n",
       "        2.0350680e+00, -7.9803371e-01,  2.1061568e+00,  1.8246027e+00,\n",
       "       -2.8845305e+00,  7.4563891e-01,  2.2434916e+00,  1.6153711e+00,\n",
       "        1.9940313e+00, -2.4384575e+00,  1.4010423e-01,  1.8953925e+00,\n",
       "       -6.8158102e-01,  1.5694432e+00, -1.5327519e-01,  1.9832386e+00,\n",
       "       -4.8394537e+00, -1.1712177e+00,  1.6077174e+00,  2.0643644e+00,\n",
       "       -1.0879250e+00,  2.1588964e+00,  1.4600825e+00,  1.7408302e+00,\n",
       "        1.5475841e+00,  1.1581326e+00,  1.8629487e+00, -3.3543122e-01,\n",
       "        1.9337173e+00,  1.7331862e+00,  2.0756044e+00, -3.3184278e-01,\n",
       "        1.5803081e+00,  1.7263091e+00,  2.2549326e+00,  1.9843457e+00,\n",
       "        2.0178161e+00,  1.7984208e+00,  1.9394268e+00,  1.5541850e+00,\n",
       "       -3.0121303e+00, -2.2436497e+00,  1.8423423e+00,  1.7229700e+00,\n",
       "        2.0703044e+00,  1.3412917e+00, -4.3523149e+00,  1.5538652e+00,\n",
       "       -4.3413992e+00,  2.1510725e+00,  1.5261720e+00, -9.1622245e-01,\n",
       "       -5.2853446e+00,  2.0877995e+00,  1.6090275e+00, -2.3664472e+00,\n",
       "        1.8964283e+00, -8.4852278e-02,  1.3878706e+00,  1.8241102e+00,\n",
       "        1.8970191e+00, -9.3272209e-01,  2.0307589e+00,  1.9283156e+00,\n",
       "       -2.7103279e+00,  1.8868512e+00,  4.8657227e-01,  1.9273287e+00,\n",
       "        2.0858269e+00, -9.1855359e-01,  2.0999274e+00,  2.1449749e+00,\n",
       "       -2.4200599e+00,  1.5991571e+00,  2.0054309e+00], dtype=float32)"
      ]
     },
     "execution_count": 20,
     "metadata": {},
     "output_type": "execute_result"
    }
   ],
   "source": [
    "# check whether the saved model is working\n",
    "regr_from_joblib = joblib.load(workdir + '//200915_EYDC9K_XGB_model.pkl') \n",
    "regr_from_joblib.predict(test_X)"
   ]
  },
  {
   "cell_type": "code",
   "execution_count": 21,
   "metadata": {},
   "outputs": [
    {
     "data": {
      "image/png": "[encoded data removed]",
      "text/plain": [
       "<Figure size 432x288 with 1 Axes>"
      ]
     },
     "metadata": {
      "needs_background": "light"
     },
     "output_type": "display_data"
    }
   ],
   "source": [
    "# plotting\n",
    "plt.scatter(test_label_array,predicted_value,c='red')\n",
    "plt.xlabel('test_IC50_value')\n",
    "plt.ylabel('predicted_IC50_value')\n",
    "plt.savefig(workdir + '//200915_EYDC9K_XGB_plot.png')"
   ]
  },
  {
   "cell_type": "code",
   "execution_count": 22,
   "metadata": {},
   "outputs": [
    {
     "name": "stdout",
     "output_type": "stream",
     "text": [
      "0.7492848528869769\n"
     ]
    }
   ],
   "source": [
    "# R-squared value\n",
    "from sklearn.metrics import r2_score\n",
    "r2_value = r2_score(b,a)\n",
    "print(r2_value)"
   ]
  },
  {
   "cell_type": "code",
   "execution_count": 23,
   "metadata": {},
   "outputs": [
    {
     "data": {
      "text/plain": [
       "LinregressResult(slope=0.7401805544392706, intercept=0.2000605870317671, rvalue=0.8658721596272708, pvalue=4.060285783286987e-290, stderr=0.013823828422792651)"
      ]
     },
     "execution_count": 23,
     "metadata": {},
     "output_type": "execute_result"
    }
   ],
   "source": [
    "# Linear regression value (slope)\n",
    "from scipy.stats import linregress\n",
    "linregress(b[0], a[0])"
   ]
  },
  {
   "cell_type": "code",
   "execution_count": 24,
   "metadata": {},
   "outputs": [
    {
     "name": "stdout",
     "output_type": "stream",
     "text": [
      "Final rmse value is = 0.9880084251135447\n"
     ]
    }
   ],
   "source": [
    "# RMSE\n",
    "rse = ((b[0]-a[0])**2).sum()\n",
    "mse = rse / len(b)\n",
    "print(\"Final rmse value is =\",np.sqrt(mse))"
   ]
  }
 ],
 "metadata": {
  "kernelspec": {
   "display_name": "Python 3",
   "language": "python",
   "name": "python3"
  },
  "language_info": {
   "codemirror_mode": {
    "name": "ipython",
    "version": 3
   },
   "file_extension": ".py",
   "mimetype": "text/x-python",
   "name": "python",
   "nbconvert_exporter": "python",
   "pygments_lexer": "ipython3",
   "version": "3.6.9"
  }
 },
 "nbformat": 4,
 "nbformat_minor": 2
}
