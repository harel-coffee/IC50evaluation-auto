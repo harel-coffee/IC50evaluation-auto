{
 "cells": [
  {
   "cell_type": "code",
   "execution_count": 1,
   "metadata": {},
   "outputs": [
    {
     "name": "stderr",
     "output_type": "stream",
     "text": [
      "Using TensorFlow backend.\n"
     ]
    }
   ],
   "source": [
    "import os\n",
    "import pandas as pd\n",
    "import numpy as np\n",
    "import tensorflow as tf\n",
    "import random\n",
    "from pandas import DataFrame\n",
    "from datetime import datetime\n",
    "import keras\n",
    "from keras.models import Sequential,Input,Model\n",
    "from keras.layers import Dense, Dropout, Flatten, Reshape, Activation\n",
    "from keras.layers import Conv1D, MaxPooling1D ,AveragePooling1D\n",
    "from keras.layers.normalization import BatchNormalization\n",
    "from keras.layers.advanced_activations import LeakyReLU\n",
    "from keras import backend as K\n",
    "from keras.callbacks import ModelCheckpoint, CSVLogger\n",
    "from keras.optimizers import Adam, RMSprop\n",
    "from keras.layers import Input, Dense, Conv1D, MaxPooling1D\n",
    "from keras.layers import Flatten, Concatenate, Dropout, Reshape, BatchNormalization\n",
    "from keras.models import Model\n",
    "\n",
    "# input file path\n",
    "workdir = \"E://Ronny_TF//200914_reupload//Dataset//Scenario3_EYDC-9K\"\n"
   ]
  },
  {
   "cell_type": "code",
   "execution_count": 2,
   "metadata": {},
   "outputs": [
    {
     "name": "stdout",
     "output_type": "stream",
     "text": [
      "[name: \"/device:CPU:0\"\n",
      "device_type: \"CPU\"\n",
      "memory_limit: 268435456\n",
      "locality {\n",
      "}\n",
      "incarnation: 13651656141659390770\n",
      ", name: \"/device:GPU:0\"\n",
      "device_type: \"GPU\"\n",
      "memory_limit: 10112512820\n",
      "locality {\n",
      "  bus_id: 1\n",
      "  links {\n",
      "  }\n",
      "}\n",
      "incarnation: 3053581032006479964\n",
      "physical_device_desc: \"device: 0, name: GeForce GTX 1080 Ti, pci bus id: 0000:01:00.0, compute capability: 6.1\"\n",
      "]\n"
     ]
    }
   ],
   "source": [
    "from tensorflow.python.client import device_lib\n",
    "print(device_lib.list_local_devices())"
   ]
  },
  {
   "cell_type": "code",
   "execution_count": 3,
   "metadata": {},
   "outputs": [],
   "source": [
    "# input and index file\n",
    "dataset = np.load(workdir + \"//200914_EYDC9K.npz\")\n",
    "ss0 = np.load(workdir + '//200914_EYDC9K_r0_9_1.npz')"
   ]
  },
  {
   "cell_type": "code",
   "execution_count": 4,
   "metadata": {},
   "outputs": [],
   "source": [
    "# input and index file assign\n",
    "x = dataset['x']\n",
    "y = dataset['y']\n",
    "# y_linear = dataset['y_lnIC50']\n",
    "ss0_train = ss0['train']\n",
    "ss0_test = ss0['test']"
   ]
  },
  {
   "cell_type": "code",
   "execution_count": 5,
   "metadata": {},
   "outputs": [],
   "source": [
    "# training and test dataset assign\n",
    "training_image_array, training_label_array = x[ss0_train], y[ss0_train]\n",
    "test_image_array, test_label_array = x[ss0_test], y[ss0_test]\n"
   ]
  },
  {
   "cell_type": "code",
   "execution_count": 6,
   "metadata": {},
   "outputs": [
    {
     "data": {
      "text/plain": [
       "(9590, 41505)"
      ]
     },
     "execution_count": 6,
     "metadata": {},
     "output_type": "execute_result"
    }
   ],
   "source": [
    "# checking the size of dataset\n",
    "x.shape"
   ]
  },
  {
   "cell_type": "code",
   "execution_count": 7,
   "metadata": {},
   "outputs": [
    {
     "data": {
      "text/plain": [
       "(8631, 41505)"
      ]
     },
     "execution_count": 7,
     "metadata": {},
     "output_type": "execute_result"
    }
   ],
   "source": [
    "# checking the size of training set\n",
    "training_image_array.shape"
   ]
  },
  {
   "cell_type": "code",
   "execution_count": 8,
   "metadata": {},
   "outputs": [],
   "source": [
    "# hyperparameters of this model\n",
    "num_classes = 1\n",
    "learning_rate = 0.0002\n",
    "training_epochs = 150\n",
    "batch_size = 100\n"
   ]
  },
  {
   "cell_type": "code",
   "execution_count": 9,
   "metadata": {},
   "outputs": [],
   "source": [
    "train_X, train_y, test_X, test_y = training_image_array, training_label_array, test_image_array, test_label_array\n",
    "\n",
    "\n"
   ]
  },
  {
   "cell_type": "code",
   "execution_count": 10,
   "metadata": {},
   "outputs": [
    {
     "name": "stdout",
     "output_type": "stream",
     "text": [
      "39180\n"
     ]
    }
   ],
   "source": [
    "shape_value = 39180\n",
    "print(shape_value)"
   ]
  },
  {
   "cell_type": "code",
   "execution_count": 11,
   "metadata": {},
   "outputs": [
    {
     "data": {
      "text/plain": [
       "(8631, 41505)"
      ]
     },
     "execution_count": 11,
     "metadata": {},
     "output_type": "execute_result"
    }
   ],
   "source": [
    "train_X.shape"
   ]
  },
  {
   "cell_type": "code",
   "execution_count": 12,
   "metadata": {},
   "outputs": [],
   "source": [
    "# data shaping for CNN model\n",
    "train_X_cell = train_X[:,:shape_value]\n",
    "train_X_drug =train_X[:,shape_value:]\n",
    "test_X_cell = test_X[:,:shape_value]\n",
    "test_X_drug = test_X[:,shape_value:]"
   ]
  },
  {
   "cell_type": "code",
   "execution_count": 13,
   "metadata": {},
   "outputs": [
    {
     "data": {
      "text/plain": [
       "(8631, 39180)"
      ]
     },
     "execution_count": 13,
     "metadata": {},
     "output_type": "execute_result"
    }
   ],
   "source": [
    "train_X_cell.shape"
   ]
  },
  {
   "cell_type": "code",
   "execution_count": 14,
   "metadata": {},
   "outputs": [],
   "source": [
    "train_X_cell = train_X_cell.reshape(train_X_cell.shape[0], train_X_cell.shape[1], 1)\n",
    "train_X_drug = train_X_drug.reshape(train_X_drug.shape[0], train_X_drug.shape[1], 1)\n",
    "test_X_cell = test_X_cell.reshape(test_X_cell.shape[0], test_X_cell.shape[1], 1)\n",
    "test_X_drug = test_X_drug.reshape(test_X_drug.shape[0], test_X_drug.shape[1], 1)\n",
    "#input_shape = (img_rows, img_cols, 1)"
   ]
  },
  {
   "cell_type": "code",
   "execution_count": 15,
   "metadata": {},
   "outputs": [
    {
     "name": "stdout",
     "output_type": "stream",
     "text": [
      "(8631, 39180, 1) (8631, 2325, 1) (8631,) (959, 39180, 1) (959, 2325, 1) (959,)\n"
     ]
    }
   ],
   "source": [
    "# data shape\n",
    "print(train_X_cell.shape,train_X_drug.shape, train_y.shape, test_X_cell.shape,test_X_drug.shape, test_y.shape)"
   ]
  },
  {
   "cell_type": "code",
   "execution_count": 16,
   "metadata": {},
   "outputs": [
    {
     "data": {
      "text/plain": [
       "(8631, 39180, 1)"
      ]
     },
     "execution_count": 16,
     "metadata": {},
     "output_type": "execute_result"
    }
   ],
   "source": [
    "train_X_cell.shape"
   ]
  },
  {
   "cell_type": "code",
   "execution_count": 17,
   "metadata": {},
   "outputs": [
    {
     "name": "stdout",
     "output_type": "stream",
     "text": [
      "train_X shape: (8631, 41505)\n",
      "8631 train samples\n",
      "959 test samples\n"
     ]
    }
   ],
   "source": [
    "# data typing and the number of samples\n",
    "train_X_cell = train_X_cell.astype('float32')\n",
    "test_X_cell = test_X_cell.astype('float32')\n",
    "train_X_drug = train_X_drug.astype('float32')\n",
    "test_X_drug = test_X_drug.astype('float32')\n",
    "# train_X /= 255\n",
    "# test_X /= 255\n",
    "print('train_X shape:', train_X.shape)\n",
    "print(train_X.shape[0], 'train samples')\n",
    "print(test_X.shape[0], 'test samples')"
   ]
  },
  {
   "cell_type": "code",
   "execution_count": 18,
   "metadata": {},
   "outputs": [
    {
     "name": "stderr",
     "output_type": "stream",
     "text": [
      "WARNING: Logging before flag parsing goes to stderr.\n",
      "W0915 12:11:54.381016  9844 deprecation_wrapper.py:119] From c:\\users\\a\\anaconda3\\envs\\tf_gpu_3.6\\lib\\site-packages\\keras\\backend\\tensorflow_backend.py:514: The name tf.placeholder is deprecated. Please use tf.compat.v1.placeholder instead.\n",
      "\n",
      "W0915 12:11:54.382996  9844 deprecation_wrapper.py:119] From c:\\users\\a\\anaconda3\\envs\\tf_gpu_3.6\\lib\\site-packages\\keras\\backend\\tensorflow_backend.py:71: The name tf.get_default_graph is deprecated. Please use tf.compat.v1.get_default_graph instead.\n",
      "\n",
      "W0915 12:11:54.383944  9844 deprecation_wrapper.py:119] From c:\\users\\a\\anaconda3\\envs\\tf_gpu_3.6\\lib\\site-packages\\keras\\backend\\tensorflow_backend.py:4076: The name tf.random_uniform is deprecated. Please use tf.random.uniform instead.\n",
      "\n",
      "W0915 12:11:54.401512  9844 deprecation_wrapper.py:119] From c:\\users\\a\\anaconda3\\envs\\tf_gpu_3.6\\lib\\site-packages\\keras\\backend\\tensorflow_backend.py:3900: The name tf.nn.max_pool is deprecated. Please use tf.nn.max_pool2d instead.\n",
      "\n",
      "W0915 12:11:54.438601  9844 deprecation_wrapper.py:119] From c:\\users\\a\\anaconda3\\envs\\tf_gpu_3.6\\lib\\site-packages\\keras\\backend\\tensorflow_backend.py:130: The name tf.placeholder_with_default is deprecated. Please use tf.compat.v1.placeholder_with_default instead.\n",
      "\n",
      "W0915 12:11:54.444458  9844 deprecation.py:506] From c:\\users\\a\\anaconda3\\envs\\tf_gpu_3.6\\lib\\site-packages\\keras\\backend\\tensorflow_backend.py:3363: calling dropout (from tensorflow.python.ops.nn_ops) with keep_prob is deprecated and will be removed in a future version.\n",
      "Instructions for updating:\n",
      "Please use `rate` instead of `keep_prob`. Rate should be set to `rate = 1 - keep_prob`.\n"
     ]
    }
   ],
   "source": [
    "# model architecture\n",
    "with K.tf.device('/GPU:0'):\n",
    "    input_cell = Input(shape=(train_X_cell.shape[1], train_X_cell.shape[2]), name='cell_input')\n",
    "    input_drug = Input(shape=(train_X_drug.shape[1], train_X_drug.shape[2]), name='drug_input')\n",
    "\n",
    "    conv_cell_line_1 = Conv1D(filters=50, kernel_size=700, strides=5, activation='tanh')(input_cell)\n",
    "    maxpool_cell_line_1 = MaxPooling1D(pool_size=5)(conv_cell_line_1)\n",
    "    conv_cell_line_2 = Conv1D(filters=30, kernel_size=5, strides=2, activation='relu')(maxpool_cell_line_1)\n",
    "    maxpool_cell_line_2 = MaxPooling1D(pool_size=10)(conv_cell_line_2)\n",
    "    flatten_cell_line = Flatten()(maxpool_cell_line_2)\n",
    "    dense_cell_line = Dense(100, activation='relu')(flatten_cell_line)\n",
    "    dropout_cell_line = Dropout(0.1)(dense_cell_line)\n",
    "\n",
    "    conv_drug_1 = Conv1D(filters=50, kernel_size=200, strides=3, activation='tanh')(input_drug)\n",
    "    maxpool_drug_1 = MaxPooling1D(pool_size=5)(conv_drug_1)\n",
    "    conv_drug_2 = Conv1D(filters=30, kernel_size=50, strides=5, activation='relu')(maxpool_drug_1)\n",
    "    maxpool_drug_2 = MaxPooling1D(pool_size=10)(conv_drug_2)\n",
    "    flatten_drug = Flatten()(maxpool_drug_2)\n",
    "    dense_drug = Dense(100, activation='relu')(flatten_drug)\n",
    "    dropout_drug = Dropout(0.1)(dense_drug)\n",
    "\n",
    "    concatenate = Concatenate()([dropout_cell_line, dropout_drug])\n",
    "    dense_1 = Dense(300, activation='tanh')(concatenate)\n",
    "    dropout_1 = Dropout(0.1)(dense_1)\n",
    "    reshape_1 = Reshape((300,1))(dropout_1)\n",
    "    conv_1 = Conv1D(filters=30, kernel_size=150, strides=1, activation='relu')(reshape_1)\n",
    "    maxpool_1 = MaxPooling1D(pool_size=2)(conv_1)\n",
    "    conv_2 = Conv1D(filters=10, kernel_size=5, strides=1, activation='relu')(maxpool_1)\n",
    "    maxpool_2 = MaxPooling1D(pool_size=3)(conv_2)\n",
    "    conv_3 = Conv1D(filters=5, kernel_size=5, strides=1, activation='relu')(maxpool_2)\n",
    "    maxpool_3 = MaxPooling1D(pool_size=3)(conv_3)\n",
    "    dropout_2 = Dropout(0.1)(maxpool_3)\n",
    "    flatten = Flatten()(dropout_2)\n",
    "    dropout_3 = Dropout(0.2)(flatten)\n",
    "    output = Dense(1, activation='linear', name='pred_lnIC50')(dropout_3)\n",
    "    model = Model(inputs=[input_cell, input_drug], outputs=output, name='MasterModel')\n",
    "\n"
   ]
  },
  {
   "cell_type": "code",
   "execution_count": 19,
   "metadata": {
    "scrolled": true
   },
   "outputs": [
    {
     "name": "stdout",
     "output_type": "stream",
     "text": [
      "__________________________________________________________________________________________________\n",
      "Layer (type)                    Output Shape         Param #     Connected to                     \n",
      "==================================================================================================\n",
      "cell_input (InputLayer)         (None, 39180, 1)     0                                            \n",
      "__________________________________________________________________________________________________\n",
      "drug_input (InputLayer)         (None, 2325, 1)      0                                            \n",
      "__________________________________________________________________________________________________\n",
      "conv1d_1 (Conv1D)               (None, 7697, 50)     35050       cell_input[0][0]                 \n",
      "__________________________________________________________________________________________________\n",
      "conv1d_3 (Conv1D)               (None, 709, 50)      10050       drug_input[0][0]                 \n",
      "__________________________________________________________________________________________________\n",
      "max_pooling1d_1 (MaxPooling1D)  (None, 1539, 50)     0           conv1d_1[0][0]                   \n",
      "__________________________________________________________________________________________________\n",
      "max_pooling1d_3 (MaxPooling1D)  (None, 141, 50)      0           conv1d_3[0][0]                   \n",
      "__________________________________________________________________________________________________\n",
      "conv1d_2 (Conv1D)               (None, 768, 30)      7530        max_pooling1d_1[0][0]            \n",
      "__________________________________________________________________________________________________\n",
      "conv1d_4 (Conv1D)               (None, 19, 30)       75030       max_pooling1d_3[0][0]            \n",
      "__________________________________________________________________________________________________\n",
      "max_pooling1d_2 (MaxPooling1D)  (None, 76, 30)       0           conv1d_2[0][0]                   \n",
      "__________________________________________________________________________________________________\n",
      "max_pooling1d_4 (MaxPooling1D)  (None, 1, 30)        0           conv1d_4[0][0]                   \n",
      "__________________________________________________________________________________________________\n",
      "flatten_1 (Flatten)             (None, 2280)         0           max_pooling1d_2[0][0]            \n",
      "__________________________________________________________________________________________________\n",
      "flatten_2 (Flatten)             (None, 30)           0           max_pooling1d_4[0][0]            \n",
      "__________________________________________________________________________________________________\n",
      "dense_1 (Dense)                 (None, 100)          228100      flatten_1[0][0]                  \n",
      "__________________________________________________________________________________________________\n",
      "dense_2 (Dense)                 (None, 100)          3100        flatten_2[0][0]                  \n",
      "__________________________________________________________________________________________________\n",
      "dropout_1 (Dropout)             (None, 100)          0           dense_1[0][0]                    \n",
      "__________________________________________________________________________________________________\n",
      "dropout_2 (Dropout)             (None, 100)          0           dense_2[0][0]                    \n",
      "__________________________________________________________________________________________________\n",
      "concatenate_1 (Concatenate)     (None, 200)          0           dropout_1[0][0]                  \n",
      "                                                                 dropout_2[0][0]                  \n",
      "__________________________________________________________________________________________________\n",
      "dense_3 (Dense)                 (None, 300)          60300       concatenate_1[0][0]              \n",
      "__________________________________________________________________________________________________\n",
      "dropout_3 (Dropout)             (None, 300)          0           dense_3[0][0]                    \n",
      "__________________________________________________________________________________________________\n",
      "reshape_1 (Reshape)             (None, 300, 1)       0           dropout_3[0][0]                  \n",
      "__________________________________________________________________________________________________\n",
      "conv1d_5 (Conv1D)               (None, 151, 30)      4530        reshape_1[0][0]                  \n",
      "__________________________________________________________________________________________________\n",
      "max_pooling1d_5 (MaxPooling1D)  (None, 75, 30)       0           conv1d_5[0][0]                   \n",
      "__________________________________________________________________________________________________\n",
      "conv1d_6 (Conv1D)               (None, 71, 10)       1510        max_pooling1d_5[0][0]            \n",
      "__________________________________________________________________________________________________\n",
      "max_pooling1d_6 (MaxPooling1D)  (None, 23, 10)       0           conv1d_6[0][0]                   \n",
      "__________________________________________________________________________________________________\n",
      "conv1d_7 (Conv1D)               (None, 19, 5)        255         max_pooling1d_6[0][0]            \n",
      "__________________________________________________________________________________________________\n",
      "max_pooling1d_7 (MaxPooling1D)  (None, 6, 5)         0           conv1d_7[0][0]                   \n",
      "__________________________________________________________________________________________________\n",
      "dropout_4 (Dropout)             (None, 6, 5)         0           max_pooling1d_7[0][0]            \n",
      "__________________________________________________________________________________________________\n",
      "flatten_3 (Flatten)             (None, 30)           0           dropout_4[0][0]                  \n",
      "__________________________________________________________________________________________________\n",
      "dropout_5 (Dropout)             (None, 30)           0           flatten_3[0][0]                  \n",
      "__________________________________________________________________________________________________\n",
      "pred_lnIC50 (Dense)             (None, 1)            31          dropout_5[0][0]                  \n",
      "==================================================================================================\n",
      "Total params: 425,486\n",
      "Trainable params: 425,486\n",
      "Non-trainable params: 0\n",
      "__________________________________________________________________________________________________\n"
     ]
    }
   ],
   "source": [
    "# model architecture\n",
    "model.summary()"
   ]
  },
  {
   "cell_type": "code",
   "execution_count": 20,
   "metadata": {},
   "outputs": [],
   "source": [
    "config = tf.ConfigProto()\n",
    "config.gpu_options.allow_growth = True\n",
    "sess = tf.Session(config=config)"
   ]
  },
  {
   "cell_type": "code",
   "execution_count": 21,
   "metadata": {
    "scrolled": true
   },
   "outputs": [
    {
     "name": "stderr",
     "output_type": "stream",
     "text": [
      "W0915 12:11:54.643727  9844 deprecation_wrapper.py:119] From c:\\users\\a\\anaconda3\\envs\\tf_gpu_3.6\\lib\\site-packages\\keras\\optimizers.py:757: The name tf.train.Optimizer is deprecated. Please use tf.compat.v1.train.Optimizer instead.\n",
      "\n"
     ]
    },
    {
     "name": "stdout",
     "output_type": "stream",
     "text": [
      "StartTime : 2020-09-15 12:11:54.697433\n"
     ]
    },
    {
     "name": "stderr",
     "output_type": "stream",
     "text": [
      "W0915 12:11:54.973635  9844 deprecation_wrapper.py:119] From c:\\users\\a\\anaconda3\\envs\\tf_gpu_3.6\\lib\\site-packages\\keras\\backend\\tensorflow_backend.py:983: The name tf.assign_add is deprecated. Please use tf.compat.v1.assign_add instead.\n",
      "\n"
     ]
    },
    {
     "name": "stdout",
     "output_type": "stream",
     "text": [
      "Train on 8631 samples, validate on 959 samples\n",
      "Epoch 1/150\n",
      "8631/8631 [==============================] - 8s 932us/step - loss: 4.1230 - mean_squared_error: 4.1230 - mean_absolute_error: 1.6259 - val_loss: 3.8884 - val_mean_squared_error: 3.8884 - val_mean_absolute_error: 1.5134\n",
      "Epoch 2/150\n",
      "8631/8631 [==============================] - 5s 637us/step - loss: 4.0933 - mean_squared_error: 4.0933 - mean_absolute_error: 1.6057 - val_loss: 3.9032 - val_mean_squared_error: 3.9032 - val_mean_absolute_error: 1.5880\n",
      "Epoch 3/150\n",
      "8631/8631 [==============================] - 6s 639us/step - loss: 4.0603 - mean_squared_error: 4.0603 - mean_absolute_error: 1.5934 - val_loss: 3.9209 - val_mean_squared_error: 3.9209 - val_mean_absolute_error: 1.6269\n",
      "Epoch 4/150\n",
      "8631/8631 [==============================] - 5s 637us/step - loss: 4.0551 - mean_squared_error: 4.0551 - mean_absolute_error: 1.5915 - val_loss: 3.8423 - val_mean_squared_error: 3.8423 - val_mean_absolute_error: 1.4833\n",
      "Epoch 5/150\n",
      "8631/8631 [==============================] - 6s 637us/step - loss: 4.0206 - mean_squared_error: 4.0206 - mean_absolute_error: 1.5847 - val_loss: 3.8369 - val_mean_squared_error: 3.8369 - val_mean_absolute_error: 1.4648\n",
      "Epoch 6/150\n",
      "8631/8631 [==============================] - 6s 638us/step - loss: 4.0129 - mean_squared_error: 4.0129 - mean_absolute_error: 1.5786 - val_loss: 3.8399 - val_mean_squared_error: 3.8399 - val_mean_absolute_error: 1.5091\n",
      "Epoch 7/150\n",
      "8631/8631 [==============================] - 6s 639us/step - loss: 4.0054 - mean_squared_error: 4.0054 - mean_absolute_error: 1.5816 - val_loss: 3.8787 - val_mean_squared_error: 3.8787 - val_mean_absolute_error: 1.4173\n",
      "Epoch 8/150\n",
      "8631/8631 [==============================] - 6s 640us/step - loss: 3.9995 - mean_squared_error: 3.9995 - mean_absolute_error: 1.5661 - val_loss: 3.8833 - val_mean_squared_error: 3.8833 - val_mean_absolute_error: 1.5907\n",
      "Epoch 9/150\n",
      "8631/8631 [==============================] - 6s 642us/step - loss: 3.9602 - mean_squared_error: 3.9602 - mean_absolute_error: 1.5654 - val_loss: 3.8760 - val_mean_squared_error: 3.8760 - val_mean_absolute_error: 1.4583\n",
      "Epoch 10/150\n",
      "8631/8631 [==============================] - 6s 643us/step - loss: 3.9638 - mean_squared_error: 3.9638 - mean_absolute_error: 1.5569 - val_loss: 3.9231 - val_mean_squared_error: 3.9231 - val_mean_absolute_error: 1.4004\n",
      "Epoch 11/150\n",
      "8631/8631 [==============================] - 6s 641us/step - loss: 3.9475 - mean_squared_error: 3.9475 - mean_absolute_error: 1.5544 - val_loss: 3.9039 - val_mean_squared_error: 3.9039 - val_mean_absolute_error: 1.4322\n",
      "Epoch 12/150\n",
      "8631/8631 [==============================] - 6s 639us/step - loss: 3.9372 - mean_squared_error: 3.9372 - mean_absolute_error: 1.5457 - val_loss: 3.9218 - val_mean_squared_error: 3.9218 - val_mean_absolute_error: 1.5700\n",
      "Epoch 13/150\n",
      "8631/8631 [==============================] - 6s 639us/step - loss: 3.9330 - mean_squared_error: 3.9330 - mean_absolute_error: 1.5460 - val_loss: 3.9115 - val_mean_squared_error: 3.9115 - val_mean_absolute_error: 1.5370\n",
      "Epoch 14/150\n",
      "8631/8631 [==============================] - 6s 639us/step - loss: 3.9287 - mean_squared_error: 3.9287 - mean_absolute_error: 1.5435 - val_loss: 3.9604 - val_mean_squared_error: 3.9604 - val_mean_absolute_error: 1.6321\n",
      "Epoch 15/150\n",
      "8631/8631 [==============================] - 6s 640us/step - loss: 3.9257 - mean_squared_error: 3.9257 - mean_absolute_error: 1.5456 - val_loss: 3.9270 - val_mean_squared_error: 3.9270 - val_mean_absolute_error: 1.5857\n",
      "Epoch 16/150\n",
      "8631/8631 [==============================] - 6s 637us/step - loss: 3.9275 - mean_squared_error: 3.9275 - mean_absolute_error: 1.5486 - val_loss: 3.9358 - val_mean_squared_error: 3.9358 - val_mean_absolute_error: 1.6084\n",
      "Epoch 17/150\n",
      "8631/8631 [==============================] - 6s 638us/step - loss: 3.9085 - mean_squared_error: 3.9085 - mean_absolute_error: 1.5416 - val_loss: 3.9200 - val_mean_squared_error: 3.9200 - val_mean_absolute_error: 1.4975\n",
      "Epoch 18/150\n",
      "8631/8631 [==============================] - 6s 645us/step - loss: 3.9173 - mean_squared_error: 3.9173 - mean_absolute_error: 1.5427 - val_loss: 3.9302 - val_mean_squared_error: 3.9302 - val_mean_absolute_error: 1.5195\n",
      "Epoch 19/150\n",
      "8631/8631 [==============================] - 6s 640us/step - loss: 3.9298 - mean_squared_error: 3.9298 - mean_absolute_error: 1.5432 - val_loss: 3.9200 - val_mean_squared_error: 3.9200 - val_mean_absolute_error: 1.5595\n",
      "Epoch 20/150\n",
      "8631/8631 [==============================] - 6s 641us/step - loss: 3.9186 - mean_squared_error: 3.9186 - mean_absolute_error: 1.5467 - val_loss: 3.9463 - val_mean_squared_error: 3.9463 - val_mean_absolute_error: 1.5823\n",
      "Epoch 21/150\n",
      "8631/8631 [==============================] - 6s 643us/step - loss: 3.9230 - mean_squared_error: 3.9230 - mean_absolute_error: 1.5456 - val_loss: 3.9341 - val_mean_squared_error: 3.9341 - val_mean_absolute_error: 1.5506\n",
      "Epoch 22/150\n",
      "8631/8631 [==============================] - 6s 644us/step - loss: 3.9083 - mean_squared_error: 3.9083 - mean_absolute_error: 1.5385 - val_loss: 3.9387 - val_mean_squared_error: 3.9387 - val_mean_absolute_error: 1.5212\n",
      "Epoch 23/150\n",
      "8631/8631 [==============================] - 6s 642us/step - loss: 3.9162 - mean_squared_error: 3.9162 - mean_absolute_error: 1.5415 - val_loss: 3.9339 - val_mean_squared_error: 3.9339 - val_mean_absolute_error: 1.5311\n",
      "Epoch 24/150\n",
      "8631/8631 [==============================] - 6s 643us/step - loss: 3.9201 - mean_squared_error: 3.9201 - mean_absolute_error: 1.5447 - val_loss: 3.9229 - val_mean_squared_error: 3.9229 - val_mean_absolute_error: 1.5294\n",
      "Epoch 25/150\n",
      "8631/8631 [==============================] - 6s 644us/step - loss: 3.8993 - mean_squared_error: 3.8993 - mean_absolute_error: 1.5376 - val_loss: 3.9639 - val_mean_squared_error: 3.9639 - val_mean_absolute_error: 1.5406\n",
      "Epoch 26/150\n",
      "8631/8631 [==============================] - 6s 643us/step - loss: 3.9086 - mean_squared_error: 3.9086 - mean_absolute_error: 1.5415 - val_loss: 3.9636 - val_mean_squared_error: 3.9636 - val_mean_absolute_error: 1.5174\n",
      "Epoch 27/150\n",
      "8631/8631 [==============================] - 6s 643us/step - loss: 3.8941 - mean_squared_error: 3.8941 - mean_absolute_error: 1.5329 - val_loss: 3.9505 - val_mean_squared_error: 3.9505 - val_mean_absolute_error: 1.5667\n",
      "Epoch 28/150\n",
      "8631/8631 [==============================] - 6s 646us/step - loss: 3.9146 - mean_squared_error: 3.9146 - mean_absolute_error: 1.5409 - val_loss: 3.9696 - val_mean_squared_error: 3.9696 - val_mean_absolute_error: 1.4806\n",
      "Epoch 29/150\n",
      "8631/8631 [==============================] - 6s 645us/step - loss: 3.9058 - mean_squared_error: 3.9058 - mean_absolute_error: 1.5396 - val_loss: 3.9430 - val_mean_squared_error: 3.9430 - val_mean_absolute_error: 1.5528\n",
      "Epoch 30/150\n",
      "8631/8631 [==============================] - 6s 644us/step - loss: 3.8994 - mean_squared_error: 3.8994 - mean_absolute_error: 1.5369 - val_loss: 3.9527 - val_mean_squared_error: 3.9527 - val_mean_absolute_error: 1.5709\n",
      "Epoch 31/150\n",
      "8631/8631 [==============================] - 6s 641us/step - loss: 3.8900 - mean_squared_error: 3.8900 - mean_absolute_error: 1.5288 - val_loss: 3.9273 - val_mean_squared_error: 3.9273 - val_mean_absolute_error: 1.5082\n",
      "Epoch 32/150\n",
      "8631/8631 [==============================] - 6s 641us/step - loss: 3.8954 - mean_squared_error: 3.8954 - mean_absolute_error: 1.5318 - val_loss: 3.9703 - val_mean_squared_error: 3.9703 - val_mean_absolute_error: 1.5860\n",
      "Epoch 33/150\n",
      "8631/8631 [==============================] - 6s 645us/step - loss: 3.8810 - mean_squared_error: 3.8810 - mean_absolute_error: 1.5314 - val_loss: 3.9258 - val_mean_squared_error: 3.9258 - val_mean_absolute_error: 1.5080\n",
      "Epoch 34/150\n",
      "8631/8631 [==============================] - 6s 646us/step - loss: 3.8992 - mean_squared_error: 3.8992 - mean_absolute_error: 1.5337 - val_loss: 3.9388 - val_mean_squared_error: 3.9388 - val_mean_absolute_error: 1.5443\n",
      "Epoch 35/150\n",
      "8631/8631 [==============================] - 6s 644us/step - loss: 3.9034 - mean_squared_error: 3.9034 - mean_absolute_error: 1.5380 - val_loss: 3.9885 - val_mean_squared_error: 3.9885 - val_mean_absolute_error: 1.6215\n",
      "Epoch 36/150\n",
      "8631/8631 [==============================] - 6s 643us/step - loss: 3.8926 - mean_squared_error: 3.8926 - mean_absolute_error: 1.5363 - val_loss: 3.9681 - val_mean_squared_error: 3.9681 - val_mean_absolute_error: 1.5808\n",
      "Epoch 37/150\n",
      "8631/8631 [==============================] - 6s 650us/step - loss: 3.8987 - mean_squared_error: 3.8987 - mean_absolute_error: 1.5409 - val_loss: 3.9565 - val_mean_squared_error: 3.9565 - val_mean_absolute_error: 1.5161\n",
      "Epoch 38/150\n",
      "8631/8631 [==============================] - 6s 644us/step - loss: 3.8969 - mean_squared_error: 3.8969 - mean_absolute_error: 1.5311 - val_loss: 3.9636 - val_mean_squared_error: 3.9636 - val_mean_absolute_error: 1.5701\n",
      "Epoch 39/150\n",
      "8631/8631 [==============================] - 6s 644us/step - loss: 3.8853 - mean_squared_error: 3.8853 - mean_absolute_error: 1.5321 - val_loss: 3.9993 - val_mean_squared_error: 3.9993 - val_mean_absolute_error: 1.5296\n",
      "Epoch 40/150\n",
      "8631/8631 [==============================] - 6s 645us/step - loss: 3.8692 - mean_squared_error: 3.8692 - mean_absolute_error: 1.5210 - val_loss: 3.9711 - val_mean_squared_error: 3.9711 - val_mean_absolute_error: 1.5791\n",
      "Epoch 41/150\n",
      "8631/8631 [==============================] - 6s 646us/step - loss: 3.8860 - mean_squared_error: 3.8860 - mean_absolute_error: 1.5311 - val_loss: 3.9857 - val_mean_squared_error: 3.9857 - val_mean_absolute_error: 1.5088\n",
      "Epoch 42/150\n",
      "8631/8631 [==============================] - 6s 646us/step - loss: 3.8861 - mean_squared_error: 3.8861 - mean_absolute_error: 1.5306 - val_loss: 3.9675 - val_mean_squared_error: 3.9675 - val_mean_absolute_error: 1.5443\n",
      "Epoch 43/150\n",
      "8631/8631 [==============================] - 6s 648us/step - loss: 3.8897 - mean_squared_error: 3.8897 - mean_absolute_error: 1.5260 - val_loss: 3.9626 - val_mean_squared_error: 3.9626 - val_mean_absolute_error: 1.5671\n",
      "Epoch 44/150\n",
      "8631/8631 [==============================] - 6s 645us/step - loss: 3.8750 - mean_squared_error: 3.8750 - mean_absolute_error: 1.5295 - val_loss: 3.9882 - val_mean_squared_error: 3.9882 - val_mean_absolute_error: 1.5455\n",
      "Epoch 45/150\n",
      "8631/8631 [==============================] - 6s 646us/step - loss: 3.8777 - mean_squared_error: 3.8777 - mean_absolute_error: 1.5240 - val_loss: 3.9395 - val_mean_squared_error: 3.9395 - val_mean_absolute_error: 1.5692\n",
      "Epoch 46/150\n",
      "8631/8631 [==============================] - 6s 649us/step - loss: 3.9104 - mean_squared_error: 3.9104 - mean_absolute_error: 1.5417 - val_loss: 3.9697 - val_mean_squared_error: 3.9697 - val_mean_absolute_error: 1.4843\n",
      "Epoch 47/150\n",
      "8631/8631 [==============================] - 6s 641us/step - loss: 3.8839 - mean_squared_error: 3.8839 - mean_absolute_error: 1.5310 - val_loss: 3.9542 - val_mean_squared_error: 3.9542 - val_mean_absolute_error: 1.5257\n",
      "Epoch 48/150\n",
      "8631/8631 [==============================] - 6s 643us/step - loss: 3.8711 - mean_squared_error: 3.8711 - mean_absolute_error: 1.5300 - val_loss: 3.9597 - val_mean_squared_error: 3.9597 - val_mean_absolute_error: 1.5334\n",
      "Epoch 49/150\n",
      "8631/8631 [==============================] - 6s 640us/step - loss: 3.8777 - mean_squared_error: 3.8777 - mean_absolute_error: 1.5242 - val_loss: 4.0091 - val_mean_squared_error: 4.0091 - val_mean_absolute_error: 1.5931\n",
      "Epoch 50/150\n",
      "8631/8631 [==============================] - 6s 644us/step - loss: 3.8924 - mean_squared_error: 3.8924 - mean_absolute_error: 1.5340 - val_loss: 3.9715 - val_mean_squared_error: 3.9715 - val_mean_absolute_error: 1.5795\n",
      "Epoch 51/150\n",
      "8631/8631 [==============================] - 6s 641us/step - loss: 3.8920 - mean_squared_error: 3.8920 - mean_absolute_error: 1.5326 - val_loss: 4.0223 - val_mean_squared_error: 4.0223 - val_mean_absolute_error: 1.6480\n",
      "Epoch 52/150\n",
      "8631/8631 [==============================] - 6s 646us/step - loss: 3.8734 - mean_squared_error: 3.8734 - mean_absolute_error: 1.5302 - val_loss: 3.9606 - val_mean_squared_error: 3.9606 - val_mean_absolute_error: 1.5821\n",
      "Epoch 53/150\n",
      "8631/8631 [==============================] - 6s 643us/step - loss: 3.8808 - mean_squared_error: 3.8808 - mean_absolute_error: 1.5277 - val_loss: 3.9634 - val_mean_squared_error: 3.9634 - val_mean_absolute_error: 1.5083\n",
      "Epoch 54/150\n",
      "8631/8631 [==============================] - 6s 646us/step - loss: 3.8773 - mean_squared_error: 3.8773 - mean_absolute_error: 1.5272 - val_loss: 3.9729 - val_mean_squared_error: 3.9729 - val_mean_absolute_error: 1.5185\n",
      "Epoch 55/150\n",
      "8631/8631 [==============================] - 6s 645us/step - loss: 3.8759 - mean_squared_error: 3.8759 - mean_absolute_error: 1.5272 - val_loss: 3.9661 - val_mean_squared_error: 3.9661 - val_mean_absolute_error: 1.5479\n",
      "Epoch 56/150\n",
      "8631/8631 [==============================] - 6s 642us/step - loss: 3.8697 - mean_squared_error: 3.8697 - mean_absolute_error: 1.5187 - val_loss: 3.9554 - val_mean_squared_error: 3.9554 - val_mean_absolute_error: 1.5697\n",
      "Epoch 57/150\n",
      "8631/8631 [==============================] - 6s 644us/step - loss: 3.8781 - mean_squared_error: 3.8781 - mean_absolute_error: 1.5307 - val_loss: 4.0228 - val_mean_squared_error: 4.0228 - val_mean_absolute_error: 1.5629\n",
      "Epoch 58/150\n",
      "8631/8631 [==============================] - 6s 643us/step - loss: 3.8760 - mean_squared_error: 3.8760 - mean_absolute_error: 1.5319 - val_loss: 3.9862 - val_mean_squared_error: 3.9862 - val_mean_absolute_error: 1.5427\n",
      "Epoch 59/150\n",
      "8631/8631 [==============================] - 6s 644us/step - loss: 3.8716 - mean_squared_error: 3.8716 - mean_absolute_error: 1.5170 - val_loss: 4.0699 - val_mean_squared_error: 4.0699 - val_mean_absolute_error: 1.6562\n",
      "Epoch 60/150\n",
      "8631/8631 [==============================] - 6s 642us/step - loss: 3.8743 - mean_squared_error: 3.8743 - mean_absolute_error: 1.5320 - val_loss: 3.9797 - val_mean_squared_error: 3.9797 - val_mean_absolute_error: 1.5567\n",
      "Epoch 61/150\n",
      "8631/8631 [==============================] - 6s 648us/step - loss: 3.8758 - mean_squared_error: 3.8758 - mean_absolute_error: 1.5245 - val_loss: 3.9763 - val_mean_squared_error: 3.9763 - val_mean_absolute_error: 1.5741\n",
      "Epoch 62/150\n",
      "8631/8631 [==============================] - 6s 646us/step - loss: 3.8716 - mean_squared_error: 3.8716 - mean_absolute_error: 1.5350 - val_loss: 3.9704 - val_mean_squared_error: 3.9704 - val_mean_absolute_error: 1.5257\n",
      "Epoch 63/150\n",
      "8631/8631 [==============================] - 6s 646us/step - loss: 3.8686 - mean_squared_error: 3.8686 - mean_absolute_error: 1.5217 - val_loss: 3.9992 - val_mean_squared_error: 3.9992 - val_mean_absolute_error: 1.5503\n",
      "Epoch 64/150\n",
      "8631/8631 [==============================] - 6s 648us/step - loss: 3.8651 - mean_squared_error: 3.8651 - mean_absolute_error: 1.5209 - val_loss: 4.0127 - val_mean_squared_error: 4.0127 - val_mean_absolute_error: 1.5192\n",
      "Epoch 65/150\n",
      "8631/8631 [==============================] - 6s 647us/step - loss: 3.8676 - mean_squared_error: 3.8676 - mean_absolute_error: 1.5245 - val_loss: 3.9906 - val_mean_squared_error: 3.9906 - val_mean_absolute_error: 1.5683\n",
      "Epoch 66/150\n",
      "8631/8631 [==============================] - 6s 642us/step - loss: 3.8798 - mean_squared_error: 3.8798 - mean_absolute_error: 1.5252 - val_loss: 3.9780 - val_mean_squared_error: 3.9780 - val_mean_absolute_error: 1.5504\n",
      "Epoch 67/150\n",
      "8631/8631 [==============================] - 6s 646us/step - loss: 3.8678 - mean_squared_error: 3.8678 - mean_absolute_error: 1.5248 - val_loss: 3.9740 - val_mean_squared_error: 3.9740 - val_mean_absolute_error: 1.5790\n",
      "Epoch 68/150\n",
      "8631/8631 [==============================] - 6s 643us/step - loss: 3.8719 - mean_squared_error: 3.8719 - mean_absolute_error: 1.5239 - val_loss: 3.9670 - val_mean_squared_error: 3.9670 - val_mean_absolute_error: 1.5444\n",
      "Epoch 69/150\n",
      "8631/8631 [==============================] - 6s 642us/step - loss: 3.8744 - mean_squared_error: 3.8744 - mean_absolute_error: 1.5248 - val_loss: 4.0169 - val_mean_squared_error: 4.0169 - val_mean_absolute_error: 1.5274\n",
      "Epoch 70/150\n",
      "8631/8631 [==============================] - 6s 644us/step - loss: 3.8701 - mean_squared_error: 3.8701 - mean_absolute_error: 1.5211 - val_loss: 4.0126 - val_mean_squared_error: 4.0126 - val_mean_absolute_error: 1.6056\n",
      "Epoch 71/150\n"
     ]
    },
    {
     "name": "stdout",
     "output_type": "stream",
     "text": [
      "8631/8631 [==============================] - 6s 643us/step - loss: 3.8626 - mean_squared_error: 3.8626 - mean_absolute_error: 1.5199 - val_loss: 4.0082 - val_mean_squared_error: 4.0082 - val_mean_absolute_error: 1.6244\n",
      "Epoch 72/150\n",
      "8631/8631 [==============================] - 6s 642us/step - loss: 3.8593 - mean_squared_error: 3.8593 - mean_absolute_error: 1.5271 - val_loss: 3.9930 - val_mean_squared_error: 3.9930 - val_mean_absolute_error: 1.5465\n",
      "Epoch 73/150\n",
      "8631/8631 [==============================] - 6s 643us/step - loss: 3.8769 - mean_squared_error: 3.8769 - mean_absolute_error: 1.5263 - val_loss: 3.9612 - val_mean_squared_error: 3.9612 - val_mean_absolute_error: 1.5617\n",
      "Epoch 74/150\n",
      "8631/8631 [==============================] - 6s 644us/step - loss: 3.8662 - mean_squared_error: 3.8662 - mean_absolute_error: 1.5264 - val_loss: 4.0057 - val_mean_squared_error: 4.0057 - val_mean_absolute_error: 1.5465\n",
      "Epoch 75/150\n",
      "8631/8631 [==============================] - 6s 646us/step - loss: 3.8750 - mean_squared_error: 3.8750 - mean_absolute_error: 1.5267 - val_loss: 3.9721 - val_mean_squared_error: 3.9721 - val_mean_absolute_error: 1.5408\n",
      "Epoch 76/150\n",
      "8631/8631 [==============================] - 6s 642us/step - loss: 3.8581 - mean_squared_error: 3.8581 - mean_absolute_error: 1.5188 - val_loss: 4.0389 - val_mean_squared_error: 4.0389 - val_mean_absolute_error: 1.6141\n",
      "Epoch 77/150\n",
      "8631/8631 [==============================] - 6s 641us/step - loss: 3.8756 - mean_squared_error: 3.8756 - mean_absolute_error: 1.5300 - val_loss: 3.9426 - val_mean_squared_error: 3.9426 - val_mean_absolute_error: 1.5562\n",
      "Epoch 78/150\n",
      "8631/8631 [==============================] - 6s 643us/step - loss: 3.8781 - mean_squared_error: 3.8781 - mean_absolute_error: 1.5341 - val_loss: 3.9731 - val_mean_squared_error: 3.9731 - val_mean_absolute_error: 1.5276\n",
      "Epoch 79/150\n",
      "8631/8631 [==============================] - 6s 644us/step - loss: 3.8719 - mean_squared_error: 3.8719 - mean_absolute_error: 1.5226 - val_loss: 3.9768 - val_mean_squared_error: 3.9768 - val_mean_absolute_error: 1.6045\n",
      "Epoch 80/150\n",
      "8631/8631 [==============================] - 6s 642us/step - loss: 3.8700 - mean_squared_error: 3.8700 - mean_absolute_error: 1.5274 - val_loss: 3.9826 - val_mean_squared_error: 3.9826 - val_mean_absolute_error: 1.4748\n",
      "Epoch 81/150\n",
      "8631/8631 [==============================] - 6s 644us/step - loss: 3.8760 - mean_squared_error: 3.8760 - mean_absolute_error: 1.5263 - val_loss: 3.9941 - val_mean_squared_error: 3.9941 - val_mean_absolute_error: 1.5838\n",
      "Epoch 82/150\n",
      "8631/8631 [==============================] - 6s 642us/step - loss: 3.8697 - mean_squared_error: 3.8697 - mean_absolute_error: 1.5238 - val_loss: 3.9884 - val_mean_squared_error: 3.9884 - val_mean_absolute_error: 1.5523\n",
      "Epoch 83/150\n",
      "8631/8631 [==============================] - 6s 646us/step - loss: 3.8648 - mean_squared_error: 3.8648 - mean_absolute_error: 1.5180 - val_loss: 3.9720 - val_mean_squared_error: 3.9720 - val_mean_absolute_error: 1.5578\n",
      "Epoch 84/150\n",
      "8631/8631 [==============================] - 6s 643us/step - loss: 3.8709 - mean_squared_error: 3.8709 - mean_absolute_error: 1.5220 - val_loss: 3.9805 - val_mean_squared_error: 3.9805 - val_mean_absolute_error: 1.5863\n",
      "Epoch 85/150\n",
      "8631/8631 [==============================] - 6s 641us/step - loss: 3.8683 - mean_squared_error: 3.8683 - mean_absolute_error: 1.5286 - val_loss: 3.9558 - val_mean_squared_error: 3.9558 - val_mean_absolute_error: 1.5238\n",
      "Epoch 86/150\n",
      "8631/8631 [==============================] - 6s 642us/step - loss: 3.8556 - mean_squared_error: 3.8556 - mean_absolute_error: 1.5191 - val_loss: 3.9632 - val_mean_squared_error: 3.9632 - val_mean_absolute_error: 1.5546\n",
      "Epoch 87/150\n",
      "8631/8631 [==============================] - 6s 642us/step - loss: 3.8660 - mean_squared_error: 3.8660 - mean_absolute_error: 1.5247 - val_loss: 3.9963 - val_mean_squared_error: 3.9963 - val_mean_absolute_error: 1.5024\n",
      "Epoch 88/150\n",
      "8631/8631 [==============================] - 6s 643us/step - loss: 3.8592 - mean_squared_error: 3.8592 - mean_absolute_error: 1.5177 - val_loss: 3.9762 - val_mean_squared_error: 3.9762 - val_mean_absolute_error: 1.5494\n",
      "Epoch 89/150\n",
      "8631/8631 [==============================] - 6s 643us/step - loss: 3.8634 - mean_squared_error: 3.8634 - mean_absolute_error: 1.5202 - val_loss: 4.0076 - val_mean_squared_error: 4.0076 - val_mean_absolute_error: 1.6052\n",
      "Epoch 90/150\n",
      "8631/8631 [==============================] - 6s 643us/step - loss: 3.8646 - mean_squared_error: 3.8646 - mean_absolute_error: 1.5302 - val_loss: 3.9904 - val_mean_squared_error: 3.9904 - val_mean_absolute_error: 1.5047\n",
      "Epoch 91/150\n",
      "8631/8631 [==============================] - 6s 645us/step - loss: 3.8618 - mean_squared_error: 3.8618 - mean_absolute_error: 1.5169 - val_loss: 3.9658 - val_mean_squared_error: 3.9658 - val_mean_absolute_error: 1.5472\n",
      "Epoch 92/150\n",
      "8631/8631 [==============================] - 6s 645us/step - loss: 3.8593 - mean_squared_error: 3.8593 - mean_absolute_error: 1.5234 - val_loss: 3.9672 - val_mean_squared_error: 3.9672 - val_mean_absolute_error: 1.5009\n",
      "Epoch 93/150\n",
      "8631/8631 [==============================] - 6s 645us/step - loss: 3.8622 - mean_squared_error: 3.8622 - mean_absolute_error: 1.5238 - val_loss: 4.0024 - val_mean_squared_error: 4.0024 - val_mean_absolute_error: 1.5465\n",
      "Epoch 94/150\n",
      "8631/8631 [==============================] - 6s 643us/step - loss: 3.8727 - mean_squared_error: 3.8727 - mean_absolute_error: 1.5225 - val_loss: 4.0225 - val_mean_squared_error: 4.0225 - val_mean_absolute_error: 1.5504\n",
      "Epoch 95/150\n",
      "8631/8631 [==============================] - 6s 643us/step - loss: 3.8607 - mean_squared_error: 3.8607 - mean_absolute_error: 1.5234 - val_loss: 3.9911 - val_mean_squared_error: 3.9911 - val_mean_absolute_error: 1.5631\n",
      "Epoch 96/150\n",
      "8631/8631 [==============================] - 6s 643us/step - loss: 3.8701 - mean_squared_error: 3.8701 - mean_absolute_error: 1.5265 - val_loss: 3.9404 - val_mean_squared_error: 3.9404 - val_mean_absolute_error: 1.5301\n",
      "Epoch 97/150\n",
      "8631/8631 [==============================] - 6s 643us/step - loss: 3.8662 - mean_squared_error: 3.8662 - mean_absolute_error: 1.5231 - val_loss: 4.0232 - val_mean_squared_error: 4.0232 - val_mean_absolute_error: 1.5257\n",
      "Epoch 98/150\n",
      "8631/8631 [==============================] - 6s 644us/step - loss: 3.8555 - mean_squared_error: 3.8555 - mean_absolute_error: 1.5223 - val_loss: 3.9717 - val_mean_squared_error: 3.9717 - val_mean_absolute_error: 1.5552\n",
      "Epoch 99/150\n",
      "8631/8631 [==============================] - 6s 645us/step - loss: 3.8706 - mean_squared_error: 3.8706 - mean_absolute_error: 1.5164 - val_loss: 3.9786 - val_mean_squared_error: 3.9786 - val_mean_absolute_error: 1.6063\n",
      "Epoch 100/150\n",
      "8631/8631 [==============================] - 6s 646us/step - loss: 3.8717 - mean_squared_error: 3.8717 - mean_absolute_error: 1.5257 - val_loss: 4.0210 - val_mean_squared_error: 4.0210 - val_mean_absolute_error: 1.5899\n",
      "Epoch 101/150\n",
      "8631/8631 [==============================] - 6s 645us/step - loss: 3.8495 - mean_squared_error: 3.8495 - mean_absolute_error: 1.5161 - val_loss: 3.9649 - val_mean_squared_error: 3.9649 - val_mean_absolute_error: 1.5874\n",
      "Epoch 102/150\n",
      "8631/8631 [==============================] - 6s 645us/step - loss: 3.8555 - mean_squared_error: 3.8555 - mean_absolute_error: 1.5184 - val_loss: 3.9957 - val_mean_squared_error: 3.9957 - val_mean_absolute_error: 1.5952\n",
      "Epoch 103/150\n",
      "8631/8631 [==============================] - 6s 646us/step - loss: 3.8562 - mean_squared_error: 3.8562 - mean_absolute_error: 1.5172 - val_loss: 4.0051 - val_mean_squared_error: 4.0051 - val_mean_absolute_error: 1.5830\n",
      "Epoch 104/150\n",
      "8631/8631 [==============================] - 6s 646us/step - loss: 3.8586 - mean_squared_error: 3.8586 - mean_absolute_error: 1.5212 - val_loss: 3.9995 - val_mean_squared_error: 3.9995 - val_mean_absolute_error: 1.5434\n",
      "Epoch 105/150\n",
      "8631/8631 [==============================] - 6s 644us/step - loss: 3.8616 - mean_squared_error: 3.8616 - mean_absolute_error: 1.5184 - val_loss: 4.0033 - val_mean_squared_error: 4.0033 - val_mean_absolute_error: 1.5690\n",
      "Epoch 106/150\n",
      "8631/8631 [==============================] - 6s 645us/step - loss: 3.8614 - mean_squared_error: 3.8614 - mean_absolute_error: 1.5193 - val_loss: 4.0083 - val_mean_squared_error: 4.0083 - val_mean_absolute_error: 1.5844\n",
      "Epoch 107/150\n",
      "8631/8631 [==============================] - 6s 645us/step - loss: 3.8666 - mean_squared_error: 3.8666 - mean_absolute_error: 1.5300 - val_loss: 3.9924 - val_mean_squared_error: 3.9924 - val_mean_absolute_error: 1.5610\n",
      "Epoch 108/150\n",
      "8631/8631 [==============================] - 6s 648us/step - loss: 3.8628 - mean_squared_error: 3.8628 - mean_absolute_error: 1.5275 - val_loss: 4.0186 - val_mean_squared_error: 4.0186 - val_mean_absolute_error: 1.5219\n",
      "Epoch 109/150\n",
      "8631/8631 [==============================] - 6s 646us/step - loss: 3.8636 - mean_squared_error: 3.8636 - mean_absolute_error: 1.5248 - val_loss: 4.0226 - val_mean_squared_error: 4.0226 - val_mean_absolute_error: 1.5425\n",
      "Epoch 110/150\n",
      "8631/8631 [==============================] - 6s 645us/step - loss: 3.8713 - mean_squared_error: 3.8713 - mean_absolute_error: 1.5242 - val_loss: 4.0041 - val_mean_squared_error: 4.0041 - val_mean_absolute_error: 1.5310\n",
      "Epoch 111/150\n",
      "8631/8631 [==============================] - 6s 643us/step - loss: 3.8642 - mean_squared_error: 3.8642 - mean_absolute_error: 1.5223 - val_loss: 4.0249 - val_mean_squared_error: 4.0249 - val_mean_absolute_error: 1.5881\n",
      "Epoch 112/150\n",
      "8631/8631 [==============================] - 6s 646us/step - loss: 3.8607 - mean_squared_error: 3.8607 - mean_absolute_error: 1.5232 - val_loss: 4.0112 - val_mean_squared_error: 4.0112 - val_mean_absolute_error: 1.5576\n",
      "Epoch 113/150\n",
      "8631/8631 [==============================] - 6s 641us/step - loss: 3.8534 - mean_squared_error: 3.8534 - mean_absolute_error: 1.5224 - val_loss: 4.0074 - val_mean_squared_error: 4.0074 - val_mean_absolute_error: 1.4966\n",
      "Epoch 114/150\n",
      "8631/8631 [==============================] - 6s 644us/step - loss: 3.8521 - mean_squared_error: 3.8521 - mean_absolute_error: 1.5077 - val_loss: 4.0179 - val_mean_squared_error: 4.0179 - val_mean_absolute_error: 1.5847\n",
      "Epoch 115/150\n",
      "8631/8631 [==============================] - 6s 644us/step - loss: 3.8612 - mean_squared_error: 3.8612 - mean_absolute_error: 1.5235 - val_loss: 3.9962 - val_mean_squared_error: 3.9962 - val_mean_absolute_error: 1.5787\n",
      "Epoch 116/150\n",
      "8631/8631 [==============================] - 6s 644us/step - loss: 3.8660 - mean_squared_error: 3.8660 - mean_absolute_error: 1.5288 - val_loss: 4.0059 - val_mean_squared_error: 4.0059 - val_mean_absolute_error: 1.5375\n",
      "Epoch 117/150\n",
      "8631/8631 [==============================] - 6s 650us/step - loss: 3.8557 - mean_squared_error: 3.8557 - mean_absolute_error: 1.5242 - val_loss: 4.0397 - val_mean_squared_error: 4.0397 - val_mean_absolute_error: 1.6148\n",
      "Epoch 118/150\n",
      "8631/8631 [==============================] - 6s 642us/step - loss: 3.8691 - mean_squared_error: 3.8691 - mean_absolute_error: 1.5209 - val_loss: 4.0068 - val_mean_squared_error: 4.0068 - val_mean_absolute_error: 1.5601\n",
      "Epoch 119/150\n",
      "8631/8631 [==============================] - 6s 642us/step - loss: 3.8625 - mean_squared_error: 3.8625 - mean_absolute_error: 1.5288 - val_loss: 4.0151 - val_mean_squared_error: 4.0151 - val_mean_absolute_error: 1.5931\n",
      "Epoch 120/150\n",
      "8631/8631 [==============================] - 6s 646us/step - loss: 3.8633 - mean_squared_error: 3.8633 - mean_absolute_error: 1.5203 - val_loss: 4.0072 - val_mean_squared_error: 4.0072 - val_mean_absolute_error: 1.5647\n",
      "Epoch 121/150\n",
      "8631/8631 [==============================] - 6s 644us/step - loss: 3.8789 - mean_squared_error: 3.8789 - mean_absolute_error: 1.5294 - val_loss: 3.9927 - val_mean_squared_error: 3.9927 - val_mean_absolute_error: 1.5706\n",
      "Epoch 122/150\n",
      "8631/8631 [==============================] - 6s 644us/step - loss: 3.8606 - mean_squared_error: 3.8606 - mean_absolute_error: 1.5205 - val_loss: 4.0221 - val_mean_squared_error: 4.0221 - val_mean_absolute_error: 1.6118\n",
      "Epoch 123/150\n",
      "8631/8631 [==============================] - 6s 644us/step - loss: 3.8662 - mean_squared_error: 3.8662 - mean_absolute_error: 1.5252 - val_loss: 3.9541 - val_mean_squared_error: 3.9541 - val_mean_absolute_error: 1.5445\n",
      "Epoch 124/150\n",
      "8631/8631 [==============================] - 6s 647us/step - loss: 3.8676 - mean_squared_error: 3.8676 - mean_absolute_error: 1.5201 - val_loss: 4.0172 - val_mean_squared_error: 4.0172 - val_mean_absolute_error: 1.5908\n",
      "Epoch 125/150\n",
      "8631/8631 [==============================] - 6s 641us/step - loss: 3.8584 - mean_squared_error: 3.8584 - mean_absolute_error: 1.5205 - val_loss: 4.0141 - val_mean_squared_error: 4.0141 - val_mean_absolute_error: 1.5624\n",
      "Epoch 126/150\n",
      "8631/8631 [==============================] - 6s 646us/step - loss: 3.8638 - mean_squared_error: 3.8638 - mean_absolute_error: 1.5209 - val_loss: 3.9897 - val_mean_squared_error: 3.9897 - val_mean_absolute_error: 1.5152\n",
      "Epoch 127/150\n",
      "8631/8631 [==============================] - 6s 643us/step - loss: 3.8615 - mean_squared_error: 3.8615 - mean_absolute_error: 1.5294 - val_loss: 4.0255 - val_mean_squared_error: 4.0255 - val_mean_absolute_error: 1.5404\n",
      "Epoch 128/150\n",
      "8631/8631 [==============================] - 6s 643us/step - loss: 3.8497 - mean_squared_error: 3.8497 - mean_absolute_error: 1.5188 - val_loss: 3.9793 - val_mean_squared_error: 3.9793 - val_mean_absolute_error: 1.5654\n",
      "Epoch 129/150\n",
      "8631/8631 [==============================] - 6s 642us/step - loss: 3.8531 - mean_squared_error: 3.8531 - mean_absolute_error: 1.5215 - val_loss: 4.0065 - val_mean_squared_error: 4.0065 - val_mean_absolute_error: 1.5505\n",
      "Epoch 130/150\n",
      "8631/8631 [==============================] - 6s 643us/step - loss: 3.8560 - mean_squared_error: 3.8560 - mean_absolute_error: 1.5172 - val_loss: 3.9913 - val_mean_squared_error: 3.9913 - val_mean_absolute_error: 1.5569\n",
      "Epoch 131/150\n",
      "8631/8631 [==============================] - 6s 648us/step - loss: 3.8535 - mean_squared_error: 3.8535 - mean_absolute_error: 1.5242 - val_loss: 4.0196 - val_mean_squared_error: 4.0196 - val_mean_absolute_error: 1.5378\n",
      "Epoch 132/150\n",
      "8631/8631 [==============================] - 6s 647us/step - loss: 3.8641 - mean_squared_error: 3.8641 - mean_absolute_error: 1.5159 - val_loss: 4.0068 - val_mean_squared_error: 4.0068 - val_mean_absolute_error: 1.5414\n",
      "Epoch 133/150\n",
      "8631/8631 [==============================] - 6s 647us/step - loss: 3.8584 - mean_squared_error: 3.8584 - mean_absolute_error: 1.5205 - val_loss: 4.0070 - val_mean_squared_error: 4.0070 - val_mean_absolute_error: 1.5724\n",
      "Epoch 134/150\n",
      "8631/8631 [==============================] - 6s 644us/step - loss: 3.8540 - mean_squared_error: 3.8540 - mean_absolute_error: 1.5207 - val_loss: 4.0038 - val_mean_squared_error: 4.0038 - val_mean_absolute_error: 1.5738\n",
      "Epoch 135/150\n",
      "8631/8631 [==============================] - 6s 646us/step - loss: 3.8637 - mean_squared_error: 3.8637 - mean_absolute_error: 1.5188 - val_loss: 4.0194 - val_mean_squared_error: 4.0194 - val_mean_absolute_error: 1.5795\n",
      "Epoch 136/150\n",
      "8631/8631 [==============================] - 6s 642us/step - loss: 3.8538 - mean_squared_error: 3.8538 - mean_absolute_error: 1.5274 - val_loss: 4.0302 - val_mean_squared_error: 4.0302 - val_mean_absolute_error: 1.5457\n",
      "Epoch 137/150\n",
      "8631/8631 [==============================] - 6s 643us/step - loss: 3.8608 - mean_squared_error: 3.8608 - mean_absolute_error: 1.5165 - val_loss: 3.9946 - val_mean_squared_error: 3.9946 - val_mean_absolute_error: 1.5712\n",
      "Epoch 138/150\n",
      "8631/8631 [==============================] - 6s 644us/step - loss: 3.8504 - mean_squared_error: 3.8504 - mean_absolute_error: 1.5191 - val_loss: 3.9968 - val_mean_squared_error: 3.9968 - val_mean_absolute_error: 1.5637\n",
      "Epoch 139/150\n",
      "8631/8631 [==============================] - 6s 645us/step - loss: 3.8550 - mean_squared_error: 3.8550 - mean_absolute_error: 1.5222 - val_loss: 4.0206 - val_mean_squared_error: 4.0206 - val_mean_absolute_error: 1.5124\n",
      "Epoch 140/150\n",
      "8631/8631 [==============================] - 6s 643us/step - loss: 3.8575 - mean_squared_error: 3.8575 - mean_absolute_error: 1.5147 - val_loss: 4.0249 - val_mean_squared_error: 4.0249 - val_mean_absolute_error: 1.6023\n",
      "Epoch 141/150\n"
     ]
    },
    {
     "name": "stdout",
     "output_type": "stream",
     "text": [
      "8631/8631 [==============================] - 6s 642us/step - loss: 3.8687 - mean_squared_error: 3.8687 - mean_absolute_error: 1.5281 - val_loss: 4.0201 - val_mean_squared_error: 4.0201 - val_mean_absolute_error: 1.5761\n",
      "Epoch 142/150\n",
      "8631/8631 [==============================] - 6s 644us/step - loss: 3.8614 - mean_squared_error: 3.8614 - mean_absolute_error: 1.5217 - val_loss: 3.9987 - val_mean_squared_error: 3.9987 - val_mean_absolute_error: 1.5850\n",
      "Epoch 143/150\n",
      "8631/8631 [==============================] - 6s 642us/step - loss: 3.8673 - mean_squared_error: 3.8673 - mean_absolute_error: 1.5288 - val_loss: 4.0019 - val_mean_squared_error: 4.0019 - val_mean_absolute_error: 1.5636\n",
      "Epoch 144/150\n",
      "8631/8631 [==============================] - 6s 650us/step - loss: 3.8567 - mean_squared_error: 3.8567 - mean_absolute_error: 1.5120 - val_loss: 4.0482 - val_mean_squared_error: 4.0482 - val_mean_absolute_error: 1.6090\n",
      "Epoch 145/150\n",
      "8631/8631 [==============================] - 6s 660us/step - loss: 3.8588 - mean_squared_error: 3.8588 - mean_absolute_error: 1.5247 - val_loss: 4.0204 - val_mean_squared_error: 4.0204 - val_mean_absolute_error: 1.5900\n",
      "Epoch 146/150\n",
      "8631/8631 [==============================] - 6s 677us/step - loss: 3.8544 - mean_squared_error: 3.8544 - mean_absolute_error: 1.5198 - val_loss: 3.9912 - val_mean_squared_error: 3.9912 - val_mean_absolute_error: 1.5682\n",
      "Epoch 147/150\n",
      "8631/8631 [==============================] - 6s 690us/step - loss: 3.8508 - mean_squared_error: 3.8508 - mean_absolute_error: 1.5180 - val_loss: 4.0017 - val_mean_squared_error: 4.0017 - val_mean_absolute_error: 1.5393\n",
      "Epoch 148/150\n",
      "8631/8631 [==============================] - 6s 638us/step - loss: 3.8560 - mean_squared_error: 3.8560 - mean_absolute_error: 1.5222 - val_loss: 3.9964 - val_mean_squared_error: 3.9964 - val_mean_absolute_error: 1.5540\n",
      "Epoch 149/150\n",
      "8631/8631 [==============================] - 6s 655us/step - loss: 3.8574 - mean_squared_error: 3.8574 - mean_absolute_error: 1.5220 - val_loss: 3.9757 - val_mean_squared_error: 3.9757 - val_mean_absolute_error: 1.4933\n",
      "Epoch 150/150\n",
      "8631/8631 [==============================] - 6s 657us/step - loss: 3.8631 - mean_squared_error: 3.8631 - mean_absolute_error: 1.5185 - val_loss: 4.0048 - val_mean_squared_error: 4.0048 - val_mean_absolute_error: 1.5561\n",
      "EndTime : 2020-09-15 12:25:52.127842\n"
     ]
    }
   ],
   "source": [
    "# model fitting\n",
    "optim = Adam(lr=learning_rate)\n",
    "\n",
    "model.compile(loss='mse',\n",
    "\t\t      optimizer=optim,\n",
    "\t\t\t  metrics=['mse','mae'])\n",
    "\n",
    "StartTime8 = datetime.now()\n",
    "print(\"StartTime :\", StartTime8)\n",
    "with K.tf.device('/GPU:0'):\n",
    "    model_train = model.fit([train_X_cell, train_X_drug], train_y, validation_data=([test_X_cell, test_X_drug], test_y),\n",
    "                            batch_size=batch_size,epochs=training_epochs,verbose=1)\n",
    "\n",
    "EndTime8 = datetime.now()\n",
    "print(\"EndTime :\", EndTime8)"
   ]
  },
  {
   "cell_type": "code",
   "execution_count": 22,
   "metadata": {},
   "outputs": [],
   "source": [
    "# model save\n",
    "import json\n",
    "from keras.models import model_from_json, load_model\n",
    "workdir = \"E://Ronny_TF//200914_reupload//Result//EYDC-9K\"\n",
    "# Option 1: Save Weights + Architecture\n",
    "model.save_weights(workdir + '//EYDC9K_CNN_model_weight_fix_v3.h5')\n",
    "with open(workdir + '//EYDC9K_CNN_model_architecture_fix_v3.json', 'w') as f:\n",
    "    f.write(model.to_json())"
   ]
  },
  {
   "cell_type": "code",
   "execution_count": 23,
   "metadata": {},
   "outputs": [],
   "source": [
    "# Option 2: Save/Load the Entire Model\n",
    "from keras.models import load_model\n",
    "\n",
    "# Creates a HDF5 file 'my_model.h5'\n",
    "model.save(workdir + '//EYDC9K_CNN_model_fix_2080ti_v3.h5')\n",
    "\n",
    "# Deletes the existing model\n",
    "# del model  \n",
    "\n",
    "# Returns a compiled model identical to the previous one\n",
    "# model = load_model('my_model.h5')"
   ]
  },
  {
   "cell_type": "code",
   "execution_count": 24,
   "metadata": {},
   "outputs": [
    {
     "name": "stdout",
     "output_type": "stream",
     "text": [
      "959/959 [==============================] - 0s 418us/step\n"
     ]
    }
   ],
   "source": [
    "# model evaluation\n",
    "test_eval = model.evaluate([test_X_cell,test_X_drug], test_label_array, verbose=1)"
   ]
  },
  {
   "cell_type": "code",
   "execution_count": 25,
   "metadata": {},
   "outputs": [
    {
     "data": {
      "text/plain": [
       "[4.0047560026548705, 4.0047560026548705, 1.556112169100669]"
      ]
     },
     "execution_count": 25,
     "metadata": {},
     "output_type": "execute_result"
    }
   ],
   "source": [
    "test_eval"
   ]
  },
  {
   "cell_type": "code",
   "execution_count": 26,
   "metadata": {},
   "outputs": [],
   "source": [
    "# loss record\n",
    "accuracy = model_train.history['mean_squared_error']\n",
    "val_accuracy = model_train.history['val_mean_squared_error']\n",
    "loss = model_train.history['loss']\n",
    "val_loss = model_train.history['val_loss']\n",
    "\n",
    "np_acc = np.array(accuracy)\n",
    "np_val_acc = np.array(val_accuracy)\n",
    "np_loss = np.array(loss)\n",
    "np_val_loss = np.array(val_loss)"
   ]
  },
  {
   "cell_type": "code",
   "execution_count": 27,
   "metadata": {},
   "outputs": [],
   "source": [
    "# loss record\n",
    "np.savetxt(\"EYDC9K_CNN_acc_cls3_fix_2080ti_v3.csv\", np_acc, delimiter=\",\")\n",
    "np.savetxt(\"EYDC9K_CNN_val_acc_cls3_fix_2080ti_v3.csv\", np_val_acc, delimiter=\",\")\n",
    "np.savetxt(\"EYDC9K_CNN_loss_cls3_fix_2080ti_v3.csv\", np_loss, delimiter=\",\")\n",
    "np.savetxt(\"EYDC9K_CNN_val_loss_cls3_fix_2080ti_v3.csv\", np_val_loss, delimiter=\",\")"
   ]
  },
  {
   "cell_type": "code",
   "execution_count": 28,
   "metadata": {},
   "outputs": [],
   "source": [
    "import matplotlib\n",
    "from matplotlib import pyplot as plt"
   ]
  },
  {
   "cell_type": "code",
   "execution_count": 29,
   "metadata": {},
   "outputs": [
    {
     "data": {
      "image/png": "[encoded data removed]",
      "text/plain": [
       "<Figure size 432x288 with 1 Axes>"
      ]
     },
     "metadata": {
      "needs_background": "light"
     },
     "output_type": "display_data"
    },
    {
     "data": {
      "image/png": "[encoded data removed]",
      "text/plain": [
       "<Figure size 432x288 with 1 Axes>"
      ]
     },
     "metadata": {
      "needs_background": "light"
     },
     "output_type": "display_data"
    }
   ],
   "source": [
    "# accuracy = model_train.history['acc']\n",
    "# val_accuracy = model_train.history['val_acc']\n",
    "# loss = model_train.history['loss']\n",
    "# val_loss = model_train.history['val_loss']\n",
    "epochs = range(len(accuracy))\n",
    "plt.plot(epochs, accuracy, 'bo', label='Training mse',c='red')\n",
    "plt.plot(epochs, val_accuracy, 'b', label='Validation mse',c='red')\n",
    "plt.title('Training and validation mse')\n",
    "plt.legend()\n",
    "plt.figure()\n",
    "plt.plot(epochs, loss, 'bo', label='Training loss',c='red')\n",
    "plt.plot(epochs, val_loss, 'b', label='Validation loss',c='red')\n",
    "plt.title('Training and validation loss')\n",
    "plt.legend()\n",
    "plt.show()"
   ]
  },
  {
   "cell_type": "code",
   "execution_count": 30,
   "metadata": {},
   "outputs": [],
   "source": [
    "predicted_classes = model.predict([test_X_cell,test_X_drug])"
   ]
  },
  {
   "cell_type": "code",
   "execution_count": 31,
   "metadata": {},
   "outputs": [],
   "source": [
    "predicted_value = predicted_classes"
   ]
  },
  {
   "cell_type": "code",
   "execution_count": 32,
   "metadata": {},
   "outputs": [],
   "source": [
    "# saving predicted ln(IC50)s and ln(IC50)s in the test set\n",
    "a = pd.DataFrame(predicted_value)\n",
    "b = pd.DataFrame(test_label_array)\n",
    "c = pd.concat([a,b], axis=1)\n",
    "c.columns=[\"Predicted\",\"Test\"]\n",
    "c.to_csv(workdir + '//200915_EYDC9K_CNN_pred_and_val_result.csv', index=False)\n"
   ]
  },
  {
   "cell_type": "code",
   "execution_count": 33,
   "metadata": {
    "scrolled": true
   },
   "outputs": [
    {
     "data": {
      "text/html": [
       "<div>\n",
       "<style scoped>\n",
       "    .dataframe tbody tr th:only-of-type {\n",
       "        vertical-align: middle;\n",
       "    }\n",
       "\n",
       "    .dataframe tbody tr th {\n",
       "        vertical-align: top;\n",
       "    }\n",
       "\n",
       "    .dataframe thead th {\n",
       "        text-align: right;\n",
       "    }\n",
       "</style>\n",
       "<table border=\"1\" class=\"dataframe\">\n",
       "  <thead>\n",
       "    <tr style=\"text-align: right;\">\n",
       "      <th></th>\n",
       "      <th>Predicted</th>\n",
       "      <th>Test</th>\n",
       "    </tr>\n",
       "  </thead>\n",
       "  <tbody>\n",
       "    <tr>\n",
       "      <th>0</th>\n",
       "      <td>1.451017</td>\n",
       "      <td>-4.667942</td>\n",
       "    </tr>\n",
       "    <tr>\n",
       "      <th>1</th>\n",
       "      <td>0.768922</td>\n",
       "      <td>2.079442</td>\n",
       "    </tr>\n",
       "    <tr>\n",
       "      <th>2</th>\n",
       "      <td>0.446029</td>\n",
       "      <td>2.079442</td>\n",
       "    </tr>\n",
       "    <tr>\n",
       "      <th>3</th>\n",
       "      <td>1.135387</td>\n",
       "      <td>2.079442</td>\n",
       "    </tr>\n",
       "    <tr>\n",
       "      <th>4</th>\n",
       "      <td>0.892796</td>\n",
       "      <td>2.079442</td>\n",
       "    </tr>\n",
       "  </tbody>\n",
       "</table>\n",
       "</div>"
      ],
      "text/plain": [
       "   Predicted      Test\n",
       "0   1.451017 -4.667942\n",
       "1   0.768922  2.079442\n",
       "2   0.446029  2.079442\n",
       "3   1.135387  2.079442\n",
       "4   0.892796  2.079442"
      ]
     },
     "execution_count": 33,
     "metadata": {},
     "output_type": "execute_result"
    }
   ],
   "source": [
    "# result table\n",
    "c.head()"
   ]
  },
  {
   "cell_type": "code",
   "execution_count": 34,
   "metadata": {},
   "outputs": [
    {
     "data": {
      "text/plain": [
       "(959, 1)"
      ]
     },
     "execution_count": 34,
     "metadata": {},
     "output_type": "execute_result"
    }
   ],
   "source": [
    "predicted_value.shape"
   ]
  },
  {
   "cell_type": "code",
   "execution_count": 35,
   "metadata": {},
   "outputs": [
    {
     "data": {
      "image/png": "[encoded data removed]",
      "text/plain": [
       "<Figure size 432x288 with 1 Axes>"
      ]
     },
     "metadata": {
      "needs_background": "light"
     },
     "output_type": "display_data"
    }
   ],
   "source": [
    "# scatter plot\n",
    "plt.scatter(test_label_array,predicted_value,c='red')\n",
    "plt.xlabel('test_IC50_value')\n",
    "plt.ylabel('predicted_IC50_value')\n",
    "plt.savefig(workdir + '//EYDC9K_CNN_test_scatterplot.png')"
   ]
  },
  {
   "cell_type": "code",
   "execution_count": 36,
   "metadata": {},
   "outputs": [
    {
     "name": "stdout",
     "output_type": "stream",
     "text": [
      "-0.028573571811577603\n"
     ]
    }
   ],
   "source": [
    "# R-squared value\n",
    "from sklearn.metrics import r2_score\n",
    "r2_value = r2_score(b,a)\n",
    "print(r2_value)"
   ]
  },
  {
   "cell_type": "code",
   "execution_count": 37,
   "metadata": {},
   "outputs": [
    {
     "data": {
      "text/plain": [
       "LinregressResult(slope=0.010230939329059182, intercept=0.8053228808876592, rvalue=0.04728377997949736, pvalue=0.14341818704222384, stderr=0.006986526662907003)"
      ]
     },
     "execution_count": 37,
     "metadata": {},
     "output_type": "execute_result"
    }
   ],
   "source": [
    "# Linear regression value (slope)\n",
    "from scipy.stats import linregress\n",
    "linregress(b[0], a[0])"
   ]
  },
  {
   "cell_type": "code",
   "execution_count": 38,
   "metadata": {},
   "outputs": [
    {
     "name": "stdout",
     "output_type": "stream",
     "text": [
      "Final rmse value is = 2.0011886548969513\n"
     ]
    }
   ],
   "source": [
    "# RMSE\n",
    "rse = ((b[0]-a[0])**2).sum()\n",
    "mse = rse / len(b)\n",
    "print(\"Final rmse value is =\",np.sqrt(mse))"
   ]
  }
 ],
 "metadata": {
  "kernelspec": {
   "display_name": "Python 3",
   "language": "python",
   "name": "python3"
  },
  "language_info": {
   "codemirror_mode": {
    "name": "ipython",
    "version": 3
   },
   "file_extension": ".py",
   "mimetype": "text/x-python",
   "name": "python",
   "nbconvert_exporter": "python",
   "pygments_lexer": "ipython3",
   "version": "3.6.8"
  }
 },
 "nbformat": 4,
 "nbformat_minor": 2
}
