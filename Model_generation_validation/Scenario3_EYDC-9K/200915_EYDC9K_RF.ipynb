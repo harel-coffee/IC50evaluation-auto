{
 "cells": [
  {
   "cell_type": "code",
   "execution_count": 1,
   "metadata": {},
   "outputs": [],
   "source": [
    "import os\n",
    "import pandas as pd\n",
    "import numpy as np\n",
    "import random\n",
    "from pandas import DataFrame\n",
    "from datetime import datetime\n",
    "from sklearn.model_selection import train_test_split\n",
    "from sklearn.model_selection import GridSearchCV\n",
    "# Import the model we are using\n",
    "from sklearn.ensemble import RandomForestRegressor\n",
    "from sklearn.linear_model import Ridge\n",
    "import matplotlib\n",
    "from matplotlib import pyplot as plt\n",
    "from sklearn.metrics import r2_score\n",
    "# input file path\n",
    "workdir = \"D://DrugResponsivenessGuideline_log//Github//200914_reupload//Dataset//Scenario3_EYDC-9K\""
   ]
  },
  {
   "cell_type": "code",
   "execution_count": 2,
   "metadata": {},
   "outputs": [],
   "source": [
    "# read input file and index file for training and test set\n",
    "dataset = np.load(workdir + \"//200914_EYDC9K.npz\")\n",
    "ss0 = np.load(workdir + '//200914_EYDC9K_r0_9_1.npz')"
   ]
  },
  {
   "cell_type": "code",
   "execution_count": 3,
   "metadata": {},
   "outputs": [],
   "source": [
    "# input and index file assign\n",
    "x = dataset['x']\n",
    "y = dataset['y']\n",
    "# y_linear = dataset['y_lnIC50']\n",
    "ss0_train = ss0['train']\n",
    "ss0_test = ss0['test']"
   ]
  },
  {
   "cell_type": "code",
   "execution_count": 4,
   "metadata": {},
   "outputs": [],
   "source": [
    "# training and test dataset assign\n",
    "training_image_array, training_label_array = x[ss0_train], y[ss0_train]\n",
    "test_image_array, test_label_array = x[ss0_test], y[ss0_test]\n"
   ]
  },
  {
   "cell_type": "code",
   "execution_count": 5,
   "metadata": {},
   "outputs": [
    {
     "data": {
      "text/plain": [
       "(9590, 41505)"
      ]
     },
     "execution_count": 5,
     "metadata": {},
     "output_type": "execute_result"
    }
   ],
   "source": [
    "# checking the size of dataset\n",
    "x.shape"
   ]
  },
  {
   "cell_type": "code",
   "execution_count": 6,
   "metadata": {},
   "outputs": [
    {
     "data": {
      "text/plain": [
       "(8631, 41505)"
      ]
     },
     "execution_count": 6,
     "metadata": {},
     "output_type": "execute_result"
    }
   ],
   "source": [
    "# checking the size of training set\n",
    "training_image_array.shape"
   ]
  },
  {
   "cell_type": "code",
   "execution_count": 7,
   "metadata": {},
   "outputs": [],
   "source": [
    "train_X, train_y, test_X, test_y = training_image_array, training_label_array, test_image_array, test_label_array\n"
   ]
  },
  {
   "cell_type": "code",
   "execution_count": 8,
   "metadata": {},
   "outputs": [
    {
     "name": "stdout",
     "output_type": "stream",
     "text": [
      "(8631, 41505) (8631,) (959, 41505) (959,)\n"
     ]
    }
   ],
   "source": [
    "print(train_X.shape, train_y.shape, test_X.shape, test_y.shape)"
   ]
  },
  {
   "cell_type": "code",
   "execution_count": 9,
   "metadata": {},
   "outputs": [],
   "source": [
    "# impute nan to zero\n",
    "train_X = np.nan_to_num(train_X)\n",
    "test_X = np.nan_to_num(test_X)"
   ]
  },
  {
   "cell_type": "code",
   "execution_count": 10,
   "metadata": {},
   "outputs": [
    {
     "name": "stdout",
     "output_type": "stream",
     "text": [
      "train_X shape: (8631, 41505)\n",
      "8631 train samples\n",
      "959 test samples\n"
     ]
    }
   ],
   "source": [
    "# data typing and the number of dataset\n",
    "train_X = train_X.astype('float32')\n",
    "test_X = test_X.astype('float32')\n",
    "# train_X /= 255\n",
    "# test_X /= 255\n",
    "print('train_X shape:', train_X.shape)\n",
    "print(train_X.shape[0], 'train samples')\n",
    "print(test_X.shape[0], 'test samples')"
   ]
  },
  {
   "cell_type": "code",
   "execution_count": 11,
   "metadata": {
    "scrolled": false
   },
   "outputs": [
    {
     "name": "stdout",
     "output_type": "stream",
     "text": [
      "StartTime : 2020-09-15 12:54:39.908207\n",
      "EndTime : 2020-09-15 20:54:48.306865\n"
     ]
    }
   ],
   "source": [
    "\n",
    "StartTime8 = datetime.now()\n",
    "print(\"StartTime :\", StartTime8)\n",
    "# model fitting\n",
    "rf = RandomForestRegressor(random_state = 84)\n",
    "rf.fit(train_X, train_y)\n",
    "\n",
    "EndTime8 = datetime.now()\n",
    "print(\"EndTime :\", EndTime8)\n",
    "\n"
   ]
  },
  {
   "cell_type": "code",
   "execution_count": 12,
   "metadata": {},
   "outputs": [],
   "source": [
    "import matplotlib\n",
    "from matplotlib import pyplot as plt"
   ]
  },
  {
   "cell_type": "code",
   "execution_count": 13,
   "metadata": {},
   "outputs": [],
   "source": [
    "predicted_classes = rf.predict(test_X)\n",
    "predicted_value = predicted_classes"
   ]
  },
  {
   "cell_type": "code",
   "execution_count": 14,
   "metadata": {},
   "outputs": [],
   "source": [
    "# saving predicted ln(IC50)s and ln(IC50)s in the test set\n",
    "a = pd.DataFrame(predicted_value)\n",
    "b = pd.DataFrame(test_label_array)\n",
    "c = pd.concat([a,b], axis=1)\n",
    "c.columns=[\"Predicted\",\"Test\"]\n",
    "workdir = \"D://DrugResponsivenessGuideline_log//Github//200914_reupload//Result//EYDC-9K\"\n",
    "c.to_csv(workdir + '//200915_EYDC9K_RF_pred_and_val_result.csv', index=False)\n"
   ]
  },
  {
   "cell_type": "code",
   "execution_count": 15,
   "metadata": {
    "scrolled": true
   },
   "outputs": [
    {
     "data": {
      "text/html": [
       "<div>\n",
       "<style scoped>\n",
       "    .dataframe tbody tr th:only-of-type {\n",
       "        vertical-align: middle;\n",
       "    }\n",
       "\n",
       "    .dataframe tbody tr th {\n",
       "        vertical-align: top;\n",
       "    }\n",
       "\n",
       "    .dataframe thead th {\n",
       "        text-align: right;\n",
       "    }\n",
       "</style>\n",
       "<table border=\"1\" class=\"dataframe\">\n",
       "  <thead>\n",
       "    <tr style=\"text-align: right;\">\n",
       "      <th></th>\n",
       "      <th>Predicted</th>\n",
       "      <th>Test</th>\n",
       "    </tr>\n",
       "  </thead>\n",
       "  <tbody>\n",
       "    <tr>\n",
       "      <th>0</th>\n",
       "      <td>-4.526973</td>\n",
       "      <td>-4.667942</td>\n",
       "    </tr>\n",
       "    <tr>\n",
       "      <th>1</th>\n",
       "      <td>2.079435</td>\n",
       "      <td>2.079442</td>\n",
       "    </tr>\n",
       "    <tr>\n",
       "      <th>2</th>\n",
       "      <td>1.992325</td>\n",
       "      <td>2.079442</td>\n",
       "    </tr>\n",
       "    <tr>\n",
       "      <th>3</th>\n",
       "      <td>2.072284</td>\n",
       "      <td>2.079442</td>\n",
       "    </tr>\n",
       "    <tr>\n",
       "      <th>4</th>\n",
       "      <td>2.045530</td>\n",
       "      <td>2.079442</td>\n",
       "    </tr>\n",
       "  </tbody>\n",
       "</table>\n",
       "</div>"
      ],
      "text/plain": [
       "   Predicted      Test\n",
       "0  -4.526973 -4.667942\n",
       "1   2.079435  2.079442\n",
       "2   1.992325  2.079442\n",
       "3   2.072284  2.079442\n",
       "4   2.045530  2.079442"
      ]
     },
     "execution_count": 15,
     "metadata": {},
     "output_type": "execute_result"
    }
   ],
   "source": [
    "# result table\n",
    "c.head()"
   ]
  },
  {
   "cell_type": "code",
   "execution_count": 16,
   "metadata": {},
   "outputs": [
    {
     "data": {
      "text/plain": [
       "(959,)"
      ]
     },
     "execution_count": 16,
     "metadata": {},
     "output_type": "execute_result"
    }
   ],
   "source": [
    "# the length of result table\n",
    "predicted_value.shape"
   ]
  },
  {
   "cell_type": "code",
   "execution_count": 17,
   "metadata": {},
   "outputs": [
    {
     "name": "stderr",
     "output_type": "stream",
     "text": [
      "C:\\Users\\ylab\\AppData\\Local\\conda\\conda\\envs\\ronny\\lib\\site-packages\\sklearn\\externals\\joblib\\__init__.py:15: FutureWarning: sklearn.externals.joblib is deprecated in 0.21 and will be removed in 0.23. Please import this functionality directly from joblib, which can be installed with: pip install joblib. If this warning is raised when loading pickled models, you may need to re-serialize those models with scikit-learn 0.21+.\n",
      "  warnings.warn(msg, category=FutureWarning)\n"
     ]
    },
    {
     "data": {
      "text/plain": [
       "['D://DrugResponsivenessGuideline_log//Github//200914_reupload//Result//EYDC-9K//200915_EYDC9K_RF_model.pkl']"
      ]
     },
     "execution_count": 17,
     "metadata": {},
     "output_type": "execute_result"
    }
   ],
   "source": [
    "# model save\n",
    "import pickle\n",
    "from sklearn.externals import joblib\n",
    "joblib.dump(rf, workdir + '//200915_EYDC9K_RF_model.pkl') \n"
   ]
  },
  {
   "cell_type": "code",
   "execution_count": 18,
   "metadata": {},
   "outputs": [
    {
     "data": {
      "text/plain": [
       "array([-4.52697327e+00,  2.07943512e+00,  1.99232510e+00,  2.07228387e+00,\n",
       "        2.04552966e+00, -2.41431473e+00,  9.77753547e-01,  3.43386907e-01,\n",
       "       -3.19115474e+00,  1.98336379e+00, -7.32717117e-02, -7.31836669e-01,\n",
       "        2.06317390e+00,  1.81525651e+00,  1.06623291e+00,  1.88377549e+00,\n",
       "       -7.16260694e-01, -2.21562000e+00,  1.90448871e+00,  2.02775246e+00,\n",
       "        1.49562909e+00,  1.90492824e+00, -2.46057577e+00, -1.82449782e+00,\n",
       "        1.86826661e+00,  1.16502316e+00,  2.04098176e+00,  1.80813317e+00,\n",
       "        1.03582386e+00,  1.82098397e+00, -1.02406303e+00,  9.69664863e-01,\n",
       "       -2.11919510e+00,  1.12887292e+00,  1.48258616e+00,  1.63199515e+00,\n",
       "        1.60014271e+00, -1.08350001e+00,  1.04957069e+00,  1.80783720e+00,\n",
       "        1.82417694e+00,  2.07943493e+00,  5.29686964e-01,  1.43772217e+00,\n",
       "        1.08892504e+00,  1.41337237e+00,  2.07703732e+00,  8.72461031e-01,\n",
       "        2.02767140e+00,  2.05342921e+00, -2.66215630e+00,  2.00629008e+00,\n",
       "        1.91685032e+00,  1.82507635e+00,  1.78832237e+00,  4.04351262e-01,\n",
       "        1.99837122e+00,  1.59072863e+00,  1.29394923e+00,  1.95521288e+00,\n",
       "        1.91042300e+00, -6.54347748e-01,  4.95601401e-01,  7.86934273e-01,\n",
       "       -5.47846213e-01,  1.26862424e+00, -1.00412115e+00,  1.08832235e+00,\n",
       "       -4.23521413e+00,  2.03670769e+00,  2.07409524e+00,  1.11772138e+00,\n",
       "        1.65898188e+00,  5.80739534e-01, -5.27136823e+00,  1.64952935e+00,\n",
       "        2.02043524e+00,  1.55125154e+00, -4.04854187e+00,  8.93072581e-01,\n",
       "        1.64346817e+00,  1.44417502e+00,  2.00281602e+00,  2.01958600e+00,\n",
       "        1.57799161e+00,  2.06546398e+00,  2.03367271e+00,  1.46673719e+00,\n",
       "        2.07943585e+00,  1.55921095e+00,  2.04702538e+00,  1.59889605e+00,\n",
       "        2.07546805e+00,  3.05697986e-02,  2.07943539e+00,  1.62627077e+00,\n",
       "       -2.31556910e+00, -1.04440487e+00,  2.22146507e-01,  2.52200091e-01,\n",
       "        1.83279702e+00,  1.80094742e-01,  1.24767073e+00, -3.87075138e-01,\n",
       "        3.59602792e-01,  1.98067905e+00,  1.79146728e+00,  1.95333082e+00,\n",
       "       -1.91787279e+00,  1.78988012e+00,  1.38033740e+00,  1.55881260e+00,\n",
       "        7.14888701e-01,  1.05648028e+00,  1.96867253e+00,  1.11595428e+00,\n",
       "        1.53465626e+00,  2.07476439e+00,  1.98889540e+00,  2.07943499e+00,\n",
       "        5.53056120e-01,  1.92632970e+00,  2.07064163e+00,  1.07928847e+00,\n",
       "        2.05415450e+00,  2.07943596e+00,  2.00347138e+00,  1.71756061e+00,\n",
       "        5.32288444e-01,  1.96742861e+00,  2.00122596e+00,  1.94424504e+00,\n",
       "        2.07924645e+00,  9.81254388e-02,  2.06738320e+00,  2.01372316e+00,\n",
       "        1.03139022e+00, -1.07873876e+00,  9.42258684e-01, -7.31521321e-01,\n",
       "        2.06971500e+00,  1.92502136e+00,  1.95251147e+00, -2.41423324e+00,\n",
       "        2.06260320e+00, -4.51557276e+00, -2.96432893e+00,  1.75350018e+00,\n",
       "        1.25577312e+00, -5.47563134e-01, -2.41995941e-01,  1.83076181e+00,\n",
       "        1.77031168e+00, -1.58759360e+00,  1.27357162e+00, -2.01393432e+00,\n",
       "        1.75436977e+00,  1.25034658e+00,  1.73987077e+00,  7.65223627e-01,\n",
       "       -1.88887539e+00,  2.07943523e+00,  8.55702972e-01,  1.51097679e+00,\n",
       "        1.40856076e+00,  9.72422321e-01,  1.20947976e+00,  2.07943492e+00,\n",
       "        1.97516676e+00,  2.06328616e+00,  1.90565241e+00,  1.28318894e+00,\n",
       "        2.07943677e+00,  5.36107391e-01, -5.12775569e-01, -5.05974799e-01,\n",
       "        1.56885695e+00, -1.42172597e+00,  1.98530832e+00,  1.71857489e+00,\n",
       "        1.33888136e+00, -4.80093486e+00,  2.04699579e+00, -4.39626280e+00,\n",
       "        2.06007756e+00,  1.23805372e+00,  1.72880412e+00,  2.07943622e+00,\n",
       "        2.03601735e+00,  1.08663154e+00, -4.74978183e+00,  1.32727921e+00,\n",
       "        1.02927448e+00,  9.50142395e-01,  8.69584886e-01,  1.42717008e+00,\n",
       "        2.00479760e+00,  9.49864450e-01,  1.10940192e+00,  1.10706558e+00,\n",
       "        2.06669039e+00,  2.07563755e+00, -8.26346746e-01,  3.75339611e-01,\n",
       "        1.20932896e+00,  1.82942711e+00,  5.99172643e-01,  1.74186078e+00,\n",
       "        6.98854072e-01, -7.67422473e-01,  1.99720568e+00,  2.07377330e+00,\n",
       "        1.93018057e+00,  1.48926512e+00,  2.07767373e+00, -3.70238572e+00,\n",
       "        1.69297615e+00,  1.73890601e+00, -2.80948296e+00,  2.07681960e+00,\n",
       "        2.02611949e+00,  9.83210031e-01, -1.09422733e+00,  2.06560937e+00,\n",
       "        3.74757038e-01,  2.07160524e+00, -1.47072768e+00, -2.44009145e+00,\n",
       "       -1.84145480e+00, -1.22193503e-01,  2.07538630e+00,  2.04801694e+00,\n",
       "        1.47753810e+00,  1.53903856e+00,  2.00757900e+00,  2.07943540e+00,\n",
       "        2.03672303e+00,  1.86744978e+00, -1.29883643e+00,  2.05431067e+00,\n",
       "        2.00043036e+00, -1.00308627e+00,  9.77476966e-01,  2.07837200e+00,\n",
       "       -4.19953839e+00, -1.13441302e-02,  1.34681996e+00,  9.93892801e-01,\n",
       "        1.36665224e+00,  1.82308515e+00,  2.00159939e+00,  1.45799408e+00,\n",
       "        1.72396590e+00, -1.85448187e+00, -4.70922859e+00,  1.30978018e+00,\n",
       "        1.96977060e+00, -7.07178180e-01,  1.63823590e+00,  1.16355972e+00,\n",
       "        1.52886659e+00,  1.50575403e+00, -6.28800313e-01,  2.06309513e+00,\n",
       "        2.04112031e+00,  1.85786841e+00,  1.61107708e+00,  2.05763530e+00,\n",
       "        1.66770310e+00,  1.57730216e+00,  2.05604568e+00,  2.04480903e+00,\n",
       "        1.73964885e+00, -2.62477422e+00,  1.37494069e+00,  1.81470811e+00,\n",
       "        1.87899220e+00, -1.97062829e+00,  8.03250494e-01,  4.61697334e-01,\n",
       "        1.63697090e+00,  1.30329366e+00,  1.51448978e+00,  2.38024123e-01,\n",
       "        2.02752943e+00,  1.88893993e+00,  1.28862723e+00,  1.20152673e+00,\n",
       "        1.68127463e+00,  2.01661059e+00,  1.60188962e+00,  1.68118326e+00,\n",
       "       -2.75842359e+00,  1.08210901e+00,  1.23706077e+00,  1.49087694e+00,\n",
       "        1.66979161e+00,  2.07656751e+00, -2.63578354e+00,  1.98919850e+00,\n",
       "        5.16640053e-01, -1.85310518e+00,  9.81483760e-01,  1.99787286e+00,\n",
       "       -2.63401062e+00, -1.02673699e+00, -3.22263116e+00,  1.97062155e+00,\n",
       "        1.63977705e+00,  1.31680706e+00,  1.85553186e+00,  1.67087301e+00,\n",
       "        2.06524825e+00,  1.01434267e+00,  2.02014403e+00, -9.95709690e-01,\n",
       "        1.99161759e+00,  2.01595357e+00, -4.00844323e+00,  1.19504506e+00,\n",
       "       -1.46705038e+00,  5.53402558e-01,  2.07921953e+00,  1.99422662e+00,\n",
       "        1.31405464e+00,  5.74412769e-01,  2.03012953e+00,  1.84870724e+00,\n",
       "        2.07943463e+00,  1.44481696e+00,  1.67464981e+00,  2.06449838e+00,\n",
       "       -1.99236352e+00,  2.05896491e+00,  1.50718772e+00, -4.57105978e+00,\n",
       "        2.05168255e+00,  1.62687547e+00,  2.01341374e+00,  1.68237185e+00,\n",
       "       -2.70297964e+00,  1.00540877e+00,  1.48511187e+00,  2.02813708e+00,\n",
       "        1.94517495e+00,  1.10990359e+00,  1.88463683e+00,  1.48193777e+00,\n",
       "        1.80462639e+00, -1.27466760e+00,  1.32267255e+00,  1.17079785e+00,\n",
       "        2.07943556e+00,  1.32041461e+00, -2.82241249e+00,  2.07758746e+00,\n",
       "        2.03670754e+00,  1.95964166e+00,  1.92035708e+00,  1.38213981e+00,\n",
       "        1.29181730e+00,  1.35595628e+00,  1.71251168e+00, -1.77953900e+00,\n",
       "       -2.19138811e+00,  1.14977342e+00,  1.97575610e+00,  2.02176565e+00,\n",
       "        1.68213899e+00,  1.16729861e+00,  9.80373326e-01,  2.01236371e+00,\n",
       "        2.00706567e+00,  1.90693992e+00,  8.71941204e-01, -1.27425209e+00,\n",
       "        2.07109644e+00,  1.93443875e+00,  2.06604449e+00, -1.41971646e+00,\n",
       "        1.95072405e+00,  1.81268613e+00,  3.80159268e-01, -4.36362147e+00,\n",
       "        1.15774317e+00,  2.07066626e+00,  1.98905848e+00,  2.06007550e+00,\n",
       "       -1.61573991e+00,  8.81971242e-01,  1.83080036e+00,  1.91255755e+00,\n",
       "        2.02552958e+00,  1.30134083e+00,  1.18837706e-01,  2.02841125e+00,\n",
       "        1.83194621e+00,  2.02069351e+00,  1.85184470e+00,  4.46471680e-01,\n",
       "        8.31952660e-01,  2.03791386e+00, -2.49862889e+00,  2.02648062e+00,\n",
       "       -4.30138016e+00,  1.91382178e+00,  1.72927848e+00,  1.99524956e+00,\n",
       "        1.33974735e+00,  2.07943503e+00,  1.11073615e+00,  1.39035841e+00,\n",
       "        1.17976303e+00,  2.03094203e+00,  1.51490464e+00,  2.00406696e+00,\n",
       "        2.02785276e+00,  9.99293690e-01,  1.44389691e+00,  1.96597396e+00,\n",
       "        2.02512134e+00,  2.05259627e+00,  2.07943508e+00,  1.97532025e+00,\n",
       "        1.72620034e+00,  2.07776728e+00, -2.31449602e+00,  1.68572843e+00,\n",
       "        1.97056532e+00, -2.85179014e-02,  1.40130265e+00,  1.76405057e+00,\n",
       "       -4.46369482e+00,  1.76950910e+00,  1.38436335e+00,  1.87320742e+00,\n",
       "        2.04762620e+00, -1.09839641e+00,  9.20956124e-02,  4.14627322e-01,\n",
       "       -3.86821432e-01,  2.07943521e+00,  2.07943536e+00, -3.95840900e+00,\n",
       "        1.55938073e+00,  1.94179917e+00,  1.74369425e+00,  1.15015372e+00,\n",
       "       -1.59417403e+00, -1.56232518e+00, -1.08770156e-03, -6.71823548e-01,\n",
       "       -1.61950336e+00,  2.02781758e+00, -2.56238683e+00,  1.80232724e+00,\n",
       "       -8.43183208e-01,  1.91821922e+00,  1.98578630e+00,  1.89519842e+00,\n",
       "        2.06514631e+00,  2.04404740e+00, -2.37856227e-01,  2.06509994e+00,\n",
       "        1.18750635e+00,  2.06194656e+00,  2.03856454e+00,  2.07943563e+00,\n",
       "        1.86047706e+00,  1.33765819e+00,  1.67326690e+00,  2.04304440e+00,\n",
       "        1.83826538e+00,  1.94811815e+00,  4.46710273e-03,  2.07943569e+00,\n",
       "        2.07449782e+00,  1.83006281e+00, -6.78813746e-01,  4.12042318e-01,\n",
       "        1.49400159e+00,  1.76390715e+00,  1.92487356e+00,  9.51208234e-01,\n",
       "        2.04647511e+00, -2.25764125e+00, -1.84277292e+00,  1.88726263e+00,\n",
       "        1.98383656e+00,  2.01750467e+00,  2.06417360e+00,  2.01000884e+00,\n",
       "       -8.40155190e-01,  7.76568381e-01,  1.50982847e+00,  1.63863838e+00,\n",
       "        2.04312101e+00,  2.00368550e+00,  1.97587343e+00,  2.06908362e+00,\n",
       "        2.06855139e+00,  2.05110339e+00,  1.92023009e+00, -1.45303846e+00,\n",
       "        1.39371445e+00, -1.53401222e+00,  1.83660355e+00,  1.77515569e+00,\n",
       "        1.64394314e+00,  1.97263495e+00,  1.45980760e+00,  2.05393170e+00,\n",
       "        1.95372830e+00,  2.07943536e+00,  1.99600357e+00,  1.92604701e+00,\n",
       "       -4.40274542e+00,  1.10893466e+00,  1.71362241e+00,  2.03524100e+00,\n",
       "        1.68695889e+00,  7.64727449e-01,  2.07590576e+00,  4.54437130e-01,\n",
       "        1.09232594e+00,  2.04400397e+00,  1.91808721e+00, -7.23941549e-01,\n",
       "        1.85690014e+00,  4.66828073e-01,  1.32413605e+00,  2.05956464e+00,\n",
       "        1.60295027e+00,  1.96441150e+00,  8.71934186e-01, -4.38638782e+00,\n",
       "        1.90462002e+00,  9.32963554e-01,  2.05976885e+00, -5.18156109e-01,\n",
       "        1.79644637e+00,  1.95240055e+00,  1.20329786e+00,  2.07729155e+00,\n",
       "        1.16574360e+00, -4.18853857e+00,  2.07275730e+00,  2.05614796e+00,\n",
       "        1.27095002e+00,  1.57629765e+00, -2.65164683e+00,  1.89599556e+00,\n",
       "        2.07616286e+00,  2.01836797e+00,  1.33629071e+00,  2.05218898e+00,\n",
       "        1.23566708e+00,  1.54442594e+00, -8.20080627e-01,  1.80804283e+00,\n",
       "       -1.35937745e+00,  2.02162737e+00, -4.42374520e+00,  2.22384495e-01,\n",
       "        9.23211207e-01,  1.92369146e+00, -3.90630815e+00, -1.24156951e+00,\n",
       "        1.69457043e+00,  2.06657923e+00,  1.29776876e+00,  1.72758335e+00,\n",
       "        2.07872338e+00,  1.83605771e+00,  1.03864850e+00,  1.39215146e+00,\n",
       "        1.06252654e+00,  2.06600413e+00,  1.58483061e+00,  2.01154860e+00,\n",
       "        1.81716950e+00,  2.07642914e+00,  1.95596186e+00,  2.07031913e+00,\n",
       "        5.57164660e-01,  8.58675112e-01,  1.85002301e+00, -3.70681558e-01,\n",
       "        2.06829523e+00,  2.63479632e-01,  2.07651610e+00, -2.71096740e+00,\n",
       "        1.88470430e+00,  1.82984776e+00,  5.50785261e-01, -1.68494029e+00,\n",
       "        2.02690236e+00,  1.51426825e+00,  1.20360887e+00,  1.42939706e+00,\n",
       "        1.37970927e+00, -4.97807158e+00,  1.95728683e+00,  1.91680355e+00,\n",
       "        1.83202557e+00,  2.01437658e+00,  1.69590272e+00,  1.55854072e+00,\n",
       "        2.07050790e+00, -1.40147699e+00,  2.07451916e+00,  2.00589111e+00,\n",
       "        2.06524762e+00,  1.17842394e+00,  1.31456705e+00,  2.03177179e+00,\n",
       "        1.62916184e+00, -5.08544570e-01,  1.97914783e+00,  2.05206204e+00,\n",
       "        2.00501493e+00, -6.17541801e-01,  1.94312666e+00,  2.00384308e-01,\n",
       "       -1.70086136e+00,  1.45977731e+00, -1.21781651e+00,  1.92811199e+00,\n",
       "        1.43412929e+00, -2.47397463e+00,  1.62688824e+00,  2.51956475e-01,\n",
       "        1.98163892e+00, -1.38757865e+00, -9.76809758e-01,  4.84882278e-01,\n",
       "        3.79523038e-01,  9.26674199e-01,  2.07940009e+00,  1.33968513e+00,\n",
       "        6.84370948e-01,  1.89275882e+00,  1.75415816e+00,  2.06671794e+00,\n",
       "        1.80042789e+00,  2.06953023e+00,  1.83008822e+00,  1.75109971e+00,\n",
       "        2.01750229e+00,  2.00225512e+00,  4.39214366e-01,  2.07943505e+00,\n",
       "        1.27283710e+00, -1.25907222e+00,  2.06966952e+00,  2.06612109e+00,\n",
       "       -2.53388027e+00, -1.65590765e+00,  2.07943521e+00,  2.07943526e+00,\n",
       "        1.80806480e+00, -1.22641364e+00, -2.58323355e+00, -1.04195467e+00,\n",
       "       -3.68132136e+00, -4.37173958e+00, -4.14493382e+00, -1.43518895e+00,\n",
       "        1.88329232e+00,  1.89378425e+00,  2.07943714e+00,  1.79272457e+00,\n",
       "        1.59848822e+00,  1.25421643e+00, -2.29705167e+00, -1.59877618e+00,\n",
       "        1.30827355e+00,  1.93119911e+00,  2.07256379e+00,  9.29058368e-01,\n",
       "        1.86923162e+00,  2.01823886e+00,  1.98388087e+00,  1.89625059e+00,\n",
       "       -5.28684393e+00,  1.90207834e+00,  1.05337675e+00,  1.69422835e+00,\n",
       "        2.06555721e+00, -1.75280953e+00,  1.82597008e+00, -5.51575756e-01,\n",
       "        2.02910523e+00,  1.38838754e+00,  2.07256788e+00, -1.55375915e+00,\n",
       "        2.07742977e+00,  1.94081633e+00,  2.07012155e+00,  1.52899624e+00,\n",
       "        1.85981271e+00,  1.99103693e+00,  2.07393802e+00,  2.04676288e+00,\n",
       "        2.07306407e+00, -1.48148756e+00,  1.73195251e+00,  2.03884523e+00,\n",
       "        6.64628491e-01, -4.15662233e+00,  1.84969763e+00,  1.21660073e+00,\n",
       "        1.60441784e+00,  2.07819099e+00, -2.48052589e-01,  1.94035391e+00,\n",
       "        1.99068042e+00,  1.36748781e+00,  2.01009613e+00,  1.46376614e+00,\n",
       "        1.98166024e+00,  1.99157775e+00,  2.02205159e+00,  1.98920771e+00,\n",
       "       -9.50715766e-01, -4.35950973e+00,  1.60266036e+00,  1.88748600e+00,\n",
       "        1.82798400e+00, -8.96648492e-01,  1.74921078e+00, -2.82216369e+00,\n",
       "        1.93026162e+00,  2.05487556e+00,  1.21306565e+00,  9.54940020e-01,\n",
       "        2.02764052e+00, -4.60199514e+00,  1.97929898e+00,  1.24480079e+00,\n",
       "        2.05142822e+00,  1.33219674e+00,  2.07291753e+00, -8.41141109e-01,\n",
       "        1.55220284e+00,  5.78901528e-01,  1.96125063e+00,  1.37813038e+00,\n",
       "        2.07943489e+00,  1.90233459e+00, -3.23942749e+00,  1.97014512e+00,\n",
       "        2.07943495e+00, -4.52168755e+00,  1.89305217e+00,  2.06006774e+00,\n",
       "        1.61997229e+00,  8.73235544e-01, -4.71171252e+00,  4.98883741e-01,\n",
       "        2.04397481e+00,  2.07459119e+00, -1.90687849e+00,  1.81722443e+00,\n",
       "        1.51599250e+00, -9.81433661e-01,  2.05619925e+00,  2.06802240e+00,\n",
       "        1.81681963e+00,  8.57453896e-01,  1.78939386e+00,  7.85297960e-01,\n",
       "       -4.89394013e+00,  1.90165580e+00,  1.28567991e+00,  2.05645713e+00,\n",
       "        1.41029653e+00,  1.40064130e+00,  2.07943583e+00,  2.07783848e+00,\n",
       "        2.07943485e+00,  6.60741527e-01,  1.24878806e+00, -1.61366219e+00,\n",
       "        1.93145204e+00,  2.07126609e+00,  2.00946096e+00,  1.82360138e+00,\n",
       "        2.06001023e+00, -2.92935780e+00,  1.85863151e+00, -1.50570472e+00,\n",
       "        1.36040725e+00,  1.15008440e+00, -2.45449834e+00,  1.43715458e+00,\n",
       "        2.07697156e+00,  1.18357015e+00,  6.41466482e-01,  2.07572130e+00,\n",
       "        2.07943523e+00,  1.54913951e+00, -1.62324731e+00, -4.49687084e-01,\n",
       "        1.72798135e-01,  2.06768683e+00, -3.76416438e+00,  1.61009742e+00,\n",
       "        1.34971541e+00,  1.97652575e+00,  1.77834338e+00,  1.36420258e+00,\n",
       "        9.73825724e-01,  2.06879894e+00, -4.05070651e+00,  1.94290035e+00,\n",
       "        2.60368493e-01, -4.00353271e+00,  1.08990957e+00,  1.91527687e+00,\n",
       "        2.04689305e+00,  1.80365021e+00,  2.03307723e+00,  1.64420716e+00,\n",
       "        1.39075316e+00,  2.06776096e+00,  1.78343381e+00,  2.00465274e+00,\n",
       "        2.04980400e+00,  1.83196243e+00,  1.03708571e+00,  1.99249617e+00,\n",
       "        2.05327074e+00,  1.87809308e+00,  2.05726495e+00,  1.92576084e+00,\n",
       "        1.93926632e+00,  1.86861948e+00, -3.66488036e+00,  1.97160406e+00,\n",
       "        1.16790625e+00,  2.07943489e+00,  1.70279751e+00, -1.53848788e+00,\n",
       "       -6.24027606e-01,  1.79808510e+00,  2.07943559e+00,  1.13980725e+00,\n",
       "        1.83114627e+00,  3.37811296e-01,  2.06286856e+00,  2.07578942e+00,\n",
       "        7.65110330e-01,  1.89056836e+00,  2.02278309e+00,  2.04659219e+00,\n",
       "       -3.14720102e+00, -3.93807887e+00,  1.75593179e+00, -4.30080355e+00,\n",
       "        2.02210547e+00,  1.51845720e+00,  2.04907436e+00, -1.53002489e+00,\n",
       "        1.68264272e+00, -1.89621413e+00,  6.69598145e-01,  1.81015872e-01,\n",
       "        3.82560321e-01,  1.11353164e+00,  2.07184223e+00, -4.11212744e+00,\n",
       "       -1.92554838e+00,  8.33864672e-01, -1.34632166e+00,  1.86380099e+00,\n",
       "        1.92523965e+00,  1.90285807e+00,  1.25874663e+00,  1.93729321e+00,\n",
       "        2.07943494e+00,  1.04535204e+00,  1.70765867e+00,  2.02753921e+00,\n",
       "        2.07270414e+00, -3.78473498e-01,  2.04210596e+00,  1.87843780e+00,\n",
       "       -2.64436795e+00,  4.87280743e-01,  2.07943507e+00,  1.56456102e+00,\n",
       "        1.82186988e+00, -2.47792462e+00, -9.57073555e-02,  1.96791008e+00,\n",
       "       -1.69813011e+00,  1.66812246e+00, -6.88218866e-01,  2.05185815e+00,\n",
       "       -5.09022161e+00, -1.73499584e+00,  1.17856366e+00,  2.01726337e+00,\n",
       "       -1.04747355e+00,  1.88844736e+00,  1.49391483e+00,  1.70147509e+00,\n",
       "        1.53680608e+00,  8.60441490e-01,  1.81833728e+00, -4.51112618e-01,\n",
       "        1.92221559e+00,  1.81700839e+00,  2.05532499e+00, -1.07419084e+00,\n",
       "        1.52244774e+00,  1.70494294e+00,  2.07943528e+00,  2.07315946e+00,\n",
       "        2.06811643e+00,  1.40723723e+00,  2.02237657e+00,  1.79988915e+00,\n",
       "       -2.43015289e+00, -1.62812677e+00,  1.83289426e+00,  1.53899644e+00,\n",
       "        1.95858329e+00,  1.13091570e+00, -4.44452489e+00,  1.66908507e+00,\n",
       "       -3.96511771e+00,  2.07847185e+00,  1.61858003e+00, -1.03979843e+00,\n",
       "       -4.65950657e+00,  2.06311071e+00,  1.62320989e+00, -2.43599972e+00,\n",
       "        2.07943497e+00, -4.62994109e-01,  1.66598953e+00,  1.97477969e+00,\n",
       "        1.96876553e+00, -1.16117125e+00,  2.05690042e+00,  1.91991015e+00,\n",
       "       -2.28924560e+00,  2.04747208e+00,  5.29951247e-01,  1.92880033e+00,\n",
       "        2.05850484e+00, -1.48407056e+00,  2.07813764e+00,  2.07943482e+00,\n",
       "       -2.52370454e+00,  1.84937516e+00,  1.94708517e+00])"
      ]
     },
     "execution_count": 18,
     "metadata": {},
     "output_type": "execute_result"
    }
   ],
   "source": [
    "# check whether the saved model is working\n",
    "regr_from_joblib = joblib.load(workdir + '//200915_EYDC9K_RF_model.pkl') \n",
    "regr_from_joblib.predict(test_X)"
   ]
  },
  {
   "cell_type": "code",
   "execution_count": 19,
   "metadata": {},
   "outputs": [
    {
     "data": {
      "image/png": "[encoded data removed]",
      "text/plain": [
       "<Figure size 432x288 with 1 Axes>"
      ]
     },
     "metadata": {
      "needs_background": "light"
     },
     "output_type": "display_data"
    }
   ],
   "source": [
    "# plotting\n",
    "plt.scatter(test_label_array,predicted_value,c='red')\n",
    "plt.xlabel('test_IC50_value')\n",
    "plt.ylabel('predicted_IC50_value')\n",
    "plt.savefig(workdir + '//200915_EYDC9K_RF_plot.png')"
   ]
  },
  {
   "cell_type": "code",
   "execution_count": 20,
   "metadata": {},
   "outputs": [
    {
     "name": "stdout",
     "output_type": "stream",
     "text": [
      "0.7557960767490615\n"
     ]
    }
   ],
   "source": [
    "from sklearn.metrics import r2_score\n",
    "r2_value = r2_score(b,a)\n",
    "print(r2_value)"
   ]
  },
  {
   "cell_type": "code",
   "execution_count": 21,
   "metadata": {},
   "outputs": [
    {
     "data": {
      "text/plain": [
       "LinregressResult(slope=0.7535707397024287, intercept=0.17916079162236231, rvalue=0.8696633005453456, pvalue=1.1751337533944766e-295, stderr=0.013827127767194905)"
      ]
     },
     "execution_count": 21,
     "metadata": {},
     "output_type": "execute_result"
    }
   ],
   "source": [
    "from scipy.stats import linregress\n",
    "linregress(b[0], a[0])"
   ]
  },
  {
   "cell_type": "code",
   "execution_count": 22,
   "metadata": {},
   "outputs": [
    {
     "name": "stdout",
     "output_type": "stream",
     "text": [
      "Final rmse value is = 0.9750944140696027\n"
     ]
    }
   ],
   "source": [
    "# RMSE\n",
    "rse = ((b[0]-a[0])**2).sum()\n",
    "mse = rse / len(b)\n",
    "print(\"Final rmse value is =\",np.sqrt(mse))"
   ]
  }
 ],
 "metadata": {
  "kernelspec": {
   "display_name": "Python 3",
   "language": "python",
   "name": "python3"
  },
  "language_info": {
   "codemirror_mode": {
    "name": "ipython",
    "version": 3
   },
   "file_extension": ".py",
   "mimetype": "text/x-python",
   "name": "python",
   "nbconvert_exporter": "python",
   "pygments_lexer": "ipython3",
   "version": "3.6.9"
  }
 },
 "nbformat": 4,
 "nbformat_minor": 2
}
