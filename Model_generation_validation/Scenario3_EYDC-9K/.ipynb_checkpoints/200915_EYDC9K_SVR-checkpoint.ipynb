{
 "cells": [
  {
   "cell_type": "code",
   "execution_count": 1,
   "metadata": {},
   "outputs": [],
   "source": [
    "import os\n",
    "import pandas as pd\n",
    "import numpy as np\n",
    "from sklearn.svm import SVR\n",
    "import matplotlib.pyplot as plt\n",
    "import random\n",
    "from pandas import DataFrame\n",
    "from datetime import datetime\n",
    "# input file path\n",
    "workdir = \"D://DrugResponsivenessGuideline_log//Github//200914_reupload//Dataset//Scenario3_EYDC-9K\""
   ]
  },
  {
   "cell_type": "code",
   "execution_count": 2,
   "metadata": {},
   "outputs": [],
   "source": [
    "# read input file and index file for training and test set\n",
    "dataset = np.load(workdir + \"//200914_EYDC9K.npz\")\n",
    "ss0 = np.load(workdir + '//200914_EYDC9K_r0_9_1.npz')"
   ]
  },
  {
   "cell_type": "code",
   "execution_count": 3,
   "metadata": {},
   "outputs": [],
   "source": [
    "# input and index file assign\n",
    "x = dataset['x']\n",
    "y = dataset['y']\n",
    "# y_linear = dataset['y_lnIC50']\n",
    "ss0_train = ss0['train']\n",
    "ss0_test = ss0['test']"
   ]
  },
  {
   "cell_type": "code",
   "execution_count": 4,
   "metadata": {},
   "outputs": [],
   "source": [
    "# training and test dataset assign\n",
    "training_image_array, training_label_array = x[ss0_train], y[ss0_train]\n",
    "test_image_array, test_label_array = x[ss0_test], y[ss0_test]\n"
   ]
  },
  {
   "cell_type": "code",
   "execution_count": 5,
   "metadata": {},
   "outputs": [
    {
     "data": {
      "text/plain": [
       "(9590, 41505)"
      ]
     },
     "execution_count": 5,
     "metadata": {},
     "output_type": "execute_result"
    }
   ],
   "source": [
    "# checking the size of dataset\n",
    "x.shape"
   ]
  },
  {
   "cell_type": "code",
   "execution_count": 6,
   "metadata": {},
   "outputs": [
    {
     "data": {
      "text/plain": [
       "(8631, 41505)"
      ]
     },
     "execution_count": 6,
     "metadata": {},
     "output_type": "execute_result"
    }
   ],
   "source": [
    "# checking the size of training set\n",
    "training_image_array.shape"
   ]
  },
  {
   "cell_type": "code",
   "execution_count": 7,
   "metadata": {},
   "outputs": [],
   "source": [
    "train_X, train_y, test_X, test_y = training_image_array, training_label_array, test_image_array, test_label_array\n"
   ]
  },
  {
   "cell_type": "code",
   "execution_count": 8,
   "metadata": {},
   "outputs": [
    {
     "name": "stdout",
     "output_type": "stream",
     "text": [
      "(8631, 41505) (8631,) (959, 41505) (959,)\n"
     ]
    }
   ],
   "source": [
    "print(train_X.shape, train_y.shape, test_X.shape, test_y.shape)"
   ]
  },
  {
   "cell_type": "code",
   "execution_count": 9,
   "metadata": {},
   "outputs": [],
   "source": [
    "# impute nan to zero\n",
    "train_X = np.nan_to_num(train_X)\n",
    "test_X = np.nan_to_num(test_X)"
   ]
  },
  {
   "cell_type": "code",
   "execution_count": 10,
   "metadata": {},
   "outputs": [
    {
     "name": "stdout",
     "output_type": "stream",
     "text": [
      "train_X shape: (8631, 41505)\n",
      "8631 train samples\n",
      "959 test samples\n"
     ]
    }
   ],
   "source": [
    "# data typing and the number of dataset\n",
    "train_X = train_X.astype('float32')\n",
    "test_X = test_X.astype('float32')\n",
    "# train_X /= 255\n",
    "# test_X /= 255\n",
    "print('train_X shape:', train_X.shape)\n",
    "print(train_X.shape[0], 'train samples')\n",
    "print(test_X.shape[0], 'test samples')"
   ]
  },
  {
   "cell_type": "code",
   "execution_count": 11,
   "metadata": {},
   "outputs": [
    {
     "name": "stdout",
     "output_type": "stream",
     "text": [
      "StartTime : 2020-09-15 12:39:24.021824\n",
      "EndTime : 2020-09-15 13:35:54.904744\n"
     ]
    }
   ],
   "source": [
    "\n",
    "StartTime8 = datetime.now()\n",
    "print(\"StartTime :\", StartTime8)\n",
    "# model fitting\n",
    "svr_lin = SVR(C=0.01)\n",
    "y_lin = svr_lin.fit(train_X, train_y).predict(test_X)\n",
    "EndTime8 = datetime.now()\n",
    "print(\"EndTime :\", EndTime8)"
   ]
  },
  {
   "cell_type": "code",
   "execution_count": 12,
   "metadata": {},
   "outputs": [],
   "source": [
    "import matplotlib\n",
    "from matplotlib import pyplot as plt"
   ]
  },
  {
   "cell_type": "code",
   "execution_count": 14,
   "metadata": {},
   "outputs": [],
   "source": [
    "predicted_value = y_lin\n",
    "# saving predicted ln(IC50)s and ln(IC50)s in the test set\n",
    "a = pd.DataFrame(predicted_value)\n",
    "b = pd.DataFrame(test_label_array)\n",
    "c = pd.concat([a,b], axis=1)\n",
    "c.columns=[\"Predicted\",\"Test\"]\n",
    "workdir = \"D://DrugResponsivenessGuideline_log//Github//200914_reupload//Result//EYDC-9K\"\n",
    "c.to_csv(workdir + '//200915_EYDC9K_SVR_pred_and_val_result.csv', index=False)\n"
   ]
  },
  {
   "cell_type": "code",
   "execution_count": 15,
   "metadata": {
    "scrolled": true
   },
   "outputs": [
    {
     "data": {
      "text/html": [
       "<div>\n",
       "<style scoped>\n",
       "    .dataframe tbody tr th:only-of-type {\n",
       "        vertical-align: middle;\n",
       "    }\n",
       "\n",
       "    .dataframe tbody tr th {\n",
       "        vertical-align: top;\n",
       "    }\n",
       "\n",
       "    .dataframe thead th {\n",
       "        text-align: right;\n",
       "    }\n",
       "</style>\n",
       "<table border=\"1\" class=\"dataframe\">\n",
       "  <thead>\n",
       "    <tr style=\"text-align: right;\">\n",
       "      <th></th>\n",
       "      <th>Predicted</th>\n",
       "      <th>Test</th>\n",
       "    </tr>\n",
       "  </thead>\n",
       "  <tbody>\n",
       "    <tr>\n",
       "      <th>0</th>\n",
       "      <td>1.940742</td>\n",
       "      <td>-4.667942</td>\n",
       "    </tr>\n",
       "    <tr>\n",
       "      <th>1</th>\n",
       "      <td>1.978922</td>\n",
       "      <td>2.079442</td>\n",
       "    </tr>\n",
       "    <tr>\n",
       "      <th>2</th>\n",
       "      <td>1.958226</td>\n",
       "      <td>2.079442</td>\n",
       "    </tr>\n",
       "    <tr>\n",
       "      <th>3</th>\n",
       "      <td>1.979491</td>\n",
       "      <td>2.079442</td>\n",
       "    </tr>\n",
       "    <tr>\n",
       "      <th>4</th>\n",
       "      <td>1.979969</td>\n",
       "      <td>2.079442</td>\n",
       "    </tr>\n",
       "  </tbody>\n",
       "</table>\n",
       "</div>"
      ],
      "text/plain": [
       "   Predicted      Test\n",
       "0   1.940742 -4.667942\n",
       "1   1.978922  2.079442\n",
       "2   1.958226  2.079442\n",
       "3   1.979491  2.079442\n",
       "4   1.979969  2.079442"
      ]
     },
     "execution_count": 15,
     "metadata": {},
     "output_type": "execute_result"
    }
   ],
   "source": [
    "# result table\n",
    "c.head()"
   ]
  },
  {
   "cell_type": "code",
   "execution_count": 16,
   "metadata": {},
   "outputs": [
    {
     "data": {
      "text/plain": [
       "(959,)"
      ]
     },
     "execution_count": 16,
     "metadata": {},
     "output_type": "execute_result"
    }
   ],
   "source": [
    "# the length of result table\n",
    "predicted_value.shape"
   ]
  },
  {
   "cell_type": "code",
   "execution_count": 18,
   "metadata": {},
   "outputs": [
    {
     "data": {
      "text/plain": [
       "['D://DrugResponsivenessGuideline_log//Github//200914_reupload//Result//EYDC-9K//200915_EYDC9K_SVR_model.pkl']"
      ]
     },
     "execution_count": 18,
     "metadata": {},
     "output_type": "execute_result"
    }
   ],
   "source": [
    "# model save\n",
    "import pickle\n",
    "from sklearn.externals import joblib\n",
    "joblib.dump(svr_lin, workdir + '//200915_EYDC9K_SVR_model.pkl') \n"
   ]
  },
  {
   "cell_type": "code",
   "execution_count": 19,
   "metadata": {},
   "outputs": [
    {
     "data": {
      "text/plain": [
       "array([1.94074176, 1.9789224 , 1.95822647, 1.9794914 , 1.97996947,\n",
       "       1.96552798, 1.88539902, 1.9694074 , 1.96372456, 1.95600737,\n",
       "       1.85392121, 1.9479698 , 1.9820606 , 1.97994933, 1.90768622,\n",
       "       1.96993771, 1.91919399, 1.9436599 , 1.98475384, 1.97924442,\n",
       "       1.93575604, 1.97776214, 1.96635632, 1.94987306, 1.86010183,\n",
       "       1.97096359, 1.9667826 , 1.94749289, 1.97091293, 1.97882662,\n",
       "       1.94631383, 1.95411241, 1.9384185 , 1.96776535, 1.87615409,\n",
       "       1.97957989, 1.9790708 , 1.88170791, 1.97286172, 1.98446491,\n",
       "       1.9629862 , 1.97946068, 1.9096014 , 1.94551193, 1.9733979 ,\n",
       "       1.97528394, 1.97954952, 1.93325785, 1.97908772, 1.97543484,\n",
       "       1.96864789, 1.97978708, 1.97831016, 1.98247764, 1.9708742 ,\n",
       "       1.97835473, 1.96955134, 1.9344282 , 1.97507545, 1.95430931,\n",
       "       1.97621957, 1.94966582, 1.90384903, 1.90384399, 1.94449353,\n",
       "       1.94515538, 1.93286063, 1.9694954 , 1.9341423 , 1.97814233,\n",
       "       1.97928893, 1.97701817, 1.96168876, 1.89988294, 1.87994264,\n",
       "       1.96727239, 1.97881609, 1.93286988, 1.91536445, 1.96882052,\n",
       "       1.97876305, 1.90133064, 1.96978237, 1.97522096, 1.97587545,\n",
       "       1.96543226, 1.97851521, 1.87370498, 1.97639187, 1.9757692 ,\n",
       "       1.98237569, 1.97045821, 1.97635245, 1.92610566, 1.97922725,\n",
       "       1.97455142, 1.93474668, 1.93927668, 1.94199691, 1.96789721,\n",
       "       1.90127051, 1.92264016, 1.9454423 , 1.96263247, 1.96782043,\n",
       "       1.98089549, 1.86321078, 1.97958442, 1.95389462, 1.96491197,\n",
       "       1.9766566 , 1.9350714 , 1.94229985, 1.97384373, 1.98035314,\n",
       "       1.95302657, 1.98333895, 1.9702196 , 1.98101942, 1.9821109 ,\n",
       "       1.85499291, 1.9816084 , 1.97542818, 1.97283663, 1.98178754,\n",
       "       1.97898246, 1.96092164, 1.97549633, 1.94445985, 1.98048489,\n",
       "       1.98073075, 1.94685921, 1.97956904, 1.97542367, 1.97698376,\n",
       "       1.96021877, 1.95811623, 1.92534552, 1.97260684, 1.94971884,\n",
       "       1.98036864, 1.97681473, 1.94781477, 1.96284435, 1.97939426,\n",
       "       1.93734002, 1.95916719, 1.95550659, 1.96583848, 1.94962565,\n",
       "       1.94876535, 1.96897083, 1.90274183, 1.93570412, 1.97400171,\n",
       "       1.9506657 , 1.97659684, 1.95823267, 1.95030652, 1.8673012 ,\n",
       "       1.85703471, 1.97904643, 1.97669957, 1.93936728, 1.95815069,\n",
       "       1.97075046, 1.98216853, 1.97017981, 1.9307007 , 1.98214083,\n",
       "       1.97086989, 1.87435923, 1.98196545, 1.96845572, 1.93672511,\n",
       "       1.85694054, 1.97202748, 1.93022935, 1.97320739, 1.97969242,\n",
       "       1.97650279, 1.93012233, 1.98016419, 1.94042365, 1.97433307,\n",
       "       1.91626531, 1.97148779, 1.97889044, 1.97926444, 1.95347601,\n",
       "       1.88756434, 1.9721943 , 1.92791261, 1.92804283, 1.91733409,\n",
       "       1.97271629, 1.98166368, 1.97233008, 1.96457519, 1.88509106,\n",
       "       1.98094642, 1.97891178, 1.94652773, 1.98169834, 1.971471  ,\n",
       "       1.94811624, 1.97594542, 1.98518642, 1.94739507, 1.94399989,\n",
       "       1.96787606, 1.97708881, 1.97552872, 1.98287252, 1.97493899,\n",
       "       1.90317492, 1.97143346, 1.97475798, 1.87491869, 1.96999357,\n",
       "       1.97877349, 1.92591368, 1.90015709, 1.98006171, 1.96151797,\n",
       "       1.97889342, 1.94074524, 1.96515181, 1.83543105, 1.96654687,\n",
       "       1.97688193, 1.97725287, 1.97489952, 1.89824043, 1.97674215,\n",
       "       1.97946183, 1.98004497, 1.97313758, 1.93912975, 1.97780551,\n",
       "       1.95861482, 1.95027315, 1.97901834, 1.97090833, 1.93916978,\n",
       "       1.97632416, 1.97656367, 1.98110052, 1.97161121, 1.96991287,\n",
       "       1.98009208, 1.9765406 , 1.97618685, 1.90743907, 1.93595277,\n",
       "       1.95789165, 1.97870987, 1.94961277, 1.97984015, 1.86435186,\n",
       "       1.96932167, 1.97501734, 1.87971823, 1.97739649, 1.97151449,\n",
       "       1.96157692, 1.96800492, 1.98074459, 1.96312481, 1.95665277,\n",
       "       1.9795531 , 1.97717799, 1.97829922, 1.93292837, 1.97617006,\n",
       "       1.92351664, 1.97597316, 1.84744551, 1.94391317, 1.94147146,\n",
       "       1.97271688, 1.9733692 , 1.95973495, 1.92921095, 1.97898784,\n",
       "       1.9762509 , 1.97540072, 1.92234236, 1.96422746, 1.97780931,\n",
       "       1.94547975, 1.97569892, 1.96542973, 1.9440743 , 1.97234222,\n",
       "       1.94910771, 1.97807236, 1.97116589, 1.9652344 , 1.9774349 ,\n",
       "       1.97564952, 1.95189243, 1.97095545, 1.97936049, 1.94007521,\n",
       "       1.94887415, 1.94256898, 1.98083565, 1.96440604, 1.9809131 ,\n",
       "       1.97445869, 1.97783482, 1.95588406, 1.96851306, 1.98153353,\n",
       "       1.93756435, 1.96670253, 1.97948377, 1.91628654, 1.97538269,\n",
       "       1.95104271, 1.9384191 , 1.98246949, 1.97985236, 1.95858197,\n",
       "       1.9690109 , 1.97900163, 1.96782753, 1.97665174, 1.97337384,\n",
       "       1.95846249, 1.97861376, 1.95070662, 1.97965617, 1.95737573,\n",
       "       1.93857412, 1.9696928 , 1.94382611, 1.97027881, 1.97644765,\n",
       "       1.93077934, 1.85384528, 1.90523252, 1.97835539, 1.97977855,\n",
       "       1.98012968, 1.93046304, 1.9743235 , 1.96418169, 1.94786236,\n",
       "       1.95598898, 1.93209243, 1.97533897, 1.87381337, 1.96419603,\n",
       "       1.97959733, 1.97926841, 1.98230827, 1.98093352, 1.9732089 ,\n",
       "       1.95795624, 1.97035648, 1.94726464, 1.92806637, 1.95083049,\n",
       "       1.89871034, 1.98063896, 1.97986121, 1.98158043, 1.97286366,\n",
       "       1.97592994, 1.97659638, 1.96709763, 1.98011755, 1.91481322,\n",
       "       1.93454809, 1.96595315, 1.97815402, 1.98009951, 1.94811024,\n",
       "       1.96759069, 1.98031087, 1.97534314, 1.94051479, 1.95799096,\n",
       "       1.97752965, 1.97917303, 1.98058046, 1.95192146, 1.96319901,\n",
       "       1.97825547, 1.97738861, 1.98105678, 1.95899807, 1.95196632,\n",
       "       1.9790986 , 1.95595179, 1.97792219, 1.97064029, 1.94999461,\n",
       "       1.95856995, 1.97056295, 1.96391725, 1.92487172, 1.9208048 ,\n",
       "       1.97703499, 1.96968745, 1.96865526, 1.94920636, 1.97965481,\n",
       "       1.97111261, 1.9758929 , 1.97189648, 1.96497089, 1.9076188 ,\n",
       "       1.97260815, 1.96748672, 1.87462917, 1.97896544, 1.96844067,\n",
       "       1.96556491, 1.97828509, 1.97989258, 1.95549225, 1.96729796,\n",
       "       1.98314165, 1.89970172, 1.90371175, 1.96876872, 1.94864839,\n",
       "       1.96777831, 1.95210836, 1.93863393, 1.95501099, 1.97633778,\n",
       "       1.97976292, 1.98027556, 1.93880051, 1.97599384, 1.94666416,\n",
       "       1.94542821, 1.97541442, 1.97964879, 1.93944867, 1.97402504,\n",
       "       1.9739973 , 1.98147192, 1.95374047, 1.91834539, 1.94989265,\n",
       "       1.85874891, 1.92055696, 1.94737882, 1.98078804, 1.94668959,\n",
       "       1.92496738, 1.94686623, 1.97580246, 1.97884717, 1.954466  ,\n",
       "       1.96990555, 1.9774323 , 1.97469062, 1.97876847, 1.97194447,\n",
       "       1.97744438, 1.97747465, 1.97895454, 1.92134604, 1.95512462,\n",
       "       1.97458758, 1.97429892, 1.98208948, 1.97331695, 1.85811135,\n",
       "       1.97845631, 1.97979559, 1.9822357 , 1.94873323, 1.97239907,\n",
       "       1.97624794, 1.97685236, 1.97914304, 1.86418968, 1.97918568,\n",
       "       1.82563677, 1.91313311, 1.96553489, 1.98114849, 1.97284381,\n",
       "       1.97493327, 1.97690702, 1.91673013, 1.96508514, 1.93133329,\n",
       "       1.96737315, 1.97964502, 1.98069793, 1.97394009, 1.98029504,\n",
       "       1.97897381, 1.97954904, 1.97722365, 1.94674881, 1.97894173,\n",
       "       1.94969324, 1.97042852, 1.96438578, 1.96522483, 1.95100662,\n",
       "       1.94407628, 1.97691342, 1.9747397 , 1.97094185, 1.9777912 ,\n",
       "       1.97082288, 1.93571361, 1.97397226, 1.97139563, 1.9791952 ,\n",
       "       1.96537943, 1.84623967, 1.9776683 , 1.97328064, 1.97378949,\n",
       "       1.97019381, 1.9795637 , 1.93326237, 1.97100443, 1.93970667,\n",
       "       1.96155646, 1.97840566, 1.94912135, 1.97640739, 1.97399305,\n",
       "       1.93499726, 1.95585355, 1.94532097, 1.97493504, 1.933872  ,\n",
       "       1.95645072, 1.9771967 , 1.96808993, 1.97882885, 1.98296056,\n",
       "       1.85130474, 1.97852772, 1.97949388, 1.9786701 , 1.98159611,\n",
       "       1.96562516, 1.97040236, 1.98223024, 1.97295142, 1.91798299,\n",
       "       1.97480904, 1.97259935, 1.97471801, 1.95030006, 1.97653274,\n",
       "       1.94709492, 1.97887073, 1.94274793, 1.95454762, 1.95101042,\n",
       "       1.95582538, 1.94215678, 1.94548226, 1.97650462, 1.97968843,\n",
       "       1.96761481, 1.97341647, 1.97963277, 1.97201763, 1.97226293,\n",
       "       1.97293691, 1.9680808 , 1.9557015 , 1.9069912 , 1.97607743,\n",
       "       1.9788847 , 1.98022845, 1.98058717, 1.9704439 , 1.86536298,\n",
       "       1.98130369, 1.97389799, 1.94857297, 1.97915885, 1.85868899,\n",
       "       1.98576585, 1.96575837, 1.97915094, 1.96883323, 1.97892552,\n",
       "       1.97521795, 1.95198445, 1.96768727, 1.97268113, 1.97722817,\n",
       "       1.97454226, 1.9226762 , 1.97880774, 1.9761747 , 1.96966466,\n",
       "       1.97852159, 1.97670906, 1.97682421, 1.98037369, 1.95154095,\n",
       "       1.97482036, 1.94512394, 1.98053678, 1.96665655, 1.97246833,\n",
       "       1.94507864, 1.96661803, 1.93195564, 1.97292689, 1.97772451,\n",
       "       1.98015283, 1.94748652, 1.9815781 , 1.95047921, 1.946329  ,\n",
       "       1.89883703, 1.9510941 , 1.97277102, 1.96032899, 1.96424216,\n",
       "       1.94972109, 1.97687886, 1.97855792, 1.94951427, 1.95536805,\n",
       "       1.94112923, 1.97615143, 1.9440878 , 1.97946736, 1.97712402,\n",
       "       1.96219328, 1.98016143, 1.9777226 , 1.962591  , 1.97530917,\n",
       "       1.97252049, 1.98580111, 1.97909064, 1.9584534 , 1.97907286,\n",
       "       1.97336665, 1.97870001, 1.96533391, 1.94988355, 1.97901758,\n",
       "       1.97131152, 1.96411374, 1.94566156, 1.9791848 , 1.97964128,\n",
       "       1.97807803, 1.92442111, 1.9643234 , 1.94733025, 1.93779331,\n",
       "       1.93979458, 1.92983905, 1.94821136, 1.96726574, 1.97349526,\n",
       "       1.97826605, 1.97606261, 1.88487406, 1.97081881, 1.83358356,\n",
       "       1.94522029, 1.97382118, 1.97908761, 1.98131203, 1.91046085,\n",
       "       1.98004798, 1.96125411, 1.97870256, 1.94148357, 1.83930352,\n",
       "       1.94516163, 1.9723404 , 1.98043891, 1.96835336, 1.94878889,\n",
       "       1.96934962, 1.94543385, 1.9790621 , 1.85942831, 1.9825564 ,\n",
       "       1.95164808, 1.97940745, 1.95950367, 1.97761715, 1.97563969,\n",
       "       1.97684952, 1.96217884, 1.97461021, 1.97191192, 1.9781872 ,\n",
       "       1.94626319, 1.975225  , 1.97985596, 1.95891284, 1.91189184,\n",
       "       1.96058772, 1.90184557, 1.96635804, 1.98198227, 1.94785477,\n",
       "       1.98164827, 1.97947006, 1.96508804, 1.97832095, 1.97319151,\n",
       "       1.97917097, 1.96304667, 1.97024088, 1.97851955, 1.95358239,\n",
       "       1.93325474, 1.96557524, 1.97538742, 1.96328714, 1.94744337,\n",
       "       1.97685966, 1.96383847, 1.9688127 , 1.97118428, 1.97945383,\n",
       "       1.93283489, 1.96878513, 1.91028668, 1.95571392, 1.9681475 ,\n",
       "       1.97049392, 1.90732049, 1.97625471, 1.94807124, 1.97696445,\n",
       "       1.86926885, 1.97676929, 1.97910543, 1.97920009, 1.95867566,\n",
       "       1.94536133, 1.9709319 , 1.96948705, 1.94410205, 1.97821336,\n",
       "       1.9794329 , 1.97644763, 1.96946062, 1.94022266, 1.94363979,\n",
       "       1.97944512, 1.97697864, 1.88051864, 1.97738554, 1.97686911,\n",
       "       1.93559195, 1.98031764, 1.97995604, 1.96192006, 1.97529422,\n",
       "       1.96435093, 1.89252479, 1.91881594, 1.97071839, 1.96722039,\n",
       "       1.98022875, 1.959147  , 1.86421903, 1.98229489, 1.98011804,\n",
       "       1.96292566, 1.95892946, 1.9671877 , 1.95845364, 1.98008548,\n",
       "       1.96681932, 1.97886955, 1.97765349, 1.97747263, 1.95971844,\n",
       "       1.96946037, 1.9280762 , 1.87819068, 1.95276694, 1.96506784,\n",
       "       1.86829682, 1.97951648, 1.97301388, 1.96570078, 1.98002924,\n",
       "       1.96849902, 1.97529663, 1.92971288, 1.94818782, 1.86167946,\n",
       "       1.97915144, 1.91119272, 1.97965094, 1.95310994, 1.97761258,\n",
       "       1.97297604, 1.9742045 , 1.92700757, 1.97931838, 1.874068  ,\n",
       "       1.96525253, 1.9691758 , 1.94456802, 1.96041309, 1.97979491,\n",
       "       1.96933866, 1.97864418, 1.97706611, 1.9745057 , 1.9591736 ,\n",
       "       1.97989953, 1.96456305, 1.96256481, 1.9764348 , 1.90361163,\n",
       "       1.97216834, 1.97598821, 1.97954369, 1.97580479, 1.96848331,\n",
       "       1.97850114, 1.94323599, 1.97587891, 1.92581284, 1.96567256,\n",
       "       1.95199385, 1.97920726, 1.97040052, 1.96632344, 1.95246251,\n",
       "       1.96878728, 1.97918208, 1.97339293, 1.96345539, 1.97084292,\n",
       "       1.98176138, 1.97011797, 1.94935312, 1.97214701, 1.96400087,\n",
       "       1.98024437, 1.94068017, 1.93989301, 1.97561158, 1.92443983,\n",
       "       1.9788086 , 1.97645775, 1.97815474, 1.95241858, 1.96252073,\n",
       "       1.87411796, 1.97034073, 1.85584745, 1.96688978, 1.97208468,\n",
       "       1.96937494, 1.90004603, 1.93127332, 1.86055274, 1.9378122 ,\n",
       "       1.97875713, 1.96259923, 1.98223899, 1.954222  , 1.98095949,\n",
       "       1.96994813, 1.95372325, 1.98130405, 1.98314113, 1.97940664,\n",
       "       1.94633065, 1.9794393 , 1.97566242, 1.96510224, 1.97186172,\n",
       "       1.98254078, 1.97234429, 1.97141442, 1.96656043, 1.86644993,\n",
       "       1.98024867, 1.97129335, 1.9762818 , 1.94963895, 1.97649711,\n",
       "       1.89838199, 1.95195429, 1.95957581, 1.97958452, 1.95130226,\n",
       "       1.98013749, 1.95591591, 1.96853715, 1.9734542 , 1.94649544,\n",
       "       1.97681405, 1.95240414, 1.97988736, 1.9566303 , 1.96198207,\n",
       "       1.95081409, 1.97765763, 1.96962663, 1.98049251, 1.9792311 ,\n",
       "       1.9775625 , 1.982266  , 1.97437487, 1.96558014, 1.95128013,\n",
       "       1.95106749, 1.97834854, 1.97610812, 1.98010263, 1.86744229,\n",
       "       1.87934011, 1.95617016, 1.92726019, 1.98215725, 1.95961404,\n",
       "       1.94681969, 1.89605874, 1.97999405, 1.95194688, 1.96548508,\n",
       "       1.97475357, 1.94870682, 1.98020882, 1.97719318, 1.97554447,\n",
       "       1.94645385, 1.97856176, 1.98331938, 1.93920998, 1.97736075,\n",
       "       1.97550003, 1.9784491 , 1.98133233, 1.95245849, 1.97055224,\n",
       "       1.97905158, 1.96524227, 1.92941529, 1.97893072])"
      ]
     },
     "execution_count": 19,
     "metadata": {},
     "output_type": "execute_result"
    }
   ],
   "source": [
    "# check whether the saved model is working\n",
    "regr_from_joblib = joblib.load(workdir + '//200915_EYDC9K_SVR_model.pkl') \n",
    "regr_from_joblib.predict(test_X)"
   ]
  },
  {
   "cell_type": "code",
   "execution_count": 20,
   "metadata": {},
   "outputs": [
    {
     "data": {
      "image/png": "[encoded data removed]",
      "text/plain": [
       "<Figure size 432x288 with 1 Axes>"
      ]
     },
     "metadata": {
      "needs_background": "light"
     },
     "output_type": "display_data"
    }
   ],
   "source": [
    "# plotting\n",
    "plt.scatter(test_label_array,predicted_value,c='red')\n",
    "plt.xlabel('test_IC50_value')\n",
    "plt.ylabel('predicted_IC50_value')\n",
    "plt.savefig(workdir + '//200915_EYDC9K_SVR_plot.png')"
   ]
  },
  {
   "cell_type": "code",
   "execution_count": 21,
   "metadata": {},
   "outputs": [
    {
     "name": "stdout",
     "output_type": "stream",
     "text": [
      "-0.27106810432132167\n"
     ]
    }
   ],
   "source": [
    "# R-squared value\n",
    "from sklearn.metrics import r2_score\n",
    "r2_value = r2_score(b,a)\n",
    "print(r2_value)"
   ]
  },
  {
   "cell_type": "code",
   "execution_count": 22,
   "metadata": {},
   "outputs": [
    {
     "data": {
      "text/plain": [
       "LinregressResult(slope=0.0064082905964677195, intercept=1.9526652582864623, rvalue=0.4395270528339505, pvalue=1.4391474998599427e-46, stderr=0.0004233385914959607)"
      ]
     },
     "execution_count": 22,
     "metadata": {},
     "output_type": "execute_result"
    }
   ],
   "source": [
    "from scipy.stats import linregress\n",
    "linregress(b[0], a[0])"
   ]
  },
  {
   "cell_type": "code",
   "execution_count": 23,
   "metadata": {},
   "outputs": [
    {
     "name": "stdout",
     "output_type": "stream",
     "text": [
      "Final rmse value is = 2.224614484335254\n"
     ]
    }
   ],
   "source": [
    "# RMSE\n",
    "rse = ((b[0]-a[0])**2).sum()\n",
    "mse = rse / len(b)\n",
    "print(\"Final rmse value is =\",np.sqrt(mse))"
   ]
  },
  {
   "cell_type": "code",
   "execution_count": null,
   "metadata": {},
   "outputs": [],
   "source": []
  }
 ],
 "metadata": {
  "kernelspec": {
   "display_name": "Python 3",
   "language": "python",
   "name": "python3"
  },
  "language_info": {
   "codemirror_mode": {
    "name": "ipython",
    "version": 3
   },
   "file_extension": ".py",
   "mimetype": "text/x-python",
   "name": "python",
   "nbconvert_exporter": "python",
   "pygments_lexer": "ipython3",
   "version": "3.6.9"
  }
 },
 "nbformat": 4,
 "nbformat_minor": 2
}
