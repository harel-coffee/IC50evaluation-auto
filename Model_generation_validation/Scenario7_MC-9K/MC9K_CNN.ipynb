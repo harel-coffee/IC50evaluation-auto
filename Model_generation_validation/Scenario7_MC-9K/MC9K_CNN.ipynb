{
 "cells": [
  {
   "cell_type": "code",
   "execution_count": 2,
   "metadata": {},
   "outputs": [],
   "source": [
    "import os\n",
    "import pandas as pd\n",
    "import numpy as np\n",
    "import tensorflow as tf\n",
    "import random\n",
    "from pandas import DataFrame\n",
    "from datetime import datetime\n",
    "import keras\n",
    "from keras.models import Sequential,Input,Model\n",
    "from keras.layers import Dense, Dropout, Flatten, Reshape, Activation\n",
    "from keras.layers import Conv1D, MaxPooling1D ,AveragePooling1D\n",
    "from keras.layers.normalization import BatchNormalization\n",
    "from keras.layers.advanced_activations import LeakyReLU\n",
    "from keras import backend as K\n",
    "from keras.callbacks import ModelCheckpoint, CSVLogger\n",
    "from keras.optimizers import Adam, RMSprop\n",
    "from keras.layers import Input, Dense, Conv1D, MaxPooling1D\n",
    "from keras.layers import Flatten, Concatenate, Dropout, Reshape, BatchNormalization\n",
    "from keras.models import Model\n",
    "workdir = \"C://Users//a//Desktop//Ronny_TF//Ronny_Deep_vs_CDRscan//method_comparison_w_ccle_exp_or_mut_data//dataset//ccle_exp_mut_dataset\""
   ]
  },
  {
   "cell_type": "code",
   "execution_count": 3,
   "metadata": {},
   "outputs": [
    {
     "name": "stdout",
     "output_type": "stream",
     "text": [
      "[name: \"/device:CPU:0\"\n",
      "device_type: \"CPU\"\n",
      "memory_limit: 268435456\n",
      "locality {\n",
      "}\n",
      "incarnation: 16431969587262265314\n",
      ", name: \"/device:GPU:0\"\n",
      "device_type: \"GPU\"\n",
      "memory_limit: 9234234737\n",
      "locality {\n",
      "  bus_id: 1\n",
      "}\n",
      "incarnation: 2711665130555425465\n",
      "physical_device_desc: \"device: 0, name: GeForce GTX 1080 Ti, pci bus id: 0000:01:00.0, compute capability: 6.1\"\n",
      "]\n"
     ]
    }
   ],
   "source": [
    "from tensorflow.python.client import device_lib\n",
    "print(device_lib.list_local_devices())\n",
    "\n",
    "\n",
    "# 출처: https://3months.tistory.com/206 [Deep Play]"
   ]
  },
  {
   "cell_type": "code",
   "execution_count": 4,
   "metadata": {},
   "outputs": [],
   "source": [
    "dataset = np.load(workdir + \"//190507_ccle_cell_gdsc_mut_drug_vali_for_aron.npz\")\n",
    "ss0 = np.load(workdir + '//190507_shuffle_split_ccle_cell_gdsc_mut_r0_9_1.npz')"
   ]
  },
  {
   "cell_type": "code",
   "execution_count": 5,
   "metadata": {},
   "outputs": [],
   "source": [
    "x = dataset['x']\n",
    "y = dataset['y']\n",
    "# y_linear = dataset['y_lnIC50']\n",
    "ss0_train = ss0['train']\n",
    "ss0_test = ss0['test']"
   ]
  },
  {
   "cell_type": "code",
   "execution_count": 6,
   "metadata": {},
   "outputs": [],
   "source": [
    "training_image_array, training_label_array = x[ss0_train], y[ss0_train]\n",
    "test_image_array, test_label_array = x[ss0_test], y[ss0_test]\n",
    "\n",
    "# In[9]:\n",
    "# ori = training_image_array\n",
    "# bat = np.zeros((ori.shape[0],178))\n",
    "# cat = np.hstack([ori,bat])\n",
    "# training_image_array = cat\n",
    "\n",
    "# # In[8]:\n",
    "# training_image_array.shape\n",
    "\n",
    "# # In[10]:\n",
    "# ori2 = test_image_array\n",
    "# bat2 = np.zeros((ori2.shape[0],178))\n",
    "# cat2 = np.hstack([ori2,bat2])\n",
    "# test_image_array = cat2\n"
   ]
  },
  {
   "cell_type": "code",
   "execution_count": 7,
   "metadata": {},
   "outputs": [
    {
     "name": "stdout",
     "output_type": "stream",
     "text": [
      "1 2\n"
     ]
    }
   ],
   "source": [
    "# In[15]:\n",
    "ab =[]\n",
    "for i in range(100,200):\n",
    "    ab.append(len(training_image_array) % i)\n",
    "    \n",
    "print(min(ab), ab.index(min(ab)))"
   ]
  },
  {
   "cell_type": "code",
   "execution_count": 8,
   "metadata": {},
   "outputs": [
    {
     "data": {
      "text/plain": [
       "(8727, 21213)"
      ]
     },
     "execution_count": 8,
     "metadata": {},
     "output_type": "execute_result"
    }
   ],
   "source": [
    "x.shape"
   ]
  },
  {
   "cell_type": "code",
   "execution_count": 9,
   "metadata": {},
   "outputs": [
    {
     "data": {
      "text/plain": [
       "(7855, 21213)"
      ]
     },
     "execution_count": 9,
     "metadata": {},
     "output_type": "execute_result"
    }
   ],
   "source": [
    "training_image_array.shape"
   ]
  },
  {
   "cell_type": "code",
   "execution_count": 10,
   "metadata": {},
   "outputs": [],
   "source": [
    "# In[21]:\n",
    "\n",
    "num_classes = 1\n",
    "learning_rate = 0.0002\n",
    "training_epochs = 150\n",
    "batch_size = 100\n",
    "img_rows, img_cols = 154, 154\n"
   ]
  },
  {
   "cell_type": "code",
   "execution_count": 11,
   "metadata": {},
   "outputs": [],
   "source": [
    "train_X, train_y, test_X, test_y = training_image_array, training_label_array, test_image_array, test_label_array\n",
    "\n",
    "# if K.image_data_format() == 'channels_first':\n",
    "#     train_X = train_X.reshape(train_X.shape[0], 1, img_rows, img_cols)\n",
    "#     test_X = test_X.reshape(x_test.shape[0], 1, img_rows, img_cols)\n",
    "#     input_shape = (1, img_rows, img_cols)\n",
    "# else:\n",
    "#     train_X = train_X.reshape(train_X.shape[0], img_rows, img_cols, 1)\n",
    "#     test_X = test_X.reshape(test_X.shape[0], img_rows, img_cols, 1)\n",
    "#     input_shape = (img_rows, img_cols, 1)\n"
   ]
  },
  {
   "cell_type": "code",
   "execution_count": 12,
   "metadata": {},
   "outputs": [
    {
     "name": "stdout",
     "output_type": "stream",
     "text": [
      "21213\n"
     ]
    }
   ],
   "source": [
    "shape_value = train_X.shape[1]\n",
    "print(shape_value)"
   ]
  },
  {
   "cell_type": "code",
   "execution_count": 13,
   "metadata": {},
   "outputs": [],
   "source": [
    "train_X_cell = train_X[:,:shape_value]\n",
    "train_X_drug =train_X[:,shape_value:]\n",
    "test_X_cell = test_X[:,:shape_value]\n",
    "test_X_drug = test_X[:,shape_value:]"
   ]
  },
  {
   "cell_type": "code",
   "execution_count": 14,
   "metadata": {},
   "outputs": [
    {
     "data": {
      "text/plain": [
       "(7855, 21213)"
      ]
     },
     "execution_count": 14,
     "metadata": {},
     "output_type": "execute_result"
    }
   ],
   "source": [
    "train_X_cell.shape"
   ]
  },
  {
   "cell_type": "code",
   "execution_count": 15,
   "metadata": {},
   "outputs": [],
   "source": [
    "train_X_cell = train_X_cell.reshape(train_X_cell.shape[0], train_X_cell.shape[1], 1)\n",
    "train_X_drug = train_X_drug.reshape(train_X_drug.shape[0], train_X_drug.shape[1], 1)\n",
    "test_X_cell = test_X_cell.reshape(test_X_cell.shape[0], test_X_cell.shape[1], 1)\n",
    "test_X_drug = test_X_drug.reshape(test_X_drug.shape[0], test_X_drug.shape[1], 1)\n",
    "#input_shape = (img_rows, img_cols, 1)"
   ]
  },
  {
   "cell_type": "code",
   "execution_count": 16,
   "metadata": {},
   "outputs": [
    {
     "name": "stdout",
     "output_type": "stream",
     "text": [
      "(7855, 21213, 1) (7855, 0, 1) (7855,) (872, 21213, 1) (872, 0, 1) (872,)\n"
     ]
    }
   ],
   "source": [
    "print(train_X_cell.shape,train_X_drug.shape, train_y.shape, test_X_cell.shape,test_X_drug.shape, test_y.shape)"
   ]
  },
  {
   "cell_type": "code",
   "execution_count": 17,
   "metadata": {},
   "outputs": [
    {
     "data": {
      "text/plain": [
       "(7855, 21213, 1)"
      ]
     },
     "execution_count": 17,
     "metadata": {},
     "output_type": "execute_result"
    }
   ],
   "source": [
    "train_X_cell.shape"
   ]
  },
  {
   "cell_type": "code",
   "execution_count": 18,
   "metadata": {},
   "outputs": [
    {
     "name": "stdout",
     "output_type": "stream",
     "text": [
      "train_X shape: (7855, 21213)\n",
      "7855 train samples\n",
      "872 test samples\n"
     ]
    }
   ],
   "source": [
    "train_X_cell = train_X_cell.astype('float32')\n",
    "test_X_cell = test_X_cell.astype('float32')\n",
    "train_X_drug = train_X_drug.astype('float32')\n",
    "test_X_drug = test_X_drug.astype('float32')\n",
    "# train_X /= 255\n",
    "# test_X /= 255\n",
    "print('train_X shape:', train_X.shape)\n",
    "print(train_X.shape[0], 'train samples')\n",
    "print(test_X.shape[0], 'test samples')"
   ]
  },
  {
   "cell_type": "code",
   "execution_count": 19,
   "metadata": {},
   "outputs": [
    {
     "name": "stdout",
     "output_type": "stream",
     "text": [
      "WARNING:tensorflow:From C:\\Users\\a\\Anaconda3\\lib\\site-packages\\tensorflow\\python\\util\\deprecation.py:497: calling conv1d (from tensorflow.python.ops.nn_ops) with data_format=NHWC is deprecated and will be removed in a future version.\n",
      "Instructions for updating:\n",
      "`NHWC` for data_format is deprecated, use `NWC` instead\n"
     ]
    }
   ],
   "source": [
    "with K.tf.device('/GPU:0'):\n",
    "    input_cell = Input(shape=(train_X_cell.shape[1], train_X_cell.shape[2]), name='cell_input')\n",
    "#     input_drug = Input(shape=(train_X_drug.shape[1], train_X_drug.shape[2]), name='drug_input')\n",
    "\n",
    "    conv_cell_line_1 = Conv1D(filters=50, kernel_size=700, strides=5, activation='tanh')(input_cell)\n",
    "    maxpool_cell_line_1 = MaxPooling1D(pool_size=5)(conv_cell_line_1)\n",
    "    conv_cell_line_2 = Conv1D(filters=30, kernel_size=5, strides=2, activation='relu')(maxpool_cell_line_1)\n",
    "    maxpool_cell_line_2 = MaxPooling1D(pool_size=10)(conv_cell_line_2)\n",
    "    flatten_cell_line = Flatten()(maxpool_cell_line_2)\n",
    "    dense_cell_line = Dense(100, activation='relu')(flatten_cell_line)\n",
    "    dropout_cell_line = Dropout(0.1)(dense_cell_line)\n",
    "\n",
    "#     conv_drug_1 = Conv1D(filters=50, kernel_size=200, strides=3, activation='tanh')(input_drug)\n",
    "#     maxpool_drug_1 = MaxPooling1D(pool_size=5)(conv_drug_1)\n",
    "#     conv_drug_2 = Conv1D(filters=30, kernel_size=50, strides=5, activation='relu')(maxpool_drug_1)\n",
    "#     maxpool_drug_2 = MaxPooling1D(pool_size=10)(conv_drug_2)\n",
    "#     flatten_drug = Flatten()(maxpool_drug_2)\n",
    "#     dense_drug = Dense(100, activation='relu')(flatten_drug)\n",
    "#     dropout_drug = Dropout(0.1)(dense_drug)\n",
    "\n",
    "#     concatenate = Concatenate()([dropout_cell_line, dropout_drug])\n",
    "    dense_1 = Dense(300, activation='tanh')(dropout_cell_line)\n",
    "    dropout_1 = Dropout(0.1)(dense_1)\n",
    "    reshape_1 = Reshape((300,1))(dropout_1)\n",
    "    conv_1 = Conv1D(filters=30, kernel_size=150, strides=1, activation='relu')(reshape_1)\n",
    "    maxpool_1 = MaxPooling1D(pool_size=2)(conv_1)\n",
    "    conv_2 = Conv1D(filters=10, kernel_size=5, strides=1, activation='relu')(maxpool_1)\n",
    "    maxpool_2 = MaxPooling1D(pool_size=3)(conv_2)\n",
    "    conv_3 = Conv1D(filters=5, kernel_size=5, strides=1, activation='relu')(maxpool_2)\n",
    "    maxpool_3 = MaxPooling1D(pool_size=3)(conv_3)\n",
    "    dropout_2 = Dropout(0.1)(maxpool_3)\n",
    "    flatten = Flatten()(dropout_2)\n",
    "    dropout_3 = Dropout(0.2)(flatten)\n",
    "    output = Dense(1, activation='linear', name='pred_lnIC50')(dropout_3)\n",
    "    model = Model(inputs=[input_cell], outputs=output, name='MasterModel')\n"
   ]
  },
  {
   "cell_type": "code",
   "execution_count": 20,
   "metadata": {
    "scrolled": true
   },
   "outputs": [
    {
     "name": "stdout",
     "output_type": "stream",
     "text": [
      "_________________________________________________________________\n",
      "Layer (type)                 Output Shape              Param #   \n",
      "=================================================================\n",
      "cell_input (InputLayer)      (None, 21213, 1)          0         \n",
      "_________________________________________________________________\n",
      "conv1d_1 (Conv1D)            (None, 4103, 50)          35050     \n",
      "_________________________________________________________________\n",
      "max_pooling1d_1 (MaxPooling1 (None, 820, 50)           0         \n",
      "_________________________________________________________________\n",
      "conv1d_2 (Conv1D)            (None, 408, 30)           7530      \n",
      "_________________________________________________________________\n",
      "max_pooling1d_2 (MaxPooling1 (None, 40, 30)            0         \n",
      "_________________________________________________________________\n",
      "flatten_1 (Flatten)          (None, 1200)              0         \n",
      "_________________________________________________________________\n",
      "dense_1 (Dense)              (None, 100)               120100    \n",
      "_________________________________________________________________\n",
      "dropout_1 (Dropout)          (None, 100)               0         \n",
      "_________________________________________________________________\n",
      "dense_2 (Dense)              (None, 300)               30300     \n",
      "_________________________________________________________________\n",
      "dropout_2 (Dropout)          (None, 300)               0         \n",
      "_________________________________________________________________\n",
      "reshape_1 (Reshape)          (None, 300, 1)            0         \n",
      "_________________________________________________________________\n",
      "conv1d_3 (Conv1D)            (None, 151, 30)           4530      \n",
      "_________________________________________________________________\n",
      "max_pooling1d_3 (MaxPooling1 (None, 75, 30)            0         \n",
      "_________________________________________________________________\n",
      "conv1d_4 (Conv1D)            (None, 71, 10)            1510      \n",
      "_________________________________________________________________\n",
      "max_pooling1d_4 (MaxPooling1 (None, 23, 10)            0         \n",
      "_________________________________________________________________\n",
      "conv1d_5 (Conv1D)            (None, 19, 5)             255       \n",
      "_________________________________________________________________\n",
      "max_pooling1d_5 (MaxPooling1 (None, 6, 5)              0         \n",
      "_________________________________________________________________\n",
      "dropout_3 (Dropout)          (None, 6, 5)              0         \n",
      "_________________________________________________________________\n",
      "flatten_2 (Flatten)          (None, 30)                0         \n",
      "_________________________________________________________________\n",
      "dropout_4 (Dropout)          (None, 30)                0         \n",
      "_________________________________________________________________\n",
      "pred_lnIC50 (Dense)          (None, 1)                 31        \n",
      "=================================================================\n",
      "Total params: 199,306\n",
      "Trainable params: 199,306\n",
      "Non-trainable params: 0\n",
      "_________________________________________________________________\n"
     ]
    }
   ],
   "source": [
    "model.summary()"
   ]
  },
  {
   "cell_type": "code",
   "execution_count": 21,
   "metadata": {},
   "outputs": [],
   "source": [
    "config = tf.ConfigProto()\n",
    "config.gpu_options.allow_growth = True\n",
    "sess = tf.Session(config=config)"
   ]
  },
  {
   "cell_type": "code",
   "execution_count": 22,
   "metadata": {
    "scrolled": false
   },
   "outputs": [
    {
     "name": "stdout",
     "output_type": "stream",
     "text": [
      "StartTime : 2019-05-16 15:03:10.104937\n",
      "Train on 7855 samples, validate on 872 samples\n",
      "Epoch 1/150\n",
      "7855/7855 [==============================] - 4s 541us/step - loss: 4.2847 - mean_squared_error: 4.2847 - mean_absolute_error: 1.7282 - val_loss: 3.7296 - val_mean_squared_error: 3.7296 - val_mean_absolute_error: 1.5505\n",
      "Epoch 2/150\n",
      "7855/7855 [==============================] - 3s 360us/step - loss: 4.0490 - mean_squared_error: 4.0490 - mean_absolute_error: 1.5820 - val_loss: 3.7398 - val_mean_squared_error: 3.7398 - val_mean_absolute_error: 1.5527\n",
      "Epoch 3/150\n",
      "7855/7855 [==============================] - 3s 355us/step - loss: 4.0434 - mean_squared_error: 4.0434 - mean_absolute_error: 1.5848 - val_loss: 3.8017 - val_mean_squared_error: 3.8017 - val_mean_absolute_error: 1.6130\n",
      "Epoch 4/150\n",
      "7855/7855 [==============================] - 3s 361us/step - loss: 4.0549 - mean_squared_error: 4.0549 - mean_absolute_error: 1.5987 - val_loss: 3.7087 - val_mean_squared_error: 3.7087 - val_mean_absolute_error: 1.4999: 4.0833 - mean_absolute_err\n",
      "Epoch 5/150\n",
      "7855/7855 [==============================] - 3s 360us/step - loss: 4.0162 - mean_squared_error: 4.0162 - mean_absolute_error: 1.5754 - val_loss: 3.7031 - val_mean_squared_error: 3.7031 - val_mean_absolute_error: 1.4760\n",
      "Epoch 6/150\n",
      "7855/7855 [==============================] - 3s 364us/step - loss: 4.0225 - mean_squared_error: 4.0225 - mean_absolute_error: 1.5773 - val_loss: 3.7431 - val_mean_squared_error: 3.7431 - val_mean_absolute_error: 1.5448\n",
      "Epoch 7/150\n",
      "7855/7855 [==============================] - 3s 360us/step - loss: 4.0116 - mean_squared_error: 4.0116 - mean_absolute_error: 1.5793 - val_loss: 3.7524 - val_mean_squared_error: 3.7524 - val_mean_absolute_error: 1.5650ared_error: 3.8927 - mean_absolute_err - ETA: 0s - loss: 3.9848 - mean_squared_error: 3.9848 - mean_absolute_err\n",
      "Epoch 8/150\n",
      "7855/7855 [==============================] - 3s 359us/step - loss: 3.9892 - mean_squared_error: 3.9892 - mean_absolute_error: 1.5633 - val_loss: 3.7284 - val_mean_squared_error: 3.7284 - val_mean_absolute_error: 1.4815\n",
      "Epoch 9/150\n",
      "7855/7855 [==============================] - 3s 360us/step - loss: 3.9606 - mean_squared_error: 3.9606 - mean_absolute_error: 1.5570 - val_loss: 3.7596 - val_mean_squared_error: 3.7596 - val_mean_absolute_error: 1.5470- mean_squared_error: 3.9209 - mean_abso\n",
      "Epoch 10/150\n",
      "7855/7855 [==============================] - 3s 362us/step - loss: 3.9489 - mean_squared_error: 3.9489 - mean_absolute_error: 1.5471 - val_loss: 3.7742 - val_mean_squared_error: 3.7742 - val_mean_absolute_error: 1.5616\n",
      "Epoch 11/150\n",
      "7855/7855 [==============================] - 3s 360us/step - loss: 3.9582 - mean_squared_error: 3.9582 - mean_absolute_error: 1.5586 - val_loss: 3.7576 - val_mean_squared_error: 3.7576 - val_mean_absolute_error: 1.5244\n",
      "Epoch 12/150\n",
      "7855/7855 [==============================] - 3s 362us/step - loss: 3.9235 - mean_squared_error: 3.9235 - mean_absolute_error: 1.5457 - val_loss: 3.7772 - val_mean_squared_error: 3.7772 - val_mean_absolute_error: 1.4732\n",
      "Epoch 13/150\n",
      "7855/7855 [==============================] - 3s 360us/step - loss: 3.9225 - mean_squared_error: 3.9225 - mean_absolute_error: 1.5357 - val_loss: 3.7914 - val_mean_squared_error: 3.7914 - val_mean_absolute_error: 1.5231\n",
      "Epoch 14/150\n",
      "7855/7855 [==============================] - 3s 362us/step - loss: 3.9059 - mean_squared_error: 3.9059 - mean_absolute_error: 1.5365 - val_loss: 3.7934 - val_mean_squared_error: 3.7934 - val_mean_absolute_error: 1.4746\n",
      "Epoch 15/150\n",
      "7855/7855 [==============================] - 3s 358us/step - loss: 3.9040 - mean_squared_error: 3.9040 - mean_absolute_error: 1.5392 - val_loss: 3.8069 - val_mean_squared_error: 3.8069 - val_mean_absolute_error: 1.4500\n",
      "Epoch 16/150\n",
      "7855/7855 [==============================] - 3s 362us/step - loss: 3.8913 - mean_squared_error: 3.8913 - mean_absolute_error: 1.5251 - val_loss: 3.8176 - val_mean_squared_error: 3.8176 - val_mean_absolute_error: 1.4522\n",
      "Epoch 17/150\n",
      "7855/7855 [==============================] - 3s 357us/step - loss: 3.9010 - mean_squared_error: 3.9010 - mean_absolute_error: 1.5398 - val_loss: 3.8142 - val_mean_squared_error: 3.8142 - val_mean_absolute_error: 1.4760\n",
      "Epoch 18/150\n",
      "7855/7855 [==============================] - 3s 359us/step - loss: 3.8851 - mean_squared_error: 3.8851 - mean_absolute_error: 1.5163 - val_loss: 3.8324 - val_mean_squared_error: 3.8324 - val_mean_absolute_error: 1.5577ab\n",
      "Epoch 19/150\n",
      "7855/7855 [==============================] - ETA: 0s - loss: 3.8744 - mean_squared_error: 3.8744 - mean_absolute_error: 1.52 - 3s 360us/step - loss: 3.8743 - mean_squared_error: 3.8743 - mean_absolute_error: 1.5259 - val_loss: 3.8441 - val_mean_squared_error: 3.8441 - val_mean_absolute_error: 1.4792\n",
      "Epoch 20/150\n",
      "7855/7855 [==============================] - 3s 360us/step - loss: 3.8835 - mean_squared_error: 3.8835 - mean_absolute_error: 1.5203 - val_loss: 3.8082 - val_mean_squared_error: 3.8082 - val_mean_absolute_error: 1.5234\n",
      "Epoch 21/150\n",
      "7855/7855 [==============================] - 3s 362us/step - loss: 3.8771 - mean_squared_error: 3.8771 - mean_absolute_error: 1.5227 - val_loss: 3.8517 - val_mean_squared_error: 3.8517 - val_mean_absolute_error: 1.5189\n",
      "Epoch 22/150\n",
      "7855/7855 [==============================] - 3s 360us/step - loss: 3.8741 - mean_squared_error: 3.8741 - mean_absolute_error: 1.5245 - val_loss: 3.8473 - val_mean_squared_error: 3.8473 - val_mean_absolute_error: 1.5298\n",
      "Epoch 23/150\n",
      "7855/7855 [==============================] - 3s 361us/step - loss: 3.8559 - mean_squared_error: 3.8559 - mean_absolute_error: 1.5198 - val_loss: 3.8527 - val_mean_squared_error: 3.8527 - val_mean_absolute_error: 1.4920 loss: 3.9044 - mean_squared_error: 3.\n",
      "Epoch 24/150\n",
      "7855/7855 [==============================] - 3s 363us/step - loss: 3.8611 - mean_squared_error: 3.8611 - mean_absolute_error: 1.5140 - val_loss: 3.8431 - val_mean_squared_error: 3.8431 - val_mean_absolute_error: 1.5274\n",
      "Epoch 25/150\n",
      "7855/7855 [==============================] - 3s 361us/step - loss: 3.8407 - mean_squared_error: 3.8407 - mean_absolute_error: 1.5110 - val_loss: 3.8568 - val_mean_squared_error: 3.8568 - val_mean_absolute_error: 1.4773\n",
      "Epoch 26/150\n",
      "7855/7855 [==============================] - 3s 361us/step - loss: 3.8598 - mean_squared_error: 3.8598 - mean_absolute_error: 1.5096 - val_loss: 3.8545 - val_mean_squared_error: 3.8545 - val_mean_absolute_error: 1.5318\n",
      "Epoch 27/150\n",
      "7855/7855 [==============================] - 3s 359us/step - loss: 3.8581 - mean_squared_error: 3.8581 - mean_absolute_error: 1.5206 - val_loss: 3.8442 - val_mean_squared_error: 3.8442 - val_mean_absolute_error: 1.4901\n",
      "Epoch 28/150\n",
      "7855/7855 [==============================] - 3s 359us/step - loss: 3.8442 - mean_squared_error: 3.8442 - mean_absolute_error: 1.5068 - val_loss: 3.8641 - val_mean_squared_error: 3.8641 - val_mean_absolute_error: 1.5975\n",
      "Epoch 29/150\n",
      "7855/7855 [==============================] - 3s 362us/step - loss: 3.8697 - mean_squared_error: 3.8697 - mean_absolute_error: 1.5217 - val_loss: 3.8613 - val_mean_squared_error: 3.8613 - val_mean_absolute_error: 1.5529\n",
      "Epoch 30/150\n",
      "7855/7855 [==============================] - 3s 360us/step - loss: 3.8602 - mean_squared_error: 3.8602 - mean_absolute_error: 1.5204 - val_loss: 3.8525 - val_mean_squared_error: 3.8525 - val_mean_absolute_error: 1.5170\n",
      "Epoch 31/150\n",
      "7855/7855 [==============================] - 3s 361us/step - loss: 3.8515 - mean_squared_error: 3.8515 - mean_absolute_error: 1.5163 - val_loss: 3.8400 - val_mean_squared_error: 3.8400 - val_mean_absolute_error: 1.5119\n",
      "Epoch 32/150\n",
      "7855/7855 [==============================] - ETA: 0s - loss: 3.8426 - mean_squared_error: 3.8426 - mean_absolute_error: 1.5065 ETA: 1s - loss: 3.7817 - mean_squar - 3s 359us/step - loss: 3.8381 - mean_squared_error: 3.8381 - mean_absolute_error: 1.5068 - val_loss: 3.8823 - val_mean_squared_error: 3.8823 - val_mean_absolute_error: 1.5803\n",
      "Epoch 33/150\n",
      "7855/7855 [==============================] - 3s 357us/step - loss: 3.8501 - mean_squared_error: 3.8501 - mean_absolute_error: 1.5167 - val_loss: 3.9037 - val_mean_squared_error: 3.9037 - val_mean_absolute_error: 1.5316\n",
      "Epoch 34/150\n",
      "7855/7855 [==============================] - 3s 362us/step - loss: 3.8463 - mean_squared_error: 3.8463 - mean_absolute_error: 1.5127 - val_loss: 3.8649 - val_mean_squared_error: 3.8649 - val_mean_absolute_error: 1.5021ared_error\n",
      "Epoch 35/150\n",
      "7855/7855 [==============================] - 3s 360us/step - loss: 3.8500 - mean_squared_error: 3.8500 - mean_absolute_error: 1.5094 - val_loss: 3.8787 - val_mean_squared_error: 3.8787 - val_mean_absolute_error: 1.5021\n",
      "Epoch 36/150\n",
      "7855/7855 [==============================] - 3s 365us/step - loss: 3.8418 - mean_squared_error: 3.8418 - mean_absolute_error: 1.5100 - val_loss: 3.8948 - val_mean_squared_error: 3.8948 - val_mean_absolute_error: 1.5468\n",
      "Epoch 37/150\n",
      "7855/7855 [==============================] - 3s 361us/step - loss: 3.8354 - mean_squared_error: 3.8354 - mean_absolute_error: 1.5092 - val_loss: 3.8667 - val_mean_squared_error: 3.8667 - val_mean_absolute_error: 1.5129281 - mean\n",
      "Epoch 38/150\n",
      "7855/7855 [==============================] - 3s 360us/step - loss: 3.8518 - mean_squared_error: 3.8518 - mean_absolute_error: 1.5053 - val_loss: 3.8919 - val_mean_squared_error: 3.8919 - val_mean_absolute_error: 1.5903\n",
      "Epoch 39/150\n",
      "7855/7855 [==============================] - 3s 370us/step - loss: 3.8524 - mean_squared_error: 3.8524 - mean_absolute_error: 1.5196 - val_loss: 3.8979 - val_mean_squared_error: 3.8979 - val_mean_absolute_error: 1.5617\n",
      "Epoch 40/150\n",
      "7855/7855 [==============================] - 3s 361us/step - loss: 3.8524 - mean_squared_error: 3.8524 - mean_absolute_error: 1.5157 - val_loss: 3.9226 - val_mean_squared_error: 3.9226 - val_mean_absolute_error: 1.5414\n",
      "Epoch 41/150\n",
      "7855/7855 [==============================] - 3s 364us/step - loss: 3.8375 - mean_squared_error: 3.8375 - mean_absolute_error: 1.5067 - val_loss: 3.8769 - val_mean_squared_error: 3.8769 - val_mean_absolute_error: 1.5405\n",
      "Epoch 42/150\n",
      "7855/7855 [==============================] - 3s 359us/step - loss: 3.8427 - mean_squared_error: 3.8427 - mean_absolute_error: 1.5086 - val_loss: 3.8826 - val_mean_squared_error: 3.8826 - val_mean_absolute_error: 1.5250\n",
      "Epoch 43/150\n",
      "7855/7855 [==============================] - 3s 360us/step - loss: 3.8328 - mean_squared_error: 3.8328 - mean_absolute_error: 1.5009 - val_loss: 3.8838 - val_mean_squared_error: 3.8838 - val_mean_absolute_error: 1.5613\n",
      "Epoch 44/150\n",
      "7855/7855 [==============================] - 3s 362us/step - loss: 3.8422 - mean_squared_error: 3.8422 - mean_absolute_error: 1.5170 - val_loss: 3.8786 - val_mean_squared_error: 3.8786 - val_mean_absolute_error: 1.5007\n",
      "Epoch 45/150\n",
      "7855/7855 [==============================] - 3s 361us/step - loss: 3.8300 - mean_squared_error: 3.8300 - mean_absolute_error: 1.5017 - val_loss: 3.8681 - val_mean_squared_error: 3.8681 - val_mean_absolute_error: 1.5230\n",
      "Epoch 46/150\n",
      "7855/7855 [==============================] - 3s 367us/step - loss: 3.8379 - mean_squared_error: 3.8379 - mean_absolute_error: 1.5093 - val_loss: 3.8960 - val_mean_squared_error: 3.8960 - val_mean_absolute_error: 1.5403\n",
      "Epoch 47/150\n",
      "7855/7855 [==============================] - 3s 360us/step - loss: 3.8327 - mean_squared_error: 3.8327 - mean_absolute_error: 1.5031 - val_loss: 3.8892 - val_mean_squared_error: 3.8892 - val_mean_absolute_error: 1.5518\n",
      "Epoch 48/150\n",
      "7855/7855 [==============================] - 3s 363us/step - loss: 3.8408 - mean_squared_error: 3.8408 - mean_absolute_error: 1.5123 - val_loss: 3.8846 - val_mean_squared_error: 3.8846 - val_mean_absolute_error: 1.5407\n",
      "Epoch 49/150\n",
      "7855/7855 [==============================] - 3s 360us/step - loss: 3.8348 - mean_squared_error: 3.8348 - mean_absolute_error: 1.5076 - val_loss: 3.8967 - val_mean_squared_error: 3.8967 - val_mean_absolute_error: 1.5590\n",
      "Epoch 50/150\n",
      "7855/7855 [==============================] - 3s 361us/step - loss: 3.8398 - mean_squared_error: 3.8398 - mean_absolute_error: 1.5101 - val_loss: 3.8654 - val_mean_squared_error: 3.8654 - val_mean_absolute_error: 1.4699\n",
      "Epoch 51/150\n",
      "7855/7855 [==============================] - 3s 361us/step - loss: 3.8480 - mean_squared_error: 3.8480 - mean_absolute_error: 1.5079 - val_loss: 3.8792 - val_mean_squared_error: 3.8792 - val_mean_absolute_error: 1.5316\n",
      "Epoch 52/150\n",
      "7855/7855 [==============================] - 3s 360us/step - loss: 3.8324 - mean_squared_error: 3.8324 - mean_absolute_error: 1.5134 - val_loss: 3.9114 - val_mean_squared_error: 3.9114 - val_mean_absolute_error: 1.5017\n",
      "Epoch 53/150\n",
      "7855/7855 [==============================] - 3s 367us/step - loss: 3.8305 - mean_squared_error: 3.8305 - mean_absolute_error: 1.5009 - val_loss: 3.8640 - val_mean_squared_error: 3.8640 - val_mean_absolute_error: 1.5375\n",
      "Epoch 54/150\n",
      "7855/7855 [==============================] - 3s 362us/step - loss: 3.8319 - mean_squared_error: 3.8319 - mean_absolute_error: 1.5039 - val_loss: 3.9118 - val_mean_squared_error: 3.9118 - val_mean_absolute_error: 1.5369\n",
      "Epoch 55/150\n",
      "7855/7855 [==============================] - 3s 362us/step - loss: 3.8403 - mean_squared_error: 3.8403 - mean_absolute_error: 1.5105 - val_loss: 3.8714 - val_mean_squared_error: 3.8714 - val_mean_absolute_error: 1.5589\n",
      "Epoch 56/150\n",
      "7855/7855 [==============================] - 3s 372us/step - loss: 3.8325 - mean_squared_error: 3.8325 - mean_absolute_error: 1.5048 - val_loss: 3.9058 - val_mean_squared_error: 3.9058 - val_mean_absolute_error: 1.5258\n",
      "Epoch 57/150\n",
      "7855/7855 [==============================] - 3s 360us/step - loss: 3.8308 - mean_squared_error: 3.8308 - mean_absolute_error: 1.5006 - val_loss: 3.8861 - val_mean_squared_error: 3.8861 - val_mean_absolute_error: 1.5573\n",
      "Epoch 58/150\n",
      "7855/7855 [==============================] - 3s 370us/step - loss: 3.8329 - mean_squared_error: 3.8329 - mean_absolute_error: 1.5095 - val_loss: 3.9062 - val_mean_squared_error: 3.9062 - val_mean_absolute_error: 1.5326\n",
      "Epoch 59/150\n",
      "7855/7855 [==============================] - 3s 363us/step - loss: 3.8267 - mean_squared_error: 3.8267 - mean_absolute_error: 1.5053 - val_loss: 3.8856 - val_mean_squared_error: 3.8856 - val_mean_absolute_error: 1.5354\n",
      "Epoch 60/150\n",
      "7855/7855 [==============================] - 3s 361us/step - loss: 3.8278 - mean_squared_error: 3.8278 - mean_absolute_error: 1.5008 - val_loss: 3.8602 - val_mean_squared_error: 3.8602 - val_mean_absolute_error: 1.5576\n",
      "Epoch 61/150\n",
      "7855/7855 [==============================] - 3s 367us/step - loss: 3.8388 - mean_squared_error: 3.8388 - mean_absolute_error: 1.5088 - val_loss: 3.9289 - val_mean_squared_error: 3.9289 - val_mean_absolute_error: 1.5766\n",
      "Epoch 62/150\n",
      "7855/7855 [==============================] - 3s 361us/step - loss: 3.8209 - mean_squared_error: 3.8209 - mean_absolute_error: 1.5075 - val_loss: 3.8756 - val_mean_squared_error: 3.8756 - val_mean_absolute_error: 1.5168\n",
      "Epoch 63/150\n",
      "7855/7855 [==============================] - 3s 366us/step - loss: 3.8311 - mean_squared_error: 3.8311 - mean_absolute_error: 1.5085 - val_loss: 3.8961 - val_mean_squared_error: 3.8961 - val_mean_absolute_error: 1.5179\n",
      "Epoch 64/150\n",
      "7855/7855 [==============================] - 3s 360us/step - loss: 3.8244 - mean_squared_error: 3.8244 - mean_absolute_error: 1.5033 - val_loss: 3.9222 - val_mean_squared_error: 3.9222 - val_mean_absolute_error: 1.5278- mean_squared_error: 3.8314 - mean_absolute\n",
      "Epoch 65/150\n",
      "7855/7855 [==============================] - 3s 365us/step - loss: 3.8194 - mean_squared_error: 3.8194 - mean_absolute_error: 1.4931 - val_loss: 3.8736 - val_mean_squared_error: 3.8736 - val_mean_absolute_error: 1.5387\n",
      "Epoch 66/150\n",
      "7855/7855 [==============================] - 3s 362us/step - loss: 3.8282 - mean_squared_error: 3.8282 - mean_absolute_error: 1.5059 - val_loss: 3.9118 - val_mean_squared_error: 3.9118 - val_mean_absolute_error: 1.5328ared_error: 3.8316 - mean_absolute_error: 1.48 - ETA: 1s - loss: 3.8254 - mean_squared_error: 3.\n",
      "Epoch 67/150\n",
      "7855/7855 [==============================] - 3s 359us/step - loss: 3.8233 - mean_squared_error: 3.8233 - mean_absolute_error: 1.5011 - val_loss: 3.8878 - val_mean_squared_error: 3.8878 - val_mean_absolute_error: 1.5906\n",
      "Epoch 68/150\n",
      "7855/7855 [==============================] - 3s 373us/step - loss: 3.8231 - mean_squared_error: 3.8231 - mean_absolute_error: 1.5072 - val_loss: 3.9041 - val_mean_squared_error: 3.9041 - val_mean_absolute_error: 1.5315\n"
     ]
    },
    {
     "name": "stdout",
     "output_type": "stream",
     "text": [
      "Epoch 69/150\n",
      "7855/7855 [==============================] - 3s 360us/step - loss: 3.8337 - mean_squared_error: 3.8337 - mean_absolute_error: 1.5117 - val_loss: 3.8957 - val_mean_squared_error: 3.8957 - val_mean_absolute_error: 1.5221\n",
      "Epoch 70/150\n",
      "7855/7855 [==============================] - 3s 363us/step - loss: 3.8339 - mean_squared_error: 3.8339 - mean_absolute_error: 1.5009 - val_loss: 3.8875 - val_mean_squared_error: 3.8875 - val_mean_absolute_error: 1.5260\n",
      "Epoch 71/150\n",
      "7855/7855 [==============================] - 3s 367us/step - loss: 3.8259 - mean_squared_error: 3.8259 - mean_absolute_error: 1.5050 - val_loss: 3.8840 - val_mean_squared_error: 3.8840 - val_mean_absolute_error: 1.5294\n",
      "Epoch 72/150\n",
      "7855/7855 [==============================] - 3s 361us/step - loss: 3.8214 - mean_squared_error: 3.8214 - mean_absolute_error: 1.5016 - val_loss: 3.9209 - val_mean_squared_error: 3.9209 - val_mean_absolute_error: 1.5261\n",
      "Epoch 73/150\n",
      "7855/7855 [==============================] - 3s 369us/step - loss: 3.8205 - mean_squared_error: 3.8205 - mean_absolute_error: 1.5049 - val_loss: 3.8848 - val_mean_squared_error: 3.8848 - val_mean_absolute_error: 1.5445\n",
      "Epoch 74/150\n",
      "7855/7855 [==============================] - 3s 363us/step - loss: 3.8258 - mean_squared_error: 3.8258 - mean_absolute_error: 1.5033 - val_loss: 3.9038 - val_mean_squared_error: 3.9038 - val_mean_absolute_error: 1.5119\n",
      "Epoch 75/150\n",
      "7855/7855 [==============================] - 3s 362us/step - loss: 3.8254 - mean_squared_error: 3.8254 - mean_absolute_error: 1.5042 - val_loss: 3.9027 - val_mean_squared_error: 3.9027 - val_mean_absolute_error: 1.5202\n",
      "Epoch 76/150\n",
      "7855/7855 [==============================] - 3s 361us/step - loss: 3.8197 - mean_squared_error: 3.8197 - mean_absolute_error: 1.5025 - val_loss: 3.8947 - val_mean_squared_error: 3.8947 - val_mean_absolute_error: 1.5330\n",
      "Epoch 77/150\n",
      "7855/7855 [==============================] - 3s 361us/step - loss: 3.8227 - mean_squared_error: 3.8227 - mean_absolute_error: 1.5017 - val_loss: 3.8854 - val_mean_squared_error: 3.8854 - val_mean_absolute_error: 1.5651\n",
      "Epoch 78/150\n",
      "7855/7855 [==============================] - 3s 369us/step - loss: 3.8168 - mean_squared_error: 3.8168 - mean_absolute_error: 1.5078 - val_loss: 3.9128 - val_mean_squared_error: 3.9128 - val_mean_absolute_error: 1.5062\n",
      "Epoch 79/150\n",
      "7855/7855 [==============================] - 3s 362us/step - loss: 3.8168 - mean_squared_error: 3.8168 - mean_absolute_error: 1.4936 - val_loss: 3.9066 - val_mean_squared_error: 3.9066 - val_mean_absolute_error: 1.5747\n",
      "Epoch 80/150\n",
      "7855/7855 [==============================] - 3s 367us/step - loss: 3.8186 - mean_squared_error: 3.8186 - mean_absolute_error: 1.5053 - val_loss: 3.9096 - val_mean_squared_error: 3.9096 - val_mean_absolute_error: 1.5402\n",
      "Epoch 81/150\n",
      "7855/7855 [==============================] - 3s 360us/step - loss: 3.8203 - mean_squared_error: 3.8203 - mean_absolute_error: 1.4980 - val_loss: 3.8965 - val_mean_squared_error: 3.8965 - val_mean_absolute_error: 1.5576\n",
      "Epoch 82/150\n",
      "7855/7855 [==============================] - 3s 360us/step - loss: 3.8206 - mean_squared_error: 3.8206 - mean_absolute_error: 1.5036 - val_loss: 3.9055 - val_mean_squared_error: 3.9055 - val_mean_absolute_error: 1.5336_error: 3.8606 - m\n",
      "Epoch 83/150\n",
      "7855/7855 [==============================] - 3s 362us/step - loss: 3.8426 - mean_squared_error: 3.8426 - mean_absolute_error: 1.5122 - val_loss: 3.9182 - val_mean_squared_error: 3.9182 - val_mean_absolute_error: 1.5590\n",
      "Epoch 84/150\n",
      "7855/7855 [==============================] - 3s 361us/step - loss: 3.8100 - mean_squared_error: 3.8100 - mean_absolute_error: 1.5012 - val_loss: 3.9121 - val_mean_squared_error: 3.9121 - val_mean_absolute_error: 1.5261\n",
      "Epoch 85/150\n",
      "7855/7855 [==============================] - 3s 363us/step - loss: 3.8161 - mean_squared_error: 3.8161 - mean_absolute_error: 1.4976 - val_loss: 3.9038 - val_mean_squared_error: 3.9038 - val_mean_absolute_error: 1.5348\n",
      "Epoch 86/150\n",
      "7855/7855 [==============================] - 3s 359us/step - loss: 3.8128 - mean_squared_error: 3.8128 - mean_absolute_error: 1.5029 - val_loss: 3.9223 - val_mean_squared_error: 3.9223 - val_mean_absolute_error: 1.5290\n",
      "Epoch 87/150\n",
      "7855/7855 [==============================] - 3s 361us/step - loss: 3.8243 - mean_squared_error: 3.8243 - mean_absolute_error: 1.5024 - val_loss: 3.8874 - val_mean_squared_error: 3.8874 - val_mean_absolute_error: 1.5612\n",
      "Epoch 88/150\n",
      "7855/7855 [==============================] - 3s 363us/step - loss: 3.8217 - mean_squared_error: 3.8217 - mean_absolute_error: 1.5055 - val_loss: 3.9033 - val_mean_squared_error: 3.9033 - val_mean_absolute_error: 1.5405\n",
      "Epoch 89/150\n",
      "7855/7855 [==============================] - 3s 359us/step - loss: 3.8160 - mean_squared_error: 3.8160 - mean_absolute_error: 1.5000 - val_loss: 3.8957 - val_mean_squared_error: 3.8957 - val_mean_absolute_error: 1.5625\n",
      "Epoch 90/150\n",
      "7855/7855 [==============================] - 3s 364us/step - loss: 3.8148 - mean_squared_error: 3.8148 - mean_absolute_error: 1.5002 - val_loss: 3.9001 - val_mean_squared_error: 3.9001 - val_mean_absolute_error: 1.5555\n",
      "Epoch 91/150\n",
      "7855/7855 [==============================] - 3s 359us/step - loss: 3.8098 - mean_squared_error: 3.8098 - mean_absolute_error: 1.4994 - val_loss: 3.8945 - val_mean_squared_error: 3.8945 - val_mean_absolute_error: 1.5405\n",
      "Epoch 92/150\n",
      "7855/7855 [==============================] - 3s 358us/step - loss: 3.8244 - mean_squared_error: 3.8244 - mean_absolute_error: 1.5009 - val_loss: 3.9353 - val_mean_squared_error: 3.9353 - val_mean_absolute_error: 1.5486\n",
      "Epoch 93/150\n",
      "7855/7855 [==============================] - 3s 365us/step - loss: 3.8082 - mean_squared_error: 3.8082 - mean_absolute_error: 1.4943 - val_loss: 3.9153 - val_mean_squared_error: 3.9153 - val_mean_absolute_error: 1.5668\n",
      "Epoch 94/150\n",
      "7855/7855 [==============================] - 3s 360us/step - loss: 3.8175 - mean_squared_error: 3.8175 - mean_absolute_error: 1.5001 - val_loss: 3.8841 - val_mean_squared_error: 3.8841 - val_mean_absolute_error: 1.5632\n",
      "Epoch 95/150\n",
      "7855/7855 [==============================] - 3s 365us/step - loss: 3.8275 - mean_squared_error: 3.8275 - mean_absolute_error: 1.5110 - val_loss: 3.9237 - val_mean_squared_error: 3.9237 - val_mean_absolute_error: 1.5618\n",
      "Epoch 96/150\n",
      "7855/7855 [==============================] - 3s 359us/step - loss: 3.8266 - mean_squared_error: 3.8266 - mean_absolute_error: 1.5014 - val_loss: 3.9169 - val_mean_squared_error: 3.9169 - val_mean_absolute_error: 1.5425 3.8410 - mean_squared_err\n",
      "Epoch 97/150\n",
      "7855/7855 [==============================] - 3s 365us/step - loss: 3.8257 - mean_squared_error: 3.8257 - mean_absolute_error: 1.5086 - val_loss: 3.9020 - val_mean_squared_error: 3.9020 - val_mean_absolute_error: 1.5318\n",
      "Epoch 98/150\n",
      "7855/7855 [==============================] - 3s 366us/step - loss: 3.8139 - mean_squared_error: 3.8139 - mean_absolute_error: 1.5015 - val_loss: 3.9384 - val_mean_squared_error: 3.9384 - val_mean_absolute_error: 1.5335\n",
      "Epoch 99/150\n",
      "7855/7855 [==============================] - 3s 362us/step - loss: 3.8312 - mean_squared_error: 3.8312 - mean_absolute_error: 1.5055 - val_loss: 3.8969 - val_mean_squared_error: 3.8969 - val_mean_absolute_error: 1.5399\n",
      "Epoch 100/150\n",
      "7855/7855 [==============================] - 3s 361us/step - loss: 3.8197 - mean_squared_error: 3.8197 - mean_absolute_error: 1.5025 - val_loss: 3.9103 - val_mean_squared_error: 3.9103 - val_mean_absolute_error: 1.5410\n",
      "Epoch 101/150\n",
      "7855/7855 [==============================] - 3s 359us/step - loss: 3.8160 - mean_squared_error: 3.8160 - mean_absolute_error: 1.5044 - val_loss: 3.9163 - val_mean_squared_error: 3.9163 - val_mean_absolute_error: 1.5486\n",
      "Epoch 102/150\n",
      "7855/7855 [==============================] - 3s 365us/step - loss: 3.8147 - mean_squared_error: 3.8147 - mean_absolute_error: 1.5016 - val_loss: 3.9274 - val_mean_squared_error: 3.9274 - val_mean_absolute_error: 1.5077\n",
      "Epoch 103/150\n",
      "7855/7855 [==============================] - 3s 360us/step - loss: 3.8140 - mean_squared_error: 3.8140 - mean_absolute_error: 1.4998 - val_loss: 3.9227 - val_mean_squared_error: 3.9227 - val_mean_absolute_error: 1.5478\n",
      "Epoch 104/150\n",
      "7855/7855 [==============================] - 3s 362us/step - loss: 3.8138 - mean_squared_error: 3.8138 - mean_absolute_error: 1.4995 - val_loss: 3.9296 - val_mean_squared_error: 3.9296 - val_mean_absolute_error: 1.5418\n",
      "Epoch 105/150\n",
      "7855/7855 [==============================] - 3s 366us/step - loss: 3.8154 - mean_squared_error: 3.8154 - mean_absolute_error: 1.5044 - val_loss: 3.9155 - val_mean_squared_error: 3.9155 - val_mean_absolute_error: 1.5029\n",
      "Epoch 106/150\n",
      "7855/7855 [==============================] - 3s 360us/step - loss: 3.8119 - mean_squared_error: 3.8119 - mean_absolute_error: 1.4981 - val_loss: 3.9038 - val_mean_squared_error: 3.9038 - val_mean_absolute_error: 1.5430\n",
      "Epoch 107/150\n",
      "7855/7855 [==============================] - 3s 365us/step - loss: 3.8161 - mean_squared_error: 3.8161 - mean_absolute_error: 1.5056 - val_loss: 3.9226 - val_mean_squared_error: 3.9226 - val_mean_absolute_error: 1.5285solute_error: \n",
      "Epoch 108/150\n",
      "7855/7855 [==============================] - 3s 362us/step - loss: 3.8166 - mean_squared_error: 3.8166 - mean_absolute_error: 1.5022 - val_loss: 3.8936 - val_mean_squared_error: 3.8936 - val_mean_absolute_error: 1.5108\n",
      "Epoch 109/150\n",
      "7855/7855 [==============================] - 3s 359us/step - loss: 3.8190 - mean_squared_error: 3.8190 - mean_absolute_error: 1.5010 - val_loss: 3.9003 - val_mean_squared_error: 3.9003 - val_mean_absolute_error: 1.5418\n",
      "Epoch 110/150\n",
      "7855/7855 [==============================] - 3s 361us/step - loss: 3.8177 - mean_squared_error: 3.8177 - mean_absolute_error: 1.5013 - val_loss: 3.9195 - val_mean_squared_error: 3.9195 - val_mean_absolute_error: 1.5346\n",
      "Epoch 111/150\n",
      "7855/7855 [==============================] - 3s 361us/step - loss: 3.8125 - mean_squared_error: 3.8125 - mean_absolute_error: 1.5035 - val_loss: 3.9316 - val_mean_squared_error: 3.9316 - val_mean_absolute_error: 1.5167\n",
      "Epoch 112/150\n",
      "7855/7855 [==============================] - 3s 364us/step - loss: 3.8177 - mean_squared_error: 3.8177 - mean_absolute_error: 1.4955 - val_loss: 3.8918 - val_mean_squared_error: 3.8918 - val_mean_absolute_error: 1.5611\n",
      "Epoch 113/150\n",
      "7855/7855 [==============================] - 3s 363us/step - loss: 3.8085 - mean_squared_error: 3.8085 - mean_absolute_error: 1.5021 - val_loss: 3.9233 - val_mean_squared_error: 3.9233 - val_mean_absolute_error: 1.5235\n",
      "Epoch 114/150\n",
      "7855/7855 [==============================] - 3s 362us/step - loss: 3.8131 - mean_squared_error: 3.8131 - mean_absolute_error: 1.4970 - val_loss: 3.9176 - val_mean_squared_error: 3.9176 - val_mean_absolute_error: 1.5433\n",
      "Epoch 115/150\n",
      "7855/7855 [==============================] - 3s 364us/step - loss: 3.8142 - mean_squared_error: 3.8142 - mean_absolute_error: 1.4980 - val_loss: 3.9403 - val_mean_squared_error: 3.9403 - val_mean_absolute_error: 1.5393\n",
      "Epoch 116/150\n",
      "7855/7855 [==============================] - 3s 362us/step - loss: 3.8311 - mean_squared_error: 3.8311 - mean_absolute_error: 1.5058 - val_loss: 3.8850 - val_mean_squared_error: 3.8850 - val_mean_absolute_error: 1.5518\n",
      "Epoch 117/150\n",
      "7855/7855 [==============================] - 3s 365us/step - loss: 3.8166 - mean_squared_error: 3.8166 - mean_absolute_error: 1.5062 - val_loss: 3.9061 - val_mean_squared_error: 3.9061 - val_mean_absolute_error: 1.5294\n",
      "Epoch 118/150\n",
      "7855/7855 [==============================] - 3s 363us/step - loss: 3.8141 - mean_squared_error: 3.8141 - mean_absolute_error: 1.4948 - val_loss: 3.9082 - val_mean_squared_error: 3.9082 - val_mean_absolute_error: 1.5654\n",
      "Epoch 119/150\n",
      "7855/7855 [==============================] - 3s 365us/step - loss: 3.8222 - mean_squared_error: 3.8222 - mean_absolute_error: 1.5117 - val_loss: 3.9125 - val_mean_squared_error: 3.9125 - val_mean_absolute_error: 1.5334\n",
      "Epoch 120/150\n",
      "7855/7855 [==============================] - 3s 363us/step - loss: 3.8138 - mean_squared_error: 3.8138 - mean_absolute_error: 1.5005 - val_loss: 3.9177 - val_mean_squared_error: 3.9177 - val_mean_absolute_error: 1.5136\n",
      "Epoch 121/150\n",
      "7855/7855 [==============================] - 3s 360us/step - loss: 3.8154 - mean_squared_error: 3.8154 - mean_absolute_error: 1.5011 - val_loss: 3.9131 - val_mean_squared_error: 3.9131 - val_mean_absolute_error: 1.5134\n",
      "Epoch 122/150\n",
      "7855/7855 [==============================] - 3s 366us/step - loss: 3.8147 - mean_squared_error: 3.8147 - mean_absolute_error: 1.4993 - val_loss: 3.9038 - val_mean_squared_error: 3.9038 - val_mean_absolute_error: 1.5484\n",
      "Epoch 123/150\n",
      "7855/7855 [==============================] - 3s 361us/step - loss: 3.8102 - mean_squared_error: 3.8102 - mean_absolute_error: 1.5025 - val_loss: 3.9276 - val_mean_squared_error: 3.9276 - val_mean_absolute_error: 1.5403\n",
      "Epoch 124/150\n",
      "7855/7855 [==============================] - 3s 365us/step - loss: 3.8246 - mean_squared_error: 3.8246 - mean_absolute_error: 1.5031 - val_loss: 3.9238 - val_mean_squared_error: 3.9238 - val_mean_absolute_error: 1.5440\n",
      "Epoch 125/150\n",
      "7855/7855 [==============================] - 3s 358us/step - loss: 3.8192 - mean_squared_error: 3.8192 - mean_absolute_error: 1.5035 - val_loss: 3.9053 - val_mean_squared_error: 3.9053 - val_mean_absolute_error: 1.5321\n",
      "Epoch 126/150\n",
      "7855/7855 [==============================] - 3s 362us/step - loss: 3.8085 - mean_squared_error: 3.8085 - mean_absolute_error: 1.5056 - val_loss: 3.9391 - val_mean_squared_error: 3.9391 - val_mean_absolute_error: 1.5298\n",
      "Epoch 127/150\n",
      "7855/7855 [==============================] - 3s 366us/step - loss: 3.8070 - mean_squared_error: 3.8070 - mean_absolute_error: 1.4867 - val_loss: 3.9060 - val_mean_squared_error: 3.9060 - val_mean_absolute_error: 1.5807\n",
      "Epoch 128/150\n",
      "7855/7855 [==============================] - 3s 362us/step - loss: 3.8044 - mean_squared_error: 3.8044 - mean_absolute_error: 1.5055 - val_loss: 3.9189 - val_mean_squared_error: 3.9189 - val_mean_absolute_error: 1.5547\n",
      "Epoch 129/150\n",
      "7855/7855 [==============================] - 3s 367us/step - loss: 3.8117 - mean_squared_error: 3.8117 - mean_absolute_error: 1.4980 - val_loss: 3.9112 - val_mean_squared_error: 3.9112 - val_mean_absolute_error: 1.5509\n",
      "Epoch 130/150\n",
      "7855/7855 [==============================] - 3s 364us/step - loss: 3.8161 - mean_squared_error: 3.8161 - mean_absolute_error: 1.5020 - val_loss: 3.9063 - val_mean_squared_error: 3.9063 - val_mean_absolute_error: 1.5488\n",
      "Epoch 131/150\n",
      "7855/7855 [==============================] - 3s 363us/step - loss: 3.8150 - mean_squared_error: 3.8150 - mean_absolute_error: 1.5045 - val_loss: 3.9065 - val_mean_squared_error: 3.9065 - val_mean_absolute_error: 1.5480\n",
      "Epoch 132/150\n",
      "7855/7855 [==============================] - 3s 365us/step - loss: 3.8162 - mean_squared_error: 3.8162 - mean_absolute_error: 1.4979 - val_loss: 3.9223 - val_mean_squared_error: 3.9223 - val_mean_absolute_error: 1.5380\n",
      "Epoch 133/150\n",
      "7855/7855 [==============================] - 3s 361us/step - loss: 3.8098 - mean_squared_error: 3.8098 - mean_absolute_error: 1.5033 - val_loss: 3.9167 - val_mean_squared_error: 3.9167 - val_mean_absolute_error: 1.5401\n",
      "Epoch 134/150\n",
      "7855/7855 [==============================] - 3s 364us/step - loss: 3.8104 - mean_squared_error: 3.8104 - mean_absolute_error: 1.4983 - val_loss: 3.9149 - val_mean_squared_error: 3.9149 - val_mean_absolute_error: 1.5261n_absolu\n",
      "Epoch 135/150\n",
      "7855/7855 [==============================] - 3s 362us/step - loss: 3.8207 - mean_squared_error: 3.8207 - mean_absolute_error: 1.5013 - val_loss: 3.9200 - val_mean_squared_error: 3.9200 - val_mean_absolute_error: 1.5443\n",
      "Epoch 136/150\n",
      "7855/7855 [==============================] - 3s 364us/step - loss: 3.8206 - mean_squared_error: 3.8206 - mean_absolute_error: 1.5083 - val_loss: 3.9331 - val_mean_squared_error: 3.9331 - val_mean_absolute_error: 1.5184\n",
      "Epoch 137/150\n",
      "7855/7855 [==============================] - 3s 372us/step - loss: 3.8182 - mean_squared_error: 3.8182 - mean_absolute_error: 1.5003 - val_loss: 3.9373 - val_mean_squared_error: 3.9373 - val_mean_absolute_error: 1.5315\n",
      "Epoch 138/150\n",
      "7855/7855 [==============================] - 3s 362us/step - loss: 3.8153 - mean_squared_error: 3.8153 - mean_absolute_error: 1.4986 - val_loss: 3.9119 - val_mean_squared_error: 3.9119 - val_mean_absolute_error: 1.5290\n",
      "Epoch 139/150\n"
     ]
    },
    {
     "name": "stdout",
     "output_type": "stream",
     "text": [
      "7855/7855 [==============================] - 3s 364us/step - loss: 3.8036 - mean_squared_error: 3.8036 - mean_absolute_error: 1.4971 - val_loss: 3.9255 - val_mean_squared_error: 3.9255 - val_mean_absolute_error: 1.5350\n",
      "Epoch 140/150\n",
      "7855/7855 [==============================] - 3s 362us/step - loss: 3.8150 - mean_squared_error: 3.8150 - mean_absolute_error: 1.5024 - val_loss: 3.9553 - val_mean_squared_error: 3.9553 - val_mean_absolute_error: 1.4984\n",
      "Epoch 141/150\n",
      "7855/7855 [==============================] - 3s 360us/step - loss: 3.8106 - mean_squared_error: 3.8106 - mean_absolute_error: 1.5029 - val_loss: 3.9154 - val_mean_squared_error: 3.9154 - val_mean_absolute_error: 1.5256\n",
      "Epoch 142/150\n",
      "7855/7855 [==============================] - 3s 369us/step - loss: 3.8098 - mean_squared_error: 3.8098 - mean_absolute_error: 1.4892 - val_loss: 3.9097 - val_mean_squared_error: 3.9097 - val_mean_absolute_error: 1.5685\n",
      "Epoch 143/150\n",
      "7855/7855 [==============================] - 3s 359us/step - loss: 3.8035 - mean_squared_error: 3.8035 - mean_absolute_error: 1.4999 - val_loss: 3.9078 - val_mean_squared_error: 3.9078 - val_mean_absolute_error: 1.5557quared_error: 3.65 - ETA: 0s - loss: 3.7692 - mean_squared_error: 3.7692 - mean_absolute\n",
      "Epoch 144/150\n",
      "7855/7855 [==============================] - 3s 369us/step - loss: 3.8140 - mean_squared_error: 3.8140 - mean_absolute_error: 1.5028 - val_loss: 3.9392 - val_mean_squared_error: 3.9392 - val_mean_absolute_error: 1.5449\n",
      "Epoch 145/150\n",
      "7855/7855 [==============================] - 3s 361us/step - loss: 3.8066 - mean_squared_error: 3.8066 - mean_absolute_error: 1.4934 - val_loss: 3.9023 - val_mean_squared_error: 3.9023 - val_mean_absolute_error: 1.5517\n",
      "Epoch 146/150\n",
      "7855/7855 [==============================] - 3s 361us/step - loss: 3.8114 - mean_squared_error: 3.8114 - mean_absolute_error: 1.5015 - val_loss: 3.9167 - val_mean_squared_error: 3.9167 - val_mean_absolute_error: 1.5518\n",
      "Epoch 147/150\n",
      "7855/7855 [==============================] - 3s 365us/step - loss: 3.8104 - mean_squared_error: 3.8104 - mean_absolute_error: 1.5028 - val_loss: 3.9125 - val_mean_squared_error: 3.9125 - val_mean_absolute_error: 1.55078 - mean_squared_error: 3. - ETA: 0s - loss: 3.8279 - mean_squared_error: 3.8279 - mean_absolute_error: 1.50\n",
      "Epoch 148/150\n",
      "7855/7855 [==============================] - 3s 362us/step - loss: 3.8019 - mean_squared_error: 3.8019 - mean_absolute_error: 1.4963 - val_loss: 3.9207 - val_mean_squared_error: 3.9207 - val_mean_absolute_error: 1.5198ared_error: 3.8353 - mean_absolute\n",
      "Epoch 149/150\n",
      "7855/7855 [==============================] - 3s 368us/step - loss: 3.8136 - mean_squared_error: 3.8136 - mean_absolute_error: 1.4971 - val_loss: 3.9430 - val_mean_squared_error: 3.9430 - val_mean_absolute_error: 1.5178or: 3.\n",
      "Epoch 150/150\n",
      "7855/7855 [==============================] - 3s 361us/step - loss: 3.8078 - mean_squared_error: 3.8078 - mean_absolute_error: 1.5082 - val_loss: 3.9343 - val_mean_squared_error: 3.9343 - val_mean_absolute_error: 1.5208an_squared_error: 3.7054 - mean_ab - ETA: 0s - loss: 3.7804 - mean_squared_error: 3.7804 - mean_absolute_error - ETA: 0s - loss: 3.8153 - mean_squared_error: 3.8153 - mean_absolu\n",
      "EndTime : 2019-05-16 15:10:18.940500\n"
     ]
    }
   ],
   "source": [
    "optim = Adam(lr=0.0002)\n",
    "\n",
    "model.compile(loss='mse',\n",
    "\t\t      optimizer=optim,\n",
    "\t\t\t  metrics=['mse','mae'])\n",
    "\n",
    "StartTime8 = datetime.now()\n",
    "print(\"StartTime :\", StartTime8)\n",
    "with K.tf.device('/GPU:0'):\n",
    "    model_train = model.fit(train_X_cell, training_label_array, batch_size=batch_size,epochs=training_epochs,verbose=1,\n",
    "                        validation_data=(test_X_cell, test_label_array))\n",
    "\n",
    "EndTime8 = datetime.now()\n",
    "print(\"EndTime :\", EndTime8)"
   ]
  },
  {
   "cell_type": "code",
   "execution_count": 23,
   "metadata": {},
   "outputs": [],
   "source": [
    "import json\n",
    "from keras.models import model_from_json, load_model\n",
    "workdir = \"C://Users//a//Desktop//Ronny_TF//Ronny_Deep_vs_CDRscan//method_comparison_w_ccle_exp_or_mut_data//190516_CDRScan_master_mut_archi_w_mut_only\"\n",
    "# Option 1: Save Weights + Architecture\n",
    "model.save_weights(workdir + '//model_fix_v3.h5')\n",
    "with open(workdir + '//model_architecture_fix_v3.json', 'w') as f:\n",
    "    f.write(model.to_json())\n",
    "# Option 1: Load Weights + Architecture\n",
    "# with open('model_architecture.json', 'r') as f:\n",
    "#     new_model_1 = model_from_json(f.read())\n",
    "# new_model_1.load_weights('model_weights.h5')"
   ]
  },
  {
   "cell_type": "code",
   "execution_count": 24,
   "metadata": {},
   "outputs": [],
   "source": [
    "# Option 2: Save/Load the Entire Model\n",
    "from keras.models import load_model\n",
    "\n",
    "# Creates a HDF5 file 'my_model.h5'\n",
    "model.save(workdir + '//model_fix_2080ti_v3.h5')\n",
    "\n",
    "# Deletes the existing model\n",
    "# del model  \n",
    "\n",
    "# Returns a compiled model identical to the previous one\n",
    "# model = load_model('my_model.h5')"
   ]
  },
  {
   "cell_type": "code",
   "execution_count": 25,
   "metadata": {},
   "outputs": [
    {
     "name": "stdout",
     "output_type": "stream",
     "text": [
      "872/872 [==============================] - 0s 249us/step\n"
     ]
    }
   ],
   "source": [
    "test_eval = model.evaluate(test_X_cell, test_label_array, verbose=1)"
   ]
  },
  {
   "cell_type": "code",
   "execution_count": 26,
   "metadata": {},
   "outputs": [
    {
     "data": {
      "text/plain": [
       "[3.9343215653655728, 3.9343215653655728, 1.5207615576752829]"
      ]
     },
     "execution_count": 26,
     "metadata": {},
     "output_type": "execute_result"
    }
   ],
   "source": [
    "test_eval"
   ]
  },
  {
   "cell_type": "code",
   "execution_count": 27,
   "metadata": {},
   "outputs": [],
   "source": [
    "accuracy = model_train.history['mean_squared_error']\n",
    "val_accuracy = model_train.history['val_mean_squared_error']\n",
    "loss = model_train.history['loss']\n",
    "val_loss = model_train.history['val_loss']\n",
    "\n",
    "np_acc = np.array(accuracy)\n",
    "np_val_acc = np.array(val_accuracy)\n",
    "np_loss = np.array(loss)\n",
    "np_val_loss = np.array(val_loss)"
   ]
  },
  {
   "cell_type": "code",
   "execution_count": 28,
   "metadata": {},
   "outputs": [],
   "source": [
    "np.savetxt(\"ccle_mut_only_mse_cdrscan_master_150_100_2080ti_v3.csv\", np_acc, delimiter=\",\")\n",
    "np.savetxt(\"ccle_mut_only_val_mse_cdrscan_master_150_100_2080ti_v3.csv\", np_val_acc, delimiter=\",\")\n",
    "np.savetxt(\"ccle_mut_only_loss_cdrscan_master_150_100_2080ti_v3.csv\", np_loss, delimiter=\",\")\n",
    "np.savetxt(\"ccle_mut_only_val_loss_cdrscan_master_150_100_2080ti_v3.csv\", np_val_loss, delimiter=\",\")"
   ]
  },
  {
   "cell_type": "code",
   "execution_count": 29,
   "metadata": {},
   "outputs": [],
   "source": [
    "import matplotlib\n",
    "from matplotlib import pyplot as plt"
   ]
  },
  {
   "cell_type": "code",
   "execution_count": 30,
   "metadata": {},
   "outputs": [
    {
     "data": {
      "image/png": "[encoded data removed]",
      "text/plain": [
       "<matplotlib.figure.Figure at 0x2077dedeac8>"
      ]
     },
     "metadata": {},
     "output_type": "display_data"
    },
    {
     "data": {
      "image/png": "[encoded data removed]",
      "text/plain": [
       "<matplotlib.figure.Figure at 0x2077df41518>"
      ]
     },
     "metadata": {},
     "output_type": "display_data"
    }
   ],
   "source": [
    "# accuracy = model_train.history['acc']\n",
    "# val_accuracy = model_train.history['val_acc']\n",
    "# loss = model_train.history['loss']\n",
    "# val_loss = model_train.history['val_loss']\n",
    "epochs = range(len(accuracy))\n",
    "plt.plot(epochs, accuracy, 'bo', label='Training mse',c='red')\n",
    "plt.plot(epochs, val_accuracy, 'b', label='Validation mse',c='red')\n",
    "plt.title('Training and validation mse')\n",
    "plt.legend()\n",
    "plt.figure()\n",
    "plt.plot(epochs, loss, 'bo', label='Training loss',c='red')\n",
    "plt.plot(epochs, val_loss, 'b', label='Validation loss',c='red')\n",
    "plt.title('Training and validation loss')\n",
    "plt.legend()\n",
    "plt.show()"
   ]
  },
  {
   "cell_type": "code",
   "execution_count": 31,
   "metadata": {},
   "outputs": [],
   "source": [
    "predicted_classes = model.predict(test_X_cell)"
   ]
  },
  {
   "cell_type": "code",
   "execution_count": 32,
   "metadata": {},
   "outputs": [],
   "source": [
    "predicted_value = predicted_classes"
   ]
  },
  {
   "cell_type": "code",
   "execution_count": 33,
   "metadata": {},
   "outputs": [],
   "source": [
    "a = pd.DataFrame(predicted_value)\n",
    "b = pd.DataFrame(test_label_array)\n",
    "c = pd.concat([a,b], axis=1)\n",
    "c.columns=[\"Predicted\",\"Test\"]"
   ]
  },
  {
   "cell_type": "code",
   "execution_count": 34,
   "metadata": {},
   "outputs": [],
   "source": [
    "c.to_csv(workdir + '//190516_CDRScan_master_mut_archi_w_mut_only_result.csv')"
   ]
  },
  {
   "cell_type": "code",
   "execution_count": 35,
   "metadata": {},
   "outputs": [
    {
     "data": {
      "text/html": [
       "<div>\n",
       "<style scoped>\n",
       "    .dataframe tbody tr th:only-of-type {\n",
       "        vertical-align: middle;\n",
       "    }\n",
       "\n",
       "    .dataframe tbody tr th {\n",
       "        vertical-align: top;\n",
       "    }\n",
       "\n",
       "    .dataframe thead th {\n",
       "        text-align: right;\n",
       "    }\n",
       "</style>\n",
       "<table border=\"1\" class=\"dataframe\">\n",
       "  <thead>\n",
       "    <tr style=\"text-align: right;\">\n",
       "      <th></th>\n",
       "      <th>Predicted</th>\n",
       "      <th>Test</th>\n",
       "    </tr>\n",
       "  </thead>\n",
       "  <tbody>\n",
       "    <tr>\n",
       "      <th>0</th>\n",
       "      <td>1.054049</td>\n",
       "      <td>2.079442</td>\n",
       "    </tr>\n",
       "    <tr>\n",
       "      <th>1</th>\n",
       "      <td>1.253023</td>\n",
       "      <td>2.079442</td>\n",
       "    </tr>\n",
       "    <tr>\n",
       "      <th>2</th>\n",
       "      <td>1.253023</td>\n",
       "      <td>-3.956153</td>\n",
       "    </tr>\n",
       "    <tr>\n",
       "      <th>3</th>\n",
       "      <td>0.038038</td>\n",
       "      <td>2.079442</td>\n",
       "    </tr>\n",
       "    <tr>\n",
       "      <th>4</th>\n",
       "      <td>1.399332</td>\n",
       "      <td>-1.277287</td>\n",
       "    </tr>\n",
       "    <tr>\n",
       "      <th>5</th>\n",
       "      <td>0.576247</td>\n",
       "      <td>2.079442</td>\n",
       "    </tr>\n",
       "    <tr>\n",
       "      <th>6</th>\n",
       "      <td>1.305959</td>\n",
       "      <td>1.937675</td>\n",
       "    </tr>\n",
       "    <tr>\n",
       "      <th>7</th>\n",
       "      <td>0.838815</td>\n",
       "      <td>-0.531687</td>\n",
       "    </tr>\n",
       "    <tr>\n",
       "      <th>8</th>\n",
       "      <td>1.450228</td>\n",
       "      <td>-2.943258</td>\n",
       "    </tr>\n",
       "    <tr>\n",
       "      <th>9</th>\n",
       "      <td>-0.280263</td>\n",
       "      <td>0.768535</td>\n",
       "    </tr>\n",
       "    <tr>\n",
       "      <th>10</th>\n",
       "      <td>0.026018</td>\n",
       "      <td>2.079442</td>\n",
       "    </tr>\n",
       "    <tr>\n",
       "      <th>11</th>\n",
       "      <td>-0.023366</td>\n",
       "      <td>2.079442</td>\n",
       "    </tr>\n",
       "    <tr>\n",
       "      <th>12</th>\n",
       "      <td>0.515309</td>\n",
       "      <td>2.079442</td>\n",
       "    </tr>\n",
       "    <tr>\n",
       "      <th>13</th>\n",
       "      <td>0.666658</td>\n",
       "      <td>-0.355825</td>\n",
       "    </tr>\n",
       "    <tr>\n",
       "      <th>14</th>\n",
       "      <td>1.106295</td>\n",
       "      <td>2.079442</td>\n",
       "    </tr>\n",
       "    <tr>\n",
       "      <th>15</th>\n",
       "      <td>-0.280263</td>\n",
       "      <td>2.079442</td>\n",
       "    </tr>\n",
       "    <tr>\n",
       "      <th>16</th>\n",
       "      <td>-0.273322</td>\n",
       "      <td>1.297073</td>\n",
       "    </tr>\n",
       "    <tr>\n",
       "      <th>17</th>\n",
       "      <td>0.624677</td>\n",
       "      <td>1.145913</td>\n",
       "    </tr>\n",
       "    <tr>\n",
       "      <th>18</th>\n",
       "      <td>1.356545</td>\n",
       "      <td>2.079442</td>\n",
       "    </tr>\n",
       "    <tr>\n",
       "      <th>19</th>\n",
       "      <td>0.961025</td>\n",
       "      <td>2.004945</td>\n",
       "    </tr>\n",
       "    <tr>\n",
       "      <th>20</th>\n",
       "      <td>1.077878</td>\n",
       "      <td>2.079442</td>\n",
       "    </tr>\n",
       "    <tr>\n",
       "      <th>21</th>\n",
       "      <td>1.014725</td>\n",
       "      <td>1.787790</td>\n",
       "    </tr>\n",
       "    <tr>\n",
       "      <th>22</th>\n",
       "      <td>0.487810</td>\n",
       "      <td>2.079442</td>\n",
       "    </tr>\n",
       "    <tr>\n",
       "      <th>23</th>\n",
       "      <td>1.253023</td>\n",
       "      <td>1.040454</td>\n",
       "    </tr>\n",
       "    <tr>\n",
       "      <th>24</th>\n",
       "      <td>1.338077</td>\n",
       "      <td>2.079442</td>\n",
       "    </tr>\n",
       "    <tr>\n",
       "      <th>25</th>\n",
       "      <td>1.556637</td>\n",
       "      <td>2.079442</td>\n",
       "    </tr>\n",
       "    <tr>\n",
       "      <th>26</th>\n",
       "      <td>1.523136</td>\n",
       "      <td>2.079442</td>\n",
       "    </tr>\n",
       "    <tr>\n",
       "      <th>27</th>\n",
       "      <td>1.578588</td>\n",
       "      <td>2.079442</td>\n",
       "    </tr>\n",
       "    <tr>\n",
       "      <th>28</th>\n",
       "      <td>1.453464</td>\n",
       "      <td>1.815457</td>\n",
       "    </tr>\n",
       "    <tr>\n",
       "      <th>29</th>\n",
       "      <td>0.074339</td>\n",
       "      <td>0.072846</td>\n",
       "    </tr>\n",
       "    <tr>\n",
       "      <th>...</th>\n",
       "      <td>...</td>\n",
       "      <td>...</td>\n",
       "    </tr>\n",
       "    <tr>\n",
       "      <th>842</th>\n",
       "      <td>0.349449</td>\n",
       "      <td>2.079442</td>\n",
       "    </tr>\n",
       "    <tr>\n",
       "      <th>843</th>\n",
       "      <td>1.101859</td>\n",
       "      <td>-1.886305</td>\n",
       "    </tr>\n",
       "    <tr>\n",
       "      <th>844</th>\n",
       "      <td>0.957926</td>\n",
       "      <td>2.079442</td>\n",
       "    </tr>\n",
       "    <tr>\n",
       "      <th>845</th>\n",
       "      <td>0.539301</td>\n",
       "      <td>1.659227</td>\n",
       "    </tr>\n",
       "    <tr>\n",
       "      <th>846</th>\n",
       "      <td>0.256862</td>\n",
       "      <td>-1.228275</td>\n",
       "    </tr>\n",
       "    <tr>\n",
       "      <th>847</th>\n",
       "      <td>0.582402</td>\n",
       "      <td>2.079442</td>\n",
       "    </tr>\n",
       "    <tr>\n",
       "      <th>848</th>\n",
       "      <td>1.660851</td>\n",
       "      <td>-0.617114</td>\n",
       "    </tr>\n",
       "    <tr>\n",
       "      <th>849</th>\n",
       "      <td>1.115861</td>\n",
       "      <td>2.079442</td>\n",
       "    </tr>\n",
       "    <tr>\n",
       "      <th>850</th>\n",
       "      <td>0.986423</td>\n",
       "      <td>2.079442</td>\n",
       "    </tr>\n",
       "    <tr>\n",
       "      <th>851</th>\n",
       "      <td>1.077878</td>\n",
       "      <td>-1.612635</td>\n",
       "    </tr>\n",
       "    <tr>\n",
       "      <th>852</th>\n",
       "      <td>1.130955</td>\n",
       "      <td>2.079442</td>\n",
       "    </tr>\n",
       "    <tr>\n",
       "      <th>853</th>\n",
       "      <td>0.310273</td>\n",
       "      <td>2.079442</td>\n",
       "    </tr>\n",
       "    <tr>\n",
       "      <th>854</th>\n",
       "      <td>1.513877</td>\n",
       "      <td>2.079442</td>\n",
       "    </tr>\n",
       "    <tr>\n",
       "      <th>855</th>\n",
       "      <td>0.074339</td>\n",
       "      <td>-0.911646</td>\n",
       "    </tr>\n",
       "    <tr>\n",
       "      <th>856</th>\n",
       "      <td>0.725141</td>\n",
       "      <td>1.803444</td>\n",
       "    </tr>\n",
       "    <tr>\n",
       "      <th>857</th>\n",
       "      <td>1.136147</td>\n",
       "      <td>2.079442</td>\n",
       "    </tr>\n",
       "    <tr>\n",
       "      <th>858</th>\n",
       "      <td>0.984712</td>\n",
       "      <td>2.079442</td>\n",
       "    </tr>\n",
       "    <tr>\n",
       "      <th>859</th>\n",
       "      <td>0.818678</td>\n",
       "      <td>2.079442</td>\n",
       "    </tr>\n",
       "    <tr>\n",
       "      <th>860</th>\n",
       "      <td>0.801988</td>\n",
       "      <td>2.079442</td>\n",
       "    </tr>\n",
       "    <tr>\n",
       "      <th>861</th>\n",
       "      <td>0.701096</td>\n",
       "      <td>2.079442</td>\n",
       "    </tr>\n",
       "    <tr>\n",
       "      <th>862</th>\n",
       "      <td>0.378124</td>\n",
       "      <td>1.912543</td>\n",
       "    </tr>\n",
       "    <tr>\n",
       "      <th>863</th>\n",
       "      <td>0.868889</td>\n",
       "      <td>2.079442</td>\n",
       "    </tr>\n",
       "    <tr>\n",
       "      <th>864</th>\n",
       "      <td>1.240360</td>\n",
       "      <td>2.079442</td>\n",
       "    </tr>\n",
       "    <tr>\n",
       "      <th>865</th>\n",
       "      <td>1.444761</td>\n",
       "      <td>2.079442</td>\n",
       "    </tr>\n",
       "    <tr>\n",
       "      <th>866</th>\n",
       "      <td>1.130955</td>\n",
       "      <td>2.079442</td>\n",
       "    </tr>\n",
       "    <tr>\n",
       "      <th>867</th>\n",
       "      <td>0.436211</td>\n",
       "      <td>-5.991465</td>\n",
       "    </tr>\n",
       "    <tr>\n",
       "      <th>868</th>\n",
       "      <td>0.591022</td>\n",
       "      <td>1.971579</td>\n",
       "    </tr>\n",
       "    <tr>\n",
       "      <th>869</th>\n",
       "      <td>0.908188</td>\n",
       "      <td>2.079442</td>\n",
       "    </tr>\n",
       "    <tr>\n",
       "      <th>870</th>\n",
       "      <td>0.725002</td>\n",
       "      <td>2.079442</td>\n",
       "    </tr>\n",
       "    <tr>\n",
       "      <th>871</th>\n",
       "      <td>0.077544</td>\n",
       "      <td>-0.953844</td>\n",
       "    </tr>\n",
       "  </tbody>\n",
       "</table>\n",
       "<p>872 rows × 2 columns</p>\n",
       "</div>"
      ],
      "text/plain": [
       "     Predicted      Test\n",
       "0     1.054049  2.079442\n",
       "1     1.253023  2.079442\n",
       "2     1.253023 -3.956153\n",
       "3     0.038038  2.079442\n",
       "4     1.399332 -1.277287\n",
       "5     0.576247  2.079442\n",
       "6     1.305959  1.937675\n",
       "7     0.838815 -0.531687\n",
       "8     1.450228 -2.943258\n",
       "9    -0.280263  0.768535\n",
       "10    0.026018  2.079442\n",
       "11   -0.023366  2.079442\n",
       "12    0.515309  2.079442\n",
       "13    0.666658 -0.355825\n",
       "14    1.106295  2.079442\n",
       "15   -0.280263  2.079442\n",
       "16   -0.273322  1.297073\n",
       "17    0.624677  1.145913\n",
       "18    1.356545  2.079442\n",
       "19    0.961025  2.004945\n",
       "20    1.077878  2.079442\n",
       "21    1.014725  1.787790\n",
       "22    0.487810  2.079442\n",
       "23    1.253023  1.040454\n",
       "24    1.338077  2.079442\n",
       "25    1.556637  2.079442\n",
       "26    1.523136  2.079442\n",
       "27    1.578588  2.079442\n",
       "28    1.453464  1.815457\n",
       "29    0.074339  0.072846\n",
       "..         ...       ...\n",
       "842   0.349449  2.079442\n",
       "843   1.101859 -1.886305\n",
       "844   0.957926  2.079442\n",
       "845   0.539301  1.659227\n",
       "846   0.256862 -1.228275\n",
       "847   0.582402  2.079442\n",
       "848   1.660851 -0.617114\n",
       "849   1.115861  2.079442\n",
       "850   0.986423  2.079442\n",
       "851   1.077878 -1.612635\n",
       "852   1.130955  2.079442\n",
       "853   0.310273  2.079442\n",
       "854   1.513877  2.079442\n",
       "855   0.074339 -0.911646\n",
       "856   0.725141  1.803444\n",
       "857   1.136147  2.079442\n",
       "858   0.984712  2.079442\n",
       "859   0.818678  2.079442\n",
       "860   0.801988  2.079442\n",
       "861   0.701096  2.079442\n",
       "862   0.378124  1.912543\n",
       "863   0.868889  2.079442\n",
       "864   1.240360  2.079442\n",
       "865   1.444761  2.079442\n",
       "866   1.130955  2.079442\n",
       "867   0.436211 -5.991465\n",
       "868   0.591022  1.971579\n",
       "869   0.908188  2.079442\n",
       "870   0.725002  2.079442\n",
       "871   0.077544 -0.953844\n",
       "\n",
       "[872 rows x 2 columns]"
      ]
     },
     "execution_count": 35,
     "metadata": {},
     "output_type": "execute_result"
    }
   ],
   "source": [
    "c"
   ]
  },
  {
   "cell_type": "code",
   "execution_count": 36,
   "metadata": {},
   "outputs": [
    {
     "data": {
      "text/plain": [
       "(872, 1)"
      ]
     },
     "execution_count": 36,
     "metadata": {},
     "output_type": "execute_result"
    }
   ],
   "source": [
    "predicted_value.shape"
   ]
  },
  {
   "cell_type": "code",
   "execution_count": 37,
   "metadata": {},
   "outputs": [
    {
     "data": {
      "image/png": "[encoded data removed]",
      "text/plain": [
       "<matplotlib.figure.Figure at 0x2077e076ef0>"
      ]
     },
     "metadata": {},
     "output_type": "display_data"
    }
   ],
   "source": [
    "plt.scatter(test_label_array,predicted_value,c='red')\n",
    "plt.xlabel('test_IC50_value')\n",
    "plt.ylabel('predicted_IC50_value')\n",
    "plt.savefig(workdir + '//190516_CDRScan_master_mut_archi_w_mut_only_test_scatterplot.png')"
   ]
  },
  {
   "cell_type": "code",
   "execution_count": 38,
   "metadata": {},
   "outputs": [
    {
     "name": "stdout",
     "output_type": "stream",
     "text": [
      "Final rmse value is = 1.9835124633413586\n"
     ]
    }
   ],
   "source": [
    "rse = ((b[0]-a[0])**2).sum()\n",
    "mse = rse / len(b)\n",
    "print(\"Final rmse value is =\",np.sqrt(mse))"
   ]
  }
 ],
 "metadata": {
  "kernelspec": {
   "display_name": "Python 3",
   "language": "python",
   "name": "python3"
  },
  "language_info": {
   "codemirror_mode": {
    "name": "ipython",
    "version": 3
   },
   "file_extension": ".py",
   "mimetype": "text/x-python",
   "name": "python",
   "nbconvert_exporter": "python",
   "pygments_lexer": "ipython3",
   "version": "3.6.9"
  }
 },
 "nbformat": 4,
 "nbformat_minor": 2
}
