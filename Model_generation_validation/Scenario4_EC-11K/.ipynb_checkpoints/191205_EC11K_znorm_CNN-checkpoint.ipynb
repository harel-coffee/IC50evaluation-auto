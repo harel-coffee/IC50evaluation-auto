{
 "cells": [
  {
   "cell_type": "code",
   "execution_count": 3,
   "metadata": {},
   "outputs": [],
   "source": [
    "import os\n",
    "import pandas as pd\n",
    "import numpy as np\n",
    "import tensorflow as tf\n",
    "import random\n",
    "from pandas import DataFrame\n",
    "from datetime import datetime\n",
    "import keras\n",
    "from keras.models import Sequential,Input,Model\n",
    "from keras.layers import Dense, Dropout, Flatten, Reshape, Activation\n",
    "from keras.layers import Conv1D, MaxPooling1D ,AveragePooling1D\n",
    "from keras.layers.normalization import BatchNormalization\n",
    "from keras.layers.advanced_activations import LeakyReLU\n",
    "from keras import backend as K\n",
    "from keras.callbacks import ModelCheckpoint, CSVLogger\n",
    "from keras.optimizers import Adam, RMSprop\n",
    "from keras.layers import Input, Dense, Conv1D, MaxPooling1D\n",
    "from keras.layers import Flatten, Concatenate, Dropout, Reshape, BatchNormalization\n",
    "from keras.models import Model\n",
    "\n",
    "\n",
    "\n"
   ]
  },
  {
   "cell_type": "code",
   "execution_count": 4,
   "metadata": {},
   "outputs": [
    {
     "name": "stdout",
     "output_type": "stream",
     "text": [
      "[name: \"/device:CPU:0\"\n",
      "device_type: \"CPU\"\n",
      "memory_limit: 268435456\n",
      "locality {\n",
      "}\n",
      "incarnation: 17911506539786769506\n",
      ", name: \"/device:GPU:0\"\n",
      "device_type: \"GPU\"\n",
      "memory_limit: 17288644404\n",
      "locality {\n",
      "  bus_id: 1\n",
      "  links {\n",
      "  }\n",
      "}\n",
      "incarnation: 13279150230873812482\n",
      "physical_device_desc: \"device: 0, name: TITAN RTX, pci bus id: 0000:01:00.0, compute capability: 7.5\"\n",
      "]\n"
     ]
    }
   ],
   "source": [
    "from tensorflow.python.client import device_lib\n",
    "print(device_lib.list_local_devices())\n",
    "\n",
    "\n",
    "# 출처: https://3months.tistory.com/206 [Deep Play]"
   ]
  },
  {
   "cell_type": "code",
   "execution_count": 7,
   "metadata": {},
   "outputs": [],
   "source": [
    "# < Important note > [ Please download input data from https://mega.nz/#F!CeYGDKyS!uqkmWJ4E2XSGJp_C2VO2gg]\n",
    "# IC50evaluation//Dataset//Scenario3_EC-11K_znorm\n",
    "workdir = \"path\"\n",
    "dataset = np.load(workdir + \"//191204_EC11K_z_norm.npz\") # input file\n",
    "ss0 = np.load(workdir + '//191204_EC11K_z_norm_r0_9_1.npz') # split for training and test"
   ]
  },
  {
   "cell_type": "code",
   "execution_count": 8,
   "metadata": {},
   "outputs": [],
   "source": [
    "x = dataset['x']\n",
    "y = dataset['y']\n",
    "# y_linear = dataset['y_lnIC50']\n",
    "ss0_train = ss0['train']\n",
    "ss0_test = ss0['test']"
   ]
  },
  {
   "cell_type": "code",
   "execution_count": 9,
   "metadata": {},
   "outputs": [],
   "source": [
    "training_image_array, training_label_array = x[ss0_train], y[ss0_train]\n",
    "test_image_array, test_label_array = x[ss0_test], y[ss0_test]\n",
    "\n",
    "# In[9]:\n",
    "# ori = training_image_array\n",
    "# bat = np.zeros((ori.shape[0],178))\n",
    "# cat = np.hstack([ori,bat])\n",
    "# training_image_array = cat\n",
    "\n",
    "# # In[8]:\n",
    "# training_image_array.shape\n",
    "\n",
    "# # In[10]:\n",
    "# ori2 = test_image_array\n",
    "# bat2 = np.zeros((ori2.shape[0],178))\n",
    "# cat2 = np.hstack([ori2,bat2])\n",
    "# test_image_array = cat2\n"
   ]
  },
  {
   "cell_type": "code",
   "execution_count": 10,
   "metadata": {},
   "outputs": [
    {
     "name": "stdout",
     "output_type": "stream",
     "text": [
      "0 42\n"
     ]
    }
   ],
   "source": [
    "# In[15]:\n",
    "ab =[]\n",
    "for i in range(100,200):\n",
    "    ab.append(len(training_image_array) % i)\n",
    "    \n",
    "print(min(ab), ab.index(min(ab)))"
   ]
  },
  {
   "cell_type": "code",
   "execution_count": 11,
   "metadata": {},
   "outputs": [
    {
     "data": {
      "text/plain": [
       "(11360, 18988)"
      ]
     },
     "execution_count": 11,
     "metadata": {},
     "output_type": "execute_result"
    }
   ],
   "source": [
    "x.shape"
   ]
  },
  {
   "cell_type": "code",
   "execution_count": 12,
   "metadata": {},
   "outputs": [
    {
     "data": {
      "text/plain": [
       "(10224, 18988)"
      ]
     },
     "execution_count": 12,
     "metadata": {},
     "output_type": "execute_result"
    }
   ],
   "source": [
    "training_image_array.shape"
   ]
  },
  {
   "cell_type": "code",
   "execution_count": 13,
   "metadata": {},
   "outputs": [],
   "source": [
    "# In[21]: hyperparameter\n",
    "\n",
    "num_classes = 1\n",
    "learning_rate = 0.0002\n",
    "training_epochs = 150\n",
    "batch_size = 100\n"
   ]
  },
  {
   "cell_type": "code",
   "execution_count": 14,
   "metadata": {},
   "outputs": [],
   "source": [
    "train_X, train_y, test_X, test_y = training_image_array, training_label_array, test_image_array, test_label_array\n",
    "\n",
    "# if K.image_data_format() == 'channels_first':\n",
    "#     train_X = train_X.reshape(train_X.shape[0], 1, img_rows, img_cols)\n",
    "#     test_X = test_X.reshape(x_test.shape[0], 1, img_rows, img_cols)\n",
    "#     input_shape = (1, img_rows, img_cols)\n",
    "# else:\n",
    "#     train_X = train_X.reshape(train_X.shape[0], img_rows, img_cols, 1)\n",
    "#     test_X = test_X.reshape(test_X.shape[0], img_rows, img_cols, 1)\n",
    "#     input_shape = (img_rows, img_cols, 1)\n"
   ]
  },
  {
   "cell_type": "code",
   "execution_count": 15,
   "metadata": {},
   "outputs": [
    {
     "name": "stdout",
     "output_type": "stream",
     "text": [
      "18988\n"
     ]
    }
   ],
   "source": [
    "shape_value = train_X.shape[1]\n",
    "print(shape_value)"
   ]
  },
  {
   "cell_type": "code",
   "execution_count": 16,
   "metadata": {},
   "outputs": [],
   "source": [
    "train_X_cell = train_X[:,:shape_value]\n",
    "train_X_drug =train_X[:,shape_value:]\n",
    "test_X_cell = test_X[:,:shape_value]\n",
    "test_X_drug = test_X[:,shape_value:]"
   ]
  },
  {
   "cell_type": "code",
   "execution_count": 17,
   "metadata": {},
   "outputs": [
    {
     "data": {
      "text/plain": [
       "(10224, 18988)"
      ]
     },
     "execution_count": 17,
     "metadata": {},
     "output_type": "execute_result"
    }
   ],
   "source": [
    "train_X_cell.shape"
   ]
  },
  {
   "cell_type": "code",
   "execution_count": 18,
   "metadata": {},
   "outputs": [],
   "source": [
    "train_X_cell = train_X_cell.reshape(train_X_cell.shape[0], train_X_cell.shape[1], 1)\n",
    "train_X_drug = train_X_drug.reshape(train_X_drug.shape[0], train_X_drug.shape[1], 1)\n",
    "test_X_cell = test_X_cell.reshape(test_X_cell.shape[0], test_X_cell.shape[1], 1)\n",
    "test_X_drug = test_X_drug.reshape(test_X_drug.shape[0], test_X_drug.shape[1], 1)\n",
    "#input_shape = (img_rows, img_cols, 1)"
   ]
  },
  {
   "cell_type": "code",
   "execution_count": 19,
   "metadata": {},
   "outputs": [
    {
     "name": "stdout",
     "output_type": "stream",
     "text": [
      "(10224, 18988, 1) (10224, 0, 1) (10224,) (1136, 18988, 1) (1136, 0, 1) (1136,)\n"
     ]
    }
   ],
   "source": [
    "print(train_X_cell.shape,train_X_drug.shape, train_y.shape, test_X_cell.shape,test_X_drug.shape, test_y.shape)"
   ]
  },
  {
   "cell_type": "code",
   "execution_count": 20,
   "metadata": {},
   "outputs": [
    {
     "data": {
      "text/plain": [
       "(10224, 18988, 1)"
      ]
     },
     "execution_count": 20,
     "metadata": {},
     "output_type": "execute_result"
    }
   ],
   "source": [
    "train_X_cell.shape"
   ]
  },
  {
   "cell_type": "code",
   "execution_count": 21,
   "metadata": {},
   "outputs": [
    {
     "name": "stdout",
     "output_type": "stream",
     "text": [
      "train_X shape: (10224, 18988)\n",
      "10224 train samples\n",
      "1136 test samples\n"
     ]
    }
   ],
   "source": [
    "train_X_cell = train_X_cell.astype('float32')\n",
    "test_X_cell = test_X_cell.astype('float32')\n",
    "train_X_drug = train_X_drug.astype('float32')\n",
    "test_X_drug = test_X_drug.astype('float32')\n",
    "# train_X /= 255\n",
    "# test_X /= 255\n",
    "print('train_X shape:', train_X.shape)\n",
    "print(train_X.shape[0], 'train samples')\n",
    "print(test_X.shape[0], 'test samples')"
   ]
  },
  {
   "cell_type": "code",
   "execution_count": 22,
   "metadata": {},
   "outputs": [
    {
     "name": "stdout",
     "output_type": "stream",
     "text": [
      "WARNING:tensorflow:From C:\\ProgramData\\Anaconda3\\envs\\ronnytf\\lib\\site-packages\\tensorflow\\python\\framework\\op_def_library.py:263: colocate_with (from tensorflow.python.framework.ops) is deprecated and will be removed in a future version.\n",
      "Instructions for updating:\n",
      "Colocations handled automatically by placer.\n",
      "WARNING:tensorflow:From C:\\ProgramData\\Anaconda3\\envs\\ronnytf\\lib\\site-packages\\keras\\backend\\tensorflow_backend.py:3445: calling dropout (from tensorflow.python.ops.nn_ops) with keep_prob is deprecated and will be removed in a future version.\n",
      "Instructions for updating:\n",
      "Please use `rate` instead of `keep_prob`. Rate should be set to `rate = 1 - keep_prob`.\n"
     ]
    }
   ],
   "source": [
    "# Model architecture\n",
    "with K.tf.device('/GPU:0'):\n",
    "    input_cell = Input(shape=(train_X_cell.shape[1], train_X_cell.shape[2]), name='cell_input')\n",
    "#     input_drug = Input(shape=(train_X_drug.shape[1], train_X_drug.shape[2]), name='drug_input')\n",
    "\n",
    "    conv_cell_line_1 = Conv1D(filters=50, kernel_size=700, strides=5, activation='tanh')(input_cell)\n",
    "    maxpool_cell_line_1 = MaxPooling1D(pool_size=5)(conv_cell_line_1)\n",
    "    conv_cell_line_2 = Conv1D(filters=30, kernel_size=5, strides=2, activation='relu')(maxpool_cell_line_1)\n",
    "    maxpool_cell_line_2 = MaxPooling1D(pool_size=10)(conv_cell_line_2)\n",
    "    flatten_cell_line = Flatten()(maxpool_cell_line_2)\n",
    "    dense_cell_line = Dense(100, activation='relu')(flatten_cell_line)\n",
    "    dropout_cell_line = Dropout(0.1)(dense_cell_line)\n",
    "\n",
    "#     conv_drug_1 = Conv1D(filters=50, kernel_size=200, strides=3, activation='tanh')(input_drug)\n",
    "#     maxpool_drug_1 = MaxPooling1D(pool_size=5)(conv_drug_1)\n",
    "#     conv_drug_2 = Conv1D(filters=30, kernel_size=50, strides=5, activation='relu')(maxpool_drug_1)\n",
    "#     maxpool_drug_2 = MaxPooling1D(pool_size=10)(conv_drug_2)\n",
    "#     flatten_drug = Flatten()(maxpool_drug_2)\n",
    "#     dense_drug = Dense(100, activation='relu')(flatten_drug)\n",
    "#     dropout_drug = Dropout(0.1)(dense_drug)\n",
    "\n",
    "#     concatenate = Concatenate()([dropout_cell_line, dropout_drug])\n",
    "    dense_1 = Dense(300, activation='tanh')(dropout_cell_line)\n",
    "    dropout_1 = Dropout(0.1)(dense_1)\n",
    "    reshape_1 = Reshape((300,1))(dropout_1)\n",
    "    conv_1 = Conv1D(filters=30, kernel_size=150, strides=1, activation='relu')(reshape_1)\n",
    "    maxpool_1 = MaxPooling1D(pool_size=2)(conv_1)\n",
    "    conv_2 = Conv1D(filters=10, kernel_size=5, strides=1, activation='relu')(maxpool_1)\n",
    "    maxpool_2 = MaxPooling1D(pool_size=3)(conv_2)\n",
    "    conv_3 = Conv1D(filters=5, kernel_size=5, strides=1, activation='relu')(maxpool_2)\n",
    "    maxpool_3 = MaxPooling1D(pool_size=3)(conv_3)\n",
    "    dropout_2 = Dropout(0.1)(maxpool_3)\n",
    "    flatten = Flatten()(dropout_2)\n",
    "    dropout_3 = Dropout(0.2)(flatten)\n",
    "    output = Dense(1, activation='linear', name='pred_lnIC50')(dropout_3)\n",
    "    model = Model(inputs=[input_cell], outputs=output, name='MasterModel')\n"
   ]
  },
  {
   "cell_type": "code",
   "execution_count": 23,
   "metadata": {
    "scrolled": true
   },
   "outputs": [
    {
     "name": "stdout",
     "output_type": "stream",
     "text": [
      "_________________________________________________________________\n",
      "Layer (type)                 Output Shape              Param #   \n",
      "=================================================================\n",
      "cell_input (InputLayer)      (None, 18988, 1)          0         \n",
      "_________________________________________________________________\n",
      "conv1d_1 (Conv1D)            (None, 3658, 50)          35050     \n",
      "_________________________________________________________________\n",
      "max_pooling1d_1 (MaxPooling1 (None, 731, 50)           0         \n",
      "_________________________________________________________________\n",
      "conv1d_2 (Conv1D)            (None, 364, 30)           7530      \n",
      "_________________________________________________________________\n",
      "max_pooling1d_2 (MaxPooling1 (None, 36, 30)            0         \n",
      "_________________________________________________________________\n",
      "flatten_1 (Flatten)          (None, 1080)              0         \n",
      "_________________________________________________________________\n",
      "dense_1 (Dense)              (None, 100)               108100    \n",
      "_________________________________________________________________\n",
      "dropout_1 (Dropout)          (None, 100)               0         \n",
      "_________________________________________________________________\n",
      "dense_2 (Dense)              (None, 300)               30300     \n",
      "_________________________________________________________________\n",
      "dropout_2 (Dropout)          (None, 300)               0         \n",
      "_________________________________________________________________\n",
      "reshape_1 (Reshape)          (None, 300, 1)            0         \n",
      "_________________________________________________________________\n",
      "conv1d_3 (Conv1D)            (None, 151, 30)           4530      \n",
      "_________________________________________________________________\n",
      "max_pooling1d_3 (MaxPooling1 (None, 75, 30)            0         \n",
      "_________________________________________________________________\n",
      "conv1d_4 (Conv1D)            (None, 71, 10)            1510      \n",
      "_________________________________________________________________\n",
      "max_pooling1d_4 (MaxPooling1 (None, 23, 10)            0         \n",
      "_________________________________________________________________\n",
      "conv1d_5 (Conv1D)            (None, 19, 5)             255       \n",
      "_________________________________________________________________\n",
      "max_pooling1d_5 (MaxPooling1 (None, 6, 5)              0         \n",
      "_________________________________________________________________\n",
      "dropout_3 (Dropout)          (None, 6, 5)              0         \n",
      "_________________________________________________________________\n",
      "flatten_2 (Flatten)          (None, 30)                0         \n",
      "_________________________________________________________________\n",
      "dropout_4 (Dropout)          (None, 30)                0         \n",
      "_________________________________________________________________\n",
      "pred_lnIC50 (Dense)          (None, 1)                 31        \n",
      "=================================================================\n",
      "Total params: 187,306\n",
      "Trainable params: 187,306\n",
      "Non-trainable params: 0\n",
      "_________________________________________________________________\n"
     ]
    }
   ],
   "source": [
    "model.summary()"
   ]
  },
  {
   "cell_type": "code",
   "execution_count": 24,
   "metadata": {},
   "outputs": [],
   "source": [
    "config = tf.ConfigProto()\n",
    "config.gpu_options.allow_growth = True\n",
    "sess = tf.Session(config=config)"
   ]
  },
  {
   "cell_type": "code",
   "execution_count": 25,
   "metadata": {
    "scrolled": true
   },
   "outputs": [
    {
     "name": "stdout",
     "output_type": "stream",
     "text": [
      "StartTime : 2019-12-05 16:18:08.689000\n",
      "WARNING:tensorflow:From C:\\ProgramData\\Anaconda3\\envs\\ronnytf\\lib\\site-packages\\tensorflow\\python\\ops\\math_ops.py:3066: to_int32 (from tensorflow.python.ops.math_ops) is deprecated and will be removed in a future version.\n",
      "Instructions for updating:\n",
      "Use tf.cast instead.\n",
      "Train on 10224 samples, validate on 1136 samples\n",
      "Epoch 1/150\n",
      "10224/10224 [==============================] - 7s 716us/step - loss: 4.1137 - mean_squared_error: 4.1137 - mean_absolute_error: 1.6343 - val_loss: 4.2031 - val_mean_squared_error: 4.2031 - val_mean_absolute_error: 1.6030\n",
      "Epoch 2/150\n",
      "10224/10224 [==============================] - 3s 283us/step - loss: 4.0027 - mean_squared_error: 4.0027 - mean_absolute_error: 1.5777 - val_loss: 4.2488 - val_mean_squared_error: 4.2488 - val_mean_absolute_error: 1.5375\n",
      "Epoch 3/150\n",
      "10224/10224 [==============================] - 3s 289us/step - loss: 3.9618 - mean_squared_error: 3.9618 - mean_absolute_error: 1.5642 - val_loss: 4.2775 - val_mean_squared_error: 4.2775 - val_mean_absolute_error: 1.5061\n",
      "Epoch 4/150\n",
      "10224/10224 [==============================] - 3s 293us/step - loss: 3.9336 - mean_squared_error: 3.9336 - mean_absolute_error: 1.5521 - val_loss: 4.1783 - val_mean_squared_error: 4.1783 - val_mean_absolute_error: 1.6229\n",
      "Epoch 5/150\n",
      "10224/10224 [==============================] - 3s 293us/step - loss: 3.9027 - mean_squared_error: 3.9027 - mean_absolute_error: 1.5360 - val_loss: 4.2183 - val_mean_squared_error: 4.2183 - val_mean_absolute_error: 1.5754\n",
      "Epoch 6/150\n",
      "10224/10224 [==============================] - 3s 291us/step - loss: 3.8898 - mean_squared_error: 3.8898 - mean_absolute_error: 1.5371 - val_loss: 4.2726 - val_mean_squared_error: 4.2726 - val_mean_absolute_error: 1.5349\n",
      "Epoch 7/150\n",
      "10224/10224 [==============================] - 3s 296us/step - loss: 3.8854 - mean_squared_error: 3.8854 - mean_absolute_error: 1.5246 - val_loss: 4.2196 - val_mean_squared_error: 4.2196 - val_mean_absolute_error: 1.6629\n",
      "Epoch 8/150\n",
      "10224/10224 [==============================] - 3s 298us/step - loss: 3.8816 - mean_squared_error: 3.8816 - mean_absolute_error: 1.5269 - val_loss: 4.2214 - val_mean_squared_error: 4.2214 - val_mean_absolute_error: 1.6031\n",
      "Epoch 9/150\n",
      "10224/10224 [==============================] - 3s 291us/step - loss: 3.8553 - mean_squared_error: 3.8553 - mean_absolute_error: 1.5224 - val_loss: 4.2511 - val_mean_squared_error: 4.2511 - val_mean_absolute_error: 1.6063\n",
      "Epoch 10/150\n",
      "10224/10224 [==============================] - 3s 294us/step - loss: 3.8775 - mean_squared_error: 3.8775 - mean_absolute_error: 1.5279 - val_loss: 4.2948 - val_mean_squared_error: 4.2948 - val_mean_absolute_error: 1.5768\n",
      "Epoch 11/150\n",
      "10224/10224 [==============================] - 3s 290us/step - loss: 3.8634 - mean_squared_error: 3.8634 - mean_absolute_error: 1.5247 - val_loss: 4.2785 - val_mean_squared_error: 4.2785 - val_mean_absolute_error: 1.5489\n",
      "Epoch 12/150\n",
      "10224/10224 [==============================] - 3s 292us/step - loss: 3.8444 - mean_squared_error: 3.8444 - mean_absolute_error: 1.5128 - val_loss: 4.2776 - val_mean_squared_error: 4.2776 - val_mean_absolute_error: 1.5871\n",
      "Epoch 13/150\n",
      "10224/10224 [==============================] - 3s 292us/step - loss: 3.8539 - mean_squared_error: 3.8539 - mean_absolute_error: 1.5182 - val_loss: 4.2566 - val_mean_squared_error: 4.2566 - val_mean_absolute_error: 1.6171\n",
      "Epoch 14/150\n",
      "10224/10224 [==============================] - 3s 289us/step - loss: 3.8565 - mean_squared_error: 3.8565 - mean_absolute_error: 1.5192 - val_loss: 4.2315 - val_mean_squared_error: 4.2315 - val_mean_absolute_error: 1.5878\n",
      "Epoch 15/150\n",
      "10224/10224 [==============================] - 3s 292us/step - loss: 3.8490 - mean_squared_error: 3.8490 - mean_absolute_error: 1.5197 - val_loss: 4.2903 - val_mean_squared_error: 4.2903 - val_mean_absolute_error: 1.5627\n",
      "Epoch 16/150\n",
      "10224/10224 [==============================] - 3s 293us/step - loss: 3.8455 - mean_squared_error: 3.8455 - mean_absolute_error: 1.5166 - val_loss: 4.2869 - val_mean_squared_error: 4.2869 - val_mean_absolute_error: 1.5754\n",
      "Epoch 17/150\n",
      "10224/10224 [==============================] - 3s 292us/step - loss: 3.8483 - mean_squared_error: 3.8483 - mean_absolute_error: 1.5159 - val_loss: 4.2462 - val_mean_squared_error: 4.2462 - val_mean_absolute_error: 1.6245\n",
      "Epoch 18/150\n",
      "10224/10224 [==============================] - 3s 291us/step - loss: 3.8317 - mean_squared_error: 3.8317 - mean_absolute_error: 1.5086 - val_loss: 4.2509 - val_mean_squared_error: 4.2509 - val_mean_absolute_error: 1.5915\n",
      "Epoch 19/150\n",
      "10224/10224 [==============================] - 3s 292us/step - loss: 3.8528 - mean_squared_error: 3.8528 - mean_absolute_error: 1.5198 - val_loss: 4.2429 - val_mean_squared_error: 4.2429 - val_mean_absolute_error: 1.5971\n",
      "Epoch 20/150\n",
      "10224/10224 [==============================] - 3s 294us/step - loss: 3.8355 - mean_squared_error: 3.8355 - mean_absolute_error: 1.5092 - val_loss: 4.2442 - val_mean_squared_error: 4.2442 - val_mean_absolute_error: 1.5901\n",
      "Epoch 21/150\n",
      "10224/10224 [==============================] - 3s 292us/step - loss: 3.8370 - mean_squared_error: 3.8370 - mean_absolute_error: 1.5104 - val_loss: 4.2594 - val_mean_squared_error: 4.2594 - val_mean_absolute_error: 1.5958\n",
      "Epoch 22/150\n",
      "10224/10224 [==============================] - 3s 295us/step - loss: 3.8320 - mean_squared_error: 3.8320 - mean_absolute_error: 1.5080 - val_loss: 4.2823 - val_mean_squared_error: 4.2823 - val_mean_absolute_error: 1.7034\n",
      "Epoch 23/150\n",
      "10224/10224 [==============================] - 3s 293us/step - loss: 3.8361 - mean_squared_error: 3.8361 - mean_absolute_error: 1.5161 - val_loss: 4.2554 - val_mean_squared_error: 4.2554 - val_mean_absolute_error: 1.5923\n",
      "Epoch 24/150\n",
      "10224/10224 [==============================] - 3s 297us/step - loss: 3.8234 - mean_squared_error: 3.8234 - mean_absolute_error: 1.5062 - val_loss: 4.2816 - val_mean_squared_error: 4.2816 - val_mean_absolute_error: 1.6098\n",
      "Epoch 25/150\n",
      "10224/10224 [==============================] - 3s 292us/step - loss: 3.8322 - mean_squared_error: 3.8322 - mean_absolute_error: 1.5022 - val_loss: 4.2444 - val_mean_squared_error: 4.2444 - val_mean_absolute_error: 1.6630\n",
      "Epoch 26/150\n",
      "10224/10224 [==============================] - 3s 295us/step - loss: 3.8252 - mean_squared_error: 3.8252 - mean_absolute_error: 1.5097 - val_loss: 4.2551 - val_mean_squared_error: 4.2551 - val_mean_absolute_error: 1.6388\n",
      "Epoch 27/150\n",
      "10224/10224 [==============================] - 3s 295us/step - loss: 3.8265 - mean_squared_error: 3.8265 - mean_absolute_error: 1.5109 - val_loss: 4.2966 - val_mean_squared_error: 4.2966 - val_mean_absolute_error: 1.5919\n",
      "Epoch 28/150\n",
      "10224/10224 [==============================] - 3s 291us/step - loss: 3.8258 - mean_squared_error: 3.8258 - mean_absolute_error: 1.5105 - val_loss: 4.2520 - val_mean_squared_error: 4.2520 - val_mean_absolute_error: 1.5994\n",
      "Epoch 29/150\n",
      "10224/10224 [==============================] - 3s 306us/step - loss: 3.8163 - mean_squared_error: 3.8163 - mean_absolute_error: 1.5048 - val_loss: 4.2644 - val_mean_squared_error: 4.2644 - val_mean_absolute_error: 1.6329\n",
      "Epoch 30/150\n",
      "10224/10224 [==============================] - 3s 293us/step - loss: 3.8314 - mean_squared_error: 3.8314 - mean_absolute_error: 1.5109 - val_loss: 4.2847 - val_mean_squared_error: 4.2847 - val_mean_absolute_error: 1.5736\n",
      "Epoch 31/150\n",
      "10224/10224 [==============================] - 3s 292us/step - loss: 3.8254 - mean_squared_error: 3.8254 - mean_absolute_error: 1.5051 - val_loss: 4.2618 - val_mean_squared_error: 4.2618 - val_mean_absolute_error: 1.6356\n",
      "Epoch 32/150\n",
      "10224/10224 [==============================] - 3s 291us/step - loss: 3.8238 - mean_squared_error: 3.8238 - mean_absolute_error: 1.5154 - val_loss: 4.2766 - val_mean_squared_error: 4.2766 - val_mean_absolute_error: 1.6001\n",
      "Epoch 33/150\n",
      "10224/10224 [==============================] - 3s 293us/step - loss: 3.8220 - mean_squared_error: 3.8220 - mean_absolute_error: 1.5116 - val_loss: 4.2785 - val_mean_squared_error: 4.2785 - val_mean_absolute_error: 1.5681\n",
      "Epoch 34/150\n",
      "10224/10224 [==============================] - 3s 289us/step - loss: 3.8215 - mean_squared_error: 3.8215 - mean_absolute_error: 1.5035 - val_loss: 4.3115 - val_mean_squared_error: 4.3115 - val_mean_absolute_error: 1.5881\n",
      "Epoch 35/150\n",
      "10224/10224 [==============================] - 3s 290us/step - loss: 3.8226 - mean_squared_error: 3.8226 - mean_absolute_error: 1.5041 - val_loss: 4.2545 - val_mean_squared_error: 4.2545 - val_mean_absolute_error: 1.6401\n",
      "Epoch 36/150\n",
      "10224/10224 [==============================] - 3s 292us/step - loss: 3.8216 - mean_squared_error: 3.8216 - mean_absolute_error: 1.5118 - val_loss: 4.2900 - val_mean_squared_error: 4.2900 - val_mean_absolute_error: 1.5958\n",
      "Epoch 37/150\n",
      "10224/10224 [==============================] - 3s 289us/step - loss: 3.8105 - mean_squared_error: 3.8105 - mean_absolute_error: 1.5017 - val_loss: 4.2967 - val_mean_squared_error: 4.2967 - val_mean_absolute_error: 1.5904\n",
      "Epoch 38/150\n",
      "10224/10224 [==============================] - 3s 292us/step - loss: 3.8075 - mean_squared_error: 3.8075 - mean_absolute_error: 1.4998 - val_loss: 4.2927 - val_mean_squared_error: 4.2927 - val_mean_absolute_error: 1.6186\n",
      "Epoch 39/150\n",
      "10224/10224 [==============================] - 3s 288us/step - loss: 3.8179 - mean_squared_error: 3.8179 - mean_absolute_error: 1.5055 - val_loss: 4.3043 - val_mean_squared_error: 4.3043 - val_mean_absolute_error: 1.5704\n",
      "Epoch 40/150\n",
      "10224/10224 [==============================] - 3s 290us/step - loss: 3.8213 - mean_squared_error: 3.8213 - mean_absolute_error: 1.5097 - val_loss: 4.3140 - val_mean_squared_error: 4.3140 - val_mean_absolute_error: 1.6114\n",
      "Epoch 41/150\n",
      "10224/10224 [==============================] - 3s 302us/step - loss: 3.8049 - mean_squared_error: 3.8049 - mean_absolute_error: 1.5014 - val_loss: 4.2518 - val_mean_squared_error: 4.2518 - val_mean_absolute_error: 1.6132\n",
      "Epoch 42/150\n",
      "10224/10224 [==============================] - 3s 290us/step - loss: 3.8194 - mean_squared_error: 3.8194 - mean_absolute_error: 1.5061 - val_loss: 4.2967 - val_mean_squared_error: 4.2967 - val_mean_absolute_error: 1.5724\n",
      "Epoch 43/150\n",
      "10224/10224 [==============================] - 3s 290us/step - loss: 3.8238 - mean_squared_error: 3.8238 - mean_absolute_error: 1.5049 - val_loss: 4.2685 - val_mean_squared_error: 4.2685 - val_mean_absolute_error: 1.6343\n",
      "Epoch 44/150\n",
      "10224/10224 [==============================] - 3s 294us/step - loss: 3.8113 - mean_squared_error: 3.8113 - mean_absolute_error: 1.5026 - val_loss: 4.2898 - val_mean_squared_error: 4.2898 - val_mean_absolute_error: 1.6134\n",
      "Epoch 45/150\n",
      "10224/10224 [==============================] - 3s 287us/step - loss: 3.8175 - mean_squared_error: 3.8175 - mean_absolute_error: 1.5076 - val_loss: 4.2670 - val_mean_squared_error: 4.2670 - val_mean_absolute_error: 1.6593\n",
      "Epoch 46/150\n",
      "10224/10224 [==============================] - 3s 291us/step - loss: 3.8173 - mean_squared_error: 3.8173 - mean_absolute_error: 1.5052 - val_loss: 4.2965 - val_mean_squared_error: 4.2965 - val_mean_absolute_error: 1.6476\n",
      "Epoch 47/150\n",
      "10224/10224 [==============================] - 3s 321us/step - loss: 3.8330 - mean_squared_error: 3.8330 - mean_absolute_error: 1.5115 - val_loss: 4.2864 - val_mean_squared_error: 4.2864 - val_mean_absolute_error: 1.5919\n",
      "Epoch 48/150\n",
      "10224/10224 [==============================] - 3s 292us/step - loss: 3.8060 - mean_squared_error: 3.8060 - mean_absolute_error: 1.5060 - val_loss: 4.3040 - val_mean_squared_error: 4.3040 - val_mean_absolute_error: 1.5856\n",
      "Epoch 49/150\n",
      "10224/10224 [==============================] - 3s 289us/step - loss: 3.8034 - mean_squared_error: 3.8034 - mean_absolute_error: 1.4969 - val_loss: 4.3022 - val_mean_squared_error: 4.3022 - val_mean_absolute_error: 1.5829\n",
      "Epoch 50/150\n",
      "10224/10224 [==============================] - 3s 296us/step - loss: 3.8101 - mean_squared_error: 3.8101 - mean_absolute_error: 1.5058 - val_loss: 4.3391 - val_mean_squared_error: 4.3391 - val_mean_absolute_error: 1.5713\n",
      "Epoch 51/150\n",
      "10224/10224 [==============================] - 3s 296us/step - loss: 3.8116 - mean_squared_error: 3.8116 - mean_absolute_error: 1.5025 - val_loss: 4.3159 - val_mean_squared_error: 4.3159 - val_mean_absolute_error: 1.5745\n",
      "Epoch 52/150\n",
      "10224/10224 [==============================] - 3s 292us/step - loss: 3.7985 - mean_squared_error: 3.7985 - mean_absolute_error: 1.4993 - val_loss: 4.3466 - val_mean_squared_error: 4.3466 - val_mean_absolute_error: 1.5654\n",
      "Epoch 53/150\n",
      "10224/10224 [==============================] - 3s 293us/step - loss: 3.8187 - mean_squared_error: 3.8187 - mean_absolute_error: 1.5042 - val_loss: 4.2982 - val_mean_squared_error: 4.2982 - val_mean_absolute_error: 1.6132\n",
      "Epoch 54/150\n",
      "10224/10224 [==============================] - 3s 287us/step - loss: 3.8008 - mean_squared_error: 3.8008 - mean_absolute_error: 1.4960 - val_loss: 4.2820 - val_mean_squared_error: 4.2820 - val_mean_absolute_error: 1.6067\n",
      "Epoch 55/150\n",
      "10224/10224 [==============================] - 3s 289us/step - loss: 3.8074 - mean_squared_error: 3.8074 - mean_absolute_error: 1.4993 - val_loss: 4.2772 - val_mean_squared_error: 4.2772 - val_mean_absolute_error: 1.6331\n",
      "Epoch 56/150\n",
      "10224/10224 [==============================] - 3s 289us/step - loss: 3.8045 - mean_squared_error: 3.8045 - mean_absolute_error: 1.5069 - val_loss: 4.3031 - val_mean_squared_error: 4.3031 - val_mean_absolute_error: 1.6036\n",
      "Epoch 57/150\n",
      "10224/10224 [==============================] - 3s 288us/step - loss: 3.8111 - mean_squared_error: 3.8111 - mean_absolute_error: 1.5042 - val_loss: 4.2897 - val_mean_squared_error: 4.2897 - val_mean_absolute_error: 1.6215\n",
      "Epoch 58/150\n",
      "10224/10224 [==============================] - 3s 289us/step - loss: 3.8047 - mean_squared_error: 3.8047 - mean_absolute_error: 1.5012 - val_loss: 4.3080 - val_mean_squared_error: 4.3080 - val_mean_absolute_error: 1.5972\n",
      "Epoch 59/150\n",
      "10224/10224 [==============================] - 3s 293us/step - loss: 3.8062 - mean_squared_error: 3.8062 - mean_absolute_error: 1.5038 - val_loss: 4.3259 - val_mean_squared_error: 4.3259 - val_mean_absolute_error: 1.5826\n",
      "Epoch 60/150\n",
      "10224/10224 [==============================] - 3s 290us/step - loss: 3.8123 - mean_squared_error: 3.8123 - mean_absolute_error: 1.5027 - val_loss: 4.2824 - val_mean_squared_error: 4.2824 - val_mean_absolute_error: 1.6419\n",
      "Epoch 61/150\n",
      "10224/10224 [==============================] - 3s 303us/step - loss: 3.8000 - mean_squared_error: 3.8000 - mean_absolute_error: 1.4972 - val_loss: 4.2679 - val_mean_squared_error: 4.2679 - val_mean_absolute_error: 1.6291\n",
      "Epoch 62/150\n",
      "10224/10224 [==============================] - 3s 303us/step - loss: 3.8091 - mean_squared_error: 3.8091 - mean_absolute_error: 1.5020 - val_loss: 4.2624 - val_mean_squared_error: 4.2624 - val_mean_absolute_error: 1.6217\n",
      "Epoch 63/150\n",
      "10224/10224 [==============================] - 3s 295us/step - loss: 3.8095 - mean_squared_error: 3.8095 - mean_absolute_error: 1.5047 - val_loss: 4.2614 - val_mean_squared_error: 4.2614 - val_mean_absolute_error: 1.6252\n",
      "Epoch 64/150\n",
      "10224/10224 [==============================] - 3s 302us/step - loss: 3.8053 - mean_squared_error: 3.8053 - mean_absolute_error: 1.4975 - val_loss: 4.2886 - val_mean_squared_error: 4.2886 - val_mean_absolute_error: 1.6337\n",
      "Epoch 65/150\n",
      "10224/10224 [==============================] - 3s 286us/step - loss: 3.7953 - mean_squared_error: 3.7953 - mean_absolute_error: 1.5006 - val_loss: 4.3236 - val_mean_squared_error: 4.3236 - val_mean_absolute_error: 1.5814\n",
      "Epoch 66/150\n",
      "10224/10224 [==============================] - 3s 287us/step - loss: 3.8004 - mean_squared_error: 3.8004 - mean_absolute_error: 1.4958 - val_loss: 4.2845 - val_mean_squared_error: 4.2845 - val_mean_absolute_error: 1.6247\n",
      "Epoch 67/150\n",
      "10224/10224 [==============================] - 3s 294us/step - loss: 3.7929 - mean_squared_error: 3.7929 - mean_absolute_error: 1.4994 - val_loss: 4.2766 - val_mean_squared_error: 4.2766 - val_mean_absolute_error: 1.6458\n",
      "Epoch 68/150\n",
      "10224/10224 [==============================] - 3s 287us/step - loss: 3.8082 - mean_squared_error: 3.8082 - mean_absolute_error: 1.5030 - val_loss: 4.3335 - val_mean_squared_error: 4.3335 - val_mean_absolute_error: 1.5406\n",
      "Epoch 69/150\n"
     ]
    },
    {
     "name": "stdout",
     "output_type": "stream",
     "text": [
      "10224/10224 [==============================] - 3s 290us/step - loss: 3.8080 - mean_squared_error: 3.8080 - mean_absolute_error: 1.5001 - val_loss: 4.2948 - val_mean_squared_error: 4.2948 - val_mean_absolute_error: 1.5840\n",
      "Epoch 70/150\n",
      "10224/10224 [==============================] - 3s 297us/step - loss: 3.7988 - mean_squared_error: 3.7988 - mean_absolute_error: 1.4985 - val_loss: 4.2732 - val_mean_squared_error: 4.2732 - val_mean_absolute_error: 1.6141\n",
      "Epoch 71/150\n",
      "10224/10224 [==============================] - 3s 296us/step - loss: 3.8081 - mean_squared_error: 3.8081 - mean_absolute_error: 1.5054 - val_loss: 4.2677 - val_mean_squared_error: 4.2677 - val_mean_absolute_error: 1.6287\n",
      "Epoch 72/150\n",
      "10224/10224 [==============================] - 3s 286us/step - loss: 3.8017 - mean_squared_error: 3.8017 - mean_absolute_error: 1.5001 - val_loss: 4.3211 - val_mean_squared_error: 4.3211 - val_mean_absolute_error: 1.5868\n",
      "Epoch 73/150\n",
      "10224/10224 [==============================] - 3s 286us/step - loss: 3.8069 - mean_squared_error: 3.8069 - mean_absolute_error: 1.4975 - val_loss: 4.3160 - val_mean_squared_error: 4.3160 - val_mean_absolute_error: 1.6136\n",
      "Epoch 74/150\n",
      "10224/10224 [==============================] - 3s 298us/step - loss: 3.7923 - mean_squared_error: 3.7923 - mean_absolute_error: 1.5014 - val_loss: 4.3020 - val_mean_squared_error: 4.3020 - val_mean_absolute_error: 1.5623\n",
      "Epoch 75/150\n",
      "10224/10224 [==============================] - 3s 286us/step - loss: 3.8019 - mean_squared_error: 3.8019 - mean_absolute_error: 1.4958 - val_loss: 4.2943 - val_mean_squared_error: 4.2943 - val_mean_absolute_error: 1.6108\n",
      "Epoch 76/150\n",
      "10224/10224 [==============================] - 3s 295us/step - loss: 3.7989 - mean_squared_error: 3.7989 - mean_absolute_error: 1.4965 - val_loss: 4.2719 - val_mean_squared_error: 4.2719 - val_mean_absolute_error: 1.6200\n",
      "Epoch 77/150\n",
      "10224/10224 [==============================] - 3s 292us/step - loss: 3.7959 - mean_squared_error: 3.7959 - mean_absolute_error: 1.4973 - val_loss: 4.3092 - val_mean_squared_error: 4.3092 - val_mean_absolute_error: 1.5787\n",
      "Epoch 78/150\n",
      "10224/10224 [==============================] - 3s 286us/step - loss: 3.8056 - mean_squared_error: 3.8056 - mean_absolute_error: 1.4986 - val_loss: 4.2726 - val_mean_squared_error: 4.2726 - val_mean_absolute_error: 1.6306\n",
      "Epoch 79/150\n",
      "10224/10224 [==============================] - 3s 289us/step - loss: 3.7990 - mean_squared_error: 3.7990 - mean_absolute_error: 1.5014 - val_loss: 4.3049 - val_mean_squared_error: 4.3049 - val_mean_absolute_error: 1.6161\n",
      "Epoch 80/150\n",
      "10224/10224 [==============================] - 3s 286us/step - loss: 3.7964 - mean_squared_error: 3.7964 - mean_absolute_error: 1.4988 - val_loss: 4.2934 - val_mean_squared_error: 4.2934 - val_mean_absolute_error: 1.6151\n",
      "Epoch 81/150\n",
      "10224/10224 [==============================] - 3s 287us/step - loss: 3.7958 - mean_squared_error: 3.7958 - mean_absolute_error: 1.4976 - val_loss: 4.2893 - val_mean_squared_error: 4.2893 - val_mean_absolute_error: 1.5982\n",
      "Epoch 82/150\n",
      "10224/10224 [==============================] - 3s 288us/step - loss: 3.7991 - mean_squared_error: 3.7991 - mean_absolute_error: 1.5035 - val_loss: 4.2993 - val_mean_squared_error: 4.2993 - val_mean_absolute_error: 1.6131\n",
      "Epoch 83/150\n",
      "10224/10224 [==============================] - 3s 285us/step - loss: 3.7921 - mean_squared_error: 3.7921 - mean_absolute_error: 1.4997 - val_loss: 4.3502 - val_mean_squared_error: 4.3502 - val_mean_absolute_error: 1.5675\n",
      "Epoch 84/150\n",
      "10224/10224 [==============================] - 3s 309us/step - loss: 3.7820 - mean_squared_error: 3.7820 - mean_absolute_error: 1.4899 - val_loss: 4.3360 - val_mean_squared_error: 4.3360 - val_mean_absolute_error: 1.5889\n",
      "Epoch 85/150\n",
      "10224/10224 [==============================] - 3s 297us/step - loss: 3.7991 - mean_squared_error: 3.7991 - mean_absolute_error: 1.4978 - val_loss: 4.2794 - val_mean_squared_error: 4.2794 - val_mean_absolute_error: 1.6226\n",
      "Epoch 86/150\n",
      "10224/10224 [==============================] - 3s 313us/step - loss: 3.7950 - mean_squared_error: 3.7950 - mean_absolute_error: 1.5020 - val_loss: 4.2843 - val_mean_squared_error: 4.2843 - val_mean_absolute_error: 1.5877\n",
      "Epoch 87/150\n",
      "10224/10224 [==============================] - 3s 289us/step - loss: 3.7884 - mean_squared_error: 3.7884 - mean_absolute_error: 1.4925 - val_loss: 4.2995 - val_mean_squared_error: 4.2995 - val_mean_absolute_error: 1.6135\n",
      "Epoch 88/150\n",
      "10224/10224 [==============================] - 3s 285us/step - loss: 3.7874 - mean_squared_error: 3.7874 - mean_absolute_error: 1.4888 - val_loss: 4.3042 - val_mean_squared_error: 4.3042 - val_mean_absolute_error: 1.5976\n",
      "Epoch 89/150\n",
      "10224/10224 [==============================] - 3s 292us/step - loss: 3.7951 - mean_squared_error: 3.7951 - mean_absolute_error: 1.4999 - val_loss: 4.3131 - val_mean_squared_error: 4.3131 - val_mean_absolute_error: 1.6001\n",
      "Epoch 90/150\n",
      "10224/10224 [==============================] - 3s 291us/step - loss: 3.7957 - mean_squared_error: 3.7957 - mean_absolute_error: 1.5005 - val_loss: 4.3274 - val_mean_squared_error: 4.3274 - val_mean_absolute_error: 1.5935\n",
      "Epoch 91/150\n",
      "10224/10224 [==============================] - 3s 288us/step - loss: 3.7942 - mean_squared_error: 3.7942 - mean_absolute_error: 1.4954 - val_loss: 4.3062 - val_mean_squared_error: 4.3062 - val_mean_absolute_error: 1.6065\n",
      "Epoch 92/150\n",
      "10224/10224 [==============================] - 3s 289us/step - loss: 3.7901 - mean_squared_error: 3.7901 - mean_absolute_error: 1.4954 - val_loss: 4.3221 - val_mean_squared_error: 4.3221 - val_mean_absolute_error: 1.5781\n",
      "Epoch 93/150\n",
      "10224/10224 [==============================] - 3s 290us/step - loss: 3.7797 - mean_squared_error: 3.7797 - mean_absolute_error: 1.4879 - val_loss: 4.2704 - val_mean_squared_error: 4.2704 - val_mean_absolute_error: 1.6054\n",
      "Epoch 94/150\n",
      "10224/10224 [==============================] - 3s 288us/step - loss: 3.8100 - mean_squared_error: 3.8100 - mean_absolute_error: 1.5028 - val_loss: 4.3149 - val_mean_squared_error: 4.3149 - val_mean_absolute_error: 1.5932\n",
      "Epoch 95/150\n",
      "10224/10224 [==============================] - 3s 288us/step - loss: 3.7948 - mean_squared_error: 3.7948 - mean_absolute_error: 1.5025 - val_loss: 4.3079 - val_mean_squared_error: 4.3079 - val_mean_absolute_error: 1.5901\n",
      "Epoch 96/150\n",
      "10224/10224 [==============================] - 3s 286us/step - loss: 3.7925 - mean_squared_error: 3.7925 - mean_absolute_error: 1.4890 - val_loss: 4.2796 - val_mean_squared_error: 4.2796 - val_mean_absolute_error: 1.6290\n",
      "Epoch 97/150\n",
      "10224/10224 [==============================] - 3s 286us/step - loss: 3.7962 - mean_squared_error: 3.7962 - mean_absolute_error: 1.5052 - val_loss: 4.3313 - val_mean_squared_error: 4.3313 - val_mean_absolute_error: 1.5972\n",
      "Epoch 98/150\n",
      "10224/10224 [==============================] - 3s 289us/step - loss: 3.7881 - mean_squared_error: 3.7881 - mean_absolute_error: 1.4919 - val_loss: 4.2885 - val_mean_squared_error: 4.2885 - val_mean_absolute_error: 1.6049\n",
      "Epoch 99/150\n",
      "10224/10224 [==============================] - 3s 289us/step - loss: 3.7960 - mean_squared_error: 3.7960 - mean_absolute_error: 1.4991 - val_loss: 4.3179 - val_mean_squared_error: 4.3179 - val_mean_absolute_error: 1.6055\n",
      "Epoch 100/150\n",
      "10224/10224 [==============================] - 3s 288us/step - loss: 3.7867 - mean_squared_error: 3.7867 - mean_absolute_error: 1.4928 - val_loss: 4.3113 - val_mean_squared_error: 4.3113 - val_mean_absolute_error: 1.5861\n",
      "Epoch 101/150\n",
      "10224/10224 [==============================] - 3s 290us/step - loss: 3.7951 - mean_squared_error: 3.7951 - mean_absolute_error: 1.4993 - val_loss: 4.3285 - val_mean_squared_error: 4.3285 - val_mean_absolute_error: 1.6020\n",
      "Epoch 102/150\n",
      "10224/10224 [==============================] - 3s 285us/step - loss: 3.7991 - mean_squared_error: 3.7991 - mean_absolute_error: 1.5003 - val_loss: 4.3090 - val_mean_squared_error: 4.3090 - val_mean_absolute_error: 1.6158\n",
      "Epoch 103/150\n",
      "10224/10224 [==============================] - 3s 287us/step - loss: 3.7891 - mean_squared_error: 3.7891 - mean_absolute_error: 1.4933 - val_loss: 4.3602 - val_mean_squared_error: 4.3602 - val_mean_absolute_error: 1.6026\n",
      "Epoch 104/150\n"
     ]
    },
    {
     "name": "stdout",
     "output_type": "stream",
     "text": [
      "10224/10224 [==============================] - 3s 286us/step - loss: 3.7917 - mean_squared_error: 3.7917 - mean_absolute_error: 1.4925 - val_loss: 4.3021 - val_mean_squared_error: 4.3021 - val_mean_absolute_error: 1.6187\n",
      "Epoch 105/150\n",
      "10224/10224 [==============================] - 3s 287us/step - loss: 3.7833 - mean_squared_error: 3.7833 - mean_absolute_error: 1.4974 - val_loss: 4.3070 - val_mean_squared_error: 4.3070 - val_mean_absolute_error: 1.5958\n",
      "Epoch 106/150\n",
      "10224/10224 [==============================] - 3s 288us/step - loss: 3.7822 - mean_squared_error: 3.7822 - mean_absolute_error: 1.4916 - val_loss: 4.3045 - val_mean_squared_error: 4.3045 - val_mean_absolute_error: 1.6001\n",
      "Epoch 107/150\n",
      "10224/10224 [==============================] - 3s 287us/step - loss: 3.7870 - mean_squared_error: 3.7870 - mean_absolute_error: 1.4939 - val_loss: 4.3016 - val_mean_squared_error: 4.3016 - val_mean_absolute_error: 1.6094\n",
      "Epoch 108/150\n",
      "10224/10224 [==============================] - 3s 289us/step - loss: 3.7894 - mean_squared_error: 3.7894 - mean_absolute_error: 1.4959 - val_loss: 4.2519 - val_mean_squared_error: 4.2519 - val_mean_absolute_error: 1.5991\n",
      "Epoch 109/150\n",
      "10224/10224 [==============================] - 3s 292us/step - loss: 3.7934 - mean_squared_error: 3.7934 - mean_absolute_error: 1.4997 - val_loss: 4.2895 - val_mean_squared_error: 4.2895 - val_mean_absolute_error: 1.6170\n",
      "Epoch 110/150\n",
      "10224/10224 [==============================] - 3s 289us/step - loss: 3.7843 - mean_squared_error: 3.7843 - mean_absolute_error: 1.4937 - val_loss: 4.3454 - val_mean_squared_error: 4.3454 - val_mean_absolute_error: 1.5774\n",
      "Epoch 111/150\n",
      "10224/10224 [==============================] - 3s 288us/step - loss: 3.7867 - mean_squared_error: 3.7867 - mean_absolute_error: 1.4922 - val_loss: 4.3004 - val_mean_squared_error: 4.3004 - val_mean_absolute_error: 1.5683\n",
      "Epoch 112/150\n",
      "10224/10224 [==============================] - 3s 287us/step - loss: 3.7914 - mean_squared_error: 3.7914 - mean_absolute_error: 1.4903 - val_loss: 4.3051 - val_mean_squared_error: 4.3051 - val_mean_absolute_error: 1.5952\n",
      "Epoch 113/150\n",
      "10224/10224 [==============================] - 3s 287us/step - loss: 3.7940 - mean_squared_error: 3.7940 - mean_absolute_error: 1.5025 - val_loss: 4.3053 - val_mean_squared_error: 4.3053 - val_mean_absolute_error: 1.6107\n",
      "Epoch 114/150\n",
      "10224/10224 [==============================] - 3s 289us/step - loss: 3.7816 - mean_squared_error: 3.7816 - mean_absolute_error: 1.4904 - val_loss: 4.2785 - val_mean_squared_error: 4.2785 - val_mean_absolute_error: 1.6023\n",
      "Epoch 115/150\n",
      "10224/10224 [==============================] - 3s 287us/step - loss: 3.7848 - mean_squared_error: 3.7848 - mean_absolute_error: 1.4892 - val_loss: 4.2727 - val_mean_squared_error: 4.2727 - val_mean_absolute_error: 1.6218\n",
      "Epoch 116/150\n",
      "10224/10224 [==============================] - 3s 287us/step - loss: 3.7730 - mean_squared_error: 3.7730 - mean_absolute_error: 1.4889 - val_loss: 4.3210 - val_mean_squared_error: 4.3210 - val_mean_absolute_error: 1.5845\n",
      "Epoch 117/150\n",
      "10224/10224 [==============================] - 3s 286us/step - loss: 3.7811 - mean_squared_error: 3.7811 - mean_absolute_error: 1.4893 - val_loss: 4.3134 - val_mean_squared_error: 4.3134 - val_mean_absolute_error: 1.6032\n",
      "Epoch 118/150\n",
      "10224/10224 [==============================] - 3s 305us/step - loss: 3.7791 - mean_squared_error: 3.7791 - mean_absolute_error: 1.4921 - val_loss: 4.3470 - val_mean_squared_error: 4.3470 - val_mean_absolute_error: 1.5875\n",
      "Epoch 119/150\n",
      "10224/10224 [==============================] - 3s 289us/step - loss: 3.7858 - mean_squared_error: 3.7858 - mean_absolute_error: 1.4955 - val_loss: 4.3057 - val_mean_squared_error: 4.3057 - val_mean_absolute_error: 1.6046\n",
      "Epoch 120/150\n",
      "10224/10224 [==============================] - 3s 290us/step - loss: 3.7815 - mean_squared_error: 3.7815 - mean_absolute_error: 1.4892 - val_loss: 4.3225 - val_mean_squared_error: 4.3225 - val_mean_absolute_error: 1.6021\n",
      "Epoch 121/150\n",
      "10224/10224 [==============================] - 3s 301us/step - loss: 3.7862 - mean_squared_error: 3.7862 - mean_absolute_error: 1.4979 - val_loss: 4.3283 - val_mean_squared_error: 4.3283 - val_mean_absolute_error: 1.5841\n",
      "Epoch 122/150\n",
      "10224/10224 [==============================] - 3s 296us/step - loss: 3.7805 - mean_squared_error: 3.7805 - mean_absolute_error: 1.4896 - val_loss: 4.2837 - val_mean_squared_error: 4.2837 - val_mean_absolute_error: 1.6291\n",
      "Epoch 123/150\n",
      "10224/10224 [==============================] - 3s 303us/step - loss: 3.7796 - mean_squared_error: 3.7796 - mean_absolute_error: 1.4955 - val_loss: 4.3225 - val_mean_squared_error: 4.3225 - val_mean_absolute_error: 1.5982\n",
      "Epoch 124/150\n",
      "10224/10224 [==============================] - 3s 298us/step - loss: 3.7865 - mean_squared_error: 3.7865 - mean_absolute_error: 1.4935 - val_loss: 4.3043 - val_mean_squared_error: 4.3043 - val_mean_absolute_error: 1.5991\n",
      "Epoch 125/150\n",
      "10224/10224 [==============================] - 3s 294us/step - loss: 3.7826 - mean_squared_error: 3.7826 - mean_absolute_error: 1.4932 - val_loss: 4.3155 - val_mean_squared_error: 4.3155 - val_mean_absolute_error: 1.6115\n",
      "Epoch 126/150\n",
      "10224/10224 [==============================] - 3s 287us/step - loss: 3.7838 - mean_squared_error: 3.7838 - mean_absolute_error: 1.4872 - val_loss: 4.2900 - val_mean_squared_error: 4.2900 - val_mean_absolute_error: 1.6253\n",
      "Epoch 127/150\n",
      "10224/10224 [==============================] - 3s 290us/step - loss: 3.7764 - mean_squared_error: 3.7764 - mean_absolute_error: 1.4938 - val_loss: 4.3515 - val_mean_squared_error: 4.3515 - val_mean_absolute_error: 1.5982\n",
      "Epoch 128/150\n",
      "10224/10224 [==============================] - 3s 291us/step - loss: 3.7839 - mean_squared_error: 3.7839 - mean_absolute_error: 1.4932 - val_loss: 4.3295 - val_mean_squared_error: 4.3295 - val_mean_absolute_error: 1.5953\n",
      "Epoch 129/150\n",
      "10224/10224 [==============================] - 3s 290us/step - loss: 3.7704 - mean_squared_error: 3.7704 - mean_absolute_error: 1.4789 - val_loss: 4.3072 - val_mean_squared_error: 4.3072 - val_mean_absolute_error: 1.6215\n",
      "Epoch 130/150\n",
      "10224/10224 [==============================] - 3s 291us/step - loss: 3.7860 - mean_squared_error: 3.7860 - mean_absolute_error: 1.4916 - val_loss: 4.2818 - val_mean_squared_error: 4.2818 - val_mean_absolute_error: 1.6250\n",
      "Epoch 131/150\n",
      "10224/10224 [==============================] - 3s 286us/step - loss: 3.7854 - mean_squared_error: 3.7854 - mean_absolute_error: 1.5008 - val_loss: 4.3393 - val_mean_squared_error: 4.3393 - val_mean_absolute_error: 1.5663\n",
      "Epoch 132/150\n",
      "10224/10224 [==============================] - 3s 290us/step - loss: 3.7918 - mean_squared_error: 3.7918 - mean_absolute_error: 1.4892 - val_loss: 4.3057 - val_mean_squared_error: 4.3057 - val_mean_absolute_error: 1.6044\n",
      "Epoch 133/150\n",
      "10224/10224 [==============================] - 3s 289us/step - loss: 3.7871 - mean_squared_error: 3.7871 - mean_absolute_error: 1.4943 - val_loss: 4.3075 - val_mean_squared_error: 4.3075 - val_mean_absolute_error: 1.6025\n",
      "Epoch 134/150\n",
      "10224/10224 [==============================] - 3s 291us/step - loss: 3.7740 - mean_squared_error: 3.7740 - mean_absolute_error: 1.4910 - val_loss: 4.3212 - val_mean_squared_error: 4.3212 - val_mean_absolute_error: 1.6100\n",
      "Epoch 135/150\n",
      "10224/10224 [==============================] - 3s 288us/step - loss: 3.7732 - mean_squared_error: 3.7732 - mean_absolute_error: 1.4891 - val_loss: 4.3276 - val_mean_squared_error: 4.3276 - val_mean_absolute_error: 1.5984\n",
      "Epoch 136/150\n",
      "10224/10224 [==============================] - 3s 288us/step - loss: 3.7869 - mean_squared_error: 3.7869 - mean_absolute_error: 1.4943 - val_loss: 4.3391 - val_mean_squared_error: 4.3391 - val_mean_absolute_error: 1.5858\n",
      "Epoch 137/150\n",
      "10224/10224 [==============================] - 3s 290us/step - loss: 3.7853 - mean_squared_error: 3.7853 - mean_absolute_error: 1.4911 - val_loss: 4.3111 - val_mean_squared_error: 4.3111 - val_mean_absolute_error: 1.5907\n",
      "Epoch 138/150\n",
      "10224/10224 [==============================] - 3s 287us/step - loss: 3.7789 - mean_squared_error: 3.7789 - mean_absolute_error: 1.4943 - val_loss: 4.3345 - val_mean_squared_error: 4.3345 - val_mean_absolute_error: 1.5971\n"
     ]
    },
    {
     "name": "stdout",
     "output_type": "stream",
     "text": [
      "Epoch 139/150\n",
      "10224/10224 [==============================] - 3s 289us/step - loss: 3.7785 - mean_squared_error: 3.7785 - mean_absolute_error: 1.4893 - val_loss: 4.3156 - val_mean_squared_error: 4.3156 - val_mean_absolute_error: 1.5760\n",
      "Epoch 140/150\n",
      "10224/10224 [==============================] - 3s 290us/step - loss: 3.7851 - mean_squared_error: 3.7851 - mean_absolute_error: 1.4963 - val_loss: 4.3585 - val_mean_squared_error: 4.3585 - val_mean_absolute_error: 1.5850\n",
      "Epoch 141/150\n",
      "10224/10224 [==============================] - 3s 290us/step - loss: 3.7696 - mean_squared_error: 3.7696 - mean_absolute_error: 1.4856 - val_loss: 4.3240 - val_mean_squared_error: 4.3240 - val_mean_absolute_error: 1.5984\n",
      "Epoch 142/150\n",
      "10224/10224 [==============================] - 3s 289us/step - loss: 3.7771 - mean_squared_error: 3.7771 - mean_absolute_error: 1.4877 - val_loss: 4.3381 - val_mean_squared_error: 4.3381 - val_mean_absolute_error: 1.5960\n",
      "Epoch 143/150\n",
      "10224/10224 [==============================] - 3s 290us/step - loss: 3.7873 - mean_squared_error: 3.7873 - mean_absolute_error: 1.4948 - val_loss: 4.3150 - val_mean_squared_error: 4.3150 - val_mean_absolute_error: 1.6008\n",
      "Epoch 144/150\n",
      "10224/10224 [==============================] - 3s 286us/step - loss: 3.7820 - mean_squared_error: 3.7820 - mean_absolute_error: 1.4925 - val_loss: 4.3167 - val_mean_squared_error: 4.3167 - val_mean_absolute_error: 1.6044\n",
      "Epoch 145/150\n",
      "10224/10224 [==============================] - 3s 290us/step - loss: 3.7814 - mean_squared_error: 3.7814 - mean_absolute_error: 1.4922 - val_loss: 4.3337 - val_mean_squared_error: 4.3337 - val_mean_absolute_error: 1.6130\n",
      "Epoch 146/150\n",
      "10224/10224 [==============================] - 3s 289us/step - loss: 3.7776 - mean_squared_error: 3.7776 - mean_absolute_error: 1.4926 - val_loss: 4.3285 - val_mean_squared_error: 4.3285 - val_mean_absolute_error: 1.5795\n",
      "Epoch 147/150\n",
      "10224/10224 [==============================] - 3s 289us/step - loss: 3.7769 - mean_squared_error: 3.7769 - mean_absolute_error: 1.4869 - val_loss: 4.3106 - val_mean_squared_error: 4.3106 - val_mean_absolute_error: 1.6035\n",
      "Epoch 148/150\n",
      "10224/10224 [==============================] - 3s 291us/step - loss: 3.7871 - mean_squared_error: 3.7871 - mean_absolute_error: 1.4917 - val_loss: 4.2893 - val_mean_squared_error: 4.2893 - val_mean_absolute_error: 1.6137\n",
      "Epoch 149/150\n",
      "10224/10224 [==============================] - 3s 290us/step - loss: 3.7766 - mean_squared_error: 3.7766 - mean_absolute_error: 1.4935 - val_loss: 4.3137 - val_mean_squared_error: 4.3137 - val_mean_absolute_error: 1.6067\n",
      "Epoch 150/150\n",
      "10224/10224 [==============================] - 3s 292us/step - loss: 3.7812 - mean_squared_error: 3.7812 - mean_absolute_error: 1.4932 - val_loss: 4.3236 - val_mean_squared_error: 4.3236 - val_mean_absolute_error: 1.5997\n",
      "EndTime : 2019-12-05 16:25:40.701000\n"
     ]
    }
   ],
   "source": [
    "# Model fitting\n",
    "optim = Adam(lr=0.0002)\n",
    "\n",
    "model.compile(loss='mse',\n",
    "\t\t      optimizer=optim,\n",
    "\t\t\t  metrics=['mse','mae'])\n",
    "\n",
    "StartTime8 = datetime.now()\n",
    "print(\"StartTime :\", StartTime8)\n",
    "with K.tf.device('/GPU:0'):\n",
    "    model_train = model.fit(train_X_cell, training_label_array, batch_size=batch_size,epochs=training_epochs,verbose=1,\n",
    "                        validation_data=(test_X_cell, test_label_array))\n",
    "\n",
    "EndTime8 = datetime.now()\n",
    "print(\"EndTime :\", EndTime8)"
   ]
  },
  {
   "cell_type": "code",
   "execution_count": 26,
   "metadata": {},
   "outputs": [],
   "source": [
    "import json\n",
    "from keras.models import model_from_json, load_model\n",
    "workdir = \"E://Ronny_TF//DrugResponsivenessGuidelines//Experiments//191205_rerun//ResNet//Result//EC-11K//CNN\"\n",
    "# Option 1: Save Weights + Architecture\n",
    "model.save_weights(workdir + '//EC11K_CNN_model_fix_v3.h5')\n",
    "with open(workdir + '//EC11K_CNN_model_architecture_fix_v3.json', 'w') as f:\n",
    "    f.write(model.to_json())\n",
    "# Option 1: Load Weights + Architecture\n",
    "# with open('model_architecture.json', 'r') as f:\n",
    "#     new_model_1 = model_from_json(f.read())\n",
    "# new_model_1.load_weights('model_weights.h5')"
   ]
  },
  {
   "cell_type": "code",
   "execution_count": 27,
   "metadata": {},
   "outputs": [],
   "source": [
    "# Option 2: Save/Load the Entire Model\n",
    "from keras.models import load_model\n",
    "\n",
    "# Creates a HDF5 file 'my_model.h5'\n",
    "model.save(workdir + '//EC11K_CNN_model_fix_2080ti_v3.h5')\n",
    "\n",
    "# Deletes the existing model\n",
    "# del model  \n",
    "\n",
    "# Returns a compiled model identical to the previous one\n",
    "# model = load_model('my_model.h5')"
   ]
  },
  {
   "cell_type": "code",
   "execution_count": 28,
   "metadata": {},
   "outputs": [
    {
     "name": "stdout",
     "output_type": "stream",
     "text": [
      "1136/1136 [==============================] - 0s 308us/step\n"
     ]
    }
   ],
   "source": [
    "test_eval = model.evaluate(test_X_cell, test_label_array, verbose=1)"
   ]
  },
  {
   "cell_type": "code",
   "execution_count": 29,
   "metadata": {},
   "outputs": [
    {
     "data": {
      "text/plain": [
       "[4.323612508639483, 4.323612508639483, 1.5996973531346925]"
      ]
     },
     "execution_count": 29,
     "metadata": {},
     "output_type": "execute_result"
    }
   ],
   "source": [
    "test_eval"
   ]
  },
  {
   "cell_type": "code",
   "execution_count": 30,
   "metadata": {},
   "outputs": [],
   "source": [
    "accuracy = model_train.history['mean_squared_error']\n",
    "val_accuracy = model_train.history['val_mean_squared_error']\n",
    "loss = model_train.history['loss']\n",
    "val_loss = model_train.history['val_loss']\n",
    "\n",
    "np_acc = np.array(accuracy)\n",
    "np_val_acc = np.array(val_accuracy)\n",
    "np_loss = np.array(loss)\n",
    "np_val_loss = np.array(val_loss)"
   ]
  },
  {
   "cell_type": "code",
   "execution_count": 31,
   "metadata": {},
   "outputs": [],
   "source": [
    "np.savetxt(\"191205_EC_11k_CNN_cdr_master_tr_mse.csv\", np_acc, delimiter=\",\")\n",
    "np.savetxt(\"191205_EC_11k_CNN_cdr_master_val_mse.csv\", np_val_acc, delimiter=\",\")\n",
    "np.savetxt(\"191205_EC_11k_CNN_cdr_master_tr_loss.csv\", np_loss, delimiter=\",\")\n",
    "np.savetxt(\"191205_EC_11k_CNN_cdr_master_val_loss.csv\", np_val_loss, delimiter=\",\")"
   ]
  },
  {
   "cell_type": "code",
   "execution_count": 32,
   "metadata": {},
   "outputs": [],
   "source": [
    "import matplotlib\n",
    "from matplotlib import pyplot as plt"
   ]
  },
  {
   "cell_type": "code",
   "execution_count": 33,
   "metadata": {},
   "outputs": [
    {
     "data": {
      "image/png": "[encoded data removed]",
      "text/plain": [
       "<Figure size 432x288 with 1 Axes>"
      ]
     },
     "metadata": {
      "needs_background": "light"
     },
     "output_type": "display_data"
    },
    {
     "data": {
      "image/png": "[encoded data removed]",
      "text/plain": [
       "<Figure size 432x288 with 1 Axes>"
      ]
     },
     "metadata": {
      "needs_background": "light"
     },
     "output_type": "display_data"
    }
   ],
   "source": [
    "# accuracy = model_train.history['acc']\n",
    "# val_accuracy = model_train.history['val_acc']\n",
    "# loss = model_train.history['loss']\n",
    "# val_loss = model_train.history['val_loss']\n",
    "epochs = range(len(accuracy))\n",
    "plt.plot(epochs, accuracy, 'bo', label='Training mse',c='red')\n",
    "plt.plot(epochs, val_accuracy, 'b', label='Validation mse',c='red')\n",
    "plt.title('Training and validation mse')\n",
    "plt.legend()\n",
    "plt.figure()\n",
    "plt.plot(epochs, loss, 'bo', label='Training loss',c='red')\n",
    "plt.plot(epochs, val_loss, 'b', label='Validation loss',c='red')\n",
    "plt.title('Training and validation loss')\n",
    "plt.legend()\n",
    "plt.show()"
   ]
  },
  {
   "cell_type": "code",
   "execution_count": 34,
   "metadata": {},
   "outputs": [],
   "source": [
    "predicted_classes = model.predict(test_X_cell)"
   ]
  },
  {
   "cell_type": "code",
   "execution_count": 35,
   "metadata": {},
   "outputs": [],
   "source": [
    "predicted_value = predicted_classes"
   ]
  },
  {
   "cell_type": "code",
   "execution_count": 36,
   "metadata": {},
   "outputs": [],
   "source": [
    "a = pd.DataFrame(predicted_value)\n",
    "b = pd.DataFrame(test_label_array)\n",
    "c = pd.concat([a,b], axis=1)\n",
    "c.columns=[\"Predicted\",\"Test\"]"
   ]
  },
  {
   "cell_type": "code",
   "execution_count": 37,
   "metadata": {},
   "outputs": [],
   "source": [
    "c.to_csv(workdir + '//EC11K_CNN_Predicted_test_val_for_plot.csv')"
   ]
  },
  {
   "cell_type": "code",
   "execution_count": 38,
   "metadata": {},
   "outputs": [
    {
     "data": {
      "text/html": [
       "<div>\n",
       "<style scoped>\n",
       "    .dataframe tbody tr th:only-of-type {\n",
       "        vertical-align: middle;\n",
       "    }\n",
       "\n",
       "    .dataframe tbody tr th {\n",
       "        vertical-align: top;\n",
       "    }\n",
       "\n",
       "    .dataframe thead th {\n",
       "        text-align: right;\n",
       "    }\n",
       "</style>\n",
       "<table border=\"1\" class=\"dataframe\">\n",
       "  <thead>\n",
       "    <tr style=\"text-align: right;\">\n",
       "      <th></th>\n",
       "      <th>Predicted</th>\n",
       "      <th>Test</th>\n",
       "    </tr>\n",
       "  </thead>\n",
       "  <tbody>\n",
       "    <tr>\n",
       "      <th>0</th>\n",
       "      <td>0.471217</td>\n",
       "      <td>-3.533074</td>\n",
       "    </tr>\n",
       "    <tr>\n",
       "      <th>1</th>\n",
       "      <td>1.122518</td>\n",
       "      <td>-0.203329</td>\n",
       "    </tr>\n",
       "    <tr>\n",
       "      <th>2</th>\n",
       "      <td>0.953262</td>\n",
       "      <td>-3.005719</td>\n",
       "    </tr>\n",
       "    <tr>\n",
       "      <th>3</th>\n",
       "      <td>1.300081</td>\n",
       "      <td>-4.800177</td>\n",
       "    </tr>\n",
       "    <tr>\n",
       "      <th>4</th>\n",
       "      <td>1.116044</td>\n",
       "      <td>2.079442</td>\n",
       "    </tr>\n",
       "    <tr>\n",
       "      <th>5</th>\n",
       "      <td>1.110386</td>\n",
       "      <td>2.079442</td>\n",
       "    </tr>\n",
       "    <tr>\n",
       "      <th>6</th>\n",
       "      <td>0.927981</td>\n",
       "      <td>0.886114</td>\n",
       "    </tr>\n",
       "    <tr>\n",
       "      <th>7</th>\n",
       "      <td>-1.295125</td>\n",
       "      <td>1.700495</td>\n",
       "    </tr>\n",
       "    <tr>\n",
       "      <th>8</th>\n",
       "      <td>0.561239</td>\n",
       "      <td>2.079442</td>\n",
       "    </tr>\n",
       "    <tr>\n",
       "      <th>9</th>\n",
       "      <td>0.585082</td>\n",
       "      <td>1.173165</td>\n",
       "    </tr>\n",
       "    <tr>\n",
       "      <th>10</th>\n",
       "      <td>-1.295125</td>\n",
       "      <td>-3.178616</td>\n",
       "    </tr>\n",
       "    <tr>\n",
       "      <th>11</th>\n",
       "      <td>0.220154</td>\n",
       "      <td>-0.439055</td>\n",
       "    </tr>\n",
       "    <tr>\n",
       "      <th>12</th>\n",
       "      <td>1.625953</td>\n",
       "      <td>2.079442</td>\n",
       "    </tr>\n",
       "    <tr>\n",
       "      <th>13</th>\n",
       "      <td>-0.161182</td>\n",
       "      <td>1.525867</td>\n",
       "    </tr>\n",
       "    <tr>\n",
       "      <th>14</th>\n",
       "      <td>1.102355</td>\n",
       "      <td>2.079442</td>\n",
       "    </tr>\n",
       "    <tr>\n",
       "      <th>15</th>\n",
       "      <td>1.097711</td>\n",
       "      <td>-4.415333</td>\n",
       "    </tr>\n",
       "    <tr>\n",
       "      <th>16</th>\n",
       "      <td>0.435817</td>\n",
       "      <td>2.079442</td>\n",
       "    </tr>\n",
       "    <tr>\n",
       "      <th>17</th>\n",
       "      <td>0.852698</td>\n",
       "      <td>2.079442</td>\n",
       "    </tr>\n",
       "    <tr>\n",
       "      <th>18</th>\n",
       "      <td>0.412865</td>\n",
       "      <td>2.035407</td>\n",
       "    </tr>\n",
       "    <tr>\n",
       "      <th>19</th>\n",
       "      <td>0.164183</td>\n",
       "      <td>2.079442</td>\n",
       "    </tr>\n",
       "    <tr>\n",
       "      <th>20</th>\n",
       "      <td>0.542033</td>\n",
       "      <td>2.079442</td>\n",
       "    </tr>\n",
       "    <tr>\n",
       "      <th>21</th>\n",
       "      <td>0.532389</td>\n",
       "      <td>2.079442</td>\n",
       "    </tr>\n",
       "    <tr>\n",
       "      <th>22</th>\n",
       "      <td>0.500506</td>\n",
       "      <td>2.079442</td>\n",
       "    </tr>\n",
       "    <tr>\n",
       "      <th>23</th>\n",
       "      <td>1.465967</td>\n",
       "      <td>2.079442</td>\n",
       "    </tr>\n",
       "    <tr>\n",
       "      <th>24</th>\n",
       "      <td>0.810884</td>\n",
       "      <td>2.079442</td>\n",
       "    </tr>\n",
       "    <tr>\n",
       "      <th>25</th>\n",
       "      <td>0.264091</td>\n",
       "      <td>-4.465136</td>\n",
       "    </tr>\n",
       "    <tr>\n",
       "      <th>26</th>\n",
       "      <td>1.004677</td>\n",
       "      <td>2.079442</td>\n",
       "    </tr>\n",
       "    <tr>\n",
       "      <th>27</th>\n",
       "      <td>1.515383</td>\n",
       "      <td>-4.982291</td>\n",
       "    </tr>\n",
       "    <tr>\n",
       "      <th>28</th>\n",
       "      <td>1.209061</td>\n",
       "      <td>2.079442</td>\n",
       "    </tr>\n",
       "    <tr>\n",
       "      <th>29</th>\n",
       "      <td>0.765896</td>\n",
       "      <td>-4.480927</td>\n",
       "    </tr>\n",
       "    <tr>\n",
       "      <th>...</th>\n",
       "      <td>...</td>\n",
       "      <td>...</td>\n",
       "    </tr>\n",
       "    <tr>\n",
       "      <th>1106</th>\n",
       "      <td>0.835072</td>\n",
       "      <td>2.079442</td>\n",
       "    </tr>\n",
       "    <tr>\n",
       "      <th>1107</th>\n",
       "      <td>0.431526</td>\n",
       "      <td>2.079442</td>\n",
       "    </tr>\n",
       "    <tr>\n",
       "      <th>1108</th>\n",
       "      <td>0.223595</td>\n",
       "      <td>1.135375</td>\n",
       "    </tr>\n",
       "    <tr>\n",
       "      <th>1109</th>\n",
       "      <td>1.031402</td>\n",
       "      <td>-0.759548</td>\n",
       "    </tr>\n",
       "    <tr>\n",
       "      <th>1110</th>\n",
       "      <td>-0.180424</td>\n",
       "      <td>2.079442</td>\n",
       "    </tr>\n",
       "    <tr>\n",
       "      <th>1111</th>\n",
       "      <td>1.003279</td>\n",
       "      <td>2.079442</td>\n",
       "    </tr>\n",
       "    <tr>\n",
       "      <th>1112</th>\n",
       "      <td>-0.215539</td>\n",
       "      <td>1.706388</td>\n",
       "    </tr>\n",
       "    <tr>\n",
       "      <th>1113</th>\n",
       "      <td>1.064632</td>\n",
       "      <td>2.079442</td>\n",
       "    </tr>\n",
       "    <tr>\n",
       "      <th>1114</th>\n",
       "      <td>0.714158</td>\n",
       "      <td>-1.425236</td>\n",
       "    </tr>\n",
       "    <tr>\n",
       "      <th>1115</th>\n",
       "      <td>0.939009</td>\n",
       "      <td>-3.030913</td>\n",
       "    </tr>\n",
       "    <tr>\n",
       "      <th>1116</th>\n",
       "      <td>0.545201</td>\n",
       "      <td>0.425872</td>\n",
       "    </tr>\n",
       "    <tr>\n",
       "      <th>1117</th>\n",
       "      <td>0.937484</td>\n",
       "      <td>2.079442</td>\n",
       "    </tr>\n",
       "    <tr>\n",
       "      <th>1118</th>\n",
       "      <td>0.884064</td>\n",
       "      <td>2.079442</td>\n",
       "    </tr>\n",
       "    <tr>\n",
       "      <th>1119</th>\n",
       "      <td>1.265539</td>\n",
       "      <td>0.875161</td>\n",
       "    </tr>\n",
       "    <tr>\n",
       "      <th>1120</th>\n",
       "      <td>0.637734</td>\n",
       "      <td>0.003026</td>\n",
       "    </tr>\n",
       "    <tr>\n",
       "      <th>1121</th>\n",
       "      <td>1.686666</td>\n",
       "      <td>-1.382208</td>\n",
       "    </tr>\n",
       "    <tr>\n",
       "      <th>1122</th>\n",
       "      <td>0.564200</td>\n",
       "      <td>1.952991</td>\n",
       "    </tr>\n",
       "    <tr>\n",
       "      <th>1123</th>\n",
       "      <td>1.061936</td>\n",
       "      <td>2.079442</td>\n",
       "    </tr>\n",
       "    <tr>\n",
       "      <th>1124</th>\n",
       "      <td>0.966869</td>\n",
       "      <td>1.390872</td>\n",
       "    </tr>\n",
       "    <tr>\n",
       "      <th>1125</th>\n",
       "      <td>-0.295072</td>\n",
       "      <td>2.079442</td>\n",
       "    </tr>\n",
       "    <tr>\n",
       "      <th>1126</th>\n",
       "      <td>0.774508</td>\n",
       "      <td>2.079442</td>\n",
       "    </tr>\n",
       "    <tr>\n",
       "      <th>1127</th>\n",
       "      <td>0.297380</td>\n",
       "      <td>1.769494</td>\n",
       "    </tr>\n",
       "    <tr>\n",
       "      <th>1128</th>\n",
       "      <td>0.547835</td>\n",
       "      <td>0.441759</td>\n",
       "    </tr>\n",
       "    <tr>\n",
       "      <th>1129</th>\n",
       "      <td>0.919259</td>\n",
       "      <td>2.079442</td>\n",
       "    </tr>\n",
       "    <tr>\n",
       "      <th>1130</th>\n",
       "      <td>0.929141</td>\n",
       "      <td>-2.192512</td>\n",
       "    </tr>\n",
       "    <tr>\n",
       "      <th>1131</th>\n",
       "      <td>1.006789</td>\n",
       "      <td>2.079442</td>\n",
       "    </tr>\n",
       "    <tr>\n",
       "      <th>1132</th>\n",
       "      <td>0.779209</td>\n",
       "      <td>1.771430</td>\n",
       "    </tr>\n",
       "    <tr>\n",
       "      <th>1133</th>\n",
       "      <td>0.891833</td>\n",
       "      <td>2.079442</td>\n",
       "    </tr>\n",
       "    <tr>\n",
       "      <th>1134</th>\n",
       "      <td>0.080337</td>\n",
       "      <td>2.079442</td>\n",
       "    </tr>\n",
       "    <tr>\n",
       "      <th>1135</th>\n",
       "      <td>0.933544</td>\n",
       "      <td>-0.211440</td>\n",
       "    </tr>\n",
       "  </tbody>\n",
       "</table>\n",
       "<p>1136 rows × 2 columns</p>\n",
       "</div>"
      ],
      "text/plain": [
       "      Predicted      Test\n",
       "0      0.471217 -3.533074\n",
       "1      1.122518 -0.203329\n",
       "2      0.953262 -3.005719\n",
       "3      1.300081 -4.800177\n",
       "4      1.116044  2.079442\n",
       "5      1.110386  2.079442\n",
       "6      0.927981  0.886114\n",
       "7     -1.295125  1.700495\n",
       "8      0.561239  2.079442\n",
       "9      0.585082  1.173165\n",
       "10    -1.295125 -3.178616\n",
       "11     0.220154 -0.439055\n",
       "12     1.625953  2.079442\n",
       "13    -0.161182  1.525867\n",
       "14     1.102355  2.079442\n",
       "15     1.097711 -4.415333\n",
       "16     0.435817  2.079442\n",
       "17     0.852698  2.079442\n",
       "18     0.412865  2.035407\n",
       "19     0.164183  2.079442\n",
       "20     0.542033  2.079442\n",
       "21     0.532389  2.079442\n",
       "22     0.500506  2.079442\n",
       "23     1.465967  2.079442\n",
       "24     0.810884  2.079442\n",
       "25     0.264091 -4.465136\n",
       "26     1.004677  2.079442\n",
       "27     1.515383 -4.982291\n",
       "28     1.209061  2.079442\n",
       "29     0.765896 -4.480927\n",
       "...         ...       ...\n",
       "1106   0.835072  2.079442\n",
       "1107   0.431526  2.079442\n",
       "1108   0.223595  1.135375\n",
       "1109   1.031402 -0.759548\n",
       "1110  -0.180424  2.079442\n",
       "1111   1.003279  2.079442\n",
       "1112  -0.215539  1.706388\n",
       "1113   1.064632  2.079442\n",
       "1114   0.714158 -1.425236\n",
       "1115   0.939009 -3.030913\n",
       "1116   0.545201  0.425872\n",
       "1117   0.937484  2.079442\n",
       "1118   0.884064  2.079442\n",
       "1119   1.265539  0.875161\n",
       "1120   0.637734  0.003026\n",
       "1121   1.686666 -1.382208\n",
       "1122   0.564200  1.952991\n",
       "1123   1.061936  2.079442\n",
       "1124   0.966869  1.390872\n",
       "1125  -0.295072  2.079442\n",
       "1126   0.774508  2.079442\n",
       "1127   0.297380  1.769494\n",
       "1128   0.547835  0.441759\n",
       "1129   0.919259  2.079442\n",
       "1130   0.929141 -2.192512\n",
       "1131   1.006789  2.079442\n",
       "1132   0.779209  1.771430\n",
       "1133   0.891833  2.079442\n",
       "1134   0.080337  2.079442\n",
       "1135   0.933544 -0.211440\n",
       "\n",
       "[1136 rows x 2 columns]"
      ]
     },
     "execution_count": 38,
     "metadata": {},
     "output_type": "execute_result"
    }
   ],
   "source": [
    "c"
   ]
  },
  {
   "cell_type": "code",
   "execution_count": 39,
   "metadata": {},
   "outputs": [
    {
     "data": {
      "text/plain": [
       "(1136, 1)"
      ]
     },
     "execution_count": 39,
     "metadata": {},
     "output_type": "execute_result"
    }
   ],
   "source": [
    "predicted_value.shape"
   ]
  },
  {
   "cell_type": "code",
   "execution_count": 40,
   "metadata": {},
   "outputs": [
    {
     "data": {
      "image/png": "[encoded data removed]",
      "text/plain": [
       "<Figure size 432x288 with 1 Axes>"
      ]
     },
     "metadata": {
      "needs_background": "light"
     },
     "output_type": "display_data"
    }
   ],
   "source": [
    "# scatter plot\n",
    "plt.scatter(test_label_array,predicted_value,c='red')\n",
    "plt.xlabel('test_IC50_value')\n",
    "plt.ylabel('predicted_IC50_value')\n",
    "plt.savefig(workdir + '//EDC11K_CNN_test_scatterplot.png')"
   ]
  },
  {
   "cell_type": "code",
   "execution_count": 41,
   "metadata": {},
   "outputs": [
    {
     "name": "stdout",
     "output_type": "stream",
     "text": [
      "Final rmse value is = 2.0793298672139398\n"
     ]
    }
   ],
   "source": [
    "# RMSE\n",
    "rse = ((b[0]-a[0])**2).sum()\n",
    "mse = rse / len(b)\n",
    "print(\"Final rmse value is =\",np.sqrt(mse))"
   ]
  },
  {
   "cell_type": "code",
   "execution_count": null,
   "metadata": {},
   "outputs": [],
   "source": [
    "# R-squared value\n",
    "\n",
    "from sklearn.metrics import r2_score\n",
    "r2_value = r2_score(b, a) \n",
    "print(r2_value)"
   ]
  }
 ],
 "metadata": {
  "kernelspec": {
   "display_name": "Python 3",
   "language": "python",
   "name": "python3"
  },
  "language_info": {
   "codemirror_mode": {
    "name": "ipython",
    "version": 3
   },
   "file_extension": ".py",
   "mimetype": "text/x-python",
   "name": "python",
   "nbconvert_exporter": "python",
   "pygments_lexer": "ipython3",
   "version": "3.6.9"
  }
 },
 "nbformat": 4,
 "nbformat_minor": 2
}
