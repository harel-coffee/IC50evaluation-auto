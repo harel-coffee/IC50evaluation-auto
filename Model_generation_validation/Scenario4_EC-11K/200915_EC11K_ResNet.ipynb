{
 "cells": [
  {
   "cell_type": "code",
   "execution_count": 1,
   "metadata": {},
   "outputs": [
    {
     "name": "stderr",
     "output_type": "stream",
     "text": [
      "Using TensorFlow backend.\n"
     ]
    }
   ],
   "source": [
    "import os\n",
    "import pandas as pd\n",
    "import numpy as np\n",
    "import tensorflow as tf\n",
    "import random\n",
    "from pandas import DataFrame\n",
    "from datetime import datetime\n",
    "import keras\n",
    "from keras.models import Sequential,Input,Model\n",
    "from keras.layers import Dense, Dropout, Flatten, Reshape, Activation\n",
    "from keras.layers import Conv1D, MaxPooling1D ,AveragePooling1D\n",
    "from keras.layers import Conv2D, MaxPooling2D, AveragePooling2D\n",
    "from keras.layers.normalization import BatchNormalization\n",
    "from keras.layers.advanced_activations import LeakyReLU\n",
    "from keras import backend as K\n",
    "\n",
    "# input file path\n",
    "workdir = \"E://Ronny_TF//200914_reupload//Dataset//Scenario4_EC-11K\"\n",
    "config = tf.ConfigProto()\n",
    "config.gpu_options.per_process_gpu_memory_fraction = 0.7\n",
    "config.gpu_options.allow_growth = True\n",
    "sess = tf.Session(config=config)"
   ]
  },
  {
   "cell_type": "code",
   "execution_count": 2,
   "metadata": {},
   "outputs": [
    {
     "name": "stdout",
     "output_type": "stream",
     "text": [
      "[name: \"/device:CPU:0\"\n",
      "device_type: \"CPU\"\n",
      "memory_limit: 268435456\n",
      "locality {\n",
      "}\n",
      "incarnation: 8556802899892615531\n",
      ", name: \"/device:GPU:0\"\n",
      "device_type: \"GPU\"\n",
      "memory_limit: 8267812044\n",
      "locality {\n",
      "  bus_id: 1\n",
      "  links {\n",
      "  }\n",
      "}\n",
      "incarnation: 3539477477785608252\n",
      "physical_device_desc: \"device: 0, name: GeForce GTX 1080 Ti, pci bus id: 0000:01:00.0, compute capability: 6.1\"\n",
      "]\n"
     ]
    }
   ],
   "source": [
    "from tensorflow.python.client import device_lib\n",
    "print(device_lib.list_local_devices())\n",
    "\n",
    "\n",
    "# 출처: https://3months.tistory.com/206 [Deep Play]"
   ]
  },
  {
   "cell_type": "code",
   "execution_count": 3,
   "metadata": {},
   "outputs": [],
   "source": [
    "# input and index file\n",
    "dataset = np.load(workdir + \"//200914_EC11K.npz\")\n",
    "ss0 = np.load(workdir + '//200914_EC11K_r0_9_1.npz')"
   ]
  },
  {
   "cell_type": "code",
   "execution_count": 4,
   "metadata": {},
   "outputs": [],
   "source": [
    "# input and index file assign\n",
    "x = dataset['x']\n",
    "y = dataset['y']\n",
    "# y_linear = dataset['y_lnIC50']\n",
    "ss0_train = ss0['train']\n",
    "ss0_test = ss0['test']"
   ]
  },
  {
   "cell_type": "code",
   "execution_count": 5,
   "metadata": {},
   "outputs": [],
   "source": [
    "# training and test dataset assign\n",
    "training_image_array, training_label_array = x[ss0_train], y[ss0_train]\n",
    "test_image_array, test_label_array = x[ss0_test], y[ss0_test]\n"
   ]
  },
  {
   "cell_type": "code",
   "execution_count": 6,
   "metadata": {},
   "outputs": [
    {
     "name": "stdout",
     "output_type": "stream",
     "text": [
      "0 42\n"
     ]
    }
   ],
   "source": [
    "# In[15]:\n",
    "ab =[]\n",
    "for i in range(100,300):\n",
    "    ab.append(len(training_image_array) % i)\n",
    "    \n",
    "print(min(ab), ab.index(min(ab)))"
   ]
  },
  {
   "cell_type": "code",
   "execution_count": 7,
   "metadata": {},
   "outputs": [
    {
     "data": {
      "text/plain": [
       "(11360, 18988)"
      ]
     },
     "execution_count": 7,
     "metadata": {},
     "output_type": "execute_result"
    }
   ],
   "source": [
    "# checking the size of dataset\n",
    "x.shape"
   ]
  },
  {
   "cell_type": "code",
   "execution_count": 8,
   "metadata": {},
   "outputs": [
    {
     "data": {
      "text/plain": [
       "(10224, 18988)"
      ]
     },
     "execution_count": 8,
     "metadata": {},
     "output_type": "execute_result"
    }
   ],
   "source": [
    "# checking the size of training set\n",
    "training_image_array.shape"
   ]
  },
  {
   "cell_type": "code",
   "execution_count": 9,
   "metadata": {},
   "outputs": [],
   "source": [
    "# hyperparameters of this model\n",
    "num_classes = 1\n",
    "learning_rate = 0.0002\n",
    "training_epochs = 150\n",
    "batch_size = 100\n"
   ]
  },
  {
   "cell_type": "code",
   "execution_count": 10,
   "metadata": {},
   "outputs": [],
   "source": [
    "train_X, train_y, test_X, test_y = training_image_array, training_label_array, test_image_array, test_label_array\n",
    "\n",
    "\n"
   ]
  },
  {
   "cell_type": "code",
   "execution_count": 11,
   "metadata": {},
   "outputs": [],
   "source": [
    "# data shaping for ResNet model\n",
    "train_X = train_X.reshape(train_X.shape[0], train_X.shape[1],1)\n",
    "test_X = test_X.reshape(test_X.shape[0], test_X.shape[1],1)\n",
    "#input_shape = (img_rows, img_cols, 1)"
   ]
  },
  {
   "cell_type": "code",
   "execution_count": 12,
   "metadata": {},
   "outputs": [
    {
     "name": "stdout",
     "output_type": "stream",
     "text": [
      "(10224, 18988, 1) (10224,) (1136, 18988, 1) (1136,)\n"
     ]
    }
   ],
   "source": [
    "# data shape\n",
    "print(train_X.shape, train_y.shape, test_X.shape, test_y.shape)"
   ]
  },
  {
   "cell_type": "code",
   "execution_count": 13,
   "metadata": {},
   "outputs": [
    {
     "name": "stdout",
     "output_type": "stream",
     "text": [
      "train_X shape: (10224, 18988, 1)\n",
      "10224 train samples\n",
      "1136 test samples\n"
     ]
    }
   ],
   "source": [
    "# defining of data type\n",
    "train_X = train_X.astype('float32')\n",
    "test_X = test_X.astype('float32')\n",
    "# train_X /= 255\n",
    "# test_X /= 255\n",
    "print('train_X shape:', train_X.shape)\n",
    "print(train_X.shape[0], 'train samples')\n",
    "print(test_X.shape[0], 'test samples')"
   ]
  },
  {
   "cell_type": "code",
   "execution_count": 14,
   "metadata": {},
   "outputs": [
    {
     "data": {
      "text/plain": [
       "(10224, 18988)"
      ]
     },
     "execution_count": 14,
     "metadata": {},
     "output_type": "execute_result"
    }
   ],
   "source": [
    "training_image_array.shape"
   ]
  },
  {
   "cell_type": "code",
   "execution_count": 15,
   "metadata": {
    "scrolled": false
   },
   "outputs": [
    {
     "name": "stderr",
     "output_type": "stream",
     "text": [
      "WARNING: Logging before flag parsing goes to stderr.\n",
      "W0915 14:04:44.273862 10444 deprecation_wrapper.py:119] From c:\\users\\a\\anaconda3\\envs\\tf_gpu_3.6\\lib\\site-packages\\keras\\backend\\tensorflow_backend.py:514: The name tf.placeholder is deprecated. Please use tf.compat.v1.placeholder instead.\n",
      "\n",
      "W0915 14:04:44.276791 10444 deprecation_wrapper.py:119] From c:\\users\\a\\anaconda3\\envs\\tf_gpu_3.6\\lib\\site-packages\\keras\\backend\\tensorflow_backend.py:71: The name tf.get_default_graph is deprecated. Please use tf.compat.v1.get_default_graph instead.\n",
      "\n",
      "W0915 14:04:44.277768 10444 deprecation_wrapper.py:119] From c:\\users\\a\\anaconda3\\envs\\tf_gpu_3.6\\lib\\site-packages\\keras\\backend\\tensorflow_backend.py:4076: The name tf.random_uniform is deprecated. Please use tf.random.uniform instead.\n",
      "\n",
      "W0915 14:04:44.359780 10444 deprecation_wrapper.py:119] From c:\\users\\a\\anaconda3\\envs\\tf_gpu_3.6\\lib\\site-packages\\keras\\backend\\tensorflow_backend.py:3900: The name tf.nn.max_pool is deprecated. Please use tf.nn.max_pool2d instead.\n",
      "\n",
      "W0915 14:04:44.409554 10444 deprecation_wrapper.py:119] From c:\\users\\a\\anaconda3\\envs\\tf_gpu_3.6\\lib\\site-packages\\keras\\backend\\tensorflow_backend.py:130: The name tf.placeholder_with_default is deprecated. Please use tf.compat.v1.placeholder_with_default instead.\n",
      "\n",
      "W0915 14:04:45.923332 10444 deprecation.py:506] From c:\\users\\a\\anaconda3\\envs\\tf_gpu_3.6\\lib\\site-packages\\keras\\backend\\tensorflow_backend.py:3363: calling dropout (from tensorflow.python.ops.nn_ops) with keep_prob is deprecated and will be removed in a future version.\n",
      "Instructions for updating:\n",
      "Please use `rate` instead of `keep_prob`. Rate should be set to `rate = 1 - keep_prob`.\n",
      "W0915 14:04:46.432801 10444 deprecation_wrapper.py:119] From c:\\users\\a\\anaconda3\\envs\\tf_gpu_3.6\\lib\\site-packages\\keras\\backend\\tensorflow_backend.py:4123: The name tf.truncated_normal is deprecated. Please use tf.random.truncated_normal instead.\n",
      "\n",
      "W0915 14:04:46.455250 10444 deprecation_wrapper.py:119] From c:\\users\\a\\anaconda3\\envs\\tf_gpu_3.6\\lib\\site-packages\\keras\\optimizers.py:757: The name tf.train.Optimizer is deprecated. Please use tf.compat.v1.train.Optimizer instead.\n",
      "\n"
     ]
    }
   ],
   "source": [
    "# model architecture\n",
    "with K.tf.device('/GPU:0'):\n",
    "    inputs = Input(shape=(train_X.shape[1],1),name='inputs')\n",
    "\n",
    "    x = Conv1D(16, kernel_size=3, strides=2, padding=\"same\")(inputs)\n",
    "    x = MaxPooling1D(pool_size=5)(x)\n",
    "    x = BatchNormalization()(x)\n",
    "#     y = x\n",
    "    x = Activation('tanh')(x)\n",
    "\n",
    "    x = Conv1D(16, kernel_size=3, strides=1, padding=\"same\")(x)\n",
    "#     x = MaxPooling1D(pool_size=5)(x)\n",
    "    x = BatchNormalization()(x)\n",
    "    y = x\n",
    "    x = Activation('relu')(x)\n",
    "\n",
    "    x = Conv1D(16, kernel_size=3, strides=1, padding=\"same\")(x)\n",
    "#     x = MaxPooling1D(pool_size=5)(x)\n",
    "    x = BatchNormalization()(x)\n",
    "    x = Activation('relu')(x)\n",
    "\n",
    "    x = Conv1D(16, kernel_size=3, strides=1, padding=\"same\")(x)\n",
    "#     x = MaxPooling1D(pool_size=5)(x)\n",
    "    x = BatchNormalization()(x)\n",
    "    x = keras.layers.add([x,y])\n",
    "    x = Activation('relu')(x)\n",
    "\n",
    "    \n",
    "    x = Conv1D(16, kernel_size=3, strides=1, padding=\"same\")(x)\n",
    "#     x = MaxPooling1D(pool_size=5)(x)\n",
    "    x = BatchNormalization()(x)\n",
    "    y = x\n",
    "    x = Activation('relu')(x)\n",
    "    \n",
    "    \n",
    "    x = Conv1D(16, kernel_size=3, strides=1, padding=\"same\")(x)\n",
    "#     x = MaxPooling1D(pool_size=5)(x)\n",
    "    x = BatchNormalization()(x)\n",
    "    x = Activation('relu')(x)\n",
    "\n",
    "    x = Conv1D(16, kernel_size=3, strides=1, padding=\"same\")(x)\n",
    "#     x = MaxPooling1D(pool_size=5)(x)\n",
    "    x = BatchNormalization()(x)\n",
    "    x = Activation('relu')(x)\n",
    "\n",
    "    \n",
    "    x = Conv1D(16, kernel_size=3, strides=1, padding=\"same\")(x)\n",
    "#     x = MaxPooling1D(pool_size=5)(x)\n",
    "    x = BatchNormalization()(x)\n",
    "    x = keras.layers.add([x,y])\n",
    "    x = Activation('relu')(x)\n",
    "    \n",
    "    x = Conv1D(32, kernel_size=3, strides=2, padding=\"same\")(x)\n",
    "#     x = MaxPooling1D(pool_size=5)(x)\n",
    "    x = BatchNormalization()(x)\n",
    "    y = x\n",
    "    x = Activation('relu')(x)\n",
    "\n",
    "    x = Conv1D(32, kernel_size=3, strides=1, padding=\"same\")(x)\n",
    "#     x = MaxPooling1D(pool_size=5)(x)\n",
    "#     x = BatchNormalization()(x)\n",
    "        \n",
    "    x = Conv1D(32, kernel_size=3, strides=1, padding=\"same\")(x)\n",
    "#     x = MaxPooling1D(pool_size=5)(x)\n",
    "    x = BatchNormalization()(x)\n",
    "    x = keras.layers.add([x,y])\n",
    "    x = Activation('relu')(x)\n",
    "    \n",
    "        \n",
    "    x = Conv1D(32, kernel_size=3, strides=1, padding=\"same\")(x)\n",
    "#     x = MaxPooling1D(pool_size=5)(x)\n",
    "    x = BatchNormalization()(x)\n",
    "    y = x\n",
    "    x = Activation('relu')(x)\n",
    "\n",
    "    x = Conv1D(32, kernel_size=3, strides=1, padding=\"same\")(x)\n",
    "#     x = MaxPooling1D(pool_size=5)(x)\n",
    "    x = BatchNormalization()(x)\n",
    "    x = keras.layers.add([x,y])\n",
    "    x = Activation('relu')(x)\n",
    "\n",
    "    x = Conv1D(32, kernel_size=3, strides=1, padding=\"same\")(x)\n",
    "#     x = MaxPooling1D(pool_size=5)(x)\n",
    "    x = BatchNormalization()(x)\n",
    "    y = x\n",
    "    x = Activation('relu')(x)\n",
    "\n",
    "    x = Conv1D(32, kernel_size=3, strides=1, padding=\"same\")(x)\n",
    "#     x = MaxPooling1D(pool_size=5)(x)\n",
    "    x = BatchNormalization()(x)\n",
    "    x = keras.layers.add([x,y])\n",
    "    x = Activation('relu')(x)\n",
    "\n",
    "    x = Conv1D(64, kernel_size=3, strides=2, padding=\"same\")(x)\n",
    "#     x = MaxPooling1D(pool_size=5)(x)\n",
    "    x = BatchNormalization()(x)\n",
    "    y = x\n",
    "    x = Activation('relu')(x)\n",
    "\n",
    "    x = Conv1D(64, kernel_size=3, strides=1, padding=\"same\")(x)\n",
    "#     x = MaxPooling1D(pool_size=5)(x)\n",
    "#     x = BatchNormalization()(x)\n",
    "        \n",
    "    x = Conv1D(64, kernel_size=3, strides=1, padding=\"same\")(x)\n",
    "#     x = MaxPooling1D(pool_size=5)(x)\n",
    "    x = BatchNormalization()(x)\n",
    "    x = keras.layers.add([x,y])\n",
    "    x = Activation('relu')(x)\n",
    "    \n",
    "        \n",
    "    x = Conv1D(64, kernel_size=3, strides=1, padding=\"same\")(x)\n",
    "#     x = MaxPooling1D(pool_size=5)(x)\n",
    "    x = BatchNormalization()(x)\n",
    "    y = x\n",
    "    x = Activation('relu')(x)\n",
    "\n",
    "    x = Conv1D(64, kernel_size=3, strides=1, padding=\"same\")(x)\n",
    "#     x = MaxPooling1D(pool_size=5)(x)\n",
    "    x = BatchNormalization()(x)\n",
    "    x = keras.layers.add([x,y])\n",
    "    x = Activation('relu')(x)\n",
    "\n",
    "    x = Conv1D(64, kernel_size=3, strides=1, padding=\"same\")(x)\n",
    "#     x = MaxPooling1D(pool_size=5)(x)\n",
    "    x = BatchNormalization()(x)\n",
    "    y = x\n",
    "    x = Activation('relu')(x)\n",
    "\n",
    "    x = Conv1D(64, kernel_size=3, strides=1, padding=\"same\")(x)\n",
    "#     x = MaxPooling1D(pool_size=5)(x)\n",
    "    x = BatchNormalization()(x)\n",
    "    x = keras.layers.add([x,y])\n",
    "    x = Activation('relu')(x)\n",
    "\n",
    "#     x = AveragePooling1D(pool_size=8)(x)\n",
    "    x = Flatten()(x)\n",
    "    x = Dense(units=2048, name='dense1'  ) (x)\n",
    "    x = BatchNormalization()(x)\n",
    "    x = Dropout(0.1, name='dropout1') (x)\n",
    "    x = Activation('relu')(x)\n",
    "\n",
    "#    x = Reshape((300,1))(x)\n",
    "\n",
    "#    x = Conv1D(30, kernel_size=150, strides=1, activation = 'relu')(x)\n",
    "#    x = MaxPooling1D(pool_size=2)(x)\n",
    "#    x = BatchNormalization()(x)\n",
    "\n",
    "    x = Dense(units=1024, name='dense5'  ) (x)\n",
    "    x = BatchNormalization()(x)\n",
    "    y = x\n",
    "    x = Dropout(0.1, name='dropout5') (x)\n",
    "    x = Activation('relu')(x)\n",
    "\n",
    "    x = Dense(units=512, name='dense6'  ) (x)\n",
    "    x = BatchNormalization()(x)\n",
    "    x = Dropout(0.1, name='dropout6') (x)\n",
    "    x = Activation('relu')(x)\n",
    "\n",
    "    x = Dense(units=1024, name='dense7'  ) (x)\n",
    "    x = BatchNormalization()(x)\n",
    "    x = Dropout(0.1, name='dropout7') (x)\n",
    "    x = keras.layers.add([x,y])\n",
    "    x = Activation('relu')(x)\n",
    "    \n",
    "    x = Dense(units=512, name='dense8'  ) (x)\n",
    "    x = BatchNormalization()(x)\n",
    "    x = Dropout(0.1, name='dropout8') (x)\n",
    "    x = Activation('relu')(x)\n",
    "    \n",
    "    x = Dense(units=256, name='dense9'  ) (x)\n",
    "    x = BatchNormalization()(x)\n",
    "    x = Dropout(0.1, name='dropout9') (x)\n",
    "    x = Activation('relu')(x)\n",
    "\n",
    "    x = Dense(units=128, name='dense10'  ) (x)\n",
    "    x = BatchNormalization()(x)\n",
    "    y = x\n",
    "    x = Dropout(0.1, name='dropout10') (x)\n",
    "    x = Activation('relu')(x)\n",
    "\n",
    "\n",
    "    predictions = Dense(1, activation='linear', name='predictions', kernel_initializer='he_normal')(x)\n",
    "#     predictions = Dense(1, activation='linear', name='predictions')(x)\n",
    "\n",
    "    \n",
    "\n",
    "    model = Model(inputs=inputs, outputs=predictions, name='Test_v2_DNN20190327')\n",
    "    model.compile(loss=keras.losses.mean_squared_error,\n",
    "                  optimizer=keras.optimizers.Adam(learning_rate),\n",
    "                  metrics=['mse','mae'])\n",
    "\n"
   ]
  },
  {
   "cell_type": "code",
   "execution_count": 16,
   "metadata": {},
   "outputs": [
    {
     "name": "stdout",
     "output_type": "stream",
     "text": [
      "__________________________________________________________________________________________________\n",
      "Layer (type)                    Output Shape         Param #     Connected to                     \n",
      "==================================================================================================\n",
      "inputs (InputLayer)             (None, 18988, 1)     0                                            \n",
      "__________________________________________________________________________________________________\n",
      "conv1d_1 (Conv1D)               (None, 9494, 16)     64          inputs[0][0]                     \n",
      "__________________________________________________________________________________________________\n",
      "max_pooling1d_1 (MaxPooling1D)  (None, 1898, 16)     0           conv1d_1[0][0]                   \n",
      "__________________________________________________________________________________________________\n",
      "batch_normalization_1 (BatchNor (None, 1898, 16)     64          max_pooling1d_1[0][0]            \n",
      "__________________________________________________________________________________________________\n",
      "activation_1 (Activation)       (None, 1898, 16)     0           batch_normalization_1[0][0]      \n",
      "__________________________________________________________________________________________________\n",
      "conv1d_2 (Conv1D)               (None, 1898, 16)     784         activation_1[0][0]               \n",
      "__________________________________________________________________________________________________\n",
      "batch_normalization_2 (BatchNor (None, 1898, 16)     64          conv1d_2[0][0]                   \n",
      "__________________________________________________________________________________________________\n",
      "activation_2 (Activation)       (None, 1898, 16)     0           batch_normalization_2[0][0]      \n",
      "__________________________________________________________________________________________________\n",
      "conv1d_3 (Conv1D)               (None, 1898, 16)     784         activation_2[0][0]               \n",
      "__________________________________________________________________________________________________\n",
      "batch_normalization_3 (BatchNor (None, 1898, 16)     64          conv1d_3[0][0]                   \n",
      "__________________________________________________________________________________________________\n",
      "activation_3 (Activation)       (None, 1898, 16)     0           batch_normalization_3[0][0]      \n",
      "__________________________________________________________________________________________________\n",
      "conv1d_4 (Conv1D)               (None, 1898, 16)     784         activation_3[0][0]               \n",
      "__________________________________________________________________________________________________\n",
      "batch_normalization_4 (BatchNor (None, 1898, 16)     64          conv1d_4[0][0]                   \n",
      "__________________________________________________________________________________________________\n",
      "add_1 (Add)                     (None, 1898, 16)     0           batch_normalization_4[0][0]      \n",
      "                                                                 batch_normalization_2[0][0]      \n",
      "__________________________________________________________________________________________________\n",
      "activation_4 (Activation)       (None, 1898, 16)     0           add_1[0][0]                      \n",
      "__________________________________________________________________________________________________\n",
      "conv1d_5 (Conv1D)               (None, 1898, 16)     784         activation_4[0][0]               \n",
      "__________________________________________________________________________________________________\n",
      "batch_normalization_5 (BatchNor (None, 1898, 16)     64          conv1d_5[0][0]                   \n",
      "__________________________________________________________________________________________________\n",
      "activation_5 (Activation)       (None, 1898, 16)     0           batch_normalization_5[0][0]      \n",
      "__________________________________________________________________________________________________\n",
      "conv1d_6 (Conv1D)               (None, 1898, 16)     784         activation_5[0][0]               \n",
      "__________________________________________________________________________________________________\n",
      "batch_normalization_6 (BatchNor (None, 1898, 16)     64          conv1d_6[0][0]                   \n",
      "__________________________________________________________________________________________________\n",
      "activation_6 (Activation)       (None, 1898, 16)     0           batch_normalization_6[0][0]      \n",
      "__________________________________________________________________________________________________\n",
      "conv1d_7 (Conv1D)               (None, 1898, 16)     784         activation_6[0][0]               \n",
      "__________________________________________________________________________________________________\n",
      "batch_normalization_7 (BatchNor (None, 1898, 16)     64          conv1d_7[0][0]                   \n",
      "__________________________________________________________________________________________________\n",
      "activation_7 (Activation)       (None, 1898, 16)     0           batch_normalization_7[0][0]      \n",
      "__________________________________________________________________________________________________\n",
      "conv1d_8 (Conv1D)               (None, 1898, 16)     784         activation_7[0][0]               \n",
      "__________________________________________________________________________________________________\n",
      "batch_normalization_8 (BatchNor (None, 1898, 16)     64          conv1d_8[0][0]                   \n",
      "__________________________________________________________________________________________________\n",
      "add_2 (Add)                     (None, 1898, 16)     0           batch_normalization_8[0][0]      \n",
      "                                                                 batch_normalization_5[0][0]      \n",
      "__________________________________________________________________________________________________\n",
      "activation_8 (Activation)       (None, 1898, 16)     0           add_2[0][0]                      \n",
      "__________________________________________________________________________________________________\n",
      "conv1d_9 (Conv1D)               (None, 949, 32)      1568        activation_8[0][0]               \n",
      "__________________________________________________________________________________________________\n",
      "batch_normalization_9 (BatchNor (None, 949, 32)      128         conv1d_9[0][0]                   \n",
      "__________________________________________________________________________________________________\n",
      "activation_9 (Activation)       (None, 949, 32)      0           batch_normalization_9[0][0]      \n",
      "__________________________________________________________________________________________________\n",
      "conv1d_10 (Conv1D)              (None, 949, 32)      3104        activation_9[0][0]               \n",
      "__________________________________________________________________________________________________\n",
      "conv1d_11 (Conv1D)              (None, 949, 32)      3104        conv1d_10[0][0]                  \n",
      "__________________________________________________________________________________________________\n",
      "batch_normalization_10 (BatchNo (None, 949, 32)      128         conv1d_11[0][0]                  \n",
      "__________________________________________________________________________________________________\n",
      "add_3 (Add)                     (None, 949, 32)      0           batch_normalization_10[0][0]     \n",
      "                                                                 batch_normalization_9[0][0]      \n",
      "__________________________________________________________________________________________________\n",
      "activation_10 (Activation)      (None, 949, 32)      0           add_3[0][0]                      \n",
      "__________________________________________________________________________________________________\n",
      "conv1d_12 (Conv1D)              (None, 949, 32)      3104        activation_10[0][0]              \n",
      "__________________________________________________________________________________________________\n",
      "batch_normalization_11 (BatchNo (None, 949, 32)      128         conv1d_12[0][0]                  \n",
      "__________________________________________________________________________________________________\n",
      "activation_11 (Activation)      (None, 949, 32)      0           batch_normalization_11[0][0]     \n",
      "__________________________________________________________________________________________________\n",
      "conv1d_13 (Conv1D)              (None, 949, 32)      3104        activation_11[0][0]              \n",
      "__________________________________________________________________________________________________\n",
      "batch_normalization_12 (BatchNo (None, 949, 32)      128         conv1d_13[0][0]                  \n",
      "__________________________________________________________________________________________________\n",
      "add_4 (Add)                     (None, 949, 32)      0           batch_normalization_12[0][0]     \n",
      "                                                                 batch_normalization_11[0][0]     \n",
      "__________________________________________________________________________________________________\n",
      "activation_12 (Activation)      (None, 949, 32)      0           add_4[0][0]                      \n",
      "__________________________________________________________________________________________________\n",
      "conv1d_14 (Conv1D)              (None, 949, 32)      3104        activation_12[0][0]              \n",
      "__________________________________________________________________________________________________\n",
      "batch_normalization_13 (BatchNo (None, 949, 32)      128         conv1d_14[0][0]                  \n",
      "__________________________________________________________________________________________________\n",
      "activation_13 (Activation)      (None, 949, 32)      0           batch_normalization_13[0][0]     \n",
      "__________________________________________________________________________________________________\n",
      "conv1d_15 (Conv1D)              (None, 949, 32)      3104        activation_13[0][0]              \n",
      "__________________________________________________________________________________________________\n",
      "batch_normalization_14 (BatchNo (None, 949, 32)      128         conv1d_15[0][0]                  \n",
      "__________________________________________________________________________________________________\n",
      "add_5 (Add)                     (None, 949, 32)      0           batch_normalization_14[0][0]     \n",
      "                                                                 batch_normalization_13[0][0]     \n",
      "__________________________________________________________________________________________________\n",
      "activation_14 (Activation)      (None, 949, 32)      0           add_5[0][0]                      \n",
      "__________________________________________________________________________________________________\n",
      "conv1d_16 (Conv1D)              (None, 475, 64)      6208        activation_14[0][0]              \n",
      "__________________________________________________________________________________________________\n",
      "batch_normalization_15 (BatchNo (None, 475, 64)      256         conv1d_16[0][0]                  \n",
      "__________________________________________________________________________________________________\n",
      "activation_15 (Activation)      (None, 475, 64)      0           batch_normalization_15[0][0]     \n",
      "__________________________________________________________________________________________________\n",
      "conv1d_17 (Conv1D)              (None, 475, 64)      12352       activation_15[0][0]              \n",
      "__________________________________________________________________________________________________\n",
      "conv1d_18 (Conv1D)              (None, 475, 64)      12352       conv1d_17[0][0]                  \n",
      "__________________________________________________________________________________________________\n",
      "batch_normalization_16 (BatchNo (None, 475, 64)      256         conv1d_18[0][0]                  \n",
      "__________________________________________________________________________________________________\n",
      "add_6 (Add)                     (None, 475, 64)      0           batch_normalization_16[0][0]     \n",
      "                                                                 batch_normalization_15[0][0]     \n",
      "__________________________________________________________________________________________________\n",
      "activation_16 (Activation)      (None, 475, 64)      0           add_6[0][0]                      \n",
      "__________________________________________________________________________________________________\n",
      "conv1d_19 (Conv1D)              (None, 475, 64)      12352       activation_16[0][0]              \n",
      "__________________________________________________________________________________________________\n",
      "batch_normalization_17 (BatchNo (None, 475, 64)      256         conv1d_19[0][0]                  \n",
      "__________________________________________________________________________________________________\n",
      "activation_17 (Activation)      (None, 475, 64)      0           batch_normalization_17[0][0]     \n",
      "__________________________________________________________________________________________________\n",
      "conv1d_20 (Conv1D)              (None, 475, 64)      12352       activation_17[0][0]              \n",
      "__________________________________________________________________________________________________\n",
      "batch_normalization_18 (BatchNo (None, 475, 64)      256         conv1d_20[0][0]                  \n",
      "__________________________________________________________________________________________________\n",
      "add_7 (Add)                     (None, 475, 64)      0           batch_normalization_18[0][0]     \n",
      "                                                                 batch_normalization_17[0][0]     \n",
      "__________________________________________________________________________________________________\n",
      "activation_18 (Activation)      (None, 475, 64)      0           add_7[0][0]                      \n",
      "__________________________________________________________________________________________________\n",
      "conv1d_21 (Conv1D)              (None, 475, 64)      12352       activation_18[0][0]              \n",
      "__________________________________________________________________________________________________\n",
      "batch_normalization_19 (BatchNo (None, 475, 64)      256         conv1d_21[0][0]                  \n",
      "__________________________________________________________________________________________________\n",
      "activation_19 (Activation)      (None, 475, 64)      0           batch_normalization_19[0][0]     \n",
      "__________________________________________________________________________________________________\n",
      "conv1d_22 (Conv1D)              (None, 475, 64)      12352       activation_19[0][0]              \n",
      "__________________________________________________________________________________________________\n",
      "batch_normalization_20 (BatchNo (None, 475, 64)      256         conv1d_22[0][0]                  \n",
      "__________________________________________________________________________________________________\n",
      "add_8 (Add)                     (None, 475, 64)      0           batch_normalization_20[0][0]     \n",
      "                                                                 batch_normalization_19[0][0]     \n",
      "__________________________________________________________________________________________________\n",
      "activation_20 (Activation)      (None, 475, 64)      0           add_8[0][0]                      \n",
      "__________________________________________________________________________________________________\n",
      "flatten_1 (Flatten)             (None, 30400)        0           activation_20[0][0]              \n",
      "__________________________________________________________________________________________________\n",
      "dense1 (Dense)                  (None, 2048)         62261248    flatten_1[0][0]                  \n",
      "__________________________________________________________________________________________________\n",
      "batch_normalization_21 (BatchNo (None, 2048)         8192        dense1[0][0]                     \n",
      "__________________________________________________________________________________________________\n",
      "dropout1 (Dropout)              (None, 2048)         0           batch_normalization_21[0][0]     \n",
      "__________________________________________________________________________________________________\n",
      "activation_21 (Activation)      (None, 2048)         0           dropout1[0][0]                   \n",
      "__________________________________________________________________________________________________\n",
      "dense5 (Dense)                  (None, 1024)         2098176     activation_21[0][0]              \n",
      "__________________________________________________________________________________________________\n",
      "batch_normalization_22 (BatchNo (None, 1024)         4096        dense5[0][0]                     \n",
      "__________________________________________________________________________________________________\n",
      "dropout5 (Dropout)              (None, 1024)         0           batch_normalization_22[0][0]     \n",
      "__________________________________________________________________________________________________\n",
      "activation_22 (Activation)      (None, 1024)         0           dropout5[0][0]                   \n",
      "__________________________________________________________________________________________________\n",
      "dense6 (Dense)                  (None, 512)          524800      activation_22[0][0]              \n",
      "__________________________________________________________________________________________________\n",
      "batch_normalization_23 (BatchNo (None, 512)          2048        dense6[0][0]                     \n",
      "__________________________________________________________________________________________________\n",
      "dropout6 (Dropout)              (None, 512)          0           batch_normalization_23[0][0]     \n",
      "__________________________________________________________________________________________________\n",
      "activation_23 (Activation)      (None, 512)          0           dropout6[0][0]                   \n",
      "__________________________________________________________________________________________________\n",
      "dense7 (Dense)                  (None, 1024)         525312      activation_23[0][0]              \n",
      "__________________________________________________________________________________________________\n",
      "batch_normalization_24 (BatchNo (None, 1024)         4096        dense7[0][0]                     \n",
      "__________________________________________________________________________________________________\n",
      "dropout7 (Dropout)              (None, 1024)         0           batch_normalization_24[0][0]     \n",
      "__________________________________________________________________________________________________\n",
      "add_9 (Add)                     (None, 1024)         0           dropout7[0][0]                   \n",
      "                                                                 batch_normalization_22[0][0]     \n",
      "__________________________________________________________________________________________________\n",
      "activation_24 (Activation)      (None, 1024)         0           add_9[0][0]                      \n",
      "__________________________________________________________________________________________________\n",
      "dense8 (Dense)                  (None, 512)          524800      activation_24[0][0]              \n",
      "__________________________________________________________________________________________________\n",
      "batch_normalization_25 (BatchNo (None, 512)          2048        dense8[0][0]                     \n",
      "__________________________________________________________________________________________________\n",
      "dropout8 (Dropout)              (None, 512)          0           batch_normalization_25[0][0]     \n",
      "__________________________________________________________________________________________________\n",
      "activation_25 (Activation)      (None, 512)          0           dropout8[0][0]                   \n",
      "__________________________________________________________________________________________________\n",
      "dense9 (Dense)                  (None, 256)          131328      activation_25[0][0]              \n",
      "__________________________________________________________________________________________________\n",
      "batch_normalization_26 (BatchNo (None, 256)          1024        dense9[0][0]                     \n",
      "__________________________________________________________________________________________________\n",
      "dropout9 (Dropout)              (None, 256)          0           batch_normalization_26[0][0]     \n",
      "__________________________________________________________________________________________________\n",
      "activation_26 (Activation)      (None, 256)          0           dropout9[0][0]                   \n",
      "__________________________________________________________________________________________________\n",
      "dense10 (Dense)                 (None, 128)          32896       activation_26[0][0]              \n",
      "__________________________________________________________________________________________________\n",
      "batch_normalization_27 (BatchNo (None, 128)          512         dense10[0][0]                    \n",
      "__________________________________________________________________________________________________\n",
      "dropout10 (Dropout)             (None, 128)          0           batch_normalization_27[0][0]     \n",
      "__________________________________________________________________________________________________\n",
      "activation_27 (Activation)      (None, 128)          0           dropout10[0][0]                  \n",
      "__________________________________________________________________________________________________\n",
      "predictions (Dense)             (None, 1)            129         activation_27[0][0]              \n",
      "==================================================================================================\n",
      "Total params: 66,229,585\n",
      "Trainable params: 66,217,169\n",
      "Non-trainable params: 12,416\n",
      "__________________________________________________________________________________________________\n"
     ]
    }
   ],
   "source": [
    "# model architecture\n",
    "model.summary()"
   ]
  },
  {
   "cell_type": "code",
   "execution_count": 17,
   "metadata": {
    "scrolled": true
   },
   "outputs": [
    {
     "name": "stdout",
     "output_type": "stream",
     "text": [
      "StartTime : 2020-09-15 14:04:46.502070\n",
      "Train on 10224 samples, validate on 1136 samples\n",
      "Epoch 1/150\n",
      "10224/10224 [==============================] - 24s 2ms/step - loss: 4.8861 - mean_squared_error: 4.8861 - mean_absolute_error: 1.7293 - val_loss: 4.6731 - val_mean_squared_error: 4.6731 - val_mean_absolute_error: 1.5955\n",
      "Epoch 2/150\n",
      "10224/10224 [==============================] - 14s 1ms/step - loss: 4.4464 - mean_squared_error: 4.4464 - mean_absolute_error: 1.6146 - val_loss: 4.2377 - val_mean_squared_error: 4.2377 - val_mean_absolute_error: 1.5444\n",
      "Epoch 3/150\n",
      "10224/10224 [==============================] - 14s 1ms/step - loss: 4.3236 - mean_squared_error: 4.3236 - mean_absolute_error: 1.5856 - val_loss: 4.2055 - val_mean_squared_error: 4.2055 - val_mean_absolute_error: 1.5627\n",
      "Epoch 4/150\n",
      "10224/10224 [==============================] - 14s 1ms/step - loss: 4.2418 - mean_squared_error: 4.2418 - mean_absolute_error: 1.5726 - val_loss: 4.1123 - val_mean_squared_error: 4.1123 - val_mean_absolute_error: 1.5466\n",
      "Epoch 5/150\n",
      "10224/10224 [==============================] - 14s 1ms/step - loss: 4.1683 - mean_squared_error: 4.1683 - mean_absolute_error: 1.5605 - val_loss: 3.9779 - val_mean_squared_error: 3.9779 - val_mean_absolute_error: 1.5210\n",
      "Epoch 6/150\n",
      "10224/10224 [==============================] - 14s 1ms/step - loss: 4.1392 - mean_squared_error: 4.1392 - mean_absolute_error: 1.5670 - val_loss: 3.9462 - val_mean_squared_error: 3.9462 - val_mean_absolute_error: 1.5161\n",
      "Epoch 7/150\n",
      "10224/10224 [==============================] - 14s 1ms/step - loss: 4.0938 - mean_squared_error: 4.0938 - mean_absolute_error: 1.5447 - val_loss: 3.9912 - val_mean_squared_error: 3.9912 - val_mean_absolute_error: 1.5360\n",
      "Epoch 8/150\n",
      "10224/10224 [==============================] - 14s 1ms/step - loss: 4.0711 - mean_squared_error: 4.0711 - mean_absolute_error: 1.5444 - val_loss: 3.9517 - val_mean_squared_error: 3.9517 - val_mean_absolute_error: 1.5450\n",
      "Epoch 9/150\n",
      "10224/10224 [==============================] - 14s 1ms/step - loss: 4.0561 - mean_squared_error: 4.0561 - mean_absolute_error: 1.5530 - val_loss: 3.8978 - val_mean_squared_error: 3.8978 - val_mean_absolute_error: 1.4875\n",
      "Epoch 10/150\n",
      "10224/10224 [==============================] - 14s 1ms/step - loss: 4.0086 - mean_squared_error: 4.0086 - mean_absolute_error: 1.5403 - val_loss: 3.9459 - val_mean_squared_error: 3.9459 - val_mean_absolute_error: 1.5283\n",
      "Epoch 11/150\n",
      "10224/10224 [==============================] - 14s 1ms/step - loss: 3.9911 - mean_squared_error: 3.9911 - mean_absolute_error: 1.5341 - val_loss: 3.8884 - val_mean_squared_error: 3.8884 - val_mean_absolute_error: 1.4858\n",
      "Epoch 12/150\n",
      "10224/10224 [==============================] - 14s 1ms/step - loss: 3.9929 - mean_squared_error: 3.9929 - mean_absolute_error: 1.5406 - val_loss: 3.8604 - val_mean_squared_error: 3.8604 - val_mean_absolute_error: 1.4820\n",
      "Epoch 13/150\n",
      "10224/10224 [==============================] - 14s 1ms/step - loss: 3.9822 - mean_squared_error: 3.9822 - mean_absolute_error: 1.5325 - val_loss: 3.9112 - val_mean_squared_error: 3.9112 - val_mean_absolute_error: 1.5155\n",
      "Epoch 14/150\n",
      "10224/10224 [==============================] - 14s 1ms/step - loss: 3.9680 - mean_squared_error: 3.9680 - mean_absolute_error: 1.5289 - val_loss: 3.8716 - val_mean_squared_error: 3.8716 - val_mean_absolute_error: 1.5012\n",
      "Epoch 15/150\n",
      "10224/10224 [==============================] - 14s 1ms/step - loss: 3.9547 - mean_squared_error: 3.9547 - mean_absolute_error: 1.5314 - val_loss: 3.9095 - val_mean_squared_error: 3.9095 - val_mean_absolute_error: 1.5238\n",
      "Epoch 16/150\n",
      "10224/10224 [==============================] - 14s 1ms/step - loss: 3.9495 - mean_squared_error: 3.9495 - mean_absolute_error: 1.5308 - val_loss: 3.8880 - val_mean_squared_error: 3.8880 - val_mean_absolute_error: 1.5167\n",
      "Epoch 17/150\n",
      "10224/10224 [==============================] - 14s 1ms/step - loss: 3.9241 - mean_squared_error: 3.9241 - mean_absolute_error: 1.5231 - val_loss: 3.8713 - val_mean_squared_error: 3.8713 - val_mean_absolute_error: 1.5078\n",
      "Epoch 18/150\n",
      "10224/10224 [==============================] - 14s 1ms/step - loss: 3.9468 - mean_squared_error: 3.9468 - mean_absolute_error: 1.5344 - val_loss: 3.8453 - val_mean_squared_error: 3.8453 - val_mean_absolute_error: 1.4850\n",
      "Epoch 19/150\n",
      "10224/10224 [==============================] - 14s 1ms/step - loss: 3.9275 - mean_squared_error: 3.9275 - mean_absolute_error: 1.5181 - val_loss: 3.8517 - val_mean_squared_error: 3.8517 - val_mean_absolute_error: 1.5092\n",
      "Epoch 20/150\n",
      "10224/10224 [==============================] - 14s 1ms/step - loss: 3.9398 - mean_squared_error: 3.9398 - mean_absolute_error: 1.5283 - val_loss: 3.8612 - val_mean_squared_error: 3.8612 - val_mean_absolute_error: 1.5207\n",
      "Epoch 21/150\n",
      "10224/10224 [==============================] - 14s 1ms/step - loss: 3.9212 - mean_squared_error: 3.9212 - mean_absolute_error: 1.5221 - val_loss: 3.8770 - val_mean_squared_error: 3.8770 - val_mean_absolute_error: 1.5263\n",
      "Epoch 22/150\n",
      "10224/10224 [==============================] - 14s 1ms/step - loss: 3.9112 - mean_squared_error: 3.9112 - mean_absolute_error: 1.5280 - val_loss: 3.8804 - val_mean_squared_error: 3.8804 - val_mean_absolute_error: 1.5038\n",
      "Epoch 23/150\n",
      "10224/10224 [==============================] - 14s 1ms/step - loss: 3.9265 - mean_squared_error: 3.9265 - mean_absolute_error: 1.5197 - val_loss: 3.9131 - val_mean_squared_error: 3.9131 - val_mean_absolute_error: 1.5281\n",
      "Epoch 24/150\n",
      "10224/10224 [==============================] - 14s 1ms/step - loss: 3.9224 - mean_squared_error: 3.9224 - mean_absolute_error: 1.5199 - val_loss: 3.9481 - val_mean_squared_error: 3.9481 - val_mean_absolute_error: 1.5231\n",
      "Epoch 25/150\n",
      "10224/10224 [==============================] - 14s 1ms/step - loss: 3.9055 - mean_squared_error: 3.9055 - mean_absolute_error: 1.5160 - val_loss: 3.9190 - val_mean_squared_error: 3.9190 - val_mean_absolute_error: 1.5285\n",
      "Epoch 26/150\n",
      "10224/10224 [==============================] - 14s 1ms/step - loss: 3.9053 - mean_squared_error: 3.9053 - mean_absolute_error: 1.5207 - val_loss: 3.8921 - val_mean_squared_error: 3.8921 - val_mean_absolute_error: 1.5249\n",
      "Epoch 27/150\n",
      "10224/10224 [==============================] - 14s 1ms/step - loss: 3.9016 - mean_squared_error: 3.9016 - mean_absolute_error: 1.5245 - val_loss: 3.8694 - val_mean_squared_error: 3.8694 - val_mean_absolute_error: 1.5162\n",
      "Epoch 28/150\n",
      "10224/10224 [==============================] - 14s 1ms/step - loss: 3.9041 - mean_squared_error: 3.9041 - mean_absolute_error: 1.5108 - val_loss: 3.9234 - val_mean_squared_error: 3.9234 - val_mean_absolute_error: 1.5456\n",
      "Epoch 29/150\n",
      "10224/10224 [==============================] - 14s 1ms/step - loss: 3.9122 - mean_squared_error: 3.9122 - mean_absolute_error: 1.5287 - val_loss: 3.9062 - val_mean_squared_error: 3.9062 - val_mean_absolute_error: 1.5273\n",
      "Epoch 30/150\n",
      "10224/10224 [==============================] - 14s 1ms/step - loss: 3.8971 - mean_squared_error: 3.8971 - mean_absolute_error: 1.5203 - val_loss: 3.8916 - val_mean_squared_error: 3.8916 - val_mean_absolute_error: 1.5073\n",
      "Epoch 31/150\n",
      "10224/10224 [==============================] - 14s 1ms/step - loss: 3.8925 - mean_squared_error: 3.8925 - mean_absolute_error: 1.5171 - val_loss: 3.8735 - val_mean_squared_error: 3.8735 - val_mean_absolute_error: 1.5109\n",
      "Epoch 32/150\n",
      "10224/10224 [==============================] - 14s 1ms/step - loss: 3.9115 - mean_squared_error: 3.9115 - mean_absolute_error: 1.5250 - val_loss: 3.8806 - val_mean_squared_error: 3.8806 - val_mean_absolute_error: 1.5008\n",
      "Epoch 33/150\n",
      "10224/10224 [==============================] - 14s 1ms/step - loss: 3.9104 - mean_squared_error: 3.9104 - mean_absolute_error: 1.5183 - val_loss: 3.8697 - val_mean_squared_error: 3.8697 - val_mean_absolute_error: 1.5090\n",
      "Epoch 34/150\n",
      "10224/10224 [==============================] - 14s 1ms/step - loss: 3.8877 - mean_squared_error: 3.8877 - mean_absolute_error: 1.5196 - val_loss: 3.8712 - val_mean_squared_error: 3.8712 - val_mean_absolute_error: 1.4945\n",
      "Epoch 35/150\n",
      "10224/10224 [==============================] - 14s 1ms/step - loss: 3.8918 - mean_squared_error: 3.8918 - mean_absolute_error: 1.5135 - val_loss: 3.8756 - val_mean_squared_error: 3.8756 - val_mean_absolute_error: 1.5321\n"
     ]
    },
    {
     "name": "stdout",
     "output_type": "stream",
     "text": [
      "Epoch 36/150\n",
      "10224/10224 [==============================] - 14s 1ms/step - loss: 3.8821 - mean_squared_error: 3.8821 - mean_absolute_error: 1.5184 - val_loss: 3.8688 - val_mean_squared_error: 3.8688 - val_mean_absolute_error: 1.5367\n",
      "Epoch 37/150\n",
      "10224/10224 [==============================] - 14s 1ms/step - loss: 3.8757 - mean_squared_error: 3.8757 - mean_absolute_error: 1.5139 - val_loss: 3.8851 - val_mean_squared_error: 3.8851 - val_mean_absolute_error: 1.5371\n",
      "Epoch 38/150\n",
      "10224/10224 [==============================] - 14s 1ms/step - loss: 3.8950 - mean_squared_error: 3.8950 - mean_absolute_error: 1.5244 - val_loss: 3.8645 - val_mean_squared_error: 3.8645 - val_mean_absolute_error: 1.5168\n",
      "Epoch 39/150\n",
      "10224/10224 [==============================] - 14s 1ms/step - loss: 3.8840 - mean_squared_error: 3.8840 - mean_absolute_error: 1.5140 - val_loss: 3.8719 - val_mean_squared_error: 3.8719 - val_mean_absolute_error: 1.5102\n",
      "Epoch 40/150\n",
      "10224/10224 [==============================] - 14s 1ms/step - loss: 3.8854 - mean_squared_error: 3.8854 - mean_absolute_error: 1.5129 - val_loss: 3.8808 - val_mean_squared_error: 3.8808 - val_mean_absolute_error: 1.5318\n",
      "Epoch 41/150\n",
      "10224/10224 [==============================] - 14s 1ms/step - loss: 3.8826 - mean_squared_error: 3.8826 - mean_absolute_error: 1.5197 - val_loss: 3.8759 - val_mean_squared_error: 3.8759 - val_mean_absolute_error: 1.5372\n",
      "Epoch 42/150\n",
      "10224/10224 [==============================] - 14s 1ms/step - loss: 3.8791 - mean_squared_error: 3.8791 - mean_absolute_error: 1.5171 - val_loss: 3.8587 - val_mean_squared_error: 3.8587 - val_mean_absolute_error: 1.5048\n",
      "Epoch 43/150\n",
      "10224/10224 [==============================] - 14s 1ms/step - loss: 3.8918 - mean_squared_error: 3.8918 - mean_absolute_error: 1.5202 - val_loss: 3.8660 - val_mean_squared_error: 3.8660 - val_mean_absolute_error: 1.5096\n",
      "Epoch 44/150\n",
      "10224/10224 [==============================] - 14s 1ms/step - loss: 3.8699 - mean_squared_error: 3.8699 - mean_absolute_error: 1.5137 - val_loss: 3.8551 - val_mean_squared_error: 3.8551 - val_mean_absolute_error: 1.5118\n",
      "Epoch 45/150\n",
      "10224/10224 [==============================] - 14s 1ms/step - loss: 3.8795 - mean_squared_error: 3.8795 - mean_absolute_error: 1.5165 - val_loss: 3.8636 - val_mean_squared_error: 3.8636 - val_mean_absolute_error: 1.5217\n",
      "Epoch 46/150\n",
      "10224/10224 [==============================] - 14s 1ms/step - loss: 3.8855 - mean_squared_error: 3.8855 - mean_absolute_error: 1.5161 - val_loss: 3.8788 - val_mean_squared_error: 3.8788 - val_mean_absolute_error: 1.5105\n",
      "Epoch 47/150\n",
      "10224/10224 [==============================] - 14s 1ms/step - loss: 3.8774 - mean_squared_error: 3.8774 - mean_absolute_error: 1.5199 - val_loss: 3.8502 - val_mean_squared_error: 3.8502 - val_mean_absolute_error: 1.5085\n",
      "Epoch 48/150\n",
      "10224/10224 [==============================] - 14s 1ms/step - loss: 3.8892 - mean_squared_error: 3.8892 - mean_absolute_error: 1.5166 - val_loss: 3.8242 - val_mean_squared_error: 3.8242 - val_mean_absolute_error: 1.5190\n",
      "Epoch 49/150\n",
      "10224/10224 [==============================] - 14s 1ms/step - loss: 3.8757 - mean_squared_error: 3.8757 - mean_absolute_error: 1.5207 - val_loss: 3.8596 - val_mean_squared_error: 3.8596 - val_mean_absolute_error: 1.5074\n",
      "Epoch 50/150\n",
      "10224/10224 [==============================] - 14s 1ms/step - loss: 3.8624 - mean_squared_error: 3.8624 - mean_absolute_error: 1.5027 - val_loss: 3.8713 - val_mean_squared_error: 3.8713 - val_mean_absolute_error: 1.5367\n",
      "Epoch 51/150\n",
      "10224/10224 [==============================] - 14s 1ms/step - loss: 3.8715 - mean_squared_error: 3.8715 - mean_absolute_error: 1.5184 - val_loss: 3.8467 - val_mean_squared_error: 3.8467 - val_mean_absolute_error: 1.5231\n",
      "Epoch 52/150\n",
      "10224/10224 [==============================] - 14s 1ms/step - loss: 3.8673 - mean_squared_error: 3.8673 - mean_absolute_error: 1.5170 - val_loss: 3.8876 - val_mean_squared_error: 3.8876 - val_mean_absolute_error: 1.4991\n",
      "Epoch 53/150\n",
      "10224/10224 [==============================] - 14s 1ms/step - loss: 3.8596 - mean_squared_error: 3.8596 - mean_absolute_error: 1.5069 - val_loss: 3.8685 - val_mean_squared_error: 3.8685 - val_mean_absolute_error: 1.5145\n",
      "Epoch 54/150\n",
      "10224/10224 [==============================] - 14s 1ms/step - loss: 3.8608 - mean_squared_error: 3.8608 - mean_absolute_error: 1.5190 - val_loss: 3.8446 - val_mean_squared_error: 3.8446 - val_mean_absolute_error: 1.5150\n",
      "Epoch 55/150\n",
      "10224/10224 [==============================] - 14s 1ms/step - loss: 3.8697 - mean_squared_error: 3.8697 - mean_absolute_error: 1.5126 - val_loss: 3.8482 - val_mean_squared_error: 3.8482 - val_mean_absolute_error: 1.5347\n",
      "Epoch 56/150\n",
      "10224/10224 [==============================] - 14s 1ms/step - loss: 3.8678 - mean_squared_error: 3.8678 - mean_absolute_error: 1.5148 - val_loss: 3.8777 - val_mean_squared_error: 3.8777 - val_mean_absolute_error: 1.5236\n",
      "Epoch 57/150\n",
      "10224/10224 [==============================] - 14s 1ms/step - loss: 3.8730 - mean_squared_error: 3.8730 - mean_absolute_error: 1.5129 - val_loss: 3.8772 - val_mean_squared_error: 3.8772 - val_mean_absolute_error: 1.5231\n",
      "Epoch 58/150\n",
      "10224/10224 [==============================] - 14s 1ms/step - loss: 3.8903 - mean_squared_error: 3.8903 - mean_absolute_error: 1.5257 - val_loss: 3.7936 - val_mean_squared_error: 3.7936 - val_mean_absolute_error: 1.5044\n",
      "Epoch 59/150\n",
      "10224/10224 [==============================] - 14s 1ms/step - loss: 3.8802 - mean_squared_error: 3.8802 - mean_absolute_error: 1.5144 - val_loss: 3.8797 - val_mean_squared_error: 3.8797 - val_mean_absolute_error: 1.5073\n",
      "Epoch 60/150\n",
      "10224/10224 [==============================] - 14s 1ms/step - loss: 3.8798 - mean_squared_error: 3.8798 - mean_absolute_error: 1.5207 - val_loss: 3.8329 - val_mean_squared_error: 3.8329 - val_mean_absolute_error: 1.5197\n",
      "Epoch 61/150\n",
      "10224/10224 [==============================] - 14s 1ms/step - loss: 3.8720 - mean_squared_error: 3.8720 - mean_absolute_error: 1.5144 - val_loss: 3.8618 - val_mean_squared_error: 3.8618 - val_mean_absolute_error: 1.5177\n",
      "Epoch 62/150\n",
      "10224/10224 [==============================] - 14s 1ms/step - loss: 3.8712 - mean_squared_error: 3.8712 - mean_absolute_error: 1.5188 - val_loss: 3.8458 - val_mean_squared_error: 3.8458 - val_mean_absolute_error: 1.5096\n",
      "Epoch 63/150\n",
      "10224/10224 [==============================] - 14s 1ms/step - loss: 3.8686 - mean_squared_error: 3.8686 - mean_absolute_error: 1.5149 - val_loss: 3.8386 - val_mean_squared_error: 3.8386 - val_mean_absolute_error: 1.5064\n",
      "Epoch 64/150\n",
      "10224/10224 [==============================] - 14s 1ms/step - loss: 3.8797 - mean_squared_error: 3.8797 - mean_absolute_error: 1.5126 - val_loss: 3.8542 - val_mean_squared_error: 3.8542 - val_mean_absolute_error: 1.5394\n",
      "Epoch 65/150\n",
      "10224/10224 [==============================] - 14s 1ms/step - loss: 3.8596 - mean_squared_error: 3.8596 - mean_absolute_error: 1.5147 - val_loss: 3.8707 - val_mean_squared_error: 3.8707 - val_mean_absolute_error: 1.5081\n",
      "Epoch 66/150\n",
      "10224/10224 [==============================] - 14s 1ms/step - loss: 3.8647 - mean_squared_error: 3.8647 - mean_absolute_error: 1.5132 - val_loss: 3.8665 - val_mean_squared_error: 3.8665 - val_mean_absolute_error: 1.5185\n",
      "Epoch 67/150\n",
      "10224/10224 [==============================] - 14s 1ms/step - loss: 3.8616 - mean_squared_error: 3.8616 - mean_absolute_error: 1.5116 - val_loss: 3.8660 - val_mean_squared_error: 3.8660 - val_mean_absolute_error: 1.5164\n",
      "Epoch 68/150\n",
      "10224/10224 [==============================] - 14s 1ms/step - loss: 3.8644 - mean_squared_error: 3.8644 - mean_absolute_error: 1.5153 - val_loss: 3.8507 - val_mean_squared_error: 3.8507 - val_mean_absolute_error: 1.5291\n",
      "Epoch 69/150\n",
      "10224/10224 [==============================] - 14s 1ms/step - loss: 3.8531 - mean_squared_error: 3.8531 - mean_absolute_error: 1.5033 - val_loss: 3.8922 - val_mean_squared_error: 3.8922 - val_mean_absolute_error: 1.5237\n",
      "Epoch 70/150\n",
      "10224/10224 [==============================] - 14s 1ms/step - loss: 3.8576 - mean_squared_error: 3.8576 - mean_absolute_error: 1.5066 - val_loss: 3.8532 - val_mean_squared_error: 3.8532 - val_mean_absolute_error: 1.5392\n",
      "Epoch 71/150\n"
     ]
    },
    {
     "name": "stdout",
     "output_type": "stream",
     "text": [
      "10224/10224 [==============================] - 14s 1ms/step - loss: 3.8466 - mean_squared_error: 3.8466 - mean_absolute_error: 1.5135 - val_loss: 3.8543 - val_mean_squared_error: 3.8543 - val_mean_absolute_error: 1.5115\n",
      "Epoch 72/150\n",
      "10224/10224 [==============================] - 14s 1ms/step - loss: 3.8486 - mean_squared_error: 3.8486 - mean_absolute_error: 1.5094 - val_loss: 3.8682 - val_mean_squared_error: 3.8682 - val_mean_absolute_error: 1.5123\n",
      "Epoch 73/150\n",
      "10224/10224 [==============================] - 14s 1ms/step - loss: 3.8633 - mean_squared_error: 3.8633 - mean_absolute_error: 1.5133 - val_loss: 3.8578 - val_mean_squared_error: 3.8578 - val_mean_absolute_error: 1.5258\n",
      "Epoch 74/150\n",
      "10224/10224 [==============================] - 14s 1ms/step - loss: 3.8528 - mean_squared_error: 3.8528 - mean_absolute_error: 1.5118 - val_loss: 3.8481 - val_mean_squared_error: 3.8481 - val_mean_absolute_error: 1.5207\n",
      "Epoch 75/150\n",
      "10224/10224 [==============================] - 14s 1ms/step - loss: 3.8559 - mean_squared_error: 3.8559 - mean_absolute_error: 1.5116 - val_loss: 3.9043 - val_mean_squared_error: 3.9043 - val_mean_absolute_error: 1.5158\n",
      "Epoch 76/150\n",
      "10224/10224 [==============================] - 14s 1ms/step - loss: 3.8458 - mean_squared_error: 3.8458 - mean_absolute_error: 1.5107 - val_loss: 3.8573 - val_mean_squared_error: 3.8573 - val_mean_absolute_error: 1.5255\n",
      "Epoch 77/150\n",
      "10224/10224 [==============================] - 14s 1ms/step - loss: 3.8554 - mean_squared_error: 3.8554 - mean_absolute_error: 1.5080 - val_loss: 3.8485 - val_mean_squared_error: 3.8485 - val_mean_absolute_error: 1.5116\n",
      "Epoch 78/150\n",
      "10224/10224 [==============================] - 14s 1ms/step - loss: 3.8484 - mean_squared_error: 3.8484 - mean_absolute_error: 1.5120 - val_loss: 3.8586 - val_mean_squared_error: 3.8586 - val_mean_absolute_error: 1.5145\n",
      "Epoch 79/150\n",
      "10224/10224 [==============================] - 14s 1ms/step - loss: 3.8541 - mean_squared_error: 3.8541 - mean_absolute_error: 1.5047 - val_loss: 3.8696 - val_mean_squared_error: 3.8696 - val_mean_absolute_error: 1.5232\n",
      "Epoch 80/150\n",
      "10224/10224 [==============================] - 14s 1ms/step - loss: 3.8495 - mean_squared_error: 3.8495 - mean_absolute_error: 1.5084 - val_loss: 3.8613 - val_mean_squared_error: 3.8613 - val_mean_absolute_error: 1.5119\n",
      "Epoch 81/150\n",
      "10224/10224 [==============================] - 14s 1ms/step - loss: 3.8459 - mean_squared_error: 3.8459 - mean_absolute_error: 1.5077 - val_loss: 3.8684 - val_mean_squared_error: 3.8684 - val_mean_absolute_error: 1.5217\n",
      "Epoch 82/150\n",
      "10224/10224 [==============================] - 14s 1ms/step - loss: 3.8420 - mean_squared_error: 3.8420 - mean_absolute_error: 1.5116 - val_loss: 3.8532 - val_mean_squared_error: 3.8532 - val_mean_absolute_error: 1.5078\n",
      "Epoch 83/150\n",
      "10224/10224 [==============================] - 14s 1ms/step - loss: 3.8347 - mean_squared_error: 3.8347 - mean_absolute_error: 1.5016 - val_loss: 3.8629 - val_mean_squared_error: 3.8629 - val_mean_absolute_error: 1.5185\n",
      "Epoch 84/150\n",
      "10224/10224 [==============================] - 14s 1ms/step - loss: 3.8375 - mean_squared_error: 3.8375 - mean_absolute_error: 1.5050 - val_loss: 3.8394 - val_mean_squared_error: 3.8394 - val_mean_absolute_error: 1.5080\n",
      "Epoch 85/150\n",
      "10224/10224 [==============================] - 14s 1ms/step - loss: 3.8403 - mean_squared_error: 3.8403 - mean_absolute_error: 1.5037 - val_loss: 3.8610 - val_mean_squared_error: 3.8610 - val_mean_absolute_error: 1.5160\n",
      "Epoch 86/150\n",
      "10224/10224 [==============================] - 14s 1ms/step - loss: 3.8563 - mean_squared_error: 3.8563 - mean_absolute_error: 1.5118 - val_loss: 3.8541 - val_mean_squared_error: 3.8541 - val_mean_absolute_error: 1.5236\n",
      "Epoch 87/150\n",
      "10224/10224 [==============================] - 14s 1ms/step - loss: 3.8552 - mean_squared_error: 3.8552 - mean_absolute_error: 1.5071 - val_loss: 3.8659 - val_mean_squared_error: 3.8659 - val_mean_absolute_error: 1.5306\n",
      "Epoch 88/150\n",
      "10224/10224 [==============================] - 14s 1ms/step - loss: 3.8606 - mean_squared_error: 3.8606 - mean_absolute_error: 1.5242 - val_loss: 3.8508 - val_mean_squared_error: 3.8508 - val_mean_absolute_error: 1.5150\n",
      "Epoch 89/150\n",
      "10224/10224 [==============================] - 14s 1ms/step - loss: 3.8507 - mean_squared_error: 3.8507 - mean_absolute_error: 1.5106 - val_loss: 3.8473 - val_mean_squared_error: 3.8473 - val_mean_absolute_error: 1.5296\n",
      "Epoch 90/150\n",
      "10224/10224 [==============================] - 14s 1ms/step - loss: 3.8648 - mean_squared_error: 3.8648 - mean_absolute_error: 1.5149 - val_loss: 3.8415 - val_mean_squared_error: 3.8415 - val_mean_absolute_error: 1.5214\n",
      "Epoch 91/150\n",
      "10224/10224 [==============================] - 14s 1ms/step - loss: 3.8439 - mean_squared_error: 3.8439 - mean_absolute_error: 1.5095 - val_loss: 3.8567 - val_mean_squared_error: 3.8567 - val_mean_absolute_error: 1.5095\n",
      "Epoch 92/150\n",
      "10224/10224 [==============================] - 14s 1ms/step - loss: 3.8550 - mean_squared_error: 3.8550 - mean_absolute_error: 1.5122 - val_loss: 3.8543 - val_mean_squared_error: 3.8543 - val_mean_absolute_error: 1.5196\n",
      "Epoch 93/150\n",
      "10224/10224 [==============================] - 14s 1ms/step - loss: 3.8368 - mean_squared_error: 3.8368 - mean_absolute_error: 1.5047 - val_loss: 3.8714 - val_mean_squared_error: 3.8714 - val_mean_absolute_error: 1.5269\n",
      "Epoch 94/150\n",
      "10224/10224 [==============================] - 14s 1ms/step - loss: 3.8473 - mean_squared_error: 3.8473 - mean_absolute_error: 1.5109 - val_loss: 3.8573 - val_mean_squared_error: 3.8573 - val_mean_absolute_error: 1.5083\n",
      "Epoch 95/150\n",
      "10224/10224 [==============================] - 14s 1ms/step - loss: 3.8384 - mean_squared_error: 3.8384 - mean_absolute_error: 1.5068 - val_loss: 3.8515 - val_mean_squared_error: 3.8515 - val_mean_absolute_error: 1.5170\n",
      "Epoch 96/150\n",
      "10224/10224 [==============================] - 14s 1ms/step - loss: 3.8427 - mean_squared_error: 3.8427 - mean_absolute_error: 1.5004 - val_loss: 3.8560 - val_mean_squared_error: 3.8560 - val_mean_absolute_error: 1.5328\n",
      "Epoch 97/150\n",
      "10224/10224 [==============================] - 14s 1ms/step - loss: 3.8393 - mean_squared_error: 3.8393 - mean_absolute_error: 1.5170 - val_loss: 3.8636 - val_mean_squared_error: 3.8636 - val_mean_absolute_error: 1.5014\n",
      "Epoch 98/150\n",
      "10224/10224 [==============================] - 14s 1ms/step - loss: 3.8398 - mean_squared_error: 3.8398 - mean_absolute_error: 1.5044 - val_loss: 3.8733 - val_mean_squared_error: 3.8733 - val_mean_absolute_error: 1.5229\n",
      "Epoch 99/150\n",
      "10224/10224 [==============================] - 14s 1ms/step - loss: 3.8388 - mean_squared_error: 3.8388 - mean_absolute_error: 1.5093 - val_loss: 3.8551 - val_mean_squared_error: 3.8551 - val_mean_absolute_error: 1.5340\n",
      "Epoch 100/150\n",
      "10224/10224 [==============================] - 14s 1ms/step - loss: 3.8300 - mean_squared_error: 3.8300 - mean_absolute_error: 1.4991 - val_loss: 3.8503 - val_mean_squared_error: 3.8503 - val_mean_absolute_error: 1.5204\n",
      "Epoch 101/150\n",
      "10224/10224 [==============================] - 14s 1ms/step - loss: 3.8465 - mean_squared_error: 3.8465 - mean_absolute_error: 1.5063 - val_loss: 3.8504 - val_mean_squared_error: 3.8504 - val_mean_absolute_error: 1.5337\n",
      "Epoch 102/150\n",
      "10224/10224 [==============================] - 14s 1ms/step - loss: 3.8406 - mean_squared_error: 3.8406 - mean_absolute_error: 1.5100 - val_loss: 3.8736 - val_mean_squared_error: 3.8736 - val_mean_absolute_error: 1.5217\n",
      "Epoch 103/150\n",
      "10224/10224 [==============================] - 14s 1ms/step - loss: 3.8360 - mean_squared_error: 3.8360 - mean_absolute_error: 1.4987 - val_loss: 3.8763 - val_mean_squared_error: 3.8763 - val_mean_absolute_error: 1.5372\n",
      "Epoch 104/150\n",
      "10224/10224 [==============================] - 14s 1ms/step - loss: 3.8346 - mean_squared_error: 3.8346 - mean_absolute_error: 1.5151 - val_loss: 3.8604 - val_mean_squared_error: 3.8604 - val_mean_absolute_error: 1.5055\n",
      "Epoch 105/150\n",
      "10224/10224 [==============================] - 14s 1ms/step - loss: 3.8436 - mean_squared_error: 3.8436 - mean_absolute_error: 1.5049 - val_loss: 3.8466 - val_mean_squared_error: 3.8466 - val_mean_absolute_error: 1.5196\n",
      "Epoch 106/150\n"
     ]
    },
    {
     "name": "stdout",
     "output_type": "stream",
     "text": [
      "10224/10224 [==============================] - 14s 1ms/step - loss: 3.8452 - mean_squared_error: 3.8452 - mean_absolute_error: 1.5016 - val_loss: 3.8611 - val_mean_squared_error: 3.8611 - val_mean_absolute_error: 1.5441\n",
      "Epoch 107/150\n",
      "10224/10224 [==============================] - 14s 1ms/step - loss: 3.8383 - mean_squared_error: 3.8383 - mean_absolute_error: 1.5113 - val_loss: 3.8835 - val_mean_squared_error: 3.8835 - val_mean_absolute_error: 1.5088\n",
      "Epoch 108/150\n",
      "10224/10224 [==============================] - 14s 1ms/step - loss: 3.8237 - mean_squared_error: 3.8237 - mean_absolute_error: 1.5044 - val_loss: 3.8632 - val_mean_squared_error: 3.8632 - val_mean_absolute_error: 1.5027\n",
      "Epoch 109/150\n",
      "10224/10224 [==============================] - 14s 1ms/step - loss: 3.8323 - mean_squared_error: 3.8323 - mean_absolute_error: 1.5028 - val_loss: 3.8574 - val_mean_squared_error: 3.8574 - val_mean_absolute_error: 1.5057\n",
      "Epoch 110/150\n",
      "10224/10224 [==============================] - 14s 1ms/step - loss: 3.8448 - mean_squared_error: 3.8448 - mean_absolute_error: 1.5094 - val_loss: 3.8476 - val_mean_squared_error: 3.8476 - val_mean_absolute_error: 1.5093\n",
      "Epoch 111/150\n",
      "10224/10224 [==============================] - 14s 1ms/step - loss: 3.8458 - mean_squared_error: 3.8458 - mean_absolute_error: 1.5052 - val_loss: 3.8702 - val_mean_squared_error: 3.8702 - val_mean_absolute_error: 1.5194\n",
      "Epoch 112/150\n",
      "10224/10224 [==============================] - 14s 1ms/step - loss: 3.8578 - mean_squared_error: 3.8578 - mean_absolute_error: 1.5179 - val_loss: 3.8768 - val_mean_squared_error: 3.8768 - val_mean_absolute_error: 1.5087\n",
      "Epoch 113/150\n",
      "10224/10224 [==============================] - 14s 1ms/step - loss: 3.8557 - mean_squared_error: 3.8557 - mean_absolute_error: 1.5129 - val_loss: 3.8622 - val_mean_squared_error: 3.8622 - val_mean_absolute_error: 1.5189\n",
      "Epoch 114/150\n",
      "10224/10224 [==============================] - 14s 1ms/step - loss: 3.8482 - mean_squared_error: 3.8482 - mean_absolute_error: 1.5107 - val_loss: 3.8270 - val_mean_squared_error: 3.8270 - val_mean_absolute_error: 1.5056\n",
      "Epoch 115/150\n",
      "10224/10224 [==============================] - 14s 1ms/step - loss: 3.8546 - mean_squared_error: 3.8546 - mean_absolute_error: 1.5166 - val_loss: 3.8681 - val_mean_squared_error: 3.8681 - val_mean_absolute_error: 1.4975\n",
      "Epoch 116/150\n",
      "10224/10224 [==============================] - 14s 1ms/step - loss: 3.8432 - mean_squared_error: 3.8432 - mean_absolute_error: 1.5055 - val_loss: 3.8658 - val_mean_squared_error: 3.8658 - val_mean_absolute_error: 1.5118\n",
      "Epoch 117/150\n",
      "10224/10224 [==============================] - 14s 1ms/step - loss: 3.8417 - mean_squared_error: 3.8417 - mean_absolute_error: 1.5081 - val_loss: 3.8592 - val_mean_squared_error: 3.8592 - val_mean_absolute_error: 1.5115\n",
      "Epoch 118/150\n",
      "10224/10224 [==============================] - 14s 1ms/step - loss: 3.8376 - mean_squared_error: 3.8376 - mean_absolute_error: 1.5078 - val_loss: 3.8710 - val_mean_squared_error: 3.8710 - val_mean_absolute_error: 1.5215\n",
      "Epoch 119/150\n",
      "10224/10224 [==============================] - 14s 1ms/step - loss: 3.8367 - mean_squared_error: 3.8367 - mean_absolute_error: 1.5091 - val_loss: 3.8392 - val_mean_squared_error: 3.8392 - val_mean_absolute_error: 1.5169\n",
      "Epoch 120/150\n",
      "10224/10224 [==============================] - 14s 1ms/step - loss: 3.8446 - mean_squared_error: 3.8446 - mean_absolute_error: 1.5038 - val_loss: 3.8838 - val_mean_squared_error: 3.8838 - val_mean_absolute_error: 1.5191\n",
      "Epoch 121/150\n",
      "10224/10224 [==============================] - 14s 1ms/step - loss: 3.8384 - mean_squared_error: 3.8384 - mean_absolute_error: 1.5177 - val_loss: 3.8480 - val_mean_squared_error: 3.8480 - val_mean_absolute_error: 1.5057\n",
      "Epoch 122/150\n",
      "10224/10224 [==============================] - 14s 1ms/step - loss: 3.8449 - mean_squared_error: 3.8449 - mean_absolute_error: 1.5020 - val_loss: 3.8868 - val_mean_squared_error: 3.8868 - val_mean_absolute_error: 1.5122\n",
      "Epoch 123/150\n",
      "10224/10224 [==============================] - 14s 1ms/step - loss: 3.8355 - mean_squared_error: 3.8355 - mean_absolute_error: 1.5039 - val_loss: 3.8631 - val_mean_squared_error: 3.8631 - val_mean_absolute_error: 1.5115\n",
      "Epoch 124/150\n",
      "10224/10224 [==============================] - 14s 1ms/step - loss: 3.8405 - mean_squared_error: 3.8405 - mean_absolute_error: 1.5042 - val_loss: 3.8565 - val_mean_squared_error: 3.8565 - val_mean_absolute_error: 1.5182\n",
      "Epoch 125/150\n",
      "10224/10224 [==============================] - 14s 1ms/step - loss: 3.8468 - mean_squared_error: 3.8468 - mean_absolute_error: 1.5082 - val_loss: 3.8554 - val_mean_squared_error: 3.8554 - val_mean_absolute_error: 1.5203\n",
      "Epoch 126/150\n",
      "10224/10224 [==============================] - 14s 1ms/step - loss: 3.8401 - mean_squared_error: 3.8401 - mean_absolute_error: 1.5092 - val_loss: 3.8650 - val_mean_squared_error: 3.8650 - val_mean_absolute_error: 1.5263\n",
      "Epoch 127/150\n",
      "10224/10224 [==============================] - 14s 1ms/step - loss: 3.8314 - mean_squared_error: 3.8314 - mean_absolute_error: 1.5054 - val_loss: 3.8428 - val_mean_squared_error: 3.8428 - val_mean_absolute_error: 1.5109\n",
      "Epoch 128/150\n",
      "10224/10224 [==============================] - 14s 1ms/step - loss: 3.8299 - mean_squared_error: 3.8299 - mean_absolute_error: 1.5062 - val_loss: 3.8797 - val_mean_squared_error: 3.8797 - val_mean_absolute_error: 1.5285\n",
      "Epoch 129/150\n",
      "10224/10224 [==============================] - 14s 1ms/step - loss: 3.8201 - mean_squared_error: 3.8201 - mean_absolute_error: 1.4990 - val_loss: 3.8722 - val_mean_squared_error: 3.8722 - val_mean_absolute_error: 1.5221\n",
      "Epoch 130/150\n",
      "10224/10224 [==============================] - 14s 1ms/step - loss: 3.8197 - mean_squared_error: 3.8197 - mean_absolute_error: 1.5013 - val_loss: 3.8654 - val_mean_squared_error: 3.8654 - val_mean_absolute_error: 1.5045\n",
      "Epoch 131/150\n",
      "10224/10224 [==============================] - 14s 1ms/step - loss: 3.8261 - mean_squared_error: 3.8261 - mean_absolute_error: 1.4968 - val_loss: 3.8447 - val_mean_squared_error: 3.8447 - val_mean_absolute_error: 1.5265\n",
      "Epoch 132/150\n",
      "10224/10224 [==============================] - 14s 1ms/step - loss: 3.8431 - mean_squared_error: 3.8431 - mean_absolute_error: 1.5166 - val_loss: 3.8862 - val_mean_squared_error: 3.8862 - val_mean_absolute_error: 1.5165\n",
      "Epoch 133/150\n",
      "10224/10224 [==============================] - 14s 1ms/step - loss: 3.8361 - mean_squared_error: 3.8361 - mean_absolute_error: 1.5071 - val_loss: 3.8752 - val_mean_squared_error: 3.8752 - val_mean_absolute_error: 1.5143\n",
      "Epoch 134/150\n",
      "10224/10224 [==============================] - 14s 1ms/step - loss: 3.8289 - mean_squared_error: 3.8289 - mean_absolute_error: 1.5025 - val_loss: 3.8784 - val_mean_squared_error: 3.8784 - val_mean_absolute_error: 1.5181\n",
      "Epoch 135/150\n",
      "10224/10224 [==============================] - 14s 1ms/step - loss: 3.8246 - mean_squared_error: 3.8246 - mean_absolute_error: 1.5074 - val_loss: 3.8859 - val_mean_squared_error: 3.8859 - val_mean_absolute_error: 1.5239\n",
      "Epoch 136/150\n",
      "10224/10224 [==============================] - 14s 1ms/step - loss: 3.8435 - mean_squared_error: 3.8435 - mean_absolute_error: 1.5124 - val_loss: 3.8737 - val_mean_squared_error: 3.8737 - val_mean_absolute_error: 1.5266\n",
      "Epoch 137/150\n",
      "10224/10224 [==============================] - 14s 1ms/step - loss: 3.8394 - mean_squared_error: 3.8394 - mean_absolute_error: 1.5029 - val_loss: 3.8624 - val_mean_squared_error: 3.8624 - val_mean_absolute_error: 1.5194\n",
      "Epoch 138/150\n",
      "10224/10224 [==============================] - 14s 1ms/step - loss: 3.8361 - mean_squared_error: 3.8361 - mean_absolute_error: 1.5089 - val_loss: 3.8703 - val_mean_squared_error: 3.8703 - val_mean_absolute_error: 1.5141\n",
      "Epoch 139/150\n",
      "10224/10224 [==============================] - 14s 1ms/step - loss: 3.8322 - mean_squared_error: 3.8322 - mean_absolute_error: 1.4994 - val_loss: 3.9002 - val_mean_squared_error: 3.9002 - val_mean_absolute_error: 1.5294\n",
      "Epoch 140/150\n",
      "10224/10224 [==============================] - 14s 1ms/step - loss: 3.8346 - mean_squared_error: 3.8346 - mean_absolute_error: 1.5109 - val_loss: 3.8804 - val_mean_squared_error: 3.8804 - val_mean_absolute_error: 1.5119\n",
      "Epoch 141/150\n"
     ]
    },
    {
     "name": "stdout",
     "output_type": "stream",
     "text": [
      "10224/10224 [==============================] - 14s 1ms/step - loss: 3.8292 - mean_squared_error: 3.8292 - mean_absolute_error: 1.4980 - val_loss: 3.8650 - val_mean_squared_error: 3.8650 - val_mean_absolute_error: 1.5218\n",
      "Epoch 142/150\n",
      "10224/10224 [==============================] - 14s 1ms/step - loss: 3.8339 - mean_squared_error: 3.8339 - mean_absolute_error: 1.5009 - val_loss: 3.8660 - val_mean_squared_error: 3.8660 - val_mean_absolute_error: 1.5166\n",
      "Epoch 143/150\n",
      "10224/10224 [==============================] - 14s 1ms/step - loss: 3.8368 - mean_squared_error: 3.8368 - mean_absolute_error: 1.5069 - val_loss: 3.8541 - val_mean_squared_error: 3.8541 - val_mean_absolute_error: 1.5085\n",
      "Epoch 144/150\n",
      "10224/10224 [==============================] - 14s 1ms/step - loss: 3.8297 - mean_squared_error: 3.8297 - mean_absolute_error: 1.5067 - val_loss: 3.8834 - val_mean_squared_error: 3.8834 - val_mean_absolute_error: 1.5263\n",
      "Epoch 145/150\n",
      "10224/10224 [==============================] - 14s 1ms/step - loss: 3.8346 - mean_squared_error: 3.8346 - mean_absolute_error: 1.5022 - val_loss: 3.8572 - val_mean_squared_error: 3.8572 - val_mean_absolute_error: 1.5170\n",
      "Epoch 146/150\n",
      "10224/10224 [==============================] - 14s 1ms/step - loss: 3.8255 - mean_squared_error: 3.8255 - mean_absolute_error: 1.4990 - val_loss: 3.8685 - val_mean_squared_error: 3.8685 - val_mean_absolute_error: 1.5178\n",
      "Epoch 147/150\n",
      "10224/10224 [==============================] - 14s 1ms/step - loss: 3.8198 - mean_squared_error: 3.8198 - mean_absolute_error: 1.5074 - val_loss: 3.8695 - val_mean_squared_error: 3.8695 - val_mean_absolute_error: 1.5100\n",
      "Epoch 148/150\n",
      "10224/10224 [==============================] - 14s 1ms/step - loss: 3.8347 - mean_squared_error: 3.8347 - mean_absolute_error: 1.5021 - val_loss: 3.8603 - val_mean_squared_error: 3.8603 - val_mean_absolute_error: 1.5206\n",
      "Epoch 149/150\n",
      "10224/10224 [==============================] - 14s 1ms/step - loss: 3.8393 - mean_squared_error: 3.8393 - mean_absolute_error: 1.5072 - val_loss: 3.8541 - val_mean_squared_error: 3.8541 - val_mean_absolute_error: 1.5034\n",
      "Epoch 150/150\n",
      "10224/10224 [==============================] - 14s 1ms/step - loss: 3.8399 - mean_squared_error: 3.8399 - mean_absolute_error: 1.5103 - val_loss: 3.8698 - val_mean_squared_error: 3.8698 - val_mean_absolute_error: 1.5078\n",
      "EndTime : 2020-09-15 14:39:02.804853\n"
     ]
    }
   ],
   "source": [
    "# model fitting\n",
    "StartTime8 = datetime.now()\n",
    "print(\"StartTime :\", StartTime8)\n",
    "with K.tf.device('/GPU:0'):\n",
    "    model_train = model.fit(train_X, training_label_array, batch_size=batch_size,epochs=training_epochs,verbose=1,\n",
    "                        validation_data=(test_X, test_label_array))\n",
    "\n",
    "EndTime8 = datetime.now()\n",
    "print(\"EndTime :\", EndTime8)"
   ]
  },
  {
   "cell_type": "code",
   "execution_count": 18,
   "metadata": {},
   "outputs": [],
   "source": [
    "# model save\n",
    "import json\n",
    "from keras.models import model_from_json, load_model\n",
    "workdir = \"E://Ronny_TF//200914_reupload//Result//EC-11K\"\n",
    "# Option 1: Save Weights + Architecture\n",
    "model.save_weights(workdir+ '//EC11K_ResNet_model_weight_v3.h5')\n",
    "with open(workdir + '//EC11K_ResNet_model_architecture_fix_v3.json', 'w') as f:\n",
    "    f.write(model.to_json())\n",
    "# Option 1: Load Weights + Architecture\n",
    "# with open('model_architecture.json', 'r') as f:\n",
    "#     new_model_1 = model_from_json(f.read())\n",
    "# new_model_1.load_weights('model_weights.h5')"
   ]
  },
  {
   "cell_type": "code",
   "execution_count": 19,
   "metadata": {},
   "outputs": [],
   "source": [
    "# Option 2: Save/Load the Entire Model\n",
    "from keras.models import load_model\n",
    "\n",
    "# Creates a HDF5 file 'my_model.h5'\n",
    "model.save(workdir + '//EC11K_ResNet_model_fix_2080ti_v3.h5')\n",
    "\n",
    "# Deletes the existing model\n",
    "# del model  \n",
    "\n",
    "# Returns a compiled model identical to the previous one\n",
    "# model = load_model('my_model.h5')"
   ]
  },
  {
   "cell_type": "code",
   "execution_count": 20,
   "metadata": {},
   "outputs": [
    {
     "name": "stdout",
     "output_type": "stream",
     "text": [
      "1136/1136 [==============================] - 1s 528us/step\n"
     ]
    }
   ],
   "source": [
    "test_eval = model.evaluate(test_X, test_label_array, verbose=1)"
   ]
  },
  {
   "cell_type": "code",
   "execution_count": 21,
   "metadata": {},
   "outputs": [
    {
     "data": {
      "text/plain": [
       "[3.8697709768590793, 3.8697709768590793, 1.5077907308726244]"
      ]
     },
     "execution_count": 21,
     "metadata": {},
     "output_type": "execute_result"
    }
   ],
   "source": [
    "test_eval"
   ]
  },
  {
   "cell_type": "code",
   "execution_count": 22,
   "metadata": {},
   "outputs": [],
   "source": [
    "# loss record\n",
    "accuracy = model_train.history['mean_squared_error']\n",
    "val_accuracy = model_train.history['val_mean_squared_error']\n",
    "loss = model_train.history['loss']\n",
    "val_loss = model_train.history['val_loss']\n",
    "\n",
    "np_acc = np.array(accuracy)\n",
    "np_val_acc = np.array(val_accuracy)\n",
    "np_loss = np.array(loss)\n",
    "np_val_loss = np.array(val_loss)"
   ]
  },
  {
   "cell_type": "code",
   "execution_count": 23,
   "metadata": {},
   "outputs": [],
   "source": [
    "# loss record\n",
    "np.savetxt(\"EC11K_ResNet_acc_cls3_fix_2080ti_v3.csv\", np_acc, delimiter=\",\")\n",
    "np.savetxt(\"EC11K_ResNet_val_acc_cls3_fix_2080ti_v3.csv\", np_val_acc, delimiter=\",\")\n",
    "np.savetxt(\"EC11K_ResNet_loss_cls3_fix_2080ti_v3.csv\", np_loss, delimiter=\",\")\n",
    "np.savetxt(\"EC11K_ResNet_val_loss_cls3_fix_2080ti_v3.csv\", np_val_loss, delimiter=\",\")"
   ]
  },
  {
   "cell_type": "code",
   "execution_count": 24,
   "metadata": {},
   "outputs": [],
   "source": [
    "import matplotlib\n",
    "from matplotlib import pyplot as plt"
   ]
  },
  {
   "cell_type": "code",
   "execution_count": 25,
   "metadata": {},
   "outputs": [
    {
     "data": {
      "image/png": "[encoded data removed]",
      "text/plain": [
       "<Figure size 432x288 with 1 Axes>"
      ]
     },
     "metadata": {
      "needs_background": "light"
     },
     "output_type": "display_data"
    },
    {
     "data": {
      "image/png": "[encoded data removed]",
      "text/plain": [
       "<Figure size 432x288 with 1 Axes>"
      ]
     },
     "metadata": {
      "needs_background": "light"
     },
     "output_type": "display_data"
    }
   ],
   "source": [
    "# accuracy = model_train.history['acc']\n",
    "# val_accuracy = model_train.history['val_acc']\n",
    "# loss = model_train.history['loss']\n",
    "# val_loss = model_train.history['val_loss']\n",
    "epochs = range(len(accuracy))\n",
    "plt.plot(epochs, accuracy, 'bo', label='Training mse')\n",
    "plt.plot(epochs, val_accuracy, 'b', label='Validation mse')\n",
    "plt.title('Training and validation mse')\n",
    "plt.legend()\n",
    "plt.figure()\n",
    "plt.plot(epochs, loss, 'bo', label='Training loss')\n",
    "plt.plot(epochs, val_loss, 'b', label='Validation loss')\n",
    "plt.title('Training and validation loss')\n",
    "plt.legend()\n",
    "plt.savefig(workdir + '//EC11K_ResNet_mse_loss_plot.png')\n",
    "plt.show()"
   ]
  },
  {
   "cell_type": "code",
   "execution_count": 26,
   "metadata": {},
   "outputs": [],
   "source": [
    "predicted_classes = model.predict(test_X)"
   ]
  },
  {
   "cell_type": "code",
   "execution_count": 27,
   "metadata": {},
   "outputs": [],
   "source": [
    "predicted_value = predicted_classes"
   ]
  },
  {
   "cell_type": "code",
   "execution_count": 28,
   "metadata": {},
   "outputs": [],
   "source": [
    "# saving predicted ln(IC50)s and ln(IC50)s in the test set\n",
    "a = pd.DataFrame(predicted_value)\n",
    "b = pd.DataFrame(test_label_array)\n",
    "c = pd.concat([a,b], axis=1)\n",
    "c.columns=[\"Predicted\",\"Test\"]\n",
    "c.to_csv(workdir + '//200915_EC11K_ResNet_pred_and_val_result.csv', index=False)\n"
   ]
  },
  {
   "cell_type": "code",
   "execution_count": 29,
   "metadata": {
    "scrolled": true
   },
   "outputs": [
    {
     "data": {
      "text/html": [
       "<div>\n",
       "<style scoped>\n",
       "    .dataframe tbody tr th:only-of-type {\n",
       "        vertical-align: middle;\n",
       "    }\n",
       "\n",
       "    .dataframe tbody tr th {\n",
       "        vertical-align: top;\n",
       "    }\n",
       "\n",
       "    .dataframe thead th {\n",
       "        text-align: right;\n",
       "    }\n",
       "</style>\n",
       "<table border=\"1\" class=\"dataframe\">\n",
       "  <thead>\n",
       "    <tr style=\"text-align: right;\">\n",
       "      <th></th>\n",
       "      <th>Predicted</th>\n",
       "      <th>Test</th>\n",
       "    </tr>\n",
       "  </thead>\n",
       "  <tbody>\n",
       "    <tr>\n",
       "      <th>0</th>\n",
       "      <td>0.321528</td>\n",
       "      <td>-0.940726</td>\n",
       "    </tr>\n",
       "    <tr>\n",
       "      <th>1</th>\n",
       "      <td>1.206293</td>\n",
       "      <td>2.079442</td>\n",
       "    </tr>\n",
       "    <tr>\n",
       "      <th>2</th>\n",
       "      <td>0.681042</td>\n",
       "      <td>2.079442</td>\n",
       "    </tr>\n",
       "    <tr>\n",
       "      <th>3</th>\n",
       "      <td>0.654309</td>\n",
       "      <td>2.079442</td>\n",
       "    </tr>\n",
       "    <tr>\n",
       "      <th>4</th>\n",
       "      <td>0.784352</td>\n",
       "      <td>2.079442</td>\n",
       "    </tr>\n",
       "  </tbody>\n",
       "</table>\n",
       "</div>"
      ],
      "text/plain": [
       "   Predicted      Test\n",
       "0   0.321528 -0.940726\n",
       "1   1.206293  2.079442\n",
       "2   0.681042  2.079442\n",
       "3   0.654309  2.079442\n",
       "4   0.784352  2.079442"
      ]
     },
     "execution_count": 29,
     "metadata": {},
     "output_type": "execute_result"
    }
   ],
   "source": [
    "# result table\n",
    "c.head()"
   ]
  },
  {
   "cell_type": "code",
   "execution_count": 30,
   "metadata": {},
   "outputs": [
    {
     "data": {
      "text/plain": [
       "(1136, 1)"
      ]
     },
     "execution_count": 30,
     "metadata": {},
     "output_type": "execute_result"
    }
   ],
   "source": [
    "predicted_value.shape"
   ]
  },
  {
   "cell_type": "code",
   "execution_count": 31,
   "metadata": {},
   "outputs": [
    {
     "data": {
      "image/png": "[encoded data removed]",
      "text/plain": [
       "<Figure size 432x288 with 1 Axes>"
      ]
     },
     "metadata": {
      "needs_background": "light"
     },
     "output_type": "display_data"
    }
   ],
   "source": [
    "plt.scatter(test_label_array,predicted_value,c='blue')\n",
    "plt.xlabel('test_IC50_value')\n",
    "plt.ylabel('predicted_IC50_value')\n",
    "plt.savefig(workdir + '//EC11K_ResNet_test_scatterplot.png')"
   ]
  },
  {
   "cell_type": "code",
   "execution_count": 32,
   "metadata": {},
   "outputs": [
    {
     "name": "stdout",
     "output_type": "stream",
     "text": [
      "-0.03317667071518904\n"
     ]
    }
   ],
   "source": [
    "# R-squared value\n",
    "from sklearn.metrics import r2_score\n",
    "r2_value = r2_score(b,a)\n",
    "print(r2_value)"
   ]
  },
  {
   "cell_type": "code",
   "execution_count": 33,
   "metadata": {},
   "outputs": [
    {
     "data": {
      "text/plain": [
       "LinregressResult(slope=0.014040912154424738, intercept=0.858176148920202, rvalue=0.05815323204777348, pvalue=0.050050516195294, stderr=0.007157796470941147)"
      ]
     },
     "execution_count": 33,
     "metadata": {},
     "output_type": "execute_result"
    }
   ],
   "source": [
    "# Linear regression value (slope)\n",
    "from scipy.stats import linregress\n",
    "linregress(b[0], a[0])"
   ]
  },
  {
   "cell_type": "code",
   "execution_count": 34,
   "metadata": {},
   "outputs": [
    {
     "name": "stdout",
     "output_type": "stream",
     "text": [
      "Final rmse value is = 1.9671732888880238\n"
     ]
    }
   ],
   "source": [
    "# RMSE\n",
    "rse = ((b[0]-a[0])**2).sum()\n",
    "mse = rse / len(b)\n",
    "print(\"Final rmse value is =\",np.sqrt(mse))"
   ]
  }
 ],
 "metadata": {
  "kernelspec": {
   "display_name": "Python 3",
   "language": "python",
   "name": "python3"
  },
  "language_info": {
   "codemirror_mode": {
    "name": "ipython",
    "version": 3
   },
   "file_extension": ".py",
   "mimetype": "text/x-python",
   "name": "python",
   "nbconvert_exporter": "python",
   "pygments_lexer": "ipython3",
   "version": "3.6.8"
  }
 },
 "nbformat": 4,
 "nbformat_minor": 2
}
