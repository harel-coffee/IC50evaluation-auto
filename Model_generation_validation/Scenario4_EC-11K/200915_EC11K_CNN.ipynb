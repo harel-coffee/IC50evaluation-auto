{
 "cells": [
  {
   "cell_type": "code",
   "execution_count": 1,
   "metadata": {},
   "outputs": [
    {
     "name": "stderr",
     "output_type": "stream",
     "text": [
      "Using TensorFlow backend.\n"
     ]
    }
   ],
   "source": [
    "import os\n",
    "import pandas as pd\n",
    "import numpy as np\n",
    "import tensorflow as tf\n",
    "import random\n",
    "from pandas import DataFrame\n",
    "from datetime import datetime\n",
    "import keras\n",
    "from keras.models import Sequential,Input,Model\n",
    "from keras.layers import Dense, Dropout, Flatten, Reshape, Activation\n",
    "from keras.layers import Conv1D, MaxPooling1D ,AveragePooling1D\n",
    "from keras.layers.normalization import BatchNormalization\n",
    "from keras.layers.advanced_activations import LeakyReLU\n",
    "from keras import backend as K\n",
    "from keras.callbacks import ModelCheckpoint, CSVLogger\n",
    "from keras.optimizers import Adam, RMSprop\n",
    "from keras.layers import Input, Dense, Conv1D, MaxPooling1D\n",
    "from keras.layers import Flatten, Concatenate, Dropout, Reshape, BatchNormalization\n",
    "from keras.models import Model\n",
    "\n",
    "# input file path\n",
    "workdir = \"E://Ronny_TF//200914_reupload//Dataset//Scenario4_EC-11K\""
   ]
  },
  {
   "cell_type": "code",
   "execution_count": 2,
   "metadata": {},
   "outputs": [
    {
     "name": "stdout",
     "output_type": "stream",
     "text": [
      "[name: \"/device:CPU:0\"\n",
      "device_type: \"CPU\"\n",
      "memory_limit: 268435456\n",
      "locality {\n",
      "}\n",
      "incarnation: 16570483069899839504\n",
      ", name: \"/device:GPU:0\"\n",
      "device_type: \"GPU\"\n",
      "memory_limit: 10011936973\n",
      "locality {\n",
      "  bus_id: 1\n",
      "  links {\n",
      "  }\n",
      "}\n",
      "incarnation: 13953218691367664510\n",
      "physical_device_desc: \"device: 0, name: GeForce GTX 1080 Ti, pci bus id: 0000:01:00.0, compute capability: 6.1\"\n",
      "]\n"
     ]
    }
   ],
   "source": [
    "from tensorflow.python.client import device_lib\n",
    "print(device_lib.list_local_devices())"
   ]
  },
  {
   "cell_type": "code",
   "execution_count": 3,
   "metadata": {},
   "outputs": [],
   "source": [
    "# input and index file\n",
    "dataset = np.load(workdir + \"//200914_EC11K.npz\")\n",
    "ss0 = np.load(workdir + '//200914_EC11K_r0_9_1.npz')"
   ]
  },
  {
   "cell_type": "code",
   "execution_count": 4,
   "metadata": {},
   "outputs": [],
   "source": [
    "# input and index file assign\n",
    "x = dataset['x']\n",
    "y = dataset['y']\n",
    "# y_linear = dataset['y_lnIC50']\n",
    "ss0_train = ss0['train']\n",
    "ss0_test = ss0['test']"
   ]
  },
  {
   "cell_type": "code",
   "execution_count": 5,
   "metadata": {},
   "outputs": [],
   "source": [
    "# training and test dataset assign\n",
    "training_image_array, training_label_array = x[ss0_train], y[ss0_train]\n",
    "test_image_array, test_label_array = x[ss0_test], y[ss0_test]\n"
   ]
  },
  {
   "cell_type": "code",
   "execution_count": 6,
   "metadata": {},
   "outputs": [
    {
     "data": {
      "text/plain": [
       "(11360, 18988)"
      ]
     },
     "execution_count": 6,
     "metadata": {},
     "output_type": "execute_result"
    }
   ],
   "source": [
    "# checking the size of dataset\n",
    "x.shape"
   ]
  },
  {
   "cell_type": "code",
   "execution_count": 7,
   "metadata": {},
   "outputs": [
    {
     "data": {
      "text/plain": [
       "(10224, 18988)"
      ]
     },
     "execution_count": 7,
     "metadata": {},
     "output_type": "execute_result"
    }
   ],
   "source": [
    "# checking the size of training set\n",
    "training_image_array.shape"
   ]
  },
  {
   "cell_type": "code",
   "execution_count": 8,
   "metadata": {},
   "outputs": [],
   "source": [
    "# hyperparameters of this model\n",
    "num_classes = 1\n",
    "learning_rate = 0.0002\n",
    "training_epochs = 150\n",
    "batch_size = 100\n"
   ]
  },
  {
   "cell_type": "code",
   "execution_count": 9,
   "metadata": {},
   "outputs": [],
   "source": [
    "train_X, train_y, test_X, test_y = training_image_array, training_label_array, test_image_array, test_label_array\n",
    "\n",
    "\n"
   ]
  },
  {
   "cell_type": "code",
   "execution_count": 10,
   "metadata": {},
   "outputs": [
    {
     "name": "stdout",
     "output_type": "stream",
     "text": [
      "18988\n"
     ]
    }
   ],
   "source": [
    "shape_value = train_X.shape[1]\n",
    "print(shape_value)"
   ]
  },
  {
   "cell_type": "code",
   "execution_count": 11,
   "metadata": {},
   "outputs": [],
   "source": [
    "# data shaping for CNN model\n",
    "train_X_cell = train_X[:,:shape_value]\n",
    "train_X_drug =train_X[:,shape_value:]\n",
    "test_X_cell = test_X[:,:shape_value]\n",
    "test_X_drug = test_X[:,shape_value:]"
   ]
  },
  {
   "cell_type": "code",
   "execution_count": 12,
   "metadata": {},
   "outputs": [
    {
     "data": {
      "text/plain": [
       "(10224, 18988)"
      ]
     },
     "execution_count": 12,
     "metadata": {},
     "output_type": "execute_result"
    }
   ],
   "source": [
    "train_X_cell.shape"
   ]
  },
  {
   "cell_type": "code",
   "execution_count": 13,
   "metadata": {},
   "outputs": [],
   "source": [
    "train_X_cell = train_X_cell.reshape(train_X_cell.shape[0], train_X_cell.shape[1], 1)\n",
    "train_X_drug = train_X_drug.reshape(train_X_drug.shape[0], train_X_drug.shape[1], 1)\n",
    "test_X_cell = test_X_cell.reshape(test_X_cell.shape[0], test_X_cell.shape[1], 1)\n",
    "test_X_drug = test_X_drug.reshape(test_X_drug.shape[0], test_X_drug.shape[1], 1)\n",
    "#input_shape = (img_rows, img_cols, 1)"
   ]
  },
  {
   "cell_type": "code",
   "execution_count": 14,
   "metadata": {},
   "outputs": [
    {
     "name": "stdout",
     "output_type": "stream",
     "text": [
      "(10224, 18988, 1) (10224, 0, 1) (10224,) (1136, 18988, 1) (1136, 0, 1) (1136,)\n"
     ]
    }
   ],
   "source": [
    "print(train_X_cell.shape,train_X_drug.shape, train_y.shape, test_X_cell.shape,test_X_drug.shape, test_y.shape)"
   ]
  },
  {
   "cell_type": "code",
   "execution_count": 15,
   "metadata": {},
   "outputs": [
    {
     "data": {
      "text/plain": [
       "(10224, 18988, 1)"
      ]
     },
     "execution_count": 15,
     "metadata": {},
     "output_type": "execute_result"
    }
   ],
   "source": [
    "train_X_cell.shape"
   ]
  },
  {
   "cell_type": "code",
   "execution_count": 16,
   "metadata": {},
   "outputs": [
    {
     "name": "stdout",
     "output_type": "stream",
     "text": [
      "train_X shape: (10224, 18988)\n",
      "10224 train samples\n",
      "1136 test samples\n"
     ]
    }
   ],
   "source": [
    "# data typing and the number of samples\n",
    "train_X_cell = train_X_cell.astype('float32')\n",
    "test_X_cell = test_X_cell.astype('float32')\n",
    "train_X_drug = train_X_drug.astype('float32')\n",
    "test_X_drug = test_X_drug.astype('float32')\n",
    "# train_X /= 255\n",
    "# test_X /= 255\n",
    "print('train_X shape:', train_X.shape)\n",
    "print(train_X.shape[0], 'train samples')\n",
    "print(test_X.shape[0], 'test samples')"
   ]
  },
  {
   "cell_type": "code",
   "execution_count": 17,
   "metadata": {},
   "outputs": [
    {
     "name": "stderr",
     "output_type": "stream",
     "text": [
      "WARNING: Logging before flag parsing goes to stderr.\n",
      "W0915 13:45:07.770640  3296 deprecation_wrapper.py:119] From c:\\users\\a\\anaconda3\\envs\\tf_gpu_3.6\\lib\\site-packages\\keras\\backend\\tensorflow_backend.py:514: The name tf.placeholder is deprecated. Please use tf.compat.v1.placeholder instead.\n",
      "\n",
      "W0915 13:45:07.773567  3296 deprecation_wrapper.py:119] From c:\\users\\a\\anaconda3\\envs\\tf_gpu_3.6\\lib\\site-packages\\keras\\backend\\tensorflow_backend.py:71: The name tf.get_default_graph is deprecated. Please use tf.compat.v1.get_default_graph instead.\n",
      "\n",
      "W0915 13:45:07.774544  3296 deprecation_wrapper.py:119] From c:\\users\\a\\anaconda3\\envs\\tf_gpu_3.6\\lib\\site-packages\\keras\\backend\\tensorflow_backend.py:4076: The name tf.random_uniform is deprecated. Please use tf.random.uniform instead.\n",
      "\n",
      "W0915 13:45:07.790160  3296 deprecation_wrapper.py:119] From c:\\users\\a\\anaconda3\\envs\\tf_gpu_3.6\\lib\\site-packages\\keras\\backend\\tensorflow_backend.py:3900: The name tf.nn.max_pool is deprecated. Please use tf.nn.max_pool2d instead.\n",
      "\n",
      "W0915 13:45:07.821393  3296 deprecation_wrapper.py:119] From c:\\users\\a\\anaconda3\\envs\\tf_gpu_3.6\\lib\\site-packages\\keras\\backend\\tensorflow_backend.py:130: The name tf.placeholder_with_default is deprecated. Please use tf.compat.v1.placeholder_with_default instead.\n",
      "\n",
      "W0915 13:45:07.827248  3296 deprecation.py:506] From c:\\users\\a\\anaconda3\\envs\\tf_gpu_3.6\\lib\\site-packages\\keras\\backend\\tensorflow_backend.py:3363: calling dropout (from tensorflow.python.ops.nn_ops) with keep_prob is deprecated and will be removed in a future version.\n",
      "Instructions for updating:\n",
      "Please use `rate` instead of `keep_prob`. Rate should be set to `rate = 1 - keep_prob`.\n"
     ]
    }
   ],
   "source": [
    "# model architecture\n",
    "with K.tf.device('/GPU:0'):\n",
    "    input_cell = Input(shape=(train_X_cell.shape[1], train_X_cell.shape[2]), name='cell_input')\n",
    "#     input_drug = Input(shape=(train_X_drug.shape[1], train_X_drug.shape[2]), name='drug_input')\n",
    "\n",
    "    conv_cell_line_1 = Conv1D(filters=50, kernel_size=700, strides=5, activation='tanh')(input_cell)\n",
    "    maxpool_cell_line_1 = MaxPooling1D(pool_size=5)(conv_cell_line_1)\n",
    "    conv_cell_line_2 = Conv1D(filters=30, kernel_size=5, strides=2, activation='relu')(maxpool_cell_line_1)\n",
    "    maxpool_cell_line_2 = MaxPooling1D(pool_size=10)(conv_cell_line_2)\n",
    "    flatten_cell_line = Flatten()(maxpool_cell_line_2)\n",
    "    dense_cell_line = Dense(100, activation='relu')(flatten_cell_line)\n",
    "    dropout_cell_line = Dropout(0.1)(dense_cell_line)\n",
    "\n",
    "#     conv_drug_1 = Conv1D(filters=50, kernel_size=200, strides=3, activation='tanh')(input_drug)\n",
    "#     maxpool_drug_1 = MaxPooling1D(pool_size=5)(conv_drug_1)\n",
    "#     conv_drug_2 = Conv1D(filters=30, kernel_size=50, strides=5, activation='relu')(maxpool_drug_1)\n",
    "#     maxpool_drug_2 = MaxPooling1D(pool_size=10)(conv_drug_2)\n",
    "#     flatten_drug = Flatten()(maxpool_drug_2)\n",
    "#     dense_drug = Dense(100, activation='relu')(flatten_drug)\n",
    "#     dropout_drug = Dropout(0.1)(dense_drug)\n",
    "\n",
    "#     concatenate = Concatenate()([dropout_cell_line, dropout_drug])\n",
    "    dense_1 = Dense(300, activation='tanh')(dropout_cell_line)\n",
    "    dropout_1 = Dropout(0.1)(dense_1)\n",
    "    reshape_1 = Reshape((300,1))(dropout_1)\n",
    "    conv_1 = Conv1D(filters=30, kernel_size=150, strides=1, activation='relu')(reshape_1)\n",
    "    maxpool_1 = MaxPooling1D(pool_size=2)(conv_1)\n",
    "    conv_2 = Conv1D(filters=10, kernel_size=5, strides=1, activation='relu')(maxpool_1)\n",
    "    maxpool_2 = MaxPooling1D(pool_size=3)(conv_2)\n",
    "    conv_3 = Conv1D(filters=5, kernel_size=5, strides=1, activation='relu')(maxpool_2)\n",
    "    maxpool_3 = MaxPooling1D(pool_size=3)(conv_3)\n",
    "    dropout_2 = Dropout(0.1)(maxpool_3)\n",
    "    flatten = Flatten()(dropout_2)\n",
    "    dropout_3 = Dropout(0.2)(flatten)\n",
    "    output = Dense(1, activation='linear', name='pred_lnIC50')(dropout_3)\n",
    "    model = Model(inputs=[input_cell], outputs=output, name='MasterModel')\n"
   ]
  },
  {
   "cell_type": "code",
   "execution_count": 18,
   "metadata": {
    "scrolled": true
   },
   "outputs": [
    {
     "name": "stdout",
     "output_type": "stream",
     "text": [
      "_________________________________________________________________\n",
      "Layer (type)                 Output Shape              Param #   \n",
      "=================================================================\n",
      "cell_input (InputLayer)      (None, 18988, 1)          0         \n",
      "_________________________________________________________________\n",
      "conv1d_1 (Conv1D)            (None, 3658, 50)          35050     \n",
      "_________________________________________________________________\n",
      "max_pooling1d_1 (MaxPooling1 (None, 731, 50)           0         \n",
      "_________________________________________________________________\n",
      "conv1d_2 (Conv1D)            (None, 364, 30)           7530      \n",
      "_________________________________________________________________\n",
      "max_pooling1d_2 (MaxPooling1 (None, 36, 30)            0         \n",
      "_________________________________________________________________\n",
      "flatten_1 (Flatten)          (None, 1080)              0         \n",
      "_________________________________________________________________\n",
      "dense_1 (Dense)              (None, 100)               108100    \n",
      "_________________________________________________________________\n",
      "dropout_1 (Dropout)          (None, 100)               0         \n",
      "_________________________________________________________________\n",
      "dense_2 (Dense)              (None, 300)               30300     \n",
      "_________________________________________________________________\n",
      "dropout_2 (Dropout)          (None, 300)               0         \n",
      "_________________________________________________________________\n",
      "reshape_1 (Reshape)          (None, 300, 1)            0         \n",
      "_________________________________________________________________\n",
      "conv1d_3 (Conv1D)            (None, 151, 30)           4530      \n",
      "_________________________________________________________________\n",
      "max_pooling1d_3 (MaxPooling1 (None, 75, 30)            0         \n",
      "_________________________________________________________________\n",
      "conv1d_4 (Conv1D)            (None, 71, 10)            1510      \n",
      "_________________________________________________________________\n",
      "max_pooling1d_4 (MaxPooling1 (None, 23, 10)            0         \n",
      "_________________________________________________________________\n",
      "conv1d_5 (Conv1D)            (None, 19, 5)             255       \n",
      "_________________________________________________________________\n",
      "max_pooling1d_5 (MaxPooling1 (None, 6, 5)              0         \n",
      "_________________________________________________________________\n",
      "dropout_3 (Dropout)          (None, 6, 5)              0         \n",
      "_________________________________________________________________\n",
      "flatten_2 (Flatten)          (None, 30)                0         \n",
      "_________________________________________________________________\n",
      "dropout_4 (Dropout)          (None, 30)                0         \n",
      "_________________________________________________________________\n",
      "pred_lnIC50 (Dense)          (None, 1)                 31        \n",
      "=================================================================\n",
      "Total params: 187,306\n",
      "Trainable params: 187,306\n",
      "Non-trainable params: 0\n",
      "_________________________________________________________________\n"
     ]
    }
   ],
   "source": [
    "# model architecture\n",
    "model.summary()"
   ]
  },
  {
   "cell_type": "code",
   "execution_count": 19,
   "metadata": {},
   "outputs": [],
   "source": [
    "config = tf.ConfigProto()\n",
    "config.gpu_options.allow_growth = True\n",
    "sess = tf.Session(config=config)"
   ]
  },
  {
   "cell_type": "code",
   "execution_count": 20,
   "metadata": {
    "scrolled": true
   },
   "outputs": [
    {
     "name": "stderr",
     "output_type": "stream",
     "text": [
      "W0915 13:45:07.991243  3296 deprecation_wrapper.py:119] From c:\\users\\a\\anaconda3\\envs\\tf_gpu_3.6\\lib\\site-packages\\keras\\optimizers.py:757: The name tf.train.Optimizer is deprecated. Please use tf.compat.v1.train.Optimizer instead.\n",
      "\n"
     ]
    },
    {
     "name": "stdout",
     "output_type": "stream",
     "text": [
      "StartTime : 2020-09-15 13:45:08.011713\n"
     ]
    },
    {
     "name": "stderr",
     "output_type": "stream",
     "text": [
      "W0915 13:45:08.345503  3296 deprecation_wrapper.py:119] From c:\\users\\a\\anaconda3\\envs\\tf_gpu_3.6\\lib\\site-packages\\keras\\backend\\tensorflow_backend.py:983: The name tf.assign_add is deprecated. Please use tf.compat.v1.assign_add instead.\n",
      "\n"
     ]
    },
    {
     "name": "stdout",
     "output_type": "stream",
     "text": [
      "Train on 10224 samples, validate on 1136 samples\n",
      "Epoch 1/150\n",
      "10224/10224 [==============================] - 6s 557us/step - loss: 4.1015 - mean_squared_error: 4.1015 - mean_absolute_error: 1.6091 - val_loss: 3.7248 - val_mean_squared_error: 3.7248 - val_mean_absolute_error: 1.4475\n",
      "Epoch 2/150\n",
      "10224/10224 [==============================] - 4s 343us/step - loss: 4.0599 - mean_squared_error: 4.0599 - mean_absolute_error: 1.5947 - val_loss: 3.7874 - val_mean_squared_error: 3.7874 - val_mean_absolute_error: 1.6047\n",
      "Epoch 3/150\n",
      "10224/10224 [==============================] - 3s 328us/step - loss: 4.0330 - mean_squared_error: 4.0330 - mean_absolute_error: 1.5861 - val_loss: 3.7502 - val_mean_squared_error: 3.7502 - val_mean_absolute_error: 1.5690\n",
      "Epoch 4/150\n",
      "10224/10224 [==============================] - 3s 314us/step - loss: 4.0235 - mean_squared_error: 4.0235 - mean_absolute_error: 1.5809 - val_loss: 3.7771 - val_mean_squared_error: 3.7771 - val_mean_absolute_error: 1.5966\n",
      "Epoch 5/150\n",
      "10224/10224 [==============================] - 3s 330us/step - loss: 3.9936 - mean_squared_error: 3.9936 - mean_absolute_error: 1.5771 - val_loss: 3.6843 - val_mean_squared_error: 3.6843 - val_mean_absolute_error: 1.4705\n",
      "Epoch 6/150\n",
      "10224/10224 [==============================] - 3s 324us/step - loss: 3.9878 - mean_squared_error: 3.9878 - mean_absolute_error: 1.5634 - val_loss: 3.7580 - val_mean_squared_error: 3.7580 - val_mean_absolute_error: 1.5662\n",
      "Epoch 7/150\n",
      "10224/10224 [==============================] - 3s 311us/step - loss: 3.9637 - mean_squared_error: 3.9637 - mean_absolute_error: 1.5586 - val_loss: 3.6852 - val_mean_squared_error: 3.6852 - val_mean_absolute_error: 1.4389\n",
      "Epoch 8/150\n",
      "10224/10224 [==============================] - 3s 309us/step - loss: 3.9976 - mean_squared_error: 3.9976 - mean_absolute_error: 1.5639 - val_loss: 3.6878 - val_mean_squared_error: 3.6878 - val_mean_absolute_error: 1.4832\n",
      "Epoch 9/150\n",
      "10224/10224 [==============================] - 3s 327us/step - loss: 3.9652 - mean_squared_error: 3.9652 - mean_absolute_error: 1.5594 - val_loss: 3.7839 - val_mean_squared_error: 3.7839 - val_mean_absolute_error: 1.5989\n",
      "Epoch 10/150\n",
      "10224/10224 [==============================] - 3s 320us/step - loss: 3.9595 - mean_squared_error: 3.9595 - mean_absolute_error: 1.5572 - val_loss: 3.6886 - val_mean_squared_error: 3.6886 - val_mean_absolute_error: 1.4024\n",
      "Epoch 11/150\n",
      "10224/10224 [==============================] - 3s 332us/step - loss: 3.9384 - mean_squared_error: 3.9384 - mean_absolute_error: 1.5494 - val_loss: 3.7205 - val_mean_squared_error: 3.7205 - val_mean_absolute_error: 1.5362\n",
      "Epoch 12/150\n",
      "10224/10224 [==============================] - 3s 326us/step - loss: 3.9251 - mean_squared_error: 3.9251 - mean_absolute_error: 1.5480 - val_loss: 3.7349 - val_mean_squared_error: 3.7349 - val_mean_absolute_error: 1.5247\n",
      "Epoch 13/150\n",
      "10224/10224 [==============================] - 3s 324us/step - loss: 3.9473 - mean_squared_error: 3.9473 - mean_absolute_error: 1.5496 - val_loss: 3.6957 - val_mean_squared_error: 3.6957 - val_mean_absolute_error: 1.4170\n",
      "Epoch 14/150\n",
      "10224/10224 [==============================] - 3s 323us/step - loss: 3.9384 - mean_squared_error: 3.9384 - mean_absolute_error: 1.5529 - val_loss: 3.7096 - val_mean_squared_error: 3.7096 - val_mean_absolute_error: 1.4043\n",
      "Epoch 15/150\n",
      "10224/10224 [==============================] - 3s 323us/step - loss: 3.9281 - mean_squared_error: 3.9281 - mean_absolute_error: 1.5445 - val_loss: 3.6981 - val_mean_squared_error: 3.6981 - val_mean_absolute_error: 1.4165\n",
      "Epoch 16/150\n",
      "10224/10224 [==============================] - 3s 322us/step - loss: 3.9281 - mean_squared_error: 3.9281 - mean_absolute_error: 1.5404 - val_loss: 3.7779 - val_mean_squared_error: 3.7779 - val_mean_absolute_error: 1.5868\n",
      "Epoch 17/150\n",
      "10224/10224 [==============================] - 3s 321us/step - loss: 3.9162 - mean_squared_error: 3.9162 - mean_absolute_error: 1.5443 - val_loss: 3.7381 - val_mean_squared_error: 3.7381 - val_mean_absolute_error: 1.4990\n",
      "Epoch 18/150\n",
      "10224/10224 [==============================] - 3s 319us/step - loss: 3.9151 - mean_squared_error: 3.9151 - mean_absolute_error: 1.5415 - val_loss: 3.7759 - val_mean_squared_error: 3.7759 - val_mean_absolute_error: 1.5392\n",
      "Epoch 19/150\n",
      "10224/10224 [==============================] - 3s 334us/step - loss: 3.9249 - mean_squared_error: 3.9249 - mean_absolute_error: 1.5437 - val_loss: 3.7216 - val_mean_squared_error: 3.7216 - val_mean_absolute_error: 1.4309\n",
      "Epoch 20/150\n",
      "10224/10224 [==============================] - 3s 326us/step - loss: 3.9073 - mean_squared_error: 3.9073 - mean_absolute_error: 1.5423 - val_loss: 3.7548 - val_mean_squared_error: 3.7548 - val_mean_absolute_error: 1.3602\n",
      "Epoch 21/150\n",
      "10224/10224 [==============================] - 3s 328us/step - loss: 3.9193 - mean_squared_error: 3.9193 - mean_absolute_error: 1.5367 - val_loss: 3.7242 - val_mean_squared_error: 3.7242 - val_mean_absolute_error: 1.4856\n",
      "Epoch 22/150\n",
      "10224/10224 [==============================] - 3s 318us/step - loss: 3.9103 - mean_squared_error: 3.9103 - mean_absolute_error: 1.5374 - val_loss: 3.7503 - val_mean_squared_error: 3.7503 - val_mean_absolute_error: 1.5170\n",
      "Epoch 23/150\n",
      "10224/10224 [==============================] - 3s 311us/step - loss: 3.9035 - mean_squared_error: 3.9035 - mean_absolute_error: 1.5357 - val_loss: 3.7312 - val_mean_squared_error: 3.7312 - val_mean_absolute_error: 1.5193\n",
      "Epoch 24/150\n",
      "10224/10224 [==============================] - 3s 313us/step - loss: 3.9080 - mean_squared_error: 3.9080 - mean_absolute_error: 1.5326 - val_loss: 3.8338 - val_mean_squared_error: 3.8338 - val_mean_absolute_error: 1.5949\n",
      "Epoch 25/150\n",
      "10224/10224 [==============================] - 3s 316us/step - loss: 3.8985 - mean_squared_error: 3.8985 - mean_absolute_error: 1.5398 - val_loss: 3.7415 - val_mean_squared_error: 3.7415 - val_mean_absolute_error: 1.4353\n",
      "Epoch 26/150\n",
      "10224/10224 [==============================] - 3s 318us/step - loss: 3.8949 - mean_squared_error: 3.8949 - mean_absolute_error: 1.5264 - val_loss: 3.8226 - val_mean_squared_error: 3.8226 - val_mean_absolute_error: 1.6015\n",
      "Epoch 27/150\n",
      "10224/10224 [==============================] - 3s 318us/step - loss: 3.9004 - mean_squared_error: 3.9004 - mean_absolute_error: 1.5353 - val_loss: 3.7984 - val_mean_squared_error: 3.7984 - val_mean_absolute_error: 1.5623\n",
      "Epoch 28/150\n",
      "10224/10224 [==============================] - 3s 311us/step - loss: 3.9103 - mean_squared_error: 3.9103 - mean_absolute_error: 1.5405 - val_loss: 3.7701 - val_mean_squared_error: 3.7701 - val_mean_absolute_error: 1.5357\n",
      "Epoch 29/150\n",
      "10224/10224 [==============================] - 3s 313us/step - loss: 3.9031 - mean_squared_error: 3.9031 - mean_absolute_error: 1.5308 - val_loss: 3.7350 - val_mean_squared_error: 3.7350 - val_mean_absolute_error: 1.4957\n",
      "Epoch 30/150\n",
      "10224/10224 [==============================] - 3s 323us/step - loss: 3.8963 - mean_squared_error: 3.8963 - mean_absolute_error: 1.5296 - val_loss: 3.7939 - val_mean_squared_error: 3.7939 - val_mean_absolute_error: 1.5788\n",
      "Epoch 31/150\n",
      "10224/10224 [==============================] - 3s 315us/step - loss: 3.8930 - mean_squared_error: 3.8930 - mean_absolute_error: 1.5400 - val_loss: 3.7479 - val_mean_squared_error: 3.7479 - val_mean_absolute_error: 1.4624\n",
      "Epoch 32/150\n",
      "10224/10224 [==============================] - 3s 312us/step - loss: 3.8771 - mean_squared_error: 3.8771 - mean_absolute_error: 1.5250 - val_loss: 3.7673 - val_mean_squared_error: 3.7673 - val_mean_absolute_error: 1.5224\n",
      "Epoch 33/150\n",
      "10224/10224 [==============================] - 3s 319us/step - loss: 3.8900 - mean_squared_error: 3.8900 - mean_absolute_error: 1.5263 - val_loss: 3.7844 - val_mean_squared_error: 3.7844 - val_mean_absolute_error: 1.5450\n",
      "Epoch 34/150\n",
      "10224/10224 [==============================] - 3s 309us/step - loss: 3.8852 - mean_squared_error: 3.8852 - mean_absolute_error: 1.5313 - val_loss: 3.7917 - val_mean_squared_error: 3.7917 - val_mean_absolute_error: 1.5085\n",
      "Epoch 35/150\n",
      "10224/10224 [==============================] - 3s 311us/step - loss: 3.8965 - mean_squared_error: 3.8965 - mean_absolute_error: 1.5269 - val_loss: 3.8088 - val_mean_squared_error: 3.8088 - val_mean_absolute_error: 1.5832\n"
     ]
    },
    {
     "name": "stdout",
     "output_type": "stream",
     "text": [
      "Epoch 36/150\n",
      "10224/10224 [==============================] - 3s 307us/step - loss: 3.8878 - mean_squared_error: 3.8878 - mean_absolute_error: 1.5238 - val_loss: 3.9618 - val_mean_squared_error: 3.9618 - val_mean_absolute_error: 1.6780\n",
      "Epoch 37/150\n",
      "10224/10224 [==============================] - 3s 311us/step - loss: 3.8955 - mean_squared_error: 3.8955 - mean_absolute_error: 1.5399 - val_loss: 3.7978 - val_mean_squared_error: 3.7978 - val_mean_absolute_error: 1.4858\n",
      "Epoch 38/150\n",
      "10224/10224 [==============================] - 3s 311us/step - loss: 3.8825 - mean_squared_error: 3.8825 - mean_absolute_error: 1.5249 - val_loss: 3.7699 - val_mean_squared_error: 3.7699 - val_mean_absolute_error: 1.5170\n",
      "Epoch 39/150\n",
      "10224/10224 [==============================] - 3s 311us/step - loss: 3.8671 - mean_squared_error: 3.8671 - mean_absolute_error: 1.5227 - val_loss: 3.8025 - val_mean_squared_error: 3.8025 - val_mean_absolute_error: 1.5683\n",
      "Epoch 40/150\n",
      "10224/10224 [==============================] - 3s 314us/step - loss: 3.8821 - mean_squared_error: 3.8821 - mean_absolute_error: 1.5279 - val_loss: 3.8148 - val_mean_squared_error: 3.8148 - val_mean_absolute_error: 1.5707\n",
      "Epoch 41/150\n",
      "10224/10224 [==============================] - 3s 312us/step - loss: 3.8569 - mean_squared_error: 3.8569 - mean_absolute_error: 1.5213 - val_loss: 3.7680 - val_mean_squared_error: 3.7680 - val_mean_absolute_error: 1.4934\n",
      "Epoch 42/150\n",
      "10224/10224 [==============================] - 3s 315us/step - loss: 3.8774 - mean_squared_error: 3.8774 - mean_absolute_error: 1.5270 - val_loss: 3.7684 - val_mean_squared_error: 3.7684 - val_mean_absolute_error: 1.4528\n",
      "Epoch 43/150\n",
      "10224/10224 [==============================] - 3s 316us/step - loss: 3.8674 - mean_squared_error: 3.8674 - mean_absolute_error: 1.5200 - val_loss: 3.7429 - val_mean_squared_error: 3.7429 - val_mean_absolute_error: 1.4779\n",
      "Epoch 44/150\n",
      "10224/10224 [==============================] - 3s 315us/step - loss: 3.8833 - mean_squared_error: 3.8833 - mean_absolute_error: 1.5321 - val_loss: 3.7969 - val_mean_squared_error: 3.7969 - val_mean_absolute_error: 1.5572\n",
      "Epoch 45/150\n",
      "10224/10224 [==============================] - 3s 315us/step - loss: 3.8848 - mean_squared_error: 3.8848 - mean_absolute_error: 1.5272 - val_loss: 3.7832 - val_mean_squared_error: 3.7832 - val_mean_absolute_error: 1.5036\n",
      "Epoch 46/150\n",
      "10224/10224 [==============================] - 3s 314us/step - loss: 3.8860 - mean_squared_error: 3.8860 - mean_absolute_error: 1.5295 - val_loss: 3.7613 - val_mean_squared_error: 3.7613 - val_mean_absolute_error: 1.4632\n",
      "Epoch 47/150\n",
      "10224/10224 [==============================] - 3s 321us/step - loss: 3.8613 - mean_squared_error: 3.8613 - mean_absolute_error: 1.5209 - val_loss: 3.7850 - val_mean_squared_error: 3.7850 - val_mean_absolute_error: 1.4988\n",
      "Epoch 48/150\n",
      "10224/10224 [==============================] - 3s 316us/step - loss: 3.8653 - mean_squared_error: 3.8653 - mean_absolute_error: 1.5175 - val_loss: 3.9626 - val_mean_squared_error: 3.9626 - val_mean_absolute_error: 1.6778\n",
      "Epoch 49/150\n",
      "10224/10224 [==============================] - 3s 313us/step - loss: 3.8825 - mean_squared_error: 3.8825 - mean_absolute_error: 1.5403 - val_loss: 3.7883 - val_mean_squared_error: 3.7883 - val_mean_absolute_error: 1.4207\n",
      "Epoch 50/150\n",
      "10224/10224 [==============================] - 3s 318us/step - loss: 3.8801 - mean_squared_error: 3.8801 - mean_absolute_error: 1.5202 - val_loss: 3.8203 - val_mean_squared_error: 3.8203 - val_mean_absolute_error: 1.5802\n",
      "Epoch 51/150\n",
      "10224/10224 [==============================] - 3s 316us/step - loss: 3.8597 - mean_squared_error: 3.8597 - mean_absolute_error: 1.5238 - val_loss: 3.7846 - val_mean_squared_error: 3.7846 - val_mean_absolute_error: 1.4297\n",
      "Epoch 52/150\n",
      "10224/10224 [==============================] - 3s 313us/step - loss: 3.8705 - mean_squared_error: 3.8705 - mean_absolute_error: 1.5186 - val_loss: 3.7721 - val_mean_squared_error: 3.7721 - val_mean_absolute_error: 1.4810\n",
      "Epoch 53/150\n",
      "10224/10224 [==============================] - 3s 317us/step - loss: 3.8757 - mean_squared_error: 3.8757 - mean_absolute_error: 1.5263 - val_loss: 3.7842 - val_mean_squared_error: 3.7842 - val_mean_absolute_error: 1.5069\n",
      "Epoch 54/150\n",
      "10224/10224 [==============================] - 3s 315us/step - loss: 3.8642 - mean_squared_error: 3.8642 - mean_absolute_error: 1.5230 - val_loss: 3.8339 - val_mean_squared_error: 3.8339 - val_mean_absolute_error: 1.5846\n",
      "Epoch 55/150\n",
      "10224/10224 [==============================] - 3s 318us/step - loss: 3.8810 - mean_squared_error: 3.8810 - mean_absolute_error: 1.5273 - val_loss: 3.7739 - val_mean_squared_error: 3.7739 - val_mean_absolute_error: 1.5238\n",
      "Epoch 56/150\n",
      "10224/10224 [==============================] - 3s 317us/step - loss: 3.8544 - mean_squared_error: 3.8544 - mean_absolute_error: 1.5211 - val_loss: 3.8084 - val_mean_squared_error: 3.8084 - val_mean_absolute_error: 1.5405\n",
      "Epoch 57/150\n",
      "10224/10224 [==============================] - 3s 314us/step - loss: 3.8590 - mean_squared_error: 3.8590 - mean_absolute_error: 1.5204 - val_loss: 3.7553 - val_mean_squared_error: 3.7553 - val_mean_absolute_error: 1.4333\n",
      "Epoch 58/150\n",
      "10224/10224 [==============================] - 3s 311us/step - loss: 3.8537 - mean_squared_error: 3.8537 - mean_absolute_error: 1.5132 - val_loss: 3.7539 - val_mean_squared_error: 3.7539 - val_mean_absolute_error: 1.4860\n",
      "Epoch 59/150\n",
      "10224/10224 [==============================] - 3s 308us/step - loss: 3.8613 - mean_squared_error: 3.8613 - mean_absolute_error: 1.5181 - val_loss: 3.8249 - val_mean_squared_error: 3.8249 - val_mean_absolute_error: 1.5781\n",
      "Epoch 60/150\n",
      "10224/10224 [==============================] - 3s 307us/step - loss: 3.8580 - mean_squared_error: 3.8580 - mean_absolute_error: 1.5206 - val_loss: 3.8242 - val_mean_squared_error: 3.8242 - val_mean_absolute_error: 1.5244\n",
      "Epoch 61/150\n",
      "10224/10224 [==============================] - 3s 306us/step - loss: 3.8630 - mean_squared_error: 3.8630 - mean_absolute_error: 1.5234 - val_loss: 3.8062 - val_mean_squared_error: 3.8062 - val_mean_absolute_error: 1.4975\n",
      "Epoch 62/150\n",
      "10224/10224 [==============================] - 3s 313us/step - loss: 3.8648 - mean_squared_error: 3.8648 - mean_absolute_error: 1.5162 - val_loss: 3.8000 - val_mean_squared_error: 3.8000 - val_mean_absolute_error: 1.5208\n",
      "Epoch 63/150\n",
      "10224/10224 [==============================] - 3s 312us/step - loss: 3.8590 - mean_squared_error: 3.8590 - mean_absolute_error: 1.5199 - val_loss: 3.7466 - val_mean_squared_error: 3.7466 - val_mean_absolute_error: 1.4670\n",
      "Epoch 64/150\n",
      "10224/10224 [==============================] - 3s 314us/step - loss: 3.8559 - mean_squared_error: 3.8559 - mean_absolute_error: 1.5223 - val_loss: 3.7807 - val_mean_squared_error: 3.7807 - val_mean_absolute_error: 1.4592\n",
      "Epoch 65/150\n",
      "10224/10224 [==============================] - 3s 319us/step - loss: 3.8678 - mean_squared_error: 3.8678 - mean_absolute_error: 1.5226 - val_loss: 3.7869 - val_mean_squared_error: 3.7869 - val_mean_absolute_error: 1.4834\n",
      "Epoch 66/150\n",
      "10224/10224 [==============================] - 3s 316us/step - loss: 3.8658 - mean_squared_error: 3.8658 - mean_absolute_error: 1.5196 - val_loss: 3.7796 - val_mean_squared_error: 3.7796 - val_mean_absolute_error: 1.4976\n",
      "Epoch 67/150\n",
      "10224/10224 [==============================] - 3s 322us/step - loss: 3.8607 - mean_squared_error: 3.8607 - mean_absolute_error: 1.5171 - val_loss: 3.8173 - val_mean_squared_error: 3.8173 - val_mean_absolute_error: 1.5292\n",
      "Epoch 68/150\n",
      "10224/10224 [==============================] - 3s 342us/step - loss: 3.8533 - mean_squared_error: 3.8533 - mean_absolute_error: 1.5157 - val_loss: 3.7836 - val_mean_squared_error: 3.7836 - val_mean_absolute_error: 1.5324\n",
      "Epoch 69/150\n",
      "10224/10224 [==============================] - 3s 331us/step - loss: 3.8599 - mean_squared_error: 3.8599 - mean_absolute_error: 1.5157 - val_loss: 3.8182 - val_mean_squared_error: 3.8182 - val_mean_absolute_error: 1.5729\n",
      "Epoch 70/150\n",
      "10224/10224 [==============================] - 3s 326us/step - loss: 3.8472 - mean_squared_error: 3.8472 - mean_absolute_error: 1.5136 - val_loss: 3.7717 - val_mean_squared_error: 3.7717 - val_mean_absolute_error: 1.4857\n",
      "Epoch 71/150\n"
     ]
    },
    {
     "name": "stdout",
     "output_type": "stream",
     "text": [
      "10224/10224 [==============================] - 3s 332us/step - loss: 3.8638 - mean_squared_error: 3.8638 - mean_absolute_error: 1.5146 - val_loss: 3.9349 - val_mean_squared_error: 3.9349 - val_mean_absolute_error: 1.6442\n",
      "Epoch 72/150\n",
      "10224/10224 [==============================] - 3s 312us/step - loss: 3.8658 - mean_squared_error: 3.8658 - mean_absolute_error: 1.5272 - val_loss: 3.8220 - val_mean_squared_error: 3.8220 - val_mean_absolute_error: 1.5304\n",
      "Epoch 73/150\n",
      "10224/10224 [==============================] - 3s 321us/step - loss: 3.8709 - mean_squared_error: 3.8709 - mean_absolute_error: 1.5249 - val_loss: 3.8246 - val_mean_squared_error: 3.8246 - val_mean_absolute_error: 1.5568\n",
      "Epoch 74/150\n",
      "10224/10224 [==============================] - 3s 309us/step - loss: 3.8555 - mean_squared_error: 3.8555 - mean_absolute_error: 1.5168 - val_loss: 3.8151 - val_mean_squared_error: 3.8151 - val_mean_absolute_error: 1.5347\n",
      "Epoch 75/150\n",
      "10224/10224 [==============================] - 3s 308us/step - loss: 3.8716 - mean_squared_error: 3.8716 - mean_absolute_error: 1.5258 - val_loss: 3.8558 - val_mean_squared_error: 3.8558 - val_mean_absolute_error: 1.5359\n",
      "Epoch 76/150\n",
      "10224/10224 [==============================] - 3s 309us/step - loss: 3.8529 - mean_squared_error: 3.8529 - mean_absolute_error: 1.5105 - val_loss: 3.8609 - val_mean_squared_error: 3.8609 - val_mean_absolute_error: 1.6098\n",
      "Epoch 77/150\n",
      "10224/10224 [==============================] - 3s 309us/step - loss: 3.8525 - mean_squared_error: 3.8525 - mean_absolute_error: 1.5176 - val_loss: 3.7996 - val_mean_squared_error: 3.7996 - val_mean_absolute_error: 1.5235\n",
      "Epoch 78/150\n",
      "10224/10224 [==============================] - 3s 308us/step - loss: 3.8520 - mean_squared_error: 3.8520 - mean_absolute_error: 1.5152 - val_loss: 3.8940 - val_mean_squared_error: 3.8940 - val_mean_absolute_error: 1.6214\n",
      "Epoch 79/150\n",
      "10224/10224 [==============================] - 3s 321us/step - loss: 3.8559 - mean_squared_error: 3.8559 - mean_absolute_error: 1.5241 - val_loss: 3.7870 - val_mean_squared_error: 3.7870 - val_mean_absolute_error: 1.5224\n",
      "Epoch 80/150\n",
      "10224/10224 [==============================] - 3s 310us/step - loss: 3.8468 - mean_squared_error: 3.8468 - mean_absolute_error: 1.5117 - val_loss: 3.8312 - val_mean_squared_error: 3.8312 - val_mean_absolute_error: 1.5644\n",
      "Epoch 81/150\n",
      "10224/10224 [==============================] - 3s 307us/step - loss: 3.8646 - mean_squared_error: 3.8646 - mean_absolute_error: 1.5247 - val_loss: 3.8069 - val_mean_squared_error: 3.8069 - val_mean_absolute_error: 1.5566\n",
      "Epoch 82/150\n",
      "10224/10224 [==============================] - 3s 309us/step - loss: 3.8539 - mean_squared_error: 3.8539 - mean_absolute_error: 1.5175 - val_loss: 3.7847 - val_mean_squared_error: 3.7847 - val_mean_absolute_error: 1.4443\n",
      "Epoch 83/150\n",
      "10224/10224 [==============================] - 3s 309us/step - loss: 3.8489 - mean_squared_error: 3.8489 - mean_absolute_error: 1.5101 - val_loss: 3.8362 - val_mean_squared_error: 3.8362 - val_mean_absolute_error: 1.5666\n",
      "Epoch 84/150\n",
      "10224/10224 [==============================] - 3s 308us/step - loss: 3.8522 - mean_squared_error: 3.8522 - mean_absolute_error: 1.5183 - val_loss: 3.7943 - val_mean_squared_error: 3.7943 - val_mean_absolute_error: 1.4677\n",
      "Epoch 85/150\n",
      "10224/10224 [==============================] - 3s 307us/step - loss: 3.8583 - mean_squared_error: 3.8583 - mean_absolute_error: 1.5144 - val_loss: 3.8278 - val_mean_squared_error: 3.8278 - val_mean_absolute_error: 1.5598\n",
      "Epoch 86/150\n",
      "10224/10224 [==============================] - 3s 310us/step - loss: 3.8469 - mean_squared_error: 3.8469 - mean_absolute_error: 1.5168 - val_loss: 3.7778 - val_mean_squared_error: 3.7778 - val_mean_absolute_error: 1.5115\n",
      "Epoch 87/150\n",
      "10224/10224 [==============================] - 3s 307us/step - loss: 3.8521 - mean_squared_error: 3.8521 - mean_absolute_error: 1.5195 - val_loss: 3.7960 - val_mean_squared_error: 3.7960 - val_mean_absolute_error: 1.4941\n",
      "Epoch 88/150\n",
      "10224/10224 [==============================] - 3s 308us/step - loss: 3.8595 - mean_squared_error: 3.8595 - mean_absolute_error: 1.5194 - val_loss: 3.8046 - val_mean_squared_error: 3.8046 - val_mean_absolute_error: 1.4627\n",
      "Epoch 89/150\n",
      "10224/10224 [==============================] - 3s 307us/step - loss: 3.8489 - mean_squared_error: 3.8489 - mean_absolute_error: 1.5131 - val_loss: 3.8127 - val_mean_squared_error: 3.8127 - val_mean_absolute_error: 1.5339\n",
      "Epoch 90/150\n",
      "10224/10224 [==============================] - 3s 308us/step - loss: 3.8597 - mean_squared_error: 3.8597 - mean_absolute_error: 1.5207 - val_loss: 3.8178 - val_mean_squared_error: 3.8178 - val_mean_absolute_error: 1.4505\n",
      "Epoch 91/150\n",
      "10224/10224 [==============================] - 3s 310us/step - loss: 3.8456 - mean_squared_error: 3.8456 - mean_absolute_error: 1.5038 - val_loss: 3.8531 - val_mean_squared_error: 3.8531 - val_mean_absolute_error: 1.6093\n",
      "Epoch 92/150\n",
      "10224/10224 [==============================] - 3s 307us/step - loss: 3.8535 - mean_squared_error: 3.8535 - mean_absolute_error: 1.5227 - val_loss: 3.8163 - val_mean_squared_error: 3.8163 - val_mean_absolute_error: 1.4933\n",
      "Epoch 93/150\n",
      "10224/10224 [==============================] - 3s 308us/step - loss: 3.8529 - mean_squared_error: 3.8529 - mean_absolute_error: 1.5194 - val_loss: 3.8323 - val_mean_squared_error: 3.8323 - val_mean_absolute_error: 1.5374\n",
      "Epoch 94/150\n",
      "10224/10224 [==============================] - 3s 310us/step - loss: 3.8516 - mean_squared_error: 3.8516 - mean_absolute_error: 1.5196 - val_loss: 3.7953 - val_mean_squared_error: 3.7953 - val_mean_absolute_error: 1.4951\n",
      "Epoch 95/150\n",
      "10224/10224 [==============================] - 3s 309us/step - loss: 3.8569 - mean_squared_error: 3.8569 - mean_absolute_error: 1.5178 - val_loss: 3.8101 - val_mean_squared_error: 3.8101 - val_mean_absolute_error: 1.4671\n",
      "Epoch 96/150\n",
      "10224/10224 [==============================] - 3s 308us/step - loss: 3.8392 - mean_squared_error: 3.8392 - mean_absolute_error: 1.5115 - val_loss: 3.7922 - val_mean_squared_error: 3.7922 - val_mean_absolute_error: 1.5184\n",
      "Epoch 97/150\n",
      "10224/10224 [==============================] - 3s 308us/step - loss: 3.8522 - mean_squared_error: 3.8522 - mean_absolute_error: 1.5190 - val_loss: 3.8082 - val_mean_squared_error: 3.8082 - val_mean_absolute_error: 1.3954\n",
      "Epoch 98/150\n",
      "10224/10224 [==============================] - 3s 310us/step - loss: 3.8499 - mean_squared_error: 3.8499 - mean_absolute_error: 1.5130 - val_loss: 3.8449 - val_mean_squared_error: 3.8449 - val_mean_absolute_error: 1.5588\n",
      "Epoch 99/150\n",
      "10224/10224 [==============================] - 3s 311us/step - loss: 3.8471 - mean_squared_error: 3.8471 - mean_absolute_error: 1.5126 - val_loss: 3.8542 - val_mean_squared_error: 3.8542 - val_mean_absolute_error: 1.5886\n",
      "Epoch 100/150\n",
      "10224/10224 [==============================] - 3s 309us/step - loss: 3.8513 - mean_squared_error: 3.8513 - mean_absolute_error: 1.5231 - val_loss: 3.8053 - val_mean_squared_error: 3.8053 - val_mean_absolute_error: 1.5151\n",
      "Epoch 101/150\n",
      "10224/10224 [==============================] - 3s 308us/step - loss: 3.8480 - mean_squared_error: 3.8480 - mean_absolute_error: 1.5155 - val_loss: 3.8255 - val_mean_squared_error: 3.8255 - val_mean_absolute_error: 1.4125\n",
      "Epoch 102/150\n",
      "10224/10224 [==============================] - 3s 309us/step - loss: 3.8517 - mean_squared_error: 3.8517 - mean_absolute_error: 1.5134 - val_loss: 3.8316 - val_mean_squared_error: 3.8316 - val_mean_absolute_error: 1.5660\n",
      "Epoch 103/150\n",
      "10224/10224 [==============================] - 3s 311us/step - loss: 3.8538 - mean_squared_error: 3.8538 - mean_absolute_error: 1.5167 - val_loss: 3.8200 - val_mean_squared_error: 3.8200 - val_mean_absolute_error: 1.5167\n",
      "Epoch 104/150\n",
      "10224/10224 [==============================] - 3s 308us/step - loss: 3.8412 - mean_squared_error: 3.8412 - mean_absolute_error: 1.5081 - val_loss: 3.8506 - val_mean_squared_error: 3.8506 - val_mean_absolute_error: 1.6133\n",
      "Epoch 105/150\n",
      "10224/10224 [==============================] - 3s 308us/step - loss: 3.8573 - mean_squared_error: 3.8573 - mean_absolute_error: 1.5233 - val_loss: 3.8008 - val_mean_squared_error: 3.8008 - val_mean_absolute_error: 1.4863\n",
      "Epoch 106/150\n"
     ]
    },
    {
     "name": "stdout",
     "output_type": "stream",
     "text": [
      "10224/10224 [==============================] - 3s 308us/step - loss: 3.8401 - mean_squared_error: 3.8401 - mean_absolute_error: 1.5142 - val_loss: 3.7849 - val_mean_squared_error: 3.7849 - val_mean_absolute_error: 1.4964\n",
      "Epoch 107/150\n",
      "10224/10224 [==============================] - 3s 306us/step - loss: 3.8471 - mean_squared_error: 3.8471 - mean_absolute_error: 1.5175 - val_loss: 3.8028 - val_mean_squared_error: 3.8028 - val_mean_absolute_error: 1.4809\n",
      "Epoch 108/150\n",
      "10224/10224 [==============================] - 3s 311us/step - loss: 3.8428 - mean_squared_error: 3.8428 - mean_absolute_error: 1.5077 - val_loss: 3.8373 - val_mean_squared_error: 3.8373 - val_mean_absolute_error: 1.5654\n",
      "Epoch 109/150\n",
      "10224/10224 [==============================] - 3s 308us/step - loss: 3.8453 - mean_squared_error: 3.8453 - mean_absolute_error: 1.5110 - val_loss: 3.8368 - val_mean_squared_error: 3.8368 - val_mean_absolute_error: 1.5952\n",
      "Epoch 110/150\n",
      "10224/10224 [==============================] - 3s 308us/step - loss: 3.8511 - mean_squared_error: 3.8511 - mean_absolute_error: 1.5176 - val_loss: 3.8197 - val_mean_squared_error: 3.8197 - val_mean_absolute_error: 1.5506\n",
      "Epoch 111/150\n",
      "10224/10224 [==============================] - 3s 308us/step - loss: 3.8486 - mean_squared_error: 3.8486 - mean_absolute_error: 1.5193 - val_loss: 3.8470 - val_mean_squared_error: 3.8470 - val_mean_absolute_error: 1.4888\n",
      "Epoch 112/150\n",
      "10224/10224 [==============================] - 3s 307us/step - loss: 3.8540 - mean_squared_error: 3.8540 - mean_absolute_error: 1.5115 - val_loss: 3.8267 - val_mean_squared_error: 3.8267 - val_mean_absolute_error: 1.5510\n",
      "Epoch 113/150\n",
      "10224/10224 [==============================] - 3s 308us/step - loss: 3.8474 - mean_squared_error: 3.8474 - mean_absolute_error: 1.5179 - val_loss: 3.8173 - val_mean_squared_error: 3.8173 - val_mean_absolute_error: 1.4611\n",
      "Epoch 114/150\n",
      "10224/10224 [==============================] - 3s 308us/step - loss: 3.8374 - mean_squared_error: 3.8374 - mean_absolute_error: 1.5055 - val_loss: 3.8347 - val_mean_squared_error: 3.8347 - val_mean_absolute_error: 1.5723\n",
      "Epoch 115/150\n",
      "10224/10224 [==============================] - 3s 308us/step - loss: 3.8475 - mean_squared_error: 3.8475 - mean_absolute_error: 1.5140 - val_loss: 3.8409 - val_mean_squared_error: 3.8409 - val_mean_absolute_error: 1.5066\n",
      "Epoch 116/150\n",
      "10224/10224 [==============================] - 3s 311us/step - loss: 3.8485 - mean_squared_error: 3.8485 - mean_absolute_error: 1.5170 - val_loss: 3.8062 - val_mean_squared_error: 3.8062 - val_mean_absolute_error: 1.5068\n",
      "Epoch 117/150\n",
      "10224/10224 [==============================] - 3s 307us/step - loss: 3.8440 - mean_squared_error: 3.8440 - mean_absolute_error: 1.5119 - val_loss: 3.8106 - val_mean_squared_error: 3.8106 - val_mean_absolute_error: 1.5372\n",
      "Epoch 118/150\n",
      "10224/10224 [==============================] - 3s 308us/step - loss: 3.8384 - mean_squared_error: 3.8384 - mean_absolute_error: 1.5161 - val_loss: 3.8500 - val_mean_squared_error: 3.8500 - val_mean_absolute_error: 1.4033\n",
      "Epoch 119/150\n",
      "10224/10224 [==============================] - 3s 307us/step - loss: 3.8537 - mean_squared_error: 3.8537 - mean_absolute_error: 1.5146 - val_loss: 3.8019 - val_mean_squared_error: 3.8019 - val_mean_absolute_error: 1.5301\n",
      "Epoch 120/150\n",
      "10224/10224 [==============================] - 3s 310us/step - loss: 3.8357 - mean_squared_error: 3.8357 - mean_absolute_error: 1.5099 - val_loss: 3.8109 - val_mean_squared_error: 3.8109 - val_mean_absolute_error: 1.3975\n",
      "Epoch 121/150\n",
      "10224/10224 [==============================] - 3s 309us/step - loss: 3.8460 - mean_squared_error: 3.8460 - mean_absolute_error: 1.5150 - val_loss: 3.8360 - val_mean_squared_error: 3.8360 - val_mean_absolute_error: 1.5166\n",
      "Epoch 122/150\n",
      "10224/10224 [==============================] - 3s 307us/step - loss: 3.8528 - mean_squared_error: 3.8528 - mean_absolute_error: 1.5172 - val_loss: 3.8074 - val_mean_squared_error: 3.8074 - val_mean_absolute_error: 1.5147\n",
      "Epoch 123/150\n",
      "10224/10224 [==============================] - 3s 309us/step - loss: 3.8401 - mean_squared_error: 3.8401 - mean_absolute_error: 1.5146 - val_loss: 3.8084 - val_mean_squared_error: 3.8084 - val_mean_absolute_error: 1.5211\n",
      "Epoch 124/150\n",
      "10224/10224 [==============================] - 3s 309us/step - loss: 3.8401 - mean_squared_error: 3.8401 - mean_absolute_error: 1.5115 - val_loss: 3.8154 - val_mean_squared_error: 3.8154 - val_mean_absolute_error: 1.5383\n",
      "Epoch 125/150\n",
      "10224/10224 [==============================] - 3s 309us/step - loss: 3.8659 - mean_squared_error: 3.8659 - mean_absolute_error: 1.5264 - val_loss: 3.7960 - val_mean_squared_error: 3.7960 - val_mean_absolute_error: 1.5001\n",
      "Epoch 126/150\n",
      "10224/10224 [==============================] - 3s 308us/step - loss: 3.8378 - mean_squared_error: 3.8378 - mean_absolute_error: 1.5097 - val_loss: 3.8233 - val_mean_squared_error: 3.8233 - val_mean_absolute_error: 1.5538\n",
      "Epoch 127/150\n",
      "10224/10224 [==============================] - 3s 309us/step - loss: 3.8403 - mean_squared_error: 3.8403 - mean_absolute_error: 1.5120 - val_loss: 3.8459 - val_mean_squared_error: 3.8459 - val_mean_absolute_error: 1.5783\n",
      "Epoch 128/150\n",
      "10224/10224 [==============================] - 3s 308us/step - loss: 3.8464 - mean_squared_error: 3.8464 - mean_absolute_error: 1.5095 - val_loss: 3.9191 - val_mean_squared_error: 3.9191 - val_mean_absolute_error: 1.6553\n",
      "Epoch 129/150\n",
      "10224/10224 [==============================] - 3s 307us/step - loss: 3.8475 - mean_squared_error: 3.8475 - mean_absolute_error: 1.5202 - val_loss: 3.8125 - val_mean_squared_error: 3.8125 - val_mean_absolute_error: 1.5023\n",
      "Epoch 130/150\n",
      "10224/10224 [==============================] - 3s 308us/step - loss: 3.8355 - mean_squared_error: 3.8355 - mean_absolute_error: 1.5082 - val_loss: 3.7908 - val_mean_squared_error: 3.7908 - val_mean_absolute_error: 1.4984\n",
      "Epoch 131/150\n",
      "10224/10224 [==============================] - 3s 307us/step - loss: 3.8437 - mean_squared_error: 3.8437 - mean_absolute_error: 1.5128 - val_loss: 3.8465 - val_mean_squared_error: 3.8465 - val_mean_absolute_error: 1.5320\n",
      "Epoch 132/150\n",
      "10224/10224 [==============================] - 3s 308us/step - loss: 3.8472 - mean_squared_error: 3.8472 - mean_absolute_error: 1.5190 - val_loss: 3.8357 - val_mean_squared_error: 3.8357 - val_mean_absolute_error: 1.5542\n",
      "Epoch 133/150\n",
      "10224/10224 [==============================] - 3s 309us/step - loss: 3.8430 - mean_squared_error: 3.8430 - mean_absolute_error: 1.5082 - val_loss: 3.8349 - val_mean_squared_error: 3.8349 - val_mean_absolute_error: 1.5694\n",
      "Epoch 134/150\n",
      "10224/10224 [==============================] - 3s 307us/step - loss: 3.8497 - mean_squared_error: 3.8497 - mean_absolute_error: 1.5165 - val_loss: 3.8631 - val_mean_squared_error: 3.8631 - val_mean_absolute_error: 1.5786\n",
      "Epoch 135/150\n",
      "10224/10224 [==============================] - 3s 308us/step - loss: 3.8473 - mean_squared_error: 3.8473 - mean_absolute_error: 1.5128 - val_loss: 3.8363 - val_mean_squared_error: 3.8363 - val_mean_absolute_error: 1.5527\n",
      "Epoch 136/150\n",
      "10224/10224 [==============================] - 3s 307us/step - loss: 3.8400 - mean_squared_error: 3.8400 - mean_absolute_error: 1.5114 - val_loss: 3.8103 - val_mean_squared_error: 3.8103 - val_mean_absolute_error: 1.5223\n",
      "Epoch 137/150\n",
      "10224/10224 [==============================] - 3s 308us/step - loss: 3.8453 - mean_squared_error: 3.8453 - mean_absolute_error: 1.5113 - val_loss: 3.8358 - val_mean_squared_error: 3.8358 - val_mean_absolute_error: 1.5626\n",
      "Epoch 138/150\n",
      "10224/10224 [==============================] - 3s 309us/step - loss: 3.8460 - mean_squared_error: 3.8460 - mean_absolute_error: 1.5178 - val_loss: 3.8014 - val_mean_squared_error: 3.8014 - val_mean_absolute_error: 1.4603\n",
      "Epoch 139/150\n",
      "10224/10224 [==============================] - 3s 308us/step - loss: 3.8420 - mean_squared_error: 3.8420 - mean_absolute_error: 1.5066 - val_loss: 3.8316 - val_mean_squared_error: 3.8316 - val_mean_absolute_error: 1.5655\n",
      "Epoch 140/150\n",
      "10224/10224 [==============================] - 3s 310us/step - loss: 3.8495 - mean_squared_error: 3.8495 - mean_absolute_error: 1.5164 - val_loss: 3.8231 - val_mean_squared_error: 3.8231 - val_mean_absolute_error: 1.4869\n"
     ]
    },
    {
     "name": "stdout",
     "output_type": "stream",
     "text": [
      "Epoch 141/150\n",
      "10224/10224 [==============================] - 3s 309us/step - loss: 3.8491 - mean_squared_error: 3.8491 - mean_absolute_error: 1.5132 - val_loss: 3.8014 - val_mean_squared_error: 3.8014 - val_mean_absolute_error: 1.5160\n",
      "Epoch 142/150\n",
      "10224/10224 [==============================] - 3s 310us/step - loss: 3.8284 - mean_squared_error: 3.8284 - mean_absolute_error: 1.5139 - val_loss: 3.8267 - val_mean_squared_error: 3.8267 - val_mean_absolute_error: 1.4577\n",
      "Epoch 143/150\n",
      "10224/10224 [==============================] - 3s 308us/step - loss: 3.8389 - mean_squared_error: 3.8389 - mean_absolute_error: 1.5100 - val_loss: 3.8394 - val_mean_squared_error: 3.8394 - val_mean_absolute_error: 1.4776\n",
      "Epoch 144/150\n",
      "10224/10224 [==============================] - 3s 306us/step - loss: 3.8413 - mean_squared_error: 3.8413 - mean_absolute_error: 1.5138 - val_loss: 3.7959 - val_mean_squared_error: 3.7959 - val_mean_absolute_error: 1.4368\n",
      "Epoch 145/150\n",
      "10224/10224 [==============================] - 3s 308us/step - loss: 3.8443 - mean_squared_error: 3.8443 - mean_absolute_error: 1.5139 - val_loss: 3.8496 - val_mean_squared_error: 3.8496 - val_mean_absolute_error: 1.5373\n",
      "Epoch 146/150\n",
      "10224/10224 [==============================] - 3s 306us/step - loss: 3.8435 - mean_squared_error: 3.8435 - mean_absolute_error: 1.5141 - val_loss: 3.8430 - val_mean_squared_error: 3.8430 - val_mean_absolute_error: 1.4432\n",
      "Epoch 147/150\n",
      "10224/10224 [==============================] - 3s 310us/step - loss: 3.8516 - mean_squared_error: 3.8516 - mean_absolute_error: 1.5139 - val_loss: 3.8273 - val_mean_squared_error: 3.8273 - val_mean_absolute_error: 1.4665\n",
      "Epoch 148/150\n",
      "10224/10224 [==============================] - 3s 308us/step - loss: 3.8423 - mean_squared_error: 3.8423 - mean_absolute_error: 1.5048 - val_loss: 3.8234 - val_mean_squared_error: 3.8234 - val_mean_absolute_error: 1.5492\n",
      "Epoch 149/150\n",
      "10224/10224 [==============================] - 3s 308us/step - loss: 3.8442 - mean_squared_error: 3.8442 - mean_absolute_error: 1.5164 - val_loss: 3.8196 - val_mean_squared_error: 3.8196 - val_mean_absolute_error: 1.5629\n",
      "Epoch 150/150\n",
      "10224/10224 [==============================] - 3s 307us/step - loss: 3.8317 - mean_squared_error: 3.8317 - mean_absolute_error: 1.5136 - val_loss: 3.8399 - val_mean_squared_error: 3.8399 - val_mean_absolute_error: 1.5189\n",
      "EndTime : 2020-09-15 13:53:11.482465\n"
     ]
    }
   ],
   "source": [
    "# model fitting\n",
    "optim = Adam(lr=learning_rate)\n",
    "model.compile(loss='mse',\n",
    "\t\t      optimizer=optim,\n",
    "\t\t\t  metrics=['mse','mae'])\n",
    "\n",
    "StartTime8 = datetime.now()\n",
    "print(\"StartTime :\", StartTime8)\n",
    "with K.tf.device('/GPU:0'):\n",
    "    model_train = model.fit(train_X_cell, training_label_array, batch_size=batch_size,epochs=training_epochs,verbose=1,\n",
    "                        validation_data=(test_X_cell, test_label_array))\n",
    "\n",
    "EndTime8 = datetime.now()\n",
    "print(\"EndTime :\", EndTime8)"
   ]
  },
  {
   "cell_type": "code",
   "execution_count": 21,
   "metadata": {},
   "outputs": [],
   "source": [
    "# model save\n",
    "import json\n",
    "from keras.models import model_from_json, load_model\n",
    "workdir = \"E://Ronny_TF//200914_reupload//Result//EC-11K\"\n",
    "# Option 1: Save Weights + Architecture\n",
    "model.save_weights(workdir + '//EC11K_CNN_model_weight_fix_v3.h5')\n",
    "with open(workdir + '//EC11K_CNN_model_architecture_fix_v3.json', 'w') as f:\n",
    "    f.write(model.to_json())"
   ]
  },
  {
   "cell_type": "code",
   "execution_count": 22,
   "metadata": {},
   "outputs": [],
   "source": [
    "# Option 2: Save/Load the Entire Model\n",
    "from keras.models import load_model\n",
    "\n",
    "# Creates a HDF5 file 'my_model.h5'\n",
    "model.save(workdir + '//EC11K_CNN_model_fix_2080ti_v3.h5')\n",
    "\n",
    "# Deletes the existing model\n",
    "# del model  \n",
    "\n",
    "# Returns a compiled model identical to the previous one\n",
    "# model = load_model('my_model.h5')"
   ]
  },
  {
   "cell_type": "code",
   "execution_count": 23,
   "metadata": {},
   "outputs": [
    {
     "ename": "ValueError",
     "evalue": "Error when checking model input: the list of Numpy arrays that you are passing to your model is not the size the model expected. Expected to see 1 array(s), but instead got the following list of 2 arrays: [array([[[-0.451841  ],\n        [-0.84097344],\n        [ 1.303866  ],\n        ...,\n        [-1.2417198 ],\n        [-1.0213133 ],\n        [-1.2103953 ]],\n\n       [[-0.3259518 ],\n        [ 0.44660294],\n...",
     "output_type": "error",
     "traceback": [
      "\u001b[1;31m---------------------------------------------------------------------------\u001b[0m",
      "\u001b[1;31mValueError\u001b[0m                                Traceback (most recent call last)",
      "\u001b[1;32m<ipython-input-23-065f8840813d>\u001b[0m in \u001b[0;36m<module>\u001b[1;34m\u001b[0m\n\u001b[0;32m      1\u001b[0m \u001b[1;31m# model evaluation\u001b[0m\u001b[1;33m\u001b[0m\u001b[1;33m\u001b[0m\u001b[1;33m\u001b[0m\u001b[0m\n\u001b[1;32m----> 2\u001b[1;33m \u001b[0mtest_eval\u001b[0m \u001b[1;33m=\u001b[0m \u001b[0mmodel\u001b[0m\u001b[1;33m.\u001b[0m\u001b[0mevaluate\u001b[0m\u001b[1;33m(\u001b[0m\u001b[1;33m[\u001b[0m\u001b[0mtest_X_cell\u001b[0m\u001b[1;33m,\u001b[0m\u001b[0mtest_X_drug\u001b[0m\u001b[1;33m]\u001b[0m\u001b[1;33m,\u001b[0m \u001b[0mtest_label_array\u001b[0m\u001b[1;33m,\u001b[0m \u001b[0mverbose\u001b[0m\u001b[1;33m=\u001b[0m\u001b[1;36m1\u001b[0m\u001b[1;33m)\u001b[0m\u001b[1;33m\u001b[0m\u001b[1;33m\u001b[0m\u001b[0m\n\u001b[0m",
      "\u001b[1;32mc:\\users\\a\\anaconda3\\envs\\tf_gpu_3.6\\lib\\site-packages\\keras\\engine\\training.py\u001b[0m in \u001b[0;36mevaluate\u001b[1;34m(self, x, y, batch_size, verbose, sample_weight, steps)\u001b[0m\n\u001b[0;32m   1103\u001b[0m             \u001b[0mx\u001b[0m\u001b[1;33m,\u001b[0m \u001b[0my\u001b[0m\u001b[1;33m,\u001b[0m\u001b[1;33m\u001b[0m\u001b[1;33m\u001b[0m\u001b[0m\n\u001b[0;32m   1104\u001b[0m             \u001b[0msample_weight\u001b[0m\u001b[1;33m=\u001b[0m\u001b[0msample_weight\u001b[0m\u001b[1;33m,\u001b[0m\u001b[1;33m\u001b[0m\u001b[1;33m\u001b[0m\u001b[0m\n\u001b[1;32m-> 1105\u001b[1;33m             batch_size=batch_size)\n\u001b[0m\u001b[0;32m   1106\u001b[0m         \u001b[1;31m# Prepare inputs, delegate logic to `test_loop`.\u001b[0m\u001b[1;33m\u001b[0m\u001b[1;33m\u001b[0m\u001b[1;33m\u001b[0m\u001b[0m\n\u001b[0;32m   1107\u001b[0m         \u001b[1;32mif\u001b[0m \u001b[0mself\u001b[0m\u001b[1;33m.\u001b[0m\u001b[0m_uses_dynamic_learning_phase\u001b[0m\u001b[1;33m(\u001b[0m\u001b[1;33m)\u001b[0m\u001b[1;33m:\u001b[0m\u001b[1;33m\u001b[0m\u001b[1;33m\u001b[0m\u001b[0m\n",
      "\u001b[1;32mc:\\users\\a\\anaconda3\\envs\\tf_gpu_3.6\\lib\\site-packages\\keras\\engine\\training.py\u001b[0m in \u001b[0;36m_standardize_user_data\u001b[1;34m(self, x, y, sample_weight, class_weight, check_array_lengths, batch_size)\u001b[0m\n\u001b[0;32m    752\u001b[0m             \u001b[0mfeed_input_shapes\u001b[0m\u001b[1;33m,\u001b[0m\u001b[1;33m\u001b[0m\u001b[1;33m\u001b[0m\u001b[0m\n\u001b[0;32m    753\u001b[0m             \u001b[0mcheck_batch_axis\u001b[0m\u001b[1;33m=\u001b[0m\u001b[1;32mFalse\u001b[0m\u001b[1;33m,\u001b[0m  \u001b[1;31m# Don't enforce the batch size.\u001b[0m\u001b[1;33m\u001b[0m\u001b[1;33m\u001b[0m\u001b[0m\n\u001b[1;32m--> 754\u001b[1;33m             exception_prefix='input')\n\u001b[0m\u001b[0;32m    755\u001b[0m \u001b[1;33m\u001b[0m\u001b[0m\n\u001b[0;32m    756\u001b[0m         \u001b[1;32mif\u001b[0m \u001b[0my\u001b[0m \u001b[1;32mis\u001b[0m \u001b[1;32mnot\u001b[0m \u001b[1;32mNone\u001b[0m\u001b[1;33m:\u001b[0m\u001b[1;33m\u001b[0m\u001b[1;33m\u001b[0m\u001b[0m\n",
      "\u001b[1;32mc:\\users\\a\\anaconda3\\envs\\tf_gpu_3.6\\lib\\site-packages\\keras\\engine\\training_utils.py\u001b[0m in \u001b[0;36mstandardize_input_data\u001b[1;34m(data, names, shapes, check_batch_axis, exception_prefix)\u001b[0m\n\u001b[0;32m     98\u001b[0m                 \u001b[1;34m'Expected to see '\u001b[0m \u001b[1;33m+\u001b[0m \u001b[0mstr\u001b[0m\u001b[1;33m(\u001b[0m\u001b[0mlen\u001b[0m\u001b[1;33m(\u001b[0m\u001b[0mnames\u001b[0m\u001b[1;33m)\u001b[0m\u001b[1;33m)\u001b[0m \u001b[1;33m+\u001b[0m \u001b[1;34m' array(s), '\u001b[0m\u001b[1;33m\u001b[0m\u001b[1;33m\u001b[0m\u001b[0m\n\u001b[0;32m     99\u001b[0m                 \u001b[1;34m'but instead got the following list of '\u001b[0m \u001b[1;33m+\u001b[0m\u001b[1;33m\u001b[0m\u001b[1;33m\u001b[0m\u001b[0m\n\u001b[1;32m--> 100\u001b[1;33m                 str(len(data)) + ' arrays: ' + str(data)[:200] + '...')\n\u001b[0m\u001b[0;32m    101\u001b[0m         \u001b[1;32melif\u001b[0m \u001b[0mlen\u001b[0m\u001b[1;33m(\u001b[0m\u001b[0mnames\u001b[0m\u001b[1;33m)\u001b[0m \u001b[1;33m>\u001b[0m \u001b[1;36m1\u001b[0m\u001b[1;33m:\u001b[0m\u001b[1;33m\u001b[0m\u001b[1;33m\u001b[0m\u001b[0m\n\u001b[0;32m    102\u001b[0m             raise ValueError(\n",
      "\u001b[1;31mValueError\u001b[0m: Error when checking model input: the list of Numpy arrays that you are passing to your model is not the size the model expected. Expected to see 1 array(s), but instead got the following list of 2 arrays: [array([[[-0.451841  ],\n        [-0.84097344],\n        [ 1.303866  ],\n        ...,\n        [-1.2417198 ],\n        [-1.0213133 ],\n        [-1.2103953 ]],\n\n       [[-0.3259518 ],\n        [ 0.44660294],\n..."
     ]
    }
   ],
   "source": [
    "# model evaluation\n",
    "test_eval = model.evaluate([test_X_cell,test_X_drug], test_label_array, verbose=1)"
   ]
  },
  {
   "cell_type": "code",
   "execution_count": null,
   "metadata": {},
   "outputs": [],
   "source": [
    "test_eval"
   ]
  },
  {
   "cell_type": "code",
   "execution_count": null,
   "metadata": {},
   "outputs": [],
   "source": [
    "# loss record\n",
    "accuracy = model_train.history['mean_squared_error']\n",
    "val_accuracy = model_train.history['val_mean_squared_error']\n",
    "loss = model_train.history['loss']\n",
    "val_loss = model_train.history['val_loss']\n",
    "\n",
    "np_acc = np.array(accuracy)\n",
    "np_val_acc = np.array(val_accuracy)\n",
    "np_loss = np.array(loss)\n",
    "np_val_loss = np.array(val_loss)"
   ]
  },
  {
   "cell_type": "code",
   "execution_count": null,
   "metadata": {},
   "outputs": [],
   "source": [
    "# loss record\n",
    "np.savetxt(\"EC11K_CNN_acc_cls3_fix_2080ti_v3.csv\", np_acc, delimiter=\",\")\n",
    "np.savetxt(\"EC11K_CNN_val_acc_cls3_fix_2080ti_v3.csv\", np_val_acc, delimiter=\",\")\n",
    "np.savetxt(\"EC11K_CNN_loss_cls3_fix_2080ti_v3.csv\", np_loss, delimiter=\",\")\n",
    "np.savetxt(\"EC11K_CNN_val_loss_cls3_fix_2080ti_v3.csv\", np_val_loss, delimiter=\",\")"
   ]
  },
  {
   "cell_type": "code",
   "execution_count": null,
   "metadata": {},
   "outputs": [],
   "source": [
    "import matplotlib\n",
    "from matplotlib import pyplot as plt"
   ]
  },
  {
   "cell_type": "code",
   "execution_count": null,
   "metadata": {},
   "outputs": [],
   "source": [
    "# accuracy = model_train.history['acc']\n",
    "# val_accuracy = model_train.history['val_acc']\n",
    "# loss = model_train.history['loss']\n",
    "# val_loss = model_train.history['val_loss']\n",
    "epochs = range(len(accuracy))\n",
    "plt.plot(epochs, accuracy, 'bo', label='Training mse',c='red')\n",
    "plt.plot(epochs, val_accuracy, 'b', label='Validation mse',c='red')\n",
    "plt.title('Training and validation mse')\n",
    "plt.legend()\n",
    "plt.figure()\n",
    "plt.plot(epochs, loss, 'bo', label='Training loss',c='red')\n",
    "plt.plot(epochs, val_loss, 'b', label='Validation loss',c='red')\n",
    "plt.title('Training and validation loss')\n",
    "plt.legend()\n",
    "plt.show()"
   ]
  },
  {
   "cell_type": "code",
   "execution_count": null,
   "metadata": {},
   "outputs": [],
   "source": [
    "predicted_classes = model.predict(test_X_cell)"
   ]
  },
  {
   "cell_type": "code",
   "execution_count": null,
   "metadata": {},
   "outputs": [],
   "source": [
    "predicted_value = predicted_classes"
   ]
  },
  {
   "cell_type": "code",
   "execution_count": null,
   "metadata": {},
   "outputs": [],
   "source": [
    "# saving predicted ln(IC50)s and ln(IC50)s in the test set\n",
    "a = pd.DataFrame(predicted_value)\n",
    "b = pd.DataFrame(test_label_array)\n",
    "c = pd.concat([a,b], axis=1)\n",
    "c.columns=[\"Predicted\",\"Test\"]\n",
    "c.to_csv(workdir + '//200915_EC11K_CNN_pred_and_val_result.csv', index=False)\n"
   ]
  },
  {
   "cell_type": "code",
   "execution_count": null,
   "metadata": {
    "scrolled": true
   },
   "outputs": [],
   "source": [
    "# result table\n",
    "c.head()"
   ]
  },
  {
   "cell_type": "code",
   "execution_count": null,
   "metadata": {},
   "outputs": [],
   "source": [
    "predicted_value.shape"
   ]
  },
  {
   "cell_type": "code",
   "execution_count": null,
   "metadata": {},
   "outputs": [],
   "source": [
    "# scatter plot\n",
    "plt.scatter(test_label_array,predicted_value,c='red')\n",
    "plt.xlabel('test_IC50_value')\n",
    "plt.ylabel('predicted_IC50_value')\n",
    "plt.savefig(workdir + '//EC11K_CNN_test_scatterplot.png')"
   ]
  },
  {
   "cell_type": "code",
   "execution_count": null,
   "metadata": {},
   "outputs": [],
   "source": [
    "# R-squared value\n",
    "from sklearn.metrics import r2_score\n",
    "r2_value = r2_score(b,a)\n",
    "print(r2_value)"
   ]
  },
  {
   "cell_type": "code",
   "execution_count": null,
   "metadata": {},
   "outputs": [],
   "source": [
    "# Linear regression value (slope)\n",
    "from scipy.stats import linregress\n",
    "linregress(b[0], a[0])"
   ]
  },
  {
   "cell_type": "code",
   "execution_count": null,
   "metadata": {},
   "outputs": [],
   "source": [
    "# RMSE\n",
    "rse = ((b[0]-a[0])**2).sum()\n",
    "mse = rse / len(b)\n",
    "print(\"Final rmse value is =\",np.sqrt(mse))"
   ]
  }
 ],
 "metadata": {
  "kernelspec": {
   "display_name": "Python 3",
   "language": "python",
   "name": "python3"
  },
  "language_info": {
   "codemirror_mode": {
    "name": "ipython",
    "version": 3
   },
   "file_extension": ".py",
   "mimetype": "text/x-python",
   "name": "python",
   "nbconvert_exporter": "python",
   "pygments_lexer": "ipython3",
   "version": "3.6.8"
  }
 },
 "nbformat": 4,
 "nbformat_minor": 2
}
