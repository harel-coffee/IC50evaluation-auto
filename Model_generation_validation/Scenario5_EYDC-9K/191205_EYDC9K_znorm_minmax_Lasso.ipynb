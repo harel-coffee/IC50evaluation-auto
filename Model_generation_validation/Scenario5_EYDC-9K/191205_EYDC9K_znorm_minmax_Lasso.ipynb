{
 "cells": [
  {
   "cell_type": "code",
   "execution_count": 1,
   "metadata": {},
   "outputs": [],
   "source": [
    "import os\n",
    "import pandas as pd\n",
    "import numpy as np\n",
    "import random\n",
    "from pandas import DataFrame\n",
    "from datetime import datetime\n",
    "from sklearn.model_selection import train_test_split\n",
    "from sklearn.model_selection import GridSearchCV\n",
    "from sklearn.linear_model import Lasso\n",
    "import matplotlib\n",
    "from matplotlib import pyplot as plt\n",
    "\n",
    "workdir = \"path\""
   ]
  },
  {
   "cell_type": "code",
   "execution_count": 2,
   "metadata": {},
   "outputs": [],
   "source": [
    "# < Important note > [ Please download input data from https://mega.nz/#F!CeYGDKyS!uqkmWJ4E2XSGJp_C2VO2gg]\n",
    "# IC50evaluation//Dataset//Scenario5_EYDC-9K_znorm_minmax\n",
    "\n",
    "dataset = np.load(workdir + \"//191204_EMDC9K_z_norm_z_norm_minmax.npz\") # input file\n",
    "ss0 = np.load(workdir + '//191204_EMDC9K_z_norm_z_norm_minmax_r0.npz') # split for training and test"
   ]
  },
  {
   "cell_type": "code",
   "execution_count": 3,
   "metadata": {},
   "outputs": [],
   "source": [
    "x = dataset['x']\n",
    "y = dataset['y']\n",
    "# y_linear = dataset['y_lnIC50']\n",
    "ss0_train = ss0['train']\n",
    "ss0_test = ss0['test']"
   ]
  },
  {
   "cell_type": "code",
   "execution_count": 4,
   "metadata": {},
   "outputs": [],
   "source": [
    "training_image_array, training_label_array = x[ss0_train], y[ss0_train]\n",
    "test_image_array, test_label_array = x[ss0_test], y[ss0_test]\n",
    "\n",
    "# # In[9]:\n",
    "# ori = training_image_array\n",
    "# bat = np.zeros((ori.shape[0],178))\n",
    "# cat = np.hstack([ori,bat])\n",
    "# training_image_array = cat\n",
    "\n",
    "# # In[8]:\n",
    "# training_image_array.shape\n",
    "\n",
    "# # In[10]:\n",
    "# ori2 = test_image_array\n",
    "# bat2 = np.zeros((ori2.shape[0],178))\n",
    "# cat2 = np.hstack([ori2,bat2])\n",
    "# test_image_array = cat2\n"
   ]
  },
  {
   "cell_type": "code",
   "execution_count": 5,
   "metadata": {},
   "outputs": [
    {
     "name": "stdout",
     "output_type": "stream",
     "text": [
      "0 37\n"
     ]
    }
   ],
   "source": [
    "# In[15]:\n",
    "ab =[]\n",
    "for i in range(100,200):\n",
    "    ab.append(len(training_image_array) % i)\n",
    "    \n",
    "print(min(ab), ab.index(min(ab)))"
   ]
  },
  {
   "cell_type": "code",
   "execution_count": 6,
   "metadata": {},
   "outputs": [
    {
     "data": {
      "text/plain": [
       "(9590, 41505)"
      ]
     },
     "execution_count": 6,
     "metadata": {},
     "output_type": "execute_result"
    }
   ],
   "source": [
    "x.shape"
   ]
  },
  {
   "cell_type": "code",
   "execution_count": 7,
   "metadata": {},
   "outputs": [
    {
     "data": {
      "text/plain": [
       "(8631, 41505)"
      ]
     },
     "execution_count": 7,
     "metadata": {},
     "output_type": "execute_result"
    }
   ],
   "source": [
    "training_image_array.shape"
   ]
  },
  {
   "cell_type": "code",
   "execution_count": 8,
   "metadata": {},
   "outputs": [],
   "source": [
    "train_X, train_y, test_X, test_y = training_image_array, training_label_array, test_image_array, test_label_array\n",
    "\n",
    "# if K.image_data_format() == 'channels_first':\n",
    "#     train_X = train_X.reshape(train_X.shape[0], 1, img_rows, img_cols)\n",
    "#     test_X = test_X.reshape(x_test.shape[0], 1, img_rows, img_cols)\n",
    "#     input_shape = (1, img_rows, img_cols)\n",
    "# else:\n",
    "#     train_X = train_X.reshape(train_X.shape[0], img_rows, img_cols, 1)\n",
    "#     test_X = test_X.reshape(test_X.shape[0], img_rows, img_cols, 1)\n",
    "#     input_shape = (img_rows, img_cols, 1)\n"
   ]
  },
  {
   "cell_type": "code",
   "execution_count": 9,
   "metadata": {},
   "outputs": [
    {
     "name": "stdout",
     "output_type": "stream",
     "text": [
      "(8631, 41505) (8631,) (959, 41505) (959,)\n"
     ]
    }
   ],
   "source": [
    "print(train_X.shape, train_y.shape, test_X.shape, test_y.shape)"
   ]
  },
  {
   "cell_type": "code",
   "execution_count": 10,
   "metadata": {},
   "outputs": [],
   "source": [
    "train_X = np.nan_to_num(train_X)\n",
    "test_X = np.nan_to_num(test_X)"
   ]
  },
  {
   "cell_type": "code",
   "execution_count": 11,
   "metadata": {},
   "outputs": [
    {
     "name": "stdout",
     "output_type": "stream",
     "text": [
      "train_X shape: (8631, 41505)\n",
      "8631 train samples\n",
      "959 test samples\n"
     ]
    }
   ],
   "source": [
    "train_X = train_X.astype('float32')\n",
    "test_X = test_X.astype('float32')\n",
    "# train_X /= 255\n",
    "# test_X /= 255\n",
    "print('train_X shape:', train_X.shape)\n",
    "print(train_X.shape[0], 'train samples')\n",
    "print(test_X.shape[0], 'test samples')"
   ]
  },
  {
   "cell_type": "code",
   "execution_count": 12,
   "metadata": {
    "scrolled": false
   },
   "outputs": [
    {
     "name": "stdout",
     "output_type": "stream",
     "text": [
      "StartTime : 2019-12-10 13:53:28.707643\n"
     ]
    },
    {
     "name": "stderr",
     "output_type": "stream",
     "text": [
      "C:\\Users\\ylab\\AppData\\Local\\conda\\conda\\envs\\tensorflow\\lib\\site-packages\\sklearn\\linear_model\\coordinate_descent.py:492: ConvergenceWarning: Objective did not converge. You might want to increase the number of iterations. Fitting data with very small alpha may cause precision problems.\n",
      "  ConvergenceWarning)\n"
     ]
    },
    {
     "name": "stdout",
     "output_type": "stream",
     "text": [
      "EndTime : 2019-12-10 13:54:55.913473\n"
     ]
    }
   ],
   "source": [
    "# https://towardsdatascience.com/how-to-perform-lasso-and-lasso-regression-in-python-3b3b75541ad8\n",
    "# https://brunch.co.kr/@itschloe1/11\n",
    "StartTime8 = datetime.now()\n",
    "print(\"StartTime :\", StartTime8)\n",
    "from sklearn.model_selection import GridSearchCV\n",
    "from sklearn.linear_model import Lasso\n",
    "\n",
    "lasso_regressor = Lasso(alpha=0.001)\n",
    "\n",
    "lasso_regressor.fit(train_X,train_y)\n",
    "\n",
    "EndTime8 = datetime.now()\n",
    "print(\"EndTime :\", EndTime8)"
   ]
  },
  {
   "cell_type": "code",
   "execution_count": 13,
   "metadata": {},
   "outputs": [],
   "source": [
    "import matplotlib\n",
    "from matplotlib import pyplot as plt"
   ]
  },
  {
   "cell_type": "code",
   "execution_count": 14,
   "metadata": {},
   "outputs": [],
   "source": [
    "predicted_classes = lasso_regressor.predict(test_X)"
   ]
  },
  {
   "cell_type": "code",
   "execution_count": 15,
   "metadata": {},
   "outputs": [],
   "source": [
    "predicted_value = predicted_classes"
   ]
  },
  {
   "cell_type": "code",
   "execution_count": 16,
   "metadata": {},
   "outputs": [],
   "source": [
    "a = pd.DataFrame(predicted_value)\n",
    "b = pd.DataFrame(test_label_array)\n",
    "c = pd.concat([a,b], axis=1)\n",
    "c.columns=[\"Predicted\",\"Test\"]\n",
    "workdir = \"D://ResIC50_finalized_data//191205_rerun//ResNet//Result//EYDC-9K//Lasso\"\n",
    "c.to_csv(workdir + '//191205_EYDC_9K_znorm_znorm_minmax_Lasso_result.csv')\n"
   ]
  },
  {
   "cell_type": "code",
   "execution_count": 17,
   "metadata": {},
   "outputs": [
    {
     "data": {
      "text/html": [
       "<div>\n",
       "<style>\n",
       "    .dataframe thead tr:only-child th {\n",
       "        text-align: right;\n",
       "    }\n",
       "\n",
       "    .dataframe thead th {\n",
       "        text-align: left;\n",
       "    }\n",
       "\n",
       "    .dataframe tbody tr th {\n",
       "        vertical-align: top;\n",
       "    }\n",
       "</style>\n",
       "<table border=\"1\" class=\"dataframe\">\n",
       "  <thead>\n",
       "    <tr style=\"text-align: right;\">\n",
       "      <th></th>\n",
       "      <th>Predicted</th>\n",
       "      <th>Test</th>\n",
       "    </tr>\n",
       "  </thead>\n",
       "  <tbody>\n",
       "    <tr>\n",
       "      <th>0</th>\n",
       "      <td>1.476399</td>\n",
       "      <td>2.079442</td>\n",
       "    </tr>\n",
       "    <tr>\n",
       "      <th>1</th>\n",
       "      <td>1.438011</td>\n",
       "      <td>2.079442</td>\n",
       "    </tr>\n",
       "    <tr>\n",
       "      <th>2</th>\n",
       "      <td>-0.504822</td>\n",
       "      <td>-1.595384</td>\n",
       "    </tr>\n",
       "    <tr>\n",
       "      <th>3</th>\n",
       "      <td>1.968500</td>\n",
       "      <td>2.079442</td>\n",
       "    </tr>\n",
       "    <tr>\n",
       "      <th>4</th>\n",
       "      <td>-1.220798</td>\n",
       "      <td>-3.566824</td>\n",
       "    </tr>\n",
       "    <tr>\n",
       "      <th>5</th>\n",
       "      <td>1.752885</td>\n",
       "      <td>2.079442</td>\n",
       "    </tr>\n",
       "    <tr>\n",
       "      <th>6</th>\n",
       "      <td>-1.284435</td>\n",
       "      <td>-0.294071</td>\n",
       "    </tr>\n",
       "    <tr>\n",
       "      <th>7</th>\n",
       "      <td>1.820684</td>\n",
       "      <td>2.079442</td>\n",
       "    </tr>\n",
       "    <tr>\n",
       "      <th>8</th>\n",
       "      <td>2.473268</td>\n",
       "      <td>2.039509</td>\n",
       "    </tr>\n",
       "    <tr>\n",
       "      <th>9</th>\n",
       "      <td>1.385144</td>\n",
       "      <td>-0.077654</td>\n",
       "    </tr>\n",
       "    <tr>\n",
       "      <th>10</th>\n",
       "      <td>1.028042</td>\n",
       "      <td>-1.390504</td>\n",
       "    </tr>\n",
       "    <tr>\n",
       "      <th>11</th>\n",
       "      <td>2.692816</td>\n",
       "      <td>2.079442</td>\n",
       "    </tr>\n",
       "    <tr>\n",
       "      <th>12</th>\n",
       "      <td>1.826683</td>\n",
       "      <td>2.035422</td>\n",
       "    </tr>\n",
       "    <tr>\n",
       "      <th>13</th>\n",
       "      <td>1.688497</td>\n",
       "      <td>2.079442</td>\n",
       "    </tr>\n",
       "    <tr>\n",
       "      <th>14</th>\n",
       "      <td>-2.480439</td>\n",
       "      <td>-1.436804</td>\n",
       "    </tr>\n",
       "    <tr>\n",
       "      <th>15</th>\n",
       "      <td>2.222932</td>\n",
       "      <td>2.079442</td>\n",
       "    </tr>\n",
       "    <tr>\n",
       "      <th>16</th>\n",
       "      <td>1.648436</td>\n",
       "      <td>1.019624</td>\n",
       "    </tr>\n",
       "    <tr>\n",
       "      <th>17</th>\n",
       "      <td>-3.997867</td>\n",
       "      <td>-4.561070</td>\n",
       "    </tr>\n",
       "    <tr>\n",
       "      <th>18</th>\n",
       "      <td>1.176119</td>\n",
       "      <td>-1.301971</td>\n",
       "    </tr>\n",
       "    <tr>\n",
       "      <th>19</th>\n",
       "      <td>1.735826</td>\n",
       "      <td>2.079442</td>\n",
       "    </tr>\n",
       "    <tr>\n",
       "      <th>20</th>\n",
       "      <td>2.140552</td>\n",
       "      <td>2.079442</td>\n",
       "    </tr>\n",
       "    <tr>\n",
       "      <th>21</th>\n",
       "      <td>1.601310</td>\n",
       "      <td>2.079442</td>\n",
       "    </tr>\n",
       "    <tr>\n",
       "      <th>22</th>\n",
       "      <td>-3.816257</td>\n",
       "      <td>-5.006347</td>\n",
       "    </tr>\n",
       "    <tr>\n",
       "      <th>23</th>\n",
       "      <td>1.721674</td>\n",
       "      <td>2.079442</td>\n",
       "    </tr>\n",
       "    <tr>\n",
       "      <th>24</th>\n",
       "      <td>2.441308</td>\n",
       "      <td>2.079442</td>\n",
       "    </tr>\n",
       "    <tr>\n",
       "      <th>25</th>\n",
       "      <td>2.116273</td>\n",
       "      <td>2.079442</td>\n",
       "    </tr>\n",
       "    <tr>\n",
       "      <th>26</th>\n",
       "      <td>-2.991629</td>\n",
       "      <td>-3.785315</td>\n",
       "    </tr>\n",
       "    <tr>\n",
       "      <th>27</th>\n",
       "      <td>1.032570</td>\n",
       "      <td>2.055531</td>\n",
       "    </tr>\n",
       "    <tr>\n",
       "      <th>28</th>\n",
       "      <td>0.941056</td>\n",
       "      <td>1.774149</td>\n",
       "    </tr>\n",
       "    <tr>\n",
       "      <th>29</th>\n",
       "      <td>-3.070923</td>\n",
       "      <td>-3.256286</td>\n",
       "    </tr>\n",
       "    <tr>\n",
       "      <th>...</th>\n",
       "      <td>...</td>\n",
       "      <td>...</td>\n",
       "    </tr>\n",
       "    <tr>\n",
       "      <th>929</th>\n",
       "      <td>0.898348</td>\n",
       "      <td>-0.334657</td>\n",
       "    </tr>\n",
       "    <tr>\n",
       "      <th>930</th>\n",
       "      <td>1.894833</td>\n",
       "      <td>2.079442</td>\n",
       "    </tr>\n",
       "    <tr>\n",
       "      <th>931</th>\n",
       "      <td>-2.757813</td>\n",
       "      <td>-4.362381</td>\n",
       "    </tr>\n",
       "    <tr>\n",
       "      <th>932</th>\n",
       "      <td>0.751023</td>\n",
       "      <td>1.013571</td>\n",
       "    </tr>\n",
       "    <tr>\n",
       "      <th>933</th>\n",
       "      <td>1.090799</td>\n",
       "      <td>2.079442</td>\n",
       "    </tr>\n",
       "    <tr>\n",
       "      <th>934</th>\n",
       "      <td>1.791568</td>\n",
       "      <td>2.079442</td>\n",
       "    </tr>\n",
       "    <tr>\n",
       "      <th>935</th>\n",
       "      <td>2.159876</td>\n",
       "      <td>2.079442</td>\n",
       "    </tr>\n",
       "    <tr>\n",
       "      <th>936</th>\n",
       "      <td>-3.866768</td>\n",
       "      <td>-3.618670</td>\n",
       "    </tr>\n",
       "    <tr>\n",
       "      <th>937</th>\n",
       "      <td>1.627983</td>\n",
       "      <td>2.079442</td>\n",
       "    </tr>\n",
       "    <tr>\n",
       "      <th>938</th>\n",
       "      <td>1.699467</td>\n",
       "      <td>2.079442</td>\n",
       "    </tr>\n",
       "    <tr>\n",
       "      <th>939</th>\n",
       "      <td>1.029958</td>\n",
       "      <td>2.079442</td>\n",
       "    </tr>\n",
       "    <tr>\n",
       "      <th>940</th>\n",
       "      <td>1.247941</td>\n",
       "      <td>2.079442</td>\n",
       "    </tr>\n",
       "    <tr>\n",
       "      <th>941</th>\n",
       "      <td>1.486456</td>\n",
       "      <td>1.479909</td>\n",
       "    </tr>\n",
       "    <tr>\n",
       "      <th>942</th>\n",
       "      <td>2.440723</td>\n",
       "      <td>2.079442</td>\n",
       "    </tr>\n",
       "    <tr>\n",
       "      <th>943</th>\n",
       "      <td>1.721238</td>\n",
       "      <td>2.079442</td>\n",
       "    </tr>\n",
       "    <tr>\n",
       "      <th>944</th>\n",
       "      <td>1.217008</td>\n",
       "      <td>0.470163</td>\n",
       "    </tr>\n",
       "    <tr>\n",
       "      <th>945</th>\n",
       "      <td>1.584774</td>\n",
       "      <td>2.079442</td>\n",
       "    </tr>\n",
       "    <tr>\n",
       "      <th>946</th>\n",
       "      <td>2.157234</td>\n",
       "      <td>2.079442</td>\n",
       "    </tr>\n",
       "    <tr>\n",
       "      <th>947</th>\n",
       "      <td>0.370078</td>\n",
       "      <td>-2.459193</td>\n",
       "    </tr>\n",
       "    <tr>\n",
       "      <th>948</th>\n",
       "      <td>2.558721</td>\n",
       "      <td>2.079442</td>\n",
       "    </tr>\n",
       "    <tr>\n",
       "      <th>949</th>\n",
       "      <td>2.108438</td>\n",
       "      <td>2.079442</td>\n",
       "    </tr>\n",
       "    <tr>\n",
       "      <th>950</th>\n",
       "      <td>2.204081</td>\n",
       "      <td>2.079442</td>\n",
       "    </tr>\n",
       "    <tr>\n",
       "      <th>951</th>\n",
       "      <td>1.443943</td>\n",
       "      <td>1.076232</td>\n",
       "    </tr>\n",
       "    <tr>\n",
       "      <th>952</th>\n",
       "      <td>1.924396</td>\n",
       "      <td>2.079442</td>\n",
       "    </tr>\n",
       "    <tr>\n",
       "      <th>953</th>\n",
       "      <td>0.267985</td>\n",
       "      <td>1.357675</td>\n",
       "    </tr>\n",
       "    <tr>\n",
       "      <th>954</th>\n",
       "      <td>0.739407</td>\n",
       "      <td>-1.024949</td>\n",
       "    </tr>\n",
       "    <tr>\n",
       "      <th>955</th>\n",
       "      <td>-3.439089</td>\n",
       "      <td>-2.884054</td>\n",
       "    </tr>\n",
       "    <tr>\n",
       "      <th>956</th>\n",
       "      <td>0.755262</td>\n",
       "      <td>-0.837603</td>\n",
       "    </tr>\n",
       "    <tr>\n",
       "      <th>957</th>\n",
       "      <td>-1.485388</td>\n",
       "      <td>-1.808728</td>\n",
       "    </tr>\n",
       "    <tr>\n",
       "      <th>958</th>\n",
       "      <td>0.753792</td>\n",
       "      <td>1.896654</td>\n",
       "    </tr>\n",
       "  </tbody>\n",
       "</table>\n",
       "<p>959 rows × 2 columns</p>\n",
       "</div>"
      ],
      "text/plain": [
       "     Predicted      Test\n",
       "0     1.476399  2.079442\n",
       "1     1.438011  2.079442\n",
       "2    -0.504822 -1.595384\n",
       "3     1.968500  2.079442\n",
       "4    -1.220798 -3.566824\n",
       "5     1.752885  2.079442\n",
       "6    -1.284435 -0.294071\n",
       "7     1.820684  2.079442\n",
       "8     2.473268  2.039509\n",
       "9     1.385144 -0.077654\n",
       "10    1.028042 -1.390504\n",
       "11    2.692816  2.079442\n",
       "12    1.826683  2.035422\n",
       "13    1.688497  2.079442\n",
       "14   -2.480439 -1.436804\n",
       "15    2.222932  2.079442\n",
       "16    1.648436  1.019624\n",
       "17   -3.997867 -4.561070\n",
       "18    1.176119 -1.301971\n",
       "19    1.735826  2.079442\n",
       "20    2.140552  2.079442\n",
       "21    1.601310  2.079442\n",
       "22   -3.816257 -5.006347\n",
       "23    1.721674  2.079442\n",
       "24    2.441308  2.079442\n",
       "25    2.116273  2.079442\n",
       "26   -2.991629 -3.785315\n",
       "27    1.032570  2.055531\n",
       "28    0.941056  1.774149\n",
       "29   -3.070923 -3.256286\n",
       "..         ...       ...\n",
       "929   0.898348 -0.334657\n",
       "930   1.894833  2.079442\n",
       "931  -2.757813 -4.362381\n",
       "932   0.751023  1.013571\n",
       "933   1.090799  2.079442\n",
       "934   1.791568  2.079442\n",
       "935   2.159876  2.079442\n",
       "936  -3.866768 -3.618670\n",
       "937   1.627983  2.079442\n",
       "938   1.699467  2.079442\n",
       "939   1.029958  2.079442\n",
       "940   1.247941  2.079442\n",
       "941   1.486456  1.479909\n",
       "942   2.440723  2.079442\n",
       "943   1.721238  2.079442\n",
       "944   1.217008  0.470163\n",
       "945   1.584774  2.079442\n",
       "946   2.157234  2.079442\n",
       "947   0.370078 -2.459193\n",
       "948   2.558721  2.079442\n",
       "949   2.108438  2.079442\n",
       "950   2.204081  2.079442\n",
       "951   1.443943  1.076232\n",
       "952   1.924396  2.079442\n",
       "953   0.267985  1.357675\n",
       "954   0.739407 -1.024949\n",
       "955  -3.439089 -2.884054\n",
       "956   0.755262 -0.837603\n",
       "957  -1.485388 -1.808728\n",
       "958   0.753792  1.896654\n",
       "\n",
       "[959 rows x 2 columns]"
      ]
     },
     "execution_count": 17,
     "metadata": {},
     "output_type": "execute_result"
    }
   ],
   "source": [
    "c"
   ]
  },
  {
   "cell_type": "code",
   "execution_count": 18,
   "metadata": {},
   "outputs": [
    {
     "data": {
      "text/plain": [
       "(959,)"
      ]
     },
     "execution_count": 18,
     "metadata": {},
     "output_type": "execute_result"
    }
   ],
   "source": [
    "predicted_value.shape"
   ]
  },
  {
   "cell_type": "code",
   "execution_count": 21,
   "metadata": {},
   "outputs": [
    {
     "data": {
      "text/plain": [
       "['D://ResIC50_finalized_data//191205_rerun//ResNet//Result//EYDC-9K//Lasso//191205_EYDC_9K_znorm_znorm_minmax_Lasso_model.pkl']"
      ]
     },
     "execution_count": 21,
     "metadata": {},
     "output_type": "execute_result"
    }
   ],
   "source": [
    "import pickle\n",
    "from sklearn.externals import joblib\n",
    "joblib.dump(lasso_regressor, workdir + '//191205_EYDC_9K_znorm_znorm_minmax_Lasso_model.pkl') \n"
   ]
  },
  {
   "cell_type": "code",
   "execution_count": 22,
   "metadata": {},
   "outputs": [
    {
     "data": {
      "text/plain": [
       "array([ 1.4763988 ,  1.4380107 , -0.50482225,  1.9684998 , -1.220798  ,\n",
       "        1.7528849 , -1.284435  ,  1.8206836 ,  2.4732676 ,  1.3851442 ,\n",
       "        1.0280423 ,  2.6928158 ,  1.8266833 ,  1.688497  , -2.480439  ,\n",
       "        2.2229323 ,  1.6484361 , -3.9978669 ,  1.176119  ,  1.735826  ,\n",
       "        2.1405516 ,  1.6013103 , -3.8162572 ,  1.721674  ,  2.441308  ,\n",
       "        2.1162734 , -2.991629  ,  1.0325704 ,  0.94105566, -3.070923  ,\n",
       "        2.4294171 ,  0.803463  ,  1.9956734 ,  0.58191425,  2.1285024 ,\n",
       "       -2.972346  ,  1.6965933 ,  1.6243644 ,  2.0410805 ,  1.2863185 ,\n",
       "        2.070211  , -1.4055343 , -2.209683  ,  1.9741913 ,  1.0330861 ,\n",
       "       -4.029558  ,  1.0180292 ,  2.2283287 ,  0.8840655 ,  2.2173824 ,\n",
       "        0.16030318,  1.8667529 ,  1.2476242 ,  2.7618039 ,  0.53717405,\n",
       "        1.3816257 ,  1.9333951 ,  0.86066926,  2.046113  ,  2.5084546 ,\n",
       "        2.712787  ,  1.9412951 ,  2.188288  ,  1.8296719 , -2.3655138 ,\n",
       "        2.1057508 ,  0.89765406,  1.9636008 ,  0.81646895,  1.7269567 ,\n",
       "        2.47754   , -1.9154961 ,  2.3293972 ,  1.4951081 ,  1.6270218 ,\n",
       "        2.0287652 ,  1.5539968 ,  2.2446842 ,  1.6330028 ,  1.4629626 ,\n",
       "       -3.8596761 ,  2.595591  ,  0.4048013 ,  2.324944  ,  2.1674378 ,\n",
       "        2.1562605 ,  1.450983  ,  2.3313434 ,  1.8126508 ,  2.1381688 ,\n",
       "        1.1561581 ,  2.1449566 ,  2.0823817 , -1.2982347 , -0.20254242,\n",
       "        2.313219  ,  2.223977  ,  1.6330945 ,  1.8541548 ,  1.9025619 ,\n",
       "        1.0377095 ,  2.429615  ,  1.5416104 ,  2.0967424 ,  1.8283391 ,\n",
       "        1.0717154 ,  1.7084473 ,  1.7239056 , -1.2485998 , -0.83177674,\n",
       "        2.461279  ,  1.456085  ,  0.03191715,  1.2624801 ,  1.3507466 ,\n",
       "       -4.289467  ,  1.8712889 ,  1.6073059 ,  1.4404689 ,  1.9820784 ,\n",
       "        1.8932623 ,  1.0305105 ,  1.1721829 ,  1.3903763 ,  1.9696457 ,\n",
       "        1.3545617 ,  1.992274  ,  1.4349685 ,  1.6276661 , -1.7901418 ,\n",
       "       -4.188999  ,  2.2936049 , -2.5503125 , -0.7329079 ,  1.0376492 ,\n",
       "        2.291729  ,  1.8120136 ,  0.99451244,  2.2427807 ,  1.8375964 ,\n",
       "        1.828974  ,  2.2389889 ,  2.491241  , -2.0702364 , -1.6254933 ,\n",
       "        1.5019493 ,  1.5271747 ,  2.0820465 , -1.7186136 ,  1.3440726 ,\n",
       "        2.1324735 ,  0.6987979 ,  1.4155005 ,  0.93710005,  2.9107623 ,\n",
       "        2.1097465 ,  1.7188213 ,  2.307311  , -1.860523  ,  1.0168341 ,\n",
       "        1.6068441 ,  2.0357628 ,  1.5514592 ,  1.8113625 , -1.8986855 ,\n",
       "       -1.3162222 ,  1.3359704 ,  2.229825  ,  0.36526793,  1.6834227 ,\n",
       "        1.1347717 , -2.8868186 ,  2.365727  ,  1.672358  ,  2.5973797 ,\n",
       "       -1.4485116 ,  2.353234  ,  1.9456328 ,  1.3694429 ,  1.7534044 ,\n",
       "        0.8089884 ,  2.1173599 ,  2.8647034 ,  1.334734  ,  1.56673   ,\n",
       "        1.0715773 ,  1.2739275 ,  0.96420753,  1.788932  , -2.1356993 ,\n",
       "        2.0690956 ,  1.8068372 ,  1.5855517 ,  1.8517501 ,  0.8581575 ,\n",
       "        2.248173  ,  2.1621087 ,  1.4536197 ,  0.88239205,  2.6590695 ,\n",
       "        1.1511142 , -1.7829006 ,  2.10106   ,  1.7775629 ,  2.2259564 ,\n",
       "        2.0635085 ,  0.6597399 , -1.4929805 ,  0.7674423 ,  1.5186648 ,\n",
       "        1.6798896 ,  1.6960392 ,  2.07555   ,  2.1350582 ,  1.4698946 ,\n",
       "       -1.6257231 ,  1.3813341 , -2.3864167 ,  2.2985148 ,  0.9528229 ,\n",
       "        2.0838494 ,  1.133333  ,  1.0583106 ,  1.8828402 ,  1.805018  ,\n",
       "        2.0100892 ,  1.3606762 , -2.3956544 ,  2.041104  ,  1.0582565 ,\n",
       "        2.0370097 ,  1.0614283 ,  0.12940133,  1.3500179 ,  2.2285519 ,\n",
       "        1.2839013 ,  0.11323053,  1.577967  ,  1.8608663 ,  1.9774561 ,\n",
       "        2.0750713 , -1.2214448 ,  2.385642  ,  2.5700984 ,  2.2296853 ,\n",
       "        1.7561684 , -2.2989533 , -1.6903872 ,  0.67741525,  2.257301  ,\n",
       "        1.4712583 , -1.0042086 ,  2.69556   ,  2.381668  ,  2.1844192 ,\n",
       "        2.2006245 , -1.6127546 ,  0.81435853, -3.7800376 ,  1.6616578 ,\n",
       "        2.1942708 ,  1.202463  ,  1.2618136 ,  1.0814439 , -1.5494092 ,\n",
       "        2.2655518 ,  1.8515024 ,  2.2148633 ,  2.249599  ,  0.21591026,\n",
       "        2.8156865 ,  1.7074924 , -3.7213151 ,  1.5854062 ,  1.5556331 ,\n",
       "        1.8717718 ,  0.75052226,  1.2408688 ,  1.468986  ,  0.24969602,\n",
       "        1.8744631 , -4.5598326 , -0.40099812,  0.14179802,  1.9041873 ,\n",
       "        2.4449816 ,  1.7402683 , -1.0925653 ,  1.1987638 ,  2.3972797 ,\n",
       "       -4.0656176 ,  1.7772    ,  1.2683299 , -2.3693774 ,  0.7869582 ,\n",
       "        0.86941475,  1.2772647 ,  0.86552465,  1.4039257 ,  1.8860555 ,\n",
       "       -0.602085  ,  1.269756  ,  2.2762756 ,  2.0192113 ,  2.1858563 ,\n",
       "       -1.2380509 ,  1.2018492 , -0.18465984,  1.7977391 ,  1.59782   ,\n",
       "        1.8528874 ,  1.5816956 ,  0.7410836 , -1.8094249 ,  1.952746  ,\n",
       "       -1.4549203 ,  0.37764996, -1.5817189 ,  1.2500298 ,  2.3190885 ,\n",
       "        2.5253458 ,  1.7628781 ,  2.5269976 ,  2.3945403 ,  0.8896298 ,\n",
       "        2.16402   ,  2.2775354 ,  0.03002137,  1.6969957 ,  1.7382174 ,\n",
       "        1.7651906 ,  0.43449485,  2.21777   ,  1.7583164 , -0.7376491 ,\n",
       "        1.9941071 ,  0.8517395 ,  1.2892269 ,  1.7913218 ,  0.551955  ,\n",
       "        1.7977577 , -1.7218609 ,  1.4514415 ,  2.3423512 ,  1.630497  ,\n",
       "        1.0996225 ,  0.49183977,  1.3596946 ,  2.0285492 ,  2.121585  ,\n",
       "        2.2993646 ,  1.0892276 ,  1.0863602 ,  1.9405057 ,  2.0844307 ,\n",
       "        0.9222864 ,  0.7751422 ,  1.6839832 ,  2.3631744 ,  1.8163426 ,\n",
       "       -3.318497  ,  0.53255814,  2.174561  ,  2.2671466 , -1.261502  ,\n",
       "        0.21158469,  1.9122589 ,  1.3302345 ,  1.7347336 ,  2.1195004 ,\n",
       "        2.0832334 ,  1.202424  ,  2.1056836 ,  1.5716586 ,  2.369597  ,\n",
       "        2.0443993 , -1.420912  , -2.7918437 ,  2.270879  , -1.4878187 ,\n",
       "        1.1612666 ,  1.0440694 ,  1.2614913 ,  1.3008399 ,  2.015487  ,\n",
       "        1.0140185 ,  2.3668003 , -0.23337817,  2.5151954 ,  1.5767591 ,\n",
       "        1.772201  , -3.6189659 ,  1.4264402 ,  2.4178867 ,  2.2341208 ,\n",
       "        1.2650931 ,  1.5965028 , -4.0021114 , -0.44606924,  1.2328365 ,\n",
       "       -1.3356266 ,  2.1397195 ,  2.2368236 ,  2.1336842 ,  1.190764  ,\n",
       "        2.2023504 ,  0.03577083,  0.68483275, -3.9689434 ,  1.4223027 ,\n",
       "        1.7415376 ,  1.7976693 ,  1.1709836 , -1.3805578 ,  0.77935386,\n",
       "        0.46595716, -2.8140404 ,  1.9823546 ,  1.7140255 ,  1.1342722 ,\n",
       "       -1.1665249 ,  1.9081486 ,  0.8600949 ,  2.4117086 ,  0.80879533,\n",
       "        2.2245212 ,  1.042038  ,  1.4905678 , -1.6944523 ,  2.1910424 ,\n",
       "        2.1386664 , -1.4987395 , -0.36365366,  0.9274898 , -1.1111453 ,\n",
       "       -4.505892  ,  2.483713  ,  2.274682  ,  1.8709235 ,  2.2360332 ,\n",
       "       -1.2083983 , -2.135513  ,  0.9265505 ,  1.870882  ,  0.44836605,\n",
       "        1.3090436 ,  1.5224574 , -4.3844786 ,  1.9994189 ,  1.5904641 ,\n",
       "        2.0058558 ,  1.6628006 ,  1.2400546 ,  0.9742525 ,  1.9960927 ,\n",
       "        1.9782732 ,  0.74517167, -0.50272965,  1.598658  ,  1.209646  ,\n",
       "       -1.8759854 ,  2.160728  ,  2.165244  ,  2.4098525 ,  1.0255301 ,\n",
       "        1.8361559 ,  2.286189  , -2.422684  ,  2.3703213 ,  1.2954774 ,\n",
       "       -4.5026236 ,  2.2063751 ,  1.9054651 ,  2.1809998 ,  2.0558658 ,\n",
       "       -4.313426  ,  1.5088042 ,  2.217194  ,  2.1690812 ,  2.709552  ,\n",
       "        1.7058542 , -1.6842029 ,  2.1687307 ,  2.056891  ,  1.6450386 ,\n",
       "        2.2995682 ,  1.8613493 , -1.6096392 ,  1.5297449 , -2.0270197 ,\n",
       "        2.240839  ,  0.72793627,  0.3236184 , -3.6769302 ,  0.32088625,\n",
       "        1.7214752 ,  1.5405374 , -4.443412  ,  2.161178  ,  1.6042964 ,\n",
       "        0.7875141 ,  1.9602057 , -1.943919  ,  1.8783695 ,  0.96163607,\n",
       "        1.5396914 ,  0.64632165,  1.013876  ,  2.1884694 , -1.5377791 ,\n",
       "        2.5600166 , -3.9790952 , -1.3853528 ,  0.02198726,  0.6216959 ,\n",
       "        1.8934815 ,  1.7208037 ,  1.4577284 ,  1.4795796 , -1.2599175 ,\n",
       "        1.8865994 , -3.5880954 ,  2.0283704 ,  1.8837523 , -0.5974511 ,\n",
       "       -3.8195846 ,  1.8100464 ,  1.6449883 , -0.44054532,  1.0619422 ,\n",
       "        1.9239831 , -3.8538454 ,  0.935046  , -3.503061  ,  1.1726984 ,\n",
       "        1.1297383 , -1.6250644 ,  1.2668071 , -1.6338041 ,  1.821844  ,\n",
       "        1.9817601 ,  1.3171353 ,  1.1385121 ,  1.326512  ,  2.104255  ,\n",
       "        1.4133334 ,  1.6304194 ,  2.0507517 ,  1.9311302 ,  1.9444206 ,\n",
       "       -3.2980416 , -4.0975266 ,  2.0267067 ,  2.0640533 ,  1.7648752 ,\n",
       "        2.3146389 ,  2.150219  ,  2.1367683 , -1.0518683 , -1.9479749 ,\n",
       "        0.4392118 ,  1.4880292 ,  0.6795784 ,  2.6114717 , -0.31688666,\n",
       "        1.6052277 ,  2.182703  , -2.136293  ,  1.5933022 ,  1.1620276 ,\n",
       "       -0.7210103 ,  0.26641476,  2.610083  ,  1.4577    ,  2.0457387 ,\n",
       "       -3.95209   ,  1.555879  ,  2.4669144 , -3.5553691 ,  2.3866904 ,\n",
       "        1.0492487 ,  2.28227   ,  1.729404  , -2.5689356 ,  1.4942747 ,\n",
       "        1.2468883 ,  1.2668213 ,  2.55341   , -0.7865274 ,  1.9370737 ,\n",
       "       -3.1665633 ,  1.8188555 ,  0.380216  ,  1.4964218 ,  1.075776  ,\n",
       "       -2.9978602 ,  1.3818463 ,  1.7357373 ,  2.1470494 , -1.0380381 ,\n",
       "       -4.424034  ,  2.0609162 ,  1.9746509 , -4.0327263 , -2.406314  ,\n",
       "        1.042852  ,  2.19901   ,  2.5464492 ,  0.9275899 ,  2.1389484 ,\n",
       "        0.65981126,  1.9961643 ,  2.2358403 ,  2.3097553 , -0.20250344,\n",
       "       -1.5816529 ,  1.7834996 ,  2.1150098 ,  2.5471659 ,  0.9402231 ,\n",
       "       -2.5951803 , -3.2750232 , -1.3712745 ,  0.7844566 ,  0.8601688 ,\n",
       "        1.490175  , -0.55273986,  1.3852948 ,  2.214107  ,  1.2119615 ,\n",
       "        2.0316572 , -2.356193  ,  1.0320373 ,  1.663537  ,  1.8620425 ,\n",
       "        1.9646696 , -0.40160608, -4.417078  , -2.5476954 , -0.6503601 ,\n",
       "        1.9170296 ,  1.3774147 ,  2.0225468 ,  1.7643652 ,  1.819956  ,\n",
       "       -1.1819952 ,  0.75768375, -4.1536016 ,  0.61707354,  1.0869004 ,\n",
       "        1.6047846 , -1.4489326 ,  2.1381269 ,  1.6600153 ,  1.873765  ,\n",
       "        1.7427095 ,  0.65590817,  1.0693706 ,  0.19801885,  2.0845265 ,\n",
       "        0.18138003,  2.1334057 , -1.031195  ,  1.5143914 ,  2.2437825 ,\n",
       "        2.3844228 ,  0.9204328 ,  2.1068692 ,  1.5778383 ,  2.4718604 ,\n",
       "        2.0074747 , -3.2944238 ,  2.3901815 ,  0.60782874, -1.6492741 ,\n",
       "        2.0930037 ,  1.9572172 ,  2.1536179 ,  0.9987998 ,  2.3611658 ,\n",
       "        1.7991989 ,  2.3931565 , -0.75346243, -2.6543615 , -3.650936  ,\n",
       "       -1.3726766 , -1.7438772 ,  1.428782  ,  1.5366852 ,  0.591061  ,\n",
       "       -1.0517678 ,  0.32207012,  1.2786847 ,  2.1008627 , -3.1341555 ,\n",
       "        0.7493262 , -3.8838613 ,  2.4428158 , -1.4986649 ,  2.7066898 ,\n",
       "        0.93555266,  0.54486364,  1.7087419 ,  1.9046183 ,  2.5181203 ,\n",
       "        2.1669168 ,  1.4379257 ,  2.5764384 ,  2.4391804 ,  1.7626343 ,\n",
       "        2.1754708 ,  0.95722485,  1.04762   ,  1.5513539 ,  1.6236315 ,\n",
       "        1.4538695 , -2.0404036 , -2.1898825 ,  1.2590013 ,  2.1381044 ,\n",
       "        2.2105613 ,  1.2409258 ,  1.7474    ,  1.6990417 ,  2.6294825 ,\n",
       "        1.1747048 ,  1.4950435 ,  1.5141807 ,  1.3606763 ,  2.1052985 ,\n",
       "        0.9900593 ,  2.10045   , -3.9314706 ,  1.1173173 ,  1.8484716 ,\n",
       "        1.9178909 ,  0.9165369 ,  0.88245034,  2.278115  ,  2.0607677 ,\n",
       "        2.1201067 ,  1.8439555 ,  1.5627842 , -1.5253038 ,  1.0088922 ,\n",
       "        1.6882017 ,  1.8309544 , -0.14312458,  1.2122467 ,  2.102059  ,\n",
       "        2.1320066 ,  1.0150576 ,  0.43457744,  1.4529674 ,  0.8732803 ,\n",
       "       -1.1015775 ,  1.4343827 ,  1.3976095 ,  1.6730337 ,  1.0159805 ,\n",
       "        2.349102  ,  1.5260547 ,  0.6259414 ,  1.5529113 , -2.5675576 ,\n",
       "        1.6617355 , -3.5215008 ,  1.6254804 , -2.7863934 ,  2.397691  ,\n",
       "        1.3626729 ,  1.8837113 , -0.8470957 ,  2.0204182 ,  1.9778541 ,\n",
       "       -1.9400303 ,  1.4674923 ,  1.9152653 ,  1.1158533 , -1.224916  ,\n",
       "        2.0800533 ,  1.7562088 ,  0.95279086,  2.6313233 ,  0.81942165,\n",
       "        0.9743735 ,  1.6145668 , -3.3268669 ,  1.9776793 ,  0.9720316 ,\n",
       "        2.148181  , -1.9822984 ,  1.2385539 ,  1.0166159 ,  2.5073175 ,\n",
       "        1.8527548 , -1.6193361 ,  1.9088422 ,  1.3070071 ,  1.6280594 ,\n",
       "        1.9631754 , -2.4941003 , -0.3969307 , -0.9353421 ,  2.0007968 ,\n",
       "       -0.5069022 ,  1.6663237 ,  1.5337669 ,  0.95054984,  1.7263954 ,\n",
       "        1.6465683 , -1.7877517 , -1.0492697 ,  2.1870189 ,  0.6818548 ,\n",
       "       -0.38946056,  1.7148972 ,  0.7999482 ,  1.5799694 ,  0.48645586,\n",
       "        1.7048701 ,  2.285984  ,  1.8012087 ,  1.0169446 , -3.451698  ,\n",
       "        1.4604222 ,  2.0216074 ,  2.3243809 , -1.8473456 ,  2.203341  ,\n",
       "        2.2575302 ,  0.6685666 , -2.4218118 ,  1.3984632 ,  0.07736689,\n",
       "        1.5080707 ,  2.4294536 , -3.9316413 ,  0.9469265 ,  0.26839513,\n",
       "        1.9825933 ,  1.6931586 ,  1.8038285 , -4.178355  , -1.4451938 ,\n",
       "        1.8963166 ,  1.607799  , -1.9907348 ,  1.5275153 ,  1.2386222 ,\n",
       "       -0.73814225, -1.3605521 ,  2.3526802 ,  2.51088   ,  1.7986034 ,\n",
       "        2.186094  ,  2.148624  ,  1.3773949 ,  2.1409302 , -0.09636891,\n",
       "        2.159881  ,  1.2351199 ,  1.0676488 ,  2.0290558 ,  2.0012987 ,\n",
       "        2.2599072 ,  1.472477  , -2.582258  ,  1.9224441 ,  1.9101055 ,\n",
       "        1.807575  ,  2.326221  ,  1.5384922 ,  1.9576323 ,  1.9983509 ,\n",
       "        0.97492445,  2.0987344 ,  0.50915134,  1.2599676 ,  0.71832764,\n",
       "        1.9560142 ,  1.764704  ,  2.4079251 ,  2.1086655 ,  1.1082444 ,\n",
       "       -0.12883186,  1.5747174 ,  1.5198505 ,  1.7219354 ,  1.2884272 ,\n",
       "        2.0077257 , -1.4920642 ,  2.1092508 ,  1.474751  ,  1.3008397 ,\n",
       "       -1.8178673 ,  1.6047232 , -1.527333  ,  1.6883888 , -0.52701974,\n",
       "        0.37887627,  1.6475296 ,  1.7976922 ,  0.88588893,  2.2032983 ,\n",
       "       -1.2271008 ,  0.9770757 , -1.9446075 ,  1.5167813 ,  2.1322074 ,\n",
       "        2.3623605 ,  2.7608943 ,  2.7141447 ,  1.987571  ,  1.1154075 ,\n",
       "        0.8308737 ,  0.4139501 ,  1.2856946 ,  0.31347287,  1.5278714 ,\n",
       "        1.814873  ,  2.076928  , -0.92016804,  1.9224043 , -4.535634  ,\n",
       "        1.8354986 ,  1.9666649 ,  1.3427637 ,  1.561682  ,  0.8983481 ,\n",
       "        1.8948332 , -2.7578127 ,  0.75102264,  1.0907986 ,  1.7915683 ,\n",
       "        2.159876  , -3.8667676 ,  1.6279833 ,  1.6994671 ,  1.029958  ,\n",
       "        1.2479405 ,  1.4864559 ,  2.440723  ,  1.7212384 ,  1.2170076 ,\n",
       "        1.584774  ,  2.157234  ,  0.37007773,  2.5587206 ,  2.1084375 ,\n",
       "        2.204081  ,  1.4439431 ,  1.9243956 ,  0.26798546,  0.7394073 ,\n",
       "       -3.439089  ,  0.75526243, -1.4853883 ,  0.7537918 ], dtype=float32)"
      ]
     },
     "execution_count": 22,
     "metadata": {},
     "output_type": "execute_result"
    }
   ],
   "source": [
    "clf_from_joblib = joblib.load(workdir + '//191205_EYDC_9K_znorm_znorm_minmax_Lasso_model.pkl') \n",
    "clf_from_joblib.predict(test_X)"
   ]
  },
  {
   "cell_type": "code",
   "execution_count": 23,
   "metadata": {},
   "outputs": [
    {
     "name": "stdout",
     "output_type": "stream",
     "text": [
      "0.7048768257002369\n"
     ]
    }
   ],
   "source": [
    "from sklearn.metrics import r2_score\n",
    "r2_value = r2_score(b,a)\n",
    "print(r2_value)"
   ]
  },
  {
   "cell_type": "code",
   "execution_count": 24,
   "metadata": {},
   "outputs": [
    {
     "data": {
      "image/png": "[encoded data removed]",
      "text/plain": [
       "<Figure size 432x288 with 1 Axes>"
      ]
     },
     "metadata": {
      "needs_background": "light"
     },
     "output_type": "display_data"
    }
   ],
   "source": [
    "plt.scatter(test_label_array,predicted_value,c='red')\n",
    "plt.xlabel('test_IC50_value')\n",
    "plt.ylabel('predicted_IC50_value')\n",
    "plt.savefig(workdir + '//191205_EYDC_9K_znorm_znorm_minmax_Lasso_scatter_plot.png')"
   ]
  },
  {
   "cell_type": "code",
   "execution_count": 25,
   "metadata": {},
   "outputs": [
    {
     "name": "stdout",
     "output_type": "stream",
     "text": [
      "Final rmse value is = 1.0696648946446943\n"
     ]
    }
   ],
   "source": [
    "rse = ((b[0]-a[0])**2).sum()\n",
    "mse = rse / len(b)\n",
    "print(\"Final rmse value is =\",np.sqrt(mse))"
   ]
  },
  {
   "cell_type": "code",
   "execution_count": null,
   "metadata": {},
   "outputs": [],
   "source": [
    "# R-squared value\n",
    "\n",
    "from sklearn.metrics import r2_score\n",
    "r2_value = r2_score(b, a) \n",
    "print(r2_value)"
   ]
  }
 ],
 "metadata": {
  "kernelspec": {
   "display_name": "Python 3",
   "language": "python",
   "name": "python3"
  },
  "language_info": {
   "codemirror_mode": {
    "name": "ipython",
    "version": 3
   },
   "file_extension": ".py",
   "mimetype": "text/x-python",
   "name": "python",
   "nbconvert_exporter": "python",
   "pygments_lexer": "ipython3",
   "version": "3.6.9"
  }
 },
 "nbformat": 4,
 "nbformat_minor": 2
}
