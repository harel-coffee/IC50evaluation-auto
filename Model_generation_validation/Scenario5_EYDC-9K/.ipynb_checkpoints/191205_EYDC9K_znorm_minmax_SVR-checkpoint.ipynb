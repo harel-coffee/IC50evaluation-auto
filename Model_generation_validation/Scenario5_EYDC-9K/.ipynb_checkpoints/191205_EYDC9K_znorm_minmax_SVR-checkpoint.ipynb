{
 "cells": [
  {
   "cell_type": "code",
   "execution_count": 2,
   "metadata": {},
   "outputs": [],
   "source": [
    "import os\n",
    "import pandas as pd\n",
    "import numpy as np\n",
    "import random\n",
    "from pandas import DataFrame\n",
    "from datetime import datetime\n",
    "\n",
    "#from tensorflow.keras.optimizers import Adam\n",
    "\n",
    "\n",
    "workdir = \"path\"\n"
   ]
  },
  {
   "cell_type": "code",
   "execution_count": 3,
   "metadata": {},
   "outputs": [],
   "source": [
    "# < Important note > [ Please download input data from https://mega.nz/#F!CeYGDKyS!uqkmWJ4E2XSGJp_C2VO2gg]\n",
    "# IC50evaluation//Dataset//Scenario5_EYDC-9K_znorm_minmax\n",
    "\n",
    "dataset = np.load(workdir + \"//191204_EMDC9K_z_norm_z_norm_minmax.npz\") # input file\n",
    "ss0 = np.load(workdir + '//191204_EMDC9K_z_norm_z_norm_minmax_r0.npz') # split for training and test"
   ]
  },
  {
   "cell_type": "code",
   "execution_count": 4,
   "metadata": {},
   "outputs": [],
   "source": [
    "x = dataset['x']\n",
    "y = dataset['y']\n",
    "# y_linear = dataset['y_lnIC50']\n",
    "ss0_train = ss0['train']\n",
    "ss0_test = ss0['test']"
   ]
  },
  {
   "cell_type": "code",
   "execution_count": 5,
   "metadata": {},
   "outputs": [],
   "source": [
    "training_image_array, training_label_array = x[ss0_train], y[ss0_train]\n",
    "test_image_array, test_label_array = x[ss0_test], y[ss0_test]\n",
    "\n",
    "# # In[9]:\n",
    "# ori = training_image_array\n",
    "# bat = np.zeros((ori.shape[0],178))\n",
    "# cat = np.hstack([ori,bat])\n",
    "# training_image_array = cat\n",
    "\n",
    "# # In[8]:\n",
    "# training_image_array.shape\n",
    "\n",
    "# # In[10]:\n",
    "# ori2 = test_image_array\n",
    "# bat2 = np.zeros((ori2.shape[0],178))\n",
    "# cat2 = np.hstack([ori2,bat2])\n",
    "# test_image_array = cat2\n"
   ]
  },
  {
   "cell_type": "code",
   "execution_count": 6,
   "metadata": {},
   "outputs": [
    {
     "name": "stdout",
     "output_type": "stream",
     "text": [
      "0 13\n"
     ]
    }
   ],
   "source": [
    "# In[15]:\n",
    "ab =[]\n",
    "for i in range(50,100):\n",
    "    ab.append(len(training_image_array) % i)\n",
    "    \n",
    "print(min(ab), ab.index(min(ab)))"
   ]
  },
  {
   "cell_type": "code",
   "execution_count": 7,
   "metadata": {},
   "outputs": [
    {
     "data": {
      "text/plain": [
       "(9590, 41505)"
      ]
     },
     "execution_count": 7,
     "metadata": {},
     "output_type": "execute_result"
    }
   ],
   "source": [
    "x.shape"
   ]
  },
  {
   "cell_type": "code",
   "execution_count": 8,
   "metadata": {},
   "outputs": [
    {
     "data": {
      "text/plain": [
       "(8631, 41505)"
      ]
     },
     "execution_count": 8,
     "metadata": {},
     "output_type": "execute_result"
    }
   ],
   "source": [
    "training_image_array.shape"
   ]
  },
  {
   "cell_type": "code",
   "execution_count": 9,
   "metadata": {},
   "outputs": [],
   "source": [
    "train_X, train_y, test_X, test_y = training_image_array, training_label_array, test_image_array, test_label_array\n",
    "\n",
    "# if K.image_data_format() == 'channels_first':\n",
    "#     train_X = train_X.reshape(train_X.shape[0], 1, img_rows, img_cols)\n",
    "#     test_X = test_X.reshape(x_test.shape[0], 1, img_rows, img_cols)\n",
    "#     input_shape = (1, img_rows, img_cols)\n",
    "# else:\n",
    "#     train_X = train_X.reshape(train_X.shape[0], img_rows, img_cols, 1)\n",
    "#     test_X = test_X.reshape(test_X.shape[0], img_rows, img_cols, 1)\n",
    "#     input_shape = (img_rows, img_cols, 1)\n"
   ]
  },
  {
   "cell_type": "code",
   "execution_count": 10,
   "metadata": {},
   "outputs": [],
   "source": [
    "# train_X = train_X.reshape(train_X.shape[0], train_X.shape[1], 1)\n",
    "# test_X = test_X.reshape(test_X.shape[0], test_X.shape[1], 1)\n",
    "# #input_shape = (img_rows, img_cols, 1)"
   ]
  },
  {
   "cell_type": "code",
   "execution_count": 11,
   "metadata": {},
   "outputs": [
    {
     "name": "stdout",
     "output_type": "stream",
     "text": [
      "(8631, 41505) (8631,) (959, 41505) (959,)\n"
     ]
    }
   ],
   "source": [
    "print(train_X.shape, train_y.shape, test_X.shape, test_y.shape)"
   ]
  },
  {
   "cell_type": "code",
   "execution_count": 12,
   "metadata": {},
   "outputs": [],
   "source": [
    "train_X = np.nan_to_num(train_X)\n",
    "test_X = np.nan_to_num(test_X)"
   ]
  },
  {
   "cell_type": "code",
   "execution_count": 13,
   "metadata": {},
   "outputs": [],
   "source": [
    "inds = np.where(np.isnan(test_X))"
   ]
  },
  {
   "cell_type": "code",
   "execution_count": 14,
   "metadata": {},
   "outputs": [
    {
     "data": {
      "text/plain": [
       "(array([], dtype=int64), array([], dtype=int64))"
      ]
     },
     "execution_count": 14,
     "metadata": {},
     "output_type": "execute_result"
    }
   ],
   "source": [
    "inds"
   ]
  },
  {
   "cell_type": "code",
   "execution_count": 15,
   "metadata": {},
   "outputs": [
    {
     "name": "stdout",
     "output_type": "stream",
     "text": [
      "train_X shape: (8631, 41505)\n",
      "8631 train samples\n",
      "959 test samples\n"
     ]
    }
   ],
   "source": [
    "train_X = train_X.astype('float32')\n",
    "test_X = test_X.astype('float32')\n",
    "# train_X /= 255\n",
    "# test_X /= 255\n",
    "print('train_X shape:', train_X.shape)\n",
    "print(train_X.shape[0], 'train samples')\n",
    "print(test_X.shape[0], 'test samples')"
   ]
  },
  {
   "cell_type": "code",
   "execution_count": 16,
   "metadata": {},
   "outputs": [
    {
     "name": "stdout",
     "output_type": "stream",
     "text": [
      "StartTime : 2019-12-10 14:35:21.049518\n"
     ]
    },
    {
     "name": "stderr",
     "output_type": "stream",
     "text": [
      "C:\\Users\\ylab\\AppData\\Local\\conda\\conda\\envs\\tensorflow\\lib\\site-packages\\sklearn\\svm\\base.py:196: FutureWarning: The default value of gamma will change from 'auto' to 'scale' in version 0.22 to account better for unscaled features. Set gamma explicitly to 'auto' or 'scale' to avoid this warning.\n",
      "  \"avoid this warning.\", FutureWarning)\n"
     ]
    },
    {
     "name": "stdout",
     "output_type": "stream",
     "text": [
      "EndTime : 2019-12-10 15:28:49.892597\n"
     ]
    }
   ],
   "source": [
    "import numpy as np\n",
    "from sklearn.svm import SVR\n",
    "import matplotlib.pyplot as plt\n",
    "StartTime8 = datetime.now()\n",
    "print(\"StartTime :\", StartTime8)\n",
    "# #############################################################################\n",
    "# Fit regression model\n",
    "svr_lin = SVR(C=0.01)\n",
    "y_lin = svr_lin.fit(train_X, train_y).predict(test_X)\n",
    "EndTime8 = datetime.now()\n",
    "print(\"EndTime :\", EndTime8)"
   ]
  },
  {
   "cell_type": "code",
   "execution_count": 17,
   "metadata": {},
   "outputs": [],
   "source": [
    "import matplotlib\n",
    "from matplotlib import pyplot as plt"
   ]
  },
  {
   "cell_type": "code",
   "execution_count": 18,
   "metadata": {},
   "outputs": [],
   "source": [
    "a = pd.DataFrame(y_lin)\n",
    "b = pd.DataFrame(test_label_array)\n",
    "c = pd.concat([a,b], axis=1)\n",
    "c.columns=[\"Predicted\",\"Test\"]"
   ]
  },
  {
   "cell_type": "code",
   "execution_count": 19,
   "metadata": {},
   "outputs": [],
   "source": [
    "workdir = \"D://ResIC50_finalized_data//191205_rerun//ResNet//Result//EYDC-9K//SVR\"\n",
    "c.to_csv(workdir + '//191205_EYDC_9K_znorm_znorm_minmax_SVR_result.csv')"
   ]
  },
  {
   "cell_type": "code",
   "execution_count": 20,
   "metadata": {},
   "outputs": [
    {
     "data": {
      "text/plain": [
       "['D://ResIC50_finalized_data//191205_rerun//ResNet//Result//EYDC-9K//SVR//191205_EYDC_9K_znorm_znorm_minmax_SVR_model.pkl']"
      ]
     },
     "execution_count": 20,
     "metadata": {},
     "output_type": "execute_result"
    }
   ],
   "source": [
    "import pickle\n",
    "from sklearn.externals import joblib\n",
    "joblib.dump(svr_lin, workdir + '//191205_EYDC_9K_znorm_znorm_minmax_SVR_model.pkl') \n"
   ]
  },
  {
   "cell_type": "code",
   "execution_count": 21,
   "metadata": {},
   "outputs": [
    {
     "data": {
      "text/html": [
       "<div>\n",
       "<style>\n",
       "    .dataframe thead tr:only-child th {\n",
       "        text-align: right;\n",
       "    }\n",
       "\n",
       "    .dataframe thead th {\n",
       "        text-align: left;\n",
       "    }\n",
       "\n",
       "    .dataframe tbody tr th {\n",
       "        vertical-align: top;\n",
       "    }\n",
       "</style>\n",
       "<table border=\"1\" class=\"dataframe\">\n",
       "  <thead>\n",
       "    <tr style=\"text-align: right;\">\n",
       "      <th></th>\n",
       "      <th>Predicted</th>\n",
       "      <th>Test</th>\n",
       "    </tr>\n",
       "  </thead>\n",
       "  <tbody>\n",
       "    <tr>\n",
       "      <th>0</th>\n",
       "      <td>1.958605</td>\n",
       "      <td>2.079442</td>\n",
       "    </tr>\n",
       "    <tr>\n",
       "      <th>1</th>\n",
       "      <td>1.943756</td>\n",
       "      <td>2.079442</td>\n",
       "    </tr>\n",
       "    <tr>\n",
       "      <th>2</th>\n",
       "      <td>1.969444</td>\n",
       "      <td>-1.595384</td>\n",
       "    </tr>\n",
       "    <tr>\n",
       "      <th>3</th>\n",
       "      <td>1.978273</td>\n",
       "      <td>2.079442</td>\n",
       "    </tr>\n",
       "    <tr>\n",
       "      <th>4</th>\n",
       "      <td>1.920118</td>\n",
       "      <td>-3.566824</td>\n",
       "    </tr>\n",
       "    <tr>\n",
       "      <th>5</th>\n",
       "      <td>1.956241</td>\n",
       "      <td>2.079442</td>\n",
       "    </tr>\n",
       "    <tr>\n",
       "      <th>6</th>\n",
       "      <td>1.917564</td>\n",
       "      <td>-0.294071</td>\n",
       "    </tr>\n",
       "    <tr>\n",
       "      <th>7</th>\n",
       "      <td>1.970703</td>\n",
       "      <td>2.079442</td>\n",
       "    </tr>\n",
       "    <tr>\n",
       "      <th>8</th>\n",
       "      <td>1.979325</td>\n",
       "      <td>2.039509</td>\n",
       "    </tr>\n",
       "    <tr>\n",
       "      <th>9</th>\n",
       "      <td>1.959372</td>\n",
       "      <td>-0.077654</td>\n",
       "    </tr>\n",
       "    <tr>\n",
       "      <th>10</th>\n",
       "      <td>1.920893</td>\n",
       "      <td>-1.390504</td>\n",
       "    </tr>\n",
       "    <tr>\n",
       "      <th>11</th>\n",
       "      <td>1.980034</td>\n",
       "      <td>2.079442</td>\n",
       "    </tr>\n",
       "    <tr>\n",
       "      <th>12</th>\n",
       "      <td>1.976175</td>\n",
       "      <td>2.035422</td>\n",
       "    </tr>\n",
       "    <tr>\n",
       "      <th>13</th>\n",
       "      <td>1.961226</td>\n",
       "      <td>2.079442</td>\n",
       "    </tr>\n",
       "    <tr>\n",
       "      <th>14</th>\n",
       "      <td>1.976168</td>\n",
       "      <td>-1.436804</td>\n",
       "    </tr>\n",
       "    <tr>\n",
       "      <th>15</th>\n",
       "      <td>1.977288</td>\n",
       "      <td>2.079442</td>\n",
       "    </tr>\n",
       "    <tr>\n",
       "      <th>16</th>\n",
       "      <td>1.941099</td>\n",
       "      <td>1.019624</td>\n",
       "    </tr>\n",
       "    <tr>\n",
       "      <th>17</th>\n",
       "      <td>1.972831</td>\n",
       "      <td>-4.561070</td>\n",
       "    </tr>\n",
       "    <tr>\n",
       "      <th>18</th>\n",
       "      <td>1.851682</td>\n",
       "      <td>-1.301971</td>\n",
       "    </tr>\n",
       "    <tr>\n",
       "      <th>19</th>\n",
       "      <td>1.930931</td>\n",
       "      <td>2.079442</td>\n",
       "    </tr>\n",
       "    <tr>\n",
       "      <th>20</th>\n",
       "      <td>1.979424</td>\n",
       "      <td>2.079442</td>\n",
       "    </tr>\n",
       "    <tr>\n",
       "      <th>21</th>\n",
       "      <td>1.915789</td>\n",
       "      <td>2.079442</td>\n",
       "    </tr>\n",
       "    <tr>\n",
       "      <th>22</th>\n",
       "      <td>1.966761</td>\n",
       "      <td>-5.006347</td>\n",
       "    </tr>\n",
       "    <tr>\n",
       "      <th>23</th>\n",
       "      <td>1.904892</td>\n",
       "      <td>2.079442</td>\n",
       "    </tr>\n",
       "    <tr>\n",
       "      <th>24</th>\n",
       "      <td>1.980286</td>\n",
       "      <td>2.079442</td>\n",
       "    </tr>\n",
       "    <tr>\n",
       "      <th>25</th>\n",
       "      <td>1.979164</td>\n",
       "      <td>2.079442</td>\n",
       "    </tr>\n",
       "    <tr>\n",
       "      <th>26</th>\n",
       "      <td>1.967390</td>\n",
       "      <td>-3.785315</td>\n",
       "    </tr>\n",
       "    <tr>\n",
       "      <th>27</th>\n",
       "      <td>1.864172</td>\n",
       "      <td>2.055531</td>\n",
       "    </tr>\n",
       "    <tr>\n",
       "      <th>28</th>\n",
       "      <td>1.919967</td>\n",
       "      <td>1.774149</td>\n",
       "    </tr>\n",
       "    <tr>\n",
       "      <th>29</th>\n",
       "      <td>1.970256</td>\n",
       "      <td>-3.256286</td>\n",
       "    </tr>\n",
       "    <tr>\n",
       "      <th>...</th>\n",
       "      <td>...</td>\n",
       "      <td>...</td>\n",
       "    </tr>\n",
       "    <tr>\n",
       "      <th>929</th>\n",
       "      <td>1.966195</td>\n",
       "      <td>-0.334657</td>\n",
       "    </tr>\n",
       "    <tr>\n",
       "      <th>930</th>\n",
       "      <td>1.975787</td>\n",
       "      <td>2.079442</td>\n",
       "    </tr>\n",
       "    <tr>\n",
       "      <th>931</th>\n",
       "      <td>1.951246</td>\n",
       "      <td>-4.362381</td>\n",
       "    </tr>\n",
       "    <tr>\n",
       "      <th>932</th>\n",
       "      <td>1.919217</td>\n",
       "      <td>1.013571</td>\n",
       "    </tr>\n",
       "    <tr>\n",
       "      <th>933</th>\n",
       "      <td>1.880643</td>\n",
       "      <td>2.079442</td>\n",
       "    </tr>\n",
       "    <tr>\n",
       "      <th>934</th>\n",
       "      <td>1.980123</td>\n",
       "      <td>2.079442</td>\n",
       "    </tr>\n",
       "    <tr>\n",
       "      <th>935</th>\n",
       "      <td>1.981043</td>\n",
       "      <td>2.079442</td>\n",
       "    </tr>\n",
       "    <tr>\n",
       "      <th>936</th>\n",
       "      <td>1.967325</td>\n",
       "      <td>-3.618670</td>\n",
       "    </tr>\n",
       "    <tr>\n",
       "      <th>937</th>\n",
       "      <td>1.936257</td>\n",
       "      <td>2.079442</td>\n",
       "    </tr>\n",
       "    <tr>\n",
       "      <th>938</th>\n",
       "      <td>1.958869</td>\n",
       "      <td>2.079442</td>\n",
       "    </tr>\n",
       "    <tr>\n",
       "      <th>939</th>\n",
       "      <td>1.921181</td>\n",
       "      <td>2.079442</td>\n",
       "    </tr>\n",
       "    <tr>\n",
       "      <th>940</th>\n",
       "      <td>1.894087</td>\n",
       "      <td>2.079442</td>\n",
       "    </tr>\n",
       "    <tr>\n",
       "      <th>941</th>\n",
       "      <td>1.977797</td>\n",
       "      <td>1.479909</td>\n",
       "    </tr>\n",
       "    <tr>\n",
       "      <th>942</th>\n",
       "      <td>1.980142</td>\n",
       "      <td>2.079442</td>\n",
       "    </tr>\n",
       "    <tr>\n",
       "      <th>943</th>\n",
       "      <td>1.940254</td>\n",
       "      <td>2.079442</td>\n",
       "    </tr>\n",
       "    <tr>\n",
       "      <th>944</th>\n",
       "      <td>1.820501</td>\n",
       "      <td>0.470163</td>\n",
       "    </tr>\n",
       "    <tr>\n",
       "      <th>945</th>\n",
       "      <td>1.979317</td>\n",
       "      <td>2.079442</td>\n",
       "    </tr>\n",
       "    <tr>\n",
       "      <th>946</th>\n",
       "      <td>1.979597</td>\n",
       "      <td>2.079442</td>\n",
       "    </tr>\n",
       "    <tr>\n",
       "      <th>947</th>\n",
       "      <td>1.978568</td>\n",
       "      <td>-2.459193</td>\n",
       "    </tr>\n",
       "    <tr>\n",
       "      <th>948</th>\n",
       "      <td>1.980644</td>\n",
       "      <td>2.079442</td>\n",
       "    </tr>\n",
       "    <tr>\n",
       "      <th>949</th>\n",
       "      <td>1.979772</td>\n",
       "      <td>2.079442</td>\n",
       "    </tr>\n",
       "    <tr>\n",
       "      <th>950</th>\n",
       "      <td>1.979549</td>\n",
       "      <td>2.079442</td>\n",
       "    </tr>\n",
       "    <tr>\n",
       "      <th>951</th>\n",
       "      <td>1.884914</td>\n",
       "      <td>1.076232</td>\n",
       "    </tr>\n",
       "    <tr>\n",
       "      <th>952</th>\n",
       "      <td>1.978556</td>\n",
       "      <td>2.079442</td>\n",
       "    </tr>\n",
       "    <tr>\n",
       "      <th>953</th>\n",
       "      <td>1.766769</td>\n",
       "      <td>1.357675</td>\n",
       "    </tr>\n",
       "    <tr>\n",
       "      <th>954</th>\n",
       "      <td>1.903676</td>\n",
       "      <td>-1.024949</td>\n",
       "    </tr>\n",
       "    <tr>\n",
       "      <th>955</th>\n",
       "      <td>1.893198</td>\n",
       "      <td>-2.884054</td>\n",
       "    </tr>\n",
       "    <tr>\n",
       "      <th>956</th>\n",
       "      <td>1.938675</td>\n",
       "      <td>-0.837603</td>\n",
       "    </tr>\n",
       "    <tr>\n",
       "      <th>957</th>\n",
       "      <td>1.949999</td>\n",
       "      <td>-1.808728</td>\n",
       "    </tr>\n",
       "    <tr>\n",
       "      <th>958</th>\n",
       "      <td>1.913976</td>\n",
       "      <td>1.896654</td>\n",
       "    </tr>\n",
       "  </tbody>\n",
       "</table>\n",
       "<p>959 rows × 2 columns</p>\n",
       "</div>"
      ],
      "text/plain": [
       "     Predicted      Test\n",
       "0     1.958605  2.079442\n",
       "1     1.943756  2.079442\n",
       "2     1.969444 -1.595384\n",
       "3     1.978273  2.079442\n",
       "4     1.920118 -3.566824\n",
       "5     1.956241  2.079442\n",
       "6     1.917564 -0.294071\n",
       "7     1.970703  2.079442\n",
       "8     1.979325  2.039509\n",
       "9     1.959372 -0.077654\n",
       "10    1.920893 -1.390504\n",
       "11    1.980034  2.079442\n",
       "12    1.976175  2.035422\n",
       "13    1.961226  2.079442\n",
       "14    1.976168 -1.436804\n",
       "15    1.977288  2.079442\n",
       "16    1.941099  1.019624\n",
       "17    1.972831 -4.561070\n",
       "18    1.851682 -1.301971\n",
       "19    1.930931  2.079442\n",
       "20    1.979424  2.079442\n",
       "21    1.915789  2.079442\n",
       "22    1.966761 -5.006347\n",
       "23    1.904892  2.079442\n",
       "24    1.980286  2.079442\n",
       "25    1.979164  2.079442\n",
       "26    1.967390 -3.785315\n",
       "27    1.864172  2.055531\n",
       "28    1.919967  1.774149\n",
       "29    1.970256 -3.256286\n",
       "..         ...       ...\n",
       "929   1.966195 -0.334657\n",
       "930   1.975787  2.079442\n",
       "931   1.951246 -4.362381\n",
       "932   1.919217  1.013571\n",
       "933   1.880643  2.079442\n",
       "934   1.980123  2.079442\n",
       "935   1.981043  2.079442\n",
       "936   1.967325 -3.618670\n",
       "937   1.936257  2.079442\n",
       "938   1.958869  2.079442\n",
       "939   1.921181  2.079442\n",
       "940   1.894087  2.079442\n",
       "941   1.977797  1.479909\n",
       "942   1.980142  2.079442\n",
       "943   1.940254  2.079442\n",
       "944   1.820501  0.470163\n",
       "945   1.979317  2.079442\n",
       "946   1.979597  2.079442\n",
       "947   1.978568 -2.459193\n",
       "948   1.980644  2.079442\n",
       "949   1.979772  2.079442\n",
       "950   1.979549  2.079442\n",
       "951   1.884914  1.076232\n",
       "952   1.978556  2.079442\n",
       "953   1.766769  1.357675\n",
       "954   1.903676 -1.024949\n",
       "955   1.893198 -2.884054\n",
       "956   1.938675 -0.837603\n",
       "957   1.949999 -1.808728\n",
       "958   1.913976  1.896654\n",
       "\n",
       "[959 rows x 2 columns]"
      ]
     },
     "execution_count": 21,
     "metadata": {},
     "output_type": "execute_result"
    }
   ],
   "source": [
    "c"
   ]
  },
  {
   "cell_type": "code",
   "execution_count": 22,
   "metadata": {},
   "outputs": [
    {
     "data": {
      "text/plain": [
       "array([1.95860526, 1.94375591, 1.96944381, 1.97827327, 1.92011844,\n",
       "       1.95624102, 1.91756379, 1.97070323, 1.97932483, 1.95937225,\n",
       "       1.92089262, 1.98003439, 1.97617495, 1.96122646, 1.97616772,\n",
       "       1.97728846, 1.94109886, 1.97283109, 1.85168161, 1.93093073,\n",
       "       1.9794237 , 1.91578924, 1.96676052, 1.90489196, 1.98028568,\n",
       "       1.97916375, 1.96738982, 1.86417177, 1.919967  , 1.97025608,\n",
       "       1.97938921, 1.90843659, 1.97982201, 1.94770296, 1.95725971,\n",
       "       1.9747414 , 1.96600606, 1.97724317, 1.97960681, 1.93796748,\n",
       "       1.95732511, 1.97054714, 1.91931745, 1.97893945, 1.93392015,\n",
       "       1.96703931, 1.89638214, 1.93745832, 1.96293778, 1.97883653,\n",
       "       1.77819308, 1.97891542, 1.95256525, 1.98049701, 1.97880238,\n",
       "       1.97800688, 1.95692908, 1.9779061 , 1.98058148, 1.97958048,\n",
       "       1.97914166, 1.97964274, 1.97927906, 1.97855722, 1.83788234,\n",
       "       1.97995171, 1.89239764, 1.97948528, 1.97342661, 1.95351111,\n",
       "       1.98053039, 1.9708599 , 1.98051379, 1.97240078, 1.97913601,\n",
       "       1.97833551, 1.92695491, 1.9794458 , 1.96223371, 1.97842879,\n",
       "       1.96528876, 1.97896539, 1.76710788, 1.97504653, 1.97934868,\n",
       "       1.97979671, 1.9207782 , 1.97932686, 1.94637856, 1.9791107 ,\n",
       "       1.90891245, 1.97986713, 1.97918316, 1.97342403, 1.78524926,\n",
       "       1.97830705, 1.9767471 , 1.97287512, 1.97940466, 1.97827604,\n",
       "       1.94416986, 1.97955677, 1.95355941, 1.97862712, 1.95793636,\n",
       "       1.93301194, 1.9797102 , 1.96120049, 1.90632793, 1.9319458 ,\n",
       "       1.97961331, 1.97939518, 1.88493254, 1.97715734, 1.97917544,\n",
       "       1.9565704 , 1.97841867, 1.96643035, 1.95348632, 1.97861297,\n",
       "       1.97948862, 1.8635307 , 1.86720542, 1.97690235, 1.95331646,\n",
       "       1.93052225, 1.96181946, 1.90219488, 1.98004176, 1.97070949,\n",
       "       1.9568993 , 1.97923632, 1.83383938, 1.92979085, 1.95257288,\n",
       "       1.97986351, 1.97896214, 1.91434975, 1.97902832, 1.97875075,\n",
       "       1.97868901, 1.97928004, 1.97892915, 1.90070587, 1.90324729,\n",
       "       1.91921713, 1.85516962, 1.9793907 , 1.95117925, 1.91180512,\n",
       "       1.97905573, 1.80263353, 1.92574671, 1.97834249, 1.97969203,\n",
       "       1.97882672, 1.98045315, 1.97890004, 1.88399298, 1.95061756,\n",
       "       1.96784171, 1.97947153, 1.97792565, 1.95571317, 1.93120414,\n",
       "       1.96810747, 1.97124475, 1.98034499, 1.77810113, 1.97884026,\n",
       "       1.94719541, 1.96129796, 1.97979044, 1.97741709, 1.97990859,\n",
       "       1.9691139 , 1.98080676, 1.9793069 , 1.88570858, 1.97912722,\n",
       "       1.92370456, 1.97893214, 1.97966421, 1.97598795, 1.94027978,\n",
       "       1.88966208, 1.97739859, 1.87332539, 1.97971289, 1.97452318,\n",
       "       1.9794904 , 1.9764049 , 1.97868658, 1.88479316, 1.92039392,\n",
       "       1.9798655 , 1.97895153, 1.95327137, 1.961523  , 1.98059264,\n",
       "       1.93885634, 1.92546714, 1.97870071, 1.97422609, 1.97955906,\n",
       "       1.97909634, 1.8996203 , 1.96910082, 1.92023433, 1.94528637,\n",
       "       1.97250319, 1.97922424, 1.9793442 , 1.97874915, 1.97521369,\n",
       "       1.93339351, 1.95536449, 1.97542383, 1.97963705, 1.97656774,\n",
       "       1.97690045, 1.94356345, 1.88589212, 1.97831295, 1.97852423,\n",
       "       1.92614932, 1.95282907, 1.97757634, 1.97885518, 1.86356055,\n",
       "       1.97954739, 1.92148165, 1.96791154, 1.94438048, 1.9784922 ,\n",
       "       1.97734245, 1.93179015, 1.98002122, 1.97950262, 1.97215086,\n",
       "       1.97911077, 1.94639738, 1.97977646, 1.97945936, 1.97998   ,\n",
       "       1.94245374, 1.97610354, 1.95110637, 1.97829266, 1.97879768,\n",
       "       1.97961145, 1.96728852, 1.97640981, 1.97697319, 1.97978364,\n",
       "       1.97952898, 1.9690683 , 1.96213834, 1.96796522, 1.96187994,\n",
       "       1.97941657, 1.94463739, 1.9665844 , 1.93750512, 1.93588935,\n",
       "       1.98052975, 1.97934033, 1.97952418, 1.97928386, 1.80820585,\n",
       "       1.9797361 , 1.94307851, 1.9645565 , 1.92128005, 1.92051157,\n",
       "       1.97903829, 1.97828797, 1.89755455, 1.91982539, 1.95242789,\n",
       "       1.97897684, 1.91361666, 1.97052442, 1.97370783, 1.98005703,\n",
       "       1.97949782, 1.9262245 , 1.90816652, 1.97971083, 1.97944333,\n",
       "       1.96424508, 1.97900509, 1.95276988, 1.97520336, 1.96249805,\n",
       "       1.8987779 , 1.88538227, 1.93612967, 1.97900087, 1.97945065,\n",
       "       1.97390462, 1.96379699, 1.93967614, 1.97861639, 1.97945619,\n",
       "       1.95556728, 1.97229232, 1.97552292, 1.93981996, 1.97883301,\n",
       "       1.97940994, 1.96057439, 1.97790568, 1.96243951, 1.92564248,\n",
       "       1.96984306, 1.85285618, 1.86723977, 1.92589739, 1.98016829,\n",
       "       1.98084277, 1.90577986, 1.97930467, 1.97974905, 1.93900938,\n",
       "       1.97921941, 1.97860454, 1.86715967, 1.95618817, 1.90233459,\n",
       "       1.97285139, 1.89719354, 1.97856117, 1.97853464, 1.97112019,\n",
       "       1.97963595, 1.94396868, 1.90065058, 1.9706299 , 1.9086883 ,\n",
       "       1.9759222 , 1.96067443, 1.97392075, 1.9798715 , 1.88565204,\n",
       "       1.88577621, 1.93024875, 1.91724132, 1.97894172, 1.97975113,\n",
       "       1.97993081, 1.96165817, 1.9602396 , 1.94378045, 1.97915045,\n",
       "       1.84475215, 1.95981719, 1.94575897, 1.97979195, 1.97898904,\n",
       "       1.97502939, 1.96664721, 1.95717263, 1.97925697, 1.96192225,\n",
       "       1.76737806, 1.96124077, 1.92693942, 1.97823814, 1.97940787,\n",
       "       1.9793007 , 1.78522341, 1.97955119, 1.97909241, 1.9798478 ,\n",
       "       1.97917938, 1.96982152, 1.97528887, 1.97994498, 1.96853358,\n",
       "       1.94003556, 1.94360817, 1.92885734, 1.97924296, 1.91626242,\n",
       "       1.96644642, 1.98096699, 1.77772292, 1.97908776, 1.97960641,\n",
       "       1.94768344, 1.96742193, 1.94384044, 1.97943578, 1.97965908,\n",
       "       1.88578209, 1.92735033, 1.97146328, 1.97215458, 1.92926442,\n",
       "       1.97221944, 1.97978438, 1.98055019, 1.97981445, 1.86415357,\n",
       "       1.97988261, 1.84363018, 1.90362712, 1.96725371, 1.91412823,\n",
       "       1.96041556, 1.9677572 , 1.97718955, 1.971327  , 1.97849837,\n",
       "       1.97822371, 1.97363826, 1.9790524 , 1.88499749, 1.91983736,\n",
       "       1.96859705, 1.95805492, 1.94285698, 1.97707831, 1.84089329,\n",
       "       1.97902335, 1.82236453, 1.95986587, 1.89615879, 1.9769995 ,\n",
       "       1.98049537, 1.97007298, 1.96832313, 1.92013462, 1.96784125,\n",
       "       1.95540985, 1.97954537, 1.97985441, 1.97904432, 1.97921866,\n",
       "       1.97065158, 1.95340546, 1.94369745, 1.97341973, 1.9772733 ,\n",
       "       1.92916701, 1.95859201, 1.96417442, 1.9540027 , 1.97233419,\n",
       "       1.97920436, 1.96412492, 1.9784635 , 1.9758975 , 1.91327565,\n",
       "       1.95731341, 1.90837745, 1.96289756, 1.97961956, 1.92337366,\n",
       "       1.92348527, 1.97978449, 1.9786541 , 1.979744  , 1.9144897 ,\n",
       "       1.94380949, 1.97661549, 1.97471526, 1.9798621 , 1.93295846,\n",
       "       1.96229951, 1.98013163, 1.97932716, 1.97828325, 1.97958581,\n",
       "       1.93292133, 1.95900301, 1.97658013, 1.9799924 , 1.98070155,\n",
       "       1.97800702, 1.96900235, 1.97973359, 1.97683626, 1.97205901,\n",
       "       1.97834116, 1.9791041 , 1.97162346, 1.97811342, 1.92636327,\n",
       "       1.95220641, 1.85335084, 1.97770749, 1.96861126, 1.95229642,\n",
       "       1.9403242 , 1.97766144, 1.90826191, 1.97729016, 1.97374885,\n",
       "       1.97800644, 1.94645429, 1.93907788, 1.936546  , 1.88564605,\n",
       "       1.96444193, 1.9783167 , 1.92092345, 1.98006567, 1.9479555 ,\n",
       "       1.98059514, 1.97315352, 1.97172733, 1.97733728, 1.97857512,\n",
       "       1.94185242, 1.92075195, 1.82048456, 1.97732967, 1.84854067,\n",
       "       1.94271124, 1.96990809, 1.95966663, 1.97913582, 1.96770114,\n",
       "       1.96822775, 1.9732161 , 1.97795515, 1.9709077 , 1.97834284,\n",
       "       1.97862428, 1.96291784, 1.95810042, 1.96449008, 1.93675887,\n",
       "       1.97804408, 1.83255129, 1.94140474, 1.9730257 , 1.94105708,\n",
       "       1.97868185, 1.97727534, 1.9397639 , 1.9385217 , 1.98046244,\n",
       "       1.97840363, 1.9052557 , 1.97870974, 1.97374718, 1.97073069,\n",
       "       1.92258758, 1.93836842, 1.9795718 , 1.97901858, 1.97872801,\n",
       "       1.97912155, 1.97916608, 1.9790062 , 1.94281992, 1.95471963,\n",
       "       1.94614379, 1.90492628, 1.85265339, 1.98017102, 1.97384249,\n",
       "       1.97652089, 1.9796331 , 1.97142582, 1.95995721, 1.84128952,\n",
       "       1.96651799, 1.97731508, 1.97946644, 1.93581939, 1.97868619,\n",
       "       1.95033839, 1.93027098, 1.97921589, 1.96358765, 1.97948986,\n",
       "       1.93961769, 1.97917131, 1.97931254, 1.97553332, 1.97993883,\n",
       "       1.93365765, 1.94325319, 1.98034095, 1.96724115, 1.97947993,\n",
       "       1.96483127, 1.97854677, 1.93787518, 1.97528827, 1.93978339,\n",
       "       1.97362214, 1.97929841, 1.96229038, 1.97534552, 1.93515162,\n",
       "       1.97611837, 1.97950458, 1.97934788, 1.90834035, 1.85587746,\n",
       "       1.87886493, 1.97880914, 1.97955611, 1.81652588, 1.9789316 ,\n",
       "       1.95709548, 1.97914124, 1.9796848 , 1.97904282, 1.94402653,\n",
       "       1.96984258, 1.95324366, 1.97862789, 1.978954  , 1.88290854,\n",
       "       1.97528114, 1.92724567, 1.97263179, 1.96947308, 1.97663968,\n",
       "       1.91687664, 1.97802317, 1.90494664, 1.97892196, 1.97763438,\n",
       "       1.97884981, 1.97499284, 1.94735323, 1.94986586, 1.97861767,\n",
       "       1.97645953, 1.974315  , 1.93194845, 1.97557697, 1.94846279,\n",
       "       1.97732647, 1.94334752, 1.95098848, 1.96401911, 1.97650211,\n",
       "       1.9360203 , 1.81114043, 1.95314947, 1.9605291 , 1.97772979,\n",
       "       1.97955058, 1.96957872, 1.97968649, 1.96401293, 1.97844341,\n",
       "       1.95899754, 1.90833221, 1.91851687, 1.76745191, 1.97668944,\n",
       "       1.86888943, 1.91291149, 1.97126966, 1.97869176, 1.97678821,\n",
       "       1.97944337, 1.91381139, 1.97967408, 1.93931589, 1.97933225,\n",
       "       1.95733416, 1.92961756, 1.97898241, 1.97777557, 1.91663111,\n",
       "       1.97641222, 1.97862946, 1.98027349, 1.97851473, 1.97991818,\n",
       "       1.93925578, 1.98023734, 1.96695495, 1.94947732, 1.97651785,\n",
       "       1.97068569, 1.95934862, 1.97756558, 1.97830727, 1.97746124,\n",
       "       1.9320748 , 1.77783184, 1.92528905, 1.97940478, 1.95544568,\n",
       "       1.9781379 , 1.96642749, 1.97897702, 1.9255055 , 1.98082245,\n",
       "       1.87367773, 1.95603324, 1.90523068, 1.98066898, 1.98016459,\n",
       "       1.97824256, 1.98002318, 1.97987548, 1.98125709, 1.97150043,\n",
       "       1.97943702, 1.97869827, 1.96599755, 1.93840146, 1.96919733,\n",
       "       1.98036608, 1.86723944, 1.95055438, 1.97681662, 1.95226512,\n",
       "       1.97926476, 1.91854921, 1.88482204, 1.93388392, 1.97952121,\n",
       "       1.91027944, 1.95336829, 1.93090393, 1.88588309, 1.9801329 ,\n",
       "       1.94263243, 1.97982942, 1.96576509, 1.92152179, 1.96712437,\n",
       "       1.97863482, 1.8680541 , 1.92870447, 1.97871324, 1.93932914,\n",
       "       1.98134779, 1.97880235, 1.96993506, 1.97535109, 1.97713335,\n",
       "       1.92266029, 1.97913195, 1.89692074, 1.94324474, 1.97887573,\n",
       "       1.98068487, 1.92811876, 1.9775643 , 1.9437431 , 1.97764374,\n",
       "       1.96909327, 1.94107978, 1.90547153, 1.97789607, 1.90600118,\n",
       "       1.97964144, 1.97454127, 1.97752251, 1.91689203, 1.97550944,\n",
       "       1.93090529, 1.97381742, 1.95891532, 1.76824065, 1.98000934,\n",
       "       1.96914004, 1.97909295, 1.97052233, 1.97913766, 1.94195364,\n",
       "       1.97552648, 1.95911435, 1.97863727, 1.97889337, 1.89313211,\n",
       "       1.97980737, 1.96795953, 1.81165533, 1.98060955, 1.97820168,\n",
       "       1.96488777, 1.97826394, 1.9363101 , 1.97945028, 1.86675253,\n",
       "       1.97952292, 1.93696988, 1.96166301, 1.95813653, 1.98092843,\n",
       "       1.97078394, 1.96649307, 1.97928574, 1.96844222, 1.97852103,\n",
       "       1.9754904 , 1.97748113, 1.968378  , 1.88305963, 1.97962605,\n",
       "       1.97257879, 1.97246988, 1.94073398, 1.88954606, 1.94188753,\n",
       "       1.93841025, 1.97557662, 1.96983511, 1.9793791 , 1.94185624,\n",
       "       1.97433137, 1.96821146, 1.97822923, 1.94491089, 1.96911585,\n",
       "       1.9798436 , 1.97930349, 1.97907126, 1.86363448, 1.97269936,\n",
       "       1.93804936, 1.97946026, 1.97957032, 1.96820103, 1.97936268,\n",
       "       1.97966306, 1.97761474, 1.97479707, 1.95001921, 1.97768103,\n",
       "       1.90566817, 1.97959878, 1.96300514, 1.97689388, 1.94376145,\n",
       "       1.97777089, 1.97848849, 1.97840679, 1.93127125, 1.96876572,\n",
       "       1.97989977, 1.97828205, 1.91024696, 1.97772191, 1.91984705,\n",
       "       1.9711727 , 1.88897816, 1.97685296, 1.97913444, 1.96821921,\n",
       "       1.97759459, 1.97892902, 1.9777449 , 1.97925088, 1.97247314,\n",
       "       1.97923993, 1.91962439, 1.87368544, 1.91290161, 1.97963491,\n",
       "       1.97953617, 1.96278363, 1.97366786, 1.97875628, 1.97913006,\n",
       "       1.93672441, 1.97983195, 1.91813957, 1.93892967, 1.97968063,\n",
       "       1.92625859, 1.97908816, 1.76700356, 1.8616093 , 1.80812818,\n",
       "       1.97968524, 1.9611849 , 1.95215242, 1.97871793, 1.94724868,\n",
       "       1.80999341, 1.95722349, 1.92583236, 1.97459585, 1.93791108,\n",
       "       1.96583367, 1.97354367, 1.97936729, 1.97840057, 1.97359344,\n",
       "       1.96236179, 1.95892645, 1.97456526, 1.97877695, 1.80790683,\n",
       "       1.97105   , 1.91198971, 1.95993113, 1.80677242, 1.97997357,\n",
       "       1.97151369, 1.86651665, 1.90034862, 1.97893923, 1.97963156,\n",
       "       1.97973598, 1.9801117 , 1.97931766, 1.97908151, 1.90079182,\n",
       "       1.97821678, 1.95846058, 1.97765285, 1.8510693 , 1.95992109,\n",
       "       1.97983045, 1.97856989, 1.97060913, 1.9675062 , 1.87651142,\n",
       "       1.97976146, 1.97898732, 1.97807302, 1.97422194, 1.96619533,\n",
       "       1.97578721, 1.95124583, 1.91921707, 1.88064284, 1.98012268,\n",
       "       1.98104323, 1.96732506, 1.93625707, 1.95886865, 1.92118066,\n",
       "       1.89408703, 1.97779717, 1.9801424 , 1.94025363, 1.82050111,\n",
       "       1.97931662, 1.97959716, 1.97856839, 1.98064419, 1.97977193,\n",
       "       1.9795494 , 1.88491434, 1.97855584, 1.766769  , 1.90367574,\n",
       "       1.89319767, 1.93867453, 1.94999861, 1.91397567])"
      ]
     },
     "execution_count": 22,
     "metadata": {},
     "output_type": "execute_result"
    }
   ],
   "source": [
    "clf_from_joblib = joblib.load(workdir + '//191205_EYDC_9K_znorm_znorm_minmax_SVR_model.pkl') \n",
    "clf_from_joblib.predict(test_X)"
   ]
  },
  {
   "cell_type": "code",
   "execution_count": 23,
   "metadata": {},
   "outputs": [
    {
     "data": {
      "image/png": "[encoded data removed]",
      "text/plain": [
       "<Figure size 432x288 with 1 Axes>"
      ]
     },
     "metadata": {
      "needs_background": "light"
     },
     "output_type": "display_data"
    }
   ],
   "source": [
    "plt.scatter(test_label_array,y_lin,c='blue')\n",
    "plt.xlabel('test_IC50_value')\n",
    "plt.ylabel('predicted_IC50_value')\n",
    "plt.savefig(workdir + '//191205_EYDC_9K_znorm_znorm_minmax_SVR_scatter_plot.png')"
   ]
  },
  {
   "cell_type": "code",
   "execution_count": 24,
   "metadata": {},
   "outputs": [
    {
     "name": "stdout",
     "output_type": "stream",
     "text": [
      "Final rmse value is = 2.2402630598341498\n"
     ]
    }
   ],
   "source": [
    "rse = ((test_label_array-y_lin)**2).sum()\n",
    "mse = np.mean((test_label_array-y_lin)**2)\n",
    "print(\"Final rmse value is =\",np.sqrt(mse))"
   ]
  },
  {
   "cell_type": "code",
   "execution_count": 25,
   "metadata": {},
   "outputs": [
    {
     "data": {
      "text/plain": [
       "LinregressResult(slope=0.00299729218259566, intercept=1.950253861784349, rvalue=0.14689575168982508, pvalue=4.926459813059899e-06, stderr=0.0006524194510978437)"
      ]
     },
     "execution_count": 25,
     "metadata": {},
     "output_type": "execute_result"
    }
   ],
   "source": [
    "from scipy.stats import linregress\n",
    "linregress(b[0], a[0])"
   ]
  },
  {
   "cell_type": "code",
   "execution_count": null,
   "metadata": {},
   "outputs": [],
   "source": []
  }
 ],
 "metadata": {
  "kernelspec": {
   "display_name": "Python 3",
   "language": "python",
   "name": "python3"
  },
  "language_info": {
   "codemirror_mode": {
    "name": "ipython",
    "version": 3
   },
   "file_extension": ".py",
   "mimetype": "text/x-python",
   "name": "python",
   "nbconvert_exporter": "python",
   "pygments_lexer": "ipython3",
   "version": "3.6.9"
  }
 },
 "nbformat": 4,
 "nbformat_minor": 2
}
