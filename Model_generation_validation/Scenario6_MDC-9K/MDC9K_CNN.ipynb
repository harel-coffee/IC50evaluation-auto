{
 "cells": [
  {
   "cell_type": "code",
   "execution_count": 1,
   "metadata": {},
   "outputs": [
    {
     "name": "stderr",
     "output_type": "stream",
     "text": [
      "C:\\Users\\a\\Anaconda3\\lib\\site-packages\\h5py\\__init__.py:36: FutureWarning: Conversion of the second argument of issubdtype from `float` to `np.floating` is deprecated. In future, it will be treated as `np.float64 == np.dtype(float).type`.\n",
      "  from ._conv import register_converters as _register_converters\n",
      "Using TensorFlow backend.\n"
     ]
    }
   ],
   "source": [
    "import os\n",
    "import pandas as pd\n",
    "import numpy as np\n",
    "import tensorflow as tf\n",
    "import random\n",
    "from pandas import DataFrame\n",
    "from datetime import datetime\n",
    "import keras\n",
    "from keras.models import Sequential,Input,Model\n",
    "from keras.layers import Dense, Dropout, Flatten, Reshape, Activation\n",
    "from keras.layers import Conv1D, MaxPooling1D ,AveragePooling1D\n",
    "from keras.layers.normalization import BatchNormalization\n",
    "from keras.layers.advanced_activations import LeakyReLU\n",
    "from keras import backend as K\n",
    "from keras.callbacks import ModelCheckpoint, CSVLogger\n",
    "from keras.optimizers import Adam, RMSprop\n",
    "from keras.layers import Input, Dense, Conv1D, MaxPooling1D\n",
    "from keras.layers import Flatten, Concatenate, Dropout, Reshape, BatchNormalization\n",
    "from keras.models import Model\n"
   ]
  },
  {
   "cell_type": "code",
   "execution_count": 2,
   "metadata": {},
   "outputs": [
    {
     "name": "stdout",
     "output_type": "stream",
     "text": [
      "[name: \"/device:CPU:0\"\n",
      "device_type: \"CPU\"\n",
      "memory_limit: 268435456\n",
      "locality {\n",
      "}\n",
      "incarnation: 10592506010430248143\n",
      ", name: \"/device:GPU:0\"\n",
      "device_type: \"GPU\"\n",
      "memory_limit: 9234234737\n",
      "locality {\n",
      "  bus_id: 1\n",
      "}\n",
      "incarnation: 11351423885885637653\n",
      "physical_device_desc: \"device: 0, name: GeForce GTX 1080 Ti, pci bus id: 0000:01:00.0, compute capability: 6.1\"\n",
      "]\n"
     ]
    }
   ],
   "source": [
    "from tensorflow.python.client import device_lib\n",
    "print(device_lib.list_local_devices())\n",
    "\n",
    "\n",
    "# 출처: https://3months.tistory.com/206 [Deep Play]"
   ]
  },
  {
   "cell_type": "code",
   "execution_count": null,
   "metadata": {},
   "outputs": [],
   "source": []
  },
  {
   "cell_type": "code",
   "execution_count": 3,
   "metadata": {},
   "outputs": [],
   "source": [
    "# < Important note > [ Please download input data from https://mega.nz/#F!CeYGDKyS!uqkmWJ4E2XSGJp_C2VO2gg]\n",
    "# IC50evaluation//Dataset//Scenario6_MDC-9K_minmax\n",
    "workdir = \"path\"\n",
    "dataset = np.load(workdir + \"//190510_ccle_cell_gdsc_mut_drug_info.npz\") # input file\n",
    "ss0 = np.load(workdir + '//190510_ccle_cell_gdsc_mut_drug_info_r0_9_1.npz') # split for training and test"
   ]
  },
  {
   "cell_type": "code",
   "execution_count": 4,
   "metadata": {},
   "outputs": [],
   "source": [
    "x = dataset['x']\n",
    "y = dataset['y']\n",
    "# y_linear = dataset['y_lnIC50']\n",
    "ss0_train = ss0['train']\n",
    "ss0_test = ss0['test']"
   ]
  },
  {
   "cell_type": "code",
   "execution_count": 5,
   "metadata": {},
   "outputs": [],
   "source": [
    "training_image_array, training_label_array = x[ss0_train], y[ss0_train]\n",
    "test_image_array, test_label_array = x[ss0_test], y[ss0_test]\n",
    "\n",
    "# In[9]:\n",
    "# ori = training_image_array\n",
    "# bat = np.zeros((ori.shape[0],178))\n",
    "# cat = np.hstack([ori,bat])\n",
    "# training_image_array = cat\n",
    "\n",
    "# # In[8]:\n",
    "# training_image_array.shape\n",
    "\n",
    "# # In[10]:\n",
    "# ori2 = test_image_array\n",
    "# bat2 = np.zeros((ori2.shape[0],178))\n",
    "# cat2 = np.hstack([ori2,bat2])\n",
    "# test_image_array = cat2\n"
   ]
  },
  {
   "cell_type": "code",
   "execution_count": 6,
   "metadata": {},
   "outputs": [
    {
     "name": "stdout",
     "output_type": "stream",
     "text": [
      "1 2\n"
     ]
    }
   ],
   "source": [
    "# In[15]:\n",
    "ab =[]\n",
    "for i in range(100,200):\n",
    "    ab.append(len(training_image_array) % i)\n",
    "    \n",
    "print(min(ab), ab.index(min(ab)))"
   ]
  },
  {
   "cell_type": "code",
   "execution_count": 7,
   "metadata": {},
   "outputs": [
    {
     "data": {
      "text/plain": [
       "(8727, 23538)"
      ]
     },
     "execution_count": 7,
     "metadata": {},
     "output_type": "execute_result"
    }
   ],
   "source": [
    "x.shape"
   ]
  },
  {
   "cell_type": "code",
   "execution_count": 8,
   "metadata": {},
   "outputs": [
    {
     "data": {
      "text/plain": [
       "(7855, 23538)"
      ]
     },
     "execution_count": 8,
     "metadata": {},
     "output_type": "execute_result"
    }
   ],
   "source": [
    "training_image_array.shape"
   ]
  },
  {
   "cell_type": "code",
   "execution_count": 9,
   "metadata": {},
   "outputs": [],
   "source": [
    "# In[21]: hyperparameters\n",
    "\n",
    "num_classes = 1\n",
    "learning_rate = 0.0002\n",
    "training_epochs = 150\n",
    "batch_size = 100\n",
    "img_rows, img_cols = 154, 154\n"
   ]
  },
  {
   "cell_type": "code",
   "execution_count": 10,
   "metadata": {},
   "outputs": [],
   "source": [
    "train_X, train_y, test_X, test_y = training_image_array, training_label_array, test_image_array, test_label_array\n",
    "\n",
    "# if K.image_data_format() == 'channels_first':\n",
    "#     train_X = train_X.reshape(train_X.shape[0], 1, img_rows, img_cols)\n",
    "#     test_X = test_X.reshape(x_test.shape[0], 1, img_rows, img_cols)\n",
    "#     input_shape = (1, img_rows, img_cols)\n",
    "# else:\n",
    "#     train_X = train_X.reshape(train_X.shape[0], img_rows, img_cols, 1)\n",
    "#     test_X = test_X.reshape(test_X.shape[0], img_rows, img_cols, 1)\n",
    "#     input_shape = (img_rows, img_cols, 1)\n"
   ]
  },
  {
   "cell_type": "code",
   "execution_count": 11,
   "metadata": {},
   "outputs": [
    {
     "name": "stdout",
     "output_type": "stream",
     "text": [
      "21213\n"
     ]
    }
   ],
   "source": [
    "shape_value = 21213\n",
    "print(shape_value)"
   ]
  },
  {
   "cell_type": "code",
   "execution_count": 12,
   "metadata": {},
   "outputs": [
    {
     "data": {
      "text/plain": [
       "(7855, 23538)"
      ]
     },
     "execution_count": 12,
     "metadata": {},
     "output_type": "execute_result"
    }
   ],
   "source": [
    "train_X.shape"
   ]
  },
  {
   "cell_type": "code",
   "execution_count": 13,
   "metadata": {},
   "outputs": [],
   "source": [
    "# data shaping\n",
    "train_X_cell = train_X[:,:shape_value]\n",
    "train_X_drug =train_X[:,shape_value:]\n",
    "test_X_cell = test_X[:,:shape_value]\n",
    "test_X_drug = test_X[:,shape_value:]"
   ]
  },
  {
   "cell_type": "code",
   "execution_count": 14,
   "metadata": {},
   "outputs": [
    {
     "data": {
      "text/plain": [
       "(7855, 21213)"
      ]
     },
     "execution_count": 14,
     "metadata": {},
     "output_type": "execute_result"
    }
   ],
   "source": [
    "train_X_cell.shape"
   ]
  },
  {
   "cell_type": "code",
   "execution_count": 15,
   "metadata": {},
   "outputs": [],
   "source": [
    "train_X_cell = train_X_cell.reshape(train_X_cell.shape[0], train_X_cell.shape[1], 1)\n",
    "train_X_drug = train_X_drug.reshape(train_X_drug.shape[0], train_X_drug.shape[1], 1)\n",
    "test_X_cell = test_X_cell.reshape(test_X_cell.shape[0], test_X_cell.shape[1], 1)\n",
    "test_X_drug = test_X_drug.reshape(test_X_drug.shape[0], test_X_drug.shape[1], 1)\n",
    "#input_shape = (img_rows, img_cols, 1)"
   ]
  },
  {
   "cell_type": "code",
   "execution_count": 16,
   "metadata": {},
   "outputs": [
    {
     "name": "stdout",
     "output_type": "stream",
     "text": [
      "(7855, 21213, 1) (7855, 2325, 1) (7855,) (872, 21213, 1) (872, 2325, 1) (872,)\n"
     ]
    }
   ],
   "source": [
    "print(train_X_cell.shape,train_X_drug.shape, train_y.shape, test_X_cell.shape,test_X_drug.shape, test_y.shape)"
   ]
  },
  {
   "cell_type": "code",
   "execution_count": 17,
   "metadata": {},
   "outputs": [
    {
     "data": {
      "text/plain": [
       "(7855, 21213, 1)"
      ]
     },
     "execution_count": 17,
     "metadata": {},
     "output_type": "execute_result"
    }
   ],
   "source": [
    "train_X_cell.shape"
   ]
  },
  {
   "cell_type": "code",
   "execution_count": 18,
   "metadata": {},
   "outputs": [
    {
     "name": "stdout",
     "output_type": "stream",
     "text": [
      "train_X shape: (7855, 23538)\n",
      "7855 train samples\n",
      "872 test samples\n"
     ]
    }
   ],
   "source": [
    "train_X_cell = train_X_cell.astype('float32')\n",
    "test_X_cell = test_X_cell.astype('float32')\n",
    "train_X_drug = train_X_drug.astype('float32')\n",
    "test_X_drug = test_X_drug.astype('float32')\n",
    "# train_X /= 255\n",
    "# test_X /= 255\n",
    "print('train_X shape:', train_X.shape)\n",
    "print(train_X.shape[0], 'train samples')\n",
    "print(test_X.shape[0], 'test samples')"
   ]
  },
  {
   "cell_type": "code",
   "execution_count": 19,
   "metadata": {},
   "outputs": [
    {
     "name": "stdout",
     "output_type": "stream",
     "text": [
      "WARNING:tensorflow:From C:\\Users\\a\\Anaconda3\\lib\\site-packages\\tensorflow\\python\\util\\deprecation.py:497: calling conv1d (from tensorflow.python.ops.nn_ops) with data_format=NHWC is deprecated and will be removed in a future version.\n",
      "Instructions for updating:\n",
      "`NHWC` for data_format is deprecated, use `NWC` instead\n"
     ]
    }
   ],
   "source": [
    "# architecture\n",
    "with K.tf.device('/GPU:0'):\n",
    "    input_cell = Input(shape=(train_X_cell.shape[1], train_X_cell.shape[2]), name='cell_input')\n",
    "    input_drug = Input(shape=(train_X_drug.shape[1], train_X_drug.shape[2]), name='drug_input')\n",
    "\n",
    "    conv_cell_line_1 = Conv1D(filters=50, kernel_size=700, strides=5, activation='tanh')(input_cell)\n",
    "    maxpool_cell_line_1 = MaxPooling1D(pool_size=5)(conv_cell_line_1)\n",
    "    conv_cell_line_2 = Conv1D(filters=30, kernel_size=5, strides=2, activation='relu')(maxpool_cell_line_1)\n",
    "    maxpool_cell_line_2 = MaxPooling1D(pool_size=10)(conv_cell_line_2)\n",
    "    flatten_cell_line = Flatten()(maxpool_cell_line_2)\n",
    "    dense_cell_line = Dense(100, activation='relu')(flatten_cell_line)\n",
    "    dropout_cell_line = Dropout(0.1)(dense_cell_line)\n",
    "\n",
    "    conv_drug_1 = Conv1D(filters=50, kernel_size=200, strides=3, activation='tanh')(input_drug)\n",
    "    maxpool_drug_1 = MaxPooling1D(pool_size=5)(conv_drug_1)\n",
    "    conv_drug_2 = Conv1D(filters=30, kernel_size=50, strides=5, activation='relu')(maxpool_drug_1)\n",
    "    maxpool_drug_2 = MaxPooling1D(pool_size=10)(conv_drug_2)\n",
    "    flatten_drug = Flatten()(maxpool_drug_2)\n",
    "    dense_drug = Dense(100, activation='relu')(flatten_drug)\n",
    "    dropout_drug = Dropout(0.1)(dense_drug)\n",
    "\n",
    "    concatenate = Concatenate()([dropout_cell_line, dropout_drug])\n",
    "    dense_1 = Dense(300, activation='tanh')(concatenate)\n",
    "    dropout_1 = Dropout(0.1)(dense_1)\n",
    "    reshape_1 = Reshape((300,1))(dropout_1)\n",
    "    conv_1 = Conv1D(filters=30, kernel_size=150, strides=1, activation='relu')(reshape_1)\n",
    "    maxpool_1 = MaxPooling1D(pool_size=2)(conv_1)\n",
    "    conv_2 = Conv1D(filters=10, kernel_size=5, strides=1, activation='relu')(maxpool_1)\n",
    "    maxpool_2 = MaxPooling1D(pool_size=3)(conv_2)\n",
    "    conv_3 = Conv1D(filters=5, kernel_size=5, strides=1, activation='relu')(maxpool_2)\n",
    "    maxpool_3 = MaxPooling1D(pool_size=3)(conv_3)\n",
    "    dropout_2 = Dropout(0.1)(maxpool_3)\n",
    "    flatten = Flatten()(dropout_2)\n",
    "    dropout_3 = Dropout(0.2)(flatten)\n",
    "    output = Dense(1, activation='linear', name='pred_lnIC50')(dropout_3)\n",
    "    model = Model(inputs=[input_cell, input_drug], outputs=output, name='MasterModel')\n",
    "\n"
   ]
  },
  {
   "cell_type": "code",
   "execution_count": 20,
   "metadata": {
    "scrolled": false
   },
   "outputs": [
    {
     "name": "stdout",
     "output_type": "stream",
     "text": [
      "__________________________________________________________________________________________________\n",
      "Layer (type)                    Output Shape         Param #     Connected to                     \n",
      "==================================================================================================\n",
      "cell_input (InputLayer)         (None, 21213, 1)     0                                            \n",
      "__________________________________________________________________________________________________\n",
      "drug_input (InputLayer)         (None, 2325, 1)      0                                            \n",
      "__________________________________________________________________________________________________\n",
      "conv1d_1 (Conv1D)               (None, 4103, 50)     35050       cell_input[0][0]                 \n",
      "__________________________________________________________________________________________________\n",
      "conv1d_3 (Conv1D)               (None, 709, 50)      10050       drug_input[0][0]                 \n",
      "__________________________________________________________________________________________________\n",
      "max_pooling1d_1 (MaxPooling1D)  (None, 820, 50)      0           conv1d_1[0][0]                   \n",
      "__________________________________________________________________________________________________\n",
      "max_pooling1d_3 (MaxPooling1D)  (None, 141, 50)      0           conv1d_3[0][0]                   \n",
      "__________________________________________________________________________________________________\n",
      "conv1d_2 (Conv1D)               (None, 408, 30)      7530        max_pooling1d_1[0][0]            \n",
      "__________________________________________________________________________________________________\n",
      "conv1d_4 (Conv1D)               (None, 19, 30)       75030       max_pooling1d_3[0][0]            \n",
      "__________________________________________________________________________________________________\n",
      "max_pooling1d_2 (MaxPooling1D)  (None, 40, 30)       0           conv1d_2[0][0]                   \n",
      "__________________________________________________________________________________________________\n",
      "max_pooling1d_4 (MaxPooling1D)  (None, 1, 30)        0           conv1d_4[0][0]                   \n",
      "__________________________________________________________________________________________________\n",
      "flatten_1 (Flatten)             (None, 1200)         0           max_pooling1d_2[0][0]            \n",
      "__________________________________________________________________________________________________\n",
      "flatten_2 (Flatten)             (None, 30)           0           max_pooling1d_4[0][0]            \n",
      "__________________________________________________________________________________________________\n",
      "dense_1 (Dense)                 (None, 100)          120100      flatten_1[0][0]                  \n",
      "__________________________________________________________________________________________________\n",
      "dense_2 (Dense)                 (None, 100)          3100        flatten_2[0][0]                  \n",
      "__________________________________________________________________________________________________\n",
      "dropout_1 (Dropout)             (None, 100)          0           dense_1[0][0]                    \n",
      "__________________________________________________________________________________________________\n",
      "dropout_2 (Dropout)             (None, 100)          0           dense_2[0][0]                    \n",
      "__________________________________________________________________________________________________\n",
      "concatenate_1 (Concatenate)     (None, 200)          0           dropout_1[0][0]                  \n",
      "                                                                 dropout_2[0][0]                  \n",
      "__________________________________________________________________________________________________\n",
      "dense_3 (Dense)                 (None, 300)          60300       concatenate_1[0][0]              \n",
      "__________________________________________________________________________________________________\n",
      "dropout_3 (Dropout)             (None, 300)          0           dense_3[0][0]                    \n",
      "__________________________________________________________________________________________________\n",
      "reshape_1 (Reshape)             (None, 300, 1)       0           dropout_3[0][0]                  \n",
      "__________________________________________________________________________________________________\n",
      "conv1d_5 (Conv1D)               (None, 151, 30)      4530        reshape_1[0][0]                  \n",
      "__________________________________________________________________________________________________\n",
      "max_pooling1d_5 (MaxPooling1D)  (None, 75, 30)       0           conv1d_5[0][0]                   \n",
      "__________________________________________________________________________________________________\n",
      "conv1d_6 (Conv1D)               (None, 71, 10)       1510        max_pooling1d_5[0][0]            \n",
      "__________________________________________________________________________________________________\n",
      "max_pooling1d_6 (MaxPooling1D)  (None, 23, 10)       0           conv1d_6[0][0]                   \n",
      "__________________________________________________________________________________________________\n",
      "conv1d_7 (Conv1D)               (None, 19, 5)        255         max_pooling1d_6[0][0]            \n",
      "__________________________________________________________________________________________________\n",
      "max_pooling1d_7 (MaxPooling1D)  (None, 6, 5)         0           conv1d_7[0][0]                   \n",
      "__________________________________________________________________________________________________\n",
      "dropout_4 (Dropout)             (None, 6, 5)         0           max_pooling1d_7[0][0]            \n",
      "__________________________________________________________________________________________________\n",
      "flatten_3 (Flatten)             (None, 30)           0           dropout_4[0][0]                  \n",
      "__________________________________________________________________________________________________\n",
      "dropout_5 (Dropout)             (None, 30)           0           flatten_3[0][0]                  \n",
      "__________________________________________________________________________________________________\n",
      "pred_lnIC50 (Dense)             (None, 1)            31          dropout_5[0][0]                  \n",
      "==================================================================================================\n",
      "Total params: 317,486\n",
      "Trainable params: 317,486\n",
      "Non-trainable params: 0\n",
      "__________________________________________________________________________________________________\n"
     ]
    }
   ],
   "source": [
    "model.summary()"
   ]
  },
  {
   "cell_type": "code",
   "execution_count": 21,
   "metadata": {},
   "outputs": [],
   "source": [
    "config = tf.ConfigProto()\n",
    "config.gpu_options.allow_growth = True\n",
    "sess = tf.Session(config=config)"
   ]
  },
  {
   "cell_type": "code",
   "execution_count": 22,
   "metadata": {
    "scrolled": true
   },
   "outputs": [
    {
     "name": "stdout",
     "output_type": "stream",
     "text": [
      "StartTime : 2019-05-16 14:41:55.492546\n",
      "Train on 7855 samples, validate on 872 samples\n",
      "Epoch 1/150\n",
      "7855/7855 [==============================] - 5s 595us/step - loss: 4.7123 - mean_squared_error: 4.7123 - mean_absolute_error: 1.9713 - val_loss: 4.7097 - val_mean_squared_error: 4.7097 - val_mean_absolute_error: 1.9492\n",
      "Epoch 2/150\n",
      "7855/7855 [==============================] - 3s 402us/step - loss: 4.6854 - mean_squared_error: 4.6854 - mean_absolute_error: 1.9628 - val_loss: 4.6894 - val_mean_squared_error: 4.6894 - val_mean_absolute_error: 1.9421\n",
      "Epoch 3/150\n",
      "7855/7855 [==============================] - 3s 399us/step - loss: 4.6594 - mean_squared_error: 4.6594 - mean_absolute_error: 1.9545 - val_loss: 4.6697 - val_mean_squared_error: 4.6697 - val_mean_absolute_error: 1.9350\n",
      "Epoch 4/150\n",
      "7855/7855 [==============================] - 3s 403us/step - loss: 4.6343 - mean_squared_error: 4.6343 - mean_absolute_error: 1.9464 - val_loss: 4.6508 - val_mean_squared_error: 4.6508 - val_mean_absolute_error: 1.9280\n",
      "Epoch 5/150\n",
      "7855/7855 [==============================] - 3s 401us/step - loss: 4.6098 - mean_squared_error: 4.6098 - mean_absolute_error: 1.9383 - val_loss: 4.6325 - val_mean_squared_error: 4.6325 - val_mean_absolute_error: 1.9212\n",
      "Epoch 6/150\n",
      "7855/7855 [==============================] - 3s 402us/step - loss: 4.5860 - mean_squared_error: 4.5860 - mean_absolute_error: 1.9304 - val_loss: 4.6149 - val_mean_squared_error: 4.6149 - val_mean_absolute_error: 1.9145\n",
      "Epoch 7/150\n",
      "7855/7855 [==============================] - 3s 399us/step - loss: 4.5627 - mean_squared_error: 4.5627 - mean_absolute_error: 1.9225 - val_loss: 4.5976 - val_mean_squared_error: 4.5976 - val_mean_absolute_error: 1.9078\n",
      "Epoch 8/150\n",
      "7855/7855 [==============================] - 3s 403us/step - loss: 4.5401 - mean_squared_error: 4.5401 - mean_absolute_error: 1.9148 - val_loss: 4.5812 - val_mean_squared_error: 4.5812 - val_mean_absolute_error: 1.9012\n",
      "Epoch 9/150\n",
      "7855/7855 [==============================] - 3s 399us/step - loss: 4.5181 - mean_squared_error: 4.5181 - mean_absolute_error: 1.9071 - val_loss: 4.5651 - val_mean_squared_error: 4.5651 - val_mean_absolute_error: 1.8947\n",
      "Epoch 10/150\n",
      "7855/7855 [==============================] - 3s 408us/step - loss: 4.4968 - mean_squared_error: 4.4968 - mean_absolute_error: 1.8995 - val_loss: 4.5496 - val_mean_squared_error: 4.5496 - val_mean_absolute_error: 1.8882\n",
      "Epoch 11/150\n",
      "7855/7855 [==============================] - 3s 399us/step - loss: 4.4759 - mean_squared_error: 4.4759 - mean_absolute_error: 1.8921 - val_loss: 4.5348 - val_mean_squared_error: 4.5348 - val_mean_absolute_error: 1.8818\n",
      "Epoch 12/150\n",
      "7855/7855 [==============================] - 3s 401us/step - loss: 4.4557 - mean_squared_error: 4.4557 - mean_absolute_error: 1.8846 - val_loss: 4.5204 - val_mean_squared_error: 4.5204 - val_mean_absolute_error: 1.8756\n",
      "Epoch 13/150\n",
      "7855/7855 [==============================] - 3s 404us/step - loss: 4.4361 - mean_squared_error: 4.4361 - mean_absolute_error: 1.8773 - val_loss: 4.5063 - val_mean_squared_error: 4.5063 - val_mean_absolute_error: 1.8693\n",
      "Epoch 14/150\n",
      "7855/7855 [==============================] - 3s 402us/step - loss: 4.4169 - mean_squared_error: 4.4169 - mean_absolute_error: 1.8701 - val_loss: 4.4929 - val_mean_squared_error: 4.4929 - val_mean_absolute_error: 1.8633\n",
      "Epoch 15/150\n",
      "7855/7855 [==============================] - 3s 401us/step - loss: 4.3984 - mean_squared_error: 4.3984 - mean_absolute_error: 1.8629 - val_loss: 4.4800 - val_mean_squared_error: 4.4800 - val_mean_absolute_error: 1.8573\n",
      "Epoch 16/150\n",
      "7855/7855 [==============================] - 3s 401us/step - loss: 4.3803 - mean_squared_error: 4.3803 - mean_absolute_error: 1.8559 - val_loss: 4.4675 - val_mean_squared_error: 4.4675 - val_mean_absolute_error: 1.8514\n",
      "Epoch 17/150\n",
      "7855/7855 [==============================] - 3s 400us/step - loss: 4.3627 - mean_squared_error: 4.3627 - mean_absolute_error: 1.8490 - val_loss: 4.4555 - val_mean_squared_error: 4.4555 - val_mean_absolute_error: 1.8455\n",
      "Epoch 18/150\n",
      "7855/7855 [==============================] - 3s 400us/step - loss: 4.3457 - mean_squared_error: 4.3457 - mean_absolute_error: 1.8420 - val_loss: 4.4438 - val_mean_squared_error: 4.4438 - val_mean_absolute_error: 1.8397\n",
      "Epoch 19/150\n",
      "7855/7855 [==============================] - 3s 401us/step - loss: 4.3292 - mean_squared_error: 4.3292 - mean_absolute_error: 1.8352 - val_loss: 4.4328 - val_mean_squared_error: 4.4328 - val_mean_absolute_error: 1.8340\n",
      "Epoch 20/150\n",
      "7855/7855 [==============================] - 3s 402us/step - loss: 4.3131 - mean_squared_error: 4.3131 - mean_absolute_error: 1.8284 - val_loss: 4.4223 - val_mean_squared_error: 4.4223 - val_mean_absolute_error: 1.8284\n",
      "Epoch 21/150\n",
      "7855/7855 [==============================] - 3s 399us/step - loss: 4.2975 - mean_squared_error: 4.2975 - mean_absolute_error: 1.8217 - val_loss: 4.4120 - val_mean_squared_error: 4.4120 - val_mean_absolute_error: 1.8228\n",
      "Epoch 22/150\n",
      "7855/7855 [==============================] - 3s 401us/step - loss: 4.2824 - mean_squared_error: 4.2824 - mean_absolute_error: 1.8152 - val_loss: 4.4022 - val_mean_squared_error: 4.4022 - val_mean_absolute_error: 1.8174\n",
      "Epoch 23/150\n",
      "7855/7855 [==============================] - 3s 400us/step - loss: 4.2678 - mean_squared_error: 4.2678 - mean_absolute_error: 1.8086 - val_loss: 4.3927 - val_mean_squared_error: 4.3927 - val_mean_absolute_error: 1.8120\n",
      "Epoch 24/150\n",
      "7855/7855 [==============================] - 3s 405us/step - loss: 4.2536 - mean_squared_error: 4.2536 - mean_absolute_error: 1.8022 - val_loss: 4.3836 - val_mean_squared_error: 4.3836 - val_mean_absolute_error: 1.8067\n",
      "Epoch 25/150\n",
      "7855/7855 [==============================] - 3s 402us/step - loss: 4.2399 - mean_squared_error: 4.2399 - mean_absolute_error: 1.7959 - val_loss: 4.3751 - val_mean_squared_error: 4.3751 - val_mean_absolute_error: 1.8016\n",
      "Epoch 26/150\n",
      "7855/7855 [==============================] - 3s 404us/step - loss: 4.2266 - mean_squared_error: 4.2266 - mean_absolute_error: 1.7896 - val_loss: 4.3670 - val_mean_squared_error: 4.3670 - val_mean_absolute_error: 1.7965\n",
      "Epoch 27/150\n",
      "7855/7855 [==============================] - 3s 399us/step - loss: 4.2137 - mean_squared_error: 4.2137 - mean_absolute_error: 1.7834 - val_loss: 4.3591 - val_mean_squared_error: 4.3591 - val_mean_absolute_error: 1.7915\n",
      "Epoch 28/150\n",
      "7855/7855 [==============================] - 3s 410us/step - loss: 4.2013 - mean_squared_error: 4.2013 - mean_absolute_error: 1.7772 - val_loss: 4.3516 - val_mean_squared_error: 4.3516 - val_mean_absolute_error: 1.7866\n",
      "Epoch 29/150\n",
      "7855/7855 [==============================] - 3s 396us/step - loss: 4.1893 - mean_squared_error: 4.1893 - mean_absolute_error: 1.7711 - val_loss: 4.3444 - val_mean_squared_error: 4.3444 - val_mean_absolute_error: 1.7817\n",
      "Epoch 30/150\n",
      "7855/7855 [==============================] - 3s 411us/step - loss: 4.1776 - mean_squared_error: 4.1776 - mean_absolute_error: 1.7652 - val_loss: 4.3378 - val_mean_squared_error: 4.3378 - val_mean_absolute_error: 1.7771\n",
      "Epoch 31/150\n",
      "7855/7855 [==============================] - 3s 406us/step - loss: 4.1664 - mean_squared_error: 4.1664 - mean_absolute_error: 1.7593 - val_loss: 4.3313 - val_mean_squared_error: 4.3313 - val_mean_absolute_error: 1.7724\n",
      "Epoch 32/150\n",
      "7855/7855 [==============================] - 3s 406us/step - loss: 4.1555 - mean_squared_error: 4.1555 - mean_absolute_error: 1.7535 - val_loss: 4.3252 - val_mean_squared_error: 4.3252 - val_mean_absolute_error: 1.7678\n",
      "Epoch 33/150\n",
      "7855/7855 [==============================] - 3s 406us/step - loss: 4.1450 - mean_squared_error: 4.1450 - mean_absolute_error: 1.7477 - val_loss: 4.3194 - val_mean_squared_error: 4.3194 - val_mean_absolute_error: 1.7632\n",
      "Epoch 34/150\n",
      "7855/7855 [==============================] - 3s 399us/step - loss: 4.1349 - mean_squared_error: 4.1349 - mean_absolute_error: 1.7420 - val_loss: 4.3140 - val_mean_squared_error: 4.3140 - val_mean_absolute_error: 1.7587\n",
      "Epoch 35/150\n",
      "7855/7855 [==============================] - 3s 405us/step - loss: 4.1251 - mean_squared_error: 4.1251 - mean_absolute_error: 1.7365 - val_loss: 4.3090 - val_mean_squared_error: 4.3090 - val_mean_absolute_error: 1.7543\n"
     ]
    },
    {
     "name": "stdout",
     "output_type": "stream",
     "text": [
      "Epoch 36/150\n",
      "7855/7855 [==============================] - 3s 399us/step - loss: 4.1158 - mean_squared_error: 4.1158 - mean_absolute_error: 1.7309 - val_loss: 4.3040 - val_mean_squared_error: 4.3040 - val_mean_absolute_error: 1.7498\n",
      "Epoch 37/150\n",
      "7855/7855 [==============================] - 3s 410us/step - loss: 4.1067 - mean_squared_error: 4.1067 - mean_absolute_error: 1.7255 - val_loss: 4.2996 - val_mean_squared_error: 4.2996 - val_mean_absolute_error: 1.7457\n",
      "Epoch 38/150\n",
      "7855/7855 [==============================] - 3s 402us/step - loss: 4.0980 - mean_squared_error: 4.0980 - mean_absolute_error: 1.7201 - val_loss: 4.2954 - val_mean_squared_error: 4.2954 - val_mean_absolute_error: 1.7415\n",
      "Epoch 39/150\n",
      "7855/7855 [==============================] - 3s 415us/step - loss: 4.0897 - mean_squared_error: 4.0897 - mean_absolute_error: 1.7149 - val_loss: 4.2914 - val_mean_squared_error: 4.2914 - val_mean_absolute_error: 1.7373\n",
      "Epoch 40/150\n",
      "7855/7855 [==============================] - 3s 398us/step - loss: 4.0817 - mean_squared_error: 4.0817 - mean_absolute_error: 1.7098 - val_loss: 4.2878 - val_mean_squared_error: 4.2878 - val_mean_absolute_error: 1.7332\n",
      "Epoch 41/150\n",
      "7855/7855 [==============================] - 3s 415us/step - loss: 4.0739 - mean_squared_error: 4.0739 - mean_absolute_error: 1.7046 - val_loss: 4.2844 - val_mean_squared_error: 4.2844 - val_mean_absolute_error: 1.7292\n",
      "Epoch 42/150\n",
      "7855/7855 [==============================] - 3s 401us/step - loss: 4.0664 - mean_squared_error: 4.0664 - mean_absolute_error: 1.6996 - val_loss: 4.2813 - val_mean_squared_error: 4.2813 - val_mean_absolute_error: 1.7253\n",
      "Epoch 43/150\n",
      "7855/7855 [==============================] - 3s 405us/step - loss: 4.0593 - mean_squared_error: 4.0593 - mean_absolute_error: 1.6946 - val_loss: 4.2783 - val_mean_squared_error: 4.2783 - val_mean_absolute_error: 1.7213\n",
      "Epoch 44/150\n",
      "7855/7855 [==============================] - 3s 402us/step - loss: 4.0525 - mean_squared_error: 4.0525 - mean_absolute_error: 1.6896 - val_loss: 4.2756 - val_mean_squared_error: 4.2756 - val_mean_absolute_error: 1.7175\n",
      "Epoch 45/150\n",
      "7855/7855 [==============================] - 3s 398us/step - loss: 4.0460 - mean_squared_error: 4.0460 - mean_absolute_error: 1.6849 - val_loss: 4.2732 - val_mean_squared_error: 4.2732 - val_mean_absolute_error: 1.7138\n",
      "Epoch 46/150\n",
      "7855/7855 [==============================] - 3s 410us/step - loss: 4.0398 - mean_squared_error: 4.0398 - mean_absolute_error: 1.6801 - val_loss: 4.2710 - val_mean_squared_error: 4.2710 - val_mean_absolute_error: 1.7102\n",
      "Epoch 47/150\n",
      "7855/7855 [==============================] - 3s 397us/step - loss: 4.0338 - mean_squared_error: 4.0338 - mean_absolute_error: 1.6755 - val_loss: 4.2691 - val_mean_squared_error: 4.2691 - val_mean_absolute_error: 1.7067\n",
      "Epoch 48/150\n",
      "7855/7855 [==============================] - 3s 410us/step - loss: 4.0281 - mean_squared_error: 4.0281 - mean_absolute_error: 1.6710 - val_loss: 4.2673 - val_mean_squared_error: 4.2673 - val_mean_absolute_error: 1.7032\n",
      "Epoch 49/150\n",
      "7855/7855 [==============================] - 3s 399us/step - loss: 4.0227 - mean_squared_error: 4.0227 - mean_absolute_error: 1.6665 - val_loss: 4.2658 - val_mean_squared_error: 4.2658 - val_mean_absolute_error: 1.6999\n",
      "Epoch 50/150\n",
      "7855/7855 [==============================] - 3s 408us/step - loss: 4.0176 - mean_squared_error: 4.0176 - mean_absolute_error: 1.6622 - val_loss: 4.2645 - val_mean_squared_error: 4.2645 - val_mean_absolute_error: 1.6965\n",
      "Epoch 51/150\n",
      "7855/7855 [==============================] - 3s 396us/step - loss: 4.0127 - mean_squared_error: 4.0127 - mean_absolute_error: 1.6578 - val_loss: 4.2633 - val_mean_squared_error: 4.2633 - val_mean_absolute_error: 1.6933\n",
      "Epoch 52/150\n",
      "7855/7855 [==============================] - 3s 407us/step - loss: 4.0080 - mean_squared_error: 4.0080 - mean_absolute_error: 1.6535 - val_loss: 4.2623 - val_mean_squared_error: 4.2623 - val_mean_absolute_error: 1.6900\n",
      "Epoch 53/150\n",
      "7855/7855 [==============================] - 3s 402us/step - loss: 4.0036 - mean_squared_error: 4.0036 - mean_absolute_error: 1.6493 - val_loss: 4.2616 - val_mean_squared_error: 4.2616 - val_mean_absolute_error: 1.6869\n",
      "Epoch 54/150\n",
      "7855/7855 [==============================] - 3s 397us/step - loss: 3.9994 - mean_squared_error: 3.9994 - mean_absolute_error: 1.6451 - val_loss: 4.2609 - val_mean_squared_error: 4.2609 - val_mean_absolute_error: 1.6838\n",
      "Epoch 55/150\n",
      "7855/7855 [==============================] - 3s 413us/step - loss: 3.9955 - mean_squared_error: 3.9955 - mean_absolute_error: 1.6412 - val_loss: 4.2605 - val_mean_squared_error: 4.2605 - val_mean_absolute_error: 1.6808\n",
      "Epoch 56/150\n",
      "7855/7855 [==============================] - 3s 400us/step - loss: 3.9917 - mean_squared_error: 3.9917 - mean_absolute_error: 1.6374 - val_loss: 4.2602 - val_mean_squared_error: 4.2602 - val_mean_absolute_error: 1.6779\n",
      "Epoch 57/150\n",
      "7855/7855 [==============================] - 3s 408us/step - loss: 3.9882 - mean_squared_error: 3.9882 - mean_absolute_error: 1.6333 - val_loss: 4.2600 - val_mean_squared_error: 4.2600 - val_mean_absolute_error: 1.6748\n",
      "Epoch 58/150\n",
      "7855/7855 [==============================] - 3s 401us/step - loss: 3.9848 - mean_squared_error: 3.9848 - mean_absolute_error: 1.6296 - val_loss: 4.2600 - val_mean_squared_error: 4.2600 - val_mean_absolute_error: 1.6720\n",
      "Epoch 59/150\n",
      "7855/7855 [==============================] - 3s 415us/step - loss: 3.9817 - mean_squared_error: 3.9817 - mean_absolute_error: 1.6261 - val_loss: 4.2600 - val_mean_squared_error: 4.2600 - val_mean_absolute_error: 1.6694\n",
      "Epoch 60/150\n",
      "7855/7855 [==============================] - 3s 401us/step - loss: 3.9788 - mean_squared_error: 3.9788 - mean_absolute_error: 1.6223 - val_loss: 4.2603 - val_mean_squared_error: 4.2603 - val_mean_absolute_error: 1.6666\n",
      "Epoch 61/150\n",
      "7855/7855 [==============================] - 3s 411us/step - loss: 3.9760 - mean_squared_error: 3.9760 - mean_absolute_error: 1.6189 - val_loss: 4.2606 - val_mean_squared_error: 4.2606 - val_mean_absolute_error: 1.6639\n",
      "Epoch 62/150\n",
      "7855/7855 [==============================] - 3s 399us/step - loss: 3.9735 - mean_squared_error: 3.9735 - mean_absolute_error: 1.6155 - val_loss: 4.2610 - val_mean_squared_error: 4.2610 - val_mean_absolute_error: 1.6613\n",
      "Epoch 63/150\n",
      "7855/7855 [==============================] - 3s 416us/step - loss: 3.9711 - mean_squared_error: 3.9711 - mean_absolute_error: 1.6122 - val_loss: 4.2615 - val_mean_squared_error: 4.2615 - val_mean_absolute_error: 1.6589\n",
      "Epoch 64/150\n",
      "7855/7855 [==============================] - 3s 402us/step - loss: 3.9689 - mean_squared_error: 3.9689 - mean_absolute_error: 1.6090 - val_loss: 4.2621 - val_mean_squared_error: 4.2621 - val_mean_absolute_error: 1.6564\n",
      "Epoch 65/150\n",
      "7855/7855 [==============================] - 3s 407us/step - loss: 3.9668 - mean_squared_error: 3.9668 - mean_absolute_error: 1.6060 - val_loss: 4.2628 - val_mean_squared_error: 4.2628 - val_mean_absolute_error: 1.6542\n",
      "Epoch 66/150\n",
      "7855/7855 [==============================] - 3s 405us/step - loss: 3.9649 - mean_squared_error: 3.9649 - mean_absolute_error: 1.6029 - val_loss: 4.2636 - val_mean_squared_error: 4.2636 - val_mean_absolute_error: 1.6518\n",
      "Epoch 67/150\n",
      "7855/7855 [==============================] - 3s 399us/step - loss: 3.9632 - mean_squared_error: 3.9632 - mean_absolute_error: 1.5998 - val_loss: 4.2644 - val_mean_squared_error: 4.2644 - val_mean_absolute_error: 1.6496\n",
      "Epoch 68/150\n",
      "7855/7855 [==============================] - 3s 416us/step - loss: 3.9615 - mean_squared_error: 3.9615 - mean_absolute_error: 1.5974 - val_loss: 4.2652 - val_mean_squared_error: 4.2652 - val_mean_absolute_error: 1.6476\n",
      "Epoch 69/150\n",
      "7855/7855 [==============================] - 3s 403us/step - loss: 3.9600 - mean_squared_error: 3.9600 - mean_absolute_error: 1.5944 - val_loss: 4.2662 - val_mean_squared_error: 4.2662 - val_mean_absolute_error: 1.6455\n",
      "Epoch 70/150\n",
      "7855/7855 [==============================] - 3s 411us/step - loss: 3.9585 - mean_squared_error: 3.9585 - mean_absolute_error: 1.5917 - val_loss: 4.2672 - val_mean_squared_error: 4.2672 - val_mean_absolute_error: 1.6435\n",
      "Epoch 71/150\n",
      "7855/7855 [==============================] - 3s 398us/step - loss: 3.9572 - mean_squared_error: 3.9572 - mean_absolute_error: 1.5889 - val_loss: 4.2681 - val_mean_squared_error: 4.2681 - val_mean_absolute_error: 1.6416\n",
      "Epoch 72/150\n",
      "7855/7855 [==============================] - 3s 408us/step - loss: 3.9560 - mean_squared_error: 3.9560 - mean_absolute_error: 1.5865 - val_loss: 4.2692 - val_mean_squared_error: 4.2692 - val_mean_absolute_error: 1.6397\n",
      "Epoch 73/150\n",
      "7855/7855 [==============================] - 3s 398us/step - loss: 3.9549 - mean_squared_error: 3.9549 - mean_absolute_error: 1.5843 - val_loss: 4.2702 - val_mean_squared_error: 4.2702 - val_mean_absolute_error: 1.6380\n",
      "Epoch 74/150\n",
      "7855/7855 [==============================] - 3s 416us/step - loss: 3.9540 - mean_squared_error: 3.9540 - mean_absolute_error: 1.5817 - val_loss: 4.2713 - val_mean_squared_error: 4.2713 - val_mean_absolute_error: 1.6362\n",
      "Epoch 75/150\n",
      "7855/7855 [==============================] - 3s 401us/step - loss: 3.9530 - mean_squared_error: 3.9530 - mean_absolute_error: 1.5798 - val_loss: 4.2723 - val_mean_squared_error: 4.2723 - val_mean_absolute_error: 1.6347\n",
      "Epoch 76/150\n",
      "7855/7855 [==============================] - 3s 406us/step - loss: 3.9522 - mean_squared_error: 3.9522 - mean_absolute_error: 1.5776 - val_loss: 4.2735 - val_mean_squared_error: 4.2735 - val_mean_absolute_error: 1.6330\n",
      "Epoch 77/150\n",
      "7855/7855 [==============================] - 3s 406us/step - loss: 3.9514 - mean_squared_error: 3.9514 - mean_absolute_error: 1.5756 - val_loss: 4.2744 - val_mean_squared_error: 4.2744 - val_mean_absolute_error: 1.6316\n",
      "Epoch 78/150\n",
      "7855/7855 [==============================] - 3s 401us/step - loss: 3.9508 - mean_squared_error: 3.9508 - mean_absolute_error: 1.5738 - val_loss: 4.2754 - val_mean_squared_error: 4.2754 - val_mean_absolute_error: 1.6303\n",
      "Epoch 79/150\n",
      "7855/7855 [==============================] - 3s 415us/step - loss: 3.9501 - mean_squared_error: 3.9501 - mean_absolute_error: 1.5717 - val_loss: 4.2767 - val_mean_squared_error: 4.2767 - val_mean_absolute_error: 1.6287\n",
      "Epoch 80/150\n",
      "7855/7855 [==============================] - 3s 400us/step - loss: 3.9496 - mean_squared_error: 3.9496 - mean_absolute_error: 1.5700 - val_loss: 4.2776 - val_mean_squared_error: 4.2776 - val_mean_absolute_error: 1.6275\n",
      "Epoch 81/150\n",
      "7855/7855 [==============================] - 3s 420us/step - loss: 3.9491 - mean_squared_error: 3.9491 - mean_absolute_error: 1.5682 - val_loss: 4.2786 - val_mean_squared_error: 4.2786 - val_mean_absolute_error: 1.6263\n",
      "Epoch 82/150\n",
      "7855/7855 [==============================] - 3s 399us/step - loss: 3.9487 - mean_squared_error: 3.9487 - mean_absolute_error: 1.5664 - val_loss: 4.2797 - val_mean_squared_error: 4.2797 - val_mean_absolute_error: 1.6250\n",
      "Epoch 83/150\n",
      "7855/7855 [==============================] - 3s 410us/step - loss: 3.9482 - mean_squared_error: 3.9482 - mean_absolute_error: 1.5651 - val_loss: 4.2807 - val_mean_squared_error: 4.2807 - val_mean_absolute_error: 1.6240\n",
      "Epoch 84/150\n",
      "7855/7855 [==============================] - 3s 401us/step - loss: 3.9479 - mean_squared_error: 3.9479 - mean_absolute_error: 1.5634 - val_loss: 4.2817 - val_mean_squared_error: 4.2817 - val_mean_absolute_error: 1.6228\n",
      "Epoch 85/150\n",
      "7855/7855 [==============================] - 3s 411us/step - loss: 3.9476 - mean_squared_error: 3.9476 - mean_absolute_error: 1.5619 - val_loss: 4.2825 - val_mean_squared_error: 4.2825 - val_mean_absolute_error: 1.6219\n",
      "Epoch 86/150\n",
      "7855/7855 [==============================] - 3s 402us/step - loss: 3.9473 - mean_squared_error: 3.9473 - mean_absolute_error: 1.5607 - val_loss: 4.2834 - val_mean_squared_error: 4.2834 - val_mean_absolute_error: 1.6210\n",
      "Epoch 87/150\n",
      "7855/7855 [==============================] - 3s 404us/step - loss: 3.9470 - mean_squared_error: 3.9470 - mean_absolute_error: 1.5594 - val_loss: 4.2844 - val_mean_squared_error: 4.2844 - val_mean_absolute_error: 1.6200\n",
      "Epoch 88/150\n",
      "7855/7855 [==============================] - 3s 400us/step - loss: 3.9468 - mean_squared_error: 3.9468 - mean_absolute_error: 1.5584 - val_loss: 4.2851 - val_mean_squared_error: 4.2851 - val_mean_absolute_error: 1.6193\n",
      "Epoch 89/150\n",
      "7855/7855 [==============================] - 3s 400us/step - loss: 3.9466 - mean_squared_error: 3.9466 - mean_absolute_error: 1.5573 - val_loss: 4.2860 - val_mean_squared_error: 4.2860 - val_mean_absolute_error: 1.6183\n",
      "Epoch 90/150\n",
      "7855/7855 [==============================] - 3s 410us/step - loss: 3.9464 - mean_squared_error: 3.9464 - mean_absolute_error: 1.5563 - val_loss: 4.2867 - val_mean_squared_error: 4.2867 - val_mean_absolute_error: 1.6177\n",
      "Epoch 91/150\n",
      "7855/7855 [==============================] - 3s 398us/step - loss: 3.9463 - mean_squared_error: 3.9463 - mean_absolute_error: 1.5550 - val_loss: 4.2876 - val_mean_squared_error: 4.2876 - val_mean_absolute_error: 1.6168\n",
      "Epoch 92/150\n",
      "7855/7855 [==============================] - 3s 408us/step - loss: 3.9461 - mean_squared_error: 3.9461 - mean_absolute_error: 1.5542 - val_loss: 4.2882 - val_mean_squared_error: 4.2882 - val_mean_absolute_error: 1.6163\n",
      "Epoch 93/150\n",
      "7855/7855 [==============================] - 3s 398us/step - loss: 3.9460 - mean_squared_error: 3.9460 - mean_absolute_error: 1.5530 - val_loss: 4.2891 - val_mean_squared_error: 4.2891 - val_mean_absolute_error: 1.6154\n",
      "Epoch 94/150\n",
      "7855/7855 [==============================] - 3s 408us/step - loss: 3.9459 - mean_squared_error: 3.9459 - mean_absolute_error: 1.5525 - val_loss: 4.2893 - val_mean_squared_error: 4.2893 - val_mean_absolute_error: 1.6152\n",
      "Epoch 95/150\n",
      "7855/7855 [==============================] - 3s 400us/step - loss: 3.9458 - mean_squared_error: 3.9458 - mean_absolute_error: 1.5519 - val_loss: 4.2901 - val_mean_squared_error: 4.2901 - val_mean_absolute_error: 1.6145\n",
      "Epoch 96/150\n",
      "7855/7855 [==============================] - 3s 407us/step - loss: 3.9457 - mean_squared_error: 3.9457 - mean_absolute_error: 1.5507 - val_loss: 4.2906 - val_mean_squared_error: 4.2906 - val_mean_absolute_error: 1.6140\n",
      "Epoch 97/150\n",
      "7855/7855 [==============================] - 3s 400us/step - loss: 3.9457 - mean_squared_error: 3.9457 - mean_absolute_error: 1.5504 - val_loss: 4.2912 - val_mean_squared_error: 4.2912 - val_mean_absolute_error: 1.6135\n",
      "Epoch 98/150\n",
      "7855/7855 [==============================] - 3s 405us/step - loss: 3.9456 - mean_squared_error: 3.9456 - mean_absolute_error: 1.5497 - val_loss: 4.2917 - val_mean_squared_error: 4.2917 - val_mean_absolute_error: 1.6130\n",
      "Epoch 99/150\n",
      "7855/7855 [==============================] - 3s 404us/step - loss: 3.9455 - mean_squared_error: 3.9455 - mean_absolute_error: 1.5492 - val_loss: 4.2920 - val_mean_squared_error: 4.2920 - val_mean_absolute_error: 1.6128\n",
      "Epoch 100/150\n",
      "7855/7855 [==============================] - 3s 397us/step - loss: 3.9455 - mean_squared_error: 3.9455 - mean_absolute_error: 1.5485 - val_loss: 4.2926 - val_mean_squared_error: 4.2926 - val_mean_absolute_error: 1.6122\n",
      "Epoch 101/150\n",
      "7855/7855 [==============================] - 3s 414us/step - loss: 3.9455 - mean_squared_error: 3.9455 - mean_absolute_error: 1.5479 - val_loss: 4.2930 - val_mean_squared_error: 4.2930 - val_mean_absolute_error: 1.6119\n",
      "Epoch 102/150\n",
      "7855/7855 [==============================] - 3s 398us/step - loss: 3.9454 - mean_squared_error: 3.9454 - mean_absolute_error: 1.5474 - val_loss: 4.2934 - val_mean_squared_error: 4.2934 - val_mean_absolute_error: 1.6116\n",
      "Epoch 103/150\n",
      "7855/7855 [==============================] - 3s 412us/step - loss: 3.9454 - mean_squared_error: 3.9454 - mean_absolute_error: 1.5470 - val_loss: 4.2936 - val_mean_squared_error: 4.2936 - val_mean_absolute_error: 1.6114\n",
      "Epoch 104/150\n",
      "7855/7855 [==============================] - 3s 401us/step - loss: 3.9454 - mean_squared_error: 3.9454 - mean_absolute_error: 1.5469 - val_loss: 4.2939 - val_mean_squared_error: 4.2939 - val_mean_absolute_error: 1.6111\n",
      "Epoch 105/150\n",
      "7855/7855 [==============================] - 3s 410us/step - loss: 3.9454 - mean_squared_error: 3.9454 - mean_absolute_error: 1.5466 - val_loss: 4.2942 - val_mean_squared_error: 4.2942 - val_mean_absolute_error: 1.6109\n",
      "Epoch 106/150\n"
     ]
    },
    {
     "name": "stdout",
     "output_type": "stream",
     "text": [
      "7855/7855 [==============================] - 3s 395us/step - loss: 3.9453 - mean_squared_error: 3.9453 - mean_absolute_error: 1.5462 - val_loss: 4.2947 - val_mean_squared_error: 4.2947 - val_mean_absolute_error: 1.6104\n",
      "Epoch 107/150\n",
      "7855/7855 [==============================] - 3s 413us/step - loss: 3.9453 - mean_squared_error: 3.9453 - mean_absolute_error: 1.5458 - val_loss: 4.2949 - val_mean_squared_error: 4.2949 - val_mean_absolute_error: 1.6102\n",
      "Epoch 108/150\n",
      "7855/7855 [==============================] - 3s 400us/step - loss: 3.9453 - mean_squared_error: 3.9453 - mean_absolute_error: 1.5453 - val_loss: 4.2952 - val_mean_squared_error: 4.2952 - val_mean_absolute_error: 1.6100\n",
      "Epoch 109/150\n",
      "7855/7855 [==============================] - 3s 409us/step - loss: 3.9453 - mean_squared_error: 3.9453 - mean_absolute_error: 1.5449 - val_loss: 4.2956 - val_mean_squared_error: 4.2956 - val_mean_absolute_error: 1.6097\n",
      "Epoch 110/150\n",
      "7855/7855 [==============================] - 3s 402us/step - loss: 3.9453 - mean_squared_error: 3.9453 - mean_absolute_error: 1.5451 - val_loss: 4.2956 - val_mean_squared_error: 4.2956 - val_mean_absolute_error: 1.6097\n",
      "Epoch 111/150\n",
      "7855/7855 [==============================] - 3s 399us/step - loss: 3.9453 - mean_squared_error: 3.9453 - mean_absolute_error: 1.5447 - val_loss: 4.2959 - val_mean_squared_error: 4.2959 - val_mean_absolute_error: 1.6094\n",
      "Epoch 112/150\n",
      "7855/7855 [==============================] - 3s 410us/step - loss: 3.9453 - mean_squared_error: 3.9453 - mean_absolute_error: 1.5440 - val_loss: 4.2962 - val_mean_squared_error: 4.2962 - val_mean_absolute_error: 1.6091\n",
      "Epoch 113/150\n",
      "7855/7855 [==============================] - 3s 398us/step - loss: 3.9452 - mean_squared_error: 3.9452 - mean_absolute_error: 1.5439 - val_loss: 4.2964 - val_mean_squared_error: 4.2964 - val_mean_absolute_error: 1.6090\n",
      "Epoch 114/150\n",
      "7855/7855 [==============================] - 3s 416us/step - loss: 3.9453 - mean_squared_error: 3.9453 - mean_absolute_error: 1.5436 - val_loss: 4.2966 - val_mean_squared_error: 4.2966 - val_mean_absolute_error: 1.6088\n",
      "Epoch 115/150\n",
      "7855/7855 [==============================] - 3s 400us/step - loss: 3.9453 - mean_squared_error: 3.9453 - mean_absolute_error: 1.5436 - val_loss: 4.2966 - val_mean_squared_error: 4.2966 - val_mean_absolute_error: 1.6089\n",
      "Epoch 116/150\n",
      "7855/7855 [==============================] - 3s 410us/step - loss: 3.9452 - mean_squared_error: 3.9452 - mean_absolute_error: 1.5434 - val_loss: 4.2967 - val_mean_squared_error: 4.2967 - val_mean_absolute_error: 1.6088\n",
      "Epoch 117/150\n",
      "7855/7855 [==============================] - 3s 397us/step - loss: 3.9453 - mean_squared_error: 3.9453 - mean_absolute_error: 1.5433 - val_loss: 4.2969 - val_mean_squared_error: 4.2969 - val_mean_absolute_error: 1.6086\n",
      "Epoch 118/150\n",
      "7855/7855 [==============================] - 3s 409us/step - loss: 3.9453 - mean_squared_error: 3.9453 - mean_absolute_error: 1.5436 - val_loss: 4.2969 - val_mean_squared_error: 4.2969 - val_mean_absolute_error: 1.6086\n",
      "Epoch 119/150\n",
      "7855/7855 [==============================] - 3s 402us/step - loss: 3.9452 - mean_squared_error: 3.9452 - mean_absolute_error: 1.5430 - val_loss: 4.2972 - val_mean_squared_error: 4.2972 - val_mean_absolute_error: 1.6084\n",
      "Epoch 120/150\n",
      "7855/7855 [==============================] - 3s 407us/step - loss: 3.9452 - mean_squared_error: 3.9452 - mean_absolute_error: 1.5433 - val_loss: 4.2972 - val_mean_squared_error: 4.2972 - val_mean_absolute_error: 1.6083\n",
      "Epoch 121/150\n",
      "7855/7855 [==============================] - 3s 407us/step - loss: 3.9453 - mean_squared_error: 3.9453 - mean_absolute_error: 1.5429 - val_loss: 4.2973 - val_mean_squared_error: 4.2973 - val_mean_absolute_error: 1.6083\n",
      "Epoch 122/150\n",
      "7855/7855 [==============================] - 3s 399us/step - loss: 3.9452 - mean_squared_error: 3.9452 - mean_absolute_error: 1.5427 - val_loss: 4.2975 - val_mean_squared_error: 4.2975 - val_mean_absolute_error: 1.6081\n",
      "Epoch 123/150\n",
      "7855/7855 [==============================] - 3s 412us/step - loss: 3.9452 - mean_squared_error: 3.9452 - mean_absolute_error: 1.5428 - val_loss: 4.2976 - val_mean_squared_error: 4.2976 - val_mean_absolute_error: 1.6080\n",
      "Epoch 124/150\n",
      "7855/7855 [==============================] - 3s 401us/step - loss: 3.9452 - mean_squared_error: 3.9452 - mean_absolute_error: 1.5426 - val_loss: 4.2975 - val_mean_squared_error: 4.2975 - val_mean_absolute_error: 1.6081\n",
      "Epoch 125/150\n",
      "7855/7855 [==============================] - 3s 411us/step - loss: 3.9452 - mean_squared_error: 3.9452 - mean_absolute_error: 1.5421 - val_loss: 4.2979 - val_mean_squared_error: 4.2979 - val_mean_absolute_error: 1.6078\n",
      "Epoch 126/150\n",
      "7855/7855 [==============================] - 3s 399us/step - loss: 3.9452 - mean_squared_error: 3.9452 - mean_absolute_error: 1.5425 - val_loss: 4.2977 - val_mean_squared_error: 4.2977 - val_mean_absolute_error: 1.6079\n",
      "Epoch 127/150\n",
      "7855/7855 [==============================] - 3s 414us/step - loss: 3.9452 - mean_squared_error: 3.9452 - mean_absolute_error: 1.5420 - val_loss: 4.2980 - val_mean_squared_error: 4.2980 - val_mean_absolute_error: 1.6077\n",
      "Epoch 128/150\n",
      "7855/7855 [==============================] - 3s 402us/step - loss: 3.9453 - mean_squared_error: 3.9453 - mean_absolute_error: 1.5425 - val_loss: 4.2977 - val_mean_squared_error: 4.2977 - val_mean_absolute_error: 1.6080\n",
      "Epoch 129/150\n",
      "7855/7855 [==============================] - 3s 414us/step - loss: 3.9452 - mean_squared_error: 3.9452 - mean_absolute_error: 1.5420 - val_loss: 4.2981 - val_mean_squared_error: 4.2981 - val_mean_absolute_error: 1.6076\n",
      "Epoch 130/150\n",
      "7855/7855 [==============================] - 3s 401us/step - loss: 3.9452 - mean_squared_error: 3.9452 - mean_absolute_error: 1.5421 - val_loss: 4.2980 - val_mean_squared_error: 4.2980 - val_mean_absolute_error: 1.6077\n",
      "Epoch 131/150\n",
      "7855/7855 [==============================] - 3s 407us/step - loss: 3.9452 - mean_squared_error: 3.9452 - mean_absolute_error: 1.5417 - val_loss: 4.2983 - val_mean_squared_error: 4.2983 - val_mean_absolute_error: 1.6074\n",
      "Epoch 132/150\n",
      "7855/7855 [==============================] - 3s 408us/step - loss: 3.9452 - mean_squared_error: 3.9452 - mean_absolute_error: 1.5416 - val_loss: 4.2984 - val_mean_squared_error: 4.2984 - val_mean_absolute_error: 1.6074\n",
      "Epoch 133/150\n",
      "7855/7855 [==============================] - 3s 402us/step - loss: 3.9452 - mean_squared_error: 3.9452 - mean_absolute_error: 1.5412 - val_loss: 4.2986 - val_mean_squared_error: 4.2986 - val_mean_absolute_error: 1.6072\n",
      "Epoch 134/150\n",
      "7855/7855 [==============================] - 3s 417us/step - loss: 3.9452 - mean_squared_error: 3.9452 - mean_absolute_error: 1.5417 - val_loss: 4.2985 - val_mean_squared_error: 4.2985 - val_mean_absolute_error: 1.6073\n",
      "Epoch 135/150\n",
      "7855/7855 [==============================] - 3s 408us/step - loss: 3.9452 - mean_squared_error: 3.9452 - mean_absolute_error: 1.5417 - val_loss: 4.2984 - val_mean_squared_error: 4.2984 - val_mean_absolute_error: 1.6074\n",
      "Epoch 136/150\n",
      "7855/7855 [==============================] - 3s 416us/step - loss: 3.9452 - mean_squared_error: 3.9452 - mean_absolute_error: 1.5419 - val_loss: 4.2984 - val_mean_squared_error: 4.2984 - val_mean_absolute_error: 1.6074\n",
      "Epoch 137/150\n",
      "7855/7855 [==============================] - 3s 408us/step - loss: 3.9452 - mean_squared_error: 3.9452 - mean_absolute_error: 1.5412 - val_loss: 4.2989 - val_mean_squared_error: 4.2989 - val_mean_absolute_error: 1.6070\n",
      "Epoch 138/150\n",
      "7855/7855 [==============================] - 3s 410us/step - loss: 3.9452 - mean_squared_error: 3.9452 - mean_absolute_error: 1.5412 - val_loss: 4.2987 - val_mean_squared_error: 4.2987 - val_mean_absolute_error: 1.6072\n",
      "Epoch 139/150\n",
      "7855/7855 [==============================] - 3s 412us/step - loss: 3.9452 - mean_squared_error: 3.9452 - mean_absolute_error: 1.5412 - val_loss: 4.2986 - val_mean_squared_error: 4.2986 - val_mean_absolute_error: 1.6072\n",
      "Epoch 140/150\n",
      "7855/7855 [==============================] - 3s 413us/step - loss: 3.9452 - mean_squared_error: 3.9452 - mean_absolute_error: 1.5412 - val_loss: 4.2986 - val_mean_squared_error: 4.2986 - val_mean_absolute_error: 1.6072\n",
      "Epoch 141/150\n",
      "7855/7855 [==============================] - 3s 408us/step - loss: 3.9452 - mean_squared_error: 3.9452 - mean_absolute_error: 1.5418 - val_loss: 4.2985 - val_mean_squared_error: 4.2985 - val_mean_absolute_error: 1.6073\n",
      "Epoch 142/150\n",
      "7855/7855 [==============================] - 3s 423us/step - loss: 3.9452 - mean_squared_error: 3.9452 - mean_absolute_error: 1.5412 - val_loss: 4.2988 - val_mean_squared_error: 4.2988 - val_mean_absolute_error: 1.6071\n",
      "Epoch 143/150\n",
      "7855/7855 [==============================] - 3s 410us/step - loss: 3.9452 - mean_squared_error: 3.9452 - mean_absolute_error: 1.5415 - val_loss: 4.2986 - val_mean_squared_error: 4.2986 - val_mean_absolute_error: 1.6072\n",
      "Epoch 144/150\n",
      "7855/7855 [==============================] - 3s 413us/step - loss: 3.9452 - mean_squared_error: 3.9452 - mean_absolute_error: 1.5413 - val_loss: 4.2987 - val_mean_squared_error: 4.2987 - val_mean_absolute_error: 1.6072\n",
      "Epoch 145/150\n",
      "7855/7855 [==============================] - 3s 415us/step - loss: 3.9452 - mean_squared_error: 3.9452 - mean_absolute_error: 1.5413 - val_loss: 4.2987 - val_mean_squared_error: 4.2987 - val_mean_absolute_error: 1.6072\n",
      "Epoch 146/150\n",
      "7855/7855 [==============================] - 3s 409us/step - loss: 3.9453 - mean_squared_error: 3.9453 - mean_absolute_error: 1.5410 - val_loss: 4.2990 - val_mean_squared_error: 4.2990 - val_mean_absolute_error: 1.6069\n",
      "Epoch 147/150\n",
      "7855/7855 [==============================] - 3s 411us/step - loss: 3.9452 - mean_squared_error: 3.9452 - mean_absolute_error: 1.5410 - val_loss: 4.2988 - val_mean_squared_error: 4.2988 - val_mean_absolute_error: 1.6071\n",
      "Epoch 148/150\n",
      "7855/7855 [==============================] - 3s 410us/step - loss: 3.9452 - mean_squared_error: 3.9452 - mean_absolute_error: 1.5415 - val_loss: 4.2987 - val_mean_squared_error: 4.2987 - val_mean_absolute_error: 1.6071\n",
      "Epoch 149/150\n",
      "7855/7855 [==============================] - 3s 420us/step - loss: 3.9452 - mean_squared_error: 3.9452 - mean_absolute_error: 1.5413 - val_loss: 4.2987 - val_mean_squared_error: 4.2987 - val_mean_absolute_error: 1.6072\n",
      "Epoch 150/150\n",
      "7855/7855 [==============================] - 3s 409us/step - loss: 3.9452 - mean_squared_error: 3.9452 - mean_absolute_error: 1.5415 - val_loss: 4.2988 - val_mean_squared_error: 4.2988 - val_mean_absolute_error: 1.6071\n",
      "EndTime : 2019-05-16 14:49:55.069772\n"
     ]
    }
   ],
   "source": [
    "# model fitting\n",
    "optim = Adam(lr=0.0002)\n",
    "\n",
    "model.compile(loss='mse',\n",
    "\t\t      optimizer=optim,\n",
    "\t\t\t  metrics=['mse','mae'])\n",
    "\n",
    "StartTime8 = datetime.now()\n",
    "print(\"StartTime :\", StartTime8)\n",
    "with K.tf.device('/GPU:0'):\n",
    "    model_train = model.fit([train_X_cell, train_X_drug], train_y, validation_data=([test_X_cell, test_X_drug], test_y),\n",
    "                            batch_size=batch_size,epochs=training_epochs,verbose=1)\n",
    "\n",
    "EndTime8 = datetime.now()\n",
    "print(\"EndTime :\", EndTime8)"
   ]
  },
  {
   "cell_type": "code",
   "execution_count": 23,
   "metadata": {},
   "outputs": [],
   "source": [
    "import json\n",
    "from keras.models import model_from_json, load_model\n",
    "workdir = \"C://Users//a//Desktop//Ronny_TF//Ronny_Deep_vs_CDRscan//method_comparison_w_ccle_exp_or_mut_data//190516_CDRScan_master_w_mut_drug\"\n",
    "# Option 1: Save Weights + Architecture\n",
    "model.save_weights(workdir + '//model_fix_v3.h5')\n",
    "with open(workdir + '//model_architecture_fix_v3.json', 'w') as f:\n",
    "    f.write(model.to_json())\n",
    "# Option 1: Load Weights + Architecture\n",
    "# with open('model_architecture.json', 'r') as f:\n",
    "#     new_model_1 = model_from_json(f.read())\n",
    "# new_model_1.load_weights('model_weights.h5')"
   ]
  },
  {
   "cell_type": "code",
   "execution_count": 24,
   "metadata": {},
   "outputs": [],
   "source": [
    "# Option 2: Save/Load the Entire Model\n",
    "from keras.models import load_model\n",
    "\n",
    "# Creates a HDF5 file 'my_model.h5'\n",
    "model.save(workdir + '//model_fix_2080ti_v3.h5')\n",
    "\n",
    "# Deletes the existing model\n",
    "# del model  \n",
    "\n",
    "# Returns a compiled model identical to the previous one\n",
    "# model = load_model('my_model.h5')"
   ]
  },
  {
   "cell_type": "code",
   "execution_count": 25,
   "metadata": {},
   "outputs": [
    {
     "name": "stdout",
     "output_type": "stream",
     "text": [
      "872/872 [==============================] - 0s 322us/step\n"
     ]
    }
   ],
   "source": [
    "test_eval = model.evaluate([test_X_cell,test_X_drug], test_label_array, verbose=1)"
   ]
  },
  {
   "cell_type": "code",
   "execution_count": 26,
   "metadata": {},
   "outputs": [
    {
     "data": {
      "text/plain": [
       "[4.298767857595322, 4.298767857595322, 1.6070948707948036]"
      ]
     },
     "execution_count": 26,
     "metadata": {},
     "output_type": "execute_result"
    }
   ],
   "source": [
    "test_eval"
   ]
  },
  {
   "cell_type": "code",
   "execution_count": 27,
   "metadata": {},
   "outputs": [],
   "source": [
    "accuracy = model_train.history['mean_squared_error']\n",
    "val_accuracy = model_train.history['val_mean_squared_error']\n",
    "loss = model_train.history['loss']\n",
    "val_loss = model_train.history['val_loss']\n",
    "\n",
    "np_acc = np.array(accuracy)\n",
    "np_val_acc = np.array(val_accuracy)\n",
    "np_loss = np.array(loss)\n",
    "np_val_loss = np.array(val_loss)"
   ]
  },
  {
   "cell_type": "code",
   "execution_count": 28,
   "metadata": {},
   "outputs": [],
   "source": [
    "np.savetxt(\"ccle_mut_drug_mse_cdrscan_master_150_100_2080ti_v3.csv\", np_acc, delimiter=\",\")\n",
    "np.savetxt(\"ccle_mut_drug_val_mse_cdrscan_master_150_100_2080ti_v3.csv\", np_val_acc, delimiter=\",\")\n",
    "np.savetxt(\"ccle_mut_drug_loss_cdrscan_master_150_100_2080ti_v3.csv\", np_loss, delimiter=\",\")\n",
    "np.savetxt(\"ccle_mut_drug_val_loss_cdrscan_master_150_100_2080ti_v3.csv\", np_val_loss, delimiter=\",\")"
   ]
  },
  {
   "cell_type": "code",
   "execution_count": 29,
   "metadata": {},
   "outputs": [],
   "source": [
    "import matplotlib\n",
    "from matplotlib import pyplot as plt"
   ]
  },
  {
   "cell_type": "code",
   "execution_count": 30,
   "metadata": {},
   "outputs": [
    {
     "data": {
      "image/png": "[encoded data removed]",
      "text/plain": [
       "<matplotlib.figure.Figure at 0x1f6eec1ff28>"
      ]
     },
     "metadata": {},
     "output_type": "display_data"
    },
    {
     "data": {
      "image/png": "[encoded data removed]",
      "text/plain": [
       "<matplotlib.figure.Figure at 0x1f6eec7ba58>"
      ]
     },
     "metadata": {},
     "output_type": "display_data"
    }
   ],
   "source": [
    "# accuracy = model_train.history['acc']\n",
    "# val_accuracy = model_train.history['val_acc']\n",
    "# loss = model_train.history['loss']\n",
    "# val_loss = model_train.history['val_loss']\n",
    "epochs = range(len(accuracy))\n",
    "plt.plot(epochs, accuracy, 'bo', label='Training mse',c='red')\n",
    "plt.plot(epochs, val_accuracy, 'b', label='Validation mse',c='red')\n",
    "plt.title('Training and validation mse')\n",
    "plt.legend()\n",
    "plt.figure()\n",
    "plt.plot(epochs, loss, 'bo', label='Training loss',c='red')\n",
    "plt.plot(epochs, val_loss, 'b', label='Validation loss',c='red')\n",
    "plt.title('Training and validation loss')\n",
    "plt.legend()\n",
    "plt.show()"
   ]
  },
  {
   "cell_type": "code",
   "execution_count": 31,
   "metadata": {},
   "outputs": [],
   "source": [
    "predicted_classes = model.predict([test_X_cell,test_X_drug])"
   ]
  },
  {
   "cell_type": "code",
   "execution_count": 32,
   "metadata": {},
   "outputs": [],
   "source": [
    "predicted_value = predicted_classes"
   ]
  },
  {
   "cell_type": "code",
   "execution_count": 33,
   "metadata": {},
   "outputs": [],
   "source": [
    "a = pd.DataFrame(predicted_value)\n",
    "b = pd.DataFrame(test_label_array)\n",
    "c = pd.concat([a,b], axis=1)\n",
    "c.columns=[\"Predicted\",\"Test\"]"
   ]
  },
  {
   "cell_type": "code",
   "execution_count": 36,
   "metadata": {},
   "outputs": [],
   "source": [
    "c.to_csv(workdir + '//190516_CDRScan_master_w_mut_drug_result.csv')"
   ]
  },
  {
   "cell_type": "code",
   "execution_count": 37,
   "metadata": {},
   "outputs": [
    {
     "data": {
      "text/html": [
       "<div>\n",
       "<style scoped>\n",
       "    .dataframe tbody tr th:only-of-type {\n",
       "        vertical-align: middle;\n",
       "    }\n",
       "\n",
       "    .dataframe tbody tr th {\n",
       "        vertical-align: top;\n",
       "    }\n",
       "\n",
       "    .dataframe thead th {\n",
       "        text-align: right;\n",
       "    }\n",
       "</style>\n",
       "<table border=\"1\" class=\"dataframe\">\n",
       "  <thead>\n",
       "    <tr style=\"text-align: right;\">\n",
       "      <th></th>\n",
       "      <th>Predicted</th>\n",
       "      <th>Test</th>\n",
       "    </tr>\n",
       "  </thead>\n",
       "  <tbody>\n",
       "    <tr>\n",
       "      <th>0</th>\n",
       "      <td>0.883477</td>\n",
       "      <td>0.941970</td>\n",
       "    </tr>\n",
       "    <tr>\n",
       "      <th>1</th>\n",
       "      <td>0.883477</td>\n",
       "      <td>0.225864</td>\n",
       "    </tr>\n",
       "    <tr>\n",
       "      <th>2</th>\n",
       "      <td>0.883477</td>\n",
       "      <td>1.677600</td>\n",
       "    </tr>\n",
       "    <tr>\n",
       "      <th>3</th>\n",
       "      <td>0.883477</td>\n",
       "      <td>-4.869996</td>\n",
       "    </tr>\n",
       "    <tr>\n",
       "      <th>4</th>\n",
       "      <td>0.883477</td>\n",
       "      <td>-0.246987</td>\n",
       "    </tr>\n",
       "    <tr>\n",
       "      <th>5</th>\n",
       "      <td>0.883477</td>\n",
       "      <td>1.729042</td>\n",
       "    </tr>\n",
       "    <tr>\n",
       "      <th>6</th>\n",
       "      <td>0.883477</td>\n",
       "      <td>2.079442</td>\n",
       "    </tr>\n",
       "    <tr>\n",
       "      <th>7</th>\n",
       "      <td>0.883477</td>\n",
       "      <td>1.510771</td>\n",
       "    </tr>\n",
       "    <tr>\n",
       "      <th>8</th>\n",
       "      <td>0.883477</td>\n",
       "      <td>2.079442</td>\n",
       "    </tr>\n",
       "    <tr>\n",
       "      <th>9</th>\n",
       "      <td>0.883477</td>\n",
       "      <td>2.079442</td>\n",
       "    </tr>\n",
       "    <tr>\n",
       "      <th>10</th>\n",
       "      <td>0.883477</td>\n",
       "      <td>-0.252917</td>\n",
       "    </tr>\n",
       "    <tr>\n",
       "      <th>11</th>\n",
       "      <td>0.883477</td>\n",
       "      <td>1.076232</td>\n",
       "    </tr>\n",
       "    <tr>\n",
       "      <th>12</th>\n",
       "      <td>0.883477</td>\n",
       "      <td>0.996950</td>\n",
       "    </tr>\n",
       "    <tr>\n",
       "      <th>13</th>\n",
       "      <td>0.883477</td>\n",
       "      <td>2.079442</td>\n",
       "    </tr>\n",
       "    <tr>\n",
       "      <th>14</th>\n",
       "      <td>0.883477</td>\n",
       "      <td>-2.794141</td>\n",
       "    </tr>\n",
       "    <tr>\n",
       "      <th>15</th>\n",
       "      <td>0.883477</td>\n",
       "      <td>2.079442</td>\n",
       "    </tr>\n",
       "    <tr>\n",
       "      <th>16</th>\n",
       "      <td>0.883477</td>\n",
       "      <td>-0.518891</td>\n",
       "    </tr>\n",
       "    <tr>\n",
       "      <th>17</th>\n",
       "      <td>0.883477</td>\n",
       "      <td>2.079442</td>\n",
       "    </tr>\n",
       "    <tr>\n",
       "      <th>18</th>\n",
       "      <td>0.883477</td>\n",
       "      <td>-3.814410</td>\n",
       "    </tr>\n",
       "    <tr>\n",
       "      <th>19</th>\n",
       "      <td>0.883477</td>\n",
       "      <td>-0.090420</td>\n",
       "    </tr>\n",
       "    <tr>\n",
       "      <th>20</th>\n",
       "      <td>0.883477</td>\n",
       "      <td>2.079442</td>\n",
       "    </tr>\n",
       "    <tr>\n",
       "      <th>21</th>\n",
       "      <td>0.883477</td>\n",
       "      <td>2.079442</td>\n",
       "    </tr>\n",
       "    <tr>\n",
       "      <th>22</th>\n",
       "      <td>0.883477</td>\n",
       "      <td>2.079442</td>\n",
       "    </tr>\n",
       "    <tr>\n",
       "      <th>23</th>\n",
       "      <td>0.883477</td>\n",
       "      <td>-5.388595</td>\n",
       "    </tr>\n",
       "    <tr>\n",
       "      <th>24</th>\n",
       "      <td>0.883477</td>\n",
       "      <td>2.079442</td>\n",
       "    </tr>\n",
       "    <tr>\n",
       "      <th>25</th>\n",
       "      <td>0.883477</td>\n",
       "      <td>2.079442</td>\n",
       "    </tr>\n",
       "    <tr>\n",
       "      <th>26</th>\n",
       "      <td>0.883477</td>\n",
       "      <td>0.570184</td>\n",
       "    </tr>\n",
       "    <tr>\n",
       "      <th>27</th>\n",
       "      <td>0.883477</td>\n",
       "      <td>-0.988193</td>\n",
       "    </tr>\n",
       "    <tr>\n",
       "      <th>28</th>\n",
       "      <td>0.883477</td>\n",
       "      <td>0.251442</td>\n",
       "    </tr>\n",
       "    <tr>\n",
       "      <th>29</th>\n",
       "      <td>0.883477</td>\n",
       "      <td>-0.294071</td>\n",
       "    </tr>\n",
       "    <tr>\n",
       "      <th>...</th>\n",
       "      <td>...</td>\n",
       "      <td>...</td>\n",
       "    </tr>\n",
       "    <tr>\n",
       "      <th>842</th>\n",
       "      <td>0.883477</td>\n",
       "      <td>2.079442</td>\n",
       "    </tr>\n",
       "    <tr>\n",
       "      <th>843</th>\n",
       "      <td>0.883477</td>\n",
       "      <td>1.294400</td>\n",
       "    </tr>\n",
       "    <tr>\n",
       "      <th>844</th>\n",
       "      <td>0.883477</td>\n",
       "      <td>-0.788214</td>\n",
       "    </tr>\n",
       "    <tr>\n",
       "      <th>845</th>\n",
       "      <td>0.883477</td>\n",
       "      <td>-4.513064</td>\n",
       "    </tr>\n",
       "    <tr>\n",
       "      <th>846</th>\n",
       "      <td>0.883477</td>\n",
       "      <td>1.791661</td>\n",
       "    </tr>\n",
       "    <tr>\n",
       "      <th>847</th>\n",
       "      <td>0.883477</td>\n",
       "      <td>2.079442</td>\n",
       "    </tr>\n",
       "    <tr>\n",
       "      <th>848</th>\n",
       "      <td>0.883477</td>\n",
       "      <td>2.079442</td>\n",
       "    </tr>\n",
       "    <tr>\n",
       "      <th>849</th>\n",
       "      <td>0.883477</td>\n",
       "      <td>2.079442</td>\n",
       "    </tr>\n",
       "    <tr>\n",
       "      <th>850</th>\n",
       "      <td>0.883477</td>\n",
       "      <td>1.873937</td>\n",
       "    </tr>\n",
       "    <tr>\n",
       "      <th>851</th>\n",
       "      <td>0.883477</td>\n",
       "      <td>2.079442</td>\n",
       "    </tr>\n",
       "    <tr>\n",
       "      <th>852</th>\n",
       "      <td>0.883477</td>\n",
       "      <td>2.079442</td>\n",
       "    </tr>\n",
       "    <tr>\n",
       "      <th>853</th>\n",
       "      <td>0.883477</td>\n",
       "      <td>2.079442</td>\n",
       "    </tr>\n",
       "    <tr>\n",
       "      <th>854</th>\n",
       "      <td>0.883477</td>\n",
       "      <td>2.079442</td>\n",
       "    </tr>\n",
       "    <tr>\n",
       "      <th>855</th>\n",
       "      <td>0.883477</td>\n",
       "      <td>2.079442</td>\n",
       "    </tr>\n",
       "    <tr>\n",
       "      <th>856</th>\n",
       "      <td>0.883477</td>\n",
       "      <td>-1.710367</td>\n",
       "    </tr>\n",
       "    <tr>\n",
       "      <th>857</th>\n",
       "      <td>0.883477</td>\n",
       "      <td>2.079442</td>\n",
       "    </tr>\n",
       "    <tr>\n",
       "      <th>858</th>\n",
       "      <td>0.883477</td>\n",
       "      <td>1.596290</td>\n",
       "    </tr>\n",
       "    <tr>\n",
       "      <th>859</th>\n",
       "      <td>0.883477</td>\n",
       "      <td>2.079442</td>\n",
       "    </tr>\n",
       "    <tr>\n",
       "      <th>860</th>\n",
       "      <td>0.883477</td>\n",
       "      <td>2.079442</td>\n",
       "    </tr>\n",
       "    <tr>\n",
       "      <th>861</th>\n",
       "      <td>0.883477</td>\n",
       "      <td>2.079442</td>\n",
       "    </tr>\n",
       "    <tr>\n",
       "      <th>862</th>\n",
       "      <td>0.883477</td>\n",
       "      <td>2.079442</td>\n",
       "    </tr>\n",
       "    <tr>\n",
       "      <th>863</th>\n",
       "      <td>0.883477</td>\n",
       "      <td>1.816348</td>\n",
       "    </tr>\n",
       "    <tr>\n",
       "      <th>864</th>\n",
       "      <td>0.883477</td>\n",
       "      <td>2.079442</td>\n",
       "    </tr>\n",
       "    <tr>\n",
       "      <th>865</th>\n",
       "      <td>0.883477</td>\n",
       "      <td>1.499250</td>\n",
       "    </tr>\n",
       "    <tr>\n",
       "      <th>866</th>\n",
       "      <td>0.883477</td>\n",
       "      <td>0.862872</td>\n",
       "    </tr>\n",
       "    <tr>\n",
       "      <th>867</th>\n",
       "      <td>0.883477</td>\n",
       "      <td>0.570138</td>\n",
       "    </tr>\n",
       "    <tr>\n",
       "      <th>868</th>\n",
       "      <td>0.883477</td>\n",
       "      <td>2.079442</td>\n",
       "    </tr>\n",
       "    <tr>\n",
       "      <th>869</th>\n",
       "      <td>0.883477</td>\n",
       "      <td>2.079442</td>\n",
       "    </tr>\n",
       "    <tr>\n",
       "      <th>870</th>\n",
       "      <td>0.883477</td>\n",
       "      <td>2.079442</td>\n",
       "    </tr>\n",
       "    <tr>\n",
       "      <th>871</th>\n",
       "      <td>0.883477</td>\n",
       "      <td>2.079442</td>\n",
       "    </tr>\n",
       "  </tbody>\n",
       "</table>\n",
       "<p>872 rows × 2 columns</p>\n",
       "</div>"
      ],
      "text/plain": [
       "     Predicted      Test\n",
       "0     0.883477  0.941970\n",
       "1     0.883477  0.225864\n",
       "2     0.883477  1.677600\n",
       "3     0.883477 -4.869996\n",
       "4     0.883477 -0.246987\n",
       "5     0.883477  1.729042\n",
       "6     0.883477  2.079442\n",
       "7     0.883477  1.510771\n",
       "8     0.883477  2.079442\n",
       "9     0.883477  2.079442\n",
       "10    0.883477 -0.252917\n",
       "11    0.883477  1.076232\n",
       "12    0.883477  0.996950\n",
       "13    0.883477  2.079442\n",
       "14    0.883477 -2.794141\n",
       "15    0.883477  2.079442\n",
       "16    0.883477 -0.518891\n",
       "17    0.883477  2.079442\n",
       "18    0.883477 -3.814410\n",
       "19    0.883477 -0.090420\n",
       "20    0.883477  2.079442\n",
       "21    0.883477  2.079442\n",
       "22    0.883477  2.079442\n",
       "23    0.883477 -5.388595\n",
       "24    0.883477  2.079442\n",
       "25    0.883477  2.079442\n",
       "26    0.883477  0.570184\n",
       "27    0.883477 -0.988193\n",
       "28    0.883477  0.251442\n",
       "29    0.883477 -0.294071\n",
       "..         ...       ...\n",
       "842   0.883477  2.079442\n",
       "843   0.883477  1.294400\n",
       "844   0.883477 -0.788214\n",
       "845   0.883477 -4.513064\n",
       "846   0.883477  1.791661\n",
       "847   0.883477  2.079442\n",
       "848   0.883477  2.079442\n",
       "849   0.883477  2.079442\n",
       "850   0.883477  1.873937\n",
       "851   0.883477  2.079442\n",
       "852   0.883477  2.079442\n",
       "853   0.883477  2.079442\n",
       "854   0.883477  2.079442\n",
       "855   0.883477  2.079442\n",
       "856   0.883477 -1.710367\n",
       "857   0.883477  2.079442\n",
       "858   0.883477  1.596290\n",
       "859   0.883477  2.079442\n",
       "860   0.883477  2.079442\n",
       "861   0.883477  2.079442\n",
       "862   0.883477  2.079442\n",
       "863   0.883477  1.816348\n",
       "864   0.883477  2.079442\n",
       "865   0.883477  1.499250\n",
       "866   0.883477  0.862872\n",
       "867   0.883477  0.570138\n",
       "868   0.883477  2.079442\n",
       "869   0.883477  2.079442\n",
       "870   0.883477  2.079442\n",
       "871   0.883477  2.079442\n",
       "\n",
       "[872 rows x 2 columns]"
      ]
     },
     "execution_count": 37,
     "metadata": {},
     "output_type": "execute_result"
    }
   ],
   "source": [
    "c"
   ]
  },
  {
   "cell_type": "code",
   "execution_count": 38,
   "metadata": {},
   "outputs": [
    {
     "data": {
      "text/plain": [
       "(872, 1)"
      ]
     },
     "execution_count": 38,
     "metadata": {},
     "output_type": "execute_result"
    }
   ],
   "source": [
    "predicted_value.shape"
   ]
  },
  {
   "cell_type": "code",
   "execution_count": 39,
   "metadata": {},
   "outputs": [
    {
     "data": {
      "image/png": "[encoded data removed]",
      "text/plain": [
       "<matplotlib.figure.Figure at 0x1f6eeda8780>"
      ]
     },
     "metadata": {},
     "output_type": "display_data"
    }
   ],
   "source": [
    "# scatter plot\n",
    "plt.scatter(test_label_array,predicted_value,c='red')\n",
    "plt.xlabel('test_IC50_value')\n",
    "plt.ylabel('predicted_IC50_value')\n",
    "plt.savefig(workdir + '//1190516_CDRScan_master_w_mut_drug_test_scatterplot.png')"
   ]
  },
  {
   "cell_type": "code",
   "execution_count": 40,
   "metadata": {},
   "outputs": [
    {
     "name": "stdout",
     "output_type": "stream",
     "text": [
      "Final rmse value is = 2.0733469680203824\n"
     ]
    }
   ],
   "source": [
    "# RMSE\n",
    "rse = ((b[0]-a[0])**2).sum()\n",
    "mse = rse / len(b)\n",
    "print(\"Final rmse value is =\",np.sqrt(mse))"
   ]
  },
  {
   "cell_type": "code",
   "execution_count": null,
   "metadata": {},
   "outputs": [],
   "source": [
    "# R-squared value\n",
    "\n",
    "from sklearn.metrics import r2_score\n",
    "r2_value = r2_score(b, a) \n",
    "print(r2_value)"
   ]
  }
 ],
 "metadata": {
  "kernelspec": {
   "display_name": "Python 3",
   "language": "python",
   "name": "python3"
  },
  "language_info": {
   "codemirror_mode": {
    "name": "ipython",
    "version": 3
   },
   "file_extension": ".py",
   "mimetype": "text/x-python",
   "name": "python",
   "nbconvert_exporter": "python",
   "pygments_lexer": "ipython3",
   "version": "3.6.9"
  }
 },
 "nbformat": 4,
 "nbformat_minor": 2
}
