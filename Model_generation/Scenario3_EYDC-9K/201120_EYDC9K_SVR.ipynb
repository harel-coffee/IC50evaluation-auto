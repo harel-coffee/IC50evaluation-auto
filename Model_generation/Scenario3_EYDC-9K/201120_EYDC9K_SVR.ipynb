{
 "cells": [
  {
   "cell_type": "code",
   "execution_count": 1,
   "metadata": {},
   "outputs": [],
   "source": [
    "import os\n",
    "import pandas as pd\n",
    "import numpy as np\n",
    "import random\n",
    "from pandas import DataFrame\n",
    "from datetime import datetime\n",
    "\n",
    "workdir = \"D://DrugResponsivenessGuideline_log//Dataset//EDC_EYDC_MDC_regen\""
   ]
  },
  {
   "cell_type": "code",
   "execution_count": 2,
   "metadata": {},
   "outputs": [],
   "source": [
    "# < Important note > [ Please download input data from https://mega.nz/#F!CeYGDKyS!uqkmWJ4E2XSGJp_C2VO2gg]\n",
    "# IC50evaluation//Dataset//Scenario3_EYDC-9K_minmax\n",
    "\n",
    "dataset = np.load(workdir + \"//EYDC9K_dataset.npz\") # input file\n",
    "ss0 = np.load(workdir + '//EYDC9K_dataset_r0_9_1.npz') # split for training and test"
   ]
  },
  {
   "cell_type": "code",
   "execution_count": 3,
   "metadata": {},
   "outputs": [],
   "source": [
    "x = dataset['x']\n",
    "y = dataset['y']\n",
    "# y_linear = dataset['y_lnIC50']\n",
    "ss0_train = ss0['train']\n",
    "ss0_test = ss0['test']"
   ]
  },
  {
   "cell_type": "code",
   "execution_count": 4,
   "metadata": {},
   "outputs": [],
   "source": [
    "training_image_array, training_label_array = x[ss0_train], y[ss0_train]\n",
    "test_image_array, test_label_array = x[ss0_test], y[ss0_test]\n",
    "\n",
    "# # In[9]:\n",
    "# ori = training_image_array\n",
    "# bat = np.zeros((ori.shape[0],178))\n",
    "# cat = np.hstack([ori,bat])\n",
    "# training_image_array = cat\n",
    "\n",
    "# # In[8]:\n",
    "# training_image_array.shape\n",
    "\n",
    "# # In[10]:\n",
    "# ori2 = test_image_array\n",
    "# bat2 = np.zeros((ori2.shape[0],178))\n",
    "# cat2 = np.hstack([ori2,bat2])\n",
    "# test_image_array = cat2\n"
   ]
  },
  {
   "cell_type": "code",
   "execution_count": 5,
   "metadata": {},
   "outputs": [
    {
     "name": "stdout",
     "output_type": "stream",
     "text": [
      "0 13\n"
     ]
    }
   ],
   "source": [
    "# In[15]:\n",
    "ab =[]\n",
    "for i in range(50,100):\n",
    "    ab.append(len(training_image_array) % i)\n",
    "    \n",
    "print(min(ab), ab.index(min(ab)))"
   ]
  },
  {
   "cell_type": "code",
   "execution_count": 6,
   "metadata": {},
   "outputs": [
    {
     "data": {
      "text/plain": [
       "(9590, 41505)"
      ]
     },
     "execution_count": 6,
     "metadata": {},
     "output_type": "execute_result"
    }
   ],
   "source": [
    "x.shape"
   ]
  },
  {
   "cell_type": "code",
   "execution_count": 7,
   "metadata": {},
   "outputs": [
    {
     "data": {
      "text/plain": [
       "(8631, 41505)"
      ]
     },
     "execution_count": 7,
     "metadata": {},
     "output_type": "execute_result"
    }
   ],
   "source": [
    "training_image_array.shape"
   ]
  },
  {
   "cell_type": "code",
   "execution_count": 8,
   "metadata": {},
   "outputs": [],
   "source": [
    "train_X, train_y, test_X, test_y = training_image_array, training_label_array, test_image_array, test_label_array\n",
    "\n",
    "# if K.image_data_format() == 'channels_first':\n",
    "#     train_X = train_X.reshape(train_X.shape[0], 1, img_rows, img_cols)\n",
    "#     test_X = test_X.reshape(x_test.shape[0], 1, img_rows, img_cols)\n",
    "#     input_shape = (1, img_rows, img_cols)\n",
    "# else:\n",
    "#     train_X = train_X.reshape(train_X.shape[0], img_rows, img_cols, 1)\n",
    "#     test_X = test_X.reshape(test_X.shape[0], img_rows, img_cols, 1)\n",
    "#     input_shape = (img_rows, img_cols, 1)\n"
   ]
  },
  {
   "cell_type": "code",
   "execution_count": 9,
   "metadata": {},
   "outputs": [],
   "source": [
    "# train_X = train_X.reshape(train_X.shape[0], train_X.shape[1], 1)\n",
    "# test_X = test_X.reshape(test_X.shape[0], test_X.shape[1], 1)\n",
    "# #input_shape = (img_rows, img_cols, 1)"
   ]
  },
  {
   "cell_type": "code",
   "execution_count": 10,
   "metadata": {},
   "outputs": [
    {
     "name": "stdout",
     "output_type": "stream",
     "text": [
      "(8631, 41505) (8631,) (959, 41505) (959,)\n"
     ]
    }
   ],
   "source": [
    "print(train_X.shape, train_y.shape, test_X.shape, test_y.shape)"
   ]
  },
  {
   "cell_type": "code",
   "execution_count": 11,
   "metadata": {},
   "outputs": [],
   "source": [
    "inds = np.where(np.isnan(test_X))"
   ]
  },
  {
   "cell_type": "code",
   "execution_count": 12,
   "metadata": {},
   "outputs": [
    {
     "data": {
      "text/plain": [
       "(array([], dtype=int64), array([], dtype=int64))"
      ]
     },
     "execution_count": 12,
     "metadata": {},
     "output_type": "execute_result"
    }
   ],
   "source": [
    "inds"
   ]
  },
  {
   "cell_type": "code",
   "execution_count": 13,
   "metadata": {},
   "outputs": [
    {
     "name": "stdout",
     "output_type": "stream",
     "text": [
      "train_X shape: (8631, 41505)\n",
      "8631 train samples\n",
      "959 test samples\n"
     ]
    }
   ],
   "source": [
    "train_X = train_X.astype('float32')\n",
    "test_X = test_X.astype('float32')\n",
    "# train_X /= 255\n",
    "# test_X /= 255\n",
    "print('train_X shape:', train_X.shape)\n",
    "print(train_X.shape[0], 'train samples')\n",
    "print(test_X.shape[0], 'test samples')"
   ]
  },
  {
   "cell_type": "code",
   "execution_count": 14,
   "metadata": {},
   "outputs": [],
   "source": [
    "import numpy as np\n",
    "from sklearn.svm import SVR\n",
    "import matplotlib.pyplot as plt\n",
    "\n",
    "# #############################################################################\n",
    "# Fit regression model\n",
    "svr_lin = SVR(C=0.01)\n",
    "y_lin = svr_lin.fit(train_X, train_y).predict(test_X)\n"
   ]
  },
  {
   "cell_type": "code",
   "execution_count": 15,
   "metadata": {},
   "outputs": [],
   "source": [
    "import matplotlib\n",
    "from matplotlib import pyplot as plt"
   ]
  },
  {
   "cell_type": "code",
   "execution_count": 16,
   "metadata": {},
   "outputs": [
    {
     "data": {
      "text/plain": [
       "array([1.97985079, 1.89737008, 1.93973676, 1.98145723, 1.90558075,\n",
       "       1.97900079, 1.94128804, 1.97454821, 1.89263725, 1.97966988,\n",
       "       1.96182023, 1.97063662, 1.97016766, 1.97991595, 1.94828328,\n",
       "       1.98233587, 1.9700552 , 1.9216128 , 1.93368726, 1.95819582,\n",
       "       1.93174162, 1.93725754, 1.95003586, 1.97932079, 1.94076771,\n",
       "       1.97976932, 1.95034374, 1.97913282, 1.98017743, 1.94611991,\n",
       "       1.8454083 , 1.9793435 , 1.94070718, 1.9844175 , 1.95090523,\n",
       "       1.93620528, 1.92611831, 1.94833298, 1.97861215, 1.9777806 ,\n",
       "       1.96001909, 1.97920778, 1.9794604 , 1.98267773, 1.96792791,\n",
       "       1.84254682, 1.97932808, 1.95094793, 1.95081394, 1.94798149,\n",
       "       1.98422807, 1.89260024, 1.9792388 , 1.98209202, 1.95877903,\n",
       "       1.81886582, 1.95672854, 1.90502348, 1.91825811, 1.96729443,\n",
       "       1.96301162, 1.94779849, 1.97084072, 1.97777445, 1.9734606 ,\n",
       "       1.94056008, 1.98117848, 1.97933686, 1.90063674, 1.89881316,\n",
       "       1.92459348, 1.97552114, 1.97391993, 1.95318053, 1.97171631,\n",
       "       1.97526363, 1.98108223, 1.97158518, 1.97800055, 1.97029188,\n",
       "       1.97862558, 1.94996249, 1.89571569, 1.95033554, 1.97349041,\n",
       "       1.98024533, 1.96786568, 1.93403765, 1.93907952, 1.92988584,\n",
       "       1.97703534, 1.96306917, 1.92522328, 1.97727329, 1.96632797,\n",
       "       1.96286092, 1.96797777, 1.9276912 , 1.90276751, 1.96419325,\n",
       "       1.95935933, 1.96996249, 1.96338426, 1.93912482, 1.83633595,\n",
       "       1.97877225, 1.95794635, 1.92072685, 1.96730502, 1.93650008,\n",
       "       1.96936781, 1.95543377, 1.91181771, 1.90739797, 1.9746384 ,\n",
       "       1.97177889, 1.97919911, 1.97046198, 1.97892204, 1.94022083,\n",
       "       1.95368138, 1.95454123, 1.96392037, 1.93873808, 1.9674591 ,\n",
       "       1.93993314, 1.98216058, 1.97524993, 1.96829255, 1.98097082,\n",
       "       1.96125651, 1.96718535, 1.97921228, 1.97914167, 1.9793545 ,\n",
       "       1.97660764, 1.9619954 , 1.95251337, 1.96835738, 1.94470577,\n",
       "       1.97540321, 1.96830264, 1.97224926, 1.92165466, 1.94344853,\n",
       "       1.97792961, 1.9386326 , 1.86782558, 1.97398599, 1.97950999,\n",
       "       1.95697007, 1.97957812, 1.97191162, 1.97201789, 1.94538556,\n",
       "       1.9790414 , 1.97932197, 1.9671934 , 1.97622686, 1.97941151,\n",
       "       1.97232988, 1.94950983, 1.94460772, 1.98750226, 1.9791458 ,\n",
       "       1.94921402, 1.97928718, 1.90557896, 1.97961938, 1.97786218,\n",
       "       1.95098408, 1.94275115, 1.9810048 , 1.93456461, 1.97761588,\n",
       "       1.8992555 , 1.97945021, 1.97950286, 1.90161577, 1.93957976,\n",
       "       1.98301323, 1.9500277 , 1.82460876, 1.9769853 , 1.95808156,\n",
       "       1.97948615, 1.95846775, 1.87060185, 1.89447182, 1.97442442,\n",
       "       1.97862073, 1.9767695 , 1.96073391, 1.96994683, 1.9551617 ,\n",
       "       1.97947796, 1.93817456, 1.92917533, 1.96942699, 1.96626356,\n",
       "       1.95318187, 1.97456306, 1.86548082, 1.95379131, 1.97894482,\n",
       "       1.95083074, 1.97528892, 1.96740924, 1.97941984, 1.9827866 ,\n",
       "       1.96764144, 1.9798676 , 1.94054933, 1.93690856, 1.94211305,\n",
       "       1.97526172, 1.97179769, 1.97237903, 1.96897712, 1.98478465,\n",
       "       1.91402093, 1.97967595, 1.97630374, 1.94686594, 1.95102472,\n",
       "       1.93485708, 1.98597809, 1.90139571, 1.97403623, 1.9674999 ,\n",
       "       1.97590647, 1.95761272, 1.96709223, 1.92685169, 1.98061311,\n",
       "       1.95427542, 1.97929192, 1.97912991, 1.93870786, 1.94520621,\n",
       "       1.92201463, 1.96088339, 1.98001821, 1.97947209, 1.94068488,\n",
       "       1.98451144, 1.97957846, 1.97365279, 1.9808561 , 1.95206083,\n",
       "       1.93376166, 1.97594411, 1.94679999, 1.96387435, 1.94775639,\n",
       "       1.9478633 , 1.88987081, 1.9794338 , 1.97316904, 1.98034649,\n",
       "       1.95930534, 1.96081465, 1.93139567, 1.9406885 , 1.92649001,\n",
       "       1.96735922, 1.9676366 , 1.97880088, 1.97988641, 1.97693328,\n",
       "       1.9816349 , 1.93919384, 1.97890664, 1.97872492, 1.97884147,\n",
       "       1.96391989, 1.97791994, 1.97964924, 1.93542864, 1.97910864,\n",
       "       1.96205638, 1.9760684 , 1.96793264, 1.94990638, 1.96824578,\n",
       "       1.96691932, 1.95253408, 1.96572648, 1.96241479, 1.97359534,\n",
       "       1.97334515, 1.97041487, 1.84717971, 1.97376193, 1.93672767,\n",
       "       1.97951363, 1.9809221 , 1.97310703, 1.97354327, 1.96707499,\n",
       "       1.96464464, 1.96860757, 1.95317045, 1.90598241, 1.96403478,\n",
       "       1.940127  , 1.97944111, 1.92923242, 1.96745191, 1.97927157,\n",
       "       1.98427836, 1.97926901, 1.92479806, 1.96158412, 1.96798201,\n",
       "       1.98095503, 1.97979917, 1.97969383, 1.97954526, 1.93623862,\n",
       "       1.96598047, 1.8941235 , 1.97206552, 1.97646255, 1.97929114,\n",
       "       1.90407663, 1.96734358, 1.97583521, 1.9767997 , 1.97916893,\n",
       "       1.98387062, 1.97351321, 1.89914288, 1.97731802, 1.87741334,\n",
       "       1.83349647, 1.97979483, 1.98226471, 1.96818846, 1.93630214,\n",
       "       1.97874646, 1.94021443, 1.97480929, 1.96056709, 1.97877577,\n",
       "       1.96395437, 1.86979055, 1.90609539, 1.97966884, 1.96811181,\n",
       "       1.88803014, 1.97946303, 1.96838126, 1.97451264, 1.97783725,\n",
       "       1.94446131, 1.98000463, 1.98374302, 1.96503894, 1.97903151,\n",
       "       1.95468159, 1.96516625, 1.96531721, 1.97531845, 1.9759923 ,\n",
       "       1.94169051, 1.98427612, 1.9380298 , 1.94708667, 1.94557991,\n",
       "       1.97157419, 1.97766459, 1.95443952, 1.94560025, 1.92669517,\n",
       "       1.97420149, 1.98223701, 1.94039592, 1.94160762, 1.97187021,\n",
       "       1.94468028, 1.97896606, 1.98177447, 1.93896619, 1.97668862,\n",
       "       1.95290359, 1.97896328, 1.944011  , 1.96567796, 1.93519696,\n",
       "       1.97272274, 1.95879841, 1.97994086, 1.9528611 , 1.98169811,\n",
       "       1.97028183, 1.89983961, 1.96364237, 1.97162299, 1.97233266,\n",
       "       1.93440678, 1.9795501 , 1.94887189, 1.98473713, 1.85145254,\n",
       "       1.96298211, 1.95241685, 1.97043716, 1.98200915, 1.96166927,\n",
       "       1.97937931, 1.94433974, 1.93031689, 1.97474538, 1.97175674,\n",
       "       1.96241862, 1.9397026 , 1.94600278, 1.96424536, 1.97223299,\n",
       "       1.96053788, 1.98626678, 1.94971956, 1.98234011, 1.9790953 ,\n",
       "       1.97725714, 1.96398782, 1.97952663, 1.98034255, 1.96028484,\n",
       "       1.96826535, 1.97750702, 1.94543973, 1.97985381, 1.98020927,\n",
       "       1.97880926, 1.9517587 , 1.96634976, 1.97033829, 1.97765761,\n",
       "       1.93385957, 1.95911158, 1.96793956, 1.98224949, 1.94784533,\n",
       "       1.93856216, 1.93123787, 1.92206611, 1.97783231, 1.97998032,\n",
       "       1.97465516, 1.94643981, 1.97948366, 1.9487849 , 1.95051014,\n",
       "       1.97153917, 1.97207797, 1.85641954, 1.97885352, 1.97277493,\n",
       "       1.98390234, 1.95135598, 1.97351791, 1.96837511, 1.93384409,\n",
       "       1.98093917, 1.97904173, 1.95631675, 1.93190944, 1.89877503,\n",
       "       1.97966205, 1.98115822, 1.94183087, 1.88221854, 1.97976406,\n",
       "       1.97916199, 1.87455335, 1.96931964, 1.97969539, 1.94894669,\n",
       "       1.96223656, 1.93898042, 1.97452837, 1.97822558, 1.97429723,\n",
       "       1.97928697, 1.96660632, 1.9653056 , 1.89122342, 1.95019954,\n",
       "       1.97261815, 1.95043998, 1.9745502 , 1.97866902, 1.97935489,\n",
       "       1.96848596, 1.95062296, 1.97238138, 1.95915767, 1.97150608,\n",
       "       1.86440265, 1.96825798, 1.89967132, 1.89997585, 1.97917771,\n",
       "       1.94840338, 1.96539918, 1.96330354, 1.97374153, 1.94118606,\n",
       "       1.95955853, 1.94979315, 1.97755107, 1.96846452, 1.97830497,\n",
       "       1.9726647 , 1.96097203, 1.95821244, 1.96060775, 1.85310612,\n",
       "       1.97952558, 1.97933934, 1.97231676, 1.9520235 , 1.96091335,\n",
       "       1.95267674, 1.85317364, 1.94434778, 1.96167756, 1.95175078,\n",
       "       1.90441421, 1.89228347, 1.96889643, 1.97927856, 1.95012764,\n",
       "       1.96820129, 1.96823871, 1.97464937, 1.97966753, 1.96397205,\n",
       "       1.89294568, 1.9413081 , 1.97939356, 1.98117391, 1.97936333,\n",
       "       1.94032061, 1.93818867, 1.9823077 , 1.98499393, 1.95102483,\n",
       "       1.96698387, 1.97420438, 1.93418396, 1.9481482 , 1.90686879,\n",
       "       1.98200786, 1.97261803, 1.95969201, 1.96141558, 1.96634341,\n",
       "       1.98206819, 1.89225694, 1.93239694, 1.97758016, 1.9480863 ,\n",
       "       1.86099861, 1.87019416, 1.98003587, 1.96157316, 1.93965448,\n",
       "       1.9838262 , 1.97155205, 1.97731325, 1.97260565, 1.97808906,\n",
       "       1.9645972 , 1.97868728, 1.93704365, 1.93642414, 1.95374117,\n",
       "       1.97751189, 1.97193597, 1.96887532, 1.97950447, 1.94989907,\n",
       "       1.97956474, 1.97418737, 1.97448595, 1.97537966, 1.84799593,\n",
       "       1.97239348, 1.9552085 , 1.93841514, 1.9248081 , 1.97035981,\n",
       "       1.95086397, 1.94392354, 1.97651429, 1.92061748, 1.96252864,\n",
       "       1.97768235, 1.92522474, 1.98390586, 1.97744016, 1.94297328,\n",
       "       1.97734893, 1.96208193, 1.94037063, 1.97430455, 1.8837733 ,\n",
       "       1.97096286, 1.9491159 , 1.97221863, 1.96141491, 1.96738855,\n",
       "       1.98020473, 1.97973429, 1.97193655, 1.97242188, 1.97785467,\n",
       "       1.9681443 , 1.9389124 , 1.96070549, 1.97039469, 1.90934013,\n",
       "       1.93357212, 1.97435535, 1.95424378, 1.98051374, 1.96796261,\n",
       "       1.97899102, 1.97998696, 1.96392038, 1.97913131, 1.96413216,\n",
       "       1.97768436, 1.96875994, 1.95929817, 1.95662387, 1.96699618,\n",
       "       1.96799464, 1.98445896, 1.95629128, 1.95428342, 1.96397186,\n",
       "       1.97965673, 1.97637598, 1.94863662, 1.98404347, 1.97298663,\n",
       "       1.96809272, 1.97971926, 1.9842681 , 1.97296683, 1.97072842,\n",
       "       1.97951991, 1.93372633, 1.94597964, 1.97728957, 1.97215871,\n",
       "       1.85702142, 1.96839104, 1.97911168, 1.9664673 , 1.97518084,\n",
       "       1.96723731, 1.97372847, 1.97336888, 1.92445578, 1.98416669,\n",
       "       1.97755362, 1.97963957, 1.8987453 , 1.96758292, 1.93947051,\n",
       "       1.94515466, 1.97879967, 1.96065295, 1.97889065, 1.97381417,\n",
       "       1.97969191, 1.97988527, 1.97371899, 1.95802817, 1.97136033,\n",
       "       1.97302381, 1.95954805, 1.93073069, 1.95988852, 1.90631347,\n",
       "       1.97575196, 1.97896614, 1.95510176, 1.94975374, 1.97786131,\n",
       "       1.97956367, 1.96802851, 1.9775416 , 1.94313244, 1.91525787,\n",
       "       1.97315981, 1.98252821, 1.9638477 , 1.9474159 , 1.97873896,\n",
       "       1.95135598, 1.97445952, 1.97459969, 1.89839796, 1.97488235,\n",
       "       1.97187166, 1.96362614, 1.97352882, 1.98264484, 1.97976112,\n",
       "       1.96257071, 1.95110223, 1.97921938, 1.97956534, 1.98249175,\n",
       "       1.97078819, 1.975066  , 1.97484241, 1.97631951, 1.97345583,\n",
       "       1.95851487, 1.97862981, 1.93601551, 1.87124745, 1.97781651,\n",
       "       1.96770681, 1.96410309, 1.97255888, 1.94998636, 1.95300309,\n",
       "       1.94204565, 1.9695896 , 1.97939341, 1.97465335, 1.94807263,\n",
       "       1.95868443, 1.98465269, 1.97257889, 1.97497248, 1.98038187,\n",
       "       1.95845645, 1.91229229, 1.96963448, 1.96676105, 1.97934469,\n",
       "       1.95569933, 1.96952666, 1.98185431, 1.96472951, 1.94968321,\n",
       "       1.97536539, 1.9794766 , 1.9299702 , 1.93384398, 1.92935022,\n",
       "       1.94621769, 1.97595991, 1.95015838, 1.96114445, 1.97734908,\n",
       "       1.94382406, 1.97132241, 1.97952611, 1.97926544, 1.9770244 ,\n",
       "       1.93523089, 1.94987216, 1.97589146, 1.90473017, 1.9390564 ,\n",
       "       1.95581097, 1.9370446 , 1.97529123, 1.97996689, 1.9480909 ,\n",
       "       1.93522559, 1.97188125, 1.95459797, 1.96839617, 1.97036473,\n",
       "       1.95001149, 1.95164978, 1.97280167, 1.96517657, 1.9795036 ,\n",
       "       1.97193398, 1.9749389 , 1.96153671, 1.95673911, 1.98203923,\n",
       "       1.87205878, 1.96695904, 1.97829953, 1.97438923, 1.97946056,\n",
       "       1.97179577, 1.94602989, 1.97950631, 1.95191898, 1.97539253,\n",
       "       1.96982936, 1.97936373, 1.98004117, 1.97980568, 1.95794268,\n",
       "       1.97873263, 1.9847345 , 1.98230994, 1.9506606 , 1.95324599,\n",
       "       1.98229833, 1.93404885, 1.9056591 , 1.97919739, 1.94418085,\n",
       "       1.96171154, 1.98029739, 1.97456359, 1.95178464, 1.97986677,\n",
       "       1.97940554, 1.93044666, 1.91433724, 1.97423127, 1.97278147,\n",
       "       1.94726624, 1.97236709, 1.97886966, 1.94163635, 1.98095516,\n",
       "       1.97458343, 1.97948827, 1.98105682, 1.97929156, 1.95591799,\n",
       "       1.96555952, 1.89495452, 1.94614045, 1.95077217, 1.97656417,\n",
       "       1.90560839, 1.96131798, 1.98338632, 1.96843747, 1.95030398,\n",
       "       1.97946362, 1.98436687, 1.93715   , 1.97950145, 1.94380786,\n",
       "       1.95294802, 1.96575133, 1.96786616, 1.97904492, 1.96736157,\n",
       "       1.97393042, 1.97941033, 1.97716786, 1.8701047 , 1.9538027 ,\n",
       "       1.98240821, 1.97297633, 1.97163251, 1.97319974, 1.97529117,\n",
       "       1.95368227, 1.94943881, 1.8521618 , 1.94646433, 1.96153866,\n",
       "       1.87801208, 1.93207032, 1.98419176, 1.96673598, 1.98428125,\n",
       "       1.96805117, 1.93799084, 1.96761504, 1.91574832, 1.94791877,\n",
       "       1.9790505 , 1.92301028, 1.97984991, 1.8975329 , 1.9716895 ,\n",
       "       1.9796385 , 1.97674514, 1.93680393, 1.96775334, 1.96592737,\n",
       "       1.92954993, 1.98438582, 1.97501913, 1.98418589, 1.97292985,\n",
       "       1.98210394, 1.95754199, 1.864544  , 1.95616659, 1.98396235,\n",
       "       1.94566526, 1.96865708, 1.94996049, 1.97721804, 1.96838721,\n",
       "       1.97899618, 1.93828146, 1.98204627, 1.93964395, 1.97518173,\n",
       "       1.96963548, 1.95068891, 1.9405984 , 1.97282007, 1.96139163,\n",
       "       1.95273296, 1.96830731, 1.98102954, 1.94039522, 1.96081826,\n",
       "       1.95134314, 1.97754858, 1.97621326, 1.98460104, 1.97316701,\n",
       "       1.95816947, 1.97468543, 1.98213332, 1.93821509, 1.97154673,\n",
       "       1.95851305, 1.9727731 , 1.97496939, 1.85057554, 1.96091917,\n",
       "       1.97958892, 1.95800366, 1.93272455, 1.93153312, 1.96886811,\n",
       "       1.96198347, 1.96617428, 1.98386259, 1.97224741, 1.98083733,\n",
       "       1.97959795, 1.95463016, 1.97373871, 1.97143816, 1.97952117,\n",
       "       1.94533139, 1.97878601, 1.98235278, 1.96837181])"
      ]
     },
     "execution_count": 16,
     "metadata": {},
     "output_type": "execute_result"
    }
   ],
   "source": [
    "y_lin"
   ]
  },
  {
   "cell_type": "code",
   "execution_count": 17,
   "metadata": {},
   "outputs": [
    {
     "name": "stderr",
     "output_type": "stream",
     "text": [
      "C:\\Users\\ylab\\AppData\\Local\\conda\\conda\\envs\\ronny\\lib\\site-packages\\sklearn\\externals\\joblib\\__init__.py:15: FutureWarning: sklearn.externals.joblib is deprecated in 0.21 and will be removed in 0.23. Please import this functionality directly from joblib, which can be installed with: pip install joblib. If this warning is raised when loading pickled models, you may need to re-serialize those models with scikit-learn 0.21+.\n",
      "  warnings.warn(msg, category=FutureWarning)\n"
     ]
    },
    {
     "data": {
      "text/plain": [
       "['D://DrugResponsivenessGuideline_log//Result//EDC_EYDC_MDC_regen//EYDC9K//SVR//EYDC9K_SVR_model.pkl']"
      ]
     },
     "execution_count": 17,
     "metadata": {},
     "output_type": "execute_result"
    }
   ],
   "source": [
    "import pickle\n",
    "from sklearn.externals import joblib\n",
    "workdir = \"D://DrugResponsivenessGuideline_log//Result//EDC_EYDC_MDC_regen//EYDC9K//SVR\"\n",
    "joblib.dump(svr_lin, workdir + '//EYDC9K_SVR_model.pkl') \n"
   ]
  },
  {
   "cell_type": "code",
   "execution_count": 18,
   "metadata": {},
   "outputs": [],
   "source": [
    "a = pd.DataFrame(y_lin)\n",
    "b = pd.DataFrame(test_label_array)\n",
    "c = pd.concat([a,b], axis=1)\n",
    "c.columns=[\"Predicted\",\"Test\"]"
   ]
  },
  {
   "cell_type": "code",
   "execution_count": 19,
   "metadata": {},
   "outputs": [],
   "source": [
    "c.to_csv(workdir + '//EYDC9K_SVR_pred_obs_table.csv')"
   ]
  },
  {
   "cell_type": "code",
   "execution_count": 20,
   "metadata": {},
   "outputs": [
    {
     "data": {
      "text/html": [
       "<div>\n",
       "<style scoped>\n",
       "    .dataframe tbody tr th:only-of-type {\n",
       "        vertical-align: middle;\n",
       "    }\n",
       "\n",
       "    .dataframe tbody tr th {\n",
       "        vertical-align: top;\n",
       "    }\n",
       "\n",
       "    .dataframe thead th {\n",
       "        text-align: right;\n",
       "    }\n",
       "</style>\n",
       "<table border=\"1\" class=\"dataframe\">\n",
       "  <thead>\n",
       "    <tr style=\"text-align: right;\">\n",
       "      <th></th>\n",
       "      <th>Predicted</th>\n",
       "      <th>Test</th>\n",
       "    </tr>\n",
       "  </thead>\n",
       "  <tbody>\n",
       "    <tr>\n",
       "      <th>0</th>\n",
       "      <td>1.979851</td>\n",
       "      <td>2.079442</td>\n",
       "    </tr>\n",
       "    <tr>\n",
       "      <th>1</th>\n",
       "      <td>1.897370</td>\n",
       "      <td>2.079442</td>\n",
       "    </tr>\n",
       "    <tr>\n",
       "      <th>2</th>\n",
       "      <td>1.939737</td>\n",
       "      <td>-1.507775</td>\n",
       "    </tr>\n",
       "    <tr>\n",
       "      <th>3</th>\n",
       "      <td>1.981457</td>\n",
       "      <td>2.079442</td>\n",
       "    </tr>\n",
       "    <tr>\n",
       "      <th>4</th>\n",
       "      <td>1.905581</td>\n",
       "      <td>1.111349</td>\n",
       "    </tr>\n",
       "    <tr>\n",
       "      <th>...</th>\n",
       "      <td>...</td>\n",
       "      <td>...</td>\n",
       "    </tr>\n",
       "    <tr>\n",
       "      <th>954</th>\n",
       "      <td>1.979521</td>\n",
       "      <td>2.079442</td>\n",
       "    </tr>\n",
       "    <tr>\n",
       "      <th>955</th>\n",
       "      <td>1.945331</td>\n",
       "      <td>-2.526984</td>\n",
       "    </tr>\n",
       "    <tr>\n",
       "      <th>956</th>\n",
       "      <td>1.978786</td>\n",
       "      <td>2.079442</td>\n",
       "    </tr>\n",
       "    <tr>\n",
       "      <th>957</th>\n",
       "      <td>1.982353</td>\n",
       "      <td>2.079442</td>\n",
       "    </tr>\n",
       "    <tr>\n",
       "      <th>958</th>\n",
       "      <td>1.968372</td>\n",
       "      <td>2.079442</td>\n",
       "    </tr>\n",
       "  </tbody>\n",
       "</table>\n",
       "<p>959 rows × 2 columns</p>\n",
       "</div>"
      ],
      "text/plain": [
       "     Predicted      Test\n",
       "0     1.979851  2.079442\n",
       "1     1.897370  2.079442\n",
       "2     1.939737 -1.507775\n",
       "3     1.981457  2.079442\n",
       "4     1.905581  1.111349\n",
       "..         ...       ...\n",
       "954   1.979521  2.079442\n",
       "955   1.945331 -2.526984\n",
       "956   1.978786  2.079442\n",
       "957   1.982353  2.079442\n",
       "958   1.968372  2.079442\n",
       "\n",
       "[959 rows x 2 columns]"
      ]
     },
     "execution_count": 20,
     "metadata": {},
     "output_type": "execute_result"
    }
   ],
   "source": [
    "c"
   ]
  },
  {
   "cell_type": "code",
   "execution_count": 21,
   "metadata": {},
   "outputs": [
    {
     "data": {
      "text/plain": [
       "LinregressResult(slope=0.005172721467915895, intercept=1.9538114746253248, rvalue=0.3708264954348598, pvalue=1.250761346992652e-32, stderr=0.00041876350479989785)"
      ]
     },
     "execution_count": 21,
     "metadata": {},
     "output_type": "execute_result"
    }
   ],
   "source": [
    "from scipy.stats import linregress\n",
    "linregress(b[0], a[0])"
   ]
  },
  {
   "cell_type": "code",
   "execution_count": 22,
   "metadata": {},
   "outputs": [
    {
     "name": "stdout",
     "output_type": "stream",
     "text": [
      "-0.28655986485041396\n"
     ]
    }
   ],
   "source": [
    "from sklearn.metrics import r2_score\n",
    "r2_value = r2_score(b,a)\n",
    "print(r2_value)"
   ]
  },
  {
   "cell_type": "code",
   "execution_count": 23,
   "metadata": {},
   "outputs": [
    {
     "name": "stdout",
     "output_type": "stream",
     "text": [
      "Final rmse value is = 2.2443274183314728\n"
     ]
    }
   ],
   "source": [
    "rse = ((b[0]-a[0])**2).sum()\n",
    "mse = rse / len(b)\n",
    "print(\"Final rmse value is =\",np.sqrt(mse))"
   ]
  },
  {
   "cell_type": "code",
   "execution_count": 24,
   "metadata": {},
   "outputs": [
    {
     "data": {
      "image/png": "[encoded data removed]",
      "text/plain": [
       "<Figure size 432x432 with 3 Axes>"
      ]
     },
     "metadata": {
      "needs_background": "light"
     },
     "output_type": "display_data"
    }
   ],
   "source": [
    "workdir = \"D://DrugResponsivenessGuideline_log//Figures//Backbone//EDC_EYDC_MDC_regen//EYDC-9K\"\n",
    "import seaborn as sns\n",
    "\n",
    "g = sns.jointplot(x=\"Test\", y=\"Predicted\", data=c, kind='reg', color='#7C7C7C',\n",
    "                  joint_kws={'line_kws':{'color':'black'}})\n",
    "g.savefig(workdir+ '//EYDC9K_SVR.png', dpi=300)"
   ]
  },
  {
   "cell_type": "code",
   "execution_count": null,
   "metadata": {},
   "outputs": [],
   "source": []
  }
 ],
 "metadata": {
  "kernelspec": {
   "display_name": "Python 3",
   "language": "python",
   "name": "python3"
  },
  "language_info": {
   "codemirror_mode": {
    "name": "ipython",
    "version": 3
   },
   "file_extension": ".py",
   "mimetype": "text/x-python",
   "name": "python",
   "nbconvert_exporter": "python",
   "pygments_lexer": "ipython3",
   "version": "3.6.9"
  }
 },
 "nbformat": 4,
 "nbformat_minor": 2
}
