{
 "cells": [
  {
   "cell_type": "code",
   "execution_count": 1,
   "metadata": {},
   "outputs": [
    {
     "name": "stderr",
     "output_type": "stream",
     "text": [
      "C:\\Users\\a\\AppData\\Roaming\\Python\\Python37\\site-packages\\tensorflow\\python\\framework\\dtypes.py:526: FutureWarning: Passing (type, 1) or '1type' as a synonym of type is deprecated; in a future version of numpy, it will be understood as (type, (1,)) / '(1,)type'.\n",
      "  _np_qint8 = np.dtype([(\"qint8\", np.int8, 1)])\n",
      "C:\\Users\\a\\AppData\\Roaming\\Python\\Python37\\site-packages\\tensorflow\\python\\framework\\dtypes.py:527: FutureWarning: Passing (type, 1) or '1type' as a synonym of type is deprecated; in a future version of numpy, it will be understood as (type, (1,)) / '(1,)type'.\n",
      "  _np_quint8 = np.dtype([(\"quint8\", np.uint8, 1)])\n",
      "C:\\Users\\a\\AppData\\Roaming\\Python\\Python37\\site-packages\\tensorflow\\python\\framework\\dtypes.py:528: FutureWarning: Passing (type, 1) or '1type' as a synonym of type is deprecated; in a future version of numpy, it will be understood as (type, (1,)) / '(1,)type'.\n",
      "  _np_qint16 = np.dtype([(\"qint16\", np.int16, 1)])\n",
      "C:\\Users\\a\\AppData\\Roaming\\Python\\Python37\\site-packages\\tensorflow\\python\\framework\\dtypes.py:529: FutureWarning: Passing (type, 1) or '1type' as a synonym of type is deprecated; in a future version of numpy, it will be understood as (type, (1,)) / '(1,)type'.\n",
      "  _np_quint16 = np.dtype([(\"quint16\", np.uint16, 1)])\n",
      "C:\\Users\\a\\AppData\\Roaming\\Python\\Python37\\site-packages\\tensorflow\\python\\framework\\dtypes.py:530: FutureWarning: Passing (type, 1) or '1type' as a synonym of type is deprecated; in a future version of numpy, it will be understood as (type, (1,)) / '(1,)type'.\n",
      "  _np_qint32 = np.dtype([(\"qint32\", np.int32, 1)])\n",
      "C:\\Users\\a\\AppData\\Roaming\\Python\\Python37\\site-packages\\tensorflow\\python\\framework\\dtypes.py:535: FutureWarning: Passing (type, 1) or '1type' as a synonym of type is deprecated; in a future version of numpy, it will be understood as (type, (1,)) / '(1,)type'.\n",
      "  np_resource = np.dtype([(\"resource\", np.ubyte, 1)])\n",
      "Using TensorFlow backend.\n"
     ]
    }
   ],
   "source": [
    "import os\n",
    "import pandas as pd\n",
    "import numpy as np\n",
    "import tensorflow as tf\n",
    "import random\n",
    "from pandas import DataFrame\n",
    "from datetime import datetime\n",
    "import keras\n",
    "from keras.models import Sequential,Input,Model\n",
    "from keras.layers import Dense, Dropout, Flatten, Reshape, Activation\n",
    "from keras.layers import Conv1D, MaxPooling1D ,AveragePooling1D\n",
    "from keras.layers.normalization import BatchNormalization\n",
    "from keras.layers.advanced_activations import LeakyReLU\n",
    "from keras import backend as K\n",
    "from keras.callbacks import ModelCheckpoint, CSVLogger\n",
    "from keras.optimizers import Adam, RMSprop\n",
    "from keras.layers import Input, Dense, Conv1D, MaxPooling1D\n",
    "from keras.layers import Flatten, Concatenate, Dropout, Reshape, BatchNormalization\n",
    "from keras.models import Model\n"
   ]
  },
  {
   "cell_type": "code",
   "execution_count": 2,
   "metadata": {},
   "outputs": [
    {
     "name": "stdout",
     "output_type": "stream",
     "text": [
      "[name: \"/device:CPU:0\"\n",
      "device_type: \"CPU\"\n",
      "memory_limit: 268435456\n",
      "locality {\n",
      "}\n",
      "incarnation: 6979699784006865216\n",
      ", name: \"/device:GPU:0\"\n",
      "device_type: \"GPU\"\n",
      "memory_limit: 10116497408\n",
      "locality {\n",
      "  bus_id: 1\n",
      "  links {\n",
      "  }\n",
      "}\n",
      "incarnation: 13755822795654263064\n",
      "physical_device_desc: \"device: 0, name: GeForce GTX 1080 Ti, pci bus id: 0000:01:00.0, compute capability: 6.1\"\n",
      "]\n"
     ]
    }
   ],
   "source": [
    "from tensorflow.python.client import device_lib\n",
    "print(device_lib.list_local_devices())\n",
    "\n",
    "\n",
    "# 출처: https://3months.tistory.com/206 [Deep Play]"
   ]
  },
  {
   "cell_type": "code",
   "execution_count": 3,
   "metadata": {},
   "outputs": [],
   "source": [
    "workdir = \"E://Ronny_TF//201120_EDC_EYDC_MDC_other_PC//Dataset_EDC_EYDC_MDC_regen\""
   ]
  },
  {
   "cell_type": "code",
   "execution_count": 4,
   "metadata": {},
   "outputs": [],
   "source": [
    "# < Important note > [ Please download input data from https://mega.nz/#F!CeYGDKyS!uqkmWJ4E2XSGJp_C2VO2gg]\n",
    "# IC50evaluation//Dataset//Scenario3_EYDC-9K_minmax\n",
    "\n",
    "dataset = np.load(workdir + \"//EYDC9K_dataset.npz\") # input file\n",
    "ss0 = np.load(workdir + '//EYDC9K_dataset_r0_9_1.npz') # split for training and test"
   ]
  },
  {
   "cell_type": "code",
   "execution_count": 5,
   "metadata": {},
   "outputs": [],
   "source": [
    "x = dataset['x']\n",
    "y = dataset['y']\n",
    "# y_linear = dataset['y_lnIC50']\n",
    "ss0_train = ss0['train']\n",
    "ss0_test = ss0['test']"
   ]
  },
  {
   "cell_type": "code",
   "execution_count": 6,
   "metadata": {},
   "outputs": [],
   "source": [
    "training_image_array, training_label_array = x[ss0_train], y[ss0_train]\n",
    "test_image_array, test_label_array = x[ss0_test], y[ss0_test]\n",
    "\n",
    "# In[9]:\n",
    "# ori = training_image_array\n",
    "# bat = np.zeros((ori.shape[0],178))\n",
    "# cat = np.hstack([ori,bat])\n",
    "# training_image_array = cat\n",
    "\n",
    "# # In[8]:\n",
    "# training_image_array.shape\n",
    "\n",
    "# # In[10]:\n",
    "# ori2 = test_image_array\n",
    "# bat2 = np.zeros((ori2.shape[0],178))\n",
    "# cat2 = np.hstack([ori2,bat2])\n",
    "# test_image_array = cat2\n"
   ]
  },
  {
   "cell_type": "code",
   "execution_count": 7,
   "metadata": {},
   "outputs": [
    {
     "name": "stdout",
     "output_type": "stream",
     "text": [
      "0 37\n"
     ]
    }
   ],
   "source": [
    "# In[15]:\n",
    "ab =[]\n",
    "for i in range(100,200):\n",
    "    ab.append(len(training_image_array) % i)\n",
    "    \n",
    "print(min(ab), ab.index(min(ab)))"
   ]
  },
  {
   "cell_type": "code",
   "execution_count": 8,
   "metadata": {},
   "outputs": [
    {
     "data": {
      "text/plain": [
       "(9590, 41505)"
      ]
     },
     "execution_count": 8,
     "metadata": {},
     "output_type": "execute_result"
    }
   ],
   "source": [
    "x.shape"
   ]
  },
  {
   "cell_type": "code",
   "execution_count": 9,
   "metadata": {},
   "outputs": [
    {
     "data": {
      "text/plain": [
       "(8631, 41505)"
      ]
     },
     "execution_count": 9,
     "metadata": {},
     "output_type": "execute_result"
    }
   ],
   "source": [
    "training_image_array.shape"
   ]
  },
  {
   "cell_type": "code",
   "execution_count": 10,
   "metadata": {},
   "outputs": [],
   "source": [
    "# In[21]:\n",
    "\n",
    "num_classes = 1\n",
    "learning_rate = 0.0002\n",
    "training_epochs = 150\n",
    "batch_size = 100\n",
    "img_rows, img_cols = 154, 154\n"
   ]
  },
  {
   "cell_type": "code",
   "execution_count": 11,
   "metadata": {},
   "outputs": [],
   "source": [
    "train_X, train_y, test_X, test_y = training_image_array, training_label_array, test_image_array, test_label_array\n",
    "\n",
    "# if K.image_data_format() == 'channels_first':\n",
    "#     train_X = train_X.reshape(train_X.shape[0], 1, img_rows, img_cols)\n",
    "#     test_X = test_X.reshape(x_test.shape[0], 1, img_rows, img_cols)\n",
    "#     input_shape = (1, img_rows, img_cols)\n",
    "# else:\n",
    "#     train_X = train_X.reshape(train_X.shape[0], img_rows, img_cols, 1)\n",
    "#     test_X = test_X.reshape(test_X.shape[0], img_rows, img_cols, 1)\n",
    "#     input_shape = (img_rows, img_cols, 1)\n"
   ]
  },
  {
   "cell_type": "code",
   "execution_count": 12,
   "metadata": {},
   "outputs": [
    {
     "name": "stdout",
     "output_type": "stream",
     "text": [
      "39180\n"
     ]
    }
   ],
   "source": [
    "shape_value = 39180\n",
    "print(shape_value)"
   ]
  },
  {
   "cell_type": "code",
   "execution_count": 13,
   "metadata": {},
   "outputs": [
    {
     "data": {
      "text/plain": [
       "(8631, 41505)"
      ]
     },
     "execution_count": 13,
     "metadata": {},
     "output_type": "execute_result"
    }
   ],
   "source": [
    "train_X.shape"
   ]
  },
  {
   "cell_type": "code",
   "execution_count": 14,
   "metadata": {},
   "outputs": [],
   "source": [
    "train_X_cell = train_X[:,:shape_value]\n",
    "train_X_drug =train_X[:,shape_value:]\n",
    "test_X_cell = test_X[:,:shape_value]\n",
    "test_X_drug = test_X[:,shape_value:]"
   ]
  },
  {
   "cell_type": "code",
   "execution_count": 15,
   "metadata": {},
   "outputs": [
    {
     "data": {
      "text/plain": [
       "(8631, 39180)"
      ]
     },
     "execution_count": 15,
     "metadata": {},
     "output_type": "execute_result"
    }
   ],
   "source": [
    "train_X_cell.shape"
   ]
  },
  {
   "cell_type": "code",
   "execution_count": 16,
   "metadata": {},
   "outputs": [],
   "source": [
    "train_X_cell = train_X_cell.reshape(train_X_cell.shape[0], train_X_cell.shape[1], 1)\n",
    "train_X_drug = train_X_drug.reshape(train_X_drug.shape[0], train_X_drug.shape[1], 1)\n",
    "test_X_cell = test_X_cell.reshape(test_X_cell.shape[0], test_X_cell.shape[1], 1)\n",
    "test_X_drug = test_X_drug.reshape(test_X_drug.shape[0], test_X_drug.shape[1], 1)\n",
    "#input_shape = (img_rows, img_cols, 1)"
   ]
  },
  {
   "cell_type": "code",
   "execution_count": 17,
   "metadata": {},
   "outputs": [
    {
     "name": "stdout",
     "output_type": "stream",
     "text": [
      "(8631, 39180, 1) (8631, 2325, 1) (8631,) (959, 39180, 1) (959, 2325, 1) (959,)\n"
     ]
    }
   ],
   "source": [
    "print(train_X_cell.shape,train_X_drug.shape, train_y.shape, test_X_cell.shape,test_X_drug.shape, test_y.shape)"
   ]
  },
  {
   "cell_type": "code",
   "execution_count": 18,
   "metadata": {},
   "outputs": [
    {
     "data": {
      "text/plain": [
       "(8631, 39180, 1)"
      ]
     },
     "execution_count": 18,
     "metadata": {},
     "output_type": "execute_result"
    }
   ],
   "source": [
    "train_X_cell.shape"
   ]
  },
  {
   "cell_type": "code",
   "execution_count": 19,
   "metadata": {},
   "outputs": [
    {
     "name": "stdout",
     "output_type": "stream",
     "text": [
      "train_X shape: (8631, 41505)\n",
      "8631 train samples\n",
      "959 test samples\n"
     ]
    }
   ],
   "source": [
    "train_X_cell = train_X_cell.astype('float32')\n",
    "test_X_cell = test_X_cell.astype('float32')\n",
    "train_X_drug = train_X_drug.astype('float32')\n",
    "test_X_drug = test_X_drug.astype('float32')\n",
    "# train_X /= 255\n",
    "# test_X /= 255\n",
    "print('train_X shape:', train_X.shape)\n",
    "print(train_X.shape[0], 'train samples')\n",
    "print(test_X.shape[0], 'test samples')"
   ]
  },
  {
   "cell_type": "code",
   "execution_count": 20,
   "metadata": {},
   "outputs": [
    {
     "name": "stdout",
     "output_type": "stream",
     "text": [
      "WARNING:tensorflow:From C:\\Users\\a\\AppData\\Roaming\\Python\\Python37\\site-packages\\tensorflow\\python\\framework\\op_def_library.py:263: colocate_with (from tensorflow.python.framework.ops) is deprecated and will be removed in a future version.\n",
      "Instructions for updating:\n",
      "Colocations handled automatically by placer.\n",
      "WARNING:tensorflow:From C:\\Users\\a\\AppData\\Roaming\\Python\\Python37\\site-packages\\keras\\backend\\tensorflow_backend.py:3445: calling dropout (from tensorflow.python.ops.nn_ops) with keep_prob is deprecated and will be removed in a future version.\n",
      "Instructions for updating:\n",
      "Please use `rate` instead of `keep_prob`. Rate should be set to `rate = 1 - keep_prob`.\n"
     ]
    }
   ],
   "source": [
    "with K.tf.device('/GPU:0'):\n",
    "    input_cell = Input(shape=(train_X_cell.shape[1], train_X_cell.shape[2]), name='cell_input')\n",
    "    input_drug = Input(shape=(train_X_drug.shape[1], train_X_drug.shape[2]), name='drug_input')\n",
    "\n",
    "    conv_cell_line_1 = Conv1D(filters=50, kernel_size=700, strides=5, activation='tanh')(input_cell)\n",
    "    maxpool_cell_line_1 = MaxPooling1D(pool_size=5)(conv_cell_line_1)\n",
    "    conv_cell_line_2 = Conv1D(filters=30, kernel_size=5, strides=2, activation='relu')(maxpool_cell_line_1)\n",
    "    maxpool_cell_line_2 = MaxPooling1D(pool_size=10)(conv_cell_line_2)\n",
    "    flatten_cell_line = Flatten()(maxpool_cell_line_2)\n",
    "    dense_cell_line = Dense(100, activation='relu')(flatten_cell_line)\n",
    "    dropout_cell_line = Dropout(0.1)(dense_cell_line)\n",
    "\n",
    "    conv_drug_1 = Conv1D(filters=50, kernel_size=200, strides=3, activation='tanh')(input_drug)\n",
    "    maxpool_drug_1 = MaxPooling1D(pool_size=5)(conv_drug_1)\n",
    "    conv_drug_2 = Conv1D(filters=30, kernel_size=50, strides=5, activation='relu')(maxpool_drug_1)\n",
    "    maxpool_drug_2 = MaxPooling1D(pool_size=10)(conv_drug_2)\n",
    "    flatten_drug = Flatten()(maxpool_drug_2)\n",
    "    dense_drug = Dense(100, activation='relu')(flatten_drug)\n",
    "    dropout_drug = Dropout(0.1)(dense_drug)\n",
    "\n",
    "    concatenate = Concatenate()([dropout_cell_line, dropout_drug])\n",
    "    dense_1 = Dense(300, activation='tanh')(concatenate)\n",
    "    dropout_1 = Dropout(0.1)(dense_1)\n",
    "    reshape_1 = Reshape((300,1))(dropout_1)\n",
    "    conv_1 = Conv1D(filters=30, kernel_size=150, strides=1, activation='relu')(reshape_1)\n",
    "    maxpool_1 = MaxPooling1D(pool_size=2)(conv_1)\n",
    "    conv_2 = Conv1D(filters=10, kernel_size=5, strides=1, activation='relu')(maxpool_1)\n",
    "    maxpool_2 = MaxPooling1D(pool_size=3)(conv_2)\n",
    "    conv_3 = Conv1D(filters=5, kernel_size=5, strides=1, activation='relu')(maxpool_2)\n",
    "    maxpool_3 = MaxPooling1D(pool_size=3)(conv_3)\n",
    "    dropout_2 = Dropout(0.1)(maxpool_3)\n",
    "    flatten = Flatten()(dropout_2)\n",
    "    dropout_3 = Dropout(0.2)(flatten)\n",
    "    output = Dense(1, activation='linear', name='pred_lnIC50')(dropout_3)\n",
    "    model = Model(inputs=[input_cell, input_drug], outputs=output, name='MasterModel')\n",
    "\n"
   ]
  },
  {
   "cell_type": "code",
   "execution_count": 21,
   "metadata": {
    "scrolled": false
   },
   "outputs": [
    {
     "name": "stdout",
     "output_type": "stream",
     "text": [
      "__________________________________________________________________________________________________\n",
      "Layer (type)                    Output Shape         Param #     Connected to                     \n",
      "==================================================================================================\n",
      "cell_input (InputLayer)         (None, 39180, 1)     0                                            \n",
      "__________________________________________________________________________________________________\n",
      "drug_input (InputLayer)         (None, 2325, 1)      0                                            \n",
      "__________________________________________________________________________________________________\n",
      "conv1d_1 (Conv1D)               (None, 7697, 50)     35050       cell_input[0][0]                 \n",
      "__________________________________________________________________________________________________\n",
      "conv1d_3 (Conv1D)               (None, 709, 50)      10050       drug_input[0][0]                 \n",
      "__________________________________________________________________________________________________\n",
      "max_pooling1d_1 (MaxPooling1D)  (None, 1539, 50)     0           conv1d_1[0][0]                   \n",
      "__________________________________________________________________________________________________\n",
      "max_pooling1d_3 (MaxPooling1D)  (None, 141, 50)      0           conv1d_3[0][0]                   \n",
      "__________________________________________________________________________________________________\n",
      "conv1d_2 (Conv1D)               (None, 768, 30)      7530        max_pooling1d_1[0][0]            \n",
      "__________________________________________________________________________________________________\n",
      "conv1d_4 (Conv1D)               (None, 19, 30)       75030       max_pooling1d_3[0][0]            \n",
      "__________________________________________________________________________________________________\n",
      "max_pooling1d_2 (MaxPooling1D)  (None, 76, 30)       0           conv1d_2[0][0]                   \n",
      "__________________________________________________________________________________________________\n",
      "max_pooling1d_4 (MaxPooling1D)  (None, 1, 30)        0           conv1d_4[0][0]                   \n",
      "__________________________________________________________________________________________________\n",
      "flatten_1 (Flatten)             (None, 2280)         0           max_pooling1d_2[0][0]            \n",
      "__________________________________________________________________________________________________\n",
      "flatten_2 (Flatten)             (None, 30)           0           max_pooling1d_4[0][0]            \n",
      "__________________________________________________________________________________________________\n",
      "dense_1 (Dense)                 (None, 100)          228100      flatten_1[0][0]                  \n",
      "__________________________________________________________________________________________________\n",
      "dense_2 (Dense)                 (None, 100)          3100        flatten_2[0][0]                  \n",
      "__________________________________________________________________________________________________\n",
      "dropout_1 (Dropout)             (None, 100)          0           dense_1[0][0]                    \n",
      "__________________________________________________________________________________________________\n",
      "dropout_2 (Dropout)             (None, 100)          0           dense_2[0][0]                    \n",
      "__________________________________________________________________________________________________\n",
      "concatenate_1 (Concatenate)     (None, 200)          0           dropout_1[0][0]                  \n",
      "                                                                 dropout_2[0][0]                  \n",
      "__________________________________________________________________________________________________\n",
      "dense_3 (Dense)                 (None, 300)          60300       concatenate_1[0][0]              \n",
      "__________________________________________________________________________________________________\n",
      "dropout_3 (Dropout)             (None, 300)          0           dense_3[0][0]                    \n",
      "__________________________________________________________________________________________________\n",
      "reshape_1 (Reshape)             (None, 300, 1)       0           dropout_3[0][0]                  \n",
      "__________________________________________________________________________________________________\n",
      "conv1d_5 (Conv1D)               (None, 151, 30)      4530        reshape_1[0][0]                  \n",
      "__________________________________________________________________________________________________\n",
      "max_pooling1d_5 (MaxPooling1D)  (None, 75, 30)       0           conv1d_5[0][0]                   \n",
      "__________________________________________________________________________________________________\n",
      "conv1d_6 (Conv1D)               (None, 71, 10)       1510        max_pooling1d_5[0][0]            \n",
      "__________________________________________________________________________________________________\n",
      "max_pooling1d_6 (MaxPooling1D)  (None, 23, 10)       0           conv1d_6[0][0]                   \n",
      "__________________________________________________________________________________________________\n",
      "conv1d_7 (Conv1D)               (None, 19, 5)        255         max_pooling1d_6[0][0]            \n",
      "__________________________________________________________________________________________________\n",
      "max_pooling1d_7 (MaxPooling1D)  (None, 6, 5)         0           conv1d_7[0][0]                   \n",
      "__________________________________________________________________________________________________\n",
      "dropout_4 (Dropout)             (None, 6, 5)         0           max_pooling1d_7[0][0]            \n",
      "__________________________________________________________________________________________________\n",
      "flatten_3 (Flatten)             (None, 30)           0           dropout_4[0][0]                  \n",
      "__________________________________________________________________________________________________\n",
      "dropout_5 (Dropout)             (None, 30)           0           flatten_3[0][0]                  \n",
      "__________________________________________________________________________________________________\n",
      "pred_lnIC50 (Dense)             (None, 1)            31          dropout_5[0][0]                  \n",
      "==================================================================================================\n",
      "Total params: 425,486\n",
      "Trainable params: 425,486\n",
      "Non-trainable params: 0\n",
      "__________________________________________________________________________________________________\n"
     ]
    }
   ],
   "source": [
    "model.summary()"
   ]
  },
  {
   "cell_type": "code",
   "execution_count": 22,
   "metadata": {},
   "outputs": [],
   "source": [
    "config = tf.ConfigProto()\n",
    "config.gpu_options.allow_growth = True\n",
    "sess = tf.Session(config=config)"
   ]
  },
  {
   "cell_type": "code",
   "execution_count": 23,
   "metadata": {
    "scrolled": true
   },
   "outputs": [
    {
     "name": "stdout",
     "output_type": "stream",
     "text": [
      "StartTime : 2020-11-23 16:40:43.299002\n",
      "WARNING:tensorflow:From C:\\Users\\a\\AppData\\Roaming\\Python\\Python37\\site-packages\\tensorflow\\python\\ops\\math_ops.py:3066: to_int32 (from tensorflow.python.ops.math_ops) is deprecated and will be removed in a future version.\n",
      "Instructions for updating:\n",
      "Use tf.cast instead.\n",
      "Train on 8631 samples, validate on 959 samples\n",
      "Epoch 1/150\n",
      "8631/8631 [==============================] - 8s 914us/step - loss: 3.9990 - mean_squared_error: 3.9990 - mean_absolute_error: 1.6129 - val_loss: 2.8719 - val_mean_squared_error: 2.8719 - val_mean_absolute_error: 1.2504\n",
      "Epoch 2/150\n",
      "8631/8631 [==============================] - 5s 617us/step - loss: 1.8870 - mean_squared_error: 1.8870 - mean_absolute_error: 0.9964 - val_loss: 1.4420 - val_mean_squared_error: 1.4420 - val_mean_absolute_error: 0.6349\n",
      "Epoch 3/150\n",
      "8631/8631 [==============================] - 5s 610us/step - loss: 1.3995 - mean_squared_error: 1.3995 - mean_absolute_error: 0.8272 - val_loss: 1.2559 - val_mean_squared_error: 1.2559 - val_mean_absolute_error: 0.6161\n",
      "Epoch 4/150\n",
      "8631/8631 [==============================] - 5s 608us/step - loss: 1.3029 - mean_squared_error: 1.3029 - mean_absolute_error: 0.7923 - val_loss: 1.2046 - val_mean_squared_error: 1.2046 - val_mean_absolute_error: 0.6886\n",
      "Epoch 5/150\n",
      "8631/8631 [==============================] - 5s 608us/step - loss: 1.2739 - mean_squared_error: 1.2739 - mean_absolute_error: 0.7867 - val_loss: 1.1879 - val_mean_squared_error: 1.1879 - val_mean_absolute_error: 0.6365\n",
      "Epoch 6/150\n",
      "8631/8631 [==============================] - 5s 610us/step - loss: 1.1863 - mean_squared_error: 1.1863 - mean_absolute_error: 0.7518 - val_loss: 1.1448 - val_mean_squared_error: 1.1448 - val_mean_absolute_error: 0.6508\n",
      "Epoch 7/150\n",
      "8631/8631 [==============================] - 5s 608us/step - loss: 1.1986 - mean_squared_error: 1.1986 - mean_absolute_error: 0.7548 - val_loss: 1.1464 - val_mean_squared_error: 1.1464 - val_mean_absolute_error: 0.6625\n",
      "Epoch 8/150\n",
      "8631/8631 [==============================] - 5s 608us/step - loss: 1.1730 - mean_squared_error: 1.1730 - mean_absolute_error: 0.7493 - val_loss: 1.1728 - val_mean_squared_error: 1.1728 - val_mean_absolute_error: 0.7037\n",
      "Epoch 9/150\n",
      "8631/8631 [==============================] - 5s 610us/step - loss: 1.1665 - mean_squared_error: 1.1665 - mean_absolute_error: 0.7475 - val_loss: 1.1128 - val_mean_squared_error: 1.1128 - val_mean_absolute_error: 0.6192\n",
      "Epoch 10/150\n",
      "8631/8631 [==============================] - 5s 610us/step - loss: 1.1244 - mean_squared_error: 1.1244 - mean_absolute_error: 0.7339 - val_loss: 1.1047 - val_mean_squared_error: 1.1047 - val_mean_absolute_error: 0.6105\n",
      "Epoch 11/150\n",
      "8631/8631 [==============================] - 5s 612us/step - loss: 1.0980 - mean_squared_error: 1.0980 - mean_absolute_error: 0.7211 - val_loss: 1.0874 - val_mean_squared_error: 1.0874 - val_mean_absolute_error: 0.6361\n",
      "Epoch 12/150\n",
      "8631/8631 [==============================] - 5s 610us/step - loss: 1.0909 - mean_squared_error: 1.0909 - mean_absolute_error: 0.7247 - val_loss: 1.0325 - val_mean_squared_error: 1.0325 - val_mean_absolute_error: 0.6168\n",
      "Epoch 13/150\n",
      "8631/8631 [==============================] - 5s 612us/step - loss: 1.0482 - mean_squared_error: 1.0482 - mean_absolute_error: 0.7079 - val_loss: 1.0303 - val_mean_squared_error: 1.0303 - val_mean_absolute_error: 0.6313\n",
      "Epoch 14/150\n",
      "8631/8631 [==============================] - 5s 614us/step - loss: 1.0303 - mean_squared_error: 1.0303 - mean_absolute_error: 0.6991 - val_loss: 1.0094 - val_mean_squared_error: 1.0094 - val_mean_absolute_error: 0.5848\n",
      "Epoch 15/150\n",
      "8631/8631 [==============================] - 5s 612us/step - loss: 0.9762 - mean_squared_error: 0.9762 - mean_absolute_error: 0.6850 - val_loss: 1.0177 - val_mean_squared_error: 1.0177 - val_mean_absolute_error: 0.5949\n",
      "Epoch 16/150\n",
      "8631/8631 [==============================] - 5s 615us/step - loss: 0.9531 - mean_squared_error: 0.9531 - mean_absolute_error: 0.6812 - val_loss: 0.9593 - val_mean_squared_error: 0.9593 - val_mean_absolute_error: 0.6517\n",
      "Epoch 17/150\n",
      "8631/8631 [==============================] - 5s 616us/step - loss: 0.9456 - mean_squared_error: 0.9456 - mean_absolute_error: 0.6775 - val_loss: 0.9313 - val_mean_squared_error: 0.9313 - val_mean_absolute_error: 0.5844\n",
      "Epoch 18/150\n",
      "8631/8631 [==============================] - 5s 613us/step - loss: 0.8981 - mean_squared_error: 0.8981 - mean_absolute_error: 0.6615 - val_loss: 0.8899 - val_mean_squared_error: 0.8899 - val_mean_absolute_error: 0.5597\n",
      "Epoch 19/150\n",
      "8631/8631 [==============================] - 5s 614us/step - loss: 0.8961 - mean_squared_error: 0.8961 - mean_absolute_error: 0.6635 - val_loss: 0.8944 - val_mean_squared_error: 0.8944 - val_mean_absolute_error: 0.5501\n",
      "Epoch 20/150\n",
      "8631/8631 [==============================] - 5s 612us/step - loss: 0.8579 - mean_squared_error: 0.8579 - mean_absolute_error: 0.6458 - val_loss: 0.9019 - val_mean_squared_error: 0.9019 - val_mean_absolute_error: 0.5855\n",
      "Epoch 21/150\n",
      "8631/8631 [==============================] - 5s 614us/step - loss: 0.8506 - mean_squared_error: 0.8506 - mean_absolute_error: 0.6455 - val_loss: 0.8343 - val_mean_squared_error: 0.8343 - val_mean_absolute_error: 0.5841\n",
      "Epoch 22/150\n",
      "8631/8631 [==============================] - 5s 614us/step - loss: 0.8530 - mean_squared_error: 0.8530 - mean_absolute_error: 0.6489 - val_loss: 0.8631 - val_mean_squared_error: 0.8631 - val_mean_absolute_error: 0.5403\n",
      "Epoch 23/150\n",
      "8631/8631 [==============================] - 5s 612us/step - loss: 0.8361 - mean_squared_error: 0.8361 - mean_absolute_error: 0.6376 - val_loss: 0.8412 - val_mean_squared_error: 0.8412 - val_mean_absolute_error: 0.5761\n",
      "Epoch 24/150\n",
      "8631/8631 [==============================] - 5s 618us/step - loss: 0.8227 - mean_squared_error: 0.8227 - mean_absolute_error: 0.6392 - val_loss: 0.8592 - val_mean_squared_error: 0.8592 - val_mean_absolute_error: 0.5851\n",
      "Epoch 25/150\n",
      "8631/8631 [==============================] - 5s 615us/step - loss: 0.8215 - mean_squared_error: 0.8215 - mean_absolute_error: 0.6353 - val_loss: 0.8553 - val_mean_squared_error: 0.8553 - val_mean_absolute_error: 0.6271\n",
      "Epoch 26/150\n",
      "8631/8631 [==============================] - 5s 617us/step - loss: 0.8164 - mean_squared_error: 0.8164 - mean_absolute_error: 0.6338 - val_loss: 0.8419 - val_mean_squared_error: 0.8419 - val_mean_absolute_error: 0.5539\n",
      "Epoch 27/150\n",
      "8631/8631 [==============================] - 5s 616us/step - loss: 0.7854 - mean_squared_error: 0.7854 - mean_absolute_error: 0.6253 - val_loss: 0.8251 - val_mean_squared_error: 0.8251 - val_mean_absolute_error: 0.5615\n",
      "Epoch 28/150\n",
      "8631/8631 [==============================] - 5s 615us/step - loss: 0.7753 - mean_squared_error: 0.7753 - mean_absolute_error: 0.6171 - val_loss: 0.8479 - val_mean_squared_error: 0.8479 - val_mean_absolute_error: 0.5821\n",
      "Epoch 29/150\n",
      "8631/8631 [==============================] - 5s 614us/step - loss: 0.7855 - mean_squared_error: 0.7855 - mean_absolute_error: 0.6183 - val_loss: 0.8233 - val_mean_squared_error: 0.8233 - val_mean_absolute_error: 0.5522\n",
      "Epoch 30/150\n",
      "8631/8631 [==============================] - 5s 616us/step - loss: 0.7787 - mean_squared_error: 0.7787 - mean_absolute_error: 0.6181 - val_loss: 0.8421 - val_mean_squared_error: 0.8421 - val_mean_absolute_error: 0.5897\n",
      "Epoch 31/150\n",
      "8631/8631 [==============================] - 5s 616us/step - loss: 0.7396 - mean_squared_error: 0.7396 - mean_absolute_error: 0.6078 - val_loss: 0.9120 - val_mean_squared_error: 0.9120 - val_mean_absolute_error: 0.5614\n",
      "Epoch 32/150\n",
      "8631/8631 [==============================] - 5s 615us/step - loss: 0.7474 - mean_squared_error: 0.7474 - mean_absolute_error: 0.6045 - val_loss: 0.8530 - val_mean_squared_error: 0.8530 - val_mean_absolute_error: 0.5600\n",
      "Epoch 33/150\n",
      "8631/8631 [==============================] - 5s 614us/step - loss: 0.7431 - mean_squared_error: 0.7431 - mean_absolute_error: 0.6035 - val_loss: 0.8065 - val_mean_squared_error: 0.8065 - val_mean_absolute_error: 0.5182\n",
      "Epoch 34/150\n",
      "8631/8631 [==============================] - 5s 615us/step - loss: 0.7326 - mean_squared_error: 0.7326 - mean_absolute_error: 0.6003 - val_loss: 0.8119 - val_mean_squared_error: 0.8119 - val_mean_absolute_error: 0.5776\n"
     ]
    },
    {
     "name": "stdout",
     "output_type": "stream",
     "text": [
      "Epoch 35/150\n",
      "8631/8631 [==============================] - 5s 614us/step - loss: 0.7368 - mean_squared_error: 0.7368 - mean_absolute_error: 0.6007 - val_loss: 0.8120 - val_mean_squared_error: 0.8120 - val_mean_absolute_error: 0.5097\n",
      "Epoch 36/150\n",
      "8631/8631 [==============================] - 5s 614us/step - loss: 0.7285 - mean_squared_error: 0.7285 - mean_absolute_error: 0.5978 - val_loss: 0.8361 - val_mean_squared_error: 0.8361 - val_mean_absolute_error: 0.5214\n",
      "Epoch 37/150\n",
      "8631/8631 [==============================] - 5s 616us/step - loss: 0.7221 - mean_squared_error: 0.7221 - mean_absolute_error: 0.5942 - val_loss: 0.8224 - val_mean_squared_error: 0.8224 - val_mean_absolute_error: 0.5466\n",
      "Epoch 38/150\n",
      "8631/8631 [==============================] - 5s 614us/step - loss: 0.7190 - mean_squared_error: 0.7190 - mean_absolute_error: 0.5950 - val_loss: 0.8805 - val_mean_squared_error: 0.8805 - val_mean_absolute_error: 0.5473\n",
      "Epoch 39/150\n",
      "8631/8631 [==============================] - 5s 616us/step - loss: 0.7058 - mean_squared_error: 0.7058 - mean_absolute_error: 0.5861 - val_loss: 0.7945 - val_mean_squared_error: 0.7945 - val_mean_absolute_error: 0.6314\n",
      "Epoch 40/150\n",
      "8631/8631 [==============================] - 5s 614us/step - loss: 0.7107 - mean_squared_error: 0.7107 - mean_absolute_error: 0.5910 - val_loss: 0.8004 - val_mean_squared_error: 0.8004 - val_mean_absolute_error: 0.5448\n",
      "Epoch 41/150\n",
      "8631/8631 [==============================] - 5s 616us/step - loss: 0.7074 - mean_squared_error: 0.7074 - mean_absolute_error: 0.5856 - val_loss: 0.7625 - val_mean_squared_error: 0.7625 - val_mean_absolute_error: 0.5145\n",
      "Epoch 42/150\n",
      "8631/8631 [==============================] - 5s 617us/step - loss: 0.7031 - mean_squared_error: 0.7031 - mean_absolute_error: 0.5861 - val_loss: 0.7786 - val_mean_squared_error: 0.7786 - val_mean_absolute_error: 0.5543\n",
      "Epoch 43/150\n",
      "8631/8631 [==============================] - 5s 617us/step - loss: 0.6890 - mean_squared_error: 0.6890 - mean_absolute_error: 0.5795 - val_loss: 0.7815 - val_mean_squared_error: 0.7815 - val_mean_absolute_error: 0.5692\n",
      "Epoch 44/150\n",
      "8631/8631 [==============================] - 5s 614us/step - loss: 0.6780 - mean_squared_error: 0.6780 - mean_absolute_error: 0.5778 - val_loss: 0.8043 - val_mean_squared_error: 0.8043 - val_mean_absolute_error: 0.5306\n",
      "Epoch 45/150\n",
      "8631/8631 [==============================] - 5s 614us/step - loss: 0.6638 - mean_squared_error: 0.6638 - mean_absolute_error: 0.5689 - val_loss: 0.7662 - val_mean_squared_error: 0.7662 - val_mean_absolute_error: 0.5136\n",
      "Epoch 46/150\n",
      "8631/8631 [==============================] - 5s 612us/step - loss: 0.6696 - mean_squared_error: 0.6696 - mean_absolute_error: 0.5707 - val_loss: 0.7673 - val_mean_squared_error: 0.7673 - val_mean_absolute_error: 0.5484\n",
      "Epoch 47/150\n",
      "8631/8631 [==============================] - 5s 616us/step - loss: 0.6527 - mean_squared_error: 0.6527 - mean_absolute_error: 0.5673 - val_loss: 0.7607 - val_mean_squared_error: 0.7607 - val_mean_absolute_error: 0.5658\n",
      "Epoch 48/150\n",
      "8631/8631 [==============================] - 5s 633us/step - loss: 0.6640 - mean_squared_error: 0.6640 - mean_absolute_error: 0.5731 - val_loss: 0.9276 - val_mean_squared_error: 0.9276 - val_mean_absolute_error: 0.5427\n",
      "Epoch 49/150\n",
      "8631/8631 [==============================] - 5s 634us/step - loss: 0.6605 - mean_squared_error: 0.6605 - mean_absolute_error: 0.5676 - val_loss: 0.7723 - val_mean_squared_error: 0.7723 - val_mean_absolute_error: 0.5788\n",
      "Epoch 50/150\n",
      "8631/8631 [==============================] - 5s 630us/step - loss: 0.6402 - mean_squared_error: 0.6402 - mean_absolute_error: 0.5581 - val_loss: 0.8655 - val_mean_squared_error: 0.8655 - val_mean_absolute_error: 0.5374\n",
      "Epoch 51/150\n",
      "8631/8631 [==============================] - 5s 632us/step - loss: 0.6356 - mean_squared_error: 0.6356 - mean_absolute_error: 0.5586 - val_loss: 0.8247 - val_mean_squared_error: 0.8247 - val_mean_absolute_error: 0.5495\n",
      "Epoch 52/150\n",
      "8631/8631 [==============================] - 5s 634us/step - loss: 0.6711 - mean_squared_error: 0.6711 - mean_absolute_error: 0.5703 - val_loss: 0.7620 - val_mean_squared_error: 0.7620 - val_mean_absolute_error: 0.5665\n",
      "Epoch 53/150\n",
      "8631/8631 [==============================] - 5s 634us/step - loss: 0.6367 - mean_squared_error: 0.6367 - mean_absolute_error: 0.5579 - val_loss: 0.7532 - val_mean_squared_error: 0.7532 - val_mean_absolute_error: 0.5359\n",
      "Epoch 54/150\n",
      "8631/8631 [==============================] - 5s 635us/step - loss: 0.6401 - mean_squared_error: 0.6401 - mean_absolute_error: 0.5577 - val_loss: 0.8051 - val_mean_squared_error: 0.8051 - val_mean_absolute_error: 0.5822\n",
      "Epoch 55/150\n",
      "8631/8631 [==============================] - 5s 635us/step - loss: 0.6364 - mean_squared_error: 0.6364 - mean_absolute_error: 0.5593 - val_loss: 1.0130 - val_mean_squared_error: 1.0130 - val_mean_absolute_error: 0.6056\n",
      "Epoch 56/150\n",
      "8631/8631 [==============================] - 5s 633us/step - loss: 0.6334 - mean_squared_error: 0.6334 - mean_absolute_error: 0.5523 - val_loss: 0.8410 - val_mean_squared_error: 0.8410 - val_mean_absolute_error: 0.6240\n",
      "Epoch 57/150\n",
      "8631/8631 [==============================] - 5s 634us/step - loss: 0.6319 - mean_squared_error: 0.6319 - mean_absolute_error: 0.5549 - val_loss: 0.8263 - val_mean_squared_error: 0.8263 - val_mean_absolute_error: 0.5824\n",
      "Epoch 58/150\n",
      "8631/8631 [==============================] - 5s 634us/step - loss: 0.6256 - mean_squared_error: 0.6256 - mean_absolute_error: 0.5506 - val_loss: 0.8688 - val_mean_squared_error: 0.8688 - val_mean_absolute_error: 0.5880\n",
      "Epoch 59/150\n",
      "8631/8631 [==============================] - 5s 632us/step - loss: 0.6336 - mean_squared_error: 0.6336 - mean_absolute_error: 0.5545 - val_loss: 0.8270 - val_mean_squared_error: 0.8270 - val_mean_absolute_error: 0.5436\n",
      "Epoch 60/150\n",
      "8631/8631 [==============================] - 5s 637us/step - loss: 0.6090 - mean_squared_error: 0.6090 - mean_absolute_error: 0.5448 - val_loss: 0.7955 - val_mean_squared_error: 0.7955 - val_mean_absolute_error: 0.5495\n",
      "Epoch 61/150\n",
      "8631/8631 [==============================] - 5s 634us/step - loss: 0.6092 - mean_squared_error: 0.6092 - mean_absolute_error: 0.5459 - val_loss: 0.8779 - val_mean_squared_error: 0.8779 - val_mean_absolute_error: 0.5678\n",
      "Epoch 62/150\n",
      "8631/8631 [==============================] - 5s 634us/step - loss: 0.6066 - mean_squared_error: 0.6066 - mean_absolute_error: 0.5473 - val_loss: 0.8116 - val_mean_squared_error: 0.8116 - val_mean_absolute_error: 0.5485\n",
      "Epoch 63/150\n",
      "8631/8631 [==============================] - 5s 631us/step - loss: 0.6148 - mean_squared_error: 0.6148 - mean_absolute_error: 0.5492 - val_loss: 0.7506 - val_mean_squared_error: 0.7506 - val_mean_absolute_error: 0.5422\n",
      "Epoch 64/150\n",
      "8631/8631 [==============================] - 5s 635us/step - loss: 0.6070 - mean_squared_error: 0.6070 - mean_absolute_error: 0.5467 - val_loss: 0.7870 - val_mean_squared_error: 0.7870 - val_mean_absolute_error: 0.5260\n",
      "Epoch 65/150\n",
      "8631/8631 [==============================] - 5s 634us/step - loss: 0.5967 - mean_squared_error: 0.5967 - mean_absolute_error: 0.5385 - val_loss: 0.8340 - val_mean_squared_error: 0.8340 - val_mean_absolute_error: 0.5664\n",
      "Epoch 66/150\n",
      "8631/8631 [==============================] - 5s 632us/step - loss: 0.5832 - mean_squared_error: 0.5832 - mean_absolute_error: 0.5313 - val_loss: 0.7955 - val_mean_squared_error: 0.7955 - val_mean_absolute_error: 0.5557\n",
      "Epoch 67/150\n",
      "8631/8631 [==============================] - 5s 632us/step - loss: 0.5989 - mean_squared_error: 0.5989 - mean_absolute_error: 0.5411 - val_loss: 0.7790 - val_mean_squared_error: 0.7790 - val_mean_absolute_error: 0.5070\n",
      "Epoch 68/150\n",
      "8631/8631 [==============================] - 5s 635us/step - loss: 0.5797 - mean_squared_error: 0.5797 - mean_absolute_error: 0.5319 - val_loss: 0.8469 - val_mean_squared_error: 0.8469 - val_mean_absolute_error: 0.5980\n",
      "Epoch 69/150\n",
      "8631/8631 [==============================] - 5s 630us/step - loss: 0.5917 - mean_squared_error: 0.5917 - mean_absolute_error: 0.5380 - val_loss: 0.7972 - val_mean_squared_error: 0.7972 - val_mean_absolute_error: 0.5382\n",
      "Epoch 70/150\n"
     ]
    },
    {
     "name": "stdout",
     "output_type": "stream",
     "text": [
      "8631/8631 [==============================] - 5s 628us/step - loss: 0.5857 - mean_squared_error: 0.5857 - mean_absolute_error: 0.5341 - val_loss: 0.8046 - val_mean_squared_error: 0.8046 - val_mean_absolute_error: 0.5393\n",
      "Epoch 71/150\n",
      "8631/8631 [==============================] - 5s 628us/step - loss: 0.5686 - mean_squared_error: 0.5686 - mean_absolute_error: 0.5253 - val_loss: 0.7491 - val_mean_squared_error: 0.7491 - val_mean_absolute_error: 0.5064\n",
      "Epoch 72/150\n",
      "8631/8631 [==============================] - 5s 626us/step - loss: 0.5592 - mean_squared_error: 0.5592 - mean_absolute_error: 0.5241 - val_loss: 0.8282 - val_mean_squared_error: 0.8282 - val_mean_absolute_error: 0.5190\n",
      "Epoch 73/150\n",
      "8631/8631 [==============================] - 5s 627us/step - loss: 0.5575 - mean_squared_error: 0.5575 - mean_absolute_error: 0.5191 - val_loss: 0.7535 - val_mean_squared_error: 0.7535 - val_mean_absolute_error: 0.5252\n",
      "Epoch 74/150\n",
      "8631/8631 [==============================] - 5s 626us/step - loss: 0.5713 - mean_squared_error: 0.5713 - mean_absolute_error: 0.5275 - val_loss: 0.7724 - val_mean_squared_error: 0.7724 - val_mean_absolute_error: 0.5250\n",
      "Epoch 75/150\n",
      "8631/8631 [==============================] - 5s 630us/step - loss: 0.5656 - mean_squared_error: 0.5656 - mean_absolute_error: 0.5240 - val_loss: 0.8473 - val_mean_squared_error: 0.8473 - val_mean_absolute_error: 0.5516\n",
      "Epoch 76/150\n",
      "8631/8631 [==============================] - 5s 632us/step - loss: 0.5723 - mean_squared_error: 0.5723 - mean_absolute_error: 0.5260 - val_loss: 0.7359 - val_mean_squared_error: 0.7359 - val_mean_absolute_error: 0.5301\n",
      "Epoch 77/150\n",
      "8631/8631 [==============================] - 5s 629us/step - loss: 0.5689 - mean_squared_error: 0.5689 - mean_absolute_error: 0.5235 - val_loss: 0.7392 - val_mean_squared_error: 0.7392 - val_mean_absolute_error: 0.5492\n",
      "Epoch 78/150\n",
      "8631/8631 [==============================] - 5s 626us/step - loss: 0.5679 - mean_squared_error: 0.5679 - mean_absolute_error: 0.5255 - val_loss: 0.7888 - val_mean_squared_error: 0.7888 - val_mean_absolute_error: 0.5813\n",
      "Epoch 79/150\n",
      "8631/8631 [==============================] - 5s 634us/step - loss: 0.5526 - mean_squared_error: 0.5526 - mean_absolute_error: 0.5156 - val_loss: 0.7348 - val_mean_squared_error: 0.7348 - val_mean_absolute_error: 0.5147\n",
      "Epoch 80/150\n",
      "8631/8631 [==============================] - 5s 630us/step - loss: 0.5422 - mean_squared_error: 0.5422 - mean_absolute_error: 0.5125 - val_loss: 0.7950 - val_mean_squared_error: 0.7950 - val_mean_absolute_error: 0.5337\n",
      "Epoch 81/150\n",
      "8631/8631 [==============================] - 5s 632us/step - loss: 0.5671 - mean_squared_error: 0.5671 - mean_absolute_error: 0.5211 - val_loss: 0.8138 - val_mean_squared_error: 0.8138 - val_mean_absolute_error: 0.5185\n",
      "Epoch 82/150\n",
      "8631/8631 [==============================] - 5s 630us/step - loss: 0.5495 - mean_squared_error: 0.5495 - mean_absolute_error: 0.5147 - val_loss: 0.8133 - val_mean_squared_error: 0.8133 - val_mean_absolute_error: 0.5110\n",
      "Epoch 83/150\n",
      "8631/8631 [==============================] - 5s 632us/step - loss: 0.5337 - mean_squared_error: 0.5337 - mean_absolute_error: 0.5070 - val_loss: 0.8705 - val_mean_squared_error: 0.8705 - val_mean_absolute_error: 0.6029\n",
      "Epoch 84/150\n",
      "8631/8631 [==============================] - 5s 630us/step - loss: 0.5491 - mean_squared_error: 0.5491 - mean_absolute_error: 0.5191 - val_loss: 0.8091 - val_mean_squared_error: 0.8091 - val_mean_absolute_error: 0.5015\n",
      "Epoch 85/150\n",
      "8631/8631 [==============================] - 5s 632us/step - loss: 0.5604 - mean_squared_error: 0.5604 - mean_absolute_error: 0.5169 - val_loss: 0.8462 - val_mean_squared_error: 0.8462 - val_mean_absolute_error: 0.5504\n",
      "Epoch 86/150\n",
      "8631/8631 [==============================] - 5s 635us/step - loss: 0.5328 - mean_squared_error: 0.5328 - mean_absolute_error: 0.5124 - val_loss: 0.8104 - val_mean_squared_error: 0.8104 - val_mean_absolute_error: 0.5333\n",
      "Epoch 87/150\n",
      "8631/8631 [==============================] - 5s 634us/step - loss: 0.5344 - mean_squared_error: 0.5344 - mean_absolute_error: 0.5109 - val_loss: 0.7786 - val_mean_squared_error: 0.7786 - val_mean_absolute_error: 0.5318\n",
      "Epoch 88/150\n",
      "8631/8631 [==============================] - 5s 635us/step - loss: 0.5495 - mean_squared_error: 0.5495 - mean_absolute_error: 0.5131 - val_loss: 0.7935 - val_mean_squared_error: 0.7935 - val_mean_absolute_error: 0.5357\n",
      "Epoch 89/150\n",
      "8631/8631 [==============================] - 5s 632us/step - loss: 0.5310 - mean_squared_error: 0.5310 - mean_absolute_error: 0.5097 - val_loss: 0.7624 - val_mean_squared_error: 0.7624 - val_mean_absolute_error: 0.5460\n",
      "Epoch 90/150\n",
      "8631/8631 [==============================] - 5s 634us/step - loss: 0.5249 - mean_squared_error: 0.5249 - mean_absolute_error: 0.5099 - val_loss: 0.7984 - val_mean_squared_error: 0.7984 - val_mean_absolute_error: 0.5329\n",
      "Epoch 91/150\n",
      "8631/8631 [==============================] - 5s 635us/step - loss: 0.5417 - mean_squared_error: 0.5417 - mean_absolute_error: 0.5129 - val_loss: 0.8555 - val_mean_squared_error: 0.8555 - val_mean_absolute_error: 0.5808\n",
      "Epoch 92/150\n",
      "8631/8631 [==============================] - 5s 630us/step - loss: 0.5397 - mean_squared_error: 0.5397 - mean_absolute_error: 0.5096 - val_loss: 0.8017 - val_mean_squared_error: 0.8017 - val_mean_absolute_error: 0.5461\n",
      "Epoch 93/150\n",
      "8631/8631 [==============================] - 5s 634us/step - loss: 0.5236 - mean_squared_error: 0.5236 - mean_absolute_error: 0.5033 - val_loss: 0.7659 - val_mean_squared_error: 0.7659 - val_mean_absolute_error: 0.5407\n",
      "Epoch 94/150\n",
      "8631/8631 [==============================] - 5s 634us/step - loss: 0.5267 - mean_squared_error: 0.5267 - mean_absolute_error: 0.5026 - val_loss: 0.7682 - val_mean_squared_error: 0.7682 - val_mean_absolute_error: 0.5443\n",
      "Epoch 95/150\n",
      "8631/8631 [==============================] - 5s 634us/step - loss: 0.5089 - mean_squared_error: 0.5089 - mean_absolute_error: 0.4934 - val_loss: 0.7968 - val_mean_squared_error: 0.7968 - val_mean_absolute_error: 0.5472\n",
      "Epoch 96/150\n",
      "8631/8631 [==============================] - 5s 634us/step - loss: 0.5214 - mean_squared_error: 0.5214 - mean_absolute_error: 0.5042 - val_loss: 0.8019 - val_mean_squared_error: 0.8019 - val_mean_absolute_error: 0.5700\n",
      "Epoch 97/150\n",
      "8631/8631 [==============================] - 5s 637us/step - loss: 0.5188 - mean_squared_error: 0.5188 - mean_absolute_error: 0.5008 - val_loss: 0.8202 - val_mean_squared_error: 0.8202 - val_mean_absolute_error: 0.5764\n",
      "Epoch 98/150\n",
      "8631/8631 [==============================] - 5s 632us/step - loss: 0.5183 - mean_squared_error: 0.5183 - mean_absolute_error: 0.5037 - val_loss: 0.8515 - val_mean_squared_error: 0.8515 - val_mean_absolute_error: 0.5525\n",
      "Epoch 99/150\n",
      "8631/8631 [==============================] - 5s 635us/step - loss: 0.5105 - mean_squared_error: 0.5105 - mean_absolute_error: 0.4967 - val_loss: 0.7865 - val_mean_squared_error: 0.7865 - val_mean_absolute_error: 0.5133\n",
      "Epoch 100/150\n",
      "8631/8631 [==============================] - 5s 635us/step - loss: 0.5057 - mean_squared_error: 0.5057 - mean_absolute_error: 0.4968 - val_loss: 0.8832 - val_mean_squared_error: 0.8832 - val_mean_absolute_error: 0.5521\n",
      "Epoch 101/150\n",
      "8631/8631 [==============================] - 5s 635us/step - loss: 0.5230 - mean_squared_error: 0.5230 - mean_absolute_error: 0.5023 - val_loss: 0.7687 - val_mean_squared_error: 0.7687 - val_mean_absolute_error: 0.5564\n",
      "Epoch 102/150\n",
      "8631/8631 [==============================] - 5s 635us/step - loss: 0.4892 - mean_squared_error: 0.4892 - mean_absolute_error: 0.4865 - val_loss: 0.8584 - val_mean_squared_error: 0.8584 - val_mean_absolute_error: 0.5385\n",
      "Epoch 103/150\n",
      "8631/8631 [==============================] - 5s 634us/step - loss: 0.5048 - mean_squared_error: 0.5048 - mean_absolute_error: 0.4938 - val_loss: 0.8137 - val_mean_squared_error: 0.8137 - val_mean_absolute_error: 0.5411\n",
      "Epoch 104/150\n",
      "8631/8631 [==============================] - 5s 632us/step - loss: 0.5008 - mean_squared_error: 0.5008 - mean_absolute_error: 0.4917 - val_loss: 0.8518 - val_mean_squared_error: 0.8518 - val_mean_absolute_error: 0.5380\n",
      "Epoch 105/150\n"
     ]
    },
    {
     "name": "stdout",
     "output_type": "stream",
     "text": [
      "8631/8631 [==============================] - 5s 628us/step - loss: 0.4985 - mean_squared_error: 0.4985 - mean_absolute_error: 0.4936 - val_loss: 0.7979 - val_mean_squared_error: 0.7979 - val_mean_absolute_error: 0.5501\n",
      "Epoch 106/150\n",
      "8631/8631 [==============================] - 5s 628us/step - loss: 0.5103 - mean_squared_error: 0.5103 - mean_absolute_error: 0.4943 - val_loss: 0.8191 - val_mean_squared_error: 0.8191 - val_mean_absolute_error: 0.5271\n",
      "Epoch 107/150\n",
      "8631/8631 [==============================] - 5s 629us/step - loss: 0.4923 - mean_squared_error: 0.4923 - mean_absolute_error: 0.4853 - val_loss: 0.7958 - val_mean_squared_error: 0.7958 - val_mean_absolute_error: 0.5470\n",
      "Epoch 108/150\n",
      "8631/8631 [==============================] - 5s 627us/step - loss: 0.4942 - mean_squared_error: 0.4942 - mean_absolute_error: 0.4880 - val_loss: 0.9113 - val_mean_squared_error: 0.9113 - val_mean_absolute_error: 0.5253\n",
      "Epoch 109/150\n",
      "8631/8631 [==============================] - 5s 630us/step - loss: 0.4971 - mean_squared_error: 0.4971 - mean_absolute_error: 0.4876 - val_loss: 0.7746 - val_mean_squared_error: 0.7746 - val_mean_absolute_error: 0.5402\n",
      "Epoch 110/150\n",
      "8631/8631 [==============================] - 5s 632us/step - loss: 0.4984 - mean_squared_error: 0.4984 - mean_absolute_error: 0.4861 - val_loss: 0.7700 - val_mean_squared_error: 0.7700 - val_mean_absolute_error: 0.5374\n",
      "Epoch 111/150\n",
      "8631/8631 [==============================] - 5s 630us/step - loss: 0.4980 - mean_squared_error: 0.4980 - mean_absolute_error: 0.4914 - val_loss: 0.7934 - val_mean_squared_error: 0.7934 - val_mean_absolute_error: 0.5350\n",
      "Epoch 112/150\n",
      "8631/8631 [==============================] - 5s 628us/step - loss: 0.4991 - mean_squared_error: 0.4991 - mean_absolute_error: 0.4926 - val_loss: 0.7931 - val_mean_squared_error: 0.7931 - val_mean_absolute_error: 0.5251\n",
      "Epoch 113/150\n",
      "8631/8631 [==============================] - 5s 628us/step - loss: 0.4844 - mean_squared_error: 0.4844 - mean_absolute_error: 0.4820 - val_loss: 0.8070 - val_mean_squared_error: 0.8070 - val_mean_absolute_error: 0.5411\n",
      "Epoch 114/150\n",
      "8631/8631 [==============================] - 5s 628us/step - loss: 0.4833 - mean_squared_error: 0.4833 - mean_absolute_error: 0.4835 - val_loss: 0.8412 - val_mean_squared_error: 0.8412 - val_mean_absolute_error: 0.5799\n",
      "Epoch 115/150\n",
      "8631/8631 [==============================] - 5s 632us/step - loss: 0.4826 - mean_squared_error: 0.4826 - mean_absolute_error: 0.4830 - val_loss: 0.8079 - val_mean_squared_error: 0.8079 - val_mean_absolute_error: 0.5261\n",
      "Epoch 116/150\n",
      "8631/8631 [==============================] - 5s 628us/step - loss: 0.4881 - mean_squared_error: 0.4881 - mean_absolute_error: 0.4852 - val_loss: 0.7489 - val_mean_squared_error: 0.7489 - val_mean_absolute_error: 0.4867\n",
      "Epoch 117/150\n",
      "8631/8631 [==============================] - 5s 628us/step - loss: 0.4949 - mean_squared_error: 0.4949 - mean_absolute_error: 0.4887 - val_loss: 0.8424 - val_mean_squared_error: 0.8424 - val_mean_absolute_error: 0.5492\n",
      "Epoch 118/150\n",
      "8631/8631 [==============================] - 5s 632us/step - loss: 0.4820 - mean_squared_error: 0.4820 - mean_absolute_error: 0.4863 - val_loss: 0.7795 - val_mean_squared_error: 0.7795 - val_mean_absolute_error: 0.5012\n",
      "Epoch 119/150\n",
      "8631/8631 [==============================] - 5s 628us/step - loss: 0.4743 - mean_squared_error: 0.4743 - mean_absolute_error: 0.4773 - val_loss: 0.8167 - val_mean_squared_error: 0.8167 - val_mean_absolute_error: 0.5293\n",
      "Epoch 120/150\n",
      "8631/8631 [==============================] - 5s 634us/step - loss: 0.4786 - mean_squared_error: 0.4786 - mean_absolute_error: 0.4834 - val_loss: 0.7843 - val_mean_squared_error: 0.7843 - val_mean_absolute_error: 0.5369\n",
      "Epoch 121/150\n",
      "8631/8631 [==============================] - 5s 630us/step - loss: 0.4898 - mean_squared_error: 0.4898 - mean_absolute_error: 0.4830 - val_loss: 0.8277 - val_mean_squared_error: 0.8277 - val_mean_absolute_error: 0.5640\n",
      "Epoch 122/150\n",
      "8631/8631 [==============================] - 5s 630us/step - loss: 0.4617 - mean_squared_error: 0.4617 - mean_absolute_error: 0.4749 - val_loss: 0.7833 - val_mean_squared_error: 0.7833 - val_mean_absolute_error: 0.5678\n",
      "Epoch 123/150\n",
      "8631/8631 [==============================] - 5s 630us/step - loss: 0.4679 - mean_squared_error: 0.4679 - mean_absolute_error: 0.4762 - val_loss: 0.8917 - val_mean_squared_error: 0.8917 - val_mean_absolute_error: 0.5432\n",
      "Epoch 124/150\n",
      "8631/8631 [==============================] - 5s 630us/step - loss: 0.4810 - mean_squared_error: 0.4810 - mean_absolute_error: 0.4816 - val_loss: 0.8827 - val_mean_squared_error: 0.8827 - val_mean_absolute_error: 0.5138\n",
      "Epoch 125/150\n",
      "8631/8631 [==============================] - 5s 628us/step - loss: 0.4729 - mean_squared_error: 0.4729 - mean_absolute_error: 0.4803 - val_loss: 0.8308 - val_mean_squared_error: 0.8308 - val_mean_absolute_error: 0.5159\n",
      "Epoch 126/150\n",
      "8631/8631 [==============================] - 5s 626us/step - loss: 0.4776 - mean_squared_error: 0.4776 - mean_absolute_error: 0.4786 - val_loss: 0.8331 - val_mean_squared_error: 0.8331 - val_mean_absolute_error: 0.5341\n",
      "Epoch 127/150\n",
      "8631/8631 [==============================] - 5s 630us/step - loss: 0.4700 - mean_squared_error: 0.4700 - mean_absolute_error: 0.4786 - val_loss: 0.7902 - val_mean_squared_error: 0.7902 - val_mean_absolute_error: 0.5095\n",
      "Epoch 128/150\n",
      "8631/8631 [==============================] - 5s 632us/step - loss: 0.4745 - mean_squared_error: 0.4745 - mean_absolute_error: 0.4748 - val_loss: 0.7535 - val_mean_squared_error: 0.7535 - val_mean_absolute_error: 0.5312\n",
      "Epoch 129/150\n",
      "8631/8631 [==============================] - 5s 630us/step - loss: 0.4778 - mean_squared_error: 0.4778 - mean_absolute_error: 0.4798 - val_loss: 0.8137 - val_mean_squared_error: 0.8137 - val_mean_absolute_error: 0.5095\n",
      "Epoch 130/150\n",
      "8631/8631 [==============================] - 5s 630us/step - loss: 0.4716 - mean_squared_error: 0.4716 - mean_absolute_error: 0.4752 - val_loss: 0.8305 - val_mean_squared_error: 0.8305 - val_mean_absolute_error: 0.5423\n",
      "Epoch 131/150\n",
      "8631/8631 [==============================] - 5s 626us/step - loss: 0.4669 - mean_squared_error: 0.4669 - mean_absolute_error: 0.4739 - val_loss: 0.7837 - val_mean_squared_error: 0.7837 - val_mean_absolute_error: 0.5285\n",
      "Epoch 132/150\n",
      "8631/8631 [==============================] - 5s 628us/step - loss: 0.4388 - mean_squared_error: 0.4388 - mean_absolute_error: 0.4620 - val_loss: 0.7827 - val_mean_squared_error: 0.7827 - val_mean_absolute_error: 0.5372\n",
      "Epoch 133/150\n",
      "8631/8631 [==============================] - 5s 632us/step - loss: 0.4519 - mean_squared_error: 0.4519 - mean_absolute_error: 0.4639 - val_loss: 0.8065 - val_mean_squared_error: 0.8065 - val_mean_absolute_error: 0.5357\n",
      "Epoch 134/150\n",
      "8631/8631 [==============================] - 5s 628us/step - loss: 0.4464 - mean_squared_error: 0.4464 - mean_absolute_error: 0.4646 - val_loss: 0.7780 - val_mean_squared_error: 0.7780 - val_mean_absolute_error: 0.5231\n",
      "Epoch 135/150\n",
      "8631/8631 [==============================] - 5s 628us/step - loss: 0.4560 - mean_squared_error: 0.4560 - mean_absolute_error: 0.4670 - val_loss: 0.7980 - val_mean_squared_error: 0.7980 - val_mean_absolute_error: 0.5684\n",
      "Epoch 136/150\n",
      "8631/8631 [==============================] - 5s 628us/step - loss: 0.4415 - mean_squared_error: 0.4415 - mean_absolute_error: 0.4643 - val_loss: 0.7735 - val_mean_squared_error: 0.7735 - val_mean_absolute_error: 0.5023\n",
      "Epoch 137/150\n",
      "8631/8631 [==============================] - 5s 634us/step - loss: 0.4699 - mean_squared_error: 0.4699 - mean_absolute_error: 0.4750 - val_loss: 0.8165 - val_mean_squared_error: 0.8165 - val_mean_absolute_error: 0.5086\n",
      "Epoch 138/150\n",
      "8631/8631 [==============================] - 5s 632us/step - loss: 0.4473 - mean_squared_error: 0.4473 - mean_absolute_error: 0.4657 - val_loss: 0.7714 - val_mean_squared_error: 0.7714 - val_mean_absolute_error: 0.5051\n",
      "Epoch 139/150\n",
      "8631/8631 [==============================] - 5s 632us/step - loss: 0.4432 - mean_squared_error: 0.4432 - mean_absolute_error: 0.4605 - val_loss: 0.8165 - val_mean_squared_error: 0.8165 - val_mean_absolute_error: 0.4987\n",
      "Epoch 140/150\n"
     ]
    },
    {
     "name": "stdout",
     "output_type": "stream",
     "text": [
      "8631/8631 [==============================] - 5s 626us/step - loss: 0.4540 - mean_squared_error: 0.4540 - mean_absolute_error: 0.4648 - val_loss: 0.8286 - val_mean_squared_error: 0.8286 - val_mean_absolute_error: 0.5215\n",
      "Epoch 141/150\n",
      "8631/8631 [==============================] - 5s 626us/step - loss: 0.4637 - mean_squared_error: 0.4637 - mean_absolute_error: 0.4692 - val_loss: 0.7722 - val_mean_squared_error: 0.7722 - val_mean_absolute_error: 0.5201\n",
      "Epoch 142/150\n",
      "8631/8631 [==============================] - 5s 626us/step - loss: 0.4407 - mean_squared_error: 0.4407 - mean_absolute_error: 0.4619 - val_loss: 0.8119 - val_mean_squared_error: 0.8119 - val_mean_absolute_error: 0.5194\n",
      "Epoch 143/150\n",
      "8631/8631 [==============================] - 5s 630us/step - loss: 0.4548 - mean_squared_error: 0.4548 - mean_absolute_error: 0.4617 - val_loss: 0.8055 - val_mean_squared_error: 0.8055 - val_mean_absolute_error: 0.5338\n",
      "Epoch 144/150\n",
      "8631/8631 [==============================] - 5s 625us/step - loss: 0.4466 - mean_squared_error: 0.4466 - mean_absolute_error: 0.4618 - val_loss: 0.8154 - val_mean_squared_error: 0.8154 - val_mean_absolute_error: 0.5155\n",
      "Epoch 145/150\n",
      "8631/8631 [==============================] - 5s 626us/step - loss: 0.4356 - mean_squared_error: 0.4356 - mean_absolute_error: 0.4572 - val_loss: 0.7922 - val_mean_squared_error: 0.7922 - val_mean_absolute_error: 0.5563\n",
      "Epoch 146/150\n",
      "8631/8631 [==============================] - 5s 628us/step - loss: 0.4456 - mean_squared_error: 0.4456 - mean_absolute_error: 0.4607 - val_loss: 0.7994 - val_mean_squared_error: 0.7994 - val_mean_absolute_error: 0.5481\n",
      "Epoch 147/150\n",
      "8631/8631 [==============================] - 5s 626us/step - loss: 0.4559 - mean_squared_error: 0.4559 - mean_absolute_error: 0.4668 - val_loss: 0.7729 - val_mean_squared_error: 0.7729 - val_mean_absolute_error: 0.4953\n",
      "Epoch 148/150\n",
      "8631/8631 [==============================] - 5s 626us/step - loss: 0.4433 - mean_squared_error: 0.4433 - mean_absolute_error: 0.4676 - val_loss: 0.7516 - val_mean_squared_error: 0.7516 - val_mean_absolute_error: 0.5448\n",
      "Epoch 149/150\n",
      "8631/8631 [==============================] - 5s 628us/step - loss: 0.4429 - mean_squared_error: 0.4429 - mean_absolute_error: 0.4623 - val_loss: 0.8184 - val_mean_squared_error: 0.8184 - val_mean_absolute_error: 0.5436\n",
      "Epoch 150/150\n",
      "8631/8631 [==============================] - 5s 628us/step - loss: 0.4381 - mean_squared_error: 0.4381 - mean_absolute_error: 0.4574 - val_loss: 0.7989 - val_mean_squared_error: 0.7989 - val_mean_absolute_error: 0.5449\n",
      "EndTime : 2020-11-23 16:54:16.515476\n"
     ]
    }
   ],
   "source": [
    "optim = Adam(lr=0.0002)\n",
    "\n",
    "model.compile(loss='mse',\n",
    "\t\t      optimizer=optim,\n",
    "\t\t\t  metrics=['mse','mae'])\n",
    "\n",
    "StartTime8 = datetime.now()\n",
    "print(\"StartTime :\", StartTime8)\n",
    "with K.tf.device('/GPU:0'):\n",
    "    model_train = model.fit([train_X_cell, train_X_drug], train_y, validation_data=([test_X_cell, test_X_drug], test_y),\n",
    "                            batch_size=batch_size,epochs=training_epochs,verbose=1)\n",
    "\n",
    "EndTime8 = datetime.now()\n",
    "print(\"EndTime :\", EndTime8)"
   ]
  },
  {
   "cell_type": "code",
   "execution_count": 24,
   "metadata": {},
   "outputs": [],
   "source": [
    "import json\n",
    "from keras.models import model_from_json, load_model\n",
    "workdir = \"E://Ronny_TF//201120_EDC_EYDC_MDC_other_PC//Result//EYDC9K//CNN\"\n",
    "# Option 1: Save Weights + Architecture\n",
    "model.save_weights(workdir+ '//EYDC9K_CNN_model_fix_v3.h5')\n",
    "with open(workdir + '//EYDC9K_CNN_model_architecture_fix_v3.json', 'w') as f:\n",
    "    f.write(model.to_json())\n",
    "# Option 1: Load Weights + Architecture\n",
    "# with open('model_architecture.json', 'r') as f:\n",
    "#     new_model_1 = model_from_json(f.read())\n",
    "# new_model_1.load_weights('model_weights.h5')"
   ]
  },
  {
   "cell_type": "code",
   "execution_count": 25,
   "metadata": {},
   "outputs": [],
   "source": [
    "# Option 2: Save/Load the Entire Model\n",
    "from keras.models import load_model\n",
    "\n",
    "# Creates a HDF5 file 'my_model.h5'\n",
    "model.save(workdir + '//EYDC9K_CNN_model_fix_2080ti_v3.h5')\n",
    "\n",
    "# Deletes the existing model\n",
    "# del model  \n",
    "\n",
    "# Returns a compiled model identical to the previous one\n",
    "# model = load_model('my_model.h5')"
   ]
  },
  {
   "cell_type": "code",
   "execution_count": 26,
   "metadata": {},
   "outputs": [
    {
     "name": "stdout",
     "output_type": "stream",
     "text": [
      "959/959 [==============================] - 0s 404us/step\n"
     ]
    }
   ],
   "source": [
    "test_eval = model.evaluate([test_X_cell,test_X_drug], test_label_array, verbose=1)"
   ]
  },
  {
   "cell_type": "code",
   "execution_count": 27,
   "metadata": {},
   "outputs": [
    {
     "data": {
      "text/plain": [
       "[0.7988976286772766, 0.7988976286772766, 0.5448696220505349]"
      ]
     },
     "execution_count": 27,
     "metadata": {},
     "output_type": "execute_result"
    }
   ],
   "source": [
    "test_eval"
   ]
  },
  {
   "cell_type": "code",
   "execution_count": 28,
   "metadata": {},
   "outputs": [],
   "source": [
    "accuracy = model_train.history['mean_squared_error']\n",
    "val_accuracy = model_train.history['val_mean_squared_error']\n",
    "loss = model_train.history['loss']\n",
    "val_loss = model_train.history['val_loss']\n",
    "\n",
    "np_acc = np.array(accuracy)\n",
    "np_val_acc = np.array(val_accuracy)\n",
    "np_loss = np.array(loss)\n",
    "np_val_loss = np.array(val_loss)"
   ]
  },
  {
   "cell_type": "code",
   "execution_count": 29,
   "metadata": {},
   "outputs": [],
   "source": [
    "import matplotlib\n",
    "from matplotlib import pyplot as plt"
   ]
  },
  {
   "cell_type": "code",
   "execution_count": 30,
   "metadata": {},
   "outputs": [
    {
     "data": {
      "image/png": "[encoded data removed]",
      "text/plain": [
       "<Figure size 432x288 with 1 Axes>"
      ]
     },
     "metadata": {
      "needs_background": "light"
     },
     "output_type": "display_data"
    },
    {
     "data": {
      "image/png": "[encoded data removed]",
      "text/plain": [
       "<Figure size 432x288 with 1 Axes>"
      ]
     },
     "metadata": {
      "needs_background": "light"
     },
     "output_type": "display_data"
    }
   ],
   "source": [
    "# accuracy = model_train.history['acc']\n",
    "# val_accuracy = model_train.history['val_acc']\n",
    "# loss = model_train.history['loss']\n",
    "# val_loss = model_train.history['val_loss']\n",
    "epochs = range(len(accuracy))\n",
    "plt.plot(epochs, accuracy, 'bo', label='Training mse',c='red')\n",
    "plt.plot(epochs, val_accuracy, 'b', label='Validation mse',c='red')\n",
    "plt.title('Training and validation mse')\n",
    "plt.legend()\n",
    "plt.figure()\n",
    "plt.plot(epochs, loss, 'bo', label='Training loss',c='red')\n",
    "plt.plot(epochs, val_loss, 'b', label='Validation loss',c='red')\n",
    "plt.title('Training and validation loss')\n",
    "plt.legend()\n",
    "plt.show()"
   ]
  },
  {
   "cell_type": "code",
   "execution_count": 31,
   "metadata": {},
   "outputs": [],
   "source": [
    "predicted_classes = model.predict([test_X_cell,test_X_drug])"
   ]
  },
  {
   "cell_type": "code",
   "execution_count": 32,
   "metadata": {},
   "outputs": [],
   "source": [
    "predicted_value = predicted_classes"
   ]
  },
  {
   "cell_type": "code",
   "execution_count": 33,
   "metadata": {},
   "outputs": [],
   "source": [
    "a = pd.DataFrame(predicted_value)\n",
    "b = pd.DataFrame(test_label_array)\n",
    "c = pd.concat([a,b], axis=1)\n",
    "c.columns=[\"Predicted\",\"Test\"]"
   ]
  },
  {
   "cell_type": "code",
   "execution_count": 34,
   "metadata": {},
   "outputs": [],
   "source": [
    "c.to_csv(workdir + '//EYDC9K_CNN_pred_obs_table.csv')"
   ]
  },
  {
   "cell_type": "code",
   "execution_count": 35,
   "metadata": {},
   "outputs": [
    {
     "data": {
      "text/html": [
       "<div>\n",
       "<style scoped>\n",
       "    .dataframe tbody tr th:only-of-type {\n",
       "        vertical-align: middle;\n",
       "    }\n",
       "\n",
       "    .dataframe tbody tr th {\n",
       "        vertical-align: top;\n",
       "    }\n",
       "\n",
       "    .dataframe thead th {\n",
       "        text-align: right;\n",
       "    }\n",
       "</style>\n",
       "<table border=\"1\" class=\"dataframe\">\n",
       "  <thead>\n",
       "    <tr style=\"text-align: right;\">\n",
       "      <th></th>\n",
       "      <th>Predicted</th>\n",
       "      <th>Test</th>\n",
       "    </tr>\n",
       "  </thead>\n",
       "  <tbody>\n",
       "    <tr>\n",
       "      <th>0</th>\n",
       "      <td>1.951553</td>\n",
       "      <td>2.079442</td>\n",
       "    </tr>\n",
       "    <tr>\n",
       "      <th>1</th>\n",
       "      <td>0.624354</td>\n",
       "      <td>2.079442</td>\n",
       "    </tr>\n",
       "    <tr>\n",
       "      <th>2</th>\n",
       "      <td>-2.138736</td>\n",
       "      <td>-1.507775</td>\n",
       "    </tr>\n",
       "    <tr>\n",
       "      <th>3</th>\n",
       "      <td>1.898003</td>\n",
       "      <td>2.079442</td>\n",
       "    </tr>\n",
       "    <tr>\n",
       "      <th>4</th>\n",
       "      <td>1.060858</td>\n",
       "      <td>1.111349</td>\n",
       "    </tr>\n",
       "    <tr>\n",
       "      <th>...</th>\n",
       "      <td>...</td>\n",
       "      <td>...</td>\n",
       "    </tr>\n",
       "    <tr>\n",
       "      <th>954</th>\n",
       "      <td>1.861254</td>\n",
       "      <td>2.079442</td>\n",
       "    </tr>\n",
       "    <tr>\n",
       "      <th>955</th>\n",
       "      <td>-2.077541</td>\n",
       "      <td>-2.526984</td>\n",
       "    </tr>\n",
       "    <tr>\n",
       "      <th>956</th>\n",
       "      <td>1.978134</td>\n",
       "      <td>2.079442</td>\n",
       "    </tr>\n",
       "    <tr>\n",
       "      <th>957</th>\n",
       "      <td>1.929499</td>\n",
       "      <td>2.079442</td>\n",
       "    </tr>\n",
       "    <tr>\n",
       "      <th>958</th>\n",
       "      <td>1.926162</td>\n",
       "      <td>2.079442</td>\n",
       "    </tr>\n",
       "  </tbody>\n",
       "</table>\n",
       "<p>959 rows × 2 columns</p>\n",
       "</div>"
      ],
      "text/plain": [
       "     Predicted      Test\n",
       "0     1.951553  2.079442\n",
       "1     0.624354  2.079442\n",
       "2    -2.138736 -1.507775\n",
       "3     1.898003  2.079442\n",
       "4     1.060858  1.111349\n",
       "..         ...       ...\n",
       "954   1.861254  2.079442\n",
       "955  -2.077541 -2.526984\n",
       "956   1.978134  2.079442\n",
       "957   1.929499  2.079442\n",
       "958   1.926162  2.079442\n",
       "\n",
       "[959 rows x 2 columns]"
      ]
     },
     "execution_count": 35,
     "metadata": {},
     "output_type": "execute_result"
    }
   ],
   "source": [
    "c"
   ]
  },
  {
   "cell_type": "code",
   "execution_count": 36,
   "metadata": {},
   "outputs": [
    {
     "data": {
      "text/plain": [
       "(959, 1)"
      ]
     },
     "execution_count": 36,
     "metadata": {},
     "output_type": "execute_result"
    }
   ],
   "source": [
    "predicted_value.shape"
   ]
  },
  {
   "cell_type": "code",
   "execution_count": 37,
   "metadata": {},
   "outputs": [
    {
     "data": {
      "text/plain": [
       "LinregressResult(slope=0.8501419865358978, intercept=0.01842763522848312, rvalue=0.8956073635697748, pvalue=0.0, stderr=0.013649821352605814)"
      ]
     },
     "execution_count": 37,
     "metadata": {},
     "output_type": "execute_result"
    }
   ],
   "source": [
    "from scipy.stats import linregress\n",
    "linregress(b[0], a[0])"
   ]
  },
  {
   "cell_type": "code",
   "execution_count": 38,
   "metadata": {},
   "outputs": [
    {
     "name": "stdout",
     "output_type": "stream",
     "text": [
      "0.7959443132296693\n"
     ]
    }
   ],
   "source": [
    "from sklearn.metrics import r2_score\n",
    "r2_value = r2_score(b,a)\n",
    "print(r2_value)"
   ]
  },
  {
   "cell_type": "code",
   "execution_count": 39,
   "metadata": {},
   "outputs": [
    {
     "name": "stdout",
     "output_type": "stream",
     "text": [
      "Final rmse value is = 0.893810732138493\n"
     ]
    }
   ],
   "source": [
    "rse = ((b[0]-a[0])**2).sum()\n",
    "mse = rse / len(b)\n",
    "print(\"Final rmse value is =\",np.sqrt(mse))"
   ]
  },
  {
   "cell_type": "code",
   "execution_count": 40,
   "metadata": {},
   "outputs": [
    {
     "data": {
      "image/png": "[encoded data removed]",
      "text/plain": [
       "<Figure size 432x432 with 3 Axes>"
      ]
     },
     "metadata": {
      "needs_background": "light"
     },
     "output_type": "display_data"
    }
   ],
   "source": [
    "workdir = \"E://Ronny_TF//201120_EDC_EYDC_MDC_other_PC//Result//Fig_backbone//EYDC9K\"\n",
    "import seaborn as sns\n",
    "\n",
    "g = sns.jointplot(x=\"Test\", y=\"Predicted\", data=c, kind='reg', color='#7C7C7C',\n",
    "                  joint_kws={'line_kws':{'color':'black'}})\n",
    "g.savefig(workdir+ '//EYDC9K_CNN.png', dpi=300)"
   ]
  },
  {
   "cell_type": "code",
   "execution_count": null,
   "metadata": {},
   "outputs": [],
   "source": []
  },
  {
   "cell_type": "code",
   "execution_count": null,
   "metadata": {},
   "outputs": [],
   "source": []
  }
 ],
 "metadata": {
  "kernelspec": {
   "display_name": "Python 3",
   "language": "python",
   "name": "python3"
  },
  "language_info": {
   "codemirror_mode": {
    "name": "ipython",
    "version": 3
   },
   "file_extension": ".py",
   "mimetype": "text/x-python",
   "name": "python",
   "nbconvert_exporter": "python",
   "pygments_lexer": "ipython3",
   "version": "3.7.9"
  }
 },
 "nbformat": 4,
 "nbformat_minor": 2
}
