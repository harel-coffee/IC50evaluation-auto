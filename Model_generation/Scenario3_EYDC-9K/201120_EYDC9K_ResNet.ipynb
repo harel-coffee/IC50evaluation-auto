{
 "cells": [
  {
   "cell_type": "code",
   "execution_count": 1,
   "metadata": {},
   "outputs": [
    {
     "name": "stderr",
     "output_type": "stream",
     "text": [
      "C:\\Users\\a\\AppData\\Roaming\\Python\\Python37\\site-packages\\tensorflow\\python\\framework\\dtypes.py:526: FutureWarning: Passing (type, 1) or '1type' as a synonym of type is deprecated; in a future version of numpy, it will be understood as (type, (1,)) / '(1,)type'.\n",
      "  _np_qint8 = np.dtype([(\"qint8\", np.int8, 1)])\n",
      "C:\\Users\\a\\AppData\\Roaming\\Python\\Python37\\site-packages\\tensorflow\\python\\framework\\dtypes.py:527: FutureWarning: Passing (type, 1) or '1type' as a synonym of type is deprecated; in a future version of numpy, it will be understood as (type, (1,)) / '(1,)type'.\n",
      "  _np_quint8 = np.dtype([(\"quint8\", np.uint8, 1)])\n",
      "C:\\Users\\a\\AppData\\Roaming\\Python\\Python37\\site-packages\\tensorflow\\python\\framework\\dtypes.py:528: FutureWarning: Passing (type, 1) or '1type' as a synonym of type is deprecated; in a future version of numpy, it will be understood as (type, (1,)) / '(1,)type'.\n",
      "  _np_qint16 = np.dtype([(\"qint16\", np.int16, 1)])\n",
      "C:\\Users\\a\\AppData\\Roaming\\Python\\Python37\\site-packages\\tensorflow\\python\\framework\\dtypes.py:529: FutureWarning: Passing (type, 1) or '1type' as a synonym of type is deprecated; in a future version of numpy, it will be understood as (type, (1,)) / '(1,)type'.\n",
      "  _np_quint16 = np.dtype([(\"quint16\", np.uint16, 1)])\n",
      "C:\\Users\\a\\AppData\\Roaming\\Python\\Python37\\site-packages\\tensorflow\\python\\framework\\dtypes.py:530: FutureWarning: Passing (type, 1) or '1type' as a synonym of type is deprecated; in a future version of numpy, it will be understood as (type, (1,)) / '(1,)type'.\n",
      "  _np_qint32 = np.dtype([(\"qint32\", np.int32, 1)])\n",
      "C:\\Users\\a\\AppData\\Roaming\\Python\\Python37\\site-packages\\tensorflow\\python\\framework\\dtypes.py:535: FutureWarning: Passing (type, 1) or '1type' as a synonym of type is deprecated; in a future version of numpy, it will be understood as (type, (1,)) / '(1,)type'.\n",
      "  np_resource = np.dtype([(\"resource\", np.ubyte, 1)])\n",
      "Using TensorFlow backend.\n"
     ]
    }
   ],
   "source": [
    "import os\n",
    "import pandas as pd\n",
    "import numpy as np\n",
    "import tensorflow as tf\n",
    "import random\n",
    "from pandas import DataFrame\n",
    "from datetime import datetime\n",
    "import keras\n",
    "from keras.models import Sequential,Input,Model\n",
    "from keras.layers import Dense, Dropout, Flatten, Reshape, Activation\n",
    "from keras.layers import Conv1D, MaxPooling1D ,AveragePooling1D\n",
    "from keras.layers import Conv2D, MaxPooling2D, AveragePooling2D\n",
    "from keras.layers.normalization import BatchNormalization\n",
    "from keras.layers.advanced_activations import LeakyReLU\n",
    "from keras import backend as K\n",
    "# from tensorflow.keras.callbacks import ModelCheckpoint, CSVLogger\n",
    "#from tensorflow.keras.optimizers import Adam\n",
    "\n",
    "\n",
    "\n",
    "\n",
    "config = tf.ConfigProto()\n",
    "config.gpu_options.per_process_gpu_memory_fraction = 0.7\n",
    "config.gpu_options.allow_growth = True\n",
    "sess = tf.Session(config=config)"
   ]
  },
  {
   "cell_type": "code",
   "execution_count": 2,
   "metadata": {},
   "outputs": [
    {
     "name": "stdout",
     "output_type": "stream",
     "text": [
      "[name: \"/device:CPU:0\"\n",
      "device_type: \"CPU\"\n",
      "memory_limit: 268435456\n",
      "locality {\n",
      "}\n",
      "incarnation: 1821118829022507444\n",
      ", name: \"/device:GPU:0\"\n",
      "device_type: \"GPU\"\n",
      "memory_limit: 8267812044\n",
      "locality {\n",
      "  bus_id: 1\n",
      "  links {\n",
      "  }\n",
      "}\n",
      "incarnation: 14002945447088219839\n",
      "physical_device_desc: \"device: 0, name: GeForce GTX 1080 Ti, pci bus id: 0000:01:00.0, compute capability: 6.1\"\n",
      "]\n"
     ]
    }
   ],
   "source": [
    "from tensorflow.python.client import device_lib\n",
    "print(device_lib.list_local_devices())\n",
    "\n",
    "\n",
    "# 출처: https://3months.tistory.com/206 [Deep Play]"
   ]
  },
  {
   "cell_type": "code",
   "execution_count": 3,
   "metadata": {},
   "outputs": [],
   "source": [
    "workdir = \"E://Ronny_TF//201120_EDC_EYDC_MDC_other_PC//Dataset_EDC_EYDC_MDC_regen\""
   ]
  },
  {
   "cell_type": "code",
   "execution_count": 4,
   "metadata": {},
   "outputs": [],
   "source": [
    "# < Important note > [ Please download input data from https://mega.nz/#F!CeYGDKyS!uqkmWJ4E2XSGJp_C2VO2gg]\n",
    "# IC50evaluation//Dataset//Scenario3_EYDC-9K_minmax\n",
    "\n",
    "dataset = np.load(workdir + \"//EYDC9K_dataset.npz\") # input file\n",
    "ss0 = np.load(workdir + '//EYDC9K_dataset_r0_9_1.npz') # split for training and test"
   ]
  },
  {
   "cell_type": "code",
   "execution_count": 5,
   "metadata": {},
   "outputs": [],
   "source": [
    "x = dataset['x']\n",
    "y = dataset['y']\n",
    "# y_linear = dataset['y_lnIC50']\n",
    "ss0_train = ss0['train']\n",
    "ss0_test = ss0['test']"
   ]
  },
  {
   "cell_type": "code",
   "execution_count": 6,
   "metadata": {},
   "outputs": [],
   "source": [
    "training_image_array, training_label_array = x[ss0_train], y[ss0_train]\n",
    "test_image_array, test_label_array = x[ss0_test], y[ss0_test]\n",
    "\n",
    "# # In[9]:\n",
    "# ori = training_image_array\n",
    "# bat = np.zeros((ori.shape[0],178))\n",
    "# cat = np.hstack([ori,bat])\n",
    "# training_image_array = cat\n",
    "\n",
    "# # In[8]:\n",
    "# training_image_array.shape\n",
    "\n",
    "# # In[10]:\n",
    "# ori2 = test_image_array\n",
    "# bat2 = np.zeros((ori2.shape[0],178))\n",
    "# cat2 = np.hstack([ori2,bat2])\n",
    "# test_image_array = cat2\n"
   ]
  },
  {
   "cell_type": "code",
   "execution_count": 7,
   "metadata": {},
   "outputs": [
    {
     "name": "stdout",
     "output_type": "stream",
     "text": [
      "0 37\n"
     ]
    }
   ],
   "source": [
    "# In[15]:\n",
    "ab =[]\n",
    "for i in range(100,300):\n",
    "    ab.append(len(training_image_array) % i)\n",
    "    \n",
    "print(min(ab), ab.index(min(ab)))"
   ]
  },
  {
   "cell_type": "code",
   "execution_count": 8,
   "metadata": {},
   "outputs": [
    {
     "data": {
      "text/plain": [
       "(9590, 41505)"
      ]
     },
     "execution_count": 8,
     "metadata": {},
     "output_type": "execute_result"
    }
   ],
   "source": [
    "x.shape"
   ]
  },
  {
   "cell_type": "code",
   "execution_count": 9,
   "metadata": {},
   "outputs": [
    {
     "data": {
      "text/plain": [
       "(8631, 41505)"
      ]
     },
     "execution_count": 9,
     "metadata": {},
     "output_type": "execute_result"
    }
   ],
   "source": [
    "training_image_array.shape"
   ]
  },
  {
   "cell_type": "code",
   "execution_count": 10,
   "metadata": {},
   "outputs": [],
   "source": [
    "# In[21]:\n",
    "\n",
    "num_classes = 1\n",
    "learning_rate = 0.0002\n",
    "training_epochs = 150\n",
    "batch_size = 100\n",
    "# img_rows, img_cols = 154, 154\n"
   ]
  },
  {
   "cell_type": "code",
   "execution_count": 11,
   "metadata": {},
   "outputs": [],
   "source": [
    "train_X, train_y, test_X, test_y = training_image_array, training_label_array, test_image_array, test_label_array\n",
    "\n",
    "# if K.image_data_format() == 'channels_first':\n",
    "#     train_X = train_X.reshape(train_X.shape[0], 1, img_rows, img_cols)\n",
    "#     test_X = test_X.reshape(x_test.shape[0], 1, img_rows, img_cols)\n",
    "#     input_shape = (1, img_rows, img_cols)\n",
    "# else:\n",
    "#     train_X = train_X.reshape(train_X.shape[0], img_rows, img_cols, 1)\n",
    "#     test_X = test_X.reshape(test_X.shape[0], img_rows, img_cols, 1)\n",
    "#     input_shape = (img_rows, img_cols, 1)\n"
   ]
  },
  {
   "cell_type": "code",
   "execution_count": 12,
   "metadata": {},
   "outputs": [],
   "source": [
    "train_X = train_X.reshape(train_X.shape[0], train_X.shape[1],1)\n",
    "test_X = test_X.reshape(test_X.shape[0], test_X.shape[1],1)\n",
    "#input_shape = (img_rows, img_cols, 1)"
   ]
  },
  {
   "cell_type": "code",
   "execution_count": 13,
   "metadata": {},
   "outputs": [
    {
     "name": "stdout",
     "output_type": "stream",
     "text": [
      "(8631, 41505, 1) (8631,) (959, 41505, 1) (959,)\n"
     ]
    }
   ],
   "source": [
    "print(train_X.shape, train_y.shape, test_X.shape, test_y.shape)"
   ]
  },
  {
   "cell_type": "code",
   "execution_count": 14,
   "metadata": {},
   "outputs": [
    {
     "name": "stdout",
     "output_type": "stream",
     "text": [
      "train_X shape: (8631, 41505, 1)\n",
      "8631 train samples\n",
      "959 test samples\n"
     ]
    }
   ],
   "source": [
    "train_X = train_X.astype('float32')\n",
    "test_X = test_X.astype('float32')\n",
    "# train_X /= 255\n",
    "# test_X /= 255\n",
    "print('train_X shape:', train_X.shape)\n",
    "print(train_X.shape[0], 'train samples')\n",
    "print(test_X.shape[0], 'test samples')"
   ]
  },
  {
   "cell_type": "code",
   "execution_count": 15,
   "metadata": {},
   "outputs": [
    {
     "data": {
      "text/plain": [
       "(8631, 41505)"
      ]
     },
     "execution_count": 15,
     "metadata": {},
     "output_type": "execute_result"
    }
   ],
   "source": [
    "training_image_array.shape"
   ]
  },
  {
   "cell_type": "code",
   "execution_count": 16,
   "metadata": {
    "scrolled": true
   },
   "outputs": [
    {
     "name": "stdout",
     "output_type": "stream",
     "text": [
      "WARNING:tensorflow:From C:\\Users\\a\\AppData\\Roaming\\Python\\Python37\\site-packages\\tensorflow\\python\\framework\\op_def_library.py:263: colocate_with (from tensorflow.python.framework.ops) is deprecated and will be removed in a future version.\n",
      "Instructions for updating:\n",
      "Colocations handled automatically by placer.\n",
      "WARNING:tensorflow:From C:\\Users\\a\\AppData\\Roaming\\Python\\Python37\\site-packages\\keras\\backend\\tensorflow_backend.py:3445: calling dropout (from tensorflow.python.ops.nn_ops) with keep_prob is deprecated and will be removed in a future version.\n",
      "Instructions for updating:\n",
      "Please use `rate` instead of `keep_prob`. Rate should be set to `rate = 1 - keep_prob`.\n",
      "__________________________________________________________________________________________________\n",
      "Layer (type)                    Output Shape         Param #     Connected to                     \n",
      "==================================================================================================\n",
      "inputs (InputLayer)             (None, 41505, 1)     0                                            \n",
      "__________________________________________________________________________________________________\n",
      "conv1d_1 (Conv1D)               (None, 20753, 16)    64          inputs[0][0]                     \n",
      "__________________________________________________________________________________________________\n",
      "max_pooling1d_1 (MaxPooling1D)  (None, 4150, 16)     0           conv1d_1[0][0]                   \n",
      "__________________________________________________________________________________________________\n",
      "batch_normalization_1 (BatchNor (None, 4150, 16)     64          max_pooling1d_1[0][0]            \n",
      "__________________________________________________________________________________________________\n",
      "activation_1 (Activation)       (None, 4150, 16)     0           batch_normalization_1[0][0]      \n",
      "__________________________________________________________________________________________________\n",
      "conv1d_2 (Conv1D)               (None, 4150, 16)     784         activation_1[0][0]               \n",
      "__________________________________________________________________________________________________\n",
      "batch_normalization_2 (BatchNor (None, 4150, 16)     64          conv1d_2[0][0]                   \n",
      "__________________________________________________________________________________________________\n",
      "activation_2 (Activation)       (None, 4150, 16)     0           batch_normalization_2[0][0]      \n",
      "__________________________________________________________________________________________________\n",
      "conv1d_3 (Conv1D)               (None, 4150, 16)     784         activation_2[0][0]               \n",
      "__________________________________________________________________________________________________\n",
      "batch_normalization_3 (BatchNor (None, 4150, 16)     64          conv1d_3[0][0]                   \n",
      "__________________________________________________________________________________________________\n",
      "activation_3 (Activation)       (None, 4150, 16)     0           batch_normalization_3[0][0]      \n",
      "__________________________________________________________________________________________________\n",
      "conv1d_4 (Conv1D)               (None, 4150, 16)     784         activation_3[0][0]               \n",
      "__________________________________________________________________________________________________\n",
      "batch_normalization_4 (BatchNor (None, 4150, 16)     64          conv1d_4[0][0]                   \n",
      "__________________________________________________________________________________________________\n",
      "add_1 (Add)                     (None, 4150, 16)     0           batch_normalization_4[0][0]      \n",
      "                                                                 batch_normalization_2[0][0]      \n",
      "__________________________________________________________________________________________________\n",
      "activation_4 (Activation)       (None, 4150, 16)     0           add_1[0][0]                      \n",
      "__________________________________________________________________________________________________\n",
      "conv1d_5 (Conv1D)               (None, 4150, 16)     784         activation_4[0][0]               \n",
      "__________________________________________________________________________________________________\n",
      "batch_normalization_5 (BatchNor (None, 4150, 16)     64          conv1d_5[0][0]                   \n",
      "__________________________________________________________________________________________________\n",
      "activation_5 (Activation)       (None, 4150, 16)     0           batch_normalization_5[0][0]      \n",
      "__________________________________________________________________________________________________\n",
      "conv1d_6 (Conv1D)               (None, 4150, 16)     784         activation_5[0][0]               \n",
      "__________________________________________________________________________________________________\n",
      "batch_normalization_6 (BatchNor (None, 4150, 16)     64          conv1d_6[0][0]                   \n",
      "__________________________________________________________________________________________________\n",
      "activation_6 (Activation)       (None, 4150, 16)     0           batch_normalization_6[0][0]      \n",
      "__________________________________________________________________________________________________\n",
      "conv1d_7 (Conv1D)               (None, 4150, 16)     784         activation_6[0][0]               \n",
      "__________________________________________________________________________________________________\n",
      "batch_normalization_7 (BatchNor (None, 4150, 16)     64          conv1d_7[0][0]                   \n",
      "__________________________________________________________________________________________________\n",
      "activation_7 (Activation)       (None, 4150, 16)     0           batch_normalization_7[0][0]      \n",
      "__________________________________________________________________________________________________\n",
      "conv1d_8 (Conv1D)               (None, 4150, 16)     784         activation_7[0][0]               \n",
      "__________________________________________________________________________________________________\n",
      "batch_normalization_8 (BatchNor (None, 4150, 16)     64          conv1d_8[0][0]                   \n",
      "__________________________________________________________________________________________________\n",
      "add_2 (Add)                     (None, 4150, 16)     0           batch_normalization_8[0][0]      \n",
      "                                                                 batch_normalization_5[0][0]      \n",
      "__________________________________________________________________________________________________\n",
      "activation_8 (Activation)       (None, 4150, 16)     0           add_2[0][0]                      \n",
      "__________________________________________________________________________________________________\n",
      "conv1d_9 (Conv1D)               (None, 2075, 32)     1568        activation_8[0][0]               \n",
      "__________________________________________________________________________________________________\n",
      "batch_normalization_9 (BatchNor (None, 2075, 32)     128         conv1d_9[0][0]                   \n",
      "__________________________________________________________________________________________________\n",
      "activation_9 (Activation)       (None, 2075, 32)     0           batch_normalization_9[0][0]      \n",
      "__________________________________________________________________________________________________\n",
      "conv1d_10 (Conv1D)              (None, 2075, 32)     3104        activation_9[0][0]               \n",
      "__________________________________________________________________________________________________\n",
      "conv1d_11 (Conv1D)              (None, 2075, 32)     3104        conv1d_10[0][0]                  \n",
      "__________________________________________________________________________________________________\n",
      "batch_normalization_10 (BatchNo (None, 2075, 32)     128         conv1d_11[0][0]                  \n",
      "__________________________________________________________________________________________________\n",
      "add_3 (Add)                     (None, 2075, 32)     0           batch_normalization_10[0][0]     \n",
      "                                                                 batch_normalization_9[0][0]      \n",
      "__________________________________________________________________________________________________\n",
      "activation_10 (Activation)      (None, 2075, 32)     0           add_3[0][0]                      \n",
      "__________________________________________________________________________________________________\n",
      "conv1d_12 (Conv1D)              (None, 2075, 32)     3104        activation_10[0][0]              \n",
      "__________________________________________________________________________________________________\n",
      "batch_normalization_11 (BatchNo (None, 2075, 32)     128         conv1d_12[0][0]                  \n",
      "__________________________________________________________________________________________________\n",
      "activation_11 (Activation)      (None, 2075, 32)     0           batch_normalization_11[0][0]     \n",
      "__________________________________________________________________________________________________\n",
      "conv1d_13 (Conv1D)              (None, 2075, 32)     3104        activation_11[0][0]              \n",
      "__________________________________________________________________________________________________\n",
      "batch_normalization_12 (BatchNo (None, 2075, 32)     128         conv1d_13[0][0]                  \n",
      "__________________________________________________________________________________________________\n",
      "add_4 (Add)                     (None, 2075, 32)     0           batch_normalization_12[0][0]     \n",
      "                                                                 batch_normalization_11[0][0]     \n",
      "__________________________________________________________________________________________________\n",
      "activation_12 (Activation)      (None, 2075, 32)     0           add_4[0][0]                      \n",
      "__________________________________________________________________________________________________\n",
      "conv1d_14 (Conv1D)              (None, 2075, 32)     3104        activation_12[0][0]              \n",
      "__________________________________________________________________________________________________\n",
      "batch_normalization_13 (BatchNo (None, 2075, 32)     128         conv1d_14[0][0]                  \n",
      "__________________________________________________________________________________________________\n",
      "activation_13 (Activation)      (None, 2075, 32)     0           batch_normalization_13[0][0]     \n",
      "__________________________________________________________________________________________________\n",
      "conv1d_15 (Conv1D)              (None, 2075, 32)     3104        activation_13[0][0]              \n",
      "__________________________________________________________________________________________________\n",
      "batch_normalization_14 (BatchNo (None, 2075, 32)     128         conv1d_15[0][0]                  \n",
      "__________________________________________________________________________________________________\n",
      "add_5 (Add)                     (None, 2075, 32)     0           batch_normalization_14[0][0]     \n",
      "                                                                 batch_normalization_13[0][0]     \n",
      "__________________________________________________________________________________________________\n",
      "activation_14 (Activation)      (None, 2075, 32)     0           add_5[0][0]                      \n",
      "__________________________________________________________________________________________________\n",
      "conv1d_16 (Conv1D)              (None, 1038, 64)     6208        activation_14[0][0]              \n",
      "__________________________________________________________________________________________________\n",
      "batch_normalization_15 (BatchNo (None, 1038, 64)     256         conv1d_16[0][0]                  \n",
      "__________________________________________________________________________________________________\n",
      "activation_15 (Activation)      (None, 1038, 64)     0           batch_normalization_15[0][0]     \n",
      "__________________________________________________________________________________________________\n",
      "conv1d_17 (Conv1D)              (None, 1038, 64)     12352       activation_15[0][0]              \n",
      "__________________________________________________________________________________________________\n",
      "conv1d_18 (Conv1D)              (None, 1038, 64)     12352       conv1d_17[0][0]                  \n",
      "__________________________________________________________________________________________________\n",
      "batch_normalization_16 (BatchNo (None, 1038, 64)     256         conv1d_18[0][0]                  \n",
      "__________________________________________________________________________________________________\n",
      "add_6 (Add)                     (None, 1038, 64)     0           batch_normalization_16[0][0]     \n",
      "                                                                 batch_normalization_15[0][0]     \n",
      "__________________________________________________________________________________________________\n",
      "activation_16 (Activation)      (None, 1038, 64)     0           add_6[0][0]                      \n",
      "__________________________________________________________________________________________________\n",
      "conv1d_19 (Conv1D)              (None, 1038, 64)     12352       activation_16[0][0]              \n",
      "__________________________________________________________________________________________________\n",
      "batch_normalization_17 (BatchNo (None, 1038, 64)     256         conv1d_19[0][0]                  \n",
      "__________________________________________________________________________________________________\n",
      "activation_17 (Activation)      (None, 1038, 64)     0           batch_normalization_17[0][0]     \n",
      "__________________________________________________________________________________________________\n",
      "conv1d_20 (Conv1D)              (None, 1038, 64)     12352       activation_17[0][0]              \n",
      "__________________________________________________________________________________________________\n",
      "batch_normalization_18 (BatchNo (None, 1038, 64)     256         conv1d_20[0][0]                  \n",
      "__________________________________________________________________________________________________\n",
      "add_7 (Add)                     (None, 1038, 64)     0           batch_normalization_18[0][0]     \n",
      "                                                                 batch_normalization_17[0][0]     \n",
      "__________________________________________________________________________________________________\n",
      "activation_18 (Activation)      (None, 1038, 64)     0           add_7[0][0]                      \n",
      "__________________________________________________________________________________________________\n",
      "conv1d_21 (Conv1D)              (None, 1038, 64)     12352       activation_18[0][0]              \n",
      "__________________________________________________________________________________________________\n",
      "batch_normalization_19 (BatchNo (None, 1038, 64)     256         conv1d_21[0][0]                  \n",
      "__________________________________________________________________________________________________\n",
      "activation_19 (Activation)      (None, 1038, 64)     0           batch_normalization_19[0][0]     \n",
      "__________________________________________________________________________________________________\n",
      "conv1d_22 (Conv1D)              (None, 1038, 64)     12352       activation_19[0][0]              \n",
      "__________________________________________________________________________________________________\n",
      "batch_normalization_20 (BatchNo (None, 1038, 64)     256         conv1d_22[0][0]                  \n",
      "__________________________________________________________________________________________________\n",
      "add_8 (Add)                     (None, 1038, 64)     0           batch_normalization_20[0][0]     \n",
      "                                                                 batch_normalization_19[0][0]     \n",
      "__________________________________________________________________________________________________\n",
      "activation_20 (Activation)      (None, 1038, 64)     0           add_8[0][0]                      \n",
      "__________________________________________________________________________________________________\n",
      "flatten_1 (Flatten)             (None, 66432)        0           activation_20[0][0]              \n",
      "__________________________________________________________________________________________________\n",
      "dense1 (Dense)                  (None, 2048)         136054784   flatten_1[0][0]                  \n",
      "__________________________________________________________________________________________________\n",
      "batch_normalization_21 (BatchNo (None, 2048)         8192        dense1[0][0]                     \n",
      "__________________________________________________________________________________________________\n",
      "dropout1 (Dropout)              (None, 2048)         0           batch_normalization_21[0][0]     \n",
      "__________________________________________________________________________________________________\n",
      "activation_21 (Activation)      (None, 2048)         0           dropout1[0][0]                   \n",
      "__________________________________________________________________________________________________\n",
      "dense5 (Dense)                  (None, 1024)         2098176     activation_21[0][0]              \n",
      "__________________________________________________________________________________________________\n",
      "batch_normalization_22 (BatchNo (None, 1024)         4096        dense5[0][0]                     \n",
      "__________________________________________________________________________________________________\n",
      "dropout5 (Dropout)              (None, 1024)         0           batch_normalization_22[0][0]     \n",
      "__________________________________________________________________________________________________\n",
      "activation_22 (Activation)      (None, 1024)         0           dropout5[0][0]                   \n",
      "__________________________________________________________________________________________________\n",
      "dense6 (Dense)                  (None, 512)          524800      activation_22[0][0]              \n",
      "__________________________________________________________________________________________________\n",
      "batch_normalization_23 (BatchNo (None, 512)          2048        dense6[0][0]                     \n",
      "__________________________________________________________________________________________________\n",
      "dropout6 (Dropout)              (None, 512)          0           batch_normalization_23[0][0]     \n",
      "__________________________________________________________________________________________________\n",
      "activation_23 (Activation)      (None, 512)          0           dropout6[0][0]                   \n",
      "__________________________________________________________________________________________________\n",
      "dense7 (Dense)                  (None, 1024)         525312      activation_23[0][0]              \n",
      "__________________________________________________________________________________________________\n",
      "batch_normalization_24 (BatchNo (None, 1024)         4096        dense7[0][0]                     \n",
      "__________________________________________________________________________________________________\n",
      "dropout7 (Dropout)              (None, 1024)         0           batch_normalization_24[0][0]     \n",
      "__________________________________________________________________________________________________\n",
      "add_9 (Add)                     (None, 1024)         0           dropout7[0][0]                   \n",
      "                                                                 batch_normalization_22[0][0]     \n",
      "__________________________________________________________________________________________________\n",
      "activation_24 (Activation)      (None, 1024)         0           add_9[0][0]                      \n",
      "__________________________________________________________________________________________________\n",
      "dense8 (Dense)                  (None, 512)          524800      activation_24[0][0]              \n",
      "__________________________________________________________________________________________________\n",
      "batch_normalization_25 (BatchNo (None, 512)          2048        dense8[0][0]                     \n",
      "__________________________________________________________________________________________________\n",
      "dropout8 (Dropout)              (None, 512)          0           batch_normalization_25[0][0]     \n",
      "__________________________________________________________________________________________________\n",
      "activation_25 (Activation)      (None, 512)          0           dropout8[0][0]                   \n",
      "__________________________________________________________________________________________________\n",
      "dense9 (Dense)                  (None, 256)          131328      activation_25[0][0]              \n",
      "__________________________________________________________________________________________________\n",
      "batch_normalization_26 (BatchNo (None, 256)          1024        dense9[0][0]                     \n",
      "__________________________________________________________________________________________________\n",
      "dropout9 (Dropout)              (None, 256)          0           batch_normalization_26[0][0]     \n",
      "__________________________________________________________________________________________________\n",
      "activation_26 (Activation)      (None, 256)          0           dropout9[0][0]                   \n",
      "__________________________________________________________________________________________________\n",
      "dense10 (Dense)                 (None, 128)          32896       activation_26[0][0]              \n",
      "__________________________________________________________________________________________________\n",
      "batch_normalization_27 (BatchNo (None, 128)          512         dense10[0][0]                    \n",
      "__________________________________________________________________________________________________\n",
      "dropout10 (Dropout)             (None, 128)          0           batch_normalization_27[0][0]     \n",
      "__________________________________________________________________________________________________\n",
      "activation_27 (Activation)      (None, 128)          0           dropout10[0][0]                  \n",
      "__________________________________________________________________________________________________\n",
      "predictions (Dense)             (None, 1)            129         activation_27[0][0]              \n",
      "==================================================================================================\n",
      "Total params: 140,023,121\n",
      "Trainable params: 140,010,705\n",
      "Non-trainable params: 12,416\n",
      "__________________________________________________________________________________________________\n"
     ]
    }
   ],
   "source": [
    "# In[10]:\n",
    "with K.tf.device('/GPU:0'):\n",
    "    inputs = Input(shape=(train_X.shape[1],1),name='inputs')\n",
    "\n",
    "    x = Conv1D(16, kernel_size=3, strides=2, padding=\"same\")(inputs)\n",
    "    x = MaxPooling1D(pool_size=5)(x)\n",
    "    x = BatchNormalization()(x)\n",
    "#     y = x\n",
    "    x = Activation('tanh')(x)\n",
    "\n",
    "    x = Conv1D(16, kernel_size=3, strides=1, padding=\"same\")(x)\n",
    "#     x = MaxPooling1D(pool_size=5)(x)\n",
    "    x = BatchNormalization()(x)\n",
    "    y = x\n",
    "    x = Activation('relu')(x)\n",
    "\n",
    "    x = Conv1D(16, kernel_size=3, strides=1, padding=\"same\")(x)\n",
    "#     x = MaxPooling1D(pool_size=5)(x)\n",
    "    x = BatchNormalization()(x)\n",
    "    x = Activation('relu')(x)\n",
    "\n",
    "    x = Conv1D(16, kernel_size=3, strides=1, padding=\"same\")(x)\n",
    "#     x = MaxPooling1D(pool_size=5)(x)\n",
    "    x = BatchNormalization()(x)\n",
    "    x = keras.layers.add([x,y])\n",
    "    x = Activation('relu')(x)\n",
    "\n",
    "    \n",
    "    x = Conv1D(16, kernel_size=3, strides=1, padding=\"same\")(x)\n",
    "#     x = MaxPooling1D(pool_size=5)(x)\n",
    "    x = BatchNormalization()(x)\n",
    "    y = x\n",
    "    x = Activation('relu')(x)\n",
    "    \n",
    "    \n",
    "    x = Conv1D(16, kernel_size=3, strides=1, padding=\"same\")(x)\n",
    "#     x = MaxPooling1D(pool_size=5)(x)\n",
    "    x = BatchNormalization()(x)\n",
    "    x = Activation('relu')(x)\n",
    "\n",
    "    x = Conv1D(16, kernel_size=3, strides=1, padding=\"same\")(x)\n",
    "#     x = MaxPooling1D(pool_size=5)(x)\n",
    "    x = BatchNormalization()(x)\n",
    "    x = Activation('relu')(x)\n",
    "\n",
    "    \n",
    "    x = Conv1D(16, kernel_size=3, strides=1, padding=\"same\")(x)\n",
    "#     x = MaxPooling1D(pool_size=5)(x)\n",
    "    x = BatchNormalization()(x)\n",
    "    x = keras.layers.add([x,y])\n",
    "    x = Activation('relu')(x)\n",
    "    \n",
    "    x = Conv1D(32, kernel_size=3, strides=2, padding=\"same\")(x)\n",
    "#     x = MaxPooling1D(pool_size=5)(x)\n",
    "    x = BatchNormalization()(x)\n",
    "    y = x\n",
    "    x = Activation('relu')(x)\n",
    "\n",
    "    x = Conv1D(32, kernel_size=3, strides=1, padding=\"same\")(x)\n",
    "#     x = MaxPooling1D(pool_size=5)(x)\n",
    "#     x = BatchNormalization()(x)\n",
    "        \n",
    "    x = Conv1D(32, kernel_size=3, strides=1, padding=\"same\")(x)\n",
    "#     x = MaxPooling1D(pool_size=5)(x)\n",
    "    x = BatchNormalization()(x)\n",
    "    x = keras.layers.add([x,y])\n",
    "    x = Activation('relu')(x)\n",
    "    \n",
    "        \n",
    "    x = Conv1D(32, kernel_size=3, strides=1, padding=\"same\")(x)\n",
    "#     x = MaxPooling1D(pool_size=5)(x)\n",
    "    x = BatchNormalization()(x)\n",
    "    y = x\n",
    "    x = Activation('relu')(x)\n",
    "\n",
    "    x = Conv1D(32, kernel_size=3, strides=1, padding=\"same\")(x)\n",
    "#     x = MaxPooling1D(pool_size=5)(x)\n",
    "    x = BatchNormalization()(x)\n",
    "    x = keras.layers.add([x,y])\n",
    "    x = Activation('relu')(x)\n",
    "\n",
    "    x = Conv1D(32, kernel_size=3, strides=1, padding=\"same\")(x)\n",
    "#     x = MaxPooling1D(pool_size=5)(x)\n",
    "    x = BatchNormalization()(x)\n",
    "    y = x\n",
    "    x = Activation('relu')(x)\n",
    "\n",
    "    x = Conv1D(32, kernel_size=3, strides=1, padding=\"same\")(x)\n",
    "#     x = MaxPooling1D(pool_size=5)(x)\n",
    "    x = BatchNormalization()(x)\n",
    "    x = keras.layers.add([x,y])\n",
    "    x = Activation('relu')(x)\n",
    "\n",
    "    x = Conv1D(64, kernel_size=3, strides=2, padding=\"same\")(x)\n",
    "#     x = MaxPooling1D(pool_size=5)(x)\n",
    "    x = BatchNormalization()(x)\n",
    "    y = x\n",
    "    x = Activation('relu')(x)\n",
    "\n",
    "    x = Conv1D(64, kernel_size=3, strides=1, padding=\"same\")(x)\n",
    "#     x = MaxPooling1D(pool_size=5)(x)\n",
    "#     x = BatchNormalization()(x)\n",
    "        \n",
    "    x = Conv1D(64, kernel_size=3, strides=1, padding=\"same\")(x)\n",
    "#     x = MaxPooling1D(pool_size=5)(x)\n",
    "    x = BatchNormalization()(x)\n",
    "    x = keras.layers.add([x,y])\n",
    "    x = Activation('relu')(x)\n",
    "    \n",
    "        \n",
    "    x = Conv1D(64, kernel_size=3, strides=1, padding=\"same\")(x)\n",
    "#     x = MaxPooling1D(pool_size=5)(x)\n",
    "    x = BatchNormalization()(x)\n",
    "    y = x\n",
    "    x = Activation('relu')(x)\n",
    "\n",
    "    x = Conv1D(64, kernel_size=3, strides=1, padding=\"same\")(x)\n",
    "#     x = MaxPooling1D(pool_size=5)(x)\n",
    "    x = BatchNormalization()(x)\n",
    "    x = keras.layers.add([x,y])\n",
    "    x = Activation('relu')(x)\n",
    "\n",
    "    x = Conv1D(64, kernel_size=3, strides=1, padding=\"same\")(x)\n",
    "#     x = MaxPooling1D(pool_size=5)(x)\n",
    "    x = BatchNormalization()(x)\n",
    "    y = x\n",
    "    x = Activation('relu')(x)\n",
    "\n",
    "    x = Conv1D(64, kernel_size=3, strides=1, padding=\"same\")(x)\n",
    "#     x = MaxPooling1D(pool_size=5)(x)\n",
    "    x = BatchNormalization()(x)\n",
    "    x = keras.layers.add([x,y])\n",
    "    x = Activation('relu')(x)\n",
    "\n",
    "#     x = AveragePooling1D(pool_size=8)(x)\n",
    "    x = Flatten()(x)\n",
    "    x = Dense(units=2048, name='dense1'  ) (x)\n",
    "    x = BatchNormalization()(x)\n",
    "    x = Dropout(0.1, name='dropout1') (x)\n",
    "    x = Activation('relu')(x)\n",
    "\n",
    "#    x = Reshape((300,1))(x)\n",
    "\n",
    "#    x = Conv1D(30, kernel_size=150, strides=1, activation = 'relu')(x)\n",
    "#    x = MaxPooling1D(pool_size=2)(x)\n",
    "#    x = BatchNormalization()(x)\n",
    "\n",
    "    x = Dense(units=1024, name='dense5'  ) (x)\n",
    "    x = BatchNormalization()(x)\n",
    "    y = x\n",
    "    x = Dropout(0.1, name='dropout5') (x)\n",
    "    x = Activation('relu')(x)\n",
    "\n",
    "    x = Dense(units=512, name='dense6'  ) (x)\n",
    "    x = BatchNormalization()(x)\n",
    "    x = Dropout(0.1, name='dropout6') (x)\n",
    "    x = Activation('relu')(x)\n",
    "\n",
    "    x = Dense(units=1024, name='dense7'  ) (x)\n",
    "    x = BatchNormalization()(x)\n",
    "    x = Dropout(0.1, name='dropout7') (x)\n",
    "    x = keras.layers.add([x,y])\n",
    "    x = Activation('relu')(x)\n",
    "    \n",
    "    x = Dense(units=512, name='dense8'  ) (x)\n",
    "    x = BatchNormalization()(x)\n",
    "    x = Dropout(0.1, name='dropout8') (x)\n",
    "    x = Activation('relu')(x)\n",
    "    \n",
    "    x = Dense(units=256, name='dense9'  ) (x)\n",
    "    x = BatchNormalization()(x)\n",
    "    x = Dropout(0.1, name='dropout9') (x)\n",
    "    x = Activation('relu')(x)\n",
    "\n",
    "    x = Dense(units=128, name='dense10'  ) (x)\n",
    "    x = BatchNormalization()(x)\n",
    "    y = x\n",
    "    x = Dropout(0.1, name='dropout10') (x)\n",
    "    x = Activation('relu')(x)\n",
    "\n",
    "\n",
    "    predictions = Dense(1, activation='linear', name='predictions', kernel_initializer='he_normal')(x)\n",
    "#     predictions = Dense(1, activation='linear', name='predictions')(x)\n",
    "\n",
    "    \n",
    "\n",
    "    model = Model(inputs=inputs, outputs=predictions, name='Test_v2_DNN20190327')\n",
    "    model.compile(loss=keras.losses.mean_squared_error,\n",
    "                  optimizer=keras.optimizers.Adam(learning_rate),\n",
    "                  metrics=['mse','mae'])\n",
    "\n",
    "\n",
    "    model.summary()\n"
   ]
  },
  {
   "cell_type": "code",
   "execution_count": 19,
   "metadata": {
    "scrolled": true
   },
   "outputs": [
    {
     "name": "stdout",
     "output_type": "stream",
     "text": [
      "StartTime : 2020-11-23 14:44:45.690032\n",
      "Train on 8631 samples, validate on 959 samples\n",
      "Epoch 1/150\n",
      "8631/8631 [==============================] - 23s 3ms/step - loss: 2.3917 - mean_squared_error: 2.3917 - mean_absolute_error: 1.1417 - val_loss: 3.3305 - val_mean_squared_error: 3.3305 - val_mean_absolute_error: 1.2591\n",
      "Epoch 2/150\n",
      "8631/8631 [==============================] - 18s 2ms/step - loss: 1.3682 - mean_squared_error: 1.3682 - mean_absolute_error: 0.8139 - val_loss: 2.8651 - val_mean_squared_error: 2.8651 - val_mean_absolute_error: 1.1458\n",
      "Epoch 3/150\n",
      "8631/8631 [==============================] - 19s 2ms/step - loss: 1.1077 - mean_squared_error: 1.1077 - mean_absolute_error: 0.7318 - val_loss: 1.7714 - val_mean_squared_error: 1.7714 - val_mean_absolute_error: 0.9024\n",
      "Epoch 4/150\n",
      "8631/8631 [==============================] - 19s 2ms/step - loss: 0.9278 - mean_squared_error: 0.9278 - mean_absolute_error: 0.6689 - val_loss: 1.6661 - val_mean_squared_error: 1.6661 - val_mean_absolute_error: 0.8775\n",
      "Epoch 5/150\n",
      "8631/8631 [==============================] - 18s 2ms/step - loss: 0.8218 - mean_squared_error: 0.8218 - mean_absolute_error: 0.6320 - val_loss: 1.1275 - val_mean_squared_error: 1.1275 - val_mean_absolute_error: 0.6833\n",
      "Epoch 6/150\n",
      "8631/8631 [==============================] - 18s 2ms/step - loss: 0.7173 - mean_squared_error: 0.7173 - mean_absolute_error: 0.5823 - val_loss: 0.9013 - val_mean_squared_error: 0.9013 - val_mean_absolute_error: 0.6432\n",
      "Epoch 7/150\n",
      "8631/8631 [==============================] - 18s 2ms/step - loss: 0.6302 - mean_squared_error: 0.6302 - mean_absolute_error: 0.5539 - val_loss: 1.2158 - val_mean_squared_error: 1.2158 - val_mean_absolute_error: 0.6705\n",
      "Epoch 8/150\n",
      "8631/8631 [==============================] - 18s 2ms/step - loss: 0.5827 - mean_squared_error: 0.5827 - mean_absolute_error: 0.5325 - val_loss: 0.9624 - val_mean_squared_error: 0.9624 - val_mean_absolute_error: 0.5909\n",
      "Epoch 9/150\n",
      "8631/8631 [==============================] - 18s 2ms/step - loss: 0.5315 - mean_squared_error: 0.5315 - mean_absolute_error: 0.5088 - val_loss: 0.8809 - val_mean_squared_error: 0.8809 - val_mean_absolute_error: 0.5885\n",
      "Epoch 10/150\n",
      "8631/8631 [==============================] - 18s 2ms/step - loss: 0.4982 - mean_squared_error: 0.4982 - mean_absolute_error: 0.4955 - val_loss: 0.8847 - val_mean_squared_error: 0.8847 - val_mean_absolute_error: 0.5801\n",
      "Epoch 11/150\n",
      "8631/8631 [==============================] - 18s 2ms/step - loss: 0.4439 - mean_squared_error: 0.4439 - mean_absolute_error: 0.4704 - val_loss: 0.8597 - val_mean_squared_error: 0.8597 - val_mean_absolute_error: 0.5588\n",
      "Epoch 12/150\n",
      "8631/8631 [==============================] - 18s 2ms/step - loss: 0.3909 - mean_squared_error: 0.3909 - mean_absolute_error: 0.4459 - val_loss: 0.8349 - val_mean_squared_error: 0.8349 - val_mean_absolute_error: 0.5301\n",
      "Epoch 13/150\n",
      "8631/8631 [==============================] - 18s 2ms/step - loss: 0.3683 - mean_squared_error: 0.3683 - mean_absolute_error: 0.4340 - val_loss: 0.8740 - val_mean_squared_error: 0.8740 - val_mean_absolute_error: 0.5425\n",
      "Epoch 14/150\n",
      "8631/8631 [==============================] - 18s 2ms/step - loss: 0.3516 - mean_squared_error: 0.3516 - mean_absolute_error: 0.4175 - val_loss: 0.8408 - val_mean_squared_error: 0.8408 - val_mean_absolute_error: 0.5302\n",
      "Epoch 15/150\n",
      "8631/8631 [==============================] - 18s 2ms/step - loss: 0.3123 - mean_squared_error: 0.3123 - mean_absolute_error: 0.4044 - val_loss: 0.8405 - val_mean_squared_error: 0.8405 - val_mean_absolute_error: 0.5162\n",
      "Epoch 16/150\n",
      "8631/8631 [==============================] - 18s 2ms/step - loss: 0.3079 - mean_squared_error: 0.3079 - mean_absolute_error: 0.3995 - val_loss: 0.8699 - val_mean_squared_error: 0.8699 - val_mean_absolute_error: 0.5311\n",
      "Epoch 17/150\n",
      "8631/8631 [==============================] - 18s 2ms/step - loss: 0.2945 - mean_squared_error: 0.2945 - mean_absolute_error: 0.3940 - val_loss: 0.8585 - val_mean_squared_error: 0.8585 - val_mean_absolute_error: 0.5347\n",
      "Epoch 18/150\n",
      "8631/8631 [==============================] - 18s 2ms/step - loss: 0.2687 - mean_squared_error: 0.2687 - mean_absolute_error: 0.3765 - val_loss: 0.8162 - val_mean_squared_error: 0.8162 - val_mean_absolute_error: 0.5233\n",
      "Epoch 19/150\n",
      "8631/8631 [==============================] - 18s 2ms/step - loss: 0.2688 - mean_squared_error: 0.2688 - mean_absolute_error: 0.3769 - val_loss: 0.8425 - val_mean_squared_error: 0.8425 - val_mean_absolute_error: 0.5326\n",
      "Epoch 20/150\n",
      "8631/8631 [==============================] - 18s 2ms/step - loss: 0.2791 - mean_squared_error: 0.2791 - mean_absolute_error: 0.3826 - val_loss: 0.8788 - val_mean_squared_error: 0.8788 - val_mean_absolute_error: 0.5332\n",
      "Epoch 21/150\n",
      "8631/8631 [==============================] - 18s 2ms/step - loss: 0.2380 - mean_squared_error: 0.2380 - mean_absolute_error: 0.3550 - val_loss: 0.8600 - val_mean_squared_error: 0.8600 - val_mean_absolute_error: 0.5159\n",
      "Epoch 22/150\n",
      "8631/8631 [==============================] - 18s 2ms/step - loss: 0.2393 - mean_squared_error: 0.2393 - mean_absolute_error: 0.3571 - val_loss: 0.8399 - val_mean_squared_error: 0.8399 - val_mean_absolute_error: 0.4882\n",
      "Epoch 23/150\n",
      "8631/8631 [==============================] - 18s 2ms/step - loss: 0.2329 - mean_squared_error: 0.2329 - mean_absolute_error: 0.3550 - val_loss: 0.8283 - val_mean_squared_error: 0.8283 - val_mean_absolute_error: 0.4963\n",
      "Epoch 24/150\n",
      "8631/8631 [==============================] - 18s 2ms/step - loss: 0.2055 - mean_squared_error: 0.2055 - mean_absolute_error: 0.3346 - val_loss: 0.8189 - val_mean_squared_error: 0.8189 - val_mean_absolute_error: 0.4988\n",
      "Epoch 25/150\n",
      "8631/8631 [==============================] - 18s 2ms/step - loss: 0.2122 - mean_squared_error: 0.2122 - mean_absolute_error: 0.3382 - val_loss: 0.8327 - val_mean_squared_error: 0.8327 - val_mean_absolute_error: 0.5069\n",
      "Epoch 26/150\n",
      "8631/8631 [==============================] - 18s 2ms/step - loss: 0.2300 - mean_squared_error: 0.2300 - mean_absolute_error: 0.3480 - val_loss: 0.8888 - val_mean_squared_error: 0.8888 - val_mean_absolute_error: 0.5474\n",
      "Epoch 27/150\n",
      "8631/8631 [==============================] - 18s 2ms/step - loss: 0.2105 - mean_squared_error: 0.2105 - mean_absolute_error: 0.3328 - val_loss: 0.7893 - val_mean_squared_error: 0.7893 - val_mean_absolute_error: 0.4846\n",
      "Epoch 28/150\n",
      "8631/8631 [==============================] - 18s 2ms/step - loss: 0.1994 - mean_squared_error: 0.1994 - mean_absolute_error: 0.3257 - val_loss: 0.7955 - val_mean_squared_error: 0.7955 - val_mean_absolute_error: 0.5096\n",
      "Epoch 29/150\n",
      "8631/8631 [==============================] - 18s 2ms/step - loss: 0.1938 - mean_squared_error: 0.1938 - mean_absolute_error: 0.3205 - val_loss: 0.8090 - val_mean_squared_error: 0.8090 - val_mean_absolute_error: 0.4852\n",
      "Epoch 30/150\n",
      "8631/8631 [==============================] - 18s 2ms/step - loss: 0.1868 - mean_squared_error: 0.1868 - mean_absolute_error: 0.3153 - val_loss: 0.8307 - val_mean_squared_error: 0.8307 - val_mean_absolute_error: 0.4899\n",
      "Epoch 31/150\n",
      "8631/8631 [==============================] - 18s 2ms/step - loss: 0.1734 - mean_squared_error: 0.1734 - mean_absolute_error: 0.3026 - val_loss: 0.8102 - val_mean_squared_error: 0.8102 - val_mean_absolute_error: 0.5014\n",
      "Epoch 32/150\n",
      "8631/8631 [==============================] - 18s 2ms/step - loss: 0.1753 - mean_squared_error: 0.1753 - mean_absolute_error: 0.3045 - val_loss: 0.8340 - val_mean_squared_error: 0.8340 - val_mean_absolute_error: 0.5017\n",
      "Epoch 33/150\n",
      "8631/8631 [==============================] - 18s 2ms/step - loss: 0.1833 - mean_squared_error: 0.1833 - mean_absolute_error: 0.3141 - val_loss: 0.8634 - val_mean_squared_error: 0.8634 - val_mean_absolute_error: 0.4980\n",
      "Epoch 34/150\n",
      "8631/8631 [==============================] - 18s 2ms/step - loss: 0.1784 - mean_squared_error: 0.1784 - mean_absolute_error: 0.3020 - val_loss: 0.8454 - val_mean_squared_error: 0.8454 - val_mean_absolute_error: 0.5160\n",
      "Epoch 35/150\n",
      "8631/8631 [==============================] - 18s 2ms/step - loss: 0.1710 - mean_squared_error: 0.1710 - mean_absolute_error: 0.2980 - val_loss: 0.8675 - val_mean_squared_error: 0.8675 - val_mean_absolute_error: 0.4936\n",
      "Epoch 36/150\n"
     ]
    },
    {
     "name": "stdout",
     "output_type": "stream",
     "text": [
      "8631/8631 [==============================] - 18s 2ms/step - loss: 0.1578 - mean_squared_error: 0.1578 - mean_absolute_error: 0.2860 - val_loss: 0.8075 - val_mean_squared_error: 0.8075 - val_mean_absolute_error: 0.4900\n",
      "Epoch 37/150\n",
      "8631/8631 [==============================] - 18s 2ms/step - loss: 0.1606 - mean_squared_error: 0.1606 - mean_absolute_error: 0.2876 - val_loss: 0.8372 - val_mean_squared_error: 0.8372 - val_mean_absolute_error: 0.4843\n",
      "Epoch 38/150\n",
      "8631/8631 [==============================] - 18s 2ms/step - loss: 0.1516 - mean_squared_error: 0.1516 - mean_absolute_error: 0.2814 - val_loss: 0.8237 - val_mean_squared_error: 0.8237 - val_mean_absolute_error: 0.4784\n",
      "Epoch 39/150\n",
      "8631/8631 [==============================] - 18s 2ms/step - loss: 0.1521 - mean_squared_error: 0.1521 - mean_absolute_error: 0.2840 - val_loss: 0.8352 - val_mean_squared_error: 0.8352 - val_mean_absolute_error: 0.4845\n",
      "Epoch 40/150\n",
      "8631/8631 [==============================] - 18s 2ms/step - loss: 0.1543 - mean_squared_error: 0.1543 - mean_absolute_error: 0.2814 - val_loss: 0.8020 - val_mean_squared_error: 0.8020 - val_mean_absolute_error: 0.4880\n",
      "Epoch 41/150\n",
      "8631/8631 [==============================] - 18s 2ms/step - loss: 0.2165 - mean_squared_error: 0.2165 - mean_absolute_error: 0.3094 - val_loss: 0.9059 - val_mean_squared_error: 0.9059 - val_mean_absolute_error: 0.5114\n",
      "Epoch 42/150\n",
      "8631/8631 [==============================] - 18s 2ms/step - loss: 0.1789 - mean_squared_error: 0.1789 - mean_absolute_error: 0.2932 - val_loss: 0.9941 - val_mean_squared_error: 0.9941 - val_mean_absolute_error: 0.5680\n",
      "Epoch 43/150\n",
      "8631/8631 [==============================] - 18s 2ms/step - loss: 0.1710 - mean_squared_error: 0.1710 - mean_absolute_error: 0.2898 - val_loss: 0.7935 - val_mean_squared_error: 0.7935 - val_mean_absolute_error: 0.4777\n",
      "Epoch 44/150\n",
      "8631/8631 [==============================] - 18s 2ms/step - loss: 0.1584 - mean_squared_error: 0.1584 - mean_absolute_error: 0.2820 - val_loss: 0.8425 - val_mean_squared_error: 0.8425 - val_mean_absolute_error: 0.5012\n",
      "Epoch 45/150\n",
      "8631/8631 [==============================] - 18s 2ms/step - loss: 0.1651 - mean_squared_error: 0.1651 - mean_absolute_error: 0.2854 - val_loss: 0.8532 - val_mean_squared_error: 0.8532 - val_mean_absolute_error: 0.4945\n",
      "Epoch 46/150\n",
      "8631/8631 [==============================] - 18s 2ms/step - loss: 0.1521 - mean_squared_error: 0.1521 - mean_absolute_error: 0.2734 - val_loss: 0.8632 - val_mean_squared_error: 0.8632 - val_mean_absolute_error: 0.4948\n",
      "Epoch 47/150\n",
      "8631/8631 [==============================] - 18s 2ms/step - loss: 0.1339 - mean_squared_error: 0.1339 - mean_absolute_error: 0.2632 - val_loss: 0.8245 - val_mean_squared_error: 0.8245 - val_mean_absolute_error: 0.4780\n",
      "Epoch 48/150\n",
      "8631/8631 [==============================] - 18s 2ms/step - loss: 0.1535 - mean_squared_error: 0.1535 - mean_absolute_error: 0.2715 - val_loss: 0.8324 - val_mean_squared_error: 0.8324 - val_mean_absolute_error: 0.4884\n",
      "Epoch 49/150\n",
      "8631/8631 [==============================] - 18s 2ms/step - loss: 0.1436 - mean_squared_error: 0.1436 - mean_absolute_error: 0.2684 - val_loss: 0.8103 - val_mean_squared_error: 0.8103 - val_mean_absolute_error: 0.4844\n",
      "Epoch 50/150\n",
      "8631/8631 [==============================] - 18s 2ms/step - loss: 0.1349 - mean_squared_error: 0.1349 - mean_absolute_error: 0.2666 - val_loss: 0.7455 - val_mean_squared_error: 0.7455 - val_mean_absolute_error: 0.4685\n",
      "Epoch 51/150\n",
      "8631/8631 [==============================] - 18s 2ms/step - loss: 0.1204 - mean_squared_error: 0.1204 - mean_absolute_error: 0.2522 - val_loss: 0.7590 - val_mean_squared_error: 0.7590 - val_mean_absolute_error: 0.4588\n",
      "Epoch 52/150\n",
      "8631/8631 [==============================] - 18s 2ms/step - loss: 0.1183 - mean_squared_error: 0.1183 - mean_absolute_error: 0.2494 - val_loss: 0.8006 - val_mean_squared_error: 0.8006 - val_mean_absolute_error: 0.4726\n",
      "Epoch 53/150\n",
      "8631/8631 [==============================] - 18s 2ms/step - loss: 0.1346 - mean_squared_error: 0.1346 - mean_absolute_error: 0.2553 - val_loss: 0.8716 - val_mean_squared_error: 0.8716 - val_mean_absolute_error: 0.4920\n",
      "Epoch 54/150\n",
      "8631/8631 [==============================] - 18s 2ms/step - loss: 0.1428 - mean_squared_error: 0.1428 - mean_absolute_error: 0.2607 - val_loss: 0.7584 - val_mean_squared_error: 0.7584 - val_mean_absolute_error: 0.4628\n",
      "Epoch 55/150\n",
      "8631/8631 [==============================] - 18s 2ms/step - loss: 0.1605 - mean_squared_error: 0.1605 - mean_absolute_error: 0.2741 - val_loss: 0.7920 - val_mean_squared_error: 0.7920 - val_mean_absolute_error: 0.4671\n",
      "Epoch 56/150\n",
      "8631/8631 [==============================] - 18s 2ms/step - loss: 0.1448 - mean_squared_error: 0.1448 - mean_absolute_error: 0.2665 - val_loss: 0.8416 - val_mean_squared_error: 0.8416 - val_mean_absolute_error: 0.4759\n",
      "Epoch 57/150\n",
      "8631/8631 [==============================] - 18s 2ms/step - loss: 0.1425 - mean_squared_error: 0.1425 - mean_absolute_error: 0.2630 - val_loss: 0.8374 - val_mean_squared_error: 0.8374 - val_mean_absolute_error: 0.4922\n",
      "Epoch 58/150\n",
      "8631/8631 [==============================] - 18s 2ms/step - loss: 0.1286 - mean_squared_error: 0.1286 - mean_absolute_error: 0.2553 - val_loss: 0.8075 - val_mean_squared_error: 0.8075 - val_mean_absolute_error: 0.4743\n",
      "Epoch 59/150\n",
      "8631/8631 [==============================] - 18s 2ms/step - loss: 0.1117 - mean_squared_error: 0.1117 - mean_absolute_error: 0.2427 - val_loss: 0.7644 - val_mean_squared_error: 0.7644 - val_mean_absolute_error: 0.4829\n",
      "Epoch 60/150\n",
      "8631/8631 [==============================] - 18s 2ms/step - loss: 0.1056 - mean_squared_error: 0.1056 - mean_absolute_error: 0.2383 - val_loss: 0.8719 - val_mean_squared_error: 0.8719 - val_mean_absolute_error: 0.5185\n",
      "Epoch 61/150\n",
      "8631/8631 [==============================] - 18s 2ms/step - loss: 0.1103 - mean_squared_error: 0.1103 - mean_absolute_error: 0.2394 - val_loss: 0.8248 - val_mean_squared_error: 0.8248 - val_mean_absolute_error: 0.4855\n",
      "Epoch 62/150\n",
      "8631/8631 [==============================] - 18s 2ms/step - loss: 0.1142 - mean_squared_error: 0.1142 - mean_absolute_error: 0.2430 - val_loss: 0.8286 - val_mean_squared_error: 0.8286 - val_mean_absolute_error: 0.4814\n",
      "Epoch 63/150\n",
      "8631/8631 [==============================] - 18s 2ms/step - loss: 0.1054 - mean_squared_error: 0.1054 - mean_absolute_error: 0.2318 - val_loss: 0.8200 - val_mean_squared_error: 0.8200 - val_mean_absolute_error: 0.4796\n",
      "Epoch 64/150\n",
      "8631/8631 [==============================] - 18s 2ms/step - loss: 0.0942 - mean_squared_error: 0.0942 - mean_absolute_error: 0.2219 - val_loss: 0.8590 - val_mean_squared_error: 0.8590 - val_mean_absolute_error: 0.4884\n",
      "Epoch 65/150\n",
      "8631/8631 [==============================] - 18s 2ms/step - loss: 0.1214 - mean_squared_error: 0.1214 - mean_absolute_error: 0.2379 - val_loss: 0.8242 - val_mean_squared_error: 0.8242 - val_mean_absolute_error: 0.4816\n",
      "Epoch 66/150\n",
      "8631/8631 [==============================] - 18s 2ms/step - loss: 0.1214 - mean_squared_error: 0.1214 - mean_absolute_error: 0.2390 - val_loss: 0.8460 - val_mean_squared_error: 0.8460 - val_mean_absolute_error: 0.4723\n",
      "Epoch 67/150\n",
      "8631/8631 [==============================] - 18s 2ms/step - loss: 0.1626 - mean_squared_error: 0.1626 - mean_absolute_error: 0.2607 - val_loss: 0.9029 - val_mean_squared_error: 0.9029 - val_mean_absolute_error: 0.4804\n",
      "Epoch 68/150\n",
      "8631/8631 [==============================] - 18s 2ms/step - loss: 0.1658 - mean_squared_error: 0.1658 - mean_absolute_error: 0.2707 - val_loss: 0.8784 - val_mean_squared_error: 0.8784 - val_mean_absolute_error: 0.5123\n",
      "Epoch 69/150\n",
      "8631/8631 [==============================] - 18s 2ms/step - loss: 0.1496 - mean_squared_error: 0.1496 - mean_absolute_error: 0.2577 - val_loss: 0.8530 - val_mean_squared_error: 0.8530 - val_mean_absolute_error: 0.5020\n",
      "Epoch 70/150\n",
      "8631/8631 [==============================] - 18s 2ms/step - loss: 0.1534 - mean_squared_error: 0.1534 - mean_absolute_error: 0.2556 - val_loss: 0.8116 - val_mean_squared_error: 0.8116 - val_mean_absolute_error: 0.4921\n",
      "Epoch 71/150\n"
     ]
    },
    {
     "name": "stdout",
     "output_type": "stream",
     "text": [
      "8631/8631 [==============================] - 18s 2ms/step - loss: 0.1262 - mean_squared_error: 0.1262 - mean_absolute_error: 0.2453 - val_loss: 0.8407 - val_mean_squared_error: 0.8407 - val_mean_absolute_error: 0.4874\n",
      "Epoch 72/150\n",
      "8631/8631 [==============================] - 18s 2ms/step - loss: 0.1239 - mean_squared_error: 0.1239 - mean_absolute_error: 0.2413 - val_loss: 0.8044 - val_mean_squared_error: 0.8044 - val_mean_absolute_error: 0.4665loss: 0\n",
      "Epoch 73/150\n",
      "8631/8631 [==============================] - 18s 2ms/step - loss: 0.1242 - mean_squared_error: 0.1242 - mean_absolute_error: 0.2400 - val_loss: 0.8463 - val_mean_squared_error: 0.8463 - val_mean_absolute_error: 0.4827\n",
      "Epoch 74/150\n",
      "8631/8631 [==============================] - 18s 2ms/step - loss: 0.1405 - mean_squared_error: 0.1405 - mean_absolute_error: 0.2472 - val_loss: 1.0399 - val_mean_squared_error: 1.0399 - val_mean_absolute_error: 0.5100\n",
      "Epoch 75/150\n",
      "8631/8631 [==============================] - 18s 2ms/step - loss: 0.1363 - mean_squared_error: 0.1363 - mean_absolute_error: 0.2427 - val_loss: 0.9111 - val_mean_squared_error: 0.9111 - val_mean_absolute_error: 0.4874\n",
      "Epoch 76/150\n",
      "8631/8631 [==============================] - 18s 2ms/step - loss: 0.0975 - mean_squared_error: 0.0975 - mean_absolute_error: 0.2230 - val_loss: 0.8377 - val_mean_squared_error: 0.8377 - val_mean_absolute_error: 0.4765\n",
      "Epoch 77/150\n",
      "8631/8631 [==============================] - 18s 2ms/step - loss: 0.0882 - mean_squared_error: 0.0882 - mean_absolute_error: 0.2118 - val_loss: 0.8518 - val_mean_squared_error: 0.8518 - val_mean_absolute_error: 0.4665\n",
      "Epoch 78/150\n",
      "8631/8631 [==============================] - 18s 2ms/step - loss: 0.0781 - mean_squared_error: 0.0781 - mean_absolute_error: 0.2007 - val_loss: 0.8732 - val_mean_squared_error: 0.8732 - val_mean_absolute_error: 0.4650\n",
      "Epoch 79/150\n",
      "8631/8631 [==============================] - 18s 2ms/step - loss: 0.0888 - mean_squared_error: 0.0888 - mean_absolute_error: 0.2085 - val_loss: 0.8636 - val_mean_squared_error: 0.8636 - val_mean_absolute_error: 0.4735\n",
      "Epoch 80/150\n",
      "8631/8631 [==============================] - 18s 2ms/step - loss: 0.0816 - mean_squared_error: 0.0816 - mean_absolute_error: 0.2096 - val_loss: 0.8089 - val_mean_squared_error: 0.8089 - val_mean_absolute_error: 0.4683\n",
      "Epoch 81/150\n",
      "8631/8631 [==============================] - 18s 2ms/step - loss: 0.0732 - mean_squared_error: 0.0732 - mean_absolute_error: 0.1957 - val_loss: 0.8860 - val_mean_squared_error: 0.8860 - val_mean_absolute_error: 0.4742\n",
      "Epoch 82/150\n",
      "8631/8631 [==============================] - 18s 2ms/step - loss: 0.0749 - mean_squared_error: 0.0749 - mean_absolute_error: 0.1993 - val_loss: 0.7896 - val_mean_squared_error: 0.7896 - val_mean_absolute_error: 0.4547\n",
      "Epoch 83/150\n",
      "8631/8631 [==============================] - 18s 2ms/step - loss: 0.0737 - mean_squared_error: 0.0737 - mean_absolute_error: 0.1920 - val_loss: 0.8268 - val_mean_squared_error: 0.8268 - val_mean_absolute_error: 0.4849\n",
      "Epoch 84/150\n",
      "8631/8631 [==============================] - 18s 2ms/step - loss: 0.0858 - mean_squared_error: 0.0858 - mean_absolute_error: 0.2096 - val_loss: 0.8868 - val_mean_squared_error: 0.8868 - val_mean_absolute_error: 0.4880\n",
      "Epoch 85/150\n",
      "8631/8631 [==============================] - 18s 2ms/step - loss: 0.0879 - mean_squared_error: 0.0879 - mean_absolute_error: 0.2075 - val_loss: 0.7781 - val_mean_squared_error: 0.7781 - val_mean_absolute_error: 0.4548\n",
      "Epoch 86/150\n",
      "8631/8631 [==============================] - 18s 2ms/step - loss: 0.0909 - mean_squared_error: 0.0909 - mean_absolute_error: 0.2100 - val_loss: 0.8633 - val_mean_squared_error: 0.8633 - val_mean_absolute_error: 0.4616\n",
      "Epoch 87/150\n",
      "8631/8631 [==============================] - 18s 2ms/step - loss: 0.1125 - mean_squared_error: 0.1125 - mean_absolute_error: 0.2227 - val_loss: 0.8433 - val_mean_squared_error: 0.8433 - val_mean_absolute_error: 0.4672\n",
      "Epoch 88/150\n",
      "8631/8631 [==============================] - 19s 2ms/step - loss: 0.2476 - mean_squared_error: 0.2476 - mean_absolute_error: 0.2890 - val_loss: 0.9854 - val_mean_squared_error: 0.9854 - val_mean_absolute_error: 0.5442\n",
      "Epoch 89/150\n",
      "8631/8631 [==============================] - 18s 2ms/step - loss: 0.3331 - mean_squared_error: 0.3331 - mean_absolute_error: 0.3354 - val_loss: 0.8660 - val_mean_squared_error: 0.8660 - val_mean_absolute_error: 0.5184\n",
      "Epoch 90/150\n",
      "8631/8631 [==============================] - 18s 2ms/step - loss: 0.2164 - mean_squared_error: 0.2164 - mean_absolute_error: 0.2834 - val_loss: 0.8492 - val_mean_squared_error: 0.8492 - val_mean_absolute_error: 0.4647\n",
      "Epoch 91/150\n",
      "8631/8631 [==============================] - 19s 2ms/step - loss: 0.1733 - mean_squared_error: 0.1733 - mean_absolute_error: 0.2600 - val_loss: 0.8514 - val_mean_squared_error: 0.8514 - val_mean_absolute_error: 0.4883\n",
      "Epoch 92/150\n",
      "8631/8631 [==============================] - 18s 2ms/step - loss: 0.1205 - mean_squared_error: 0.1205 - mean_absolute_error: 0.2343 - val_loss: 0.7342 - val_mean_squared_error: 0.7342 - val_mean_absolute_error: 0.4769\n",
      "Epoch 93/150\n",
      "8631/8631 [==============================] - 18s 2ms/step - loss: 0.0951 - mean_squared_error: 0.0951 - mean_absolute_error: 0.2149 - val_loss: 0.7839 - val_mean_squared_error: 0.7839 - val_mean_absolute_error: 0.4657\n",
      "Epoch 94/150\n",
      "8631/8631 [==============================] - 18s 2ms/step - loss: 0.0788 - mean_squared_error: 0.0788 - mean_absolute_error: 0.1994 - val_loss: 0.7912 - val_mean_squared_error: 0.7912 - val_mean_absolute_error: 0.4512\n",
      "Epoch 95/150\n",
      "8631/8631 [==============================] - 18s 2ms/step - loss: 0.0728 - mean_squared_error: 0.0728 - mean_absolute_error: 0.1968 - val_loss: 0.7653 - val_mean_squared_error: 0.7653 - val_mean_absolute_error: 0.4523\n",
      "Epoch 96/150\n",
      "8631/8631 [==============================] - 18s 2ms/step - loss: 0.0659 - mean_squared_error: 0.0659 - mean_absolute_error: 0.1879 - val_loss: 0.7664 - val_mean_squared_error: 0.7664 - val_mean_absolute_error: 0.4531\n",
      "Epoch 97/150\n",
      "8631/8631 [==============================] - 18s 2ms/step - loss: 0.0631 - mean_squared_error: 0.0631 - mean_absolute_error: 0.1838 - val_loss: 0.7459 - val_mean_squared_error: 0.7459 - val_mean_absolute_error: 0.4397\n",
      "Epoch 98/150\n",
      "8631/8631 [==============================] - 18s 2ms/step - loss: 0.0594 - mean_squared_error: 0.0594 - mean_absolute_error: 0.1784 - val_loss: 0.7622 - val_mean_squared_error: 0.7622 - val_mean_absolute_error: 0.4382\n",
      "Epoch 99/150\n",
      "8631/8631 [==============================] - 18s 2ms/step - loss: 0.0597 - mean_squared_error: 0.0597 - mean_absolute_error: 0.1793 - val_loss: 0.7578 - val_mean_squared_error: 0.7578 - val_mean_absolute_error: 0.4349\n",
      "Epoch 100/150\n",
      "8631/8631 [==============================] - 18s 2ms/step - loss: 0.0594 - mean_squared_error: 0.0594 - mean_absolute_error: 0.1761 - val_loss: 0.7480 - val_mean_squared_error: 0.7480 - val_mean_absolute_error: 0.4480\n",
      "Epoch 101/150\n",
      "8631/8631 [==============================] - 18s 2ms/step - loss: 0.0602 - mean_squared_error: 0.0602 - mean_absolute_error: 0.1780 - val_loss: 0.7497 - val_mean_squared_error: 0.7497 - val_mean_absolute_error: 0.4351\n",
      "Epoch 102/150\n",
      "8631/8631 [==============================] - 18s 2ms/step - loss: 0.0689 - mean_squared_error: 0.0689 - mean_absolute_error: 0.1827 - val_loss: 0.7638 - val_mean_squared_error: 0.7638 - val_mean_absolute_error: 0.4363\n",
      "Epoch 103/150\n",
      "8631/8631 [==============================] - 18s 2ms/step - loss: 0.0630 - mean_squared_error: 0.0630 - mean_absolute_error: 0.1792 - val_loss: 0.7698 - val_mean_squared_error: 0.7698 - val_mean_absolute_error: 0.4339\n",
      "Epoch 104/150\n",
      "8631/8631 [==============================] - 18s 2ms/step - loss: 0.0550 - mean_squared_error: 0.0550 - mean_absolute_error: 0.1721 - val_loss: 0.7838 - val_mean_squared_error: 0.7838 - val_mean_absolute_error: 0.4528\n",
      "Epoch 105/150\n",
      "8631/8631 [==============================] - 18s 2ms/step - loss: 0.0547 - mean_squared_error: 0.0547 - mean_absolute_error: 0.1696 - val_loss: 0.7860 - val_mean_squared_error: 0.7860 - val_mean_absolute_error: 0.4386\n",
      "Epoch 106/150\n"
     ]
    },
    {
     "name": "stdout",
     "output_type": "stream",
     "text": [
      "8631/8631 [==============================] - 18s 2ms/step - loss: 0.0574 - mean_squared_error: 0.0574 - mean_absolute_error: 0.1756 - val_loss: 0.7514 - val_mean_squared_error: 0.7514 - val_mean_absolute_error: 0.4431\n",
      "Epoch 107/150\n",
      "8631/8631 [==============================] - 18s 2ms/step - loss: 0.0532 - mean_squared_error: 0.0532 - mean_absolute_error: 0.1690 - val_loss: 0.7578 - val_mean_squared_error: 0.7578 - val_mean_absolute_error: 0.4430\n",
      "Epoch 108/150\n",
      "8631/8631 [==============================] - 18s 2ms/step - loss: 0.0517 - mean_squared_error: 0.0517 - mean_absolute_error: 0.1648 - val_loss: 0.7728 - val_mean_squared_error: 0.7728 - val_mean_absolute_error: 0.4404\n",
      "Epoch 109/150\n",
      "8631/8631 [==============================] - 18s 2ms/step - loss: 0.0533 - mean_squared_error: 0.0533 - mean_absolute_error: 0.1634 - val_loss: 0.7706 - val_mean_squared_error: 0.7706 - val_mean_absolute_error: 0.4321\n",
      "Epoch 110/150\n",
      "8631/8631 [==============================] - 18s 2ms/step - loss: 0.0631 - mean_squared_error: 0.0631 - mean_absolute_error: 0.1760 - val_loss: 0.7641 - val_mean_squared_error: 0.7641 - val_mean_absolute_error: 0.4388\n",
      "Epoch 111/150\n",
      "8631/8631 [==============================] - 18s 2ms/step - loss: 0.1425 - mean_squared_error: 0.1425 - mean_absolute_error: 0.2288 - val_loss: 0.8756 - val_mean_squared_error: 0.8756 - val_mean_absolute_error: 0.4826\n",
      "Epoch 112/150\n",
      "8631/8631 [==============================] - 18s 2ms/step - loss: 0.1264 - mean_squared_error: 0.1264 - mean_absolute_error: 0.2255 - val_loss: 0.8335 - val_mean_squared_error: 0.8335 - val_mean_absolute_error: 0.4651\n",
      "Epoch 113/150\n",
      "8631/8631 [==============================] - 18s 2ms/step - loss: 0.1273 - mean_squared_error: 0.1273 - mean_absolute_error: 0.2199 - val_loss: 0.9411 - val_mean_squared_error: 0.9411 - val_mean_absolute_error: 0.4897\n",
      "Epoch 114/150\n",
      "8631/8631 [==============================] - 18s 2ms/step - loss: 0.1333 - mean_squared_error: 0.1333 - mean_absolute_error: 0.2190 - val_loss: 0.8405 - val_mean_squared_error: 0.8405 - val_mean_absolute_error: 0.4551\n",
      "Epoch 115/150\n",
      "8631/8631 [==============================] - 18s 2ms/step - loss: 0.0784 - mean_squared_error: 0.0784 - mean_absolute_error: 0.1932 - val_loss: 0.7798 - val_mean_squared_error: 0.7798 - val_mean_absolute_error: 0.4553\n",
      "Epoch 116/150\n",
      "8631/8631 [==============================] - 18s 2ms/step - loss: 0.0770 - mean_squared_error: 0.0770 - mean_absolute_error: 0.1849 - val_loss: 0.8113 - val_mean_squared_error: 0.8113 - val_mean_absolute_error: 0.4658\n",
      "Epoch 117/150\n",
      "8631/8631 [==============================] - 18s 2ms/step - loss: 0.0753 - mean_squared_error: 0.0753 - mean_absolute_error: 0.1878 - val_loss: 0.8053 - val_mean_squared_error: 0.8053 - val_mean_absolute_error: 0.4478\n",
      "Epoch 118/150\n",
      "8631/8631 [==============================] - 18s 2ms/step - loss: 0.0686 - mean_squared_error: 0.0686 - mean_absolute_error: 0.1799 - val_loss: 0.7773 - val_mean_squared_error: 0.7773 - val_mean_absolute_error: 0.4404\n",
      "Epoch 119/150\n",
      "8631/8631 [==============================] - 18s 2ms/step - loss: 0.0557 - mean_squared_error: 0.0557 - mean_absolute_error: 0.1675 - val_loss: 0.7904 - val_mean_squared_error: 0.7904 - val_mean_absolute_error: 0.4456\n",
      "Epoch 120/150\n",
      "8631/8631 [==============================] - 18s 2ms/step - loss: 0.1806 - mean_squared_error: 0.1806 - mean_absolute_error: 0.2299 - val_loss: 0.9939 - val_mean_squared_error: 0.9939 - val_mean_absolute_error: 0.4879\n",
      "Epoch 121/150\n",
      "8631/8631 [==============================] - 18s 2ms/step - loss: 0.1284 - mean_squared_error: 0.1284 - mean_absolute_error: 0.2159 - val_loss: 0.9616 - val_mean_squared_error: 0.9616 - val_mean_absolute_error: 0.5156\n",
      "Epoch 122/150\n",
      "8631/8631 [==============================] - 18s 2ms/step - loss: 0.1016 - mean_squared_error: 0.1016 - mean_absolute_error: 0.2041 - val_loss: 0.8278 - val_mean_squared_error: 0.8278 - val_mean_absolute_error: 0.4798\n",
      "Epoch 123/150\n",
      "8631/8631 [==============================] - 18s 2ms/step - loss: 0.0649 - mean_squared_error: 0.0649 - mean_absolute_error: 0.1785 - val_loss: 0.7711 - val_mean_squared_error: 0.7711 - val_mean_absolute_error: 0.4455\n",
      "Epoch 124/150\n",
      "8631/8631 [==============================] - 18s 2ms/step - loss: 0.0551 - mean_squared_error: 0.0551 - mean_absolute_error: 0.1680 - val_loss: 0.7569 - val_mean_squared_error: 0.7569 - val_mean_absolute_error: 0.4359\n",
      "Epoch 125/150\n",
      "8631/8631 [==============================] - 18s 2ms/step - loss: 0.0453 - mean_squared_error: 0.0453 - mean_absolute_error: 0.1550 - val_loss: 0.7749 - val_mean_squared_error: 0.7749 - val_mean_absolute_error: 0.4357\n",
      "Epoch 126/150\n",
      "8631/8631 [==============================] - 18s 2ms/step - loss: 0.0534 - mean_squared_error: 0.0534 - mean_absolute_error: 0.1628 - val_loss: 0.7485 - val_mean_squared_error: 0.7485 - val_mean_absolute_error: 0.4387\n",
      "Epoch 127/150\n",
      "8631/8631 [==============================] - 19s 2ms/step - loss: 0.0505 - mean_squared_error: 0.0505 - mean_absolute_error: 0.1609 - val_loss: 0.7587 - val_mean_squared_error: 0.7587 - val_mean_absolute_error: 0.4319\n",
      "Epoch 128/150\n",
      "8631/8631 [==============================] - 18s 2ms/step - loss: 0.0472 - mean_squared_error: 0.0472 - mean_absolute_error: 0.1556 - val_loss: 0.7511 - val_mean_squared_error: 0.7511 - val_mean_absolute_error: 0.4285\n",
      "Epoch 129/150\n",
      "8631/8631 [==============================] - 18s 2ms/step - loss: 0.0467 - mean_squared_error: 0.0467 - mean_absolute_error: 0.1561 - val_loss: 0.7741 - val_mean_squared_error: 0.7741 - val_mean_absolute_error: 0.4445\n",
      "Epoch 130/150\n",
      "8631/8631 [==============================] - 18s 2ms/step - loss: 0.0452 - mean_squared_error: 0.0452 - mean_absolute_error: 0.1539 - val_loss: 0.7829 - val_mean_squared_error: 0.7829 - val_mean_absolute_error: 0.4284\n",
      "Epoch 131/150\n",
      "8631/8631 [==============================] - 18s 2ms/step - loss: 0.0482 - mean_squared_error: 0.0482 - mean_absolute_error: 0.1568 - val_loss: 0.7662 - val_mean_squared_error: 0.7662 - val_mean_absolute_error: 0.4331\n",
      "Epoch 132/150\n",
      "8631/8631 [==============================] - 18s 2ms/step - loss: 0.0454 - mean_squared_error: 0.0454 - mean_absolute_error: 0.1547 - val_loss: 0.7644 - val_mean_squared_error: 0.7644 - val_mean_absolute_error: 0.4310\n",
      "Epoch 133/150\n",
      "8631/8631 [==============================] - 18s 2ms/step - loss: 0.0433 - mean_squared_error: 0.0433 - mean_absolute_error: 0.1502 - val_loss: 0.7751 - val_mean_squared_error: 0.7751 - val_mean_absolute_error: 0.4447\n",
      "Epoch 134/150\n",
      "8631/8631 [==============================] - 18s 2ms/step - loss: 0.0416 - mean_squared_error: 0.0416 - mean_absolute_error: 0.1487 - val_loss: 0.7388 - val_mean_squared_error: 0.7388 - val_mean_absolute_error: 0.4273\n",
      "Epoch 135/150\n",
      "8631/8631 [==============================] - 18s 2ms/step - loss: 0.0482 - mean_squared_error: 0.0482 - mean_absolute_error: 0.1596 - val_loss: 0.7748 - val_mean_squared_error: 0.7748 - val_mean_absolute_error: 0.4432\n",
      "Epoch 136/150\n",
      "8631/8631 [==============================] - 18s 2ms/step - loss: 0.0386 - mean_squared_error: 0.0386 - mean_absolute_error: 0.1437 - val_loss: 0.7433 - val_mean_squared_error: 0.7433 - val_mean_absolute_error: 0.4230\n",
      "Epoch 137/150\n",
      "8631/8631 [==============================] - 18s 2ms/step - loss: 0.0406 - mean_squared_error: 0.0406 - mean_absolute_error: 0.1489 - val_loss: 0.7529 - val_mean_squared_error: 0.7529 - val_mean_absolute_error: 0.4263\n",
      "Epoch 138/150\n",
      "8631/8631 [==============================] - 18s 2ms/step - loss: 0.0412 - mean_squared_error: 0.0412 - mean_absolute_error: 0.1477 - val_loss: 0.7551 - val_mean_squared_error: 0.7551 - val_mean_absolute_error: 0.4343\n",
      "Epoch 139/150\n",
      "8631/8631 [==============================] - 18s 2ms/step - loss: 0.0404 - mean_squared_error: 0.0404 - mean_absolute_error: 0.1462 - val_loss: 0.7828 - val_mean_squared_error: 0.7828 - val_mean_absolute_error: 0.4433\n",
      "Epoch 140/150\n",
      "8631/8631 [==============================] - 18s 2ms/step - loss: 0.0466 - mean_squared_error: 0.0466 - mean_absolute_error: 0.1538 - val_loss: 0.7997 - val_mean_squared_error: 0.7997 - val_mean_absolute_error: 0.4447\n",
      "Epoch 141/150\n"
     ]
    },
    {
     "name": "stdout",
     "output_type": "stream",
     "text": [
      "8631/8631 [==============================] - 18s 2ms/step - loss: 0.0431 - mean_squared_error: 0.0431 - mean_absolute_error: 0.1499 - val_loss: 0.7641 - val_mean_squared_error: 0.7641 - val_mean_absolute_error: 0.4256\n",
      "Epoch 142/150\n",
      "8631/8631 [==============================] - 18s 2ms/step - loss: 0.0425 - mean_squared_error: 0.0425 - mean_absolute_error: 0.1477 - val_loss: 0.7807 - val_mean_squared_error: 0.7807 - val_mean_absolute_error: 0.4338\n",
      "Epoch 143/150\n",
      "8631/8631 [==============================] - 18s 2ms/step - loss: 0.0530 - mean_squared_error: 0.0530 - mean_absolute_error: 0.1579 - val_loss: 0.7566 - val_mean_squared_error: 0.7566 - val_mean_absolute_error: 0.4481\n",
      "Epoch 144/150\n",
      "8631/8631 [==============================] - 18s 2ms/step - loss: 0.0446 - mean_squared_error: 0.0446 - mean_absolute_error: 0.1476 - val_loss: 0.7931 - val_mean_squared_error: 0.7931 - val_mean_absolute_error: 0.4606\n",
      "Epoch 145/150\n",
      "8631/8631 [==============================] - 18s 2ms/step - loss: 0.1310 - mean_squared_error: 0.1310 - mean_absolute_error: 0.1842 - val_loss: 0.9795 - val_mean_squared_error: 0.9795 - val_mean_absolute_error: 0.4998\n",
      "Epoch 146/150\n",
      "8631/8631 [==============================] - 18s 2ms/step - loss: 0.2730 - mean_squared_error: 0.2730 - mean_absolute_error: 0.2766 - val_loss: 1.1738 - val_mean_squared_error: 1.1738 - val_mean_absolute_error: 0.5482\n",
      "Epoch 147/150\n",
      "8631/8631 [==============================] - 19s 2ms/step - loss: 0.3002 - mean_squared_error: 0.3002 - mean_absolute_error: 0.3015 - val_loss: 0.9634 - val_mean_squared_error: 0.9634 - val_mean_absolute_error: 0.5555\n",
      "Epoch 148/150\n",
      "8631/8631 [==============================] - 18s 2ms/step - loss: 0.1529 - mean_squared_error: 0.1529 - mean_absolute_error: 0.2377 - val_loss: 0.8669 - val_mean_squared_error: 0.8669 - val_mean_absolute_error: 0.4686\n",
      "Epoch 149/150\n",
      "8631/8631 [==============================] - 19s 2ms/step - loss: 0.0824 - mean_squared_error: 0.0824 - mean_absolute_error: 0.1970 - val_loss: 0.7356 - val_mean_squared_error: 0.7356 - val_mean_absolute_error: 0.4467\n",
      "Epoch 150/150\n",
      "8631/8631 [==============================] - 18s 2ms/step - loss: 0.0568 - mean_squared_error: 0.0568 - mean_absolute_error: 0.1688 - val_loss: 0.7491 - val_mean_squared_error: 0.7491 - val_mean_absolute_error: 0.4396\n",
      "EndTime : 2020-11-23 15:30:42.875624\n"
     ]
    }
   ],
   "source": [
    "StartTime8 = datetime.now()\n",
    "print(\"StartTime :\", StartTime8)\n",
    "with K.tf.device('/GPU:0'):\n",
    "    model_train = model.fit(train_X, training_label_array, batch_size=batch_size,epochs=training_epochs,verbose=1,\n",
    "                        validation_data=(test_X, test_label_array))\n",
    "\n",
    "EndTime8 = datetime.now()\n",
    "print(\"EndTime :\", EndTime8)"
   ]
  },
  {
   "cell_type": "code",
   "execution_count": 20,
   "metadata": {},
   "outputs": [],
   "source": [
    "import json\n",
    "from keras.models import model_from_json, load_model\n",
    "workdir = \"E://Ronny_TF//201120_EDC_EYDC_MDC_other_PC//Result//EYDC9K//ResNet\"\n",
    "# Option 1: Save Weights + Architecture\n",
    "model.save_weights(workdir+ '//EYDC9K_ResNet_model_fix_v3.h5')\n",
    "with open(workdir + '//EYDC9K_ResNet_model_architecture_fix_v3.json', 'w') as f:\n",
    "    f.write(model.to_json())\n",
    "# Option 1: Load Weights + Architecture\n",
    "# with open('model_architecture.json', 'r') as f:\n",
    "#     new_model_1 = model_from_json(f.read())\n",
    "# new_model_1.load_weights('model_weights.h5')"
   ]
  },
  {
   "cell_type": "code",
   "execution_count": 21,
   "metadata": {},
   "outputs": [],
   "source": [
    "# Option 2: Save/Load the Entire Model\n",
    "from keras.models import load_model\n",
    "\n",
    "# Creates a HDF5 file 'my_model.h5'\n",
    "model.save(workdir + '//EYDC9K_ResNet_model_fix_2080ti_v3.h5')\n",
    "\n",
    "# Deletes the existing model\n",
    "# del model  \n",
    "\n",
    "# Returns a compiled model identical to the previous one\n",
    "# model = load_model('my_model.h5')"
   ]
  },
  {
   "cell_type": "code",
   "execution_count": 22,
   "metadata": {},
   "outputs": [
    {
     "name": "stdout",
     "output_type": "stream",
     "text": [
      "959/959 [==============================] - 1s 720us/step\n"
     ]
    }
   ],
   "source": [
    "test_eval = model.evaluate(test_X, test_label_array, verbose=1)"
   ]
  },
  {
   "cell_type": "code",
   "execution_count": 23,
   "metadata": {},
   "outputs": [
    {
     "data": {
      "text/plain": [
       "[0.7491229666286265, 0.7491229666286265, 0.43965000380316166]"
      ]
     },
     "execution_count": 23,
     "metadata": {},
     "output_type": "execute_result"
    }
   ],
   "source": [
    "test_eval"
   ]
  },
  {
   "cell_type": "code",
   "execution_count": 24,
   "metadata": {},
   "outputs": [],
   "source": [
    "accuracy = model_train.history['mean_squared_error']\n",
    "val_accuracy = model_train.history['val_mean_squared_error']\n",
    "loss = model_train.history['loss']\n",
    "val_loss = model_train.history['val_loss']\n",
    "\n",
    "np_acc = np.array(accuracy)\n",
    "np_val_acc = np.array(val_accuracy)\n",
    "np_loss = np.array(loss)\n",
    "np_val_loss = np.array(val_loss)"
   ]
  },
  {
   "cell_type": "code",
   "execution_count": 25,
   "metadata": {},
   "outputs": [],
   "source": [
    "import matplotlib\n",
    "from matplotlib import pyplot as plt"
   ]
  },
  {
   "cell_type": "code",
   "execution_count": 26,
   "metadata": {},
   "outputs": [
    {
     "data": {
      "image/png": "[encoded data removed]",
      "text/plain": [
       "<Figure size 432x288 with 1 Axes>"
      ]
     },
     "metadata": {
      "needs_background": "light"
     },
     "output_type": "display_data"
    },
    {
     "data": {
      "image/png": "[encoded data removed]",
      "text/plain": [
       "<Figure size 432x288 with 1 Axes>"
      ]
     },
     "metadata": {
      "needs_background": "light"
     },
     "output_type": "display_data"
    }
   ],
   "source": [
    "# accuracy = model_train.history['acc']\n",
    "# val_accuracy = model_train.history['val_acc']\n",
    "# loss = model_train.history['loss']\n",
    "# val_loss = model_train.history['val_loss']\n",
    "epochs = range(len(accuracy))\n",
    "plt.plot(epochs, accuracy, 'bo', label='Training mse')\n",
    "plt.plot(epochs, val_accuracy, 'b', label='Validation mse')\n",
    "plt.title('Training and validation mse')\n",
    "plt.legend()\n",
    "plt.figure()\n",
    "plt.plot(epochs, loss, 'bo', label='Training loss')\n",
    "plt.plot(epochs, val_loss, 'b', label='Validation loss')\n",
    "plt.title('Training and validation loss')\n",
    "plt.legend()\n",
    "plt.show()"
   ]
  },
  {
   "cell_type": "code",
   "execution_count": 27,
   "metadata": {},
   "outputs": [],
   "source": [
    "predicted_classes = model.predict(test_X)"
   ]
  },
  {
   "cell_type": "code",
   "execution_count": 28,
   "metadata": {},
   "outputs": [],
   "source": [
    "predicted_value = predicted_classes"
   ]
  },
  {
   "cell_type": "code",
   "execution_count": 29,
   "metadata": {},
   "outputs": [],
   "source": [
    "a = pd.DataFrame(predicted_value)\n",
    "b = pd.DataFrame(test_label_array)\n",
    "c = pd.concat([a,b], axis=1)\n",
    "c.columns=[\"Predicted\",\"Test\"]"
   ]
  },
  {
   "cell_type": "code",
   "execution_count": 30,
   "metadata": {},
   "outputs": [],
   "source": [
    "c.to_csv(workdir + '//EYDC9K_ResNet_pred_obs_table.csv')"
   ]
  },
  {
   "cell_type": "code",
   "execution_count": 31,
   "metadata": {
    "scrolled": true
   },
   "outputs": [
    {
     "data": {
      "text/html": [
       "<div>\n",
       "<style scoped>\n",
       "    .dataframe tbody tr th:only-of-type {\n",
       "        vertical-align: middle;\n",
       "    }\n",
       "\n",
       "    .dataframe tbody tr th {\n",
       "        vertical-align: top;\n",
       "    }\n",
       "\n",
       "    .dataframe thead th {\n",
       "        text-align: right;\n",
       "    }\n",
       "</style>\n",
       "<table border=\"1\" class=\"dataframe\">\n",
       "  <thead>\n",
       "    <tr style=\"text-align: right;\">\n",
       "      <th></th>\n",
       "      <th>Predicted</th>\n",
       "      <th>Test</th>\n",
       "    </tr>\n",
       "  </thead>\n",
       "  <tbody>\n",
       "    <tr>\n",
       "      <th>0</th>\n",
       "      <td>2.093127</td>\n",
       "      <td>2.079442</td>\n",
       "    </tr>\n",
       "    <tr>\n",
       "      <th>1</th>\n",
       "      <td>1.853775</td>\n",
       "      <td>2.079442</td>\n",
       "    </tr>\n",
       "    <tr>\n",
       "      <th>2</th>\n",
       "      <td>-1.384900</td>\n",
       "      <td>-1.507775</td>\n",
       "    </tr>\n",
       "    <tr>\n",
       "      <th>3</th>\n",
       "      <td>2.087224</td>\n",
       "      <td>2.079442</td>\n",
       "    </tr>\n",
       "    <tr>\n",
       "      <th>4</th>\n",
       "      <td>1.161180</td>\n",
       "      <td>1.111349</td>\n",
       "    </tr>\n",
       "    <tr>\n",
       "      <th>...</th>\n",
       "      <td>...</td>\n",
       "      <td>...</td>\n",
       "    </tr>\n",
       "    <tr>\n",
       "      <th>954</th>\n",
       "      <td>2.080724</td>\n",
       "      <td>2.079442</td>\n",
       "    </tr>\n",
       "    <tr>\n",
       "      <th>955</th>\n",
       "      <td>-1.941010</td>\n",
       "      <td>-2.526984</td>\n",
       "    </tr>\n",
       "    <tr>\n",
       "      <th>956</th>\n",
       "      <td>1.896779</td>\n",
       "      <td>2.079442</td>\n",
       "    </tr>\n",
       "    <tr>\n",
       "      <th>957</th>\n",
       "      <td>2.073156</td>\n",
       "      <td>2.079442</td>\n",
       "    </tr>\n",
       "    <tr>\n",
       "      <th>958</th>\n",
       "      <td>2.064831</td>\n",
       "      <td>2.079442</td>\n",
       "    </tr>\n",
       "  </tbody>\n",
       "</table>\n",
       "<p>959 rows × 2 columns</p>\n",
       "</div>"
      ],
      "text/plain": [
       "     Predicted      Test\n",
       "0     2.093127  2.079442\n",
       "1     1.853775  2.079442\n",
       "2    -1.384900 -1.507775\n",
       "3     2.087224  2.079442\n",
       "4     1.161180  1.111349\n",
       "..         ...       ...\n",
       "954   2.080724  2.079442\n",
       "955  -1.941010 -2.526984\n",
       "956   1.896779  2.079442\n",
       "957   2.073156  2.079442\n",
       "958   2.064831  2.079442\n",
       "\n",
       "[959 rows x 2 columns]"
      ]
     },
     "execution_count": 31,
     "metadata": {},
     "output_type": "execute_result"
    }
   ],
   "source": [
    "c"
   ]
  },
  {
   "cell_type": "code",
   "execution_count": 32,
   "metadata": {},
   "outputs": [
    {
     "data": {
      "text/plain": [
       "(959, 1)"
      ]
     },
     "execution_count": 32,
     "metadata": {},
     "output_type": "execute_result"
    }
   ],
   "source": [
    "predicted_value.shape"
   ]
  },
  {
   "cell_type": "code",
   "execution_count": 33,
   "metadata": {},
   "outputs": [
    {
     "data": {
      "text/plain": [
       "LinregressResult(slope=0.8518089113997673, intercept=0.15805108291683279, rvalue=0.9005077295143825, pvalue=0.0, stderr=0.013296221963029927)"
      ]
     },
     "execution_count": 33,
     "metadata": {},
     "output_type": "execute_result"
    }
   ],
   "source": [
    "from scipy.stats import linregress\n",
    "linregress(b[0], a[0])"
   ]
  },
  {
   "cell_type": "code",
   "execution_count": 34,
   "metadata": {},
   "outputs": [
    {
     "name": "stdout",
     "output_type": "stream",
     "text": [
      "0.8086578364822616\n"
     ]
    }
   ],
   "source": [
    "from sklearn.metrics import r2_score\n",
    "r2_value = r2_score(b,a)\n",
    "print(r2_value)"
   ]
  },
  {
   "cell_type": "code",
   "execution_count": 35,
   "metadata": {},
   "outputs": [
    {
     "name": "stdout",
     "output_type": "stream",
     "text": [
      "Final rmse value is = 0.8655189065697482\n"
     ]
    }
   ],
   "source": [
    "rse = ((b[0]-a[0])**2).sum()\n",
    "mse = rse / len(b)\n",
    "print(\"Final rmse value is =\",np.sqrt(mse))"
   ]
  },
  {
   "cell_type": "code",
   "execution_count": 36,
   "metadata": {},
   "outputs": [
    {
     "data": {
      "image/png": "[encoded data removed]",
      "text/plain": [
       "<Figure size 432x432 with 3 Axes>"
      ]
     },
     "metadata": {
      "needs_background": "light"
     },
     "output_type": "display_data"
    }
   ],
   "source": [
    "workdir = \"E://Ronny_TF//201120_EDC_EYDC_MDC_other_PC//Result//Fig_backbone//EYDC9K\"\n",
    "import seaborn as sns\n",
    "\n",
    "g = sns.jointplot(x=\"Test\", y=\"Predicted\", data=c, kind='reg', color='#7C7C7C',\n",
    "                  joint_kws={'line_kws':{'color':'black'}})\n",
    "g.savefig(workdir+ '//EYDC9K_ResNet.png', dpi=300)"
   ]
  },
  {
   "cell_type": "code",
   "execution_count": null,
   "metadata": {},
   "outputs": [],
   "source": []
  },
  {
   "cell_type": "code",
   "execution_count": null,
   "metadata": {},
   "outputs": [],
   "source": []
  }
 ],
 "metadata": {
  "kernelspec": {
   "display_name": "Python 3",
   "language": "python",
   "name": "python3"
  },
  "language_info": {
   "codemirror_mode": {
    "name": "ipython",
    "version": 3
   },
   "file_extension": ".py",
   "mimetype": "text/x-python",
   "name": "python",
   "nbconvert_exporter": "python",
   "pygments_lexer": "ipython3",
   "version": "3.7.9"
  }
 },
 "nbformat": 4,
 "nbformat_minor": 2
}
