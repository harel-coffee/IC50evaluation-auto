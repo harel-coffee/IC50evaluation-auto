{
 "cells": [
  {
   "cell_type": "code",
   "execution_count": 1,
   "metadata": {},
   "outputs": [
    {
     "name": "stderr",
     "output_type": "stream",
     "text": [
      "C:\\Users\\BGM18\\.conda\\envs\\ronny_keras\\lib\\site-packages\\tensorflow\\python\\framework\\dtypes.py:516: FutureWarning: Passing (type, 1) or '1type' as a synonym of type is deprecated; in a future version of numpy, it will be understood as (type, (1,)) / '(1,)type'.\n",
      "  _np_qint8 = np.dtype([(\"qint8\", np.int8, 1)])\n",
      "C:\\Users\\BGM18\\.conda\\envs\\ronny_keras\\lib\\site-packages\\tensorflow\\python\\framework\\dtypes.py:517: FutureWarning: Passing (type, 1) or '1type' as a synonym of type is deprecated; in a future version of numpy, it will be understood as (type, (1,)) / '(1,)type'.\n",
      "  _np_quint8 = np.dtype([(\"quint8\", np.uint8, 1)])\n",
      "C:\\Users\\BGM18\\.conda\\envs\\ronny_keras\\lib\\site-packages\\tensorflow\\python\\framework\\dtypes.py:518: FutureWarning: Passing (type, 1) or '1type' as a synonym of type is deprecated; in a future version of numpy, it will be understood as (type, (1,)) / '(1,)type'.\n",
      "  _np_qint16 = np.dtype([(\"qint16\", np.int16, 1)])\n",
      "C:\\Users\\BGM18\\.conda\\envs\\ronny_keras\\lib\\site-packages\\tensorflow\\python\\framework\\dtypes.py:519: FutureWarning: Passing (type, 1) or '1type' as a synonym of type is deprecated; in a future version of numpy, it will be understood as (type, (1,)) / '(1,)type'.\n",
      "  _np_quint16 = np.dtype([(\"quint16\", np.uint16, 1)])\n",
      "C:\\Users\\BGM18\\.conda\\envs\\ronny_keras\\lib\\site-packages\\tensorflow\\python\\framework\\dtypes.py:520: FutureWarning: Passing (type, 1) or '1type' as a synonym of type is deprecated; in a future version of numpy, it will be understood as (type, (1,)) / '(1,)type'.\n",
      "  _np_qint32 = np.dtype([(\"qint32\", np.int32, 1)])\n",
      "C:\\Users\\BGM18\\.conda\\envs\\ronny_keras\\lib\\site-packages\\tensorflow\\python\\framework\\dtypes.py:525: FutureWarning: Passing (type, 1) or '1type' as a synonym of type is deprecated; in a future version of numpy, it will be understood as (type, (1,)) / '(1,)type'.\n",
      "  np_resource = np.dtype([(\"resource\", np.ubyte, 1)])\n",
      "C:\\Users\\BGM18\\.conda\\envs\\ronny_keras\\lib\\site-packages\\tensorboard\\compat\\tensorflow_stub\\dtypes.py:541: FutureWarning: Passing (type, 1) or '1type' as a synonym of type is deprecated; in a future version of numpy, it will be understood as (type, (1,)) / '(1,)type'.\n",
      "  _np_qint8 = np.dtype([(\"qint8\", np.int8, 1)])\n",
      "C:\\Users\\BGM18\\.conda\\envs\\ronny_keras\\lib\\site-packages\\tensorboard\\compat\\tensorflow_stub\\dtypes.py:542: FutureWarning: Passing (type, 1) or '1type' as a synonym of type is deprecated; in a future version of numpy, it will be understood as (type, (1,)) / '(1,)type'.\n",
      "  _np_quint8 = np.dtype([(\"quint8\", np.uint8, 1)])\n",
      "C:\\Users\\BGM18\\.conda\\envs\\ronny_keras\\lib\\site-packages\\tensorboard\\compat\\tensorflow_stub\\dtypes.py:543: FutureWarning: Passing (type, 1) or '1type' as a synonym of type is deprecated; in a future version of numpy, it will be understood as (type, (1,)) / '(1,)type'.\n",
      "  _np_qint16 = np.dtype([(\"qint16\", np.int16, 1)])\n",
      "C:\\Users\\BGM18\\.conda\\envs\\ronny_keras\\lib\\site-packages\\tensorboard\\compat\\tensorflow_stub\\dtypes.py:544: FutureWarning: Passing (type, 1) or '1type' as a synonym of type is deprecated; in a future version of numpy, it will be understood as (type, (1,)) / '(1,)type'.\n",
      "  _np_quint16 = np.dtype([(\"quint16\", np.uint16, 1)])\n",
      "C:\\Users\\BGM18\\.conda\\envs\\ronny_keras\\lib\\site-packages\\tensorboard\\compat\\tensorflow_stub\\dtypes.py:545: FutureWarning: Passing (type, 1) or '1type' as a synonym of type is deprecated; in a future version of numpy, it will be understood as (type, (1,)) / '(1,)type'.\n",
      "  _np_qint32 = np.dtype([(\"qint32\", np.int32, 1)])\n",
      "C:\\Users\\BGM18\\.conda\\envs\\ronny_keras\\lib\\site-packages\\tensorboard\\compat\\tensorflow_stub\\dtypes.py:550: FutureWarning: Passing (type, 1) or '1type' as a synonym of type is deprecated; in a future version of numpy, it will be understood as (type, (1,)) / '(1,)type'.\n",
      "  np_resource = np.dtype([(\"resource\", np.ubyte, 1)])\n",
      "Using TensorFlow backend.\n"
     ]
    }
   ],
   "source": [
    "import os\n",
    "import sys\n",
    "import pandas as pd\n",
    "import numpy as np\n",
    "from sklearn import preprocessing\n",
    "import tensorflow as tf\n",
    "import random\n",
    "import matplotlib\n",
    "from matplotlib import pyplot as plt\n",
    "import statistics\n",
    "from pandas import DataFrame\n",
    "from datetime import datetime\n",
    "import keras\n",
    "from keras.models import Sequential,Input,Model\n",
    "from keras.layers import Dense, Dropout, Reshape, Flatten, Activation\n",
    "from keras.layers import Conv1D, MaxPooling1D, AveragePooling1D, GlobalAveragePooling1D\n",
    "from keras.layers import Conv2D, MaxPooling2D, Concatenate\n",
    "from keras.layers.normalization import BatchNormalization\n",
    "from keras.layers.advanced_activations import LeakyReLU\n",
    "from keras.optimizers import Adam, RMSprop\n",
    "#from keras import backend as K\n",
    "import keras.backend.tensorflow_backend as K\n",
    "from tensorflow.keras.callbacks import ModelCheckpoint, CSVLogger\n",
    "from keras.backend.tensorflow_backend import set_session\n",
    "from os.path import basename\n",
    "#import seaborn as sns\n",
    "from keras.models import load_model\n",
    "from keras.utils.vis_utils import plot_model\n",
    "from sklearn.metrics import r2_score\n",
    "from sklearn.metrics import mean_squared_error\n",
    "from matplotlib.patches import Patch\n",
    "from matplotlib.lines import Line2D\n",
    "from scipy.stats import pearsonr\n",
    "\n",
    "# from tensorflow.keras.callbacks import ModelCheckpoint, CSVLogger\n",
    "#from tensorflow.keras.optimizers import Adam\n",
    "\n",
    "\n",
    "\n",
    "\n",
    "config = tf.ConfigProto()\n",
    "config.gpu_options.per_process_gpu_memory_fraction = 0.7\n",
    "config.gpu_options.allow_growth = True\n",
    "sess = tf.Session(config=config)"
   ]
  },
  {
   "cell_type": "code",
   "execution_count": 2,
   "metadata": {},
   "outputs": [
    {
     "name": "stdout",
     "output_type": "stream",
     "text": [
      "[name: \"/device:CPU:0\"\n",
      "device_type: \"CPU\"\n",
      "memory_limit: 268435456\n",
      "locality {\n",
      "}\n",
      "incarnation: 14531149514549863572\n",
      ", name: \"/device:GPU:0\"\n",
      "device_type: \"GPU\"\n",
      "memory_limit: 8267812044\n",
      "locality {\n",
      "  bus_id: 1\n",
      "  links {\n",
      "  }\n",
      "}\n",
      "incarnation: 6637218822987470831\n",
      "physical_device_desc: \"device: 0, name: GeForce RTX 2080 Ti, pci bus id: 0000:01:00.0, compute capability: 7.5\"\n",
      "]\n"
     ]
    }
   ],
   "source": [
    "from tensorflow.python.client import device_lib\n",
    "print(device_lib.list_local_devices())\n",
    "\n",
    "\n",
    "# 출처: https://3months.tistory.com/206 [Deep Play]"
   ]
  },
  {
   "cell_type": "code",
   "execution_count": 3,
   "metadata": {},
   "outputs": [],
   "source": [
    "workdir = \"D://ResNetIC50//Dataset//MEYODC-6K\""
   ]
  },
  {
   "cell_type": "code",
   "execution_count": 4,
   "metadata": {},
   "outputs": [],
   "source": [
    "# < Important note > [ Please download input data from https://mega.nz/#F!CeYGDKyS!uqkmWJ4E2XSGJp_C2VO2gg]\n",
    "\n",
    "dataset = np.load(workdir + \"//MEYODC6K_dataset.npz\") # input file\n",
    "ss0 = np.load(workdir + '//MEYODC6K_dataset_r0.npz') # split for training and test"
   ]
  },
  {
   "cell_type": "code",
   "execution_count": 5,
   "metadata": {},
   "outputs": [],
   "source": [
    "x = dataset['x']\n",
    "y = dataset['y']\n",
    "# y_linear = dataset['y_lnIC50']\n",
    "ss0_train = ss0['train']\n",
    "ss0_test = ss0['test']"
   ]
  },
  {
   "cell_type": "code",
   "execution_count": 6,
   "metadata": {},
   "outputs": [],
   "source": [
    "training_image_array, training_label_array = x[ss0_train], y[ss0_train]\n",
    "test_image_array, test_label_array = x[ss0_test], y[ss0_test]\n",
    "\n",
    "# In[9]:\n",
    "# ori = training_image_array\n",
    "# bat = np.zeros((ori.shape[0],178))\n",
    "# cat = np.hstack([ori,bat])\n",
    "# training_image_array = cat\n",
    "\n",
    "# # In[8]:\n",
    "# training_image_array.shape\n",
    "\n",
    "# # In[10]:\n",
    "# ori2 = test_image_array\n",
    "# bat2 = np.zeros((ori2.shape[0],178))\n",
    "# cat2 = np.hstack([ori2,bat2])\n",
    "# test_image_array = cat2\n"
   ]
  },
  {
   "cell_type": "code",
   "execution_count": 7,
   "metadata": {},
   "outputs": [
    {
     "name": "stdout",
     "output_type": "stream",
     "text": [
      "0 21\n"
     ]
    }
   ],
   "source": [
    "# In[15]:\n",
    "ab =[]\n",
    "for i in range(100,200):\n",
    "    ab.append(len(training_image_array) % i)\n",
    "    \n",
    "print(min(ab), ab.index(min(ab)))"
   ]
  },
  {
   "cell_type": "code",
   "execution_count": 8,
   "metadata": {},
   "outputs": [
    {
     "data": {
      "text/plain": [
       "(6050, 79724)"
      ]
     },
     "execution_count": 8,
     "metadata": {},
     "output_type": "execute_result"
    }
   ],
   "source": [
    "x.shape"
   ]
  },
  {
   "cell_type": "code",
   "execution_count": 9,
   "metadata": {},
   "outputs": [
    {
     "data": {
      "text/plain": [
       "(5445, 79724)"
      ]
     },
     "execution_count": 9,
     "metadata": {},
     "output_type": "execute_result"
    }
   ],
   "source": [
    "training_image_array.shape"
   ]
  },
  {
   "cell_type": "code",
   "execution_count": 10,
   "metadata": {},
   "outputs": [],
   "source": [
    "# In[21]:\n",
    "\n",
    "num_classes = 1\n",
    "learning_rate = 0.0002\n",
    "training_epochs = 150\n",
    "batch_size = 100\n",
    "img_rows, img_cols = 154, 154\n"
   ]
  },
  {
   "cell_type": "code",
   "execution_count": 11,
   "metadata": {},
   "outputs": [],
   "source": [
    "train_X, train_y, test_X, test_y = training_image_array, training_label_array, test_image_array, test_label_array\n",
    "\n",
    "# if K.image_data_format() == 'channels_first':\n",
    "#     train_X = train_X.reshape(train_X.shape[0], 1, img_rows, img_cols)\n",
    "#     test_X = test_X.reshape(x_test.shape[0], 1, img_rows, img_cols)\n",
    "#     input_shape = (1, img_rows, img_cols)\n",
    "# else:\n",
    "#     train_X = train_X.reshape(train_X.shape[0], img_rows, img_cols, 1)\n",
    "#     test_X = test_X.reshape(test_X.shape[0], img_rows, img_cols, 1)\n",
    "#     input_shape = (img_rows, img_cols, 1)\n"
   ]
  },
  {
   "cell_type": "code",
   "execution_count": 12,
   "metadata": {},
   "outputs": [
    {
     "name": "stdout",
     "output_type": "stream",
     "text": [
      "77399\n"
     ]
    }
   ],
   "source": [
    "shape_value = 77399\n",
    "print(shape_value)"
   ]
  },
  {
   "cell_type": "code",
   "execution_count": 13,
   "metadata": {},
   "outputs": [
    {
     "data": {
      "text/plain": [
       "(5445, 79724)"
      ]
     },
     "execution_count": 13,
     "metadata": {},
     "output_type": "execute_result"
    }
   ],
   "source": [
    "train_X.shape"
   ]
  },
  {
   "cell_type": "code",
   "execution_count": 14,
   "metadata": {},
   "outputs": [],
   "source": [
    "train_X_cell = train_X[:,:shape_value]\n",
    "train_X_drug =train_X[:,shape_value:]\n",
    "test_X_cell = test_X[:,:shape_value]\n",
    "test_X_drug = test_X[:,shape_value:]"
   ]
  },
  {
   "cell_type": "code",
   "execution_count": 15,
   "metadata": {},
   "outputs": [
    {
     "data": {
      "text/plain": [
       "(5445, 77399)"
      ]
     },
     "execution_count": 15,
     "metadata": {},
     "output_type": "execute_result"
    }
   ],
   "source": [
    "train_X_cell.shape"
   ]
  },
  {
   "cell_type": "code",
   "execution_count": 16,
   "metadata": {},
   "outputs": [],
   "source": [
    "train_X_cell = train_X_cell.reshape(train_X_cell.shape[0], train_X_cell.shape[1], 1)\n",
    "train_X_drug = train_X_drug.reshape(train_X_drug.shape[0], train_X_drug.shape[1], 1)\n",
    "test_X_cell = test_X_cell.reshape(test_X_cell.shape[0], test_X_cell.shape[1], 1)\n",
    "test_X_drug = test_X_drug.reshape(test_X_drug.shape[0], test_X_drug.shape[1], 1)\n",
    "#input_shape = (img_rows, img_cols, 1)"
   ]
  },
  {
   "cell_type": "code",
   "execution_count": 17,
   "metadata": {},
   "outputs": [
    {
     "name": "stdout",
     "output_type": "stream",
     "text": [
      "(5445, 77399, 1) (5445, 2325, 1) (5445,) (605, 77399, 1) (605, 2325, 1) (605,)\n"
     ]
    }
   ],
   "source": [
    "print(train_X_cell.shape,train_X_drug.shape, train_y.shape, test_X_cell.shape,test_X_drug.shape, test_y.shape)"
   ]
  },
  {
   "cell_type": "code",
   "execution_count": 18,
   "metadata": {},
   "outputs": [
    {
     "data": {
      "text/plain": [
       "(5445, 77399, 1)"
      ]
     },
     "execution_count": 18,
     "metadata": {},
     "output_type": "execute_result"
    }
   ],
   "source": [
    "train_X_cell.shape"
   ]
  },
  {
   "cell_type": "code",
   "execution_count": 19,
   "metadata": {},
   "outputs": [
    {
     "name": "stdout",
     "output_type": "stream",
     "text": [
      "train_X shape: (5445, 79724)\n",
      "5445 train samples\n",
      "605 test samples\n"
     ]
    }
   ],
   "source": [
    "train_X_cell = train_X_cell.astype('float32')\n",
    "test_X_cell = test_X_cell.astype('float32')\n",
    "train_X_drug = train_X_drug.astype('float32')\n",
    "test_X_drug = test_X_drug.astype('float32')\n",
    "# train_X /= 255\n",
    "# test_X /= 255\n",
    "print('train_X shape:', train_X.shape)\n",
    "print(train_X.shape[0], 'train samples')\n",
    "print(test_X.shape[0], 'test samples')"
   ]
  },
  {
   "cell_type": "code",
   "execution_count": 20,
   "metadata": {},
   "outputs": [
    {
     "name": "stdout",
     "output_type": "stream",
     "text": [
      "WARNING:tensorflow:From C:\\Users\\BGM18\\.conda\\envs\\ronny_keras\\lib\\site-packages\\keras\\backend\\tensorflow_backend.py:4070: The name tf.nn.max_pool is deprecated. Please use tf.nn.max_pool2d instead.\n",
      "\n"
     ]
    }
   ],
   "source": [
    "with K.tf.device('/GPU:0'):\n",
    "    input_cell = Input(shape=(train_X_cell.shape[1], train_X_cell.shape[2]), name='cell_input')\n",
    "    input_drug = Input(shape=(train_X_drug.shape[1], train_X_drug.shape[2]), name='drug_input')\n",
    "\n",
    "    conv_cell_line_1 = Conv1D(filters=50, kernel_size=700, strides=5, activation='tanh')(input_cell)\n",
    "    maxpool_cell_line_1 = MaxPooling1D(pool_size=5)(conv_cell_line_1)\n",
    "    conv_cell_line_2 = Conv1D(filters=30, kernel_size=5, strides=2, activation='relu')(maxpool_cell_line_1)\n",
    "    maxpool_cell_line_2 = MaxPooling1D(pool_size=10)(conv_cell_line_2)\n",
    "    flatten_cell_line = Flatten()(maxpool_cell_line_2)\n",
    "    dense_cell_line = Dense(100, activation='relu')(flatten_cell_line)\n",
    "    dropout_cell_line = Dropout(0.1)(dense_cell_line)\n",
    "\n",
    "    conv_drug_1 = Conv1D(filters=50, kernel_size=200, strides=3, activation='tanh')(input_drug)\n",
    "    maxpool_drug_1 = MaxPooling1D(pool_size=5)(conv_drug_1)\n",
    "    conv_drug_2 = Conv1D(filters=30, kernel_size=50, strides=5, activation='relu')(maxpool_drug_1)\n",
    "    maxpool_drug_2 = MaxPooling1D(pool_size=10)(conv_drug_2)\n",
    "    flatten_drug = Flatten()(maxpool_drug_2)\n",
    "    dense_drug = Dense(100, activation='relu')(flatten_drug)\n",
    "    dropout_drug = Dropout(0.1)(dense_drug)\n",
    "\n",
    "    concatenate = Concatenate()([dropout_cell_line, dropout_drug])\n",
    "    dense_1 = Dense(300, activation='tanh')(concatenate)\n",
    "    dropout_1 = Dropout(0.1)(dense_1)\n",
    "    reshape_1 = Reshape((300,1))(dropout_1)\n",
    "    conv_1 = Conv1D(filters=30, kernel_size=150, strides=1, activation='relu')(reshape_1)\n",
    "    maxpool_1 = MaxPooling1D(pool_size=2)(conv_1)\n",
    "    conv_2 = Conv1D(filters=10, kernel_size=5, strides=1, activation='relu')(maxpool_1)\n",
    "    maxpool_2 = MaxPooling1D(pool_size=3)(conv_2)\n",
    "    conv_3 = Conv1D(filters=5, kernel_size=5, strides=1, activation='relu')(maxpool_2)\n",
    "    maxpool_3 = MaxPooling1D(pool_size=3)(conv_3)\n",
    "    dropout_2 = Dropout(0.1)(maxpool_3)\n",
    "    flatten = Flatten()(dropout_2)\n",
    "    dropout_3 = Dropout(0.2)(flatten)\n",
    "    output = Dense(1, activation='linear', name='pred_lnIC50')(dropout_3)\n",
    "    model = Model(inputs=[input_cell, input_drug], outputs=output, name='MasterModel')\n",
    "\n"
   ]
  },
  {
   "cell_type": "code",
   "execution_count": 21,
   "metadata": {
    "scrolled": true
   },
   "outputs": [
    {
     "name": "stdout",
     "output_type": "stream",
     "text": [
      "Model: \"MasterModel\"\n",
      "__________________________________________________________________________________________________\n",
      "Layer (type)                    Output Shape         Param #     Connected to                     \n",
      "==================================================================================================\n",
      "cell_input (InputLayer)         (None, 77399, 1)     0                                            \n",
      "__________________________________________________________________________________________________\n",
      "drug_input (InputLayer)         (None, 2325, 1)      0                                            \n",
      "__________________________________________________________________________________________________\n",
      "conv1d_1 (Conv1D)               (None, 15340, 50)    35050       cell_input[0][0]                 \n",
      "__________________________________________________________________________________________________\n",
      "conv1d_3 (Conv1D)               (None, 709, 50)      10050       drug_input[0][0]                 \n",
      "__________________________________________________________________________________________________\n",
      "max_pooling1d_1 (MaxPooling1D)  (None, 3068, 50)     0           conv1d_1[0][0]                   \n",
      "__________________________________________________________________________________________________\n",
      "max_pooling1d_3 (MaxPooling1D)  (None, 141, 50)      0           conv1d_3[0][0]                   \n",
      "__________________________________________________________________________________________________\n",
      "conv1d_2 (Conv1D)               (None, 1532, 30)     7530        max_pooling1d_1[0][0]            \n",
      "__________________________________________________________________________________________________\n",
      "conv1d_4 (Conv1D)               (None, 19, 30)       75030       max_pooling1d_3[0][0]            \n",
      "__________________________________________________________________________________________________\n",
      "max_pooling1d_2 (MaxPooling1D)  (None, 153, 30)      0           conv1d_2[0][0]                   \n",
      "__________________________________________________________________________________________________\n",
      "max_pooling1d_4 (MaxPooling1D)  (None, 1, 30)        0           conv1d_4[0][0]                   \n",
      "__________________________________________________________________________________________________\n",
      "flatten_1 (Flatten)             (None, 4590)         0           max_pooling1d_2[0][0]            \n",
      "__________________________________________________________________________________________________\n",
      "flatten_2 (Flatten)             (None, 30)           0           max_pooling1d_4[0][0]            \n",
      "__________________________________________________________________________________________________\n",
      "dense_1 (Dense)                 (None, 100)          459100      flatten_1[0][0]                  \n",
      "__________________________________________________________________________________________________\n",
      "dense_2 (Dense)                 (None, 100)          3100        flatten_2[0][0]                  \n",
      "__________________________________________________________________________________________________\n",
      "dropout_1 (Dropout)             (None, 100)          0           dense_1[0][0]                    \n",
      "__________________________________________________________________________________________________\n",
      "dropout_2 (Dropout)             (None, 100)          0           dense_2[0][0]                    \n",
      "__________________________________________________________________________________________________\n",
      "concatenate_1 (Concatenate)     (None, 200)          0           dropout_1[0][0]                  \n",
      "                                                                 dropout_2[0][0]                  \n",
      "__________________________________________________________________________________________________\n",
      "dense_3 (Dense)                 (None, 300)          60300       concatenate_1[0][0]              \n",
      "__________________________________________________________________________________________________\n",
      "dropout_3 (Dropout)             (None, 300)          0           dense_3[0][0]                    \n",
      "__________________________________________________________________________________________________\n",
      "reshape_1 (Reshape)             (None, 300, 1)       0           dropout_3[0][0]                  \n",
      "__________________________________________________________________________________________________\n",
      "conv1d_5 (Conv1D)               (None, 151, 30)      4530        reshape_1[0][0]                  \n",
      "__________________________________________________________________________________________________\n",
      "max_pooling1d_5 (MaxPooling1D)  (None, 75, 30)       0           conv1d_5[0][0]                   \n",
      "__________________________________________________________________________________________________\n",
      "conv1d_6 (Conv1D)               (None, 71, 10)       1510        max_pooling1d_5[0][0]            \n",
      "__________________________________________________________________________________________________\n",
      "max_pooling1d_6 (MaxPooling1D)  (None, 23, 10)       0           conv1d_6[0][0]                   \n",
      "__________________________________________________________________________________________________\n",
      "conv1d_7 (Conv1D)               (None, 19, 5)        255         max_pooling1d_6[0][0]            \n",
      "__________________________________________________________________________________________________\n",
      "max_pooling1d_7 (MaxPooling1D)  (None, 6, 5)         0           conv1d_7[0][0]                   \n",
      "__________________________________________________________________________________________________\n",
      "dropout_4 (Dropout)             (None, 6, 5)         0           max_pooling1d_7[0][0]            \n",
      "__________________________________________________________________________________________________\n",
      "flatten_3 (Flatten)             (None, 30)           0           dropout_4[0][0]                  \n",
      "__________________________________________________________________________________________________\n",
      "dropout_5 (Dropout)             (None, 30)           0           flatten_3[0][0]                  \n",
      "__________________________________________________________________________________________________\n",
      "pred_lnIC50 (Dense)             (None, 1)            31          dropout_5[0][0]                  \n",
      "==================================================================================================\n",
      "Total params: 656,486\n",
      "Trainable params: 656,486\n",
      "Non-trainable params: 0\n",
      "__________________________________________________________________________________________________\n"
     ]
    }
   ],
   "source": [
    "model.summary()"
   ]
  },
  {
   "cell_type": "code",
   "execution_count": 22,
   "metadata": {},
   "outputs": [],
   "source": [
    "config = tf.ConfigProto()\n",
    "config.gpu_options.allow_growth = True\n",
    "sess = tf.Session(config=config)"
   ]
  },
  {
   "cell_type": "code",
   "execution_count": 23,
   "metadata": {
    "scrolled": true
   },
   "outputs": [
    {
     "name": "stdout",
     "output_type": "stream",
     "text": [
      "StartTime : 2022-02-04 00:57:44.611641\n",
      "WARNING:tensorflow:From C:\\Users\\BGM18\\.conda\\envs\\ronny_keras\\lib\\site-packages\\keras\\backend\\tensorflow_backend.py:422: The name tf.global_variables is deprecated. Please use tf.compat.v1.global_variables instead.\n",
      "\n",
      "Train on 5445 samples, validate on 605 samples\n",
      "Epoch 1/150\n",
      "5445/5445 [==============================] - 6s 1ms/step - loss: 4.0126 - mse: 4.0126 - mae: 1.5996 - val_loss: 2.7215 - val_mse: 2.7215 - val_mae: 1.1898\n",
      "Epoch 2/150\n",
      "5445/5445 [==============================] - 4s 689us/step - loss: 2.4632 - mse: 2.4632 - mae: 1.1341 - val_loss: 1.3292 - val_mse: 1.3292 - val_mae: 0.7735: 2.7951 - ms\n",
      "Epoch 3/150\n",
      "5445/5445 [==============================] - 4s 683us/step - loss: 1.5826 - mse: 1.5826 - mae: 0.8604 - val_loss: 1.0575 - val_mse: 1.0575 - val_mae: 0.6670\n",
      "Epoch 4/150\n",
      "5445/5445 [==============================] - 4s 681us/step - loss: 1.4959 - mse: 1.4959 - mae: 0.8470 - val_loss: 1.0355 - val_mse: 1.0355 - val_mae: 0.7219\n",
      "Epoch 5/150\n",
      "5445/5445 [==============================] - 4s 686us/step - loss: 1.4046 - mse: 1.4046 - mae: 0.8054 - val_loss: 1.0344 - val_mse: 1.0344 - val_mae: 0.6014\n",
      "Epoch 6/150\n",
      "5445/5445 [==============================] - 4s 684us/step - loss: 1.3361 - mse: 1.3361 - mae: 0.7895 - val_loss: 1.0412 - val_mse: 1.0412 - val_mae: 0.6004\n",
      "Epoch 7/150\n",
      "5445/5445 [==============================] - 4s 680us/step - loss: 1.3438 - mse: 1.3438 - mae: 0.7817 - val_loss: 1.0302 - val_mse: 1.0302 - val_mae: 0.635630 \n",
      "Epoch 8/150\n",
      "5445/5445 [==============================] - 4s 683us/step - loss: 1.2735 - mse: 1.2735 - mae: 0.7663 - val_loss: 0.9913 - val_mse: 0.9913 - val_mae: 0.6496\n",
      "Epoch 9/150\n",
      "5445/5445 [==============================] - 4s 689us/step - loss: 1.2403 - mse: 1.2403 - mae: 0.7576 - val_loss: 1.0240 - val_mse: 1.0240 - val_mae: 0.6800\n",
      "Epoch 10/150\n",
      "5445/5445 [==============================] - 4s 697us/step - loss: 1.2606 - mse: 1.2606 - mae: 0.7584 - val_loss: 1.0090 - val_mse: 1.0090 - val_mae: 0.6791\n",
      "Epoch 11/150\n",
      "5445/5445 [==============================] - 4s 686us/step - loss: 1.2604 - mse: 1.2604 - mae: 0.7572 - val_loss: 1.0397 - val_mse: 1.0397 - val_mae: 0.6522\n",
      "Epoch 12/150\n",
      "5445/5445 [==============================] - 4s 687us/step - loss: 1.2359 - mse: 1.2359 - mae: 0.7560 - val_loss: 1.0039 - val_mse: 1.0039 - val_mae: 0.6994\n",
      "Epoch 13/150\n",
      "5445/5445 [==============================] - 4s 687us/step - loss: 1.1835 - mse: 1.1835 - mae: 0.7309 - val_loss: 1.0620 - val_mse: 1.0620 - val_mae: 0.6730\n",
      "Epoch 14/150\n",
      "5445/5445 [==============================] - 4s 689us/step - loss: 1.1575 - mse: 1.1575 - mae: 0.7279 - val_loss: 1.0429 - val_mse: 1.0429 - val_mae: 0.6565\n",
      "Epoch 15/150\n",
      "5445/5445 [==============================] - 4s 688us/step - loss: 1.1718 - mse: 1.1718 - mae: 0.7286 - val_loss: 1.0393 - val_mse: 1.0393 - val_mae: 0.6307\n",
      "Epoch 16/150\n",
      "5445/5445 [==============================] - 4s 689us/step - loss: 1.1425 - mse: 1.1425 - mae: 0.7230 - val_loss: 0.9960 - val_mse: 0.9960 - val_mae: 0.6232\n",
      "Epoch 17/150\n",
      "5445/5445 [==============================] - 4s 705us/step - loss: 1.0828 - mse: 1.0828 - mae: 0.7066 - val_loss: 0.9628 - val_mse: 0.9628 - val_mae: 0.6257\n",
      "Epoch 18/150\n",
      "5445/5445 [==============================] - 4s 696us/step - loss: 1.0774 - mse: 1.0774 - mae: 0.7055 - val_loss: 1.0318 - val_mse: 1.0318 - val_mae: 0.6398 1.0859 - mse: 1.0859 - mae:\n",
      "Epoch 19/150\n",
      "5445/5445 [==============================] - 4s 702us/step - loss: 1.0319 - mse: 1.0319 - mae: 0.6901 - val_loss: 0.9835 - val_mse: 0.9835 - val_mae: 0.6066 - loss: 1.0349 - mse: \n",
      "Epoch 20/150\n",
      "5445/5445 [==============================] - 4s 697us/step - loss: 1.0336 - mse: 1.0336 - mae: 0.6896 - val_loss: 0.9716 - val_mse: 0.9716 - val_mae: 0.62138 - mse: 1.0038\n",
      "Epoch 21/150\n",
      "5445/5445 [==============================] - 4s 704us/step - loss: 1.0036 - mse: 1.0036 - mae: 0.6803 - val_loss: 0.9158 - val_mse: 0.9158 - val_mae: 0.6319oss: 0.9845 - mse: 0.9845 - \n",
      "Epoch 22/150\n",
      "5445/5445 [==============================] - 4s 701us/step - loss: 0.9961 - mse: 0.9961 - mae: 0.6743 - val_loss: 0.8622 - val_mse: 0.8622 - val_mae: 0.5737oss: 1.0032 - mse: 1.0032 - mae: 0.\n",
      "Epoch 23/150\n",
      "5445/5445 [==============================] - 4s 698us/step - loss: 0.9504 - mse: 0.9504 - mae: 0.6705 - val_loss: 0.8943 - val_mse: 0.8943 - val_mae: 0.5600\n",
      "Epoch 24/150\n",
      "5445/5445 [==============================] - 4s 700us/step - loss: 0.9543 - mse: 0.9543 - mae: 0.6691 - val_loss: 0.9292 - val_mse: 0.9292 - val_mae: 0.5769\n",
      "Epoch 25/150\n",
      "5445/5445 [==============================] - 4s 694us/step - loss: 0.8940 - mse: 0.8940 - mae: 0.6511 - val_loss: 0.8637 - val_mse: 0.8637 - val_mae: 0.5722\n",
      "Epoch 26/150\n",
      "5445/5445 [==============================] - 4s 693us/step - loss: 0.9263 - mse: 0.9263 - mae: 0.6624 - val_loss: 0.9345 - val_mse: 0.9345 - val_mae: 0.5762\n",
      "Epoch 27/150\n",
      "5445/5445 [==============================] - 4s 701us/step - loss: 0.9227 - mse: 0.9227 - mae: 0.6570 - val_loss: 0.9106 - val_mse: 0.9106 - val_mae: 0.5611se: 0.9248 - mae\n",
      "Epoch 28/150\n",
      "5445/5445 [==============================] - 4s 700us/step - loss: 0.8930 - mse: 0.8930 - mae: 0.6521 - val_loss: 0.8366 - val_mse: 0.8366 - val_mae: 0.5665\n",
      "Epoch 29/150\n",
      "5445/5445 [==============================] - 4s 708us/step - loss: 0.8644 - mse: 0.8644 - mae: 0.6425 - val_loss: 0.8860 - val_mse: 0.8860 - val_mae: 0.5614: 0.8628 - mse: 0.8628 - mae:\n",
      "Epoch 30/150\n",
      "5445/5445 [==============================] - 4s 699us/step - loss: 0.8867 - mse: 0.8867 - mae: 0.6413 - val_loss: 0.8461 - val_mse: 0.8461 - val_mae: 0.6014\n",
      "Epoch 31/150\n",
      "5445/5445 [==============================] - 4s 699us/step - loss: 0.8561 - mse: 0.8561 - mae: 0.6407 - val_loss: 0.8894 - val_mse: 0.8894 - val_mae: 0.5636\n",
      "Epoch 32/150\n",
      "5445/5445 [==============================] - 4s 700us/step - loss: 0.8577 - mse: 0.8577 - mae: 0.6425 - val_loss: 0.8546 - val_mse: 0.8546 - val_mae: 0.5321\n",
      "Epoch 33/150\n",
      "5445/5445 [==============================] - 4s 700us/step - loss: 0.8331 - mse: 0.8331 - mae: 0.6290 - val_loss: 0.8251 - val_mse: 0.8251 - val_mae: 0.5493\n",
      "Epoch 34/150\n",
      "5445/5445 [==============================] - 4s 697us/step - loss: 0.8452 - mse: 0.8452 - mae: 0.6322 - val_loss: 0.8186 - val_mse: 0.8186 - val_mae: 0.5730loss: 0.8713 - mse: 0.8713 - ETA: 0s - loss: 0.8741 - mse: 0.8741 - \n",
      "Epoch 35/150\n",
      "5445/5445 [==============================] - 4s 695us/step - loss: 0.8107 - mse: 0.8107 - mae: 0.6174 - val_loss: 0.8388 - val_mse: 0.8388 - val_mae: 0.5366\n",
      "Epoch 36/150\n",
      "5445/5445 [==============================] - 4s 703us/step - loss: 0.8303 - mse: 0.8303 - mae: 0.6286 - val_loss: 0.8564 - val_mse: 0.8564 - val_mae: 0.5945\n",
      "Epoch 37/150\n",
      "5445/5445 [==============================] - 4s 700us/step - loss: 0.8084 - mse: 0.8084 - mae: 0.6141 - val_loss: 0.8321 - val_mse: 0.8321 - val_mae: 0.6059\n",
      "Epoch 38/150\n",
      "5445/5445 [==============================] - 4s 698us/step - loss: 0.8110 - mse: 0.8110 - mae: 0.6157 - val_loss: 0.8104 - val_mse: 0.8104 - val_mae: 0.5410\n",
      "Epoch 39/150\n",
      "5445/5445 [==============================] - 4s 698us/step - loss: 0.8136 - mse: 0.8136 - mae: 0.6192 - val_loss: 0.8117 - val_mse: 0.8117 - val_mae: 0.570028 - mse: 0.8128 - ma\n",
      "Epoch 40/150\n",
      "5445/5445 [==============================] - 4s 700us/step - loss: 0.7633 - mse: 0.7633 - mae: 0.6031 - val_loss: 0.8347 - val_mse: 0.8347 - val_mae: 0.6026\n",
      "Epoch 41/150\n",
      "5445/5445 [==============================] - 4s 703us/step - loss: 0.7774 - mse: 0.7774 - mae: 0.6094 - val_loss: 0.8241 - val_mse: 0.8241 - val_mae: 0.5427\n",
      "Epoch 42/150\n",
      "5445/5445 [==============================] - 4s 700us/step - loss: 0.7776 - mse: 0.7776 - mae: 0.6048 - val_loss: 0.7886 - val_mse: 0.7886 - val_mae: 0.5333loss: 0.7727 -\n",
      "Epoch 43/150\n",
      "5445/5445 [==============================] - 4s 700us/step - loss: 0.7721 - mse: 0.7721 - mae: 0.6043 - val_loss: 0.7974 - val_mse: 0.7974 - val_mae: 0.5581\n",
      "Epoch 44/150\n",
      "5445/5445 [==============================] - 4s 704us/step - loss: 0.7463 - mse: 0.7463 - mae: 0.5983 - val_loss: 0.7879 - val_mse: 0.7879 - val_mae: 0.5387\n",
      "Epoch 45/150\n"
     ]
    },
    {
     "name": "stdout",
     "output_type": "stream",
     "text": [
      "5445/5445 [==============================] - 4s 695us/step - loss: 0.7442 - mse: 0.7442 - mae: 0.5982 - val_loss: 0.7829 - val_mse: 0.7829 - val_mae: 0.5364\n",
      "Epoch 46/150\n",
      "5445/5445 [==============================] - 4s 703us/step - loss: 0.7556 - mse: 0.7556 - mae: 0.5995 - val_loss: 0.7826 - val_mse: 0.7826 - val_mae: 0.5371 loss: \n",
      "Epoch 47/150\n",
      "5445/5445 [==============================] - 4s 697us/step - loss: 0.7508 - mse: 0.7508 - mae: 0.5911 - val_loss: 0.7895 - val_mse: 0.7895 - val_mae: 0.5264\n",
      "Epoch 48/150\n",
      "5445/5445 [==============================] - 4s 701us/step - loss: 0.7122 - mse: 0.7122 - mae: 0.5828 - val_loss: 0.8029 - val_mse: 0.8029 - val_mae: 0.5515\n",
      "Epoch 49/150\n",
      "5445/5445 [==============================] - 4s 703us/step - loss: 0.7519 - mse: 0.7519 - mae: 0.5899 - val_loss: 0.7872 - val_mse: 0.7872 - val_mae: 0.5530\n",
      "Epoch 50/150\n",
      "5445/5445 [==============================] - 4s 695us/step - loss: 0.7202 - mse: 0.7202 - mae: 0.5854 - val_loss: 0.7912 - val_mse: 0.7912 - val_mae: 0.5856ETA: 0s - loss: 0.7162 - mse: 0.7162 - mae: 0.58\n",
      "Epoch 51/150\n",
      "5445/5445 [==============================] - 4s 698us/step - loss: 0.7298 - mse: 0.7298 - mae: 0.5910 - val_loss: 0.7974 - val_mse: 0.7974 - val_mae: 0.5315\n",
      "Epoch 52/150\n",
      "5445/5445 [==============================] - 4s 703us/step - loss: 0.7134 - mse: 0.7134 - mae: 0.5794 - val_loss: 0.7945 - val_mse: 0.7945 - val_mae: 0.5825\n",
      "Epoch 53/150\n",
      "5445/5445 [==============================] - 4s 696us/step - loss: 0.7103 - mse: 0.7103 - mae: 0.5834 - val_loss: 0.7969 - val_mse: 0.7969 - val_mae: 0.5740\n",
      "Epoch 54/150\n",
      "5445/5445 [==============================] - 4s 713us/step - loss: 0.7157 - mse: 0.7157 - mae: 0.5802 - val_loss: 0.7750 - val_mse: 0.7750 - val_mae: 0.5330\n",
      "Epoch 55/150\n",
      "5445/5445 [==============================] - 4s 700us/step - loss: 0.7132 - mse: 0.7132 - mae: 0.5781 - val_loss: 0.7865 - val_mse: 0.7865 - val_mae: 0.5251\n",
      "Epoch 56/150\n",
      "5445/5445 [==============================] - 4s 700us/step - loss: 0.6952 - mse: 0.6952 - mae: 0.5771 - val_loss: 0.8268 - val_mse: 0.8268 - val_mae: 0.5456\n",
      "Epoch 57/150\n",
      "5445/5445 [==============================] - 4s 700us/step - loss: 0.6881 - mse: 0.6881 - mae: 0.5711 - val_loss: 0.8639 - val_mse: 0.8639 - val_mae: 0.6352\n",
      "Epoch 58/150\n",
      "5445/5445 [==============================] - 4s 695us/step - loss: 0.7024 - mse: 0.7024 - mae: 0.5716 - val_loss: 0.8096 - val_mse: 0.8096 - val_mae: 0.5337 mae\n",
      "Epoch 59/150\n",
      "5445/5445 [==============================] - 4s 700us/step - loss: 0.6826 - mse: 0.6826 - mae: 0.5678 - val_loss: 0.8093 - val_mse: 0.8093 - val_mae: 0.5664ss: 0.7124 - mse: 0 - ETA: 1s - loss: 0.7083 - mse: 0.7083 - mae: 0 - ETA: 1s - loss: 0.7036 - mse: 0.\n",
      "Epoch 60/150\n",
      "5445/5445 [==============================] - 4s 698us/step - loss: 0.6667 - mse: 0.6667 - mae: 0.5638 - val_loss: 0.8283 - val_mse: 0.8283 - val_mae: 0.5750\n",
      "Epoch 61/150\n",
      "5445/5445 [==============================] - 4s 694us/step - loss: 0.6867 - mse: 0.6867 - mae: 0.5757 - val_loss: 0.8035 - val_mse: 0.8035 - val_mae: 0.5158\n",
      "Epoch 62/150\n",
      "5445/5445 [==============================] - 4s 696us/step - loss: 0.6913 - mse: 0.6913 - mae: 0.5700 - val_loss: 0.7961 - val_mse: 0.7961 - val_mae: 0.5516\n",
      "Epoch 63/150\n",
      "5445/5445 [==============================] - 4s 700us/step - loss: 0.6848 - mse: 0.6848 - mae: 0.5714 - val_loss: 0.8086 - val_mse: 0.8086 - val_mae: 0.6065\n",
      "Epoch 64/150\n",
      "5445/5445 [==============================] - 4s 699us/step - loss: 0.6834 - mse: 0.6834 - mae: 0.5703 - val_loss: 0.8099 - val_mse: 0.8099 - val_mae: 0.5628\n",
      "Epoch 65/150\n",
      "5445/5445 [==============================] - 4s 704us/step - loss: 0.6857 - mse: 0.6857 - mae: 0.5686 - val_loss: 0.8362 - val_mse: 0.8362 - val_mae: 0.5684- ma - ETA: 0s - loss: 0.6860 - mse: 0.6860 - mae: 0.568\n",
      "Epoch 66/150\n",
      "5445/5445 [==============================] - 4s 703us/step - loss: 0.6741 - mse: 0.6741 - mae: 0.5623 - val_loss: 0.7944 - val_mse: 0.7944 - val_mae: 0.5393\n",
      "Epoch 67/150\n",
      "5445/5445 [==============================] - 4s 699us/step - loss: 0.6517 - mse: 0.6517 - mae: 0.5623 - val_loss: 0.8228 - val_mse: 0.8228 - val_mae: 0.56106303 -\n",
      "Epoch 68/150\n",
      "5445/5445 [==============================] - 4s 700us/step - loss: 0.6782 - mse: 0.6782 - mae: 0.5674 - val_loss: 0.8109 - val_mse: 0.8109 - val_mae: 0.5650\n",
      "Epoch 69/150\n",
      "5445/5445 [==============================] - 4s 698us/step - loss: 0.6466 - mse: 0.6466 - mae: 0.5597 - val_loss: 0.8210 - val_mse: 0.8210 - val_mae: 0.5748\n",
      "Epoch 70/150\n",
      "5445/5445 [==============================] - 4s 696us/step - loss: 0.6477 - mse: 0.6477 - mae: 0.5553 - val_loss: 0.7839 - val_mse: 0.7839 - val_mae: 0.5686\n",
      "Epoch 71/150\n",
      "5445/5445 [==============================] - 4s 700us/step - loss: 0.6592 - mse: 0.6592 - mae: 0.5583 - val_loss: 0.7862 - val_mse: 0.7862 - val_mae: 0.5479ss: 0.6565 - mse: 0.6565 - mae: 0.558\n",
      "Epoch 72/150\n",
      "5445/5445 [==============================] - 4s 705us/step - loss: 0.6304 - mse: 0.6304 - mae: 0.5457 - val_loss: 0.8114 - val_mse: 0.8114 - val_mae: 0.5754\n",
      "Epoch 73/150\n",
      "5445/5445 [==============================] - 4s 700us/step - loss: 0.6331 - mse: 0.6331 - mae: 0.5475 - val_loss: 0.8322 - val_mse: 0.8322 - val_mae: 0.5282\n",
      "Epoch 74/150\n",
      "5445/5445 [==============================] - 4s 701us/step - loss: 0.6535 - mse: 0.6535 - mae: 0.5646 - val_loss: 0.7957 - val_mse: 0.7957 - val_mae: 0.5331\n",
      "Epoch 75/150\n",
      "5445/5445 [==============================] - 4s 699us/step - loss: 0.6532 - mse: 0.6532 - mae: 0.5601 - val_loss: 0.7787 - val_mse: 0.7787 - val_mae: 0.5462 - loss: 0.6844 -  - ETA: 1s - loss: 0.6563 - mse: 0.65\n",
      "Epoch 76/150\n",
      "5445/5445 [==============================] - 4s 703us/step - loss: 0.6135 - mse: 0.6135 - mae: 0.5459 - val_loss: 0.7864 - val_mse: 0.7864 - val_mae: 0.5137 lo\n",
      "Epoch 77/150\n",
      "5445/5445 [==============================] - 4s 702us/step - loss: 0.5990 - mse: 0.5990 - mae: 0.5357 - val_loss: 0.7850 - val_mse: 0.7850 - val_mae: 0.5404\n",
      "Epoch 78/150\n",
      "5445/5445 [==============================] - 4s 696us/step - loss: 0.6196 - mse: 0.6196 - mae: 0.5455 - val_loss: 0.8208 - val_mse: 0.8208 - val_mae: 0.5982\n",
      "Epoch 79/150\n",
      "5445/5445 [==============================] - 4s 700us/step - loss: 0.6170 - mse: 0.6170 - mae: 0.5420 - val_loss: 0.7945 - val_mse: 0.7945 - val_mae: 0.5490se: 0.6289 -\n",
      "Epoch 80/150\n",
      "5445/5445 [==============================] - 4s 703us/step - loss: 0.6198 - mse: 0.6198 - mae: 0.5463 - val_loss: 0.8222 - val_mse: 0.8222 - val_mae: 0.5828\n",
      "Epoch 81/150\n",
      "5445/5445 [==============================] - 4s 702us/step - loss: 0.6117 - mse: 0.6117 - mae: 0.5417 - val_loss: 0.7681 - val_mse: 0.7681 - val_mae: 0.5287\n",
      "Epoch 82/150\n",
      "5445/5445 [==============================] - 4s 700us/step - loss: 0.6128 - mse: 0.6128 - mae: 0.5374 - val_loss: 0.7825 - val_mse: 0.7825 - val_mae: 0.5448\n",
      "Epoch 83/150\n",
      "5445/5445 [==============================] - 4s 704us/step - loss: 0.6297 - mse: 0.6297 - mae: 0.5468 - val_loss: 0.8114 - val_mse: 0.8114 - val_mae: 0.5667\n",
      "Epoch 84/150\n",
      "5445/5445 [==============================] - 4s 701us/step - loss: 0.6167 - mse: 0.6167 - mae: 0.5440 - val_loss: 0.7921 - val_mse: 0.7921 - val_mae: 0.5235 ms\n",
      "Epoch 85/150\n",
      "5445/5445 [==============================] - 4s 705us/step - loss: 0.6249 - mse: 0.6249 - mae: 0.5457 - val_loss: 0.7813 - val_mse: 0.7813 - val_mae: 0.5659\n",
      "Epoch 86/150\n",
      "5445/5445 [==============================] - 4s 703us/step - loss: 0.6212 - mse: 0.6212 - mae: 0.5487 - val_loss: 0.7774 - val_mse: 0.7774 - val_mae: 0.5146\n",
      "Epoch 87/150\n",
      "5445/5445 [==============================] - 4s 703us/step - loss: 0.5924 - mse: 0.5924 - mae: 0.5299 - val_loss: 0.7922 - val_mse: 0.7922 - val_mae: 0.5515 loss: 0.5873 - mse: 0.5873 - mae: \n",
      "Epoch 88/150\n",
      "5445/5445 [==============================] - 4s 702us/step - loss: 0.6092 - mse: 0.6092 - mae: 0.5429 - val_loss: 0.7956 - val_mse: 0.7956 - val_mae: 0.5157\n",
      "Epoch 89/150\n",
      "5445/5445 [==============================] - 4s 698us/step - loss: 0.5890 - mse: 0.5890 - mae: 0.5294 - val_loss: 0.7834 - val_mse: 0.7834 - val_mae: 0.5322\n",
      "Epoch 90/150\n",
      "5445/5445 [==============================] - 4s 701us/step - loss: 0.5855 - mse: 0.5855 - mae: 0.5270 - val_loss: 0.7946 - val_mse: 0.7946 - val_mae: 0.5776\n",
      "Epoch 91/150\n"
     ]
    },
    {
     "name": "stdout",
     "output_type": "stream",
     "text": [
      "5445/5445 [==============================] - 4s 699us/step - loss: 0.5877 - mse: 0.5877 - mae: 0.5300 - val_loss: 0.7919 - val_mse: 0.7919 - val_mae: 0.5421\n",
      "Epoch 92/150\n",
      "5445/5445 [==============================] - 4s 696us/step - loss: 0.5861 - mse: 0.5861 - mae: 0.5276 - val_loss: 0.8213 - val_mse: 0.8213 - val_mae: 0.6079\n",
      "Epoch 93/150\n",
      "5445/5445 [==============================] - 4s 706us/step - loss: 0.5844 - mse: 0.5844 - mae: 0.5322 - val_loss: 0.8261 - val_mse: 0.8261 - val_mae: 0.5760: 0.5410 - mse: 0.5410 - mae: - ETA: 1s - loss: 0.5656 - mse: 0.5656 - mae: 0.525 - ETA: 1s - loss: 0.565\n",
      "Epoch 94/150\n",
      "5445/5445 [==============================] - 4s 699us/step - loss: 0.5799 - mse: 0.5799 - mae: 0.5301 - val_loss: 0.8013 - val_mse: 0.8013 - val_mae: 0.5565\n",
      "Epoch 95/150\n",
      "5445/5445 [==============================] - 4s 698us/step - loss: 0.5874 - mse: 0.5874 - mae: 0.5227 - val_loss: 0.8058 - val_mse: 0.8058 - val_mae: 0.55629 - mse: 0.5649 - mae: 0 - ETA: 1s - loss: 0.5737 - ms\n",
      "Epoch 96/150\n",
      "5445/5445 [==============================] - 4s 709us/step - loss: 0.5825 - mse: 0.5825 - mae: 0.5290 - val_loss: 0.8444 - val_mse: 0.8444 - val_mae: 0.5844\n",
      "Epoch 97/150\n",
      "5445/5445 [==============================] - 4s 700us/step - loss: 0.5749 - mse: 0.5749 - mae: 0.5297 - val_loss: 0.8146 - val_mse: 0.8146 - val_mae: 0.5857\n",
      "Epoch 98/150\n",
      "5445/5445 [==============================] - 4s 698us/step - loss: 0.5728 - mse: 0.5728 - mae: 0.5233 - val_loss: 0.7944 - val_mse: 0.7944 - val_mae: 0.5244 - mse: 0\n",
      "Epoch 99/150\n",
      "5445/5445 [==============================] - 4s 706us/step - loss: 0.5705 - mse: 0.5705 - mae: 0.5249 - val_loss: 0.7917 - val_mse: 0.7917 - val_mae: 0.5578\n",
      "Epoch 100/150\n",
      "5445/5445 [==============================] - 4s 696us/step - loss: 0.5644 - mse: 0.5644 - mae: 0.5179 - val_loss: 0.8020 - val_mse: 0.8020 - val_mae: 0.5757 0.5037 - mse: 0. - ETA: 1s - loss: 0.5504 - mse: 0.5 - ETA: 0s - loss: 0.5661 - mse: 0.5661 - mae: 0.518\n",
      "Epoch 101/150\n",
      "5445/5445 [==============================] - 4s 700us/step - loss: 0.5636 - mse: 0.5636 - mae: 0.5173 - val_loss: 0.8088 - val_mse: 0.8088 - val_mae: 0.57697 - mse: 0.5477 - m\n",
      "Epoch 102/150\n",
      "5445/5445 [==============================] - 4s 699us/step - loss: 0.5637 - mse: 0.5637 - mae: 0.5228 - val_loss: 0.8038 - val_mse: 0.8038 - val_mae: 0.5315\n",
      "Epoch 103/150\n",
      "5445/5445 [==============================] - 4s 701us/step - loss: 0.5810 - mse: 0.5810 - mae: 0.5312 - val_loss: 0.7656 - val_mse: 0.7656 - val_mae: 0.5368\n",
      "Epoch 104/150\n",
      "5445/5445 [==============================] - 4s 699us/step - loss: 0.5684 - mse: 0.5684 - mae: 0.5248 - val_loss: 0.7789 - val_mse: 0.7789 - val_mae: 0.52975 - ETA: 0s - loss: 0.5719 - mse: 0.5719 - mae: \n",
      "Epoch 105/150\n",
      "5445/5445 [==============================] - 4s 697us/step - loss: 0.5481 - mse: 0.5481 - mae: 0.5117 - val_loss: 0.7721 - val_mse: 0.7721 - val_mae: 0.5711 0.5720 - mse: - ETA: 1s - loss: 0.5491 - mse: 0\n",
      "Epoch 106/150\n",
      "5445/5445 [==============================] - 4s 700us/step - loss: 0.5575 - mse: 0.5575 - mae: 0.5209 - val_loss: 0.7961 - val_mse: 0.7961 - val_mae: 0.5653\n",
      "Epoch 107/150\n",
      "5445/5445 [==============================] - 4s 700us/step - loss: 0.5429 - mse: 0.5429 - mae: 0.5147 - val_loss: 0.7867 - val_mse: 0.7867 - val_mae: 0.5250\n",
      "Epoch 108/150\n",
      "5445/5445 [==============================] - 4s 706us/step - loss: 0.5470 - mse: 0.5470 - mae: 0.5152 - val_loss: 0.7954 - val_mse: 0.7954 - val_mae: 0.5535\n",
      "Epoch 109/150\n",
      "5445/5445 [==============================] - 4s 701us/step - loss: 0.5422 - mse: 0.5422 - mae: 0.5093 - val_loss: 0.7946 - val_mse: 0.7946 - val_mae: 0.5609\n",
      "Epoch 110/150\n",
      "5445/5445 [==============================] - 4s 698us/step - loss: 0.5520 - mse: 0.5520 - mae: 0.5207 - val_loss: 0.7817 - val_mse: 0.7817 - val_mae: 0.5239s: 0.5922 - ms - ETA: 0s - loss: 0.5659 - mse: 0.5659\n",
      "Epoch 111/150\n",
      "5445/5445 [==============================] - 4s 697us/step - loss: 0.5609 - mse: 0.5609 - mae: 0.5156 - val_loss: 0.8054 - val_mse: 0.8054 - val_mae: 0.5696\n",
      "Epoch 112/150\n",
      "5445/5445 [==============================] - 4s 711us/step - loss: 0.5369 - mse: 0.5369 - mae: 0.5151 - val_loss: 0.7886 - val_mse: 0.7886 - val_mae: 0.5729\n",
      "Epoch 113/150\n",
      "5445/5445 [==============================] - 4s 702us/step - loss: 0.5578 - mse: 0.5578 - mae: 0.5213 - val_loss: 0.8226 - val_mse: 0.8226 - val_mae: 0.5612\n",
      "Epoch 114/150\n",
      "5445/5445 [==============================] - 4s 697us/step - loss: 0.5439 - mse: 0.5439 - mae: 0.5102 - val_loss: 0.8015 - val_mse: 0.8015 - val_mae: 0.5396\n",
      "Epoch 115/150\n",
      "5445/5445 [==============================] - 4s 701us/step - loss: 0.5347 - mse: 0.5347 - mae: 0.5100 - val_loss: 0.7943 - val_mse: 0.7943 - val_mae: 0.5450\n",
      "Epoch 116/150\n",
      "5445/5445 [==============================] - 4s 705us/step - loss: 0.5299 - mse: 0.5299 - mae: 0.5069 - val_loss: 0.7672 - val_mse: 0.7672 - val_mae: 0.5324\n",
      "Epoch 117/150\n",
      "5445/5445 [==============================] - 4s 697us/step - loss: 0.5419 - mse: 0.5419 - mae: 0.5116 - val_loss: 0.7636 - val_mse: 0.7636 - val_mae: 0.5711\n",
      "Epoch 118/150\n",
      "5445/5445 [==============================] - 4s 709us/step - loss: 0.5325 - mse: 0.5325 - mae: 0.5050 - val_loss: 0.7979 - val_mse: 0.7979 - val_mae: 0.5812- mse: 0. - ETA: 0s - loss: 0.5219 - mse: 0.5219 - mae: - ETA: 0s - loss: 0.5278 - mse: 0.5278 - mae: 0.5\n",
      "Epoch 119/150\n",
      "5445/5445 [==============================] - 4s 702us/step - loss: 0.5568 - mse: 0.5568 - mae: 0.5194 - val_loss: 0.7651 - val_mse: 0.7651 - val_mae: 0.5080.6062\n",
      "Epoch 120/150\n",
      "5445/5445 [==============================] - 4s 700us/step - loss: 0.5545 - mse: 0.5545 - mae: 0.5130 - val_loss: 0.7712 - val_mse: 0.7712 - val_mae: 0.50766 - mse: 0.5606 - mae: \n",
      "Epoch 121/150\n",
      "5445/5445 [==============================] - 4s 699us/step - loss: 0.5225 - mse: 0.5225 - mae: 0.5049 - val_loss: 0.7981 - val_mse: 0.7981 - val_mae: 0.5270\n",
      "Epoch 122/150\n",
      "5445/5445 [==============================] - 4s 701us/step - loss: 0.5254 - mse: 0.5254 - mae: 0.5047 - val_loss: 0.7770 - val_mse: 0.7770 - val_mae: 0.5370\n",
      "Epoch 123/150\n",
      "5445/5445 [==============================] - 4s 700us/step - loss: 0.5319 - mse: 0.5319 - mae: 0.5062 - val_loss: 0.7828 - val_mse: 0.7828 - val_mae: 0.5384\n",
      "Epoch 124/150\n",
      "5445/5445 [==============================] - 4s 706us/step - loss: 0.5150 - mse: 0.5150 - mae: 0.4989 - val_loss: 0.7764 - val_mse: 0.7764 - val_mae: 0.5343\n",
      "Epoch 125/150\n",
      "5445/5445 [==============================] - 4s 703us/step - loss: 0.5056 - mse: 0.5056 - mae: 0.4952 - val_loss: 0.7463 - val_mse: 0.7463 - val_mae: 0.5290ss: 0.517\n",
      "Epoch 126/150\n",
      "5445/5445 [==============================] - 4s 697us/step - loss: 0.5202 - mse: 0.5202 - mae: 0.4995 - val_loss: 0.7838 - val_mse: 0.7838 - val_mae: 0.5306\n",
      "Epoch 127/150\n",
      "5445/5445 [==============================] - 4s 700us/step - loss: 0.5437 - mse: 0.5437 - mae: 0.5159 - val_loss: 0.8294 - val_mse: 0.8294 - val_mae: 0.5286\n",
      "Epoch 128/150\n",
      "5445/5445 [==============================] - 4s 701us/step - loss: 0.5561 - mse: 0.5561 - mae: 0.5206 - val_loss: 0.7848 - val_mse: 0.7848 - val_mae: 0.5542\n",
      "Epoch 129/150\n",
      "5445/5445 [==============================] - 4s 701us/step - loss: 0.5355 - mse: 0.5355 - mae: 0.5098 - val_loss: 0.7820 - val_mse: 0.7820 - val_mae: 0.5357\n",
      "Epoch 130/150\n",
      "5445/5445 [==============================] - 4s 706us/step - loss: 0.5040 - mse: 0.5040 - mae: 0.4945 - val_loss: 0.7827 - val_mse: 0.7827 - val_mae: 0.5087\n",
      "Epoch 131/150\n",
      "5445/5445 [==============================] - 4s 703us/step - loss: 0.5158 - mse: 0.5158 - mae: 0.4984 - val_loss: 0.7784 - val_mse: 0.7784 - val_mae: 0.5307\n",
      "Epoch 132/150\n",
      "5445/5445 [==============================] - 4s 705us/step - loss: 0.5171 - mse: 0.5171 - mae: 0.5029 - val_loss: 0.7953 - val_mse: 0.7953 - val_mae: 0.5352\n",
      "Epoch 133/150\n",
      "5445/5445 [==============================] - 4s 705us/step - loss: 0.5069 - mse: 0.5069 - mae: 0.4994 - val_loss: 0.7762 - val_mse: 0.7762 - val_mae: 0.5621\n",
      "Epoch 134/150\n",
      "5445/5445 [==============================] - 4s 700us/step - loss: 0.4844 - mse: 0.4844 - mae: 0.4831 - val_loss: 0.7760 - val_mse: 0.7760 - val_mae: 0.5380\n",
      "Epoch 135/150\n"
     ]
    },
    {
     "name": "stdout",
     "output_type": "stream",
     "text": [
      "5445/5445 [==============================] - 4s 701us/step - loss: 0.5116 - mse: 0.5116 - mae: 0.4991 - val_loss: 0.7553 - val_mse: 0.7553 - val_mae: 0.5280\n",
      "Epoch 136/150\n",
      "5445/5445 [==============================] - 4s 706us/step - loss: 0.5019 - mse: 0.5019 - mae: 0.4968 - val_loss: 0.7454 - val_mse: 0.7454 - val_mae: 0.5372\n",
      "Epoch 137/150\n",
      "5445/5445 [==============================] - 4s 708us/step - loss: 0.5005 - mse: 0.5005 - mae: 0.4918 - val_loss: 0.7753 - val_mse: 0.7753 - val_mae: 0.5348\n",
      "Epoch 138/150\n",
      "5445/5445 [==============================] - 4s 703us/step - loss: 0.5064 - mse: 0.5064 - mae: 0.4996 - val_loss: 0.7555 - val_mse: 0.7555 - val_mae: 0.519201 - mse: 0.5501 - - ETA: 1s - loss: 0.5176 - mse: 0.5\n",
      "Epoch 139/150\n",
      "5445/5445 [==============================] - 4s 710us/step - loss: 0.5059 - mse: 0.5059 - mae: 0.4968 - val_loss: 0.7850 - val_mse: 0.7850 - val_mae: 0.5319\n",
      "Epoch 140/150\n",
      "5445/5445 [==============================] - 4s 709us/step - loss: 0.5080 - mse: 0.5080 - mae: 0.4925 - val_loss: 0.8242 - val_mse: 0.8242 - val_mae: 0.5584\n",
      "Epoch 141/150\n",
      "5445/5445 [==============================] - 4s 704us/step - loss: 0.4894 - mse: 0.4894 - mae: 0.4913 - val_loss: 0.7355 - val_mse: 0.7355 - val_mae: 0.5258\n",
      "Epoch 142/150\n",
      "5445/5445 [==============================] - 4s 706us/step - loss: 0.5035 - mse: 0.5035 - mae: 0.4940 - val_loss: 0.7446 - val_mse: 0.7446 - val_mae: 0.5232\n",
      "Epoch 143/150\n",
      "5445/5445 [==============================] - 4s 703us/step - loss: 0.5017 - mse: 0.5017 - mae: 0.4932 - val_loss: 0.7622 - val_mse: 0.7622 - val_mae: 0.5185 - loss: 0.4916 - mse: 0.4916 - \n",
      "Epoch 144/150\n",
      "5445/5445 [==============================] - 4s 703us/step - loss: 0.5053 - mse: 0.5053 - mae: 0.4992 - val_loss: 0.7464 - val_mse: 0.7464 - val_mae: 0.5292\n",
      "Epoch 145/150\n",
      "5445/5445 [==============================] - 4s 706us/step - loss: 0.5131 - mse: 0.5131 - mae: 0.4997 - val_loss: 0.7936 - val_mse: 0.7936 - val_mae: 0.5306\n",
      "Epoch 146/150\n",
      "5445/5445 [==============================] - 4s 707us/step - loss: 0.5007 - mse: 0.5007 - mae: 0.4927 - val_loss: 0.7728 - val_mse: 0.7728 - val_mae: 0.5267\n",
      "Epoch 147/150\n",
      "5445/5445 [==============================] - 4s 706us/step - loss: 0.4836 - mse: 0.4836 - mae: 0.4862 - val_loss: 0.7577 - val_mse: 0.7577 - val_mae: 0.5277: 0.4759 - mse: 0.4759 - m - ETA: 1s - loss: 0.4908 - mse:  - ETA: 0s - loss: 0.4911 - mse: 0.4911 - mae: 0\n",
      "Epoch 148/150\n",
      "5445/5445 [==============================] - 4s 712us/step - loss: 0.4821 - mse: 0.4821 - mae: 0.4849 - val_loss: 0.7688 - val_mse: 0.7688 - val_mae: 0.5180\n",
      "Epoch 149/150\n",
      "5445/5445 [==============================] - 4s 702us/step - loss: 0.4837 - mse: 0.4837 - mae: 0.4888 - val_loss: 0.7639 - val_mse: 0.7639 - val_mae: 0.5269\n",
      "Epoch 150/150\n",
      "5445/5445 [==============================] - 4s 710us/step - loss: 0.4741 - mse: 0.4741 - mae: 0.4846 - val_loss: 0.7733 - val_mse: 0.7733 - val_mae: 0.5214\n",
      "EndTime : 2022-02-04 01:07:20.684368\n"
     ]
    }
   ],
   "source": [
    "optim = Adam(lr=0.0002)\n",
    "\n",
    "model.compile(loss='mse',\n",
    "\t\t      optimizer=optim,\n",
    "\t\t\t  metrics=['mse','mae'])\n",
    "\n",
    "StartTime8 = datetime.now()\n",
    "print(\"StartTime :\", StartTime8)\n",
    "with K.tf.device('/GPU:0'):\n",
    "    model_train = model.fit([train_X_cell, train_X_drug], train_y, validation_data=([test_X_cell, test_X_drug], test_y),\n",
    "                            batch_size=batch_size,epochs=training_epochs,verbose=1)\n",
    "\n",
    "EndTime8 = datetime.now()\n",
    "print(\"EndTime :\", EndTime8)"
   ]
  },
  {
   "cell_type": "code",
   "execution_count": 24,
   "metadata": {},
   "outputs": [],
   "source": [
    "import json\n",
    "from keras.models import model_from_json, load_model\n",
    "workdir = \"D://ResNetIC50//Result//MEYODC-6K//CDRScan\"\n",
    "# Option 1: Save Weights + Architecture\n",
    "model.save_weights(workdir+ '//MEYODC6K_CDRScan_model_fix_v3.h5')\n",
    "with open(workdir + '//MEYODC6K_CDRScan_model_architecture_fix_v3.json', 'w') as f:\n",
    "    f.write(model.to_json())\n",
    "# Option 1: Load Weights + Architecture\n",
    "# with open('model_architecture.json', 'r') as f:\n",
    "#     new_model_1 = model_from_json(f.read())\n",
    "# new_model_1.load_weights('model_weights.h5')"
   ]
  },
  {
   "cell_type": "code",
   "execution_count": 25,
   "metadata": {},
   "outputs": [],
   "source": [
    "# Option 2: Save/Load the Entire Model\n",
    "from keras.models import load_model\n",
    "\n",
    "# Creates a HDF5 file 'my_model.h5'\n",
    "model.save(workdir + '//MEYODC6K_ResNet_model_fix_2080ti_v3.h5')\n",
    "\n",
    "# Deletes the existing model\n",
    "# del model  \n",
    "\n",
    "# Returns a compiled model identical to the previous one\n",
    "# model = load_model('my_model.h5')"
   ]
  },
  {
   "cell_type": "code",
   "execution_count": 26,
   "metadata": {},
   "outputs": [
    {
     "name": "stdout",
     "output_type": "stream",
     "text": [
      "605/605 [==============================] - 0s 605us/step\n"
     ]
    }
   ],
   "source": [
    "test_eval = model.evaluate([test_X_cell,test_X_drug], test_label_array, verbose=1)"
   ]
  },
  {
   "cell_type": "code",
   "execution_count": 27,
   "metadata": {},
   "outputs": [
    {
     "data": {
      "text/plain": [
       "[0.7733087360366316, 0.7733086943626404, 0.5213624835014343]"
      ]
     },
     "execution_count": 27,
     "metadata": {},
     "output_type": "execute_result"
    }
   ],
   "source": [
    "test_eval"
   ]
  },
  {
   "cell_type": "code",
   "execution_count": 28,
   "metadata": {},
   "outputs": [],
   "source": [
    "accuracy = model_train.history['mse']\n",
    "val_accuracy = model_train.history['val_mse']\n",
    "loss = model_train.history['loss']\n",
    "val_loss = model_train.history['val_loss']\n",
    "\n",
    "np_acc = np.array(accuracy)\n",
    "np_val_acc = np.array(val_accuracy)\n",
    "np_loss = np.array(loss)\n",
    "np_val_loss = np.array(val_loss)"
   ]
  },
  {
   "cell_type": "code",
   "execution_count": 29,
   "metadata": {},
   "outputs": [],
   "source": [
    "import matplotlib\n",
    "from matplotlib import pyplot as plt"
   ]
  },
  {
   "cell_type": "code",
   "execution_count": 30,
   "metadata": {},
   "outputs": [
    {
     "data": {
      "image/png": "[encoded data removed]",
      "text/plain": [
       "<Figure size 432x288 with 1 Axes>"
      ]
     },
     "metadata": {
      "needs_background": "light"
     },
     "output_type": "display_data"
    },
    {
     "data": {
      "image/png": "[encoded data removed]",
      "text/plain": [
       "<Figure size 432x288 with 1 Axes>"
      ]
     },
     "metadata": {
      "needs_background": "light"
     },
     "output_type": "display_data"
    }
   ],
   "source": [
    "# accuracy = model_train.history['acc']\n",
    "# val_accuracy = model_train.history['val_acc']\n",
    "# loss = model_train.history['loss']\n",
    "# val_loss = model_train.history['val_loss']\n",
    "epochs = range(len(accuracy))\n",
    "plt.plot(epochs, accuracy, 'bo', label='Training mse',c='red')\n",
    "plt.plot(epochs, val_accuracy, 'b', label='Validation mse',c='red')\n",
    "plt.title('Training and validation mse')\n",
    "plt.legend()\n",
    "plt.figure()\n",
    "plt.plot(epochs, loss, 'bo', label='Training loss',c='red')\n",
    "plt.plot(epochs, val_loss, 'b', label='Validation loss',c='red')\n",
    "plt.title('Training and validation loss')\n",
    "plt.legend()\n",
    "plt.show()"
   ]
  },
  {
   "cell_type": "code",
   "execution_count": 31,
   "metadata": {},
   "outputs": [],
   "source": [
    "predicted_classes = model.predict([test_X_cell,test_X_drug])"
   ]
  },
  {
   "cell_type": "code",
   "execution_count": 32,
   "metadata": {},
   "outputs": [],
   "source": [
    "predicted_value = predicted_classes"
   ]
  },
  {
   "cell_type": "code",
   "execution_count": 33,
   "metadata": {},
   "outputs": [],
   "source": [
    "a = pd.DataFrame(predicted_value)\n",
    "b = pd.DataFrame(test_label_array)\n",
    "c = pd.concat([a,b], axis=1)\n",
    "c.columns=[\"Predicted\",\"Test\"]"
   ]
  },
  {
   "cell_type": "code",
   "execution_count": 34,
   "metadata": {},
   "outputs": [],
   "source": [
    "c.to_csv(workdir + '//MEYODC6K_CDRScan_pred_obs_table.csv')"
   ]
  },
  {
   "cell_type": "code",
   "execution_count": 35,
   "metadata": {},
   "outputs": [
    {
     "data": {
      "text/html": [
       "<div>\n",
       "<style scoped>\n",
       "    .dataframe tbody tr th:only-of-type {\n",
       "        vertical-align: middle;\n",
       "    }\n",
       "\n",
       "    .dataframe tbody tr th {\n",
       "        vertical-align: top;\n",
       "    }\n",
       "\n",
       "    .dataframe thead th {\n",
       "        text-align: right;\n",
       "    }\n",
       "</style>\n",
       "<table border=\"1\" class=\"dataframe\">\n",
       "  <thead>\n",
       "    <tr style=\"text-align: right;\">\n",
       "      <th></th>\n",
       "      <th>Predicted</th>\n",
       "      <th>Test</th>\n",
       "    </tr>\n",
       "  </thead>\n",
       "  <tbody>\n",
       "    <tr>\n",
       "      <th>0</th>\n",
       "      <td>-0.656819</td>\n",
       "      <td>-2.530241</td>\n",
       "    </tr>\n",
       "    <tr>\n",
       "      <th>1</th>\n",
       "      <td>2.023452</td>\n",
       "      <td>2.079442</td>\n",
       "    </tr>\n",
       "    <tr>\n",
       "      <th>2</th>\n",
       "      <td>1.842421</td>\n",
       "      <td>2.079442</td>\n",
       "    </tr>\n",
       "    <tr>\n",
       "      <th>3</th>\n",
       "      <td>-5.322058</td>\n",
       "      <td>-5.687074</td>\n",
       "    </tr>\n",
       "    <tr>\n",
       "      <th>4</th>\n",
       "      <td>2.075191</td>\n",
       "      <td>2.079442</td>\n",
       "    </tr>\n",
       "    <tr>\n",
       "      <th>...</th>\n",
       "      <td>...</td>\n",
       "      <td>...</td>\n",
       "    </tr>\n",
       "    <tr>\n",
       "      <th>600</th>\n",
       "      <td>0.625764</td>\n",
       "      <td>2.079442</td>\n",
       "    </tr>\n",
       "    <tr>\n",
       "      <th>601</th>\n",
       "      <td>1.987634</td>\n",
       "      <td>2.079442</td>\n",
       "    </tr>\n",
       "    <tr>\n",
       "      <th>602</th>\n",
       "      <td>1.975811</td>\n",
       "      <td>2.079442</td>\n",
       "    </tr>\n",
       "    <tr>\n",
       "      <th>603</th>\n",
       "      <td>-5.793663</td>\n",
       "      <td>-5.046103</td>\n",
       "    </tr>\n",
       "    <tr>\n",
       "      <th>604</th>\n",
       "      <td>1.985528</td>\n",
       "      <td>1.389951</td>\n",
       "    </tr>\n",
       "  </tbody>\n",
       "</table>\n",
       "<p>605 rows × 2 columns</p>\n",
       "</div>"
      ],
      "text/plain": [
       "     Predicted      Test\n",
       "0    -0.656819 -2.530241\n",
       "1     2.023452  2.079442\n",
       "2     1.842421  2.079442\n",
       "3    -5.322058 -5.687074\n",
       "4     2.075191  2.079442\n",
       "..         ...       ...\n",
       "600   0.625764  2.079442\n",
       "601   1.987634  2.079442\n",
       "602   1.975811  2.079442\n",
       "603  -5.793663 -5.046103\n",
       "604   1.985528  1.389951\n",
       "\n",
       "[605 rows x 2 columns]"
      ]
     },
     "execution_count": 35,
     "metadata": {},
     "output_type": "execute_result"
    }
   ],
   "source": [
    "c"
   ]
  },
  {
   "cell_type": "code",
   "execution_count": 36,
   "metadata": {},
   "outputs": [
    {
     "data": {
      "text/plain": [
       "(605, 1)"
      ]
     },
     "execution_count": 36,
     "metadata": {},
     "output_type": "execute_result"
    }
   ],
   "source": [
    "predicted_value.shape"
   ]
  },
  {
   "cell_type": "code",
   "execution_count": 37,
   "metadata": {},
   "outputs": [
    {
     "data": {
      "text/plain": [
       "LinregressResult(slope=0.8074632316957134, intercept=0.20538860773699574, rvalue=0.8840012407217114, pvalue=2.7202467455236798e-201, stderr=0.017389155424578914)"
      ]
     },
     "execution_count": 37,
     "metadata": {},
     "output_type": "execute_result"
    }
   ],
   "source": [
    "from scipy.stats import linregress\n",
    "linregress(b[0], a[0])"
   ]
  },
  {
   "cell_type": "code",
   "execution_count": 38,
   "metadata": {},
   "outputs": [
    {
     "name": "stdout",
     "output_type": "stream",
     "text": [
      "0.7804903179767244\n"
     ]
    }
   ],
   "source": [
    "from sklearn.metrics import r2_score\n",
    "r2_value = r2_score(b,a)\n",
    "print(r2_value)"
   ]
  },
  {
   "cell_type": "code",
   "execution_count": 39,
   "metadata": {},
   "outputs": [
    {
     "name": "stdout",
     "output_type": "stream",
     "text": [
      "Final rmse value is = 0.8793797364418515\n"
     ]
    }
   ],
   "source": [
    "rse = ((b[0]-a[0])**2).sum()\n",
    "mse = rse / len(b)\n",
    "print(\"Final rmse value is =\",np.sqrt(mse))"
   ]
  },
  {
   "cell_type": "code",
   "execution_count": 40,
   "metadata": {},
   "outputs": [
    {
     "data": {
      "image/png": "[encoded data removed]",
      "text/plain": [
       "<Figure size 432x432 with 3 Axes>"
      ]
     },
     "metadata": {
      "needs_background": "light"
     },
     "output_type": "display_data"
    }
   ],
   "source": [
    "workdir = \"D://ResNetIC50//Result//Figure//MEYODC-6K\"\n",
    "import seaborn as sns\n",
    "\n",
    "g = sns.jointplot(x=\"Test\", y=\"Predicted\", data=c, kind='reg', color='#7C7C7C',\n",
    "                  joint_kws={'line_kws':{'color':'black'}})\n",
    "g.savefig(workdir+ '//MEYODC6K_CDRScan.png', dpi=300)"
   ]
  },
  {
   "cell_type": "code",
   "execution_count": null,
   "metadata": {},
   "outputs": [],
   "source": []
  },
  {
   "cell_type": "code",
   "execution_count": null,
   "metadata": {},
   "outputs": [],
   "source": []
  }
 ],
 "metadata": {
  "kernelspec": {
   "display_name": "Python 3",
   "language": "python",
   "name": "python3"
  },
  "language_info": {
   "codemirror_mode": {
    "name": "ipython",
    "version": 3
   },
   "file_extension": ".py",
   "mimetype": "text/x-python",
   "name": "python",
   "nbconvert_exporter": "python",
   "pygments_lexer": "ipython3",
   "version": "3.6.12"
  }
 },
 "nbformat": 4,
 "nbformat_minor": 2
}
