{
 "cells": [
  {
   "cell_type": "code",
   "execution_count": 1,
   "metadata": {
    "scrolled": true
   },
   "outputs": [],
   "source": [
    "import os\n",
    "import sys\n",
    "import pandas as pd\n",
    "import numpy as np\n",
    "from sklearn import preprocessing\n",
    "import tensorflow as tf\n",
    "import random\n",
    "import matplotlib\n",
    "from matplotlib import pyplot as plt\n",
    "import statistics\n",
    "from pandas import DataFrame\n",
    "from datetime import datetime\n",
    "from tensorflow.keras.layers import *\n",
    "from tensorflow.keras.models import Model\n",
    "from tensorflow.keras.callbacks import ModelCheckpoint\n",
    "#from keras import backend as K\n",
    "#import keras.backend.tensorflow_backend as K\n",
    "from tensorflow.keras.callbacks import ModelCheckpoint, CSVLogger\n",
    "from os.path import basename\n",
    "#import seaborn as sns\n",
    "# from keras.models import load_model\n",
    "# from keras.utils.vis_utils import plot_model\n",
    "from sklearn.metrics import r2_score\n",
    "from sklearn.metrics import mean_squared_error\n",
    "from matplotlib.patches import Patch\n",
    "from matplotlib.lines import Line2D\n",
    "from scipy.stats import pearsonr\n",
    "\n",
    "# from tensorflow.keras.callbacks import ModelCheckpoint, CSVLogger\n",
    "#from tensorflow.keras.optimizers import Adam\n",
    "\n",
    "\n",
    "\n",
    "\n",
    "# config = tf.ConfigProto()\n",
    "# config.gpu_options.per_process_gpu_memory_fraction = 0.7\n",
    "# config.gpu_options.allow_growth = True\n",
    "# sess = tf.Session(config=config)"
   ]
  },
  {
   "cell_type": "code",
   "execution_count": 2,
   "metadata": {},
   "outputs": [
    {
     "name": "stdout",
     "output_type": "stream",
     "text": [
      "[name: \"/device:CPU:0\"\n",
      "device_type: \"CPU\"\n",
      "memory_limit: 268435456\n",
      "locality {\n",
      "}\n",
      "incarnation: 8008483763510435111\n",
      ", name: \"/device:GPU:0\"\n",
      "device_type: \"GPU\"\n",
      "memory_limit: 22904492544\n",
      "locality {\n",
      "  bus_id: 1\n",
      "  links {\n",
      "  }\n",
      "}\n",
      "incarnation: 9957640644615519075\n",
      "physical_device_desc: \"device: 0, name: TITAN RTX, pci bus id: 0000:01:00.0, compute capability: 7.5\"\n",
      ", name: \"/device:GPU:1\"\n",
      "device_type: \"GPU\"\n",
      "memory_limit: 22904492544\n",
      "locality {\n",
      "  bus_id: 1\n",
      "  links {\n",
      "  }\n",
      "}\n",
      "incarnation: 1978220958027076894\n",
      "physical_device_desc: \"device: 1, name: TITAN RTX, pci bus id: 0000:03:00.0, compute capability: 7.5\"\n",
      "]\n"
     ]
    }
   ],
   "source": [
    "from tensorflow.python.client import device_lib\n",
    "print(device_lib.list_local_devices())\n",
    "\n",
    "\n",
    "# 출처: https://3months.tistory.com/206 [Deep Play]"
   ]
  },
  {
   "cell_type": "code",
   "execution_count": 3,
   "metadata": {},
   "outputs": [],
   "source": [
    "workdir = \"D://ResNetIC50//Dataset//MEYODC-6K\""
   ]
  },
  {
   "cell_type": "code",
   "execution_count": 4,
   "metadata": {},
   "outputs": [],
   "source": [
    "# < Important note > [ Please download input data from https://mega.nz/#F!CeYGDKyS!uqkmWJ4E2XSGJp_C2VO2gg]\n",
    "\n",
    "dataset = np.load(workdir + \"//MEYODC6K_dataset.npz\") # input file\n",
    "ss0 = np.load(workdir + '//MEYODC6K_dataset_r0.npz') # split for training and test"
   ]
  },
  {
   "cell_type": "code",
   "execution_count": 5,
   "metadata": {},
   "outputs": [],
   "source": [
    "x = dataset['x']\n",
    "y = dataset['y']\n",
    "# y_linear = dataset['y_lnIC50']\n",
    "ss0_train = ss0['train']\n",
    "ss0_test = ss0['test']"
   ]
  },
  {
   "cell_type": "code",
   "execution_count": 6,
   "metadata": {},
   "outputs": [],
   "source": [
    "training_image_array, training_label_array = x[ss0_train], y[ss0_train]\n",
    "test_image_array, test_label_array = x[ss0_test], y[ss0_test]\n",
    "\n",
    "# # In[9]:\n",
    "# ori = training_image_array\n",
    "# bat = np.zeros((ori.shape[0],178))\n",
    "# cat = np.hstack([ori,bat])\n",
    "# training_image_array = cat\n",
    "\n",
    "# # In[8]:\n",
    "# training_image_array.shape\n",
    "\n",
    "# # In[10]:\n",
    "# ori2 = test_image_array\n",
    "# bat2 = np.zeros((ori2.shape[0],178))\n",
    "# cat2 = np.hstack([ori2,bat2])\n",
    "# test_image_array = cat2\n"
   ]
  },
  {
   "cell_type": "code",
   "execution_count": 7,
   "metadata": {},
   "outputs": [
    {
     "name": "stdout",
     "output_type": "stream",
     "text": [
      "0 21\n"
     ]
    }
   ],
   "source": [
    "# In[15]:\n",
    "ab =[]\n",
    "for i in range(100,300):\n",
    "    ab.append(len(training_image_array) % i)\n",
    "    \n",
    "print(min(ab), ab.index(min(ab)))"
   ]
  },
  {
   "cell_type": "code",
   "execution_count": 8,
   "metadata": {},
   "outputs": [
    {
     "data": {
      "text/plain": [
       "(6050, 79724)"
      ]
     },
     "execution_count": 8,
     "metadata": {},
     "output_type": "execute_result"
    }
   ],
   "source": [
    "x.shape"
   ]
  },
  {
   "cell_type": "code",
   "execution_count": 9,
   "metadata": {},
   "outputs": [
    {
     "data": {
      "text/plain": [
       "(5445, 79724)"
      ]
     },
     "execution_count": 9,
     "metadata": {},
     "output_type": "execute_result"
    }
   ],
   "source": [
    "training_image_array.shape"
   ]
  },
  {
   "cell_type": "code",
   "execution_count": 10,
   "metadata": {},
   "outputs": [],
   "source": [
    "# In[21]:\n",
    "\n",
    "num_classes = 1\n",
    "learning_rate = 0.0002\n",
    "training_epochs = 150\n",
    "batch_size = 100\n",
    "# img_rows, img_cols = 154, 154\n"
   ]
  },
  {
   "cell_type": "code",
   "execution_count": 11,
   "metadata": {},
   "outputs": [],
   "source": [
    "train_X, train_y, test_X, test_y = training_image_array, training_label_array, test_image_array, test_label_array\n",
    "\n",
    "# if K.image_data_format() == 'channels_first':\n",
    "#     train_X = train_X.reshape(train_X.shape[0], 1, img_rows, img_cols)\n",
    "#     test_X = test_X.reshape(x_test.shape[0], 1, img_rows, img_cols)\n",
    "#     input_shape = (1, img_rows, img_cols)\n",
    "# else:\n",
    "#     train_X = train_X.reshape(train_X.shape[0], img_rows, img_cols, 1)\n",
    "#     test_X = test_X.reshape(test_X.shape[0], img_rows, img_cols, 1)\n",
    "#     input_shape = (img_rows, img_cols, 1)\n"
   ]
  },
  {
   "cell_type": "code",
   "execution_count": 12,
   "metadata": {},
   "outputs": [],
   "source": [
    "train_X = train_X.reshape(train_X.shape[0], train_X.shape[1],1)\n",
    "test_X = test_X.reshape(test_X.shape[0], test_X.shape[1],1)\n",
    "#input_shape = (img_rows, img_cols, 1)"
   ]
  },
  {
   "cell_type": "code",
   "execution_count": 13,
   "metadata": {},
   "outputs": [
    {
     "name": "stdout",
     "output_type": "stream",
     "text": [
      "(5445, 79724, 1) (5445,) (605, 79724, 1) (605,)\n"
     ]
    }
   ],
   "source": [
    "print(train_X.shape, train_y.shape, test_X.shape, test_y.shape)"
   ]
  },
  {
   "cell_type": "code",
   "execution_count": 14,
   "metadata": {},
   "outputs": [
    {
     "name": "stdout",
     "output_type": "stream",
     "text": [
      "train_X shape: (5445, 79724, 1)\n",
      "5445 train samples\n",
      "605 test samples\n"
     ]
    }
   ],
   "source": [
    "train_X = train_X.astype('float32')\n",
    "test_X = test_X.astype('float32')\n",
    "# train_X /= 255\n",
    "# test_X /= 255\n",
    "print('train_X shape:', train_X.shape)\n",
    "print(train_X.shape[0], 'train samples')\n",
    "print(test_X.shape[0], 'test samples')"
   ]
  },
  {
   "cell_type": "code",
   "execution_count": 15,
   "metadata": {},
   "outputs": [
    {
     "data": {
      "text/plain": [
       "(5445, 79724)"
      ]
     },
     "execution_count": 15,
     "metadata": {},
     "output_type": "execute_result"
    }
   ],
   "source": [
    "training_image_array.shape"
   ]
  },
  {
   "cell_type": "code",
   "execution_count": 16,
   "metadata": {
    "scrolled": true
   },
   "outputs": [
    {
     "name": "stdout",
     "output_type": "stream",
     "text": [
      "Model: \"Test_v2_DNN20190327\"\n",
      "__________________________________________________________________________________________________\n",
      "Layer (type)                    Output Shape         Param #     Connected to                     \n",
      "==================================================================================================\n",
      "inputs (InputLayer)             [(None, 79724, 1)]   0                                            \n",
      "__________________________________________________________________________________________________\n",
      "conv1d (Conv1D)                 (None, 39862, 16)    64          inputs[0][0]                     \n",
      "__________________________________________________________________________________________________\n",
      "max_pooling1d (MaxPooling1D)    (None, 7972, 16)     0           conv1d[0][0]                     \n",
      "__________________________________________________________________________________________________\n",
      "batch_normalization (BatchNorma (None, 7972, 16)     64          max_pooling1d[0][0]              \n",
      "__________________________________________________________________________________________________\n",
      "activation (Activation)         (None, 7972, 16)     0           batch_normalization[0][0]        \n",
      "__________________________________________________________________________________________________\n",
      "conv1d_1 (Conv1D)               (None, 7972, 16)     784         activation[0][0]                 \n",
      "__________________________________________________________________________________________________\n",
      "batch_normalization_1 (BatchNor (None, 7972, 16)     64          conv1d_1[0][0]                   \n",
      "__________________________________________________________________________________________________\n",
      "activation_1 (Activation)       (None, 7972, 16)     0           batch_normalization_1[0][0]      \n",
      "__________________________________________________________________________________________________\n",
      "conv1d_2 (Conv1D)               (None, 7972, 16)     784         activation_1[0][0]               \n",
      "__________________________________________________________________________________________________\n",
      "batch_normalization_2 (BatchNor (None, 7972, 16)     64          conv1d_2[0][0]                   \n",
      "__________________________________________________________________________________________________\n",
      "activation_2 (Activation)       (None, 7972, 16)     0           batch_normalization_2[0][0]      \n",
      "__________________________________________________________________________________________________\n",
      "conv1d_3 (Conv1D)               (None, 7972, 16)     784         activation_2[0][0]               \n",
      "__________________________________________________________________________________________________\n",
      "batch_normalization_3 (BatchNor (None, 7972, 16)     64          conv1d_3[0][0]                   \n",
      "__________________________________________________________________________________________________\n",
      "add (Add)                       (None, 7972, 16)     0           batch_normalization_3[0][0]      \n",
      "                                                                 batch_normalization_1[0][0]      \n",
      "__________________________________________________________________________________________________\n",
      "activation_3 (Activation)       (None, 7972, 16)     0           add[0][0]                        \n",
      "__________________________________________________________________________________________________\n",
      "conv1d_4 (Conv1D)               (None, 7972, 16)     784         activation_3[0][0]               \n",
      "__________________________________________________________________________________________________\n",
      "batch_normalization_4 (BatchNor (None, 7972, 16)     64          conv1d_4[0][0]                   \n",
      "__________________________________________________________________________________________________\n",
      "activation_4 (Activation)       (None, 7972, 16)     0           batch_normalization_4[0][0]      \n",
      "__________________________________________________________________________________________________\n",
      "conv1d_5 (Conv1D)               (None, 7972, 16)     784         activation_4[0][0]               \n",
      "__________________________________________________________________________________________________\n",
      "batch_normalization_5 (BatchNor (None, 7972, 16)     64          conv1d_5[0][0]                   \n",
      "__________________________________________________________________________________________________\n",
      "activation_5 (Activation)       (None, 7972, 16)     0           batch_normalization_5[0][0]      \n",
      "__________________________________________________________________________________________________\n",
      "conv1d_6 (Conv1D)               (None, 7972, 16)     784         activation_5[0][0]               \n",
      "__________________________________________________________________________________________________\n",
      "batch_normalization_6 (BatchNor (None, 7972, 16)     64          conv1d_6[0][0]                   \n",
      "__________________________________________________________________________________________________\n",
      "activation_6 (Activation)       (None, 7972, 16)     0           batch_normalization_6[0][0]      \n",
      "__________________________________________________________________________________________________\n",
      "conv1d_7 (Conv1D)               (None, 7972, 16)     784         activation_6[0][0]               \n",
      "__________________________________________________________________________________________________\n",
      "batch_normalization_7 (BatchNor (None, 7972, 16)     64          conv1d_7[0][0]                   \n",
      "__________________________________________________________________________________________________\n",
      "add_1 (Add)                     (None, 7972, 16)     0           batch_normalization_7[0][0]      \n",
      "                                                                 batch_normalization_4[0][0]      \n",
      "__________________________________________________________________________________________________\n",
      "activation_7 (Activation)       (None, 7972, 16)     0           add_1[0][0]                      \n",
      "__________________________________________________________________________________________________\n",
      "conv1d_8 (Conv1D)               (None, 3986, 32)     1568        activation_7[0][0]               \n",
      "__________________________________________________________________________________________________\n",
      "batch_normalization_8 (BatchNor (None, 3986, 32)     128         conv1d_8[0][0]                   \n",
      "__________________________________________________________________________________________________\n",
      "activation_8 (Activation)       (None, 3986, 32)     0           batch_normalization_8[0][0]      \n",
      "__________________________________________________________________________________________________\n",
      "conv1d_9 (Conv1D)               (None, 3986, 32)     3104        activation_8[0][0]               \n",
      "__________________________________________________________________________________________________\n",
      "conv1d_10 (Conv1D)              (None, 3986, 32)     3104        conv1d_9[0][0]                   \n",
      "__________________________________________________________________________________________________\n",
      "batch_normalization_9 (BatchNor (None, 3986, 32)     128         conv1d_10[0][0]                  \n",
      "__________________________________________________________________________________________________\n",
      "add_2 (Add)                     (None, 3986, 32)     0           batch_normalization_9[0][0]      \n",
      "                                                                 batch_normalization_8[0][0]      \n",
      "__________________________________________________________________________________________________\n",
      "activation_9 (Activation)       (None, 3986, 32)     0           add_2[0][0]                      \n",
      "__________________________________________________________________________________________________\n",
      "conv1d_11 (Conv1D)              (None, 3986, 32)     3104        activation_9[0][0]               \n",
      "__________________________________________________________________________________________________\n",
      "batch_normalization_10 (BatchNo (None, 3986, 32)     128         conv1d_11[0][0]                  \n",
      "__________________________________________________________________________________________________\n",
      "activation_10 (Activation)      (None, 3986, 32)     0           batch_normalization_10[0][0]     \n",
      "__________________________________________________________________________________________________\n",
      "conv1d_12 (Conv1D)              (None, 3986, 32)     3104        activation_10[0][0]              \n",
      "__________________________________________________________________________________________________\n",
      "batch_normalization_11 (BatchNo (None, 3986, 32)     128         conv1d_12[0][0]                  \n",
      "__________________________________________________________________________________________________\n",
      "add_3 (Add)                     (None, 3986, 32)     0           batch_normalization_11[0][0]     \n",
      "                                                                 batch_normalization_10[0][0]     \n",
      "__________________________________________________________________________________________________\n",
      "activation_11 (Activation)      (None, 3986, 32)     0           add_3[0][0]                      \n",
      "__________________________________________________________________________________________________\n",
      "conv1d_13 (Conv1D)              (None, 3986, 32)     3104        activation_11[0][0]              \n",
      "__________________________________________________________________________________________________\n",
      "batch_normalization_12 (BatchNo (None, 3986, 32)     128         conv1d_13[0][0]                  \n",
      "__________________________________________________________________________________________________\n",
      "activation_12 (Activation)      (None, 3986, 32)     0           batch_normalization_12[0][0]     \n",
      "__________________________________________________________________________________________________\n",
      "conv1d_14 (Conv1D)              (None, 3986, 32)     3104        activation_12[0][0]              \n",
      "__________________________________________________________________________________________________\n",
      "batch_normalization_13 (BatchNo (None, 3986, 32)     128         conv1d_14[0][0]                  \n",
      "__________________________________________________________________________________________________\n",
      "add_4 (Add)                     (None, 3986, 32)     0           batch_normalization_13[0][0]     \n",
      "                                                                 batch_normalization_12[0][0]     \n",
      "__________________________________________________________________________________________________\n",
      "activation_13 (Activation)      (None, 3986, 32)     0           add_4[0][0]                      \n",
      "__________________________________________________________________________________________________\n",
      "conv1d_15 (Conv1D)              (None, 1993, 64)     6208        activation_13[0][0]              \n",
      "__________________________________________________________________________________________________\n",
      "batch_normalization_14 (BatchNo (None, 1993, 64)     256         conv1d_15[0][0]                  \n",
      "__________________________________________________________________________________________________\n",
      "activation_14 (Activation)      (None, 1993, 64)     0           batch_normalization_14[0][0]     \n",
      "__________________________________________________________________________________________________\n",
      "conv1d_16 (Conv1D)              (None, 1993, 64)     12352       activation_14[0][0]              \n",
      "__________________________________________________________________________________________________\n",
      "conv1d_17 (Conv1D)              (None, 1993, 64)     12352       conv1d_16[0][0]                  \n",
      "__________________________________________________________________________________________________\n",
      "batch_normalization_15 (BatchNo (None, 1993, 64)     256         conv1d_17[0][0]                  \n",
      "__________________________________________________________________________________________________\n",
      "add_5 (Add)                     (None, 1993, 64)     0           batch_normalization_15[0][0]     \n",
      "                                                                 batch_normalization_14[0][0]     \n",
      "__________________________________________________________________________________________________\n",
      "activation_15 (Activation)      (None, 1993, 64)     0           add_5[0][0]                      \n",
      "__________________________________________________________________________________________________\n",
      "conv1d_18 (Conv1D)              (None, 1993, 64)     12352       activation_15[0][0]              \n",
      "__________________________________________________________________________________________________\n",
      "batch_normalization_16 (BatchNo (None, 1993, 64)     256         conv1d_18[0][0]                  \n",
      "__________________________________________________________________________________________________\n",
      "activation_16 (Activation)      (None, 1993, 64)     0           batch_normalization_16[0][0]     \n",
      "__________________________________________________________________________________________________\n",
      "conv1d_19 (Conv1D)              (None, 1993, 64)     12352       activation_16[0][0]              \n",
      "__________________________________________________________________________________________________\n",
      "batch_normalization_17 (BatchNo (None, 1993, 64)     256         conv1d_19[0][0]                  \n",
      "__________________________________________________________________________________________________\n",
      "add_6 (Add)                     (None, 1993, 64)     0           batch_normalization_17[0][0]     \n",
      "                                                                 batch_normalization_16[0][0]     \n",
      "__________________________________________________________________________________________________\n",
      "activation_17 (Activation)      (None, 1993, 64)     0           add_6[0][0]                      \n",
      "__________________________________________________________________________________________________\n",
      "conv1d_20 (Conv1D)              (None, 1993, 64)     12352       activation_17[0][0]              \n",
      "__________________________________________________________________________________________________\n",
      "batch_normalization_18 (BatchNo (None, 1993, 64)     256         conv1d_20[0][0]                  \n",
      "__________________________________________________________________________________________________\n",
      "activation_18 (Activation)      (None, 1993, 64)     0           batch_normalization_18[0][0]     \n",
      "__________________________________________________________________________________________________\n",
      "conv1d_21 (Conv1D)              (None, 1993, 64)     12352       activation_18[0][0]              \n",
      "__________________________________________________________________________________________________\n",
      "batch_normalization_19 (BatchNo (None, 1993, 64)     256         conv1d_21[0][0]                  \n",
      "__________________________________________________________________________________________________\n",
      "add_7 (Add)                     (None, 1993, 64)     0           batch_normalization_19[0][0]     \n",
      "                                                                 batch_normalization_18[0][0]     \n",
      "__________________________________________________________________________________________________\n",
      "activation_19 (Activation)      (None, 1993, 64)     0           add_7[0][0]                      \n",
      "__________________________________________________________________________________________________\n",
      "flatten (Flatten)               (None, 127552)       0           activation_19[0][0]              \n",
      "__________________________________________________________________________________________________\n",
      "dense1 (Dense)                  (None, 2048)         261228544   flatten[0][0]                    \n",
      "__________________________________________________________________________________________________\n",
      "batch_normalization_20 (BatchNo (None, 2048)         8192        dense1[0][0]                     \n",
      "__________________________________________________________________________________________________\n",
      "dropout1 (Dropout)              (None, 2048)         0           batch_normalization_20[0][0]     \n",
      "__________________________________________________________________________________________________\n",
      "activation_20 (Activation)      (None, 2048)         0           dropout1[0][0]                   \n",
      "__________________________________________________________________________________________________\n",
      "dense5 (Dense)                  (None, 1024)         2098176     activation_20[0][0]              \n",
      "__________________________________________________________________________________________________\n",
      "batch_normalization_21 (BatchNo (None, 1024)         4096        dense5[0][0]                     \n",
      "__________________________________________________________________________________________________\n",
      "dropout5 (Dropout)              (None, 1024)         0           batch_normalization_21[0][0]     \n",
      "__________________________________________________________________________________________________\n",
      "activation_21 (Activation)      (None, 1024)         0           dropout5[0][0]                   \n",
      "__________________________________________________________________________________________________\n",
      "dense6 (Dense)                  (None, 512)          524800      activation_21[0][0]              \n",
      "__________________________________________________________________________________________________\n",
      "batch_normalization_22 (BatchNo (None, 512)          2048        dense6[0][0]                     \n",
      "__________________________________________________________________________________________________\n",
      "dropout6 (Dropout)              (None, 512)          0           batch_normalization_22[0][0]     \n",
      "__________________________________________________________________________________________________\n",
      "activation_22 (Activation)      (None, 512)          0           dropout6[0][0]                   \n",
      "__________________________________________________________________________________________________\n",
      "dense7 (Dense)                  (None, 1024)         525312      activation_22[0][0]              \n",
      "__________________________________________________________________________________________________\n",
      "batch_normalization_23 (BatchNo (None, 1024)         4096        dense7[0][0]                     \n",
      "__________________________________________________________________________________________________\n",
      "dropout7 (Dropout)              (None, 1024)         0           batch_normalization_23[0][0]     \n",
      "__________________________________________________________________________________________________\n",
      "add_8 (Add)                     (None, 1024)         0           dropout7[0][0]                   \n",
      "                                                                 batch_normalization_21[0][0]     \n",
      "__________________________________________________________________________________________________\n",
      "activation_23 (Activation)      (None, 1024)         0           add_8[0][0]                      \n",
      "__________________________________________________________________________________________________\n",
      "dense8 (Dense)                  (None, 512)          524800      activation_23[0][0]              \n",
      "__________________________________________________________________________________________________\n",
      "batch_normalization_24 (BatchNo (None, 512)          2048        dense8[0][0]                     \n",
      "__________________________________________________________________________________________________\n",
      "dropout8 (Dropout)              (None, 512)          0           batch_normalization_24[0][0]     \n",
      "__________________________________________________________________________________________________\n",
      "activation_24 (Activation)      (None, 512)          0           dropout8[0][0]                   \n",
      "__________________________________________________________________________________________________\n",
      "dense9 (Dense)                  (None, 256)          131328      activation_24[0][0]              \n",
      "__________________________________________________________________________________________________\n",
      "batch_normalization_25 (BatchNo (None, 256)          1024        dense9[0][0]                     \n",
      "__________________________________________________________________________________________________\n",
      "dropout9 (Dropout)              (None, 256)          0           batch_normalization_25[0][0]     \n",
      "__________________________________________________________________________________________________\n",
      "activation_25 (Activation)      (None, 256)          0           dropout9[0][0]                   \n",
      "__________________________________________________________________________________________________\n",
      "dense10 (Dense)                 (None, 128)          32896       activation_25[0][0]              \n",
      "__________________________________________________________________________________________________\n",
      "batch_normalization_26 (BatchNo (None, 128)          512         dense10[0][0]                    \n",
      "__________________________________________________________________________________________________\n",
      "dropout10 (Dropout)             (None, 128)          0           batch_normalization_26[0][0]     \n",
      "__________________________________________________________________________________________________\n",
      "activation_26 (Activation)      (None, 128)          0           dropout10[0][0]                  \n",
      "__________________________________________________________________________________________________\n",
      "predictions (Dense)             (None, 1)            129         activation_26[0][0]              \n",
      "==================================================================================================\n",
      "Total params: 265,196,881\n",
      "Trainable params: 265,184,465\n",
      "Non-trainable params: 12,416\n",
      "__________________________________________________________________________________________________\n"
     ]
    }
   ],
   "source": [
    "# In[10]:\n",
    "with tf.device('/GPU:0'):\n",
    "    inputs = Input(shape=(train_X.shape[1],1),name='inputs')\n",
    "\n",
    "    x = Conv1D(16, kernel_size=3, strides=2, padding=\"same\")(inputs)\n",
    "    x = MaxPooling1D(pool_size=5)(x)\n",
    "    x = BatchNormalization()(x)\n",
    "#     y = x\n",
    "    x = Activation('tanh')(x)\n",
    "\n",
    "    x = Conv1D(16, kernel_size=3, strides=1, padding=\"same\")(x)\n",
    "#     x = MaxPooling1D(pool_size=5)(x)\n",
    "    x = BatchNormalization()(x)\n",
    "    y = x\n",
    "    x = Activation('relu')(x)\n",
    "\n",
    "    x = Conv1D(16, kernel_size=3, strides=1, padding=\"same\")(x)\n",
    "#     x = MaxPooling1D(pool_size=5)(x)\n",
    "    x = BatchNormalization()(x)\n",
    "    x = Activation('relu')(x)\n",
    "\n",
    "    x = Conv1D(16, kernel_size=3, strides=1, padding=\"same\")(x)\n",
    "#     x = MaxPooling1D(pool_size=5)(x)\n",
    "    x = BatchNormalization()(x)\n",
    "    x = tf.keras.layers.add([x,y])\n",
    "    x = Activation('relu')(x)\n",
    "\n",
    "    \n",
    "    x = Conv1D(16, kernel_size=3, strides=1, padding=\"same\")(x)\n",
    "#     x = MaxPooling1D(pool_size=5)(x)\n",
    "    x = BatchNormalization()(x)\n",
    "    y = x\n",
    "    x = Activation('relu')(x)\n",
    "    \n",
    "    \n",
    "    x = Conv1D(16, kernel_size=3, strides=1, padding=\"same\")(x)\n",
    "#     x = MaxPooling1D(pool_size=5)(x)\n",
    "    x = BatchNormalization()(x)\n",
    "    x = Activation('relu')(x)\n",
    "\n",
    "    x = Conv1D(16, kernel_size=3, strides=1, padding=\"same\")(x)\n",
    "#     x = MaxPooling1D(pool_size=5)(x)\n",
    "    x = BatchNormalization()(x)\n",
    "    x = Activation('relu')(x)\n",
    "\n",
    "    \n",
    "    x = Conv1D(16, kernel_size=3, strides=1, padding=\"same\")(x)\n",
    "#     x = MaxPooling1D(pool_size=5)(x)\n",
    "    x = BatchNormalization()(x)\n",
    "    x = tf.keras.layers.add([x,y])\n",
    "    x = Activation('relu')(x)\n",
    "    \n",
    "    x = Conv1D(32, kernel_size=3, strides=2, padding=\"same\")(x)\n",
    "#     x = MaxPooling1D(pool_size=5)(x)\n",
    "    x = BatchNormalization()(x)\n",
    "    y = x\n",
    "    x = Activation('relu')(x)\n",
    "\n",
    "    x = Conv1D(32, kernel_size=3, strides=1, padding=\"same\")(x)\n",
    "#     x = MaxPooling1D(pool_size=5)(x)\n",
    "#     x = BatchNormalization()(x)\n",
    "        \n",
    "    x = Conv1D(32, kernel_size=3, strides=1, padding=\"same\")(x)\n",
    "#     x = MaxPooling1D(pool_size=5)(x)\n",
    "    x = BatchNormalization()(x)\n",
    "    x = tf.keras.layers.add([x,y])\n",
    "    x = Activation('relu')(x)\n",
    "    \n",
    "        \n",
    "    x = Conv1D(32, kernel_size=3, strides=1, padding=\"same\")(x)\n",
    "#     x = MaxPooling1D(pool_size=5)(x)\n",
    "    x = BatchNormalization()(x)\n",
    "    y = x\n",
    "    x = Activation('relu')(x)\n",
    "\n",
    "    x = Conv1D(32, kernel_size=3, strides=1, padding=\"same\")(x)\n",
    "#     x = MaxPooling1D(pool_size=5)(x)\n",
    "    x = BatchNormalization()(x)\n",
    "    x = tf.keras.layers.add([x,y])\n",
    "    x = Activation('relu')(x)\n",
    "\n",
    "    x = Conv1D(32, kernel_size=3, strides=1, padding=\"same\")(x)\n",
    "#     x = MaxPooling1D(pool_size=5)(x)\n",
    "    x = BatchNormalization()(x)\n",
    "    y = x\n",
    "    x = Activation('relu')(x)\n",
    "\n",
    "    x = Conv1D(32, kernel_size=3, strides=1, padding=\"same\")(x)\n",
    "#     x = MaxPooling1D(pool_size=5)(x)\n",
    "    x = BatchNormalization()(x)\n",
    "    x = tf.keras.layers.add([x,y])\n",
    "    x = Activation('relu')(x)\n",
    "\n",
    "    x = Conv1D(64, kernel_size=3, strides=2, padding=\"same\")(x)\n",
    "#     x = MaxPooling1D(pool_size=5)(x)\n",
    "    x = BatchNormalization()(x)\n",
    "    y = x\n",
    "    x = Activation('relu')(x)\n",
    "\n",
    "    x = Conv1D(64, kernel_size=3, strides=1, padding=\"same\")(x)\n",
    "#     x = MaxPooling1D(pool_size=5)(x)\n",
    "#     x = BatchNormalization()(x)\n",
    "        \n",
    "    x = Conv1D(64, kernel_size=3, strides=1, padding=\"same\")(x)\n",
    "#     x = MaxPooling1D(pool_size=5)(x)\n",
    "    x = BatchNormalization()(x)\n",
    "    x = tf.keras.layers.add([x,y])\n",
    "    x = Activation('relu')(x)\n",
    "    \n",
    "        \n",
    "    x = Conv1D(64, kernel_size=3, strides=1, padding=\"same\")(x)\n",
    "#     x = MaxPooling1D(pool_size=5)(x)\n",
    "    x = BatchNormalization()(x)\n",
    "    y = x\n",
    "    x = Activation('relu')(x)\n",
    "\n",
    "    x = Conv1D(64, kernel_size=3, strides=1, padding=\"same\")(x)\n",
    "#     x = MaxPooling1D(pool_size=5)(x)\n",
    "    x = BatchNormalization()(x)\n",
    "    x = tf.keras.layers.add([x,y])\n",
    "    x = Activation('relu')(x)\n",
    "\n",
    "    x = Conv1D(64, kernel_size=3, strides=1, padding=\"same\")(x)\n",
    "#     x = MaxPooling1D(pool_size=5)(x)\n",
    "    x = BatchNormalization()(x)\n",
    "    y = x\n",
    "    x = Activation('relu')(x)\n",
    "\n",
    "    x = Conv1D(64, kernel_size=3, strides=1, padding=\"same\")(x)\n",
    "#     x = MaxPooling1D(pool_size=5)(x)\n",
    "    x = BatchNormalization()(x)\n",
    "    x = tf.keras.layers.add([x,y])\n",
    "    x = Activation('relu')(x)\n",
    "\n",
    "#     x = AveragePooling1D(pool_size=8)(x)\n",
    "    x = Flatten()(x)\n",
    "    x = Dense(units=2048, name='dense1'  ) (x)\n",
    "    x = BatchNormalization()(x)\n",
    "    x = Dropout(0.1, name='dropout1') (x)\n",
    "    x = Activation('relu')(x)\n",
    "\n",
    "#    x = Reshape((300,1))(x)\n",
    "\n",
    "#    x = Conv1D(30, kernel_size=150, strides=1, activation = 'relu')(x)\n",
    "#    x = MaxPooling1D(pool_size=2)(x)\n",
    "#    x = BatchNormalization()(x)\n",
    "\n",
    "    x = Dense(units=1024, name='dense5'  ) (x)\n",
    "    x = BatchNormalization()(x)\n",
    "    y = x\n",
    "    x = Dropout(0.1, name='dropout5') (x)\n",
    "    x = Activation('relu')(x)\n",
    "\n",
    "    x = Dense(units=512, name='dense6'  ) (x)\n",
    "    x = BatchNormalization()(x)\n",
    "    x = Dropout(0.1, name='dropout6') (x)\n",
    "    x = Activation('relu')(x)\n",
    "\n",
    "    x = Dense(units=1024, name='dense7'  ) (x)\n",
    "    x = BatchNormalization()(x)\n",
    "    x = Dropout(0.1, name='dropout7') (x)\n",
    "    x = tf.keras.layers.add([x,y])\n",
    "    x = Activation('relu')(x)\n",
    "    \n",
    "    x = Dense(units=512, name='dense8'  ) (x)\n",
    "    x = BatchNormalization()(x)\n",
    "    x = Dropout(0.1, name='dropout8') (x)\n",
    "    x = Activation('relu')(x)\n",
    "    \n",
    "    x = Dense(units=256, name='dense9'  ) (x)\n",
    "    x = BatchNormalization()(x)\n",
    "    x = Dropout(0.1, name='dropout9') (x)\n",
    "    x = Activation('relu')(x)\n",
    "\n",
    "    x = Dense(units=128, name='dense10'  ) (x)\n",
    "    x = BatchNormalization()(x)\n",
    "    y = x\n",
    "    x = Dropout(0.1, name='dropout10') (x)\n",
    "    x = Activation('relu')(x)\n",
    "\n",
    "\n",
    "    predictions = Dense(1, activation='linear', name='predictions', kernel_initializer='he_normal')(x)\n",
    "#     predictions = Dense(1, activation='linear', name='predictions')(x)\n",
    "\n",
    "    \n",
    "\n",
    "    model = Model(inputs=inputs, outputs=predictions, name='Test_v2_DNN20190327')\n",
    "    model.compile(loss=tf.keras.losses.mean_squared_error,\n",
    "                  optimizer=tf.keras.optimizers.Adam(learning_rate),\n",
    "                  metrics=['mse','mae'])\n",
    "\n",
    "\n",
    "    model.summary()\n"
   ]
  },
  {
   "cell_type": "code",
   "execution_count": 17,
   "metadata": {
    "scrolled": true
   },
   "outputs": [
    {
     "name": "stdout",
     "output_type": "stream",
     "text": [
      "StartTime : 2022-02-04 09:34:53.738280\n",
      "Epoch 1/150\n",
      "55/55 [==============================] - 19s 255ms/step - loss: 4.7173 - mse: 4.7173 - mae: 1.8169 - val_loss: 7.6752 - val_mse: 7.6752 - val_mae: 2.6172\n",
      "Epoch 2/150\n",
      "55/55 [==============================] - 13s 241ms/step - loss: 1.7483 - mse: 1.7483 - mae: 0.9741 - val_loss: 4.8483 - val_mse: 4.8483 - val_mae: 2.0200\n",
      "Epoch 3/150\n",
      "55/55 [==============================] - 13s 236ms/step - loss: 1.3404 - mse: 1.3404 - mae: 0.8157 - val_loss: 3.4844 - val_mse: 3.4844 - val_mae: 1.3793\n",
      "Epoch 4/150\n",
      "55/55 [==============================] - 13s 234ms/step - loss: 1.0920 - mse: 1.0920 - mae: 0.7278 - val_loss: 3.7991 - val_mse: 3.7991 - val_mae: 1.2016\n",
      "Epoch 5/150\n",
      "55/55 [==============================] - 13s 234ms/step - loss: 0.9560 - mse: 0.9560 - mae: 0.6768 - val_loss: 4.0025 - val_mse: 4.0025 - val_mae: 1.1433\n",
      "Epoch 6/150\n",
      "55/55 [==============================] - 13s 235ms/step - loss: 0.7828 - mse: 0.7828 - mae: 0.6170 - val_loss: 2.8308 - val_mse: 2.8308 - val_mae: 1.0324\n",
      "Epoch 7/150\n",
      "55/55 [==============================] - 13s 234ms/step - loss: 0.7231 - mse: 0.7231 - mae: 0.5995 - val_loss: 1.1438 - val_mse: 1.1438 - val_mae: 0.7221\n",
      "Epoch 8/150\n",
      "55/55 [==============================] - 13s 235ms/step - loss: 0.6689 - mse: 0.6689 - mae: 0.5750 - val_loss: 1.1051 - val_mse: 1.1051 - val_mae: 0.6897\n",
      "Epoch 9/150\n",
      "55/55 [==============================] - 13s 235ms/step - loss: 0.5944 - mse: 0.5944 - mae: 0.5334 - val_loss: 0.7929 - val_mse: 0.7929 - val_mae: 0.5780\n",
      "Epoch 10/150\n",
      "55/55 [==============================] - 13s 236ms/step - loss: 0.5450 - mse: 0.5450 - mae: 0.5162 - val_loss: 0.7454 - val_mse: 0.7454 - val_mae: 0.5453\n",
      "Epoch 11/150\n",
      "55/55 [==============================] - 13s 235ms/step - loss: 0.5579 - mse: 0.5579 - mae: 0.5243 - val_loss: 0.7745 - val_mse: 0.7745 - val_mae: 0.5732\n",
      "Epoch 12/150\n",
      "55/55 [==============================] - 13s 236ms/step - loss: 0.5321 - mse: 0.5321 - mae: 0.5177 - val_loss: 0.7409 - val_mse: 0.7409 - val_mae: 0.5456\n",
      "Epoch 13/150\n",
      "55/55 [==============================] - 13s 236ms/step - loss: 0.4929 - mse: 0.4929 - mae: 0.5072 - val_loss: 0.7329 - val_mse: 0.7329 - val_mae: 0.5630\n",
      "Epoch 14/150\n",
      "55/55 [==============================] - 13s 235ms/step - loss: 0.4543 - mse: 0.4543 - mae: 0.4803 - val_loss: 0.7066 - val_mse: 0.7066 - val_mae: 0.5293\n",
      "Epoch 15/150\n",
      "55/55 [==============================] - 13s 236ms/step - loss: 0.4222 - mse: 0.4222 - mae: 0.4677 - val_loss: 0.7575 - val_mse: 0.7575 - val_mae: 0.5554\n",
      "Epoch 16/150\n",
      "55/55 [==============================] - 13s 236ms/step - loss: 0.3827 - mse: 0.3827 - mae: 0.4481 - val_loss: 0.8036 - val_mse: 0.8036 - val_mae: 0.5583\n",
      "Epoch 17/150\n",
      "55/55 [==============================] - 13s 237ms/step - loss: 0.3678 - mse: 0.3678 - mae: 0.4297 - val_loss: 0.8291 - val_mse: 0.8291 - val_mae: 0.5794\n",
      "Epoch 18/150\n",
      "55/55 [==============================] - 13s 237ms/step - loss: 0.3578 - mse: 0.3578 - mae: 0.4317 - val_loss: 0.7806 - val_mse: 0.7806 - val_mae: 0.5489\n",
      "Epoch 19/150\n",
      "55/55 [==============================] - 13s 238ms/step - loss: 0.3129 - mse: 0.3129 - mae: 0.4075 - val_loss: 0.7279 - val_mse: 0.7279 - val_mae: 0.5230\n",
      "Epoch 20/150\n",
      "55/55 [==============================] - 13s 238ms/step - loss: 0.2970 - mse: 0.2970 - mae: 0.3969 - val_loss: 0.8004 - val_mse: 0.8004 - val_mae: 0.5435\n",
      "Epoch 21/150\n",
      "55/55 [==============================] - 13s 237ms/step - loss: 0.2839 - mse: 0.2839 - mae: 0.3943 - val_loss: 0.7833 - val_mse: 0.7833 - val_mae: 0.5208\n",
      "Epoch 22/150\n",
      "55/55 [==============================] - 13s 237ms/step - loss: 0.2816 - mse: 0.2816 - mae: 0.3836 - val_loss: 0.7323 - val_mse: 0.7323 - val_mae: 0.5130\n",
      "Epoch 23/150\n",
      "55/55 [==============================] - 13s 237ms/step - loss: 0.2778 - mse: 0.2778 - mae: 0.3937 - val_loss: 0.7050 - val_mse: 0.7050 - val_mae: 0.5024\n",
      "Epoch 24/150\n",
      "55/55 [==============================] - 13s 237ms/step - loss: 0.2403 - mse: 0.2403 - mae: 0.3611 - val_loss: 0.7167 - val_mse: 0.7167 - val_mae: 0.4982\n",
      "Epoch 25/150\n",
      "55/55 [==============================] - 13s 238ms/step - loss: 0.2942 - mse: 0.2942 - mae: 0.3901 - val_loss: 0.7157 - val_mse: 0.7157 - val_mae: 0.4940\n",
      "Epoch 26/150\n",
      "55/55 [==============================] - 13s 237ms/step - loss: 0.2426 - mse: 0.2426 - mae: 0.3652 - val_loss: 0.6603 - val_mse: 0.6603 - val_mae: 0.4834\n",
      "Epoch 27/150\n",
      "55/55 [==============================] - 13s 237ms/step - loss: 0.2789 - mse: 0.2789 - mae: 0.3879 - val_loss: 0.7005 - val_mse: 0.7005 - val_mae: 0.4917\n",
      "Epoch 28/150\n",
      "55/55 [==============================] - 13s 238ms/step - loss: 0.2489 - mse: 0.2489 - mae: 0.3663 - val_loss: 0.7234 - val_mse: 0.7234 - val_mae: 0.5072\n",
      "Epoch 29/150\n",
      "55/55 [==============================] - 13s 238ms/step - loss: 0.2755 - mse: 0.2755 - mae: 0.3788 - val_loss: 0.7486 - val_mse: 0.7486 - val_mae: 0.4987\n",
      "Epoch 30/150\n",
      "55/55 [==============================] - 13s 238ms/step - loss: 0.2271 - mse: 0.2271 - mae: 0.3486 - val_loss: 0.8320 - val_mse: 0.8320 - val_mae: 0.5222\n",
      "Epoch 31/150\n",
      "55/55 [==============================] - 13s 238ms/step - loss: 0.2308 - mse: 0.2308 - mae: 0.3560 - val_loss: 0.6668 - val_mse: 0.6668 - val_mae: 0.4860\n",
      "Epoch 32/150\n",
      "55/55 [==============================] - 13s 238ms/step - loss: 0.2212 - mse: 0.2212 - mae: 0.3330 - val_loss: 0.6980 - val_mse: 0.6980 - val_mae: 0.4854\n",
      "Epoch 33/150\n",
      "55/55 [==============================] - 13s 238ms/step - loss: 0.2085 - mse: 0.2085 - mae: 0.3360 - val_loss: 0.6872 - val_mse: 0.6872 - val_mae: 0.4850\n",
      "Epoch 34/150\n",
      "55/55 [==============================] - 13s 238ms/step - loss: 0.2383 - mse: 0.2383 - mae: 0.3573 - val_loss: 0.6664 - val_mse: 0.6664 - val_mae: 0.4720\n",
      "Epoch 35/150\n",
      "55/55 [==============================] - 13s 238ms/step - loss: 0.2211 - mse: 0.2211 - mae: 0.3447 - val_loss: 0.6688 - val_mse: 0.6688 - val_mae: 0.4808\n",
      "Epoch 36/150\n",
      "55/55 [==============================] - 13s 237ms/step - loss: 0.2064 - mse: 0.2064 - mae: 0.3324 - val_loss: 0.6785 - val_mse: 0.6785 - val_mae: 0.4762\n",
      "Epoch 37/150\n",
      "55/55 [==============================] - 13s 238ms/step - loss: 0.2026 - mse: 0.2026 - mae: 0.3346 - val_loss: 0.6597 - val_mse: 0.6597 - val_mae: 0.4728\n",
      "Epoch 38/150\n",
      "55/55 [==============================] - 13s 238ms/step - loss: 0.1721 - mse: 0.1721 - mae: 0.3006 - val_loss: 0.7474 - val_mse: 0.7474 - val_mae: 0.4953\n",
      "Epoch 39/150\n",
      "55/55 [==============================] - 13s 241ms/step - loss: 0.2184 - mse: 0.2184 - mae: 0.3420 - val_loss: 0.6945 - val_mse: 0.6945 - val_mae: 0.4871\n",
      "Epoch 40/150\n",
      "55/55 [==============================] - 13s 241ms/step - loss: 0.1762 - mse: 0.1762 - mae: 0.3073 - val_loss: 0.7057 - val_mse: 0.7057 - val_mae: 0.4740\n",
      "Epoch 41/150\n",
      "55/55 [==============================] - 13s 241ms/step - loss: 0.1696 - mse: 0.1696 - mae: 0.3026 - val_loss: 0.6893 - val_mse: 0.6893 - val_mae: 0.4830\n",
      "Epoch 42/150\n",
      "55/55 [==============================] - 13s 241ms/step - loss: 0.1768 - mse: 0.1768 - mae: 0.3073 - val_loss: 0.7065 - val_mse: 0.7065 - val_mae: 0.4761\n",
      "Epoch 43/150\n",
      "55/55 [==============================] - 13s 240ms/step - loss: 0.1602 - mse: 0.1602 - mae: 0.2938 - val_loss: 0.7562 - val_mse: 0.7562 - val_mae: 0.4924\n",
      "Epoch 44/150\n",
      "55/55 [==============================] - 13s 241ms/step - loss: 0.1949 - mse: 0.1949 - mae: 0.3280 - val_loss: 0.7065 - val_mse: 0.7065 - val_mae: 0.4815\n",
      "Epoch 45/150\n",
      "55/55 [==============================] - 13s 241ms/step - loss: 0.1769 - mse: 0.1769 - mae: 0.3077 - val_loss: 0.6814 - val_mse: 0.6814 - val_mae: 0.4747\n",
      "Epoch 46/150\n",
      "55/55 [==============================] - 13s 240ms/step - loss: 0.2002 - mse: 0.2002 - mae: 0.3181 - val_loss: 0.7062 - val_mse: 0.7062 - val_mae: 0.4958\n",
      "Epoch 47/150\n",
      "55/55 [==============================] - 13s 240ms/step - loss: 0.1655 - mse: 0.1655 - mae: 0.2990 - val_loss: 0.6656 - val_mse: 0.6656 - val_mae: 0.4748\n",
      "Epoch 48/150\n",
      "55/55 [==============================] - 13s 240ms/step - loss: 0.1572 - mse: 0.1572 - mae: 0.2896 - val_loss: 0.6782 - val_mse: 0.6782 - val_mae: 0.4639\n",
      "Epoch 49/150\n",
      "55/55 [==============================] - 13s 241ms/step - loss: 0.1804 - mse: 0.1804 - mae: 0.3056 - val_loss: 0.7059 - val_mse: 0.7059 - val_mae: 0.4709\n"
     ]
    },
    {
     "name": "stdout",
     "output_type": "stream",
     "text": [
      "Epoch 50/150\n",
      "55/55 [==============================] - 13s 241ms/step - loss: 0.1606 - mse: 0.1606 - mae: 0.2937 - val_loss: 0.7189 - val_mse: 0.7189 - val_mae: 0.4734\n",
      "Epoch 51/150\n",
      "55/55 [==============================] - 13s 240ms/step - loss: 0.1651 - mse: 0.1651 - mae: 0.3001 - val_loss: 0.6929 - val_mse: 0.6929 - val_mae: 0.4754\n",
      "Epoch 52/150\n",
      "55/55 [==============================] - 13s 241ms/step - loss: 0.1438 - mse: 0.1438 - mae: 0.2783 - val_loss: 0.6791 - val_mse: 0.6791 - val_mae: 0.4676\n",
      "Epoch 53/150\n",
      "55/55 [==============================] - 13s 241ms/step - loss: 0.1730 - mse: 0.1730 - mae: 0.3030 - val_loss: 0.6883 - val_mse: 0.6883 - val_mae: 0.4635\n",
      "Epoch 54/150\n",
      "55/55 [==============================] - 13s 241ms/step - loss: 0.1436 - mse: 0.1436 - mae: 0.2790 - val_loss: 0.6657 - val_mse: 0.6657 - val_mae: 0.4683\n",
      "Epoch 55/150\n",
      "55/55 [==============================] - 13s 241ms/step - loss: 0.1455 - mse: 0.1455 - mae: 0.2848 - val_loss: 0.6534 - val_mse: 0.6534 - val_mae: 0.4593\n",
      "Epoch 56/150\n",
      "55/55 [==============================] - 13s 241ms/step - loss: 0.1402 - mse: 0.1402 - mae: 0.2715 - val_loss: 0.6824 - val_mse: 0.6824 - val_mae: 0.4688\n",
      "Epoch 57/150\n",
      "55/55 [==============================] - 13s 241ms/step - loss: 0.1435 - mse: 0.1435 - mae: 0.2797 - val_loss: 0.6786 - val_mse: 0.6786 - val_mae: 0.4756\n",
      "Epoch 58/150\n",
      "55/55 [==============================] - 13s 241ms/step - loss: 0.1661 - mse: 0.1661 - mae: 0.2944 - val_loss: 0.6828 - val_mse: 0.6828 - val_mae: 0.4640\n",
      "Epoch 59/150\n",
      "55/55 [==============================] - 13s 241ms/step - loss: 0.1439 - mse: 0.1439 - mae: 0.2721 - val_loss: 0.7023 - val_mse: 0.7023 - val_mae: 0.4710\n",
      "Epoch 60/150\n",
      "55/55 [==============================] - 13s 241ms/step - loss: 0.1486 - mse: 0.1486 - mae: 0.2756 - val_loss: 0.6644 - val_mse: 0.6644 - val_mae: 0.4711\n",
      "Epoch 61/150\n",
      "55/55 [==============================] - 13s 241ms/step - loss: 0.1474 - mse: 0.1474 - mae: 0.2795 - val_loss: 0.6761 - val_mse: 0.6761 - val_mae: 0.4712\n",
      "Epoch 62/150\n",
      "55/55 [==============================] - 13s 241ms/step - loss: 0.1251 - mse: 0.1251 - mae: 0.2577 - val_loss: 0.6309 - val_mse: 0.6309 - val_mae: 0.4463\n",
      "Epoch 63/150\n",
      "55/55 [==============================] - 13s 241ms/step - loss: 0.1202 - mse: 0.1202 - mae: 0.2569 - val_loss: 0.6804 - val_mse: 0.6804 - val_mae: 0.4646\n",
      "Epoch 64/150\n",
      "55/55 [==============================] - 13s 241ms/step - loss: 0.1238 - mse: 0.1238 - mae: 0.2576 - val_loss: 0.6696 - val_mse: 0.6696 - val_mae: 0.4616\n",
      "Epoch 65/150\n",
      "55/55 [==============================] - 13s 241ms/step - loss: 0.1232 - mse: 0.1232 - mae: 0.2560 - val_loss: 0.6947 - val_mse: 0.6947 - val_mae: 0.4673\n",
      "Epoch 66/150\n",
      "55/55 [==============================] - 13s 241ms/step - loss: 0.1138 - mse: 0.1138 - mae: 0.2459 - val_loss: 0.6723 - val_mse: 0.6723 - val_mae: 0.4665\n",
      "Epoch 67/150\n",
      "55/55 [==============================] - 13s 241ms/step - loss: 0.1448 - mse: 0.1448 - mae: 0.2757 - val_loss: 0.6834 - val_mse: 0.6834 - val_mae: 0.4613\n",
      "Epoch 68/150\n",
      "55/55 [==============================] - 13s 240ms/step - loss: 0.1279 - mse: 0.1279 - mae: 0.2634 - val_loss: 0.6700 - val_mse: 0.6700 - val_mae: 0.4731\n",
      "Epoch 69/150\n",
      "55/55 [==============================] - 13s 241ms/step - loss: 0.1914 - mse: 0.1914 - mae: 0.2883 - val_loss: 1.0358 - val_mse: 1.0358 - val_mae: 0.5837\n",
      "Epoch 70/150\n",
      "55/55 [==============================] - 13s 240ms/step - loss: 0.2119 - mse: 0.2119 - mae: 0.3112 - val_loss: 0.8043 - val_mse: 0.8043 - val_mae: 0.4972\n",
      "Epoch 71/150\n",
      "55/55 [==============================] - 13s 241ms/step - loss: 0.2344 - mse: 0.2344 - mae: 0.3311 - val_loss: 0.9064 - val_mse: 0.9064 - val_mae: 0.5392\n",
      "Epoch 72/150\n",
      "55/55 [==============================] - 13s 240ms/step - loss: 0.1945 - mse: 0.1945 - mae: 0.2876 - val_loss: 0.6961 - val_mse: 0.6961 - val_mae: 0.4737\n",
      "Epoch 73/150\n",
      "55/55 [==============================] - 13s 240ms/step - loss: 0.1937 - mse: 0.1937 - mae: 0.2998 - val_loss: 0.6592 - val_mse: 0.6592 - val_mae: 0.4682\n",
      "Epoch 74/150\n",
      "55/55 [==============================] - 13s 240ms/step - loss: 0.1517 - mse: 0.1517 - mae: 0.2719 - val_loss: 0.7204 - val_mse: 0.7204 - val_mae: 0.4864\n",
      "Epoch 75/150\n",
      "55/55 [==============================] - 13s 240ms/step - loss: 0.1455 - mse: 0.1455 - mae: 0.2635 - val_loss: 0.6919 - val_mse: 0.6919 - val_mae: 0.4669\n",
      "Epoch 76/150\n",
      "55/55 [==============================] - 13s 241ms/step - loss: 0.1389 - mse: 0.1389 - mae: 0.2693 - val_loss: 0.6549 - val_mse: 0.6549 - val_mae: 0.4574\n",
      "Epoch 77/150\n",
      "55/55 [==============================] - 13s 241ms/step - loss: 0.1240 - mse: 0.1240 - mae: 0.2520 - val_loss: 0.6424 - val_mse: 0.6424 - val_mae: 0.4656\n",
      "Epoch 78/150\n",
      "55/55 [==============================] - 13s 244ms/step - loss: 0.1246 - mse: 0.1246 - mae: 0.2578 - val_loss: 0.6786 - val_mse: 0.6786 - val_mae: 0.4628\n",
      "Epoch 79/150\n",
      "55/55 [==============================] - 13s 244ms/step - loss: 0.1087 - mse: 0.1087 - mae: 0.2451 - val_loss: 0.6282 - val_mse: 0.6282 - val_mae: 0.4370\n",
      "Epoch 80/150\n",
      "55/55 [==============================] - 13s 241ms/step - loss: 0.1039 - mse: 0.1039 - mae: 0.2351 - val_loss: 0.6416 - val_mse: 0.6416 - val_mae: 0.4371\n",
      "Epoch 81/150\n",
      "55/55 [==============================] - 13s 241ms/step - loss: 0.0938 - mse: 0.0938 - mae: 0.2242 - val_loss: 0.6435 - val_mse: 0.6435 - val_mae: 0.4440\n",
      "Epoch 82/150\n",
      "55/55 [==============================] - 13s 240ms/step - loss: 0.1209 - mse: 0.1209 - mae: 0.2516 - val_loss: 0.6905 - val_mse: 0.6905 - val_mae: 0.4619\n",
      "Epoch 83/150\n",
      "55/55 [==============================] - 13s 241ms/step - loss: 0.1100 - mse: 0.1100 - mae: 0.2416 - val_loss: 0.6254 - val_mse: 0.6254 - val_mae: 0.4428\n",
      "Epoch 84/150\n",
      "55/55 [==============================] - 13s 240ms/step - loss: 0.1036 - mse: 0.1036 - mae: 0.2281 - val_loss: 0.6477 - val_mse: 0.6477 - val_mae: 0.4487\n",
      "Epoch 85/150\n",
      "55/55 [==============================] - 13s 240ms/step - loss: 0.1145 - mse: 0.1145 - mae: 0.2516 - val_loss: 0.6324 - val_mse: 0.6324 - val_mae: 0.4472\n",
      "Epoch 86/150\n",
      "55/55 [==============================] - 13s 240ms/step - loss: 0.1040 - mse: 0.1040 - mae: 0.2326 - val_loss: 0.6261 - val_mse: 0.6261 - val_mae: 0.4396\n",
      "Epoch 87/150\n",
      "55/55 [==============================] - 13s 240ms/step - loss: 0.0999 - mse: 0.0999 - mae: 0.2261 - val_loss: 0.6608 - val_mse: 0.6608 - val_mae: 0.4586\n",
      "Epoch 88/150\n",
      "55/55 [==============================] - 13s 241ms/step - loss: 0.0976 - mse: 0.0976 - mae: 0.2297 - val_loss: 0.6666 - val_mse: 0.6666 - val_mae: 0.4471\n",
      "Epoch 89/150\n",
      "55/55 [==============================] - 13s 240ms/step - loss: 0.0901 - mse: 0.0901 - mae: 0.2179 - val_loss: 0.6200 - val_mse: 0.6200 - val_mae: 0.4444\n",
      "Epoch 90/150\n",
      "55/55 [==============================] - 13s 240ms/step - loss: 0.0841 - mse: 0.0841 - mae: 0.2138 - val_loss: 0.6307 - val_mse: 0.6307 - val_mae: 0.4444\n",
      "Epoch 91/150\n",
      "55/55 [==============================] - 13s 240ms/step - loss: 0.0815 - mse: 0.0815 - mae: 0.2026 - val_loss: 0.6207 - val_mse: 0.6207 - val_mae: 0.4398\n",
      "Epoch 92/150\n",
      "55/55 [==============================] - 13s 240ms/step - loss: 0.1086 - mse: 0.1086 - mae: 0.2407 - val_loss: 0.6741 - val_mse: 0.6741 - val_mae: 0.4404\n",
      "Epoch 93/150\n",
      "55/55 [==============================] - 13s 240ms/step - loss: 0.0944 - mse: 0.0944 - mae: 0.2256 - val_loss: 0.6199 - val_mse: 0.6199 - val_mae: 0.4501\n",
      "Epoch 94/150\n",
      "55/55 [==============================] - 13s 241ms/step - loss: 0.0824 - mse: 0.0824 - mae: 0.2099 - val_loss: 0.6438 - val_mse: 0.6438 - val_mae: 0.4509\n",
      "Epoch 95/150\n",
      "55/55 [==============================] - 13s 240ms/step - loss: 0.0884 - mse: 0.0884 - mae: 0.2163 - val_loss: 0.6303 - val_mse: 0.6303 - val_mae: 0.4359\n",
      "Epoch 96/150\n",
      "55/55 [==============================] - 13s 240ms/step - loss: 0.0942 - mse: 0.0942 - mae: 0.2210 - val_loss: 0.6283 - val_mse: 0.6283 - val_mae: 0.4409\n",
      "Epoch 97/150\n",
      "55/55 [==============================] - 13s 241ms/step - loss: 0.0886 - mse: 0.0886 - mae: 0.2200 - val_loss: 0.7519 - val_mse: 0.7519 - val_mae: 0.4810\n",
      "Epoch 98/150\n",
      "55/55 [==============================] - 13s 240ms/step - loss: 0.0885 - mse: 0.0885 - mae: 0.2177 - val_loss: 0.6952 - val_mse: 0.6952 - val_mae: 0.4578\n",
      "Epoch 99/150\n"
     ]
    },
    {
     "name": "stdout",
     "output_type": "stream",
     "text": [
      "55/55 [==============================] - 13s 242ms/step - loss: 0.1019 - mse: 0.1019 - mae: 0.2328 - val_loss: 0.6987 - val_mse: 0.6987 - val_mae: 0.4833\n",
      "Epoch 100/150\n",
      "55/55 [==============================] - 13s 242ms/step - loss: 0.0979 - mse: 0.0979 - mae: 0.2159 - val_loss: 0.6513 - val_mse: 0.6513 - val_mae: 0.4446\n",
      "Epoch 101/150\n",
      "55/55 [==============================] - 13s 243ms/step - loss: 0.0917 - mse: 0.0917 - mae: 0.2171 - val_loss: 0.6518 - val_mse: 0.6518 - val_mae: 0.4458\n",
      "Epoch 102/150\n",
      "55/55 [==============================] - 13s 243ms/step - loss: 0.0954 - mse: 0.0954 - mae: 0.2172 - val_loss: 0.7795 - val_mse: 0.7795 - val_mae: 0.4816\n",
      "Epoch 103/150\n",
      "55/55 [==============================] - 13s 243ms/step - loss: 0.1414 - mse: 0.1414 - mae: 0.2521 - val_loss: 0.7208 - val_mse: 0.7208 - val_mae: 0.4512\n",
      "Epoch 104/150\n",
      "55/55 [==============================] - 13s 244ms/step - loss: 0.1159 - mse: 0.1159 - mae: 0.2408 - val_loss: 0.7863 - val_mse: 0.7863 - val_mae: 0.4760\n",
      "Epoch 105/150\n",
      "55/55 [==============================] - 13s 244ms/step - loss: 0.0914 - mse: 0.0914 - mae: 0.2179 - val_loss: 0.7033 - val_mse: 0.7033 - val_mae: 0.4581\n",
      "Epoch 106/150\n",
      "55/55 [==============================] - 13s 244ms/step - loss: 0.1589 - mse: 0.1589 - mae: 0.2511 - val_loss: 0.7311 - val_mse: 0.7311 - val_mae: 0.4635\n",
      "Epoch 107/150\n",
      "55/55 [==============================] - 13s 243ms/step - loss: 0.1105 - mse: 0.1105 - mae: 0.2295 - val_loss: 0.7575 - val_mse: 0.7575 - val_mae: 0.4886\n",
      "Epoch 108/150\n",
      "55/55 [==============================] - 13s 243ms/step - loss: 0.1418 - mse: 0.1418 - mae: 0.2514 - val_loss: 0.8827 - val_mse: 0.8827 - val_mae: 0.5252\n",
      "Epoch 109/150\n",
      "55/55 [==============================] - 13s 243ms/step - loss: 0.1229 - mse: 0.1229 - mae: 0.2433 - val_loss: 0.6752 - val_mse: 0.6752 - val_mae: 0.4569\n",
      "Epoch 110/150\n",
      "55/55 [==============================] - 13s 243ms/step - loss: 0.1377 - mse: 0.1377 - mae: 0.2410 - val_loss: 1.3669 - val_mse: 1.3669 - val_mae: 0.6651\n",
      "Epoch 111/150\n",
      "55/55 [==============================] - 13s 244ms/step - loss: 0.1932 - mse: 0.1932 - mae: 0.2716 - val_loss: 0.9728 - val_mse: 0.9728 - val_mae: 0.5457\n",
      "Epoch 112/150\n",
      "55/55 [==============================] - 13s 244ms/step - loss: 0.3109 - mse: 0.3109 - mae: 0.3248 - val_loss: 2.5403 - val_mse: 2.5403 - val_mae: 1.0047\n",
      "Epoch 113/150\n",
      "55/55 [==============================] - 13s 243ms/step - loss: 0.2742 - mse: 0.2742 - mae: 0.2994 - val_loss: 0.8358 - val_mse: 0.8358 - val_mae: 0.5353\n",
      "Epoch 114/150\n",
      "55/55 [==============================] - 13s 243ms/step - loss: 0.2302 - mse: 0.2302 - mae: 0.2838 - val_loss: 0.8414 - val_mse: 0.8414 - val_mae: 0.4991\n",
      "Epoch 115/150\n",
      "55/55 [==============================] - 13s 244ms/step - loss: 0.1620 - mse: 0.1620 - mae: 0.2564 - val_loss: 0.7287 - val_mse: 0.7287 - val_mae: 0.4646\n",
      "Epoch 116/150\n",
      "55/55 [==============================] - 13s 243ms/step - loss: 0.1817 - mse: 0.1817 - mae: 0.2728 - val_loss: 0.7506 - val_mse: 0.7506 - val_mae: 0.4621\n",
      "Epoch 117/150\n",
      "55/55 [==============================] - 13s 243ms/step - loss: 0.1183 - mse: 0.1183 - mae: 0.2281 - val_loss: 0.7333 - val_mse: 0.7333 - val_mae: 0.4689\n",
      "Epoch 118/150\n",
      "55/55 [==============================] - 13s 244ms/step - loss: 0.1190 - mse: 0.1190 - mae: 0.2378 - val_loss: 0.6369 - val_mse: 0.6369 - val_mae: 0.4470\n",
      "Epoch 119/150\n",
      "55/55 [==============================] - 13s 243ms/step - loss: 0.0846 - mse: 0.0846 - mae: 0.2125 - val_loss: 0.6545 - val_mse: 0.6545 - val_mae: 0.4569\n",
      "Epoch 120/150\n",
      "55/55 [==============================] - 13s 243ms/step - loss: 0.0793 - mse: 0.0793 - mae: 0.2003 - val_loss: 0.6628 - val_mse: 0.6628 - val_mae: 0.4547\n",
      "Epoch 121/150\n",
      "55/55 [==============================] - 13s 243ms/step - loss: 0.0743 - mse: 0.0743 - mae: 0.2000 - val_loss: 0.6845 - val_mse: 0.6845 - val_mae: 0.4563\n",
      "Epoch 122/150\n",
      "55/55 [==============================] - 13s 243ms/step - loss: 0.0793 - mse: 0.0793 - mae: 0.2076 - val_loss: 0.6415 - val_mse: 0.6415 - val_mae: 0.4467\n",
      "Epoch 123/150\n",
      "55/55 [==============================] - 13s 243ms/step - loss: 0.0652 - mse: 0.0652 - mae: 0.1889 - val_loss: 0.6392 - val_mse: 0.6392 - val_mae: 0.4407\n",
      "Epoch 124/150\n",
      "55/55 [==============================] - 13s 244ms/step - loss: 0.0669 - mse: 0.0669 - mae: 0.1898 - val_loss: 0.6471 - val_mse: 0.6471 - val_mae: 0.4464\n",
      "Epoch 125/150\n",
      "55/55 [==============================] - 13s 243ms/step - loss: 0.0707 - mse: 0.0707 - mae: 0.1889 - val_loss: 0.6462 - val_mse: 0.6462 - val_mae: 0.4438\n",
      "Epoch 126/150\n",
      "55/55 [==============================] - 13s 244ms/step - loss: 0.0634 - mse: 0.0634 - mae: 0.1827 - val_loss: 0.6333 - val_mse: 0.6333 - val_mae: 0.4467\n",
      "Epoch 127/150\n",
      "55/55 [==============================] - 13s 243ms/step - loss: 0.0716 - mse: 0.0716 - mae: 0.1920 - val_loss: 0.6152 - val_mse: 0.6152 - val_mae: 0.4362\n",
      "Epoch 128/150\n",
      "55/55 [==============================] - 13s 243ms/step - loss: 0.0733 - mse: 0.0733 - mae: 0.1936 - val_loss: 0.6530 - val_mse: 0.6530 - val_mae: 0.4394\n",
      "Epoch 129/150\n",
      "55/55 [==============================] - 13s 243ms/step - loss: 0.0614 - mse: 0.0614 - mae: 0.1857 - val_loss: 0.6542 - val_mse: 0.6542 - val_mae: 0.4382\n",
      "Epoch 130/150\n",
      "55/55 [==============================] - 13s 243ms/step - loss: 0.0709 - mse: 0.0709 - mae: 0.1938 - val_loss: 0.6874 - val_mse: 0.6874 - val_mae: 0.4450\n",
      "Epoch 131/150\n",
      "55/55 [==============================] - 13s 243ms/step - loss: 0.0636 - mse: 0.0636 - mae: 0.1854 - val_loss: 0.6686 - val_mse: 0.6686 - val_mae: 0.4549\n",
      "Epoch 132/150\n",
      "55/55 [==============================] - 13s 243ms/step - loss: 0.0658 - mse: 0.0658 - mae: 0.1913 - val_loss: 0.6585 - val_mse: 0.6585 - val_mae: 0.4544\n",
      "Epoch 133/150\n",
      "55/55 [==============================] - 13s 243ms/step - loss: 0.0672 - mse: 0.0672 - mae: 0.1850 - val_loss: 0.7130 - val_mse: 0.7130 - val_mae: 0.4574\n",
      "Epoch 134/150\n",
      "55/55 [==============================] - 13s 243ms/step - loss: 0.0743 - mse: 0.0743 - mae: 0.1936 - val_loss: 0.6639 - val_mse: 0.6639 - val_mae: 0.4410\n",
      "Epoch 135/150\n",
      "55/55 [==============================] - 13s 243ms/step - loss: 0.0769 - mse: 0.0769 - mae: 0.1902 - val_loss: 0.6426 - val_mse: 0.6426 - val_mae: 0.4363\n",
      "Epoch 136/150\n",
      "55/55 [==============================] - 13s 242ms/step - loss: 0.0611 - mse: 0.0611 - mae: 0.1801 - val_loss: 0.6148 - val_mse: 0.6148 - val_mae: 0.4413\n",
      "Epoch 137/150\n",
      "55/55 [==============================] - 13s 243ms/step - loss: 0.0647 - mse: 0.0647 - mae: 0.1856 - val_loss: 0.6309 - val_mse: 0.6309 - val_mae: 0.4482\n",
      "Epoch 138/150\n",
      "55/55 [==============================] - 13s 242ms/step - loss: 0.0556 - mse: 0.0556 - mae: 0.1712 - val_loss: 0.6511 - val_mse: 0.6511 - val_mae: 0.4379\n",
      "Epoch 139/150\n",
      "55/55 [==============================] - 13s 243ms/step - loss: 0.0566 - mse: 0.0566 - mae: 0.1752 - val_loss: 0.6526 - val_mse: 0.6526 - val_mae: 0.4406\n",
      "Epoch 140/150\n",
      "55/55 [==============================] - 13s 243ms/step - loss: 0.0511 - mse: 0.0511 - mae: 0.1684 - val_loss: 0.6428 - val_mse: 0.6428 - val_mae: 0.4316\n",
      "Epoch 141/150\n",
      "55/55 [==============================] - 13s 243ms/step - loss: 0.0586 - mse: 0.0586 - mae: 0.1767 - val_loss: 0.6523 - val_mse: 0.6523 - val_mae: 0.4396\n",
      "Epoch 142/150\n",
      "55/55 [==============================] - 13s 243ms/step - loss: 0.0621 - mse: 0.0621 - mae: 0.1816 - val_loss: 0.7249 - val_mse: 0.7249 - val_mae: 0.4746\n",
      "Epoch 143/150\n",
      "55/55 [==============================] - 13s 243ms/step - loss: 0.1079 - mse: 0.1079 - mae: 0.1957 - val_loss: 0.6611 - val_mse: 0.6611 - val_mae: 0.4478\n",
      "Epoch 144/150\n",
      "55/55 [==============================] - 13s 243ms/step - loss: 0.0655 - mse: 0.0655 - mae: 0.1842 - val_loss: 0.6695 - val_mse: 0.6695 - val_mae: 0.4425\n",
      "Epoch 145/150\n",
      "55/55 [==============================] - 13s 243ms/step - loss: 0.0624 - mse: 0.0624 - mae: 0.1811 - val_loss: 0.6334 - val_mse: 0.6334 - val_mae: 0.4402\n",
      "Epoch 146/150\n",
      "55/55 [==============================] - 13s 243ms/step - loss: 0.0566 - mse: 0.0566 - mae: 0.1706 - val_loss: 0.6160 - val_mse: 0.6160 - val_mae: 0.4428\n",
      "Epoch 147/150\n",
      "55/55 [==============================] - 13s 243ms/step - loss: 0.0622 - mse: 0.0622 - mae: 0.1774 - val_loss: 0.6637 - val_mse: 0.6637 - val_mae: 0.4500\n"
     ]
    },
    {
     "name": "stdout",
     "output_type": "stream",
     "text": [
      "Epoch 148/150\n",
      "55/55 [==============================] - 13s 242ms/step - loss: 0.0597 - mse: 0.0597 - mae: 0.1738 - val_loss: 0.6667 - val_mse: 0.6667 - val_mae: 0.4368\n",
      "Epoch 149/150\n",
      "55/55 [==============================] - 13s 243ms/step - loss: 0.0550 - mse: 0.0550 - mae: 0.1716 - val_loss: 0.6312 - val_mse: 0.6312 - val_mae: 0.4324\n",
      "Epoch 150/150\n",
      "55/55 [==============================] - 13s 242ms/step - loss: 0.0569 - mse: 0.0569 - mae: 0.1742 - val_loss: 0.6292 - val_mse: 0.6292 - val_mae: 0.4461\n",
      "EndTime : 2022-02-04 10:08:03.955544\n"
     ]
    }
   ],
   "source": [
    "StartTime8 = datetime.now()\n",
    "print(\"StartTime :\", StartTime8)\n",
    "with tf.device('/GPU:0'):\n",
    "    model_train = model.fit(train_X, training_label_array, batch_size=batch_size,epochs=training_epochs,verbose=1,\n",
    "                        validation_data=(test_X, test_label_array))\n",
    "\n",
    "EndTime8 = datetime.now()\n",
    "print(\"EndTime :\", EndTime8)"
   ]
  },
  {
   "cell_type": "code",
   "execution_count": 18,
   "metadata": {},
   "outputs": [],
   "source": [
    "import json\n",
    "workdir = \"D://ResNetIC50//Result//MEYODC-6K//ResNet\"\n",
    "# Option 1: Save Weights + Architecture\n",
    "model.save_weights(workdir+ '//MEYODC6K_ResNet_model_fix_v3.h5')\n",
    "with open(workdir + '//MEYODC6K_ResNet_model_architecture_fix_v3.json', 'w') as f:\n",
    "    f.write(model.to_json())\n",
    "# Option 1: Load Weights + Architecture\n",
    "# with open('model_architecture.json', 'r') as f:\n",
    "#     new_model_1 = model_from_json(f.read())\n",
    "# new_model_1.load_weights('model_weights.h5')"
   ]
  },
  {
   "cell_type": "code",
   "execution_count": 19,
   "metadata": {},
   "outputs": [],
   "source": [
    "# Option 2: Save/Load the Entire Model\n",
    "# Creates a HDF5 file 'my_model.h5'\n",
    "model.save(workdir + '//MEYODC6K_ResNet_model_fix_2080ti_v3.h5')\n",
    "\n",
    "# Deletes the existing model\n",
    "# del model  \n",
    "\n",
    "# Returns a compiled model identical to the previous one\n",
    "# model = load_model('my_model.h5')"
   ]
  },
  {
   "cell_type": "code",
   "execution_count": 20,
   "metadata": {},
   "outputs": [
    {
     "name": "stdout",
     "output_type": "stream",
     "text": [
      "19/19 [==============================] - 1s 30ms/step - loss: 0.6292 - mse: 0.6292 - mae: 0.4461\n"
     ]
    }
   ],
   "source": [
    "test_eval = model.evaluate(test_X, test_label_array, verbose=1)"
   ]
  },
  {
   "cell_type": "code",
   "execution_count": 21,
   "metadata": {},
   "outputs": [
    {
     "data": {
      "text/plain": [
       "[0.6291663646697998, 0.6291663646697998, 0.4460524320602417]"
      ]
     },
     "execution_count": 21,
     "metadata": {},
     "output_type": "execute_result"
    }
   ],
   "source": [
    "test_eval"
   ]
  },
  {
   "cell_type": "code",
   "execution_count": 22,
   "metadata": {},
   "outputs": [],
   "source": [
    "accuracy = model_train.history['mse']\n",
    "val_accuracy = model_train.history['val_mse']\n",
    "loss = model_train.history['loss']\n",
    "val_loss = model_train.history['val_loss']\n",
    "\n",
    "np_acc = np.array(accuracy)\n",
    "np_val_acc = np.array(val_accuracy)\n",
    "np_loss = np.array(loss)\n",
    "np_val_loss = np.array(val_loss)"
   ]
  },
  {
   "cell_type": "code",
   "execution_count": 23,
   "metadata": {},
   "outputs": [],
   "source": [
    "import matplotlib\n",
    "from matplotlib import pyplot as plt"
   ]
  },
  {
   "cell_type": "code",
   "execution_count": 24,
   "metadata": {},
   "outputs": [
    {
     "data": {
      "image/png": "[encoded data removed]",
      "text/plain": [
       "<Figure size 432x288 with 1 Axes>"
      ]
     },
     "metadata": {
      "needs_background": "light"
     },
     "output_type": "display_data"
    },
    {
     "data": {
      "image/png": "[encoded data removed]",
      "text/plain": [
       "<Figure size 432x288 with 1 Axes>"
      ]
     },
     "metadata": {
      "needs_background": "light"
     },
     "output_type": "display_data"
    }
   ],
   "source": [
    "# accuracy = model_train.history['acc']\n",
    "# val_accuracy = model_train.history['val_acc']\n",
    "# loss = model_train.history['loss']\n",
    "# val_loss = model_train.history['val_loss']\n",
    "epochs = range(len(accuracy))\n",
    "plt.plot(epochs, accuracy, 'bo', label='Training mse')\n",
    "plt.plot(epochs, val_accuracy, 'b', label='Validation mse')\n",
    "plt.title('Training and validation mse')\n",
    "plt.legend()\n",
    "plt.figure()\n",
    "plt.plot(epochs, loss, 'bo', label='Training loss')\n",
    "plt.plot(epochs, val_loss, 'b', label='Validation loss')\n",
    "plt.title('Training and validation loss')\n",
    "plt.legend()\n",
    "plt.show()"
   ]
  },
  {
   "cell_type": "code",
   "execution_count": 25,
   "metadata": {},
   "outputs": [],
   "source": [
    "predicted_classes = model.predict(test_X)"
   ]
  },
  {
   "cell_type": "code",
   "execution_count": 26,
   "metadata": {},
   "outputs": [],
   "source": [
    "predicted_value = predicted_classes"
   ]
  },
  {
   "cell_type": "code",
   "execution_count": 27,
   "metadata": {},
   "outputs": [],
   "source": [
    "a = pd.DataFrame(predicted_value)\n",
    "b = pd.DataFrame(test_label_array)\n",
    "c = pd.concat([a,b], axis=1)\n",
    "c.columns=[\"Predicted\",\"Test\"]"
   ]
  },
  {
   "cell_type": "code",
   "execution_count": 28,
   "metadata": {},
   "outputs": [],
   "source": [
    "c.to_csv(workdir + '//MEYODC6K_ResNet_pred_obs_table.csv')"
   ]
  },
  {
   "cell_type": "code",
   "execution_count": 29,
   "metadata": {
    "scrolled": true
   },
   "outputs": [
    {
     "data": {
      "text/html": [
       "<div>\n",
       "<style scoped>\n",
       "    .dataframe tbody tr th:only-of-type {\n",
       "        vertical-align: middle;\n",
       "    }\n",
       "\n",
       "    .dataframe tbody tr th {\n",
       "        vertical-align: top;\n",
       "    }\n",
       "\n",
       "    .dataframe thead th {\n",
       "        text-align: right;\n",
       "    }\n",
       "</style>\n",
       "<table border=\"1\" class=\"dataframe\">\n",
       "  <thead>\n",
       "    <tr style=\"text-align: right;\">\n",
       "      <th></th>\n",
       "      <th>Predicted</th>\n",
       "      <th>Test</th>\n",
       "    </tr>\n",
       "  </thead>\n",
       "  <tbody>\n",
       "    <tr>\n",
       "      <th>0</th>\n",
       "      <td>-1.403599</td>\n",
       "      <td>-2.530241</td>\n",
       "    </tr>\n",
       "    <tr>\n",
       "      <th>1</th>\n",
       "      <td>2.103474</td>\n",
       "      <td>2.079442</td>\n",
       "    </tr>\n",
       "    <tr>\n",
       "      <th>2</th>\n",
       "      <td>1.407688</td>\n",
       "      <td>2.079442</td>\n",
       "    </tr>\n",
       "    <tr>\n",
       "      <th>3</th>\n",
       "      <td>-4.713380</td>\n",
       "      <td>-5.687074</td>\n",
       "    </tr>\n",
       "    <tr>\n",
       "      <th>4</th>\n",
       "      <td>2.132904</td>\n",
       "      <td>2.079442</td>\n",
       "    </tr>\n",
       "    <tr>\n",
       "      <th>...</th>\n",
       "      <td>...</td>\n",
       "      <td>...</td>\n",
       "    </tr>\n",
       "    <tr>\n",
       "      <th>600</th>\n",
       "      <td>0.415272</td>\n",
       "      <td>2.079442</td>\n",
       "    </tr>\n",
       "    <tr>\n",
       "      <th>601</th>\n",
       "      <td>2.107003</td>\n",
       "      <td>2.079442</td>\n",
       "    </tr>\n",
       "    <tr>\n",
       "      <th>602</th>\n",
       "      <td>2.138407</td>\n",
       "      <td>2.079442</td>\n",
       "    </tr>\n",
       "    <tr>\n",
       "      <th>603</th>\n",
       "      <td>-5.245207</td>\n",
       "      <td>-5.046103</td>\n",
       "    </tr>\n",
       "    <tr>\n",
       "      <th>604</th>\n",
       "      <td>2.059144</td>\n",
       "      <td>1.389951</td>\n",
       "    </tr>\n",
       "  </tbody>\n",
       "</table>\n",
       "<p>605 rows × 2 columns</p>\n",
       "</div>"
      ],
      "text/plain": [
       "     Predicted      Test\n",
       "0    -1.403599 -2.530241\n",
       "1     2.103474  2.079442\n",
       "2     1.407688  2.079442\n",
       "3    -4.713380 -5.687074\n",
       "4     2.132904  2.079442\n",
       "..         ...       ...\n",
       "600   0.415272  2.079442\n",
       "601   2.107003  2.079442\n",
       "602   2.138407  2.079442\n",
       "603  -5.245207 -5.046103\n",
       "604   2.059144  1.389951\n",
       "\n",
       "[605 rows x 2 columns]"
      ]
     },
     "execution_count": 29,
     "metadata": {},
     "output_type": "execute_result"
    }
   ],
   "source": [
    "c"
   ]
  },
  {
   "cell_type": "code",
   "execution_count": 30,
   "metadata": {},
   "outputs": [
    {
     "data": {
      "text/plain": [
       "(605, 1)"
      ]
     },
     "execution_count": 30,
     "metadata": {},
     "output_type": "execute_result"
    }
   ],
   "source": [
    "predicted_value.shape"
   ]
  },
  {
   "cell_type": "code",
   "execution_count": 31,
   "metadata": {},
   "outputs": [
    {
     "data": {
      "text/plain": [
       "LinregressResult(slope=0.8453401278200955, intercept=0.3054432328863391, rvalue=0.9102894132483003, pvalue=3.8552063794096743e-233, stderr=0.015655421693889705, intercept_stderr=0.03306233886757124)"
      ]
     },
     "execution_count": 31,
     "metadata": {},
     "output_type": "execute_result"
    }
   ],
   "source": [
    "from scipy.stats import linregress\n",
    "linregress(b[0], a[0])"
   ]
  },
  {
   "cell_type": "code",
   "execution_count": 32,
   "metadata": {},
   "outputs": [
    {
     "name": "stdout",
     "output_type": "stream",
     "text": [
      "0.8214062188425644\n"
     ]
    }
   ],
   "source": [
    "from sklearn.metrics import r2_score\n",
    "r2_value = r2_score(b,a)\n",
    "print(r2_value)"
   ]
  },
  {
   "cell_type": "code",
   "execution_count": 33,
   "metadata": {},
   "outputs": [
    {
     "name": "stdout",
     "output_type": "stream",
     "text": [
      "Final rmse value is = 0.7932001205681766\n"
     ]
    }
   ],
   "source": [
    "rse = ((b[0]-a[0])**2).sum()\n",
    "mse = rse / len(b)\n",
    "print(\"Final rmse value is =\",np.sqrt(mse))"
   ]
  },
  {
   "cell_type": "code",
   "execution_count": 34,
   "metadata": {},
   "outputs": [
    {
     "data": {
      "image/png": "[encoded data removed]",
      "text/plain": [
       "<Figure size 432x432 with 3 Axes>"
      ]
     },
     "metadata": {
      "needs_background": "light"
     },
     "output_type": "display_data"
    }
   ],
   "source": [
    "workdir = \"D://ResNetIC50//Result//Figure//MEYODC-6K\"\n",
    "import seaborn as sns\n",
    "\n",
    "g = sns.jointplot(x=\"Test\", y=\"Predicted\", data=c, kind='reg', color='#7C7C7C',\n",
    "                  joint_kws={'line_kws':{'color':'black'}})\n",
    "g.savefig(workdir+ '//MEYODC6K_ResNet.png', dpi=300)"
   ]
  },
  {
   "cell_type": "code",
   "execution_count": null,
   "metadata": {},
   "outputs": [],
   "source": []
  },
  {
   "cell_type": "code",
   "execution_count": null,
   "metadata": {},
   "outputs": [],
   "source": []
  }
 ],
 "metadata": {
  "kernelspec": {
   "display_name": "Python 3",
   "language": "python",
   "name": "python3"
  },
  "language_info": {
   "codemirror_mode": {
    "name": "ipython",
    "version": 3
   },
   "file_extension": ".py",
   "mimetype": "text/x-python",
   "name": "python",
   "nbconvert_exporter": "python",
   "pygments_lexer": "ipython3",
   "version": "3.7.11"
  }
 },
 "nbformat": 4,
 "nbformat_minor": 2
}
