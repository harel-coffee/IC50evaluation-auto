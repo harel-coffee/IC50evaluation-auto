{
 "cells": [
  {
   "cell_type": "code",
   "execution_count": 1,
   "metadata": {},
   "outputs": [],
   "source": [
    "import os\n",
    "import pandas as pd\n",
    "import numpy as np\n",
    "import random\n",
    "from pandas import DataFrame\n",
    "from datetime import datetime\n",
    "\n",
    "workdir = \"D://Deep_learning//ResNetIC50_log//Dataset//MEYODC-6K\""
   ]
  },
  {
   "cell_type": "code",
   "execution_count": 2,
   "metadata": {},
   "outputs": [],
   "source": [
    "# < Important note > [ Please download input data from https://mega.nz/#F!CeYGDKyS!uqkmWJ4E2XSGJp_C2VO2gg]\n",
    "\n",
    "dataset = np.load(workdir + \"//MEYODC6K_dataset.npz\") # input file\n",
    "ss0 = np.load(workdir + '//MEYODC6K_dataset_r0.npz') # split for training and test"
   ]
  },
  {
   "cell_type": "code",
   "execution_count": 3,
   "metadata": {},
   "outputs": [],
   "source": [
    "x = dataset['x']\n",
    "y = dataset['y']\n",
    "# y_linear = dataset['y_lnIC50']\n",
    "ss0_train = ss0['train']\n",
    "ss0_test = ss0['test']"
   ]
  },
  {
   "cell_type": "code",
   "execution_count": 4,
   "metadata": {},
   "outputs": [],
   "source": [
    "training_image_array, training_label_array = x[ss0_train], y[ss0_train]\n",
    "test_image_array, test_label_array = x[ss0_test], y[ss0_test]\n",
    "\n",
    "# # In[9]:\n",
    "# ori = training_image_array\n",
    "# bat = np.zeros((ori.shape[0],178))\n",
    "# cat = np.hstack([ori,bat])\n",
    "# training_image_array = cat\n",
    "\n",
    "# # In[8]:\n",
    "# training_image_array.shape\n",
    "\n",
    "# # In[10]:\n",
    "# ori2 = test_image_array\n",
    "# bat2 = np.zeros((ori2.shape[0],178))\n",
    "# cat2 = np.hstack([ori2,bat2])\n",
    "# test_image_array = cat2\n"
   ]
  },
  {
   "cell_type": "code",
   "execution_count": 5,
   "metadata": {},
   "outputs": [
    {
     "name": "stdout",
     "output_type": "stream",
     "text": [
      "0 5\n"
     ]
    }
   ],
   "source": [
    "# In[15]:\n",
    "ab =[]\n",
    "for i in range(50,100):\n",
    "    ab.append(len(training_image_array) % i)\n",
    "    \n",
    "print(min(ab), ab.index(min(ab)))"
   ]
  },
  {
   "cell_type": "code",
   "execution_count": 6,
   "metadata": {},
   "outputs": [
    {
     "data": {
      "text/plain": [
       "(6050, 79724)"
      ]
     },
     "execution_count": 6,
     "metadata": {},
     "output_type": "execute_result"
    }
   ],
   "source": [
    "x.shape"
   ]
  },
  {
   "cell_type": "code",
   "execution_count": 7,
   "metadata": {},
   "outputs": [
    {
     "data": {
      "text/plain": [
       "(5445, 79724)"
      ]
     },
     "execution_count": 7,
     "metadata": {},
     "output_type": "execute_result"
    }
   ],
   "source": [
    "training_image_array.shape"
   ]
  },
  {
   "cell_type": "code",
   "execution_count": 8,
   "metadata": {},
   "outputs": [],
   "source": [
    "train_X, train_y, test_X, test_y = training_image_array, training_label_array, test_image_array, test_label_array\n",
    "\n",
    "# if K.image_data_format() == 'channels_first':\n",
    "#     train_X = train_X.reshape(train_X.shape[0], 1, img_rows, img_cols)\n",
    "#     test_X = test_X.reshape(x_test.shape[0], 1, img_rows, img_cols)\n",
    "#     input_shape = (1, img_rows, img_cols)\n",
    "# else:\n",
    "#     train_X = train_X.reshape(train_X.shape[0], img_rows, img_cols, 1)\n",
    "#     test_X = test_X.reshape(test_X.shape[0], img_rows, img_cols, 1)\n",
    "#     input_shape = (img_rows, img_cols, 1)\n"
   ]
  },
  {
   "cell_type": "code",
   "execution_count": 9,
   "metadata": {},
   "outputs": [],
   "source": [
    "# train_X = train_X.reshape(train_X.shape[0], train_X.shape[1], 1)\n",
    "# test_X = test_X.reshape(test_X.shape[0], test_X.shape[1], 1)\n",
    "# #input_shape = (img_rows, img_cols, 1)"
   ]
  },
  {
   "cell_type": "code",
   "execution_count": 10,
   "metadata": {},
   "outputs": [
    {
     "name": "stdout",
     "output_type": "stream",
     "text": [
      "(5445, 79724) (5445,) (605, 79724) (605,)\n"
     ]
    }
   ],
   "source": [
    "print(train_X.shape, train_y.shape, test_X.shape, test_y.shape)"
   ]
  },
  {
   "cell_type": "code",
   "execution_count": 11,
   "metadata": {},
   "outputs": [],
   "source": [
    "inds = np.where(np.isnan(test_X))"
   ]
  },
  {
   "cell_type": "code",
   "execution_count": 12,
   "metadata": {},
   "outputs": [
    {
     "data": {
      "text/plain": [
       "(array([], dtype=int64), array([], dtype=int64))"
      ]
     },
     "execution_count": 12,
     "metadata": {},
     "output_type": "execute_result"
    }
   ],
   "source": [
    "inds"
   ]
  },
  {
   "cell_type": "code",
   "execution_count": 13,
   "metadata": {},
   "outputs": [
    {
     "name": "stdout",
     "output_type": "stream",
     "text": [
      "train_X shape: (5445, 79724)\n",
      "5445 train samples\n",
      "605 test samples\n"
     ]
    }
   ],
   "source": [
    "train_X = train_X.astype('float32')\n",
    "test_X = test_X.astype('float32')\n",
    "# train_X /= 255\n",
    "# test_X /= 255\n",
    "print('train_X shape:', train_X.shape)\n",
    "print(train_X.shape[0], 'train samples')\n",
    "print(test_X.shape[0], 'test samples')"
   ]
  },
  {
   "cell_type": "code",
   "execution_count": 14,
   "metadata": {},
   "outputs": [],
   "source": [
    "import numpy as np\n",
    "from sklearn.svm import SVR\n",
    "import matplotlib.pyplot as plt\n",
    "\n",
    "# #############################################################################\n",
    "# Fit regression model\n",
    "svr_lin = SVR(C=0.01)\n",
    "y_lin = svr_lin.fit(train_X, train_y).predict(test_X)\n"
   ]
  },
  {
   "cell_type": "code",
   "execution_count": 15,
   "metadata": {},
   "outputs": [],
   "source": [
    "import matplotlib\n",
    "from matplotlib import pyplot as plt"
   ]
  },
  {
   "cell_type": "code",
   "execution_count": 16,
   "metadata": {},
   "outputs": [
    {
     "data": {
      "text/plain": [
       "array([1.96794099, 1.97082004, 1.97769116, 1.94931165, 1.98222542,\n",
       "       1.97676002, 1.97917237, 1.95553943, 1.96963201, 1.94974217,\n",
       "       1.88608837, 1.95477348, 1.97478414, 1.97875367, 1.97485855,\n",
       "       1.9797665 , 1.97453571, 1.97004581, 1.97689732, 1.95615851,\n",
       "       1.98241004, 1.95911364, 1.98135634, 1.87099567, 1.96409535,\n",
       "       1.98128248, 1.97283494, 1.94208018, 1.96615272, 1.96540303,\n",
       "       1.95561891, 1.93735791, 1.97350293, 1.97704664, 1.97831716,\n",
       "       1.98163629, 1.97943886, 1.9792625 , 1.97608952, 1.9651487 ,\n",
       "       1.9408237 , 1.9727419 , 1.9733251 , 1.98101081, 1.96595737,\n",
       "       1.97129226, 1.97599606, 1.95938205, 1.97964624, 1.87775886,\n",
       "       1.94835923, 1.9738536 , 1.97600815, 1.95774508, 1.97843259,\n",
       "       1.97972023, 1.9839208 , 1.92836378, 1.96046675, 1.97357468,\n",
       "       1.97541518, 1.96289769, 1.97584755, 1.97677456, 1.97548223,\n",
       "       1.96486952, 1.97810996, 1.98180029, 1.98096899, 1.98181192,\n",
       "       1.97018447, 1.97952912, 1.94797421, 1.97769411, 1.87776049,\n",
       "       1.97255391, 1.95188536, 1.9487865 , 1.95833747, 1.96514332,\n",
       "       1.97912792, 1.97109175, 1.98075582, 1.97889052, 1.95881427,\n",
       "       1.88976052, 1.9737969 , 1.97209536, 1.97339084, 1.89436297,\n",
       "       1.97711838, 1.95562672, 1.90585566, 1.98070636, 1.97380963,\n",
       "       1.96006002, 1.92054742, 1.96717989, 1.97016203, 1.98019611,\n",
       "       1.97119952, 1.97621452, 1.97903678, 1.93049008, 1.95380596,\n",
       "       1.90021511, 1.97985965, 1.97631771, 1.98086311, 1.97805475,\n",
       "       1.96351163, 1.97675028, 1.92977026, 1.97782341, 1.97671774,\n",
       "       1.97212072, 1.97075462, 1.93243745, 1.97978756, 1.97928958,\n",
       "       1.93827044, 1.97138986, 1.95985358, 1.97951311, 1.97645764,\n",
       "       1.94075105, 1.97463835, 1.97887337, 1.97116157, 1.97714379,\n",
       "       1.97833188, 1.90961402, 1.96413936, 1.98094455, 1.96030756,\n",
       "       1.97242022, 1.92691641, 1.97968594, 1.89037751, 1.97549934,\n",
       "       1.97356706, 1.97484005, 1.97942448, 1.9827419 , 1.98004267,\n",
       "       1.85976895, 1.95520818, 1.97307386, 1.97768756, 1.96533896,\n",
       "       1.95882076, 1.98078308, 1.93213923, 1.97963788, 1.95281876,\n",
       "       1.93925281, 1.97662832, 1.96825371, 1.98213513, 1.96601617,\n",
       "       1.97942054, 1.9827144 , 1.97658683, 1.94314041, 1.97152838,\n",
       "       1.97281307, 1.97890976, 1.96556416, 1.97723681, 1.90107593,\n",
       "       1.97886264, 1.97887777, 1.97418106, 1.96113506, 1.97924443,\n",
       "       1.98180484, 1.96761783, 1.97559946, 1.98263956, 1.9757082 ,\n",
       "       1.98031636, 1.95726045, 1.97581481, 1.97712273, 1.96965028,\n",
       "       1.96523908, 1.979525  , 1.92019498, 1.97844521, 1.97691383,\n",
       "       1.94735713, 1.9407495 , 1.98383958, 1.97810715, 1.89384522,\n",
       "       1.98117516, 1.97695379, 1.9652388 , 1.96973054, 1.98238421,\n",
       "       1.97942833, 1.93036791, 1.97842287, 1.94701462, 1.88811977,\n",
       "       1.94839901, 1.97946319, 1.97829219, 1.98174424, 1.9284231 ,\n",
       "       1.97809304, 1.97649894, 1.96949192, 1.91112256, 1.95921067,\n",
       "       1.95808333, 1.94621197, 1.97687166, 1.86633662, 1.98183013,\n",
       "       1.93811406, 1.97147971, 1.96660843, 1.95833138, 1.98203452,\n",
       "       1.97310331, 1.97632255, 1.97549137, 1.93327554, 1.90238621,\n",
       "       1.97973783, 1.98202355, 1.97491703, 1.97263481, 1.97960878,\n",
       "       1.95612297, 1.9631591 , 1.95193345, 1.96525304, 1.96868386,\n",
       "       1.97496178, 1.97655936, 1.95875585, 1.96275984, 1.96551696,\n",
       "       1.96470225, 1.97925578, 1.95257526, 1.97665053, 1.94913445,\n",
       "       1.96573149, 1.97898836, 1.954642  , 1.97925821, 1.97344414,\n",
       "       1.96653615, 1.97939759, 1.96047727, 1.97369246, 1.97979292,\n",
       "       1.9661383 , 1.96413658, 1.97121589, 1.95901728, 1.95310879,\n",
       "       1.97684929, 1.90646567, 1.98049441, 1.98408182, 1.96480567,\n",
       "       1.97527951, 1.86276713, 1.97030868, 1.96555032, 1.95299184,\n",
       "       1.96695303, 1.97593891, 1.90944977, 1.97664909, 1.98094356,\n",
       "       1.97794286, 1.97705873, 1.97972174, 1.9818399 , 1.97790795,\n",
       "       1.97951622, 1.9580117 , 1.9413034 , 1.96431559, 1.98143921,\n",
       "       1.97542066, 1.96441458, 1.97836445, 1.97467221, 1.97850768,\n",
       "       1.96305239, 1.94210159, 1.97349908, 1.98417642, 1.95455648,\n",
       "       1.96934747, 1.96379262, 1.93615181, 1.97383061, 1.98140267,\n",
       "       1.97307984, 1.97958473, 1.96483622, 1.97861497, 1.93810577,\n",
       "       1.95591241, 1.95452029, 1.93603504, 1.95201787, 1.95925003,\n",
       "       1.97647123, 1.98085222, 1.91185034, 1.98096092, 1.95751236,\n",
       "       1.977199  , 1.95636416, 1.97930617, 1.94743896, 1.97576151,\n",
       "       1.96432013, 1.965242  , 1.958785  , 1.98082474, 1.95409214,\n",
       "       1.91061786, 1.97964601, 1.97948623, 1.96366444, 1.97609339,\n",
       "       1.96436673, 1.96742133, 1.92207278, 1.97309434, 1.88488115,\n",
       "       1.97716771, 1.94762115, 1.97823694, 1.96578769, 1.95026369,\n",
       "       1.98181189, 1.93848062, 1.97811953, 1.93871322, 1.97835896,\n",
       "       1.97890022, 1.97945388, 1.97813295, 1.97657936, 1.86373197,\n",
       "       1.96634371, 1.96303695, 1.94914362, 1.97840427, 1.97927525,\n",
       "       1.96403621, 1.89759365, 1.96301685, 1.97965494, 1.97674877,\n",
       "       1.97504219, 1.97815866, 1.96559712, 1.97735269, 1.93838204,\n",
       "       1.94381365, 1.96619438, 1.97627833, 1.96118043, 1.97665543,\n",
       "       1.98229453, 1.97982462, 1.97187858, 1.94354901, 1.88611177,\n",
       "       1.95990758, 1.96483433, 1.97882863, 1.97665006, 1.94653573,\n",
       "       1.98272822, 1.9750637 , 1.96180375, 1.96318587, 1.97967719,\n",
       "       1.97466161, 1.97856119, 1.96414921, 1.97589344, 1.96005728,\n",
       "       1.95940573, 1.97786264, 1.94075625, 1.95446902, 1.95453442,\n",
       "       1.97398975, 1.97286719, 1.88357636, 1.97563843, 1.96202396,\n",
       "       1.97697933, 1.962439  , 1.95117386, 1.97539752, 1.97957296,\n",
       "       1.94933077, 1.97583276, 1.97928687, 1.9763771 , 1.97919997,\n",
       "       1.96604809, 1.98140585, 1.97071143, 1.9758582 , 1.95284725,\n",
       "       1.97437811, 1.97063385, 1.96090348, 1.95462506, 1.88219219,\n",
       "       1.97678995, 1.97328196, 1.98143845, 1.97322121, 1.97692615,\n",
       "       1.97402266, 1.97280626, 1.97336229, 1.98101662, 1.9641459 ,\n",
       "       1.97945606, 1.96656802, 1.94612857, 1.97300866, 1.97922921,\n",
       "       1.98051715, 1.97298415, 1.97753149, 1.97943779, 1.96611234,\n",
       "       1.97866302, 1.97495808, 1.96322207, 1.95401318, 1.9771826 ,\n",
       "       1.97928311, 1.9801718 , 1.97008475, 1.94198817, 1.97301409,\n",
       "       1.96290896, 1.97513986, 1.96954252, 1.91909938, 1.94998742,\n",
       "       1.97669822, 1.97963587, 1.97946458, 1.97644033, 1.97969796,\n",
       "       1.97983227, 1.97924479, 1.97838118, 1.96340592, 1.97287997,\n",
       "       1.98047408, 1.97593542, 1.90918753, 1.97950609, 1.87982527,\n",
       "       1.96902889, 1.97912546, 1.97022685, 1.96619778, 1.97788308,\n",
       "       1.97974696, 1.94916905, 1.93507658, 1.98142936, 1.9594693 ,\n",
       "       1.98100466, 1.93029193, 1.96608988, 1.97867446, 1.98261821,\n",
       "       1.97930051, 1.98267543, 1.98198593, 1.97061059, 1.97603551,\n",
       "       1.94614894, 1.94469549, 1.9590349 , 1.97064505, 1.96374531,\n",
       "       1.96082634, 1.93033963, 1.9677158 , 1.96319425, 1.95469048,\n",
       "       1.89506448, 1.91765558, 1.97969807, 1.9803701 , 1.96891839,\n",
       "       1.9767148 , 1.9765356 , 1.979264  , 1.94097812, 1.98246196,\n",
       "       1.97955375, 1.9472726 , 1.97333838, 1.95430223, 1.97450481,\n",
       "       1.97947434, 1.97446564, 1.94943313, 1.97878097, 1.86424585,\n",
       "       1.974082  , 1.95427071, 1.9587565 , 1.96509411, 1.97875477,\n",
       "       1.94497035, 1.94629608, 1.97925571, 1.97638863, 1.9769594 ,\n",
       "       1.97944612, 1.86788085, 1.971308  , 1.9795773 , 1.97938375,\n",
       "       1.94139382, 1.9775567 , 1.96327467, 1.97946472, 1.97944994,\n",
       "       1.97689565, 1.98010411, 1.98034042, 1.97968829, 1.97963674,\n",
       "       1.97822908, 1.96023772, 1.97367952, 1.96906494, 1.97925962,\n",
       "       1.95686733, 1.97744262, 1.91766026, 1.88791977, 1.96503762,\n",
       "       1.95859123, 1.97671465, 1.9545525 , 1.89656904, 1.95308574,\n",
       "       1.89004732, 1.93879765, 1.97924419, 1.97924387, 1.9426706 ,\n",
       "       1.97389233, 1.98039588, 1.9747862 , 1.97927387, 1.95891116,\n",
       "       1.90552162, 1.93025244, 1.91914024, 1.9611923 , 1.9769111 ,\n",
       "       1.87003247, 1.90110196, 1.96540993, 1.97482471, 1.95811491,\n",
       "       1.96379003, 1.97772739, 1.95192923, 1.95663146, 1.97506649,\n",
       "       1.98147936, 1.87091284, 1.95097714, 1.96311223, 1.97888182,\n",
       "       1.97885734, 1.97830299, 1.97282278, 1.89488653, 1.97971515,\n",
       "       1.97542531, 1.97910281, 1.97957462, 1.88163135, 1.97821749])"
      ]
     },
     "execution_count": 16,
     "metadata": {},
     "output_type": "execute_result"
    }
   ],
   "source": [
    "y_lin"
   ]
  },
  {
   "cell_type": "code",
   "execution_count": 17,
   "metadata": {},
   "outputs": [
    {
     "data": {
      "text/plain": [
       "['D://Deep_learning//ResNetIC50_log//Result//MEYODC-6K//SVR//MEYODC6K_SVR_model.pkl']"
      ]
     },
     "execution_count": 17,
     "metadata": {},
     "output_type": "execute_result"
    }
   ],
   "source": [
    "import pickle\n",
    "import joblib\n",
    "workdir = \"D://Deep_learning//ResNetIC50_log//Result//MEYODC-6K//SVR\"\n",
    "joblib.dump(svr_lin, workdir + '//MEYODC6K_SVR_model.pkl') \n"
   ]
  },
  {
   "cell_type": "code",
   "execution_count": 18,
   "metadata": {},
   "outputs": [],
   "source": [
    "a = pd.DataFrame(y_lin)\n",
    "b = pd.DataFrame(test_label_array)\n",
    "c = pd.concat([a,b], axis=1)\n",
    "c.columns=[\"Predicted\",\"Test\"]"
   ]
  },
  {
   "cell_type": "code",
   "execution_count": 19,
   "metadata": {},
   "outputs": [],
   "source": [
    "c.to_csv(workdir + '//MEYODC6K_SVR_pred_obs_table.csv')"
   ]
  },
  {
   "cell_type": "code",
   "execution_count": 20,
   "metadata": {},
   "outputs": [
    {
     "data": {
      "text/html": [
       "<div>\n",
       "<style scoped>\n",
       "    .dataframe tbody tr th:only-of-type {\n",
       "        vertical-align: middle;\n",
       "    }\n",
       "\n",
       "    .dataframe tbody tr th {\n",
       "        vertical-align: top;\n",
       "    }\n",
       "\n",
       "    .dataframe thead th {\n",
       "        text-align: right;\n",
       "    }\n",
       "</style>\n",
       "<table border=\"1\" class=\"dataframe\">\n",
       "  <thead>\n",
       "    <tr style=\"text-align: right;\">\n",
       "      <th></th>\n",
       "      <th>Predicted</th>\n",
       "      <th>Test</th>\n",
       "    </tr>\n",
       "  </thead>\n",
       "  <tbody>\n",
       "    <tr>\n",
       "      <th>0</th>\n",
       "      <td>1.967941</td>\n",
       "      <td>-2.530241</td>\n",
       "    </tr>\n",
       "    <tr>\n",
       "      <th>1</th>\n",
       "      <td>1.970820</td>\n",
       "      <td>2.079442</td>\n",
       "    </tr>\n",
       "    <tr>\n",
       "      <th>2</th>\n",
       "      <td>1.977691</td>\n",
       "      <td>2.079442</td>\n",
       "    </tr>\n",
       "    <tr>\n",
       "      <th>3</th>\n",
       "      <td>1.949312</td>\n",
       "      <td>-5.687074</td>\n",
       "    </tr>\n",
       "    <tr>\n",
       "      <th>4</th>\n",
       "      <td>1.982225</td>\n",
       "      <td>2.079442</td>\n",
       "    </tr>\n",
       "    <tr>\n",
       "      <th>...</th>\n",
       "      <td>...</td>\n",
       "      <td>...</td>\n",
       "    </tr>\n",
       "    <tr>\n",
       "      <th>600</th>\n",
       "      <td>1.975425</td>\n",
       "      <td>2.079442</td>\n",
       "    </tr>\n",
       "    <tr>\n",
       "      <th>601</th>\n",
       "      <td>1.979103</td>\n",
       "      <td>2.079442</td>\n",
       "    </tr>\n",
       "    <tr>\n",
       "      <th>602</th>\n",
       "      <td>1.979575</td>\n",
       "      <td>2.079442</td>\n",
       "    </tr>\n",
       "    <tr>\n",
       "      <th>603</th>\n",
       "      <td>1.881631</td>\n",
       "      <td>-5.046103</td>\n",
       "    </tr>\n",
       "    <tr>\n",
       "      <th>604</th>\n",
       "      <td>1.978217</td>\n",
       "      <td>1.389951</td>\n",
       "    </tr>\n",
       "  </tbody>\n",
       "</table>\n",
       "<p>605 rows × 2 columns</p>\n",
       "</div>"
      ],
      "text/plain": [
       "     Predicted      Test\n",
       "0     1.967941 -2.530241\n",
       "1     1.970820  2.079442\n",
       "2     1.977691  2.079442\n",
       "3     1.949312 -5.687074\n",
       "4     1.982225  2.079442\n",
       "..         ...       ...\n",
       "600   1.975425  2.079442\n",
       "601   1.979103  2.079442\n",
       "602   1.979575  2.079442\n",
       "603   1.881631 -5.046103\n",
       "604   1.978217  1.389951\n",
       "\n",
       "[605 rows x 2 columns]"
      ]
     },
     "execution_count": 20,
     "metadata": {},
     "output_type": "execute_result"
    }
   ],
   "source": [
    "c"
   ]
  },
  {
   "cell_type": "code",
   "execution_count": 21,
   "metadata": {},
   "outputs": [
    {
     "data": {
      "text/plain": [
       "LinregressResult(slope=0.004202682721659647, intercept=1.958681578335556, rvalue=0.32183157640807347, pvalue=4.795608369076422e-16, stderr=0.0005034961329355324)"
      ]
     },
     "execution_count": 21,
     "metadata": {},
     "output_type": "execute_result"
    }
   ],
   "source": [
    "from scipy.stats import linregress\n",
    "linregress(b[0], a[0])"
   ]
  },
  {
   "cell_type": "code",
   "execution_count": 22,
   "metadata": {},
   "outputs": [
    {
     "name": "stdout",
     "output_type": "stream",
     "text": [
      "-0.27261729976680016\n"
     ]
    }
   ],
   "source": [
    "from sklearn.metrics import r2_score\n",
    "r2_value = r2_score(b,a)\n",
    "print(r2_value)"
   ]
  },
  {
   "cell_type": "code",
   "execution_count": 23,
   "metadata": {},
   "outputs": [
    {
     "name": "stdout",
     "output_type": "stream",
     "text": [
      "Final rmse value is = 2.1173786543344897\n"
     ]
    }
   ],
   "source": [
    "rse = ((b[0]-a[0])**2).sum()\n",
    "mse = rse / len(b)\n",
    "print(\"Final rmse value is =\",np.sqrt(mse))"
   ]
  },
  {
   "cell_type": "code",
   "execution_count": 24,
   "metadata": {},
   "outputs": [
    {
     "name": "stderr",
     "output_type": "stream",
     "text": [
      "C:\\Users\\ylab\\AppData\\Local\\conda\\conda\\envs\\ronny\\lib\\site-packages\\statsmodels\\tools\\_testing.py:19: FutureWarning: pandas.util.testing is deprecated. Use the functions in the public API at pandas.testing instead.\n",
      "  import pandas.util.testing as tm\n"
     ]
    },
    {
     "data": {
      "image/png": "[encoded data removed]",
      "text/plain": [
       "<Figure size 432x432 with 3 Axes>"
      ]
     },
     "metadata": {
      "needs_background": "light"
     },
     "output_type": "display_data"
    }
   ],
   "source": [
    "workdir = \"D://Deep_learning//ResNetIC50_log//Figure//Backbone//MEYODC-6K\"\n",
    "import seaborn as sns\n",
    "\n",
    "g = sns.jointplot(x=\"Test\", y=\"Predicted\", data=c, kind='reg', color='#7C7C7C',\n",
    "                  joint_kws={'line_kws':{'color':'black'}})\n",
    "g.savefig(workdir+ '//MEYODC6K_SVR.png', dpi=300)"
   ]
  },
  {
   "cell_type": "code",
   "execution_count": null,
   "metadata": {},
   "outputs": [],
   "source": []
  }
 ],
 "metadata": {
  "kernelspec": {
   "display_name": "Python 3",
   "language": "python",
   "name": "python3"
  },
  "language_info": {
   "codemirror_mode": {
    "name": "ipython",
    "version": 3
   },
   "file_extension": ".py",
   "mimetype": "text/x-python",
   "name": "python",
   "nbconvert_exporter": "python",
   "pygments_lexer": "ipython3",
   "version": "3.6.9"
  }
 },
 "nbformat": 4,
 "nbformat_minor": 2
}
