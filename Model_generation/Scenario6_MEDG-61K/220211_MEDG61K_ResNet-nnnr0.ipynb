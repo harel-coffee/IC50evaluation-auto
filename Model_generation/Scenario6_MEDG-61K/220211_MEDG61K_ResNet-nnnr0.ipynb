{
 "cells": [
  {
   "cell_type": "code",
   "execution_count": 1,
   "metadata": {},
   "outputs": [],
   "source": [
    "import os\n",
    "import sys\n",
    "import pandas as pd\n",
    "import numpy as np\n",
    "from sklearn import preprocessing\n",
    "import tensorflow as tf\n",
    "import random\n",
    "import matplotlib\n",
    "from matplotlib import pyplot as plt\n",
    "import statistics\n",
    "from pandas import DataFrame\n",
    "from datetime import datetime\n",
    "from tensorflow.keras.layers import *\n",
    "from tensorflow.keras.models import Model\n",
    "from tensorflow.keras.callbacks import ModelCheckpoint\n",
    "#from keras import backend as K\n",
    "#import keras.backend.tensorflow_backend as K\n",
    "from tensorflow.keras.callbacks import ModelCheckpoint, CSVLogger\n",
    "from os.path import basename\n",
    "#import seaborn as sns\n",
    "# from keras.models import load_model\n",
    "# from keras.utils.vis_utils import plot_model\n",
    "from sklearn.metrics import r2_score\n",
    "from sklearn.metrics import mean_squared_error\n",
    "from matplotlib.patches import Patch\n",
    "from matplotlib.lines import Line2D\n",
    "from scipy.stats import pearsonr\n",
    "\n",
    "# from tensorflow.keras.callbacks import ModelCheckpoint, CSVLogger\n",
    "#from tensorflow.keras.optimizers import Adam\n",
    "\n",
    "\n",
    "\n",
    "\n",
    "# config = tf.ConfigProto()\n",
    "# config.gpu_options.per_process_gpu_memory_fraction = 0.7\n",
    "# config.gpu_options.allow_growth = True\n",
    "# sess = tf.Session(config=config)"
   ]
  },
  {
   "cell_type": "code",
   "execution_count": 2,
   "metadata": {},
   "outputs": [
    {
     "name": "stdout",
     "output_type": "stream",
     "text": [
      "[name: \"/device:CPU:0\"\n",
      "device_type: \"CPU\"\n",
      "memory_limit: 268435456\n",
      "locality {\n",
      "}\n",
      "incarnation: 17091351416142659435\n",
      ", name: \"/device:GPU:0\"\n",
      "device_type: \"GPU\"\n",
      "memory_limit: 22904492544\n",
      "locality {\n",
      "  bus_id: 1\n",
      "  links {\n",
      "  }\n",
      "}\n",
      "incarnation: 2050938198405712026\n",
      "physical_device_desc: \"device: 0, name: TITAN RTX, pci bus id: 0000:01:00.0, compute capability: 7.5\"\n",
      ", name: \"/device:GPU:1\"\n",
      "device_type: \"GPU\"\n",
      "memory_limit: 22904492544\n",
      "locality {\n",
      "  bus_id: 1\n",
      "  links {\n",
      "  }\n",
      "}\n",
      "incarnation: 8641988302702011146\n",
      "physical_device_desc: \"device: 1, name: TITAN RTX, pci bus id: 0000:03:00.0, compute capability: 7.5\"\n",
      "]\n"
     ]
    }
   ],
   "source": [
    "from tensorflow.python.client import device_lib\n",
    "print(device_lib.list_local_devices())\n",
    "\n",
    "\n",
    "# 출처: https://3months.tistory.com/206 [Deep Play]"
   ]
  },
  {
   "cell_type": "code",
   "execution_count": 3,
   "metadata": {},
   "outputs": [],
   "source": [
    "workdir = \"D://ResNetIC50//Dataset//MEDG-61K\""
   ]
  },
  {
   "cell_type": "code",
   "execution_count": 4,
   "metadata": {},
   "outputs": [],
   "source": [
    "# < Important note > [ Please download input data from https://mega.nz/#F!CeYGDKyS!uqkmWJ4E2XSGJp_C2VO2gg]\n",
    "\n",
    "dataset = np.load(workdir + \"//MEDG61K_dataset.npz\") # input file\n",
    "ss0 = np.load(workdir + '//MEDG61K_dataset_nnnr0.npz') # split for training and test"
   ]
  },
  {
   "cell_type": "code",
   "execution_count": 5,
   "metadata": {},
   "outputs": [],
   "source": [
    "x = dataset['x']\n",
    "y = dataset['y']\n",
    "# y_linear = dataset['y_lnIC50']\n",
    "ss0_train = ss0['train']\n",
    "ss0_test = ss0['test']"
   ]
  },
  {
   "cell_type": "code",
   "execution_count": 6,
   "metadata": {},
   "outputs": [],
   "source": [
    "training_image_array, training_label_array = x[ss0_train], y[ss0_train]\n",
    "test_image_array, test_label_array = x[ss0_test], y[ss0_test]\n",
    "\n",
    "# # In[9]:\n",
    "# ori = training_image_array\n",
    "# bat = np.zeros((ori.shape[0],178))\n",
    "# cat = np.hstack([ori,bat])\n",
    "# training_image_array = cat\n",
    "\n",
    "# # In[8]:\n",
    "# training_image_array.shape\n",
    "\n",
    "# # In[10]:\n",
    "# ori2 = test_image_array\n",
    "# bat2 = np.zeros((ori2.shape[0],178))\n",
    "# cat2 = np.hstack([ori2,bat2])\n",
    "# test_image_array = cat2\n"
   ]
  },
  {
   "cell_type": "code",
   "execution_count": 7,
   "metadata": {},
   "outputs": [
    {
     "name": "stdout",
     "output_type": "stream",
     "text": [
      "0 29\n"
     ]
    }
   ],
   "source": [
    "# In[15]:\n",
    "ab =[]\n",
    "for i in range(100,300):\n",
    "    ab.append(len(training_image_array) % i)\n",
    "    \n",
    "print(min(ab), ab.index(min(ab)))"
   ]
  },
  {
   "cell_type": "code",
   "execution_count": 8,
   "metadata": {},
   "outputs": [
    {
     "data": {
      "text/plain": [
       "(61633, 42526)"
      ]
     },
     "execution_count": 8,
     "metadata": {},
     "output_type": "execute_result"
    }
   ],
   "source": [
    "x.shape"
   ]
  },
  {
   "cell_type": "code",
   "execution_count": 9,
   "metadata": {},
   "outputs": [
    {
     "data": {
      "text/plain": [
       "(55470, 42526)"
      ]
     },
     "execution_count": 9,
     "metadata": {},
     "output_type": "execute_result"
    }
   ],
   "source": [
    "training_image_array.shape"
   ]
  },
  {
   "cell_type": "code",
   "execution_count": 10,
   "metadata": {},
   "outputs": [],
   "source": [
    "# In[21]:\n",
    "\n",
    "num_classes = 1\n",
    "learning_rate = 0.0002\n",
    "training_epochs = 150\n",
    "batch_size = 100\n",
    "# img_rows, img_cols = 154, 154\n"
   ]
  },
  {
   "cell_type": "code",
   "execution_count": 11,
   "metadata": {},
   "outputs": [],
   "source": [
    "train_X, train_y, test_X, test_y = training_image_array, training_label_array, test_image_array, test_label_array\n",
    "\n",
    "# if K.image_data_format() == 'channels_first':\n",
    "#     train_X = train_X.reshape(train_X.shape[0], 1, img_rows, img_cols)\n",
    "#     test_X = test_X.reshape(x_test.shape[0], 1, img_rows, img_cols)\n",
    "#     input_shape = (1, img_rows, img_cols)\n",
    "# else:\n",
    "#     train_X = train_X.reshape(train_X.shape[0], img_rows, img_cols, 1)\n",
    "#     test_X = test_X.reshape(test_X.shape[0], img_rows, img_cols, 1)\n",
    "#     input_shape = (img_rows, img_cols, 1)\n"
   ]
  },
  {
   "cell_type": "code",
   "execution_count": 12,
   "metadata": {},
   "outputs": [],
   "source": [
    "train_X = train_X.reshape(train_X.shape[0], train_X.shape[1],1)\n",
    "test_X = test_X.reshape(test_X.shape[0], test_X.shape[1],1)\n",
    "#input_shape = (img_rows, img_cols, 1)"
   ]
  },
  {
   "cell_type": "code",
   "execution_count": 13,
   "metadata": {},
   "outputs": [
    {
     "name": "stdout",
     "output_type": "stream",
     "text": [
      "(55470, 42526, 1) (55470,) (6163, 42526, 1) (6163,)\n"
     ]
    }
   ],
   "source": [
    "print(train_X.shape, train_y.shape, test_X.shape, test_y.shape)"
   ]
  },
  {
   "cell_type": "code",
   "execution_count": 14,
   "metadata": {},
   "outputs": [
    {
     "name": "stdout",
     "output_type": "stream",
     "text": [
      "train_X shape: (55470, 42526, 1)\n",
      "55470 train samples\n",
      "6163 test samples\n"
     ]
    }
   ],
   "source": [
    "train_X = train_X.astype('float32')\n",
    "test_X = test_X.astype('float32')\n",
    "# train_X /= 255\n",
    "# test_X /= 255\n",
    "print('train_X shape:', train_X.shape)\n",
    "print(train_X.shape[0], 'train samples')\n",
    "print(test_X.shape[0], 'test samples')"
   ]
  },
  {
   "cell_type": "code",
   "execution_count": 15,
   "metadata": {},
   "outputs": [
    {
     "data": {
      "text/plain": [
       "(55470, 42526)"
      ]
     },
     "execution_count": 15,
     "metadata": {},
     "output_type": "execute_result"
    }
   ],
   "source": [
    "training_image_array.shape"
   ]
  },
  {
   "cell_type": "code",
   "execution_count": 16,
   "metadata": {
    "scrolled": true
   },
   "outputs": [
    {
     "name": "stdout",
     "output_type": "stream",
     "text": [
      "Model: \"Test_v2_DNN20190327\"\n",
      "__________________________________________________________________________________________________\n",
      "Layer (type)                    Output Shape         Param #     Connected to                     \n",
      "==================================================================================================\n",
      "inputs (InputLayer)             [(None, 42526, 1)]   0                                            \n",
      "__________________________________________________________________________________________________\n",
      "conv1d (Conv1D)                 (None, 21263, 16)    64          inputs[0][0]                     \n",
      "__________________________________________________________________________________________________\n",
      "max_pooling1d (MaxPooling1D)    (None, 4252, 16)     0           conv1d[0][0]                     \n",
      "__________________________________________________________________________________________________\n",
      "batch_normalization (BatchNorma (None, 4252, 16)     64          max_pooling1d[0][0]              \n",
      "__________________________________________________________________________________________________\n",
      "activation (Activation)         (None, 4252, 16)     0           batch_normalization[0][0]        \n",
      "__________________________________________________________________________________________________\n",
      "conv1d_1 (Conv1D)               (None, 4252, 16)     784         activation[0][0]                 \n",
      "__________________________________________________________________________________________________\n",
      "batch_normalization_1 (BatchNor (None, 4252, 16)     64          conv1d_1[0][0]                   \n",
      "__________________________________________________________________________________________________\n",
      "activation_1 (Activation)       (None, 4252, 16)     0           batch_normalization_1[0][0]      \n",
      "__________________________________________________________________________________________________\n",
      "conv1d_2 (Conv1D)               (None, 4252, 16)     784         activation_1[0][0]               \n",
      "__________________________________________________________________________________________________\n",
      "batch_normalization_2 (BatchNor (None, 4252, 16)     64          conv1d_2[0][0]                   \n",
      "__________________________________________________________________________________________________\n",
      "activation_2 (Activation)       (None, 4252, 16)     0           batch_normalization_2[0][0]      \n",
      "__________________________________________________________________________________________________\n",
      "conv1d_3 (Conv1D)               (None, 4252, 16)     784         activation_2[0][0]               \n",
      "__________________________________________________________________________________________________\n",
      "batch_normalization_3 (BatchNor (None, 4252, 16)     64          conv1d_3[0][0]                   \n",
      "__________________________________________________________________________________________________\n",
      "add (Add)                       (None, 4252, 16)     0           batch_normalization_3[0][0]      \n",
      "                                                                 batch_normalization_1[0][0]      \n",
      "__________________________________________________________________________________________________\n",
      "activation_3 (Activation)       (None, 4252, 16)     0           add[0][0]                        \n",
      "__________________________________________________________________________________________________\n",
      "conv1d_4 (Conv1D)               (None, 4252, 16)     784         activation_3[0][0]               \n",
      "__________________________________________________________________________________________________\n",
      "batch_normalization_4 (BatchNor (None, 4252, 16)     64          conv1d_4[0][0]                   \n",
      "__________________________________________________________________________________________________\n",
      "activation_4 (Activation)       (None, 4252, 16)     0           batch_normalization_4[0][0]      \n",
      "__________________________________________________________________________________________________\n",
      "conv1d_5 (Conv1D)               (None, 4252, 16)     784         activation_4[0][0]               \n",
      "__________________________________________________________________________________________________\n",
      "batch_normalization_5 (BatchNor (None, 4252, 16)     64          conv1d_5[0][0]                   \n",
      "__________________________________________________________________________________________________\n",
      "activation_5 (Activation)       (None, 4252, 16)     0           batch_normalization_5[0][0]      \n",
      "__________________________________________________________________________________________________\n",
      "conv1d_6 (Conv1D)               (None, 4252, 16)     784         activation_5[0][0]               \n",
      "__________________________________________________________________________________________________\n",
      "batch_normalization_6 (BatchNor (None, 4252, 16)     64          conv1d_6[0][0]                   \n",
      "__________________________________________________________________________________________________\n",
      "activation_6 (Activation)       (None, 4252, 16)     0           batch_normalization_6[0][0]      \n",
      "__________________________________________________________________________________________________\n",
      "conv1d_7 (Conv1D)               (None, 4252, 16)     784         activation_6[0][0]               \n",
      "__________________________________________________________________________________________________\n",
      "batch_normalization_7 (BatchNor (None, 4252, 16)     64          conv1d_7[0][0]                   \n",
      "__________________________________________________________________________________________________\n",
      "add_1 (Add)                     (None, 4252, 16)     0           batch_normalization_7[0][0]      \n",
      "                                                                 batch_normalization_4[0][0]      \n",
      "__________________________________________________________________________________________________\n",
      "activation_7 (Activation)       (None, 4252, 16)     0           add_1[0][0]                      \n",
      "__________________________________________________________________________________________________\n",
      "conv1d_8 (Conv1D)               (None, 2126, 32)     1568        activation_7[0][0]               \n",
      "__________________________________________________________________________________________________\n",
      "batch_normalization_8 (BatchNor (None, 2126, 32)     128         conv1d_8[0][0]                   \n",
      "__________________________________________________________________________________________________\n",
      "activation_8 (Activation)       (None, 2126, 32)     0           batch_normalization_8[0][0]      \n",
      "__________________________________________________________________________________________________\n",
      "conv1d_9 (Conv1D)               (None, 2126, 32)     3104        activation_8[0][0]               \n",
      "__________________________________________________________________________________________________\n",
      "conv1d_10 (Conv1D)              (None, 2126, 32)     3104        conv1d_9[0][0]                   \n",
      "__________________________________________________________________________________________________\n",
      "batch_normalization_9 (BatchNor (None, 2126, 32)     128         conv1d_10[0][0]                  \n",
      "__________________________________________________________________________________________________\n",
      "add_2 (Add)                     (None, 2126, 32)     0           batch_normalization_9[0][0]      \n",
      "                                                                 batch_normalization_8[0][0]      \n",
      "__________________________________________________________________________________________________\n",
      "activation_9 (Activation)       (None, 2126, 32)     0           add_2[0][0]                      \n",
      "__________________________________________________________________________________________________\n",
      "conv1d_11 (Conv1D)              (None, 2126, 32)     3104        activation_9[0][0]               \n",
      "__________________________________________________________________________________________________\n",
      "batch_normalization_10 (BatchNo (None, 2126, 32)     128         conv1d_11[0][0]                  \n",
      "__________________________________________________________________________________________________\n",
      "activation_10 (Activation)      (None, 2126, 32)     0           batch_normalization_10[0][0]     \n",
      "__________________________________________________________________________________________________\n",
      "conv1d_12 (Conv1D)              (None, 2126, 32)     3104        activation_10[0][0]              \n",
      "__________________________________________________________________________________________________\n",
      "batch_normalization_11 (BatchNo (None, 2126, 32)     128         conv1d_12[0][0]                  \n",
      "__________________________________________________________________________________________________\n",
      "add_3 (Add)                     (None, 2126, 32)     0           batch_normalization_11[0][0]     \n",
      "                                                                 batch_normalization_10[0][0]     \n",
      "__________________________________________________________________________________________________\n",
      "activation_11 (Activation)      (None, 2126, 32)     0           add_3[0][0]                      \n",
      "__________________________________________________________________________________________________\n",
      "conv1d_13 (Conv1D)              (None, 2126, 32)     3104        activation_11[0][0]              \n",
      "__________________________________________________________________________________________________\n",
      "batch_normalization_12 (BatchNo (None, 2126, 32)     128         conv1d_13[0][0]                  \n",
      "__________________________________________________________________________________________________\n",
      "activation_12 (Activation)      (None, 2126, 32)     0           batch_normalization_12[0][0]     \n",
      "__________________________________________________________________________________________________\n",
      "conv1d_14 (Conv1D)              (None, 2126, 32)     3104        activation_12[0][0]              \n",
      "__________________________________________________________________________________________________\n",
      "batch_normalization_13 (BatchNo (None, 2126, 32)     128         conv1d_14[0][0]                  \n",
      "__________________________________________________________________________________________________\n",
      "add_4 (Add)                     (None, 2126, 32)     0           batch_normalization_13[0][0]     \n",
      "                                                                 batch_normalization_12[0][0]     \n",
      "__________________________________________________________________________________________________\n",
      "activation_13 (Activation)      (None, 2126, 32)     0           add_4[0][0]                      \n",
      "__________________________________________________________________________________________________\n",
      "conv1d_15 (Conv1D)              (None, 1063, 64)     6208        activation_13[0][0]              \n",
      "__________________________________________________________________________________________________\n",
      "batch_normalization_14 (BatchNo (None, 1063, 64)     256         conv1d_15[0][0]                  \n",
      "__________________________________________________________________________________________________\n",
      "activation_14 (Activation)      (None, 1063, 64)     0           batch_normalization_14[0][0]     \n",
      "__________________________________________________________________________________________________\n",
      "conv1d_16 (Conv1D)              (None, 1063, 64)     12352       activation_14[0][0]              \n",
      "__________________________________________________________________________________________________\n",
      "conv1d_17 (Conv1D)              (None, 1063, 64)     12352       conv1d_16[0][0]                  \n",
      "__________________________________________________________________________________________________\n",
      "batch_normalization_15 (BatchNo (None, 1063, 64)     256         conv1d_17[0][0]                  \n",
      "__________________________________________________________________________________________________\n",
      "add_5 (Add)                     (None, 1063, 64)     0           batch_normalization_15[0][0]     \n",
      "                                                                 batch_normalization_14[0][0]     \n",
      "__________________________________________________________________________________________________\n",
      "activation_15 (Activation)      (None, 1063, 64)     0           add_5[0][0]                      \n",
      "__________________________________________________________________________________________________\n",
      "conv1d_18 (Conv1D)              (None, 1063, 64)     12352       activation_15[0][0]              \n",
      "__________________________________________________________________________________________________\n",
      "batch_normalization_16 (BatchNo (None, 1063, 64)     256         conv1d_18[0][0]                  \n",
      "__________________________________________________________________________________________________\n",
      "activation_16 (Activation)      (None, 1063, 64)     0           batch_normalization_16[0][0]     \n",
      "__________________________________________________________________________________________________\n",
      "conv1d_19 (Conv1D)              (None, 1063, 64)     12352       activation_16[0][0]              \n",
      "__________________________________________________________________________________________________\n",
      "batch_normalization_17 (BatchNo (None, 1063, 64)     256         conv1d_19[0][0]                  \n",
      "__________________________________________________________________________________________________\n",
      "add_6 (Add)                     (None, 1063, 64)     0           batch_normalization_17[0][0]     \n",
      "                                                                 batch_normalization_16[0][0]     \n",
      "__________________________________________________________________________________________________\n",
      "activation_17 (Activation)      (None, 1063, 64)     0           add_6[0][0]                      \n",
      "__________________________________________________________________________________________________\n",
      "conv1d_20 (Conv1D)              (None, 1063, 64)     12352       activation_17[0][0]              \n",
      "__________________________________________________________________________________________________\n",
      "batch_normalization_18 (BatchNo (None, 1063, 64)     256         conv1d_20[0][0]                  \n",
      "__________________________________________________________________________________________________\n",
      "activation_18 (Activation)      (None, 1063, 64)     0           batch_normalization_18[0][0]     \n",
      "__________________________________________________________________________________________________\n",
      "conv1d_21 (Conv1D)              (None, 1063, 64)     12352       activation_18[0][0]              \n",
      "__________________________________________________________________________________________________\n",
      "batch_normalization_19 (BatchNo (None, 1063, 64)     256         conv1d_21[0][0]                  \n",
      "__________________________________________________________________________________________________\n",
      "add_7 (Add)                     (None, 1063, 64)     0           batch_normalization_19[0][0]     \n",
      "                                                                 batch_normalization_18[0][0]     \n",
      "__________________________________________________________________________________________________\n",
      "activation_19 (Activation)      (None, 1063, 64)     0           add_7[0][0]                      \n",
      "__________________________________________________________________________________________________\n",
      "flatten (Flatten)               (None, 68032)        0           activation_19[0][0]              \n",
      "__________________________________________________________________________________________________\n",
      "dense1 (Dense)                  (None, 2048)         139331584   flatten[0][0]                    \n",
      "__________________________________________________________________________________________________\n",
      "batch_normalization_20 (BatchNo (None, 2048)         8192        dense1[0][0]                     \n",
      "__________________________________________________________________________________________________\n",
      "dropout1 (Dropout)              (None, 2048)         0           batch_normalization_20[0][0]     \n",
      "__________________________________________________________________________________________________\n",
      "activation_20 (Activation)      (None, 2048)         0           dropout1[0][0]                   \n",
      "__________________________________________________________________________________________________\n",
      "dense5 (Dense)                  (None, 1024)         2098176     activation_20[0][0]              \n",
      "__________________________________________________________________________________________________\n",
      "batch_normalization_21 (BatchNo (None, 1024)         4096        dense5[0][0]                     \n",
      "__________________________________________________________________________________________________\n",
      "dropout5 (Dropout)              (None, 1024)         0           batch_normalization_21[0][0]     \n",
      "__________________________________________________________________________________________________\n",
      "activation_21 (Activation)      (None, 1024)         0           dropout5[0][0]                   \n",
      "__________________________________________________________________________________________________\n",
      "dense6 (Dense)                  (None, 512)          524800      activation_21[0][0]              \n",
      "__________________________________________________________________________________________________\n",
      "batch_normalization_22 (BatchNo (None, 512)          2048        dense6[0][0]                     \n",
      "__________________________________________________________________________________________________\n",
      "dropout6 (Dropout)              (None, 512)          0           batch_normalization_22[0][0]     \n",
      "__________________________________________________________________________________________________\n",
      "activation_22 (Activation)      (None, 512)          0           dropout6[0][0]                   \n",
      "__________________________________________________________________________________________________\n",
      "dense7 (Dense)                  (None, 1024)         525312      activation_22[0][0]              \n",
      "__________________________________________________________________________________________________\n",
      "batch_normalization_23 (BatchNo (None, 1024)         4096        dense7[0][0]                     \n",
      "__________________________________________________________________________________________________\n",
      "dropout7 (Dropout)              (None, 1024)         0           batch_normalization_23[0][0]     \n",
      "__________________________________________________________________________________________________\n",
      "add_8 (Add)                     (None, 1024)         0           dropout7[0][0]                   \n",
      "                                                                 batch_normalization_21[0][0]     \n",
      "__________________________________________________________________________________________________\n",
      "activation_23 (Activation)      (None, 1024)         0           add_8[0][0]                      \n",
      "__________________________________________________________________________________________________\n",
      "dense8 (Dense)                  (None, 512)          524800      activation_23[0][0]              \n",
      "__________________________________________________________________________________________________\n",
      "batch_normalization_24 (BatchNo (None, 512)          2048        dense8[0][0]                     \n",
      "__________________________________________________________________________________________________\n",
      "dropout8 (Dropout)              (None, 512)          0           batch_normalization_24[0][0]     \n",
      "__________________________________________________________________________________________________\n",
      "activation_24 (Activation)      (None, 512)          0           dropout8[0][0]                   \n",
      "__________________________________________________________________________________________________\n",
      "dense9 (Dense)                  (None, 256)          131328      activation_24[0][0]              \n",
      "__________________________________________________________________________________________________\n",
      "batch_normalization_25 (BatchNo (None, 256)          1024        dense9[0][0]                     \n",
      "__________________________________________________________________________________________________\n",
      "dropout9 (Dropout)              (None, 256)          0           batch_normalization_25[0][0]     \n",
      "__________________________________________________________________________________________________\n",
      "activation_25 (Activation)      (None, 256)          0           dropout9[0][0]                   \n",
      "__________________________________________________________________________________________________\n",
      "dense10 (Dense)                 (None, 128)          32896       activation_25[0][0]              \n",
      "__________________________________________________________________________________________________\n",
      "batch_normalization_26 (BatchNo (None, 128)          512         dense10[0][0]                    \n",
      "__________________________________________________________________________________________________\n",
      "dropout10 (Dropout)             (None, 128)          0           batch_normalization_26[0][0]     \n",
      "__________________________________________________________________________________________________\n",
      "activation_26 (Activation)      (None, 128)          0           dropout10[0][0]                  \n",
      "__________________________________________________________________________________________________\n",
      "predictions (Dense)             (None, 1)            129         activation_26[0][0]              \n",
      "==================================================================================================\n",
      "Total params: 143,299,921\n",
      "Trainable params: 143,287,505\n",
      "Non-trainable params: 12,416\n",
      "__________________________________________________________________________________________________\n"
     ]
    }
   ],
   "source": [
    "# In[10]:\n",
    "with tf.device('/GPU:0'):\n",
    "    inputs = Input(shape=(train_X.shape[1],1),name='inputs')\n",
    "\n",
    "    x = Conv1D(16, kernel_size=3, strides=2, padding=\"same\")(inputs)\n",
    "    x = MaxPooling1D(pool_size=5)(x)\n",
    "    x = BatchNormalization()(x)\n",
    "#     y = x\n",
    "    x = Activation('tanh')(x)\n",
    "\n",
    "    x = Conv1D(16, kernel_size=3, strides=1, padding=\"same\")(x)\n",
    "#     x = MaxPooling1D(pool_size=5)(x)\n",
    "    x = BatchNormalization()(x)\n",
    "    y = x\n",
    "    x = Activation('relu')(x)\n",
    "\n",
    "    x = Conv1D(16, kernel_size=3, strides=1, padding=\"same\")(x)\n",
    "#     x = MaxPooling1D(pool_size=5)(x)\n",
    "    x = BatchNormalization()(x)\n",
    "    x = Activation('relu')(x)\n",
    "\n",
    "    x = Conv1D(16, kernel_size=3, strides=1, padding=\"same\")(x)\n",
    "#     x = MaxPooling1D(pool_size=5)(x)\n",
    "    x = BatchNormalization()(x)\n",
    "    x = tf.keras.layers.add([x,y])\n",
    "    x = Activation('relu')(x)\n",
    "\n",
    "    \n",
    "    x = Conv1D(16, kernel_size=3, strides=1, padding=\"same\")(x)\n",
    "#     x = MaxPooling1D(pool_size=5)(x)\n",
    "    x = BatchNormalization()(x)\n",
    "    y = x\n",
    "    x = Activation('relu')(x)\n",
    "    \n",
    "    \n",
    "    x = Conv1D(16, kernel_size=3, strides=1, padding=\"same\")(x)\n",
    "#     x = MaxPooling1D(pool_size=5)(x)\n",
    "    x = BatchNormalization()(x)\n",
    "    x = Activation('relu')(x)\n",
    "\n",
    "    x = Conv1D(16, kernel_size=3, strides=1, padding=\"same\")(x)\n",
    "#     x = MaxPooling1D(pool_size=5)(x)\n",
    "    x = BatchNormalization()(x)\n",
    "    x = Activation('relu')(x)\n",
    "\n",
    "    \n",
    "    x = Conv1D(16, kernel_size=3, strides=1, padding=\"same\")(x)\n",
    "#     x = MaxPooling1D(pool_size=5)(x)\n",
    "    x = BatchNormalization()(x)\n",
    "    x = tf.keras.layers.add([x,y])\n",
    "    x = Activation('relu')(x)\n",
    "    \n",
    "    x = Conv1D(32, kernel_size=3, strides=2, padding=\"same\")(x)\n",
    "#     x = MaxPooling1D(pool_size=5)(x)\n",
    "    x = BatchNormalization()(x)\n",
    "    y = x\n",
    "    x = Activation('relu')(x)\n",
    "\n",
    "    x = Conv1D(32, kernel_size=3, strides=1, padding=\"same\")(x)\n",
    "#     x = MaxPooling1D(pool_size=5)(x)\n",
    "#     x = BatchNormalization()(x)\n",
    "        \n",
    "    x = Conv1D(32, kernel_size=3, strides=1, padding=\"same\")(x)\n",
    "#     x = MaxPooling1D(pool_size=5)(x)\n",
    "    x = BatchNormalization()(x)\n",
    "    x = tf.keras.layers.add([x,y])\n",
    "    x = Activation('relu')(x)\n",
    "    \n",
    "        \n",
    "    x = Conv1D(32, kernel_size=3, strides=1, padding=\"same\")(x)\n",
    "#     x = MaxPooling1D(pool_size=5)(x)\n",
    "    x = BatchNormalization()(x)\n",
    "    y = x\n",
    "    x = Activation('relu')(x)\n",
    "\n",
    "    x = Conv1D(32, kernel_size=3, strides=1, padding=\"same\")(x)\n",
    "#     x = MaxPooling1D(pool_size=5)(x)\n",
    "    x = BatchNormalization()(x)\n",
    "    x = tf.keras.layers.add([x,y])\n",
    "    x = Activation('relu')(x)\n",
    "\n",
    "    x = Conv1D(32, kernel_size=3, strides=1, padding=\"same\")(x)\n",
    "#     x = MaxPooling1D(pool_size=5)(x)\n",
    "    x = BatchNormalization()(x)\n",
    "    y = x\n",
    "    x = Activation('relu')(x)\n",
    "\n",
    "    x = Conv1D(32, kernel_size=3, strides=1, padding=\"same\")(x)\n",
    "#     x = MaxPooling1D(pool_size=5)(x)\n",
    "    x = BatchNormalization()(x)\n",
    "    x = tf.keras.layers.add([x,y])\n",
    "    x = Activation('relu')(x)\n",
    "\n",
    "    x = Conv1D(64, kernel_size=3, strides=2, padding=\"same\")(x)\n",
    "#     x = MaxPooling1D(pool_size=5)(x)\n",
    "    x = BatchNormalization()(x)\n",
    "    y = x\n",
    "    x = Activation('relu')(x)\n",
    "\n",
    "    x = Conv1D(64, kernel_size=3, strides=1, padding=\"same\")(x)\n",
    "#     x = MaxPooling1D(pool_size=5)(x)\n",
    "#     x = BatchNormalization()(x)\n",
    "        \n",
    "    x = Conv1D(64, kernel_size=3, strides=1, padding=\"same\")(x)\n",
    "#     x = MaxPooling1D(pool_size=5)(x)\n",
    "    x = BatchNormalization()(x)\n",
    "    x = tf.keras.layers.add([x,y])\n",
    "    x = Activation('relu')(x)\n",
    "    \n",
    "        \n",
    "    x = Conv1D(64, kernel_size=3, strides=1, padding=\"same\")(x)\n",
    "#     x = MaxPooling1D(pool_size=5)(x)\n",
    "    x = BatchNormalization()(x)\n",
    "    y = x\n",
    "    x = Activation('relu')(x)\n",
    "\n",
    "    x = Conv1D(64, kernel_size=3, strides=1, padding=\"same\")(x)\n",
    "#     x = MaxPooling1D(pool_size=5)(x)\n",
    "    x = BatchNormalization()(x)\n",
    "    x = tf.keras.layers.add([x,y])\n",
    "    x = Activation('relu')(x)\n",
    "\n",
    "    x = Conv1D(64, kernel_size=3, strides=1, padding=\"same\")(x)\n",
    "#     x = MaxPooling1D(pool_size=5)(x)\n",
    "    x = BatchNormalization()(x)\n",
    "    y = x\n",
    "    x = Activation('relu')(x)\n",
    "\n",
    "    x = Conv1D(64, kernel_size=3, strides=1, padding=\"same\")(x)\n",
    "#     x = MaxPooling1D(pool_size=5)(x)\n",
    "    x = BatchNormalization()(x)\n",
    "    x = tf.keras.layers.add([x,y])\n",
    "    x = Activation('relu')(x)\n",
    "\n",
    "#     x = AveragePooling1D(pool_size=8)(x)\n",
    "    x = Flatten()(x)\n",
    "    x = Dense(units=2048, name='dense1'  ) (x)\n",
    "    x = BatchNormalization()(x)\n",
    "    x = Dropout(0.1, name='dropout1') (x)\n",
    "    x = Activation('relu')(x)\n",
    "\n",
    "#    x = Reshape((300,1))(x)\n",
    "\n",
    "#    x = Conv1D(30, kernel_size=150, strides=1, activation = 'relu')(x)\n",
    "#    x = MaxPooling1D(pool_size=2)(x)\n",
    "#    x = BatchNormalization()(x)\n",
    "\n",
    "    x = Dense(units=1024, name='dense5'  ) (x)\n",
    "    x = BatchNormalization()(x)\n",
    "    y = x\n",
    "    x = Dropout(0.1, name='dropout5') (x)\n",
    "    x = Activation('relu')(x)\n",
    "\n",
    "    x = Dense(units=512, name='dense6'  ) (x)\n",
    "    x = BatchNormalization()(x)\n",
    "    x = Dropout(0.1, name='dropout6') (x)\n",
    "    x = Activation('relu')(x)\n",
    "\n",
    "    x = Dense(units=1024, name='dense7'  ) (x)\n",
    "    x = BatchNormalization()(x)\n",
    "    x = Dropout(0.1, name='dropout7') (x)\n",
    "    x = tf.keras.layers.add([x,y])\n",
    "    x = Activation('relu')(x)\n",
    "    \n",
    "    x = Dense(units=512, name='dense8'  ) (x)\n",
    "    x = BatchNormalization()(x)\n",
    "    x = Dropout(0.1, name='dropout8') (x)\n",
    "    x = Activation('relu')(x)\n",
    "    \n",
    "    x = Dense(units=256, name='dense9'  ) (x)\n",
    "    x = BatchNormalization()(x)\n",
    "    x = Dropout(0.1, name='dropout9') (x)\n",
    "    x = Activation('relu')(x)\n",
    "\n",
    "    x = Dense(units=128, name='dense10'  ) (x)\n",
    "    x = BatchNormalization()(x)\n",
    "    y = x\n",
    "    x = Dropout(0.1, name='dropout10') (x)\n",
    "    x = Activation('relu')(x)\n",
    "\n",
    "\n",
    "    predictions = Dense(1, activation='linear', name='predictions', kernel_initializer='he_normal')(x)\n",
    "#     predictions = Dense(1, activation='linear', name='predictions')(x)\n",
    "\n",
    "    \n",
    "\n",
    "    model = Model(inputs=inputs, outputs=predictions, name='Test_v2_DNN20190327')\n",
    "    model.compile(loss=tf.keras.losses.mean_squared_error,\n",
    "                  optimizer=tf.keras.optimizers.Adam(learning_rate),\n",
    "                  metrics=['mse','mae'])\n",
    "\n",
    "\n",
    "    model.summary()\n"
   ]
  },
  {
   "cell_type": "code",
   "execution_count": 17,
   "metadata": {
    "scrolled": true
   },
   "outputs": [
    {
     "name": "stdout",
     "output_type": "stream",
     "text": [
      "StartTime : 2022-02-11 20:52:21.520948\n",
      "Epoch 1/150\n",
      "555/555 [==============================] - 90s 149ms/step - loss: 6.6277 - mse: 6.6277 - mae: 2.0006 - val_loss: 2.0769 - val_mse: 2.0769 - val_mae: 1.0705\n",
      "Epoch 2/150\n",
      "555/555 [==============================] - 82s 149ms/step - loss: 1.8374 - mse: 1.8374 - mae: 1.0325 - val_loss: 1.7010 - val_mse: 1.7010 - val_mae: 0.9662\n",
      "Epoch 3/150\n",
      "555/555 [==============================] - 82s 148ms/step - loss: 1.6018 - mse: 1.6018 - mae: 0.9668 - val_loss: 1.4766 - val_mse: 1.4766 - val_mae: 0.9106\n",
      "Epoch 4/150\n",
      "555/555 [==============================] - 83s 149ms/step - loss: 1.4408 - mse: 1.4408 - mae: 0.9072 - val_loss: 1.5592 - val_mse: 1.5592 - val_mae: 0.9161\n",
      "Epoch 5/150\n",
      "555/555 [==============================] - 83s 149ms/step - loss: 1.3175 - mse: 1.3175 - mae: 0.8747 - val_loss: 1.4066 - val_mse: 1.4066 - val_mae: 0.8725\n",
      "Epoch 6/150\n",
      "555/555 [==============================] - 83s 150ms/step - loss: 1.2014 - mse: 1.2014 - mae: 0.8324 - val_loss: 1.3322 - val_mse: 1.3322 - val_mae: 0.8629\n",
      "Epoch 7/150\n",
      "555/555 [==============================] - 83s 150ms/step - loss: 1.1142 - mse: 1.1142 - mae: 0.8027 - val_loss: 1.2869 - val_mse: 1.2869 - val_mae: 0.8372\n",
      "Epoch 8/150\n",
      "555/555 [==============================] - 83s 150ms/step - loss: 1.0284 - mse: 1.0284 - mae: 0.7747 - val_loss: 1.2432 - val_mse: 1.2432 - val_mae: 0.8218\n",
      "Epoch 9/150\n",
      "555/555 [==============================] - 83s 149ms/step - loss: 0.9696 - mse: 0.9696 - mae: 0.7528 - val_loss: 1.2592 - val_mse: 1.2592 - val_mae: 0.8238\n",
      "Epoch 10/150\n",
      "555/555 [==============================] - 83s 150ms/step - loss: 0.9105 - mse: 0.9105 - mae: 0.7324 - val_loss: 1.2613 - val_mse: 1.2613 - val_mae: 0.8252\n",
      "Epoch 11/150\n",
      "555/555 [==============================] - 83s 149ms/step - loss: 0.8351 - mse: 0.8351 - mae: 0.7014 - val_loss: 1.1548 - val_mse: 1.1548 - val_mae: 0.7960\n",
      "Epoch 12/150\n",
      "555/555 [==============================] - 83s 149ms/step - loss: 0.7908 - mse: 0.7908 - mae: 0.6847 - val_loss: 1.1135 - val_mse: 1.1135 - val_mae: 0.7779\n",
      "Epoch 13/150\n",
      "555/555 [==============================] - 83s 150ms/step - loss: 0.7183 - mse: 0.7183 - mae: 0.6516 - val_loss: 1.1390 - val_mse: 1.1390 - val_mae: 0.7847\n",
      "Epoch 14/150\n",
      "555/555 [==============================] - 83s 149ms/step - loss: 0.7023 - mse: 0.7023 - mae: 0.6448 - val_loss: 1.1431 - val_mse: 1.1431 - val_mae: 0.7815\n",
      "Epoch 15/150\n",
      "555/555 [==============================] - 83s 149ms/step - loss: 0.6507 - mse: 0.6507 - mae: 0.6234 - val_loss: 1.1550 - val_mse: 1.1550 - val_mae: 0.7829\n",
      "Epoch 16/150\n",
      "555/555 [==============================] - 83s 149ms/step - loss: 0.5927 - mse: 0.5927 - mae: 0.5960 - val_loss: 1.2713 - val_mse: 1.2713 - val_mae: 0.8149\n",
      "Epoch 17/150\n",
      "555/555 [==============================] - 83s 149ms/step - loss: 0.5770 - mse: 0.5770 - mae: 0.5824 - val_loss: 1.1046 - val_mse: 1.1046 - val_mae: 0.7667\n",
      "Epoch 18/150\n",
      "555/555 [==============================] - 83s 150ms/step - loss: 0.5371 - mse: 0.5371 - mae: 0.5671 - val_loss: 1.0344 - val_mse: 1.0344 - val_mae: 0.7517\n",
      "Epoch 19/150\n",
      "555/555 [==============================] - 83s 150ms/step - loss: 0.5153 - mse: 0.5153 - mae: 0.5554 - val_loss: 1.0635 - val_mse: 1.0635 - val_mae: 0.7457\n",
      "Epoch 20/150\n",
      "555/555 [==============================] - 83s 150ms/step - loss: 0.4817 - mse: 0.4817 - mae: 0.5349 - val_loss: 1.0928 - val_mse: 1.0928 - val_mae: 0.7528\n",
      "Epoch 21/150\n",
      "555/555 [==============================] - 83s 149ms/step - loss: 0.4741 - mse: 0.4741 - mae: 0.5305 - val_loss: 1.0780 - val_mse: 1.0780 - val_mae: 0.7540\n",
      "Epoch 22/150\n",
      "555/555 [==============================] - 83s 149ms/step - loss: 0.4350 - mse: 0.4350 - mae: 0.5090 - val_loss: 1.0859 - val_mse: 1.0859 - val_mae: 0.7590\n",
      "Epoch 23/150\n",
      "555/555 [==============================] - 83s 150ms/step - loss: 0.4099 - mse: 0.4099 - mae: 0.4944 - val_loss: 1.0541 - val_mse: 1.0541 - val_mae: 0.7487\n",
      "Epoch 24/150\n",
      "555/555 [==============================] - 83s 149ms/step - loss: 0.3977 - mse: 0.3977 - mae: 0.4878 - val_loss: 1.0401 - val_mse: 1.0401 - val_mae: 0.7422\n",
      "Epoch 25/150\n",
      "555/555 [==============================] - 83s 149ms/step - loss: 0.3763 - mse: 0.3763 - mae: 0.4747 - val_loss: 0.9886 - val_mse: 0.9886 - val_mae: 0.7241\n",
      "Epoch 26/150\n",
      "555/555 [==============================] - 83s 150ms/step - loss: 0.3539 - mse: 0.3539 - mae: 0.4607 - val_loss: 1.0298 - val_mse: 1.0298 - val_mae: 0.7356\n",
      "Epoch 27/150\n",
      "555/555 [==============================] - 83s 150ms/step - loss: 0.3540 - mse: 0.3540 - mae: 0.4586 - val_loss: 0.9946 - val_mse: 0.9946 - val_mae: 0.7296\n",
      "Epoch 28/150\n",
      "555/555 [==============================] - 83s 150ms/step - loss: 0.3308 - mse: 0.3308 - mae: 0.4446 - val_loss: 1.0063 - val_mse: 1.0063 - val_mae: 0.7314\n",
      "Epoch 29/150\n",
      "555/555 [==============================] - 83s 150ms/step - loss: 0.3209 - mse: 0.3209 - mae: 0.4402 - val_loss: 1.0213 - val_mse: 1.0213 - val_mae: 0.7305\n",
      "Epoch 30/150\n",
      "555/555 [==============================] - 83s 150ms/step - loss: 0.3142 - mse: 0.3142 - mae: 0.4339 - val_loss: 1.0363 - val_mse: 1.0363 - val_mae: 0.7356\n",
      "Epoch 31/150\n",
      "555/555 [==============================] - 83s 150ms/step - loss: 0.2980 - mse: 0.2980 - mae: 0.4235 - val_loss: 1.0185 - val_mse: 1.0185 - val_mae: 0.7352\n",
      "Epoch 32/150\n",
      "555/555 [==============================] - 83s 149ms/step - loss: 0.2950 - mse: 0.2950 - mae: 0.4190 - val_loss: 0.9683 - val_mse: 0.9683 - val_mae: 0.7179\n",
      "Epoch 33/150\n",
      "555/555 [==============================] - 83s 150ms/step - loss: 0.2747 - mse: 0.2747 - mae: 0.4047 - val_loss: 1.0137 - val_mse: 1.0137 - val_mae: 0.7334\n",
      "Epoch 34/150\n",
      "555/555 [==============================] - 83s 150ms/step - loss: 0.2664 - mse: 0.2664 - mae: 0.3993 - val_loss: 1.0033 - val_mse: 1.0033 - val_mae: 0.7251\n",
      "Epoch 35/150\n",
      "555/555 [==============================] - 83s 149ms/step - loss: 0.2669 - mse: 0.2669 - mae: 0.3997 - val_loss: 0.9889 - val_mse: 0.9889 - val_mae: 0.7224\n",
      "Epoch 36/150\n",
      "555/555 [==============================] - 83s 150ms/step - loss: 0.2476 - mse: 0.2476 - mae: 0.3851 - val_loss: 1.0169 - val_mse: 1.0169 - val_mae: 0.7247\n",
      "Epoch 37/150\n",
      "555/555 [==============================] - 83s 150ms/step - loss: 0.2455 - mse: 0.2455 - mae: 0.3832 - val_loss: 0.9650 - val_mse: 0.9650 - val_mae: 0.7158\n",
      "Epoch 38/150\n",
      "555/555 [==============================] - 83s 150ms/step - loss: 0.2461 - mse: 0.2461 - mae: 0.3827 - val_loss: 0.9740 - val_mse: 0.9740 - val_mae: 0.7105\n",
      "Epoch 39/150\n",
      "555/555 [==============================] - 83s 150ms/step - loss: 0.2386 - mse: 0.2386 - mae: 0.3763 - val_loss: 0.9663 - val_mse: 0.9663 - val_mae: 0.7137\n",
      "Epoch 40/150\n",
      "555/555 [==============================] - 83s 150ms/step - loss: 0.2267 - mse: 0.2267 - mae: 0.3689 - val_loss: 0.9533 - val_mse: 0.9533 - val_mae: 0.7095\n",
      "Epoch 41/150\n",
      "555/555 [==============================] - 83s 150ms/step - loss: 0.2328 - mse: 0.2328 - mae: 0.3715 - val_loss: 0.9611 - val_mse: 0.9611 - val_mae: 0.7101\n",
      "Epoch 42/150\n",
      "555/555 [==============================] - 83s 150ms/step - loss: 0.2191 - mse: 0.2191 - mae: 0.3621 - val_loss: 0.9680 - val_mse: 0.9680 - val_mae: 0.7089\n",
      "Epoch 43/150\n",
      "555/555 [==============================] - 83s 150ms/step - loss: 0.2172 - mse: 0.2172 - mae: 0.3596 - val_loss: 0.9603 - val_mse: 0.9603 - val_mae: 0.7096\n",
      "Epoch 44/150\n",
      "555/555 [==============================] - 83s 150ms/step - loss: 0.2132 - mse: 0.2132 - mae: 0.3569 - val_loss: 0.9682 - val_mse: 0.9682 - val_mae: 0.7034\n",
      "Epoch 45/150\n",
      "555/555 [==============================] - 83s 150ms/step - loss: 0.2037 - mse: 0.2037 - mae: 0.3476 - val_loss: 0.9346 - val_mse: 0.9346 - val_mae: 0.6997\n",
      "Epoch 46/150\n",
      "555/555 [==============================] - 83s 150ms/step - loss: 0.1936 - mse: 0.1936 - mae: 0.3414 - val_loss: 0.9308 - val_mse: 0.9308 - val_mae: 0.7011\n",
      "Epoch 47/150\n",
      "555/555 [==============================] - 84s 151ms/step - loss: 0.1946 - mse: 0.1946 - mae: 0.3410 - val_loss: 0.9291 - val_mse: 0.9291 - val_mae: 0.6981\n",
      "Epoch 48/150\n",
      "555/555 [==============================] - 83s 150ms/step - loss: 0.1845 - mse: 0.1845 - mae: 0.3316 - val_loss: 0.9317 - val_mse: 0.9317 - val_mae: 0.7009\n",
      "Epoch 49/150\n"
     ]
    },
    {
     "name": "stdout",
     "output_type": "stream",
     "text": [
      "555/555 [==============================] - 83s 150ms/step - loss: 0.1899 - mse: 0.1899 - mae: 0.3344 - val_loss: 0.9296 - val_mse: 0.9296 - val_mae: 0.6917\n",
      "Epoch 50/150\n",
      "555/555 [==============================] - 83s 149ms/step - loss: 0.1858 - mse: 0.1858 - mae: 0.3325 - val_loss: 0.9319 - val_mse: 0.9319 - val_mae: 0.7018\n",
      "Epoch 51/150\n",
      "555/555 [==============================] - 83s 150ms/step - loss: 0.1824 - mse: 0.1824 - mae: 0.3306 - val_loss: 0.9466 - val_mse: 0.9466 - val_mae: 0.7006\n",
      "Epoch 52/150\n",
      "555/555 [==============================] - 83s 149ms/step - loss: 0.1696 - mse: 0.1696 - mae: 0.3183 - val_loss: 0.9523 - val_mse: 0.9523 - val_mae: 0.7040\n",
      "Epoch 53/150\n",
      "555/555 [==============================] - 83s 149ms/step - loss: 0.1756 - mse: 0.1756 - mae: 0.3230 - val_loss: 0.9544 - val_mse: 0.9544 - val_mae: 0.7098\n",
      "Epoch 54/150\n",
      "555/555 [==============================] - 83s 150ms/step - loss: 0.1689 - mse: 0.1689 - mae: 0.3179 - val_loss: 0.9395 - val_mse: 0.9395 - val_mae: 0.7016\n",
      "Epoch 55/150\n",
      "555/555 [==============================] - 83s 150ms/step - loss: 0.1670 - mse: 0.1670 - mae: 0.3155 - val_loss: 0.9629 - val_mse: 0.9629 - val_mae: 0.7044\n",
      "Epoch 56/150\n",
      "555/555 [==============================] - 83s 149ms/step - loss: 0.1704 - mse: 0.1704 - mae: 0.3178 - val_loss: 0.9536 - val_mse: 0.9536 - val_mae: 0.7064\n",
      "Epoch 57/150\n",
      "555/555 [==============================] - 83s 149ms/step - loss: 0.1639 - mse: 0.1639 - mae: 0.3123 - val_loss: 0.9452 - val_mse: 0.9452 - val_mae: 0.7023\n",
      "Epoch 58/150\n",
      "555/555 [==============================] - 83s 149ms/step - loss: 0.1550 - mse: 0.1550 - mae: 0.3025 - val_loss: 0.9490 - val_mse: 0.9490 - val_mae: 0.7063\n",
      "Epoch 59/150\n",
      "555/555 [==============================] - 83s 149ms/step - loss: 0.1598 - mse: 0.1598 - mae: 0.3082 - val_loss: 0.9711 - val_mse: 0.9711 - val_mae: 0.7053\n",
      "Epoch 60/150\n",
      "555/555 [==============================] - 83s 149ms/step - loss: 0.1535 - mse: 0.1535 - mae: 0.3023 - val_loss: 0.9229 - val_mse: 0.9229 - val_mae: 0.6949\n",
      "Epoch 61/150\n",
      "555/555 [==============================] - 83s 150ms/step - loss: 0.1518 - mse: 0.1518 - mae: 0.2991 - val_loss: 0.9366 - val_mse: 0.9366 - val_mae: 0.6989\n",
      "Epoch 62/150\n",
      "555/555 [==============================] - 83s 149ms/step - loss: 0.1541 - mse: 0.1541 - mae: 0.3010 - val_loss: 0.9658 - val_mse: 0.9658 - val_mae: 0.7039\n",
      "Epoch 63/150\n",
      "555/555 [==============================] - 83s 150ms/step - loss: 0.1478 - mse: 0.1478 - mae: 0.2968 - val_loss: 0.9413 - val_mse: 0.9413 - val_mae: 0.6999\n",
      "Epoch 64/150\n",
      "555/555 [==============================] - 83s 150ms/step - loss: 0.1465 - mse: 0.1465 - mae: 0.2945 - val_loss: 0.9038 - val_mse: 0.9038 - val_mae: 0.6935\n",
      "Epoch 65/150\n",
      "555/555 [==============================] - 83s 150ms/step - loss: 0.1485 - mse: 0.1485 - mae: 0.2961 - val_loss: 0.9236 - val_mse: 0.9236 - val_mae: 0.6935\n",
      "Epoch 66/150\n",
      "555/555 [==============================] - 83s 149ms/step - loss: 0.1379 - mse: 0.1379 - mae: 0.2859 - val_loss: 0.9234 - val_mse: 0.9234 - val_mae: 0.6917\n",
      "Epoch 67/150\n",
      "555/555 [==============================] - 83s 150ms/step - loss: 0.1349 - mse: 0.1349 - mae: 0.2828 - val_loss: 0.9248 - val_mse: 0.9248 - val_mae: 0.7012\n",
      "Epoch 68/150\n",
      "555/555 [==============================] - 83s 149ms/step - loss: 0.1374 - mse: 0.1374 - mae: 0.2857 - val_loss: 0.9058 - val_mse: 0.9058 - val_mae: 0.6861\n",
      "Epoch 69/150\n",
      "555/555 [==============================] - 83s 149ms/step - loss: 0.1398 - mse: 0.1398 - mae: 0.2871 - val_loss: 0.9301 - val_mse: 0.9301 - val_mae: 0.6949\n",
      "Epoch 70/150\n",
      "555/555 [==============================] - 83s 149ms/step - loss: 0.1353 - mse: 0.1353 - mae: 0.2827 - val_loss: 0.9020 - val_mse: 0.9020 - val_mae: 0.6908\n",
      "Epoch 71/150\n",
      "555/555 [==============================] - 83s 149ms/step - loss: 0.1327 - mse: 0.1327 - mae: 0.2801 - val_loss: 0.9284 - val_mse: 0.9284 - val_mae: 0.6948\n",
      "Epoch 72/150\n",
      "555/555 [==============================] - 83s 149ms/step - loss: 0.1342 - mse: 0.1342 - mae: 0.2813 - val_loss: 0.9105 - val_mse: 0.9105 - val_mae: 0.6880\n",
      "Epoch 73/150\n",
      "555/555 [==============================] - 83s 150ms/step - loss: 0.1286 - mse: 0.1286 - mae: 0.2769 - val_loss: 0.9395 - val_mse: 0.9395 - val_mae: 0.6980\n",
      "Epoch 74/150\n",
      "555/555 [==============================] - 83s 149ms/step - loss: 0.1339 - mse: 0.1339 - mae: 0.2793 - val_loss: 0.9172 - val_mse: 0.9172 - val_mae: 0.6896\n",
      "Epoch 75/150\n",
      "555/555 [==============================] - 83s 150ms/step - loss: 0.1295 - mse: 0.1295 - mae: 0.2755 - val_loss: 0.9170 - val_mse: 0.9170 - val_mae: 0.6895\n",
      "Epoch 76/150\n",
      "555/555 [==============================] - 83s 150ms/step - loss: 0.1319 - mse: 0.1319 - mae: 0.2780 - val_loss: 0.9328 - val_mse: 0.9328 - val_mae: 0.6961\n",
      "Epoch 77/150\n",
      "555/555 [==============================] - 83s 150ms/step - loss: 0.1242 - mse: 0.1242 - mae: 0.2707 - val_loss: 0.9099 - val_mse: 0.9099 - val_mae: 0.6873\n",
      "Epoch 78/150\n",
      "555/555 [==============================] - 83s 150ms/step - loss: 0.1243 - mse: 0.1243 - mae: 0.2708 - val_loss: 0.9255 - val_mse: 0.9255 - val_mae: 0.6888\n",
      "Epoch 79/150\n",
      "555/555 [==============================] - 83s 149ms/step - loss: 0.1224 - mse: 0.1224 - mae: 0.2696 - val_loss: 0.9269 - val_mse: 0.9269 - val_mae: 0.6875\n",
      "Epoch 80/150\n",
      "555/555 [==============================] - 83s 150ms/step - loss: 0.1222 - mse: 0.1222 - mae: 0.2675 - val_loss: 0.9315 - val_mse: 0.9315 - val_mae: 0.6903\n",
      "Epoch 81/150\n",
      "555/555 [==============================] - 83s 149ms/step - loss: 0.1208 - mse: 0.1208 - mae: 0.2672 - val_loss: 0.9207 - val_mse: 0.9207 - val_mae: 0.6939\n",
      "Epoch 82/150\n",
      "555/555 [==============================] - 83s 150ms/step - loss: 0.1161 - mse: 0.1161 - mae: 0.2619 - val_loss: 0.9321 - val_mse: 0.9321 - val_mae: 0.6904\n",
      "Epoch 83/150\n",
      "555/555 [==============================] - 83s 150ms/step - loss: 0.1181 - mse: 0.1181 - mae: 0.2639 - val_loss: 0.9243 - val_mse: 0.9243 - val_mae: 0.6880\n",
      "Epoch 84/150\n",
      "555/555 [==============================] - 83s 150ms/step - loss: 0.1136 - mse: 0.1136 - mae: 0.2584 - val_loss: 0.9250 - val_mse: 0.9250 - val_mae: 0.6917\n",
      "Epoch 85/150\n",
      "555/555 [==============================] - 83s 149ms/step - loss: 0.1174 - mse: 0.1174 - mae: 0.2633 - val_loss: 0.9215 - val_mse: 0.9215 - val_mae: 0.6918\n",
      "Epoch 86/150\n",
      "555/555 [==============================] - 83s 150ms/step - loss: 0.1163 - mse: 0.1163 - mae: 0.2612 - val_loss: 0.9241 - val_mse: 0.9241 - val_mae: 0.6934\n",
      "Epoch 87/150\n",
      "555/555 [==============================] - 83s 150ms/step - loss: 0.1140 - mse: 0.1140 - mae: 0.2582 - val_loss: 0.9130 - val_mse: 0.9130 - val_mae: 0.6870\n",
      "Epoch 88/150\n",
      "555/555 [==============================] - 83s 150ms/step - loss: 0.1109 - mse: 0.1109 - mae: 0.2552 - val_loss: 0.9349 - val_mse: 0.9349 - val_mae: 0.6993\n",
      "Epoch 89/150\n",
      "555/555 [==============================] - 83s 150ms/step - loss: 0.1260 - mse: 0.1260 - mae: 0.2681 - val_loss: 0.9181 - val_mse: 0.9181 - val_mae: 0.6890\n",
      "Epoch 90/150\n",
      "555/555 [==============================] - 83s 149ms/step - loss: 0.1084 - mse: 0.1084 - mae: 0.2524 - val_loss: 0.9176 - val_mse: 0.9176 - val_mae: 0.6885\n",
      "Epoch 91/150\n",
      "555/555 [==============================] - 83s 150ms/step - loss: 0.1077 - mse: 0.1077 - mae: 0.2507 - val_loss: 0.9343 - val_mse: 0.9343 - val_mae: 0.6936\n",
      "Epoch 92/150\n",
      "555/555 [==============================] - 83s 150ms/step - loss: 0.1060 - mse: 0.1060 - mae: 0.2488 - val_loss: 0.9343 - val_mse: 0.9343 - val_mae: 0.6951\n",
      "Epoch 93/150\n",
      "555/555 [==============================] - 83s 149ms/step - loss: 0.1054 - mse: 0.1054 - mae: 0.2488 - val_loss: 0.9184 - val_mse: 0.9184 - val_mae: 0.6936\n",
      "Epoch 94/150\n",
      "555/555 [==============================] - 83s 150ms/step - loss: 0.1088 - mse: 0.1088 - mae: 0.2520 - val_loss: 0.9234 - val_mse: 0.9234 - val_mae: 0.6933\n",
      "Epoch 95/150\n",
      "555/555 [==============================] - 83s 150ms/step - loss: 0.1099 - mse: 0.1099 - mae: 0.2504 - val_loss: 0.9304 - val_mse: 0.9304 - val_mae: 0.6892\n",
      "Epoch 96/150\n",
      "555/555 [==============================] - 83s 150ms/step - loss: 0.1060 - mse: 0.1060 - mae: 0.2483 - val_loss: 0.9386 - val_mse: 0.9386 - val_mae: 0.6903\n",
      "Epoch 97/150\n"
     ]
    },
    {
     "name": "stdout",
     "output_type": "stream",
     "text": [
      "555/555 [==============================] - 83s 150ms/step - loss: 0.1005 - mse: 0.1005 - mae: 0.2434 - val_loss: 0.9362 - val_mse: 0.9362 - val_mae: 0.6946\n",
      "Epoch 98/150\n",
      "555/555 [==============================] - 83s 149ms/step - loss: 0.1017 - mse: 0.1017 - mae: 0.2440 - val_loss: 0.9311 - val_mse: 0.9311 - val_mae: 0.6920\n",
      "Epoch 99/150\n",
      "555/555 [==============================] - 83s 150ms/step - loss: 0.1049 - mse: 0.1049 - mae: 0.2482 - val_loss: 0.9187 - val_mse: 0.9187 - val_mae: 0.6870\n",
      "Epoch 100/150\n",
      "555/555 [==============================] - 83s 149ms/step - loss: 0.1005 - mse: 0.1005 - mae: 0.2431 - val_loss: 0.9242 - val_mse: 0.9242 - val_mae: 0.6873\n",
      "Epoch 101/150\n",
      "555/555 [==============================] - 83s 150ms/step - loss: 0.0959 - mse: 0.0959 - mae: 0.2373 - val_loss: 0.9228 - val_mse: 0.9228 - val_mae: 0.6879\n",
      "Epoch 102/150\n",
      "555/555 [==============================] - 83s 150ms/step - loss: 0.0970 - mse: 0.0970 - mae: 0.2391 - val_loss: 0.9228 - val_mse: 0.9228 - val_mae: 0.6920\n",
      "Epoch 103/150\n",
      "555/555 [==============================] - 83s 149ms/step - loss: 0.0987 - mse: 0.0987 - mae: 0.2401 - val_loss: 0.9238 - val_mse: 0.9238 - val_mae: 0.6889\n",
      "Epoch 104/150\n",
      "555/555 [==============================] - 83s 149ms/step - loss: 0.0955 - mse: 0.0955 - mae: 0.2368 - val_loss: 0.9430 - val_mse: 0.9430 - val_mae: 0.7006\n",
      "Epoch 105/150\n",
      "555/555 [==============================] - 83s 149ms/step - loss: 0.1000 - mse: 0.1000 - mae: 0.2412 - val_loss: 0.9275 - val_mse: 0.9275 - val_mae: 0.6943\n",
      "Epoch 106/150\n",
      "555/555 [==============================] - 83s 149ms/step - loss: 0.0957 - mse: 0.0957 - mae: 0.2372 - val_loss: 0.9204 - val_mse: 0.9204 - val_mae: 0.6913\n",
      "Epoch 107/150\n",
      "555/555 [==============================] - 83s 149ms/step - loss: 0.0988 - mse: 0.0988 - mae: 0.2389 - val_loss: 0.9441 - val_mse: 0.9441 - val_mae: 0.6960\n",
      "Epoch 108/150\n",
      "555/555 [==============================] - 83s 149ms/step - loss: 0.0951 - mse: 0.0951 - mae: 0.2363 - val_loss: 0.9208 - val_mse: 0.9208 - val_mae: 0.6864\n",
      "Epoch 109/150\n",
      "555/555 [==============================] - 83s 149ms/step - loss: 0.0955 - mse: 0.0955 - mae: 0.2364 - val_loss: 0.9384 - val_mse: 0.9384 - val_mae: 0.6947\n",
      "Epoch 110/150\n",
      "555/555 [==============================] - 83s 149ms/step - loss: 0.0931 - mse: 0.0931 - mae: 0.2344 - val_loss: 0.9356 - val_mse: 0.9356 - val_mae: 0.6898\n",
      "Epoch 111/150\n",
      "555/555 [==============================] - 83s 149ms/step - loss: 0.0923 - mse: 0.0923 - mae: 0.2324 - val_loss: 0.9422 - val_mse: 0.9422 - val_mae: 0.6927\n",
      "Epoch 112/150\n",
      "555/555 [==============================] - 83s 149ms/step - loss: 0.0919 - mse: 0.0919 - mae: 0.2321 - val_loss: 0.9394 - val_mse: 0.9394 - val_mae: 0.6914\n",
      "Epoch 113/150\n",
      "555/555 [==============================] - 83s 149ms/step - loss: 0.0989 - mse: 0.0989 - mae: 0.2368 - val_loss: 0.9263 - val_mse: 0.9263 - val_mae: 0.6869\n",
      "Epoch 114/150\n",
      "555/555 [==============================] - 83s 149ms/step - loss: 0.0955 - mse: 0.0955 - mae: 0.2338 - val_loss: 0.9344 - val_mse: 0.9344 - val_mae: 0.6871\n",
      "Epoch 115/150\n",
      "555/555 [==============================] - 83s 150ms/step - loss: 0.0909 - mse: 0.0909 - mae: 0.2295 - val_loss: 0.9390 - val_mse: 0.9390 - val_mae: 0.6926\n",
      "Epoch 116/150\n",
      "555/555 [==============================] - 83s 150ms/step - loss: 0.0877 - mse: 0.0877 - mae: 0.2257 - val_loss: 0.9135 - val_mse: 0.9135 - val_mae: 0.6864\n",
      "Epoch 117/150\n",
      "555/555 [==============================] - 83s 150ms/step - loss: 0.0888 - mse: 0.0888 - mae: 0.2286 - val_loss: 0.9283 - val_mse: 0.9283 - val_mae: 0.6886\n",
      "Epoch 118/150\n",
      "555/555 [==============================] - 83s 149ms/step - loss: 0.0903 - mse: 0.0903 - mae: 0.2296 - val_loss: 0.9243 - val_mse: 0.9243 - val_mae: 0.6909\n",
      "Epoch 119/150\n",
      "555/555 [==============================] - 83s 149ms/step - loss: 0.0876 - mse: 0.0876 - mae: 0.2264 - val_loss: 0.9315 - val_mse: 0.9315 - val_mae: 0.6904\n",
      "Epoch 120/150\n",
      "555/555 [==============================] - 83s 149ms/step - loss: 0.0913 - mse: 0.0913 - mae: 0.2289 - val_loss: 0.9338 - val_mse: 0.9338 - val_mae: 0.6884\n",
      "Epoch 121/150\n",
      "555/555 [==============================] - 83s 150ms/step - loss: 0.0848 - mse: 0.0848 - mae: 0.2223 - val_loss: 0.9158 - val_mse: 0.9158 - val_mae: 0.6865\n",
      "Epoch 122/150\n",
      "555/555 [==============================] - 83s 150ms/step - loss: 0.0887 - mse: 0.0887 - mae: 0.2268 - val_loss: 0.9219 - val_mse: 0.9219 - val_mae: 0.6857\n",
      "Epoch 123/150\n",
      "555/555 [==============================] - 83s 150ms/step - loss: 0.0857 - mse: 0.0857 - mae: 0.2240 - val_loss: 0.9412 - val_mse: 0.9412 - val_mae: 0.6879\n",
      "Epoch 124/150\n",
      "555/555 [==============================] - 83s 150ms/step - loss: 0.0840 - mse: 0.0840 - mae: 0.2213 - val_loss: 0.9410 - val_mse: 0.9410 - val_mae: 0.6878\n",
      "Epoch 125/150\n",
      "555/555 [==============================] - 83s 150ms/step - loss: 0.0853 - mse: 0.0853 - mae: 0.2225 - val_loss: 0.9328 - val_mse: 0.9328 - val_mae: 0.6867\n",
      "Epoch 126/150\n",
      "555/555 [==============================] - 83s 150ms/step - loss: 0.0855 - mse: 0.0855 - mae: 0.2222 - val_loss: 0.9381 - val_mse: 0.9381 - val_mae: 0.6943\n",
      "Epoch 127/150\n",
      "555/555 [==============================] - 83s 150ms/step - loss: 0.0834 - mse: 0.0834 - mae: 0.2210 - val_loss: 0.9346 - val_mse: 0.9346 - val_mae: 0.6882\n",
      "Epoch 128/150\n",
      "555/555 [==============================] - 83s 150ms/step - loss: 0.0812 - mse: 0.0812 - mae: 0.2179 - val_loss: 0.9282 - val_mse: 0.9282 - val_mae: 0.6887\n",
      "Epoch 129/150\n",
      "555/555 [==============================] - 83s 150ms/step - loss: 0.0796 - mse: 0.0796 - mae: 0.2155 - val_loss: 0.9499 - val_mse: 0.9499 - val_mae: 0.6921\n",
      "Epoch 130/150\n",
      "555/555 [==============================] - 83s 150ms/step - loss: 0.0825 - mse: 0.0825 - mae: 0.2193 - val_loss: 0.9341 - val_mse: 0.9341 - val_mae: 0.6920\n",
      "Epoch 131/150\n",
      "555/555 [==============================] - 83s 150ms/step - loss: 0.0827 - mse: 0.0827 - mae: 0.2190 - val_loss: 0.9438 - val_mse: 0.9438 - val_mae: 0.6908\n",
      "Epoch 132/150\n",
      "555/555 [==============================] - 83s 150ms/step - loss: 0.0876 - mse: 0.0876 - mae: 0.2224 - val_loss: 0.9387 - val_mse: 0.9387 - val_mae: 0.6934\n",
      "Epoch 133/150\n",
      "555/555 [==============================] - 83s 150ms/step - loss: 0.0918 - mse: 0.0918 - mae: 0.2291 - val_loss: 0.9507 - val_mse: 0.9507 - val_mae: 0.6987\n",
      "Epoch 134/150\n",
      "555/555 [==============================] - 83s 150ms/step - loss: 0.0791 - mse: 0.0791 - mae: 0.2134 - val_loss: 0.9175 - val_mse: 0.9175 - val_mae: 0.6820\n",
      "Epoch 135/150\n",
      "555/555 [==============================] - 83s 150ms/step - loss: 0.0785 - mse: 0.0785 - mae: 0.2126 - val_loss: 0.9291 - val_mse: 0.9291 - val_mae: 0.6849\n",
      "Epoch 136/150\n",
      "555/555 [==============================] - 83s 149ms/step - loss: 0.0756 - mse: 0.0756 - mae: 0.2089 - val_loss: 0.9301 - val_mse: 0.9301 - val_mae: 0.6886\n",
      "Epoch 137/150\n",
      "555/555 [==============================] - 83s 150ms/step - loss: 0.0805 - mse: 0.0805 - mae: 0.2149 - val_loss: 0.9331 - val_mse: 0.9331 - val_mae: 0.6878\n",
      "Epoch 138/150\n",
      "555/555 [==============================] - 83s 150ms/step - loss: 0.0781 - mse: 0.0781 - mae: 0.2119 - val_loss: 0.9417 - val_mse: 0.9417 - val_mae: 0.6931\n",
      "Epoch 139/150\n",
      "555/555 [==============================] - 83s 150ms/step - loss: 0.0742 - mse: 0.0742 - mae: 0.2081 - val_loss: 0.9578 - val_mse: 0.9578 - val_mae: 0.6952\n",
      "Epoch 140/150\n",
      "555/555 [==============================] - 83s 150ms/step - loss: 0.0798 - mse: 0.0798 - mae: 0.2150 - val_loss: 0.9293 - val_mse: 0.9293 - val_mae: 0.6893\n",
      "Epoch 141/150\n",
      "555/555 [==============================] - 83s 150ms/step - loss: 0.0792 - mse: 0.0792 - mae: 0.2141 - val_loss: 0.9379 - val_mse: 0.9379 - val_mae: 0.6882\n",
      "Epoch 142/150\n",
      "555/555 [==============================] - 83s 149ms/step - loss: 0.0753 - mse: 0.0753 - mae: 0.2091 - val_loss: 0.9593 - val_mse: 0.9593 - val_mae: 0.6964\n",
      "Epoch 143/150\n",
      "555/555 [==============================] - 83s 150ms/step - loss: 0.0962 - mse: 0.0962 - mae: 0.2305 - val_loss: 0.9477 - val_mse: 0.9477 - val_mae: 0.6873\n",
      "Epoch 144/150\n",
      "555/555 [==============================] - 83s 150ms/step - loss: 0.0771 - mse: 0.0771 - mae: 0.2114 - val_loss: 0.9275 - val_mse: 0.9275 - val_mae: 0.6843\n",
      "Epoch 145/150\n"
     ]
    },
    {
     "name": "stdout",
     "output_type": "stream",
     "text": [
      "555/555 [==============================] - 83s 149ms/step - loss: 0.0726 - mse: 0.0726 - mae: 0.2049 - val_loss: 0.9290 - val_mse: 0.9290 - val_mae: 0.6870\n",
      "Epoch 146/150\n",
      "555/555 [==============================] - 83s 149ms/step - loss: 0.0752 - mse: 0.0752 - mae: 0.2082 - val_loss: 0.9466 - val_mse: 0.9466 - val_mae: 0.6914\n",
      "Epoch 147/150\n",
      "555/555 [==============================] - 83s 149ms/step - loss: 0.0856 - mse: 0.0856 - mae: 0.2179 - val_loss: 0.9457 - val_mse: 0.9457 - val_mae: 0.6916\n",
      "Epoch 148/150\n",
      "555/555 [==============================] - 83s 149ms/step - loss: 0.0771 - mse: 0.0771 - mae: 0.2086 - val_loss: 0.9277 - val_mse: 0.9277 - val_mae: 0.6840\n",
      "Epoch 149/150\n",
      "555/555 [==============================] - 83s 149ms/step - loss: 0.0713 - mse: 0.0713 - mae: 0.2031 - val_loss: 0.9322 - val_mse: 0.9322 - val_mae: 0.6828\n",
      "Epoch 150/150\n",
      "555/555 [==============================] - 83s 150ms/step - loss: 0.0727 - mse: 0.0727 - mae: 0.2046 - val_loss: 0.9303 - val_mse: 0.9303 - val_mae: 0.6909\n",
      "EndTime : 2022-02-12 00:20:02.703198\n"
     ]
    }
   ],
   "source": [
    "StartTime8 = datetime.now()\n",
    "print(\"StartTime :\", StartTime8)\n",
    "with tf.device('/GPU:0'):\n",
    "    model_train = model.fit(train_X, training_label_array, batch_size=batch_size,epochs=training_epochs,verbose=1,\n",
    "                        validation_data=(test_X, test_label_array))\n",
    "\n",
    "EndTime8 = datetime.now()\n",
    "print(\"EndTime :\", EndTime8)"
   ]
  },
  {
   "cell_type": "code",
   "execution_count": 18,
   "metadata": {},
   "outputs": [],
   "source": [
    "import json\n",
    "# from keras.models import model_from_json, load_model\n",
    "workdir = \"D://ResNetIC50//Result//MEDG-61K//ResNet\"\n",
    "# Option 1: Save Weights + Architecture\n",
    "model.save_weights(workdir+ '//MEDG61K_ResNet_nnnr0_model_fix_v3.h5')\n",
    "with open(workdir + '//MEDG61K_ResNet_model_nnnr0_architecture_fix_v3.json', 'w') as f:\n",
    "    f.write(model.to_json())\n",
    "# Option 1: Load Weights + Architecture\n",
    "# with open('model_architecture.json', 'r') as f:\n",
    "#     new_model_1 = model_from_json(f.read())\n",
    "# new_model_1.load_weights('model_weights.h5')"
   ]
  },
  {
   "cell_type": "code",
   "execution_count": 19,
   "metadata": {},
   "outputs": [],
   "source": [
    "# Option 2: Save/Load the Entire Model\n",
    "# from keras.models import load_model\n",
    "\n",
    "# Creates a HDF5 file 'my_model.h5'\n",
    "model.save(workdir + '//MEDG61K_ResNet_nnnr0_model_fix_2080ti_v3.h5')\n",
    "\n",
    "# Deletes the existing model\n",
    "# del model  \n",
    "\n",
    "# Returns a compiled model identical to the previous one\n",
    "# model = load_model('my_model.h5')"
   ]
  },
  {
   "cell_type": "code",
   "execution_count": 20,
   "metadata": {},
   "outputs": [
    {
     "name": "stdout",
     "output_type": "stream",
     "text": [
      "193/193 [==============================] - 4s 21ms/step - loss: 0.9303 - mse: 0.9303 - mae: 0.6909\n"
     ]
    }
   ],
   "source": [
    "test_eval = model.evaluate(test_X, test_label_array, verbose=1)"
   ]
  },
  {
   "cell_type": "code",
   "execution_count": 21,
   "metadata": {},
   "outputs": [
    {
     "data": {
      "text/plain": [
       "[0.9303377866744995, 0.9303377866744995, 0.6908604502677917]"
      ]
     },
     "execution_count": 21,
     "metadata": {},
     "output_type": "execute_result"
    }
   ],
   "source": [
    "test_eval"
   ]
  },
  {
   "cell_type": "code",
   "execution_count": 22,
   "metadata": {},
   "outputs": [],
   "source": [
    "accuracy = model_train.history['mse']\n",
    "val_accuracy = model_train.history['val_mse']\n",
    "loss = model_train.history['loss']\n",
    "val_loss = model_train.history['val_loss']\n",
    "\n",
    "np_acc = np.array(accuracy)\n",
    "np_val_acc = np.array(val_accuracy)\n",
    "np_loss = np.array(loss)\n",
    "np_val_loss = np.array(val_loss)"
   ]
  },
  {
   "cell_type": "code",
   "execution_count": 23,
   "metadata": {},
   "outputs": [],
   "source": [
    "import matplotlib\n",
    "from matplotlib import pyplot as plt"
   ]
  },
  {
   "cell_type": "code",
   "execution_count": 24,
   "metadata": {},
   "outputs": [
    {
     "data": {
      "image/png": "[encoded data removed]",
      "text/plain": [
       "<Figure size 432x288 with 1 Axes>"
      ]
     },
     "metadata": {
      "needs_background": "light"
     },
     "output_type": "display_data"
    },
    {
     "data": {
      "image/png": "[encoded data removed]",
      "text/plain": [
       "<Figure size 432x288 with 1 Axes>"
      ]
     },
     "metadata": {
      "needs_background": "light"
     },
     "output_type": "display_data"
    }
   ],
   "source": [
    "# accuracy = model_train.history['acc']\n",
    "# val_accuracy = model_train.history['val_acc']\n",
    "# loss = model_train.history['loss']\n",
    "# val_loss = model_train.history['val_loss']\n",
    "epochs = range(len(accuracy))\n",
    "plt.plot(epochs, accuracy, 'bo', label='Training mse')\n",
    "plt.plot(epochs, val_accuracy, 'b', label='Validation mse')\n",
    "plt.title('Training and validation mse')\n",
    "plt.legend()\n",
    "plt.figure()\n",
    "plt.plot(epochs, loss, 'bo', label='Training loss')\n",
    "plt.plot(epochs, val_loss, 'b', label='Validation loss')\n",
    "plt.title('Training and validation loss')\n",
    "plt.legend()\n",
    "plt.show()"
   ]
  },
  {
   "cell_type": "code",
   "execution_count": 25,
   "metadata": {},
   "outputs": [],
   "source": [
    "predicted_classes = model.predict(test_X)"
   ]
  },
  {
   "cell_type": "code",
   "execution_count": 26,
   "metadata": {},
   "outputs": [],
   "source": [
    "predicted_value = predicted_classes"
   ]
  },
  {
   "cell_type": "code",
   "execution_count": 27,
   "metadata": {},
   "outputs": [],
   "source": [
    "a = pd.DataFrame(predicted_value)\n",
    "b = pd.DataFrame(test_label_array)\n",
    "c = pd.concat([a,b], axis=1)\n",
    "c.columns=[\"Predicted\",\"Test\"]"
   ]
  },
  {
   "cell_type": "code",
   "execution_count": 28,
   "metadata": {},
   "outputs": [],
   "source": [
    "c.to_csv(workdir + '//MEDG61K_ResNet_nnnr0_pred_obs_table.csv')"
   ]
  },
  {
   "cell_type": "code",
   "execution_count": 29,
   "metadata": {
    "scrolled": true
   },
   "outputs": [
    {
     "data": {
      "text/html": [
       "<div>\n",
       "<style scoped>\n",
       "    .dataframe tbody tr th:only-of-type {\n",
       "        vertical-align: middle;\n",
       "    }\n",
       "\n",
       "    .dataframe tbody tr th {\n",
       "        vertical-align: top;\n",
       "    }\n",
       "\n",
       "    .dataframe thead th {\n",
       "        text-align: right;\n",
       "    }\n",
       "</style>\n",
       "<table border=\"1\" class=\"dataframe\">\n",
       "  <thead>\n",
       "    <tr style=\"text-align: right;\">\n",
       "      <th></th>\n",
       "      <th>Predicted</th>\n",
       "      <th>Test</th>\n",
       "    </tr>\n",
       "  </thead>\n",
       "  <tbody>\n",
       "    <tr>\n",
       "      <th>0</th>\n",
       "      <td>3.801374</td>\n",
       "      <td>4.019488</td>\n",
       "    </tr>\n",
       "    <tr>\n",
       "      <th>1</th>\n",
       "      <td>4.522639</td>\n",
       "      <td>4.874940</td>\n",
       "    </tr>\n",
       "    <tr>\n",
       "      <th>2</th>\n",
       "      <td>4.007802</td>\n",
       "      <td>3.469247</td>\n",
       "    </tr>\n",
       "    <tr>\n",
       "      <th>3</th>\n",
       "      <td>3.392780</td>\n",
       "      <td>3.188959</td>\n",
       "    </tr>\n",
       "    <tr>\n",
       "      <th>4</th>\n",
       "      <td>5.378875</td>\n",
       "      <td>5.234564</td>\n",
       "    </tr>\n",
       "    <tr>\n",
       "      <th>...</th>\n",
       "      <td>...</td>\n",
       "      <td>...</td>\n",
       "    </tr>\n",
       "    <tr>\n",
       "      <th>6158</th>\n",
       "      <td>4.490055</td>\n",
       "      <td>3.822629</td>\n",
       "    </tr>\n",
       "    <tr>\n",
       "      <th>6159</th>\n",
       "      <td>4.859638</td>\n",
       "      <td>5.123446</td>\n",
       "    </tr>\n",
       "    <tr>\n",
       "      <th>6160</th>\n",
       "      <td>4.596969</td>\n",
       "      <td>3.998526</td>\n",
       "    </tr>\n",
       "    <tr>\n",
       "      <th>6161</th>\n",
       "      <td>-2.986352</td>\n",
       "      <td>-1.653120</td>\n",
       "    </tr>\n",
       "    <tr>\n",
       "      <th>6162</th>\n",
       "      <td>-4.664845</td>\n",
       "      <td>-6.065551</td>\n",
       "    </tr>\n",
       "  </tbody>\n",
       "</table>\n",
       "<p>6163 rows × 2 columns</p>\n",
       "</div>"
      ],
      "text/plain": [
       "      Predicted      Test\n",
       "0      3.801374  4.019488\n",
       "1      4.522639  4.874940\n",
       "2      4.007802  3.469247\n",
       "3      3.392780  3.188959\n",
       "4      5.378875  5.234564\n",
       "...         ...       ...\n",
       "6158   4.490055  3.822629\n",
       "6159   4.859638  5.123446\n",
       "6160   4.596969  3.998526\n",
       "6161  -2.986352 -1.653120\n",
       "6162  -4.664845 -6.065551\n",
       "\n",
       "[6163 rows x 2 columns]"
      ]
     },
     "execution_count": 29,
     "metadata": {},
     "output_type": "execute_result"
    }
   ],
   "source": [
    "c"
   ]
  },
  {
   "cell_type": "code",
   "execution_count": 30,
   "metadata": {},
   "outputs": [
    {
     "data": {
      "text/plain": [
       "(6163, 1)"
      ]
     },
     "execution_count": 30,
     "metadata": {},
     "output_type": "execute_result"
    }
   ],
   "source": [
    "predicted_value.shape"
   ]
  },
  {
   "cell_type": "code",
   "execution_count": 31,
   "metadata": {},
   "outputs": [
    {
     "data": {
      "text/plain": [
       "LinregressResult(slope=0.8802436068672334, intercept=0.28151171892565907, rvalue=0.9401508057595434, pvalue=0.0, stderr=0.004064682714877545, intercept_stderr=0.013977948974676808)"
      ]
     },
     "execution_count": 31,
     "metadata": {},
     "output_type": "execute_result"
    }
   ],
   "source": [
    "from scipy.stats import linregress\n",
    "linregress(b[0], a[0])"
   ]
  },
  {
   "cell_type": "code",
   "execution_count": 32,
   "metadata": {},
   "outputs": [
    {
     "name": "stdout",
     "output_type": "stream",
     "text": [
      "0.8835918416245337\n"
     ]
    }
   ],
   "source": [
    "from sklearn.metrics import r2_score\n",
    "r2_value = r2_score(b,a)\n",
    "print(r2_value)"
   ]
  },
  {
   "cell_type": "code",
   "execution_count": 33,
   "metadata": {},
   "outputs": [
    {
     "name": "stdout",
     "output_type": "stream",
     "text": [
      "Final rmse value is = 0.9645402024833996\n"
     ]
    }
   ],
   "source": [
    "rse = ((b[0]-a[0])**2).sum()\n",
    "mse = rse / len(b)\n",
    "print(\"Final rmse value is =\",np.sqrt(mse))"
   ]
  },
  {
   "cell_type": "code",
   "execution_count": 34,
   "metadata": {},
   "outputs": [
    {
     "data": {
      "image/png": "[encoded data removed]",
      "text/plain": [
       "<Figure size 432x432 with 3 Axes>"
      ]
     },
     "metadata": {
      "needs_background": "light"
     },
     "output_type": "display_data"
    }
   ],
   "source": [
    "workdir = \"D://ResNetIC50//Result//Figure//MEDG-61K\"\n",
    "import seaborn as sns\n",
    "\n",
    "g = sns.jointplot(x=\"Test\", y=\"Predicted\", data=c, kind='reg', color='#7C7C7C',\n",
    "                  joint_kws={'line_kws':{'color':'black'}})\n",
    "g.savefig(workdir+ '//MEDG61K_nnnr0_ResNet.png', dpi=300)"
   ]
  },
  {
   "cell_type": "code",
   "execution_count": null,
   "metadata": {},
   "outputs": [],
   "source": []
  },
  {
   "cell_type": "code",
   "execution_count": null,
   "metadata": {},
   "outputs": [],
   "source": []
  }
 ],
 "metadata": {
  "kernelspec": {
   "display_name": "Python 3",
   "language": "python",
   "name": "python3"
  },
  "language_info": {
   "codemirror_mode": {
    "name": "ipython",
    "version": 3
   },
   "file_extension": ".py",
   "mimetype": "text/x-python",
   "name": "python",
   "nbconvert_exporter": "python",
   "pygments_lexer": "ipython3",
   "version": "3.7.11"
  }
 },
 "nbformat": 4,
 "nbformat_minor": 2
}
