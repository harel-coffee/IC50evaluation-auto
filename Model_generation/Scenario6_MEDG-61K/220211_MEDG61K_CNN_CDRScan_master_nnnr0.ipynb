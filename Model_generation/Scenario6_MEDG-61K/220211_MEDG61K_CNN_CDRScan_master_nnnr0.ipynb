{
 "cells": [
  {
   "cell_type": "code",
   "execution_count": 1,
   "metadata": {},
   "outputs": [
    {
     "name": "stderr",
     "output_type": "stream",
     "text": [
      "C:\\Users\\BGM18\\.conda\\envs\\ronny_keras\\lib\\site-packages\\tensorflow\\python\\framework\\dtypes.py:516: FutureWarning: Passing (type, 1) or '1type' as a synonym of type is deprecated; in a future version of numpy, it will be understood as (type, (1,)) / '(1,)type'.\n",
      "  _np_qint8 = np.dtype([(\"qint8\", np.int8, 1)])\n",
      "C:\\Users\\BGM18\\.conda\\envs\\ronny_keras\\lib\\site-packages\\tensorflow\\python\\framework\\dtypes.py:517: FutureWarning: Passing (type, 1) or '1type' as a synonym of type is deprecated; in a future version of numpy, it will be understood as (type, (1,)) / '(1,)type'.\n",
      "  _np_quint8 = np.dtype([(\"quint8\", np.uint8, 1)])\n",
      "C:\\Users\\BGM18\\.conda\\envs\\ronny_keras\\lib\\site-packages\\tensorflow\\python\\framework\\dtypes.py:518: FutureWarning: Passing (type, 1) or '1type' as a synonym of type is deprecated; in a future version of numpy, it will be understood as (type, (1,)) / '(1,)type'.\n",
      "  _np_qint16 = np.dtype([(\"qint16\", np.int16, 1)])\n",
      "C:\\Users\\BGM18\\.conda\\envs\\ronny_keras\\lib\\site-packages\\tensorflow\\python\\framework\\dtypes.py:519: FutureWarning: Passing (type, 1) or '1type' as a synonym of type is deprecated; in a future version of numpy, it will be understood as (type, (1,)) / '(1,)type'.\n",
      "  _np_quint16 = np.dtype([(\"quint16\", np.uint16, 1)])\n",
      "C:\\Users\\BGM18\\.conda\\envs\\ronny_keras\\lib\\site-packages\\tensorflow\\python\\framework\\dtypes.py:520: FutureWarning: Passing (type, 1) or '1type' as a synonym of type is deprecated; in a future version of numpy, it will be understood as (type, (1,)) / '(1,)type'.\n",
      "  _np_qint32 = np.dtype([(\"qint32\", np.int32, 1)])\n",
      "C:\\Users\\BGM18\\.conda\\envs\\ronny_keras\\lib\\site-packages\\tensorflow\\python\\framework\\dtypes.py:525: FutureWarning: Passing (type, 1) or '1type' as a synonym of type is deprecated; in a future version of numpy, it will be understood as (type, (1,)) / '(1,)type'.\n",
      "  np_resource = np.dtype([(\"resource\", np.ubyte, 1)])\n",
      "C:\\Users\\BGM18\\.conda\\envs\\ronny_keras\\lib\\site-packages\\tensorboard\\compat\\tensorflow_stub\\dtypes.py:541: FutureWarning: Passing (type, 1) or '1type' as a synonym of type is deprecated; in a future version of numpy, it will be understood as (type, (1,)) / '(1,)type'.\n",
      "  _np_qint8 = np.dtype([(\"qint8\", np.int8, 1)])\n",
      "C:\\Users\\BGM18\\.conda\\envs\\ronny_keras\\lib\\site-packages\\tensorboard\\compat\\tensorflow_stub\\dtypes.py:542: FutureWarning: Passing (type, 1) or '1type' as a synonym of type is deprecated; in a future version of numpy, it will be understood as (type, (1,)) / '(1,)type'.\n",
      "  _np_quint8 = np.dtype([(\"quint8\", np.uint8, 1)])\n",
      "C:\\Users\\BGM18\\.conda\\envs\\ronny_keras\\lib\\site-packages\\tensorboard\\compat\\tensorflow_stub\\dtypes.py:543: FutureWarning: Passing (type, 1) or '1type' as a synonym of type is deprecated; in a future version of numpy, it will be understood as (type, (1,)) / '(1,)type'.\n",
      "  _np_qint16 = np.dtype([(\"qint16\", np.int16, 1)])\n",
      "C:\\Users\\BGM18\\.conda\\envs\\ronny_keras\\lib\\site-packages\\tensorboard\\compat\\tensorflow_stub\\dtypes.py:544: FutureWarning: Passing (type, 1) or '1type' as a synonym of type is deprecated; in a future version of numpy, it will be understood as (type, (1,)) / '(1,)type'.\n",
      "  _np_quint16 = np.dtype([(\"quint16\", np.uint16, 1)])\n",
      "C:\\Users\\BGM18\\.conda\\envs\\ronny_keras\\lib\\site-packages\\tensorboard\\compat\\tensorflow_stub\\dtypes.py:545: FutureWarning: Passing (type, 1) or '1type' as a synonym of type is deprecated; in a future version of numpy, it will be understood as (type, (1,)) / '(1,)type'.\n",
      "  _np_qint32 = np.dtype([(\"qint32\", np.int32, 1)])\n",
      "C:\\Users\\BGM18\\.conda\\envs\\ronny_keras\\lib\\site-packages\\tensorboard\\compat\\tensorflow_stub\\dtypes.py:550: FutureWarning: Passing (type, 1) or '1type' as a synonym of type is deprecated; in a future version of numpy, it will be understood as (type, (1,)) / '(1,)type'.\n",
      "  np_resource = np.dtype([(\"resource\", np.ubyte, 1)])\n",
      "Using TensorFlow backend.\n"
     ]
    }
   ],
   "source": [
    "import os\n",
    "import sys\n",
    "import pandas as pd\n",
    "import numpy as np\n",
    "from sklearn import preprocessing\n",
    "import tensorflow as tf\n",
    "import random\n",
    "import matplotlib\n",
    "from matplotlib import pyplot as plt\n",
    "import statistics\n",
    "from pandas import DataFrame\n",
    "from datetime import datetime\n",
    "import keras\n",
    "from keras.models import Sequential,Input,Model\n",
    "from keras.layers import Dense, Dropout, Reshape, Flatten, Activation\n",
    "from keras.layers import Conv1D, MaxPooling1D, AveragePooling1D, GlobalAveragePooling1D\n",
    "from keras.layers import Conv2D, MaxPooling2D, Concatenate\n",
    "from keras.layers.normalization import BatchNormalization\n",
    "from keras.layers.advanced_activations import LeakyReLU\n",
    "from keras.optimizers import Adam, RMSprop\n",
    "#from keras import backend as K\n",
    "import keras.backend.tensorflow_backend as K\n",
    "from tensorflow.keras.callbacks import ModelCheckpoint, CSVLogger\n",
    "from keras.backend.tensorflow_backend import set_session\n",
    "from os.path import basename\n",
    "#import seaborn as sns\n",
    "from keras.models import load_model\n",
    "from keras.utils.vis_utils import plot_model\n",
    "from sklearn.metrics import r2_score\n",
    "from sklearn.metrics import mean_squared_error\n",
    "from matplotlib.patches import Patch\n",
    "from matplotlib.lines import Line2D\n",
    "from scipy.stats import pearsonr\n",
    "\n",
    "# from tensorflow.keras.callbacks import ModelCheckpoint, CSVLogger\n",
    "#from tensorflow.keras.optimizers import Adam\n",
    "\n",
    "\n",
    "\n",
    "\n",
    "config = tf.ConfigProto()\n",
    "config.gpu_options.per_process_gpu_memory_fraction = 0.7\n",
    "config.gpu_options.allow_growth = True\n",
    "sess = tf.Session(config=config)"
   ]
  },
  {
   "cell_type": "code",
   "execution_count": 2,
   "metadata": {},
   "outputs": [
    {
     "name": "stdout",
     "output_type": "stream",
     "text": [
      "[name: \"/device:CPU:0\"\n",
      "device_type: \"CPU\"\n",
      "memory_limit: 268435456\n",
      "locality {\n",
      "}\n",
      "incarnation: 3796960298833113225\n",
      ", name: \"/device:GPU:0\"\n",
      "device_type: \"GPU\"\n",
      "memory_limit: 8267812044\n",
      "locality {\n",
      "  bus_id: 1\n",
      "  links {\n",
      "  }\n",
      "}\n",
      "incarnation: 1715303460958506626\n",
      "physical_device_desc: \"device: 0, name: GeForce RTX 2080 Ti, pci bus id: 0000:01:00.0, compute capability: 7.5\"\n",
      "]\n"
     ]
    }
   ],
   "source": [
    "from tensorflow.python.client import device_lib\n",
    "print(device_lib.list_local_devices())\n",
    "\n",
    "\n",
    "# 출처: https://3months.tistory.com/206 [Deep Play]"
   ]
  },
  {
   "cell_type": "code",
   "execution_count": 3,
   "metadata": {},
   "outputs": [],
   "source": [
    "workdir = \"D://ResNetIC50//Dataset//MEDG-61K\""
   ]
  },
  {
   "cell_type": "code",
   "execution_count": 4,
   "metadata": {},
   "outputs": [],
   "source": [
    "# < Important note > [ Please download input data from https://mega.nz/#F!CeYGDKyS!uqkmWJ4E2XSGJp_C2VO2gg]\n",
    "\n",
    "dataset = np.load(workdir + \"//MEDG61K_dataset.npz\") # input file\n",
    "ss0 = np.load(workdir + '//MEDG61K_dataset_nnnr0.npz') # split for training and test"
   ]
  },
  {
   "cell_type": "code",
   "execution_count": 5,
   "metadata": {},
   "outputs": [],
   "source": [
    "x = dataset['x']\n",
    "y = dataset['y']\n",
    "# y_linear = dataset['y_lnIC50']\n",
    "ss0_train = ss0['train']\n",
    "ss0_test = ss0['test']"
   ]
  },
  {
   "cell_type": "code",
   "execution_count": 6,
   "metadata": {},
   "outputs": [],
   "source": [
    "training_image_array, training_label_array = x[ss0_train], y[ss0_train]\n",
    "test_image_array, test_label_array = x[ss0_test], y[ss0_test]\n",
    "\n",
    "# In[9]:\n",
    "# ori = training_image_array\n",
    "# bat = np.zeros((ori.shape[0],178))\n",
    "# cat = np.hstack([ori,bat])\n",
    "# training_image_array = cat\n",
    "\n",
    "# # In[8]:\n",
    "# training_image_array.shape\n",
    "\n",
    "# # In[10]:\n",
    "# ori2 = test_image_array\n",
    "# bat2 = np.zeros((ori2.shape[0],178))\n",
    "# cat2 = np.hstack([ori2,bat2])\n",
    "# test_image_array = cat2\n"
   ]
  },
  {
   "cell_type": "code",
   "execution_count": 7,
   "metadata": {},
   "outputs": [
    {
     "name": "stdout",
     "output_type": "stream",
     "text": [
      "0 29\n"
     ]
    }
   ],
   "source": [
    "# In[15]:\n",
    "ab =[]\n",
    "for i in range(100,200):\n",
    "    ab.append(len(training_image_array) % i)\n",
    "    \n",
    "print(min(ab), ab.index(min(ab)))"
   ]
  },
  {
   "cell_type": "code",
   "execution_count": 8,
   "metadata": {},
   "outputs": [
    {
     "data": {
      "text/plain": [
       "(61633, 42526)"
      ]
     },
     "execution_count": 8,
     "metadata": {},
     "output_type": "execute_result"
    }
   ],
   "source": [
    "x.shape"
   ]
  },
  {
   "cell_type": "code",
   "execution_count": 9,
   "metadata": {},
   "outputs": [
    {
     "data": {
      "text/plain": [
       "(55470, 42526)"
      ]
     },
     "execution_count": 9,
     "metadata": {},
     "output_type": "execute_result"
    }
   ],
   "source": [
    "training_image_array.shape"
   ]
  },
  {
   "cell_type": "code",
   "execution_count": 10,
   "metadata": {},
   "outputs": [],
   "source": [
    "# In[21]:\n",
    "\n",
    "num_classes = 1\n",
    "learning_rate = 0.0002\n",
    "training_epochs = 150\n",
    "batch_size = 100\n",
    "img_rows, img_cols = 154, 154\n"
   ]
  },
  {
   "cell_type": "code",
   "execution_count": 11,
   "metadata": {},
   "outputs": [],
   "source": [
    "train_X, train_y, test_X, test_y = training_image_array, training_label_array, test_image_array, test_label_array\n",
    "\n",
    "# if K.image_data_format() == 'channels_first':\n",
    "#     train_X = train_X.reshape(train_X.shape[0], 1, img_rows, img_cols)\n",
    "#     test_X = test_X.reshape(x_test.shape[0], 1, img_rows, img_cols)\n",
    "#     input_shape = (1, img_rows, img_cols)\n",
    "# else:\n",
    "#     train_X = train_X.reshape(train_X.shape[0], img_rows, img_cols, 1)\n",
    "#     test_X = test_X.reshape(test_X.shape[0], img_rows, img_cols, 1)\n",
    "#     input_shape = (img_rows, img_cols, 1)\n"
   ]
  },
  {
   "cell_type": "code",
   "execution_count": 12,
   "metadata": {},
   "outputs": [
    {
     "name": "stdout",
     "output_type": "stream",
     "text": [
      "40201\n"
     ]
    }
   ],
   "source": [
    "shape_value = 40201\n",
    "print(shape_value)"
   ]
  },
  {
   "cell_type": "code",
   "execution_count": 13,
   "metadata": {},
   "outputs": [
    {
     "data": {
      "text/plain": [
       "(55470, 42526)"
      ]
     },
     "execution_count": 13,
     "metadata": {},
     "output_type": "execute_result"
    }
   ],
   "source": [
    "train_X.shape"
   ]
  },
  {
   "cell_type": "code",
   "execution_count": 14,
   "metadata": {},
   "outputs": [],
   "source": [
    "train_X_cell = train_X[:,:shape_value]\n",
    "train_X_drug =train_X[:,shape_value:]\n",
    "test_X_cell = test_X[:,:shape_value]\n",
    "test_X_drug = test_X[:,shape_value:]"
   ]
  },
  {
   "cell_type": "code",
   "execution_count": 15,
   "metadata": {},
   "outputs": [
    {
     "data": {
      "text/plain": [
       "(55470, 40201)"
      ]
     },
     "execution_count": 15,
     "metadata": {},
     "output_type": "execute_result"
    }
   ],
   "source": [
    "train_X_cell.shape"
   ]
  },
  {
   "cell_type": "code",
   "execution_count": 16,
   "metadata": {},
   "outputs": [],
   "source": [
    "train_X_cell = train_X_cell.reshape(train_X_cell.shape[0], train_X_cell.shape[1], 1)\n",
    "train_X_drug = train_X_drug.reshape(train_X_drug.shape[0], train_X_drug.shape[1], 1)\n",
    "test_X_cell = test_X_cell.reshape(test_X_cell.shape[0], test_X_cell.shape[1], 1)\n",
    "test_X_drug = test_X_drug.reshape(test_X_drug.shape[0], test_X_drug.shape[1], 1)\n",
    "#input_shape = (img_rows, img_cols, 1)"
   ]
  },
  {
   "cell_type": "code",
   "execution_count": 17,
   "metadata": {},
   "outputs": [
    {
     "name": "stdout",
     "output_type": "stream",
     "text": [
      "(55470, 40201, 1) (55470, 2325, 1) (55470,) (6163, 40201, 1) (6163, 2325, 1) (6163,)\n"
     ]
    }
   ],
   "source": [
    "print(train_X_cell.shape,train_X_drug.shape, train_y.shape, test_X_cell.shape,test_X_drug.shape, test_y.shape)"
   ]
  },
  {
   "cell_type": "code",
   "execution_count": 18,
   "metadata": {},
   "outputs": [
    {
     "data": {
      "text/plain": [
       "(55470, 40201, 1)"
      ]
     },
     "execution_count": 18,
     "metadata": {},
     "output_type": "execute_result"
    }
   ],
   "source": [
    "train_X_cell.shape"
   ]
  },
  {
   "cell_type": "code",
   "execution_count": 19,
   "metadata": {},
   "outputs": [
    {
     "name": "stdout",
     "output_type": "stream",
     "text": [
      "train_X shape: (55470, 42526)\n",
      "55470 train samples\n",
      "6163 test samples\n"
     ]
    }
   ],
   "source": [
    "train_X_cell = train_X_cell.astype('float32')\n",
    "test_X_cell = test_X_cell.astype('float32')\n",
    "train_X_drug = train_X_drug.astype('float32')\n",
    "test_X_drug = test_X_drug.astype('float32')\n",
    "# train_X /= 255\n",
    "# test_X /= 255\n",
    "print('train_X shape:', train_X.shape)\n",
    "print(train_X.shape[0], 'train samples')\n",
    "print(test_X.shape[0], 'test samples')"
   ]
  },
  {
   "cell_type": "code",
   "execution_count": 20,
   "metadata": {},
   "outputs": [
    {
     "name": "stdout",
     "output_type": "stream",
     "text": [
      "WARNING:tensorflow:From C:\\Users\\BGM18\\.conda\\envs\\ronny_keras\\lib\\site-packages\\keras\\backend\\tensorflow_backend.py:4070: The name tf.nn.max_pool is deprecated. Please use tf.nn.max_pool2d instead.\n",
      "\n"
     ]
    }
   ],
   "source": [
    "with K.tf.device('/GPU:0'):\n",
    "    input_cell = Input(shape=(train_X_cell.shape[1], train_X_cell.shape[2]), name='cell_input')\n",
    "    input_drug = Input(shape=(train_X_drug.shape[1], train_X_drug.shape[2]), name='drug_input')\n",
    "\n",
    "    conv_cell_line_1 = Conv1D(filters=50, kernel_size=700, strides=5, activation='tanh')(input_cell)\n",
    "    maxpool_cell_line_1 = MaxPooling1D(pool_size=5)(conv_cell_line_1)\n",
    "    conv_cell_line_2 = Conv1D(filters=30, kernel_size=5, strides=2, activation='relu')(maxpool_cell_line_1)\n",
    "    maxpool_cell_line_2 = MaxPooling1D(pool_size=10)(conv_cell_line_2)\n",
    "    flatten_cell_line = Flatten()(maxpool_cell_line_2)\n",
    "    dense_cell_line = Dense(100, activation='relu')(flatten_cell_line)\n",
    "    dropout_cell_line = Dropout(0.1)(dense_cell_line)\n",
    "\n",
    "    conv_drug_1 = Conv1D(filters=50, kernel_size=200, strides=3, activation='tanh')(input_drug)\n",
    "    maxpool_drug_1 = MaxPooling1D(pool_size=5)(conv_drug_1)\n",
    "    conv_drug_2 = Conv1D(filters=30, kernel_size=50, strides=5, activation='relu')(maxpool_drug_1)\n",
    "    maxpool_drug_2 = MaxPooling1D(pool_size=10)(conv_drug_2)\n",
    "    flatten_drug = Flatten()(maxpool_drug_2)\n",
    "    dense_drug = Dense(100, activation='relu')(flatten_drug)\n",
    "    dropout_drug = Dropout(0.1)(dense_drug)\n",
    "\n",
    "    concatenate = Concatenate()([dropout_cell_line, dropout_drug])\n",
    "    dense_1 = Dense(300, activation='tanh')(concatenate)\n",
    "    dropout_1 = Dropout(0.1)(dense_1)\n",
    "    reshape_1 = Reshape((300,1))(dropout_1)\n",
    "    conv_1 = Conv1D(filters=30, kernel_size=150, strides=1, activation='relu')(reshape_1)\n",
    "    maxpool_1 = MaxPooling1D(pool_size=2)(conv_1)\n",
    "    conv_2 = Conv1D(filters=10, kernel_size=5, strides=1, activation='relu')(maxpool_1)\n",
    "    maxpool_2 = MaxPooling1D(pool_size=3)(conv_2)\n",
    "    conv_3 = Conv1D(filters=5, kernel_size=5, strides=1, activation='relu')(maxpool_2)\n",
    "    maxpool_3 = MaxPooling1D(pool_size=3)(conv_3)\n",
    "    dropout_2 = Dropout(0.1)(maxpool_3)\n",
    "    flatten = Flatten()(dropout_2)\n",
    "    dropout_3 = Dropout(0.2)(flatten)\n",
    "    output = Dense(1, activation='linear', name='pred_lnIC50')(dropout_3)\n",
    "    model = Model(inputs=[input_cell, input_drug], outputs=output, name='MasterModel')\n",
    "\n"
   ]
  },
  {
   "cell_type": "code",
   "execution_count": 21,
   "metadata": {
    "scrolled": true
   },
   "outputs": [
    {
     "name": "stdout",
     "output_type": "stream",
     "text": [
      "Model: \"MasterModel\"\n",
      "__________________________________________________________________________________________________\n",
      "Layer (type)                    Output Shape         Param #     Connected to                     \n",
      "==================================================================================================\n",
      "cell_input (InputLayer)         (None, 40201, 1)     0                                            \n",
      "__________________________________________________________________________________________________\n",
      "drug_input (InputLayer)         (None, 2325, 1)      0                                            \n",
      "__________________________________________________________________________________________________\n",
      "conv1d_1 (Conv1D)               (None, 7901, 50)     35050       cell_input[0][0]                 \n",
      "__________________________________________________________________________________________________\n",
      "conv1d_3 (Conv1D)               (None, 709, 50)      10050       drug_input[0][0]                 \n",
      "__________________________________________________________________________________________________\n",
      "max_pooling1d_1 (MaxPooling1D)  (None, 1580, 50)     0           conv1d_1[0][0]                   \n",
      "__________________________________________________________________________________________________\n",
      "max_pooling1d_3 (MaxPooling1D)  (None, 141, 50)      0           conv1d_3[0][0]                   \n",
      "__________________________________________________________________________________________________\n",
      "conv1d_2 (Conv1D)               (None, 788, 30)      7530        max_pooling1d_1[0][0]            \n",
      "__________________________________________________________________________________________________\n",
      "conv1d_4 (Conv1D)               (None, 19, 30)       75030       max_pooling1d_3[0][0]            \n",
      "__________________________________________________________________________________________________\n",
      "max_pooling1d_2 (MaxPooling1D)  (None, 78, 30)       0           conv1d_2[0][0]                   \n",
      "__________________________________________________________________________________________________\n",
      "max_pooling1d_4 (MaxPooling1D)  (None, 1, 30)        0           conv1d_4[0][0]                   \n",
      "__________________________________________________________________________________________________\n",
      "flatten_1 (Flatten)             (None, 2340)         0           max_pooling1d_2[0][0]            \n",
      "__________________________________________________________________________________________________\n",
      "flatten_2 (Flatten)             (None, 30)           0           max_pooling1d_4[0][0]            \n",
      "__________________________________________________________________________________________________\n",
      "dense_1 (Dense)                 (None, 100)          234100      flatten_1[0][0]                  \n",
      "__________________________________________________________________________________________________\n",
      "dense_2 (Dense)                 (None, 100)          3100        flatten_2[0][0]                  \n",
      "__________________________________________________________________________________________________\n",
      "dropout_1 (Dropout)             (None, 100)          0           dense_1[0][0]                    \n",
      "__________________________________________________________________________________________________\n",
      "dropout_2 (Dropout)             (None, 100)          0           dense_2[0][0]                    \n",
      "__________________________________________________________________________________________________\n",
      "concatenate_1 (Concatenate)     (None, 200)          0           dropout_1[0][0]                  \n",
      "                                                                 dropout_2[0][0]                  \n",
      "__________________________________________________________________________________________________\n",
      "dense_3 (Dense)                 (None, 300)          60300       concatenate_1[0][0]              \n",
      "__________________________________________________________________________________________________\n",
      "dropout_3 (Dropout)             (None, 300)          0           dense_3[0][0]                    \n",
      "__________________________________________________________________________________________________\n",
      "reshape_1 (Reshape)             (None, 300, 1)       0           dropout_3[0][0]                  \n",
      "__________________________________________________________________________________________________\n",
      "conv1d_5 (Conv1D)               (None, 151, 30)      4530        reshape_1[0][0]                  \n",
      "__________________________________________________________________________________________________\n",
      "max_pooling1d_5 (MaxPooling1D)  (None, 75, 30)       0           conv1d_5[0][0]                   \n",
      "__________________________________________________________________________________________________\n",
      "conv1d_6 (Conv1D)               (None, 71, 10)       1510        max_pooling1d_5[0][0]            \n",
      "__________________________________________________________________________________________________\n",
      "max_pooling1d_6 (MaxPooling1D)  (None, 23, 10)       0           conv1d_6[0][0]                   \n",
      "__________________________________________________________________________________________________\n",
      "conv1d_7 (Conv1D)               (None, 19, 5)        255         max_pooling1d_6[0][0]            \n",
      "__________________________________________________________________________________________________\n",
      "max_pooling1d_7 (MaxPooling1D)  (None, 6, 5)         0           conv1d_7[0][0]                   \n",
      "__________________________________________________________________________________________________\n",
      "dropout_4 (Dropout)             (None, 6, 5)         0           max_pooling1d_7[0][0]            \n",
      "__________________________________________________________________________________________________\n",
      "flatten_3 (Flatten)             (None, 30)           0           dropout_4[0][0]                  \n",
      "__________________________________________________________________________________________________\n",
      "dropout_5 (Dropout)             (None, 30)           0           flatten_3[0][0]                  \n",
      "__________________________________________________________________________________________________\n",
      "pred_lnIC50 (Dense)             (None, 1)            31          dropout_5[0][0]                  \n",
      "==================================================================================================\n",
      "Total params: 431,486\n",
      "Trainable params: 431,486\n",
      "Non-trainable params: 0\n",
      "__________________________________________________________________________________________________\n"
     ]
    }
   ],
   "source": [
    "model.summary()"
   ]
  },
  {
   "cell_type": "code",
   "execution_count": 22,
   "metadata": {},
   "outputs": [],
   "source": [
    "config = tf.ConfigProto()\n",
    "config.gpu_options.allow_growth = True\n",
    "sess = tf.Session(config=config)"
   ]
  },
  {
   "cell_type": "code",
   "execution_count": 23,
   "metadata": {
    "scrolled": true
   },
   "outputs": [
    {
     "name": "stdout",
     "output_type": "stream",
     "text": [
      "StartTime : 2022-02-16 14:48:49.745092\n",
      "WARNING:tensorflow:From C:\\Users\\BGM18\\.conda\\envs\\ronny_keras\\lib\\site-packages\\keras\\backend\\tensorflow_backend.py:422: The name tf.global_variables is deprecated. Please use tf.compat.v1.global_variables instead.\n",
      "\n",
      "Train on 55470 samples, validate on 6163 samples\n",
      "Epoch 1/150\n",
      "55470/55470 [==============================] - 26s 466us/step - loss: 6.3077 - mse: 6.3077 - mae: 1.9614 - val_loss: 2.8257 - val_mse: 2.8257 - val_mae: 1.3170\n",
      "Epoch 2/150\n",
      "55470/55470 [==============================] - 22s 398us/step - loss: 2.6308 - mse: 2.6308 - mae: 1.2608 - val_loss: 1.9768 - val_mse: 1.9768 - val_mae: 1.0912\n",
      "Epoch 3/150\n",
      "55470/55470 [==============================] - 22s 396us/step - loss: 2.1233 - mse: 2.1233 - mae: 1.1247 - val_loss: 1.6706 - val_mse: 1.6706 - val_mae: 0.9620\n",
      "Epoch 4/150\n",
      "55470/55470 [==============================] - 22s 395us/step - loss: 2.0227 - mse: 2.0227 - mae: 1.0973 - val_loss: 1.6766 - val_mse: 1.6766 - val_mae: 0.9772\n",
      "Epoch 5/150\n",
      "55470/55470 [==============================] - 22s 397us/step - loss: 1.9713 - mse: 1.9713 - mae: 1.0798 - val_loss: 1.6958 - val_mse: 1.6958 - val_mae: 0.9744\n",
      "Epoch 6/150\n",
      "55470/55470 [==============================] - 22s 402us/step - loss: 1.9478 - mse: 1.9478 - mae: 1.0736 - val_loss: 1.6519 - val_mse: 1.6519 - val_mae: 0.9581\n",
      "Epoch 7/150\n",
      "55470/55470 [==============================] - 22s 402us/step - loss: 1.9316 - mse: 1.9316 - mae: 1.0711 - val_loss: 1.6117 - val_mse: 1.6117 - val_mae: 0.9482\n",
      "Epoch 8/150\n",
      "55470/55470 [==============================] - 22s 402us/step - loss: 1.8956 - mse: 1.8956 - mae: 1.0584 - val_loss: 1.6124 - val_mse: 1.6124 - val_mae: 0.9480\n",
      "Epoch 9/150\n",
      "55470/55470 [==============================] - 22s 399us/step - loss: 1.8773 - mse: 1.8773 - mae: 1.0537 - val_loss: 1.6115 - val_mse: 1.6115 - val_mae: 0.9598\n",
      "Epoch 10/150\n",
      "55470/55470 [==============================] - 22s 400us/step - loss: 1.8634 - mse: 1.8634 - mae: 1.0493 - val_loss: 1.6925 - val_mse: 1.6925 - val_mae: 0.9634\n",
      "Epoch 11/150\n",
      "55470/55470 [==============================] - 22s 403us/step - loss: 1.8636 - mse: 1.8636 - mae: 1.0493 - val_loss: 1.6769 - val_mse: 1.6769 - val_mae: 0.9913\n",
      "Epoch 12/150\n",
      "55470/55470 [==============================] - 23s 406us/step - loss: 1.8506 - mse: 1.8506 - mae: 1.0414 - val_loss: 1.7580 - val_mse: 1.7580 - val_mae: 1.0270\n",
      "Epoch 13/150\n",
      "55470/55470 [==============================] - 22s 403us/step - loss: 1.8245 - mse: 1.8245 - mae: 1.0359 - val_loss: 1.6093 - val_mse: 1.6093 - val_mae: 0.9525s: 1.8290 - mse: 1.829\n",
      "Epoch 14/150\n",
      "55470/55470 [==============================] - 23s 408us/step - loss: 1.7955 - mse: 1.7955 - mae: 1.0270 - val_loss: 1.5568 - val_mse: 1.5568 - val_mae: 0.9305\n",
      "Epoch 15/150\n",
      "55470/55470 [==============================] - 22s 400us/step - loss: 1.7818 - mse: 1.7818 - mae: 1.0271 - val_loss: 1.5521 - val_mse: 1.5521 - val_mae: 0.9376\n",
      "Epoch 16/150\n",
      "55470/55470 [==============================] - 22s 403us/step - loss: 1.7705 - mse: 1.7705 - mae: 1.0221 - val_loss: 1.5107 - val_mse: 1.5107 - val_mae: 0.9157\n",
      "Epoch 17/150\n",
      "55470/55470 [==============================] - 22s 401us/step - loss: 1.7431 - mse: 1.7431 - mae: 1.0119 - val_loss: 1.5925 - val_mse: 1.5925 - val_mae: 0.9409\n",
      "Epoch 18/150\n",
      "55470/55470 [==============================] - 22s 402us/step - loss: 1.7000 - mse: 1.7000 - mae: 0.9989 - val_loss: 1.5975 - val_mse: 1.5975 - val_mae: 0.9442\n",
      "Epoch 19/150\n",
      "55470/55470 [==============================] - 22s 402us/step - loss: 1.6785 - mse: 1.6785 - mae: 0.9921 - val_loss: 1.4752 - val_mse: 1.4752 - val_mae: 0.9067\n",
      "Epoch 20/150\n",
      "55470/55470 [==============================] - 22s 401us/step - loss: 1.6447 - mse: 1.6447 - mae: 0.9820 - val_loss: 1.4574 - val_mse: 1.4574 - val_mae: 0.9142\n",
      "Epoch 21/150\n",
      "55470/55470 [==============================] - 22s 403us/step - loss: 1.6372 - mse: 1.6372 - mae: 0.9783 - val_loss: 1.4923 - val_mse: 1.4923 - val_mae: 0.9107\n",
      "Epoch 22/150\n",
      "55470/55470 [==============================] - 22s 401us/step - loss: 1.6201 - mse: 1.6201 - mae: 0.9721 - val_loss: 1.4193 - val_mse: 1.4193 - val_mae: 0.8912\n",
      "Epoch 23/150\n",
      "55470/55470 [==============================] - 22s 402us/step - loss: 1.6015 - mse: 1.6015 - mae: 0.9649 - val_loss: 1.4372 - val_mse: 1.4372 - val_mae: 0.8913\n",
      "Epoch 24/150\n",
      "55470/55470 [==============================] - 22s 402us/step - loss: 1.6001 - mse: 1.6001 - mae: 0.9640 - val_loss: 1.3949 - val_mse: 1.3949 - val_mae: 0.8844\n",
      "Epoch 25/150\n",
      "55470/55470 [==============================] - 22s 403us/step - loss: 1.5778 - mse: 1.5778 - mae: 0.9579 - val_loss: 1.4133 - val_mse: 1.4133 - val_mae: 0.8922\n",
      "Epoch 26/150\n",
      "55470/55470 [==============================] - 22s 404us/step - loss: 1.5603 - mse: 1.5603 - mae: 0.9541 - val_loss: 1.4313 - val_mse: 1.4313 - val_mae: 0.9064\n",
      "Epoch 27/150\n",
      "55470/55470 [==============================] - 23s 406us/step - loss: 1.5602 - mse: 1.5602 - mae: 0.9553 - val_loss: 1.3797 - val_mse: 1.3797 - val_mae: 0.8743\n",
      "Epoch 28/150\n",
      "55470/55470 [==============================] - 22s 404us/step - loss: 1.5368 - mse: 1.5368 - mae: 0.9458 - val_loss: 1.3834 - val_mse: 1.3834 - val_mae: 0.8598\n",
      "Epoch 29/150\n",
      "55470/55470 [==============================] - 22s 402us/step - loss: 1.5307 - mse: 1.5307 - mae: 0.9420 - val_loss: 1.3609 - val_mse: 1.3609 - val_mae: 0.8762\n",
      "Epoch 30/150\n",
      "55470/55470 [==============================] - 23s 406us/step - loss: 1.5216 - mse: 1.5216 - mae: 0.9411 - val_loss: 1.3447 - val_mse: 1.3447 - val_mae: 0.8645\n",
      "Epoch 31/150\n",
      "55470/55470 [==============================] - 22s 403us/step - loss: 1.5181 - mse: 1.5181 - mae: 0.9380 - val_loss: 1.3448 - val_mse: 1.3448 - val_mae: 0.8588\n",
      "Epoch 32/150\n",
      "55470/55470 [==============================] - 22s 402us/step - loss: 1.4946 - mse: 1.4946 - mae: 0.9297 - val_loss: 1.4028 - val_mse: 1.4028 - val_mae: 0.8907\n",
      "Epoch 33/150\n",
      "55470/55470 [==============================] - 22s 404us/step - loss: 1.4947 - mse: 1.4947 - mae: 0.9307 - val_loss: 1.3345 - val_mse: 1.3345 - val_mae: 0.8527\n",
      "Epoch 34/150\n",
      "55470/55470 [==============================] - 22s 402us/step - loss: 1.4865 - mse: 1.4865 - mae: 0.9309 - val_loss: 1.3474 - val_mse: 1.3474 - val_mae: 0.8511\n",
      "Epoch 35/150\n",
      "55470/55470 [==============================] - 22s 401us/step - loss: 1.4826 - mse: 1.4826 - mae: 0.9266 - val_loss: 1.3446 - val_mse: 1.3446 - val_mae: 0.8541\n",
      "Epoch 36/150\n",
      "55470/55470 [==============================] - 22s 403us/step - loss: 1.4813 - mse: 1.4813 - mae: 0.9246 - val_loss: 1.3507 - val_mse: 1.3507 - val_mae: 0.8562\n",
      "Epoch 37/150\n",
      "55470/55470 [==============================] - 22s 399us/step - loss: 1.4681 - mse: 1.4681 - mae: 0.9223 - val_loss: 1.3134 - val_mse: 1.3134 - val_mae: 0.8628\n",
      "Epoch 38/150\n",
      "55470/55470 [==============================] - 22s 403us/step - loss: 1.4578 - mse: 1.4578 - mae: 0.9168 - val_loss: 1.3237 - val_mse: 1.3237 - val_mae: 0.8566\n",
      "Epoch 39/150\n",
      "55470/55470 [==============================] - 22s 404us/step - loss: 1.4681 - mse: 1.4681 - mae: 0.9206 - val_loss: 1.3011 - val_mse: 1.3011 - val_mae: 0.8342\n",
      "Epoch 40/150\n",
      "55470/55470 [==============================] - 22s 402us/step - loss: 1.4392 - mse: 1.4392 - mae: 0.9134 - val_loss: 1.2872 - val_mse: 1.2872 - val_mae: 0.8392\n",
      "Epoch 41/150\n",
      "55470/55470 [==============================] - 22s 400us/step - loss: 1.4427 - mse: 1.4427 - mae: 0.9125 - val_loss: 1.3112 - val_mse: 1.3112 - val_mae: 0.8459\n",
      "Epoch 42/150\n",
      "55470/55470 [==============================] - 22s 401us/step - loss: 1.4285 - mse: 1.4285 - mae: 0.9083 - val_loss: 1.3000 - val_mse: 1.3000 - val_mae: 0.8464\n",
      "Epoch 43/150\n",
      "55470/55470 [==============================] - 22s 399us/step - loss: 1.4290 - mse: 1.4290 - mae: 0.9088 - val_loss: 1.2897 - val_mse: 1.2897 - val_mae: 0.8357\n",
      "Epoch 44/150\n",
      "55470/55470 [==============================] - 22s 401us/step - loss: 1.4259 - mse: 1.4259 - mae: 0.9066 - val_loss: 1.3787 - val_mse: 1.3787 - val_mae: 0.8884\n",
      "Epoch 45/150\n",
      "55470/55470 [==============================] - 22s 405us/step - loss: 1.4195 - mse: 1.4195 - mae: 0.9061 - val_loss: 1.2871 - val_mse: 1.2871 - val_mae: 0.8349\n",
      "Epoch 46/150\n"
     ]
    },
    {
     "name": "stdout",
     "output_type": "stream",
     "text": [
      "55470/55470 [==============================] - 22s 404us/step - loss: 1.4011 - mse: 1.4011 - mae: 0.8984 - val_loss: 1.2792 - val_mse: 1.2792 - val_mae: 0.8385\n",
      "Epoch 47/150\n",
      "55470/55470 [==============================] - 22s 403us/step - loss: 1.3969 - mse: 1.3969 - mae: 0.8968 - val_loss: 1.2959 - val_mse: 1.2959 - val_mae: 0.8425\n",
      "Epoch 48/150\n",
      "55470/55470 [==============================] - 22s 403us/step - loss: 1.3972 - mse: 1.3972 - mae: 0.8975 - val_loss: 1.3402 - val_mse: 1.3402 - val_mae: 0.8796\n",
      "Epoch 49/150\n",
      "55470/55470 [==============================] - 22s 401us/step - loss: 1.3918 - mse: 1.3918 - mae: 0.8956 - val_loss: 1.3138 - val_mse: 1.3138 - val_mae: 0.8623\n",
      "Epoch 50/150\n",
      "55470/55470 [==============================] - 22s 405us/step - loss: 1.3801 - mse: 1.3801 - mae: 0.8921 - val_loss: 1.2869 - val_mse: 1.2869 - val_mae: 0.8480\n",
      "Epoch 51/150\n",
      "55470/55470 [==============================] - 22s 402us/step - loss: 1.3741 - mse: 1.3741 - mae: 0.8891 - val_loss: 1.2688 - val_mse: 1.2688 - val_mae: 0.8459\n",
      "Epoch 52/150\n",
      "55470/55470 [==============================] - 22s 402us/step - loss: 1.3697 - mse: 1.3697 - mae: 0.8882 - val_loss: 1.2560 - val_mse: 1.2560 - val_mae: 0.8392\n",
      "Epoch 53/150\n",
      "55470/55470 [==============================] - 22s 401us/step - loss: 1.3579 - mse: 1.3579 - mae: 0.8836 - val_loss: 1.2356 - val_mse: 1.2356 - val_mae: 0.8270\n",
      "Epoch 54/150\n",
      "55470/55470 [==============================] - 23s 406us/step - loss: 1.3486 - mse: 1.3486 - mae: 0.8815 - val_loss: 1.2316 - val_mse: 1.2316 - val_mae: 0.8246\n",
      "Epoch 55/150\n",
      "55470/55470 [==============================] - 22s 402us/step - loss: 1.3510 - mse: 1.3510 - mae: 0.8834 - val_loss: 1.2527 - val_mse: 1.2527 - val_mae: 0.8300\n",
      "Epoch 56/150\n",
      "55470/55470 [==============================] - 22s 404us/step - loss: 1.3369 - mse: 1.3369 - mae: 0.8778 - val_loss: 1.2237 - val_mse: 1.2237 - val_mae: 0.8232\n",
      "Epoch 57/150\n",
      "55470/55470 [==============================] - 22s 404us/step - loss: 1.3363 - mse: 1.3363 - mae: 0.8773 - val_loss: 1.2325 - val_mse: 1.2325 - val_mae: 0.8215\n",
      "Epoch 58/150\n",
      "55470/55470 [==============================] - 22s 405us/step - loss: 1.3352 - mse: 1.3352 - mae: 0.8767 - val_loss: 1.2159 - val_mse: 1.2159 - val_mae: 0.8126\n",
      "Epoch 59/150\n",
      "55470/55470 [==============================] - 22s 402us/step - loss: 1.3174 - mse: 1.3174 - mae: 0.8732 - val_loss: 1.2317 - val_mse: 1.2317 - val_mae: 0.8159\n",
      "Epoch 60/150\n",
      "55470/55470 [==============================] - 22s 405us/step - loss: 1.3329 - mse: 1.3329 - mae: 0.8771 - val_loss: 1.2191 - val_mse: 1.2191 - val_mae: 0.8175\n",
      "Epoch 61/150\n",
      "55470/55470 [==============================] - 22s 403us/step - loss: 1.3196 - mse: 1.3196 - mae: 0.8732 - val_loss: 1.2946 - val_mse: 1.2946 - val_mae: 0.8500\n",
      "Epoch 62/150\n",
      "55470/55470 [==============================] - 22s 401us/step - loss: 1.3061 - mse: 1.3061 - mae: 0.8689 - val_loss: 1.2102 - val_mse: 1.2102 - val_mae: 0.8122\n",
      "Epoch 63/150\n",
      "55470/55470 [==============================] - 22s 403us/step - loss: 1.3023 - mse: 1.3023 - mae: 0.8674 - val_loss: 1.2022 - val_mse: 1.2022 - val_mae: 0.8126\n",
      "Epoch 64/150\n",
      "55470/55470 [==============================] - 22s 402us/step - loss: 1.2934 - mse: 1.2934 - mae: 0.8632 - val_loss: 1.1987 - val_mse: 1.1987 - val_mae: 0.8182\n",
      "Epoch 65/150\n",
      "55470/55470 [==============================] - 22s 404us/step - loss: 1.3016 - mse: 1.3016 - mae: 0.8656 - val_loss: 1.2400 - val_mse: 1.2400 - val_mae: 0.8361\n",
      "Epoch 66/150\n",
      "55470/55470 [==============================] - 22s 399us/step - loss: 1.2952 - mse: 1.2952 - mae: 0.8647 - val_loss: 1.2043 - val_mse: 1.2043 - val_mae: 0.8203\n",
      "Epoch 67/150\n",
      "55470/55470 [==============================] - 22s 399us/step - loss: 1.2829 - mse: 1.2829 - mae: 0.8591 - val_loss: 1.1870 - val_mse: 1.1870 - val_mae: 0.8116\n",
      "Epoch 68/150\n",
      "55470/55470 [==============================] - 22s 403us/step - loss: 1.2783 - mse: 1.2783 - mae: 0.8582 - val_loss: 1.1854 - val_mse: 1.1854 - val_mae: 0.8039\n",
      "Epoch 69/150\n",
      "55470/55470 [==============================] - 22s 403us/step - loss: 1.2845 - mse: 1.2845 - mae: 0.8610 - val_loss: 1.2001 - val_mse: 1.2001 - val_mae: 0.8289\n",
      "Epoch 70/150\n",
      "55470/55470 [==============================] - 22s 403us/step - loss: 1.2757 - mse: 1.2757 - mae: 0.8566 - val_loss: 1.1758 - val_mse: 1.1758 - val_mae: 0.8084\n",
      "Epoch 71/150\n",
      "55470/55470 [==============================] - 22s 400us/step - loss: 1.2704 - mse: 1.2704 - mae: 0.8557 - val_loss: 1.2185 - val_mse: 1.2185 - val_mae: 0.8340\n",
      "Epoch 72/150\n",
      "55470/55470 [==============================] - 22s 405us/step - loss: 1.2666 - mse: 1.2666 - mae: 0.8559 - val_loss: 1.1782 - val_mse: 1.1782 - val_mae: 0.8099\n",
      "Epoch 73/150\n",
      "55470/55470 [==============================] - 22s 401us/step - loss: 1.2593 - mse: 1.2593 - mae: 0.8511 - val_loss: 1.1725 - val_mse: 1.1725 - val_mae: 0.8038\n",
      "Epoch 74/150\n",
      "55470/55470 [==============================] - 22s 403us/step - loss: 1.2618 - mse: 1.2618 - mae: 0.8530 - val_loss: 1.1733 - val_mse: 1.1733 - val_mae: 0.8016\n",
      "Epoch 75/150\n",
      "55470/55470 [==============================] - 22s 403us/step - loss: 1.2581 - mse: 1.2581 - mae: 0.8512 - val_loss: 1.1559 - val_mse: 1.1559 - val_mae: 0.7938\n",
      "Epoch 76/150\n",
      "55470/55470 [==============================] - 22s 403us/step - loss: 1.2452 - mse: 1.2452 - mae: 0.8495 - val_loss: 1.1572 - val_mse: 1.1572 - val_mae: 0.7906\n",
      "Epoch 77/150\n",
      "55470/55470 [==============================] - 22s 400us/step - loss: 1.2407 - mse: 1.2407 - mae: 0.8464 - val_loss: 1.1519 - val_mse: 1.1519 - val_mae: 0.7989\n",
      "Epoch 78/150\n",
      "55470/55470 [==============================] - 22s 403us/step - loss: 1.2416 - mse: 1.2416 - mae: 0.8466 - val_loss: 1.1505 - val_mse: 1.1505 - val_mae: 0.7922\n",
      "Epoch 79/150\n",
      "55470/55470 [==============================] - 22s 403us/step - loss: 1.2504 - mse: 1.2504 - mae: 0.8492 - val_loss: 1.1500 - val_mse: 1.1500 - val_mae: 0.7950\n",
      "Epoch 80/150\n",
      "55470/55470 [==============================] - 22s 400us/step - loss: 1.2401 - mse: 1.2401 - mae: 0.8449 - val_loss: 1.1776 - val_mse: 1.1776 - val_mae: 0.8022\n",
      "Epoch 81/150\n",
      "55470/55470 [==============================] - 22s 402us/step - loss: 1.2257 - mse: 1.2257 - mae: 0.8425 - val_loss: 1.1608 - val_mse: 1.1608 - val_mae: 0.8079\n",
      "Epoch 82/150\n",
      "55470/55470 [==============================] - 22s 403us/step - loss: 1.2336 - mse: 1.2336 - mae: 0.8437 - val_loss: 1.1468 - val_mse: 1.1468 - val_mae: 0.7914\n",
      "Epoch 83/150\n",
      "55470/55470 [==============================] - 22s 402us/step - loss: 1.2365 - mse: 1.2365 - mae: 0.8437 - val_loss: 1.1394 - val_mse: 1.1394 - val_mae: 0.7889\n",
      "Epoch 84/150\n",
      "55470/55470 [==============================] - 22s 404us/step - loss: 1.2272 - mse: 1.2272 - mae: 0.8404 - val_loss: 1.1355 - val_mse: 1.1355 - val_mae: 0.7882\n",
      "Epoch 85/150\n",
      "55470/55470 [==============================] - 22s 402us/step - loss: 1.2197 - mse: 1.2197 - mae: 0.8384 - val_loss: 1.1168 - val_mse: 1.1168 - val_mae: 0.7881\n",
      "Epoch 86/150\n",
      "55470/55470 [==============================] - 22s 401us/step - loss: 1.2111 - mse: 1.2111 - mae: 0.8348 - val_loss: 1.1333 - val_mse: 1.1333 - val_mae: 0.7950\n",
      "Epoch 87/150\n",
      "55470/55470 [==============================] - 22s 401us/step - loss: 1.2202 - mse: 1.2202 - mae: 0.8393 - val_loss: 1.1469 - val_mse: 1.1469 - val_mae: 0.7895\n",
      "Epoch 88/150\n",
      "55470/55470 [==============================] - 22s 401us/step - loss: 1.2088 - mse: 1.2088 - mae: 0.8342 - val_loss: 1.1054 - val_mse: 1.1054 - val_mae: 0.7804\n",
      "Epoch 89/150\n",
      "55470/55470 [==============================] - 22s 401us/step - loss: 1.2054 - mse: 1.2054 - mae: 0.8356 - val_loss: 1.1305 - val_mse: 1.1305 - val_mae: 0.7826\n",
      "Epoch 90/150\n",
      "55470/55470 [==============================] - 22s 403us/step - loss: 1.1984 - mse: 1.1984 - mae: 0.8320 - val_loss: 1.1007 - val_mse: 1.1007 - val_mae: 0.7778\n",
      "Epoch 91/150\n",
      "55470/55470 [==============================] - 22s 402us/step - loss: 1.1935 - mse: 1.1935 - mae: 0.8309 - val_loss: 1.1292 - val_mse: 1.1292 - val_mae: 0.7776\n",
      "Epoch 92/150\n",
      "55470/55470 [==============================] - 22s 404us/step - loss: 1.2009 - mse: 1.2009 - mae: 0.8339 - val_loss: 1.1197 - val_mse: 1.1197 - val_mae: 0.7809\n",
      "Epoch 93/150\n"
     ]
    },
    {
     "name": "stdout",
     "output_type": "stream",
     "text": [
      "55470/55470 [==============================] - 22s 404us/step - loss: 1.1934 - mse: 1.1934 - mae: 0.8311 - val_loss: 1.1325 - val_mse: 1.1325 - val_mae: 0.7832\n",
      "Epoch 94/150\n",
      "55470/55470 [==============================] - 22s 403us/step - loss: 1.1855 - mse: 1.1855 - mae: 0.8246 - val_loss: 1.0878 - val_mse: 1.0878 - val_mae: 0.7700\n",
      "Epoch 95/150\n",
      "55470/55470 [==============================] - 23s 406us/step - loss: 1.1885 - mse: 1.1885 - mae: 0.8283 - val_loss: 1.1135 - val_mse: 1.1135 - val_mae: 0.7859\n",
      "Epoch 96/150\n",
      "55470/55470 [==============================] - 22s 404us/step - loss: 1.1826 - mse: 1.1826 - mae: 0.8261 - val_loss: 1.0845 - val_mse: 1.0845 - val_mae: 0.7697\n",
      "Epoch 97/150\n",
      "55470/55470 [==============================] - 22s 403us/step - loss: 1.1872 - mse: 1.1872 - mae: 0.8288 - val_loss: 1.0917 - val_mse: 1.0917 - val_mae: 0.7733\n",
      "Epoch 98/150\n",
      "55470/55470 [==============================] - 22s 403us/step - loss: 1.1707 - mse: 1.1707 - mae: 0.8232 - val_loss: 1.0783 - val_mse: 1.0783 - val_mae: 0.7726\n",
      "Epoch 99/150\n",
      "55470/55470 [==============================] - 22s 402us/step - loss: 1.1709 - mse: 1.1709 - mae: 0.8221 - val_loss: 1.0881 - val_mse: 1.0881 - val_mae: 0.7699\n",
      "Epoch 100/150\n",
      "55470/55470 [==============================] - 22s 403us/step - loss: 1.1753 - mse: 1.1753 - mae: 0.8235 - val_loss: 1.1287 - val_mse: 1.1287 - val_mae: 0.7761\n",
      "Epoch 101/150\n",
      "55470/55470 [==============================] - 22s 400us/step - loss: 1.1735 - mse: 1.1735 - mae: 0.8227 - val_loss: 1.0987 - val_mse: 1.0987 - val_mae: 0.7698\n",
      "Epoch 102/150\n",
      "55470/55470 [==============================] - 22s 402us/step - loss: 1.1741 - mse: 1.1741 - mae: 0.8229 - val_loss: 1.0971 - val_mse: 1.0971 - val_mae: 0.7728\n",
      "Epoch 103/150\n",
      "55470/55470 [==============================] - 22s 403us/step - loss: 1.1630 - mse: 1.1630 - mae: 0.8206 - val_loss: 1.0762 - val_mse: 1.0762 - val_mae: 0.7663\n",
      "Epoch 104/150\n",
      "55470/55470 [==============================] - 22s 402us/step - loss: 1.1549 - mse: 1.1549 - mae: 0.8174 - val_loss: 1.0797 - val_mse: 1.0797 - val_mae: 0.7699\n",
      "Epoch 105/150\n",
      "55470/55470 [==============================] - 22s 401us/step - loss: 1.1697 - mse: 1.1697 - mae: 0.8209 - val_loss: 1.0723 - val_mse: 1.0723 - val_mae: 0.7662\n",
      "Epoch 106/150\n",
      "55470/55470 [==============================] - 22s 402us/step - loss: 1.1573 - mse: 1.1573 - mae: 0.8170 - val_loss: 1.0620 - val_mse: 1.0620 - val_mae: 0.7615\n",
      "Epoch 107/150\n",
      "55470/55470 [==============================] - 22s 402us/step - loss: 1.1503 - mse: 1.1503 - mae: 0.8150 - val_loss: 1.0712 - val_mse: 1.0712 - val_mae: 0.7694\n",
      "Epoch 108/150\n",
      "55470/55470 [==============================] - 22s 403us/step - loss: 1.1474 - mse: 1.1474 - mae: 0.8127 - val_loss: 1.0852 - val_mse: 1.0852 - val_mae: 0.7657\n",
      "Epoch 109/150\n",
      "55470/55470 [==============================] - 22s 402us/step - loss: 1.1501 - mse: 1.1501 - mae: 0.8164 - val_loss: 1.0845 - val_mse: 1.0845 - val_mae: 0.7773\n",
      "Epoch 110/150\n",
      "55470/55470 [==============================] - 22s 402us/step - loss: 1.1456 - mse: 1.1456 - mae: 0.8132 - val_loss: 1.0843 - val_mse: 1.0843 - val_mae: 0.7718\n",
      "Epoch 111/150\n",
      "55470/55470 [==============================] - 22s 402us/step - loss: 1.1505 - mse: 1.1505 - mae: 0.8134 - val_loss: 1.0758 - val_mse: 1.0758 - val_mae: 0.7633\n",
      "Epoch 112/150\n",
      "55470/55470 [==============================] - 22s 403us/step - loss: 1.1448 - mse: 1.1448 - mae: 0.8118 - val_loss: 1.0595 - val_mse: 1.0595 - val_mae: 0.7625\n",
      "Epoch 113/150\n",
      "55470/55470 [==============================] - 22s 402us/step - loss: 1.1340 - mse: 1.1340 - mae: 0.8081 - val_loss: 1.0603 - val_mse: 1.0603 - val_mae: 0.7663\n",
      "Epoch 114/150\n",
      "55470/55470 [==============================] - 22s 403us/step - loss: 1.1330 - mse: 1.1330 - mae: 0.8079 - val_loss: 1.0818 - val_mse: 1.0818 - val_mae: 0.7742\n",
      "Epoch 115/150\n",
      "55470/55470 [==============================] - 22s 402us/step - loss: 1.1431 - mse: 1.1431 - mae: 0.8135 - val_loss: 1.0518 - val_mse: 1.0518 - val_mae: 0.7606\n",
      "Epoch 116/150\n",
      "55470/55470 [==============================] - 22s 405us/step - loss: 1.1348 - mse: 1.1348 - mae: 0.8096 - val_loss: 1.0617 - val_mse: 1.0617 - val_mae: 0.7577\n",
      "Epoch 117/150\n",
      "55470/55470 [==============================] - 22s 402us/step - loss: 1.1401 - mse: 1.1401 - mae: 0.8123 - val_loss: 1.0547 - val_mse: 1.0547 - val_mae: 0.7606\n",
      "Epoch 118/150\n",
      "55470/55470 [==============================] - 22s 403us/step - loss: 1.1205 - mse: 1.1205 - mae: 0.8064 - val_loss: 1.0505 - val_mse: 1.0505 - val_mae: 0.7532\n",
      "Epoch 119/150\n",
      "55470/55470 [==============================] - 22s 400us/step - loss: 1.1238 - mse: 1.1238 - mae: 0.8067 - val_loss: 1.0443 - val_mse: 1.0443 - val_mae: 0.7541\n",
      "Epoch 120/150\n",
      "55470/55470 [==============================] - 22s 403us/step - loss: 1.1240 - mse: 1.1240 - mae: 0.8045 - val_loss: 1.0417 - val_mse: 1.0417 - val_mae: 0.7560\n",
      "Epoch 121/150\n",
      "55470/55470 [==============================] - 22s 404us/step - loss: 1.1310 - mse: 1.1310 - mae: 0.8066 - val_loss: 1.0575 - val_mse: 1.0575 - val_mae: 0.7588\n",
      "Epoch 122/150\n",
      "55470/55470 [==============================] - 22s 404us/step - loss: 1.1206 - mse: 1.1206 - mae: 0.8032 - val_loss: 1.0533 - val_mse: 1.0533 - val_mae: 0.7541\n",
      "Epoch 123/150\n",
      "55470/55470 [==============================] - 22s 401us/step - loss: 1.1193 - mse: 1.1193 - mae: 0.8032 - val_loss: 1.0542 - val_mse: 1.0542 - val_mae: 0.7536\n",
      "Epoch 124/150\n",
      "55470/55470 [==============================] - 22s 403us/step - loss: 1.1173 - mse: 1.1173 - mae: 0.8026 - val_loss: 1.0557 - val_mse: 1.0557 - val_mae: 0.7576\n",
      "Epoch 125/150\n",
      "55470/55470 [==============================] - 22s 401us/step - loss: 1.1107 - mse: 1.1107 - mae: 0.8018 - val_loss: 1.0466 - val_mse: 1.0466 - val_mae: 0.7560\n",
      "Epoch 126/150\n",
      "55470/55470 [==============================] - 22s 400us/step - loss: 1.1206 - mse: 1.1206 - mae: 0.8035 - val_loss: 1.0461 - val_mse: 1.0461 - val_mae: 0.7562\n",
      "Epoch 127/150\n",
      "55470/55470 [==============================] - 22s 404us/step - loss: 1.1146 - mse: 1.1146 - mae: 0.8015 - val_loss: 1.0396 - val_mse: 1.0396 - val_mae: 0.7567\n",
      "Epoch 128/150\n",
      "55470/55470 [==============================] - 22s 402us/step - loss: 1.1063 - mse: 1.1063 - mae: 0.8006 - val_loss: 1.0579 - val_mse: 1.0579 - val_mae: 0.7591\n",
      "Epoch 129/150\n",
      "55470/55470 [==============================] - 22s 402us/step - loss: 1.1061 - mse: 1.1061 - mae: 0.8007 - val_loss: 1.0268 - val_mse: 1.0268 - val_mae: 0.7488\n",
      "Epoch 130/150\n",
      "55470/55470 [==============================] - 22s 403us/step - loss: 1.1101 - mse: 1.1101 - mae: 0.7994 - val_loss: 1.0421 - val_mse: 1.0421 - val_mae: 0.7563\n",
      "Epoch 131/150\n",
      "55470/55470 [==============================] - 22s 403us/step - loss: 1.0996 - mse: 1.0996 - mae: 0.7965 - val_loss: 1.0436 - val_mse: 1.0436 - val_mae: 0.7571\n",
      "Epoch 132/150\n",
      "55470/55470 [==============================] - 22s 401us/step - loss: 1.0920 - mse: 1.0920 - mae: 0.7954 - val_loss: 1.0409 - val_mse: 1.0409 - val_mae: 0.7534\n",
      "Epoch 133/150\n",
      "55470/55470 [==============================] - 22s 402us/step - loss: 1.1025 - mse: 1.1025 - mae: 0.7985 - val_loss: 1.0316 - val_mse: 1.0316 - val_mae: 0.7467\n",
      "Epoch 134/150\n",
      "55470/55470 [==============================] - 22s 400us/step - loss: 1.0955 - mse: 1.0955 - mae: 0.7972 - val_loss: 1.0475 - val_mse: 1.0475 - val_mae: 0.7565\n",
      "Epoch 135/150\n",
      "55470/55470 [==============================] - 22s 404us/step - loss: 1.0967 - mse: 1.0967 - mae: 0.7978 - val_loss: 1.0567 - val_mse: 1.0567 - val_mae: 0.7615\n",
      "Epoch 136/150\n",
      "55470/55470 [==============================] - 22s 401us/step - loss: 1.0965 - mse: 1.0965 - mae: 0.7945 - val_loss: 1.0469 - val_mse: 1.0469 - val_mae: 0.7528\n",
      "Epoch 137/150\n",
      "55470/55470 [==============================] - 22s 401us/step - loss: 1.1004 - mse: 1.1004 - mae: 0.7972 - val_loss: 1.0212 - val_mse: 1.0212 - val_mae: 0.7463\n",
      "Epoch 138/150\n",
      "55470/55470 [==============================] - 22s 405us/step - loss: 1.1006 - mse: 1.1006 - mae: 0.7979 - val_loss: 1.0261 - val_mse: 1.0261 - val_mae: 0.7514\n",
      "Epoch 139/150\n",
      "55470/55470 [==============================] - 22s 401us/step - loss: 1.0991 - mse: 1.0991 - mae: 0.7973 - val_loss: 1.0355 - val_mse: 1.0355 - val_mae: 0.7543\n",
      "Epoch 140/150\n"
     ]
    },
    {
     "name": "stdout",
     "output_type": "stream",
     "text": [
      "55470/55470 [==============================] - 22s 401us/step - loss: 1.0863 - mse: 1.0863 - mae: 0.7925 - val_loss: 1.0495 - val_mse: 1.0495 - val_mae: 0.7556\n",
      "Epoch 141/150\n",
      "55470/55470 [==============================] - 22s 402us/step - loss: 1.0819 - mse: 1.0819 - mae: 0.7915 - val_loss: 1.0334 - val_mse: 1.0333 - val_mae: 0.7467\n",
      "Epoch 142/150\n",
      "55470/55470 [==============================] - 22s 404us/step - loss: 1.0843 - mse: 1.0843 - mae: 0.7935 - val_loss: 1.0336 - val_mse: 1.0336 - val_mae: 0.7560\n",
      "Epoch 143/150\n",
      "55470/55470 [==============================] - 22s 402us/step - loss: 1.0829 - mse: 1.0829 - mae: 0.7920 - val_loss: 1.0399 - val_mse: 1.0399 - val_mae: 0.7559\n",
      "Epoch 144/150\n",
      "55470/55470 [==============================] - 22s 399us/step - loss: 1.0841 - mse: 1.0841 - mae: 0.7910 - val_loss: 1.0459 - val_mse: 1.0459 - val_mae: 0.7544\n",
      "Epoch 145/150\n",
      "55470/55470 [==============================] - 22s 400us/step - loss: 1.0874 - mse: 1.0874 - mae: 0.7932 - val_loss: 1.0279 - val_mse: 1.0279 - val_mae: 0.7480\n",
      "Epoch 146/150\n",
      "55470/55470 [==============================] - 22s 402us/step - loss: 1.0812 - mse: 1.0812 - mae: 0.7900 - val_loss: 1.0397 - val_mse: 1.0397 - val_mae: 0.7574\n",
      "Epoch 147/150\n",
      "55470/55470 [==============================] - 22s 401us/step - loss: 1.0801 - mse: 1.0801 - mae: 0.7905 - val_loss: 1.0379 - val_mse: 1.0379 - val_mae: 0.7581\n",
      "Epoch 148/150\n",
      "55470/55470 [==============================] - 22s 403us/step - loss: 1.0788 - mse: 1.0788 - mae: 0.7889 - val_loss: 1.0294 - val_mse: 1.0294 - val_mae: 0.7449\n",
      "Epoch 149/150\n",
      "55470/55470 [==============================] - 22s 403us/step - loss: 1.0756 - mse: 1.0756 - mae: 0.7885 - val_loss: 1.0204 - val_mse: 1.0204 - val_mae: 0.7459\n",
      "Epoch 150/150\n",
      "55470/55470 [==============================] - 22s 402us/step - loss: 1.0687 - mse: 1.0687 - mae: 0.7857 - val_loss: 1.0201 - val_mse: 1.0201 - val_mae: 0.7464\n",
      "EndTime : 2022-02-16 15:44:42.371928\n"
     ]
    }
   ],
   "source": [
    "optim = Adam(lr=0.0002)\n",
    "\n",
    "model.compile(loss='mse',\n",
    "\t\t      optimizer=optim,\n",
    "\t\t\t  metrics=['mse','mae'])\n",
    "\n",
    "StartTime8 = datetime.now()\n",
    "print(\"StartTime :\", StartTime8)\n",
    "with K.tf.device('/GPU:0'):\n",
    "    model_train = model.fit([train_X_cell, train_X_drug], train_y, validation_data=([test_X_cell, test_X_drug], test_y),\n",
    "                            batch_size=batch_size,epochs=training_epochs,verbose=1)\n",
    "\n",
    "EndTime8 = datetime.now()\n",
    "print(\"EndTime :\", EndTime8)"
   ]
  },
  {
   "cell_type": "code",
   "execution_count": 24,
   "metadata": {},
   "outputs": [],
   "source": [
    "import json\n",
    "from keras.models import model_from_json, load_model\n",
    "workdir = \"D://ResNetIC50//Result//MEDG-61K//CDRScan\"\n",
    "# Option 1: Save Weights + Architecture\n",
    "model.save_weights(workdir+ '//MEDG61K_nnnr0_CDRScan_model_fix_v3.h5')\n",
    "with open(workdir + '//MEDG61K_nnnr0_CDRScan_model_architecture_fix_v3.json', 'w') as f:\n",
    "    f.write(model.to_json())\n",
    "# Option 1: Load Weights + Architecture\n",
    "# with open('model_architecture.json', 'r') as f:\n",
    "#     new_model_1 = model_from_json(f.read())\n",
    "# new_model_1.load_weights('model_weights.h5')"
   ]
  },
  {
   "cell_type": "code",
   "execution_count": 25,
   "metadata": {},
   "outputs": [],
   "source": [
    "# Option 2: Save/Load the Entire Model\n",
    "from keras.models import load_model\n",
    "\n",
    "# Creates a HDF5 file 'my_model.h5'\n",
    "model.save(workdir + '//MEDG61K_nnnr0_CDRScan_model_fix_2080ti_v3.h5')\n",
    "\n",
    "# Deletes the existing model\n",
    "# del model  \n",
    "\n",
    "# Returns a compiled model identical to the previous one\n",
    "# model = load_model('my_model.h5')"
   ]
  },
  {
   "cell_type": "code",
   "execution_count": 26,
   "metadata": {},
   "outputs": [
    {
     "name": "stdout",
     "output_type": "stream",
     "text": [
      "6163/6163 [==============================] - 2s 276us/step\n"
     ]
    }
   ],
   "source": [
    "test_eval = model.evaluate([test_X_cell,test_X_drug], test_label_array, verbose=1)"
   ]
  },
  {
   "cell_type": "code",
   "execution_count": 27,
   "metadata": {},
   "outputs": [
    {
     "data": {
      "text/plain": [
       "[1.0200849943843422, 1.0200848579406738, 0.746387779712677]"
      ]
     },
     "execution_count": 27,
     "metadata": {},
     "output_type": "execute_result"
    }
   ],
   "source": [
    "test_eval"
   ]
  },
  {
   "cell_type": "code",
   "execution_count": 28,
   "metadata": {},
   "outputs": [],
   "source": [
    "accuracy = model_train.history['mse']\n",
    "val_accuracy = model_train.history['val_mse']\n",
    "loss = model_train.history['loss']\n",
    "val_loss = model_train.history['val_loss']\n",
    "\n",
    "np_acc = np.array(accuracy)\n",
    "np_val_acc = np.array(val_accuracy)\n",
    "np_loss = np.array(loss)\n",
    "np_val_loss = np.array(val_loss)"
   ]
  },
  {
   "cell_type": "code",
   "execution_count": 29,
   "metadata": {},
   "outputs": [],
   "source": [
    "import matplotlib\n",
    "from matplotlib import pyplot as plt"
   ]
  },
  {
   "cell_type": "code",
   "execution_count": 30,
   "metadata": {},
   "outputs": [
    {
     "data": {
      "image/png": "[encoded data removed]",
      "text/plain": [
       "<Figure size 432x288 with 1 Axes>"
      ]
     },
     "metadata": {
      "needs_background": "light"
     },
     "output_type": "display_data"
    },
    {
     "data": {
      "image/png": "[encoded data removed]",
      "text/plain": [
       "<Figure size 432x288 with 1 Axes>"
      ]
     },
     "metadata": {
      "needs_background": "light"
     },
     "output_type": "display_data"
    }
   ],
   "source": [
    "# accuracy = model_train.history['acc']\n",
    "# val_accuracy = model_train.history['val_acc']\n",
    "# loss = model_train.history['loss']\n",
    "# val_loss = model_train.history['val_loss']\n",
    "epochs = range(len(accuracy))\n",
    "plt.plot(epochs, accuracy, 'bo', label='Training mse',c='red')\n",
    "plt.plot(epochs, val_accuracy, 'b', label='Validation mse',c='red')\n",
    "plt.title('Training and validation mse')\n",
    "plt.legend()\n",
    "plt.figure()\n",
    "plt.plot(epochs, loss, 'bo', label='Training loss',c='red')\n",
    "plt.plot(epochs, val_loss, 'b', label='Validation loss',c='red')\n",
    "plt.title('Training and validation loss')\n",
    "plt.legend()\n",
    "plt.show()"
   ]
  },
  {
   "cell_type": "code",
   "execution_count": 31,
   "metadata": {},
   "outputs": [],
   "source": [
    "predicted_classes = model.predict([test_X_cell,test_X_drug])"
   ]
  },
  {
   "cell_type": "code",
   "execution_count": 32,
   "metadata": {},
   "outputs": [],
   "source": [
    "predicted_value = predicted_classes"
   ]
  },
  {
   "cell_type": "code",
   "execution_count": 33,
   "metadata": {},
   "outputs": [],
   "source": [
    "a = pd.DataFrame(predicted_value)\n",
    "b = pd.DataFrame(test_label_array)\n",
    "c = pd.concat([a,b], axis=1)\n",
    "c.columns=[\"Predicted\",\"Test\"]"
   ]
  },
  {
   "cell_type": "code",
   "execution_count": 34,
   "metadata": {},
   "outputs": [],
   "source": [
    "c.to_csv(workdir + '//MEDG61K_nnnr0_CDRScan_pred_obs_table.csv')"
   ]
  },
  {
   "cell_type": "code",
   "execution_count": 35,
   "metadata": {},
   "outputs": [
    {
     "data": {
      "text/html": [
       "<div>\n",
       "<style scoped>\n",
       "    .dataframe tbody tr th:only-of-type {\n",
       "        vertical-align: middle;\n",
       "    }\n",
       "\n",
       "    .dataframe tbody tr th {\n",
       "        vertical-align: top;\n",
       "    }\n",
       "\n",
       "    .dataframe thead th {\n",
       "        text-align: right;\n",
       "    }\n",
       "</style>\n",
       "<table border=\"1\" class=\"dataframe\">\n",
       "  <thead>\n",
       "    <tr style=\"text-align: right;\">\n",
       "      <th></th>\n",
       "      <th>Predicted</th>\n",
       "      <th>Test</th>\n",
       "    </tr>\n",
       "  </thead>\n",
       "  <tbody>\n",
       "    <tr>\n",
       "      <th>0</th>\n",
       "      <td>3.062489</td>\n",
       "      <td>4.019488</td>\n",
       "    </tr>\n",
       "    <tr>\n",
       "      <th>1</th>\n",
       "      <td>4.671288</td>\n",
       "      <td>4.874940</td>\n",
       "    </tr>\n",
       "    <tr>\n",
       "      <th>2</th>\n",
       "      <td>4.488622</td>\n",
       "      <td>3.469247</td>\n",
       "    </tr>\n",
       "    <tr>\n",
       "      <th>3</th>\n",
       "      <td>3.429545</td>\n",
       "      <td>3.188959</td>\n",
       "    </tr>\n",
       "    <tr>\n",
       "      <th>4</th>\n",
       "      <td>5.181105</td>\n",
       "      <td>5.234564</td>\n",
       "    </tr>\n",
       "    <tr>\n",
       "      <th>...</th>\n",
       "      <td>...</td>\n",
       "      <td>...</td>\n",
       "    </tr>\n",
       "    <tr>\n",
       "      <th>6158</th>\n",
       "      <td>4.102025</td>\n",
       "      <td>3.822629</td>\n",
       "    </tr>\n",
       "    <tr>\n",
       "      <th>6159</th>\n",
       "      <td>3.713385</td>\n",
       "      <td>5.123446</td>\n",
       "    </tr>\n",
       "    <tr>\n",
       "      <th>6160</th>\n",
       "      <td>3.879176</td>\n",
       "      <td>3.998526</td>\n",
       "    </tr>\n",
       "    <tr>\n",
       "      <th>6161</th>\n",
       "      <td>-2.016064</td>\n",
       "      <td>-1.653120</td>\n",
       "    </tr>\n",
       "    <tr>\n",
       "      <th>6162</th>\n",
       "      <td>-5.413205</td>\n",
       "      <td>-6.065551</td>\n",
       "    </tr>\n",
       "  </tbody>\n",
       "</table>\n",
       "<p>6163 rows × 2 columns</p>\n",
       "</div>"
      ],
      "text/plain": [
       "      Predicted      Test\n",
       "0      3.062489  4.019488\n",
       "1      4.671288  4.874940\n",
       "2      4.488622  3.469247\n",
       "3      3.429545  3.188959\n",
       "4      5.181105  5.234564\n",
       "...         ...       ...\n",
       "6158   4.102025  3.822629\n",
       "6159   3.713385  5.123446\n",
       "6160   3.879176  3.998526\n",
       "6161  -2.016064 -1.653120\n",
       "6162  -5.413205 -6.065551\n",
       "\n",
       "[6163 rows x 2 columns]"
      ]
     },
     "execution_count": 35,
     "metadata": {},
     "output_type": "execute_result"
    }
   ],
   "source": [
    "c"
   ]
  },
  {
   "cell_type": "code",
   "execution_count": 36,
   "metadata": {},
   "outputs": [
    {
     "data": {
      "text/plain": [
       "(6163, 1)"
      ]
     },
     "execution_count": 36,
     "metadata": {},
     "output_type": "execute_result"
    }
   ],
   "source": [
    "predicted_value.shape"
   ]
  },
  {
   "cell_type": "code",
   "execution_count": 37,
   "metadata": {},
   "outputs": [
    {
     "data": {
      "text/plain": [
       "LinregressResult(slope=0.8670682033746924, intercept=0.2540298136527781, rvalue=0.9340234114756447, pvalue=0.0, stderr=0.004224698155832275)"
      ]
     },
     "execution_count": 37,
     "metadata": {},
     "output_type": "execute_result"
    }
   ],
   "source": [
    "from scipy.stats import linregress\n",
    "linregress(b[0], a[0])"
   ]
  },
  {
   "cell_type": "code",
   "execution_count": 38,
   "metadata": {},
   "outputs": [
    {
     "name": "stdout",
     "output_type": "stream",
     "text": [
      "0.8723622595624119\n"
     ]
    }
   ],
   "source": [
    "from sklearn.metrics import r2_score\n",
    "r2_value = r2_score(b,a)\n",
    "print(r2_value)"
   ]
  },
  {
   "cell_type": "code",
   "execution_count": 39,
   "metadata": {},
   "outputs": [
    {
     "name": "stdout",
     "output_type": "stream",
     "text": [
      "Final rmse value is = 1.0099925610891898\n"
     ]
    }
   ],
   "source": [
    "rse = ((b[0]-a[0])**2).sum()\n",
    "mse = rse / len(b)\n",
    "print(\"Final rmse value is =\",np.sqrt(mse))"
   ]
  },
  {
   "cell_type": "code",
   "execution_count": 40,
   "metadata": {},
   "outputs": [
    {
     "data": {
      "image/png": "[encoded data removed]",
      "text/plain": [
       "<Figure size 432x432 with 3 Axes>"
      ]
     },
     "metadata": {
      "needs_background": "light"
     },
     "output_type": "display_data"
    }
   ],
   "source": [
    "workdir = \"D://ResNetIC50//Result//Figure//MEDG-61K\"\n",
    "import seaborn as sns\n",
    "\n",
    "g = sns.jointplot(x=\"Test\", y=\"Predicted\", data=c, kind='reg', color='#7C7C7C',\n",
    "                  joint_kws={'line_kws':{'color':'black'}})\n",
    "g.savefig(workdir+ '//MEDG61K_nnnr0_CDRScan.png', dpi=300)"
   ]
  },
  {
   "cell_type": "code",
   "execution_count": null,
   "metadata": {},
   "outputs": [],
   "source": []
  },
  {
   "cell_type": "code",
   "execution_count": null,
   "metadata": {},
   "outputs": [],
   "source": []
  }
 ],
 "metadata": {
  "kernelspec": {
   "display_name": "Python 3",
   "language": "python",
   "name": "python3"
  },
  "language_info": {
   "codemirror_mode": {
    "name": "ipython",
    "version": 3
   },
   "file_extension": ".py",
   "mimetype": "text/x-python",
   "name": "python",
   "nbconvert_exporter": "python",
   "pygments_lexer": "ipython3",
   "version": "3.6.12"
  }
 },
 "nbformat": 4,
 "nbformat_minor": 2
}
