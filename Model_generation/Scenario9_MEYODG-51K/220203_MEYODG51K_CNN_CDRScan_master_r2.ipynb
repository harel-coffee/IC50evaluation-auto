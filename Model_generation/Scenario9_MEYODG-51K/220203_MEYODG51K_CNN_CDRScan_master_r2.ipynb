{
 "cells": [
  {
   "cell_type": "code",
   "execution_count": 1,
   "metadata": {},
   "outputs": [
    {
     "name": "stderr",
     "output_type": "stream",
     "text": [
      "C:\\Users\\BGM18\\.conda\\envs\\ronny_keras\\lib\\site-packages\\tensorflow\\python\\framework\\dtypes.py:516: FutureWarning: Passing (type, 1) or '1type' as a synonym of type is deprecated; in a future version of numpy, it will be understood as (type, (1,)) / '(1,)type'.\n",
      "  _np_qint8 = np.dtype([(\"qint8\", np.int8, 1)])\n",
      "C:\\Users\\BGM18\\.conda\\envs\\ronny_keras\\lib\\site-packages\\tensorflow\\python\\framework\\dtypes.py:517: FutureWarning: Passing (type, 1) or '1type' as a synonym of type is deprecated; in a future version of numpy, it will be understood as (type, (1,)) / '(1,)type'.\n",
      "  _np_quint8 = np.dtype([(\"quint8\", np.uint8, 1)])\n",
      "C:\\Users\\BGM18\\.conda\\envs\\ronny_keras\\lib\\site-packages\\tensorflow\\python\\framework\\dtypes.py:518: FutureWarning: Passing (type, 1) or '1type' as a synonym of type is deprecated; in a future version of numpy, it will be understood as (type, (1,)) / '(1,)type'.\n",
      "  _np_qint16 = np.dtype([(\"qint16\", np.int16, 1)])\n",
      "C:\\Users\\BGM18\\.conda\\envs\\ronny_keras\\lib\\site-packages\\tensorflow\\python\\framework\\dtypes.py:519: FutureWarning: Passing (type, 1) or '1type' as a synonym of type is deprecated; in a future version of numpy, it will be understood as (type, (1,)) / '(1,)type'.\n",
      "  _np_quint16 = np.dtype([(\"quint16\", np.uint16, 1)])\n",
      "C:\\Users\\BGM18\\.conda\\envs\\ronny_keras\\lib\\site-packages\\tensorflow\\python\\framework\\dtypes.py:520: FutureWarning: Passing (type, 1) or '1type' as a synonym of type is deprecated; in a future version of numpy, it will be understood as (type, (1,)) / '(1,)type'.\n",
      "  _np_qint32 = np.dtype([(\"qint32\", np.int32, 1)])\n",
      "C:\\Users\\BGM18\\.conda\\envs\\ronny_keras\\lib\\site-packages\\tensorflow\\python\\framework\\dtypes.py:525: FutureWarning: Passing (type, 1) or '1type' as a synonym of type is deprecated; in a future version of numpy, it will be understood as (type, (1,)) / '(1,)type'.\n",
      "  np_resource = np.dtype([(\"resource\", np.ubyte, 1)])\n",
      "C:\\Users\\BGM18\\.conda\\envs\\ronny_keras\\lib\\site-packages\\tensorboard\\compat\\tensorflow_stub\\dtypes.py:541: FutureWarning: Passing (type, 1) or '1type' as a synonym of type is deprecated; in a future version of numpy, it will be understood as (type, (1,)) / '(1,)type'.\n",
      "  _np_qint8 = np.dtype([(\"qint8\", np.int8, 1)])\n",
      "C:\\Users\\BGM18\\.conda\\envs\\ronny_keras\\lib\\site-packages\\tensorboard\\compat\\tensorflow_stub\\dtypes.py:542: FutureWarning: Passing (type, 1) or '1type' as a synonym of type is deprecated; in a future version of numpy, it will be understood as (type, (1,)) / '(1,)type'.\n",
      "  _np_quint8 = np.dtype([(\"quint8\", np.uint8, 1)])\n",
      "C:\\Users\\BGM18\\.conda\\envs\\ronny_keras\\lib\\site-packages\\tensorboard\\compat\\tensorflow_stub\\dtypes.py:543: FutureWarning: Passing (type, 1) or '1type' as a synonym of type is deprecated; in a future version of numpy, it will be understood as (type, (1,)) / '(1,)type'.\n",
      "  _np_qint16 = np.dtype([(\"qint16\", np.int16, 1)])\n",
      "C:\\Users\\BGM18\\.conda\\envs\\ronny_keras\\lib\\site-packages\\tensorboard\\compat\\tensorflow_stub\\dtypes.py:544: FutureWarning: Passing (type, 1) or '1type' as a synonym of type is deprecated; in a future version of numpy, it will be understood as (type, (1,)) / '(1,)type'.\n",
      "  _np_quint16 = np.dtype([(\"quint16\", np.uint16, 1)])\n",
      "C:\\Users\\BGM18\\.conda\\envs\\ronny_keras\\lib\\site-packages\\tensorboard\\compat\\tensorflow_stub\\dtypes.py:545: FutureWarning: Passing (type, 1) or '1type' as a synonym of type is deprecated; in a future version of numpy, it will be understood as (type, (1,)) / '(1,)type'.\n",
      "  _np_qint32 = np.dtype([(\"qint32\", np.int32, 1)])\n",
      "C:\\Users\\BGM18\\.conda\\envs\\ronny_keras\\lib\\site-packages\\tensorboard\\compat\\tensorflow_stub\\dtypes.py:550: FutureWarning: Passing (type, 1) or '1type' as a synonym of type is deprecated; in a future version of numpy, it will be understood as (type, (1,)) / '(1,)type'.\n",
      "  np_resource = np.dtype([(\"resource\", np.ubyte, 1)])\n",
      "Using TensorFlow backend.\n"
     ]
    }
   ],
   "source": [
    "import os\n",
    "import sys\n",
    "import pandas as pd\n",
    "import numpy as np\n",
    "from sklearn import preprocessing\n",
    "import tensorflow as tf\n",
    "import random\n",
    "import matplotlib\n",
    "from matplotlib import pyplot as plt\n",
    "import statistics\n",
    "from pandas import DataFrame\n",
    "from datetime import datetime\n",
    "import keras\n",
    "from keras.models import Sequential,Input,Model\n",
    "from keras.layers import Dense, Dropout, Reshape, Flatten, Activation\n",
    "from keras.layers import Conv1D, MaxPooling1D, AveragePooling1D, GlobalAveragePooling1D\n",
    "from keras.layers import Conv2D, MaxPooling2D, Concatenate\n",
    "from keras.layers.normalization import BatchNormalization\n",
    "from keras.layers.advanced_activations import LeakyReLU\n",
    "from keras.optimizers import Adam, RMSprop\n",
    "#from keras import backend as K\n",
    "import keras.backend.tensorflow_backend as K\n",
    "from tensorflow.keras.callbacks import ModelCheckpoint, CSVLogger\n",
    "from keras.backend.tensorflow_backend import set_session\n",
    "from os.path import basename\n",
    "#import seaborn as sns\n",
    "from keras.models import load_model\n",
    "from keras.utils.vis_utils import plot_model\n",
    "from sklearn.metrics import r2_score\n",
    "from sklearn.metrics import mean_squared_error\n",
    "from matplotlib.patches import Patch\n",
    "from matplotlib.lines import Line2D\n",
    "from scipy.stats import pearsonr\n",
    "\n",
    "# from tensorflow.keras.callbacks import ModelCheckpoint, CSVLogger\n",
    "#from tensorflow.keras.optimizers import Adam\n",
    "\n",
    "\n",
    "\n",
    "\n",
    "config = tf.ConfigProto()\n",
    "config.gpu_options.per_process_gpu_memory_fraction = 0.7\n",
    "config.gpu_options.allow_growth = True\n",
    "sess = tf.Session(config=config)"
   ]
  },
  {
   "cell_type": "code",
   "execution_count": 2,
   "metadata": {},
   "outputs": [
    {
     "name": "stdout",
     "output_type": "stream",
     "text": [
      "[name: \"/device:CPU:0\"\n",
      "device_type: \"CPU\"\n",
      "memory_limit: 268435456\n",
      "locality {\n",
      "}\n",
      "incarnation: 179659180303681526\n",
      ", name: \"/device:GPU:0\"\n",
      "device_type: \"GPU\"\n",
      "memory_limit: 8267812044\n",
      "locality {\n",
      "  bus_id: 1\n",
      "  links {\n",
      "  }\n",
      "}\n",
      "incarnation: 6876971815486318227\n",
      "physical_device_desc: \"device: 0, name: GeForce RTX 2080 Ti, pci bus id: 0000:01:00.0, compute capability: 7.5\"\n",
      "]\n"
     ]
    }
   ],
   "source": [
    "from tensorflow.python.client import device_lib\n",
    "print(device_lib.list_local_devices())\n",
    "\n",
    "\n",
    "# 출처: https://3months.tistory.com/206 [Deep Play]"
   ]
  },
  {
   "cell_type": "code",
   "execution_count": 3,
   "metadata": {},
   "outputs": [],
   "source": [
    "workdir = \"D://ResNetIC50//Dataset//MEYODG-51K\""
   ]
  },
  {
   "cell_type": "code",
   "execution_count": 4,
   "metadata": {},
   "outputs": [],
   "source": [
    "# < Important note > [ Please download input data from https://mega.nz/#F!CeYGDKyS!uqkmWJ4E2XSGJp_C2VO2gg]\n",
    "\n",
    "dataset = np.load(workdir + \"//MEYODG51K_dataset.npz\") # input file\n",
    "ss0 = np.load(workdir + '//MEYODG51K_dataset_r2.npz') # split for training and test"
   ]
  },
  {
   "cell_type": "code",
   "execution_count": 5,
   "metadata": {},
   "outputs": [],
   "source": [
    "x = dataset['x']\n",
    "y = dataset['y']\n",
    "# y_linear = dataset['y_lnIC50']\n",
    "ss0_train = ss0['train']\n",
    "ss0_test = ss0['test']"
   ]
  },
  {
   "cell_type": "code",
   "execution_count": 6,
   "metadata": {},
   "outputs": [],
   "source": [
    "training_image_array, training_label_array = x[ss0_train], y[ss0_train]\n",
    "test_image_array, test_label_array = x[ss0_test], y[ss0_test]\n",
    "\n",
    "# In[9]:\n",
    "# ori = training_image_array\n",
    "# bat = np.zeros((ori.shape[0],178))\n",
    "# cat = np.hstack([ori,bat])\n",
    "# training_image_array = cat\n",
    "\n",
    "# # In[8]:\n",
    "# training_image_array.shape\n",
    "\n",
    "# # In[10]:\n",
    "# ori2 = test_image_array\n",
    "# bat2 = np.zeros((ori2.shape[0],178))\n",
    "# cat2 = np.hstack([ori2,bat2])\n",
    "# test_image_array = cat2\n"
   ]
  },
  {
   "cell_type": "code",
   "execution_count": 7,
   "metadata": {},
   "outputs": [
    {
     "name": "stdout",
     "output_type": "stream",
     "text": [
      "0 27\n"
     ]
    }
   ],
   "source": [
    "# In[15]:\n",
    "ab =[]\n",
    "for i in range(100,200):\n",
    "    ab.append(len(training_image_array) % i)\n",
    "    \n",
    "print(min(ab), ab.index(min(ab)))"
   ]
  },
  {
   "cell_type": "code",
   "execution_count": 8,
   "metadata": {},
   "outputs": [
    {
     "data": {
      "text/plain": [
       "(51787, 79724)"
      ]
     },
     "execution_count": 8,
     "metadata": {},
     "output_type": "execute_result"
    }
   ],
   "source": [
    "x.shape"
   ]
  },
  {
   "cell_type": "code",
   "execution_count": 9,
   "metadata": {},
   "outputs": [
    {
     "data": {
      "text/plain": [
       "(46609, 79724)"
      ]
     },
     "execution_count": 9,
     "metadata": {},
     "output_type": "execute_result"
    }
   ],
   "source": [
    "training_image_array.shape"
   ]
  },
  {
   "cell_type": "code",
   "execution_count": 10,
   "metadata": {},
   "outputs": [],
   "source": [
    "# In[21]:\n",
    "\n",
    "num_classes = 1\n",
    "learning_rate = 0.0002\n",
    "training_epochs = 150\n",
    "batch_size = 100\n",
    "img_rows, img_cols = 154, 154\n"
   ]
  },
  {
   "cell_type": "code",
   "execution_count": 11,
   "metadata": {},
   "outputs": [],
   "source": [
    "train_X, train_y, test_X, test_y = training_image_array, training_label_array, test_image_array, test_label_array\n",
    "\n",
    "# if K.image_data_format() == 'channels_first':\n",
    "#     train_X = train_X.reshape(train_X.shape[0], 1, img_rows, img_cols)\n",
    "#     test_X = test_X.reshape(x_test.shape[0], 1, img_rows, img_cols)\n",
    "#     input_shape = (1, img_rows, img_cols)\n",
    "# else:\n",
    "#     train_X = train_X.reshape(train_X.shape[0], img_rows, img_cols, 1)\n",
    "#     test_X = test_X.reshape(test_X.shape[0], img_rows, img_cols, 1)\n",
    "#     input_shape = (img_rows, img_cols, 1)\n"
   ]
  },
  {
   "cell_type": "code",
   "execution_count": 13,
   "metadata": {},
   "outputs": [
    {
     "name": "stdout",
     "output_type": "stream",
     "text": [
      "77399\n"
     ]
    }
   ],
   "source": [
    "shape_value = 77399\n",
    "print(shape_value)"
   ]
  },
  {
   "cell_type": "code",
   "execution_count": 14,
   "metadata": {},
   "outputs": [
    {
     "data": {
      "text/plain": [
       "(46609, 79724)"
      ]
     },
     "execution_count": 14,
     "metadata": {},
     "output_type": "execute_result"
    }
   ],
   "source": [
    "train_X.shape"
   ]
  },
  {
   "cell_type": "code",
   "execution_count": 15,
   "metadata": {},
   "outputs": [],
   "source": [
    "train_X_cell = train_X[:,:shape_value]\n",
    "train_X_drug =train_X[:,shape_value:]\n",
    "test_X_cell = test_X[:,:shape_value]\n",
    "test_X_drug = test_X[:,shape_value:]"
   ]
  },
  {
   "cell_type": "code",
   "execution_count": 16,
   "metadata": {},
   "outputs": [
    {
     "data": {
      "text/plain": [
       "(46609, 77399)"
      ]
     },
     "execution_count": 16,
     "metadata": {},
     "output_type": "execute_result"
    }
   ],
   "source": [
    "train_X_cell.shape"
   ]
  },
  {
   "cell_type": "code",
   "execution_count": 17,
   "metadata": {},
   "outputs": [],
   "source": [
    "train_X_cell = train_X_cell.reshape(train_X_cell.shape[0], train_X_cell.shape[1], 1)\n",
    "train_X_drug = train_X_drug.reshape(train_X_drug.shape[0], train_X_drug.shape[1], 1)\n",
    "test_X_cell = test_X_cell.reshape(test_X_cell.shape[0], test_X_cell.shape[1], 1)\n",
    "test_X_drug = test_X_drug.reshape(test_X_drug.shape[0], test_X_drug.shape[1], 1)\n",
    "#input_shape = (img_rows, img_cols, 1)"
   ]
  },
  {
   "cell_type": "code",
   "execution_count": 18,
   "metadata": {},
   "outputs": [
    {
     "name": "stdout",
     "output_type": "stream",
     "text": [
      "(46609, 77399, 1) (46609, 2325, 1) (46609,) (5178, 77399, 1) (5178, 2325, 1) (5178,)\n"
     ]
    }
   ],
   "source": [
    "print(train_X_cell.shape,train_X_drug.shape, train_y.shape, test_X_cell.shape,test_X_drug.shape, test_y.shape)"
   ]
  },
  {
   "cell_type": "code",
   "execution_count": 19,
   "metadata": {},
   "outputs": [
    {
     "data": {
      "text/plain": [
       "(46609, 77399, 1)"
      ]
     },
     "execution_count": 19,
     "metadata": {},
     "output_type": "execute_result"
    }
   ],
   "source": [
    "train_X_cell.shape"
   ]
  },
  {
   "cell_type": "code",
   "execution_count": 20,
   "metadata": {},
   "outputs": [],
   "source": [
    "train_X_cell = train_X_cell.astype('float32')\n",
    "test_X_cell = test_X_cell.astype('float32')\n",
    "train_X_drug = train_X_drug.astype('float32')\n",
    "test_X_drug = test_X_drug.astype('float32')"
   ]
  },
  {
   "cell_type": "code",
   "execution_count": 21,
   "metadata": {},
   "outputs": [
    {
     "name": "stdout",
     "output_type": "stream",
     "text": [
      "WARNING:tensorflow:From C:\\Users\\BGM18\\.conda\\envs\\ronny_keras\\lib\\site-packages\\keras\\backend\\tensorflow_backend.py:4070: The name tf.nn.max_pool is deprecated. Please use tf.nn.max_pool2d instead.\n",
      "\n"
     ]
    }
   ],
   "source": [
    "with K.tf.device('/GPU:0'):\n",
    "    input_cell = Input(shape=(train_X_cell.shape[1], train_X_cell.shape[2]), name='cell_input')\n",
    "    input_drug = Input(shape=(train_X_drug.shape[1], train_X_drug.shape[2]), name='drug_input')\n",
    "\n",
    "    conv_cell_line_1 = Conv1D(filters=50, kernel_size=700, strides=5, activation='tanh')(input_cell)\n",
    "    maxpool_cell_line_1 = MaxPooling1D(pool_size=5)(conv_cell_line_1)\n",
    "    conv_cell_line_2 = Conv1D(filters=30, kernel_size=5, strides=2, activation='relu')(maxpool_cell_line_1)\n",
    "    maxpool_cell_line_2 = MaxPooling1D(pool_size=10)(conv_cell_line_2)\n",
    "    flatten_cell_line = Flatten()(maxpool_cell_line_2)\n",
    "    dense_cell_line = Dense(100, activation='relu')(flatten_cell_line)\n",
    "    dropout_cell_line = Dropout(0.1)(dense_cell_line)\n",
    "\n",
    "    conv_drug_1 = Conv1D(filters=50, kernel_size=200, strides=3, activation='tanh')(input_drug)\n",
    "    maxpool_drug_1 = MaxPooling1D(pool_size=5)(conv_drug_1)\n",
    "    conv_drug_2 = Conv1D(filters=30, kernel_size=50, strides=5, activation='relu')(maxpool_drug_1)\n",
    "    maxpool_drug_2 = MaxPooling1D(pool_size=10)(conv_drug_2)\n",
    "    flatten_drug = Flatten()(maxpool_drug_2)\n",
    "    dense_drug = Dense(100, activation='relu')(flatten_drug)\n",
    "    dropout_drug = Dropout(0.1)(dense_drug)\n",
    "\n",
    "    concatenate = Concatenate()([dropout_cell_line, dropout_drug])\n",
    "    dense_1 = Dense(300, activation='tanh')(concatenate)\n",
    "    dropout_1 = Dropout(0.1)(dense_1)\n",
    "    reshape_1 = Reshape((300,1))(dropout_1)\n",
    "    conv_1 = Conv1D(filters=30, kernel_size=150, strides=1, activation='relu')(reshape_1)\n",
    "    maxpool_1 = MaxPooling1D(pool_size=2)(conv_1)\n",
    "    conv_2 = Conv1D(filters=10, kernel_size=5, strides=1, activation='relu')(maxpool_1)\n",
    "    maxpool_2 = MaxPooling1D(pool_size=3)(conv_2)\n",
    "    conv_3 = Conv1D(filters=5, kernel_size=5, strides=1, activation='relu')(maxpool_2)\n",
    "    maxpool_3 = MaxPooling1D(pool_size=3)(conv_3)\n",
    "    dropout_2 = Dropout(0.1)(maxpool_3)\n",
    "    flatten = Flatten()(dropout_2)\n",
    "    dropout_3 = Dropout(0.2)(flatten)\n",
    "    output = Dense(1, activation='linear', name='pred_lnIC50')(dropout_3)\n",
    "    model = Model(inputs=[input_cell, input_drug], outputs=output, name='MasterModel')\n",
    "\n"
   ]
  },
  {
   "cell_type": "code",
   "execution_count": 22,
   "metadata": {
    "scrolled": true
   },
   "outputs": [
    {
     "name": "stdout",
     "output_type": "stream",
     "text": [
      "Model: \"MasterModel\"\n",
      "__________________________________________________________________________________________________\n",
      "Layer (type)                    Output Shape         Param #     Connected to                     \n",
      "==================================================================================================\n",
      "cell_input (InputLayer)         (None, 77399, 1)     0                                            \n",
      "__________________________________________________________________________________________________\n",
      "drug_input (InputLayer)         (None, 2325, 1)      0                                            \n",
      "__________________________________________________________________________________________________\n",
      "conv1d_1 (Conv1D)               (None, 15340, 50)    35050       cell_input[0][0]                 \n",
      "__________________________________________________________________________________________________\n",
      "conv1d_3 (Conv1D)               (None, 709, 50)      10050       drug_input[0][0]                 \n",
      "__________________________________________________________________________________________________\n",
      "max_pooling1d_1 (MaxPooling1D)  (None, 3068, 50)     0           conv1d_1[0][0]                   \n",
      "__________________________________________________________________________________________________\n",
      "max_pooling1d_3 (MaxPooling1D)  (None, 141, 50)      0           conv1d_3[0][0]                   \n",
      "__________________________________________________________________________________________________\n",
      "conv1d_2 (Conv1D)               (None, 1532, 30)     7530        max_pooling1d_1[0][0]            \n",
      "__________________________________________________________________________________________________\n",
      "conv1d_4 (Conv1D)               (None, 19, 30)       75030       max_pooling1d_3[0][0]            \n",
      "__________________________________________________________________________________________________\n",
      "max_pooling1d_2 (MaxPooling1D)  (None, 153, 30)      0           conv1d_2[0][0]                   \n",
      "__________________________________________________________________________________________________\n",
      "max_pooling1d_4 (MaxPooling1D)  (None, 1, 30)        0           conv1d_4[0][0]                   \n",
      "__________________________________________________________________________________________________\n",
      "flatten_1 (Flatten)             (None, 4590)         0           max_pooling1d_2[0][0]            \n",
      "__________________________________________________________________________________________________\n",
      "flatten_2 (Flatten)             (None, 30)           0           max_pooling1d_4[0][0]            \n",
      "__________________________________________________________________________________________________\n",
      "dense_1 (Dense)                 (None, 100)          459100      flatten_1[0][0]                  \n",
      "__________________________________________________________________________________________________\n",
      "dense_2 (Dense)                 (None, 100)          3100        flatten_2[0][0]                  \n",
      "__________________________________________________________________________________________________\n",
      "dropout_1 (Dropout)             (None, 100)          0           dense_1[0][0]                    \n",
      "__________________________________________________________________________________________________\n",
      "dropout_2 (Dropout)             (None, 100)          0           dense_2[0][0]                    \n",
      "__________________________________________________________________________________________________\n",
      "concatenate_1 (Concatenate)     (None, 200)          0           dropout_1[0][0]                  \n",
      "                                                                 dropout_2[0][0]                  \n",
      "__________________________________________________________________________________________________\n",
      "dense_3 (Dense)                 (None, 300)          60300       concatenate_1[0][0]              \n",
      "__________________________________________________________________________________________________\n",
      "dropout_3 (Dropout)             (None, 300)          0           dense_3[0][0]                    \n",
      "__________________________________________________________________________________________________\n",
      "reshape_1 (Reshape)             (None, 300, 1)       0           dropout_3[0][0]                  \n",
      "__________________________________________________________________________________________________\n",
      "conv1d_5 (Conv1D)               (None, 151, 30)      4530        reshape_1[0][0]                  \n",
      "__________________________________________________________________________________________________\n",
      "max_pooling1d_5 (MaxPooling1D)  (None, 75, 30)       0           conv1d_5[0][0]                   \n",
      "__________________________________________________________________________________________________\n",
      "conv1d_6 (Conv1D)               (None, 71, 10)       1510        max_pooling1d_5[0][0]            \n",
      "__________________________________________________________________________________________________\n",
      "max_pooling1d_6 (MaxPooling1D)  (None, 23, 10)       0           conv1d_6[0][0]                   \n",
      "__________________________________________________________________________________________________\n",
      "conv1d_7 (Conv1D)               (None, 19, 5)        255         max_pooling1d_6[0][0]            \n",
      "__________________________________________________________________________________________________\n",
      "max_pooling1d_7 (MaxPooling1D)  (None, 6, 5)         0           conv1d_7[0][0]                   \n",
      "__________________________________________________________________________________________________\n",
      "dropout_4 (Dropout)             (None, 6, 5)         0           max_pooling1d_7[0][0]            \n",
      "__________________________________________________________________________________________________\n",
      "flatten_3 (Flatten)             (None, 30)           0           dropout_4[0][0]                  \n",
      "__________________________________________________________________________________________________\n",
      "dropout_5 (Dropout)             (None, 30)           0           flatten_3[0][0]                  \n",
      "__________________________________________________________________________________________________\n",
      "pred_lnIC50 (Dense)             (None, 1)            31          dropout_5[0][0]                  \n",
      "==================================================================================================\n",
      "Total params: 656,486\n",
      "Trainable params: 656,486\n",
      "Non-trainable params: 0\n",
      "__________________________________________________________________________________________________\n"
     ]
    }
   ],
   "source": [
    "model.summary()"
   ]
  },
  {
   "cell_type": "code",
   "execution_count": 23,
   "metadata": {},
   "outputs": [],
   "source": [
    "config = tf.ConfigProto()\n",
    "config.gpu_options.allow_growth = True\n",
    "sess = tf.Session(config=config)"
   ]
  },
  {
   "cell_type": "code",
   "execution_count": 24,
   "metadata": {
    "scrolled": true
   },
   "outputs": [
    {
     "name": "stdout",
     "output_type": "stream",
     "text": [
      "StartTime : 2022-02-05 16:15:19.259796\n",
      "WARNING:tensorflow:From C:\\Users\\BGM18\\.conda\\envs\\ronny_keras\\lib\\site-packages\\keras\\backend\\tensorflow_backend.py:422: The name tf.global_variables is deprecated. Please use tf.compat.v1.global_variables instead.\n",
      "\n",
      "Train on 46609 samples, validate on 5178 samples\n",
      "Epoch 1/150\n",
      "46609/46609 [==============================] - 37s 798us/step - loss: 6.4481 - mse: 6.4481 - mae: 1.9839 - val_loss: 3.6263 - val_mse: 3.6263 - val_mae: 1.4794\n",
      "Epoch 2/150\n",
      "46609/46609 [==============================] - 34s 719us/step - loss: 2.7674 - mse: 2.7674 - mae: 1.2909 - val_loss: 2.1997 - val_mse: 2.1997 - val_mae: 1.1174\n",
      "Epoch 3/150\n",
      "46609/46609 [==============================] - 33s 715us/step - loss: 2.1645 - mse: 2.1645 - mae: 1.1369 - val_loss: 1.7220 - val_mse: 1.7220 - val_mae: 0.9711\n",
      "Epoch 4/150\n",
      "46609/46609 [==============================] - 33s 717us/step - loss: 2.0214 - mse: 2.0214 - mae: 1.0935 - val_loss: 1.9222 - val_mse: 1.9222 - val_mae: 1.0376\n",
      "Epoch 5/150\n",
      "46609/46609 [==============================] - 33s 714us/step - loss: 1.9569 - mse: 1.9569 - mae: 1.0739 - val_loss: 1.6919 - val_mse: 1.6919 - val_mae: 0.9829\n",
      "Epoch 6/150\n",
      "46609/46609 [==============================] - 33s 716us/step - loss: 1.9191 - mse: 1.9191 - mae: 1.0626 - val_loss: 1.7259 - val_mse: 1.7259 - val_mae: 1.001281 - mse: 1.9181 - ma\n",
      "Epoch 7/150\n",
      "46609/46609 [==============================] - 33s 715us/step - loss: 1.9029 - mse: 1.9029 - mae: 1.0552 - val_loss: 1.5970 - val_mse: 1.5970 - val_mae: 0.9338\n",
      "Epoch 8/150\n",
      "46609/46609 [==============================] - 34s 724us/step - loss: 1.8681 - mse: 1.8681 - mae: 1.0438 - val_loss: 1.7359 - val_mse: 1.7359 - val_mae: 0.9817\n",
      "Epoch 9/150\n",
      "46609/46609 [==============================] - 34s 721us/step - loss: 1.8594 - mse: 1.8594 - mae: 1.0448 - val_loss: 1.6485 - val_mse: 1.6485 - val_mae: 0.9505\n",
      "Epoch 10/150\n",
      "46609/46609 [==============================] - 34s 724us/step - loss: 1.8402 - mse: 1.8402 - mae: 1.0376 - val_loss: 1.6111 - val_mse: 1.6111 - val_mae: 0.9533\n",
      "Epoch 11/150\n",
      "46609/46609 [==============================] - 33s 718us/step - loss: 1.8228 - mse: 1.8228 - mae: 1.0320 - val_loss: 1.6370 - val_mse: 1.6370 - val_mae: 0.9441\n",
      "Epoch 12/150\n",
      "46609/46609 [==============================] - 33s 718us/step - loss: 1.8352 - mse: 1.8352 - mae: 1.0360 - val_loss: 1.6276 - val_mse: 1.6276 - val_mae: 0.9376\n",
      "Epoch 13/150\n",
      "46609/46609 [==============================] - 34s 723us/step - loss: 1.8115 - mse: 1.8115 - mae: 1.0275 - val_loss: 1.7750 - val_mse: 1.7750 - val_mae: 0.9886\n",
      "Epoch 14/150\n",
      "46609/46609 [==============================] - 33s 712us/step - loss: 1.7974 - mse: 1.7974 - mae: 1.0250 - val_loss: 1.7456 - val_mse: 1.7456 - val_mae: 0.9770\n",
      "Epoch 15/150\n",
      "46609/46609 [==============================] - 33s 708us/step - loss: 1.7973 - mse: 1.7973 - mae: 1.0235 - val_loss: 1.6049 - val_mse: 1.6049 - val_mae: 0.9491\n",
      "Epoch 16/150\n",
      "46609/46609 [==============================] - 33s 712us/step - loss: 1.7767 - mse: 1.7767 - mae: 1.0166 - val_loss: 1.7232 - val_mse: 1.7232 - val_mae: 1.0042\n",
      "Epoch 17/150\n",
      "46609/46609 [==============================] - 34s 722us/step - loss: 1.7762 - mse: 1.7762 - mae: 1.0170 - val_loss: 1.6633 - val_mse: 1.6633 - val_mae: 0.9729\n",
      "Epoch 18/150\n",
      "46609/46609 [==============================] - 33s 717us/step - loss: 1.7686 - mse: 1.7686 - mae: 1.0149 - val_loss: 1.6076 - val_mse: 1.6076 - val_mae: 0.9543\n",
      "Epoch 19/150\n",
      "46609/46609 [==============================] - 33s 717us/step - loss: 1.7612 - mse: 1.7612 - mae: 1.0142 - val_loss: 1.5767 - val_mse: 1.5767 - val_mae: 0.9206\n",
      "Epoch 20/150\n",
      "46609/46609 [==============================] - 33s 717us/step - loss: 1.7567 - mse: 1.7567 - mae: 1.0103 - val_loss: 1.5706 - val_mse: 1.5706 - val_mae: 0.9315\n",
      "Epoch 21/150\n",
      "46609/46609 [==============================] - 34s 719us/step - loss: 1.7399 - mse: 1.7399 - mae: 1.0049 - val_loss: 1.6679 - val_mse: 1.6679 - val_mae: 0.9937\n",
      "Epoch 22/150\n",
      "46609/46609 [==============================] - 34s 723us/step - loss: 1.7237 - mse: 1.7237 - mae: 0.9998 - val_loss: 1.5196 - val_mse: 1.5196 - val_mae: 0.9080\n",
      "Epoch 23/150\n",
      "46609/46609 [==============================] - 34s 726us/step - loss: 1.7046 - mse: 1.7046 - mae: 0.9944 - val_loss: 1.5101 - val_mse: 1.5101 - val_mae: 0.9169\n",
      "Epoch 24/150\n",
      "46609/46609 [==============================] - 34s 721us/step - loss: 1.6611 - mse: 1.6611 - mae: 0.9834 - val_loss: 1.5615 - val_mse: 1.5615 - val_mae: 0.9335\n",
      "Epoch 25/150\n",
      "46609/46609 [==============================] - 34s 722us/step - loss: 1.6469 - mse: 1.6469 - mae: 0.9765 - val_loss: 1.4393 - val_mse: 1.4393 - val_mae: 0.8797\n",
      "Epoch 26/150\n",
      "46609/46609 [==============================] - 34s 722us/step - loss: 1.6288 - mse: 1.6288 - mae: 0.9723 - val_loss: 1.4831 - val_mse: 1.4831 - val_mae: 0.8972\n",
      "Epoch 27/150\n",
      "46609/46609 [==============================] - 34s 727us/step - loss: 1.6092 - mse: 1.6092 - mae: 0.9645 - val_loss: 1.4293 - val_mse: 1.4293 - val_mae: 0.8775\n",
      "Epoch 28/150\n",
      "46609/46609 [==============================] - 34s 725us/step - loss: 1.5810 - mse: 1.5810 - mae: 0.9565 - val_loss: 1.3863 - val_mse: 1.3863 - val_mae: 0.8619\n",
      "Epoch 29/150\n",
      "46609/46609 [==============================] - 33s 711us/step - loss: 1.5609 - mse: 1.5609 - mae: 0.9506 - val_loss: 1.4184 - val_mse: 1.4184 - val_mae: 0.86645627 - m - ETA:\n",
      "Epoch 30/150\n",
      "46609/46609 [==============================] - 34s 719us/step - loss: 1.5627 - mse: 1.5627 - mae: 0.9513 - val_loss: 1.4289 - val_mse: 1.4289 - val_mae: 0.8722\n",
      "Epoch 31/150\n",
      "46609/46609 [==============================] - 33s 718us/step - loss: 1.5374 - mse: 1.5374 - mae: 0.9418 - val_loss: 1.4283 - val_mse: 1.4283 - val_mae: 0.8927\n",
      "Epoch 32/150\n",
      "46609/46609 [==============================] - 33s 711us/step - loss: 1.5327 - mse: 1.5327 - mae: 0.9408 - val_loss: 1.3692 - val_mse: 1.3692 - val_mae: 0.8511ETA: - ETA: 2s - loss: 1.5332 - mse: 1.5332 - ma - ETA: 1s - loss: 1.5318 - m\n",
      "Epoch 33/150\n",
      "46609/46609 [==============================] - 33s 707us/step - loss: 1.5319 - mse: 1.5319 - mae: 0.9397 - val_loss: 1.4083 - val_mse: 1.4083 - val_mae: 0.8647\n",
      "Epoch 34/150\n",
      "46609/46609 [==============================] - 33s 707us/step - loss: 1.5136 - mse: 1.5136 - mae: 0.9324 - val_loss: 1.3405 - val_mse: 1.3405 - val_mae: 0.8495\n",
      "Epoch 35/150\n",
      "46609/46609 [==============================] - 33s 710us/step - loss: 1.5048 - mse: 1.5048 - mae: 0.9335 - val_loss: 1.3645 - val_mse: 1.3645 - val_mae: 0.8640\n",
      "Epoch 36/150\n",
      "46609/46609 [==============================] - 34s 720us/step - loss: 1.5074 - mse: 1.5074 - mae: 0.9315 - val_loss: 1.3269 - val_mse: 1.3269 - val_mae: 0.8420\n",
      "Epoch 37/150\n",
      "46609/46609 [==============================] - 34s 722us/step - loss: 1.4814 - mse: 1.4814 - mae: 0.9248 - val_loss: 1.3702 - val_mse: 1.3702 - val_mae: 0.8668\n",
      "Epoch 38/150\n",
      "46609/46609 [==============================] - 34s 723us/step - loss: 1.4639 - mse: 1.4639 - mae: 0.9195 - val_loss: 1.3194 - val_mse: 1.3194 - val_mae: 0.8470\n",
      "Epoch 39/150\n",
      "46609/46609 [==============================] - 34s 720us/step - loss: 1.4484 - mse: 1.4484 - mae: 0.9147 - val_loss: 1.3434 - val_mse: 1.3434 - val_mae: 0.8603\n",
      "Epoch 40/150\n",
      "46609/46609 [==============================] - 34s 720us/step - loss: 1.4523 - mse: 1.4523 - mae: 0.9150 - val_loss: 1.2834 - val_mse: 1.2834 - val_mae: 0.8261\n",
      "Epoch 41/150\n",
      "46609/46609 [==============================] - 34s 719us/step - loss: 1.4547 - mse: 1.4547 - mae: 0.9162 - val_loss: 1.3297 - val_mse: 1.3297 - val_mae: 0.8454\n",
      "Epoch 42/150\n",
      "46609/46609 [==============================] - 34s 720us/step - loss: 1.4392 - mse: 1.4392 - mae: 0.9101 - val_loss: 1.3316 - val_mse: 1.3316 - val_mae: 0.8542\n",
      "Epoch 43/150\n",
      "46609/46609 [==============================] - 34s 720us/step - loss: 1.4403 - mse: 1.4403 - mae: 0.9134 - val_loss: 1.3311 - val_mse: 1.3311 - val_mae: 0.8421\n",
      "Epoch 44/150\n",
      "46609/46609 [==============================] - 34s 721us/step - loss: 1.4385 - mse: 1.4385 - mae: 0.9104 - val_loss: 1.3007 - val_mse: 1.3007 - val_mae: 0.8502\n",
      "Epoch 45/150\n",
      "46609/46609 [==============================] - 34s 723us/step - loss: 1.4226 - mse: 1.4226 - mae: 0.9042 - val_loss: 1.3106 - val_mse: 1.3106 - val_mae: 0.8392\n"
     ]
    },
    {
     "name": "stdout",
     "output_type": "stream",
     "text": [
      "Epoch 46/150\n",
      "46609/46609 [==============================] - 34s 726us/step - loss: 1.4266 - mse: 1.4266 - mae: 0.9067 - val_loss: 1.3085 - val_mse: 1.3085 - val_mae: 0.8518\n",
      "Epoch 47/150\n",
      "46609/46609 [==============================] - 34s 727us/step - loss: 1.4039 - mse: 1.4039 - mae: 0.8979 - val_loss: 1.2760 - val_mse: 1.2760 - val_mae: 0.8261\n",
      "Epoch 48/150\n",
      "46609/46609 [==============================] - 34s 723us/step - loss: 1.4125 - mse: 1.4125 - mae: 0.9019 - val_loss: 1.2702 - val_mse: 1.2702 - val_mae: 0.8248\n",
      "Epoch 49/150\n",
      "46609/46609 [==============================] - 34s 723us/step - loss: 1.4004 - mse: 1.4004 - mae: 0.8996 - val_loss: 1.2630 - val_mse: 1.2630 - val_mae: 0.8116\n",
      "Epoch 50/150\n",
      "46609/46609 [==============================] - 34s 727us/step - loss: 1.3882 - mse: 1.3882 - mae: 0.8965 - val_loss: 1.2822 - val_mse: 1.2822 - val_mae: 0.8411\n",
      "Epoch 51/150\n",
      "46609/46609 [==============================] - 34s 733us/step - loss: 1.3814 - mse: 1.3814 - mae: 0.8925 - val_loss: 1.2787 - val_mse: 1.2787 - val_mae: 0.8249\n",
      "Epoch 52/150\n",
      "46609/46609 [==============================] - 34s 732us/step - loss: 1.3860 - mse: 1.3860 - mae: 0.8936 - val_loss: 1.3257 - val_mse: 1.3257 - val_mae: 0.8487\n",
      "Epoch 53/150\n",
      "46609/46609 [==============================] - 34s 731us/step - loss: 1.3762 - mse: 1.3762 - mae: 0.8916 - val_loss: 1.2302 - val_mse: 1.2302 - val_mae: 0.8200\n",
      "Epoch 54/150\n",
      "46609/46609 [==============================] - 34s 728us/step - loss: 1.3700 - mse: 1.3700 - mae: 0.8903 - val_loss: 1.2498 - val_mse: 1.2498 - val_mae: 0.8155\n",
      "Epoch 55/150\n",
      "46609/46609 [==============================] - 34s 721us/step - loss: 1.3711 - mse: 1.3711 - mae: 0.8897 - val_loss: 1.2218 - val_mse: 1.2218 - val_mae: 0.8053\n",
      "Epoch 56/150\n",
      "46609/46609 [==============================] - 34s 729us/step - loss: 1.3652 - mse: 1.3652 - mae: 0.8887 - val_loss: 1.2164 - val_mse: 1.2164 - val_mae: 0.8083\n",
      "Epoch 57/150\n",
      "46609/46609 [==============================] - 34s 734us/step - loss: 1.3524 - mse: 1.3524 - mae: 0.8831 - val_loss: 1.2186 - val_mse: 1.2186 - val_mae: 0.8077\n",
      "Epoch 58/150\n",
      "46609/46609 [==============================] - 34s 731us/step - loss: 1.3512 - mse: 1.3512 - mae: 0.8816 - val_loss: 1.2758 - val_mse: 1.2758 - val_mae: 0.8383\n",
      "Epoch 59/150\n",
      "46609/46609 [==============================] - 34s 731us/step - loss: 1.3301 - mse: 1.3301 - mae: 0.8764 - val_loss: 1.2007 - val_mse: 1.2007 - val_mae: 0.7999\n",
      "Epoch 60/150\n",
      "46609/46609 [==============================] - 34s 733us/step - loss: 1.3396 - mse: 1.3396 - mae: 0.8804 - val_loss: 1.2383 - val_mse: 1.2383 - val_mae: 0.8050\n",
      "Epoch 61/150\n",
      "46609/46609 [==============================] - 34s 729us/step - loss: 1.3405 - mse: 1.3405 - mae: 0.8780 - val_loss: 1.2319 - val_mse: 1.2319 - val_mae: 0.8154\n",
      "Epoch 62/150\n",
      "46609/46609 [==============================] - 34s 730us/step - loss: 1.3223 - mse: 1.3223 - mae: 0.8735 - val_loss: 1.2233 - val_mse: 1.2233 - val_mae: 0.8208\n",
      "Epoch 63/150\n",
      "46609/46609 [==============================] - 34s 725us/step - loss: 1.3308 - mse: 1.3308 - mae: 0.8763 - val_loss: 1.2210 - val_mse: 1.2210 - val_mae: 0.8134\n",
      "Epoch 64/150\n",
      "46609/46609 [==============================] - 34s 721us/step - loss: 1.3223 - mse: 1.3223 - mae: 0.8744 - val_loss: 1.1931 - val_mse: 1.1931 - val_mae: 0.7968\n",
      "Epoch 65/150\n",
      "46609/46609 [==============================] - 34s 723us/step - loss: 1.3110 - mse: 1.3110 - mae: 0.8676 - val_loss: 1.1790 - val_mse: 1.1790 - val_mae: 0.7977\n",
      "Epoch 66/150\n",
      "46609/46609 [==============================] - 34s 722us/step - loss: 1.3207 - mse: 1.3207 - mae: 0.8710 - val_loss: 1.1991 - val_mse: 1.1991 - val_mae: 0.8063\n",
      "Epoch 67/150\n",
      "46609/46609 [==============================] - 34s 729us/step - loss: 1.3058 - mse: 1.3058 - mae: 0.8666 - val_loss: 1.1847 - val_mse: 1.1847 - val_mae: 0.7922\n",
      "Epoch 68/150\n",
      "46609/46609 [==============================] - 34s 728us/step - loss: 1.3005 - mse: 1.3005 - mae: 0.8638 - val_loss: 1.1853 - val_mse: 1.1853 - val_mae: 0.7973\n",
      "Epoch 69/150\n",
      "46609/46609 [==============================] - 34s 729us/step - loss: 1.2953 - mse: 1.2953 - mae: 0.8659 - val_loss: 1.1765 - val_mse: 1.1765 - val_mae: 0.8002\n",
      "Epoch 70/150\n",
      "46609/46609 [==============================] - 34s 724us/step - loss: 1.3070 - mse: 1.3070 - mae: 0.8705 - val_loss: 1.2169 - val_mse: 1.2169 - val_mae: 0.7907\n",
      "Epoch 71/150\n",
      "46609/46609 [==============================] - 34s 720us/step - loss: 1.2915 - mse: 1.2915 - mae: 0.8639 - val_loss: 1.1746 - val_mse: 1.1746 - val_mae: 0.7809\n",
      "Epoch 72/150\n",
      "46609/46609 [==============================] - 34s 720us/step - loss: 1.2911 - mse: 1.2911 - mae: 0.8620 - val_loss: 1.1850 - val_mse: 1.1850 - val_mae: 0.8054\n",
      "Epoch 73/150\n",
      "46609/46609 [==============================] - 34s 723us/step - loss: 1.2809 - mse: 1.2809 - mae: 0.8570 - val_loss: 1.1480 - val_mse: 1.1480 - val_mae: 0.7838\n",
      "Epoch 74/150\n",
      "46609/46609 [==============================] - 34s 721us/step - loss: 1.2790 - mse: 1.2790 - mae: 0.8599 - val_loss: 1.1643 - val_mse: 1.1643 - val_mae: 0.7940\n",
      "Epoch 75/150\n",
      "46609/46609 [==============================] - 34s 721us/step - loss: 1.2835 - mse: 1.2835 - mae: 0.8591 - val_loss: 1.1989 - val_mse: 1.1989 - val_mae: 0.7982\n",
      "Epoch 76/150\n",
      "46609/46609 [==============================] - 34s 722us/step - loss: 1.2669 - mse: 1.2669 - mae: 0.8545 - val_loss: 1.1503 - val_mse: 1.1503 - val_mae: 0.7747\n",
      "Epoch 77/150\n",
      "46609/46609 [==============================] - 34s 724us/step - loss: 1.2696 - mse: 1.2696 - mae: 0.8561 - val_loss: 1.1617 - val_mse: 1.1617 - val_mae: 0.7960\n",
      "Epoch 78/150\n",
      "46609/46609 [==============================] - 34s 723us/step - loss: 1.2660 - mse: 1.2660 - mae: 0.8550 - val_loss: 1.1404 - val_mse: 1.1404 - val_mae: 0.7762\n",
      "Epoch 79/150\n",
      "46609/46609 [==============================] - 34s 726us/step - loss: 1.2577 - mse: 1.2577 - mae: 0.8528 - val_loss: 1.1617 - val_mse: 1.1617 - val_mae: 0.7835\n",
      "Epoch 80/150\n",
      "46609/46609 [==============================] - 34s 727us/step - loss: 1.2629 - mse: 1.2629 - mae: 0.8555 - val_loss: 1.1491 - val_mse: 1.1491 - val_mae: 0.7795\n",
      "Epoch 81/150\n",
      "46609/46609 [==============================] - 34s 728us/step - loss: 1.2546 - mse: 1.2546 - mae: 0.8539 - val_loss: 1.1565 - val_mse: 1.1565 - val_mae: 0.7767\n",
      "Epoch 82/150\n",
      "46609/46609 [==============================] - 34s 727us/step - loss: 1.2479 - mse: 1.2479 - mae: 0.8481 - val_loss: 1.1391 - val_mse: 1.1391 - val_mae: 0.7764\n",
      "Epoch 83/150\n",
      "46609/46609 [==============================] - 34s 729us/step - loss: 1.2516 - mse: 1.2516 - mae: 0.8501 - val_loss: 1.1612 - val_mse: 1.1612 - val_mae: 0.7968\n",
      "Epoch 84/150\n",
      "46609/46609 [==============================] - 34s 726us/step - loss: 1.2295 - mse: 1.2295 - mae: 0.8446 - val_loss: 1.1333 - val_mse: 1.1333 - val_mae: 0.7733\n",
      "Epoch 85/150\n",
      "46609/46609 [==============================] - 34s 727us/step - loss: 1.2371 - mse: 1.2371 - mae: 0.8463 - val_loss: 1.1671 - val_mse: 1.1671 - val_mae: 0.7968\n",
      "Epoch 86/150\n",
      "46609/46609 [==============================] - 33s 718us/step - loss: 1.2346 - mse: 1.2346 - mae: 0.8448 - val_loss: 1.1292 - val_mse: 1.1292 - val_mae: 0.7653\n",
      "Epoch 87/150\n",
      "46609/46609 [==============================] - 33s 717us/step - loss: 1.2339 - mse: 1.2339 - mae: 0.8458 - val_loss: 1.1227 - val_mse: 1.1227 - val_mae: 0.7673\n",
      "Epoch 88/150\n",
      "46609/46609 [==============================] - 33s 718us/step - loss: 1.2390 - mse: 1.2390 - mae: 0.8459 - val_loss: 1.1192 - val_mse: 1.1192 - val_mae: 0.7688\n",
      "Epoch 89/150\n",
      "46609/46609 [==============================] - 33s 717us/step - loss: 1.2233 - mse: 1.2233 - mae: 0.8407 - val_loss: 1.1193 - val_mse: 1.1193 - val_mae: 0.7765\n",
      "Epoch 90/150\n",
      "46609/46609 [==============================] - 33s 716us/step - loss: 1.2224 - mse: 1.2224 - mae: 0.8424 - val_loss: 1.1198 - val_mse: 1.1198 - val_mae: 0.7746\n",
      "Epoch 91/150\n",
      "46609/46609 [==============================] - 33s 716us/step - loss: 1.2082 - mse: 1.2082 - mae: 0.8350 - val_loss: 1.1339 - val_mse: 1.1339 - val_mae: 0.7735\n",
      "Epoch 92/150\n",
      "46609/46609 [==============================] - 33s 714us/step - loss: 1.2030 - mse: 1.2030 - mae: 0.8365 - val_loss: 1.1326 - val_mse: 1.1326 - val_mae: 0.7702\n",
      "Epoch 93/150\n"
     ]
    },
    {
     "name": "stdout",
     "output_type": "stream",
     "text": [
      "46609/46609 [==============================] - 33s 715us/step - loss: 1.2130 - mse: 1.2130 - mae: 0.8359 - val_loss: 1.1224 - val_mse: 1.1224 - val_mae: 0.7774\n",
      "Epoch 94/150\n",
      "46609/46609 [==============================] - 33s 717us/step - loss: 1.2051 - mse: 1.2051 - mae: 0.8345 - val_loss: 1.1177 - val_mse: 1.1177 - val_mae: 0.7751\n",
      "Epoch 95/150\n",
      "46609/46609 [==============================] - 33s 716us/step - loss: 1.2115 - mse: 1.2115 - mae: 0.8383 - val_loss: 1.1011 - val_mse: 1.1011 - val_mae: 0.7619\n",
      "Epoch 96/150\n",
      "46609/46609 [==============================] - 33s 717us/step - loss: 1.2069 - mse: 1.2069 - mae: 0.8363 - val_loss: 1.0958 - val_mse: 1.0958 - val_mae: 0.7639\n",
      "Epoch 97/150\n",
      "46609/46609 [==============================] - 33s 718us/step - loss: 1.2004 - mse: 1.2004 - mae: 0.8325 - val_loss: 1.1057 - val_mse: 1.1057 - val_mae: 0.7609\n",
      "Epoch 98/150\n",
      "46609/46609 [==============================] - 33s 717us/step - loss: 1.1977 - mse: 1.1977 - mae: 0.8338 - val_loss: 1.0932 - val_mse: 1.0932 - val_mae: 0.7665\n",
      "Epoch 99/150\n",
      "46609/46609 [==============================] - 33s 716us/step - loss: 1.1961 - mse: 1.1961 - mae: 0.8340 - val_loss: 1.1091 - val_mse: 1.1091 - val_mae: 0.7605\n",
      "Epoch 100/150\n",
      "46609/46609 [==============================] - 33s 718us/step - loss: 1.2023 - mse: 1.2023 - mae: 0.8374 - val_loss: 1.1140 - val_mse: 1.1140 - val_mae: 0.76142026 - mae: \n",
      "Epoch 101/150\n",
      "46609/46609 [==============================] - 33s 718us/step - loss: 1.1956 - mse: 1.1956 - mae: 0.8304 - val_loss: 1.1139 - val_mse: 1.1139 - val_mae: 0.7606\n",
      "Epoch 102/150\n",
      "46609/46609 [==============================] - 34s 726us/step - loss: 1.1904 - mse: 1.1904 - mae: 0.8310 - val_loss: 1.0877 - val_mse: 1.0877 - val_mae: 0.7595- mse: 1.1887 - ma\n",
      "Epoch 103/150\n",
      "46609/46609 [==============================] - 33s 706us/step - loss: 1.1765 - mse: 1.1765 - mae: 0.8269 - val_loss: 1.1101 - val_mse: 1.1101 - val_mae: 0.7682750 - mse: 1.1750 - mae: 0.826 - ETA: 2s - loss: 1.17 - ETA: 0s - loss: 1.1768 - mse: 1.1768 - mae: 0.82\n",
      "Epoch 104/150\n",
      "46609/46609 [==============================] - 33s 707us/step - loss: 1.1917 - mse: 1.1917 - mae: 0.8320 - val_loss: 1.0836 - val_mse: 1.0836 - val_mae: 0.7587.1827 - - ETA: 5s -  - ETA: 2s - loss: - ETA: 0s - loss: 1.1917 - mse: 1.1917 - mae:\n",
      "Epoch 105/150\n",
      "46609/46609 [==============================] - 33s 706us/step - loss: 1.1634 - mse: 1.1634 - mae: 0.8220 - val_loss: 1.0938 - val_mse: 1.0938 - val_mae: 0.7696\n",
      "Epoch 106/150\n",
      "46609/46609 [==============================] - 33s 708us/step - loss: 1.1921 - mse: 1.1921 - mae: 0.8297 - val_loss: 1.0825 - val_mse: 1.0825 - val_mae: 0.7657\n",
      "Epoch 107/150\n",
      "46609/46609 [==============================] - 33s 708us/step - loss: 1.1768 - mse: 1.1768 - mae: 0.8268 - val_loss: 1.0833 - val_mse: 1.0833 - val_mae: 0.7628\n",
      "Epoch 108/150\n",
      "46609/46609 [==============================] - 33s 706us/step - loss: 1.1732 - mse: 1.1732 - mae: 0.8275 - val_loss: 1.0655 - val_mse: 1.0655 - val_mae: 0.7490\n",
      "Epoch 109/150\n",
      "46609/46609 [==============================] - 33s 711us/step - loss: 1.1774 - mse: 1.1774 - mae: 0.8264 - val_loss: 1.0753 - val_mse: 1.0753 - val_mae: 0.7508\n",
      "Epoch 110/150\n",
      "46609/46609 [==============================] - 33s 708us/step - loss: 1.1692 - mse: 1.1692 - mae: 0.8256 - val_loss: 1.0824 - val_mse: 1.0824 - val_mae: 0.7658\n",
      "Epoch 111/150\n",
      "46609/46609 [==============================] - 33s 708us/step - loss: 1.1845 - mse: 1.1845 - mae: 0.8300 - val_loss: 1.0895 - val_mse: 1.0895 - val_mae: 0.7585\n",
      "Epoch 112/150\n",
      "46609/46609 [==============================] - 33s 708us/step - loss: 1.1670 - mse: 1.1670 - mae: 0.8227 - val_loss: 1.0910 - val_mse: 1.0910 - val_mae: 0.7634\n",
      "Epoch 113/150\n",
      "46609/46609 [==============================] - 33s 710us/step - loss: 1.1558 - mse: 1.1558 - mae: 0.8194 - val_loss: 1.0885 - val_mse: 1.0885 - val_mae: 0.7654\n",
      "Epoch 114/150\n",
      "46609/46609 [==============================] - 33s 709us/step - loss: 1.1592 - mse: 1.1592 - mae: 0.8203 - val_loss: 1.0859 - val_mse: 1.0859 - val_mae: 0.7509\n",
      "Epoch 115/150\n",
      "46609/46609 [==============================] - 33s 713us/step - loss: 1.1495 - mse: 1.1495 - mae: 0.8172 - val_loss: 1.0731 - val_mse: 1.0731 - val_mae: 0.7545A: 0s - loss: 1.1485 - mse: 1.1485\n",
      "Epoch 116/150\n",
      "46609/46609 [==============================] - 33s 716us/step - loss: 1.1482 - mse: 1.1482 - mae: 0.8155 - val_loss: 1.0715 - val_mse: 1.0715 - val_mae: 0.7513\n",
      "Epoch 117/150\n",
      "46609/46609 [==============================] - 33s 718us/step - loss: 1.1580 - mse: 1.1580 - mae: 0.8185 - val_loss: 1.0965 - val_mse: 1.0965 - val_mae: 0.7533514 - mse: 1.1 - ETA: 2s\n",
      "Epoch 118/150\n",
      "46609/46609 [==============================] - 33s 714us/step - loss: 1.1595 - mse: 1.1595 - mae: 0.8205 - val_loss: 1.0779 - val_mse: 1.0779 - val_mae: 0.7531\n",
      "Epoch 119/150\n",
      "46609/46609 [==============================] - 33s 716us/step - loss: 1.1605 - mse: 1.1605 - mae: 0.8222 - val_loss: 1.0960 - val_mse: 1.0960 - val_mae: 0.7810\n",
      "Epoch 120/150\n",
      "46609/46609 [==============================] - 33s 715us/step - loss: 1.1563 - mse: 1.1563 - mae: 0.8183 - val_loss: 1.0707 - val_mse: 1.0707 - val_mae: 0.7620\n",
      "Epoch 121/150\n",
      "46609/46609 [==============================] - 33s 715us/step - loss: 1.1418 - mse: 1.1418 - mae: 0.8160 - val_loss: 1.0612 - val_mse: 1.0612 - val_mae: 0.7478\n",
      "Epoch 122/150\n",
      "46609/46609 [==============================] - 33s 713us/step - loss: 1.1471 - mse: 1.1471 - mae: 0.8175 - val_loss: 1.0698 - val_mse: 1.0698 - val_mae: 0.7490\n",
      "Epoch 123/150\n",
      "46609/46609 [==============================] - 33s 717us/step - loss: 1.1373 - mse: 1.1373 - mae: 0.8121 - val_loss: 1.0646 - val_mse: 1.0646 - val_mae: 0.7589\n",
      "Epoch 124/150\n",
      "46609/46609 [==============================] - 33s 715us/step - loss: 1.1430 - mse: 1.1430 - mae: 0.8141 - val_loss: 1.0616 - val_mse: 1.0616 - val_mae: 0.7469\n",
      "Epoch 125/150\n",
      "46609/46609 [==============================] - 33s 714us/step - loss: 1.1375 - mse: 1.1375 - mae: 0.8114 - val_loss: 1.0649 - val_mse: 1.0649 - val_mae: 0.7490\n",
      "Epoch 126/150\n",
      "46609/46609 [==============================] - 33s 715us/step - loss: 1.1405 - mse: 1.1405 - mae: 0.8146 - val_loss: 1.0551 - val_mse: 1.0551 - val_mae: 0.7517\n",
      "Epoch 127/150\n",
      "46609/46609 [==============================] - 33s 716us/step - loss: 1.1291 - mse: 1.1291 - mae: 0.8107 - val_loss: 1.0672 - val_mse: 1.0672 - val_mae: 0.7559: 1.1252 - ETA: 1s - loss: 1.1295 - mse: \n",
      "Epoch 128/150\n",
      "46609/46609 [==============================] - 33s 715us/step - loss: 1.1308 - mse: 1.1308 - mae: 0.8100 - val_loss: 1.0717 - val_mse: 1.0717 - val_mae: 0.7465\n",
      "Epoch 129/150\n",
      "46609/46609 [==============================] - 34s 719us/step - loss: 1.1354 - mse: 1.1354 - mae: 0.8106 - val_loss: 1.0571 - val_mse: 1.0571 - val_mae: 0.7543\n",
      "Epoch 130/150\n",
      "46609/46609 [==============================] - 33s 718us/step - loss: 1.1270 - mse: 1.1270 - mae: 0.8111 - val_loss: 1.0701 - val_mse: 1.0701 - val_mae: 0.7518\n",
      "Epoch 131/150\n",
      "46609/46609 [==============================] - 33s 718us/step - loss: 1.1287 - mse: 1.1287 - mae: 0.8107 - val_loss: 1.0491 - val_mse: 1.0491 - val_mae: 0.7422\n",
      "Epoch 132/150\n",
      "46609/46609 [==============================] - 34s 720us/step - loss: 1.1179 - mse: 1.1179 - mae: 0.8062 - val_loss: 1.0555 - val_mse: 1.0555 - val_mae: 0.7488\n",
      "Epoch 133/150\n",
      "46609/46609 [==============================] - 33s 718us/step - loss: 1.1175 - mse: 1.1175 - mae: 0.8063 - val_loss: 1.0458 - val_mse: 1.0458 - val_mae: 0.7448\n",
      "Epoch 134/150\n",
      "46609/46609 [==============================] - 33s 717us/step - loss: 1.1153 - mse: 1.1153 - mae: 0.8066 - val_loss: 1.0464 - val_mse: 1.0464 - val_mae: 0.74048 - m - ETA: 0s - loss: 1.1121 - mse: 1.1121 - m\n",
      "Epoch 135/150\n",
      "46609/46609 [==============================] - 33s 716us/step - loss: 1.1261 - mse: 1.1261 - mae: 0.8088 - val_loss: 1.0563 - val_mse: 1.0563 - val_mae: 0.7514\n",
      "Epoch 136/150\n",
      "46609/46609 [==============================] - 33s 717us/step - loss: 1.1192 - mse: 1.1192 - mae: 0.8061 - val_loss: 1.0548 - val_mse: 1.0548 - val_mae: 0.7402\n",
      "Epoch 137/150\n"
     ]
    },
    {
     "name": "stdout",
     "output_type": "stream",
     "text": [
      "46609/46609 [==============================] - 33s 717us/step - loss: 1.1153 - mse: 1.1153 - mae: 0.8076 - val_loss: 1.0576 - val_mse: 1.0576 - val_mae: 0.7421\n",
      "Epoch 138/150\n",
      "46609/46609 [==============================] - 33s 717us/step - loss: 1.1244 - mse: 1.1244 - mae: 0.8079 - val_loss: 1.0301 - val_mse: 1.0301 - val_mae: 0.7431\n",
      "Epoch 139/150\n",
      "46609/46609 [==============================] - 33s 717us/step - loss: 1.1155 - mse: 1.1155 - mae: 0.8052 - val_loss: 1.0420 - val_mse: 1.0420 - val_mae: 0.7379\n",
      "Epoch 140/150\n",
      "46609/46609 [==============================] - 33s 717us/step - loss: 1.1140 - mse: 1.1140 - mae: 0.8051 - val_loss: 1.0368 - val_mse: 1.0368 - val_mae: 0.7382\n",
      "Epoch 141/150\n",
      "46609/46609 [==============================] - 33s 717us/step - loss: 1.0974 - mse: 1.0974 - mae: 0.8012 - val_loss: 1.0443 - val_mse: 1.0443 - val_mae: 0.7413\n",
      "Epoch 142/150\n",
      "46609/46609 [==============================] - 33s 718us/step - loss: 1.1044 - mse: 1.1044 - mae: 0.8035 - val_loss: 1.0471 - val_mse: 1.0471 - val_mae: 0.7370\n",
      "Epoch 143/150\n",
      "46609/46609 [==============================] - 33s 716us/step - loss: 1.1098 - mse: 1.1098 - mae: 0.8037 - val_loss: 1.0300 - val_mse: 1.0300 - val_mae: 0.7319\n",
      "Epoch 144/150\n",
      "46609/46609 [==============================] - 33s 718us/step - loss: 1.1036 - mse: 1.1036 - mae: 0.8014 - val_loss: 1.0325 - val_mse: 1.0325 - val_mae: 0.7345\n",
      "Epoch 145/150\n",
      "46609/46609 [==============================] - 34s 719us/step - loss: 1.1076 - mse: 1.1076 - mae: 0.8029 - val_loss: 1.0294 - val_mse: 1.0294 - val_mae: 0.7341\n",
      "Epoch 146/150\n",
      "46609/46609 [==============================] - 33s 719us/step - loss: 1.1021 - mse: 1.1021 - mae: 0.8014 - val_loss: 1.0509 - val_mse: 1.0509 - val_mae: 0.7413\n",
      "Epoch 147/150\n",
      "46609/46609 [==============================] - 34s 719us/step - loss: 1.1139 - mse: 1.1139 - mae: 0.8052 - val_loss: 1.0254 - val_mse: 1.0254 - val_mae: 0.7319\n",
      "Epoch 148/150\n",
      "46609/46609 [==============================] - 34s 719us/step - loss: 1.0979 - mse: 1.0979 - mae: 0.8000 - val_loss: 1.0328 - val_mse: 1.0328 - val_mae: 0.7473\n",
      "Epoch 149/150\n",
      "46609/46609 [==============================] - 34s 719us/step - loss: 1.0907 - mse: 1.0907 - mae: 0.7986 - val_loss: 1.0291 - val_mse: 1.0291 - val_mae: 0.7417\n",
      "Epoch 150/150\n",
      "46609/46609 [==============================] - 33s 718us/step - loss: 1.1024 - mse: 1.1024 - mae: 0.8012 - val_loss: 1.0470 - val_mse: 1.0470 - val_mae: 0.7507\n",
      "EndTime : 2022-02-05 17:39:13.271787\n"
     ]
    }
   ],
   "source": [
    "optim = Adam(lr=0.0002)\n",
    "\n",
    "model.compile(loss='mse',\n",
    "\t\t      optimizer=optim,\n",
    "\t\t\t  metrics=['mse','mae'])\n",
    "\n",
    "StartTime8 = datetime.now()\n",
    "print(\"StartTime :\", StartTime8)\n",
    "with K.tf.device('/GPU:0'):\n",
    "    model_train = model.fit([train_X_cell, train_X_drug], train_y, validation_data=([test_X_cell, test_X_drug], test_y),\n",
    "                            batch_size=batch_size,epochs=training_epochs,verbose=1)\n",
    "\n",
    "EndTime8 = datetime.now()\n",
    "print(\"EndTime :\", EndTime8)"
   ]
  },
  {
   "cell_type": "code",
   "execution_count": 25,
   "metadata": {},
   "outputs": [],
   "source": [
    "import json\n",
    "from keras.models import model_from_json, load_model\n",
    "workdir = \"D://ResNetIC50//Result//MEYODG-51K//CDRScan\"\n",
    "# Option 1: Save Weights + Architecture\n",
    "model.save_weights(workdir+ '//MEYODG51K_CDRScan_model_r2_fix_v3.h5')\n",
    "with open(workdir + '//MEYODG51K_CDRScan_r2_model_architecture_fix_v3.json', 'w') as f:\n",
    "    f.write(model.to_json())\n",
    "# Option 1: Load Weights + Architecture\n",
    "# with open('model_architecture.json', 'r') as f:\n",
    "#     new_model_1 = model_from_json(f.read())\n",
    "# new_model_1.load_weights('model_weights.h5')"
   ]
  },
  {
   "cell_type": "code",
   "execution_count": 26,
   "metadata": {},
   "outputs": [],
   "source": [
    "# Option 2: Save/Load the Entire Model\n",
    "from keras.models import load_model\n",
    "\n",
    "# Creates a HDF5 file 'my_model.h5'\n",
    "model.save(workdir + '//MEYODG51K_CDRScan_r2_model_fix_2080ti_v3.h5')\n",
    "\n",
    "# Deletes the existing model\n",
    "# del model  \n",
    "\n",
    "# Returns a compiled model identical to the previous one\n",
    "# model = load_model('my_model.h5')"
   ]
  },
  {
   "cell_type": "code",
   "execution_count": 27,
   "metadata": {},
   "outputs": [
    {
     "name": "stdout",
     "output_type": "stream",
     "text": [
      "5178/5178 [==============================] - 2s 463us/step\n"
     ]
    }
   ],
   "source": [
    "test_eval = model.evaluate([test_X_cell,test_X_drug], test_label_array, verbose=1)"
   ]
  },
  {
   "cell_type": "code",
   "execution_count": 28,
   "metadata": {},
   "outputs": [
    {
     "data": {
      "text/plain": [
       "[1.0469620967288882, 1.046962022781372, 0.7506814002990723]"
      ]
     },
     "execution_count": 28,
     "metadata": {},
     "output_type": "execute_result"
    }
   ],
   "source": [
    "test_eval"
   ]
  },
  {
   "cell_type": "code",
   "execution_count": 29,
   "metadata": {},
   "outputs": [],
   "source": [
    "accuracy = model_train.history['mse']\n",
    "val_accuracy = model_train.history['val_mse']\n",
    "loss = model_train.history['loss']\n",
    "val_loss = model_train.history['val_loss']\n",
    "\n",
    "np_acc = np.array(accuracy)\n",
    "np_val_acc = np.array(val_accuracy)\n",
    "np_loss = np.array(loss)\n",
    "np_val_loss = np.array(val_loss)"
   ]
  },
  {
   "cell_type": "code",
   "execution_count": 30,
   "metadata": {},
   "outputs": [],
   "source": [
    "import matplotlib\n",
    "from matplotlib import pyplot as plt"
   ]
  },
  {
   "cell_type": "code",
   "execution_count": 31,
   "metadata": {},
   "outputs": [
    {
     "data": {
      "image/png": "[encoded data removed]",
      "text/plain": [
       "<Figure size 432x288 with 1 Axes>"
      ]
     },
     "metadata": {
      "needs_background": "light"
     },
     "output_type": "display_data"
    },
    {
     "data": {
      "image/png": "[encoded data removed]",
      "text/plain": [
       "<Figure size 432x288 with 1 Axes>"
      ]
     },
     "metadata": {
      "needs_background": "light"
     },
     "output_type": "display_data"
    }
   ],
   "source": [
    "# accuracy = model_train.history['acc']\n",
    "# val_accuracy = model_train.history['val_acc']\n",
    "# loss = model_train.history['loss']\n",
    "# val_loss = model_train.history['val_loss']\n",
    "epochs = range(len(accuracy))\n",
    "plt.plot(epochs, accuracy, 'bo', label='Training mse',c='red')\n",
    "plt.plot(epochs, val_accuracy, 'b', label='Validation mse',c='red')\n",
    "plt.title('Training and validation mse')\n",
    "plt.legend()\n",
    "plt.figure()\n",
    "plt.plot(epochs, loss, 'bo', label='Training loss',c='red')\n",
    "plt.plot(epochs, val_loss, 'b', label='Validation loss',c='red')\n",
    "plt.title('Training and validation loss')\n",
    "plt.legend()\n",
    "plt.show()"
   ]
  },
  {
   "cell_type": "code",
   "execution_count": 32,
   "metadata": {},
   "outputs": [],
   "source": [
    "predicted_classes = model.predict([test_X_cell,test_X_drug])"
   ]
  },
  {
   "cell_type": "code",
   "execution_count": 33,
   "metadata": {},
   "outputs": [],
   "source": [
    "predicted_value = predicted_classes"
   ]
  },
  {
   "cell_type": "code",
   "execution_count": 34,
   "metadata": {},
   "outputs": [],
   "source": [
    "a = pd.DataFrame(predicted_value)\n",
    "b = pd.DataFrame(test_label_array)\n",
    "c = pd.concat([a,b], axis=1)\n",
    "c.columns=[\"Predicted\",\"Test\"]"
   ]
  },
  {
   "cell_type": "code",
   "execution_count": 35,
   "metadata": {},
   "outputs": [],
   "source": [
    "c.to_csv(workdir + '//MEYODG51K_CDRScan_r2_pred_obs_table.csv')"
   ]
  },
  {
   "cell_type": "code",
   "execution_count": 36,
   "metadata": {},
   "outputs": [
    {
     "data": {
      "text/html": [
       "<div>\n",
       "<style scoped>\n",
       "    .dataframe tbody tr th:only-of-type {\n",
       "        vertical-align: middle;\n",
       "    }\n",
       "\n",
       "    .dataframe tbody tr th {\n",
       "        vertical-align: top;\n",
       "    }\n",
       "\n",
       "    .dataframe thead th {\n",
       "        text-align: right;\n",
       "    }\n",
       "</style>\n",
       "<table border=\"1\" class=\"dataframe\">\n",
       "  <thead>\n",
       "    <tr style=\"text-align: right;\">\n",
       "      <th></th>\n",
       "      <th>Predicted</th>\n",
       "      <th>Test</th>\n",
       "    </tr>\n",
       "  </thead>\n",
       "  <tbody>\n",
       "    <tr>\n",
       "      <th>0</th>\n",
       "      <td>3.013170</td>\n",
       "      <td>3.455613</td>\n",
       "    </tr>\n",
       "    <tr>\n",
       "      <th>1</th>\n",
       "      <td>2.756042</td>\n",
       "      <td>1.777574</td>\n",
       "    </tr>\n",
       "    <tr>\n",
       "      <th>2</th>\n",
       "      <td>1.051724</td>\n",
       "      <td>0.871086</td>\n",
       "    </tr>\n",
       "    <tr>\n",
       "      <th>3</th>\n",
       "      <td>4.261437</td>\n",
       "      <td>3.506734</td>\n",
       "    </tr>\n",
       "    <tr>\n",
       "      <th>4</th>\n",
       "      <td>0.066525</td>\n",
       "      <td>0.079714</td>\n",
       "    </tr>\n",
       "    <tr>\n",
       "      <th>...</th>\n",
       "      <td>...</td>\n",
       "      <td>...</td>\n",
       "    </tr>\n",
       "    <tr>\n",
       "      <th>5173</th>\n",
       "      <td>3.707228</td>\n",
       "      <td>3.918200</td>\n",
       "    </tr>\n",
       "    <tr>\n",
       "      <th>5174</th>\n",
       "      <td>2.741405</td>\n",
       "      <td>3.739676</td>\n",
       "    </tr>\n",
       "    <tr>\n",
       "      <th>5175</th>\n",
       "      <td>3.648232</td>\n",
       "      <td>2.720437</td>\n",
       "    </tr>\n",
       "    <tr>\n",
       "      <th>5176</th>\n",
       "      <td>4.743402</td>\n",
       "      <td>3.543666</td>\n",
       "    </tr>\n",
       "    <tr>\n",
       "      <th>5177</th>\n",
       "      <td>2.636881</td>\n",
       "      <td>0.164379</td>\n",
       "    </tr>\n",
       "  </tbody>\n",
       "</table>\n",
       "<p>5178 rows × 2 columns</p>\n",
       "</div>"
      ],
      "text/plain": [
       "      Predicted      Test\n",
       "0      3.013170  3.455613\n",
       "1      2.756042  1.777574\n",
       "2      1.051724  0.871086\n",
       "3      4.261437  3.506734\n",
       "4      0.066525  0.079714\n",
       "...         ...       ...\n",
       "5173   3.707228  3.918200\n",
       "5174   2.741405  3.739676\n",
       "5175   3.648232  2.720437\n",
       "5176   4.743402  3.543666\n",
       "5177   2.636881  0.164379\n",
       "\n",
       "[5178 rows x 2 columns]"
      ]
     },
     "execution_count": 36,
     "metadata": {},
     "output_type": "execute_result"
    }
   ],
   "source": [
    "c"
   ]
  },
  {
   "cell_type": "code",
   "execution_count": 37,
   "metadata": {},
   "outputs": [
    {
     "data": {
      "text/plain": [
       "(5178, 1)"
      ]
     },
     "execution_count": 37,
     "metadata": {},
     "output_type": "execute_result"
    }
   ],
   "source": [
    "predicted_value.shape"
   ]
  },
  {
   "cell_type": "code",
   "execution_count": 38,
   "metadata": {},
   "outputs": [
    {
     "data": {
      "text/plain": [
       "LinregressResult(slope=0.8350710161441497, intercept=0.33864427437876676, rvalue=0.9320322639859056, pvalue=0.0, stderr=0.004512881389922881)"
      ]
     },
     "execution_count": 38,
     "metadata": {},
     "output_type": "execute_result"
    }
   ],
   "source": [
    "from scipy.stats import linregress\n",
    "linregress(b[0], a[0])"
   ]
  },
  {
   "cell_type": "code",
   "execution_count": 39,
   "metadata": {},
   "outputs": [
    {
     "name": "stdout",
     "output_type": "stream",
     "text": [
      "0.867371304217998\n"
     ]
    }
   ],
   "source": [
    "from sklearn.metrics import r2_score\n",
    "r2_value = r2_score(b,a)\n",
    "print(r2_value)"
   ]
  },
  {
   "cell_type": "code",
   "execution_count": 40,
   "metadata": {},
   "outputs": [
    {
     "name": "stdout",
     "output_type": "stream",
     "text": [
      "Final rmse value is = 1.023211675294728\n"
     ]
    }
   ],
   "source": [
    "rse = ((b[0]-a[0])**2).sum()\n",
    "mse = rse / len(b)\n",
    "print(\"Final rmse value is =\",np.sqrt(mse))"
   ]
  },
  {
   "cell_type": "code",
   "execution_count": 41,
   "metadata": {},
   "outputs": [
    {
     "data": {
      "image/png": "[encoded data removed]",
      "text/plain": [
       "<Figure size 432x432 with 3 Axes>"
      ]
     },
     "metadata": {
      "needs_background": "light"
     },
     "output_type": "display_data"
    }
   ],
   "source": [
    "workdir = \"D://ResNetIC50//Result//Figure//MEYODG-51K\"\n",
    "import seaborn as sns\n",
    "\n",
    "g = sns.jointplot(x=\"Test\", y=\"Predicted\", data=c, kind='reg', color='#7C7C7C',\n",
    "                  joint_kws={'line_kws':{'color':'black'}})\n",
    "g.savefig(workdir+ '//MEYODG51K_CDRScan_r2.png', dpi=300)"
   ]
  },
  {
   "cell_type": "code",
   "execution_count": null,
   "metadata": {},
   "outputs": [],
   "source": []
  },
  {
   "cell_type": "code",
   "execution_count": null,
   "metadata": {},
   "outputs": [],
   "source": []
  }
 ],
 "metadata": {
  "kernelspec": {
   "display_name": "Python 3",
   "language": "python",
   "name": "python3"
  },
  "language_info": {
   "codemirror_mode": {
    "name": "ipython",
    "version": 3
   },
   "file_extension": ".py",
   "mimetype": "text/x-python",
   "name": "python",
   "nbconvert_exporter": "python",
   "pygments_lexer": "ipython3",
   "version": "3.6.12"
  }
 },
 "nbformat": 4,
 "nbformat_minor": 2
}
