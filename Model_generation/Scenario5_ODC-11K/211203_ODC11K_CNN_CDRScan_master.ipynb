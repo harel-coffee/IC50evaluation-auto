{
 "cells": [
  {
   "cell_type": "code",
   "execution_count": 1,
   "metadata": {},
   "outputs": [
    {
     "name": "stderr",
     "output_type": "stream",
     "text": [
      "C:\\Users\\BGM18\\.conda\\envs\\ronny_keras\\lib\\site-packages\\tensorflow\\python\\framework\\dtypes.py:516: FutureWarning: Passing (type, 1) or '1type' as a synonym of type is deprecated; in a future version of numpy, it will be understood as (type, (1,)) / '(1,)type'.\n",
      "  _np_qint8 = np.dtype([(\"qint8\", np.int8, 1)])\n",
      "C:\\Users\\BGM18\\.conda\\envs\\ronny_keras\\lib\\site-packages\\tensorflow\\python\\framework\\dtypes.py:517: FutureWarning: Passing (type, 1) or '1type' as a synonym of type is deprecated; in a future version of numpy, it will be understood as (type, (1,)) / '(1,)type'.\n",
      "  _np_quint8 = np.dtype([(\"quint8\", np.uint8, 1)])\n",
      "C:\\Users\\BGM18\\.conda\\envs\\ronny_keras\\lib\\site-packages\\tensorflow\\python\\framework\\dtypes.py:518: FutureWarning: Passing (type, 1) or '1type' as a synonym of type is deprecated; in a future version of numpy, it will be understood as (type, (1,)) / '(1,)type'.\n",
      "  _np_qint16 = np.dtype([(\"qint16\", np.int16, 1)])\n",
      "C:\\Users\\BGM18\\.conda\\envs\\ronny_keras\\lib\\site-packages\\tensorflow\\python\\framework\\dtypes.py:519: FutureWarning: Passing (type, 1) or '1type' as a synonym of type is deprecated; in a future version of numpy, it will be understood as (type, (1,)) / '(1,)type'.\n",
      "  _np_quint16 = np.dtype([(\"quint16\", np.uint16, 1)])\n",
      "C:\\Users\\BGM18\\.conda\\envs\\ronny_keras\\lib\\site-packages\\tensorflow\\python\\framework\\dtypes.py:520: FutureWarning: Passing (type, 1) or '1type' as a synonym of type is deprecated; in a future version of numpy, it will be understood as (type, (1,)) / '(1,)type'.\n",
      "  _np_qint32 = np.dtype([(\"qint32\", np.int32, 1)])\n",
      "C:\\Users\\BGM18\\.conda\\envs\\ronny_keras\\lib\\site-packages\\tensorflow\\python\\framework\\dtypes.py:525: FutureWarning: Passing (type, 1) or '1type' as a synonym of type is deprecated; in a future version of numpy, it will be understood as (type, (1,)) / '(1,)type'.\n",
      "  np_resource = np.dtype([(\"resource\", np.ubyte, 1)])\n",
      "C:\\Users\\BGM18\\.conda\\envs\\ronny_keras\\lib\\site-packages\\tensorboard\\compat\\tensorflow_stub\\dtypes.py:541: FutureWarning: Passing (type, 1) or '1type' as a synonym of type is deprecated; in a future version of numpy, it will be understood as (type, (1,)) / '(1,)type'.\n",
      "  _np_qint8 = np.dtype([(\"qint8\", np.int8, 1)])\n",
      "C:\\Users\\BGM18\\.conda\\envs\\ronny_keras\\lib\\site-packages\\tensorboard\\compat\\tensorflow_stub\\dtypes.py:542: FutureWarning: Passing (type, 1) or '1type' as a synonym of type is deprecated; in a future version of numpy, it will be understood as (type, (1,)) / '(1,)type'.\n",
      "  _np_quint8 = np.dtype([(\"quint8\", np.uint8, 1)])\n",
      "C:\\Users\\BGM18\\.conda\\envs\\ronny_keras\\lib\\site-packages\\tensorboard\\compat\\tensorflow_stub\\dtypes.py:543: FutureWarning: Passing (type, 1) or '1type' as a synonym of type is deprecated; in a future version of numpy, it will be understood as (type, (1,)) / '(1,)type'.\n",
      "  _np_qint16 = np.dtype([(\"qint16\", np.int16, 1)])\n",
      "C:\\Users\\BGM18\\.conda\\envs\\ronny_keras\\lib\\site-packages\\tensorboard\\compat\\tensorflow_stub\\dtypes.py:544: FutureWarning: Passing (type, 1) or '1type' as a synonym of type is deprecated; in a future version of numpy, it will be understood as (type, (1,)) / '(1,)type'.\n",
      "  _np_quint16 = np.dtype([(\"quint16\", np.uint16, 1)])\n",
      "C:\\Users\\BGM18\\.conda\\envs\\ronny_keras\\lib\\site-packages\\tensorboard\\compat\\tensorflow_stub\\dtypes.py:545: FutureWarning: Passing (type, 1) or '1type' as a synonym of type is deprecated; in a future version of numpy, it will be understood as (type, (1,)) / '(1,)type'.\n",
      "  _np_qint32 = np.dtype([(\"qint32\", np.int32, 1)])\n",
      "C:\\Users\\BGM18\\.conda\\envs\\ronny_keras\\lib\\site-packages\\tensorboard\\compat\\tensorflow_stub\\dtypes.py:550: FutureWarning: Passing (type, 1) or '1type' as a synonym of type is deprecated; in a future version of numpy, it will be understood as (type, (1,)) / '(1,)type'.\n",
      "  np_resource = np.dtype([(\"resource\", np.ubyte, 1)])\n",
      "Using TensorFlow backend.\n"
     ]
    }
   ],
   "source": [
    "import os\n",
    "import sys\n",
    "import pandas as pd\n",
    "import numpy as np\n",
    "from sklearn import preprocessing\n",
    "import tensorflow as tf\n",
    "import random\n",
    "import matplotlib\n",
    "from matplotlib import pyplot as plt\n",
    "import statistics\n",
    "from pandas import DataFrame\n",
    "from datetime import datetime\n",
    "import keras\n",
    "from keras.models import Sequential,Input,Model\n",
    "from keras.layers import Dense, Dropout, Reshape, Flatten, Activation\n",
    "from keras.layers import Conv1D, MaxPooling1D, AveragePooling1D, GlobalAveragePooling1D\n",
    "from keras.layers import Conv2D, MaxPooling2D, Concatenate\n",
    "from keras.layers.normalization import BatchNormalization\n",
    "from keras.layers.advanced_activations import LeakyReLU\n",
    "from keras.optimizers import Adam, RMSprop\n",
    "#from keras import backend as K\n",
    "import keras.backend.tensorflow_backend as K\n",
    "from tensorflow.keras.callbacks import ModelCheckpoint, CSVLogger\n",
    "from keras.backend.tensorflow_backend import set_session\n",
    "from os.path import basename\n",
    "#import seaborn as sns\n",
    "from keras.models import load_model\n",
    "from keras.utils.vis_utils import plot_model\n",
    "from sklearn.metrics import r2_score\n",
    "from sklearn.metrics import mean_squared_error\n",
    "from matplotlib.patches import Patch\n",
    "from matplotlib.lines import Line2D\n",
    "from scipy.stats import pearsonr\n",
    "\n",
    "# from tensorflow.keras.callbacks import ModelCheckpoint, CSVLogger\n",
    "#from tensorflow.keras.optimizers import Adam\n",
    "\n",
    "\n",
    "\n",
    "\n",
    "config = tf.ConfigProto()\n",
    "config.gpu_options.per_process_gpu_memory_fraction = 0.7\n",
    "config.gpu_options.allow_growth = True\n",
    "sess = tf.Session(config=config)"
   ]
  },
  {
   "cell_type": "code",
   "execution_count": 2,
   "metadata": {},
   "outputs": [
    {
     "name": "stdout",
     "output_type": "stream",
     "text": [
      "[name: \"/device:CPU:0\"\n",
      "device_type: \"CPU\"\n",
      "memory_limit: 268435456\n",
      "locality {\n",
      "}\n",
      "incarnation: 5740766396341334807\n",
      ", name: \"/device:GPU:0\"\n",
      "device_type: \"GPU\"\n",
      "memory_limit: 8267812044\n",
      "locality {\n",
      "  bus_id: 1\n",
      "  links {\n",
      "  }\n",
      "}\n",
      "incarnation: 12119660327647698939\n",
      "physical_device_desc: \"device: 0, name: GeForce RTX 2080 Ti, pci bus id: 0000:01:00.0, compute capability: 7.5\"\n",
      "]\n"
     ]
    }
   ],
   "source": [
    "from tensorflow.python.client import device_lib\n",
    "print(device_lib.list_local_devices())\n",
    "\n",
    "\n",
    "# 출처: https://3months.tistory.com/206 [Deep Play]"
   ]
  },
  {
   "cell_type": "code",
   "execution_count": 7,
   "metadata": {},
   "outputs": [],
   "source": [
    "workdir = \"D://EODC-11K//ODC-11K\""
   ]
  },
  {
   "cell_type": "code",
   "execution_count": 8,
   "metadata": {},
   "outputs": [],
   "source": [
    "# < Important note > [ Please download input data from https://mega.nz/#F!CeYGDKyS!uqkmWJ4E2XSGJp_C2VO2gg]\n",
    "# IC50evaluation//Dataset//Scenario5_ODC-11K\n",
    "\n",
    "dataset = np.load(workdir + \"//ODC11K_dataset.npz\") # input file\n",
    "ss0 = np.load(workdir + '//ODC11K_dataset_r0.npz') # split for training and test"
   ]
  },
  {
   "cell_type": "code",
   "execution_count": 9,
   "metadata": {},
   "outputs": [],
   "source": [
    "x = dataset['x']\n",
    "y = dataset['y']\n",
    "# y_linear = dataset['y_lnIC50']\n",
    "ss0_train = ss0['train']\n",
    "ss0_test = ss0['test']"
   ]
  },
  {
   "cell_type": "code",
   "execution_count": 10,
   "metadata": {},
   "outputs": [],
   "source": [
    "training_image_array, training_label_array = x[ss0_train], y[ss0_train]\n",
    "test_image_array, test_label_array = x[ss0_test], y[ss0_test]\n",
    "\n",
    "# In[9]:\n",
    "# ori = training_image_array\n",
    "# bat = np.zeros((ori.shape[0],178))\n",
    "# cat = np.hstack([ori,bat])\n",
    "# training_image_array = cat\n",
    "\n",
    "# # In[8]:\n",
    "# training_image_array.shape\n",
    "\n",
    "# # In[10]:\n",
    "# ori2 = test_image_array\n",
    "# bat2 = np.zeros((ori2.shape[0],178))\n",
    "# cat2 = np.hstack([ori2,bat2])\n",
    "# test_image_array = cat2\n"
   ]
  },
  {
   "cell_type": "code",
   "execution_count": 11,
   "metadata": {},
   "outputs": [
    {
     "name": "stdout",
     "output_type": "stream",
     "text": [
      "1 9\n"
     ]
    }
   ],
   "source": [
    "# In[15]:\n",
    "ab =[]\n",
    "for i in range(100,200):\n",
    "    ab.append(len(training_image_array) % i)\n",
    "    \n",
    "print(min(ab), ab.index(min(ab)))"
   ]
  },
  {
   "cell_type": "code",
   "execution_count": 12,
   "metadata": {},
   "outputs": [
    {
     "data": {
      "text/plain": [
       "(11385, 19331)"
      ]
     },
     "execution_count": 12,
     "metadata": {},
     "output_type": "execute_result"
    }
   ],
   "source": [
    "x.shape"
   ]
  },
  {
   "cell_type": "code",
   "execution_count": 13,
   "metadata": {},
   "outputs": [
    {
     "data": {
      "text/plain": [
       "(10247, 19331)"
      ]
     },
     "execution_count": 13,
     "metadata": {},
     "output_type": "execute_result"
    }
   ],
   "source": [
    "training_image_array.shape"
   ]
  },
  {
   "cell_type": "code",
   "execution_count": 14,
   "metadata": {},
   "outputs": [],
   "source": [
    "# In[21]:\n",
    "\n",
    "num_classes = 1\n",
    "learning_rate = 0.0002\n",
    "training_epochs = 150\n",
    "batch_size = 100\n",
    "img_rows, img_cols = 154, 154\n"
   ]
  },
  {
   "cell_type": "code",
   "execution_count": 15,
   "metadata": {},
   "outputs": [],
   "source": [
    "train_X, train_y, test_X, test_y = training_image_array, training_label_array, test_image_array, test_label_array\n",
    "\n",
    "# if K.image_data_format() == 'channels_first':\n",
    "#     train_X = train_X.reshape(train_X.shape[0], 1, img_rows, img_cols)\n",
    "#     test_X = test_X.reshape(x_test.shape[0], 1, img_rows, img_cols)\n",
    "#     input_shape = (1, img_rows, img_cols)\n",
    "# else:\n",
    "#     train_X = train_X.reshape(train_X.shape[0], img_rows, img_cols, 1)\n",
    "#     test_X = test_X.reshape(test_X.shape[0], img_rows, img_cols, 1)\n",
    "#     input_shape = (img_rows, img_cols, 1)\n"
   ]
  },
  {
   "cell_type": "code",
   "execution_count": 16,
   "metadata": {},
   "outputs": [
    {
     "name": "stdout",
     "output_type": "stream",
     "text": [
      "17006\n"
     ]
    }
   ],
   "source": [
    "shape_value = 17006\n",
    "print(shape_value)"
   ]
  },
  {
   "cell_type": "code",
   "execution_count": 17,
   "metadata": {},
   "outputs": [
    {
     "data": {
      "text/plain": [
       "(10247, 19331)"
      ]
     },
     "execution_count": 17,
     "metadata": {},
     "output_type": "execute_result"
    }
   ],
   "source": [
    "train_X.shape"
   ]
  },
  {
   "cell_type": "code",
   "execution_count": 18,
   "metadata": {},
   "outputs": [],
   "source": [
    "train_X_cell = train_X[:,:shape_value]\n",
    "train_X_drug =train_X[:,shape_value:]\n",
    "test_X_cell = test_X[:,:shape_value]\n",
    "test_X_drug = test_X[:,shape_value:]"
   ]
  },
  {
   "cell_type": "code",
   "execution_count": 19,
   "metadata": {},
   "outputs": [
    {
     "data": {
      "text/plain": [
       "(10247, 17006)"
      ]
     },
     "execution_count": 19,
     "metadata": {},
     "output_type": "execute_result"
    }
   ],
   "source": [
    "train_X_cell.shape"
   ]
  },
  {
   "cell_type": "code",
   "execution_count": 20,
   "metadata": {},
   "outputs": [],
   "source": [
    "train_X_cell = train_X_cell.reshape(train_X_cell.shape[0], train_X_cell.shape[1], 1)\n",
    "train_X_drug = train_X_drug.reshape(train_X_drug.shape[0], train_X_drug.shape[1], 1)\n",
    "test_X_cell = test_X_cell.reshape(test_X_cell.shape[0], test_X_cell.shape[1], 1)\n",
    "test_X_drug = test_X_drug.reshape(test_X_drug.shape[0], test_X_drug.shape[1], 1)\n",
    "#input_shape = (img_rows, img_cols, 1)"
   ]
  },
  {
   "cell_type": "code",
   "execution_count": 21,
   "metadata": {},
   "outputs": [
    {
     "name": "stdout",
     "output_type": "stream",
     "text": [
      "(10247, 17006, 1) (10247, 2325, 1) (10247,) (1138, 17006, 1) (1138, 2325, 1) (1138,)\n"
     ]
    }
   ],
   "source": [
    "print(train_X_cell.shape,train_X_drug.shape, train_y.shape, test_X_cell.shape,test_X_drug.shape, test_y.shape)"
   ]
  },
  {
   "cell_type": "code",
   "execution_count": 22,
   "metadata": {},
   "outputs": [
    {
     "data": {
      "text/plain": [
       "(10247, 17006, 1)"
      ]
     },
     "execution_count": 22,
     "metadata": {},
     "output_type": "execute_result"
    }
   ],
   "source": [
    "train_X_cell.shape"
   ]
  },
  {
   "cell_type": "code",
   "execution_count": 23,
   "metadata": {},
   "outputs": [
    {
     "name": "stdout",
     "output_type": "stream",
     "text": [
      "train_X shape: (10247, 19331)\n",
      "10247 train samples\n",
      "1138 test samples\n"
     ]
    }
   ],
   "source": [
    "train_X_cell = train_X_cell.astype('float32')\n",
    "test_X_cell = test_X_cell.astype('float32')\n",
    "train_X_drug = train_X_drug.astype('float32')\n",
    "test_X_drug = test_X_drug.astype('float32')\n",
    "# train_X /= 255\n",
    "# test_X /= 255\n",
    "print('train_X shape:', train_X.shape)\n",
    "print(train_X.shape[0], 'train samples')\n",
    "print(test_X.shape[0], 'test samples')"
   ]
  },
  {
   "cell_type": "code",
   "execution_count": 24,
   "metadata": {},
   "outputs": [
    {
     "name": "stdout",
     "output_type": "stream",
     "text": [
      "WARNING:tensorflow:From C:\\Users\\BGM18\\.conda\\envs\\ronny_keras\\lib\\site-packages\\keras\\backend\\tensorflow_backend.py:4070: The name tf.nn.max_pool is deprecated. Please use tf.nn.max_pool2d instead.\n",
      "\n"
     ]
    }
   ],
   "source": [
    "with K.tf.device('/GPU:0'):\n",
    "    input_cell = Input(shape=(train_X_cell.shape[1], train_X_cell.shape[2]), name='cell_input')\n",
    "    input_drug = Input(shape=(train_X_drug.shape[1], train_X_drug.shape[2]), name='drug_input')\n",
    "\n",
    "    conv_cell_line_1 = Conv1D(filters=50, kernel_size=700, strides=5, activation='tanh')(input_cell)\n",
    "    maxpool_cell_line_1 = MaxPooling1D(pool_size=5)(conv_cell_line_1)\n",
    "    conv_cell_line_2 = Conv1D(filters=30, kernel_size=5, strides=2, activation='relu')(maxpool_cell_line_1)\n",
    "    maxpool_cell_line_2 = MaxPooling1D(pool_size=10)(conv_cell_line_2)\n",
    "    flatten_cell_line = Flatten()(maxpool_cell_line_2)\n",
    "    dense_cell_line = Dense(100, activation='relu')(flatten_cell_line)\n",
    "    dropout_cell_line = Dropout(0.1)(dense_cell_line)\n",
    "\n",
    "    conv_drug_1 = Conv1D(filters=50, kernel_size=200, strides=3, activation='tanh')(input_drug)\n",
    "    maxpool_drug_1 = MaxPooling1D(pool_size=5)(conv_drug_1)\n",
    "    conv_drug_2 = Conv1D(filters=30, kernel_size=50, strides=5, activation='relu')(maxpool_drug_1)\n",
    "    maxpool_drug_2 = MaxPooling1D(pool_size=10)(conv_drug_2)\n",
    "    flatten_drug = Flatten()(maxpool_drug_2)\n",
    "    dense_drug = Dense(100, activation='relu')(flatten_drug)\n",
    "    dropout_drug = Dropout(0.1)(dense_drug)\n",
    "\n",
    "    concatenate = Concatenate()([dropout_cell_line, dropout_drug])\n",
    "    dense_1 = Dense(300, activation='tanh')(concatenate)\n",
    "    dropout_1 = Dropout(0.1)(dense_1)\n",
    "    reshape_1 = Reshape((300,1))(dropout_1)\n",
    "    conv_1 = Conv1D(filters=30, kernel_size=150, strides=1, activation='relu')(reshape_1)\n",
    "    maxpool_1 = MaxPooling1D(pool_size=2)(conv_1)\n",
    "    conv_2 = Conv1D(filters=10, kernel_size=5, strides=1, activation='relu')(maxpool_1)\n",
    "    maxpool_2 = MaxPooling1D(pool_size=3)(conv_2)\n",
    "    conv_3 = Conv1D(filters=5, kernel_size=5, strides=1, activation='relu')(maxpool_2)\n",
    "    maxpool_3 = MaxPooling1D(pool_size=3)(conv_3)\n",
    "    dropout_2 = Dropout(0.1)(maxpool_3)\n",
    "    flatten = Flatten()(dropout_2)\n",
    "    dropout_3 = Dropout(0.2)(flatten)\n",
    "    output = Dense(1, activation='linear', name='pred_lnIC50')(dropout_3)\n",
    "    model = Model(inputs=[input_cell, input_drug], outputs=output, name='MasterModel')\n",
    "\n"
   ]
  },
  {
   "cell_type": "code",
   "execution_count": 25,
   "metadata": {
    "scrolled": false
   },
   "outputs": [
    {
     "name": "stdout",
     "output_type": "stream",
     "text": [
      "Model: \"MasterModel\"\n",
      "__________________________________________________________________________________________________\n",
      "Layer (type)                    Output Shape         Param #     Connected to                     \n",
      "==================================================================================================\n",
      "cell_input (InputLayer)         (None, 17006, 1)     0                                            \n",
      "__________________________________________________________________________________________________\n",
      "drug_input (InputLayer)         (None, 2325, 1)      0                                            \n",
      "__________________________________________________________________________________________________\n",
      "conv1d_1 (Conv1D)               (None, 3262, 50)     35050       cell_input[0][0]                 \n",
      "__________________________________________________________________________________________________\n",
      "conv1d_3 (Conv1D)               (None, 709, 50)      10050       drug_input[0][0]                 \n",
      "__________________________________________________________________________________________________\n",
      "max_pooling1d_1 (MaxPooling1D)  (None, 652, 50)      0           conv1d_1[0][0]                   \n",
      "__________________________________________________________________________________________________\n",
      "max_pooling1d_3 (MaxPooling1D)  (None, 141, 50)      0           conv1d_3[0][0]                   \n",
      "__________________________________________________________________________________________________\n",
      "conv1d_2 (Conv1D)               (None, 324, 30)      7530        max_pooling1d_1[0][0]            \n",
      "__________________________________________________________________________________________________\n",
      "conv1d_4 (Conv1D)               (None, 19, 30)       75030       max_pooling1d_3[0][0]            \n",
      "__________________________________________________________________________________________________\n",
      "max_pooling1d_2 (MaxPooling1D)  (None, 32, 30)       0           conv1d_2[0][0]                   \n",
      "__________________________________________________________________________________________________\n",
      "max_pooling1d_4 (MaxPooling1D)  (None, 1, 30)        0           conv1d_4[0][0]                   \n",
      "__________________________________________________________________________________________________\n",
      "flatten_1 (Flatten)             (None, 960)          0           max_pooling1d_2[0][0]            \n",
      "__________________________________________________________________________________________________\n",
      "flatten_2 (Flatten)             (None, 30)           0           max_pooling1d_4[0][0]            \n",
      "__________________________________________________________________________________________________\n",
      "dense_1 (Dense)                 (None, 100)          96100       flatten_1[0][0]                  \n",
      "__________________________________________________________________________________________________\n",
      "dense_2 (Dense)                 (None, 100)          3100        flatten_2[0][0]                  \n",
      "__________________________________________________________________________________________________\n",
      "dropout_1 (Dropout)             (None, 100)          0           dense_1[0][0]                    \n",
      "__________________________________________________________________________________________________\n",
      "dropout_2 (Dropout)             (None, 100)          0           dense_2[0][0]                    \n",
      "__________________________________________________________________________________________________\n",
      "concatenate_1 (Concatenate)     (None, 200)          0           dropout_1[0][0]                  \n",
      "                                                                 dropout_2[0][0]                  \n",
      "__________________________________________________________________________________________________\n",
      "dense_3 (Dense)                 (None, 300)          60300       concatenate_1[0][0]              \n",
      "__________________________________________________________________________________________________\n",
      "dropout_3 (Dropout)             (None, 300)          0           dense_3[0][0]                    \n",
      "__________________________________________________________________________________________________\n",
      "reshape_1 (Reshape)             (None, 300, 1)       0           dropout_3[0][0]                  \n",
      "__________________________________________________________________________________________________\n",
      "conv1d_5 (Conv1D)               (None, 151, 30)      4530        reshape_1[0][0]                  \n",
      "__________________________________________________________________________________________________\n",
      "max_pooling1d_5 (MaxPooling1D)  (None, 75, 30)       0           conv1d_5[0][0]                   \n",
      "__________________________________________________________________________________________________\n",
      "conv1d_6 (Conv1D)               (None, 71, 10)       1510        max_pooling1d_5[0][0]            \n",
      "__________________________________________________________________________________________________\n",
      "max_pooling1d_6 (MaxPooling1D)  (None, 23, 10)       0           conv1d_6[0][0]                   \n",
      "__________________________________________________________________________________________________\n",
      "conv1d_7 (Conv1D)               (None, 19, 5)        255         max_pooling1d_6[0][0]            \n",
      "__________________________________________________________________________________________________\n",
      "max_pooling1d_7 (MaxPooling1D)  (None, 6, 5)         0           conv1d_7[0][0]                   \n",
      "__________________________________________________________________________________________________\n",
      "dropout_4 (Dropout)             (None, 6, 5)         0           max_pooling1d_7[0][0]            \n",
      "__________________________________________________________________________________________________\n",
      "flatten_3 (Flatten)             (None, 30)           0           dropout_4[0][0]                  \n",
      "__________________________________________________________________________________________________\n",
      "dropout_5 (Dropout)             (None, 30)           0           flatten_3[0][0]                  \n",
      "__________________________________________________________________________________________________\n",
      "pred_lnIC50 (Dense)             (None, 1)            31          dropout_5[0][0]                  \n",
      "==================================================================================================\n",
      "Total params: 293,486\n",
      "Trainable params: 293,486\n",
      "Non-trainable params: 0\n",
      "__________________________________________________________________________________________________\n"
     ]
    }
   ],
   "source": [
    "model.summary()"
   ]
  },
  {
   "cell_type": "code",
   "execution_count": 26,
   "metadata": {},
   "outputs": [],
   "source": [
    "config = tf.ConfigProto()\n",
    "config.gpu_options.allow_growth = True\n",
    "sess = tf.Session(config=config)"
   ]
  },
  {
   "cell_type": "code",
   "execution_count": 27,
   "metadata": {
    "scrolled": true
   },
   "outputs": [
    {
     "name": "stdout",
     "output_type": "stream",
     "text": [
      "StartTime : 2021-12-04 20:15:33.048973\n",
      "WARNING:tensorflow:From C:\\Users\\BGM18\\.conda\\envs\\ronny_keras\\lib\\site-packages\\keras\\backend\\tensorflow_backend.py:422: The name tf.global_variables is deprecated. Please use tf.compat.v1.global_variables instead.\n",
      "\n",
      "Train on 10247 samples, validate on 1138 samples\n",
      "Epoch 1/150\n",
      "10247/10247 [==============================] - 4s 422us/step - loss: 3.5020 - mse: 3.5020 - mae: 1.4702 - val_loss: 1.4949 - val_mse: 1.4949 - val_mae: 0.7513mse: 4.05\n",
      "Epoch 2/150\n",
      "10247/10247 [==============================] - 2s 226us/step - loss: 1.4818 - mse: 1.4818 - mae: 0.8392 - val_loss: 1.4017 - val_mse: 1.4017 - val_mae: 0.7884\n",
      "Epoch 3/150\n",
      "10247/10247 [==============================] - 2s 218us/step - loss: 1.3151 - mse: 1.3151 - mae: 0.7840 - val_loss: 1.1615 - val_mse: 1.1615 - val_mae: 0.6358\n",
      "Epoch 4/150\n",
      "10247/10247 [==============================] - 2s 217us/step - loss: 1.2696 - mse: 1.2696 - mae: 0.7744 - val_loss: 1.1583 - val_mse: 1.1583 - val_mae: 0.6347 - loss: 1.3465 - mse: 1. - ETA: 0s - loss: 1.2635 - mse: 1.2635 - m\n",
      "Epoch 5/150\n",
      "10247/10247 [==============================] - 2s 214us/step - loss: 1.1893 - mse: 1.1893 - mae: 0.7476 - val_loss: 1.1279 - val_mse: 1.1279 - val_mae: 0.6626\n",
      "Epoch 6/150\n",
      "10247/10247 [==============================] - 2s 220us/step - loss: 1.1706 - mse: 1.1706 - mae: 0.7406 - val_loss: 1.2328 - val_mse: 1.2328 - val_mae: 0.7317\n",
      "Epoch 7/150\n",
      "10247/10247 [==============================] - 2s 216us/step - loss: 1.1519 - mse: 1.1519 - mae: 0.7405 - val_loss: 1.1290 - val_mse: 1.1290 - val_mae: 0.6148- mse: 1.1550 - mae: 0.741\n",
      "Epoch 8/150\n",
      "10247/10247 [==============================] - 2s 217us/step - loss: 1.1551 - mse: 1.1551 - mae: 0.7379 - val_loss: 1.1482 - val_mse: 1.1482 - val_mae: 0.6719 - loss: 1.1194 - mse: 1.1194 \n",
      "Epoch 9/150\n",
      "10247/10247 [==============================] - 2s 224us/step - loss: 1.1046 - mse: 1.1046 - mae: 0.7210 - val_loss: 1.1094 - val_mse: 1.1094 - val_mae: 0.6769\n",
      "Epoch 10/150\n",
      "10247/10247 [==============================] - 2s 220us/step - loss: 1.0780 - mse: 1.0780 - mae: 0.7142 - val_loss: 1.0877 - val_mse: 1.0877 - val_mae: 0.7031\n",
      "Epoch 11/150\n",
      "10247/10247 [==============================] - 2s 227us/step - loss: 1.0416 - mse: 1.0416 - mae: 0.7051 - val_loss: 1.1489 - val_mse: 1.1489 - val_mae: 0.6777\n",
      "Epoch 12/150\n",
      "10247/10247 [==============================] - 2s 228us/step - loss: 1.0238 - mse: 1.0238 - mae: 0.6984 - val_loss: 1.0404 - val_mse: 1.0404 - val_mae: 0.6085\n",
      "Epoch 13/150\n",
      "10247/10247 [==============================] - 2s 228us/step - loss: 0.9782 - mse: 0.9782 - mae: 0.6895 - val_loss: 1.0633 - val_mse: 1.0633 - val_mae: 0.6497\n",
      "Epoch 14/150\n",
      "10247/10247 [==============================] - 2s 212us/step - loss: 0.9534 - mse: 0.9534 - mae: 0.6762 - val_loss: 1.0919 - val_mse: 1.0919 - val_mae: 0.6520 - mse: 0.9632 - mae: \n",
      "Epoch 15/150\n",
      "10247/10247 [==============================] - 2s 221us/step - loss: 0.9330 - mse: 0.9330 - mae: 0.6716 - val_loss: 1.0691 - val_mse: 1.0691 - val_mae: 0.5987\n",
      "Epoch 16/150\n",
      "10247/10247 [==============================] - 2s 225us/step - loss: 0.9325 - mse: 0.9325 - mae: 0.6692 - val_loss: 1.0065 - val_mse: 1.0065 - val_mae: 0.59186 - mse: 0.9376 - mae: 0.6\n",
      "Epoch 17/150\n",
      "10247/10247 [==============================] - 2s 213us/step - loss: 0.8970 - mse: 0.8970 - mae: 0.6624 - val_loss: 1.0317 - val_mse: 1.0317 - val_mae: 0.5923 0.8787 - mse:  - ETA: 0s - loss: 0.8947 - mse: 0.8947 - mae: 0.6\n",
      "Epoch 18/150\n",
      "10247/10247 [==============================] - 2s 213us/step - loss: 0.8566 - mse: 0.8566 - mae: 0.6492 - val_loss: 1.0326 - val_mse: 1.0326 - val_mae: 0.6231ss: 0.8184 - mse: 0.8184 - mae: 0 - ETA: 0s - loss: 0.8315 - mse: 0.83\n",
      "Epoch 19/150\n",
      "10247/10247 [==============================] - 2s 217us/step - loss: 0.8653 - mse: 0.8653 - mae: 0.6513 - val_loss: 0.9967 - val_mse: 0.9967 - val_mae: 0.6314\n",
      "Epoch 20/150\n",
      "10247/10247 [==============================] - 2s 221us/step - loss: 0.8312 - mse: 0.8312 - mae: 0.6440 - val_loss: 0.9783 - val_mse: 0.9783 - val_mae: 0.5889oss: 0.8181 - mse: 0.8181 - mae: 0.6 - ETA: 1s - loss: 0.8163 - ms\n",
      "Epoch 21/150\n",
      "10247/10247 [==============================] - 2s 222us/step - loss: 0.8285 - mse: 0.8285 - mae: 0.6383 - val_loss: 0.9653 - val_mse: 0.9653 - val_mae: 0.6194\n",
      "Epoch 22/150\n",
      "10247/10247 [==============================] - 2s 214us/step - loss: 0.8098 - mse: 0.8098 - mae: 0.6294 - val_loss: 0.9631 - val_mse: 0.9631 - val_mae: 0.6006\n",
      "Epoch 23/150\n",
      "10247/10247 [==============================] - 2s 227us/step - loss: 0.7673 - mse: 0.7673 - mae: 0.6191 - val_loss: 0.9586 - val_mse: 0.9586 - val_mae: 0.5843\n",
      "Epoch 24/150\n",
      "10247/10247 [==============================] - 2s 213us/step - loss: 0.7776 - mse: 0.7776 - mae: 0.6212 - val_loss: 1.0119 - val_mse: 1.0119 - val_mae: 0.5975\n",
      "Epoch 25/150\n",
      "10247/10247 [==============================] - 2s 221us/step - loss: 0.7697 - mse: 0.7697 - mae: 0.6177 - val_loss: 0.9265 - val_mse: 0.9265 - val_mae: 0.5779s: 0.7736 - mse: 0.7736 - mae: 0\n",
      "Epoch 26/150\n",
      "10247/10247 [==============================] - 2s 212us/step - loss: 0.7474 - mse: 0.7474 - mae: 0.6078 - val_loss: 0.9232 - val_mse: 0.9232 - val_mae: 0.5761ss: 0.7079 - mse: 0.7079 - ETA: 0s - loss: 0.7402 - mse: 0.7402 - mae:  - ETA: 0s - loss: 0.7413 - mse: 0.7413 - mae: 0.60\n",
      "Epoch 27/150\n",
      "10247/10247 [==============================] - 2s 218us/step - loss: 0.7435 - mse: 0.7435 - mae: 0.6040 - val_loss: 0.9279 - val_mse: 0.9279 - val_mae: 0.5713 loss: 0.7264 - mse: 0.7264 - mae: 0.5 - ETA: 0s - loss: 0.7298 - mse: 0.7298 - mae: 0 - ETA: 0s - loss: 0.7422 - mse: 0.7422 - mae: 0.6\n",
      "Epoch 28/150\n",
      "10247/10247 [==============================] - 2s 227us/step - loss: 0.7490 - mse: 0.7490 - mae: 0.6077 - val_loss: 0.9394 - val_mse: 0.9394 - val_mae: 0.5644 - loss: 0.7226 - mse: 0.7226 - mae: 0 - ETA: 0s - loss: 0.7225 - mse: 0.72\n",
      "Epoch 29/150\n",
      "10247/10247 [==============================] - 2s 225us/step - loss: 0.7370 - mse: 0.7370 - mae: 0.6036 - val_loss: 0.9586 - val_mse: 0.9586 - val_mae: 0.5934\n",
      "Epoch 30/150\n",
      "10247/10247 [==============================] - 2s 223us/step - loss: 0.7287 - mse: 0.7287 - mae: 0.5961 - val_loss: 0.9822 - val_mse: 0.9822 - val_mae: 0.5579ss: 0.6606 - mse: 0.6606 - mae: 0 - ETA: 1s - loss: 0.6938 - mse: 0\n",
      "Epoch 31/150\n",
      "10247/10247 [==============================] - 2s 215us/step - loss: 0.7122 - mse: 0.7122 - mae: 0.5911 - val_loss: 1.0098 - val_mse: 1.0098 - val_mae: 0.5679\n",
      "Epoch 32/150\n",
      "10247/10247 [==============================] - 2s 220us/step - loss: 0.7006 - mse: 0.7006 - mae: 0.5833 - val_loss: 0.9526 - val_mse: 0.9526 - val_mae: 0.5952\n",
      "Epoch 33/150\n",
      "10247/10247 [==============================] - 2s 213us/step - loss: 0.6928 - mse: 0.6928 - mae: 0.5818 - val_loss: 0.9577 - val_mse: 0.9577 - val_mae: 0.5543\n",
      "Epoch 34/150\n",
      "10247/10247 [==============================] - 2s 220us/step - loss: 0.7038 - mse: 0.7038 - mae: 0.5853 - val_loss: 0.9893 - val_mse: 0.9893 - val_mae: 0.5530\n",
      "Epoch 35/150\n",
      "10247/10247 [==============================] - 2s 215us/step - loss: 0.6983 - mse: 0.6983 - mae: 0.5817 - val_loss: 0.9712 - val_mse: 0.9712 - val_mae: 0.5524\n",
      "Epoch 36/150\n",
      "10247/10247 [==============================] - 2s 221us/step - loss: 0.6962 - mse: 0.6962 - mae: 0.5790 - val_loss: 0.9574 - val_mse: 0.9574 - val_mae: 0.5888oss: 0.6721 - mse:\n",
      "Epoch 37/150\n",
      "10247/10247 [==============================] - 2s 216us/step - loss: 0.6867 - mse: 0.6867 - mae: 0.5795 - val_loss: 0.9623 - val_mse: 0.9623 - val_mae: 0.5534\n",
      "Epoch 38/150\n",
      "10247/10247 [==============================] - 2s 222us/step - loss: 0.6655 - mse: 0.6655 - mae: 0.5617 - val_loss: 0.9929 - val_mse: 0.9929 - val_mae: 0.5812 - loss: 0.6414 - mse: 0.6414 - \n",
      "Epoch 39/150\n",
      "10247/10247 [==============================] - 2s 210us/step - loss: 0.6934 - mse: 0.6934 - mae: 0.5794 - val_loss: 0.9794 - val_mse: 0.9794 - val_mae: 0.5904\n",
      "Epoch 40/150\n",
      "10247/10247 [==============================] - ETA: 0s - loss: 0.6713 - mse: 0.6713 - mae: 0.5690- ETA: 0s - loss: 0.6660 - mse: 0.6 - 2s 211us/step - loss: 0.6699 - mse: 0.6699 - mae: 0.5683 - val_loss: 0.9904 - val_mse: 0.9904 - val_mae: 0.5611\n",
      "Epoch 41/150\n",
      "10247/10247 [==============================] - 2s 235us/step - loss: 0.6560 - mse: 0.6560 - mae: 0.5612 - val_loss: 1.0202 - val_mse: 1.0202 - val_mae: 0.5900\n",
      "Epoch 42/150\n",
      "10247/10247 [==============================] - 2s 215us/step - loss: 0.6789 - mse: 0.6789 - mae: 0.5701 - val_loss: 1.0276 - val_mse: 1.0276 - val_mae: 0.6352\n",
      "Epoch 43/150\n",
      "10247/10247 [==============================] - 2s 224us/step - loss: 0.6544 - mse: 0.6544 - mae: 0.5586 - val_loss: 1.0614 - val_mse: 1.0614 - val_mae: 0.6340\n",
      "Epoch 44/150\n",
      "10247/10247 [==============================] - 2s 218us/step - loss: 0.6497 - mse: 0.6497 - mae: 0.5602 - val_loss: 1.0028 - val_mse: 1.0028 - val_mae: 0.5466\n",
      "Epoch 45/150\n",
      "10247/10247 [==============================] - 2s 218us/step - loss: 0.6429 - mse: 0.6429 - mae: 0.5543 - val_loss: 1.0019 - val_mse: 1.0019 - val_mae: 0.6007\n",
      "Epoch 46/150\n",
      "10247/10247 [==============================] - ETA: 0s - loss: 0.6510 - mse: 0.6510 - mae: 0.5580- ETA: 2s - loss: 0.5964 - ms - ETA: 0s - loss: 0.6568 - mse: 0.6568 - mae - 2s 217us/step - loss: 0.6513 - mse: 0.6513 - mae: 0.5583 - val_loss: 1.0153 - val_mse: 1.0153 - val_mae: 0.5818\n",
      "Epoch 47/150\n",
      "10247/10247 [==============================] - 2s 224us/step - loss: 0.6380 - mse: 0.6380 - mae: 0.5504 - val_loss: 0.9951 - val_mse: 0.9951 - val_mae: 0.5925\n",
      "Epoch 48/150\n",
      "10247/10247 [==============================] - 2s 208us/step - loss: 0.6430 - mse: 0.6430 - mae: 0.5542 - val_loss: 0.9953 - val_mse: 0.9953 - val_mae: 0.6159.6084 - mse: 0.6084 - mae: 0 - ETA: 0s - loss: 0.6189 - mse: 0.6189 - m\n",
      "Epoch 49/150\n",
      "10247/10247 [==============================] - 2s 214us/step - loss: 0.6419 - mse: 0.6419 - mae: 0.5527 - val_loss: 0.9904 - val_mse: 0.9904 - val_mae: 0.6084- loss: 0.6343 - mse: 0.6343 - mae\n",
      "Epoch 50/150\n",
      "10247/10247 [==============================] - 2s 213us/step - loss: 0.6297 - mse: 0.6297 - mae: 0.5496 - val_loss: 0.9809 - val_mse: 0.9809 - val_mae: 0.5656oss: 0.6208 - mse\n",
      "Epoch 51/150\n",
      "10247/10247 [==============================] - 2s 209us/step - loss: 0.6295 - mse: 0.6295 - mae: 0.5497 - val_loss: 1.0088 - val_mse: 1.0088 - val_mae: 0.5556s: 0.6355 - mse: 0.6355 - mae: 0.550 - ETA: 1s - loss: 0.6349 - mse: 0.6349 -  - ETA: 0s - loss: 0.6287 - mse: 0.6287 - mae:\n",
      "Epoch 52/150\n",
      "10247/10247 [==============================] - 2s 208us/step - loss: 0.6269 - mse: 0.6269 - mae: 0.5442 - val_loss: 1.0415 - val_mse: 1.0415 - val_mae: 0.5584 0.6040 - mse: 0.6040 - mae: 0.53 - ETA: 0s - loss: 0.6250 - mse: 0.6250 - mae:\n",
      "Epoch 53/150\n",
      "10247/10247 [==============================] - 2s 217us/step - loss: 0.6101 - mse: 0.6101 - mae: 0.5397 - val_loss: 1.0484 - val_mse: 1.0484 - val_mae: 0.5601\n",
      "Epoch 54/150\n",
      "10247/10247 [==============================] - 2s 219us/step - loss: 0.6203 - mse: 0.6203 - mae: 0.5413 - val_loss: 1.0178 - val_mse: 1.0178 - val_mae: 0.6177loss: 0.5793 \n",
      "Epoch 55/150\n",
      "10247/10247 [==============================] - 2s 229us/step - loss: 0.6002 - mse: 0.6002 - mae: 0.5371 - val_loss: 1.0010 - val_mse: 1.0010 - val_mae: 0.5791\n",
      "Epoch 56/150\n",
      "10247/10247 [==============================] - 2s 219us/step - loss: 0.6051 - mse: 0.6051 - mae: 0.5393 - val_loss: 0.9977 - val_mse: 0.9977 - val_mae: 0.5750\n",
      "Epoch 57/150\n",
      "10247/10247 [==============================] - 2s 216us/step - loss: 0.6095 - mse: 0.6095 - mae: 0.5399 - val_loss: 0.9680 - val_mse: 0.9680 - val_mae: 0.5666ss: 0.6095 - mse: 0.6095 - mae: 0.53\n",
      "Epoch 58/150\n",
      "10247/10247 [==============================] - 2s 208us/step - loss: 0.5895 - mse: 0.5895 - mae: 0.5293 - val_loss: 0.9853 - val_mse: 0.9853 - val_mae: 0.5845\n",
      "Epoch 59/150\n",
      "10247/10247 [==============================] - 2s 213us/step - loss: 0.6089 - mse: 0.6089 - mae: 0.5364 - val_loss: 0.9759 - val_mse: 0.9759 - val_mae: 0.5877\n",
      "Epoch 60/150\n",
      "10247/10247 [==============================] - 2s 215us/step - loss: 0.6008 - mse: 0.6008 - mae: 0.5329 - val_loss: 0.9926 - val_mse: 0.9926 - val_mae: 0.5946\n",
      "Epoch 61/150\n",
      "10247/10247 [==============================] - 2s 232us/step - loss: 0.5953 - mse: 0.5953 - mae: 0.5328 - val_loss: 0.9889 - val_mse: 0.9889 - val_mae: 0.6017\n",
      "Epoch 62/150\n",
      "10247/10247 [==============================] - 2s 229us/step - loss: 0.5983 - mse: 0.5983 - mae: 0.5305 - val_loss: 1.0418 - val_mse: 1.0418 - val_mae: 0.6138\n",
      "Epoch 63/150\n",
      "10247/10247 [==============================] - 2s 213us/step - loss: 0.5986 - mse: 0.5986 - mae: 0.5287 - val_loss: 1.0218 - val_mse: 1.0218 - val_mae: 0.5703\n",
      "Epoch 64/150\n",
      "10247/10247 [==============================] - 2s 213us/step - loss: 0.5905 - mse: 0.5905 - mae: 0.5306 - val_loss: 1.0228 - val_mse: 1.0228 - val_mae: 0.5507loss: 0.5936 - mse: 0.5936 - mae: - ETA: 0s - loss: 0.5854 - mse: 0.5854 - mae: 0.52\n",
      "Epoch 65/150\n",
      "10247/10247 [==============================] - 2s 210us/step - loss: 0.5820 - mse: 0.5820 - mae: 0.5261 - val_loss: 0.9785 - val_mse: 0.9785 - val_mae: 0.6003\n",
      "Epoch 66/150\n",
      "10247/10247 [==============================] - 2s 212us/step - loss: 0.5814 - mse: 0.5814 - mae: 0.5227 - val_loss: 0.9958 - val_mse: 0.9958 - val_mae: 0.5861\n",
      "Epoch 67/150\n",
      "10247/10247 [==============================] - 2s 212us/step - loss: 0.5809 - mse: 0.5809 - mae: 0.5211 - val_loss: 1.0156 - val_mse: 1.0156 - val_mae: 0.6025\n",
      "Epoch 68/150\n",
      "10247/10247 [==============================] - 2s 212us/step - loss: 0.5693 - mse: 0.5693 - mae: 0.5166 - val_loss: 1.0269 - val_mse: 1.0269 - val_mae: 0.5847: 0.5732 - mse: 0.57\n",
      "Epoch 69/150\n",
      "10247/10247 [==============================] - 2s 217us/step - loss: 0.5652 - mse: 0.5652 - mae: 0.5132 - val_loss: 1.0526 - val_mse: 1.0526 - val_mae: 0.5978667 - mae: 0.513\n",
      "Epoch 70/150\n",
      "10247/10247 [==============================] - 2s 217us/step - loss: 0.5752 - mse: 0.5752 - mae: 0.5213 - val_loss: 1.0174 - val_mse: 1.0174 - val_mae: 0.5827\n",
      "Epoch 71/150\n",
      "10247/10247 [==============================] - 2s 212us/step - loss: 0.5528 - mse: 0.5528 - mae: 0.5093 - val_loss: 1.0394 - val_mse: 1.0394 - val_mae: 0.6103.5508 - mse: 0.5 - ETA: 0s - loss: 0.5502 - mse: 0.5502 - mae: 0.508\n",
      "Epoch 72/150\n",
      "10247/10247 [==============================] - 2s 215us/step - loss: 0.5745 - mse: 0.5745 - mae: 0.5230 - val_loss: 0.9856 - val_mse: 0.9856 - val_mae: 0.5905\n",
      "Epoch 73/150\n",
      "10247/10247 [==============================] - 2s 211us/step - loss: 0.5525 - mse: 0.5525 - mae: 0.5116 - val_loss: 1.0521 - val_mse: 1.0521 - val_mae: 0.5585\n",
      "Epoch 74/150\n",
      "10247/10247 [==============================] - 2s 212us/step - loss: 0.5685 - mse: 0.5685 - mae: 0.5182 - val_loss: 1.0333 - val_mse: 1.0333 - val_mae: 0.5674 loss: 0.5646 - mse: 0.564\n",
      "Epoch 75/150\n",
      "10247/10247 [==============================] - ETA: 0s - loss: 0.5589 - mse: 0.5589 - mae: 0.5123- ETA: 0s - loss: 0.5629 - mse: 0.5629 - mae: 0. - 2s 207us/step - loss: 0.5586 - mse: 0.5586 - mae: 0.5123 - val_loss: 0.9988 - val_mse: 0.9988 - val_mae: 0.5468\n",
      "Epoch 76/150\n",
      "10247/10247 [==============================] - 2s 208us/step - loss: 0.5629 - mse: 0.5629 - mae: 0.5131 - val_loss: 1.0582 - val_mse: 1.0582 - val_mae: 0.5591mse: 0.5580 - mae: 0.51 - ETA: 0s - loss: 0.5627 - mse: 0.5627 - mae: 0.51\n",
      "Epoch 77/150\n",
      "10247/10247 [==============================] - 2s 207us/step - loss: 0.5502 - mse: 0.5502 - mae: 0.5074 - val_loss: 1.0299 - val_mse: 1.0299 - val_mae: 0.5876608 - mse: 0.5608  - ETA: 0s - loss: 0.5406 - mse: 0.5406 - mae: 0.50\n",
      "Epoch 78/150\n",
      "10247/10247 [==============================] - 2s 207us/step - loss: 0.5544 - mse: 0.5544 - mae: 0.5107 - val_loss: 1.0480 - val_mse: 1.0480 - val_mae: 0.5621\n",
      "Epoch 79/150\n",
      "10247/10247 [==============================] - 2s 207us/step - loss: 0.5555 - mse: 0.5555 - mae: 0.5115 - val_loss: 1.0114 - val_mse: 1.0114 - val_mae: 0.5906\n",
      "Epoch 80/150\n",
      "10247/10247 [==============================] - 2s 206us/step - loss: 0.5447 - mse: 0.5447 - mae: 0.5091 - val_loss: 1.0407 - val_mse: 1.0407 - val_mae: 0.6058\n",
      "Epoch 81/150\n",
      "10247/10247 [==============================] - 2s 207us/step - loss: 0.5422 - mse: 0.5422 - mae: 0.5027 - val_loss: 1.0386 - val_mse: 1.0386 - val_mae: 0.5833\n",
      "Epoch 82/150\n",
      "10247/10247 [==============================] - 2s 207us/step - loss: 0.5381 - mse: 0.5381 - mae: 0.5038 - val_loss: 1.0313 - val_mse: 1.0313 - val_mae: 0.5756\n",
      "Epoch 83/150\n"
     ]
    },
    {
     "name": "stdout",
     "output_type": "stream",
     "text": [
      "10247/10247 [==============================] - 2s 208us/step - loss: 0.5285 - mse: 0.5285 - mae: 0.5009 - val_loss: 1.0500 - val_mse: 1.0500 - val_mae: 0.5785\n",
      "Epoch 84/150\n",
      "10247/10247 [==============================] - 2s 213us/step - loss: 0.5380 - mse: 0.5380 - mae: 0.5014 - val_loss: 1.0001 - val_mse: 1.0001 - val_mae: 0.5677- loss: 0.5354 - mse: 0.5354 - mae: 0.500 - ETA: 0s - loss: 0.5343 - mse: 0.5343 - m\n",
      "Epoch 85/150\n",
      "10247/10247 [==============================] - 2s 207us/step - loss: 0.5333 - mse: 0.5333 - mae: 0.5021 - val_loss: 1.0510 - val_mse: 1.0510 - val_mae: 0.5815\n",
      "Epoch 86/150\n",
      "10247/10247 [==============================] - 2s 207us/step - loss: 0.5232 - mse: 0.5232 - mae: 0.4951 - val_loss: 1.0059 - val_mse: 1.0059 - val_mae: 0.5710\n",
      "Epoch 87/150\n",
      "10247/10247 [==============================] - 2s 209us/step - loss: 0.5159 - mse: 0.5159 - mae: 0.4910 - val_loss: 1.0140 - val_mse: 1.0140 - val_mae: 0.6066 loss: 0.4732 - mse: 0.4732 -  - ETA: 0s - loss: 0.5060 - mse: 0.5060 - mae:  - ETA: 0s - loss: 0.5041 - mse: 0.5041 - mae\n",
      "Epoch 88/150\n",
      "10247/10247 [==============================] - 2s 210us/step - loss: 0.5219 - mse: 0.5219 - mae: 0.4967 - val_loss: 1.0048 - val_mse: 1.0048 - val_mae: 0.5647loss: 0.4993 - mse: 0.4993  - ETA: 0s - loss: 0.5196 - mse: 0.5196 - mae: 0.49\n",
      "Epoch 89/150\n",
      "10247/10247 [==============================] - 2s 208us/step - loss: 0.5250 - mse: 0.5250 - mae: 0.4969 - val_loss: 1.0078 - val_mse: 1.0078 - val_mae: 0.5862\n",
      "Epoch 90/150\n",
      "10247/10247 [==============================] - 2s 207us/step - loss: 0.5164 - mse: 0.5164 - mae: 0.4938 - val_loss: 1.0103 - val_mse: 1.0103 - val_mae: 0.5565\n",
      "Epoch 91/150\n",
      "10247/10247 [==============================] - 2s 207us/step - loss: 0.5288 - mse: 0.5288 - mae: 0.4982 - val_loss: 1.0035 - val_mse: 1.0035 - val_mae: 0.5508\n",
      "Epoch 92/150\n",
      "10247/10247 [==============================] - 2s 210us/step - loss: 0.5231 - mse: 0.5231 - mae: 0.4927 - val_loss: 1.0168 - val_mse: 1.0168 - val_mae: 0.5728\n",
      "Epoch 93/150\n",
      "10247/10247 [==============================] - 2s 215us/step - loss: 0.5038 - mse: 0.5038 - mae: 0.4842 - val_loss: 1.0345 - val_mse: 1.0345 - val_mae: 0.5467\n",
      "Epoch 94/150\n",
      "10247/10247 [==============================] - 2s 208us/step - loss: 0.5016 - mse: 0.5016 - mae: 0.4878 - val_loss: 1.0068 - val_mse: 1.0068 - val_mae: 0.5341\n",
      "Epoch 95/150\n",
      "10247/10247 [==============================] - 2s 207us/step - loss: 0.5018 - mse: 0.5018 - mae: 0.4869 - val_loss: 0.9979 - val_mse: 0.9979 - val_mae: 0.5495\n",
      "Epoch 96/150\n",
      "10247/10247 [==============================] - 2s 206us/step - loss: 0.4885 - mse: 0.4885 - mae: 0.4804 - val_loss: 1.0078 - val_mse: 1.0078 - val_mae: 0.5541- mse: 0.4742 - mae: 0.4 - ETA: 0s - loss: 0.4815 - mse: 0.4815 - mae: \n",
      "Epoch 97/150\n",
      "10247/10247 [==============================] - 2s 207us/step - loss: 0.5049 - mse: 0.5049 - mae: 0.4870 - val_loss: 1.0184 - val_mse: 1.0184 - val_mae: 0.5775\n",
      "Epoch 98/150\n",
      "10247/10247 [==============================] - 2s 207us/step - loss: 0.4998 - mse: 0.4998 - mae: 0.4845 - val_loss: 1.0027 - val_mse: 1.0027 - val_mae: 0.5624\n",
      "Epoch 99/150\n",
      "10247/10247 [==============================] - 2s 208us/step - loss: 0.5019 - mse: 0.5019 - mae: 0.4867 - val_loss: 0.9875 - val_mse: 0.9875 - val_mae: 0.5659\n",
      "Epoch 100/150\n",
      "10247/10247 [==============================] - 2s 207us/step - loss: 0.4934 - mse: 0.4934 - mae: 0.4823 - val_loss: 0.9966 - val_mse: 0.9966 - val_mae: 0.5817 0.4856 - mse: 0.485\n",
      "Epoch 101/150\n",
      "10247/10247 [==============================] - 2s 209us/step - loss: 0.4957 - mse: 0.4957 - mae: 0.4829 - val_loss: 1.0096 - val_mse: 1.0096 - val_mae: 0.5824\n",
      "Epoch 102/150\n",
      "10247/10247 [==============================] - 2s 216us/step - loss: 0.4909 - mse: 0.4909 - mae: 0.4831 - val_loss: 0.9919 - val_mse: 0.9919 - val_mae: 0.5414loss: 0.4737 - mse: 0.4737 - mae: 0. - ETA: 1s - loss: 0.4698 - mse: 0.4698 - mae: - ETA: 0s - loss: 0.4765 - mse: 0.4765 - mae\n",
      "Epoch 103/150\n",
      "10247/10247 [==============================] - 2s 207us/step - loss: 0.4859 - mse: 0.4859 - mae: 0.4783 - val_loss: 1.0184 - val_mse: 1.0184 - val_mae: 0.5988\n",
      "Epoch 104/150\n",
      "10247/10247 [==============================] - 2s 207us/step - loss: 0.4804 - mse: 0.4804 - mae: 0.4793 - val_loss: 1.0092 - val_mse: 1.0092 - val_mae: 0.5862 0.4585 - mse: 0\n",
      "Epoch 105/150\n",
      "10247/10247 [==============================] - 2s 207us/step - loss: 0.4847 - mse: 0.4847 - mae: 0.4797 - val_loss: 1.0061 - val_mse: 1.0061 - val_mae: 0.5837\n",
      "Epoch 106/150\n",
      "10247/10247 [==============================] - 2s 209us/step - loss: 0.4732 - mse: 0.4732 - mae: 0.4717 - val_loss: 0.9947 - val_mse: 0.9947 - val_mae: 0.5497\n",
      "Epoch 107/150\n",
      "10247/10247 [==============================] - 2s 207us/step - loss: 0.4762 - mse: 0.4762 - mae: 0.4732 - val_loss: 1.0184 - val_mse: 1.0184 - val_mae: 0.54534296 - mse: 0.429\n",
      "Epoch 108/150\n",
      "10247/10247 [==============================] - 2s 212us/step - loss: 0.4758 - mse: 0.4758 - mae: 0.4743 - val_loss: 1.0070 - val_mse: 1.0070 - val_mae: 0.56679 - mse: 0.4669 - \n",
      "Epoch 109/150\n",
      "10247/10247 [==============================] - ETA: 0s - loss: 0.4743 - mse: 0.4743 - mae: 0.4728- ETA: 0s - loss: 0.4795 - mse: 0.4795 - mae:  - ETA: 0s - loss: 0.4727 - mse: 0.4727 - mae:  - 2s 211us/step - loss: 0.4753 - mse: 0.4753 - mae: 0.4730 - val_loss: 1.0125 - val_mse: 1.0125 - val_mae: 0.5700\n",
      "Epoch 110/150\n",
      "10247/10247 [==============================] - 2s 207us/step - loss: 0.4729 - mse: 0.4729 - mae: 0.4746 - val_loss: 0.9933 - val_mse: 0.9933 - val_mae: 0.5420\n",
      "Epoch 111/150\n",
      "10247/10247 [==============================] - 2s 209us/step - loss: 0.4631 - mse: 0.4631 - mae: 0.4676 - val_loss: 0.9987 - val_mse: 0.9987 - val_mae: 0.5401 0.4601 - mse: 0.4601 - mae:\n",
      "Epoch 112/150\n",
      "10247/10247 [==============================] - 2s 207us/step - loss: 0.4690 - mse: 0.4690 - mae: 0.4658 - val_loss: 0.9638 - val_mse: 0.9638 - val_mae: 0.5791\n",
      "Epoch 113/150\n",
      "10247/10247 [==============================] - 2s 207us/step - loss: 0.4701 - mse: 0.4701 - mae: 0.4694 - val_loss: 0.9805 - val_mse: 0.9805 - val_mae: 0.5466\n",
      "Epoch 114/150\n",
      "10247/10247 [==============================] - 2s 209us/step - loss: 0.4665 - mse: 0.4665 - mae: 0.4678 - val_loss: 0.9966 - val_mse: 0.9966 - val_mae: 0.5449\n",
      "Epoch 115/150\n",
      "10247/10247 [==============================] - 2s 207us/step - loss: 0.4711 - mse: 0.4711 - mae: 0.4671 - val_loss: 1.0066 - val_mse: 1.0066 - val_mae: 0.5348\n",
      "Epoch 116/150\n",
      "10247/10247 [==============================] - 2s 209us/step - loss: 0.4641 - mse: 0.4641 - mae: 0.4700 - val_loss: 0.9756 - val_mse: 0.9756 - val_mae: 0.5457\n",
      "Epoch 117/150\n",
      "10247/10247 [==============================] - 2s 209us/step - loss: 0.4619 - mse: 0.4619 - mae: 0.4656 - val_loss: 0.9640 - val_mse: 0.9640 - val_mae: 0.5537\n",
      "Epoch 118/150\n",
      "10247/10247 [==============================] - 2s 209us/step - loss: 0.4559 - mse: 0.4559 - mae: 0.4645 - val_loss: 1.0052 - val_mse: 1.0052 - val_mae: 0.5433s: 0.4531 - mse: 0.4531 - mae - ETA: 0s - loss: 0.4561 - mse: 0.4561 - mae: 0.4\n",
      "Epoch 119/150\n",
      "10247/10247 [==============================] - 2s 207us/step - loss: 0.4596 - mse: 0.4596 - mae: 0.4658 - val_loss: 0.9897 - val_mse: 0.9897 - val_mae: 0.53557 - mse: 0.4497 - mae: \n",
      "Epoch 120/150\n",
      "10247/10247 [==============================] - 2s 207us/step - loss: 0.4597 - mse: 0.4597 - mae: 0.4643 - val_loss: 0.9974 - val_mse: 0.9974 - val_mae: 0.5317loss: 0.4554 - mse: 0.4554 - mae\n",
      "Epoch 121/150\n",
      "10247/10247 [==============================] - 2s 212us/step - loss: 0.4325 - mse: 0.4325 - mae: 0.4512 - val_loss: 1.0403 - val_mse: 1.0403 - val_mae: 0.5392\n",
      "Epoch 122/150\n",
      "10247/10247 [==============================] - 2s 207us/step - loss: 0.4428 - mse: 0.4428 - mae: 0.4571 - val_loss: 0.9904 - val_mse: 0.9904 - val_mae: 0.5211\n",
      "Epoch 123/150\n",
      "10247/10247 [==============================] - 2s 207us/step - loss: 0.4494 - mse: 0.4494 - mae: 0.4571 - val_loss: 0.9811 - val_mse: 0.9811 - val_mae: 0.58500.4494 - mae: 0.457\n",
      "Epoch 124/150\n",
      "10247/10247 [==============================] - 2s 209us/step - loss: 0.4434 - mse: 0.4434 - mae: 0.4587 - val_loss: 1.0025 - val_mse: 1.0025 - val_mae: 0.5307\n",
      "Epoch 125/150\n",
      "10247/10247 [==============================] - 2s 214us/step - loss: 0.4434 - mse: 0.4434 - mae: 0.4538 - val_loss: 0.9773 - val_mse: 0.9773 - val_mae: 0.5310 - loss: 0.4376 - mse: 0.4376 - mae:\n",
      "Epoch 126/150\n",
      "10247/10247 [==============================] - ETA: 0s - loss: 0.4427 - mse: 0.4427 - mae: 0.4524- ETA: 0s - loss: 0.4409 - mse: 0.4409 - mae - 2s 209us/step - loss: 0.4409 - mse: 0.4409 - mae: 0.4522 - val_loss: 0.9478 - val_mse: 0.9478 - val_mae: 0.5412\n",
      "Epoch 127/150\n",
      "10247/10247 [==============================] - 2s 209us/step - loss: 0.4444 - mse: 0.4444 - mae: 0.4546 - val_loss: 0.9369 - val_mse: 0.9369 - val_mae: 0.5123: 0.4427 - mse: 0.\n",
      "Epoch 128/150\n",
      "10247/10247 [==============================] - 2s 209us/step - loss: 0.4320 - mse: 0.4320 - mae: 0.4523 - val_loss: 0.9509 - val_mse: 0.9509 - val_mae: 0.5353s: 0.4390 - mse: 0.4390  - ETA: 0s - loss: 0.4376 - mse: 0.4376 - mae: 0\n",
      "Epoch 129/150\n",
      "10247/10247 [==============================] - 2s 209us/step - loss: 0.4323 - mse: 0.4323 - mae: 0.4514 - val_loss: 0.9383 - val_mse: 0.9383 - val_mae: 0.5702- mse: 0.4283 - mae: 0.44\n",
      "Epoch 130/150\n",
      "10247/10247 [==============================] - 2s 207us/step - loss: 0.4390 - mse: 0.4390 - mae: 0.4508 - val_loss: 0.9585 - val_mse: 0.9585 - val_mae: 0.5388\n",
      "Epoch 131/150\n",
      "10247/10247 [==============================] - 2s 208us/step - loss: 0.4373 - mse: 0.4373 - mae: 0.4532 - val_loss: 0.9379 - val_mse: 0.9379 - val_mae: 0.5643\n",
      "Epoch 132/150\n",
      "10247/10247 [==============================] - 2s 209us/step - loss: 0.4291 - mse: 0.4291 - mae: 0.4484 - val_loss: 0.9672 - val_mse: 0.9672 - val_mae: 0.5370e: 0.4330 - mae: 0.44 - ETA: 0s - loss: 0.4282 - mse: 0.4282 - mae: 0.44\n",
      "Epoch 133/150\n",
      "10247/10247 [==============================] - 2s 207us/step - loss: 0.4313 - mse: 0.4313 - mae: 0.4524 - val_loss: 0.9273 - val_mse: 0.9273 - val_mae: 0.5304\n",
      "Epoch 134/150\n",
      "10247/10247 [==============================] - 2s 209us/step - loss: 0.4273 - mse: 0.4273 - mae: 0.4484 - val_loss: 0.9530 - val_mse: 0.9530 - val_mae: 0.5260\n",
      "Epoch 135/150\n",
      "10247/10247 [==============================] - 2s 208us/step - loss: 0.4355 - mse: 0.4355 - mae: 0.4519 - val_loss: 0.9564 - val_mse: 0.9564 - val_mae: 0.5274\n",
      "Epoch 136/150\n",
      "10247/10247 [==============================] - 2s 209us/step - loss: 0.4255 - mse: 0.4255 - mae: 0.4484 - val_loss: 0.9518 - val_mse: 0.9518 - val_mae: 0.5305\n",
      "Epoch 137/150\n",
      "10247/10247 [==============================] - 2s 212us/step - loss: 0.4197 - mse: 0.4197 - mae: 0.4421 - val_loss: 0.9640 - val_mse: 0.9640 - val_mae: 0.5301\n",
      "Epoch 138/150\n",
      "10247/10247 [==============================] - 2s 209us/step - loss: 0.4209 - mse: 0.4209 - mae: 0.4448 - val_loss: 0.9021 - val_mse: 0.9021 - val_mae: 0.5609loss: 0.4208 - mse: 0.4208 - mae: 0.443 - ETA: 0s - loss: 0.4216 - mse: 0.4216 - mae: 0.44 - ETA: 0s - loss: 0.4226 - mse: 0.4226 - \n",
      "Epoch 139/150\n",
      "10247/10247 [==============================] - 2s 209us/step - loss: 0.4214 - mse: 0.4214 - mae: 0.4463 - val_loss: 0.9531 - val_mse: 0.9531 - val_mae: 0.5278\n",
      "Epoch 140/150\n",
      "10247/10247 [==============================] - 2s 221us/step - loss: 0.4168 - mse: 0.4168 - mae: 0.4400 - val_loss: 0.9612 - val_mse: 0.9612 - val_mae: 0.5286\n",
      "Epoch 141/150\n",
      "10247/10247 [==============================] - 2s 209us/step - loss: 0.4191 - mse: 0.4191 - mae: 0.4412 - val_loss: 0.9269 - val_mse: 0.9269 - val_mae: 0.5324mse: 0.4108 - ma\n",
      "Epoch 142/150\n",
      "10247/10247 [==============================] - 2s 208us/step - loss: 0.4073 - mse: 0.4073 - mae: 0.4355 - val_loss: 0.9521 - val_mse: 0.9521 - val_mae: 0.5288\n",
      "Epoch 143/150\n",
      "10247/10247 [==============================] - 2s 208us/step - loss: 0.4231 - mse: 0.4231 - mae: 0.4449 - val_loss: 0.9376 - val_mse: 0.9376 - val_mae: 0.5578\n",
      "Epoch 144/150\n",
      "10247/10247 [==============================] - 2s 208us/step - loss: 0.4173 - mse: 0.4173 - mae: 0.4429 - val_loss: 0.9415 - val_mse: 0.9415 - val_mae: 0.5373\n",
      "Epoch 145/150\n",
      "10247/10247 [==============================] - 2s 224us/step - loss: 0.4162 - mse: 0.4162 - mae: 0.4430 - val_loss: 0.9561 - val_mse: 0.9561 - val_mae: 0.5216\n",
      "Epoch 146/150\n",
      "10247/10247 [==============================] - 2s 209us/step - loss: 0.4059 - mse: 0.4059 - mae: 0.4382 - val_loss: 0.9171 - val_mse: 0.9171 - val_mae: 0.5346\n",
      "Epoch 147/150\n",
      "10247/10247 [==============================] - 2s 208us/step - loss: 0.4002 - mse: 0.4002 - mae: 0.4346 - val_loss: 0.9449 - val_mse: 0.9449 - val_mae: 0.5356\n",
      "Epoch 148/150\n",
      "10247/10247 [==============================] - 2s 209us/step - loss: 0.4060 - mse: 0.4060 - mae: 0.4382 - val_loss: 0.9493 - val_mse: 0.9493 - val_mae: 0.5605\n",
      "Epoch 149/150\n",
      "10247/10247 [==============================] - 2s 209us/step - loss: 0.4028 - mse: 0.4028 - mae: 0.4331 - val_loss: 0.9269 - val_mse: 0.9269 - val_mae: 0.5239\n",
      "Epoch 150/150\n",
      "10247/10247 [==============================] - 2s 208us/step - loss: 0.4019 - mse: 0.4019 - mae: 0.4344 - val_loss: 0.9141 - val_mse: 0.9141 - val_mae: 0.5223- loss: 0.3736 - mse: 0.3736  - ETA: 0s - loss: 0.4067 - mse: 0.4067 - mae: 0. - ETA: 0s - loss: 0.4057 - mse: 0.4057 - mae\n",
      "EndTime : 2021-12-04 20:21:05.038664\n"
     ]
    }
   ],
   "source": [
    "optim = Adam(lr=0.0002)\n",
    "\n",
    "model.compile(loss='mse',\n",
    "\t\t      optimizer=optim,\n",
    "\t\t\t  metrics=['mse','mae'])\n",
    "\n",
    "StartTime8 = datetime.now()\n",
    "print(\"StartTime :\", StartTime8)\n",
    "with K.tf.device('/GPU:0'):\n",
    "    model_train = model.fit([train_X_cell, train_X_drug], train_y, validation_data=([test_X_cell, test_X_drug], test_y),\n",
    "                            batch_size=batch_size,epochs=training_epochs,verbose=1)\n",
    "\n",
    "EndTime8 = datetime.now()\n",
    "print(\"EndTime :\", EndTime8)"
   ]
  },
  {
   "cell_type": "code",
   "execution_count": 28,
   "metadata": {},
   "outputs": [],
   "source": [
    "import json\n",
    "from keras.models import model_from_json, load_model\n",
    "workdir = \"D://EODC-11K//Result//ODC-11K//CDRScan\"\n",
    "# Option 1: Save Weights + Architecture\n",
    "model.save_weights(workdir+ '//ODC11K_CDRScan_model_fix_v3.h5')\n",
    "with open(workdir + '//ODC11K_CDRScan_model_architecture_fix_v3.json', 'w') as f:\n",
    "    f.write(model.to_json())\n",
    "# Option 1: Load Weights + Architecture\n",
    "# with open('model_architecture.json', 'r') as f:\n",
    "#     new_model_1 = model_from_json(f.read())\n",
    "# new_model_1.load_weights('model_weights.h5')"
   ]
  },
  {
   "cell_type": "code",
   "execution_count": 29,
   "metadata": {},
   "outputs": [],
   "source": [
    "# Option 2: Save/Load the Entire Model\n",
    "from keras.models import load_model\n",
    "\n",
    "# Creates a HDF5 file 'my_model.h5'\n",
    "model.save(workdir + '//ODC11K_CNN_model_fix_2080ti_v3.h5')\n",
    "\n",
    "# Deletes the existing model\n",
    "# del model  \n",
    "\n",
    "# Returns a compiled model identical to the previous one\n",
    "# model = load_model('my_model.h5')"
   ]
  },
  {
   "cell_type": "code",
   "execution_count": 30,
   "metadata": {},
   "outputs": [
    {
     "name": "stdout",
     "output_type": "stream",
     "text": [
      "1138/1138 [==============================] - 0s 181us/step\n"
     ]
    }
   ],
   "source": [
    "test_eval = model.evaluate([test_X_cell,test_X_drug], test_label_array, verbose=1)"
   ]
  },
  {
   "cell_type": "code",
   "execution_count": 31,
   "metadata": {},
   "outputs": [
    {
     "data": {
      "text/plain": [
       "[0.9141475176455057, 0.9141474366188049, 0.5222866535186768]"
      ]
     },
     "execution_count": 31,
     "metadata": {},
     "output_type": "execute_result"
    }
   ],
   "source": [
    "test_eval"
   ]
  },
  {
   "cell_type": "code",
   "execution_count": 32,
   "metadata": {},
   "outputs": [],
   "source": [
    "accuracy = model_train.history['mse']\n",
    "val_accuracy = model_train.history['val_mse']\n",
    "loss = model_train.history['loss']\n",
    "val_loss = model_train.history['val_loss']\n",
    "\n",
    "np_acc = np.array(accuracy)\n",
    "np_val_acc = np.array(val_accuracy)\n",
    "np_loss = np.array(loss)\n",
    "np_val_loss = np.array(val_loss)"
   ]
  },
  {
   "cell_type": "code",
   "execution_count": 33,
   "metadata": {},
   "outputs": [],
   "source": [
    "import matplotlib\n",
    "from matplotlib import pyplot as plt"
   ]
  },
  {
   "cell_type": "code",
   "execution_count": 34,
   "metadata": {},
   "outputs": [
    {
     "data": {
      "image/png": "[encoded data removed]",
      "text/plain": [
       "<Figure size 432x288 with 1 Axes>"
      ]
     },
     "metadata": {
      "needs_background": "light"
     },
     "output_type": "display_data"
    },
    {
     "data": {
      "image/png": "[encoded data removed]",
      "text/plain": [
       "<Figure size 432x288 with 1 Axes>"
      ]
     },
     "metadata": {
      "needs_background": "light"
     },
     "output_type": "display_data"
    }
   ],
   "source": [
    "# accuracy = model_train.history['acc']\n",
    "# val_accuracy = model_train.history['val_acc']\n",
    "# loss = model_train.history['loss']\n",
    "# val_loss = model_train.history['val_loss']\n",
    "epochs = range(len(accuracy))\n",
    "plt.plot(epochs, accuracy, 'bo', label='Training mse',c='red')\n",
    "plt.plot(epochs, val_accuracy, 'b', label='Validation mse',c='red')\n",
    "plt.title('Training and validation mse')\n",
    "plt.legend()\n",
    "plt.figure()\n",
    "plt.plot(epochs, loss, 'bo', label='Training loss',c='red')\n",
    "plt.plot(epochs, val_loss, 'b', label='Validation loss',c='red')\n",
    "plt.title('Training and validation loss')\n",
    "plt.legend()\n",
    "plt.show()"
   ]
  },
  {
   "cell_type": "code",
   "execution_count": 35,
   "metadata": {},
   "outputs": [],
   "source": [
    "predicted_classes = model.predict([test_X_cell,test_X_drug])"
   ]
  },
  {
   "cell_type": "code",
   "execution_count": 36,
   "metadata": {},
   "outputs": [],
   "source": [
    "predicted_value = predicted_classes"
   ]
  },
  {
   "cell_type": "code",
   "execution_count": 37,
   "metadata": {},
   "outputs": [],
   "source": [
    "a = pd.DataFrame(predicted_value)\n",
    "b = pd.DataFrame(test_label_array)\n",
    "c = pd.concat([a,b], axis=1)\n",
    "c.columns=[\"Predicted\",\"Test\"]"
   ]
  },
  {
   "cell_type": "code",
   "execution_count": 38,
   "metadata": {},
   "outputs": [],
   "source": [
    "c.to_csv(workdir + '//ODC11K_CDRScan_pred_obs_table.csv')"
   ]
  },
  {
   "cell_type": "code",
   "execution_count": 39,
   "metadata": {},
   "outputs": [
    {
     "data": {
      "text/html": [
       "<div>\n",
       "<style scoped>\n",
       "    .dataframe tbody tr th:only-of-type {\n",
       "        vertical-align: middle;\n",
       "    }\n",
       "\n",
       "    .dataframe tbody tr th {\n",
       "        vertical-align: top;\n",
       "    }\n",
       "\n",
       "    .dataframe thead th {\n",
       "        text-align: right;\n",
       "    }\n",
       "</style>\n",
       "<table border=\"1\" class=\"dataframe\">\n",
       "  <thead>\n",
       "    <tr style=\"text-align: right;\">\n",
       "      <th></th>\n",
       "      <th>Predicted</th>\n",
       "      <th>Test</th>\n",
       "    </tr>\n",
       "  </thead>\n",
       "  <tbody>\n",
       "    <tr>\n",
       "      <th>0</th>\n",
       "      <td>1.932220</td>\n",
       "      <td>2.079442</td>\n",
       "    </tr>\n",
       "    <tr>\n",
       "      <th>1</th>\n",
       "      <td>1.986228</td>\n",
       "      <td>2.079442</td>\n",
       "    </tr>\n",
       "    <tr>\n",
       "      <th>2</th>\n",
       "      <td>-3.170368</td>\n",
       "      <td>-3.747924</td>\n",
       "    </tr>\n",
       "    <tr>\n",
       "      <th>3</th>\n",
       "      <td>2.026366</td>\n",
       "      <td>2.079442</td>\n",
       "    </tr>\n",
       "    <tr>\n",
       "      <th>4</th>\n",
       "      <td>0.675293</td>\n",
       "      <td>-0.114399</td>\n",
       "    </tr>\n",
       "    <tr>\n",
       "      <th>...</th>\n",
       "      <td>...</td>\n",
       "      <td>...</td>\n",
       "    </tr>\n",
       "    <tr>\n",
       "      <th>1133</th>\n",
       "      <td>1.822054</td>\n",
       "      <td>2.079442</td>\n",
       "    </tr>\n",
       "    <tr>\n",
       "      <th>1134</th>\n",
       "      <td>2.104333</td>\n",
       "      <td>2.079442</td>\n",
       "    </tr>\n",
       "    <tr>\n",
       "      <th>1135</th>\n",
       "      <td>-2.987388</td>\n",
       "      <td>-2.327235</td>\n",
       "    </tr>\n",
       "    <tr>\n",
       "      <th>1136</th>\n",
       "      <td>1.933499</td>\n",
       "      <td>2.079442</td>\n",
       "    </tr>\n",
       "    <tr>\n",
       "      <th>1137</th>\n",
       "      <td>1.964685</td>\n",
       "      <td>2.079442</td>\n",
       "    </tr>\n",
       "  </tbody>\n",
       "</table>\n",
       "<p>1138 rows × 2 columns</p>\n",
       "</div>"
      ],
      "text/plain": [
       "      Predicted      Test\n",
       "0      1.932220  2.079442\n",
       "1      1.986228  2.079442\n",
       "2     -3.170368 -3.747924\n",
       "3      2.026366  2.079442\n",
       "4      0.675293 -0.114399\n",
       "...         ...       ...\n",
       "1133   1.822054  2.079442\n",
       "1134   2.104333  2.079442\n",
       "1135  -2.987388 -2.327235\n",
       "1136   1.933499  2.079442\n",
       "1137   1.964685  2.079442\n",
       "\n",
       "[1138 rows x 2 columns]"
      ]
     },
     "execution_count": 39,
     "metadata": {},
     "output_type": "execute_result"
    }
   ],
   "source": [
    "c"
   ]
  },
  {
   "cell_type": "code",
   "execution_count": 40,
   "metadata": {},
   "outputs": [
    {
     "data": {
      "text/plain": [
       "(1138, 1)"
      ]
     },
     "execution_count": 40,
     "metadata": {},
     "output_type": "execute_result"
    }
   ],
   "source": [
    "predicted_value.shape"
   ]
  },
  {
   "cell_type": "code",
   "execution_count": 41,
   "metadata": {},
   "outputs": [
    {
     "data": {
      "text/plain": [
       "LinregressResult(slope=0.8058910605572851, intercept=0.19146422063814672, rvalue=0.8617718938471429, pvalue=0.0, stderr=0.014075254644163484)"
      ]
     },
     "execution_count": 41,
     "metadata": {},
     "output_type": "execute_result"
    }
   ],
   "source": [
    "from scipy.stats import linregress\n",
    "linregress(b[0], a[0])"
   ]
  },
  {
   "cell_type": "code",
   "execution_count": 42,
   "metadata": {},
   "outputs": [
    {
     "name": "stdout",
     "output_type": "stream",
     "text": [
      "0.7372624101452128\n"
     ]
    }
   ],
   "source": [
    "from sklearn.metrics import r2_score\n",
    "r2_value = r2_score(b,a)\n",
    "print(r2_value)"
   ]
  },
  {
   "cell_type": "code",
   "execution_count": 43,
   "metadata": {},
   "outputs": [
    {
     "name": "stdout",
     "output_type": "stream",
     "text": [
      "Final rmse value is = 0.9561105876354807\n"
     ]
    }
   ],
   "source": [
    "rse = ((b[0]-a[0])**2).sum()\n",
    "mse = rse / len(b)\n",
    "print(\"Final rmse value is =\",np.sqrt(mse))"
   ]
  },
  {
   "cell_type": "code",
   "execution_count": 44,
   "metadata": {},
   "outputs": [
    {
     "data": {
      "image/png": "[encoded data removed]",
      "text/plain": [
       "<Figure size 432x432 with 3 Axes>"
      ]
     },
     "metadata": {
      "needs_background": "light"
     },
     "output_type": "display_data"
    }
   ],
   "source": [
    "workdir = \"D://EODC-11K//Result//Fig_ODC-11K\"\n",
    "import seaborn as sns\n",
    "\n",
    "g = sns.jointplot(x=\"Test\", y=\"Predicted\", data=c, kind='reg', color='#7C7C7C',\n",
    "                  joint_kws={'line_kws':{'color':'black'}})\n",
    "g.savefig(workdir+ '//ODC11K_CDRScan.png', dpi=300)"
   ]
  },
  {
   "cell_type": "code",
   "execution_count": null,
   "metadata": {},
   "outputs": [],
   "source": []
  },
  {
   "cell_type": "code",
   "execution_count": null,
   "metadata": {},
   "outputs": [],
   "source": []
  }
 ],
 "metadata": {
  "kernelspec": {
   "display_name": "Python 3",
   "language": "python",
   "name": "python3"
  },
  "language_info": {
   "codemirror_mode": {
    "name": "ipython",
    "version": 3
   },
   "file_extension": ".py",
   "mimetype": "text/x-python",
   "name": "python",
   "nbconvert_exporter": "python",
   "pygments_lexer": "ipython3",
   "version": "3.6.9"
  }
 },
 "nbformat": 4,
 "nbformat_minor": 2
}
