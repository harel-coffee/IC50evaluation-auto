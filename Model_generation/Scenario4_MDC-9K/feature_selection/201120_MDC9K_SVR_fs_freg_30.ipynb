{
 "cells": [
  {
   "cell_type": "code",
   "execution_count": 1,
   "metadata": {},
   "outputs": [],
   "source": [
    "import os\n",
    "import pandas as pd\n",
    "import numpy as np\n",
    "import random\n",
    "from pandas import DataFrame\n",
    "from datetime import datetime\n",
    "\n",
    "workdir = \"D://DrugResponsivenessGuideline_log//Dataset//EDC_EYDC_MDC_regen\""
   ]
  },
  {
   "cell_type": "code",
   "execution_count": 2,
   "metadata": {},
   "outputs": [],
   "source": [
    "# < Important note > [ Please download input data from https://mega.nz/#F!CeYGDKyS!uqkmWJ4E2XSGJp_C2VO2gg]\n",
    "# IC50evaluation//Dataset//Scenario6_MDC-9K_minmax\n",
    "\n",
    "dataset = np.load(workdir + \"//MDC9K_dataset.npz\") # input file\n",
    "ss0 = np.load(workdir + '//MDC9K_dataset_r0_9_1.npz') # split for training and test"
   ]
  },
  {
   "cell_type": "code",
   "execution_count": 3,
   "metadata": {},
   "outputs": [],
   "source": [
    "x = dataset['x']\n",
    "y = dataset['y']\n",
    "# y_linear = dataset['y_lnIC50']\n",
    "ss0_train = ss0['train']\n",
    "ss0_test = ss0['test']"
   ]
  },
  {
   "cell_type": "code",
   "execution_count": 4,
   "metadata": {},
   "outputs": [],
   "source": [
    "training_image_array, training_label_array = x[ss0_train], y[ss0_train]\n",
    "test_image_array, test_label_array = x[ss0_test], y[ss0_test]\n",
    "\n",
    "# # In[9]:\n",
    "# ori = training_image_array\n",
    "# bat = np.zeros((ori.shape[0],178))\n",
    "# cat = np.hstack([ori,bat])\n",
    "# training_image_array = cat\n",
    "\n",
    "# # In[8]:\n",
    "# training_image_array.shape\n",
    "\n",
    "# # In[10]:\n",
    "# ori2 = test_image_array\n",
    "# bat2 = np.zeros((ori2.shape[0],178))\n",
    "# cat2 = np.hstack([ori2,bat2])\n",
    "# test_image_array = cat2\n"
   ]
  },
  {
   "cell_type": "code",
   "execution_count": 5,
   "metadata": {},
   "outputs": [
    {
     "name": "stdout",
     "output_type": "stream",
     "text": [
      "1 1\n"
     ]
    }
   ],
   "source": [
    "# In[15]:\n",
    "ab =[]\n",
    "for i in range(50,100):\n",
    "    ab.append(len(training_image_array) % i)\n",
    "    \n",
    "print(min(ab), ab.index(min(ab)))"
   ]
  },
  {
   "cell_type": "code",
   "execution_count": 6,
   "metadata": {},
   "outputs": [
    {
     "data": {
      "text/plain": [
       "(8727, 23538)"
      ]
     },
     "execution_count": 6,
     "metadata": {},
     "output_type": "execute_result"
    }
   ],
   "source": [
    "x.shape"
   ]
  },
  {
   "cell_type": "code",
   "execution_count": 7,
   "metadata": {},
   "outputs": [
    {
     "data": {
      "text/plain": [
       "(7855, 23538)"
      ]
     },
     "execution_count": 7,
     "metadata": {},
     "output_type": "execute_result"
    }
   ],
   "source": [
    "training_image_array.shape"
   ]
  },
  {
   "cell_type": "code",
   "execution_count": 8,
   "metadata": {},
   "outputs": [],
   "source": [
    "train_X, train_y, test_X, test_y = training_image_array, training_label_array, test_image_array, test_label_array\n",
    "\n",
    "# if K.image_data_format() == 'channels_first':\n",
    "#     train_X = train_X.reshape(train_X.shape[0], 1, img_rows, img_cols)\n",
    "#     test_X = test_X.reshape(x_test.shape[0], 1, img_rows, img_cols)\n",
    "#     input_shape = (1, img_rows, img_cols)\n",
    "# else:\n",
    "#     train_X = train_X.reshape(train_X.shape[0], img_rows, img_cols, 1)\n",
    "#     test_X = test_X.reshape(test_X.shape[0], img_rows, img_cols, 1)\n",
    "#     input_shape = (img_rows, img_cols, 1)\n"
   ]
  },
  {
   "cell_type": "code",
   "execution_count": 9,
   "metadata": {},
   "outputs": [],
   "source": [
    "# train_X = train_X.reshape(train_X.shape[0], train_X.shape[1], 1)\n",
    "# test_X = test_X.reshape(test_X.shape[0], test_X.shape[1], 1)\n",
    "# #input_shape = (img_rows, img_cols, 1)"
   ]
  },
  {
   "cell_type": "code",
   "execution_count": 10,
   "metadata": {},
   "outputs": [
    {
     "name": "stdout",
     "output_type": "stream",
     "text": [
      "(7855, 23538) (7855,) (872, 23538) (872,)\n"
     ]
    }
   ],
   "source": [
    "print(train_X.shape, train_y.shape, test_X.shape, test_y.shape)"
   ]
  },
  {
   "cell_type": "code",
   "execution_count": 11,
   "metadata": {},
   "outputs": [],
   "source": [
    "inds = np.where(np.isnan(test_X))"
   ]
  },
  {
   "cell_type": "code",
   "execution_count": 12,
   "metadata": {},
   "outputs": [
    {
     "data": {
      "text/plain": [
       "(array([], dtype=int64), array([], dtype=int64))"
      ]
     },
     "execution_count": 12,
     "metadata": {},
     "output_type": "execute_result"
    }
   ],
   "source": [
    "inds"
   ]
  },
  {
   "cell_type": "code",
   "execution_count": 13,
   "metadata": {},
   "outputs": [],
   "source": [
    "# The proportion of feature selection\n",
    "perc = 30"
   ]
  },
  {
   "cell_type": "code",
   "execution_count": 14,
   "metadata": {},
   "outputs": [
    {
     "name": "stdout",
     "output_type": "stream",
     "text": [
      "2020-11-22 22:49:54.611732\n"
     ]
    },
    {
     "name": "stderr",
     "output_type": "stream",
     "text": [
      "C:\\Users\\ylab\\AppData\\Local\\conda\\conda\\envs\\ronny\\lib\\site-packages\\sklearn\\feature_selection\\_univariate_selection.py:299: RuntimeWarning: invalid value encountered in true_divide\n",
      "  corr /= X_norms\n",
      "C:\\Users\\ylab\\AppData\\Local\\conda\\conda\\envs\\ronny\\lib\\site-packages\\scipy\\stats\\_distn_infrastructure.py:1932: RuntimeWarning: invalid value encountered in less_equal\n",
      "  cond2 = cond0 & (x <= _a)\n"
     ]
    },
    {
     "name": "stdout",
     "output_type": "stream",
     "text": [
      "2020-11-22 22:49:55.473461\n"
     ]
    },
    {
     "data": {
      "text/plain": [
       "(872, 7061)"
      ]
     },
     "execution_count": 14,
     "metadata": {},
     "output_type": "execute_result"
    }
   ],
   "source": [
    "# In[10]:\n",
    "\n",
    "\n",
    "# Feature selection using f-regression\n",
    "from sklearn.feature_selection import f_regression\n",
    "from sklearn.feature_selection import SelectKBest, SelectFdr, SelectPercentile, SelectFromModel\n",
    "\n",
    "# selection the percentile feature\n",
    "\n",
    "Starttime = datetime.now()\n",
    "print(Starttime)\n",
    "\n",
    "sel = SelectPercentile(f_regression, percentile=perc).fit(train_X, train_y)\n",
    "Endtime = datetime.now()\n",
    "print(Endtime)\n",
    "train_X = sel.transform(train_X)\n",
    "train_X.shape\n",
    "\n",
    "test_X = sel.transform(test_X)\n",
    "test_X.shape\n",
    "# In[11]:\n"
   ]
  },
  {
   "cell_type": "code",
   "execution_count": 15,
   "metadata": {},
   "outputs": [
    {
     "name": "stdout",
     "output_type": "stream",
     "text": [
      "train_X shape: (7855, 7061)\n",
      "7855 train samples\n",
      "872 test samples\n"
     ]
    }
   ],
   "source": [
    "train_X = train_X.astype('float32')\n",
    "test_X = test_X.astype('float32')\n",
    "# train_X /= 255\n",
    "# test_X /= 255\n",
    "print('train_X shape:', train_X.shape)\n",
    "print(train_X.shape[0], 'train samples')\n",
    "print(test_X.shape[0], 'test samples')"
   ]
  },
  {
   "cell_type": "code",
   "execution_count": 16,
   "metadata": {},
   "outputs": [],
   "source": [
    "import numpy as np\n",
    "from sklearn.svm import SVR\n",
    "import matplotlib.pyplot as plt\n",
    "\n",
    "# #############################################################################\n",
    "# Fit regression model\n",
    "svr_lin = SVR(C=0.01)\n",
    "y_lin = svr_lin.fit(train_X, train_y).predict(test_X)\n"
   ]
  },
  {
   "cell_type": "code",
   "execution_count": 17,
   "metadata": {},
   "outputs": [],
   "source": [
    "import matplotlib\n",
    "from matplotlib import pyplot as plt"
   ]
  },
  {
   "cell_type": "code",
   "execution_count": 18,
   "metadata": {},
   "outputs": [
    {
     "data": {
      "text/plain": [
       "array([ 1.64190744,  1.98596878,  1.78658975,  1.70110718,  1.59301728,\n",
       "        1.96408693,  1.5946689 ,  1.59245244,  1.98565358,  1.95444473,\n",
       "        1.86852105,  1.99923634,  1.98730728,  1.98044882,  1.95283247,\n",
       "        0.25311052,  1.94362026,  0.39435971,  1.7010862 ,  1.91817901,\n",
       "        1.91319952,  1.98478073,  1.97362909,  1.98730728, -0.43530655,\n",
       "        1.59200397,  1.9829914 ,  0.238779  ,  1.92587282,  0.23986839,\n",
       "        1.96242924,  0.71945083,  1.98929937,  1.98932739,  1.70733111,\n",
       "        0.38316405,  2.00963011,  1.97114366,  1.83018789,  1.64358583,\n",
       "        1.95490376,  1.9758458 ,  1.97448951,  1.69589765,  1.98107009,\n",
       "        1.96674927,  1.97233369,  1.64474573,  1.99003251,  1.98372155,\n",
       "       -0.66920966,  1.99902571,  1.97307187, -0.52126354,  1.96787842,\n",
       "        1.59151134, -0.24171109,  2.00783541,  1.99622019,  1.866701  ,\n",
       "        1.98250656,  1.97360349,  1.83033164,  0.23398921,  1.86365805,\n",
       "        1.96225579,  1.56652756,  1.97395525,  1.9596978 ,  1.56509885,\n",
       "        1.58900764,  1.95780872,  1.98021766,  1.98850022,  1.97418659,\n",
       "        0.24291668,  1.97813976,  1.97662698,  0.17194245,  1.70023711,\n",
       "        1.70755049,  1.80992844,  1.99121196,  1.84185511,  1.95903488,\n",
       "        0.16503453,  0.60532994,  1.60474847,  1.58654201,  1.63750637,\n",
       "        1.98260914,  1.60420722,  1.97908984,  1.95161444,  1.85939494,\n",
       "        1.96321874,  1.60344338,  1.97552342,  1.58776204,  1.83387022,\n",
       "        1.69962509,  1.80291926,  1.59366607,  0.27554919,  1.96446652,\n",
       "        1.91131457,  1.96185705,  1.96486268,  1.94612324,  1.98699673,\n",
       "        2.00626241,  1.80396476,  1.98812695,  0.20407867,  1.98983724,\n",
       "        0.41543683,  1.95382102,  1.87276003,  1.91661313,  1.82570666,\n",
       "        1.76181303,  0.21343936,  0.27117104,  1.98575865,  1.64564557,\n",
       "        1.91323963,  0.18599027,  1.98983724,  1.98464266,  1.8605629 ,\n",
       "        1.9876762 ,  1.83276411,  1.91405589,  1.98350358,  1.84315419,\n",
       "        1.94788233,  1.96480465,  1.9814336 ,  1.96911579,  1.97288129,\n",
       "        1.98484126, -0.2531845 ,  1.95312074,  1.97014028,  1.58904377,\n",
       "        0.5546709 ,  0.24452838,  0.55723813,  1.97250165,  1.80724516,\n",
       "        1.96787903,  1.97329465,  1.99170939,  1.99490236, -0.33645243,\n",
       "        1.95902258,  1.64558481,  1.64672492,  1.72271211,  1.98368459,\n",
       "        0.04779156,  1.7140381 , -0.5747465 ,  1.98792315,  1.98069309,\n",
       "        1.84918238,  1.83049484,  1.98403603,  1.81537058,  0.16033281,\n",
       "        1.97233292,  1.95602417,  1.97777768,  1.95603927,  1.84918238,\n",
       "        1.83704551,  1.59912279,  1.98246534, -0.66880272,  1.6430869 ,\n",
       "        1.99389197,  1.9851869 ,  0.20159906,  1.98583277,  1.7140381 ,\n",
       "        1.98445462,  0.43751997,  1.98258146,  0.55655653,  0.43368254,\n",
       "        1.92782692,  0.18826376,  0.76361125,  1.97144256,  1.98562087,\n",
       "       -0.68527641,  1.98018832,  1.64497006,  1.94663172,  2.01379394,\n",
       "        1.9856714 ,  1.95497084,  0.57871642,  1.97445335,  1.99003752,\n",
       "        1.973672  ,  1.98464266,  1.97879989,  0.19923983,  0.58126003,\n",
       "        1.97604107,  1.80670163,  0.44200014,  1.84501342,  1.9635198 ,\n",
       "        1.7121512 ,  1.98055817,  1.89878983,  1.95661078,  1.99259175,\n",
       "       -0.67986498,  1.98589835,  0.57719207,  1.60477358,  1.98290262,\n",
       "        1.5868201 ,  1.98950368,  1.59809748,  1.82722031,  0.61236235,\n",
       "        1.98983724,  1.96346577,  1.82589508,  1.74684618,  1.9677261 ,\n",
       "        1.71147171,  1.98713255,  0.60988964,  0.19546993,  1.5659346 ,\n",
       "        1.64672492,  1.99476049,  1.95425613,  1.58306521,  1.87332481,\n",
       "        1.59525831,  1.98063465,  1.84033789,  1.7102382 ,  1.56177904,\n",
       "        1.7026686 ,  1.87675111,  1.98704717,  0.19713397,  1.96241785,\n",
       "        1.5932745 ,  1.95449078,  1.71282909,  1.84689784,  0.40643288,\n",
       "        1.98586141,  1.98332363,  1.97588276,  1.99177702,  1.98177831,\n",
       "        1.97564885,  1.8395242 ,  1.63424715,  0.23318245,  1.6953782 ,\n",
       "        1.97581304,  1.94776157,  2.00745623,  1.99005539,  1.98323241,\n",
       "        1.95859863,  1.709855  ,  1.89625013,  1.98427334,  1.59239951,\n",
       "        1.96124244,  1.90916474,  1.9894105 ,  0.58997474,  1.97029157,\n",
       "        1.70505566,  1.9859363 ,  1.96646857,  1.68363535,  1.94648962,\n",
       "        1.99145388,  0.16033281,  0.19323562,  1.84878843,  1.8126283 ,\n",
       "        1.97028131,  1.99145388,  0.31864095,  1.99902571,  1.95500805,\n",
       "        1.61206203, -0.68070341,  1.83907476,  0.75452862, -0.59126335,\n",
       "        1.97852544,  0.56177551,  1.89563289,  1.92317297,  1.98101889,\n",
       "        1.98191413,  1.97488324,  1.99703239,  1.99099735,  1.5912497 ,\n",
       "        1.98972698,  1.98562807,  1.9640274 ,  1.97610511,  1.98266519,\n",
       "        1.96018739,  1.9595581 ,  0.57661136,  1.92421543,  0.29488699,\n",
       "        1.84616937,  1.98464266,  1.91698232,  0.66976466,  1.64335468,\n",
       "        1.98577599,  1.96909143,  1.84918238,  1.5913739 ,  1.96905724,\n",
       "        1.60434198,  1.8474136 ,  0.19520418,  1.58006088,  0.61198147,\n",
       "        1.97451466,  1.95915342,  1.99648667,  1.984163  ,  1.98767664,\n",
       "        1.96940377,  1.93308601,  1.8238715 ,  1.96346364,  1.99740654,\n",
       "        1.59284244,  1.64277329,  1.97230472, -0.25646247,  0.29486666,\n",
       "        1.7119734 ,  1.99054323,  1.83932825,  1.98246953,  0.16732315,\n",
       "        1.99250015,  1.95547569,  1.97425562,  1.74818521,  1.62974507,\n",
       "        1.95791665,  1.96882343,  1.98621245, -0.64012251,  1.79647666,\n",
       "        1.82715965,  0.40659659,  2.00632256,  0.23716674,  1.98254303,\n",
       "        2.00546754,  1.99410944,  1.97531424,  1.99101854,  1.60402748,\n",
       "        1.98628005,  1.91285437,  1.82406206, -0.67463575,  1.8097216 ,\n",
       "        2.01266754,  1.98962432,  0.19501354,  1.94759617,  1.94948543,\n",
       "        0.23892734,  1.99211917,  1.98477786,  1.88045166,  1.98287788,\n",
       "        1.7140381 ,  1.73429094,  1.98591192,  1.94488771,  1.60138071,\n",
       "        1.95423278,  1.95338677,  1.95907641,  1.99275   ,  1.97886878,\n",
       "        1.87617331,  1.99128821,  0.31351792,  1.95845493,  1.98155005,\n",
       "        1.97073211,  1.70504614,  1.94843602,  1.96414015,  1.82669688,\n",
       "        1.98367794,  1.7024856 ,  1.98730728,  1.79190466,  0.70842585,\n",
       "        1.64134963,  1.98689755,  1.92022634,  1.99062748,  0.19663094,\n",
       "        1.5969108 ,  1.98713307,  1.98464266,  1.95540443,  1.98535637,\n",
       "        1.98102617,  1.97172154,  1.76970631,  1.97705119,  1.91245582,\n",
       "        1.97910798,  1.90748774,  1.82630954,  1.99307549,  1.96739345,\n",
       "        1.97196941,  1.98177941,  1.59820254,  1.6034076 ,  1.68608733,\n",
       "        1.70885773,  1.98373409,  0.25928152,  0.41660735,  1.97222753,\n",
       "        1.97279384,  1.98779971,  2.01192435,  1.9846565 ,  1.96982123,\n",
       "        1.93842223,  0.55966291,  1.63298703,  1.98720376,  1.64672492,\n",
       "        1.90385422,  1.95701504,  0.23634611,  1.59368708,  1.63776102,\n",
       "        1.98983803,  1.98523765,  0.22899589,  1.98964905,  1.64172568,\n",
       "        1.83851579,  1.60443175,  1.96936606,  1.98983724,  1.84355733,\n",
       "        1.98255791,  1.98215727,  1.85819348,  1.9860814 ,  1.96690879,\n",
       "        1.94364045,  1.98343498, -0.61315772,  1.8192593 ,  1.94322755,\n",
       "        1.98491534,  1.70897743,  1.78130812,  1.97744764,  1.9864098 ,\n",
       "        0.22232557,  1.59433191,  1.75570826,  1.95946503,  0.62367838,\n",
       "        1.95641328,  1.9706303 ,  2.01121074,  1.96812696,  1.96516246,\n",
       "        1.88175684,  1.60492355,  1.58831309,  1.9710816 ,  1.90881325,\n",
       "        1.97376838,  1.98514459,  1.60426821,  1.82882031, -0.60385111,\n",
       "        1.98095826,  0.18877003,  1.98631824,  0.3083257 ,  1.98845686,\n",
       "        0.56356452,  1.90055764,  1.98420525,  0.5716238 ,  1.59436032,\n",
       "        1.84811051,  1.59005922,  1.97722857, -0.58914048,  1.64547208,\n",
       "        1.97422973,  1.92370144,  1.82087919,  1.97219545,  1.96262819,\n",
       "        1.95384726,  1.81261507,  1.60454392,  1.58534446,  1.95556108,\n",
       "       -0.66494922,  1.96607488,  2.00996899,  1.62560524,  1.98919718,\n",
       "        1.76349116,  1.82579549,  1.97423857,  1.97204059,  1.98730728,\n",
       "        0.44244319,  1.98789591,  1.84668791,  1.92497777, -0.62343153,\n",
       "        0.58200098,  1.98688118,  1.83071188,  1.97770527,  0.20705656,\n",
       "        1.80395463,  1.98589011,  0.55715604,  1.98147062,  1.5909825 ,\n",
       "        0.55678036,  0.56308809,  1.82000364,  1.75931323,  1.84043403,\n",
       "        1.60341072,  1.9879621 ,  2.00797474,  1.87262419,  1.63887343,\n",
       "        1.99038676,  1.94975359,  1.97822162,  1.98523541,  1.98730728,\n",
       "        0.61156737,  1.83953393,  1.60423845,  1.95443563,  0.29616266,\n",
       "        1.95570454,  1.98696423,  2.01379394,  1.60518815,  1.95143283,\n",
       "        0.19593168,  0.21922461,  1.59442669,  1.98223273,  1.78628259,\n",
       "        1.9518534 ,  1.91082104,  1.96973706,  1.98730728,  1.8234577 ,\n",
       "       -0.67506395,  1.92201361,  1.89908609,  1.9834019 ,  1.98452909,\n",
       "        2.01379394,  1.97727381,  1.82675358,  1.97920899,  2.00737919,\n",
       "        1.99212942,  1.98410084,  1.98716805,  1.98817463,  1.98092987,\n",
       "        1.97935623,  1.98219368,  0.19854878,  1.90898044,  0.28948914,\n",
       "        1.95567426,  1.64414059,  1.71079319,  1.70592013,  1.71336361,\n",
       "        1.94686029,  1.98636708,  0.42242261,  1.99766871,  1.99902571,\n",
       "        1.55269948,  1.97466372,  1.6398265 ,  1.60518815,  1.60031633,\n",
       "        1.64482234,  1.94902929,  1.97833862,  1.98057992,  1.59526064,\n",
       "        0.21808945,  1.82776907,  1.92461507,  1.98217758,  1.95632403,\n",
       "        0.58600715,  1.96801773,  1.98730728,  1.97940242,  1.71405241,\n",
       "        1.83821039,  1.8171353 ,  0.07181955,  0.60075477,  1.97917363,\n",
       "        1.97701554,  1.98771   ,  1.0905477 ,  0.59900688,  1.9742255 ,\n",
       "        1.97751771,  1.98740313,  1.70912781,  1.84918238,  1.70240291,\n",
       "        1.64592294,  1.71205128,  1.57650492,  1.60079846, -0.68527641,\n",
       "        1.6038781 ,  1.91317443,  1.9637466 ,  1.92106017,  0.41283323,\n",
       "        1.98585483,  0.20034462,  1.84592591,  0.28070914,  1.96313123,\n",
       "        1.95946439,  1.98946335,  0.62640596,  1.97657915,  1.88975289,\n",
       "        0.562671  ,  1.99089431,  1.98287122,  1.82949465,  1.9832166 ,\n",
       "        1.99027564,  1.98963762,  0.28377542,  1.5939972 ,  1.97938393,\n",
       "        0.19878741,  1.98547533,  0.56187668,  0.29569455,  1.81528984,\n",
       "        1.60518815,  1.8383276 ,  1.82350527,  0.17073923,  1.97566579,\n",
       "        1.60135458,  1.96743946,  1.98499246,  1.98839387,  1.59410919,\n",
       "       -0.57163718,  0.25481075,  1.89139871,  1.95195866,  1.98564955,\n",
       "        1.95717649,  0.20136453,  1.97009459,  1.96780227,  1.96876694,\n",
       "        1.85993374,  0.07859372,  1.8240965 ,  1.59343233,  0.2496469 ,\n",
       "        1.80455393,  1.98586016,  0.38502258,  1.97508908,  1.96336428,\n",
       "        0.44015352, -0.22289169,  1.74468116,  1.99389197,  1.96777279,\n",
       "        0.24313442,  1.98918385,  1.5912164 ,  1.69590646,  0.55471683,\n",
       "        1.96041565,  1.98220195,  1.6320076 ,  1.91729141,  1.99090844,\n",
       "        1.70010304,  1.98958643,  1.99266174, -0.28900634,  1.8322782 ,\n",
       "        1.84286656,  1.97019515,  0.2429917 ,  1.96443204,  1.63280317,\n",
       "        1.84918238,  0.2063583 ,  1.59515083, -0.56112545,  1.95672057,\n",
       "        0.19713397,  1.97972553,  1.98464266,  1.96395086,  2.01209128,\n",
       "        1.98378302,  1.99793316,  1.91682761,  0.6361188 ,  1.67261559,\n",
       "        1.60240224,  1.84387585,  1.58760784,  1.98682918,  1.96431801,\n",
       "        1.74658253,  0.23564464,  1.7140381 ,  1.64631526,  1.68167827,\n",
       "        1.97621129,  1.63122787,  1.91894609,  1.70882238,  1.98553216,\n",
       "        1.97673724,  1.59460726,  1.98339293,  1.98262716,  1.9600266 ,\n",
       "        0.20010878,  1.77590043,  1.95230315,  1.97688033,  1.97943876,\n",
       "        0.21659405,  1.92324217,  1.79397233, -0.64665731,  1.94520135,\n",
       "        1.59381776,  1.98023421,  1.92432499,  1.84918238,  1.63953161,\n",
       "        1.96219624,  1.81973962,  1.98983724,  1.96592312,  1.95838663,\n",
       "        1.64501439,  1.93284293,  1.86127093,  1.81708449,  1.59629848,\n",
       "        0.2051912 ,  1.70616787,  0.22074874,  1.99119711,  1.6924678 ,\n",
       "        1.95636694,  0.56112536,  1.95430843,  1.98272424,  0.18880596,\n",
       "        1.85987006,  1.93275629,  1.82812884,  1.91289289,  1.95948839,\n",
       "        1.80662889,  1.98326605,  2.00978772,  1.98430015,  1.98316982,\n",
       "        1.71179798,  1.81375582,  0.44340489,  1.71282386,  1.89984825,\n",
       "        1.98550516,  1.96437006,  0.19923983,  1.59403248,  0.55471683,\n",
       "        1.96090301,  1.98709506,  1.99902571, -0.47107626,  1.75696386,\n",
       "        2.00911914,  1.60518815,  1.95018602,  1.97500219,  1.98694612,\n",
       "        1.59263201,  1.59501017,  1.91887496,  1.98132894,  1.97535553,\n",
       "        1.96913407,  1.97055617, -0.67913371,  1.88167563,  1.96381673,\n",
       "        1.7140381 ,  1.90838131,  1.82454209,  1.98600654,  1.82217343,\n",
       "        1.91028722,  1.98575934,  1.60216826,  1.96205611,  1.96750594,\n",
       "        0.26944231,  1.7140381 ])"
      ]
     },
     "execution_count": 18,
     "metadata": {},
     "output_type": "execute_result"
    }
   ],
   "source": [
    "y_lin"
   ]
  },
  {
   "cell_type": "code",
   "execution_count": 19,
   "metadata": {},
   "outputs": [
    {
     "name": "stderr",
     "output_type": "stream",
     "text": [
      "C:\\Users\\ylab\\AppData\\Local\\conda\\conda\\envs\\ronny\\lib\\site-packages\\sklearn\\externals\\joblib\\__init__.py:15: FutureWarning: sklearn.externals.joblib is deprecated in 0.21 and will be removed in 0.23. Please import this functionality directly from joblib, which can be installed with: pip install joblib. If this warning is raised when loading pickled models, you may need to re-serialize those models with scikit-learn 0.21+.\n",
      "  warnings.warn(msg, category=FutureWarning)\n"
     ]
    },
    {
     "data": {
      "text/plain": [
       "['D://DrugResponsivenessGuideline_log//Result//MDC9K_regen_feature_selection//SVR//MDC9K_SVR_model_fs_30.pkl']"
      ]
     },
     "execution_count": 19,
     "metadata": {},
     "output_type": "execute_result"
    }
   ],
   "source": [
    "import pickle\n",
    "from sklearn.externals import joblib\n",
    "workdir = \"D://DrugResponsivenessGuideline_log//Result//MDC9K_regen_feature_selection//SVR\"\n",
    "joblib.dump(svr_lin, workdir + '//MDC9K_SVR_model_fs_30.pkl') \n"
   ]
  },
  {
   "cell_type": "code",
   "execution_count": 20,
   "metadata": {},
   "outputs": [],
   "source": [
    "a = pd.DataFrame(y_lin)\n",
    "b = pd.DataFrame(test_label_array)\n",
    "c = pd.concat([a,b], axis=1)\n",
    "c.columns=[\"Predicted\",\"Test\"]"
   ]
  },
  {
   "cell_type": "code",
   "execution_count": 21,
   "metadata": {},
   "outputs": [],
   "source": [
    "c.to_csv(workdir + '//MDC9K_SVR_pred_obs_table_fs30.csv')"
   ]
  },
  {
   "cell_type": "code",
   "execution_count": 22,
   "metadata": {},
   "outputs": [
    {
     "data": {
      "text/html": [
       "<div>\n",
       "<style scoped>\n",
       "    .dataframe tbody tr th:only-of-type {\n",
       "        vertical-align: middle;\n",
       "    }\n",
       "\n",
       "    .dataframe tbody tr th {\n",
       "        vertical-align: top;\n",
       "    }\n",
       "\n",
       "    .dataframe thead th {\n",
       "        text-align: right;\n",
       "    }\n",
       "</style>\n",
       "<table border=\"1\" class=\"dataframe\">\n",
       "  <thead>\n",
       "    <tr style=\"text-align: right;\">\n",
       "      <th></th>\n",
       "      <th>Predicted</th>\n",
       "      <th>Test</th>\n",
       "    </tr>\n",
       "  </thead>\n",
       "  <tbody>\n",
       "    <tr>\n",
       "      <th>0</th>\n",
       "      <td>1.641907</td>\n",
       "      <td>0.577696</td>\n",
       "    </tr>\n",
       "    <tr>\n",
       "      <th>1</th>\n",
       "      <td>1.985969</td>\n",
       "      <td>2.079442</td>\n",
       "    </tr>\n",
       "    <tr>\n",
       "      <th>2</th>\n",
       "      <td>1.786590</td>\n",
       "      <td>0.483850</td>\n",
       "    </tr>\n",
       "    <tr>\n",
       "      <th>3</th>\n",
       "      <td>1.701107</td>\n",
       "      <td>2.079442</td>\n",
       "    </tr>\n",
       "    <tr>\n",
       "      <th>4</th>\n",
       "      <td>1.593017</td>\n",
       "      <td>-0.941620</td>\n",
       "    </tr>\n",
       "    <tr>\n",
       "      <th>...</th>\n",
       "      <td>...</td>\n",
       "      <td>...</td>\n",
       "    </tr>\n",
       "    <tr>\n",
       "      <th>867</th>\n",
       "      <td>1.602168</td>\n",
       "      <td>1.328457</td>\n",
       "    </tr>\n",
       "    <tr>\n",
       "      <th>868</th>\n",
       "      <td>1.962056</td>\n",
       "      <td>1.700243</td>\n",
       "    </tr>\n",
       "    <tr>\n",
       "      <th>869</th>\n",
       "      <td>1.967506</td>\n",
       "      <td>1.767344</td>\n",
       "    </tr>\n",
       "    <tr>\n",
       "      <th>870</th>\n",
       "      <td>0.269442</td>\n",
       "      <td>-2.164246</td>\n",
       "    </tr>\n",
       "    <tr>\n",
       "      <th>871</th>\n",
       "      <td>1.714038</td>\n",
       "      <td>2.079442</td>\n",
       "    </tr>\n",
       "  </tbody>\n",
       "</table>\n",
       "<p>872 rows × 2 columns</p>\n",
       "</div>"
      ],
      "text/plain": [
       "     Predicted      Test\n",
       "0     1.641907  0.577696\n",
       "1     1.985969  2.079442\n",
       "2     1.786590  0.483850\n",
       "3     1.701107  2.079442\n",
       "4     1.593017 -0.941620\n",
       "..         ...       ...\n",
       "867   1.602168  1.328457\n",
       "868   1.962056  1.700243\n",
       "869   1.967506  1.767344\n",
       "870   0.269442 -2.164246\n",
       "871   1.714038  2.079442\n",
       "\n",
       "[872 rows x 2 columns]"
      ]
     },
     "execution_count": 22,
     "metadata": {},
     "output_type": "execute_result"
    }
   ],
   "source": [
    "c"
   ]
  },
  {
   "cell_type": "code",
   "execution_count": 23,
   "metadata": {},
   "outputs": [
    {
     "data": {
      "text/plain": [
       "LinregressResult(slope=0.27854583686539275, intercept=1.3040919039721084, rvalue=0.7901440730912754, pvalue=3.7675825335748726e-187, stderr=0.007325467922760596)"
      ]
     },
     "execution_count": 23,
     "metadata": {},
     "output_type": "execute_result"
    }
   ],
   "source": [
    "from scipy.stats import linregress\n",
    "linregress(b[0], a[0])"
   ]
  },
  {
   "cell_type": "code",
   "execution_count": 24,
   "metadata": {},
   "outputs": [
    {
     "name": "stdout",
     "output_type": "stream",
     "text": [
      "0.34237972060766764\n"
     ]
    }
   ],
   "source": [
    "from sklearn.metrics import r2_score\n",
    "r2_value = r2_score(b,a)\n",
    "print(r2_value)"
   ]
  },
  {
   "cell_type": "code",
   "execution_count": 25,
   "metadata": {},
   "outputs": [
    {
     "name": "stdout",
     "output_type": "stream",
     "text": [
      "Final rmse value is = 1.5455794524502022\n"
     ]
    }
   ],
   "source": [
    "rse = ((b[0]-a[0])**2).sum()\n",
    "mse = rse / len(b)\n",
    "print(\"Final rmse value is =\",np.sqrt(mse))"
   ]
  },
  {
   "cell_type": "code",
   "execution_count": 26,
   "metadata": {},
   "outputs": [
    {
     "data": {
      "image/png": "[encoded data removed]",
      "text/plain": [
       "<Figure size 432x432 with 3 Axes>"
      ]
     },
     "metadata": {
      "needs_background": "light"
     },
     "output_type": "display_data"
    }
   ],
   "source": [
    "workdir = \"D://DrugResponsivenessGuideline_log//Figures//Backbone//MDC-9K_regen_feature_selection\"\n",
    "import seaborn as sns\n",
    "\n",
    "g = sns.jointplot(x=\"Test\", y=\"Predicted\", data=c, kind='reg', color='#7C7C7C',\n",
    "                  joint_kws={'line_kws':{'color':'black'}})\n",
    "g.savefig(workdir+ '//MDC9K_SVR_fs30.png', dpi=300)"
   ]
  },
  {
   "cell_type": "code",
   "execution_count": null,
   "metadata": {},
   "outputs": [],
   "source": []
  }
 ],
 "metadata": {
  "kernelspec": {
   "display_name": "Python 3",
   "language": "python",
   "name": "python3"
  },
  "language_info": {
   "codemirror_mode": {
    "name": "ipython",
    "version": 3
   },
   "file_extension": ".py",
   "mimetype": "text/x-python",
   "name": "python",
   "nbconvert_exporter": "python",
   "pygments_lexer": "ipython3",
   "version": "3.6.9"
  }
 },
 "nbformat": 4,
 "nbformat_minor": 2
}
