{
 "cells": [
  {
   "cell_type": "code",
   "execution_count": 1,
   "metadata": {},
   "outputs": [],
   "source": [
    "import os\n",
    "import pandas as pd\n",
    "import numpy as np\n",
    "import random\n",
    "from pandas import DataFrame\n",
    "from datetime import datetime\n",
    "\n",
    "workdir = \"D://DrugResponsivenessGuideline_log//Dataset//EDC_EYDC_MDC_regen\""
   ]
  },
  {
   "cell_type": "code",
   "execution_count": 2,
   "metadata": {},
   "outputs": [],
   "source": [
    "# < Important note > [ Please download input data from https://mega.nz/#F!CeYGDKyS!uqkmWJ4E2XSGJp_C2VO2gg]\n",
    "# IC50evaluation//Dataset//Scenario6_MDC-9K_minmax\n",
    "\n",
    "dataset = np.load(workdir + \"//MDC9K_dataset.npz\") # input file\n",
    "ss0 = np.load(workdir + '//MDC9K_dataset_r0_9_1.npz') # split for training and test"
   ]
  },
  {
   "cell_type": "code",
   "execution_count": 3,
   "metadata": {},
   "outputs": [],
   "source": [
    "x = dataset['x']\n",
    "y = dataset['y']\n",
    "# y_linear = dataset['y_lnIC50']\n",
    "ss0_train = ss0['train']\n",
    "ss0_test = ss0['test']"
   ]
  },
  {
   "cell_type": "code",
   "execution_count": 4,
   "metadata": {},
   "outputs": [],
   "source": [
    "training_image_array, training_label_array = x[ss0_train], y[ss0_train]\n",
    "test_image_array, test_label_array = x[ss0_test], y[ss0_test]\n",
    "\n",
    "# # In[9]:\n",
    "# ori = training_image_array\n",
    "# bat = np.zeros((ori.shape[0],178))\n",
    "# cat = np.hstack([ori,bat])\n",
    "# training_image_array = cat\n",
    "\n",
    "# # In[8]:\n",
    "# training_image_array.shape\n",
    "\n",
    "# # In[10]:\n",
    "# ori2 = test_image_array\n",
    "# bat2 = np.zeros((ori2.shape[0],178))\n",
    "# cat2 = np.hstack([ori2,bat2])\n",
    "# test_image_array = cat2\n"
   ]
  },
  {
   "cell_type": "code",
   "execution_count": 5,
   "metadata": {},
   "outputs": [
    {
     "name": "stdout",
     "output_type": "stream",
     "text": [
      "1 2\n"
     ]
    }
   ],
   "source": [
    "# In[15]:\n",
    "ab =[]\n",
    "for i in range(100,200):\n",
    "    ab.append(len(training_image_array) % i)\n",
    "    \n",
    "print(min(ab), ab.index(min(ab)))"
   ]
  },
  {
   "cell_type": "code",
   "execution_count": 6,
   "metadata": {},
   "outputs": [
    {
     "data": {
      "text/plain": [
       "(8727, 23538)"
      ]
     },
     "execution_count": 6,
     "metadata": {},
     "output_type": "execute_result"
    }
   ],
   "source": [
    "x.shape"
   ]
  },
  {
   "cell_type": "code",
   "execution_count": 7,
   "metadata": {},
   "outputs": [
    {
     "data": {
      "text/plain": [
       "(7855, 23538)"
      ]
     },
     "execution_count": 7,
     "metadata": {},
     "output_type": "execute_result"
    }
   ],
   "source": [
    "training_image_array.shape"
   ]
  },
  {
   "cell_type": "code",
   "execution_count": 8,
   "metadata": {},
   "outputs": [],
   "source": [
    "train_X, train_y, test_X, test_y = training_image_array, training_label_array, test_image_array, test_label_array\n",
    "\n",
    "# if K.image_data_format() == 'channels_first':\n",
    "#     train_X = train_X.reshape(train_X.shape[0], 1, img_rows, img_cols)\n",
    "#     test_X = test_X.reshape(x_test.shape[0], 1, img_rows, img_cols)\n",
    "#     input_shape = (1, img_rows, img_cols)\n",
    "# else:\n",
    "#     train_X = train_X.reshape(train_X.shape[0], img_rows, img_cols, 1)\n",
    "#     test_X = test_X.reshape(test_X.shape[0], img_rows, img_cols, 1)\n",
    "#     input_shape = (img_rows, img_cols, 1)\n"
   ]
  },
  {
   "cell_type": "code",
   "execution_count": 9,
   "metadata": {},
   "outputs": [
    {
     "name": "stdout",
     "output_type": "stream",
     "text": [
      "(7855, 23538) (7855,) (872, 23538) (872,)\n"
     ]
    }
   ],
   "source": [
    "print(train_X.shape, train_y.shape, test_X.shape, test_y.shape)"
   ]
  },
  {
   "cell_type": "code",
   "execution_count": 10,
   "metadata": {},
   "outputs": [],
   "source": [
    "# The proportion of feature selection\n",
    "perc = 70"
   ]
  },
  {
   "cell_type": "code",
   "execution_count": 11,
   "metadata": {},
   "outputs": [
    {
     "name": "stdout",
     "output_type": "stream",
     "text": [
      "2020-11-23 00:01:14.973302\n"
     ]
    },
    {
     "name": "stderr",
     "output_type": "stream",
     "text": [
      "C:\\Users\\ylab\\AppData\\Local\\conda\\conda\\envs\\ronny\\lib\\site-packages\\sklearn\\feature_selection\\_univariate_selection.py:299: RuntimeWarning: invalid value encountered in true_divide\n",
      "  corr /= X_norms\n",
      "C:\\Users\\ylab\\AppData\\Local\\conda\\conda\\envs\\ronny\\lib\\site-packages\\scipy\\stats\\_distn_infrastructure.py:1932: RuntimeWarning: invalid value encountered in less_equal\n",
      "  cond2 = cond0 & (x <= _a)\n"
     ]
    },
    {
     "name": "stdout",
     "output_type": "stream",
     "text": [
      "2020-11-23 00:01:15.911794\n"
     ]
    },
    {
     "data": {
      "text/plain": [
       "(872, 16476)"
      ]
     },
     "execution_count": 11,
     "metadata": {},
     "output_type": "execute_result"
    }
   ],
   "source": [
    "# In[10]:\n",
    "\n",
    "\n",
    "# Feature selection using f-regression\n",
    "from sklearn.feature_selection import f_regression\n",
    "from sklearn.feature_selection import SelectKBest, SelectFdr, SelectPercentile, SelectFromModel\n",
    "\n",
    "# selection the percentile feature\n",
    "\n",
    "Starttime = datetime.now()\n",
    "print(Starttime)\n",
    "\n",
    "sel = SelectPercentile(f_regression, percentile=perc).fit(train_X, train_y)\n",
    "Endtime = datetime.now()\n",
    "print(Endtime)\n",
    "train_X = sel.transform(train_X)\n",
    "train_X.shape\n",
    "\n",
    "test_X = sel.transform(test_X)\n",
    "test_X.shape\n",
    "# In[11]:\n"
   ]
  },
  {
   "cell_type": "code",
   "execution_count": 12,
   "metadata": {},
   "outputs": [
    {
     "name": "stdout",
     "output_type": "stream",
     "text": [
      "train_X shape: (7855, 16476)\n",
      "7855 train samples\n",
      "872 test samples\n"
     ]
    }
   ],
   "source": [
    "train_X = train_X.astype('float32')\n",
    "test_X = test_X.astype('float32')\n",
    "# train_X /= 255\n",
    "# test_X /= 255\n",
    "print('train_X shape:', train_X.shape)\n",
    "print(train_X.shape[0], 'train samples')\n",
    "print(test_X.shape[0], 'test samples')"
   ]
  },
  {
   "cell_type": "code",
   "execution_count": 13,
   "metadata": {
    "scrolled": false
   },
   "outputs": [
    {
     "name": "stdout",
     "output_type": "stream",
     "text": [
      "StartTime : 2020-11-23 00:01:18.616565\n",
      "EndTime : 2020-11-23 01:12:09.455748\n"
     ]
    }
   ],
   "source": [
    "# https://towardsdatascience.com/how-to-perform-ridge-and-ridge-regression-in-python-3b3b75541ad8\n",
    "# https://brunch.co.kr/@itschloe1/11\n",
    "StartTime8 = datetime.now()\n",
    "print(\"StartTime :\", StartTime8)\n",
    "from sklearn.ensemble import RandomForestRegressor\n",
    "# Instantiate model with 1000 decision trees\n",
    "rf = RandomForestRegressor(random_state = 42)\n",
    "# Train the model on training data\n",
    "rf.fit(train_X, training_label_array)\n",
    "EndTime8 = datetime.now()\n",
    "print(\"EndTime :\", EndTime8)"
   ]
  },
  {
   "cell_type": "code",
   "execution_count": 14,
   "metadata": {},
   "outputs": [],
   "source": [
    "import matplotlib\n",
    "from matplotlib import pyplot as plt"
   ]
  },
  {
   "cell_type": "code",
   "execution_count": 15,
   "metadata": {},
   "outputs": [],
   "source": [
    "predicted_classes = rf.predict(test_X)"
   ]
  },
  {
   "cell_type": "code",
   "execution_count": 16,
   "metadata": {},
   "outputs": [],
   "source": [
    "predicted_value = predicted_classes"
   ]
  },
  {
   "cell_type": "code",
   "execution_count": 17,
   "metadata": {},
   "outputs": [
    {
     "name": "stderr",
     "output_type": "stream",
     "text": [
      "C:\\Users\\ylab\\AppData\\Local\\conda\\conda\\envs\\ronny\\lib\\site-packages\\sklearn\\externals\\joblib\\__init__.py:15: FutureWarning: sklearn.externals.joblib is deprecated in 0.21 and will be removed in 0.23. Please import this functionality directly from joblib, which can be installed with: pip install joblib. If this warning is raised when loading pickled models, you may need to re-serialize those models with scikit-learn 0.21+.\n",
      "  warnings.warn(msg, category=FutureWarning)\n"
     ]
    },
    {
     "data": {
      "text/plain": [
       "['D://DrugResponsivenessGuideline_log//Result//MDC9K_regen_feature_selection//RF//MDC9K_RF_model_fs_70.pkl']"
      ]
     },
     "execution_count": 17,
     "metadata": {},
     "output_type": "execute_result"
    }
   ],
   "source": [
    "import pickle\n",
    "from sklearn.externals import joblib\n",
    "workdir = \"D://DrugResponsivenessGuideline_log//Result//MDC9K_regen_feature_selection//RF\"\n",
    "joblib.dump(rf, workdir + '//MDC9K_RF_model_fs_70.pkl') \n"
   ]
  },
  {
   "cell_type": "code",
   "execution_count": 18,
   "metadata": {},
   "outputs": [],
   "source": [
    "a = pd.DataFrame(predicted_value)\n",
    "b = pd.DataFrame(test_label_array)\n",
    "c = pd.concat([a,b], axis=1)\n",
    "c.columns=[\"Predicted\",\"Test\"]"
   ]
  },
  {
   "cell_type": "code",
   "execution_count": 19,
   "metadata": {},
   "outputs": [],
   "source": [
    "c.to_csv(workdir + '//MDC9K_RF_pred_obs_table_fs_70.csv')"
   ]
  },
  {
   "cell_type": "code",
   "execution_count": 20,
   "metadata": {},
   "outputs": [
    {
     "data": {
      "text/plain": [
       "LinregressResult(slope=0.7964808619844731, intercept=-0.13041205279374057, rvalue=0.8269667067473793, pvalue=8.986097369650417e-220, stderr=0.0183593730528869)"
      ]
     },
     "execution_count": 20,
     "metadata": {},
     "output_type": "execute_result"
    }
   ],
   "source": [
    "from scipy.stats import linregress\n",
    "linregress(b[0], a[0])"
   ]
  },
  {
   "cell_type": "code",
   "execution_count": 21,
   "metadata": {},
   "outputs": [
    {
     "name": "stdout",
     "output_type": "stream",
     "text": [
      "0.6341409489883766\n"
     ]
    }
   ],
   "source": [
    "from sklearn.metrics import r2_score\n",
    "r2_value = r2_score(b,a)\n",
    "print(r2_value)"
   ]
  },
  {
   "cell_type": "code",
   "execution_count": 22,
   "metadata": {},
   "outputs": [
    {
     "name": "stdout",
     "output_type": "stream",
     "text": [
      "Final rmse value is = 1.152817707068776\n"
     ]
    }
   ],
   "source": [
    "rse = ((b[0]-a[0])**2).sum()\n",
    "mse = rse / len(b)\n",
    "print(\"Final rmse value is =\",np.sqrt(mse))"
   ]
  },
  {
   "cell_type": "code",
   "execution_count": 23,
   "metadata": {},
   "outputs": [
    {
     "data": {
      "image/png": "[encoded data removed]",
      "text/plain": [
       "<Figure size 432x432 with 3 Axes>"
      ]
     },
     "metadata": {
      "needs_background": "light"
     },
     "output_type": "display_data"
    }
   ],
   "source": [
    "workdir = \"D://DrugResponsivenessGuideline_log//Figures//Backbone//MDC-9K_regen_feature_selection\"\n",
    "import seaborn as sns\n",
    "\n",
    "g = sns.jointplot(x=\"Test\", y=\"Predicted\", data=c, kind='reg', color='#7C7C7C',\n",
    "                  joint_kws={'line_kws':{'color':'black'}})\n",
    "g.savefig(workdir+ '//MDC9K_RF_fs_70.png', dpi=300)"
   ]
  },
  {
   "cell_type": "code",
   "execution_count": null,
   "metadata": {},
   "outputs": [],
   "source": []
  }
 ],
 "metadata": {
  "kernelspec": {
   "display_name": "Python 3",
   "language": "python",
   "name": "python3"
  },
  "language_info": {
   "codemirror_mode": {
    "name": "ipython",
    "version": 3
   },
   "file_extension": ".py",
   "mimetype": "text/x-python",
   "name": "python",
   "nbconvert_exporter": "python",
   "pygments_lexer": "ipython3",
   "version": "3.6.9"
  }
 },
 "nbformat": 4,
 "nbformat_minor": 2
}
