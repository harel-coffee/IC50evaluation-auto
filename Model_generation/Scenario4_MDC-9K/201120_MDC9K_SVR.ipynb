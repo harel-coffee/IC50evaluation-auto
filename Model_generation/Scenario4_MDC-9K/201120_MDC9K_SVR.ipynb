{
 "cells": [
  {
   "cell_type": "code",
   "execution_count": 1,
   "metadata": {},
   "outputs": [],
   "source": [
    "import os\n",
    "import pandas as pd\n",
    "import numpy as np\n",
    "import random\n",
    "from pandas import DataFrame\n",
    "from datetime import datetime\n",
    "\n",
    "workdir = \"D://DrugResponsivenessGuideline_log//Dataset//EDC_EYDC_MDC_regen\""
   ]
  },
  {
   "cell_type": "code",
   "execution_count": 2,
   "metadata": {},
   "outputs": [],
   "source": [
    "# < Important note > [ Please download input data from https://mega.nz/#F!CeYGDKyS!uqkmWJ4E2XSGJp_C2VO2gg]\n",
    "# IC50evaluation//Dataset//Scenario6_MDC-9K_minmax\n",
    "\n",
    "dataset = np.load(workdir + \"//MDC9K_dataset.npz\") # input file\n",
    "ss0 = np.load(workdir + '//MDC9K_dataset_r0_9_1.npz') # split for training and test"
   ]
  },
  {
   "cell_type": "code",
   "execution_count": 3,
   "metadata": {},
   "outputs": [],
   "source": [
    "x = dataset['x']\n",
    "y = dataset['y']\n",
    "# y_linear = dataset['y_lnIC50']\n",
    "ss0_train = ss0['train']\n",
    "ss0_test = ss0['test']"
   ]
  },
  {
   "cell_type": "code",
   "execution_count": 4,
   "metadata": {},
   "outputs": [],
   "source": [
    "training_image_array, training_label_array = x[ss0_train], y[ss0_train]\n",
    "test_image_array, test_label_array = x[ss0_test], y[ss0_test]\n",
    "\n",
    "# # In[9]:\n",
    "# ori = training_image_array\n",
    "# bat = np.zeros((ori.shape[0],178))\n",
    "# cat = np.hstack([ori,bat])\n",
    "# training_image_array = cat\n",
    "\n",
    "# # In[8]:\n",
    "# training_image_array.shape\n",
    "\n",
    "# # In[10]:\n",
    "# ori2 = test_image_array\n",
    "# bat2 = np.zeros((ori2.shape[0],178))\n",
    "# cat2 = np.hstack([ori2,bat2])\n",
    "# test_image_array = cat2\n"
   ]
  },
  {
   "cell_type": "code",
   "execution_count": 5,
   "metadata": {},
   "outputs": [
    {
     "name": "stdout",
     "output_type": "stream",
     "text": [
      "1 1\n"
     ]
    }
   ],
   "source": [
    "# In[15]:\n",
    "ab =[]\n",
    "for i in range(50,100):\n",
    "    ab.append(len(training_image_array) % i)\n",
    "    \n",
    "print(min(ab), ab.index(min(ab)))"
   ]
  },
  {
   "cell_type": "code",
   "execution_count": 6,
   "metadata": {},
   "outputs": [
    {
     "data": {
      "text/plain": [
       "(8727, 23538)"
      ]
     },
     "execution_count": 6,
     "metadata": {},
     "output_type": "execute_result"
    }
   ],
   "source": [
    "x.shape"
   ]
  },
  {
   "cell_type": "code",
   "execution_count": 7,
   "metadata": {},
   "outputs": [
    {
     "data": {
      "text/plain": [
       "(7855, 23538)"
      ]
     },
     "execution_count": 7,
     "metadata": {},
     "output_type": "execute_result"
    }
   ],
   "source": [
    "training_image_array.shape"
   ]
  },
  {
   "cell_type": "code",
   "execution_count": 8,
   "metadata": {},
   "outputs": [],
   "source": [
    "train_X, train_y, test_X, test_y = training_image_array, training_label_array, test_image_array, test_label_array\n",
    "\n",
    "# if K.image_data_format() == 'channels_first':\n",
    "#     train_X = train_X.reshape(train_X.shape[0], 1, img_rows, img_cols)\n",
    "#     test_X = test_X.reshape(x_test.shape[0], 1, img_rows, img_cols)\n",
    "#     input_shape = (1, img_rows, img_cols)\n",
    "# else:\n",
    "#     train_X = train_X.reshape(train_X.shape[0], img_rows, img_cols, 1)\n",
    "#     test_X = test_X.reshape(test_X.shape[0], img_rows, img_cols, 1)\n",
    "#     input_shape = (img_rows, img_cols, 1)\n"
   ]
  },
  {
   "cell_type": "code",
   "execution_count": 9,
   "metadata": {},
   "outputs": [],
   "source": [
    "# train_X = train_X.reshape(train_X.shape[0], train_X.shape[1], 1)\n",
    "# test_X = test_X.reshape(test_X.shape[0], test_X.shape[1], 1)\n",
    "# #input_shape = (img_rows, img_cols, 1)"
   ]
  },
  {
   "cell_type": "code",
   "execution_count": 10,
   "metadata": {},
   "outputs": [
    {
     "name": "stdout",
     "output_type": "stream",
     "text": [
      "(7855, 23538) (7855,) (872, 23538) (872,)\n"
     ]
    }
   ],
   "source": [
    "print(train_X.shape, train_y.shape, test_X.shape, test_y.shape)"
   ]
  },
  {
   "cell_type": "code",
   "execution_count": 11,
   "metadata": {},
   "outputs": [],
   "source": [
    "inds = np.where(np.isnan(test_X))"
   ]
  },
  {
   "cell_type": "code",
   "execution_count": 12,
   "metadata": {},
   "outputs": [
    {
     "data": {
      "text/plain": [
       "(array([], dtype=int64), array([], dtype=int64))"
      ]
     },
     "execution_count": 12,
     "metadata": {},
     "output_type": "execute_result"
    }
   ],
   "source": [
    "inds"
   ]
  },
  {
   "cell_type": "code",
   "execution_count": 13,
   "metadata": {},
   "outputs": [
    {
     "name": "stdout",
     "output_type": "stream",
     "text": [
      "train_X shape: (7855, 23538)\n",
      "7855 train samples\n",
      "872 test samples\n"
     ]
    }
   ],
   "source": [
    "train_X = train_X.astype('float32')\n",
    "test_X = test_X.astype('float32')\n",
    "# train_X /= 255\n",
    "# test_X /= 255\n",
    "print('train_X shape:', train_X.shape)\n",
    "print(train_X.shape[0], 'train samples')\n",
    "print(test_X.shape[0], 'test samples')"
   ]
  },
  {
   "cell_type": "code",
   "execution_count": 14,
   "metadata": {},
   "outputs": [],
   "source": [
    "import numpy as np\n",
    "from sklearn.svm import SVR\n",
    "import matplotlib.pyplot as plt\n",
    "\n",
    "# #############################################################################\n",
    "# Fit regression model\n",
    "svr_lin = SVR(C=0.01)\n",
    "y_lin = svr_lin.fit(train_X, train_y).predict(test_X)\n"
   ]
  },
  {
   "cell_type": "code",
   "execution_count": 15,
   "metadata": {},
   "outputs": [],
   "source": [
    "import matplotlib\n",
    "from matplotlib import pyplot as plt"
   ]
  },
  {
   "cell_type": "code",
   "execution_count": 16,
   "metadata": {},
   "outputs": [
    {
     "data": {
      "text/plain": [
       "array([ 1.6937998 ,  1.97992882,  1.85230389,  1.69418582,  1.6542399 ,\n",
       "        1.97669099,  1.65044484,  1.66933984,  1.98362849,  1.97660337,\n",
       "        1.91914043,  2.01822825,  1.97756206,  1.98074401,  1.96939452,\n",
       "        0.3839994 ,  1.96674306,  0.54355626,  1.69544593,  1.94315849,\n",
       "        1.955493  ,  1.97204751,  1.92194457,  1.98909642,  0.55082274,\n",
       "        1.64722447,  1.98000979,  0.38252923,  1.96241233,  0.38658543,\n",
       "        1.9519841 ,  0.99858921,  1.97996377,  1.98018549,  1.69788746,\n",
       "        0.58912101,  2.0122148 ,  2.00273981,  1.8262833 ,  1.69153896,\n",
       "        1.97013632,  1.98113885,  1.96927575,  1.69645025,  1.97791678,\n",
       "        1.97710664,  1.95937813,  1.69353273,  1.99304882,  1.97928898,\n",
       "       -0.17270276,  1.97582188,  1.98329561,  0.16416145,  1.97589592,\n",
       "        1.67851563,  0.17561208,  2.01454366,  1.98576229,  1.91779524,\n",
       "        1.9805505 ,  1.94251635,  1.82383754,  0.36414622,  1.89513933,\n",
       "        1.97609907,  1.64210145,  1.98243067,  1.97105504,  1.65560442,\n",
       "        1.66717568,  1.94254052,  1.97762935,  1.97670569,  1.97560559,\n",
       "        0.38822449,  1.98463104,  1.97086806,  0.37747223,  1.69599164,\n",
       "        1.70437137,  1.83715754,  1.98145047,  1.85122292,  1.97082756,\n",
       "        0.36639094,  0.96102219,  1.67902651,  1.65543224,  1.69367662,\n",
       "        1.98037944,  1.65744789,  1.97792285,  1.87436656,  1.90495486,\n",
       "        1.94353858,  1.6588461 ,  1.96890429,  1.66262491,  1.83744704,\n",
       "        1.69199428,  1.83298513,  1.66307873,  0.60480306,  1.97729412,\n",
       "        1.95249747,  1.97617505,  1.92565082,  1.97266214,  1.97912928,\n",
       "        2.01921884,  1.80019844,  1.98343756,  0.42741705,  1.97305885,\n",
       "        0.62941218,  1.9721798 ,  1.93045819,  1.94334235,  1.89128687,\n",
       "        1.87949592,  0.45463227,  0.85001166,  1.98186341,  1.69359834,\n",
       "        1.95666882,  0.34628724,  1.97960109,  1.9678704 ,  1.89335898,\n",
       "        1.98064118,  1.8386001 ,  1.96743165,  1.98159071,  1.84751731,\n",
       "        1.96804018,  1.97737573,  1.96348868,  1.98064757,  1.98142928,\n",
       "        1.98244107,  0.11581404,  1.93620098,  1.95424457,  1.64758518,\n",
       "        0.8246752 ,  0.43893025,  0.83476069,  1.95745032,  1.87648263,\n",
       "        1.98061911,  1.98025602,  1.98163965,  1.9826092 ,  0.04097689,\n",
       "        1.97668446,  1.69379477,  1.69346084,  1.83010066,  1.98192111,\n",
       "        0.56224537,  1.69726518,  0.23548525,  1.96949608,  1.97829528,\n",
       "        1.84756071,  1.82302812,  1.97878539,  1.83838813,  0.32201365,\n",
       "        1.98053134,  1.97761498,  1.98371162,  1.97428057,  1.84860809,\n",
       "        1.84541182,  1.65412156,  1.97498783, -0.22593408,  1.69506952,\n",
       "        1.98809417,  1.94404278,  0.36987206,  1.98264216,  1.69729358,\n",
       "        1.97618835,  0.62089706,  1.97945642,  0.81401981,  0.59410341,\n",
       "        1.87820508,  0.34862633,  1.02778696,  1.94133962,  1.98013246,\n",
       "       -0.13760512,  1.97311178,  1.70364718,  1.96677383,  2.01716579,\n",
       "        1.97761472,  1.87592644,  0.8164969 ,  1.98103358,  1.97707112,\n",
       "        1.94020645,  1.98023192,  1.98483066,  0.42581705,  0.81597465,\n",
       "        1.95759175,  1.83398896,  0.67503382,  1.84608506,  1.94636132,\n",
       "        1.69695019,  1.98192435,  1.94648767,  1.97122474,  1.98390051,\n",
       "       -0.23038613,  1.98050257,  0.86676421,  1.6585725 ,  1.98328632,\n",
       "        1.67396083,  1.97715365,  1.67072146,  1.8212964 ,  0.98217406,\n",
       "        1.97574194,  1.94370682,  1.79283559,  1.80478605,  1.93070411,\n",
       "        1.6965427 ,  1.98097931,  0.98063611,  0.36556815,  1.66566843,\n",
       "        1.69635364,  1.98208325,  1.9502456 ,  1.65830348,  1.92986337,\n",
       "        1.67775687,  1.97802658,  1.83933725,  1.70025579,  1.68178944,\n",
       "        1.69496896,  1.93089805,  1.98054021,  0.42279914,  1.97618239,\n",
       "        1.65478132,  1.9236889 ,  1.69831552,  1.84549217,  0.64320519,\n",
       "        1.9798028 ,  1.97830112,  1.97489707,  1.98348547,  1.97594295,\n",
       "        1.9686863 ,  1.83853707,  1.69701541,  0.37765014,  1.69346115,\n",
       "        1.98020683,  1.96755188,  2.00849637,  1.9866309 ,  1.98217653,\n",
       "        1.97515114,  1.69703362,  1.94843031,  1.96592595,  1.64861211,\n",
       "        1.97877856,  1.94667568,  1.98059035,  0.82684818,  1.98333478,\n",
       "        1.69620581,  1.97836431,  1.97739083,  1.69120321,  1.96858229,\n",
       "        1.9925088 ,  0.33098449,  0.36900084,  1.85090504,  1.87720763,\n",
       "        1.96907412,  1.9790563 ,  0.73127296,  1.98360844,  1.95345607,\n",
       "        1.68337979, -0.25301357,  1.85043268,  0.99735303,  0.22502205,\n",
       "        1.98031553,  0.81467217,  1.94960306,  1.96576389,  1.97349376,\n",
       "        1.98254994,  1.98407966,  1.98312219,  1.98333209,  1.67705054,\n",
       "        1.97816276,  1.9887917 ,  1.97878435,  1.90524617,  1.9792009 ,\n",
       "        1.93788805,  1.93414412,  0.82452605,  1.96582783,  0.50490421,\n",
       "        1.90467602,  1.98022165,  1.76350589,  1.22819098,  1.69471773,\n",
       "        1.97453375,  1.94250541,  1.84694099,  1.65128526,  1.94593458,\n",
       "        1.65865934,  1.84509715,  0.36085633,  1.67696985,  0.90665325,\n",
       "        1.9847021 ,  1.93762584,  1.98536407,  1.98020652,  1.98229963,\n",
       "        1.94835493,  1.95421129,  1.81815228,  1.97639635,  1.98653149,\n",
       "        1.65163062,  1.68860048,  1.98158181,  0.07581375,  0.87270062,\n",
       "        1.69643368,  1.98034025,  1.85074795,  2.00848768,  0.374598  ,\n",
       "        1.97892535,  1.96973446,  1.98120133,  1.85618917,  1.71488487,\n",
       "        1.97471403,  1.97952236,  1.98058888, -0.24620104,  1.84779697,\n",
       "        1.8434108 ,  0.5825492 ,  2.0098077 ,  0.42237497,  1.98189873,\n",
       "        1.9972364 ,  1.98100102,  1.9398504 ,  1.9803658 ,  1.67332185,\n",
       "        1.992139  ,  1.95346328,  1.84263389, -0.23516088,  1.83559604,\n",
       "        2.01543466,  1.98613564,  0.35988981,  1.97018359,  1.97029028,\n",
       "        0.42270111,  1.98048759,  1.9723976 ,  1.93308206,  1.98104425,\n",
       "        1.69921173,  1.81347225,  1.98067518,  1.96665677,  1.65898558,\n",
       "        1.94918596,  1.9750816 ,  1.87753136,  1.96912313,  1.97859084,\n",
       "        1.92075795,  1.98308749,  0.47264402,  1.93848602,  1.98313758,\n",
       "        1.98322177,  1.70366677,  1.96840227,  1.97640176,  1.83906293,\n",
       "        1.97873314,  1.69260247,  1.97914524,  1.87223838,  0.96065878,\n",
       "        1.69721055,  1.98164256,  1.95910368,  1.96619506,  0.39210993,\n",
       "        1.65556529,  1.97535323,  1.99189547,  1.9777146 ,  1.98050556,\n",
       "        1.97800845,  1.97988937,  1.81977406,  1.96037409,  1.96073197,\n",
       "        1.97595789,  1.76013919,  1.83815943,  1.98275421,  1.97830509,\n",
       "        1.98072235,  1.98616337,  1.69243999,  1.65541751,  1.69671614,\n",
       "        1.69838788,  1.97917796,  0.62406251,  0.65326044,  1.98354587,\n",
       "        1.93991997,  1.97526011,  2.01813702,  1.97939561,  1.94825541,\n",
       "        1.98132694,  0.8105295 ,  1.69625353,  1.98296636,  1.69730589,\n",
       "        1.95309358,  1.93496109,  0.38590957,  1.66043387,  1.70193606,\n",
       "        1.98023926,  1.97512887,  0.41004748,  1.97697791,  1.6923285 ,\n",
       "        1.83864196,  1.65707322,  1.979859  ,  1.99177371,  1.84872718,\n",
       "        1.9862656 ,  2.01040884,  1.90409677,  2.0115924 ,  1.93540967,\n",
       "        1.97075678,  1.97910857, -0.2257985 ,  1.84024875,  1.97117014,\n",
       "        1.98532474,  1.70127238,  1.81835262,  1.96339307,  1.97937652,\n",
       "        0.67537913,  1.64812336,  1.74331434,  1.93900383,  0.97513341,\n",
       "        1.97523007,  1.9800377 ,  2.01754503,  1.93622012,  1.95142982,\n",
       "        1.9324325 ,  1.6575311 ,  1.66183725,  1.97927733,  1.948771  ,\n",
       "        1.98511108,  1.97977052,  1.65981678,  1.83945189, -0.21387519,\n",
       "        1.9749108 ,  0.35590055,  1.97934338,  0.62906213,  1.98047785,\n",
       "        0.82021224,  1.94850552,  1.97772472,  0.97187457,  1.6515526 ,\n",
       "        1.85012997,  1.66736086,  1.9842173 , -0.2157584 ,  1.69636323,\n",
       "        1.98529541,  1.96518658,  1.84046764,  1.91338209,  1.97542716,\n",
       "        1.97589029,  1.84004746,  1.6585573 ,  1.66274814,  1.93167934,\n",
       "       -0.17554812,  1.8760814 ,  2.01528685,  1.68415048,  1.98097713,\n",
       "        1.8849069 ,  1.83815849,  1.97950514,  1.98288649,  1.96865325,\n",
       "        0.67718755,  1.98116746,  1.85163426,  1.83337943, -0.23783864,\n",
       "        0.81644548,  1.98254929,  1.84386837,  1.96338327,  0.43151165,\n",
       "        1.85497414,  1.97560901,  0.81852605,  1.97446385,  1.65102631,\n",
       "        0.81728657,  0.83146653,  1.88798108,  1.88243375,  1.84676481,\n",
       "        1.65741946,  1.98146996,  2.01565872,  1.92756148,  1.69364172,\n",
       "        1.9817319 ,  1.96795592,  1.97773162,  1.97964247,  1.97759179,\n",
       "        0.98138209,  1.84949627,  1.65798973,  1.97285314,  0.49467056,\n",
       "        1.93822491,  1.9414995 ,  2.00253748,  1.65833774,  1.92981586,\n",
       "        0.38319454,  0.64333354,  1.65843525,  1.97994202,  1.7660789 ,\n",
       "        1.96931414,  1.85150704,  1.95347703,  1.97995696,  1.81947029,\n",
       "       -0.2386428 ,  1.96316325,  1.94039752,  1.9852194 ,  1.98226252,\n",
       "        2.01278707,  1.93769972,  1.83917086,  1.95787933,  2.01698356,\n",
       "        1.97654258,  1.98525923,  1.98125649,  1.98325166,  1.98041151,\n",
       "        1.97234346,  1.97712122,  0.36914997,  1.96089028,  0.63013222,\n",
       "        1.94570684,  1.69570765,  1.6986598 ,  1.69869706,  1.69864003,\n",
       "        1.88984567,  1.97906822,  0.6064334 ,  1.98892924,  1.98072235,\n",
       "        1.64669249,  1.98080328,  1.69236819,  1.65590347,  1.65811632,\n",
       "        1.6965352 ,  1.97566792,  1.9352664 ,  2.00686131,  1.65019986,\n",
       "        0.36229925,  1.83901245,  1.8477118 ,  1.99085009,  1.97236488,\n",
       "        0.82351146,  1.97878099,  1.97650596,  1.97372714,  1.82778464,\n",
       "        1.84205549,  1.8397346 ,  0.32377434,  0.83735646,  1.98382197,\n",
       "        1.98154523,  1.97985064,  1.3829358 ,  0.82777896,  1.98316539,\n",
       "        1.97552421,  1.98611153,  1.69771105,  1.84868034,  1.69589056,\n",
       "        1.69518816,  1.69862387,  1.64313515,  1.66816521, -0.23432481,\n",
       "        1.65712588,  1.94160164,  1.9756375 ,  1.94358635,  0.59905005,\n",
       "        1.9811386 ,  0.36844299,  1.84605924,  0.60579973,  1.93475197,\n",
       "        1.93727848,  1.98052667,  0.85960402,  1.98788973,  1.93573858,\n",
       "        0.82185474,  1.98625841,  1.97739455,  1.84362645,  1.97661493,\n",
       "        1.98084046,  1.97920233,  0.70563147,  1.64852149,  1.98397289,\n",
       "        0.38565992,  1.9791739 ,  0.82764378,  0.43996241,  1.8382986 ,\n",
       "        1.66044165,  1.85111856,  1.84155475,  0.36860532,  1.90723106,\n",
       "        1.66930906,  1.97809605,  1.97821647,  1.982515  ,  1.6480585 ,\n",
       "       -0.18880988,  0.43633769,  1.93024359,  1.97025025,  1.98543144,\n",
       "        1.90211016,  0.38534745,  1.97391732,  1.94770539,  1.98226655,\n",
       "        1.90383449,  0.46673504,  1.84327268,  1.65924079,  0.57168078,\n",
       "        1.81162841,  1.97278934,  0.63289926,  1.97554376,  1.93017447,\n",
       "        0.68194872,  0.15451044,  1.85395255,  1.99284664,  1.9797194 ,\n",
       "        0.6160809 ,  1.98252453,  1.65981227,  1.69628285,  0.80710372,\n",
       "        1.97671571,  1.97878303,  1.6945997 ,  1.95956011,  1.98199215,\n",
       "        1.69559643,  1.98055508,  1.97829276,  0.13052596,  1.84577504,\n",
       "        1.84643521,  1.92995599,  0.43574326,  1.92564776,  1.71635631,\n",
       "        1.8422745 ,  0.42817417,  1.64936638,  0.1138634 ,  1.93514527,\n",
       "        0.44007237,  1.94179018,  1.97795595,  1.95577542,  2.01867253,\n",
       "        1.98381992,  1.98348684,  1.95404664,  0.94467389,  1.68547194,\n",
       "        1.67888533,  1.84674029,  1.6627824 ,  1.98018874,  1.90482588,\n",
       "        1.85632414,  0.37530813,  1.69688329,  1.69675203,  1.71380652,\n",
       "        1.95028168,  1.72313987,  1.96578747,  1.69766202,  1.9880176 ,\n",
       "        1.98294597,  1.65029631,  1.98032799,  1.97607815,  1.92422917,\n",
       "        0.45475449,  1.90182367,  1.9080536 ,  1.98510759,  1.96401841,\n",
       "        0.35915716,  1.95368872,  1.85891103, -0.11041114,  1.9657743 ,\n",
       "        1.6747632 ,  1.97991035,  1.95605806,  1.84649742,  1.6976965 ,\n",
       "        1.93821136,  1.84039038,  1.98139403,  1.97721112,  1.93927987,\n",
       "        1.69422383,  1.88122957,  1.90316953,  1.91519681,  1.65578202,\n",
       "        0.42762218,  1.69928523,  0.48230307,  1.98458255,  1.6730471 ,\n",
       "        1.97509305,  0.84987443,  1.92538404,  1.97800832,  0.36118118,\n",
       "        1.89362012,  1.88181462,  1.83997678,  1.8466329 ,  1.94469241,\n",
       "        1.87685325,  1.97911308,  2.01760543,  1.98436398,  1.97906548,\n",
       "        1.69815549,  1.83797815,  0.65159208,  1.70001193,  1.9244082 ,\n",
       "        1.98709977,  1.97701466,  0.40976649,  1.64914666,  0.81681041,\n",
       "        1.87507623,  1.98370542,  1.98115258,  0.72008876,  1.81514203,\n",
       "        2.01368774,  1.65662285,  1.8980752 ,  1.95985632,  1.98030483,\n",
       "        1.64891763,  1.65417677,  1.95077893,  1.97901168,  1.98296343,\n",
       "        1.95685545,  1.98131968, -0.23450133,  1.9325106 ,  1.90430483,\n",
       "        1.69950195,  1.9470751 ,  1.84421475,  2.01068498,  1.88810608,\n",
       "        1.94318019,  1.98568868,  1.65764228,  1.92864038,  1.9288621 ,\n",
       "        0.40237351,  1.69793468])"
      ]
     },
     "execution_count": 16,
     "metadata": {},
     "output_type": "execute_result"
    }
   ],
   "source": [
    "y_lin"
   ]
  },
  {
   "cell_type": "code",
   "execution_count": 17,
   "metadata": {},
   "outputs": [
    {
     "name": "stderr",
     "output_type": "stream",
     "text": [
      "C:\\Users\\ylab\\AppData\\Local\\conda\\conda\\envs\\ronny\\lib\\site-packages\\sklearn\\externals\\joblib\\__init__.py:15: FutureWarning: sklearn.externals.joblib is deprecated in 0.21 and will be removed in 0.23. Please import this functionality directly from joblib, which can be installed with: pip install joblib. If this warning is raised when loading pickled models, you may need to re-serialize those models with scikit-learn 0.21+.\n",
      "  warnings.warn(msg, category=FutureWarning)\n"
     ]
    },
    {
     "data": {
      "text/plain": [
       "['D://DrugResponsivenessGuideline_log//Result//EDC_EYDC_MDC_regen//MDC9K//SVR//MDC9K_SVR_model.pkl']"
      ]
     },
     "execution_count": 17,
     "metadata": {},
     "output_type": "execute_result"
    }
   ],
   "source": [
    "import pickle\n",
    "from sklearn.externals import joblib\n",
    "workdir = \"D://DrugResponsivenessGuideline_log//Result//EDC_EYDC_MDC_regen//MDC9K//SVR\"\n",
    "joblib.dump(svr_lin, workdir + '//MDC9K_SVR_model.pkl') \n"
   ]
  },
  {
   "cell_type": "code",
   "execution_count": 18,
   "metadata": {},
   "outputs": [],
   "source": [
    "a = pd.DataFrame(y_lin)\n",
    "b = pd.DataFrame(test_label_array)\n",
    "c = pd.concat([a,b], axis=1)\n",
    "c.columns=[\"Predicted\",\"Test\"]"
   ]
  },
  {
   "cell_type": "code",
   "execution_count": 19,
   "metadata": {},
   "outputs": [],
   "source": [
    "c.to_csv(workdir + '//MDC9K_SVR_pred_obs_table.csv')"
   ]
  },
  {
   "cell_type": "code",
   "execution_count": 24,
   "metadata": {},
   "outputs": [
    {
     "data": {
      "text/html": [
       "<div>\n",
       "<style scoped>\n",
       "    .dataframe tbody tr th:only-of-type {\n",
       "        vertical-align: middle;\n",
       "    }\n",
       "\n",
       "    .dataframe tbody tr th {\n",
       "        vertical-align: top;\n",
       "    }\n",
       "\n",
       "    .dataframe thead th {\n",
       "        text-align: right;\n",
       "    }\n",
       "</style>\n",
       "<table border=\"1\" class=\"dataframe\">\n",
       "  <thead>\n",
       "    <tr style=\"text-align: right;\">\n",
       "      <th></th>\n",
       "      <th>Predicted</th>\n",
       "      <th>Test</th>\n",
       "    </tr>\n",
       "  </thead>\n",
       "  <tbody>\n",
       "    <tr>\n",
       "      <th>0</th>\n",
       "      <td>1.693800</td>\n",
       "      <td>0.577696</td>\n",
       "    </tr>\n",
       "    <tr>\n",
       "      <th>1</th>\n",
       "      <td>1.979929</td>\n",
       "      <td>2.079442</td>\n",
       "    </tr>\n",
       "    <tr>\n",
       "      <th>2</th>\n",
       "      <td>1.852304</td>\n",
       "      <td>0.483850</td>\n",
       "    </tr>\n",
       "    <tr>\n",
       "      <th>3</th>\n",
       "      <td>1.694186</td>\n",
       "      <td>2.079442</td>\n",
       "    </tr>\n",
       "    <tr>\n",
       "      <th>4</th>\n",
       "      <td>1.654240</td>\n",
       "      <td>-0.941620</td>\n",
       "    </tr>\n",
       "    <tr>\n",
       "      <th>...</th>\n",
       "      <td>...</td>\n",
       "      <td>...</td>\n",
       "    </tr>\n",
       "    <tr>\n",
       "      <th>867</th>\n",
       "      <td>1.657642</td>\n",
       "      <td>1.328457</td>\n",
       "    </tr>\n",
       "    <tr>\n",
       "      <th>868</th>\n",
       "      <td>1.928640</td>\n",
       "      <td>1.700243</td>\n",
       "    </tr>\n",
       "    <tr>\n",
       "      <th>869</th>\n",
       "      <td>1.928862</td>\n",
       "      <td>1.767344</td>\n",
       "    </tr>\n",
       "    <tr>\n",
       "      <th>870</th>\n",
       "      <td>0.402374</td>\n",
       "      <td>-2.164246</td>\n",
       "    </tr>\n",
       "    <tr>\n",
       "      <th>871</th>\n",
       "      <td>1.697935</td>\n",
       "      <td>2.079442</td>\n",
       "    </tr>\n",
       "  </tbody>\n",
       "</table>\n",
       "<p>872 rows × 2 columns</p>\n",
       "</div>"
      ],
      "text/plain": [
       "     Predicted      Test\n",
       "0     1.693800  0.577696\n",
       "1     1.979929  2.079442\n",
       "2     1.852304  0.483850\n",
       "3     1.694186  2.079442\n",
       "4     1.654240 -0.941620\n",
       "..         ...       ...\n",
       "867   1.657642  1.328457\n",
       "868   1.928640  1.700243\n",
       "869   1.928862  1.767344\n",
       "870   0.402374 -2.164246\n",
       "871   1.697935  2.079442\n",
       "\n",
       "[872 rows x 2 columns]"
      ]
     },
     "execution_count": 24,
     "metadata": {},
     "output_type": "execute_result"
    }
   ],
   "source": [
    "c"
   ]
  },
  {
   "cell_type": "code",
   "execution_count": 25,
   "metadata": {},
   "outputs": [
    {
     "data": {
      "text/plain": [
       "LinregressResult(slope=0.22547482802149404, intercept=1.419048342690322, rvalue=0.7676913025144448, pvalue=2.551508125961156e-170, stderr=0.006380985608766056)"
      ]
     },
     "execution_count": 25,
     "metadata": {},
     "output_type": "execute_result"
    }
   ],
   "source": [
    "from scipy.stats import linregress\n",
    "linregress(b[0], a[0])"
   ]
  },
  {
   "cell_type": "code",
   "execution_count": 26,
   "metadata": {},
   "outputs": [
    {
     "name": "stdout",
     "output_type": "stream",
     "text": [
      "0.2539089636501244\n"
     ]
    }
   ],
   "source": [
    "from sklearn.metrics import r2_score\n",
    "r2_value = r2_score(b,a)\n",
    "print(r2_value)"
   ]
  },
  {
   "cell_type": "code",
   "execution_count": 27,
   "metadata": {},
   "outputs": [
    {
     "name": "stdout",
     "output_type": "stream",
     "text": [
      "Final rmse value is = 1.6462646317876317\n"
     ]
    }
   ],
   "source": [
    "rse = ((b[0]-a[0])**2).sum()\n",
    "mse = rse / len(b)\n",
    "print(\"Final rmse value is =\",np.sqrt(mse))"
   ]
  },
  {
   "cell_type": "code",
   "execution_count": 28,
   "metadata": {},
   "outputs": [
    {
     "data": {
      "image/png": "[encoded data removed]",
      "text/plain": [
       "<Figure size 432x432 with 3 Axes>"
      ]
     },
     "metadata": {
      "needs_background": "light"
     },
     "output_type": "display_data"
    }
   ],
   "source": [
    "workdir = \"D://DrugResponsivenessGuideline_log//Figures//Backbone//EDC_EYDC_MDC_regen//MDC-9K\"\n",
    "import seaborn as sns\n",
    "\n",
    "g = sns.jointplot(x=\"Test\", y=\"Predicted\", data=c, kind='reg', color='#7C7C7C',\n",
    "                  joint_kws={'line_kws':{'color':'black'}})\n",
    "g.savefig(workdir+ '//MDC9K_SVR.png', dpi=300)"
   ]
  },
  {
   "cell_type": "code",
   "execution_count": null,
   "metadata": {},
   "outputs": [],
   "source": []
  }
 ],
 "metadata": {
  "kernelspec": {
   "display_name": "Python 3",
   "language": "python",
   "name": "python3"
  },
  "language_info": {
   "codemirror_mode": {
    "name": "ipython",
    "version": 3
   },
   "file_extension": ".py",
   "mimetype": "text/x-python",
   "name": "python",
   "nbconvert_exporter": "python",
   "pygments_lexer": "ipython3",
   "version": "3.6.9"
  }
 },
 "nbformat": 4,
 "nbformat_minor": 2
}
