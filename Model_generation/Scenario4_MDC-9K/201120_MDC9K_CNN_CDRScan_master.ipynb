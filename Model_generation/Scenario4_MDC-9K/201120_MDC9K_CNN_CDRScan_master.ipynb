{
 "cells": [
  {
   "cell_type": "code",
   "execution_count": 1,
   "metadata": {},
   "outputs": [
    {
     "name": "stderr",
     "output_type": "stream",
     "text": [
      "C:\\Users\\a\\AppData\\Roaming\\Python\\Python37\\site-packages\\tensorflow\\python\\framework\\dtypes.py:526: FutureWarning: Passing (type, 1) or '1type' as a synonym of type is deprecated; in a future version of numpy, it will be understood as (type, (1,)) / '(1,)type'.\n",
      "  _np_qint8 = np.dtype([(\"qint8\", np.int8, 1)])\n",
      "C:\\Users\\a\\AppData\\Roaming\\Python\\Python37\\site-packages\\tensorflow\\python\\framework\\dtypes.py:527: FutureWarning: Passing (type, 1) or '1type' as a synonym of type is deprecated; in a future version of numpy, it will be understood as (type, (1,)) / '(1,)type'.\n",
      "  _np_quint8 = np.dtype([(\"quint8\", np.uint8, 1)])\n",
      "C:\\Users\\a\\AppData\\Roaming\\Python\\Python37\\site-packages\\tensorflow\\python\\framework\\dtypes.py:528: FutureWarning: Passing (type, 1) or '1type' as a synonym of type is deprecated; in a future version of numpy, it will be understood as (type, (1,)) / '(1,)type'.\n",
      "  _np_qint16 = np.dtype([(\"qint16\", np.int16, 1)])\n",
      "C:\\Users\\a\\AppData\\Roaming\\Python\\Python37\\site-packages\\tensorflow\\python\\framework\\dtypes.py:529: FutureWarning: Passing (type, 1) or '1type' as a synonym of type is deprecated; in a future version of numpy, it will be understood as (type, (1,)) / '(1,)type'.\n",
      "  _np_quint16 = np.dtype([(\"quint16\", np.uint16, 1)])\n",
      "C:\\Users\\a\\AppData\\Roaming\\Python\\Python37\\site-packages\\tensorflow\\python\\framework\\dtypes.py:530: FutureWarning: Passing (type, 1) or '1type' as a synonym of type is deprecated; in a future version of numpy, it will be understood as (type, (1,)) / '(1,)type'.\n",
      "  _np_qint32 = np.dtype([(\"qint32\", np.int32, 1)])\n",
      "C:\\Users\\a\\AppData\\Roaming\\Python\\Python37\\site-packages\\tensorflow\\python\\framework\\dtypes.py:535: FutureWarning: Passing (type, 1) or '1type' as a synonym of type is deprecated; in a future version of numpy, it will be understood as (type, (1,)) / '(1,)type'.\n",
      "  np_resource = np.dtype([(\"resource\", np.ubyte, 1)])\n",
      "Using TensorFlow backend.\n"
     ]
    }
   ],
   "source": [
    "import os\n",
    "import pandas as pd\n",
    "import numpy as np\n",
    "import tensorflow as tf\n",
    "import random\n",
    "from pandas import DataFrame\n",
    "from datetime import datetime\n",
    "import keras\n",
    "from keras.models import Sequential,Input,Model\n",
    "from keras.layers import Dense, Dropout, Flatten, Reshape, Activation\n",
    "from keras.layers import Conv1D, MaxPooling1D ,AveragePooling1D\n",
    "from keras.layers.normalization import BatchNormalization\n",
    "from keras.layers.advanced_activations import LeakyReLU\n",
    "from keras import backend as K\n",
    "from keras.callbacks import ModelCheckpoint, CSVLogger\n",
    "from keras.optimizers import Adam, RMSprop\n",
    "from keras.layers import Input, Dense, Conv1D, MaxPooling1D\n",
    "from keras.layers import Flatten, Concatenate, Dropout, Reshape, BatchNormalization\n",
    "from keras.models import Model\n"
   ]
  },
  {
   "cell_type": "code",
   "execution_count": 2,
   "metadata": {},
   "outputs": [
    {
     "name": "stdout",
     "output_type": "stream",
     "text": [
      "[name: \"/device:CPU:0\"\n",
      "device_type: \"CPU\"\n",
      "memory_limit: 268435456\n",
      "locality {\n",
      "}\n",
      "incarnation: 12311838614788296852\n",
      ", name: \"/device:GPU:0\"\n",
      "device_type: \"GPU\"\n",
      "memory_limit: 10116497408\n",
      "locality {\n",
      "  bus_id: 1\n",
      "  links {\n",
      "  }\n",
      "}\n",
      "incarnation: 1986036309493460318\n",
      "physical_device_desc: \"device: 0, name: GeForce GTX 1080 Ti, pci bus id: 0000:01:00.0, compute capability: 6.1\"\n",
      "]\n"
     ]
    }
   ],
   "source": [
    "from tensorflow.python.client import device_lib\n",
    "print(device_lib.list_local_devices())\n",
    "\n",
    "\n",
    "# 출처: https://3months.tistory.com/206 [Deep Play]"
   ]
  },
  {
   "cell_type": "code",
   "execution_count": 3,
   "metadata": {},
   "outputs": [],
   "source": [
    "workdir = \"E://Ronny_TF//201120_EDC_EYDC_MDC_other_PC//Dataset_EDC_EYDC_MDC_regen\""
   ]
  },
  {
   "cell_type": "code",
   "execution_count": 4,
   "metadata": {},
   "outputs": [],
   "source": [
    "# < Important note > [ Please download input data from https://mega.nz/#F!CeYGDKyS!uqkmWJ4E2XSGJp_C2VO2gg]\n",
    "# IC50evaluation//Dataset//Scenario6_MDC-9K_minmax\n",
    "\n",
    "dataset = np.load(workdir + \"//MDC9K_dataset.npz\") # input file\n",
    "ss0 = np.load(workdir + '//MDC9K_dataset_r0_9_1.npz') # split for training and test"
   ]
  },
  {
   "cell_type": "code",
   "execution_count": 5,
   "metadata": {},
   "outputs": [],
   "source": [
    "x = dataset['x']\n",
    "y = dataset['y']\n",
    "# y_linear = dataset['y_lnIC50']\n",
    "ss0_train = ss0['train']\n",
    "ss0_test = ss0['test']"
   ]
  },
  {
   "cell_type": "code",
   "execution_count": 6,
   "metadata": {},
   "outputs": [],
   "source": [
    "training_image_array, training_label_array = x[ss0_train], y[ss0_train]\n",
    "test_image_array, test_label_array = x[ss0_test], y[ss0_test]\n",
    "\n",
    "# In[9]:\n",
    "# ori = training_image_array\n",
    "# bat = np.zeros((ori.shape[0],178))\n",
    "# cat = np.hstack([ori,bat])\n",
    "# training_image_array = cat\n",
    "\n",
    "# # In[8]:\n",
    "# training_image_array.shape\n",
    "\n",
    "# # In[10]:\n",
    "# ori2 = test_image_array\n",
    "# bat2 = np.zeros((ori2.shape[0],178))\n",
    "# cat2 = np.hstack([ori2,bat2])\n",
    "# test_image_array = cat2\n"
   ]
  },
  {
   "cell_type": "code",
   "execution_count": 7,
   "metadata": {},
   "outputs": [
    {
     "name": "stdout",
     "output_type": "stream",
     "text": [
      "1 2\n"
     ]
    }
   ],
   "source": [
    "# In[15]:\n",
    "ab =[]\n",
    "for i in range(100,200):\n",
    "    ab.append(len(training_image_array) % i)\n",
    "    \n",
    "print(min(ab), ab.index(min(ab)))"
   ]
  },
  {
   "cell_type": "code",
   "execution_count": 8,
   "metadata": {},
   "outputs": [
    {
     "data": {
      "text/plain": [
       "(8727, 23538)"
      ]
     },
     "execution_count": 8,
     "metadata": {},
     "output_type": "execute_result"
    }
   ],
   "source": [
    "x.shape"
   ]
  },
  {
   "cell_type": "code",
   "execution_count": 9,
   "metadata": {},
   "outputs": [
    {
     "data": {
      "text/plain": [
       "(7855, 23538)"
      ]
     },
     "execution_count": 9,
     "metadata": {},
     "output_type": "execute_result"
    }
   ],
   "source": [
    "training_image_array.shape"
   ]
  },
  {
   "cell_type": "code",
   "execution_count": 10,
   "metadata": {},
   "outputs": [],
   "source": [
    "# In[21]:\n",
    "\n",
    "num_classes = 1\n",
    "learning_rate = 0.0002\n",
    "training_epochs = 150\n",
    "batch_size = 100\n",
    "img_rows, img_cols = 154, 154\n"
   ]
  },
  {
   "cell_type": "code",
   "execution_count": 11,
   "metadata": {},
   "outputs": [],
   "source": [
    "train_X, train_y, test_X, test_y = training_image_array, training_label_array, test_image_array, test_label_array\n",
    "\n",
    "# if K.image_data_format() == 'channels_first':\n",
    "#     train_X = train_X.reshape(train_X.shape[0], 1, img_rows, img_cols)\n",
    "#     test_X = test_X.reshape(x_test.shape[0], 1, img_rows, img_cols)\n",
    "#     input_shape = (1, img_rows, img_cols)\n",
    "# else:\n",
    "#     train_X = train_X.reshape(train_X.shape[0], img_rows, img_cols, 1)\n",
    "#     test_X = test_X.reshape(test_X.shape[0], img_rows, img_cols, 1)\n",
    "#     input_shape = (img_rows, img_cols, 1)\n"
   ]
  },
  {
   "cell_type": "code",
   "execution_count": 12,
   "metadata": {},
   "outputs": [
    {
     "name": "stdout",
     "output_type": "stream",
     "text": [
      "21213\n"
     ]
    }
   ],
   "source": [
    "shape_value = 21213\n",
    "print(shape_value)"
   ]
  },
  {
   "cell_type": "code",
   "execution_count": 13,
   "metadata": {},
   "outputs": [
    {
     "data": {
      "text/plain": [
       "(7855, 23538)"
      ]
     },
     "execution_count": 13,
     "metadata": {},
     "output_type": "execute_result"
    }
   ],
   "source": [
    "train_X.shape"
   ]
  },
  {
   "cell_type": "code",
   "execution_count": 14,
   "metadata": {},
   "outputs": [],
   "source": [
    "train_X_cell = train_X[:,:shape_value]\n",
    "train_X_drug =train_X[:,shape_value:]\n",
    "test_X_cell = test_X[:,:shape_value]\n",
    "test_X_drug = test_X[:,shape_value:]"
   ]
  },
  {
   "cell_type": "code",
   "execution_count": 15,
   "metadata": {},
   "outputs": [
    {
     "data": {
      "text/plain": [
       "(7855, 21213)"
      ]
     },
     "execution_count": 15,
     "metadata": {},
     "output_type": "execute_result"
    }
   ],
   "source": [
    "train_X_cell.shape"
   ]
  },
  {
   "cell_type": "code",
   "execution_count": 16,
   "metadata": {},
   "outputs": [],
   "source": [
    "train_X_cell = train_X_cell.reshape(train_X_cell.shape[0], train_X_cell.shape[1], 1)\n",
    "train_X_drug = train_X_drug.reshape(train_X_drug.shape[0], train_X_drug.shape[1], 1)\n",
    "test_X_cell = test_X_cell.reshape(test_X_cell.shape[0], test_X_cell.shape[1], 1)\n",
    "test_X_drug = test_X_drug.reshape(test_X_drug.shape[0], test_X_drug.shape[1], 1)\n",
    "#input_shape = (img_rows, img_cols, 1)"
   ]
  },
  {
   "cell_type": "code",
   "execution_count": 17,
   "metadata": {},
   "outputs": [
    {
     "name": "stdout",
     "output_type": "stream",
     "text": [
      "(7855, 21213, 1) (7855, 2325, 1) (7855,) (872, 21213, 1) (872, 2325, 1) (872,)\n"
     ]
    }
   ],
   "source": [
    "print(train_X_cell.shape,train_X_drug.shape, train_y.shape, test_X_cell.shape,test_X_drug.shape, test_y.shape)"
   ]
  },
  {
   "cell_type": "code",
   "execution_count": 18,
   "metadata": {},
   "outputs": [
    {
     "data": {
      "text/plain": [
       "(7855, 21213, 1)"
      ]
     },
     "execution_count": 18,
     "metadata": {},
     "output_type": "execute_result"
    }
   ],
   "source": [
    "train_X_cell.shape"
   ]
  },
  {
   "cell_type": "code",
   "execution_count": 19,
   "metadata": {},
   "outputs": [
    {
     "name": "stdout",
     "output_type": "stream",
     "text": [
      "train_X shape: (7855, 23538)\n",
      "7855 train samples\n",
      "872 test samples\n"
     ]
    }
   ],
   "source": [
    "train_X_cell = train_X_cell.astype('float32')\n",
    "test_X_cell = test_X_cell.astype('float32')\n",
    "train_X_drug = train_X_drug.astype('float32')\n",
    "test_X_drug = test_X_drug.astype('float32')\n",
    "# train_X /= 255\n",
    "# test_X /= 255\n",
    "print('train_X shape:', train_X.shape)\n",
    "print(train_X.shape[0], 'train samples')\n",
    "print(test_X.shape[0], 'test samples')"
   ]
  },
  {
   "cell_type": "code",
   "execution_count": 20,
   "metadata": {},
   "outputs": [
    {
     "name": "stdout",
     "output_type": "stream",
     "text": [
      "WARNING:tensorflow:From C:\\Users\\a\\AppData\\Roaming\\Python\\Python37\\site-packages\\tensorflow\\python\\framework\\op_def_library.py:263: colocate_with (from tensorflow.python.framework.ops) is deprecated and will be removed in a future version.\n",
      "Instructions for updating:\n",
      "Colocations handled automatically by placer.\n",
      "WARNING:tensorflow:From C:\\Users\\a\\AppData\\Roaming\\Python\\Python37\\site-packages\\keras\\backend\\tensorflow_backend.py:3445: calling dropout (from tensorflow.python.ops.nn_ops) with keep_prob is deprecated and will be removed in a future version.\n",
      "Instructions for updating:\n",
      "Please use `rate` instead of `keep_prob`. Rate should be set to `rate = 1 - keep_prob`.\n"
     ]
    }
   ],
   "source": [
    "with K.tf.device('/GPU:0'):\n",
    "    input_cell = Input(shape=(train_X_cell.shape[1], train_X_cell.shape[2]), name='cell_input')\n",
    "    input_drug = Input(shape=(train_X_drug.shape[1], train_X_drug.shape[2]), name='drug_input')\n",
    "\n",
    "    conv_cell_line_1 = Conv1D(filters=50, kernel_size=700, strides=5, activation='tanh')(input_cell)\n",
    "    maxpool_cell_line_1 = MaxPooling1D(pool_size=5)(conv_cell_line_1)\n",
    "    conv_cell_line_2 = Conv1D(filters=30, kernel_size=5, strides=2, activation='relu')(maxpool_cell_line_1)\n",
    "    maxpool_cell_line_2 = MaxPooling1D(pool_size=10)(conv_cell_line_2)\n",
    "    flatten_cell_line = Flatten()(maxpool_cell_line_2)\n",
    "    dense_cell_line = Dense(100, activation='relu')(flatten_cell_line)\n",
    "    dropout_cell_line = Dropout(0.1)(dense_cell_line)\n",
    "\n",
    "    conv_drug_1 = Conv1D(filters=50, kernel_size=200, strides=3, activation='tanh')(input_drug)\n",
    "    maxpool_drug_1 = MaxPooling1D(pool_size=5)(conv_drug_1)\n",
    "    conv_drug_2 = Conv1D(filters=30, kernel_size=50, strides=5, activation='relu')(maxpool_drug_1)\n",
    "    maxpool_drug_2 = MaxPooling1D(pool_size=10)(conv_drug_2)\n",
    "    flatten_drug = Flatten()(maxpool_drug_2)\n",
    "    dense_drug = Dense(100, activation='relu')(flatten_drug)\n",
    "    dropout_drug = Dropout(0.1)(dense_drug)\n",
    "\n",
    "    concatenate = Concatenate()([dropout_cell_line, dropout_drug])\n",
    "    dense_1 = Dense(300, activation='tanh')(concatenate)\n",
    "    dropout_1 = Dropout(0.1)(dense_1)\n",
    "    reshape_1 = Reshape((300,1))(dropout_1)\n",
    "    conv_1 = Conv1D(filters=30, kernel_size=150, strides=1, activation='relu')(reshape_1)\n",
    "    maxpool_1 = MaxPooling1D(pool_size=2)(conv_1)\n",
    "    conv_2 = Conv1D(filters=10, kernel_size=5, strides=1, activation='relu')(maxpool_1)\n",
    "    maxpool_2 = MaxPooling1D(pool_size=3)(conv_2)\n",
    "    conv_3 = Conv1D(filters=5, kernel_size=5, strides=1, activation='relu')(maxpool_2)\n",
    "    maxpool_3 = MaxPooling1D(pool_size=3)(conv_3)\n",
    "    dropout_2 = Dropout(0.1)(maxpool_3)\n",
    "    flatten = Flatten()(dropout_2)\n",
    "    dropout_3 = Dropout(0.2)(flatten)\n",
    "    output = Dense(1, activation='linear', name='pred_lnIC50')(dropout_3)\n",
    "    model = Model(inputs=[input_cell, input_drug], outputs=output, name='MasterModel')\n",
    "\n"
   ]
  },
  {
   "cell_type": "code",
   "execution_count": 21,
   "metadata": {
    "scrolled": false
   },
   "outputs": [
    {
     "name": "stdout",
     "output_type": "stream",
     "text": [
      "__________________________________________________________________________________________________\n",
      "Layer (type)                    Output Shape         Param #     Connected to                     \n",
      "==================================================================================================\n",
      "cell_input (InputLayer)         (None, 21213, 1)     0                                            \n",
      "__________________________________________________________________________________________________\n",
      "drug_input (InputLayer)         (None, 2325, 1)      0                                            \n",
      "__________________________________________________________________________________________________\n",
      "conv1d_1 (Conv1D)               (None, 4103, 50)     35050       cell_input[0][0]                 \n",
      "__________________________________________________________________________________________________\n",
      "conv1d_3 (Conv1D)               (None, 709, 50)      10050       drug_input[0][0]                 \n",
      "__________________________________________________________________________________________________\n",
      "max_pooling1d_1 (MaxPooling1D)  (None, 820, 50)      0           conv1d_1[0][0]                   \n",
      "__________________________________________________________________________________________________\n",
      "max_pooling1d_3 (MaxPooling1D)  (None, 141, 50)      0           conv1d_3[0][0]                   \n",
      "__________________________________________________________________________________________________\n",
      "conv1d_2 (Conv1D)               (None, 408, 30)      7530        max_pooling1d_1[0][0]            \n",
      "__________________________________________________________________________________________________\n",
      "conv1d_4 (Conv1D)               (None, 19, 30)       75030       max_pooling1d_3[0][0]            \n",
      "__________________________________________________________________________________________________\n",
      "max_pooling1d_2 (MaxPooling1D)  (None, 40, 30)       0           conv1d_2[0][0]                   \n",
      "__________________________________________________________________________________________________\n",
      "max_pooling1d_4 (MaxPooling1D)  (None, 1, 30)        0           conv1d_4[0][0]                   \n",
      "__________________________________________________________________________________________________\n",
      "flatten_1 (Flatten)             (None, 1200)         0           max_pooling1d_2[0][0]            \n",
      "__________________________________________________________________________________________________\n",
      "flatten_2 (Flatten)             (None, 30)           0           max_pooling1d_4[0][0]            \n",
      "__________________________________________________________________________________________________\n",
      "dense_1 (Dense)                 (None, 100)          120100      flatten_1[0][0]                  \n",
      "__________________________________________________________________________________________________\n",
      "dense_2 (Dense)                 (None, 100)          3100        flatten_2[0][0]                  \n",
      "__________________________________________________________________________________________________\n",
      "dropout_1 (Dropout)             (None, 100)          0           dense_1[0][0]                    \n",
      "__________________________________________________________________________________________________\n",
      "dropout_2 (Dropout)             (None, 100)          0           dense_2[0][0]                    \n",
      "__________________________________________________________________________________________________\n",
      "concatenate_1 (Concatenate)     (None, 200)          0           dropout_1[0][0]                  \n",
      "                                                                 dropout_2[0][0]                  \n",
      "__________________________________________________________________________________________________\n",
      "dense_3 (Dense)                 (None, 300)          60300       concatenate_1[0][0]              \n",
      "__________________________________________________________________________________________________\n",
      "dropout_3 (Dropout)             (None, 300)          0           dense_3[0][0]                    \n",
      "__________________________________________________________________________________________________\n",
      "reshape_1 (Reshape)             (None, 300, 1)       0           dropout_3[0][0]                  \n",
      "__________________________________________________________________________________________________\n",
      "conv1d_5 (Conv1D)               (None, 151, 30)      4530        reshape_1[0][0]                  \n",
      "__________________________________________________________________________________________________\n",
      "max_pooling1d_5 (MaxPooling1D)  (None, 75, 30)       0           conv1d_5[0][0]                   \n",
      "__________________________________________________________________________________________________\n",
      "conv1d_6 (Conv1D)               (None, 71, 10)       1510        max_pooling1d_5[0][0]            \n",
      "__________________________________________________________________________________________________\n",
      "max_pooling1d_6 (MaxPooling1D)  (None, 23, 10)       0           conv1d_6[0][0]                   \n",
      "__________________________________________________________________________________________________\n",
      "conv1d_7 (Conv1D)               (None, 19, 5)        255         max_pooling1d_6[0][0]            \n",
      "__________________________________________________________________________________________________\n",
      "max_pooling1d_7 (MaxPooling1D)  (None, 6, 5)         0           conv1d_7[0][0]                   \n",
      "__________________________________________________________________________________________________\n",
      "dropout_4 (Dropout)             (None, 6, 5)         0           max_pooling1d_7[0][0]            \n",
      "__________________________________________________________________________________________________\n",
      "flatten_3 (Flatten)             (None, 30)           0           dropout_4[0][0]                  \n",
      "__________________________________________________________________________________________________\n",
      "dropout_5 (Dropout)             (None, 30)           0           flatten_3[0][0]                  \n",
      "__________________________________________________________________________________________________\n",
      "pred_lnIC50 (Dense)             (None, 1)            31          dropout_5[0][0]                  \n",
      "==================================================================================================\n",
      "Total params: 317,486\n",
      "Trainable params: 317,486\n",
      "Non-trainable params: 0\n",
      "__________________________________________________________________________________________________\n"
     ]
    }
   ],
   "source": [
    "model.summary()"
   ]
  },
  {
   "cell_type": "code",
   "execution_count": 22,
   "metadata": {},
   "outputs": [],
   "source": [
    "config = tf.ConfigProto()\n",
    "config.gpu_options.allow_growth = True\n",
    "sess = tf.Session(config=config)"
   ]
  },
  {
   "cell_type": "code",
   "execution_count": 23,
   "metadata": {
    "scrolled": false
   },
   "outputs": [
    {
     "name": "stdout",
     "output_type": "stream",
     "text": [
      "StartTime : 2020-11-23 14:34:40.049942\n",
      "WARNING:tensorflow:From C:\\Users\\a\\AppData\\Roaming\\Python\\Python37\\site-packages\\tensorflow\\python\\ops\\math_ops.py:3066: to_int32 (from tensorflow.python.ops.math_ops) is deprecated and will be removed in a future version.\n",
      "Instructions for updating:\n",
      "Use tf.cast instead.\n",
      "Train on 7855 samples, validate on 872 samples\n",
      "Epoch 1/150\n",
      "7855/7855 [==============================] - 5s 670us/step - loss: 3.7211 - mean_squared_error: 3.7211 - mean_absolute_error: 1.5462 - val_loss: 1.9152 - val_mean_squared_error: 1.9152 - val_mean_absolute_error: 0.9852\n",
      "Epoch 2/150\n",
      "7855/7855 [==============================] - 3s 380us/step - loss: 1.7315 - mean_squared_error: 1.7315 - mean_absolute_error: 0.9152 - val_loss: 1.1905 - val_mean_squared_error: 1.1905 - val_mean_absolute_error: 0.7064\n",
      "Epoch 3/150\n",
      "7855/7855 [==============================] - 3s 378us/step - loss: 1.4332 - mean_squared_error: 1.4332 - mean_absolute_error: 0.8245 - val_loss: 1.2097 - val_mean_squared_error: 1.2097 - val_mean_absolute_error: 0.6157\n",
      "Epoch 4/150\n",
      "7855/7855 [==============================] - 3s 376us/step - loss: 1.3865 - mean_squared_error: 1.3865 - mean_absolute_error: 0.8055 - val_loss: 1.2366 - val_mean_squared_error: 1.2366 - val_mean_absolute_error: 0.6299\n",
      "Epoch 5/150\n",
      "7855/7855 [==============================] - 3s 374us/step - loss: 1.3417 - mean_squared_error: 1.3417 - mean_absolute_error: 0.7883 - val_loss: 1.1236 - val_mean_squared_error: 1.1236 - val_mean_absolute_error: 0.6326\n",
      "Epoch 6/150\n",
      "7855/7855 [==============================] - 3s 377us/step - loss: 1.2856 - mean_squared_error: 1.2856 - mean_absolute_error: 0.7758 - val_loss: 1.1354 - val_mean_squared_error: 1.1354 - val_mean_absolute_error: 0.6520\n",
      "Epoch 7/150\n",
      "7855/7855 [==============================] - 3s 373us/step - loss: 1.3073 - mean_squared_error: 1.3073 - mean_absolute_error: 0.7864 - val_loss: 1.0950 - val_mean_squared_error: 1.0950 - val_mean_absolute_error: 0.6450\n",
      "Epoch 8/150\n",
      "7855/7855 [==============================] - 3s 378us/step - loss: 1.2534 - mean_squared_error: 1.2534 - mean_absolute_error: 0.7626 - val_loss: 1.1092 - val_mean_squared_error: 1.1092 - val_mean_absolute_error: 0.6648\n",
      "Epoch 9/150\n",
      "7855/7855 [==============================] - 3s 378us/step - loss: 1.2007 - mean_squared_error: 1.2007 - mean_absolute_error: 0.7483 - val_loss: 1.0538 - val_mean_squared_error: 1.0538 - val_mean_absolute_error: 0.5589\n",
      "Epoch 10/150\n",
      "7855/7855 [==============================] - 3s 374us/step - loss: 1.2007 - mean_squared_error: 1.2007 - mean_absolute_error: 0.7479 - val_loss: 1.0669 - val_mean_squared_error: 1.0669 - val_mean_absolute_error: 0.6449\n",
      "Epoch 11/150\n",
      "7855/7855 [==============================] - 3s 374us/step - loss: 1.1419 - mean_squared_error: 1.1419 - mean_absolute_error: 0.7299 - val_loss: 1.0514 - val_mean_squared_error: 1.0514 - val_mean_absolute_error: 0.6070\n",
      "Epoch 12/150\n",
      "7855/7855 [==============================] - 3s 374us/step - loss: 1.1385 - mean_squared_error: 1.1385 - mean_absolute_error: 0.7232 - val_loss: 1.0745 - val_mean_squared_error: 1.0745 - val_mean_absolute_error: 0.6434\n",
      "Epoch 13/150\n",
      "7855/7855 [==============================] - 3s 376us/step - loss: 1.1185 - mean_squared_error: 1.1185 - mean_absolute_error: 0.7236 - val_loss: 1.0292 - val_mean_squared_error: 1.0292 - val_mean_absolute_error: 0.5715\n",
      "Epoch 14/150\n",
      "7855/7855 [==============================] - 3s 376us/step - loss: 1.1114 - mean_squared_error: 1.1114 - mean_absolute_error: 0.7173 - val_loss: 1.0334 - val_mean_squared_error: 1.0334 - val_mean_absolute_error: 0.6342\n",
      "Epoch 15/150\n",
      "7855/7855 [==============================] - 3s 387us/step - loss: 1.0631 - mean_squared_error: 1.0631 - mean_absolute_error: 0.6991 - val_loss: 1.0293 - val_mean_squared_error: 1.0293 - val_mean_absolute_error: 0.6301\n",
      "Epoch 16/150\n",
      "7855/7855 [==============================] - 3s 373us/step - loss: 1.0733 - mean_squared_error: 1.0733 - mean_absolute_error: 0.7062 - val_loss: 1.0014 - val_mean_squared_error: 1.0014 - val_mean_absolute_error: 0.5738\n",
      "Epoch 17/150\n",
      "7855/7855 [==============================] - 3s 370us/step - loss: 1.0607 - mean_squared_error: 1.0607 - mean_absolute_error: 0.6978 - val_loss: 1.0460 - val_mean_squared_error: 1.0460 - val_mean_absolute_error: 0.6517\n",
      "Epoch 18/150\n",
      "7855/7855 [==============================] - 3s 374us/step - loss: 1.0263 - mean_squared_error: 1.0263 - mean_absolute_error: 0.6902 - val_loss: 1.0430 - val_mean_squared_error: 1.0430 - val_mean_absolute_error: 0.6635\n",
      "Epoch 19/150\n",
      "7855/7855 [==============================] - 3s 374us/step - loss: 1.0187 - mean_squared_error: 1.0187 - mean_absolute_error: 0.6843 - val_loss: 1.0112 - val_mean_squared_error: 1.0112 - val_mean_absolute_error: 0.6131\n",
      "Epoch 20/150\n",
      "7855/7855 [==============================] - 3s 372us/step - loss: 1.0070 - mean_squared_error: 1.0070 - mean_absolute_error: 0.6864 - val_loss: 1.0190 - val_mean_squared_error: 1.0190 - val_mean_absolute_error: 0.6482\n",
      "Epoch 21/150\n",
      "7855/7855 [==============================] - 3s 380us/step - loss: 0.9779 - mean_squared_error: 0.9779 - mean_absolute_error: 0.6778 - val_loss: 1.0463 - val_mean_squared_error: 1.0463 - val_mean_absolute_error: 0.6408\n",
      "Epoch 22/150\n",
      "7855/7855 [==============================] - 3s 381us/step - loss: 0.9970 - mean_squared_error: 0.9970 - mean_absolute_error: 0.6831 - val_loss: 0.9863 - val_mean_squared_error: 0.9863 - val_mean_absolute_error: 0.5548\n",
      "Epoch 23/150\n",
      "7855/7855 [==============================] - 3s 377us/step - loss: 0.9337 - mean_squared_error: 0.9337 - mean_absolute_error: 0.6617 - val_loss: 1.0125 - val_mean_squared_error: 1.0125 - val_mean_absolute_error: 0.6202\n",
      "Epoch 24/150\n",
      "7855/7855 [==============================] - 3s 368us/step - loss: 0.9758 - mean_squared_error: 0.9758 - mean_absolute_error: 0.6787 - val_loss: 0.9768 - val_mean_squared_error: 0.9768 - val_mean_absolute_error: 0.5914\n",
      "Epoch 25/150\n",
      "7855/7855 [==============================] - 3s 378us/step - loss: 0.9242 - mean_squared_error: 0.9242 - mean_absolute_error: 0.6598 - val_loss: 1.0237 - val_mean_squared_error: 1.0237 - val_mean_absolute_error: 0.6724\n",
      "Epoch 26/150\n",
      "7855/7855 [==============================] - 3s 374us/step - loss: 0.9336 - mean_squared_error: 0.9336 - mean_absolute_error: 0.6676 - val_loss: 0.9717 - val_mean_squared_error: 0.9717 - val_mean_absolute_error: 0.5807\n",
      "Epoch 27/150\n",
      "7855/7855 [==============================] - 3s 376us/step - loss: 0.9156 - mean_squared_error: 0.9156 - mean_absolute_error: 0.6590 - val_loss: 0.9620 - val_mean_squared_error: 0.9620 - val_mean_absolute_error: 0.5855\n",
      "Epoch 28/150\n",
      "7855/7855 [==============================] - 3s 378us/step - loss: 0.8900 - mean_squared_error: 0.8900 - mean_absolute_error: 0.6549 - val_loss: 0.9678 - val_mean_squared_error: 0.9678 - val_mean_absolute_error: 0.5915\n",
      "Epoch 29/150\n",
      "7855/7855 [==============================] - 3s 372us/step - loss: 0.8838 - mean_squared_error: 0.8838 - mean_absolute_error: 0.6504 - val_loss: 0.9559 - val_mean_squared_error: 0.9559 - val_mean_absolute_error: 0.5978\n",
      "Epoch 30/150\n",
      "7855/7855 [==============================] - 3s 372us/step - loss: 0.8777 - mean_squared_error: 0.8777 - mean_absolute_error: 0.6534 - val_loss: 0.9368 - val_mean_squared_error: 0.9368 - val_mean_absolute_error: 0.5718\n",
      "Epoch 31/150\n",
      "7855/7855 [==============================] - 3s 374us/step - loss: 0.8495 - mean_squared_error: 0.8495 - mean_absolute_error: 0.6439 - val_loss: 0.9448 - val_mean_squared_error: 0.9448 - val_mean_absolute_error: 0.5273\n",
      "Epoch 32/150\n",
      "7855/7855 [==============================] - 3s 374us/step - loss: 0.8294 - mean_squared_error: 0.8294 - mean_absolute_error: 0.6357 - val_loss: 0.9723 - val_mean_squared_error: 0.9723 - val_mean_absolute_error: 0.6057\n",
      "Epoch 33/150\n",
      "7855/7855 [==============================] - 3s 374us/step - loss: 0.8106 - mean_squared_error: 0.8106 - mean_absolute_error: 0.6295 - val_loss: 0.9731 - val_mean_squared_error: 0.9731 - val_mean_absolute_error: 0.5681\n",
      "Epoch 34/150\n",
      "7855/7855 [==============================] - 3s 374us/step - loss: 0.8261 - mean_squared_error: 0.8261 - mean_absolute_error: 0.6382 - val_loss: 0.9811 - val_mean_squared_error: 0.9811 - val_mean_absolute_error: 0.6287\n"
     ]
    },
    {
     "name": "stdout",
     "output_type": "stream",
     "text": [
      "Epoch 35/150\n",
      "7855/7855 [==============================] - 3s 376us/step - loss: 0.8085 - mean_squared_error: 0.8085 - mean_absolute_error: 0.6297 - val_loss: 0.9776 - val_mean_squared_error: 0.9776 - val_mean_absolute_error: 0.5724\n",
      "Epoch 36/150\n",
      "7855/7855 [==============================] - 3s 374us/step - loss: 0.8249 - mean_squared_error: 0.8249 - mean_absolute_error: 0.6376 - val_loss: 0.9540 - val_mean_squared_error: 0.9540 - val_mean_absolute_error: 0.6331\n",
      "Epoch 37/150\n",
      "7855/7855 [==============================] - 3s 374us/step - loss: 0.8073 - mean_squared_error: 0.8073 - mean_absolute_error: 0.6288 - val_loss: 0.9683 - val_mean_squared_error: 0.9683 - val_mean_absolute_error: 0.5878\n",
      "Epoch 38/150\n",
      "7855/7855 [==============================] - 3s 374us/step - loss: 0.7887 - mean_squared_error: 0.7887 - mean_absolute_error: 0.6210 - val_loss: 0.9238 - val_mean_squared_error: 0.9238 - val_mean_absolute_error: 0.5912\n",
      "Epoch 39/150\n",
      "7855/7855 [==============================] - 3s 374us/step - loss: 0.7728 - mean_squared_error: 0.7728 - mean_absolute_error: 0.6167 - val_loss: 0.9477 - val_mean_squared_error: 0.9477 - val_mean_absolute_error: 0.5739\n",
      "Epoch 40/150\n",
      "7855/7855 [==============================] - 3s 376us/step - loss: 0.7929 - mean_squared_error: 0.7929 - mean_absolute_error: 0.6202 - val_loss: 0.9065 - val_mean_squared_error: 0.9065 - val_mean_absolute_error: 0.5456\n",
      "Epoch 41/150\n",
      "7855/7855 [==============================] - 3s 374us/step - loss: 0.7870 - mean_squared_error: 0.7870 - mean_absolute_error: 0.6183 - val_loss: 0.9395 - val_mean_squared_error: 0.9395 - val_mean_absolute_error: 0.6036\n",
      "Epoch 42/150\n",
      "7855/7855 [==============================] - 3s 376us/step - loss: 0.7620 - mean_squared_error: 0.7620 - mean_absolute_error: 0.6082 - val_loss: 0.9366 - val_mean_squared_error: 0.9366 - val_mean_absolute_error: 0.5852\n",
      "Epoch 43/150\n",
      "7855/7855 [==============================] - 3s 374us/step - loss: 0.7772 - mean_squared_error: 0.7772 - mean_absolute_error: 0.6174 - val_loss: 0.9213 - val_mean_squared_error: 0.9213 - val_mean_absolute_error: 0.5520\n",
      "Epoch 44/150\n",
      "7855/7855 [==============================] - 3s 376us/step - loss: 0.7543 - mean_squared_error: 0.7543 - mean_absolute_error: 0.6058 - val_loss: 0.9064 - val_mean_squared_error: 0.9064 - val_mean_absolute_error: 0.5401\n",
      "Epoch 45/150\n",
      "7855/7855 [==============================] - 3s 374us/step - loss: 0.7608 - mean_squared_error: 0.7608 - mean_absolute_error: 0.6072 - val_loss: 0.9165 - val_mean_squared_error: 0.9165 - val_mean_absolute_error: 0.5550\n",
      "Epoch 46/150\n",
      "7855/7855 [==============================] - 3s 376us/step - loss: 0.7494 - mean_squared_error: 0.7494 - mean_absolute_error: 0.6050 - val_loss: 0.9243 - val_mean_squared_error: 0.9243 - val_mean_absolute_error: 0.6081\n",
      "Epoch 47/150\n",
      "7855/7855 [==============================] - 3s 376us/step - loss: 0.7507 - mean_squared_error: 0.7507 - mean_absolute_error: 0.6088 - val_loss: 0.9151 - val_mean_squared_error: 0.9151 - val_mean_absolute_error: 0.5749\n",
      "Epoch 48/150\n",
      "7855/7855 [==============================] - 3s 376us/step - loss: 0.7521 - mean_squared_error: 0.7521 - mean_absolute_error: 0.6032 - val_loss: 0.9142 - val_mean_squared_error: 0.9142 - val_mean_absolute_error: 0.5506\n",
      "Epoch 49/150\n",
      "7855/7855 [==============================] - 3s 374us/step - loss: 0.7483 - mean_squared_error: 0.7483 - mean_absolute_error: 0.6058 - val_loss: 0.9249 - val_mean_squared_error: 0.9249 - val_mean_absolute_error: 0.5547\n",
      "Epoch 50/150\n",
      "7855/7855 [==============================] - 3s 376us/step - loss: 0.7421 - mean_squared_error: 0.7421 - mean_absolute_error: 0.5996 - val_loss: 0.9627 - val_mean_squared_error: 0.9627 - val_mean_absolute_error: 0.6352\n",
      "Epoch 51/150\n",
      "7855/7855 [==============================] - 3s 376us/step - loss: 0.7457 - mean_squared_error: 0.7457 - mean_absolute_error: 0.5964 - val_loss: 0.9343 - val_mean_squared_error: 0.9343 - val_mean_absolute_error: 0.5539\n",
      "Epoch 52/150\n",
      "7855/7855 [==============================] - 3s 374us/step - loss: 0.7286 - mean_squared_error: 0.7286 - mean_absolute_error: 0.5976 - val_loss: 0.9287 - val_mean_squared_error: 0.9287 - val_mean_absolute_error: 0.5575\n",
      "Epoch 53/150\n",
      "7855/7855 [==============================] - 3s 378us/step - loss: 0.7250 - mean_squared_error: 0.7250 - mean_absolute_error: 0.5954 - val_loss: 0.9585 - val_mean_squared_error: 0.9585 - val_mean_absolute_error: 0.6035\n",
      "Epoch 54/150\n",
      "7855/7855 [==============================] - 3s 376us/step - loss: 0.7367 - mean_squared_error: 0.7367 - mean_absolute_error: 0.5947 - val_loss: 0.9567 - val_mean_squared_error: 0.9567 - val_mean_absolute_error: 0.5661\n",
      "Epoch 55/150\n",
      "7855/7855 [==============================] - 3s 376us/step - loss: 0.7124 - mean_squared_error: 0.7124 - mean_absolute_error: 0.5877 - val_loss: 0.9609 - val_mean_squared_error: 0.9609 - val_mean_absolute_error: 0.6150\n",
      "Epoch 56/150\n",
      "7855/7855 [==============================] - 3s 376us/step - loss: 0.7252 - mean_squared_error: 0.7252 - mean_absolute_error: 0.5942 - val_loss: 0.9074 - val_mean_squared_error: 0.9074 - val_mean_absolute_error: 0.5550\n",
      "Epoch 57/150\n",
      "7855/7855 [==============================] - 3s 376us/step - loss: 0.7080 - mean_squared_error: 0.7080 - mean_absolute_error: 0.5853 - val_loss: 0.9602 - val_mean_squared_error: 0.9602 - val_mean_absolute_error: 0.5458\n",
      "Epoch 58/150\n",
      "7855/7855 [==============================] - 3s 376us/step - loss: 0.7092 - mean_squared_error: 0.7092 - mean_absolute_error: 0.5841 - val_loss: 0.9539 - val_mean_squared_error: 0.9539 - val_mean_absolute_error: 0.5715\n",
      "Epoch 59/150\n",
      "7855/7855 [==============================] - 3s 378us/step - loss: 0.7080 - mean_squared_error: 0.7080 - mean_absolute_error: 0.5900 - val_loss: 0.9110 - val_mean_squared_error: 0.9110 - val_mean_absolute_error: 0.5501\n",
      "Epoch 60/150\n",
      "7855/7855 [==============================] - 3s 376us/step - loss: 0.7171 - mean_squared_error: 0.7171 - mean_absolute_error: 0.5844 - val_loss: 0.9336 - val_mean_squared_error: 0.9336 - val_mean_absolute_error: 0.5270\n",
      "Epoch 61/150\n",
      "7855/7855 [==============================] - 3s 378us/step - loss: 0.7275 - mean_squared_error: 0.7275 - mean_absolute_error: 0.5909 - val_loss: 0.9493 - val_mean_squared_error: 0.9493 - val_mean_absolute_error: 0.5830\n",
      "Epoch 62/150\n",
      "7855/7855 [==============================] - 3s 378us/step - loss: 0.6961 - mean_squared_error: 0.6961 - mean_absolute_error: 0.5853 - val_loss: 0.9124 - val_mean_squared_error: 0.9124 - val_mean_absolute_error: 0.5209\n",
      "Epoch 63/150\n",
      "7855/7855 [==============================] - 3s 376us/step - loss: 0.6827 - mean_squared_error: 0.6827 - mean_absolute_error: 0.5727 - val_loss: 0.9448 - val_mean_squared_error: 0.9448 - val_mean_absolute_error: 0.5309\n",
      "Epoch 64/150\n",
      "7855/7855 [==============================] - 3s 376us/step - loss: 0.7027 - mean_squared_error: 0.7027 - mean_absolute_error: 0.5820 - val_loss: 0.9395 - val_mean_squared_error: 0.9395 - val_mean_absolute_error: 0.5595\n",
      "Epoch 65/150\n",
      "7855/7855 [==============================] - 3s 376us/step - loss: 0.6958 - mean_squared_error: 0.6958 - mean_absolute_error: 0.5763 - val_loss: 0.9241 - val_mean_squared_error: 0.9241 - val_mean_absolute_error: 0.5560\n",
      "Epoch 66/150\n",
      "7855/7855 [==============================] - 3s 378us/step - loss: 0.6945 - mean_squared_error: 0.6945 - mean_absolute_error: 0.5757 - val_loss: 0.9478 - val_mean_squared_error: 0.9478 - val_mean_absolute_error: 0.5265\n",
      "Epoch 67/150\n",
      "7855/7855 [==============================] - 3s 376us/step - loss: 0.7041 - mean_squared_error: 0.7041 - mean_absolute_error: 0.5767 - val_loss: 0.9227 - val_mean_squared_error: 0.9227 - val_mean_absolute_error: 0.5460\n",
      "Epoch 68/150\n",
      "7855/7855 [==============================] - 3s 378us/step - loss: 0.6877 - mean_squared_error: 0.6877 - mean_absolute_error: 0.5720 - val_loss: 0.9241 - val_mean_squared_error: 0.9241 - val_mean_absolute_error: 0.5541\n",
      "Epoch 69/150\n",
      "7855/7855 [==============================] - 3s 376us/step - loss: 0.6810 - mean_squared_error: 0.6810 - mean_absolute_error: 0.5710 - val_loss: 0.9012 - val_mean_squared_error: 0.9012 - val_mean_absolute_error: 0.5248\n",
      "Epoch 70/150\n"
     ]
    },
    {
     "name": "stdout",
     "output_type": "stream",
     "text": [
      "7855/7855 [==============================] - 3s 376us/step - loss: 0.6807 - mean_squared_error: 0.6807 - mean_absolute_error: 0.5714 - val_loss: 0.9079 - val_mean_squared_error: 0.9079 - val_mean_absolute_error: 0.5485\n",
      "Epoch 71/150\n",
      "7855/7855 [==============================] - 3s 374us/step - loss: 0.6766 - mean_squared_error: 0.6766 - mean_absolute_error: 0.5700 - val_loss: 0.9127 - val_mean_squared_error: 0.9127 - val_mean_absolute_error: 0.5628\n",
      "Epoch 72/150\n",
      "7855/7855 [==============================] - 3s 376us/step - loss: 0.6718 - mean_squared_error: 0.6718 - mean_absolute_error: 0.5686 - val_loss: 0.9289 - val_mean_squared_error: 0.9289 - val_mean_absolute_error: 0.5915\n",
      "Epoch 73/150\n",
      "7855/7855 [==============================] - 3s 376us/step - loss: 0.6729 - mean_squared_error: 0.6729 - mean_absolute_error: 0.5641 - val_loss: 0.9122 - val_mean_squared_error: 0.9122 - val_mean_absolute_error: 0.5492\n",
      "Epoch 74/150\n",
      "7855/7855 [==============================] - 3s 374us/step - loss: 0.6695 - mean_squared_error: 0.6695 - mean_absolute_error: 0.5639 - val_loss: 0.9408 - val_mean_squared_error: 0.9408 - val_mean_absolute_error: 0.6193\n",
      "Epoch 75/150\n",
      "7855/7855 [==============================] - 3s 376us/step - loss: 0.6825 - mean_squared_error: 0.6825 - mean_absolute_error: 0.5723 - val_loss: 0.9150 - val_mean_squared_error: 0.9150 - val_mean_absolute_error: 0.5418\n",
      "Epoch 76/150\n",
      "7855/7855 [==============================] - 3s 376us/step - loss: 0.6574 - mean_squared_error: 0.6574 - mean_absolute_error: 0.5576 - val_loss: 0.9317 - val_mean_squared_error: 0.9317 - val_mean_absolute_error: 0.5766\n",
      "Epoch 77/150\n",
      "7855/7855 [==============================] - 3s 376us/step - loss: 0.6507 - mean_squared_error: 0.6507 - mean_absolute_error: 0.5528 - val_loss: 0.9178 - val_mean_squared_error: 0.9178 - val_mean_absolute_error: 0.5529\n",
      "Epoch 78/150\n",
      "7855/7855 [==============================] - 3s 376us/step - loss: 0.6510 - mean_squared_error: 0.6510 - mean_absolute_error: 0.5535 - val_loss: 0.9332 - val_mean_squared_error: 0.9332 - val_mean_absolute_error: 0.5710\n",
      "Epoch 79/150\n",
      "7855/7855 [==============================] - 3s 374us/step - loss: 0.6544 - mean_squared_error: 0.6544 - mean_absolute_error: 0.5578 - val_loss: 0.9208 - val_mean_squared_error: 0.9208 - val_mean_absolute_error: 0.5593\n",
      "Epoch 80/150\n",
      "7855/7855 [==============================] - 3s 375us/step - loss: 0.6696 - mean_squared_error: 0.6696 - mean_absolute_error: 0.5618 - val_loss: 0.9407 - val_mean_squared_error: 0.9407 - val_mean_absolute_error: 0.5678\n",
      "Epoch 81/150\n",
      "7855/7855 [==============================] - 3s 374us/step - loss: 0.6546 - mean_squared_error: 0.6546 - mean_absolute_error: 0.5560 - val_loss: 0.9098 - val_mean_squared_error: 0.9098 - val_mean_absolute_error: 0.5111\n",
      "Epoch 82/150\n",
      "7855/7855 [==============================] - 3s 376us/step - loss: 0.6525 - mean_squared_error: 0.6525 - mean_absolute_error: 0.5534 - val_loss: 0.9312 - val_mean_squared_error: 0.9312 - val_mean_absolute_error: 0.5883\n",
      "Epoch 83/150\n",
      "7855/7855 [==============================] - 3s 374us/step - loss: 0.6479 - mean_squared_error: 0.6479 - mean_absolute_error: 0.5511 - val_loss: 0.9259 - val_mean_squared_error: 0.9259 - val_mean_absolute_error: 0.5677\n",
      "Epoch 84/150\n",
      "7855/7855 [==============================] - 3s 376us/step - loss: 0.6425 - mean_squared_error: 0.6425 - mean_absolute_error: 0.5493 - val_loss: 0.9252 - val_mean_squared_error: 0.9252 - val_mean_absolute_error: 0.6082\n",
      "Epoch 85/150\n",
      "7855/7855 [==============================] - 3s 374us/step - loss: 0.6472 - mean_squared_error: 0.6472 - mean_absolute_error: 0.5565 - val_loss: 0.9121 - val_mean_squared_error: 0.9121 - val_mean_absolute_error: 0.5105\n",
      "Epoch 86/150\n",
      "7855/7855 [==============================] - 3s 376us/step - loss: 0.6269 - mean_squared_error: 0.6269 - mean_absolute_error: 0.5432 - val_loss: 0.9256 - val_mean_squared_error: 0.9256 - val_mean_absolute_error: 0.5525\n",
      "Epoch 87/150\n",
      "7855/7855 [==============================] - 3s 376us/step - loss: 0.6562 - mean_squared_error: 0.6562 - mean_absolute_error: 0.5537 - val_loss: 0.9403 - val_mean_squared_error: 0.9403 - val_mean_absolute_error: 0.5387\n",
      "Epoch 88/150\n",
      "7855/7855 [==============================] - 3s 374us/step - loss: 0.6490 - mean_squared_error: 0.6490 - mean_absolute_error: 0.5525 - val_loss: 0.9442 - val_mean_squared_error: 0.9442 - val_mean_absolute_error: 0.5327\n",
      "Epoch 89/150\n",
      "7855/7855 [==============================] - 3s 376us/step - loss: 0.6456 - mean_squared_error: 0.6456 - mean_absolute_error: 0.5517 - val_loss: 0.9553 - val_mean_squared_error: 0.9553 - val_mean_absolute_error: 0.5687\n",
      "Epoch 90/150\n",
      "7855/7855 [==============================] - 3s 376us/step - loss: 0.6213 - mean_squared_error: 0.6213 - mean_absolute_error: 0.5412 - val_loss: 0.9318 - val_mean_squared_error: 0.9318 - val_mean_absolute_error: 0.5700\n",
      "Epoch 91/150\n",
      "7855/7855 [==============================] - 3s 376us/step - loss: 0.6259 - mean_squared_error: 0.6259 - mean_absolute_error: 0.5446 - val_loss: 0.9410 - val_mean_squared_error: 0.9410 - val_mean_absolute_error: 0.5557\n",
      "Epoch 92/150\n",
      "7855/7855 [==============================] - 3s 376us/step - loss: 0.6085 - mean_squared_error: 0.6085 - mean_absolute_error: 0.5356 - val_loss: 0.9675 - val_mean_squared_error: 0.9675 - val_mean_absolute_error: 0.5892\n",
      "Epoch 93/150\n",
      "7855/7855 [==============================] - 3s 376us/step - loss: 0.6159 - mean_squared_error: 0.6159 - mean_absolute_error: 0.5438 - val_loss: 0.9507 - val_mean_squared_error: 0.9507 - val_mean_absolute_error: 0.5058\n",
      "Epoch 94/150\n",
      "7855/7855 [==============================] - 3s 374us/step - loss: 0.6203 - mean_squared_error: 0.6203 - mean_absolute_error: 0.5371 - val_loss: 0.9443 - val_mean_squared_error: 0.9443 - val_mean_absolute_error: 0.5499\n",
      "Epoch 95/150\n",
      "7855/7855 [==============================] - 3s 376us/step - loss: 0.6172 - mean_squared_error: 0.6172 - mean_absolute_error: 0.5411 - val_loss: 0.9141 - val_mean_squared_error: 0.9141 - val_mean_absolute_error: 0.5670\n",
      "Epoch 96/150\n",
      "7855/7855 [==============================] - 3s 378us/step - loss: 0.5978 - mean_squared_error: 0.5978 - mean_absolute_error: 0.5357 - val_loss: 0.9467 - val_mean_squared_error: 0.9467 - val_mean_absolute_error: 0.5671\n",
      "Epoch 97/150\n",
      "7855/7855 [==============================] - 3s 378us/step - loss: 0.5945 - mean_squared_error: 0.5945 - mean_absolute_error: 0.5299 - val_loss: 0.9156 - val_mean_squared_error: 0.9156 - val_mean_absolute_error: 0.5641\n",
      "Epoch 98/150\n",
      "7855/7855 [==============================] - 3s 374us/step - loss: 0.6032 - mean_squared_error: 0.6032 - mean_absolute_error: 0.5366 - val_loss: 0.9066 - val_mean_squared_error: 0.9066 - val_mean_absolute_error: 0.5626\n",
      "Epoch 99/150\n",
      "7855/7855 [==============================] - 3s 376us/step - loss: 0.5971 - mean_squared_error: 0.5971 - mean_absolute_error: 0.5300 - val_loss: 0.9484 - val_mean_squared_error: 0.9484 - val_mean_absolute_error: 0.5761\n",
      "Epoch 100/150\n",
      "7855/7855 [==============================] - 3s 376us/step - loss: 0.6144 - mean_squared_error: 0.6144 - mean_absolute_error: 0.5387 - val_loss: 0.9198 - val_mean_squared_error: 0.9198 - val_mean_absolute_error: 0.5640\n",
      "Epoch 101/150\n",
      "7855/7855 [==============================] - 3s 376us/step - loss: 0.5946 - mean_squared_error: 0.5946 - mean_absolute_error: 0.5267 - val_loss: 0.9360 - val_mean_squared_error: 0.9360 - val_mean_absolute_error: 0.5525\n",
      "Epoch 102/150\n",
      "7855/7855 [==============================] - 3s 376us/step - loss: 0.5964 - mean_squared_error: 0.5964 - mean_absolute_error: 0.5314 - val_loss: 0.9077 - val_mean_squared_error: 0.9077 - val_mean_absolute_error: 0.5592\n",
      "Epoch 103/150\n",
      "7855/7855 [==============================] - 3s 376us/step - loss: 0.6021 - mean_squared_error: 0.6021 - mean_absolute_error: 0.5329 - val_loss: 0.9135 - val_mean_squared_error: 0.9135 - val_mean_absolute_error: 0.5355\n",
      "Epoch 104/150\n",
      "7855/7855 [==============================] - 3s 374us/step - loss: 0.5867 - mean_squared_error: 0.5867 - mean_absolute_error: 0.5309 - val_loss: 0.9123 - val_mean_squared_error: 0.9123 - val_mean_absolute_error: 0.5430\n",
      "Epoch 105/150\n"
     ]
    },
    {
     "name": "stdout",
     "output_type": "stream",
     "text": [
      "7855/7855 [==============================] - 3s 376us/step - loss: 0.5869 - mean_squared_error: 0.5869 - mean_absolute_error: 0.5279 - val_loss: 0.9523 - val_mean_squared_error: 0.9523 - val_mean_absolute_error: 0.5534\n",
      "Epoch 106/150\n",
      "7855/7855 [==============================] - 3s 376us/step - loss: 0.5685 - mean_squared_error: 0.5685 - mean_absolute_error: 0.5208 - val_loss: 0.9317 - val_mean_squared_error: 0.9317 - val_mean_absolute_error: 0.5552\n",
      "Epoch 107/150\n",
      "7855/7855 [==============================] - 3s 376us/step - loss: 0.5706 - mean_squared_error: 0.5706 - mean_absolute_error: 0.5229 - val_loss: 0.9226 - val_mean_squared_error: 0.9226 - val_mean_absolute_error: 0.5453\n",
      "Epoch 108/150\n",
      "7855/7855 [==============================] - 3s 380us/step - loss: 0.5738 - mean_squared_error: 0.5738 - mean_absolute_error: 0.5238 - val_loss: 0.9501 - val_mean_squared_error: 0.9501 - val_mean_absolute_error: 0.5713\n",
      "Epoch 109/150\n",
      "7855/7855 [==============================] - 3s 376us/step - loss: 0.5903 - mean_squared_error: 0.5903 - mean_absolute_error: 0.5315 - val_loss: 0.9323 - val_mean_squared_error: 0.9323 - val_mean_absolute_error: 0.5438\n",
      "Epoch 110/150\n",
      "7855/7855 [==============================] - 3s 374us/step - loss: 0.5768 - mean_squared_error: 0.5768 - mean_absolute_error: 0.5240 - val_loss: 0.9142 - val_mean_squared_error: 0.9142 - val_mean_absolute_error: 0.5192\n",
      "Epoch 111/150\n",
      "7855/7855 [==============================] - 3s 376us/step - loss: 0.5577 - mean_squared_error: 0.5577 - mean_absolute_error: 0.5181 - val_loss: 0.9379 - val_mean_squared_error: 0.9379 - val_mean_absolute_error: 0.5361\n",
      "Epoch 112/150\n",
      "7855/7855 [==============================] - 3s 376us/step - loss: 0.5724 - mean_squared_error: 0.5724 - mean_absolute_error: 0.5233 - val_loss: 0.9259 - val_mean_squared_error: 0.9259 - val_mean_absolute_error: 0.5233\n",
      "Epoch 113/150\n",
      "7855/7855 [==============================] - 3s 376us/step - loss: 0.5623 - mean_squared_error: 0.5623 - mean_absolute_error: 0.5151 - val_loss: 0.9453 - val_mean_squared_error: 0.9453 - val_mean_absolute_error: 0.5521\n",
      "Epoch 114/150\n",
      "7855/7855 [==============================] - 3s 374us/step - loss: 0.5520 - mean_squared_error: 0.5520 - mean_absolute_error: 0.5111 - val_loss: 0.9335 - val_mean_squared_error: 0.9335 - val_mean_absolute_error: 0.5351\n",
      "Epoch 115/150\n",
      "7855/7855 [==============================] - 3s 376us/step - loss: 0.5555 - mean_squared_error: 0.5555 - mean_absolute_error: 0.5152 - val_loss: 0.9443 - val_mean_squared_error: 0.9443 - val_mean_absolute_error: 0.5517\n",
      "Epoch 116/150\n",
      "7855/7855 [==============================] - 3s 374us/step - loss: 0.5447 - mean_squared_error: 0.5447 - mean_absolute_error: 0.5123 - val_loss: 0.9353 - val_mean_squared_error: 0.9353 - val_mean_absolute_error: 0.5579\n",
      "Epoch 117/150\n",
      "7855/7855 [==============================] - 3s 378us/step - loss: 0.5631 - mean_squared_error: 0.5631 - mean_absolute_error: 0.5181 - val_loss: 0.9466 - val_mean_squared_error: 0.9466 - val_mean_absolute_error: 0.5501\n",
      "Epoch 118/150\n",
      "7855/7855 [==============================] - 3s 376us/step - loss: 0.5454 - mean_squared_error: 0.5454 - mean_absolute_error: 0.5124 - val_loss: 0.9103 - val_mean_squared_error: 0.9103 - val_mean_absolute_error: 0.5534\n",
      "Epoch 119/150\n",
      "7855/7855 [==============================] - 3s 378us/step - loss: 0.5495 - mean_squared_error: 0.5495 - mean_absolute_error: 0.5119 - val_loss: 0.9480 - val_mean_squared_error: 0.9480 - val_mean_absolute_error: 0.5515\n",
      "Epoch 120/150\n",
      "7855/7855 [==============================] - 3s 378us/step - loss: 0.5430 - mean_squared_error: 0.5430 - mean_absolute_error: 0.5082 - val_loss: 0.9238 - val_mean_squared_error: 0.9238 - val_mean_absolute_error: 0.5425\n",
      "Epoch 121/150\n",
      "7855/7855 [==============================] - 3s 378us/step - loss: 0.5418 - mean_squared_error: 0.5418 - mean_absolute_error: 0.5102 - val_loss: 0.9175 - val_mean_squared_error: 0.9175 - val_mean_absolute_error: 0.5427\n",
      "Epoch 122/150\n",
      "7855/7855 [==============================] - 3s 376us/step - loss: 0.5429 - mean_squared_error: 0.5429 - mean_absolute_error: 0.5085 - val_loss: 0.9250 - val_mean_squared_error: 0.9250 - val_mean_absolute_error: 0.5113\n",
      "Epoch 123/150\n",
      "7855/7855 [==============================] - 3s 374us/step - loss: 0.5450 - mean_squared_error: 0.5450 - mean_absolute_error: 0.5087 - val_loss: 0.9303 - val_mean_squared_error: 0.9303 - val_mean_absolute_error: 0.5806\n",
      "Epoch 124/150\n",
      "7855/7855 [==============================] - 3s 380us/step - loss: 0.5416 - mean_squared_error: 0.5416 - mean_absolute_error: 0.5106 - val_loss: 0.9221 - val_mean_squared_error: 0.9221 - val_mean_absolute_error: 0.5194\n",
      "Epoch 125/150\n",
      "7855/7855 [==============================] - 3s 378us/step - loss: 0.5327 - mean_squared_error: 0.5327 - mean_absolute_error: 0.5071 - val_loss: 0.9289 - val_mean_squared_error: 0.9289 - val_mean_absolute_error: 0.5496\n",
      "Epoch 126/150\n",
      "7855/7855 [==============================] - 3s 376us/step - loss: 0.5206 - mean_squared_error: 0.5206 - mean_absolute_error: 0.4951 - val_loss: 0.9170 - val_mean_squared_error: 0.9170 - val_mean_absolute_error: 0.5520\n",
      "Epoch 127/150\n",
      "7855/7855 [==============================] - 3s 376us/step - loss: 0.5254 - mean_squared_error: 0.5254 - mean_absolute_error: 0.4991 - val_loss: 0.9485 - val_mean_squared_error: 0.9485 - val_mean_absolute_error: 0.5442\n",
      "Epoch 128/150\n",
      "7855/7855 [==============================] - 3s 378us/step - loss: 0.5305 - mean_squared_error: 0.5305 - mean_absolute_error: 0.4997 - val_loss: 0.9308 - val_mean_squared_error: 0.9308 - val_mean_absolute_error: 0.5695\n",
      "Epoch 129/150\n",
      "7855/7855 [==============================] - 3s 378us/step - loss: 0.5144 - mean_squared_error: 0.5144 - mean_absolute_error: 0.4986 - val_loss: 0.9342 - val_mean_squared_error: 0.9342 - val_mean_absolute_error: 0.5258\n",
      "Epoch 130/150\n",
      "7855/7855 [==============================] - 3s 374us/step - loss: 0.5103 - mean_squared_error: 0.5103 - mean_absolute_error: 0.4923 - val_loss: 0.9475 - val_mean_squared_error: 0.9475 - val_mean_absolute_error: 0.5839\n",
      "Epoch 131/150\n",
      "7855/7855 [==============================] - 3s 378us/step - loss: 0.5057 - mean_squared_error: 0.5057 - mean_absolute_error: 0.4933 - val_loss: 0.9259 - val_mean_squared_error: 0.9259 - val_mean_absolute_error: 0.5482\n",
      "Epoch 132/150\n",
      "7855/7855 [==============================] - 3s 378us/step - loss: 0.5102 - mean_squared_error: 0.5102 - mean_absolute_error: 0.4918 - val_loss: 0.9291 - val_mean_squared_error: 0.9291 - val_mean_absolute_error: 0.5379\n",
      "Epoch 133/150\n",
      "7855/7855 [==============================] - 3s 376us/step - loss: 0.5191 - mean_squared_error: 0.5191 - mean_absolute_error: 0.4977 - val_loss: 0.9276 - val_mean_squared_error: 0.9276 - val_mean_absolute_error: 0.5605\n",
      "Epoch 134/150\n",
      "7855/7855 [==============================] - 3s 376us/step - loss: 0.5185 - mean_squared_error: 0.5185 - mean_absolute_error: 0.4985 - val_loss: 0.9529 - val_mean_squared_error: 0.9529 - val_mean_absolute_error: 0.5347\n",
      "Epoch 135/150\n",
      "7855/7855 [==============================] - 3s 378us/step - loss: 0.5095 - mean_squared_error: 0.5095 - mean_absolute_error: 0.4911 - val_loss: 0.9456 - val_mean_squared_error: 0.9456 - val_mean_absolute_error: 0.5789\n",
      "Epoch 136/150\n",
      "7855/7855 [==============================] - 3s 376us/step - loss: 0.5048 - mean_squared_error: 0.5048 - mean_absolute_error: 0.4923 - val_loss: 0.9313 - val_mean_squared_error: 0.9313 - val_mean_absolute_error: 0.5162\n",
      "Epoch 137/150\n",
      "7855/7855 [==============================] - 3s 378us/step - loss: 0.4963 - mean_squared_error: 0.4963 - mean_absolute_error: 0.4859 - val_loss: 0.9492 - val_mean_squared_error: 0.9492 - val_mean_absolute_error: 0.5652\n",
      "Epoch 138/150\n",
      "7855/7855 [==============================] - 3s 380us/step - loss: 0.5057 - mean_squared_error: 0.5057 - mean_absolute_error: 0.4928 - val_loss: 0.9247 - val_mean_squared_error: 0.9247 - val_mean_absolute_error: 0.5749\n",
      "Epoch 139/150\n",
      "7855/7855 [==============================] - 3s 380us/step - loss: 0.4996 - mean_squared_error: 0.4996 - mean_absolute_error: 0.4862 - val_loss: 0.9318 - val_mean_squared_error: 0.9318 - val_mean_absolute_error: 0.5816\n",
      "Epoch 140/150\n"
     ]
    },
    {
     "name": "stdout",
     "output_type": "stream",
     "text": [
      "7855/7855 [==============================] - 3s 378us/step - loss: 0.4827 - mean_squared_error: 0.4827 - mean_absolute_error: 0.4816 - val_loss: 0.9448 - val_mean_squared_error: 0.9448 - val_mean_absolute_error: 0.5606\n",
      "Epoch 141/150\n",
      "7855/7855 [==============================] - 3s 380us/step - loss: 0.4950 - mean_squared_error: 0.4950 - mean_absolute_error: 0.4859 - val_loss: 0.9532 - val_mean_squared_error: 0.9532 - val_mean_absolute_error: 0.5226\n",
      "Epoch 142/150\n",
      "7855/7855 [==============================] - 3s 380us/step - loss: 0.4842 - mean_squared_error: 0.4842 - mean_absolute_error: 0.4803 - val_loss: 0.9663 - val_mean_squared_error: 0.9663 - val_mean_absolute_error: 0.5380\n",
      "Epoch 143/150\n",
      "7855/7855 [==============================] - 3s 380us/step - loss: 0.4874 - mean_squared_error: 0.4874 - mean_absolute_error: 0.4867 - val_loss: 0.9756 - val_mean_squared_error: 0.9756 - val_mean_absolute_error: 0.5752\n",
      "Epoch 144/150\n",
      "7855/7855 [==============================] - 3s 380us/step - loss: 0.4779 - mean_squared_error: 0.4779 - mean_absolute_error: 0.4784 - val_loss: 0.9528 - val_mean_squared_error: 0.9528 - val_mean_absolute_error: 0.5528\n",
      "Epoch 145/150\n",
      "7855/7855 [==============================] - 3s 380us/step - loss: 0.4905 - mean_squared_error: 0.4905 - mean_absolute_error: 0.4794 - val_loss: 0.9215 - val_mean_squared_error: 0.9215 - val_mean_absolute_error: 0.5578\n",
      "Epoch 146/150\n",
      "7855/7855 [==============================] - 3s 380us/step - loss: 0.4734 - mean_squared_error: 0.4734 - mean_absolute_error: 0.4760 - val_loss: 0.9377 - val_mean_squared_error: 0.9377 - val_mean_absolute_error: 0.5377\n",
      "Epoch 147/150\n",
      "7855/7855 [==============================] - 3s 382us/step - loss: 0.4763 - mean_squared_error: 0.4763 - mean_absolute_error: 0.4753 - val_loss: 0.9426 - val_mean_squared_error: 0.9426 - val_mean_absolute_error: 0.5353\n",
      "Epoch 148/150\n",
      "7855/7855 [==============================] - 3s 380us/step - loss: 0.4791 - mean_squared_error: 0.4791 - mean_absolute_error: 0.4826 - val_loss: 0.9341 - val_mean_squared_error: 0.9341 - val_mean_absolute_error: 0.5242\n",
      "Epoch 149/150\n",
      "7855/7855 [==============================] - 3s 378us/step - loss: 0.4700 - mean_squared_error: 0.4700 - mean_absolute_error: 0.4725 - val_loss: 0.9587 - val_mean_squared_error: 0.9587 - val_mean_absolute_error: 0.5495\n",
      "Epoch 150/150\n",
      "7855/7855 [==============================] - 3s 380us/step - loss: 0.4727 - mean_squared_error: 0.4727 - mean_absolute_error: 0.4761 - val_loss: 0.9619 - val_mean_squared_error: 0.9619 - val_mean_absolute_error: 0.5896\n",
      "EndTime : 2020-11-23 14:42:06.359223\n"
     ]
    }
   ],
   "source": [
    "optim = Adam(lr=0.0002)\n",
    "\n",
    "model.compile(loss='mse',\n",
    "\t\t      optimizer=optim,\n",
    "\t\t\t  metrics=['mse','mae'])\n",
    "\n",
    "StartTime8 = datetime.now()\n",
    "print(\"StartTime :\", StartTime8)\n",
    "with K.tf.device('/GPU:0'):\n",
    "    model_train = model.fit([train_X_cell, train_X_drug], train_y, validation_data=([test_X_cell, test_X_drug], test_y),\n",
    "                            batch_size=batch_size,epochs=training_epochs,verbose=1)\n",
    "\n",
    "EndTime8 = datetime.now()\n",
    "print(\"EndTime :\", EndTime8)"
   ]
  },
  {
   "cell_type": "code",
   "execution_count": 24,
   "metadata": {},
   "outputs": [],
   "source": [
    "import json\n",
    "from keras.models import model_from_json, load_model\n",
    "workdir = \"E://Ronny_TF//201120_EDC_EYDC_MDC_other_PC//Result//MDC9K//CNN\"\n",
    "# Option 1: Save Weights + Architecture\n",
    "model.save_weights(workdir+ '//MDC9K_CNN_model_fix_v3.h5')\n",
    "with open(workdir + '//MDC9K_CNN_model_architecture_fix_v3.json', 'w') as f:\n",
    "    f.write(model.to_json())\n",
    "# Option 1: Load Weights + Architecture\n",
    "# with open('model_architecture.json', 'r') as f:\n",
    "#     new_model_1 = model_from_json(f.read())\n",
    "# new_model_1.load_weights('model_weights.h5')"
   ]
  },
  {
   "cell_type": "code",
   "execution_count": 25,
   "metadata": {},
   "outputs": [],
   "source": [
    "# Option 2: Save/Load the Entire Model\n",
    "from keras.models import load_model\n",
    "\n",
    "# Creates a HDF5 file 'my_model.h5'\n",
    "model.save(workdir + '//MDC9K_CNN_model_fix_2080ti_v3.h5')\n",
    "\n",
    "# Deletes the existing model\n",
    "# del model  \n",
    "\n",
    "# Returns a compiled model identical to the previous one\n",
    "# model = load_model('my_model.h5')"
   ]
  },
  {
   "cell_type": "code",
   "execution_count": 26,
   "metadata": {},
   "outputs": [
    {
     "name": "stdout",
     "output_type": "stream",
     "text": [
      "872/872 [==============================] - 0s 288us/step\n"
     ]
    }
   ],
   "source": [
    "test_eval = model.evaluate([test_X_cell,test_X_drug], test_label_array, verbose=1)"
   ]
  },
  {
   "cell_type": "code",
   "execution_count": 27,
   "metadata": {},
   "outputs": [
    {
     "data": {
      "text/plain": [
       "[0.9619036854133693, 0.9619036854133693, 0.589602037580735]"
      ]
     },
     "execution_count": 27,
     "metadata": {},
     "output_type": "execute_result"
    }
   ],
   "source": [
    "test_eval"
   ]
  },
  {
   "cell_type": "code",
   "execution_count": 28,
   "metadata": {},
   "outputs": [],
   "source": [
    "accuracy = model_train.history['mean_squared_error']\n",
    "val_accuracy = model_train.history['val_mean_squared_error']\n",
    "loss = model_train.history['loss']\n",
    "val_loss = model_train.history['val_loss']\n",
    "\n",
    "np_acc = np.array(accuracy)\n",
    "np_val_acc = np.array(val_accuracy)\n",
    "np_loss = np.array(loss)\n",
    "np_val_loss = np.array(val_loss)"
   ]
  },
  {
   "cell_type": "code",
   "execution_count": 29,
   "metadata": {},
   "outputs": [],
   "source": [
    "import matplotlib\n",
    "from matplotlib import pyplot as plt"
   ]
  },
  {
   "cell_type": "code",
   "execution_count": 30,
   "metadata": {},
   "outputs": [
    {
     "data": {
      "image/png": "[encoded data removed]",
      "text/plain": [
       "<Figure size 432x288 with 1 Axes>"
      ]
     },
     "metadata": {
      "needs_background": "light"
     },
     "output_type": "display_data"
    },
    {
     "data": {
      "image/png": "[encoded data removed]",
      "text/plain": [
       "<Figure size 432x288 with 1 Axes>"
      ]
     },
     "metadata": {
      "needs_background": "light"
     },
     "output_type": "display_data"
    }
   ],
   "source": [
    "# accuracy = model_train.history['acc']\n",
    "# val_accuracy = model_train.history['val_acc']\n",
    "# loss = model_train.history['loss']\n",
    "# val_loss = model_train.history['val_loss']\n",
    "epochs = range(len(accuracy))\n",
    "plt.plot(epochs, accuracy, 'bo', label='Training mse',c='red')\n",
    "plt.plot(epochs, val_accuracy, 'b', label='Validation mse',c='red')\n",
    "plt.title('Training and validation mse')\n",
    "plt.legend()\n",
    "plt.figure()\n",
    "plt.plot(epochs, loss, 'bo', label='Training loss',c='red')\n",
    "plt.plot(epochs, val_loss, 'b', label='Validation loss',c='red')\n",
    "plt.title('Training and validation loss')\n",
    "plt.legend()\n",
    "plt.show()"
   ]
  },
  {
   "cell_type": "code",
   "execution_count": 31,
   "metadata": {},
   "outputs": [],
   "source": [
    "predicted_classes = model.predict([test_X_cell,test_X_drug])"
   ]
  },
  {
   "cell_type": "code",
   "execution_count": 32,
   "metadata": {},
   "outputs": [],
   "source": [
    "predicted_value = predicted_classes"
   ]
  },
  {
   "cell_type": "code",
   "execution_count": 33,
   "metadata": {},
   "outputs": [],
   "source": [
    "a = pd.DataFrame(predicted_value)\n",
    "b = pd.DataFrame(test_label_array)\n",
    "c = pd.concat([a,b], axis=1)\n",
    "c.columns=[\"Predicted\",\"Test\"]"
   ]
  },
  {
   "cell_type": "code",
   "execution_count": 34,
   "metadata": {},
   "outputs": [],
   "source": [
    "c.to_csv(workdir + '//MDC9K_CNN_pred_obs_table.csv')"
   ]
  },
  {
   "cell_type": "code",
   "execution_count": 35,
   "metadata": {},
   "outputs": [
    {
     "data": {
      "text/html": [
       "<div>\n",
       "<style scoped>\n",
       "    .dataframe tbody tr th:only-of-type {\n",
       "        vertical-align: middle;\n",
       "    }\n",
       "\n",
       "    .dataframe tbody tr th {\n",
       "        vertical-align: top;\n",
       "    }\n",
       "\n",
       "    .dataframe thead th {\n",
       "        text-align: right;\n",
       "    }\n",
       "</style>\n",
       "<table border=\"1\" class=\"dataframe\">\n",
       "  <thead>\n",
       "    <tr style=\"text-align: right;\">\n",
       "      <th></th>\n",
       "      <th>Predicted</th>\n",
       "      <th>Test</th>\n",
       "    </tr>\n",
       "  </thead>\n",
       "  <tbody>\n",
       "    <tr>\n",
       "      <th>0</th>\n",
       "      <td>0.822314</td>\n",
       "      <td>0.577696</td>\n",
       "    </tr>\n",
       "    <tr>\n",
       "      <th>1</th>\n",
       "      <td>1.933038</td>\n",
       "      <td>2.079442</td>\n",
       "    </tr>\n",
       "    <tr>\n",
       "      <th>2</th>\n",
       "      <td>-1.679281</td>\n",
       "      <td>0.483850</td>\n",
       "    </tr>\n",
       "    <tr>\n",
       "      <th>3</th>\n",
       "      <td>1.681852</td>\n",
       "      <td>2.079442</td>\n",
       "    </tr>\n",
       "    <tr>\n",
       "      <th>4</th>\n",
       "      <td>-0.307701</td>\n",
       "      <td>-0.941620</td>\n",
       "    </tr>\n",
       "    <tr>\n",
       "      <th>...</th>\n",
       "      <td>...</td>\n",
       "      <td>...</td>\n",
       "    </tr>\n",
       "    <tr>\n",
       "      <th>867</th>\n",
       "      <td>0.854038</td>\n",
       "      <td>1.328457</td>\n",
       "    </tr>\n",
       "    <tr>\n",
       "      <th>868</th>\n",
       "      <td>1.985176</td>\n",
       "      <td>1.700243</td>\n",
       "    </tr>\n",
       "    <tr>\n",
       "      <th>869</th>\n",
       "      <td>1.990162</td>\n",
       "      <td>1.767344</td>\n",
       "    </tr>\n",
       "    <tr>\n",
       "      <th>870</th>\n",
       "      <td>-1.694284</td>\n",
       "      <td>-2.164246</td>\n",
       "    </tr>\n",
       "    <tr>\n",
       "      <th>871</th>\n",
       "      <td>1.831854</td>\n",
       "      <td>2.079442</td>\n",
       "    </tr>\n",
       "  </tbody>\n",
       "</table>\n",
       "<p>872 rows × 2 columns</p>\n",
       "</div>"
      ],
      "text/plain": [
       "     Predicted      Test\n",
       "0     0.822314  0.577696\n",
       "1     1.933038  2.079442\n",
       "2    -1.679281  0.483850\n",
       "3     1.681852  2.079442\n",
       "4    -0.307701 -0.941620\n",
       "..         ...       ...\n",
       "867   0.854038  1.328457\n",
       "868   1.985176  1.700243\n",
       "869   1.990162  1.767344\n",
       "870  -1.694284 -2.164246\n",
       "871   1.831854  2.079442\n",
       "\n",
       "[872 rows x 2 columns]"
      ]
     },
     "execution_count": 35,
     "metadata": {},
     "output_type": "execute_result"
    }
   ],
   "source": [
    "c"
   ]
  },
  {
   "cell_type": "code",
   "execution_count": 36,
   "metadata": {},
   "outputs": [
    {
     "data": {
      "text/plain": [
       "(872, 1)"
      ]
     },
     "execution_count": 36,
     "metadata": {},
     "output_type": "execute_result"
    }
   ],
   "source": [
    "predicted_value.shape"
   ]
  },
  {
   "cell_type": "code",
   "execution_count": 37,
   "metadata": {},
   "outputs": [
    {
     "data": {
      "text/plain": [
       "LinregressResult(slope=0.7519164378329404, intercept=0.1482902644936569, rvalue=0.8592836045018323, pvalue=1.5597012251811857e-255, stderr=0.015174647041905907)"
      ]
     },
     "execution_count": 37,
     "metadata": {},
     "output_type": "execute_result"
    }
   ],
   "source": [
    "from scipy.stats import linregress\n",
    "linregress(b[0], a[0])"
   ]
  },
  {
   "cell_type": "code",
   "execution_count": 38,
   "metadata": {},
   "outputs": [
    {
     "name": "stdout",
     "output_type": "stream",
     "text": [
      "0.7351962588088365\n"
     ]
    }
   ],
   "source": [
    "from sklearn.metrics import r2_score\n",
    "r2_value = r2_score(b,a)\n",
    "print(r2_value)"
   ]
  },
  {
   "cell_type": "code",
   "execution_count": 39,
   "metadata": {},
   "outputs": [
    {
     "name": "stdout",
     "output_type": "stream",
     "text": [
      "Final rmse value is = 0.9807668955068296\n"
     ]
    }
   ],
   "source": [
    "rse = ((b[0]-a[0])**2).sum()\n",
    "mse = rse / len(b)\n",
    "print(\"Final rmse value is =\",np.sqrt(mse))"
   ]
  },
  {
   "cell_type": "code",
   "execution_count": 40,
   "metadata": {},
   "outputs": [
    {
     "data": {
      "image/png": "[encoded data removed]",
      "text/plain": [
       "<Figure size 432x432 with 3 Axes>"
      ]
     },
     "metadata": {
      "needs_background": "light"
     },
     "output_type": "display_data"
    }
   ],
   "source": [
    "workdir = \"E://Ronny_TF//201120_EDC_EYDC_MDC_other_PC//Result//Fig_backbone//MDC9K\"\n",
    "import seaborn as sns\n",
    "\n",
    "g = sns.jointplot(x=\"Test\", y=\"Predicted\", data=c, kind='reg', color='#7C7C7C',\n",
    "                  joint_kws={'line_kws':{'color':'black'}})\n",
    "g.savefig(workdir+ '//MDC9K_CNN.png', dpi=300)"
   ]
  },
  {
   "cell_type": "code",
   "execution_count": null,
   "metadata": {},
   "outputs": [],
   "source": []
  }
 ],
 "metadata": {
  "kernelspec": {
   "display_name": "Python 3",
   "language": "python",
   "name": "python3"
  },
  "language_info": {
   "codemirror_mode": {
    "name": "ipython",
    "version": 3
   },
   "file_extension": ".py",
   "mimetype": "text/x-python",
   "name": "python",
   "nbconvert_exporter": "python",
   "pygments_lexer": "ipython3",
   "version": "3.7.9"
  }
 },
 "nbformat": 4,
 "nbformat_minor": 2
}
