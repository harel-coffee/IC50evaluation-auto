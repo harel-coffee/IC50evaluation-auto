{
 "cells": [
  {
   "cell_type": "code",
   "execution_count": 1,
   "metadata": {},
   "outputs": [
    {
     "name": "stderr",
     "output_type": "stream",
     "text": [
      "C:\\Users\\a\\AppData\\Roaming\\Python\\Python37\\site-packages\\tensorflow\\python\\framework\\dtypes.py:526: FutureWarning: Passing (type, 1) or '1type' as a synonym of type is deprecated; in a future version of numpy, it will be understood as (type, (1,)) / '(1,)type'.\n",
      "  _np_qint8 = np.dtype([(\"qint8\", np.int8, 1)])\n",
      "C:\\Users\\a\\AppData\\Roaming\\Python\\Python37\\site-packages\\tensorflow\\python\\framework\\dtypes.py:527: FutureWarning: Passing (type, 1) or '1type' as a synonym of type is deprecated; in a future version of numpy, it will be understood as (type, (1,)) / '(1,)type'.\n",
      "  _np_quint8 = np.dtype([(\"quint8\", np.uint8, 1)])\n",
      "C:\\Users\\a\\AppData\\Roaming\\Python\\Python37\\site-packages\\tensorflow\\python\\framework\\dtypes.py:528: FutureWarning: Passing (type, 1) or '1type' as a synonym of type is deprecated; in a future version of numpy, it will be understood as (type, (1,)) / '(1,)type'.\n",
      "  _np_qint16 = np.dtype([(\"qint16\", np.int16, 1)])\n",
      "C:\\Users\\a\\AppData\\Roaming\\Python\\Python37\\site-packages\\tensorflow\\python\\framework\\dtypes.py:529: FutureWarning: Passing (type, 1) or '1type' as a synonym of type is deprecated; in a future version of numpy, it will be understood as (type, (1,)) / '(1,)type'.\n",
      "  _np_quint16 = np.dtype([(\"quint16\", np.uint16, 1)])\n",
      "C:\\Users\\a\\AppData\\Roaming\\Python\\Python37\\site-packages\\tensorflow\\python\\framework\\dtypes.py:530: FutureWarning: Passing (type, 1) or '1type' as a synonym of type is deprecated; in a future version of numpy, it will be understood as (type, (1,)) / '(1,)type'.\n",
      "  _np_qint32 = np.dtype([(\"qint32\", np.int32, 1)])\n",
      "C:\\Users\\a\\AppData\\Roaming\\Python\\Python37\\site-packages\\tensorflow\\python\\framework\\dtypes.py:535: FutureWarning: Passing (type, 1) or '1type' as a synonym of type is deprecated; in a future version of numpy, it will be understood as (type, (1,)) / '(1,)type'.\n",
      "  np_resource = np.dtype([(\"resource\", np.ubyte, 1)])\n",
      "Using TensorFlow backend.\n"
     ]
    }
   ],
   "source": [
    "import os\n",
    "import pandas as pd\n",
    "import numpy as np\n",
    "import tensorflow as tf\n",
    "import random\n",
    "from pandas import DataFrame\n",
    "from datetime import datetime\n",
    "import keras\n",
    "from keras.models import Sequential,Input,Model\n",
    "from keras.layers import Dense, Dropout, Flatten, Reshape, Activation\n",
    "from keras.layers import Conv1D, MaxPooling1D ,AveragePooling1D\n",
    "from keras.layers import Conv2D, MaxPooling2D, AveragePooling2D\n",
    "from keras.layers.normalization import BatchNormalization\n",
    "from keras.layers.advanced_activations import LeakyReLU\n",
    "from keras import backend as K\n",
    "# from tensorflow.keras.callbacks import ModelCheckpoint, CSVLogger\n",
    "#from tensorflow.keras.optimizers import Adam\n",
    "\n",
    "\n",
    "\n",
    "\n",
    "config = tf.ConfigProto()\n",
    "config.gpu_options.per_process_gpu_memory_fraction = 0.7\n",
    "config.gpu_options.allow_growth = True\n",
    "sess = tf.Session(config=config)"
   ]
  },
  {
   "cell_type": "code",
   "execution_count": 2,
   "metadata": {},
   "outputs": [
    {
     "name": "stdout",
     "output_type": "stream",
     "text": [
      "[name: \"/device:CPU:0\"\n",
      "device_type: \"CPU\"\n",
      "memory_limit: 268435456\n",
      "locality {\n",
      "}\n",
      "incarnation: 9252258834485534382\n",
      ", name: \"/device:GPU:0\"\n",
      "device_type: \"GPU\"\n",
      "memory_limit: 8267812044\n",
      "locality {\n",
      "  bus_id: 1\n",
      "  links {\n",
      "  }\n",
      "}\n",
      "incarnation: 2091312821850514529\n",
      "physical_device_desc: \"device: 0, name: GeForce GTX 1080 Ti, pci bus id: 0000:01:00.0, compute capability: 6.1\"\n",
      "]\n"
     ]
    }
   ],
   "source": [
    "from tensorflow.python.client import device_lib\n",
    "print(device_lib.list_local_devices())\n",
    "\n",
    "\n",
    "# 출처: https://3months.tistory.com/206 [Deep Play]"
   ]
  },
  {
   "cell_type": "code",
   "execution_count": 3,
   "metadata": {},
   "outputs": [],
   "source": [
    "workdir = \"E://Ronny_TF//201120_EDC_EYDC_MDC_other_PC//Dataset_EDC_EYDC_MDC_regen\""
   ]
  },
  {
   "cell_type": "code",
   "execution_count": 4,
   "metadata": {},
   "outputs": [],
   "source": [
    "# < Important note > [ Please download input data from https://mega.nz/#F!CeYGDKyS!uqkmWJ4E2XSGJp_C2VO2gg]\n",
    "# IC50evaluation//Dataset//Scenario6_MDC-9K_minmax\n",
    "\n",
    "dataset = np.load(workdir + \"//MDC9K_dataset.npz\") # input file\n",
    "ss0 = np.load(workdir + '//MDC9K_dataset_r0_9_1.npz') # split for training and test"
   ]
  },
  {
   "cell_type": "code",
   "execution_count": 5,
   "metadata": {},
   "outputs": [],
   "source": [
    "x = dataset['x']\n",
    "y = dataset['y']\n",
    "# y_linear = dataset['y_lnIC50']\n",
    "ss0_train = ss0['train']\n",
    "ss0_test = ss0['test']"
   ]
  },
  {
   "cell_type": "code",
   "execution_count": 6,
   "metadata": {},
   "outputs": [],
   "source": [
    "training_image_array, training_label_array = x[ss0_train], y[ss0_train]\n",
    "test_image_array, test_label_array = x[ss0_test], y[ss0_test]\n",
    "\n",
    "# # In[9]:\n",
    "# ori = training_image_array\n",
    "# bat = np.zeros((ori.shape[0],178))\n",
    "# cat = np.hstack([ori,bat])\n",
    "# training_image_array = cat\n",
    "\n",
    "# # In[8]:\n",
    "# training_image_array.shape\n",
    "\n",
    "# # In[10]:\n",
    "# ori2 = test_image_array\n",
    "# bat2 = np.zeros((ori2.shape[0],178))\n",
    "# cat2 = np.hstack([ori2,bat2])\n",
    "# test_image_array = cat2\n"
   ]
  },
  {
   "cell_type": "code",
   "execution_count": 7,
   "metadata": {},
   "outputs": [
    {
     "name": "stdout",
     "output_type": "stream",
     "text": [
      "1 2\n"
     ]
    }
   ],
   "source": [
    "# In[15]:\n",
    "ab =[]\n",
    "for i in range(100,300):\n",
    "    ab.append(len(training_image_array) % i)\n",
    "    \n",
    "print(min(ab), ab.index(min(ab)))"
   ]
  },
  {
   "cell_type": "code",
   "execution_count": 8,
   "metadata": {},
   "outputs": [
    {
     "data": {
      "text/plain": [
       "(8727, 23538)"
      ]
     },
     "execution_count": 8,
     "metadata": {},
     "output_type": "execute_result"
    }
   ],
   "source": [
    "x.shape"
   ]
  },
  {
   "cell_type": "code",
   "execution_count": 9,
   "metadata": {},
   "outputs": [
    {
     "data": {
      "text/plain": [
       "(7855, 23538)"
      ]
     },
     "execution_count": 9,
     "metadata": {},
     "output_type": "execute_result"
    }
   ],
   "source": [
    "training_image_array.shape"
   ]
  },
  {
   "cell_type": "code",
   "execution_count": 10,
   "metadata": {},
   "outputs": [],
   "source": [
    "# In[21]:\n",
    "\n",
    "num_classes = 1\n",
    "learning_rate = 0.0002\n",
    "training_epochs = 150\n",
    "batch_size = 100\n",
    "# img_rows, img_cols = 154, 154\n"
   ]
  },
  {
   "cell_type": "code",
   "execution_count": 11,
   "metadata": {},
   "outputs": [],
   "source": [
    "train_X, train_y, test_X, test_y = training_image_array, training_label_array, test_image_array, test_label_array\n",
    "\n",
    "# if K.image_data_format() == 'channels_first':\n",
    "#     train_X = train_X.reshape(train_X.shape[0], 1, img_rows, img_cols)\n",
    "#     test_X = test_X.reshape(x_test.shape[0], 1, img_rows, img_cols)\n",
    "#     input_shape = (1, img_rows, img_cols)\n",
    "# else:\n",
    "#     train_X = train_X.reshape(train_X.shape[0], img_rows, img_cols, 1)\n",
    "#     test_X = test_X.reshape(test_X.shape[0], img_rows, img_cols, 1)\n",
    "#     input_shape = (img_rows, img_cols, 1)\n"
   ]
  },
  {
   "cell_type": "code",
   "execution_count": 12,
   "metadata": {},
   "outputs": [],
   "source": [
    "train_X = train_X.reshape(train_X.shape[0], train_X.shape[1],1)\n",
    "test_X = test_X.reshape(test_X.shape[0], test_X.shape[1],1)\n",
    "#input_shape = (img_rows, img_cols, 1)"
   ]
  },
  {
   "cell_type": "code",
   "execution_count": 13,
   "metadata": {},
   "outputs": [
    {
     "name": "stdout",
     "output_type": "stream",
     "text": [
      "(7855, 23538, 1) (7855,) (872, 23538, 1) (872,)\n"
     ]
    }
   ],
   "source": [
    "print(train_X.shape, train_y.shape, test_X.shape, test_y.shape)"
   ]
  },
  {
   "cell_type": "code",
   "execution_count": 14,
   "metadata": {},
   "outputs": [
    {
     "name": "stdout",
     "output_type": "stream",
     "text": [
      "train_X shape: (7855, 23538, 1)\n",
      "7855 train samples\n",
      "872 test samples\n"
     ]
    }
   ],
   "source": [
    "train_X = train_X.astype('float32')\n",
    "test_X = test_X.astype('float32')\n",
    "# train_X /= 255\n",
    "# test_X /= 255\n",
    "print('train_X shape:', train_X.shape)\n",
    "print(train_X.shape[0], 'train samples')\n",
    "print(test_X.shape[0], 'test samples')"
   ]
  },
  {
   "cell_type": "code",
   "execution_count": 15,
   "metadata": {},
   "outputs": [
    {
     "data": {
      "text/plain": [
       "(7855, 23538)"
      ]
     },
     "execution_count": 15,
     "metadata": {},
     "output_type": "execute_result"
    }
   ],
   "source": [
    "training_image_array.shape"
   ]
  },
  {
   "cell_type": "code",
   "execution_count": 16,
   "metadata": {
    "scrolled": true
   },
   "outputs": [
    {
     "name": "stdout",
     "output_type": "stream",
     "text": [
      "WARNING:tensorflow:From C:\\Users\\a\\AppData\\Roaming\\Python\\Python37\\site-packages\\tensorflow\\python\\framework\\op_def_library.py:263: colocate_with (from tensorflow.python.framework.ops) is deprecated and will be removed in a future version.\n",
      "Instructions for updating:\n",
      "Colocations handled automatically by placer.\n",
      "WARNING:tensorflow:From C:\\Users\\a\\AppData\\Roaming\\Python\\Python37\\site-packages\\keras\\backend\\tensorflow_backend.py:3445: calling dropout (from tensorflow.python.ops.nn_ops) with keep_prob is deprecated and will be removed in a future version.\n",
      "Instructions for updating:\n",
      "Please use `rate` instead of `keep_prob`. Rate should be set to `rate = 1 - keep_prob`.\n",
      "__________________________________________________________________________________________________\n",
      "Layer (type)                    Output Shape         Param #     Connected to                     \n",
      "==================================================================================================\n",
      "inputs (InputLayer)             (None, 23538, 1)     0                                            \n",
      "__________________________________________________________________________________________________\n",
      "conv1d_1 (Conv1D)               (None, 11769, 16)    64          inputs[0][0]                     \n",
      "__________________________________________________________________________________________________\n",
      "max_pooling1d_1 (MaxPooling1D)  (None, 2353, 16)     0           conv1d_1[0][0]                   \n",
      "__________________________________________________________________________________________________\n",
      "batch_normalization_1 (BatchNor (None, 2353, 16)     64          max_pooling1d_1[0][0]            \n",
      "__________________________________________________________________________________________________\n",
      "activation_1 (Activation)       (None, 2353, 16)     0           batch_normalization_1[0][0]      \n",
      "__________________________________________________________________________________________________\n",
      "conv1d_2 (Conv1D)               (None, 2353, 16)     784         activation_1[0][0]               \n",
      "__________________________________________________________________________________________________\n",
      "batch_normalization_2 (BatchNor (None, 2353, 16)     64          conv1d_2[0][0]                   \n",
      "__________________________________________________________________________________________________\n",
      "activation_2 (Activation)       (None, 2353, 16)     0           batch_normalization_2[0][0]      \n",
      "__________________________________________________________________________________________________\n",
      "conv1d_3 (Conv1D)               (None, 2353, 16)     784         activation_2[0][0]               \n",
      "__________________________________________________________________________________________________\n",
      "batch_normalization_3 (BatchNor (None, 2353, 16)     64          conv1d_3[0][0]                   \n",
      "__________________________________________________________________________________________________\n",
      "activation_3 (Activation)       (None, 2353, 16)     0           batch_normalization_3[0][0]      \n",
      "__________________________________________________________________________________________________\n",
      "conv1d_4 (Conv1D)               (None, 2353, 16)     784         activation_3[0][0]               \n",
      "__________________________________________________________________________________________________\n",
      "batch_normalization_4 (BatchNor (None, 2353, 16)     64          conv1d_4[0][0]                   \n",
      "__________________________________________________________________________________________________\n",
      "add_1 (Add)                     (None, 2353, 16)     0           batch_normalization_4[0][0]      \n",
      "                                                                 batch_normalization_2[0][0]      \n",
      "__________________________________________________________________________________________________\n",
      "activation_4 (Activation)       (None, 2353, 16)     0           add_1[0][0]                      \n",
      "__________________________________________________________________________________________________\n",
      "conv1d_5 (Conv1D)               (None, 2353, 16)     784         activation_4[0][0]               \n",
      "__________________________________________________________________________________________________\n",
      "batch_normalization_5 (BatchNor (None, 2353, 16)     64          conv1d_5[0][0]                   \n",
      "__________________________________________________________________________________________________\n",
      "activation_5 (Activation)       (None, 2353, 16)     0           batch_normalization_5[0][0]      \n",
      "__________________________________________________________________________________________________\n",
      "conv1d_6 (Conv1D)               (None, 2353, 16)     784         activation_5[0][0]               \n",
      "__________________________________________________________________________________________________\n",
      "batch_normalization_6 (BatchNor (None, 2353, 16)     64          conv1d_6[0][0]                   \n",
      "__________________________________________________________________________________________________\n",
      "activation_6 (Activation)       (None, 2353, 16)     0           batch_normalization_6[0][0]      \n",
      "__________________________________________________________________________________________________\n",
      "conv1d_7 (Conv1D)               (None, 2353, 16)     784         activation_6[0][0]               \n",
      "__________________________________________________________________________________________________\n",
      "batch_normalization_7 (BatchNor (None, 2353, 16)     64          conv1d_7[0][0]                   \n",
      "__________________________________________________________________________________________________\n",
      "activation_7 (Activation)       (None, 2353, 16)     0           batch_normalization_7[0][0]      \n",
      "__________________________________________________________________________________________________\n",
      "conv1d_8 (Conv1D)               (None, 2353, 16)     784         activation_7[0][0]               \n",
      "__________________________________________________________________________________________________\n",
      "batch_normalization_8 (BatchNor (None, 2353, 16)     64          conv1d_8[0][0]                   \n",
      "__________________________________________________________________________________________________\n",
      "add_2 (Add)                     (None, 2353, 16)     0           batch_normalization_8[0][0]      \n",
      "                                                                 batch_normalization_5[0][0]      \n",
      "__________________________________________________________________________________________________\n",
      "activation_8 (Activation)       (None, 2353, 16)     0           add_2[0][0]                      \n",
      "__________________________________________________________________________________________________\n",
      "conv1d_9 (Conv1D)               (None, 1177, 32)     1568        activation_8[0][0]               \n",
      "__________________________________________________________________________________________________\n",
      "batch_normalization_9 (BatchNor (None, 1177, 32)     128         conv1d_9[0][0]                   \n",
      "__________________________________________________________________________________________________\n",
      "activation_9 (Activation)       (None, 1177, 32)     0           batch_normalization_9[0][0]      \n",
      "__________________________________________________________________________________________________\n",
      "conv1d_10 (Conv1D)              (None, 1177, 32)     3104        activation_9[0][0]               \n",
      "__________________________________________________________________________________________________\n",
      "conv1d_11 (Conv1D)              (None, 1177, 32)     3104        conv1d_10[0][0]                  \n",
      "__________________________________________________________________________________________________\n",
      "batch_normalization_10 (BatchNo (None, 1177, 32)     128         conv1d_11[0][0]                  \n",
      "__________________________________________________________________________________________________\n",
      "add_3 (Add)                     (None, 1177, 32)     0           batch_normalization_10[0][0]     \n",
      "                                                                 batch_normalization_9[0][0]      \n",
      "__________________________________________________________________________________________________\n",
      "activation_10 (Activation)      (None, 1177, 32)     0           add_3[0][0]                      \n",
      "__________________________________________________________________________________________________\n",
      "conv1d_12 (Conv1D)              (None, 1177, 32)     3104        activation_10[0][0]              \n",
      "__________________________________________________________________________________________________\n",
      "batch_normalization_11 (BatchNo (None, 1177, 32)     128         conv1d_12[0][0]                  \n",
      "__________________________________________________________________________________________________\n",
      "activation_11 (Activation)      (None, 1177, 32)     0           batch_normalization_11[0][0]     \n",
      "__________________________________________________________________________________________________\n",
      "conv1d_13 (Conv1D)              (None, 1177, 32)     3104        activation_11[0][0]              \n",
      "__________________________________________________________________________________________________\n",
      "batch_normalization_12 (BatchNo (None, 1177, 32)     128         conv1d_13[0][0]                  \n",
      "__________________________________________________________________________________________________\n",
      "add_4 (Add)                     (None, 1177, 32)     0           batch_normalization_12[0][0]     \n",
      "                                                                 batch_normalization_11[0][0]     \n",
      "__________________________________________________________________________________________________\n",
      "activation_12 (Activation)      (None, 1177, 32)     0           add_4[0][0]                      \n",
      "__________________________________________________________________________________________________\n",
      "conv1d_14 (Conv1D)              (None, 1177, 32)     3104        activation_12[0][0]              \n",
      "__________________________________________________________________________________________________\n",
      "batch_normalization_13 (BatchNo (None, 1177, 32)     128         conv1d_14[0][0]                  \n",
      "__________________________________________________________________________________________________\n",
      "activation_13 (Activation)      (None, 1177, 32)     0           batch_normalization_13[0][0]     \n",
      "__________________________________________________________________________________________________\n",
      "conv1d_15 (Conv1D)              (None, 1177, 32)     3104        activation_13[0][0]              \n",
      "__________________________________________________________________________________________________\n",
      "batch_normalization_14 (BatchNo (None, 1177, 32)     128         conv1d_15[0][0]                  \n",
      "__________________________________________________________________________________________________\n",
      "add_5 (Add)                     (None, 1177, 32)     0           batch_normalization_14[0][0]     \n",
      "                                                                 batch_normalization_13[0][0]     \n",
      "__________________________________________________________________________________________________\n",
      "activation_14 (Activation)      (None, 1177, 32)     0           add_5[0][0]                      \n",
      "__________________________________________________________________________________________________\n",
      "conv1d_16 (Conv1D)              (None, 589, 64)      6208        activation_14[0][0]              \n",
      "__________________________________________________________________________________________________\n",
      "batch_normalization_15 (BatchNo (None, 589, 64)      256         conv1d_16[0][0]                  \n",
      "__________________________________________________________________________________________________\n",
      "activation_15 (Activation)      (None, 589, 64)      0           batch_normalization_15[0][0]     \n",
      "__________________________________________________________________________________________________\n",
      "conv1d_17 (Conv1D)              (None, 589, 64)      12352       activation_15[0][0]              \n",
      "__________________________________________________________________________________________________\n",
      "conv1d_18 (Conv1D)              (None, 589, 64)      12352       conv1d_17[0][0]                  \n",
      "__________________________________________________________________________________________________\n",
      "batch_normalization_16 (BatchNo (None, 589, 64)      256         conv1d_18[0][0]                  \n",
      "__________________________________________________________________________________________________\n",
      "add_6 (Add)                     (None, 589, 64)      0           batch_normalization_16[0][0]     \n",
      "                                                                 batch_normalization_15[0][0]     \n",
      "__________________________________________________________________________________________________\n",
      "activation_16 (Activation)      (None, 589, 64)      0           add_6[0][0]                      \n",
      "__________________________________________________________________________________________________\n",
      "conv1d_19 (Conv1D)              (None, 589, 64)      12352       activation_16[0][0]              \n",
      "__________________________________________________________________________________________________\n",
      "batch_normalization_17 (BatchNo (None, 589, 64)      256         conv1d_19[0][0]                  \n",
      "__________________________________________________________________________________________________\n",
      "activation_17 (Activation)      (None, 589, 64)      0           batch_normalization_17[0][0]     \n",
      "__________________________________________________________________________________________________\n",
      "conv1d_20 (Conv1D)              (None, 589, 64)      12352       activation_17[0][0]              \n",
      "__________________________________________________________________________________________________\n",
      "batch_normalization_18 (BatchNo (None, 589, 64)      256         conv1d_20[0][0]                  \n",
      "__________________________________________________________________________________________________\n",
      "add_7 (Add)                     (None, 589, 64)      0           batch_normalization_18[0][0]     \n",
      "                                                                 batch_normalization_17[0][0]     \n",
      "__________________________________________________________________________________________________\n",
      "activation_18 (Activation)      (None, 589, 64)      0           add_7[0][0]                      \n",
      "__________________________________________________________________________________________________\n",
      "conv1d_21 (Conv1D)              (None, 589, 64)      12352       activation_18[0][0]              \n",
      "__________________________________________________________________________________________________\n",
      "batch_normalization_19 (BatchNo (None, 589, 64)      256         conv1d_21[0][0]                  \n",
      "__________________________________________________________________________________________________\n",
      "activation_19 (Activation)      (None, 589, 64)      0           batch_normalization_19[0][0]     \n",
      "__________________________________________________________________________________________________\n",
      "conv1d_22 (Conv1D)              (None, 589, 64)      12352       activation_19[0][0]              \n",
      "__________________________________________________________________________________________________\n",
      "batch_normalization_20 (BatchNo (None, 589, 64)      256         conv1d_22[0][0]                  \n",
      "__________________________________________________________________________________________________\n",
      "add_8 (Add)                     (None, 589, 64)      0           batch_normalization_20[0][0]     \n",
      "                                                                 batch_normalization_19[0][0]     \n",
      "__________________________________________________________________________________________________\n",
      "activation_20 (Activation)      (None, 589, 64)      0           add_8[0][0]                      \n",
      "__________________________________________________________________________________________________\n",
      "flatten_1 (Flatten)             (None, 37696)        0           activation_20[0][0]              \n",
      "__________________________________________________________________________________________________\n",
      "dense1 (Dense)                  (None, 2048)         77203456    flatten_1[0][0]                  \n",
      "__________________________________________________________________________________________________\n",
      "batch_normalization_21 (BatchNo (None, 2048)         8192        dense1[0][0]                     \n",
      "__________________________________________________________________________________________________\n",
      "dropout1 (Dropout)              (None, 2048)         0           batch_normalization_21[0][0]     \n",
      "__________________________________________________________________________________________________\n",
      "activation_21 (Activation)      (None, 2048)         0           dropout1[0][0]                   \n",
      "__________________________________________________________________________________________________\n",
      "dense5 (Dense)                  (None, 1024)         2098176     activation_21[0][0]              \n",
      "__________________________________________________________________________________________________\n",
      "batch_normalization_22 (BatchNo (None, 1024)         4096        dense5[0][0]                     \n",
      "__________________________________________________________________________________________________\n",
      "dropout5 (Dropout)              (None, 1024)         0           batch_normalization_22[0][0]     \n",
      "__________________________________________________________________________________________________\n",
      "activation_22 (Activation)      (None, 1024)         0           dropout5[0][0]                   \n",
      "__________________________________________________________________________________________________\n",
      "dense6 (Dense)                  (None, 512)          524800      activation_22[0][0]              \n",
      "__________________________________________________________________________________________________\n",
      "batch_normalization_23 (BatchNo (None, 512)          2048        dense6[0][0]                     \n",
      "__________________________________________________________________________________________________\n",
      "dropout6 (Dropout)              (None, 512)          0           batch_normalization_23[0][0]     \n",
      "__________________________________________________________________________________________________\n",
      "activation_23 (Activation)      (None, 512)          0           dropout6[0][0]                   \n",
      "__________________________________________________________________________________________________\n",
      "dense7 (Dense)                  (None, 1024)         525312      activation_23[0][0]              \n",
      "__________________________________________________________________________________________________\n",
      "batch_normalization_24 (BatchNo (None, 1024)         4096        dense7[0][0]                     \n",
      "__________________________________________________________________________________________________\n",
      "dropout7 (Dropout)              (None, 1024)         0           batch_normalization_24[0][0]     \n",
      "__________________________________________________________________________________________________\n",
      "add_9 (Add)                     (None, 1024)         0           dropout7[0][0]                   \n",
      "                                                                 batch_normalization_22[0][0]     \n",
      "__________________________________________________________________________________________________\n",
      "activation_24 (Activation)      (None, 1024)         0           add_9[0][0]                      \n",
      "__________________________________________________________________________________________________\n",
      "dense8 (Dense)                  (None, 512)          524800      activation_24[0][0]              \n",
      "__________________________________________________________________________________________________\n",
      "batch_normalization_25 (BatchNo (None, 512)          2048        dense8[0][0]                     \n",
      "__________________________________________________________________________________________________\n",
      "dropout8 (Dropout)              (None, 512)          0           batch_normalization_25[0][0]     \n",
      "__________________________________________________________________________________________________\n",
      "activation_25 (Activation)      (None, 512)          0           dropout8[0][0]                   \n",
      "__________________________________________________________________________________________________\n",
      "dense9 (Dense)                  (None, 256)          131328      activation_25[0][0]              \n",
      "__________________________________________________________________________________________________\n",
      "batch_normalization_26 (BatchNo (None, 256)          1024        dense9[0][0]                     \n",
      "__________________________________________________________________________________________________\n",
      "dropout9 (Dropout)              (None, 256)          0           batch_normalization_26[0][0]     \n",
      "__________________________________________________________________________________________________\n",
      "activation_26 (Activation)      (None, 256)          0           dropout9[0][0]                   \n",
      "__________________________________________________________________________________________________\n",
      "dense10 (Dense)                 (None, 128)          32896       activation_26[0][0]              \n",
      "__________________________________________________________________________________________________\n",
      "batch_normalization_27 (BatchNo (None, 128)          512         dense10[0][0]                    \n",
      "__________________________________________________________________________________________________\n",
      "dropout10 (Dropout)             (None, 128)          0           batch_normalization_27[0][0]     \n",
      "__________________________________________________________________________________________________\n",
      "activation_27 (Activation)      (None, 128)          0           dropout10[0][0]                  \n",
      "__________________________________________________________________________________________________\n",
      "predictions (Dense)             (None, 1)            129         activation_27[0][0]              \n",
      "==================================================================================================\n",
      "Total params: 81,171,793\n",
      "Trainable params: 81,159,377\n",
      "Non-trainable params: 12,416\n",
      "__________________________________________________________________________________________________\n"
     ]
    }
   ],
   "source": [
    "# In[10]:\n",
    "with K.tf.device('/GPU:0'):\n",
    "    inputs = Input(shape=(train_X.shape[1],1),name='inputs')\n",
    "\n",
    "    x = Conv1D(16, kernel_size=3, strides=2, padding=\"same\")(inputs)\n",
    "    x = MaxPooling1D(pool_size=5)(x)\n",
    "    x = BatchNormalization()(x)\n",
    "#     y = x\n",
    "    x = Activation('tanh')(x)\n",
    "\n",
    "    x = Conv1D(16, kernel_size=3, strides=1, padding=\"same\")(x)\n",
    "#     x = MaxPooling1D(pool_size=5)(x)\n",
    "    x = BatchNormalization()(x)\n",
    "    y = x\n",
    "    x = Activation('relu')(x)\n",
    "\n",
    "    x = Conv1D(16, kernel_size=3, strides=1, padding=\"same\")(x)\n",
    "#     x = MaxPooling1D(pool_size=5)(x)\n",
    "    x = BatchNormalization()(x)\n",
    "    x = Activation('relu')(x)\n",
    "\n",
    "    x = Conv1D(16, kernel_size=3, strides=1, padding=\"same\")(x)\n",
    "#     x = MaxPooling1D(pool_size=5)(x)\n",
    "    x = BatchNormalization()(x)\n",
    "    x = keras.layers.add([x,y])\n",
    "    x = Activation('relu')(x)\n",
    "\n",
    "    \n",
    "    x = Conv1D(16, kernel_size=3, strides=1, padding=\"same\")(x)\n",
    "#     x = MaxPooling1D(pool_size=5)(x)\n",
    "    x = BatchNormalization()(x)\n",
    "    y = x\n",
    "    x = Activation('relu')(x)\n",
    "    \n",
    "    \n",
    "    x = Conv1D(16, kernel_size=3, strides=1, padding=\"same\")(x)\n",
    "#     x = MaxPooling1D(pool_size=5)(x)\n",
    "    x = BatchNormalization()(x)\n",
    "    x = Activation('relu')(x)\n",
    "\n",
    "    x = Conv1D(16, kernel_size=3, strides=1, padding=\"same\")(x)\n",
    "#     x = MaxPooling1D(pool_size=5)(x)\n",
    "    x = BatchNormalization()(x)\n",
    "    x = Activation('relu')(x)\n",
    "\n",
    "    \n",
    "    x = Conv1D(16, kernel_size=3, strides=1, padding=\"same\")(x)\n",
    "#     x = MaxPooling1D(pool_size=5)(x)\n",
    "    x = BatchNormalization()(x)\n",
    "    x = keras.layers.add([x,y])\n",
    "    x = Activation('relu')(x)\n",
    "    \n",
    "    x = Conv1D(32, kernel_size=3, strides=2, padding=\"same\")(x)\n",
    "#     x = MaxPooling1D(pool_size=5)(x)\n",
    "    x = BatchNormalization()(x)\n",
    "    y = x\n",
    "    x = Activation('relu')(x)\n",
    "\n",
    "    x = Conv1D(32, kernel_size=3, strides=1, padding=\"same\")(x)\n",
    "#     x = MaxPooling1D(pool_size=5)(x)\n",
    "#     x = BatchNormalization()(x)\n",
    "        \n",
    "    x = Conv1D(32, kernel_size=3, strides=1, padding=\"same\")(x)\n",
    "#     x = MaxPooling1D(pool_size=5)(x)\n",
    "    x = BatchNormalization()(x)\n",
    "    x = keras.layers.add([x,y])\n",
    "    x = Activation('relu')(x)\n",
    "    \n",
    "        \n",
    "    x = Conv1D(32, kernel_size=3, strides=1, padding=\"same\")(x)\n",
    "#     x = MaxPooling1D(pool_size=5)(x)\n",
    "    x = BatchNormalization()(x)\n",
    "    y = x\n",
    "    x = Activation('relu')(x)\n",
    "\n",
    "    x = Conv1D(32, kernel_size=3, strides=1, padding=\"same\")(x)\n",
    "#     x = MaxPooling1D(pool_size=5)(x)\n",
    "    x = BatchNormalization()(x)\n",
    "    x = keras.layers.add([x,y])\n",
    "    x = Activation('relu')(x)\n",
    "\n",
    "    x = Conv1D(32, kernel_size=3, strides=1, padding=\"same\")(x)\n",
    "#     x = MaxPooling1D(pool_size=5)(x)\n",
    "    x = BatchNormalization()(x)\n",
    "    y = x\n",
    "    x = Activation('relu')(x)\n",
    "\n",
    "    x = Conv1D(32, kernel_size=3, strides=1, padding=\"same\")(x)\n",
    "#     x = MaxPooling1D(pool_size=5)(x)\n",
    "    x = BatchNormalization()(x)\n",
    "    x = keras.layers.add([x,y])\n",
    "    x = Activation('relu')(x)\n",
    "\n",
    "    x = Conv1D(64, kernel_size=3, strides=2, padding=\"same\")(x)\n",
    "#     x = MaxPooling1D(pool_size=5)(x)\n",
    "    x = BatchNormalization()(x)\n",
    "    y = x\n",
    "    x = Activation('relu')(x)\n",
    "\n",
    "    x = Conv1D(64, kernel_size=3, strides=1, padding=\"same\")(x)\n",
    "#     x = MaxPooling1D(pool_size=5)(x)\n",
    "#     x = BatchNormalization()(x)\n",
    "        \n",
    "    x = Conv1D(64, kernel_size=3, strides=1, padding=\"same\")(x)\n",
    "#     x = MaxPooling1D(pool_size=5)(x)\n",
    "    x = BatchNormalization()(x)\n",
    "    x = keras.layers.add([x,y])\n",
    "    x = Activation('relu')(x)\n",
    "    \n",
    "        \n",
    "    x = Conv1D(64, kernel_size=3, strides=1, padding=\"same\")(x)\n",
    "#     x = MaxPooling1D(pool_size=5)(x)\n",
    "    x = BatchNormalization()(x)\n",
    "    y = x\n",
    "    x = Activation('relu')(x)\n",
    "\n",
    "    x = Conv1D(64, kernel_size=3, strides=1, padding=\"same\")(x)\n",
    "#     x = MaxPooling1D(pool_size=5)(x)\n",
    "    x = BatchNormalization()(x)\n",
    "    x = keras.layers.add([x,y])\n",
    "    x = Activation('relu')(x)\n",
    "\n",
    "    x = Conv1D(64, kernel_size=3, strides=1, padding=\"same\")(x)\n",
    "#     x = MaxPooling1D(pool_size=5)(x)\n",
    "    x = BatchNormalization()(x)\n",
    "    y = x\n",
    "    x = Activation('relu')(x)\n",
    "\n",
    "    x = Conv1D(64, kernel_size=3, strides=1, padding=\"same\")(x)\n",
    "#     x = MaxPooling1D(pool_size=5)(x)\n",
    "    x = BatchNormalization()(x)\n",
    "    x = keras.layers.add([x,y])\n",
    "    x = Activation('relu')(x)\n",
    "\n",
    "#     x = AveragePooling1D(pool_size=8)(x)\n",
    "    x = Flatten()(x)\n",
    "    x = Dense(units=2048, name='dense1'  ) (x)\n",
    "    x = BatchNormalization()(x)\n",
    "    x = Dropout(0.1, name='dropout1') (x)\n",
    "    x = Activation('relu')(x)\n",
    "\n",
    "#    x = Reshape((300,1))(x)\n",
    "\n",
    "#    x = Conv1D(30, kernel_size=150, strides=1, activation = 'relu')(x)\n",
    "#    x = MaxPooling1D(pool_size=2)(x)\n",
    "#    x = BatchNormalization()(x)\n",
    "\n",
    "    x = Dense(units=1024, name='dense5'  ) (x)\n",
    "    x = BatchNormalization()(x)\n",
    "    y = x\n",
    "    x = Dropout(0.1, name='dropout5') (x)\n",
    "    x = Activation('relu')(x)\n",
    "\n",
    "    x = Dense(units=512, name='dense6'  ) (x)\n",
    "    x = BatchNormalization()(x)\n",
    "    x = Dropout(0.1, name='dropout6') (x)\n",
    "    x = Activation('relu')(x)\n",
    "\n",
    "    x = Dense(units=1024, name='dense7'  ) (x)\n",
    "    x = BatchNormalization()(x)\n",
    "    x = Dropout(0.1, name='dropout7') (x)\n",
    "    x = keras.layers.add([x,y])\n",
    "    x = Activation('relu')(x)\n",
    "    \n",
    "    x = Dense(units=512, name='dense8'  ) (x)\n",
    "    x = BatchNormalization()(x)\n",
    "    x = Dropout(0.1, name='dropout8') (x)\n",
    "    x = Activation('relu')(x)\n",
    "    \n",
    "    x = Dense(units=256, name='dense9'  ) (x)\n",
    "    x = BatchNormalization()(x)\n",
    "    x = Dropout(0.1, name='dropout9') (x)\n",
    "    x = Activation('relu')(x)\n",
    "\n",
    "    x = Dense(units=128, name='dense10'  ) (x)\n",
    "    x = BatchNormalization()(x)\n",
    "    y = x\n",
    "    x = Dropout(0.1, name='dropout10') (x)\n",
    "    x = Activation('relu')(x)\n",
    "\n",
    "\n",
    "    predictions = Dense(1, activation='linear', name='predictions', kernel_initializer='he_normal')(x)\n",
    "#     predictions = Dense(1, activation='linear', name='predictions')(x)\n",
    "\n",
    "    \n",
    "\n",
    "    model = Model(inputs=inputs, outputs=predictions, name='Test_v2_DNN20190327')\n",
    "    model.compile(loss=keras.losses.mean_squared_error,\n",
    "                  optimizer=keras.optimizers.Adam(learning_rate),\n",
    "                  metrics=['mse','mae'])\n",
    "\n",
    "\n",
    "    model.summary()\n"
   ]
  },
  {
   "cell_type": "code",
   "execution_count": 17,
   "metadata": {
    "scrolled": true
   },
   "outputs": [
    {
     "name": "stdout",
     "output_type": "stream",
     "text": [
      "StartTime : 2020-11-23 13:49:46.142694\n",
      "WARNING:tensorflow:From C:\\Users\\a\\AppData\\Roaming\\Python\\Python37\\site-packages\\tensorflow\\python\\ops\\math_ops.py:3066: to_int32 (from tensorflow.python.ops.math_ops) is deprecated and will be removed in a future version.\n",
      "Instructions for updating:\n",
      "Use tf.cast instead.\n",
      "Train on 7855 samples, validate on 872 samples\n",
      "Epoch 1/150\n",
      "7855/7855 [==============================] - 22s 3ms/step - loss: 2.0028 - mean_squared_error: 2.0028 - mean_absolute_error: 1.0292 - val_loss: 2.4835 - val_mean_squared_error: 2.4835 - val_mean_absolute_error: 0.9496\n",
      "Epoch 2/150\n",
      "7855/7855 [==============================] - 11s 1ms/step - loss: 1.4926 - mean_squared_error: 1.4926 - mean_absolute_error: 0.8311 - val_loss: 1.3935 - val_mean_squared_error: 1.3935 - val_mean_absolute_error: 0.7310\n",
      "Epoch 3/150\n",
      "7855/7855 [==============================] - 11s 1ms/step - loss: 1.3071 - mean_squared_error: 1.3071 - mean_absolute_error: 0.7740 - val_loss: 1.2826 - val_mean_squared_error: 1.2826 - val_mean_absolute_error: 0.7181\n",
      "Epoch 4/150\n",
      "7855/7855 [==============================] - 11s 1ms/step - loss: 1.1656 - mean_squared_error: 1.1656 - mean_absolute_error: 0.7306 - val_loss: 1.1478 - val_mean_squared_error: 1.1478 - val_mean_absolute_error: 0.6667\n",
      "Epoch 5/150\n",
      "7855/7855 [==============================] - 11s 1ms/step - loss: 0.9680 - mean_squared_error: 0.9680 - mean_absolute_error: 0.6719 - val_loss: 1.1696 - val_mean_squared_error: 1.1696 - val_mean_absolute_error: 0.6255\n",
      "Epoch 6/150\n",
      "7855/7855 [==============================] - 11s 1ms/step - loss: 0.8089 - mean_squared_error: 0.8089 - mean_absolute_error: 0.6190 - val_loss: 1.1298 - val_mean_squared_error: 1.1298 - val_mean_absolute_error: 0.6283\n",
      "Epoch 7/150\n",
      "7855/7855 [==============================] - 11s 1ms/step - loss: 0.7512 - mean_squared_error: 0.7512 - mean_absolute_error: 0.5994 - val_loss: 0.9860 - val_mean_squared_error: 0.9860 - val_mean_absolute_error: 0.5989\n",
      "Epoch 8/150\n",
      "7855/7855 [==============================] - 11s 1ms/step - loss: 0.5965 - mean_squared_error: 0.5965 - mean_absolute_error: 0.5397 - val_loss: 0.9396 - val_mean_squared_error: 0.9396 - val_mean_absolute_error: 0.5667\n",
      "Epoch 9/150\n",
      "7855/7855 [==============================] - 11s 1ms/step - loss: 0.5377 - mean_squared_error: 0.5377 - mean_absolute_error: 0.5211 - val_loss: 0.9771 - val_mean_squared_error: 0.9771 - val_mean_absolute_error: 0.5721\n",
      "Epoch 10/150\n",
      "7855/7855 [==============================] - 11s 1ms/step - loss: 0.4730 - mean_squared_error: 0.4730 - mean_absolute_error: 0.4900 - val_loss: 0.9570 - val_mean_squared_error: 0.9570 - val_mean_absolute_error: 0.5423\n",
      "Epoch 11/150\n",
      "7855/7855 [==============================] - 11s 1ms/step - loss: 0.4551 - mean_squared_error: 0.4551 - mean_absolute_error: 0.4734 - val_loss: 0.9990 - val_mean_squared_error: 0.9990 - val_mean_absolute_error: 0.5350\n",
      "Epoch 12/150\n",
      "7855/7855 [==============================] - 11s 1ms/step - loss: 0.4165 - mean_squared_error: 0.4165 - mean_absolute_error: 0.4539 - val_loss: 0.9122 - val_mean_squared_error: 0.9122 - val_mean_absolute_error: 0.5220\n",
      "Epoch 13/150\n",
      "7855/7855 [==============================] - 11s 1ms/step - loss: 0.3599 - mean_squared_error: 0.3599 - mean_absolute_error: 0.4269 - val_loss: 1.0185 - val_mean_squared_error: 1.0185 - val_mean_absolute_error: 0.5272\n",
      "Epoch 14/150\n",
      "7855/7855 [==============================] - 11s 1ms/step - loss: 0.3523 - mean_squared_error: 0.3523 - mean_absolute_error: 0.4231 - val_loss: 1.0228 - val_mean_squared_error: 1.0228 - val_mean_absolute_error: 0.5340\n",
      "Epoch 15/150\n",
      "7855/7855 [==============================] - 11s 1ms/step - loss: 0.3313 - mean_squared_error: 0.3313 - mean_absolute_error: 0.4151 - val_loss: 0.9436 - val_mean_squared_error: 0.9436 - val_mean_absolute_error: 0.5212\n",
      "Epoch 16/150\n",
      "7855/7855 [==============================] - 11s 1ms/step - loss: 0.3208 - mean_squared_error: 0.3208 - mean_absolute_error: 0.4043 - val_loss: 1.0860 - val_mean_squared_error: 1.0860 - val_mean_absolute_error: 0.5263\n",
      "Epoch 17/150\n",
      "7855/7855 [==============================] - 11s 1ms/step - loss: 0.2884 - mean_squared_error: 0.2884 - mean_absolute_error: 0.3883 - val_loss: 0.9662 - val_mean_squared_error: 0.9662 - val_mean_absolute_error: 0.5091\n",
      "Epoch 18/150\n",
      "7855/7855 [==============================] - 11s 1ms/step - loss: 0.2985 - mean_squared_error: 0.2985 - mean_absolute_error: 0.3887 - val_loss: 0.9194 - val_mean_squared_error: 0.9194 - val_mean_absolute_error: 0.5023\n",
      "Epoch 19/150\n",
      "7855/7855 [==============================] - 11s 1ms/step - loss: 0.3140 - mean_squared_error: 0.3140 - mean_absolute_error: 0.3984 - val_loss: 0.8734 - val_mean_squared_error: 0.8734 - val_mean_absolute_error: 0.4915\n",
      "Epoch 20/150\n",
      "7855/7855 [==============================] - 11s 1ms/step - loss: 0.2831 - mean_squared_error: 0.2831 - mean_absolute_error: 0.3787 - val_loss: 0.9083 - val_mean_squared_error: 0.9083 - val_mean_absolute_error: 0.4842\n",
      "Epoch 21/150\n",
      "7855/7855 [==============================] - 11s 1ms/step - loss: 0.2455 - mean_squared_error: 0.2455 - mean_absolute_error: 0.3570 - val_loss: 0.8752 - val_mean_squared_error: 0.8752 - val_mean_absolute_error: 0.4851\n",
      "Epoch 22/150\n",
      "7855/7855 [==============================] - 11s 1ms/step - loss: 0.2403 - mean_squared_error: 0.2403 - mean_absolute_error: 0.3498 - val_loss: 0.9539 - val_mean_squared_error: 0.9539 - val_mean_absolute_error: 0.4866\n",
      "Epoch 23/150\n",
      "7855/7855 [==============================] - 11s 1ms/step - loss: 0.2488 - mean_squared_error: 0.2488 - mean_absolute_error: 0.3578 - val_loss: 0.9943 - val_mean_squared_error: 0.9943 - val_mean_absolute_error: 0.5232\n",
      "Epoch 24/150\n",
      "7855/7855 [==============================] - 11s 1ms/step - loss: 0.2219 - mean_squared_error: 0.2219 - mean_absolute_error: 0.3414 - val_loss: 0.9103 - val_mean_squared_error: 0.9103 - val_mean_absolute_error: 0.4701\n",
      "Epoch 25/150\n",
      "7855/7855 [==============================] - 11s 1ms/step - loss: 0.2132 - mean_squared_error: 0.2132 - mean_absolute_error: 0.3352 - val_loss: 0.9575 - val_mean_squared_error: 0.9575 - val_mean_absolute_error: 0.5012\n",
      "Epoch 26/150\n",
      "7855/7855 [==============================] - 11s 1ms/step - loss: 0.2372 - mean_squared_error: 0.2372 - mean_absolute_error: 0.3503 - val_loss: 0.9413 - val_mean_squared_error: 0.9413 - val_mean_absolute_error: 0.4752\n",
      "Epoch 27/150\n",
      "7855/7855 [==============================] - 11s 1ms/step - loss: 0.1932 - mean_squared_error: 0.1932 - mean_absolute_error: 0.3179 - val_loss: 0.9149 - val_mean_squared_error: 0.9149 - val_mean_absolute_error: 0.4593\n",
      "Epoch 28/150\n",
      "7855/7855 [==============================] - 11s 1ms/step - loss: 0.1931 - mean_squared_error: 0.1931 - mean_absolute_error: 0.3189 - val_loss: 0.9645 - val_mean_squared_error: 0.9645 - val_mean_absolute_error: 0.4890\n",
      "Epoch 29/150\n",
      "7855/7855 [==============================] - 11s 1ms/step - loss: 0.2034 - mean_squared_error: 0.2034 - mean_absolute_error: 0.3232 - val_loss: 0.9194 - val_mean_squared_error: 0.9194 - val_mean_absolute_error: 0.4722\n",
      "Epoch 30/150\n",
      "7855/7855 [==============================] - 11s 1ms/step - loss: 0.1875 - mean_squared_error: 0.1875 - mean_absolute_error: 0.3150 - val_loss: 0.8534 - val_mean_squared_error: 0.8534 - val_mean_absolute_error: 0.4656\n",
      "Epoch 31/150\n",
      "7855/7855 [==============================] - 11s 1ms/step - loss: 0.2002 - mean_squared_error: 0.2002 - mean_absolute_error: 0.3103 - val_loss: 0.8902 - val_mean_squared_error: 0.8902 - val_mean_absolute_error: 0.4732\n",
      "Epoch 32/150\n",
      "7855/7855 [==============================] - 11s 1ms/step - loss: 0.1865 - mean_squared_error: 0.1865 - mean_absolute_error: 0.3078 - val_loss: 0.8989 - val_mean_squared_error: 0.8989 - val_mean_absolute_error: 0.4807\n",
      "Epoch 33/150\n",
      "7855/7855 [==============================] - 11s 1ms/step - loss: 0.1780 - mean_squared_error: 0.1780 - mean_absolute_error: 0.3059 - val_loss: 0.8640 - val_mean_squared_error: 0.8640 - val_mean_absolute_error: 0.4733\n",
      "Epoch 34/150\n",
      "7855/7855 [==============================] - 11s 1ms/step - loss: 0.1855 - mean_squared_error: 0.1855 - mean_absolute_error: 0.3078 - val_loss: 0.8595 - val_mean_squared_error: 0.8595 - val_mean_absolute_error: 0.4573\n"
     ]
    },
    {
     "name": "stdout",
     "output_type": "stream",
     "text": [
      "Epoch 35/150\n",
      "7855/7855 [==============================] - 11s 1ms/step - loss: 0.1816 - mean_squared_error: 0.1816 - mean_absolute_error: 0.3053 - val_loss: 0.8709 - val_mean_squared_error: 0.8709 - val_mean_absolute_error: 0.4617\n",
      "Epoch 36/150\n",
      "7855/7855 [==============================] - 11s 1ms/step - loss: 0.1692 - mean_squared_error: 0.1692 - mean_absolute_error: 0.2958 - val_loss: 0.8604 - val_mean_squared_error: 0.8604 - val_mean_absolute_error: 0.4669\n",
      "Epoch 37/150\n",
      "7855/7855 [==============================] - 11s 1ms/step - loss: 0.1623 - mean_squared_error: 0.1623 - mean_absolute_error: 0.2927 - val_loss: 0.9167 - val_mean_squared_error: 0.9167 - val_mean_absolute_error: 0.4658\n",
      "Epoch 38/150\n",
      "7855/7855 [==============================] - 11s 1ms/step - loss: 0.1704 - mean_squared_error: 0.1704 - mean_absolute_error: 0.3005 - val_loss: 0.8791 - val_mean_squared_error: 0.8791 - val_mean_absolute_error: 0.4718\n",
      "Epoch 39/150\n",
      "7855/7855 [==============================] - 11s 1ms/step - loss: 0.1624 - mean_squared_error: 0.1624 - mean_absolute_error: 0.2926 - val_loss: 0.8369 - val_mean_squared_error: 0.8369 - val_mean_absolute_error: 0.4518\n",
      "Epoch 40/150\n",
      "7855/7855 [==============================] - 11s 1ms/step - loss: 0.1559 - mean_squared_error: 0.1559 - mean_absolute_error: 0.2817 - val_loss: 0.8822 - val_mean_squared_error: 0.8822 - val_mean_absolute_error: 0.4827\n",
      "Epoch 41/150\n",
      "7855/7855 [==============================] - 11s 1ms/step - loss: 0.1521 - mean_squared_error: 0.1521 - mean_absolute_error: 0.2776 - val_loss: 0.8508 - val_mean_squared_error: 0.8508 - val_mean_absolute_error: 0.4519\n",
      "Epoch 42/150\n",
      "7855/7855 [==============================] - 11s 1ms/step - loss: 0.1445 - mean_squared_error: 0.1445 - mean_absolute_error: 0.2711 - val_loss: 0.8859 - val_mean_squared_error: 0.8859 - val_mean_absolute_error: 0.4513\n",
      "Epoch 43/150\n",
      "7855/7855 [==============================] - 11s 1ms/step - loss: 0.1407 - mean_squared_error: 0.1407 - mean_absolute_error: 0.2691 - val_loss: 0.8716 - val_mean_squared_error: 0.8716 - val_mean_absolute_error: 0.4537\n",
      "Epoch 44/150\n",
      "7855/7855 [==============================] - 11s 1ms/step - loss: 0.1357 - mean_squared_error: 0.1357 - mean_absolute_error: 0.2655 - val_loss: 0.8787 - val_mean_squared_error: 0.8787 - val_mean_absolute_error: 0.4523\n",
      "Epoch 45/150\n",
      "7855/7855 [==============================] - 11s 1ms/step - loss: 0.1532 - mean_squared_error: 0.1532 - mean_absolute_error: 0.2753 - val_loss: 0.9095 - val_mean_squared_error: 0.9095 - val_mean_absolute_error: 0.4732\n",
      "Epoch 46/150\n",
      "7855/7855 [==============================] - 11s 1ms/step - loss: 0.1534 - mean_squared_error: 0.1534 - mean_absolute_error: 0.2781 - val_loss: 0.9170 - val_mean_squared_error: 0.9170 - val_mean_absolute_error: 0.4600\n",
      "Epoch 47/150\n",
      "7855/7855 [==============================] - 11s 1ms/step - loss: 0.1432 - mean_squared_error: 0.1432 - mean_absolute_error: 0.2665 - val_loss: 0.8761 - val_mean_squared_error: 0.8761 - val_mean_absolute_error: 0.4644\n",
      "Epoch 48/150\n",
      "7855/7855 [==============================] - 11s 1ms/step - loss: 0.1513 - mean_squared_error: 0.1513 - mean_absolute_error: 0.2714 - val_loss: 0.9006 - val_mean_squared_error: 0.9006 - val_mean_absolute_error: 0.4739\n",
      "Epoch 49/150\n",
      "7855/7855 [==============================] - 11s 1ms/step - loss: 0.1322 - mean_squared_error: 0.1322 - mean_absolute_error: 0.2607 - val_loss: 1.0261 - val_mean_squared_error: 1.0261 - val_mean_absolute_error: 0.4716\n",
      "Epoch 50/150\n",
      "7855/7855 [==============================] - 11s 1ms/step - loss: 0.1304 - mean_squared_error: 0.1304 - mean_absolute_error: 0.2587 - val_loss: 1.0208 - val_mean_squared_error: 1.0208 - val_mean_absolute_error: 0.4777\n",
      "Epoch 51/150\n",
      "7855/7855 [==============================] - 11s 1ms/step - loss: 0.1292 - mean_squared_error: 0.1292 - mean_absolute_error: 0.2576 - val_loss: 0.8476 - val_mean_squared_error: 0.8476 - val_mean_absolute_error: 0.4598\n",
      "Epoch 52/150\n",
      "7855/7855 [==============================] - 11s 1ms/step - loss: 0.1188 - mean_squared_error: 0.1188 - mean_absolute_error: 0.2482 - val_loss: 1.0288 - val_mean_squared_error: 1.0288 - val_mean_absolute_error: 0.4708\n",
      "Epoch 53/150\n",
      "7855/7855 [==============================] - 11s 1ms/step - loss: 0.1287 - mean_squared_error: 0.1287 - mean_absolute_error: 0.2568 - val_loss: 1.0667 - val_mean_squared_error: 1.0667 - val_mean_absolute_error: 0.4845\n",
      "Epoch 54/150\n",
      "7855/7855 [==============================] - 11s 1ms/step - loss: 0.1250 - mean_squared_error: 0.1250 - mean_absolute_error: 0.2534 - val_loss: 1.0308 - val_mean_squared_error: 1.0308 - val_mean_absolute_error: 0.4951\n",
      "Epoch 55/150\n",
      "7855/7855 [==============================] - 11s 1ms/step - loss: 0.1373 - mean_squared_error: 0.1373 - mean_absolute_error: 0.2584 - val_loss: 0.8983 - val_mean_squared_error: 0.8983 - val_mean_absolute_error: 0.4610\n",
      "Epoch 56/150\n",
      "7855/7855 [==============================] - 11s 1ms/step - loss: 0.1510 - mean_squared_error: 0.1510 - mean_absolute_error: 0.2654 - val_loss: 0.9287 - val_mean_squared_error: 0.9287 - val_mean_absolute_error: 0.4920\n",
      "Epoch 57/150\n",
      "7855/7855 [==============================] - 11s 1ms/step - loss: 0.1358 - mean_squared_error: 0.1358 - mean_absolute_error: 0.2616 - val_loss: 0.9804 - val_mean_squared_error: 0.9804 - val_mean_absolute_error: 0.4743\n",
      "Epoch 58/150\n",
      "7855/7855 [==============================] - 11s 1ms/step - loss: 0.1283 - mean_squared_error: 0.1283 - mean_absolute_error: 0.2523 - val_loss: 0.9247 - val_mean_squared_error: 0.9247 - val_mean_absolute_error: 0.4797\n",
      "Epoch 59/150\n",
      "7855/7855 [==============================] - 11s 1ms/step - loss: 0.1312 - mean_squared_error: 0.1312 - mean_absolute_error: 0.2549 - val_loss: 0.8923 - val_mean_squared_error: 0.8923 - val_mean_absolute_error: 0.4472\n",
      "Epoch 60/150\n",
      "7855/7855 [==============================] - 11s 1ms/step - loss: 0.1365 - mean_squared_error: 0.1365 - mean_absolute_error: 0.2629 - val_loss: 0.9737 - val_mean_squared_error: 0.9737 - val_mean_absolute_error: 0.4858\n",
      "Epoch 61/150\n",
      "7855/7855 [==============================] - 11s 1ms/step - loss: 0.1282 - mean_squared_error: 0.1282 - mean_absolute_error: 0.2536 - val_loss: 0.8703 - val_mean_squared_error: 0.8703 - val_mean_absolute_error: 0.4635\n",
      "Epoch 62/150\n",
      "7855/7855 [==============================] - 11s 1ms/step - loss: 0.1138 - mean_squared_error: 0.1138 - mean_absolute_error: 0.2417 - val_loss: 0.9148 - val_mean_squared_error: 0.9148 - val_mean_absolute_error: 0.4622\n",
      "Epoch 63/150\n",
      "7855/7855 [==============================] - 11s 1ms/step - loss: 0.1407 - mean_squared_error: 0.1407 - mean_absolute_error: 0.2579 - val_loss: 0.8232 - val_mean_squared_error: 0.8232 - val_mean_absolute_error: 0.4368\n",
      "Epoch 64/150\n",
      "7855/7855 [==============================] - 11s 1ms/step - loss: 0.1113 - mean_squared_error: 0.1113 - mean_absolute_error: 0.2383 - val_loss: 0.8724 - val_mean_squared_error: 0.8724 - val_mean_absolute_error: 0.4490\n",
      "Epoch 65/150\n",
      "7855/7855 [==============================] - 11s 1ms/step - loss: 0.1038 - mean_squared_error: 0.1038 - mean_absolute_error: 0.2309 - val_loss: 0.9702 - val_mean_squared_error: 0.9702 - val_mean_absolute_error: 0.4787\n",
      "Epoch 66/150\n",
      "7855/7855 [==============================] - 11s 1ms/step - loss: 0.1023 - mean_squared_error: 0.1023 - mean_absolute_error: 0.2279 - val_loss: 0.8688 - val_mean_squared_error: 0.8688 - val_mean_absolute_error: 0.4453\n",
      "Epoch 67/150\n",
      "7855/7855 [==============================] - 11s 1ms/step - loss: 0.1484 - mean_squared_error: 0.1484 - mean_absolute_error: 0.2505 - val_loss: 0.9573 - val_mean_squared_error: 0.9573 - val_mean_absolute_error: 0.5022\n",
      "Epoch 68/150\n",
      "7855/7855 [==============================] - 11s 1ms/step - loss: 0.1380 - mean_squared_error: 0.1380 - mean_absolute_error: 0.2531 - val_loss: 0.9518 - val_mean_squared_error: 0.9518 - val_mean_absolute_error: 0.4661\n",
      "Epoch 69/150\n",
      "7855/7855 [==============================] - 11s 1ms/step - loss: 0.1635 - mean_squared_error: 0.1635 - mean_absolute_error: 0.2616 - val_loss: 0.8519 - val_mean_squared_error: 0.8519 - val_mean_absolute_error: 0.4576\n",
      "Epoch 70/150\n",
      "7855/7855 [==============================] - 11s 1ms/step - loss: 0.1762 - mean_squared_error: 0.1762 - mean_absolute_error: 0.2647 - val_loss: 0.8906 - val_mean_squared_error: 0.8906 - val_mean_absolute_error: 0.4655\n",
      "Epoch 71/150\n",
      "7855/7855 [==============================] - 11s 1ms/step - loss: 0.2029 - mean_squared_error: 0.2029 - mean_absolute_error: 0.2822 - val_loss: 1.0578 - val_mean_squared_error: 1.0578 - val_mean_absolute_error: 0.5485\n",
      "Epoch 72/150\n",
      "7855/7855 [==============================] - 11s 1ms/step - loss: 0.1395 - mean_squared_error: 0.1395 - mean_absolute_error: 0.2535 - val_loss: 0.8683 - val_mean_squared_error: 0.8683 - val_mean_absolute_error: 0.4612\n",
      "Epoch 73/150\n",
      "7855/7855 [==============================] - 11s 1ms/step - loss: 0.1198 - mean_squared_error: 0.1198 - mean_absolute_error: 0.2403 - val_loss: 0.8413 - val_mean_squared_error: 0.8413 - val_mean_absolute_error: 0.4478\n",
      "Epoch 74/150\n",
      "7855/7855 [==============================] - 11s 1ms/step - loss: 0.1103 - mean_squared_error: 0.1103 - mean_absolute_error: 0.2359 - val_loss: 0.8843 - val_mean_squared_error: 0.8843 - val_mean_absolute_error: 0.4553\n",
      "Epoch 75/150\n",
      "7855/7855 [==============================] - 11s 1ms/step - loss: 0.1111 - mean_squared_error: 0.1111 - mean_absolute_error: 0.2347 - val_loss: 0.8476 - val_mean_squared_error: 0.8476 - val_mean_absolute_error: 0.4452\n",
      "Epoch 76/150\n",
      "7855/7855 [==============================] - 11s 1ms/step - loss: 0.1036 - mean_squared_error: 0.1036 - mean_absolute_error: 0.2278 - val_loss: 0.9250 - val_mean_squared_error: 0.9250 - val_mean_absolute_error: 0.4713\n",
      "Epoch 77/150\n",
      "7855/7855 [==============================] - 11s 1ms/step - loss: 0.1165 - mean_squared_error: 0.1165 - mean_absolute_error: 0.2301 - val_loss: 0.8403 - val_mean_squared_error: 0.8403 - val_mean_absolute_error: 0.4444\n",
      "Epoch 78/150\n",
      "7855/7855 [==============================] - 11s 1ms/step - loss: 0.0904 - mean_squared_error: 0.0904 - mean_absolute_error: 0.2160 - val_loss: 0.8241 - val_mean_squared_error: 0.8241 - val_mean_absolute_error: 0.4384\n",
      "Epoch 79/150\n",
      "7855/7855 [==============================] - 11s 1ms/step - loss: 0.0851 - mean_squared_error: 0.0851 - mean_absolute_error: 0.2119 - val_loss: 0.8834 - val_mean_squared_error: 0.8834 - val_mean_absolute_error: 0.4425\n",
      "Epoch 80/150\n",
      "7855/7855 [==============================] - 11s 1ms/step - loss: 0.0771 - mean_squared_error: 0.0771 - mean_absolute_error: 0.1991 - val_loss: 0.8430 - val_mean_squared_error: 0.8430 - val_mean_absolute_error: 0.4383\n",
      "Epoch 81/150\n",
      "7855/7855 [==============================] - 11s 1ms/step - loss: 0.0800 - mean_squared_error: 0.0800 - mean_absolute_error: 0.2041 - val_loss: 0.8202 - val_mean_squared_error: 0.8202 - val_mean_absolute_error: 0.4427\n",
      "Epoch 82/150\n",
      "7855/7855 [==============================] - 11s 1ms/step - loss: 0.0867 - mean_squared_error: 0.0867 - mean_absolute_error: 0.2093 - val_loss: 0.8736 - val_mean_squared_error: 0.8736 - val_mean_absolute_error: 0.4371\n",
      "Epoch 83/150\n",
      "7855/7855 [==============================] - 11s 1ms/step - loss: 0.0829 - mean_squared_error: 0.0829 - mean_absolute_error: 0.2070 - val_loss: 0.8183 - val_mean_squared_error: 0.8183 - val_mean_absolute_error: 0.4442\n",
      "Epoch 84/150\n",
      "7855/7855 [==============================] - 11s 1ms/step - loss: 0.0803 - mean_squared_error: 0.0803 - mean_absolute_error: 0.2044 - val_loss: 0.8378 - val_mean_squared_error: 0.8378 - val_mean_absolute_error: 0.4394\n",
      "Epoch 85/150\n",
      "7855/7855 [==============================] - 11s 1ms/step - loss: 0.0928 - mean_squared_error: 0.0928 - mean_absolute_error: 0.2183 - val_loss: 0.9129 - val_mean_squared_error: 0.9129 - val_mean_absolute_error: 0.4427\n",
      "Epoch 86/150\n",
      "7855/7855 [==============================] - 11s 1ms/step - loss: 0.0983 - mean_squared_error: 0.0983 - mean_absolute_error: 0.2128 - val_loss: 0.8856 - val_mean_squared_error: 0.8856 - val_mean_absolute_error: 0.4453\n",
      "Epoch 87/150\n",
      "7855/7855 [==============================] - 11s 1ms/step - loss: 0.0945 - mean_squared_error: 0.0945 - mean_absolute_error: 0.2084 - val_loss: 0.8683 - val_mean_squared_error: 0.8683 - val_mean_absolute_error: 0.4445\n",
      "Epoch 88/150\n",
      "7855/7855 [==============================] - 11s 1ms/step - loss: 0.1211 - mean_squared_error: 0.1211 - mean_absolute_error: 0.2247 - val_loss: 0.8792 - val_mean_squared_error: 0.8792 - val_mean_absolute_error: 0.4459\n",
      "Epoch 89/150\n",
      "7855/7855 [==============================] - 11s 1ms/step - loss: 0.1257 - mean_squared_error: 0.1257 - mean_absolute_error: 0.2293 - val_loss: 0.9001 - val_mean_squared_error: 0.9001 - val_mean_absolute_error: 0.4594\n",
      "Epoch 90/150\n",
      "7855/7855 [==============================] - 11s 1ms/step - loss: 0.0928 - mean_squared_error: 0.0928 - mean_absolute_error: 0.2181 - val_loss: 0.8888 - val_mean_squared_error: 0.8888 - val_mean_absolute_error: 0.4473\n",
      "Epoch 91/150\n",
      "7855/7855 [==============================] - 11s 1ms/step - loss: 0.0853 - mean_squared_error: 0.0853 - mean_absolute_error: 0.2078 - val_loss: 0.8620 - val_mean_squared_error: 0.8620 - val_mean_absolute_error: 0.4448\n",
      "Epoch 92/150\n",
      "7855/7855 [==============================] - 11s 1ms/step - loss: 0.0772 - mean_squared_error: 0.0772 - mean_absolute_error: 0.1984 - val_loss: 0.8593 - val_mean_squared_error: 0.8593 - val_mean_absolute_error: 0.4276\n",
      "Epoch 93/150\n",
      "7855/7855 [==============================] - 11s 1ms/step - loss: 0.0727 - mean_squared_error: 0.0727 - mean_absolute_error: 0.1953 - val_loss: 0.8936 - val_mean_squared_error: 0.8936 - val_mean_absolute_error: 0.4490\n",
      "Epoch 94/150\n",
      "7855/7855 [==============================] - 11s 1ms/step - loss: 0.0709 - mean_squared_error: 0.0709 - mean_absolute_error: 0.1900 - val_loss: 0.8566 - val_mean_squared_error: 0.8566 - val_mean_absolute_error: 0.4405\n",
      "Epoch 95/150\n",
      "7855/7855 [==============================] - 11s 1ms/step - loss: 0.0869 - mean_squared_error: 0.0869 - mean_absolute_error: 0.1996 - val_loss: 0.8465 - val_mean_squared_error: 0.8465 - val_mean_absolute_error: 0.4484\n",
      "Epoch 96/150\n",
      "7855/7855 [==============================] - 11s 1ms/step - loss: 0.0948 - mean_squared_error: 0.0948 - mean_absolute_error: 0.2112 - val_loss: 0.8737 - val_mean_squared_error: 0.8737 - val_mean_absolute_error: 0.4600\n",
      "Epoch 97/150\n",
      "7855/7855 [==============================] - 11s 1ms/step - loss: 0.0919 - mean_squared_error: 0.0919 - mean_absolute_error: 0.2041 - val_loss: 0.8794 - val_mean_squared_error: 0.8794 - val_mean_absolute_error: 0.4525\n",
      "Epoch 98/150\n",
      "7855/7855 [==============================] - 11s 1ms/step - loss: 0.0890 - mean_squared_error: 0.0890 - mean_absolute_error: 0.1995 - val_loss: 0.8788 - val_mean_squared_error: 0.8788 - val_mean_absolute_error: 0.4712\n",
      "Epoch 99/150\n",
      "7855/7855 [==============================] - 11s 1ms/step - loss: 0.0996 - mean_squared_error: 0.0996 - mean_absolute_error: 0.2092 - val_loss: 0.8296 - val_mean_squared_error: 0.8296 - val_mean_absolute_error: 0.4413\n",
      "Epoch 100/150\n",
      "7855/7855 [==============================] - 11s 1ms/step - loss: 0.0854 - mean_squared_error: 0.0854 - mean_absolute_error: 0.1971 - val_loss: 0.8462 - val_mean_squared_error: 0.8462 - val_mean_absolute_error: 0.4517\n",
      "Epoch 101/150\n",
      "7855/7855 [==============================] - 11s 1ms/step - loss: 0.1044 - mean_squared_error: 0.1044 - mean_absolute_error: 0.2069 - val_loss: 1.0359 - val_mean_squared_error: 1.0359 - val_mean_absolute_error: 0.4617\n",
      "Epoch 102/150\n",
      "7855/7855 [==============================] - 11s 1ms/step - loss: 0.1167 - mean_squared_error: 0.1167 - mean_absolute_error: 0.2220 - val_loss: 0.9238 - val_mean_squared_error: 0.9238 - val_mean_absolute_error: 0.4743\n",
      "Epoch 103/150\n",
      "7855/7855 [==============================] - 11s 1ms/step - loss: 0.1594 - mean_squared_error: 0.1594 - mean_absolute_error: 0.2378 - val_loss: 0.9863 - val_mean_squared_error: 0.9863 - val_mean_absolute_error: 0.4901\n",
      "Epoch 104/150\n",
      "7855/7855 [==============================] - 11s 1ms/step - loss: 0.1345 - mean_squared_error: 0.1345 - mean_absolute_error: 0.2282 - val_loss: 0.9107 - val_mean_squared_error: 0.9107 - val_mean_absolute_error: 0.4618\n",
      "Epoch 105/150\n"
     ]
    },
    {
     "name": "stdout",
     "output_type": "stream",
     "text": [
      "7855/7855 [==============================] - 11s 1ms/step - loss: 0.1106 - mean_squared_error: 0.1106 - mean_absolute_error: 0.2180 - val_loss: 0.9321 - val_mean_squared_error: 0.9321 - val_mean_absolute_error: 0.4471\n",
      "Epoch 106/150\n",
      "7855/7855 [==============================] - 11s 1ms/step - loss: 0.1004 - mean_squared_error: 0.1004 - mean_absolute_error: 0.2131 - val_loss: 0.9233 - val_mean_squared_error: 0.9233 - val_mean_absolute_error: 0.4514\n",
      "Epoch 107/150\n",
      "7855/7855 [==============================] - 11s 1ms/step - loss: 0.0941 - mean_squared_error: 0.0941 - mean_absolute_error: 0.2100 - val_loss: 1.0277 - val_mean_squared_error: 1.0277 - val_mean_absolute_error: 0.4822\n",
      "Epoch 108/150\n",
      "7855/7855 [==============================] - 11s 1ms/step - loss: 0.0833 - mean_squared_error: 0.0833 - mean_absolute_error: 0.2031 - val_loss: 0.9459 - val_mean_squared_error: 0.9459 - val_mean_absolute_error: 0.4537\n",
      "Epoch 109/150\n",
      "7855/7855 [==============================] - 11s 1ms/step - loss: 0.0785 - mean_squared_error: 0.0785 - mean_absolute_error: 0.1964 - val_loss: 0.8405 - val_mean_squared_error: 0.8405 - val_mean_absolute_error: 0.4425\n",
      "Epoch 110/150\n",
      "7855/7855 [==============================] - 11s 1ms/step - loss: 0.0658 - mean_squared_error: 0.0658 - mean_absolute_error: 0.1786 - val_loss: 0.8765 - val_mean_squared_error: 0.8765 - val_mean_absolute_error: 0.4441\n",
      "Epoch 111/150\n",
      "7855/7855 [==============================] - 11s 1ms/step - loss: 0.0703 - mean_squared_error: 0.0703 - mean_absolute_error: 0.1788 - val_loss: 0.8709 - val_mean_squared_error: 0.8709 - val_mean_absolute_error: 0.4488\n",
      "Epoch 112/150\n",
      "7855/7855 [==============================] - 11s 1ms/step - loss: 0.0635 - mean_squared_error: 0.0635 - mean_absolute_error: 0.1769 - val_loss: 0.8647 - val_mean_squared_error: 0.8647 - val_mean_absolute_error: 0.4371\n",
      "Epoch 113/150\n",
      "7855/7855 [==============================] - 11s 1ms/step - loss: 0.0587 - mean_squared_error: 0.0587 - mean_absolute_error: 0.1738 - val_loss: 0.8396 - val_mean_squared_error: 0.8396 - val_mean_absolute_error: 0.4416\n",
      "Epoch 114/150\n",
      "7855/7855 [==============================] - 11s 1ms/step - loss: 0.0608 - mean_squared_error: 0.0608 - mean_absolute_error: 0.1767 - val_loss: 0.8329 - val_mean_squared_error: 0.8329 - val_mean_absolute_error: 0.4331\n",
      "Epoch 115/150\n",
      "7855/7855 [==============================] - 11s 1ms/step - loss: 0.0633 - mean_squared_error: 0.0633 - mean_absolute_error: 0.1752 - val_loss: 0.8215 - val_mean_squared_error: 0.8215 - val_mean_absolute_error: 0.4371\n",
      "Epoch 116/150\n",
      "7855/7855 [==============================] - 11s 1ms/step - loss: 0.0557 - mean_squared_error: 0.0557 - mean_absolute_error: 0.1681 - val_loss: 0.8215 - val_mean_squared_error: 0.8215 - val_mean_absolute_error: 0.4303\n",
      "Epoch 117/150\n",
      "7855/7855 [==============================] - 11s 1ms/step - loss: 0.0549 - mean_squared_error: 0.0549 - mean_absolute_error: 0.1683 - val_loss: 0.8290 - val_mean_squared_error: 0.8290 - val_mean_absolute_error: 0.4429\n",
      "Epoch 118/150\n",
      "7855/7855 [==============================] - 11s 1ms/step - loss: 0.0556 - mean_squared_error: 0.0556 - mean_absolute_error: 0.1682 - val_loss: 0.8381 - val_mean_squared_error: 0.8381 - val_mean_absolute_error: 0.4416\n",
      "Epoch 119/150\n",
      "7855/7855 [==============================] - 11s 1ms/step - loss: 0.0519 - mean_squared_error: 0.0519 - mean_absolute_error: 0.1608 - val_loss: 0.8147 - val_mean_squared_error: 0.8147 - val_mean_absolute_error: 0.4323\n",
      "Epoch 120/150\n",
      "7855/7855 [==============================] - 11s 1ms/step - loss: 0.0525 - mean_squared_error: 0.0525 - mean_absolute_error: 0.1608 - val_loss: 0.7897 - val_mean_squared_error: 0.7897 - val_mean_absolute_error: 0.4267\n",
      "Epoch 121/150\n",
      "7855/7855 [==============================] - 11s 1ms/step - loss: 0.0526 - mean_squared_error: 0.0526 - mean_absolute_error: 0.1640 - val_loss: 0.7986 - val_mean_squared_error: 0.7986 - val_mean_absolute_error: 0.4177\n",
      "Epoch 122/150\n",
      "7855/7855 [==============================] - 11s 1ms/step - loss: 0.0537 - mean_squared_error: 0.0537 - mean_absolute_error: 0.1653 - val_loss: 0.8099 - val_mean_squared_error: 0.8099 - val_mean_absolute_error: 0.4326\n",
      "Epoch 123/150\n",
      "7855/7855 [==============================] - 11s 1ms/step - loss: 0.0530 - mean_squared_error: 0.0530 - mean_absolute_error: 0.1609 - val_loss: 0.8338 - val_mean_squared_error: 0.8338 - val_mean_absolute_error: 0.4401\n",
      "Epoch 124/150\n",
      "7855/7855 [==============================] - 11s 1ms/step - loss: 0.0570 - mean_squared_error: 0.0570 - mean_absolute_error: 0.1698 - val_loss: 0.8425 - val_mean_squared_error: 0.8425 - val_mean_absolute_error: 0.4301\n",
      "Epoch 125/150\n",
      "7855/7855 [==============================] - 11s 1ms/step - loss: 0.0587 - mean_squared_error: 0.0587 - mean_absolute_error: 0.1660 - val_loss: 0.8890 - val_mean_squared_error: 0.8890 - val_mean_absolute_error: 0.4537\n",
      "Epoch 126/150\n",
      "7855/7855 [==============================] - 11s 1ms/step - loss: 0.0604 - mean_squared_error: 0.0604 - mean_absolute_error: 0.1717 - val_loss: 0.8938 - val_mean_squared_error: 0.8938 - val_mean_absolute_error: 0.4428\n",
      "Epoch 127/150\n",
      "7855/7855 [==============================] - 11s 1ms/step - loss: 0.0585 - mean_squared_error: 0.0585 - mean_absolute_error: 0.1712 - val_loss: 0.8622 - val_mean_squared_error: 0.8622 - val_mean_absolute_error: 0.4494\n",
      "Epoch 128/150\n",
      "7855/7855 [==============================] - 11s 1ms/step - loss: 0.0531 - mean_squared_error: 0.0531 - mean_absolute_error: 0.1640 - val_loss: 0.7925 - val_mean_squared_error: 0.7925 - val_mean_absolute_error: 0.4260\n",
      "Epoch 129/150\n",
      "7855/7855 [==============================] - 11s 1ms/step - loss: 0.0504 - mean_squared_error: 0.0504 - mean_absolute_error: 0.1599 - val_loss: 0.8768 - val_mean_squared_error: 0.8768 - val_mean_absolute_error: 0.4427\n",
      "Epoch 130/150\n",
      "7855/7855 [==============================] - 11s 1ms/step - loss: 0.0525 - mean_squared_error: 0.0525 - mean_absolute_error: 0.1625 - val_loss: 0.8290 - val_mean_squared_error: 0.8290 - val_mean_absolute_error: 0.4304\n",
      "Epoch 131/150\n",
      "7855/7855 [==============================] - 11s 1ms/step - loss: 0.0645 - mean_squared_error: 0.0645 - mean_absolute_error: 0.1699 - val_loss: 0.8144 - val_mean_squared_error: 0.8144 - val_mean_absolute_error: 0.4395\n",
      "Epoch 132/150\n",
      "7855/7855 [==============================] - 11s 1ms/step - loss: 0.0599 - mean_squared_error: 0.0599 - mean_absolute_error: 0.1707 - val_loss: 0.8533 - val_mean_squared_error: 0.8533 - val_mean_absolute_error: 0.4530\n",
      "Epoch 133/150\n",
      "7855/7855 [==============================] - 11s 1ms/step - loss: 0.0526 - mean_squared_error: 0.0526 - mean_absolute_error: 0.1633 - val_loss: 1.0326 - val_mean_squared_error: 1.0326 - val_mean_absolute_error: 0.4656\n",
      "Epoch 134/150\n",
      "7855/7855 [==============================] - 11s 1ms/step - loss: 0.0531 - mean_squared_error: 0.0531 - mean_absolute_error: 0.1635 - val_loss: 0.9543 - val_mean_squared_error: 0.9543 - val_mean_absolute_error: 0.4546\n",
      "Epoch 135/150\n",
      "7855/7855 [==============================] - 11s 1ms/step - loss: 0.0517 - mean_squared_error: 0.0517 - mean_absolute_error: 0.1612 - val_loss: 0.8307 - val_mean_squared_error: 0.8307 - val_mean_absolute_error: 0.4314\n",
      "Epoch 136/150\n",
      "7855/7855 [==============================] - 11s 1ms/step - loss: 0.0491 - mean_squared_error: 0.0491 - mean_absolute_error: 0.1576 - val_loss: 0.8389 - val_mean_squared_error: 0.8389 - val_mean_absolute_error: 0.4272\n",
      "Epoch 137/150\n",
      "7855/7855 [==============================] - 11s 1ms/step - loss: 0.0462 - mean_squared_error: 0.0462 - mean_absolute_error: 0.1536 - val_loss: 0.8599 - val_mean_squared_error: 0.8599 - val_mean_absolute_error: 0.4386\n",
      "Epoch 138/150\n",
      "7855/7855 [==============================] - 11s 1ms/step - loss: 0.0543 - mean_squared_error: 0.0543 - mean_absolute_error: 0.1610 - val_loss: 0.8947 - val_mean_squared_error: 0.8947 - val_mean_absolute_error: 0.4627\n",
      "Epoch 139/150\n",
      "7855/7855 [==============================] - 11s 1ms/step - loss: 0.0845 - mean_squared_error: 0.0845 - mean_absolute_error: 0.1850 - val_loss: 0.9502 - val_mean_squared_error: 0.9502 - val_mean_absolute_error: 0.4759\n",
      "Epoch 140/150\n",
      "7855/7855 [==============================] - 11s 1ms/step - loss: 0.2999 - mean_squared_error: 0.2999 - mean_absolute_error: 0.2905 - val_loss: 1.9305 - val_mean_squared_error: 1.9305 - val_mean_absolute_error: 0.9930\n",
      "Epoch 141/150\n",
      "7855/7855 [==============================] - 11s 1ms/step - loss: 0.2717 - mean_squared_error: 0.2717 - mean_absolute_error: 0.2943 - val_loss: 0.9985 - val_mean_squared_error: 0.9985 - val_mean_absolute_error: 0.5058\n",
      "Epoch 142/150\n",
      "7855/7855 [==============================] - 11s 1ms/step - loss: 0.1106 - mean_squared_error: 0.1106 - mean_absolute_error: 0.2162 - val_loss: 0.9313 - val_mean_squared_error: 0.9313 - val_mean_absolute_error: 0.4574\n",
      "Epoch 143/150\n",
      "7855/7855 [==============================] - 11s 1ms/step - loss: 0.0705 - mean_squared_error: 0.0705 - mean_absolute_error: 0.1816 - val_loss: 0.8888 - val_mean_squared_error: 0.8888 - val_mean_absolute_error: 0.4546\n",
      "Epoch 144/150\n",
      "7855/7855 [==============================] - 11s 1ms/step - loss: 0.0553 - mean_squared_error: 0.0553 - mean_absolute_error: 0.1647 - val_loss: 0.8840 - val_mean_squared_error: 0.8840 - val_mean_absolute_error: 0.4502\n",
      "Epoch 145/150\n",
      "7855/7855 [==============================] - 11s 1ms/step - loss: 0.0537 - mean_squared_error: 0.0537 - mean_absolute_error: 0.1637 - val_loss: 0.8468 - val_mean_squared_error: 0.8468 - val_mean_absolute_error: 0.4359\n",
      "Epoch 146/150\n",
      "7855/7855 [==============================] - 11s 1ms/step - loss: 0.0531 - mean_squared_error: 0.0531 - mean_absolute_error: 0.1656 - val_loss: 0.8552 - val_mean_squared_error: 0.8552 - val_mean_absolute_error: 0.4380\n",
      "Epoch 147/150\n",
      "7855/7855 [==============================] - 11s 1ms/step - loss: 0.0532 - mean_squared_error: 0.0532 - mean_absolute_error: 0.1575 - val_loss: 0.8688 - val_mean_squared_error: 0.8688 - val_mean_absolute_error: 0.4451\n",
      "Epoch 148/150\n",
      "7855/7855 [==============================] - 11s 1ms/step - loss: 0.2063 - mean_squared_error: 0.2063 - mean_absolute_error: 0.2322 - val_loss: 0.8579 - val_mean_squared_error: 0.8579 - val_mean_absolute_error: 0.4695\n",
      "Epoch 149/150\n",
      "7855/7855 [==============================] - 11s 1ms/step - loss: 0.0931 - mean_squared_error: 0.0931 - mean_absolute_error: 0.1940 - val_loss: 0.8995 - val_mean_squared_error: 0.8995 - val_mean_absolute_error: 0.4561\n",
      "Epoch 150/150\n",
      "7855/7855 [==============================] - 11s 1ms/step - loss: 0.0669 - mean_squared_error: 0.0669 - mean_absolute_error: 0.1703 - val_loss: 0.9068 - val_mean_squared_error: 0.9068 - val_mean_absolute_error: 0.4546\n",
      "EndTime : 2020-11-23 14:17:25.671652\n"
     ]
    }
   ],
   "source": [
    "StartTime8 = datetime.now()\n",
    "print(\"StartTime :\", StartTime8)\n",
    "with K.tf.device('/GPU:0'):\n",
    "    model_train = model.fit(train_X, training_label_array, batch_size=batch_size,epochs=training_epochs,verbose=1,\n",
    "                        validation_data=(test_X, test_label_array))\n",
    "\n",
    "EndTime8 = datetime.now()\n",
    "print(\"EndTime :\", EndTime8)"
   ]
  },
  {
   "cell_type": "code",
   "execution_count": 18,
   "metadata": {},
   "outputs": [],
   "source": [
    "import json\n",
    "from keras.models import model_from_json, load_model\n",
    "workdir = \"E://Ronny_TF//201120_EDC_EYDC_MDC_other_PC//Result//MDC9K//ResNet\"\n",
    "# Option 1: Save Weights + Architecture\n",
    "model.save_weights(workdir+ '//MDC9K_ResNet_model_fix_v3.h5')\n",
    "with open(workdir + '//MDC9K_ResNet_model_architecture_fix_v3.json', 'w') as f:\n",
    "    f.write(model.to_json())\n",
    "# Option 1: Load Weights + Architecture\n",
    "# with open('model_architecture.json', 'r') as f:\n",
    "#     new_model_1 = model_from_json(f.read())\n",
    "# new_model_1.load_weights('model_weights.h5')"
   ]
  },
  {
   "cell_type": "code",
   "execution_count": 19,
   "metadata": {},
   "outputs": [],
   "source": [
    "# Option 2: Save/Load the Entire Model\n",
    "from keras.models import load_model\n",
    "\n",
    "# Creates a HDF5 file 'my_model.h5'\n",
    "model.save(workdir + '//MDC9K_ResNet_model_fix_2080ti_v3.h5')\n",
    "\n",
    "# Deletes the existing model\n",
    "# del model  \n",
    "\n",
    "# Returns a compiled model identical to the previous one\n",
    "# model = load_model('my_model.h5')"
   ]
  },
  {
   "cell_type": "code",
   "execution_count": 20,
   "metadata": {},
   "outputs": [
    {
     "name": "stdout",
     "output_type": "stream",
     "text": [
      "872/872 [==============================] - 1s 627us/step\n"
     ]
    }
   ],
   "source": [
    "test_eval = model.evaluate(test_X, test_label_array, verbose=1)"
   ]
  },
  {
   "cell_type": "code",
   "execution_count": 21,
   "metadata": {},
   "outputs": [
    {
     "data": {
      "text/plain": [
       "[0.9067840709291194, 0.9067840709291194, 0.45461582713717713]"
      ]
     },
     "execution_count": 21,
     "metadata": {},
     "output_type": "execute_result"
    }
   ],
   "source": [
    "test_eval"
   ]
  },
  {
   "cell_type": "code",
   "execution_count": 22,
   "metadata": {},
   "outputs": [],
   "source": [
    "accuracy = model_train.history['mean_squared_error']\n",
    "val_accuracy = model_train.history['val_mean_squared_error']\n",
    "loss = model_train.history['loss']\n",
    "val_loss = model_train.history['val_loss']\n",
    "\n",
    "np_acc = np.array(accuracy)\n",
    "np_val_acc = np.array(val_accuracy)\n",
    "np_loss = np.array(loss)\n",
    "np_val_loss = np.array(val_loss)"
   ]
  },
  {
   "cell_type": "code",
   "execution_count": 24,
   "metadata": {},
   "outputs": [],
   "source": [
    "import matplotlib\n",
    "from matplotlib import pyplot as plt"
   ]
  },
  {
   "cell_type": "code",
   "execution_count": 25,
   "metadata": {},
   "outputs": [
    {
     "data": {
      "image/png": "[encoded data removed]",
      "text/plain": [
       "<Figure size 432x288 with 1 Axes>"
      ]
     },
     "metadata": {
      "needs_background": "light"
     },
     "output_type": "display_data"
    },
    {
     "data": {
      "image/png": "[encoded data removed]",
      "text/plain": [
       "<Figure size 432x288 with 1 Axes>"
      ]
     },
     "metadata": {
      "needs_background": "light"
     },
     "output_type": "display_data"
    }
   ],
   "source": [
    "# accuracy = model_train.history['acc']\n",
    "# val_accuracy = model_train.history['val_acc']\n",
    "# loss = model_train.history['loss']\n",
    "# val_loss = model_train.history['val_loss']\n",
    "epochs = range(len(accuracy))\n",
    "plt.plot(epochs, accuracy, 'bo', label='Training mse')\n",
    "plt.plot(epochs, val_accuracy, 'b', label='Validation mse')\n",
    "plt.title('Training and validation mse')\n",
    "plt.legend()\n",
    "plt.figure()\n",
    "plt.plot(epochs, loss, 'bo', label='Training loss')\n",
    "plt.plot(epochs, val_loss, 'b', label='Validation loss')\n",
    "plt.title('Training and validation loss')\n",
    "plt.legend()\n",
    "plt.show()"
   ]
  },
  {
   "cell_type": "code",
   "execution_count": 26,
   "metadata": {},
   "outputs": [],
   "source": [
    "predicted_classes = model.predict(test_X)"
   ]
  },
  {
   "cell_type": "code",
   "execution_count": 27,
   "metadata": {},
   "outputs": [],
   "source": [
    "predicted_value = predicted_classes"
   ]
  },
  {
   "cell_type": "code",
   "execution_count": 28,
   "metadata": {},
   "outputs": [],
   "source": [
    "a = pd.DataFrame(predicted_value)\n",
    "b = pd.DataFrame(test_label_array)\n",
    "c = pd.concat([a,b], axis=1)\n",
    "c.columns=[\"Predicted\",\"Test\"]"
   ]
  },
  {
   "cell_type": "code",
   "execution_count": 31,
   "metadata": {},
   "outputs": [],
   "source": [
    "c.to_csv(workdir + '//MDC9K_ResNet_pred_obs_table.csv')"
   ]
  },
  {
   "cell_type": "code",
   "execution_count": 32,
   "metadata": {
    "scrolled": true
   },
   "outputs": [
    {
     "data": {
      "text/html": [
       "<div>\n",
       "<style scoped>\n",
       "    .dataframe tbody tr th:only-of-type {\n",
       "        vertical-align: middle;\n",
       "    }\n",
       "\n",
       "    .dataframe tbody tr th {\n",
       "        vertical-align: top;\n",
       "    }\n",
       "\n",
       "    .dataframe thead th {\n",
       "        text-align: right;\n",
       "    }\n",
       "</style>\n",
       "<table border=\"1\" class=\"dataframe\">\n",
       "  <thead>\n",
       "    <tr style=\"text-align: right;\">\n",
       "      <th></th>\n",
       "      <th>Predicted</th>\n",
       "      <th>Test</th>\n",
       "    </tr>\n",
       "  </thead>\n",
       "  <tbody>\n",
       "    <tr>\n",
       "      <th>0</th>\n",
       "      <td>1.351039</td>\n",
       "      <td>0.577696</td>\n",
       "    </tr>\n",
       "    <tr>\n",
       "      <th>1</th>\n",
       "      <td>2.133609</td>\n",
       "      <td>2.079442</td>\n",
       "    </tr>\n",
       "    <tr>\n",
       "      <th>2</th>\n",
       "      <td>-0.370920</td>\n",
       "      <td>0.483850</td>\n",
       "    </tr>\n",
       "    <tr>\n",
       "      <th>3</th>\n",
       "      <td>1.981578</td>\n",
       "      <td>2.079442</td>\n",
       "    </tr>\n",
       "    <tr>\n",
       "      <th>4</th>\n",
       "      <td>0.912531</td>\n",
       "      <td>-0.941620</td>\n",
       "    </tr>\n",
       "    <tr>\n",
       "      <th>...</th>\n",
       "      <td>...</td>\n",
       "      <td>...</td>\n",
       "    </tr>\n",
       "    <tr>\n",
       "      <th>867</th>\n",
       "      <td>1.552951</td>\n",
       "      <td>1.328457</td>\n",
       "    </tr>\n",
       "    <tr>\n",
       "      <th>868</th>\n",
       "      <td>1.940366</td>\n",
       "      <td>1.700243</td>\n",
       "    </tr>\n",
       "    <tr>\n",
       "      <th>869</th>\n",
       "      <td>2.080359</td>\n",
       "      <td>1.767344</td>\n",
       "    </tr>\n",
       "    <tr>\n",
       "      <th>870</th>\n",
       "      <td>-2.165967</td>\n",
       "      <td>-2.164246</td>\n",
       "    </tr>\n",
       "    <tr>\n",
       "      <th>871</th>\n",
       "      <td>2.069071</td>\n",
       "      <td>2.079442</td>\n",
       "    </tr>\n",
       "  </tbody>\n",
       "</table>\n",
       "<p>872 rows × 2 columns</p>\n",
       "</div>"
      ],
      "text/plain": [
       "     Predicted      Test\n",
       "0     1.351039  0.577696\n",
       "1     2.133609  2.079442\n",
       "2    -0.370920  0.483850\n",
       "3     1.981578  2.079442\n",
       "4     0.912531 -0.941620\n",
       "..         ...       ...\n",
       "867   1.552951  1.328457\n",
       "868   1.940366  1.700243\n",
       "869   2.080359  1.767344\n",
       "870  -2.165967 -2.164246\n",
       "871   2.069071  2.079442\n",
       "\n",
       "[872 rows x 2 columns]"
      ]
     },
     "execution_count": 32,
     "metadata": {},
     "output_type": "execute_result"
    }
   ],
   "source": [
    "c"
   ]
  },
  {
   "cell_type": "code",
   "execution_count": 33,
   "metadata": {},
   "outputs": [
    {
     "data": {
      "text/plain": [
       "(872, 1)"
      ]
     },
     "execution_count": 33,
     "metadata": {},
     "output_type": "execute_result"
    }
   ],
   "source": [
    "predicted_value.shape"
   ]
  },
  {
   "cell_type": "code",
   "execution_count": 34,
   "metadata": {},
   "outputs": [
    {
     "data": {
      "text/plain": [
       "LinregressResult(slope=0.8203733455912132, intercept=0.2557926612261753, rvalue=0.8701432298636278, pvalue=1.3030858793484868e-269, stderr=0.015751825886373992)"
      ]
     },
     "execution_count": 34,
     "metadata": {},
     "output_type": "execute_result"
    }
   ],
   "source": [
    "from scipy.stats import linregress\n",
    "linregress(b[0], a[0])"
   ]
  },
  {
   "cell_type": "code",
   "execution_count": 36,
   "metadata": {},
   "outputs": [
    {
     "name": "stdout",
     "output_type": "stream",
     "text": [
      "0.750370208809073\n"
     ]
    }
   ],
   "source": [
    "from sklearn.metrics import r2_score\n",
    "r2_value = r2_score(b,a)\n",
    "print(r2_value)"
   ]
  },
  {
   "cell_type": "code",
   "execution_count": 37,
   "metadata": {},
   "outputs": [
    {
     "name": "stdout",
     "output_type": "stream",
     "text": [
      "Final rmse value is = 0.9522520977226501\n"
     ]
    }
   ],
   "source": [
    "rse = ((b[0]-a[0])**2).sum()\n",
    "mse = rse / len(b)\n",
    "print(\"Final rmse value is =\",np.sqrt(mse))"
   ]
  },
  {
   "cell_type": "code",
   "execution_count": 38,
   "metadata": {},
   "outputs": [
    {
     "data": {
      "image/png": "[encoded data removed]",
      "text/plain": [
       "<Figure size 432x432 with 3 Axes>"
      ]
     },
     "metadata": {
      "needs_background": "light"
     },
     "output_type": "display_data"
    }
   ],
   "source": [
    "workdir = \"E://Ronny_TF//201120_EDC_EYDC_MDC_other_PC//Result//Fig_backbone//MDC9K\"\n",
    "import seaborn as sns\n",
    "\n",
    "g = sns.jointplot(x=\"Test\", y=\"Predicted\", data=c, kind='reg', color='#7C7C7C',\n",
    "                  joint_kws={'line_kws':{'color':'black'}})\n",
    "g.savefig(workdir+ '//MDC9K_ResNet.png', dpi=300)"
   ]
  },
  {
   "cell_type": "code",
   "execution_count": null,
   "metadata": {},
   "outputs": [],
   "source": []
  }
 ],
 "metadata": {
  "kernelspec": {
   "display_name": "Python 3",
   "language": "python",
   "name": "python3"
  },
  "language_info": {
   "codemirror_mode": {
    "name": "ipython",
    "version": 3
   },
   "file_extension": ".py",
   "mimetype": "text/x-python",
   "name": "python",
   "nbconvert_exporter": "python",
   "pygments_lexer": "ipython3",
   "version": "3.7.9"
  }
 },
 "nbformat": 4,
 "nbformat_minor": 2
}
