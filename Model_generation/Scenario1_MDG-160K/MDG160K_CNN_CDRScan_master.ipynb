{
 "cells": [
  {
   "cell_type": "code",
   "execution_count": 36,
   "metadata": {},
   "outputs": [],
   "source": [
    "import os\n",
    "import pandas as pd\n",
    "import numpy as np\n",
    "import tensorflow as tf\n",
    "import random\n",
    "from pandas import DataFrame\n",
    "from datetime import datetime\n",
    "import keras\n",
    "from keras.models import Sequential,Input,Model\n",
    "from keras.layers import Dense, Dropout, Flatten, Reshape, Activation\n",
    "from keras.layers import Conv1D, MaxPooling1D ,AveragePooling1D\n",
    "from keras.layers.normalization import BatchNormalization\n",
    "from keras.layers.advanced_activations import LeakyReLU\n",
    "from keras import backend as K\n",
    "from tensorflow.keras.callbacks import ModelCheckpoint, CSVLogger\n",
    "from tensorflow.keras.optimizers import Adam, RMSprop\n",
    "from tensorflow.keras.layers import Input, Dense, Conv1D, MaxPooling1D\n",
    "from tensorflow.keras.layers import Flatten, Concatenate, Dropout, Reshape, BatchNormalization\n",
    "from tensorflow.keras.models import Model\n"
   ]
  },
  {
   "cell_type": "code",
   "execution_count": 2,
   "metadata": {},
   "outputs": [
    {
     "name": "stdout",
     "output_type": "stream",
     "text": [
      "[name: \"/device:CPU:0\"\n",
      "device_type: \"CPU\"\n",
      "memory_limit: 268435456\n",
      "locality {\n",
      "}\n",
      "incarnation: 3331245772380035522\n",
      ", name: \"/device:GPU:0\"\n",
      "device_type: \"GPU\"\n",
      "memory_limit: 23404396749\n",
      "locality {\n",
      "  bus_id: 1\n",
      "  links {\n",
      "  }\n",
      "}\n",
      "incarnation: 658278615729598277\n",
      "physical_device_desc: \"device: 0, name: TITAN RTX, pci bus id: 0000:01:00.0, compute capability: 7.5\"\n",
      "]\n"
     ]
    }
   ],
   "source": [
    "from tensorflow.python.client import device_lib\n",
    "print(device_lib.list_local_devices())\n",
    "\n",
    "\n",
    "# 출처: https://3months.tistory.com/206 [Deep Play]"
   ]
  },
  {
   "cell_type": "code",
   "execution_count": 3,
   "metadata": {},
   "outputs": [],
   "source": [
    "workdir = \"path\" # please set the path where the dataset located in\n",
    "\n",
    "# < Important note > [ Please download input data from https://mega.nz/#F!CeYGDKyS!uqkmWJ4E2XSGJp_C2VO2gg]\n",
    "# IC50evaluation//Dataset//MDG160K\n",
    "dataset = np.load(workdir + \"//190320_cls4_druginfo_change.npz\") # MDG160K input file\n",
    "ss0 = np.load(workdir + '//190315_shuffle_split_r0.npz') # split for training set and test set"
   ]
  },
  {
   "cell_type": "code",
   "execution_count": 4,
   "metadata": {},
   "outputs": [],
   "source": [
    "x = dataset['x']\n",
    "y = dataset['y_lnIC50']\n",
    "# y_linear = dataset['y_lnIC50']\n",
    "ss0_train = ss0['train']\n",
    "ss0_test = ss0['test']"
   ]
  },
  {
   "cell_type": "code",
   "execution_count": 5,
   "metadata": {},
   "outputs": [],
   "source": [
    "training_image_array, training_label_array = x[ss0_train], y[ss0_train]\n",
    "test_image_array, test_label_array = x[ss0_test], y[ss0_test]\n",
    "\n",
    "# In[9]:\n",
    "# ori = training_image_array\n",
    "# bat = np.zeros((ori.shape[0],178))\n",
    "# cat = np.hstack([ori,bat])\n",
    "# training_image_array = cat\n",
    "\n",
    "# # In[8]:\n",
    "# training_image_array.shape\n",
    "\n",
    "# # In[10]:\n",
    "# ori2 = test_image_array\n",
    "# bat2 = np.zeros((ori2.shape[0],178))\n",
    "# cat2 = np.hstack([ori2,bat2])\n",
    "# test_image_array = cat2\n"
   ]
  },
  {
   "cell_type": "code",
   "execution_count": 6,
   "metadata": {},
   "outputs": [
    {
     "name": "stdout",
     "output_type": "stream",
     "text": [
      "2 24\n"
     ]
    }
   ],
   "source": [
    "# In[15]:\n",
    "ab =[]\n",
    "for i in range(100,200):\n",
    "    ab.append(len(training_image_array) % i)\n",
    "    \n",
    "print(min(ab), ab.index(min(ab)))"
   ]
  },
  {
   "cell_type": "code",
   "execution_count": 7,
   "metadata": {},
   "outputs": [
    {
     "data": {
      "text/plain": [
       "(160375, 23538)"
      ]
     },
     "execution_count": 7,
     "metadata": {},
     "output_type": "execute_result"
    }
   ],
   "source": [
    "x.shape"
   ]
  },
  {
   "cell_type": "code",
   "execution_count": 8,
   "metadata": {},
   "outputs": [
    {
     "data": {
      "text/plain": [
       "(144338, 23538)"
      ]
     },
     "execution_count": 8,
     "metadata": {},
     "output_type": "execute_result"
    }
   ],
   "source": [
    "training_image_array.shape"
   ]
  },
  {
   "cell_type": "code",
   "execution_count": 10,
   "metadata": {},
   "outputs": [],
   "source": [
    "# In[21]: Hyper parameter section\n",
    "\n",
    "num_classes = 1\n",
    "learning_rate = 0.0002\n",
    "training_epochs = 150\n",
    "batch_size = 100\n",
    "img_rows, img_cols = 154, 154\n"
   ]
  },
  {
   "cell_type": "code",
   "execution_count": 11,
   "metadata": {},
   "outputs": [],
   "source": [
    "train_X, train_y, test_X, test_y = training_image_array, training_label_array, test_image_array, test_label_array\n",
    "\n",
    "# if K.image_data_format() == 'channels_first':\n",
    "#     train_X = train_X.reshape(train_X.shape[0], 1, img_rows, img_cols)\n",
    "#     test_X = test_X.reshape(x_test.shape[0], 1, img_rows, img_cols)\n",
    "#     input_shape = (1, img_rows, img_cols)\n",
    "# else:\n",
    "#     train_X = train_X.reshape(train_X.shape[0], img_rows, img_cols, 1)\n",
    "#     test_X = test_X.reshape(test_X.shape[0], img_rows, img_cols, 1)\n",
    "#     input_shape = (img_rows, img_cols, 1)\n"
   ]
  },
  {
   "cell_type": "code",
   "execution_count": 20,
   "metadata": {},
   "outputs": [
    {
     "data": {
      "text/plain": [
       "(144338, 2325)"
      ]
     },
     "execution_count": 20,
     "metadata": {},
     "output_type": "execute_result"
    }
   ],
   "source": [
    "train_X[:,21213:].shape"
   ]
  },
  {
   "cell_type": "code",
   "execution_count": 21,
   "metadata": {},
   "outputs": [],
   "source": [
    "train_X_cell = train_X[:,:21213]\n",
    "train_X_drug =train_X[:,21213:]\n",
    "test_X_cell = test_X[:,:21213]\n",
    "test_X_drug = test_X[:,21213:]"
   ]
  },
  {
   "cell_type": "code",
   "execution_count": 22,
   "metadata": {},
   "outputs": [
    {
     "data": {
      "text/plain": [
       "(144338, 21213)"
      ]
     },
     "execution_count": 22,
     "metadata": {},
     "output_type": "execute_result"
    }
   ],
   "source": [
    "train_X_cell.shape"
   ]
  },
  {
   "cell_type": "code",
   "execution_count": 24,
   "metadata": {},
   "outputs": [],
   "source": [
    "train_X_cell = train_X_cell.reshape(train_X_cell.shape[0], train_X_cell.shape[1], 1)\n",
    "train_X_drug = train_X_drug.reshape(train_X_drug.shape[0], train_X_drug.shape[1], 1)\n",
    "test_X_cell = test_X_cell.reshape(test_X_cell.shape[0], test_X_cell.shape[1], 1)\n",
    "test_X_drug = test_X_drug.reshape(test_X_drug.shape[0], test_X_drug.shape[1], 1)\n",
    "#input_shape = (img_rows, img_cols, 1)"
   ]
  },
  {
   "cell_type": "code",
   "execution_count": 25,
   "metadata": {},
   "outputs": [
    {
     "name": "stdout",
     "output_type": "stream",
     "text": [
      "(144338, 21213, 1) (144338, 2325, 1) (144338,) (16037, 21213, 1) (16037, 2325, 1) (16037,)\n"
     ]
    }
   ],
   "source": [
    "print(train_X_cell.shape,train_X_drug.shape, train_y.shape, test_X_cell.shape,test_X_drug.shape, test_y.shape)"
   ]
  },
  {
   "cell_type": "code",
   "execution_count": 13,
   "metadata": {},
   "outputs": [
    {
     "name": "stdout",
     "output_type": "stream",
     "text": [
      "train_X shape: (144338, 23538, 1)\n",
      "144338 train samples\n",
      "16037 test samples\n"
     ]
    }
   ],
   "source": [
    "train_X = train_X.astype('float32')\n",
    "test_X = test_X.astype('float32')\n",
    "# train_X /= 255\n",
    "# test_X /= 255\n",
    "print('train_X shape:', train_X.shape)\n",
    "print(train_X.shape[0], 'train samples')\n",
    "print(test_X.shape[0], 'test samples')"
   ]
  },
  {
   "cell_type": "code",
   "execution_count": 39,
   "metadata": {},
   "outputs": [],
   "source": [
    "# Model architecture\n",
    "\n",
    "with K.tf.device('/GPU:0'):\n",
    "    input_cell = Input(shape=(train_X_cell.shape[1], train_X_cell.shape[2]), name='cell_input')\n",
    "    input_drug = Input(shape=(train_X_drug.shape[1], train_X_drug.shape[2]), name='drug_input')\n",
    "\n",
    "    conv_cell_line_1 = Conv1D(filters=50, kernel_size=700, strides=5, activation='tanh')(input_cell)\n",
    "    maxpool_cell_line_1 = MaxPooling1D(pool_size=5)(conv_cell_line_1)\n",
    "    conv_cell_line_2 = Conv1D(filters=30, kernel_size=5, strides=2, activation='relu')(maxpool_cell_line_1)\n",
    "    maxpool_cell_line_2 = MaxPooling1D(pool_size=10)(conv_cell_line_2)\n",
    "    flatten_cell_line = Flatten()(maxpool_cell_line_2)\n",
    "    dense_cell_line = Dense(100, activation='relu')(flatten_cell_line)\n",
    "    dropout_cell_line = Dropout(0.1)(dense_cell_line)\n",
    "\n",
    "    conv_drug_1 = Conv1D(filters=50, kernel_size=200, strides=3, activation='tanh')(input_drug)\n",
    "    maxpool_drug_1 = MaxPooling1D(pool_size=5)(conv_drug_1)\n",
    "    conv_drug_2 = Conv1D(filters=30, kernel_size=50, strides=5, activation='relu')(maxpool_drug_1)\n",
    "    maxpool_drug_2 = MaxPooling1D(pool_size=10)(conv_drug_2)\n",
    "    flatten_drug = Flatten()(maxpool_drug_2)\n",
    "    dense_drug = Dense(100, activation='relu')(flatten_drug)\n",
    "    dropout_drug = Dropout(0.1)(dense_drug)\n",
    "\n",
    "    concatenate = Concatenate()([dropout_cell_line, dropout_drug])\n",
    "    dense_1 = Dense(300, activation='tanh')(concatenate)\n",
    "    dropout_1 = Dropout(0.1)(dense_1)\n",
    "    reshape_1 = Reshape((300,1))(dropout_1)\n",
    "    conv_1 = Conv1D(filters=30, kernel_size=150, strides=1, activation='relu')(reshape_1)\n",
    "    maxpool_1 = MaxPooling1D(pool_size=2)(conv_1)\n",
    "    conv_2 = Conv1D(filters=10, kernel_size=5, strides=1, activation='relu')(maxpool_1)\n",
    "    maxpool_2 = MaxPooling1D(pool_size=3)(conv_2)\n",
    "    conv_3 = Conv1D(filters=5, kernel_size=5, strides=1, activation='relu')(maxpool_2)\n",
    "    maxpool_3 = MaxPooling1D(pool_size=3)(conv_3)\n",
    "    dropout_2 = Dropout(0.1)(maxpool_3)\n",
    "    flatten = Flatten()(dropout_2)\n",
    "    dropout_3 = Dropout(0.2)(flatten)\n",
    "    output = Dense(1, activation='linear', name='pred_lnIC50')(dropout_3)\n",
    "    model = Model(inputs=[input_cell, input_drug], outputs=output, name='MasterModel')\n"
   ]
  },
  {
   "cell_type": "code",
   "execution_count": 40,
   "metadata": {
    "scrolled": true
   },
   "outputs": [
    {
     "name": "stdout",
     "output_type": "stream",
     "text": [
      "__________________________________________________________________________________________________\n",
      "Layer (type)                    Output Shape         Param #     Connected to                     \n",
      "==================================================================================================\n",
      "cell_input (InputLayer)         (None, 21213, 1)     0                                            \n",
      "__________________________________________________________________________________________________\n",
      "drug_input (InputLayer)         (None, 2325, 1)      0                                            \n",
      "__________________________________________________________________________________________________\n",
      "conv1d_5 (Conv1D)               (None, 4103, 50)     35050       cell_input[0][0]                 \n",
      "__________________________________________________________________________________________________\n",
      "conv1d_7 (Conv1D)               (None, 709, 50)      10050       drug_input[0][0]                 \n",
      "__________________________________________________________________________________________________\n",
      "max_pooling1d_5 (MaxPooling1D)  (None, 820, 50)      0           conv1d_5[0][0]                   \n",
      "__________________________________________________________________________________________________\n",
      "max_pooling1d_7 (MaxPooling1D)  (None, 141, 50)      0           conv1d_7[0][0]                   \n",
      "__________________________________________________________________________________________________\n",
      "conv1d_6 (Conv1D)               (None, 408, 30)      7530        max_pooling1d_5[0][0]            \n",
      "__________________________________________________________________________________________________\n",
      "conv1d_8 (Conv1D)               (None, 19, 30)       75030       max_pooling1d_7[0][0]            \n",
      "__________________________________________________________________________________________________\n",
      "max_pooling1d_6 (MaxPooling1D)  (None, 40, 30)       0           conv1d_6[0][0]                   \n",
      "__________________________________________________________________________________________________\n",
      "max_pooling1d_8 (MaxPooling1D)  (None, 1, 30)        0           conv1d_8[0][0]                   \n",
      "__________________________________________________________________________________________________\n",
      "flatten_2 (Flatten)             (None, 1200)         0           max_pooling1d_6[0][0]            \n",
      "__________________________________________________________________________________________________\n",
      "flatten_3 (Flatten)             (None, 30)           0           max_pooling1d_8[0][0]            \n",
      "__________________________________________________________________________________________________\n",
      "dense_2 (Dense)                 (None, 100)          120100      flatten_2[0][0]                  \n",
      "__________________________________________________________________________________________________\n",
      "dense_3 (Dense)                 (None, 100)          3100        flatten_3[0][0]                  \n",
      "__________________________________________________________________________________________________\n",
      "dropout_4 (Dropout)             (None, 100)          0           dense_2[0][0]                    \n",
      "__________________________________________________________________________________________________\n",
      "dropout_5 (Dropout)             (None, 100)          0           dense_3[0][0]                    \n",
      "__________________________________________________________________________________________________\n",
      "concatenate (Concatenate)       (None, 200)          0           dropout_4[0][0]                  \n",
      "                                                                 dropout_5[0][0]                  \n",
      "__________________________________________________________________________________________________\n",
      "dense_4 (Dense)                 (None, 300)          60300       concatenate[0][0]                \n",
      "__________________________________________________________________________________________________\n",
      "dropout_6 (Dropout)             (None, 300)          0           dense_4[0][0]                    \n",
      "__________________________________________________________________________________________________\n",
      "reshape_1 (Reshape)             (None, 300, 1)       0           dropout_6[0][0]                  \n",
      "__________________________________________________________________________________________________\n",
      "conv1d_9 (Conv1D)               (None, 151, 30)      4530        reshape_1[0][0]                  \n",
      "__________________________________________________________________________________________________\n",
      "max_pooling1d_9 (MaxPooling1D)  (None, 75, 30)       0           conv1d_9[0][0]                   \n",
      "__________________________________________________________________________________________________\n",
      "conv1d_10 (Conv1D)              (None, 71, 10)       1510        max_pooling1d_9[0][0]            \n",
      "__________________________________________________________________________________________________\n",
      "max_pooling1d_10 (MaxPooling1D) (None, 23, 10)       0           conv1d_10[0][0]                  \n",
      "__________________________________________________________________________________________________\n",
      "conv1d_11 (Conv1D)              (None, 19, 5)        255         max_pooling1d_10[0][0]           \n",
      "__________________________________________________________________________________________________\n",
      "max_pooling1d_11 (MaxPooling1D) (None, 6, 5)         0           conv1d_11[0][0]                  \n",
      "__________________________________________________________________________________________________\n",
      "dropout_7 (Dropout)             (None, 6, 5)         0           max_pooling1d_11[0][0]           \n",
      "__________________________________________________________________________________________________\n",
      "flatten_4 (Flatten)             (None, 30)           0           dropout_7[0][0]                  \n",
      "__________________________________________________________________________________________________\n",
      "dropout_8 (Dropout)             (None, 30)           0           flatten_4[0][0]                  \n",
      "__________________________________________________________________________________________________\n",
      "pred_lnIC50 (Dense)             (None, 1)            31          dropout_8[0][0]                  \n",
      "==================================================================================================\n",
      "Total params: 317,486\n",
      "Trainable params: 317,486\n",
      "Non-trainable params: 0\n",
      "__________________________________________________________________________________________________\n"
     ]
    }
   ],
   "source": [
    "model.summary()"
   ]
  },
  {
   "cell_type": "code",
   "execution_count": 41,
   "metadata": {},
   "outputs": [],
   "source": [
    "config = tf.ConfigProto()\n",
    "config.gpu_options.allow_growth = True\n",
    "sess = tf.Session(config=config)"
   ]
  },
  {
   "cell_type": "code",
   "execution_count": 42,
   "metadata": {
    "scrolled": true
   },
   "outputs": [
    {
     "name": "stdout",
     "output_type": "stream",
     "text": [
      "StartTime : 2019-05-16 13:29:47.610000\n",
      "Train on 144338 samples, validate on 16037 samples\n",
      "Epoch 1/150\n",
      "144338/144338 [==============================] - 67s 466us/sample - loss: 4.6228 - mean_squared_error: 4.6228 - mean_absolute_error: 1.6435 - val_loss: 2.3154 - val_mean_squared_error: 2.3154 - val_mean_absolute_error: 1.2008\n",
      "Epoch 2/150\n",
      "144338/144338 [==============================] - 65s 448us/sample - loss: 2.2412 - mean_squared_error: 2.2412 - mean_absolute_error: 1.1558 - val_loss: 1.7746 - val_mean_squared_error: 1.7746 - val_mean_absolute_error: 1.0007\n",
      "Epoch 3/150\n",
      "144338/144338 [==============================] - 64s 443us/sample - loss: 2.0942 - mean_squared_error: 2.0942 - mean_absolute_error: 1.1133 - val_loss: 1.7029 - val_mean_squared_error: 1.7029 - val_mean_absolute_error: 0.9845\n",
      "Epoch 4/150\n",
      "144338/144338 [==============================] - 65s 449us/sample - loss: 2.0452 - mean_squared_error: 2.0452 - mean_absolute_error: 1.1008 - val_loss: 1.6748 - val_mean_squared_error: 1.6748 - val_mean_absolute_error: 0.9616\n",
      "Epoch 5/150\n",
      "144338/144338 [==============================] - 65s 449us/sample - loss: 1.9925 - mean_squared_error: 1.9925 - mean_absolute_error: 1.0837 - val_loss: 1.6372 - val_mean_squared_error: 1.6372 - val_mean_absolute_error: 0.9483\n",
      "Epoch 6/150\n",
      "144338/144338 [==============================] - 67s 463us/sample - loss: 1.9497 - mean_squared_error: 1.9497 - mean_absolute_error: 1.0705 - val_loss: 1.6179 - val_mean_squared_error: 1.6179 - val_mean_absolute_error: 0.9513\n",
      "Epoch 7/150\n",
      "144338/144338 [==============================] - 64s 447us/sample - loss: 1.9166 - mean_squared_error: 1.9166 - mean_absolute_error: 1.0608 - val_loss: 1.6048 - val_mean_squared_error: 1.6048 - val_mean_absolute_error: 0.9585\n",
      "Epoch 8/150\n",
      "144338/144338 [==============================] - 64s 446us/sample - loss: 1.8862 - mean_squared_error: 1.8862 - mean_absolute_error: 1.0488 - val_loss: 1.6117 - val_mean_squared_error: 1.6117 - val_mean_absolute_error: 0.9630\n",
      "Epoch 9/150\n",
      "144338/144338 [==============================] - 66s 456us/sample - loss: 1.8443 - mean_squared_error: 1.8443 - mean_absolute_error: 1.0377 - val_loss: 1.5753 - val_mean_squared_error: 1.5753 - val_mean_absolute_error: 0.9226\n",
      "Epoch 10/150\n",
      "144338/144338 [==============================] - 64s 442us/sample - loss: 1.8132 - mean_squared_error: 1.8132 - mean_absolute_error: 1.0273 - val_loss: 1.5347 - val_mean_squared_error: 1.5347 - val_mean_absolute_error: 0.9151\n",
      "Epoch 11/150\n",
      "144338/144338 [==============================] - 64s 446us/sample - loss: 1.7752 - mean_squared_error: 1.7752 - mean_absolute_error: 1.0162 - val_loss: 1.4815 - val_mean_squared_error: 1.4815 - val_mean_absolute_error: 0.9094\n",
      "Epoch 12/150\n",
      "144338/144338 [==============================] - 64s 441us/sample - loss: 1.7357 - mean_squared_error: 1.7357 - mean_absolute_error: 1.0036 - val_loss: 1.5167 - val_mean_squared_error: 1.5167 - val_mean_absolute_error: 0.9353\n",
      "Epoch 13/150\n",
      "144338/144338 [==============================] - 65s 450us/sample - loss: 1.6708 - mean_squared_error: 1.6708 - mean_absolute_error: 0.9833 - val_loss: 1.4289 - val_mean_squared_error: 1.4289 - val_mean_absolute_error: 0.8889\n",
      "Epoch 14/150\n",
      "144338/144338 [==============================] - 64s 443us/sample - loss: 1.6313 - mean_squared_error: 1.6313 - mean_absolute_error: 0.9691 - val_loss: 1.4283 - val_mean_squared_error: 1.4283 - val_mean_absolute_error: 0.8867\n",
      "Epoch 15/150\n",
      "144338/144338 [==============================] - 65s 450us/sample - loss: 1.6109 - mean_squared_error: 1.6109 - mean_absolute_error: 0.9628 - val_loss: 1.3825 - val_mean_squared_error: 1.3825 - val_mean_absolute_error: 0.8669\n",
      "Epoch 16/150\n",
      "144338/144338 [==============================] - 67s 463us/sample - loss: 1.5942 - mean_squared_error: 1.5942 - mean_absolute_error: 0.9566 - val_loss: 1.3976 - val_mean_squared_error: 1.3976 - val_mean_absolute_error: 0.8810\n",
      "Epoch 17/150\n",
      "144338/144338 [==============================] - 64s 446us/sample - loss: 1.5840 - mean_squared_error: 1.5840 - mean_absolute_error: 0.9536 - val_loss: 1.4217 - val_mean_squared_error: 1.4217 - val_mean_absolute_error: 0.8951\n",
      "Epoch 18/150\n",
      "144338/144338 [==============================] - 66s 456us/sample - loss: 1.5588 - mean_squared_error: 1.5588 - mean_absolute_error: 0.9442 - val_loss: 1.3720 - val_mean_squared_error: 1.3720 - val_mean_absolute_error: 0.8679\n",
      "Epoch 19/150\n",
      "144338/144338 [==============================] - 65s 449us/sample - loss: 1.5507 - mean_squared_error: 1.5507 - mean_absolute_error: 0.9422 - val_loss: 1.3610 - val_mean_squared_error: 1.3610 - val_mean_absolute_error: 0.8594\n",
      "Epoch 20/150\n",
      "144338/144338 [==============================] - 65s 452us/sample - loss: 1.5357 - mean_squared_error: 1.5357 - mean_absolute_error: 0.9363 - val_loss: 1.3582 - val_mean_squared_error: 1.3582 - val_mean_absolute_error: 0.8633\n",
      "Epoch 21/150\n",
      "144338/144338 [==============================] - 64s 446us/sample - loss: 1.5280 - mean_squared_error: 1.5280 - mean_absolute_error: 0.9340 - val_loss: 1.3511 - val_mean_squared_error: 1.3511 - val_mean_absolute_error: 0.8571\n",
      "Epoch 22/150\n",
      "144338/144338 [==============================] - 67s 467us/sample - loss: 1.5104 - mean_squared_error: 1.5104 - mean_absolute_error: 0.9291 - val_loss: 1.3634 - val_mean_squared_error: 1.3634 - val_mean_absolute_error: 0.8765\n",
      "Epoch 23/150\n",
      "144338/144338 [==============================] - 64s 442us/sample - loss: 1.5011 - mean_squared_error: 1.5011 - mean_absolute_error: 0.9245 - val_loss: 1.3445 - val_mean_squared_error: 1.3445 - val_mean_absolute_error: 0.8547\n",
      "Epoch 24/150\n",
      "144338/144338 [==============================] - 65s 454us/sample - loss: 1.4945 - mean_squared_error: 1.4945 - mean_absolute_error: 0.9218 - val_loss: 1.3602 - val_mean_squared_error: 1.3602 - val_mean_absolute_error: 0.8720\n",
      "Epoch 25/150\n",
      "144338/144338 [==============================] - 66s 456us/sample - loss: 1.4820 - mean_squared_error: 1.4820 - mean_absolute_error: 0.9197 - val_loss: 1.3370 - val_mean_squared_error: 1.3370 - val_mean_absolute_error: 0.8637\n",
      "Epoch 26/150\n",
      "144338/144338 [==============================] - 63s 438us/sample - loss: 1.4723 - mean_squared_error: 1.4723 - mean_absolute_error: 0.9157 - val_loss: 1.3240 - val_mean_squared_error: 1.3240 - val_mean_absolute_error: 0.8450\n",
      "Epoch 27/150\n",
      "144338/144338 [==============================] - 64s 444us/sample - loss: 1.4572 - mean_squared_error: 1.4572 - mean_absolute_error: 0.9108 - val_loss: 1.3349 - val_mean_squared_error: 1.3349 - val_mean_absolute_error: 0.8499\n",
      "Epoch 28/150\n",
      "144338/144338 [==============================] - 62s 431us/sample - loss: 1.4554 - mean_squared_error: 1.4554 - mean_absolute_error: 0.9099 - val_loss: 1.3343 - val_mean_squared_error: 1.3343 - val_mean_absolute_error: 0.8707\n",
      "Epoch 29/150\n",
      "144338/144338 [==============================] - 64s 446us/sample - loss: 1.4453 - mean_squared_error: 1.4453 - mean_absolute_error: 0.9072 - val_loss: 1.3006 - val_mean_squared_error: 1.3006 - val_mean_absolute_error: 0.8402\n",
      "Epoch 30/150\n",
      "144338/144338 [==============================] - 66s 455us/sample - loss: 1.4346 - mean_squared_error: 1.4346 - mean_absolute_error: 0.9037 - val_loss: 1.3003 - val_mean_squared_error: 1.3003 - val_mean_absolute_error: 0.8440\n",
      "Epoch 31/150\n",
      "144338/144338 [==============================] - 66s 460us/sample - loss: 1.4171 - mean_squared_error: 1.4171 - mean_absolute_error: 0.8988 - val_loss: 1.2887 - val_mean_squared_error: 1.2887 - val_mean_absolute_error: 0.8318\n",
      "Epoch 32/150\n",
      "144338/144338 [==============================] - 65s 450us/sample - loss: 1.4104 - mean_squared_error: 1.4104 - mean_absolute_error: 0.8959 - val_loss: 1.2783 - val_mean_squared_error: 1.2783 - val_mean_absolute_error: 0.8364\n",
      "Epoch 33/150\n",
      "144338/144338 [==============================] - 64s 440us/sample - loss: 1.4063 - mean_squared_error: 1.4063 - mean_absolute_error: 0.8949 - val_loss: 1.2845 - val_mean_squared_error: 1.2845 - val_mean_absolute_error: 0.8490\n",
      "Epoch 34/150\n",
      "144338/144338 [==============================] - 62s 428us/sample - loss: 1.3944 - mean_squared_error: 1.3944 - mean_absolute_error: 0.8919 - val_loss: 1.2690 - val_mean_squared_error: 1.2690 - val_mean_absolute_error: 0.8262\n",
      "Epoch 35/150\n",
      "144338/144338 [==============================] - 64s 444us/sample - loss: 1.3820 - mean_squared_error: 1.3820 - mean_absolute_error: 0.8877 - val_loss: 1.2667 - val_mean_squared_error: 1.2667 - val_mean_absolute_error: 0.8337\n",
      "Epoch 36/150\n",
      "144338/144338 [==============================] - 61s 426us/sample - loss: 1.3762 - mean_squared_error: 1.3762 - mean_absolute_error: 0.8854 - val_loss: 1.2656 - val_mean_squared_error: 1.2656 - val_mean_absolute_error: 0.8294\n",
      "Epoch 37/150\n",
      "144338/144338 [==============================] - 62s 432us/sample - loss: 1.3668 - mean_squared_error: 1.3668 - mean_absolute_error: 0.8811 - val_loss: 1.3015 - val_mean_squared_error: 1.3015 - val_mean_absolute_error: 0.8555\n",
      "Epoch 38/150\n",
      "144338/144338 [==============================] - 64s 442us/sample - loss: 1.3585 - mean_squared_error: 1.3585 - mean_absolute_error: 0.8798 - val_loss: 1.2639 - val_mean_squared_error: 1.2639 - val_mean_absolute_error: 0.8234\n",
      "Epoch 39/150\n",
      "144338/144338 [==============================] - 63s 437us/sample - loss: 1.3515 - mean_squared_error: 1.3515 - mean_absolute_error: 0.8760 - val_loss: 1.2510 - val_mean_squared_error: 1.2510 - val_mean_absolute_error: 0.8235\n",
      "Epoch 40/150\n",
      "144338/144338 [==============================] - 63s 434us/sample - loss: 1.3433 - mean_squared_error: 1.3433 - mean_absolute_error: 0.8751 - val_loss: 1.2512 - val_mean_squared_error: 1.2512 - val_mean_absolute_error: 0.8316\n",
      "Epoch 41/150\n",
      "144338/144338 [==============================] - 62s 428us/sample - loss: 1.3291 - mean_squared_error: 1.3291 - mean_absolute_error: 0.8719 - val_loss: 1.2225 - val_mean_squared_error: 1.2225 - val_mean_absolute_error: 0.8137\n",
      "Epoch 42/150\n",
      "144338/144338 [==============================] - 62s 430us/sample - loss: 1.3252 - mean_squared_error: 1.3252 - mean_absolute_error: 0.8698 - val_loss: 1.2368 - val_mean_squared_error: 1.2368 - val_mean_absolute_error: 0.8169\n",
      "Epoch 43/150\n",
      "144338/144338 [==============================] - 63s 434us/sample - loss: 1.3251 - mean_squared_error: 1.3251 - mean_absolute_error: 0.8703 - val_loss: 1.2275 - val_mean_squared_error: 1.2275 - val_mean_absolute_error: 0.8182\n",
      "Epoch 44/150\n",
      "144338/144338 [==============================] - 63s 434us/sample - loss: 1.3172 - mean_squared_error: 1.3172 - mean_absolute_error: 0.8663 - val_loss: 1.2272 - val_mean_squared_error: 1.2272 - val_mean_absolute_error: 0.8198\n",
      "Epoch 45/150\n",
      "144338/144338 [==============================] - 66s 458us/sample - loss: 1.3090 - mean_squared_error: 1.3090 - mean_absolute_error: 0.8634 - val_loss: 1.2394 - val_mean_squared_error: 1.2394 - val_mean_absolute_error: 0.8294\n",
      "Epoch 46/150\n",
      "144338/144338 [==============================] - 61s 424us/sample - loss: 1.3040 - mean_squared_error: 1.3040 - mean_absolute_error: 0.8632 - val_loss: 1.2305 - val_mean_squared_error: 1.2305 - val_mean_absolute_error: 0.8288\n",
      "Epoch 47/150\n",
      "144338/144338 [==============================] - 63s 435us/sample - loss: 1.2953 - mean_squared_error: 1.2953 - mean_absolute_error: 0.8601 - val_loss: 1.2184 - val_mean_squared_error: 1.2184 - val_mean_absolute_error: 0.8087\n",
      "Epoch 48/150\n",
      "144338/144338 [==============================] - 67s 462us/sample - loss: 1.2910 - mean_squared_error: 1.2910 - mean_absolute_error: 0.8579 - val_loss: 1.2128 - val_mean_squared_error: 1.2128 - val_mean_absolute_error: 0.8036\n",
      "Epoch 49/150\n",
      "144338/144338 [==============================] - 70s 484us/sample - loss: 1.2928 - mean_squared_error: 1.2928 - mean_absolute_error: 0.8591 - val_loss: 1.2147 - val_mean_squared_error: 1.2147 - val_mean_absolute_error: 0.8117\n",
      "Epoch 50/150\n",
      "144338/144338 [==============================] - 67s 467us/sample - loss: 1.2842 - mean_squared_error: 1.2842 - mean_absolute_error: 0.8576 - val_loss: 1.2262 - val_mean_squared_error: 1.2262 - val_mean_absolute_error: 0.8182\n",
      "Epoch 51/150\n",
      "144338/144338 [==============================] - 63s 439us/sample - loss: 1.2793 - mean_squared_error: 1.2793 - mean_absolute_error: 0.8547 - val_loss: 1.2064 - val_mean_squared_error: 1.2064 - val_mean_absolute_error: 0.8000\n",
      "Epoch 52/150\n",
      "144338/144338 [==============================] - 62s 429us/sample - loss: 1.2772 - mean_squared_error: 1.2772 - mean_absolute_error: 0.8550 - val_loss: 1.1939 - val_mean_squared_error: 1.1939 - val_mean_absolute_error: 0.8004\n",
      "Epoch 53/150\n",
      "144338/144338 [==============================] - 64s 442us/sample - loss: 1.2715 - mean_squared_error: 1.2715 - mean_absolute_error: 0.8525 - val_loss: 1.2101 - val_mean_squared_error: 1.2101 - val_mean_absolute_error: 0.8132\n",
      "Epoch 54/150\n",
      "144338/144338 [==============================] - 63s 437us/sample - loss: 1.2646 - mean_squared_error: 1.2646 - mean_absolute_error: 0.8519 - val_loss: 1.1865 - val_mean_squared_error: 1.1865 - val_mean_absolute_error: 0.7971\n",
      "Epoch 55/150\n",
      "144338/144338 [==============================] - 66s 457us/sample - loss: 1.2524 - mean_squared_error: 1.2524 - mean_absolute_error: 0.8479 - val_loss: 1.2078 - val_mean_squared_error: 1.2078 - val_mean_absolute_error: 0.8076\n",
      "Epoch 56/150\n",
      "144338/144338 [==============================] - 64s 443us/sample - loss: 1.2597 - mean_squared_error: 1.2597 - mean_absolute_error: 0.8488 - val_loss: 1.1941 - val_mean_squared_error: 1.1941 - val_mean_absolute_error: 0.7995\n",
      "Epoch 57/150\n",
      "144338/144338 [==============================] - 63s 436us/sample - loss: 1.2484 - mean_squared_error: 1.2484 - mean_absolute_error: 0.8454 - val_loss: 1.2140 - val_mean_squared_error: 1.2140 - val_mean_absolute_error: 0.8068\n",
      "Epoch 58/150\n",
      "144338/144338 [==============================] - 64s 441us/sample - loss: 1.2466 - mean_squared_error: 1.2466 - mean_absolute_error: 0.8453 - val_loss: 1.1889 - val_mean_squared_error: 1.1889 - val_mean_absolute_error: 0.7933\n",
      "Epoch 59/150\n",
      "144338/144338 [==============================] - 63s 434us/sample - loss: 1.2391 - mean_squared_error: 1.2391 - mean_absolute_error: 0.8436 - val_loss: 1.1806 - val_mean_squared_error: 1.1806 - val_mean_absolute_error: 0.7996\n",
      "Epoch 60/150\n",
      "144338/144338 [==============================] - 64s 441us/sample - loss: 1.2380 - mean_squared_error: 1.2380 - mean_absolute_error: 0.8420 - val_loss: 1.1880 - val_mean_squared_error: 1.1880 - val_mean_absolute_error: 0.8018\n",
      "Epoch 61/150\n",
      "144338/144338 [==============================] - 63s 437us/sample - loss: 1.2345 - mean_squared_error: 1.2345 - mean_absolute_error: 0.8418 - val_loss: 1.1747 - val_mean_squared_error: 1.1747 - val_mean_absolute_error: 0.7992\n",
      "Epoch 62/150\n",
      "144338/144338 [==============================] - 63s 435us/sample - loss: 1.2279 - mean_squared_error: 1.2279 - mean_absolute_error: 0.8391 - val_loss: 1.1722 - val_mean_squared_error: 1.1722 - val_mean_absolute_error: 0.7898\n",
      "Epoch 63/150\n",
      "144338/144338 [==============================] - 64s 446us/sample - loss: 1.2192 - mean_squared_error: 1.2192 - mean_absolute_error: 0.8358 - val_loss: 1.1638 - val_mean_squared_error: 1.1638 - val_mean_absolute_error: 0.7891\n",
      "Epoch 64/150\n",
      "144338/144338 [==============================] - 63s 438us/sample - loss: 1.2163 - mean_squared_error: 1.2163 - mean_absolute_error: 0.8348 - val_loss: 1.1543 - val_mean_squared_error: 1.1543 - val_mean_absolute_error: 0.7871\n",
      "Epoch 65/150\n",
      "144338/144338 [==============================] - 67s 466us/sample - loss: 1.2131 - mean_squared_error: 1.2131 - mean_absolute_error: 0.8349 - val_loss: 1.1580 - val_mean_squared_error: 1.1580 - val_mean_absolute_error: 0.7880\n",
      "Epoch 66/150\n",
      "144338/144338 [==============================] - 64s 444us/sample - loss: 1.2058 - mean_squared_error: 1.2058 - mean_absolute_error: 0.8331 - val_loss: 1.1889 - val_mean_squared_error: 1.1889 - val_mean_absolute_error: 0.8059\n",
      "Epoch 67/150\n",
      "144338/144338 [==============================] - 66s 454us/sample - loss: 1.2073 - mean_squared_error: 1.2073 - mean_absolute_error: 0.8333 - val_loss: 1.1529 - val_mean_squared_error: 1.1529 - val_mean_absolute_error: 0.7848\n",
      "Epoch 68/150\n"
     ]
    },
    {
     "name": "stdout",
     "output_type": "stream",
     "text": [
      "144338/144338 [==============================] - 63s 439us/sample - loss: 1.2034 - mean_squared_error: 1.2034 - mean_absolute_error: 0.8330 - val_loss: 1.1614 - val_mean_squared_error: 1.1614 - val_mean_absolute_error: 0.7944\n",
      "Epoch 69/150\n",
      "144338/144338 [==============================] - 64s 446us/sample - loss: 1.1971 - mean_squared_error: 1.1971 - mean_absolute_error: 0.8294 - val_loss: 1.1460 - val_mean_squared_error: 1.1460 - val_mean_absolute_error: 0.7867\n",
      "Epoch 70/150\n",
      "144338/144338 [==============================] - 65s 449us/sample - loss: 1.1994 - mean_squared_error: 1.1994 - mean_absolute_error: 0.8296 - val_loss: 1.1710 - val_mean_squared_error: 1.1710 - val_mean_absolute_error: 0.7992\n",
      "Epoch 71/150\n",
      "144338/144338 [==============================] - 63s 436us/sample - loss: 1.1930 - mean_squared_error: 1.1930 - mean_absolute_error: 0.8278 - val_loss: 1.1440 - val_mean_squared_error: 1.1440 - val_mean_absolute_error: 0.7769\n",
      "Epoch 72/150\n",
      "144338/144338 [==============================] - 64s 444us/sample - loss: 1.1825 - mean_squared_error: 1.1825 - mean_absolute_error: 0.8254 - val_loss: 1.1484 - val_mean_squared_error: 1.1484 - val_mean_absolute_error: 0.7924\n",
      "Epoch 73/150\n",
      "144338/144338 [==============================] - 62s 428us/sample - loss: 1.1855 - mean_squared_error: 1.1855 - mean_absolute_error: 0.8250 - val_loss: 1.1364 - val_mean_squared_error: 1.1364 - val_mean_absolute_error: 0.7807\n",
      "Epoch 74/150\n",
      "144338/144338 [==============================] - 65s 448us/sample - loss: 1.1816 - mean_squared_error: 1.1816 - mean_absolute_error: 0.8244 - val_loss: 1.1500 - val_mean_squared_error: 1.1500 - val_mean_absolute_error: 0.7789\n",
      "Epoch 75/150\n",
      "144338/144338 [==============================] - 63s 439us/sample - loss: 1.1783 - mean_squared_error: 1.1783 - mean_absolute_error: 0.8232 - val_loss: 1.1403 - val_mean_squared_error: 1.1403 - val_mean_absolute_error: 0.7826\n",
      "Epoch 76/150\n",
      "144338/144338 [==============================] - 65s 449us/sample - loss: 1.1736 - mean_squared_error: 1.1736 - mean_absolute_error: 0.8222 - val_loss: 1.1416 - val_mean_squared_error: 1.1416 - val_mean_absolute_error: 0.7839\n",
      "Epoch 77/150\n",
      "144338/144338 [==============================] - 64s 445us/sample - loss: 1.1768 - mean_squared_error: 1.1768 - mean_absolute_error: 0.8228 - val_loss: 1.1462 - val_mean_squared_error: 1.1462 - val_mean_absolute_error: 0.7833\n",
      "Epoch 78/150\n",
      "144338/144338 [==============================] - 63s 438us/sample - loss: 1.1680 - mean_squared_error: 1.1680 - mean_absolute_error: 0.8201 - val_loss: 1.1458 - val_mean_squared_error: 1.1458 - val_mean_absolute_error: 0.7836\n",
      "Epoch 79/150\n",
      "144338/144338 [==============================] - 65s 454us/sample - loss: 1.1674 - mean_squared_error: 1.1674 - mean_absolute_error: 0.8200 - val_loss: 1.1309 - val_mean_squared_error: 1.1309 - val_mean_absolute_error: 0.7856\n",
      "Epoch 80/150\n",
      "144338/144338 [==============================] - 65s 451us/sample - loss: 1.1610 - mean_squared_error: 1.1610 - mean_absolute_error: 0.8174 - val_loss: 1.1364 - val_mean_squared_error: 1.1364 - val_mean_absolute_error: 0.7800\n",
      "Epoch 81/150\n",
      "144338/144338 [==============================] - 66s 456us/sample - loss: 1.1629 - mean_squared_error: 1.1629 - mean_absolute_error: 0.8187 - val_loss: 1.1256 - val_mean_squared_error: 1.1256 - val_mean_absolute_error: 0.7723\n",
      "Epoch 82/150\n",
      "144338/144338 [==============================] - 65s 448us/sample - loss: 1.1554 - mean_squared_error: 1.1554 - mean_absolute_error: 0.8152 - val_loss: 1.1285 - val_mean_squared_error: 1.1285 - val_mean_absolute_error: 0.7771\n",
      "Epoch 83/150\n",
      "144338/144338 [==============================] - 65s 452us/sample - loss: 1.1514 - mean_squared_error: 1.1514 - mean_absolute_error: 0.8146 - val_loss: 1.1271 - val_mean_squared_error: 1.1271 - val_mean_absolute_error: 0.7724\n",
      "Epoch 84/150\n",
      "144338/144338 [==============================] - 65s 448us/sample - loss: 1.1493 - mean_squared_error: 1.1493 - mean_absolute_error: 0.8137 - val_loss: 1.1176 - val_mean_squared_error: 1.1176 - val_mean_absolute_error: 0.7780\n",
      "Epoch 85/150\n",
      "144338/144338 [==============================] - 63s 437us/sample - loss: 1.1461 - mean_squared_error: 1.1461 - mean_absolute_error: 0.8137 - val_loss: 1.1251 - val_mean_squared_error: 1.1251 - val_mean_absolute_error: 0.7709\n",
      "Epoch 86/150\n",
      "144338/144338 [==============================] - 64s 443us/sample - loss: 1.1497 - mean_squared_error: 1.1497 - mean_absolute_error: 0.8146 - val_loss: 1.1171 - val_mean_squared_error: 1.1171 - val_mean_absolute_error: 0.7717\n",
      "Epoch 87/150\n",
      "144338/144338 [==============================] - 63s 439us/sample - loss: 1.1408 - mean_squared_error: 1.1408 - mean_absolute_error: 0.8113 - val_loss: 1.1237 - val_mean_squared_error: 1.1237 - val_mean_absolute_error: 0.7749\n",
      "Epoch 88/150\n",
      "144338/144338 [==============================] - 66s 456us/sample - loss: 1.1422 - mean_squared_error: 1.1422 - mean_absolute_error: 0.8105 - val_loss: 1.1109 - val_mean_squared_error: 1.1109 - val_mean_absolute_error: 0.7723\n",
      "Epoch 89/150\n",
      "144338/144338 [==============================] - 65s 449us/sample - loss: 1.1336 - mean_squared_error: 1.1336 - mean_absolute_error: 0.8084 - val_loss: 1.1224 - val_mean_squared_error: 1.1224 - val_mean_absolute_error: 0.7770\n",
      "Epoch 90/150\n",
      "144338/144338 [==============================] - 67s 461us/sample - loss: 1.1362 - mean_squared_error: 1.1362 - mean_absolute_error: 0.8101 - val_loss: 1.1113 - val_mean_squared_error: 1.1113 - val_mean_absolute_error: 0.7740\n",
      "Epoch 91/150\n",
      "144338/144338 [==============================] - 64s 444us/sample - loss: 1.1405 - mean_squared_error: 1.1405 - mean_absolute_error: 0.8106 - val_loss: 1.1305 - val_mean_squared_error: 1.1305 - val_mean_absolute_error: 0.7785\n",
      "Epoch 92/150\n",
      "144338/144338 [==============================] - 64s 446us/sample - loss: 1.1325 - mean_squared_error: 1.1325 - mean_absolute_error: 0.8077 - val_loss: 1.1084 - val_mean_squared_error: 1.1084 - val_mean_absolute_error: 0.7697\n",
      "Epoch 93/150\n",
      "144338/144338 [==============================] - 67s 462us/sample - loss: 1.1341 - mean_squared_error: 1.1341 - mean_absolute_error: 0.8098 - val_loss: 1.1109 - val_mean_squared_error: 1.1109 - val_mean_absolute_error: 0.7723\n",
      "Epoch 94/150\n",
      "144338/144338 [==============================] - 65s 453us/sample - loss: 1.1257 - mean_squared_error: 1.1257 - mean_absolute_error: 0.8069 - val_loss: 1.1093 - val_mean_squared_error: 1.1093 - val_mean_absolute_error: 0.7675\n",
      "Epoch 95/150\n",
      "144338/144338 [==============================] - 66s 458us/sample - loss: 1.1217 - mean_squared_error: 1.1217 - mean_absolute_error: 0.8055 - val_loss: 1.1167 - val_mean_squared_error: 1.1167 - val_mean_absolute_error: 0.7647\n",
      "Epoch 96/150\n",
      "144338/144338 [==============================] - 65s 453us/sample - loss: 1.1210 - mean_squared_error: 1.1210 - mean_absolute_error: 0.8050 - val_loss: 1.1048 - val_mean_squared_error: 1.1048 - val_mean_absolute_error: 0.7658\n",
      "Epoch 97/150\n",
      "144338/144338 [==============================] - 64s 447us/sample - loss: 1.1177 - mean_squared_error: 1.1177 - mean_absolute_error: 0.8046 - val_loss: 1.1041 - val_mean_squared_error: 1.1041 - val_mean_absolute_error: 0.7662\n",
      "Epoch 98/150\n",
      "144338/144338 [==============================] - 64s 442us/sample - loss: 1.1149 - mean_squared_error: 1.1149 - mean_absolute_error: 0.8018 - val_loss: 1.1075 - val_mean_squared_error: 1.1075 - val_mean_absolute_error: 0.7634\n",
      "Epoch 99/150\n",
      "144338/144338 [==============================] - 65s 449us/sample - loss: 1.1081 - mean_squared_error: 1.1081 - mean_absolute_error: 0.7997 - val_loss: 1.1141 - val_mean_squared_error: 1.1141 - val_mean_absolute_error: 0.7664\n",
      "Epoch 100/150\n",
      "144338/144338 [==============================] - 64s 443us/sample - loss: 1.1164 - mean_squared_error: 1.1164 - mean_absolute_error: 0.8026 - val_loss: 1.1083 - val_mean_squared_error: 1.1083 - val_mean_absolute_error: 0.7630\n",
      "Epoch 101/150\n",
      "144338/144338 [==============================] - 65s 451us/sample - loss: 1.1037 - mean_squared_error: 1.1037 - mean_absolute_error: 0.7990 - val_loss: 1.1075 - val_mean_squared_error: 1.1075 - val_mean_absolute_error: 0.7671\n",
      "Epoch 102/150\n",
      "144338/144338 [==============================] - 63s 436us/sample - loss: 1.1014 - mean_squared_error: 1.1014 - mean_absolute_error: 0.7989 - val_loss: 1.1018 - val_mean_squared_error: 1.1018 - val_mean_absolute_error: 0.7648\n",
      "Epoch 103/150\n",
      "144338/144338 [==============================] - 65s 453us/sample - loss: 1.1058 - mean_squared_error: 1.1058 - mean_absolute_error: 0.7987 - val_loss: 1.1113 - val_mean_squared_error: 1.1113 - val_mean_absolute_error: 0.7659\n",
      "Epoch 104/150\n",
      "144338/144338 [==============================] - 63s 437us/sample - loss: 1.0959 - mean_squared_error: 1.0959 - mean_absolute_error: 0.7969 - val_loss: 1.1054 - val_mean_squared_error: 1.1054 - val_mean_absolute_error: 0.7638\n",
      "Epoch 105/150\n",
      "144338/144338 [==============================] - 62s 428us/sample - loss: 1.0948 - mean_squared_error: 1.0948 - mean_absolute_error: 0.7964 - val_loss: 1.1033 - val_mean_squared_error: 1.1033 - val_mean_absolute_error: 0.7670\n",
      "Epoch 106/150\n",
      "144338/144338 [==============================] - 63s 437us/sample - loss: 1.0969 - mean_squared_error: 1.0969 - mean_absolute_error: 0.7967 - val_loss: 1.1066 - val_mean_squared_error: 1.1066 - val_mean_absolute_error: 0.7637\n",
      "Epoch 107/150\n",
      "144338/144338 [==============================] - 62s 428us/sample - loss: 1.0935 - mean_squared_error: 1.0935 - mean_absolute_error: 0.7953 - val_loss: 1.1015 - val_mean_squared_error: 1.1015 - val_mean_absolute_error: 0.7603\n",
      "Epoch 108/150\n",
      "144338/144338 [==============================] - 62s 430us/sample - loss: 1.0943 - mean_squared_error: 1.0943 - mean_absolute_error: 0.7950 - val_loss: 1.1008 - val_mean_squared_error: 1.1008 - val_mean_absolute_error: 0.7619\n",
      "Epoch 109/150\n",
      "144338/144338 [==============================] - 62s 428us/sample - loss: 1.0912 - mean_squared_error: 1.0912 - mean_absolute_error: 0.7950 - val_loss: 1.1025 - val_mean_squared_error: 1.1025 - val_mean_absolute_error: 0.7600\n",
      "Epoch 110/150\n",
      "144338/144338 [==============================] - 62s 429us/sample - loss: 1.0858 - mean_squared_error: 1.0858 - mean_absolute_error: 0.7929 - val_loss: 1.0940 - val_mean_squared_error: 1.0940 - val_mean_absolute_error: 0.7578\n",
      "Epoch 111/150\n",
      "144338/144338 [==============================] - 63s 439us/sample - loss: 1.0810 - mean_squared_error: 1.0810 - mean_absolute_error: 0.7915 - val_loss: 1.0918 - val_mean_squared_error: 1.0918 - val_mean_absolute_error: 0.7576\n",
      "Epoch 112/150\n",
      "144338/144338 [==============================] - 61s 425us/sample - loss: 1.0866 - mean_squared_error: 1.0866 - mean_absolute_error: 0.7935 - val_loss: 1.0967 - val_mean_squared_error: 1.0967 - val_mean_absolute_error: 0.7595\n",
      "Epoch 113/150\n",
      "144338/144338 [==============================] - 66s 454us/sample - loss: 1.0785 - mean_squared_error: 1.0785 - mean_absolute_error: 0.7897 - val_loss: 1.1027 - val_mean_squared_error: 1.1027 - val_mean_absolute_error: 0.7693\n",
      "Epoch 114/150\n",
      "144338/144338 [==============================] - 63s 436us/sample - loss: 1.0800 - mean_squared_error: 1.0800 - mean_absolute_error: 0.7907 - val_loss: 1.0948 - val_mean_squared_error: 1.0948 - val_mean_absolute_error: 0.7659\n",
      "Epoch 115/150\n",
      "144338/144338 [==============================] - 63s 434us/sample - loss: 1.0783 - mean_squared_error: 1.0783 - mean_absolute_error: 0.7901 - val_loss: 1.0937 - val_mean_squared_error: 1.0937 - val_mean_absolute_error: 0.7613\n",
      "Epoch 116/150\n",
      "144338/144338 [==============================] - 65s 451us/sample - loss: 1.0810 - mean_squared_error: 1.0810 - mean_absolute_error: 0.7901 - val_loss: 1.0970 - val_mean_squared_error: 1.0970 - val_mean_absolute_error: 0.7567\n",
      "Epoch 117/150\n",
      "144338/144338 [==============================] - 63s 434us/sample - loss: 1.0744 - mean_squared_error: 1.0744 - mean_absolute_error: 0.7896 - val_loss: 1.0854 - val_mean_squared_error: 1.0854 - val_mean_absolute_error: 0.7588\n",
      "Epoch 118/150\n",
      "144338/144338 [==============================] - 63s 439us/sample - loss: 1.0725 - mean_squared_error: 1.0725 - mean_absolute_error: 0.7878 - val_loss: 1.0798 - val_mean_squared_error: 1.0798 - val_mean_absolute_error: 0.7527\n",
      "Epoch 119/150\n",
      "144338/144338 [==============================] - 65s 448us/sample - loss: 1.0778 - mean_squared_error: 1.0778 - mean_absolute_error: 0.7907 - val_loss: 1.0935 - val_mean_squared_error: 1.0935 - val_mean_absolute_error: 0.7613\n",
      "Epoch 120/150\n",
      "144338/144338 [==============================] - 65s 453us/sample - loss: 1.0654 - mean_squared_error: 1.0654 - mean_absolute_error: 0.7856 - val_loss: 1.1093 - val_mean_squared_error: 1.1093 - val_mean_absolute_error: 0.7631\n",
      "Epoch 121/150\n",
      "144338/144338 [==============================] - 64s 446us/sample - loss: 1.0638 - mean_squared_error: 1.0638 - mean_absolute_error: 0.7847 - val_loss: 1.0990 - val_mean_squared_error: 1.0990 - val_mean_absolute_error: 0.7540\n",
      "Epoch 122/150\n",
      "144338/144338 [==============================] - 65s 453us/sample - loss: 1.0718 - mean_squared_error: 1.0718 - mean_absolute_error: 0.7886 - val_loss: 1.0900 - val_mean_squared_error: 1.0900 - val_mean_absolute_error: 0.7551\n",
      "Epoch 123/150\n",
      "144338/144338 [==============================] - 66s 454us/sample - loss: 1.0637 - mean_squared_error: 1.0637 - mean_absolute_error: 0.7856 - val_loss: 1.0882 - val_mean_squared_error: 1.0883 - val_mean_absolute_error: 0.7579\n",
      "Epoch 124/150\n",
      "144338/144338 [==============================] - 71s 495us/sample - loss: 1.0625 - mean_squared_error: 1.0625 - mean_absolute_error: 0.7848 - val_loss: 1.0897 - val_mean_squared_error: 1.0897 - val_mean_absolute_error: 0.7566\n",
      "Epoch 125/150\n",
      "144338/144338 [==============================] - 64s 443us/sample - loss: 1.0548 - mean_squared_error: 1.0548 - mean_absolute_error: 0.7817 - val_loss: 1.0842 - val_mean_squared_error: 1.0842 - val_mean_absolute_error: 0.7557\n",
      "Epoch 126/150\n",
      "144338/144338 [==============================] - 62s 432us/sample - loss: 1.0619 - mean_squared_error: 1.0619 - mean_absolute_error: 0.7848 - val_loss: 1.1022 - val_mean_squared_error: 1.1022 - val_mean_absolute_error: 0.7647\n",
      "Epoch 127/150\n",
      "144338/144338 [==============================] - 64s 445us/sample - loss: 1.0566 - mean_squared_error: 1.0566 - mean_absolute_error: 0.7832 - val_loss: 1.0815 - val_mean_squared_error: 1.0815 - val_mean_absolute_error: 0.7563\n",
      "Epoch 128/150\n",
      "144338/144338 [==============================] - 63s 437us/sample - loss: 1.0560 - mean_squared_error: 1.0560 - mean_absolute_error: 0.7822 - val_loss: 1.0893 - val_mean_squared_error: 1.0893 - val_mean_absolute_error: 0.7552\n",
      "Epoch 129/150\n",
      "144338/144338 [==============================] - 64s 441us/sample - loss: 1.0511 - mean_squared_error: 1.0511 - mean_absolute_error: 0.7814 - val_loss: 1.0953 - val_mean_squared_error: 1.0953 - val_mean_absolute_error: 0.7522\n",
      "Epoch 130/150\n",
      "144338/144338 [==============================] - 63s 434us/sample - loss: 1.0506 - mean_squared_error: 1.0506 - mean_absolute_error: 0.7800 - val_loss: 1.0840 - val_mean_squared_error: 1.0840 - val_mean_absolute_error: 0.7514\n",
      "Epoch 131/150\n",
      "144338/144338 [==============================] - 64s 444us/sample - loss: 1.0451 - mean_squared_error: 1.0451 - mean_absolute_error: 0.7784 - val_loss: 1.0768 - val_mean_squared_error: 1.0768 - val_mean_absolute_error: 0.7528\n",
      "Epoch 132/150\n",
      "144338/144338 [==============================] - 66s 454us/sample - loss: 1.0467 - mean_squared_error: 1.0467 - mean_absolute_error: 0.7790 - val_loss: 1.0902 - val_mean_squared_error: 1.0902 - val_mean_absolute_error: 0.7565\n",
      "Epoch 133/150\n",
      "144338/144338 [==============================] - 62s 431us/sample - loss: 1.0401 - mean_squared_error: 1.0401 - mean_absolute_error: 0.7778 - val_loss: 1.0842 - val_mean_squared_error: 1.0842 - val_mean_absolute_error: 0.7515\n",
      "Epoch 134/150\n",
      "144338/144338 [==============================] - 65s 447us/sample - loss: 1.0386 - mean_squared_error: 1.0386 - mean_absolute_error: 0.7769 - val_loss: 1.0818 - val_mean_squared_error: 1.0818 - val_mean_absolute_error: 0.7520\n",
      "Epoch 135/150\n",
      "144338/144338 [==============================] - 63s 435us/sample - loss: 1.0535 - mean_squared_error: 1.0535 - mean_absolute_error: 0.7827 - val_loss: 1.0778 - val_mean_squared_error: 1.0778 - val_mean_absolute_error: 0.7543\n",
      "Epoch 136/150\n"
     ]
    },
    {
     "name": "stdout",
     "output_type": "stream",
     "text": [
      "144338/144338 [==============================] - 63s 438us/sample - loss: 1.0426 - mean_squared_error: 1.0426 - mean_absolute_error: 0.7773 - val_loss: 1.0767 - val_mean_squared_error: 1.0767 - val_mean_absolute_error: 0.7487\n",
      "Epoch 137/150\n",
      "144338/144338 [==============================] - 61s 426us/sample - loss: 1.0424 - mean_squared_error: 1.0424 - mean_absolute_error: 0.7774 - val_loss: 1.0820 - val_mean_squared_error: 1.0820 - val_mean_absolute_error: 0.7524\n",
      "Epoch 138/150\n",
      "144338/144338 [==============================] - 63s 433us/sample - loss: 1.0391 - mean_squared_error: 1.0391 - mean_absolute_error: 0.7776 - val_loss: 1.0763 - val_mean_squared_error: 1.0763 - val_mean_absolute_error: 0.7526\n",
      "Epoch 139/150\n",
      "144338/144338 [==============================] - 63s 434us/sample - loss: 1.0364 - mean_squared_error: 1.0364 - mean_absolute_error: 0.7762 - val_loss: 1.0770 - val_mean_squared_error: 1.0770 - val_mean_absolute_error: 0.7526\n",
      "Epoch 140/150\n",
      "144338/144338 [==============================] - 63s 436us/sample - loss: 1.0343 - mean_squared_error: 1.0343 - mean_absolute_error: 0.7750 - val_loss: 1.0820 - val_mean_squared_error: 1.0820 - val_mean_absolute_error: 0.7575\n",
      "Epoch 141/150\n",
      "144338/144338 [==============================] - 64s 442us/sample - loss: 1.0349 - mean_squared_error: 1.0349 - mean_absolute_error: 0.7768 - val_loss: 1.0868 - val_mean_squared_error: 1.0868 - val_mean_absolute_error: 0.7532\n",
      "Epoch 142/150\n",
      "144338/144338 [==============================] - 65s 448us/sample - loss: 1.0285 - mean_squared_error: 1.0285 - mean_absolute_error: 0.7739 - val_loss: 1.0792 - val_mean_squared_error: 1.0792 - val_mean_absolute_error: 0.7503\n",
      "Epoch 143/150\n",
      "144338/144338 [==============================] - 63s 437us/sample - loss: 1.0396 - mean_squared_error: 1.0396 - mean_absolute_error: 0.7763 - val_loss: 1.0848 - val_mean_squared_error: 1.0848 - val_mean_absolute_error: 0.7496\n",
      "Epoch 144/150\n",
      "144338/144338 [==============================] - 63s 437us/sample - loss: 1.0331 - mean_squared_error: 1.0331 - mean_absolute_error: 0.7753 - val_loss: 1.0820 - val_mean_squared_error: 1.0820 - val_mean_absolute_error: 0.7513\n",
      "Epoch 145/150\n",
      "144338/144338 [==============================] - 63s 436us/sample - loss: 1.0274 - mean_squared_error: 1.0274 - mean_absolute_error: 0.7726 - val_loss: 1.0915 - val_mean_squared_error: 1.0915 - val_mean_absolute_error: 0.7523\n",
      "Epoch 146/150\n",
      "144338/144338 [==============================] - 64s 442us/sample - loss: 1.0268 - mean_squared_error: 1.0268 - mean_absolute_error: 0.7720 - val_loss: 1.0714 - val_mean_squared_error: 1.0714 - val_mean_absolute_error: 0.7497\n",
      "Epoch 147/150\n",
      "144338/144338 [==============================] - 62s 430us/sample - loss: 1.0197 - mean_squared_error: 1.0197 - mean_absolute_error: 0.7709 - val_loss: 1.0751 - val_mean_squared_error: 1.0751 - val_mean_absolute_error: 0.7478\n",
      "Epoch 148/150\n",
      "144338/144338 [==============================] - 64s 441us/sample - loss: 1.0220 - mean_squared_error: 1.0220 - mean_absolute_error: 0.7712 - val_loss: 1.0823 - val_mean_squared_error: 1.0823 - val_mean_absolute_error: 0.7472\n",
      "Epoch 149/150\n",
      "144338/144338 [==============================] - 62s 430us/sample - loss: 1.0224 - mean_squared_error: 1.0224 - mean_absolute_error: 0.7716 - val_loss: 1.0657 - val_mean_squared_error: 1.0657 - val_mean_absolute_error: 0.7459\n",
      "Epoch 150/150\n",
      "144338/144338 [==============================] - 63s 434us/sample - loss: 1.0264 - mean_squared_error: 1.0264 - mean_absolute_error: 0.7723 - val_loss: 1.0690 - val_mean_squared_error: 1.0690 - val_mean_absolute_error: 0.7477\n",
      "EndTime : 2019-05-16 16:10:05.196000\n"
     ]
    }
   ],
   "source": [
    "# Model fitting\n",
    "\n",
    "optim = Adam(lr=0.0002)\n",
    "\n",
    "model.compile(loss='mse',\n",
    "\t\t      optimizer=optim,\n",
    "\t\t\t  metrics=['mse','mae'])\n",
    "\n",
    "StartTime8 = datetime.now()\n",
    "print(\"StartTime :\", StartTime8)\n",
    "with K.tf.device('/GPU:0'):\n",
    "    model_train = model.fit([train_X_cell, train_X_drug], train_y, validation_data=([test_X_cell, test_X_drug], test_y),\n",
    "                            batch_size=batch_size,epochs=training_epochs,verbose=1)\n",
    "\n",
    "EndTime8 = datetime.now()\n",
    "print(\"EndTime :\", EndTime8)"
   ]
  },
  {
   "cell_type": "code",
   "execution_count": 43,
   "metadata": {},
   "outputs": [],
   "source": [
    "# Save model architecture and its weight\n",
    "\n",
    "import json\n",
    "from keras.models import model_from_json, load_model\n",
    "workdir = \"E://Ronny_TF//Ronny_IC50_RMSE//190516_cdrscan_master_test\"\n",
    "# Option 1: Save Weights + Architecture\n",
    "model.save_weights(workdir + '//model_fix_v3.h5')\n",
    "with open(workdir + '//model_architecture_fix_v3.json', 'w') as f:\n",
    "    f.write(model.to_json())\n",
    "# Option 1: Load Weights + Architecture\n",
    "# with open('model_architecture.json', 'r') as f:\n",
    "#     new_model_1 = model_from_json(f.read())\n",
    "# new_model_1.load_weights('model_weights.h5')"
   ]
  },
  {
   "cell_type": "code",
   "execution_count": 44,
   "metadata": {},
   "outputs": [],
   "source": [
    "# Option 2: Save/Load the Entire Model\n",
    "from keras.models import load_model\n",
    "\n",
    "# Creates a HDF5 file 'my_model.h5'\n",
    "model.save(workdir + '//model_fix_2080ti_v3.h5')\n",
    "\n",
    "# Deletes the existing model\n",
    "# del model  \n",
    "\n",
    "# Returns a compiled model identical to the previous one\n",
    "# model = load_model('my_model.h5')"
   ]
  },
  {
   "cell_type": "code",
   "execution_count": 46,
   "metadata": {},
   "outputs": [
    {
     "name": "stdout",
     "output_type": "stream",
     "text": [
      "16037/16037 [==============================] - 17s 1ms/sample - loss: 1.0690 - mean_squared_error: 1.0690 - mean_absolute_error: 0.7477\n"
     ]
    }
   ],
   "source": [
    "test_eval = model.evaluate([test_X_cell,test_X_drug], test_label_array, verbose=1)"
   ]
  },
  {
   "cell_type": "code",
   "execution_count": 47,
   "metadata": {},
   "outputs": [
    {
     "data": {
      "text/plain": [
       "[1.069045887301448, 1.0690467, 0.7477031]"
      ]
     },
     "execution_count": 47,
     "metadata": {},
     "output_type": "execute_result"
    }
   ],
   "source": [
    "test_eval"
   ]
  },
  {
   "cell_type": "code",
   "execution_count": 48,
   "metadata": {},
   "outputs": [],
   "source": [
    "# mse and loss monitor\n",
    "\n",
    "accuracy = model_train.history['mean_squared_error']\n",
    "val_accuracy = model_train.history['val_mean_squared_error']\n",
    "loss = model_train.history['loss']\n",
    "val_loss = model_train.history['val_loss']\n",
    "\n",
    "np_acc = np.array(accuracy)\n",
    "np_val_acc = np.array(val_accuracy)\n",
    "np_loss = np.array(loss)\n",
    "np_val_loss = np.array(val_loss)"
   ]
  },
  {
   "cell_type": "code",
   "execution_count": 49,
   "metadata": {},
   "outputs": [],
   "source": [
    "np.savetxt(\"mse_cdrscan_master_150_100_2080ti_v3.csv\", np_acc, delimiter=\",\")\n",
    "np.savetxt(\"val_mse_cdrscan_master_150_100_2080ti_v3.csv\", np_val_acc, delimiter=\",\")\n",
    "np.savetxt(\"loss_cdrscan_master_150_100_2080ti_v3.csv\", np_loss, delimiter=\",\")\n",
    "np.savetxt(\"val_loss_cdrscan_master_150_100_2080ti_v3.csv\", np_val_loss, delimiter=\",\")"
   ]
  },
  {
   "cell_type": "code",
   "execution_count": 50,
   "metadata": {},
   "outputs": [],
   "source": [
    "import matplotlib\n",
    "from matplotlib import pyplot as plt"
   ]
  },
  {
   "cell_type": "code",
   "execution_count": 51,
   "metadata": {},
   "outputs": [
    {
     "data": {
      "image/png": "[encoded data removed]",
      "text/plain": [
       "<Figure size 432x288 with 1 Axes>"
      ]
     },
     "metadata": {
      "needs_background": "light"
     },
     "output_type": "display_data"
    },
    {
     "data": {
      "image/png": "[encoded data removed]",
      "text/plain": [
       "<Figure size 432x288 with 1 Axes>"
      ]
     },
     "metadata": {
      "needs_background": "light"
     },
     "output_type": "display_data"
    }
   ],
   "source": [
    "# accuracy = model_train.history['acc']\n",
    "# val_accuracy = model_train.history['val_acc']\n",
    "# loss = model_train.history['loss']\n",
    "# val_loss = model_train.history['val_loss']\n",
    "epochs = range(len(accuracy))\n",
    "plt.plot(epochs, accuracy, 'bo', label='Training mse',c='red')\n",
    "plt.plot(epochs, val_accuracy, 'b', label='Validation mse',c='red')\n",
    "plt.title('Training and validation mse')\n",
    "plt.legend()\n",
    "plt.figure()\n",
    "plt.plot(epochs, loss, 'bo', label='Training loss',c='red')\n",
    "plt.plot(epochs, val_loss, 'b', label='Validation loss',c='red')\n",
    "plt.title('Training and validation loss')\n",
    "plt.legend()\n",
    "plt.show()"
   ]
  },
  {
   "cell_type": "code",
   "execution_count": null,
   "metadata": {},
   "outputs": [],
   "source": [
    "# test validation\n",
    "predicted_classes = model.predict([test_X_cell,test_X_drug])"
   ]
  },
  {
   "cell_type": "code",
   "execution_count": null,
   "metadata": {},
   "outputs": [],
   "source": [
    "predicted_value = predicted_classes"
   ]
  },
  {
   "cell_type": "code",
   "execution_count": null,
   "metadata": {},
   "outputs": [],
   "source": [
    "# test validation\n",
    "a = pd.DataFrame(predicted_value)\n",
    "b = pd.DataFrame(test_label_array)\n",
    "c = pd.concat([a,b], axis=1)\n",
    "c.columns=[\"Predicted\",\"Test\"]"
   ]
  },
  {
   "cell_type": "code",
   "execution_count": null,
   "metadata": {},
   "outputs": [],
   "source": [
    "c.to_csv(workdir + '//190516_cdrscan_master_150_100_result.csv')"
   ]
  },
  {
   "cell_type": "code",
   "execution_count": null,
   "metadata": {},
   "outputs": [],
   "source": [
    "c"
   ]
  },
  {
   "cell_type": "code",
   "execution_count": null,
   "metadata": {},
   "outputs": [],
   "source": [
    "predicted_value.shape"
   ]
  },
  {
   "cell_type": "code",
   "execution_count": null,
   "metadata": {},
   "outputs": [],
   "source": [
    "# scatter plot as test validation\n",
    "plt.scatter(test_label_array,predicted_value,c='red')\n",
    "plt.xlabel('test_IC50_value')\n",
    "plt.ylabel('predicted_IC50_value')\n",
    "plt.savefig(workdir + '//190516_cdrscan_master_150_100_result_test_scatterplot.png')"
   ]
  },
  {
   "cell_type": "code",
   "execution_count": null,
   "metadata": {},
   "outputs": [],
   "source": [
    "# calculate RMSE\n",
    "\n",
    "rse = ((b[0]-a[0])**2).sum()\n",
    "mse = rse / len(b)\n",
    "print(\"Final rmse value is =\",np.sqrt(mse))"
   ]
  },
  {
   "cell_type": "code",
   "execution_count": null,
   "metadata": {},
   "outputs": [],
   "source": [
    "# R-squared value\n",
    "\n",
    "from sklearn.metrics import r2_score\n",
    "r2_value = r2_score(b, a) \n",
    "print(r2_value)"
   ]
  }
 ],
 "metadata": {
  "kernelspec": {
   "display_name": "Python 3",
   "language": "python",
   "name": "python3"
  },
  "language_info": {
   "codemirror_mode": {
    "name": "ipython",
    "version": 3
   },
   "file_extension": ".py",
   "mimetype": "text/x-python",
   "name": "python",
   "nbconvert_exporter": "python",
   "pygments_lexer": "ipython3",
   "version": "3.6.9"
  }
 },
 "nbformat": 4,
 "nbformat_minor": 2
}
