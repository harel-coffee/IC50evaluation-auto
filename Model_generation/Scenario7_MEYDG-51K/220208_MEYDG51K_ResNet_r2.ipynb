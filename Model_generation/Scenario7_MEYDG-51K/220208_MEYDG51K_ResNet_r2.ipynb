{
 "cells": [
  {
   "cell_type": "code",
   "execution_count": 1,
   "metadata": {},
   "outputs": [],
   "source": [
    "import os\n",
    "import sys\n",
    "import pandas as pd\n",
    "import numpy as np\n",
    "from sklearn import preprocessing\n",
    "import tensorflow as tf\n",
    "import random\n",
    "import matplotlib\n",
    "from matplotlib import pyplot as plt\n",
    "import statistics\n",
    "from pandas import DataFrame\n",
    "from datetime import datetime\n",
    "from tensorflow.keras.layers import *\n",
    "from tensorflow.keras.models import Model\n",
    "from tensorflow.keras.callbacks import ModelCheckpoint\n",
    "#from keras import backend as K\n",
    "#import keras.backend.tensorflow_backend as K\n",
    "from tensorflow.keras.callbacks import ModelCheckpoint, CSVLogger\n",
    "from os.path import basename\n",
    "#import seaborn as sns\n",
    "# from keras.models import load_model\n",
    "# from keras.utils.vis_utils import plot_model\n",
    "from sklearn.metrics import r2_score\n",
    "from sklearn.metrics import mean_squared_error\n",
    "from matplotlib.patches import Patch\n",
    "from matplotlib.lines import Line2D\n",
    "from scipy.stats import pearsonr\n",
    "\n",
    "# from tensorflow.keras.callbacks import ModelCheckpoint, CSVLogger\n",
    "#from tensorflow.keras.optimizers import Adam\n",
    "\n",
    "\n",
    "\n",
    "\n",
    "# config = tf.ConfigProto()\n",
    "# config.gpu_options.per_process_gpu_memory_fraction = 0.7\n",
    "# config.gpu_options.allow_growth = True\n",
    "# sess = tf.Session(config=config)"
   ]
  },
  {
   "cell_type": "code",
   "execution_count": 2,
   "metadata": {},
   "outputs": [
    {
     "name": "stdout",
     "output_type": "stream",
     "text": [
      "[name: \"/device:CPU:0\"\n",
      "device_type: \"CPU\"\n",
      "memory_limit: 268435456\n",
      "locality {\n",
      "}\n",
      "incarnation: 12461791491889205959\n",
      ", name: \"/device:GPU:0\"\n",
      "device_type: \"GPU\"\n",
      "memory_limit: 22904492544\n",
      "locality {\n",
      "  bus_id: 1\n",
      "  links {\n",
      "  }\n",
      "}\n",
      "incarnation: 12011004499876398624\n",
      "physical_device_desc: \"device: 0, name: TITAN RTX, pci bus id: 0000:01:00.0, compute capability: 7.5\"\n",
      ", name: \"/device:GPU:1\"\n",
      "device_type: \"GPU\"\n",
      "memory_limit: 22904492544\n",
      "locality {\n",
      "  bus_id: 1\n",
      "  links {\n",
      "  }\n",
      "}\n",
      "incarnation: 9574699866382603051\n",
      "physical_device_desc: \"device: 1, name: TITAN RTX, pci bus id: 0000:03:00.0, compute capability: 7.5\"\n",
      "]\n"
     ]
    }
   ],
   "source": [
    "from tensorflow.python.client import device_lib\n",
    "print(device_lib.list_local_devices())\n",
    "\n",
    "\n",
    "# 출처: https://3months.tistory.com/206 [Deep Play]"
   ]
  },
  {
   "cell_type": "code",
   "execution_count": 3,
   "metadata": {},
   "outputs": [],
   "source": [
    "workdir = \"D://ResNetIC50//Dataset//MEYDG-51K\""
   ]
  },
  {
   "cell_type": "code",
   "execution_count": 4,
   "metadata": {},
   "outputs": [],
   "source": [
    "# < Important note > [ Please download input data from https://mega.nz/#F!CeYGDKyS!uqkmWJ4E2XSGJp_C2VO2gg]\n",
    "\n",
    "dataset = np.load(workdir + \"//MEYDG51K_dataset.npz\") # input file\n",
    "ss0 = np.load(workdir + '//MEYDG51K_dataset_r2.npz') # split for training and test"
   ]
  },
  {
   "cell_type": "code",
   "execution_count": 5,
   "metadata": {},
   "outputs": [],
   "source": [
    "x = dataset['x']\n",
    "y = dataset['y']\n",
    "# y_linear = dataset['y_lnIC50']\n",
    "ss0_train = ss0['train']\n",
    "ss0_test = ss0['test']"
   ]
  },
  {
   "cell_type": "code",
   "execution_count": 6,
   "metadata": {},
   "outputs": [],
   "source": [
    "training_image_array, training_label_array = x[ss0_train], y[ss0_train]\n",
    "test_image_array, test_label_array = x[ss0_test], y[ss0_test]\n",
    "\n",
    "# # In[9]:\n",
    "# ori = training_image_array\n",
    "# bat = np.zeros((ori.shape[0],178))\n",
    "# cat = np.hstack([ori,bat])\n",
    "# training_image_array = cat\n",
    "\n",
    "# # In[8]:\n",
    "# training_image_array.shape\n",
    "\n",
    "# # In[10]:\n",
    "# ori2 = test_image_array\n",
    "# bat2 = np.zeros((ori2.shape[0],178))\n",
    "# cat2 = np.hstack([ori2,bat2])\n",
    "# test_image_array = cat2\n"
   ]
  },
  {
   "cell_type": "code",
   "execution_count": 7,
   "metadata": {},
   "outputs": [
    {
     "name": "stdout",
     "output_type": "stream",
     "text": [
      "2 94\n"
     ]
    }
   ],
   "source": [
    "# In[15]:\n",
    "ab =[]\n",
    "for i in range(100,300):\n",
    "    ab.append(len(training_image_array) % i)\n",
    "    \n",
    "print(min(ab), ab.index(min(ab)))"
   ]
  },
  {
   "cell_type": "code",
   "execution_count": 8,
   "metadata": {},
   "outputs": [
    {
     "data": {
      "text/plain": [
       "(51951, 62718)"
      ]
     },
     "execution_count": 8,
     "metadata": {},
     "output_type": "execute_result"
    }
   ],
   "source": [
    "x.shape"
   ]
  },
  {
   "cell_type": "code",
   "execution_count": 9,
   "metadata": {},
   "outputs": [
    {
     "data": {
      "text/plain": [
       "(46756, 62718)"
      ]
     },
     "execution_count": 9,
     "metadata": {},
     "output_type": "execute_result"
    }
   ],
   "source": [
    "training_image_array.shape"
   ]
  },
  {
   "cell_type": "code",
   "execution_count": 10,
   "metadata": {},
   "outputs": [],
   "source": [
    "# In[21]:\n",
    "\n",
    "num_classes = 1\n",
    "learning_rate = 0.0002\n",
    "training_epochs = 150\n",
    "batch_size = 100\n",
    "# img_rows, img_cols = 154, 154\n"
   ]
  },
  {
   "cell_type": "code",
   "execution_count": 11,
   "metadata": {},
   "outputs": [],
   "source": [
    "train_X, train_y, test_X, test_y = training_image_array, training_label_array, test_image_array, test_label_array\n",
    "\n",
    "# if K.image_data_format() == 'channels_first':\n",
    "#     train_X = train_X.reshape(train_X.shape[0], 1, img_rows, img_cols)\n",
    "#     test_X = test_X.reshape(x_test.shape[0], 1, img_rows, img_cols)\n",
    "#     input_shape = (1, img_rows, img_cols)\n",
    "# else:\n",
    "#     train_X = train_X.reshape(train_X.shape[0], img_rows, img_cols, 1)\n",
    "#     test_X = test_X.reshape(test_X.shape[0], img_rows, img_cols, 1)\n",
    "#     input_shape = (img_rows, img_cols, 1)\n"
   ]
  },
  {
   "cell_type": "code",
   "execution_count": 12,
   "metadata": {},
   "outputs": [],
   "source": [
    "train_X = train_X.reshape(train_X.shape[0], train_X.shape[1],1)\n",
    "test_X = test_X.reshape(test_X.shape[0], test_X.shape[1],1)\n",
    "#input_shape = (img_rows, img_cols, 1)"
   ]
  },
  {
   "cell_type": "code",
   "execution_count": 13,
   "metadata": {},
   "outputs": [
    {
     "name": "stdout",
     "output_type": "stream",
     "text": [
      "(46756, 62718, 1) (46756,) (5195, 62718, 1) (5195,)\n"
     ]
    }
   ],
   "source": [
    "print(train_X.shape, train_y.shape, test_X.shape, test_y.shape)"
   ]
  },
  {
   "cell_type": "code",
   "execution_count": 14,
   "metadata": {},
   "outputs": [
    {
     "name": "stdout",
     "output_type": "stream",
     "text": [
      "train_X shape: (46756, 62718, 1)\n",
      "46756 train samples\n",
      "5195 test samples\n"
     ]
    }
   ],
   "source": [
    "train_X = train_X.astype('float32')\n",
    "test_X = test_X.astype('float32')\n",
    "# train_X /= 255\n",
    "# test_X /= 255\n",
    "print('train_X shape:', train_X.shape)\n",
    "print(train_X.shape[0], 'train samples')\n",
    "print(test_X.shape[0], 'test samples')"
   ]
  },
  {
   "cell_type": "code",
   "execution_count": 15,
   "metadata": {},
   "outputs": [
    {
     "data": {
      "text/plain": [
       "(46756, 62718)"
      ]
     },
     "execution_count": 15,
     "metadata": {},
     "output_type": "execute_result"
    }
   ],
   "source": [
    "training_image_array.shape"
   ]
  },
  {
   "cell_type": "code",
   "execution_count": 16,
   "metadata": {
    "scrolled": true
   },
   "outputs": [
    {
     "name": "stdout",
     "output_type": "stream",
     "text": [
      "Model: \"Test_v2_DNN20190327\"\n",
      "__________________________________________________________________________________________________\n",
      "Layer (type)                    Output Shape         Param #     Connected to                     \n",
      "==================================================================================================\n",
      "inputs (InputLayer)             [(None, 62718, 1)]   0                                            \n",
      "__________________________________________________________________________________________________\n",
      "conv1d (Conv1D)                 (None, 31359, 16)    64          inputs[0][0]                     \n",
      "__________________________________________________________________________________________________\n",
      "max_pooling1d (MaxPooling1D)    (None, 6271, 16)     0           conv1d[0][0]                     \n",
      "__________________________________________________________________________________________________\n",
      "batch_normalization (BatchNorma (None, 6271, 16)     64          max_pooling1d[0][0]              \n",
      "__________________________________________________________________________________________________\n",
      "activation (Activation)         (None, 6271, 16)     0           batch_normalization[0][0]        \n",
      "__________________________________________________________________________________________________\n",
      "conv1d_1 (Conv1D)               (None, 6271, 16)     784         activation[0][0]                 \n",
      "__________________________________________________________________________________________________\n",
      "batch_normalization_1 (BatchNor (None, 6271, 16)     64          conv1d_1[0][0]                   \n",
      "__________________________________________________________________________________________________\n",
      "activation_1 (Activation)       (None, 6271, 16)     0           batch_normalization_1[0][0]      \n",
      "__________________________________________________________________________________________________\n",
      "conv1d_2 (Conv1D)               (None, 6271, 16)     784         activation_1[0][0]               \n",
      "__________________________________________________________________________________________________\n",
      "batch_normalization_2 (BatchNor (None, 6271, 16)     64          conv1d_2[0][0]                   \n",
      "__________________________________________________________________________________________________\n",
      "activation_2 (Activation)       (None, 6271, 16)     0           batch_normalization_2[0][0]      \n",
      "__________________________________________________________________________________________________\n",
      "conv1d_3 (Conv1D)               (None, 6271, 16)     784         activation_2[0][0]               \n",
      "__________________________________________________________________________________________________\n",
      "batch_normalization_3 (BatchNor (None, 6271, 16)     64          conv1d_3[0][0]                   \n",
      "__________________________________________________________________________________________________\n",
      "add (Add)                       (None, 6271, 16)     0           batch_normalization_3[0][0]      \n",
      "                                                                 batch_normalization_1[0][0]      \n",
      "__________________________________________________________________________________________________\n",
      "activation_3 (Activation)       (None, 6271, 16)     0           add[0][0]                        \n",
      "__________________________________________________________________________________________________\n",
      "conv1d_4 (Conv1D)               (None, 6271, 16)     784         activation_3[0][0]               \n",
      "__________________________________________________________________________________________________\n",
      "batch_normalization_4 (BatchNor (None, 6271, 16)     64          conv1d_4[0][0]                   \n",
      "__________________________________________________________________________________________________\n",
      "activation_4 (Activation)       (None, 6271, 16)     0           batch_normalization_4[0][0]      \n",
      "__________________________________________________________________________________________________\n",
      "conv1d_5 (Conv1D)               (None, 6271, 16)     784         activation_4[0][0]               \n",
      "__________________________________________________________________________________________________\n",
      "batch_normalization_5 (BatchNor (None, 6271, 16)     64          conv1d_5[0][0]                   \n",
      "__________________________________________________________________________________________________\n",
      "activation_5 (Activation)       (None, 6271, 16)     0           batch_normalization_5[0][0]      \n",
      "__________________________________________________________________________________________________\n",
      "conv1d_6 (Conv1D)               (None, 6271, 16)     784         activation_5[0][0]               \n",
      "__________________________________________________________________________________________________\n",
      "batch_normalization_6 (BatchNor (None, 6271, 16)     64          conv1d_6[0][0]                   \n",
      "__________________________________________________________________________________________________\n",
      "activation_6 (Activation)       (None, 6271, 16)     0           batch_normalization_6[0][0]      \n",
      "__________________________________________________________________________________________________\n",
      "conv1d_7 (Conv1D)               (None, 6271, 16)     784         activation_6[0][0]               \n",
      "__________________________________________________________________________________________________\n",
      "batch_normalization_7 (BatchNor (None, 6271, 16)     64          conv1d_7[0][0]                   \n",
      "__________________________________________________________________________________________________\n",
      "add_1 (Add)                     (None, 6271, 16)     0           batch_normalization_7[0][0]      \n",
      "                                                                 batch_normalization_4[0][0]      \n",
      "__________________________________________________________________________________________________\n",
      "activation_7 (Activation)       (None, 6271, 16)     0           add_1[0][0]                      \n",
      "__________________________________________________________________________________________________\n",
      "conv1d_8 (Conv1D)               (None, 3136, 32)     1568        activation_7[0][0]               \n",
      "__________________________________________________________________________________________________\n",
      "batch_normalization_8 (BatchNor (None, 3136, 32)     128         conv1d_8[0][0]                   \n",
      "__________________________________________________________________________________________________\n",
      "activation_8 (Activation)       (None, 3136, 32)     0           batch_normalization_8[0][0]      \n",
      "__________________________________________________________________________________________________\n",
      "conv1d_9 (Conv1D)               (None, 3136, 32)     3104        activation_8[0][0]               \n",
      "__________________________________________________________________________________________________\n",
      "conv1d_10 (Conv1D)              (None, 3136, 32)     3104        conv1d_9[0][0]                   \n",
      "__________________________________________________________________________________________________\n",
      "batch_normalization_9 (BatchNor (None, 3136, 32)     128         conv1d_10[0][0]                  \n",
      "__________________________________________________________________________________________________\n",
      "add_2 (Add)                     (None, 3136, 32)     0           batch_normalization_9[0][0]      \n",
      "                                                                 batch_normalization_8[0][0]      \n",
      "__________________________________________________________________________________________________\n",
      "activation_9 (Activation)       (None, 3136, 32)     0           add_2[0][0]                      \n",
      "__________________________________________________________________________________________________\n",
      "conv1d_11 (Conv1D)              (None, 3136, 32)     3104        activation_9[0][0]               \n",
      "__________________________________________________________________________________________________\n",
      "batch_normalization_10 (BatchNo (None, 3136, 32)     128         conv1d_11[0][0]                  \n",
      "__________________________________________________________________________________________________\n",
      "activation_10 (Activation)      (None, 3136, 32)     0           batch_normalization_10[0][0]     \n",
      "__________________________________________________________________________________________________\n",
      "conv1d_12 (Conv1D)              (None, 3136, 32)     3104        activation_10[0][0]              \n",
      "__________________________________________________________________________________________________\n",
      "batch_normalization_11 (BatchNo (None, 3136, 32)     128         conv1d_12[0][0]                  \n",
      "__________________________________________________________________________________________________\n",
      "add_3 (Add)                     (None, 3136, 32)     0           batch_normalization_11[0][0]     \n",
      "                                                                 batch_normalization_10[0][0]     \n",
      "__________________________________________________________________________________________________\n",
      "activation_11 (Activation)      (None, 3136, 32)     0           add_3[0][0]                      \n",
      "__________________________________________________________________________________________________\n",
      "conv1d_13 (Conv1D)              (None, 3136, 32)     3104        activation_11[0][0]              \n",
      "__________________________________________________________________________________________________\n",
      "batch_normalization_12 (BatchNo (None, 3136, 32)     128         conv1d_13[0][0]                  \n",
      "__________________________________________________________________________________________________\n",
      "activation_12 (Activation)      (None, 3136, 32)     0           batch_normalization_12[0][0]     \n",
      "__________________________________________________________________________________________________\n",
      "conv1d_14 (Conv1D)              (None, 3136, 32)     3104        activation_12[0][0]              \n",
      "__________________________________________________________________________________________________\n",
      "batch_normalization_13 (BatchNo (None, 3136, 32)     128         conv1d_14[0][0]                  \n",
      "__________________________________________________________________________________________________\n",
      "add_4 (Add)                     (None, 3136, 32)     0           batch_normalization_13[0][0]     \n",
      "                                                                 batch_normalization_12[0][0]     \n",
      "__________________________________________________________________________________________________\n",
      "activation_13 (Activation)      (None, 3136, 32)     0           add_4[0][0]                      \n",
      "__________________________________________________________________________________________________\n",
      "conv1d_15 (Conv1D)              (None, 1568, 64)     6208        activation_13[0][0]              \n",
      "__________________________________________________________________________________________________\n",
      "batch_normalization_14 (BatchNo (None, 1568, 64)     256         conv1d_15[0][0]                  \n",
      "__________________________________________________________________________________________________\n",
      "activation_14 (Activation)      (None, 1568, 64)     0           batch_normalization_14[0][0]     \n",
      "__________________________________________________________________________________________________\n",
      "conv1d_16 (Conv1D)              (None, 1568, 64)     12352       activation_14[0][0]              \n",
      "__________________________________________________________________________________________________\n",
      "conv1d_17 (Conv1D)              (None, 1568, 64)     12352       conv1d_16[0][0]                  \n",
      "__________________________________________________________________________________________________\n",
      "batch_normalization_15 (BatchNo (None, 1568, 64)     256         conv1d_17[0][0]                  \n",
      "__________________________________________________________________________________________________\n",
      "add_5 (Add)                     (None, 1568, 64)     0           batch_normalization_15[0][0]     \n",
      "                                                                 batch_normalization_14[0][0]     \n",
      "__________________________________________________________________________________________________\n",
      "activation_15 (Activation)      (None, 1568, 64)     0           add_5[0][0]                      \n",
      "__________________________________________________________________________________________________\n",
      "conv1d_18 (Conv1D)              (None, 1568, 64)     12352       activation_15[0][0]              \n",
      "__________________________________________________________________________________________________\n",
      "batch_normalization_16 (BatchNo (None, 1568, 64)     256         conv1d_18[0][0]                  \n",
      "__________________________________________________________________________________________________\n",
      "activation_16 (Activation)      (None, 1568, 64)     0           batch_normalization_16[0][0]     \n",
      "__________________________________________________________________________________________________\n",
      "conv1d_19 (Conv1D)              (None, 1568, 64)     12352       activation_16[0][0]              \n",
      "__________________________________________________________________________________________________\n",
      "batch_normalization_17 (BatchNo (None, 1568, 64)     256         conv1d_19[0][0]                  \n",
      "__________________________________________________________________________________________________\n",
      "add_6 (Add)                     (None, 1568, 64)     0           batch_normalization_17[0][0]     \n",
      "                                                                 batch_normalization_16[0][0]     \n",
      "__________________________________________________________________________________________________\n",
      "activation_17 (Activation)      (None, 1568, 64)     0           add_6[0][0]                      \n",
      "__________________________________________________________________________________________________\n",
      "conv1d_20 (Conv1D)              (None, 1568, 64)     12352       activation_17[0][0]              \n",
      "__________________________________________________________________________________________________\n",
      "batch_normalization_18 (BatchNo (None, 1568, 64)     256         conv1d_20[0][0]                  \n",
      "__________________________________________________________________________________________________\n",
      "activation_18 (Activation)      (None, 1568, 64)     0           batch_normalization_18[0][0]     \n",
      "__________________________________________________________________________________________________\n",
      "conv1d_21 (Conv1D)              (None, 1568, 64)     12352       activation_18[0][0]              \n",
      "__________________________________________________________________________________________________\n",
      "batch_normalization_19 (BatchNo (None, 1568, 64)     256         conv1d_21[0][0]                  \n",
      "__________________________________________________________________________________________________\n",
      "add_7 (Add)                     (None, 1568, 64)     0           batch_normalization_19[0][0]     \n",
      "                                                                 batch_normalization_18[0][0]     \n",
      "__________________________________________________________________________________________________\n",
      "activation_19 (Activation)      (None, 1568, 64)     0           add_7[0][0]                      \n",
      "__________________________________________________________________________________________________\n",
      "flatten (Flatten)               (None, 100352)       0           activation_19[0][0]              \n",
      "__________________________________________________________________________________________________\n",
      "dense1 (Dense)                  (None, 2048)         205522944   flatten[0][0]                    \n",
      "__________________________________________________________________________________________________\n",
      "batch_normalization_20 (BatchNo (None, 2048)         8192        dense1[0][0]                     \n",
      "__________________________________________________________________________________________________\n",
      "dropout1 (Dropout)              (None, 2048)         0           batch_normalization_20[0][0]     \n",
      "__________________________________________________________________________________________________\n",
      "activation_20 (Activation)      (None, 2048)         0           dropout1[0][0]                   \n",
      "__________________________________________________________________________________________________\n",
      "dense5 (Dense)                  (None, 1024)         2098176     activation_20[0][0]              \n",
      "__________________________________________________________________________________________________\n",
      "batch_normalization_21 (BatchNo (None, 1024)         4096        dense5[0][0]                     \n",
      "__________________________________________________________________________________________________\n",
      "dropout5 (Dropout)              (None, 1024)         0           batch_normalization_21[0][0]     \n",
      "__________________________________________________________________________________________________\n",
      "activation_21 (Activation)      (None, 1024)         0           dropout5[0][0]                   \n",
      "__________________________________________________________________________________________________\n",
      "dense6 (Dense)                  (None, 512)          524800      activation_21[0][0]              \n",
      "__________________________________________________________________________________________________\n",
      "batch_normalization_22 (BatchNo (None, 512)          2048        dense6[0][0]                     \n",
      "__________________________________________________________________________________________________\n",
      "dropout6 (Dropout)              (None, 512)          0           batch_normalization_22[0][0]     \n",
      "__________________________________________________________________________________________________\n",
      "activation_22 (Activation)      (None, 512)          0           dropout6[0][0]                   \n",
      "__________________________________________________________________________________________________\n",
      "dense7 (Dense)                  (None, 1024)         525312      activation_22[0][0]              \n",
      "__________________________________________________________________________________________________\n",
      "batch_normalization_23 (BatchNo (None, 1024)         4096        dense7[0][0]                     \n",
      "__________________________________________________________________________________________________\n",
      "dropout7 (Dropout)              (None, 1024)         0           batch_normalization_23[0][0]     \n",
      "__________________________________________________________________________________________________\n",
      "add_8 (Add)                     (None, 1024)         0           dropout7[0][0]                   \n",
      "                                                                 batch_normalization_21[0][0]     \n",
      "__________________________________________________________________________________________________\n",
      "activation_23 (Activation)      (None, 1024)         0           add_8[0][0]                      \n",
      "__________________________________________________________________________________________________\n",
      "dense8 (Dense)                  (None, 512)          524800      activation_23[0][0]              \n",
      "__________________________________________________________________________________________________\n",
      "batch_normalization_24 (BatchNo (None, 512)          2048        dense8[0][0]                     \n",
      "__________________________________________________________________________________________________\n",
      "dropout8 (Dropout)              (None, 512)          0           batch_normalization_24[0][0]     \n",
      "__________________________________________________________________________________________________\n",
      "activation_24 (Activation)      (None, 512)          0           dropout8[0][0]                   \n",
      "__________________________________________________________________________________________________\n",
      "dense9 (Dense)                  (None, 256)          131328      activation_24[0][0]              \n",
      "__________________________________________________________________________________________________\n",
      "batch_normalization_25 (BatchNo (None, 256)          1024        dense9[0][0]                     \n",
      "__________________________________________________________________________________________________\n",
      "dropout9 (Dropout)              (None, 256)          0           batch_normalization_25[0][0]     \n",
      "__________________________________________________________________________________________________\n",
      "activation_25 (Activation)      (None, 256)          0           dropout9[0][0]                   \n",
      "__________________________________________________________________________________________________\n",
      "dense10 (Dense)                 (None, 128)          32896       activation_25[0][0]              \n",
      "__________________________________________________________________________________________________\n",
      "batch_normalization_26 (BatchNo (None, 128)          512         dense10[0][0]                    \n",
      "__________________________________________________________________________________________________\n",
      "dropout10 (Dropout)             (None, 128)          0           batch_normalization_26[0][0]     \n",
      "__________________________________________________________________________________________________\n",
      "activation_26 (Activation)      (None, 128)          0           dropout10[0][0]                  \n",
      "__________________________________________________________________________________________________\n",
      "predictions (Dense)             (None, 1)            129         activation_26[0][0]              \n",
      "==================================================================================================\n",
      "Total params: 209,491,281\n",
      "Trainable params: 209,478,865\n",
      "Non-trainable params: 12,416\n",
      "__________________________________________________________________________________________________\n"
     ]
    }
   ],
   "source": [
    "# In[10]:\n",
    "with tf.device('/GPU:0'):\n",
    "    inputs = Input(shape=(train_X.shape[1],1),name='inputs')\n",
    "\n",
    "    x = Conv1D(16, kernel_size=3, strides=2, padding=\"same\")(inputs)\n",
    "    x = MaxPooling1D(pool_size=5)(x)\n",
    "    x = BatchNormalization()(x)\n",
    "#     y = x\n",
    "    x = Activation('tanh')(x)\n",
    "\n",
    "    x = Conv1D(16, kernel_size=3, strides=1, padding=\"same\")(x)\n",
    "#     x = MaxPooling1D(pool_size=5)(x)\n",
    "    x = BatchNormalization()(x)\n",
    "    y = x\n",
    "    x = Activation('relu')(x)\n",
    "\n",
    "    x = Conv1D(16, kernel_size=3, strides=1, padding=\"same\")(x)\n",
    "#     x = MaxPooling1D(pool_size=5)(x)\n",
    "    x = BatchNormalization()(x)\n",
    "    x = Activation('relu')(x)\n",
    "\n",
    "    x = Conv1D(16, kernel_size=3, strides=1, padding=\"same\")(x)\n",
    "#     x = MaxPooling1D(pool_size=5)(x)\n",
    "    x = BatchNormalization()(x)\n",
    "    x = tf.keras.layers.add([x,y])\n",
    "    x = Activation('relu')(x)\n",
    "\n",
    "    \n",
    "    x = Conv1D(16, kernel_size=3, strides=1, padding=\"same\")(x)\n",
    "#     x = MaxPooling1D(pool_size=5)(x)\n",
    "    x = BatchNormalization()(x)\n",
    "    y = x\n",
    "    x = Activation('relu')(x)\n",
    "    \n",
    "    \n",
    "    x = Conv1D(16, kernel_size=3, strides=1, padding=\"same\")(x)\n",
    "#     x = MaxPooling1D(pool_size=5)(x)\n",
    "    x = BatchNormalization()(x)\n",
    "    x = Activation('relu')(x)\n",
    "\n",
    "    x = Conv1D(16, kernel_size=3, strides=1, padding=\"same\")(x)\n",
    "#     x = MaxPooling1D(pool_size=5)(x)\n",
    "    x = BatchNormalization()(x)\n",
    "    x = Activation('relu')(x)\n",
    "\n",
    "    \n",
    "    x = Conv1D(16, kernel_size=3, strides=1, padding=\"same\")(x)\n",
    "#     x = MaxPooling1D(pool_size=5)(x)\n",
    "    x = BatchNormalization()(x)\n",
    "    x = tf.keras.layers.add([x,y])\n",
    "    x = Activation('relu')(x)\n",
    "    \n",
    "    x = Conv1D(32, kernel_size=3, strides=2, padding=\"same\")(x)\n",
    "#     x = MaxPooling1D(pool_size=5)(x)\n",
    "    x = BatchNormalization()(x)\n",
    "    y = x\n",
    "    x = Activation('relu')(x)\n",
    "\n",
    "    x = Conv1D(32, kernel_size=3, strides=1, padding=\"same\")(x)\n",
    "#     x = MaxPooling1D(pool_size=5)(x)\n",
    "#     x = BatchNormalization()(x)\n",
    "        \n",
    "    x = Conv1D(32, kernel_size=3, strides=1, padding=\"same\")(x)\n",
    "#     x = MaxPooling1D(pool_size=5)(x)\n",
    "    x = BatchNormalization()(x)\n",
    "    x = tf.keras.layers.add([x,y])\n",
    "    x = Activation('relu')(x)\n",
    "    \n",
    "        \n",
    "    x = Conv1D(32, kernel_size=3, strides=1, padding=\"same\")(x)\n",
    "#     x = MaxPooling1D(pool_size=5)(x)\n",
    "    x = BatchNormalization()(x)\n",
    "    y = x\n",
    "    x = Activation('relu')(x)\n",
    "\n",
    "    x = Conv1D(32, kernel_size=3, strides=1, padding=\"same\")(x)\n",
    "#     x = MaxPooling1D(pool_size=5)(x)\n",
    "    x = BatchNormalization()(x)\n",
    "    x = tf.keras.layers.add([x,y])\n",
    "    x = Activation('relu')(x)\n",
    "\n",
    "    x = Conv1D(32, kernel_size=3, strides=1, padding=\"same\")(x)\n",
    "#     x = MaxPooling1D(pool_size=5)(x)\n",
    "    x = BatchNormalization()(x)\n",
    "    y = x\n",
    "    x = Activation('relu')(x)\n",
    "\n",
    "    x = Conv1D(32, kernel_size=3, strides=1, padding=\"same\")(x)\n",
    "#     x = MaxPooling1D(pool_size=5)(x)\n",
    "    x = BatchNormalization()(x)\n",
    "    x = tf.keras.layers.add([x,y])\n",
    "    x = Activation('relu')(x)\n",
    "\n",
    "    x = Conv1D(64, kernel_size=3, strides=2, padding=\"same\")(x)\n",
    "#     x = MaxPooling1D(pool_size=5)(x)\n",
    "    x = BatchNormalization()(x)\n",
    "    y = x\n",
    "    x = Activation('relu')(x)\n",
    "\n",
    "    x = Conv1D(64, kernel_size=3, strides=1, padding=\"same\")(x)\n",
    "#     x = MaxPooling1D(pool_size=5)(x)\n",
    "#     x = BatchNormalization()(x)\n",
    "        \n",
    "    x = Conv1D(64, kernel_size=3, strides=1, padding=\"same\")(x)\n",
    "#     x = MaxPooling1D(pool_size=5)(x)\n",
    "    x = BatchNormalization()(x)\n",
    "    x = tf.keras.layers.add([x,y])\n",
    "    x = Activation('relu')(x)\n",
    "    \n",
    "        \n",
    "    x = Conv1D(64, kernel_size=3, strides=1, padding=\"same\")(x)\n",
    "#     x = MaxPooling1D(pool_size=5)(x)\n",
    "    x = BatchNormalization()(x)\n",
    "    y = x\n",
    "    x = Activation('relu')(x)\n",
    "\n",
    "    x = Conv1D(64, kernel_size=3, strides=1, padding=\"same\")(x)\n",
    "#     x = MaxPooling1D(pool_size=5)(x)\n",
    "    x = BatchNormalization()(x)\n",
    "    x = tf.keras.layers.add([x,y])\n",
    "    x = Activation('relu')(x)\n",
    "\n",
    "    x = Conv1D(64, kernel_size=3, strides=1, padding=\"same\")(x)\n",
    "#     x = MaxPooling1D(pool_size=5)(x)\n",
    "    x = BatchNormalization()(x)\n",
    "    y = x\n",
    "    x = Activation('relu')(x)\n",
    "\n",
    "    x = Conv1D(64, kernel_size=3, strides=1, padding=\"same\")(x)\n",
    "#     x = MaxPooling1D(pool_size=5)(x)\n",
    "    x = BatchNormalization()(x)\n",
    "    x = tf.keras.layers.add([x,y])\n",
    "    x = Activation('relu')(x)\n",
    "\n",
    "#     x = AveragePooling1D(pool_size=8)(x)\n",
    "    x = Flatten()(x)\n",
    "    x = Dense(units=2048, name='dense1'  ) (x)\n",
    "    x = BatchNormalization()(x)\n",
    "    x = Dropout(0.1, name='dropout1') (x)\n",
    "    x = Activation('relu')(x)\n",
    "\n",
    "#    x = Reshape((300,1))(x)\n",
    "\n",
    "#    x = Conv1D(30, kernel_size=150, strides=1, activation = 'relu')(x)\n",
    "#    x = MaxPooling1D(pool_size=2)(x)\n",
    "#    x = BatchNormalization()(x)\n",
    "\n",
    "    x = Dense(units=1024, name='dense5'  ) (x)\n",
    "    x = BatchNormalization()(x)\n",
    "    y = x\n",
    "    x = Dropout(0.1, name='dropout5') (x)\n",
    "    x = Activation('relu')(x)\n",
    "\n",
    "    x = Dense(units=512, name='dense6'  ) (x)\n",
    "    x = BatchNormalization()(x)\n",
    "    x = Dropout(0.1, name='dropout6') (x)\n",
    "    x = Activation('relu')(x)\n",
    "\n",
    "    x = Dense(units=1024, name='dense7'  ) (x)\n",
    "    x = BatchNormalization()(x)\n",
    "    x = Dropout(0.1, name='dropout7') (x)\n",
    "    x = tf.keras.layers.add([x,y])\n",
    "    x = Activation('relu')(x)\n",
    "    \n",
    "    x = Dense(units=512, name='dense8'  ) (x)\n",
    "    x = BatchNormalization()(x)\n",
    "    x = Dropout(0.1, name='dropout8') (x)\n",
    "    x = Activation('relu')(x)\n",
    "    \n",
    "    x = Dense(units=256, name='dense9'  ) (x)\n",
    "    x = BatchNormalization()(x)\n",
    "    x = Dropout(0.1, name='dropout9') (x)\n",
    "    x = Activation('relu')(x)\n",
    "\n",
    "    x = Dense(units=128, name='dense10'  ) (x)\n",
    "    x = BatchNormalization()(x)\n",
    "    y = x\n",
    "    x = Dropout(0.1, name='dropout10') (x)\n",
    "    x = Activation('relu')(x)\n",
    "\n",
    "\n",
    "    predictions = Dense(1, activation='linear', name='predictions', kernel_initializer='he_normal')(x)\n",
    "#     predictions = Dense(1, activation='linear', name='predictions')(x)\n",
    "\n",
    "    \n",
    "\n",
    "    model = Model(inputs=inputs, outputs=predictions, name='Test_v2_DNN20190327')\n",
    "    model.compile(loss=tf.keras.losses.mean_squared_error,\n",
    "                  optimizer=tf.keras.optimizers.Adam(learning_rate),\n",
    "                  metrics=['mse','mae'])\n",
    "\n",
    "\n",
    "    model.summary()\n"
   ]
  },
  {
   "cell_type": "code",
   "execution_count": 17,
   "metadata": {
    "scrolled": true
   },
   "outputs": [
    {
     "name": "stdout",
     "output_type": "stream",
     "text": [
      "StartTime : 2022-02-09 13:17:32.884741\n",
      "Epoch 1/150\n",
      "468/468 [==============================] - 99s 199ms/step - loss: 6.3909 - mse: 6.3909 - mae: 1.9613 - val_loss: 14.5132 - val_mse: 14.5132 - val_mae: 3.0243\n",
      "Epoch 2/150\n",
      "468/468 [==============================] - 93s 198ms/step - loss: 1.9021 - mse: 1.9021 - mae: 1.0501 - val_loss: 1.7826 - val_mse: 1.7826 - val_mae: 0.9920\n",
      "Epoch 3/150\n",
      "468/468 [==============================] - 94s 201ms/step - loss: 1.6907 - mse: 1.6907 - mae: 0.9887 - val_loss: 1.5820 - val_mse: 1.5820 - val_mae: 0.9440\n",
      "Epoch 4/150\n",
      "468/468 [==============================] - 95s 202ms/step - loss: 1.4464 - mse: 1.4464 - mae: 0.9138 - val_loss: 1.3739 - val_mse: 1.3739 - val_mae: 0.8743\n",
      "Epoch 5/150\n",
      "468/468 [==============================] - 95s 203ms/step - loss: 1.3369 - mse: 1.3369 - mae: 0.8807 - val_loss: 1.3696 - val_mse: 1.3696 - val_mae: 0.8682\n",
      "Epoch 6/150\n",
      "468/468 [==============================] - 94s 201ms/step - loss: 1.2062 - mse: 1.2062 - mae: 0.8403 - val_loss: 1.3899 - val_mse: 1.3899 - val_mae: 0.8681\n",
      "Epoch 7/150\n",
      "468/468 [==============================] - 94s 200ms/step - loss: 1.0880 - mse: 1.0880 - mae: 0.7998 - val_loss: 1.3017 - val_mse: 1.3017 - val_mae: 0.8435\n",
      "Epoch 8/150\n",
      "468/468 [==============================] - 94s 201ms/step - loss: 1.0226 - mse: 1.0226 - mae: 0.7752 - val_loss: 1.5677 - val_mse: 1.5677 - val_mae: 0.9332\n",
      "Epoch 9/150\n",
      "468/468 [==============================] - 95s 203ms/step - loss: 0.9451 - mse: 0.9451 - mae: 0.7429 - val_loss: 1.2339 - val_mse: 1.2339 - val_mae: 0.8340\n",
      "Epoch 10/150\n",
      "468/468 [==============================] - 95s 202ms/step - loss: 0.8826 - mse: 0.8826 - mae: 0.7214 - val_loss: 1.2039 - val_mse: 1.2039 - val_mae: 0.8012\n",
      "Epoch 11/150\n",
      "468/468 [==============================] - 95s 203ms/step - loss: 0.8162 - mse: 0.8162 - mae: 0.6935 - val_loss: 1.3277 - val_mse: 1.3277 - val_mae: 0.8691\n",
      "Epoch 12/150\n",
      "468/468 [==============================] - 95s 202ms/step - loss: 0.7727 - mse: 0.7727 - mae: 0.6776 - val_loss: 1.2068 - val_mse: 1.2068 - val_mae: 0.8021\n",
      "Epoch 13/150\n",
      "468/468 [==============================] - 95s 203ms/step - loss: 0.7471 - mse: 0.7471 - mae: 0.6657 - val_loss: 1.2083 - val_mse: 1.2083 - val_mae: 0.8059\n",
      "Epoch 14/150\n",
      "468/468 [==============================] - 95s 203ms/step - loss: 0.6927 - mse: 0.6927 - mae: 0.6413 - val_loss: 1.1388 - val_mse: 1.1388 - val_mae: 0.7808\n",
      "Epoch 15/150\n",
      "468/468 [==============================] - 95s 203ms/step - loss: 0.6698 - mse: 0.6698 - mae: 0.6312 - val_loss: 1.1497 - val_mse: 1.1497 - val_mae: 0.7944\n",
      "Epoch 16/150\n",
      "468/468 [==============================] - 95s 202ms/step - loss: 0.6419 - mse: 0.6419 - mae: 0.6183 - val_loss: 1.1439 - val_mse: 1.1439 - val_mae: 0.7828\n",
      "Epoch 17/150\n",
      "468/468 [==============================] - 95s 203ms/step - loss: 0.5945 - mse: 0.5945 - mae: 0.5957 - val_loss: 1.3182 - val_mse: 1.3182 - val_mae: 0.8692\n",
      "Epoch 18/150\n",
      "468/468 [==============================] - 95s 203ms/step - loss: 0.5703 - mse: 0.5703 - mae: 0.5819 - val_loss: 1.1043 - val_mse: 1.1043 - val_mae: 0.7598\n",
      "Epoch 19/150\n",
      "468/468 [==============================] - 95s 203ms/step - loss: 0.5462 - mse: 0.5462 - mae: 0.5695 - val_loss: 1.2798 - val_mse: 1.2798 - val_mae: 0.8256\n",
      "Epoch 20/150\n",
      "468/468 [==============================] - 95s 203ms/step - loss: 0.5033 - mse: 0.5033 - mae: 0.5480 - val_loss: 1.2130 - val_mse: 1.2130 - val_mae: 0.8102\n",
      "Epoch 21/150\n",
      "468/468 [==============================] - 95s 203ms/step - loss: 0.4865 - mse: 0.4865 - mae: 0.5396 - val_loss: 1.1183 - val_mse: 1.1183 - val_mae: 0.7707\n",
      "Epoch 22/150\n",
      "468/468 [==============================] - 95s 203ms/step - loss: 0.4641 - mse: 0.4641 - mae: 0.5255 - val_loss: 1.2961 - val_mse: 1.2961 - val_mae: 0.8628\n",
      "Epoch 23/150\n",
      "468/468 [==============================] - 95s 203ms/step - loss: 0.4547 - mse: 0.4547 - mae: 0.5214 - val_loss: 1.1882 - val_mse: 1.1882 - val_mae: 0.8017\n",
      "Epoch 24/150\n",
      "468/468 [==============================] - 95s 202ms/step - loss: 0.4275 - mse: 0.4275 - mae: 0.5029 - val_loss: 1.0964 - val_mse: 1.0964 - val_mae: 0.7635\n",
      "Epoch 25/150\n",
      "468/468 [==============================] - 95s 203ms/step - loss: 0.4048 - mse: 0.4048 - mae: 0.4925 - val_loss: 1.0829 - val_mse: 1.0829 - val_mae: 0.7499\n",
      "Epoch 26/150\n",
      "468/468 [==============================] - 94s 202ms/step - loss: 0.4035 - mse: 0.4035 - mae: 0.4892 - val_loss: 1.0468 - val_mse: 1.0468 - val_mae: 0.7434\n",
      "Epoch 27/150\n",
      "468/468 [==============================] - 94s 201ms/step - loss: 0.3814 - mse: 0.3814 - mae: 0.4773 - val_loss: 1.1475 - val_mse: 1.1475 - val_mae: 0.7926\n",
      "Epoch 28/150\n",
      "468/468 [==============================] - 94s 200ms/step - loss: 0.3706 - mse: 0.3706 - mae: 0.4688 - val_loss: 1.0161 - val_mse: 1.0161 - val_mae: 0.7421\n",
      "Epoch 29/150\n",
      "468/468 [==============================] - 95s 203ms/step - loss: 0.3636 - mse: 0.3636 - mae: 0.4616 - val_loss: 1.0711 - val_mse: 1.0711 - val_mae: 0.7523\n",
      "Epoch 30/150\n",
      "468/468 [==============================] - 95s 203ms/step - loss: 0.3463 - mse: 0.3463 - mae: 0.4533 - val_loss: 1.0549 - val_mse: 1.0549 - val_mae: 0.7423\n",
      "Epoch 31/150\n",
      "468/468 [==============================] - 95s 203ms/step - loss: 0.3315 - mse: 0.3315 - mae: 0.4449 - val_loss: 1.0533 - val_mse: 1.0533 - val_mae: 0.7553\n",
      "Epoch 32/150\n",
      "468/468 [==============================] - 95s 203ms/step - loss: 0.3112 - mse: 0.3112 - mae: 0.4319 - val_loss: 1.0715 - val_mse: 1.0715 - val_mae: 0.7653\n",
      "Epoch 33/150\n",
      "468/468 [==============================] - 95s 203ms/step - loss: 0.3126 - mse: 0.3126 - mae: 0.4311 - val_loss: 1.0397 - val_mse: 1.0397 - val_mae: 0.7427\n",
      "Epoch 34/150\n",
      "468/468 [==============================] - 95s 203ms/step - loss: 0.3011 - mse: 0.3011 - mae: 0.4242 - val_loss: 1.0340 - val_mse: 1.0340 - val_mae: 0.7348\n",
      "Epoch 35/150\n",
      "468/468 [==============================] - 95s 203ms/step - loss: 0.2933 - mse: 0.2933 - mae: 0.4172 - val_loss: 1.0456 - val_mse: 1.0456 - val_mae: 0.7392\n",
      "Epoch 36/150\n",
      "468/468 [==============================] - 95s 203ms/step - loss: 0.2833 - mse: 0.2833 - mae: 0.4131 - val_loss: 0.9954 - val_mse: 0.9954 - val_mae: 0.7212\n",
      "Epoch 37/150\n",
      "468/468 [==============================] - 95s 203ms/step - loss: 0.2673 - mse: 0.2673 - mae: 0.4010 - val_loss: 1.0245 - val_mse: 1.0245 - val_mae: 0.7280\n",
      "Epoch 38/150\n",
      "468/468 [==============================] - 95s 203ms/step - loss: 0.2955 - mse: 0.2955 - mae: 0.4134 - val_loss: 1.0033 - val_mse: 1.0033 - val_mae: 0.7232\n",
      "Epoch 39/150\n",
      "468/468 [==============================] - 95s 203ms/step - loss: 0.2519 - mse: 0.2519 - mae: 0.3875 - val_loss: 1.0043 - val_mse: 1.0043 - val_mae: 0.7326\n",
      "Epoch 40/150\n",
      "468/468 [==============================] - 95s 203ms/step - loss: 0.2512 - mse: 0.2512 - mae: 0.3888 - val_loss: 1.0508 - val_mse: 1.0508 - val_mae: 0.7321\n",
      "Epoch 41/150\n",
      "468/468 [==============================] - 95s 203ms/step - loss: 0.2516 - mse: 0.2516 - mae: 0.3868 - val_loss: 1.1111 - val_mse: 1.1111 - val_mae: 0.7834\n",
      "Epoch 42/150\n",
      "468/468 [==============================] - 95s 203ms/step - loss: 0.2458 - mse: 0.2458 - mae: 0.3806 - val_loss: 1.0041 - val_mse: 1.0041 - val_mae: 0.7228\n",
      "Epoch 43/150\n",
      "468/468 [==============================] - 95s 203ms/step - loss: 0.2345 - mse: 0.2345 - mae: 0.3746 - val_loss: 0.9889 - val_mse: 0.9889 - val_mae: 0.7183\n",
      "Epoch 44/150\n",
      "468/468 [==============================] - 95s 203ms/step - loss: 0.2338 - mse: 0.2338 - mae: 0.3726 - val_loss: 1.0412 - val_mse: 1.0412 - val_mae: 0.7398\n",
      "Epoch 45/150\n",
      "468/468 [==============================] - 95s 203ms/step - loss: 0.2333 - mse: 0.2333 - mae: 0.3716 - val_loss: 1.0139 - val_mse: 1.0139 - val_mae: 0.7326\n",
      "Epoch 46/150\n",
      "468/468 [==============================] - 95s 203ms/step - loss: 0.2101 - mse: 0.2101 - mae: 0.3538 - val_loss: 1.0266 - val_mse: 1.0266 - val_mae: 0.7251\n",
      "Epoch 47/150\n",
      "468/468 [==============================] - 95s 203ms/step - loss: 0.2145 - mse: 0.2145 - mae: 0.3582 - val_loss: 0.9723 - val_mse: 0.9723 - val_mae: 0.7071\n",
      "Epoch 48/150\n",
      "468/468 [==============================] - 95s 203ms/step - loss: 0.2051 - mse: 0.2051 - mae: 0.3520 - val_loss: 1.0322 - val_mse: 1.0322 - val_mae: 0.7288\n",
      "Epoch 49/150\n"
     ]
    },
    {
     "name": "stdout",
     "output_type": "stream",
     "text": [
      "468/468 [==============================] - 95s 203ms/step - loss: 0.2132 - mse: 0.2132 - mae: 0.3553 - val_loss: 1.0098 - val_mse: 1.0098 - val_mae: 0.7232\n",
      "Epoch 50/150\n",
      "468/468 [==============================] - 95s 203ms/step - loss: 0.2067 - mse: 0.2067 - mae: 0.3500 - val_loss: 1.0030 - val_mse: 1.0030 - val_mae: 0.7236\n",
      "Epoch 51/150\n",
      "468/468 [==============================] - 95s 203ms/step - loss: 0.1985 - mse: 0.1985 - mae: 0.3442 - val_loss: 1.0042 - val_mse: 1.0042 - val_mae: 0.7154\n",
      "Epoch 52/150\n",
      "468/468 [==============================] - 94s 202ms/step - loss: 0.1907 - mse: 0.1907 - mae: 0.3376 - val_loss: 0.9997 - val_mse: 0.9997 - val_mae: 0.7226\n",
      "Epoch 53/150\n",
      "468/468 [==============================] - 94s 201ms/step - loss: 0.1971 - mse: 0.1971 - mae: 0.3426 - val_loss: 0.9994 - val_mse: 0.9994 - val_mae: 0.7214\n",
      "Epoch 54/150\n",
      "468/468 [==============================] - 94s 201ms/step - loss: 0.1940 - mse: 0.1940 - mae: 0.3382 - val_loss: 1.0084 - val_mse: 1.0084 - val_mae: 0.7290\n",
      "Epoch 55/150\n",
      "468/468 [==============================] - 94s 201ms/step - loss: 0.1851 - mse: 0.1851 - mae: 0.3319 - val_loss: 0.9704 - val_mse: 0.9704 - val_mae: 0.7075\n",
      "Epoch 56/150\n",
      "468/468 [==============================] - 94s 201ms/step - loss: 0.1772 - mse: 0.1772 - mae: 0.3248 - val_loss: 0.9724 - val_mse: 0.9724 - val_mae: 0.7126\n",
      "Epoch 57/150\n",
      "468/468 [==============================] - 95s 204ms/step - loss: 0.1797 - mse: 0.1797 - mae: 0.3268 - val_loss: 0.9879 - val_mse: 0.9879 - val_mae: 0.7238\n",
      "Epoch 58/150\n",
      "468/468 [==============================] - 95s 203ms/step - loss: 0.1827 - mse: 0.1827 - mae: 0.3283 - val_loss: 0.9798 - val_mse: 0.9798 - val_mae: 0.7063\n",
      "Epoch 59/150\n",
      "468/468 [==============================] - 95s 203ms/step - loss: 0.1769 - mse: 0.1769 - mae: 0.3240 - val_loss: 0.9754 - val_mse: 0.9754 - val_mae: 0.7090\n",
      "Epoch 60/150\n",
      "468/468 [==============================] - 94s 201ms/step - loss: 0.1752 - mse: 0.1752 - mae: 0.3223 - val_loss: 0.9534 - val_mse: 0.9534 - val_mae: 0.7030\n",
      "Epoch 61/150\n",
      "468/468 [==============================] - 94s 202ms/step - loss: 0.1657 - mse: 0.1657 - mae: 0.3138 - val_loss: 1.0047 - val_mse: 1.0047 - val_mae: 0.7170\n",
      "Epoch 62/150\n",
      "468/468 [==============================] - 95s 203ms/step - loss: 0.1656 - mse: 0.1656 - mae: 0.3137 - val_loss: 0.9721 - val_mse: 0.9721 - val_mae: 0.7013\n",
      "Epoch 63/150\n",
      "468/468 [==============================] - 95s 204ms/step - loss: 0.1601 - mse: 0.1601 - mae: 0.3092 - val_loss: 0.9515 - val_mse: 0.9515 - val_mae: 0.7049\n",
      "Epoch 64/150\n",
      "468/468 [==============================] - 95s 204ms/step - loss: 0.1644 - mse: 0.1644 - mae: 0.3119 - val_loss: 0.9655 - val_mse: 0.9655 - val_mae: 0.7046\n",
      "Epoch 65/150\n",
      "468/468 [==============================] - 95s 204ms/step - loss: 0.1599 - mse: 0.1599 - mae: 0.3087 - val_loss: 0.9725 - val_mse: 0.9725 - val_mae: 0.7010\n",
      "Epoch 66/150\n",
      "468/468 [==============================] - 95s 203ms/step - loss: 0.1611 - mse: 0.1611 - mae: 0.3083 - val_loss: 0.9658 - val_mse: 0.9658 - val_mae: 0.7001\n",
      "Epoch 67/150\n",
      "468/468 [==============================] - 95s 204ms/step - loss: 0.1580 - mse: 0.1580 - mae: 0.3067 - val_loss: 0.9725 - val_mse: 0.9725 - val_mae: 0.7025\n",
      "Epoch 68/150\n",
      "468/468 [==============================] - 95s 203ms/step - loss: 0.1542 - mse: 0.1542 - mae: 0.3009 - val_loss: 0.9975 - val_mse: 0.9975 - val_mae: 0.7119\n",
      "Epoch 69/150\n",
      "468/468 [==============================] - 95s 204ms/step - loss: 0.1517 - mse: 0.1517 - mae: 0.2985 - val_loss: 0.9874 - val_mse: 0.9874 - val_mae: 0.7113\n",
      "Epoch 70/150\n",
      "468/468 [==============================] - 95s 204ms/step - loss: 0.1504 - mse: 0.1504 - mae: 0.2979 - val_loss: 1.0046 - val_mse: 1.0046 - val_mae: 0.7160\n",
      "Epoch 71/150\n",
      "468/468 [==============================] - 95s 204ms/step - loss: 0.1481 - mse: 0.1481 - mae: 0.2958 - val_loss: 0.9727 - val_mse: 0.9727 - val_mae: 0.7035\n",
      "Epoch 72/150\n",
      "468/468 [==============================] - 95s 204ms/step - loss: 0.1429 - mse: 0.1429 - mae: 0.2911 - val_loss: 0.9534 - val_mse: 0.9534 - val_mae: 0.6981\n",
      "Epoch 73/150\n",
      "468/468 [==============================] - 96s 204ms/step - loss: 0.1422 - mse: 0.1422 - mae: 0.2908 - val_loss: 0.9646 - val_mse: 0.9646 - val_mae: 0.7036\n",
      "Epoch 74/150\n",
      "468/468 [==============================] - 96s 204ms/step - loss: 0.1505 - mse: 0.1505 - mae: 0.2968 - val_loss: 0.9792 - val_mse: 0.9792 - val_mae: 0.7013\n",
      "Epoch 75/150\n",
      "468/468 [==============================] - 95s 204ms/step - loss: 0.1394 - mse: 0.1394 - mae: 0.2883 - val_loss: 0.9581 - val_mse: 0.9581 - val_mae: 0.6951\n",
      "Epoch 76/150\n",
      "468/468 [==============================] - 95s 204ms/step - loss: 0.1410 - mse: 0.1410 - mae: 0.2888 - val_loss: 0.9552 - val_mse: 0.9552 - val_mae: 0.7002\n",
      "Epoch 77/150\n",
      "468/468 [==============================] - 95s 204ms/step - loss: 0.1380 - mse: 0.1380 - mae: 0.2866 - val_loss: 0.9469 - val_mse: 0.9469 - val_mae: 0.6960\n",
      "Epoch 78/150\n",
      "468/468 [==============================] - 95s 204ms/step - loss: 0.1661 - mse: 0.1661 - mae: 0.3066 - val_loss: 0.9804 - val_mse: 0.9804 - val_mae: 0.7067\n",
      "Epoch 79/150\n",
      "468/468 [==============================] - 95s 203ms/step - loss: 0.1345 - mse: 0.1345 - mae: 0.2810 - val_loss: 0.9572 - val_mse: 0.9572 - val_mae: 0.6964\n",
      "Epoch 80/150\n",
      "468/468 [==============================] - 95s 204ms/step - loss: 0.1280 - mse: 0.1280 - mae: 0.2768 - val_loss: 0.9497 - val_mse: 0.9497 - val_mae: 0.6949\n",
      "Epoch 81/150\n",
      "468/468 [==============================] - 95s 204ms/step - loss: 0.1291 - mse: 0.1291 - mae: 0.2760 - val_loss: 0.9657 - val_mse: 0.9657 - val_mae: 0.7002\n",
      "Epoch 82/150\n",
      "468/468 [==============================] - 95s 204ms/step - loss: 0.1359 - mse: 0.1359 - mae: 0.2812 - val_loss: 0.9680 - val_mse: 0.9680 - val_mae: 0.7085\n",
      "Epoch 83/150\n",
      "468/468 [==============================] - 96s 204ms/step - loss: 0.1488 - mse: 0.1488 - mae: 0.2935 - val_loss: 0.9362 - val_mse: 0.9362 - val_mae: 0.6967\n",
      "Epoch 84/150\n",
      "468/468 [==============================] - 96s 204ms/step - loss: 0.1262 - mse: 0.1262 - mae: 0.2738 - val_loss: 0.9714 - val_mse: 0.9714 - val_mae: 0.7032\n",
      "Epoch 85/150\n",
      "468/468 [==============================] - 95s 204ms/step - loss: 0.1234 - mse: 0.1234 - mae: 0.2693 - val_loss: 0.9509 - val_mse: 0.9509 - val_mae: 0.6979\n",
      "Epoch 86/150\n",
      "468/468 [==============================] - 95s 204ms/step - loss: 0.1213 - mse: 0.1213 - mae: 0.2687 - val_loss: 0.9640 - val_mse: 0.9640 - val_mae: 0.7019\n",
      "Epoch 87/150\n",
      "468/468 [==============================] - 95s 204ms/step - loss: 0.1223 - mse: 0.1223 - mae: 0.2691 - val_loss: 0.9784 - val_mse: 0.9784 - val_mae: 0.7058\n",
      "Epoch 88/150\n",
      "468/468 [==============================] - 95s 204ms/step - loss: 0.1356 - mse: 0.1356 - mae: 0.2793 - val_loss: 1.0056 - val_mse: 1.0056 - val_mae: 0.7177\n",
      "Epoch 89/150\n",
      "468/468 [==============================] - 96s 204ms/step - loss: 0.1358 - mse: 0.1358 - mae: 0.2817 - val_loss: 0.9479 - val_mse: 0.9479 - val_mae: 0.6960\n",
      "Epoch 90/150\n",
      "468/468 [==============================] - 95s 204ms/step - loss: 0.1142 - mse: 0.1142 - mae: 0.2596 - val_loss: 0.9501 - val_mse: 0.9501 - val_mae: 0.6932\n",
      "Epoch 91/150\n",
      "468/468 [==============================] - 95s 204ms/step - loss: 0.1144 - mse: 0.1144 - mae: 0.2593 - val_loss: 0.9658 - val_mse: 0.9658 - val_mae: 0.6996\n",
      "Epoch 92/150\n",
      "468/468 [==============================] - 95s 204ms/step - loss: 0.1143 - mse: 0.1143 - mae: 0.2593 - val_loss: 0.9509 - val_mse: 0.9509 - val_mae: 0.6970\n",
      "Epoch 93/150\n",
      "468/468 [==============================] - 95s 204ms/step - loss: 0.1152 - mse: 0.1152 - mae: 0.2609 - val_loss: 0.9548 - val_mse: 0.9548 - val_mae: 0.6995\n",
      "Epoch 94/150\n",
      "468/468 [==============================] - 95s 204ms/step - loss: 0.1183 - mse: 0.1183 - mae: 0.2624 - val_loss: 0.9430 - val_mse: 0.9430 - val_mae: 0.6962\n",
      "Epoch 95/150\n",
      "468/468 [==============================] - 96s 204ms/step - loss: 0.1146 - mse: 0.1146 - mae: 0.2600 - val_loss: 0.9751 - val_mse: 0.9751 - val_mae: 0.6977\n",
      "Epoch 96/150\n",
      "468/468 [==============================] - 95s 204ms/step - loss: 0.1108 - mse: 0.1108 - mae: 0.2568 - val_loss: 0.9592 - val_mse: 0.9592 - val_mae: 0.6973\n",
      "Epoch 97/150\n"
     ]
    },
    {
     "name": "stdout",
     "output_type": "stream",
     "text": [
      "468/468 [==============================] - 95s 203ms/step - loss: 0.1093 - mse: 0.1093 - mae: 0.2547 - val_loss: 0.9699 - val_mse: 0.9699 - val_mae: 0.7044\n",
      "Epoch 98/150\n",
      "468/468 [==============================] - 95s 203ms/step - loss: 0.1112 - mse: 0.1112 - mae: 0.2548 - val_loss: 0.9601 - val_mse: 0.9601 - val_mae: 0.7018\n",
      "Epoch 99/150\n",
      "468/468 [==============================] - 95s 203ms/step - loss: 0.1102 - mse: 0.1102 - mae: 0.2558 - val_loss: 0.9597 - val_mse: 0.9597 - val_mae: 0.7021\n",
      "Epoch 100/150\n",
      "468/468 [==============================] - 94s 201ms/step - loss: 0.1146 - mse: 0.1146 - mae: 0.2579 - val_loss: 0.9683 - val_mse: 0.9683 - val_mae: 0.6971\n",
      "Epoch 101/150\n",
      "468/468 [==============================] - 94s 201ms/step - loss: 0.1060 - mse: 0.1060 - mae: 0.2506 - val_loss: 0.9609 - val_mse: 0.9609 - val_mae: 0.7010\n",
      "Epoch 102/150\n",
      "468/468 [==============================] - 94s 202ms/step - loss: 0.1075 - mse: 0.1075 - mae: 0.2524 - val_loss: 0.9495 - val_mse: 0.9495 - val_mae: 0.6960\n",
      "Epoch 103/150\n",
      "468/468 [==============================] - 95s 203ms/step - loss: 0.1045 - mse: 0.1045 - mae: 0.2482 - val_loss: 0.9430 - val_mse: 0.9430 - val_mae: 0.6939\n",
      "Epoch 104/150\n",
      "468/468 [==============================] - 94s 201ms/step - loss: 0.1042 - mse: 0.1042 - mae: 0.2478 - val_loss: 0.9424 - val_mse: 0.9424 - val_mae: 0.6968\n",
      "Epoch 105/150\n",
      "468/468 [==============================] - 94s 201ms/step - loss: 0.1074 - mse: 0.1074 - mae: 0.2517 - val_loss: 0.9523 - val_mse: 0.9523 - val_mae: 0.6910\n",
      "Epoch 106/150\n",
      "468/468 [==============================] - 94s 202ms/step - loss: 0.1039 - mse: 0.1039 - mae: 0.2470 - val_loss: 0.9375 - val_mse: 0.9375 - val_mae: 0.6902\n",
      "Epoch 107/150\n",
      "468/468 [==============================] - 95s 203ms/step - loss: 0.1032 - mse: 0.1032 - mae: 0.2472 - val_loss: 0.9646 - val_mse: 0.9646 - val_mae: 0.6957\n",
      "Epoch 108/150\n",
      "468/468 [==============================] - 95s 203ms/step - loss: 0.1039 - mse: 0.1039 - mae: 0.2467 - val_loss: 0.9553 - val_mse: 0.9553 - val_mae: 0.6960\n",
      "Epoch 109/150\n",
      "468/468 [==============================] - 95s 203ms/step - loss: 0.1027 - mse: 0.1027 - mae: 0.2451 - val_loss: 0.9365 - val_mse: 0.9365 - val_mae: 0.6899\n",
      "Epoch 110/150\n",
      "468/468 [==============================] - 95s 203ms/step - loss: 0.1197 - mse: 0.1197 - mae: 0.2604 - val_loss: 0.9483 - val_mse: 0.9483 - val_mae: 0.6890\n",
      "Epoch 111/150\n",
      "468/468 [==============================] - 95s 203ms/step - loss: 0.1014 - mse: 0.1014 - mae: 0.2440 - val_loss: 0.9462 - val_mse: 0.9462 - val_mae: 0.6894\n",
      "Epoch 112/150\n",
      "468/468 [==============================] - 95s 203ms/step - loss: 0.0951 - mse: 0.0951 - mae: 0.2372 - val_loss: 1.0225 - val_mse: 1.0225 - val_mae: 0.7373\n",
      "Epoch 113/150\n",
      "468/468 [==============================] - 95s 204ms/step - loss: 0.1040 - mse: 0.1040 - mae: 0.2460 - val_loss: 0.9646 - val_mse: 0.9646 - val_mae: 0.6941\n",
      "Epoch 114/150\n",
      "468/468 [==============================] - 95s 204ms/step - loss: 0.0945 - mse: 0.0945 - mae: 0.2356 - val_loss: 0.9686 - val_mse: 0.9686 - val_mae: 0.6958\n",
      "Epoch 115/150\n",
      "468/468 [==============================] - 95s 203ms/step - loss: 0.0965 - mse: 0.0965 - mae: 0.2375 - val_loss: 0.9493 - val_mse: 0.9493 - val_mae: 0.6957\n",
      "Epoch 116/150\n",
      "468/468 [==============================] - 95s 204ms/step - loss: 0.0957 - mse: 0.0957 - mae: 0.2371 - val_loss: 0.9727 - val_mse: 0.9727 - val_mae: 0.7032\n",
      "Epoch 117/150\n",
      "468/468 [==============================] - 95s 204ms/step - loss: 0.0981 - mse: 0.0981 - mae: 0.2389 - val_loss: 0.9581 - val_mse: 0.9581 - val_mae: 0.6932\n",
      "Epoch 118/150\n",
      "468/468 [==============================] - 95s 204ms/step - loss: 0.1020 - mse: 0.1020 - mae: 0.2432 - val_loss: 0.9665 - val_mse: 0.9665 - val_mae: 0.6987\n",
      "Epoch 119/150\n",
      "468/468 [==============================] - 95s 204ms/step - loss: 0.0944 - mse: 0.0944 - mae: 0.2353 - val_loss: 0.9737 - val_mse: 0.9737 - val_mae: 0.6965\n",
      "Epoch 120/150\n",
      "468/468 [==============================] - 95s 203ms/step - loss: 0.0925 - mse: 0.0925 - mae: 0.2333 - val_loss: 0.9442 - val_mse: 0.9442 - val_mae: 0.6871\n",
      "Epoch 121/150\n",
      "468/468 [==============================] - 95s 204ms/step - loss: 0.0995 - mse: 0.0995 - mae: 0.2408 - val_loss: 0.9580 - val_mse: 0.9580 - val_mae: 0.6938\n",
      "Epoch 122/150\n",
      "468/468 [==============================] - 95s 204ms/step - loss: 0.0933 - mse: 0.0933 - mae: 0.2339 - val_loss: 0.9684 - val_mse: 0.9684 - val_mae: 0.6993\n",
      "Epoch 123/150\n",
      "468/468 [==============================] - 95s 204ms/step - loss: 0.0934 - mse: 0.0934 - mae: 0.2346 - val_loss: 0.9474 - val_mse: 0.9474 - val_mae: 0.6935\n",
      "Epoch 124/150\n",
      "468/468 [==============================] - 95s 204ms/step - loss: 0.0947 - mse: 0.0947 - mae: 0.2356 - val_loss: 0.9742 - val_mse: 0.9742 - val_mae: 0.6968\n",
      "Epoch 125/150\n",
      "468/468 [==============================] - 95s 204ms/step - loss: 0.0928 - mse: 0.0928 - mae: 0.2337 - val_loss: 0.9847 - val_mse: 0.9847 - val_mae: 0.7099\n",
      "Epoch 126/150\n",
      "468/468 [==============================] - 95s 204ms/step - loss: 0.0954 - mse: 0.0954 - mae: 0.2354 - val_loss: 0.9739 - val_mse: 0.9739 - val_mae: 0.7086\n",
      "Epoch 127/150\n",
      "468/468 [==============================] - 96s 204ms/step - loss: 0.1047 - mse: 0.1047 - mae: 0.2442 - val_loss: 0.9541 - val_mse: 0.9541 - val_mae: 0.6917\n",
      "Epoch 128/150\n",
      "468/468 [==============================] - 95s 204ms/step - loss: 0.0884 - mse: 0.0884 - mae: 0.2273 - val_loss: 1.0004 - val_mse: 1.0004 - val_mae: 0.7143\n",
      "Epoch 129/150\n",
      "468/468 [==============================] - 95s 204ms/step - loss: 0.0928 - mse: 0.0928 - mae: 0.2302 - val_loss: 0.9483 - val_mse: 0.9483 - val_mae: 0.6902\n",
      "Epoch 130/150\n",
      "468/468 [==============================] - 95s 204ms/step - loss: 0.0842 - mse: 0.0842 - mae: 0.2225 - val_loss: 0.9679 - val_mse: 0.9679 - val_mae: 0.6959\n",
      "Epoch 131/150\n",
      "468/468 [==============================] - 95s 204ms/step - loss: 0.0840 - mse: 0.0840 - mae: 0.2228 - val_loss: 0.9588 - val_mse: 0.9588 - val_mae: 0.6931\n",
      "Epoch 132/150\n",
      "468/468 [==============================] - 95s 203ms/step - loss: 0.0869 - mse: 0.0869 - mae: 0.2260 - val_loss: 0.9568 - val_mse: 0.9568 - val_mae: 0.6908\n",
      "Epoch 133/150\n",
      "468/468 [==============================] - 95s 203ms/step - loss: 0.0882 - mse: 0.0882 - mae: 0.2254 - val_loss: 0.9315 - val_mse: 0.9315 - val_mae: 0.6890\n",
      "Epoch 134/150\n",
      "468/468 [==============================] - 95s 203ms/step - loss: 0.0852 - mse: 0.0852 - mae: 0.2236 - val_loss: 0.9544 - val_mse: 0.9544 - val_mae: 0.6910\n",
      "Epoch 135/150\n",
      "468/468 [==============================] - 95s 204ms/step - loss: 0.0906 - mse: 0.0906 - mae: 0.2287 - val_loss: 0.9564 - val_mse: 0.9564 - val_mae: 0.6927\n",
      "Epoch 136/150\n",
      "468/468 [==============================] - 95s 204ms/step - loss: 0.0831 - mse: 0.0831 - mae: 0.2210 - val_loss: 0.9567 - val_mse: 0.9567 - val_mae: 0.6913\n",
      "Epoch 137/150\n",
      "468/468 [==============================] - 95s 204ms/step - loss: 0.0870 - mse: 0.0870 - mae: 0.2251 - val_loss: 0.9593 - val_mse: 0.9593 - val_mae: 0.6904\n",
      "Epoch 138/150\n",
      "468/468 [==============================] - 95s 204ms/step - loss: 0.0851 - mse: 0.0851 - mae: 0.2240 - val_loss: 0.9458 - val_mse: 0.9458 - val_mae: 0.6893\n",
      "Epoch 139/150\n",
      "468/468 [==============================] - 95s 204ms/step - loss: 0.0853 - mse: 0.0853 - mae: 0.2236 - val_loss: 1.0404 - val_mse: 1.0404 - val_mae: 0.7356\n",
      "Epoch 140/150\n",
      "468/468 [==============================] - 95s 203ms/step - loss: 0.1373 - mse: 0.1373 - mae: 0.2627 - val_loss: 1.0197 - val_mse: 1.0197 - val_mae: 0.7041\n",
      "Epoch 141/150\n",
      "468/468 [==============================] - 95s 204ms/step - loss: 0.0885 - mse: 0.0885 - mae: 0.2258 - val_loss: 0.9472 - val_mse: 0.9472 - val_mae: 0.6850\n",
      "Epoch 142/150\n",
      "468/468 [==============================] - 95s 204ms/step - loss: 0.0773 - mse: 0.0773 - mae: 0.2128 - val_loss: 0.9338 - val_mse: 0.9338 - val_mae: 0.6828\n",
      "Epoch 143/150\n",
      "468/468 [==============================] - 95s 204ms/step - loss: 0.0749 - mse: 0.0749 - mae: 0.2097 - val_loss: 0.9408 - val_mse: 0.9408 - val_mae: 0.6859\n",
      "Epoch 144/150\n",
      "468/468 [==============================] - 94s 202ms/step - loss: 0.0744 - mse: 0.0744 - mae: 0.2095 - val_loss: 0.9516 - val_mse: 0.9516 - val_mae: 0.6912\n",
      "Epoch 145/150\n"
     ]
    },
    {
     "name": "stdout",
     "output_type": "stream",
     "text": [
      "468/468 [==============================] - 94s 201ms/step - loss: 0.0755 - mse: 0.0755 - mae: 0.2095 - val_loss: 0.9479 - val_mse: 0.9479 - val_mae: 0.6880\n",
      "Epoch 146/150\n",
      "468/468 [==============================] - 94s 201ms/step - loss: 0.0761 - mse: 0.0761 - mae: 0.2111 - val_loss: 0.9555 - val_mse: 0.9555 - val_mae: 0.6922\n",
      "Epoch 147/150\n",
      "468/468 [==============================] - 94s 201ms/step - loss: 0.0795 - mse: 0.0795 - mae: 0.2159 - val_loss: 0.9535 - val_mse: 0.9535 - val_mae: 0.6867\n",
      "Epoch 148/150\n",
      "468/468 [==============================] - 94s 201ms/step - loss: 0.0782 - mse: 0.0782 - mae: 0.2140 - val_loss: 0.9831 - val_mse: 0.9831 - val_mae: 0.7117\n",
      "Epoch 149/150\n",
      "468/468 [==============================] - 94s 201ms/step - loss: 0.0901 - mse: 0.0901 - mae: 0.2277 - val_loss: 0.9569 - val_mse: 0.9569 - val_mae: 0.6919\n",
      "Epoch 150/150\n",
      "468/468 [==============================] - 94s 201ms/step - loss: 0.0788 - mse: 0.0788 - mae: 0.2145 - val_loss: 0.9847 - val_mse: 0.9847 - val_mae: 0.7048\n",
      "EndTime : 2022-02-09 17:15:00.434514\n"
     ]
    }
   ],
   "source": [
    "StartTime8 = datetime.now()\n",
    "print(\"StartTime :\", StartTime8)\n",
    "with tf.device('/GPU:0'):\n",
    "    model_train = model.fit(train_X, training_label_array, batch_size=batch_size,epochs=training_epochs,verbose=1,\n",
    "                        validation_data=(test_X, test_label_array))\n",
    "\n",
    "EndTime8 = datetime.now()\n",
    "print(\"EndTime :\", EndTime8)"
   ]
  },
  {
   "cell_type": "code",
   "execution_count": 18,
   "metadata": {},
   "outputs": [],
   "source": [
    "import json\n",
    "workdir = \"D://ResNetIC50//Result//MEYDG-51K//ResNet\"\n",
    "# Option 1: Save Weights + Architecture\n",
    "model.save_weights(workdir+ '//MEYDG51K_r2_ResNet_model_fix_v3.h5')\n",
    "with open(workdir + '//MEYDG51K_r2_ResNet_model_architecture_fix_v3.json', 'w') as f:\n",
    "    f.write(model.to_json())\n",
    "# Option 1: Load Weights + Architecture\n",
    "# with open('model_architecture.json', 'r') as f:\n",
    "#     new_model_1 = model_from_json(f.read())\n",
    "# new_model_1.load_weights('model_weights.h5')"
   ]
  },
  {
   "cell_type": "code",
   "execution_count": 19,
   "metadata": {},
   "outputs": [],
   "source": [
    "# Option 2: Save/Load the Entire Model\n",
    "# Creates a HDF5 file 'my_model.h5'\n",
    "model.save(workdir + '//MEYDG51K_r2_ResNet_model_fix_2080ti_v3.h5')\n",
    "\n",
    "# Deletes the existing model\n",
    "# del model  \n",
    "\n",
    "# Returns a compiled model identical to the previous one\n",
    "# model = load_model('my_model.h5')"
   ]
  },
  {
   "cell_type": "code",
   "execution_count": 20,
   "metadata": {},
   "outputs": [
    {
     "name": "stdout",
     "output_type": "stream",
     "text": [
      "163/163 [==============================] - 4s 24ms/step - loss: 0.9847 - mse: 0.9847 - mae: 0.7048\n"
     ]
    }
   ],
   "source": [
    "test_eval = model.evaluate(test_X, test_label_array, verbose=1)"
   ]
  },
  {
   "cell_type": "code",
   "execution_count": 21,
   "metadata": {},
   "outputs": [
    {
     "data": {
      "text/plain": [
       "[0.9847220182418823, 0.9847220182418823, 0.7048006057739258]"
      ]
     },
     "execution_count": 21,
     "metadata": {},
     "output_type": "execute_result"
    }
   ],
   "source": [
    "test_eval"
   ]
  },
  {
   "cell_type": "code",
   "execution_count": 22,
   "metadata": {},
   "outputs": [],
   "source": [
    "accuracy = model_train.history['mse']\n",
    "val_accuracy = model_train.history['val_mse']\n",
    "loss = model_train.history['loss']\n",
    "val_loss = model_train.history['val_loss']\n",
    "\n",
    "np_acc = np.array(accuracy)\n",
    "np_val_acc = np.array(val_accuracy)\n",
    "np_loss = np.array(loss)\n",
    "np_val_loss = np.array(val_loss)"
   ]
  },
  {
   "cell_type": "code",
   "execution_count": 23,
   "metadata": {},
   "outputs": [],
   "source": [
    "import matplotlib\n",
    "from matplotlib import pyplot as plt"
   ]
  },
  {
   "cell_type": "code",
   "execution_count": 24,
   "metadata": {},
   "outputs": [
    {
     "data": {
      "image/png": "[encoded data removed]",
      "text/plain": [
       "<Figure size 432x288 with 1 Axes>"
      ]
     },
     "metadata": {
      "needs_background": "light"
     },
     "output_type": "display_data"
    },
    {
     "data": {
      "image/png": "[encoded data removed]",
      "text/plain": [
       "<Figure size 432x288 with 1 Axes>"
      ]
     },
     "metadata": {
      "needs_background": "light"
     },
     "output_type": "display_data"
    }
   ],
   "source": [
    "# accuracy = model_train.history['acc']\n",
    "# val_accuracy = model_train.history['val_acc']\n",
    "# loss = model_train.history['loss']\n",
    "# val_loss = model_train.history['val_loss']\n",
    "epochs = range(len(accuracy))\n",
    "plt.plot(epochs, accuracy, 'bo', label='Training mse')\n",
    "plt.plot(epochs, val_accuracy, 'b', label='Validation mse')\n",
    "plt.title('Training and validation mse')\n",
    "plt.legend()\n",
    "plt.figure()\n",
    "plt.plot(epochs, loss, 'bo', label='Training loss')\n",
    "plt.plot(epochs, val_loss, 'b', label='Validation loss')\n",
    "plt.title('Training and validation loss')\n",
    "plt.legend()\n",
    "plt.show()"
   ]
  },
  {
   "cell_type": "code",
   "execution_count": 25,
   "metadata": {},
   "outputs": [],
   "source": [
    "predicted_classes = model.predict(test_X)"
   ]
  },
  {
   "cell_type": "code",
   "execution_count": 26,
   "metadata": {},
   "outputs": [],
   "source": [
    "predicted_value = predicted_classes"
   ]
  },
  {
   "cell_type": "code",
   "execution_count": 27,
   "metadata": {},
   "outputs": [],
   "source": [
    "a = pd.DataFrame(predicted_value)\n",
    "b = pd.DataFrame(test_label_array)\n",
    "c = pd.concat([a,b], axis=1)\n",
    "c.columns=[\"Predicted\",\"Test\"]"
   ]
  },
  {
   "cell_type": "code",
   "execution_count": 28,
   "metadata": {},
   "outputs": [],
   "source": [
    "c.to_csv(workdir + '//MEYDG51K_r2_ResNet_pred_obs_table.csv')"
   ]
  },
  {
   "cell_type": "code",
   "execution_count": 29,
   "metadata": {
    "scrolled": true
   },
   "outputs": [
    {
     "data": {
      "text/html": [
       "<div>\n",
       "<style scoped>\n",
       "    .dataframe tbody tr th:only-of-type {\n",
       "        vertical-align: middle;\n",
       "    }\n",
       "\n",
       "    .dataframe tbody tr th {\n",
       "        vertical-align: top;\n",
       "    }\n",
       "\n",
       "    .dataframe thead th {\n",
       "        text-align: right;\n",
       "    }\n",
       "</style>\n",
       "<table border=\"1\" class=\"dataframe\">\n",
       "  <thead>\n",
       "    <tr style=\"text-align: right;\">\n",
       "      <th></th>\n",
       "      <th>Predicted</th>\n",
       "      <th>Test</th>\n",
       "    </tr>\n",
       "  </thead>\n",
       "  <tbody>\n",
       "    <tr>\n",
       "      <th>0</th>\n",
       "      <td>-1.125813</td>\n",
       "      <td>2.238455</td>\n",
       "    </tr>\n",
       "    <tr>\n",
       "      <th>1</th>\n",
       "      <td>-5.869782</td>\n",
       "      <td>-5.247020</td>\n",
       "    </tr>\n",
       "    <tr>\n",
       "      <th>2</th>\n",
       "      <td>2.762841</td>\n",
       "      <td>3.697080</td>\n",
       "    </tr>\n",
       "    <tr>\n",
       "      <th>3</th>\n",
       "      <td>-0.623295</td>\n",
       "      <td>-2.907118</td>\n",
       "    </tr>\n",
       "    <tr>\n",
       "      <th>4</th>\n",
       "      <td>3.582215</td>\n",
       "      <td>2.840567</td>\n",
       "    </tr>\n",
       "    <tr>\n",
       "      <th>...</th>\n",
       "      <td>...</td>\n",
       "      <td>...</td>\n",
       "    </tr>\n",
       "    <tr>\n",
       "      <th>5190</th>\n",
       "      <td>1.627072</td>\n",
       "      <td>1.671591</td>\n",
       "    </tr>\n",
       "    <tr>\n",
       "      <th>5191</th>\n",
       "      <td>-2.243700</td>\n",
       "      <td>-1.002100</td>\n",
       "    </tr>\n",
       "    <tr>\n",
       "      <th>5192</th>\n",
       "      <td>2.475152</td>\n",
       "      <td>2.013122</td>\n",
       "    </tr>\n",
       "    <tr>\n",
       "      <th>5193</th>\n",
       "      <td>2.381003</td>\n",
       "      <td>2.355219</td>\n",
       "    </tr>\n",
       "    <tr>\n",
       "      <th>5194</th>\n",
       "      <td>-2.619893</td>\n",
       "      <td>-4.149969</td>\n",
       "    </tr>\n",
       "  </tbody>\n",
       "</table>\n",
       "<p>5195 rows × 2 columns</p>\n",
       "</div>"
      ],
      "text/plain": [
       "      Predicted      Test\n",
       "0     -1.125813  2.238455\n",
       "1     -5.869782 -5.247020\n",
       "2      2.762841  3.697080\n",
       "3     -0.623295 -2.907118\n",
       "4      3.582215  2.840567\n",
       "...         ...       ...\n",
       "5190   1.627072  1.671591\n",
       "5191  -2.243700 -1.002100\n",
       "5192   2.475152  2.013122\n",
       "5193   2.381003  2.355219\n",
       "5194  -2.619893 -4.149969\n",
       "\n",
       "[5195 rows x 2 columns]"
      ]
     },
     "execution_count": 29,
     "metadata": {},
     "output_type": "execute_result"
    }
   ],
   "source": [
    "c"
   ]
  },
  {
   "cell_type": "code",
   "execution_count": 30,
   "metadata": {},
   "outputs": [
    {
     "data": {
      "text/plain": [
       "(5195, 1)"
      ]
     },
     "execution_count": 30,
     "metadata": {},
     "output_type": "execute_result"
    }
   ],
   "source": [
    "predicted_value.shape"
   ]
  },
  {
   "cell_type": "code",
   "execution_count": 31,
   "metadata": {},
   "outputs": [
    {
     "data": {
      "text/plain": [
       "LinregressResult(slope=0.8772933450017351, intercept=0.28909021624213316, rvalue=0.93464261065513, pvalue=0.0, stderr=0.0046316722446752825, intercept_stderr=0.015648518341070086)"
      ]
     },
     "execution_count": 31,
     "metadata": {},
     "output_type": "execute_result"
    }
   ],
   "source": [
    "from scipy.stats import linregress\n",
    "linregress(b[0], a[0])"
   ]
  },
  {
   "cell_type": "code",
   "execution_count": 32,
   "metadata": {},
   "outputs": [
    {
     "name": "stdout",
     "output_type": "stream",
     "text": [
      "0.8731566952130893\n"
     ]
    }
   ],
   "source": [
    "from sklearn.metrics import r2_score\n",
    "r2_value = r2_score(b,a)\n",
    "print(r2_value)"
   ]
  },
  {
   "cell_type": "code",
   "execution_count": 33,
   "metadata": {},
   "outputs": [
    {
     "name": "stdout",
     "output_type": "stream",
     "text": [
      "Final rmse value is = 0.992331604532571\n"
     ]
    }
   ],
   "source": [
    "rse = ((b[0]-a[0])**2).sum()\n",
    "mse = rse / len(b)\n",
    "print(\"Final rmse value is =\",np.sqrt(mse))"
   ]
  },
  {
   "cell_type": "code",
   "execution_count": 34,
   "metadata": {},
   "outputs": [
    {
     "data": {
      "image/png": "[encoded data removed]",
      "text/plain": [
       "<Figure size 432x432 with 3 Axes>"
      ]
     },
     "metadata": {
      "needs_background": "light"
     },
     "output_type": "display_data"
    }
   ],
   "source": [
    "workdir = \"D://ResNetIC50//Result//Figure//MEYDG-51K\"\n",
    "import seaborn as sns\n",
    "\n",
    "g = sns.jointplot(x=\"Test\", y=\"Predicted\", data=c, kind='reg', color='#7C7C7C',\n",
    "                  joint_kws={'line_kws':{'color':'black'}})\n",
    "g.savefig(workdir+ '//MEYDG51K_r2_ResNet.png', dpi=300)"
   ]
  },
  {
   "cell_type": "code",
   "execution_count": null,
   "metadata": {},
   "outputs": [],
   "source": []
  },
  {
   "cell_type": "code",
   "execution_count": null,
   "metadata": {},
   "outputs": [],
   "source": []
  },
  {
   "cell_type": "code",
   "execution_count": null,
   "metadata": {},
   "outputs": [],
   "source": []
  },
  {
   "cell_type": "code",
   "execution_count": null,
   "metadata": {},
   "outputs": [],
   "source": []
  }
 ],
 "metadata": {
  "kernelspec": {
   "display_name": "Python 3",
   "language": "python",
   "name": "python3"
  },
  "language_info": {
   "codemirror_mode": {
    "name": "ipython",
    "version": 3
   },
   "file_extension": ".py",
   "mimetype": "text/x-python",
   "name": "python",
   "nbconvert_exporter": "python",
   "pygments_lexer": "ipython3",
   "version": "3.7.11"
  }
 },
 "nbformat": 4,
 "nbformat_minor": 2
}
