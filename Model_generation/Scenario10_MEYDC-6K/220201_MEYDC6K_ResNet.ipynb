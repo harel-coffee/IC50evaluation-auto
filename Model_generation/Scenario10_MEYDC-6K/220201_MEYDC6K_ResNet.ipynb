{
 "cells": [
  {
   "cell_type": "code",
   "execution_count": 1,
   "metadata": {},
   "outputs": [],
   "source": [
    "import os\n",
    "import sys\n",
    "import pandas as pd\n",
    "import numpy as np\n",
    "from sklearn import preprocessing\n",
    "import tensorflow as tf\n",
    "import random\n",
    "import matplotlib\n",
    "from matplotlib import pyplot as plt\n",
    "import statistics\n",
    "from pandas import DataFrame\n",
    "from datetime import datetime\n",
    "from tensorflow.keras.layers import *\n",
    "from tensorflow.keras.models import Model\n",
    "from tensorflow.keras.callbacks import ModelCheckpoint\n",
    "#from keras import backend as K\n",
    "#import keras.backend.tensorflow_backend as K\n",
    "from tensorflow.keras.callbacks import ModelCheckpoint, CSVLogger\n",
    "from os.path import basename\n",
    "#import seaborn as sns\n",
    "# from keras.models import load_model\n",
    "# from keras.utils.vis_utils import plot_model\n",
    "from sklearn.metrics import r2_score\n",
    "from sklearn.metrics import mean_squared_error\n",
    "from matplotlib.patches import Patch\n",
    "from matplotlib.lines import Line2D\n",
    "from scipy.stats import pearsonr\n",
    "\n",
    "# from tensorflow.keras.callbacks import ModelCheckpoint, CSVLogger\n",
    "#from tensorflow.keras.optimizers import Adam\n",
    "\n",
    "\n",
    "\n",
    "\n",
    "# config = tf.ConfigProto()\n",
    "# config.gpu_options.per_process_gpu_memory_fraction = 0.7\n",
    "# config.gpu_options.allow_growth = True\n",
    "# sess = tf.Session(config=config)"
   ]
  },
  {
   "cell_type": "code",
   "execution_count": 2,
   "metadata": {},
   "outputs": [
    {
     "name": "stdout",
     "output_type": "stream",
     "text": [
      "[name: \"/device:CPU:0\"\n",
      "device_type: \"CPU\"\n",
      "memory_limit: 268435456\n",
      "locality {\n",
      "}\n",
      "incarnation: 3239628771207651120\n",
      ", name: \"/device:GPU:0\"\n",
      "device_type: \"GPU\"\n",
      "memory_limit: 22904492544\n",
      "locality {\n",
      "  bus_id: 1\n",
      "  links {\n",
      "  }\n",
      "}\n",
      "incarnation: 17179497719961410036\n",
      "physical_device_desc: \"device: 0, name: TITAN RTX, pci bus id: 0000:01:00.0, compute capability: 7.5\"\n",
      ", name: \"/device:GPU:1\"\n",
      "device_type: \"GPU\"\n",
      "memory_limit: 22904492544\n",
      "locality {\n",
      "  bus_id: 1\n",
      "  links {\n",
      "  }\n",
      "}\n",
      "incarnation: 12081785751342387056\n",
      "physical_device_desc: \"device: 1, name: TITAN RTX, pci bus id: 0000:03:00.0, compute capability: 7.5\"\n",
      "]\n"
     ]
    }
   ],
   "source": [
    "from tensorflow.python.client import device_lib\n",
    "print(device_lib.list_local_devices())\n",
    "\n",
    "\n",
    "# 출처: https://3months.tistory.com/206 [Deep Play]"
   ]
  },
  {
   "cell_type": "code",
   "execution_count": 3,
   "metadata": {},
   "outputs": [],
   "source": [
    "workdir = \"D://ResNetIC50//Dataset//MEYDC-6K\""
   ]
  },
  {
   "cell_type": "code",
   "execution_count": 4,
   "metadata": {},
   "outputs": [],
   "source": [
    "# < Important note > [ Please download input data from https://mega.nz/#F!CeYGDKyS!uqkmWJ4E2XSGJp_C2VO2gg]\n",
    "\n",
    "dataset = np.load(workdir + \"//MEYDC6K_dataset.npz\") # input file\n",
    "ss0 = np.load(workdir + '//MEYDC6K_dataset_r0.npz') # split for training and test"
   ]
  },
  {
   "cell_type": "code",
   "execution_count": 5,
   "metadata": {},
   "outputs": [],
   "source": [
    "x = dataset['x']\n",
    "y = dataset['y']\n",
    "# y_linear = dataset['y_lnIC50']\n",
    "ss0_train = ss0['train']\n",
    "ss0_test = ss0['test']"
   ]
  },
  {
   "cell_type": "code",
   "execution_count": 6,
   "metadata": {},
   "outputs": [],
   "source": [
    "training_image_array, training_label_array = x[ss0_train], y[ss0_train]\n",
    "test_image_array, test_label_array = x[ss0_test], y[ss0_test]\n",
    "\n",
    "# # In[9]:\n",
    "# ori = training_image_array\n",
    "# bat = np.zeros((ori.shape[0],178))\n",
    "# cat = np.hstack([ori,bat])\n",
    "# training_image_array = cat\n",
    "\n",
    "# # In[8]:\n",
    "# training_image_array.shape\n",
    "\n",
    "# # In[10]:\n",
    "# ori2 = test_image_array\n",
    "# bat2 = np.zeros((ori2.shape[0],178))\n",
    "# cat2 = np.hstack([ori2,bat2])\n",
    "# test_image_array = cat2\n"
   ]
  },
  {
   "cell_type": "code",
   "execution_count": 7,
   "metadata": {},
   "outputs": [
    {
     "name": "stdout",
     "output_type": "stream",
     "text": [
      "6 27\n"
     ]
    }
   ],
   "source": [
    "# In[15]:\n",
    "ab =[]\n",
    "for i in range(100,300):\n",
    "    ab.append(len(training_image_array) % i)\n",
    "    \n",
    "print(min(ab), ab.index(min(ab)))"
   ]
  },
  {
   "cell_type": "code",
   "execution_count": 8,
   "metadata": {},
   "outputs": [
    {
     "data": {
      "text/plain": [
       "(6074, 62718)"
      ]
     },
     "execution_count": 8,
     "metadata": {},
     "output_type": "execute_result"
    }
   ],
   "source": [
    "x.shape"
   ]
  },
  {
   "cell_type": "code",
   "execution_count": 9,
   "metadata": {},
   "outputs": [
    {
     "data": {
      "text/plain": [
       "(5467, 62718)"
      ]
     },
     "execution_count": 9,
     "metadata": {},
     "output_type": "execute_result"
    }
   ],
   "source": [
    "training_image_array.shape"
   ]
  },
  {
   "cell_type": "code",
   "execution_count": 10,
   "metadata": {},
   "outputs": [],
   "source": [
    "# In[21]:\n",
    "\n",
    "num_classes = 1\n",
    "learning_rate = 0.0002\n",
    "training_epochs = 150\n",
    "batch_size = 100\n",
    "# img_rows, img_cols = 154, 154\n"
   ]
  },
  {
   "cell_type": "code",
   "execution_count": 11,
   "metadata": {},
   "outputs": [],
   "source": [
    "train_X, train_y, test_X, test_y = training_image_array, training_label_array, test_image_array, test_label_array\n",
    "\n",
    "# if K.image_data_format() == 'channels_first':\n",
    "#     train_X = train_X.reshape(train_X.shape[0], 1, img_rows, img_cols)\n",
    "#     test_X = test_X.reshape(x_test.shape[0], 1, img_rows, img_cols)\n",
    "#     input_shape = (1, img_rows, img_cols)\n",
    "# else:\n",
    "#     train_X = train_X.reshape(train_X.shape[0], img_rows, img_cols, 1)\n",
    "#     test_X = test_X.reshape(test_X.shape[0], img_rows, img_cols, 1)\n",
    "#     input_shape = (img_rows, img_cols, 1)\n"
   ]
  },
  {
   "cell_type": "code",
   "execution_count": 12,
   "metadata": {},
   "outputs": [],
   "source": [
    "train_X = train_X.reshape(train_X.shape[0], train_X.shape[1],1)\n",
    "test_X = test_X.reshape(test_X.shape[0], test_X.shape[1],1)\n",
    "#input_shape = (img_rows, img_cols, 1)"
   ]
  },
  {
   "cell_type": "code",
   "execution_count": 13,
   "metadata": {},
   "outputs": [
    {
     "name": "stdout",
     "output_type": "stream",
     "text": [
      "(5467, 62718, 1) (5467,) (607, 62718, 1) (607,)\n"
     ]
    }
   ],
   "source": [
    "print(train_X.shape, train_y.shape, test_X.shape, test_y.shape)"
   ]
  },
  {
   "cell_type": "code",
   "execution_count": 14,
   "metadata": {},
   "outputs": [
    {
     "name": "stdout",
     "output_type": "stream",
     "text": [
      "train_X shape: (5467, 62718, 1)\n",
      "5467 train samples\n",
      "607 test samples\n"
     ]
    }
   ],
   "source": [
    "train_X = train_X.astype('float32')\n",
    "test_X = test_X.astype('float32')\n",
    "# train_X /= 255\n",
    "# test_X /= 255\n",
    "print('train_X shape:', train_X.shape)\n",
    "print(train_X.shape[0], 'train samples')\n",
    "print(test_X.shape[0], 'test samples')"
   ]
  },
  {
   "cell_type": "code",
   "execution_count": 15,
   "metadata": {},
   "outputs": [
    {
     "data": {
      "text/plain": [
       "(5467, 62718)"
      ]
     },
     "execution_count": 15,
     "metadata": {},
     "output_type": "execute_result"
    }
   ],
   "source": [
    "training_image_array.shape"
   ]
  },
  {
   "cell_type": "code",
   "execution_count": 16,
   "metadata": {
    "scrolled": true
   },
   "outputs": [
    {
     "name": "stdout",
     "output_type": "stream",
     "text": [
      "Model: \"Test_v2_DNN20190327\"\n",
      "__________________________________________________________________________________________________\n",
      "Layer (type)                    Output Shape         Param #     Connected to                     \n",
      "==================================================================================================\n",
      "inputs (InputLayer)             [(None, 62718, 1)]   0                                            \n",
      "__________________________________________________________________________________________________\n",
      "conv1d (Conv1D)                 (None, 31359, 16)    64          inputs[0][0]                     \n",
      "__________________________________________________________________________________________________\n",
      "max_pooling1d (MaxPooling1D)    (None, 6271, 16)     0           conv1d[0][0]                     \n",
      "__________________________________________________________________________________________________\n",
      "batch_normalization (BatchNorma (None, 6271, 16)     64          max_pooling1d[0][0]              \n",
      "__________________________________________________________________________________________________\n",
      "activation (Activation)         (None, 6271, 16)     0           batch_normalization[0][0]        \n",
      "__________________________________________________________________________________________________\n",
      "conv1d_1 (Conv1D)               (None, 6271, 16)     784         activation[0][0]                 \n",
      "__________________________________________________________________________________________________\n",
      "batch_normalization_1 (BatchNor (None, 6271, 16)     64          conv1d_1[0][0]                   \n",
      "__________________________________________________________________________________________________\n",
      "activation_1 (Activation)       (None, 6271, 16)     0           batch_normalization_1[0][0]      \n",
      "__________________________________________________________________________________________________\n",
      "conv1d_2 (Conv1D)               (None, 6271, 16)     784         activation_1[0][0]               \n",
      "__________________________________________________________________________________________________\n",
      "batch_normalization_2 (BatchNor (None, 6271, 16)     64          conv1d_2[0][0]                   \n",
      "__________________________________________________________________________________________________\n",
      "activation_2 (Activation)       (None, 6271, 16)     0           batch_normalization_2[0][0]      \n",
      "__________________________________________________________________________________________________\n",
      "conv1d_3 (Conv1D)               (None, 6271, 16)     784         activation_2[0][0]               \n",
      "__________________________________________________________________________________________________\n",
      "batch_normalization_3 (BatchNor (None, 6271, 16)     64          conv1d_3[0][0]                   \n",
      "__________________________________________________________________________________________________\n",
      "add (Add)                       (None, 6271, 16)     0           batch_normalization_3[0][0]      \n",
      "                                                                 batch_normalization_1[0][0]      \n",
      "__________________________________________________________________________________________________\n",
      "activation_3 (Activation)       (None, 6271, 16)     0           add[0][0]                        \n",
      "__________________________________________________________________________________________________\n",
      "conv1d_4 (Conv1D)               (None, 6271, 16)     784         activation_3[0][0]               \n",
      "__________________________________________________________________________________________________\n",
      "batch_normalization_4 (BatchNor (None, 6271, 16)     64          conv1d_4[0][0]                   \n",
      "__________________________________________________________________________________________________\n",
      "activation_4 (Activation)       (None, 6271, 16)     0           batch_normalization_4[0][0]      \n",
      "__________________________________________________________________________________________________\n",
      "conv1d_5 (Conv1D)               (None, 6271, 16)     784         activation_4[0][0]               \n",
      "__________________________________________________________________________________________________\n",
      "batch_normalization_5 (BatchNor (None, 6271, 16)     64          conv1d_5[0][0]                   \n",
      "__________________________________________________________________________________________________\n",
      "activation_5 (Activation)       (None, 6271, 16)     0           batch_normalization_5[0][0]      \n",
      "__________________________________________________________________________________________________\n",
      "conv1d_6 (Conv1D)               (None, 6271, 16)     784         activation_5[0][0]               \n",
      "__________________________________________________________________________________________________\n",
      "batch_normalization_6 (BatchNor (None, 6271, 16)     64          conv1d_6[0][0]                   \n",
      "__________________________________________________________________________________________________\n",
      "activation_6 (Activation)       (None, 6271, 16)     0           batch_normalization_6[0][0]      \n",
      "__________________________________________________________________________________________________\n",
      "conv1d_7 (Conv1D)               (None, 6271, 16)     784         activation_6[0][0]               \n",
      "__________________________________________________________________________________________________\n",
      "batch_normalization_7 (BatchNor (None, 6271, 16)     64          conv1d_7[0][0]                   \n",
      "__________________________________________________________________________________________________\n",
      "add_1 (Add)                     (None, 6271, 16)     0           batch_normalization_7[0][0]      \n",
      "                                                                 batch_normalization_4[0][0]      \n",
      "__________________________________________________________________________________________________\n",
      "activation_7 (Activation)       (None, 6271, 16)     0           add_1[0][0]                      \n",
      "__________________________________________________________________________________________________\n",
      "conv1d_8 (Conv1D)               (None, 3136, 32)     1568        activation_7[0][0]               \n",
      "__________________________________________________________________________________________________\n",
      "batch_normalization_8 (BatchNor (None, 3136, 32)     128         conv1d_8[0][0]                   \n",
      "__________________________________________________________________________________________________\n",
      "activation_8 (Activation)       (None, 3136, 32)     0           batch_normalization_8[0][0]      \n",
      "__________________________________________________________________________________________________\n",
      "conv1d_9 (Conv1D)               (None, 3136, 32)     3104        activation_8[0][0]               \n",
      "__________________________________________________________________________________________________\n",
      "conv1d_10 (Conv1D)              (None, 3136, 32)     3104        conv1d_9[0][0]                   \n",
      "__________________________________________________________________________________________________\n",
      "batch_normalization_9 (BatchNor (None, 3136, 32)     128         conv1d_10[0][0]                  \n",
      "__________________________________________________________________________________________________\n",
      "add_2 (Add)                     (None, 3136, 32)     0           batch_normalization_9[0][0]      \n",
      "                                                                 batch_normalization_8[0][0]      \n",
      "__________________________________________________________________________________________________\n",
      "activation_9 (Activation)       (None, 3136, 32)     0           add_2[0][0]                      \n",
      "__________________________________________________________________________________________________\n",
      "conv1d_11 (Conv1D)              (None, 3136, 32)     3104        activation_9[0][0]               \n",
      "__________________________________________________________________________________________________\n",
      "batch_normalization_10 (BatchNo (None, 3136, 32)     128         conv1d_11[0][0]                  \n",
      "__________________________________________________________________________________________________\n",
      "activation_10 (Activation)      (None, 3136, 32)     0           batch_normalization_10[0][0]     \n",
      "__________________________________________________________________________________________________\n",
      "conv1d_12 (Conv1D)              (None, 3136, 32)     3104        activation_10[0][0]              \n",
      "__________________________________________________________________________________________________\n",
      "batch_normalization_11 (BatchNo (None, 3136, 32)     128         conv1d_12[0][0]                  \n",
      "__________________________________________________________________________________________________\n",
      "add_3 (Add)                     (None, 3136, 32)     0           batch_normalization_11[0][0]     \n",
      "                                                                 batch_normalization_10[0][0]     \n",
      "__________________________________________________________________________________________________\n",
      "activation_11 (Activation)      (None, 3136, 32)     0           add_3[0][0]                      \n",
      "__________________________________________________________________________________________________\n",
      "conv1d_13 (Conv1D)              (None, 3136, 32)     3104        activation_11[0][0]              \n",
      "__________________________________________________________________________________________________\n",
      "batch_normalization_12 (BatchNo (None, 3136, 32)     128         conv1d_13[0][0]                  \n",
      "__________________________________________________________________________________________________\n",
      "activation_12 (Activation)      (None, 3136, 32)     0           batch_normalization_12[0][0]     \n",
      "__________________________________________________________________________________________________\n",
      "conv1d_14 (Conv1D)              (None, 3136, 32)     3104        activation_12[0][0]              \n",
      "__________________________________________________________________________________________________\n",
      "batch_normalization_13 (BatchNo (None, 3136, 32)     128         conv1d_14[0][0]                  \n",
      "__________________________________________________________________________________________________\n",
      "add_4 (Add)                     (None, 3136, 32)     0           batch_normalization_13[0][0]     \n",
      "                                                                 batch_normalization_12[0][0]     \n",
      "__________________________________________________________________________________________________\n",
      "activation_13 (Activation)      (None, 3136, 32)     0           add_4[0][0]                      \n",
      "__________________________________________________________________________________________________\n",
      "conv1d_15 (Conv1D)              (None, 1568, 64)     6208        activation_13[0][0]              \n",
      "__________________________________________________________________________________________________\n",
      "batch_normalization_14 (BatchNo (None, 1568, 64)     256         conv1d_15[0][0]                  \n",
      "__________________________________________________________________________________________________\n",
      "activation_14 (Activation)      (None, 1568, 64)     0           batch_normalization_14[0][0]     \n",
      "__________________________________________________________________________________________________\n",
      "conv1d_16 (Conv1D)              (None, 1568, 64)     12352       activation_14[0][0]              \n",
      "__________________________________________________________________________________________________\n",
      "conv1d_17 (Conv1D)              (None, 1568, 64)     12352       conv1d_16[0][0]                  \n",
      "__________________________________________________________________________________________________\n",
      "batch_normalization_15 (BatchNo (None, 1568, 64)     256         conv1d_17[0][0]                  \n",
      "__________________________________________________________________________________________________\n",
      "add_5 (Add)                     (None, 1568, 64)     0           batch_normalization_15[0][0]     \n",
      "                                                                 batch_normalization_14[0][0]     \n",
      "__________________________________________________________________________________________________\n",
      "activation_15 (Activation)      (None, 1568, 64)     0           add_5[0][0]                      \n",
      "__________________________________________________________________________________________________\n",
      "conv1d_18 (Conv1D)              (None, 1568, 64)     12352       activation_15[0][0]              \n",
      "__________________________________________________________________________________________________\n",
      "batch_normalization_16 (BatchNo (None, 1568, 64)     256         conv1d_18[0][0]                  \n",
      "__________________________________________________________________________________________________\n",
      "activation_16 (Activation)      (None, 1568, 64)     0           batch_normalization_16[0][0]     \n",
      "__________________________________________________________________________________________________\n",
      "conv1d_19 (Conv1D)              (None, 1568, 64)     12352       activation_16[0][0]              \n",
      "__________________________________________________________________________________________________\n",
      "batch_normalization_17 (BatchNo (None, 1568, 64)     256         conv1d_19[0][0]                  \n",
      "__________________________________________________________________________________________________\n",
      "add_6 (Add)                     (None, 1568, 64)     0           batch_normalization_17[0][0]     \n",
      "                                                                 batch_normalization_16[0][0]     \n",
      "__________________________________________________________________________________________________\n",
      "activation_17 (Activation)      (None, 1568, 64)     0           add_6[0][0]                      \n",
      "__________________________________________________________________________________________________\n",
      "conv1d_20 (Conv1D)              (None, 1568, 64)     12352       activation_17[0][0]              \n",
      "__________________________________________________________________________________________________\n",
      "batch_normalization_18 (BatchNo (None, 1568, 64)     256         conv1d_20[0][0]                  \n",
      "__________________________________________________________________________________________________\n",
      "activation_18 (Activation)      (None, 1568, 64)     0           batch_normalization_18[0][0]     \n",
      "__________________________________________________________________________________________________\n",
      "conv1d_21 (Conv1D)              (None, 1568, 64)     12352       activation_18[0][0]              \n",
      "__________________________________________________________________________________________________\n",
      "batch_normalization_19 (BatchNo (None, 1568, 64)     256         conv1d_21[0][0]                  \n",
      "__________________________________________________________________________________________________\n",
      "add_7 (Add)                     (None, 1568, 64)     0           batch_normalization_19[0][0]     \n",
      "                                                                 batch_normalization_18[0][0]     \n",
      "__________________________________________________________________________________________________\n",
      "activation_19 (Activation)      (None, 1568, 64)     0           add_7[0][0]                      \n",
      "__________________________________________________________________________________________________\n",
      "flatten (Flatten)               (None, 100352)       0           activation_19[0][0]              \n",
      "__________________________________________________________________________________________________\n",
      "dense1 (Dense)                  (None, 2048)         205522944   flatten[0][0]                    \n",
      "__________________________________________________________________________________________________\n",
      "batch_normalization_20 (BatchNo (None, 2048)         8192        dense1[0][0]                     \n",
      "__________________________________________________________________________________________________\n",
      "dropout1 (Dropout)              (None, 2048)         0           batch_normalization_20[0][0]     \n",
      "__________________________________________________________________________________________________\n",
      "activation_20 (Activation)      (None, 2048)         0           dropout1[0][0]                   \n",
      "__________________________________________________________________________________________________\n",
      "dense5 (Dense)                  (None, 1024)         2098176     activation_20[0][0]              \n",
      "__________________________________________________________________________________________________\n",
      "batch_normalization_21 (BatchNo (None, 1024)         4096        dense5[0][0]                     \n",
      "__________________________________________________________________________________________________\n",
      "dropout5 (Dropout)              (None, 1024)         0           batch_normalization_21[0][0]     \n",
      "__________________________________________________________________________________________________\n",
      "activation_21 (Activation)      (None, 1024)         0           dropout5[0][0]                   \n",
      "__________________________________________________________________________________________________\n",
      "dense6 (Dense)                  (None, 512)          524800      activation_21[0][0]              \n",
      "__________________________________________________________________________________________________\n",
      "batch_normalization_22 (BatchNo (None, 512)          2048        dense6[0][0]                     \n",
      "__________________________________________________________________________________________________\n",
      "dropout6 (Dropout)              (None, 512)          0           batch_normalization_22[0][0]     \n",
      "__________________________________________________________________________________________________\n",
      "activation_22 (Activation)      (None, 512)          0           dropout6[0][0]                   \n",
      "__________________________________________________________________________________________________\n",
      "dense7 (Dense)                  (None, 1024)         525312      activation_22[0][0]              \n",
      "__________________________________________________________________________________________________\n",
      "batch_normalization_23 (BatchNo (None, 1024)         4096        dense7[0][0]                     \n",
      "__________________________________________________________________________________________________\n",
      "dropout7 (Dropout)              (None, 1024)         0           batch_normalization_23[0][0]     \n",
      "__________________________________________________________________________________________________\n",
      "add_8 (Add)                     (None, 1024)         0           dropout7[0][0]                   \n",
      "                                                                 batch_normalization_21[0][0]     \n",
      "__________________________________________________________________________________________________\n",
      "activation_23 (Activation)      (None, 1024)         0           add_8[0][0]                      \n",
      "__________________________________________________________________________________________________\n",
      "dense8 (Dense)                  (None, 512)          524800      activation_23[0][0]              \n",
      "__________________________________________________________________________________________________\n",
      "batch_normalization_24 (BatchNo (None, 512)          2048        dense8[0][0]                     \n",
      "__________________________________________________________________________________________________\n",
      "dropout8 (Dropout)              (None, 512)          0           batch_normalization_24[0][0]     \n",
      "__________________________________________________________________________________________________\n",
      "activation_24 (Activation)      (None, 512)          0           dropout8[0][0]                   \n",
      "__________________________________________________________________________________________________\n",
      "dense9 (Dense)                  (None, 256)          131328      activation_24[0][0]              \n",
      "__________________________________________________________________________________________________\n",
      "batch_normalization_25 (BatchNo (None, 256)          1024        dense9[0][0]                     \n",
      "__________________________________________________________________________________________________\n",
      "dropout9 (Dropout)              (None, 256)          0           batch_normalization_25[0][0]     \n",
      "__________________________________________________________________________________________________\n",
      "activation_25 (Activation)      (None, 256)          0           dropout9[0][0]                   \n",
      "__________________________________________________________________________________________________\n",
      "dense10 (Dense)                 (None, 128)          32896       activation_25[0][0]              \n",
      "__________________________________________________________________________________________________\n",
      "batch_normalization_26 (BatchNo (None, 128)          512         dense10[0][0]                    \n",
      "__________________________________________________________________________________________________\n",
      "dropout10 (Dropout)             (None, 128)          0           batch_normalization_26[0][0]     \n",
      "__________________________________________________________________________________________________\n",
      "activation_26 (Activation)      (None, 128)          0           dropout10[0][0]                  \n",
      "__________________________________________________________________________________________________\n",
      "predictions (Dense)             (None, 1)            129         activation_26[0][0]              \n",
      "==================================================================================================\n",
      "Total params: 209,491,281\n",
      "Trainable params: 209,478,865\n",
      "Non-trainable params: 12,416\n",
      "__________________________________________________________________________________________________\n"
     ]
    }
   ],
   "source": [
    "# In[10]:\n",
    "with tf.device('/GPU:0'):\n",
    "    inputs = Input(shape=(train_X.shape[1],1),name='inputs')\n",
    "\n",
    "    x = Conv1D(16, kernel_size=3, strides=2, padding=\"same\")(inputs)\n",
    "    x = MaxPooling1D(pool_size=5)(x)\n",
    "    x = BatchNormalization()(x)\n",
    "#     y = x\n",
    "    x = Activation('tanh')(x)\n",
    "\n",
    "    x = Conv1D(16, kernel_size=3, strides=1, padding=\"same\")(x)\n",
    "#     x = MaxPooling1D(pool_size=5)(x)\n",
    "    x = BatchNormalization()(x)\n",
    "    y = x\n",
    "    x = Activation('relu')(x)\n",
    "\n",
    "    x = Conv1D(16, kernel_size=3, strides=1, padding=\"same\")(x)\n",
    "#     x = MaxPooling1D(pool_size=5)(x)\n",
    "    x = BatchNormalization()(x)\n",
    "    x = Activation('relu')(x)\n",
    "\n",
    "    x = Conv1D(16, kernel_size=3, strides=1, padding=\"same\")(x)\n",
    "#     x = MaxPooling1D(pool_size=5)(x)\n",
    "    x = BatchNormalization()(x)\n",
    "    x = tf.keras.layers.add([x,y])\n",
    "    x = Activation('relu')(x)\n",
    "\n",
    "    \n",
    "    x = Conv1D(16, kernel_size=3, strides=1, padding=\"same\")(x)\n",
    "#     x = MaxPooling1D(pool_size=5)(x)\n",
    "    x = BatchNormalization()(x)\n",
    "    y = x\n",
    "    x = Activation('relu')(x)\n",
    "    \n",
    "    \n",
    "    x = Conv1D(16, kernel_size=3, strides=1, padding=\"same\")(x)\n",
    "#     x = MaxPooling1D(pool_size=5)(x)\n",
    "    x = BatchNormalization()(x)\n",
    "    x = Activation('relu')(x)\n",
    "\n",
    "    x = Conv1D(16, kernel_size=3, strides=1, padding=\"same\")(x)\n",
    "#     x = MaxPooling1D(pool_size=5)(x)\n",
    "    x = BatchNormalization()(x)\n",
    "    x = Activation('relu')(x)\n",
    "\n",
    "    \n",
    "    x = Conv1D(16, kernel_size=3, strides=1, padding=\"same\")(x)\n",
    "#     x = MaxPooling1D(pool_size=5)(x)\n",
    "    x = BatchNormalization()(x)\n",
    "    x = tf.keras.layers.add([x,y])\n",
    "    x = Activation('relu')(x)\n",
    "    \n",
    "    x = Conv1D(32, kernel_size=3, strides=2, padding=\"same\")(x)\n",
    "#     x = MaxPooling1D(pool_size=5)(x)\n",
    "    x = BatchNormalization()(x)\n",
    "    y = x\n",
    "    x = Activation('relu')(x)\n",
    "\n",
    "    x = Conv1D(32, kernel_size=3, strides=1, padding=\"same\")(x)\n",
    "#     x = MaxPooling1D(pool_size=5)(x)\n",
    "#     x = BatchNormalization()(x)\n",
    "        \n",
    "    x = Conv1D(32, kernel_size=3, strides=1, padding=\"same\")(x)\n",
    "#     x = MaxPooling1D(pool_size=5)(x)\n",
    "    x = BatchNormalization()(x)\n",
    "    x = tf.keras.layers.add([x,y])\n",
    "    x = Activation('relu')(x)\n",
    "    \n",
    "        \n",
    "    x = Conv1D(32, kernel_size=3, strides=1, padding=\"same\")(x)\n",
    "#     x = MaxPooling1D(pool_size=5)(x)\n",
    "    x = BatchNormalization()(x)\n",
    "    y = x\n",
    "    x = Activation('relu')(x)\n",
    "\n",
    "    x = Conv1D(32, kernel_size=3, strides=1, padding=\"same\")(x)\n",
    "#     x = MaxPooling1D(pool_size=5)(x)\n",
    "    x = BatchNormalization()(x)\n",
    "    x = tf.keras.layers.add([x,y])\n",
    "    x = Activation('relu')(x)\n",
    "\n",
    "    x = Conv1D(32, kernel_size=3, strides=1, padding=\"same\")(x)\n",
    "#     x = MaxPooling1D(pool_size=5)(x)\n",
    "    x = BatchNormalization()(x)\n",
    "    y = x\n",
    "    x = Activation('relu')(x)\n",
    "\n",
    "    x = Conv1D(32, kernel_size=3, strides=1, padding=\"same\")(x)\n",
    "#     x = MaxPooling1D(pool_size=5)(x)\n",
    "    x = BatchNormalization()(x)\n",
    "    x = tf.keras.layers.add([x,y])\n",
    "    x = Activation('relu')(x)\n",
    "\n",
    "    x = Conv1D(64, kernel_size=3, strides=2, padding=\"same\")(x)\n",
    "#     x = MaxPooling1D(pool_size=5)(x)\n",
    "    x = BatchNormalization()(x)\n",
    "    y = x\n",
    "    x = Activation('relu')(x)\n",
    "\n",
    "    x = Conv1D(64, kernel_size=3, strides=1, padding=\"same\")(x)\n",
    "#     x = MaxPooling1D(pool_size=5)(x)\n",
    "#     x = BatchNormalization()(x)\n",
    "        \n",
    "    x = Conv1D(64, kernel_size=3, strides=1, padding=\"same\")(x)\n",
    "#     x = MaxPooling1D(pool_size=5)(x)\n",
    "    x = BatchNormalization()(x)\n",
    "    x = tf.keras.layers.add([x,y])\n",
    "    x = Activation('relu')(x)\n",
    "    \n",
    "        \n",
    "    x = Conv1D(64, kernel_size=3, strides=1, padding=\"same\")(x)\n",
    "#     x = MaxPooling1D(pool_size=5)(x)\n",
    "    x = BatchNormalization()(x)\n",
    "    y = x\n",
    "    x = Activation('relu')(x)\n",
    "\n",
    "    x = Conv1D(64, kernel_size=3, strides=1, padding=\"same\")(x)\n",
    "#     x = MaxPooling1D(pool_size=5)(x)\n",
    "    x = BatchNormalization()(x)\n",
    "    x = tf.keras.layers.add([x,y])\n",
    "    x = Activation('relu')(x)\n",
    "\n",
    "    x = Conv1D(64, kernel_size=3, strides=1, padding=\"same\")(x)\n",
    "#     x = MaxPooling1D(pool_size=5)(x)\n",
    "    x = BatchNormalization()(x)\n",
    "    y = x\n",
    "    x = Activation('relu')(x)\n",
    "\n",
    "    x = Conv1D(64, kernel_size=3, strides=1, padding=\"same\")(x)\n",
    "#     x = MaxPooling1D(pool_size=5)(x)\n",
    "    x = BatchNormalization()(x)\n",
    "    x = tf.keras.layers.add([x,y])\n",
    "    x = Activation('relu')(x)\n",
    "\n",
    "#     x = AveragePooling1D(pool_size=8)(x)\n",
    "    x = Flatten()(x)\n",
    "    x = Dense(units=2048, name='dense1'  ) (x)\n",
    "    x = BatchNormalization()(x)\n",
    "    x = Dropout(0.1, name='dropout1') (x)\n",
    "    x = Activation('relu')(x)\n",
    "\n",
    "#    x = Reshape((300,1))(x)\n",
    "\n",
    "#    x = Conv1D(30, kernel_size=150, strides=1, activation = 'relu')(x)\n",
    "#    x = MaxPooling1D(pool_size=2)(x)\n",
    "#    x = BatchNormalization()(x)\n",
    "\n",
    "    x = Dense(units=1024, name='dense5'  ) (x)\n",
    "    x = BatchNormalization()(x)\n",
    "    y = x\n",
    "    x = Dropout(0.1, name='dropout5') (x)\n",
    "    x = Activation('relu')(x)\n",
    "\n",
    "    x = Dense(units=512, name='dense6'  ) (x)\n",
    "    x = BatchNormalization()(x)\n",
    "    x = Dropout(0.1, name='dropout6') (x)\n",
    "    x = Activation('relu')(x)\n",
    "\n",
    "    x = Dense(units=1024, name='dense7'  ) (x)\n",
    "    x = BatchNormalization()(x)\n",
    "    x = Dropout(0.1, name='dropout7') (x)\n",
    "    x = tf.keras.layers.add([x,y])\n",
    "    x = Activation('relu')(x)\n",
    "    \n",
    "    x = Dense(units=512, name='dense8'  ) (x)\n",
    "    x = BatchNormalization()(x)\n",
    "    x = Dropout(0.1, name='dropout8') (x)\n",
    "    x = Activation('relu')(x)\n",
    "    \n",
    "    x = Dense(units=256, name='dense9'  ) (x)\n",
    "    x = BatchNormalization()(x)\n",
    "    x = Dropout(0.1, name='dropout9') (x)\n",
    "    x = Activation('relu')(x)\n",
    "\n",
    "    x = Dense(units=128, name='dense10'  ) (x)\n",
    "    x = BatchNormalization()(x)\n",
    "    y = x\n",
    "    x = Dropout(0.1, name='dropout10') (x)\n",
    "    x = Activation('relu')(x)\n",
    "\n",
    "\n",
    "    predictions = Dense(1, activation='linear', name='predictions', kernel_initializer='he_normal')(x)\n",
    "#     predictions = Dense(1, activation='linear', name='predictions')(x)\n",
    "\n",
    "    \n",
    "\n",
    "    model = Model(inputs=inputs, outputs=predictions, name='Test_v2_DNN20190327')\n",
    "    model.compile(loss=tf.keras.losses.mean_squared_error,\n",
    "                  optimizer=tf.keras.optimizers.Adam(learning_rate),\n",
    "                  metrics=['mse','mae'])\n",
    "\n",
    "\n",
    "    model.summary()\n"
   ]
  },
  {
   "cell_type": "code",
   "execution_count": 17,
   "metadata": {
    "scrolled": true
   },
   "outputs": [
    {
     "name": "stdout",
     "output_type": "stream",
     "text": [
      "StartTime : 2022-02-04 03:57:13.981253\n",
      "Epoch 1/150\n",
      "55/55 [==============================] - 17s 213ms/step - loss: 5.7067 - mse: 5.7067 - mae: 2.0618 - val_loss: 5.9258 - val_mse: 5.9258 - val_mae: 2.2893\n",
      "Epoch 2/150\n",
      "55/55 [==============================] - 11s 199ms/step - loss: 2.1277 - mse: 2.1277 - mae: 1.1064 - val_loss: 6.3415 - val_mse: 6.3415 - val_mae: 2.3714\n",
      "Epoch 3/150\n",
      "55/55 [==============================] - 11s 199ms/step - loss: 1.4577 - mse: 1.4577 - mae: 0.8729 - val_loss: 4.7493 - val_mse: 4.7493 - val_mae: 2.0272\n",
      "Epoch 4/150\n",
      "55/55 [==============================] - 11s 199ms/step - loss: 1.2411 - mse: 1.2411 - mae: 0.7993 - val_loss: 3.3627 - val_mse: 3.3627 - val_mae: 1.6462\n",
      "Epoch 5/150\n",
      "55/55 [==============================] - 11s 200ms/step - loss: 1.0723 - mse: 1.0723 - mae: 0.7302 - val_loss: 1.8467 - val_mse: 1.8467 - val_mae: 1.1347\n",
      "Epoch 6/150\n",
      "55/55 [==============================] - 11s 200ms/step - loss: 0.9397 - mse: 0.9397 - mae: 0.6853 - val_loss: 1.1787 - val_mse: 1.1787 - val_mae: 0.8317\n",
      "Epoch 7/150\n",
      "55/55 [==============================] - 11s 199ms/step - loss: 0.8420 - mse: 0.8420 - mae: 0.6544 - val_loss: 0.9877 - val_mse: 0.9877 - val_mae: 0.6932\n",
      "Epoch 8/150\n",
      "55/55 [==============================] - 11s 199ms/step - loss: 0.7056 - mse: 0.7056 - mae: 0.5960 - val_loss: 1.1383 - val_mse: 1.1383 - val_mae: 0.6941\n",
      "Epoch 9/150\n",
      "55/55 [==============================] - 11s 199ms/step - loss: 0.6655 - mse: 0.6655 - mae: 0.5858 - val_loss: 0.9805 - val_mse: 0.9805 - val_mae: 0.6318\n",
      "Epoch 10/150\n",
      "55/55 [==============================] - 11s 199ms/step - loss: 0.5810 - mse: 0.5810 - mae: 0.5476 - val_loss: 0.9200 - val_mse: 0.9200 - val_mae: 0.6038\n",
      "Epoch 11/150\n",
      "55/55 [==============================] - 11s 200ms/step - loss: 0.5519 - mse: 0.5519 - mae: 0.5360 - val_loss: 0.8806 - val_mse: 0.8806 - val_mae: 0.5814\n",
      "Epoch 12/150\n",
      "55/55 [==============================] - 11s 200ms/step - loss: 0.5615 - mse: 0.5615 - mae: 0.5403 - val_loss: 0.9242 - val_mse: 0.9242 - val_mae: 0.6089\n",
      "Epoch 13/150\n",
      "55/55 [==============================] - 11s 201ms/step - loss: 0.5421 - mse: 0.5421 - mae: 0.5285 - val_loss: 1.0035 - val_mse: 1.0035 - val_mae: 0.6135\n",
      "Epoch 14/150\n",
      "55/55 [==============================] - 11s 200ms/step - loss: 0.4651 - mse: 0.4651 - mae: 0.4922 - val_loss: 0.9044 - val_mse: 0.9044 - val_mae: 0.5934\n",
      "Epoch 15/150\n",
      "55/55 [==============================] - 11s 200ms/step - loss: 0.4279 - mse: 0.4279 - mae: 0.4798 - val_loss: 0.9011 - val_mse: 0.9011 - val_mae: 0.5545\n",
      "Epoch 16/150\n",
      "55/55 [==============================] - 11s 201ms/step - loss: 0.4330 - mse: 0.4330 - mae: 0.4876 - val_loss: 0.8586 - val_mse: 0.8586 - val_mae: 0.5374\n",
      "Epoch 17/150\n",
      "55/55 [==============================] - 11s 201ms/step - loss: 0.3449 - mse: 0.3449 - mae: 0.4343 - val_loss: 0.8030 - val_mse: 0.8030 - val_mae: 0.5148\n",
      "Epoch 18/150\n",
      "55/55 [==============================] - 11s 201ms/step - loss: 0.3577 - mse: 0.3577 - mae: 0.4414 - val_loss: 0.8324 - val_mse: 0.8324 - val_mae: 0.5233\n",
      "Epoch 19/150\n",
      "55/55 [==============================] - 11s 201ms/step - loss: 0.3841 - mse: 0.3841 - mae: 0.4524 - val_loss: 0.8214 - val_mse: 0.8214 - val_mae: 0.5290\n",
      "Epoch 20/150\n",
      "55/55 [==============================] - 11s 200ms/step - loss: 0.3655 - mse: 0.3655 - mae: 0.4469 - val_loss: 0.8032 - val_mse: 0.8032 - val_mae: 0.5130\n",
      "Epoch 21/150\n",
      "55/55 [==============================] - 11s 201ms/step - loss: 0.3102 - mse: 0.3102 - mae: 0.4150 - val_loss: 0.8087 - val_mse: 0.8087 - val_mae: 0.5138\n",
      "Epoch 22/150\n",
      "55/55 [==============================] - 11s 201ms/step - loss: 0.2995 - mse: 0.2995 - mae: 0.4032 - val_loss: 0.8242 - val_mse: 0.8242 - val_mae: 0.5142\n",
      "Epoch 23/150\n",
      "55/55 [==============================] - 11s 203ms/step - loss: 0.2991 - mse: 0.2991 - mae: 0.4041 - val_loss: 0.8621 - val_mse: 0.8621 - val_mae: 0.5255\n",
      "Epoch 24/150\n",
      "55/55 [==============================] - 11s 203ms/step - loss: 0.2664 - mse: 0.2664 - mae: 0.3883 - val_loss: 0.8241 - val_mse: 0.8241 - val_mae: 0.5096\n",
      "Epoch 25/150\n",
      "55/55 [==============================] - 11s 204ms/step - loss: 0.2501 - mse: 0.2501 - mae: 0.3720 - val_loss: 0.8371 - val_mse: 0.8371 - val_mae: 0.5048\n",
      "Epoch 26/150\n",
      "55/55 [==============================] - 11s 204ms/step - loss: 0.2474 - mse: 0.2474 - mae: 0.3718 - val_loss: 0.8420 - val_mse: 0.8420 - val_mae: 0.5068\n",
      "Epoch 27/150\n",
      "55/55 [==============================] - 11s 204ms/step - loss: 0.2475 - mse: 0.2475 - mae: 0.3754 - val_loss: 0.7952 - val_mse: 0.7952 - val_mae: 0.4905\n",
      "Epoch 28/150\n",
      "55/55 [==============================] - 11s 204ms/step - loss: 0.2506 - mse: 0.2506 - mae: 0.3682 - val_loss: 0.7884 - val_mse: 0.7884 - val_mae: 0.4911\n",
      "Epoch 29/150\n",
      "55/55 [==============================] - 11s 204ms/step - loss: 0.2266 - mse: 0.2266 - mae: 0.3526 - val_loss: 0.7950 - val_mse: 0.7950 - val_mae: 0.4861\n",
      "Epoch 30/150\n",
      "55/55 [==============================] - 11s 201ms/step - loss: 0.2265 - mse: 0.2265 - mae: 0.3523 - val_loss: 0.7738 - val_mse: 0.7738 - val_mae: 0.4771\n",
      "Epoch 31/150\n",
      "55/55 [==============================] - 11s 200ms/step - loss: 0.2062 - mse: 0.2062 - mae: 0.3419 - val_loss: 0.7604 - val_mse: 0.7604 - val_mae: 0.4584\n",
      "Epoch 32/150\n",
      "55/55 [==============================] - 11s 201ms/step - loss: 0.2560 - mse: 0.2560 - mae: 0.3731 - val_loss: 0.7404 - val_mse: 0.7404 - val_mae: 0.4600\n",
      "Epoch 33/150\n",
      "55/55 [==============================] - 11s 201ms/step - loss: 0.2200 - mse: 0.2200 - mae: 0.3496 - val_loss: 0.7446 - val_mse: 0.7446 - val_mae: 0.4626\n",
      "Epoch 34/150\n",
      "55/55 [==============================] - 11s 201ms/step - loss: 0.2335 - mse: 0.2335 - mae: 0.3531 - val_loss: 0.7916 - val_mse: 0.7916 - val_mae: 0.4738\n",
      "Epoch 35/150\n",
      "55/55 [==============================] - 11s 201ms/step - loss: 0.2594 - mse: 0.2594 - mae: 0.3771 - val_loss: 0.8403 - val_mse: 0.8403 - val_mae: 0.5009\n",
      "Epoch 36/150\n",
      "55/55 [==============================] - 11s 200ms/step - loss: 0.2418 - mse: 0.2418 - mae: 0.3606 - val_loss: 0.7788 - val_mse: 0.7788 - val_mae: 0.4751\n",
      "Epoch 37/150\n",
      "55/55 [==============================] - 11s 201ms/step - loss: 0.2293 - mse: 0.2293 - mae: 0.3570 - val_loss: 0.7518 - val_mse: 0.7518 - val_mae: 0.4648 0.2294 - mae: 0.357\n",
      "Epoch 38/150\n",
      "55/55 [==============================] - 11s 201ms/step - loss: 0.2190 - mse: 0.2190 - mae: 0.3443 - val_loss: 0.7577 - val_mse: 0.7577 - val_mae: 0.4644\n",
      "Epoch 39/150\n",
      "55/55 [==============================] - 11s 201ms/step - loss: 0.2332 - mse: 0.2332 - mae: 0.3533 - val_loss: 0.7718 - val_mse: 0.7718 - val_mae: 0.4678\n",
      "Epoch 40/150\n",
      "55/55 [==============================] - 11s 201ms/step - loss: 0.1826 - mse: 0.1826 - mae: 0.3169 - val_loss: 0.7936 - val_mse: 0.7936 - val_mae: 0.4723\n",
      "Epoch 41/150\n",
      "55/55 [==============================] - 11s 201ms/step - loss: 0.2058 - mse: 0.2058 - mae: 0.3396 - val_loss: 0.7925 - val_mse: 0.7925 - val_mae: 0.4792\n",
      "Epoch 42/150\n",
      "55/55 [==============================] - 11s 202ms/step - loss: 0.1951 - mse: 0.1951 - mae: 0.3291 - val_loss: 0.7556 - val_mse: 0.7556 - val_mae: 0.4552\n",
      "Epoch 43/150\n",
      "55/55 [==============================] - 11s 201ms/step - loss: 0.1717 - mse: 0.1717 - mae: 0.3135 - val_loss: 0.7231 - val_mse: 0.7231 - val_mae: 0.4465\n",
      "Epoch 44/150\n",
      "55/55 [==============================] - 11s 200ms/step - loss: 0.1750 - mse: 0.1750 - mae: 0.3048 - val_loss: 0.7652 - val_mse: 0.7652 - val_mae: 0.4602\n",
      "Epoch 45/150\n",
      "55/55 [==============================] - 11s 201ms/step - loss: 0.1661 - mse: 0.1661 - mae: 0.2959 - val_loss: 0.7490 - val_mse: 0.7490 - val_mae: 0.4483\n",
      "Epoch 46/150\n",
      "55/55 [==============================] - 11s 201ms/step - loss: 0.1732 - mse: 0.1732 - mae: 0.3094 - val_loss: 0.8560 - val_mse: 0.8560 - val_mae: 0.4778\n",
      "Epoch 47/150\n",
      "55/55 [==============================] - 11s 201ms/step - loss: 0.1742 - mse: 0.1742 - mae: 0.3035 - val_loss: 0.7747 - val_mse: 0.7747 - val_mae: 0.4561\n",
      "Epoch 48/150\n",
      "55/55 [==============================] - 11s 201ms/step - loss: 0.1583 - mse: 0.1583 - mae: 0.2944 - val_loss: 0.7425 - val_mse: 0.7425 - val_mae: 0.4550\n",
      "Epoch 49/150\n",
      "55/55 [==============================] - 11s 201ms/step - loss: 0.1647 - mse: 0.1647 - mae: 0.3034 - val_loss: 0.7450 - val_mse: 0.7450 - val_mae: 0.4470\n"
     ]
    },
    {
     "name": "stdout",
     "output_type": "stream",
     "text": [
      "Epoch 50/150\n",
      "55/55 [==============================] - 11s 201ms/step - loss: 0.1689 - mse: 0.1689 - mae: 0.3014 - val_loss: 0.7616 - val_mse: 0.7616 - val_mae: 0.4482\n",
      "Epoch 51/150\n",
      "55/55 [==============================] - 11s 201ms/step - loss: 0.1752 - mse: 0.1752 - mae: 0.3067 - val_loss: 0.7617 - val_mse: 0.7617 - val_mae: 0.4490\n",
      "Epoch 52/150\n",
      "55/55 [==============================] - 11s 201ms/step - loss: 0.1677 - mse: 0.1677 - mae: 0.3047 - val_loss: 0.8304 - val_mse: 0.8304 - val_mae: 0.4690\n",
      "Epoch 53/150\n",
      "55/55 [==============================] - 11s 201ms/step - loss: 0.1645 - mse: 0.1645 - mae: 0.3019 - val_loss: 0.7821 - val_mse: 0.7821 - val_mae: 0.4626\n",
      "Epoch 54/150\n",
      "55/55 [==============================] - 11s 201ms/step - loss: 0.1571 - mse: 0.1571 - mae: 0.2906 - val_loss: 0.8110 - val_mse: 0.8110 - val_mae: 0.4828\n",
      "Epoch 55/150\n",
      "55/55 [==============================] - 11s 201ms/step - loss: 0.1693 - mse: 0.1693 - mae: 0.2995 - val_loss: 0.7767 - val_mse: 0.7767 - val_mae: 0.4619\n",
      "Epoch 56/150\n",
      "55/55 [==============================] - 11s 200ms/step - loss: 0.1549 - mse: 0.1549 - mae: 0.2902 - val_loss: 0.7544 - val_mse: 0.7544 - val_mae: 0.4500\n",
      "Epoch 57/150\n",
      "55/55 [==============================] - 11s 200ms/step - loss: 0.1340 - mse: 0.1340 - mae: 0.2689 - val_loss: 0.7897 - val_mse: 0.7897 - val_mae: 0.4462\n",
      "Epoch 58/150\n",
      "55/55 [==============================] - 11s 201ms/step - loss: 0.1715 - mse: 0.1715 - mae: 0.3048 - val_loss: 0.7661 - val_mse: 0.7661 - val_mae: 0.4604\n",
      "Epoch 59/150\n",
      "55/55 [==============================] - 11s 201ms/step - loss: 0.1417 - mse: 0.1417 - mae: 0.2812 - val_loss: 0.7944 - val_mse: 0.7944 - val_mae: 0.4613\n",
      "Epoch 60/150\n",
      "55/55 [==============================] - 11s 201ms/step - loss: 0.1412 - mse: 0.1412 - mae: 0.2822 - val_loss: 0.7720 - val_mse: 0.7720 - val_mae: 0.4453\n",
      "Epoch 61/150\n",
      "55/55 [==============================] - 11s 201ms/step - loss: 0.1466 - mse: 0.1466 - mae: 0.2820 - val_loss: 0.7696 - val_mse: 0.7696 - val_mae: 0.4581\n",
      "Epoch 62/150\n",
      "55/55 [==============================] - 11s 203ms/step - loss: 0.1695 - mse: 0.1695 - mae: 0.3053 - val_loss: 0.8181 - val_mse: 0.8181 - val_mae: 0.4680\n",
      "Epoch 63/150\n",
      "55/55 [==============================] - 11s 203ms/step - loss: 0.1395 - mse: 0.1395 - mae: 0.2740 - val_loss: 0.7449 - val_mse: 0.7449 - val_mae: 0.4429\n",
      "Epoch 64/150\n",
      "55/55 [==============================] - 11s 203ms/step - loss: 0.1448 - mse: 0.1448 - mae: 0.2779 - val_loss: 0.7562 - val_mse: 0.7562 - val_mae: 0.4492\n",
      "Epoch 65/150\n",
      "55/55 [==============================] - 11s 204ms/step - loss: 0.1298 - mse: 0.1298 - mae: 0.2630 - val_loss: 0.8098 - val_mse: 0.8098 - val_mae: 0.4484\n",
      "Epoch 66/150\n",
      "55/55 [==============================] - 11s 203ms/step - loss: 0.1263 - mse: 0.1263 - mae: 0.2604 - val_loss: 0.7683 - val_mse: 0.7683 - val_mae: 0.4552\n",
      "Epoch 67/150\n",
      "55/55 [==============================] - 11s 203ms/step - loss: 0.1235 - mse: 0.1235 - mae: 0.2552 - val_loss: 0.8054 - val_mse: 0.8054 - val_mae: 0.4529\n",
      "Epoch 68/150\n",
      "55/55 [==============================] - 11s 203ms/step - loss: 0.1172 - mse: 0.1172 - mae: 0.2516 - val_loss: 0.8241 - val_mse: 0.8241 - val_mae: 0.4556\n",
      "Epoch 69/150\n",
      "55/55 [==============================] - 11s 202ms/step - loss: 0.1250 - mse: 0.1250 - mae: 0.2560 - val_loss: 0.7603 - val_mse: 0.7603 - val_mae: 0.4479\n",
      "Epoch 70/150\n",
      "55/55 [==============================] - 11s 203ms/step - loss: 0.1301 - mse: 0.1301 - mae: 0.2635 - val_loss: 0.7738 - val_mse: 0.7738 - val_mae: 0.4488\n",
      "Epoch 71/150\n",
      "55/55 [==============================] - 11s 203ms/step - loss: 0.1189 - mse: 0.1189 - mae: 0.2552 - val_loss: 0.7751 - val_mse: 0.7751 - val_mae: 0.4502\n",
      "Epoch 72/150\n",
      "55/55 [==============================] - 11s 202ms/step - loss: 0.1218 - mse: 0.1218 - mae: 0.2632 - val_loss: 0.7514 - val_mse: 0.7514 - val_mae: 0.4358\n",
      "Epoch 73/150\n",
      "55/55 [==============================] - 11s 202ms/step - loss: 0.1449 - mse: 0.1449 - mae: 0.2802 - val_loss: 0.7748 - val_mse: 0.7748 - val_mae: 0.4596\n",
      "Epoch 74/150\n",
      "55/55 [==============================] - 11s 204ms/step - loss: 0.1207 - mse: 0.1207 - mae: 0.2579 - val_loss: 0.7684 - val_mse: 0.7684 - val_mae: 0.4463\n",
      "Epoch 75/150\n",
      "55/55 [==============================] - 11s 202ms/step - loss: 0.1089 - mse: 0.1089 - mae: 0.2445 - val_loss: 0.7193 - val_mse: 0.7193 - val_mae: 0.4298\n",
      "Epoch 76/150\n",
      "55/55 [==============================] - 11s 204ms/step - loss: 0.1109 - mse: 0.1109 - mae: 0.2442 - val_loss: 0.7208 - val_mse: 0.7208 - val_mae: 0.4332\n",
      "Epoch 77/150\n",
      "55/55 [==============================] - 11s 203ms/step - loss: 0.1093 - mse: 0.1093 - mae: 0.2454 - val_loss: 0.7770 - val_mse: 0.7770 - val_mae: 0.4473\n",
      "Epoch 78/150\n",
      "55/55 [==============================] - 11s 204ms/step - loss: 0.1261 - mse: 0.1261 - mae: 0.2575 - val_loss: 0.7793 - val_mse: 0.7793 - val_mae: 0.4431\n",
      "Epoch 79/150\n",
      "55/55 [==============================] - 11s 203ms/step - loss: 0.1061 - mse: 0.1061 - mae: 0.2375 - val_loss: 0.7916 - val_mse: 0.7916 - val_mae: 0.4506\n",
      "Epoch 80/150\n",
      "55/55 [==============================] - 11s 203ms/step - loss: 0.1253 - mse: 0.1253 - mae: 0.2643 - val_loss: 0.7629 - val_mse: 0.7629 - val_mae: 0.4451\n",
      "Epoch 81/150\n",
      "55/55 [==============================] - 11s 203ms/step - loss: 0.1249 - mse: 0.1249 - mae: 0.2527 - val_loss: 0.7808 - val_mse: 0.7808 - val_mae: 0.4493\n",
      "Epoch 82/150\n",
      "55/55 [==============================] - 11s 203ms/step - loss: 0.1219 - mse: 0.1219 - mae: 0.2496 - val_loss: 0.7834 - val_mse: 0.7834 - val_mae: 0.4480\n",
      "Epoch 83/150\n",
      "55/55 [==============================] - 11s 203ms/step - loss: 0.1148 - mse: 0.1148 - mae: 0.2435 - val_loss: 0.7787 - val_mse: 0.7787 - val_mae: 0.4409\n",
      "Epoch 84/150\n",
      "55/55 [==============================] - 11s 203ms/step - loss: 0.1483 - mse: 0.1483 - mae: 0.2688 - val_loss: 0.9222 - val_mse: 0.9222 - val_mae: 0.5182\n",
      "Epoch 85/150\n",
      "55/55 [==============================] - 11s 202ms/step - loss: 0.2158 - mse: 0.2158 - mae: 0.2916 - val_loss: 0.8244 - val_mse: 0.8244 - val_mae: 0.4577\n",
      "Epoch 86/150\n",
      "55/55 [==============================] - 11s 203ms/step - loss: 0.2163 - mse: 0.2163 - mae: 0.2926 - val_loss: 0.8709 - val_mse: 0.8709 - val_mae: 0.4715\n",
      "Epoch 87/150\n",
      "55/55 [==============================] - 11s 203ms/step - loss: 0.1841 - mse: 0.1841 - mae: 0.2844 - val_loss: 0.8709 - val_mse: 0.8709 - val_mae: 0.5006\n",
      "Epoch 88/150\n",
      "55/55 [==============================] - 11s 203ms/step - loss: 0.2607 - mse: 0.2607 - mae: 0.3129 - val_loss: 0.7793 - val_mse: 0.7793 - val_mae: 0.4534\n",
      "Epoch 89/150\n",
      "55/55 [==============================] - 11s 203ms/step - loss: 0.3127 - mse: 0.3127 - mae: 0.3446 - val_loss: 0.8435 - val_mse: 0.8435 - val_mae: 0.4938\n",
      "Epoch 90/150\n",
      "55/55 [==============================] - 11s 203ms/step - loss: 0.3105 - mse: 0.3105 - mae: 0.3512 - val_loss: 0.9172 - val_mse: 0.9172 - val_mae: 0.4832\n",
      "Epoch 91/150\n",
      "55/55 [==============================] - 11s 203ms/step - loss: 0.2122 - mse: 0.2122 - mae: 0.3119 - val_loss: 0.8966 - val_mse: 0.8966 - val_mae: 0.4830\n",
      "Epoch 92/150\n",
      "55/55 [==============================] - 11s 202ms/step - loss: 0.1618 - mse: 0.1618 - mae: 0.2775 - val_loss: 0.8853 - val_mse: 0.8853 - val_mae: 0.5078\n",
      "Epoch 93/150\n",
      "55/55 [==============================] - 11s 202ms/step - loss: 0.1416 - mse: 0.1416 - mae: 0.2696 - val_loss: 0.7925 - val_mse: 0.7925 - val_mae: 0.4480\n",
      "Epoch 94/150\n",
      "55/55 [==============================] - 11s 203ms/step - loss: 0.1204 - mse: 0.1204 - mae: 0.2508 - val_loss: 0.7573 - val_mse: 0.7573 - val_mae: 0.4406\n",
      "Epoch 95/150\n",
      "55/55 [==============================] - 11s 203ms/step - loss: 0.1204 - mse: 0.1204 - mae: 0.2552 - val_loss: 0.7698 - val_mse: 0.7698 - val_mae: 0.4324\n",
      "Epoch 96/150\n",
      "55/55 [==============================] - 11s 203ms/step - loss: 0.1019 - mse: 0.1019 - mae: 0.2335 - val_loss: 0.7365 - val_mse: 0.7365 - val_mae: 0.4249\n",
      "Epoch 97/150\n",
      "55/55 [==============================] - 11s 203ms/step - loss: 0.0933 - mse: 0.0933 - mae: 0.2269 - val_loss: 0.7597 - val_mse: 0.7597 - val_mae: 0.4334\n",
      "Epoch 98/150\n",
      "55/55 [==============================] - 11s 203ms/step - loss: 0.0938 - mse: 0.0938 - mae: 0.2240 - val_loss: 0.7763 - val_mse: 0.7763 - val_mae: 0.4351\n",
      "Epoch 99/150\n"
     ]
    },
    {
     "name": "stdout",
     "output_type": "stream",
     "text": [
      "55/55 [==============================] - 11s 203ms/step - loss: 0.0877 - mse: 0.0877 - mae: 0.2192 - val_loss: 0.8082 - val_mse: 0.8082 - val_mae: 0.4443\n",
      "Epoch 100/150\n",
      "55/55 [==============================] - 11s 204ms/step - loss: 0.0847 - mse: 0.0847 - mae: 0.2143 - val_loss: 0.8684 - val_mse: 0.8684 - val_mae: 0.4644\n",
      "Epoch 101/150\n",
      "55/55 [==============================] - 11s 203ms/step - loss: 0.0969 - mse: 0.0969 - mae: 0.2249 - val_loss: 0.7827 - val_mse: 0.7827 - val_mae: 0.4393\n",
      "Epoch 102/150\n",
      "55/55 [==============================] - 11s 203ms/step - loss: 0.0869 - mse: 0.0869 - mae: 0.2126 - val_loss: 0.7810 - val_mse: 0.7810 - val_mae: 0.4417\n",
      "Epoch 103/150\n",
      "55/55 [==============================] - 11s 203ms/step - loss: 0.0976 - mse: 0.0976 - mae: 0.2292 - val_loss: 0.7784 - val_mse: 0.7784 - val_mae: 0.4376\n",
      "Epoch 104/150\n",
      "55/55 [==============================] - 11s 203ms/step - loss: 0.0851 - mse: 0.0851 - mae: 0.2140 - val_loss: 0.7787 - val_mse: 0.7787 - val_mae: 0.4346\n",
      "Epoch 105/150\n",
      "55/55 [==============================] - 11s 202ms/step - loss: 0.0910 - mse: 0.0910 - mae: 0.2216 - val_loss: 0.7888 - val_mse: 0.7888 - val_mae: 0.4362\n",
      "Epoch 106/150\n",
      "55/55 [==============================] - 11s 204ms/step - loss: 0.0799 - mse: 0.0799 - mae: 0.2067 - val_loss: 0.7598 - val_mse: 0.7598 - val_mae: 0.4255\n",
      "Epoch 107/150\n",
      "55/55 [==============================] - 11s 204ms/step - loss: 0.0752 - mse: 0.0752 - mae: 0.2031 - val_loss: 0.7693 - val_mse: 0.7693 - val_mae: 0.4336\n",
      "Epoch 108/150\n",
      "55/55 [==============================] - 11s 203ms/step - loss: 0.0858 - mse: 0.0858 - mae: 0.2113 - val_loss: 0.7827 - val_mse: 0.7827 - val_mae: 0.4447\n",
      "Epoch 109/150\n",
      "55/55 [==============================] - 11s 203ms/step - loss: 0.0870 - mse: 0.0870 - mae: 0.2181 - val_loss: 0.7556 - val_mse: 0.7556 - val_mae: 0.4289\n",
      "Epoch 110/150\n",
      "55/55 [==============================] - 11s 202ms/step - loss: 0.0733 - mse: 0.0733 - mae: 0.1986 - val_loss: 0.7431 - val_mse: 0.7431 - val_mae: 0.4270\n",
      "Epoch 111/150\n",
      "55/55 [==============================] - 11s 203ms/step - loss: 0.0684 - mse: 0.0684 - mae: 0.1944 - val_loss: 0.7479 - val_mse: 0.7479 - val_mae: 0.4270\n",
      "Epoch 112/150\n",
      "55/55 [==============================] - 11s 203ms/step - loss: 0.0848 - mse: 0.0848 - mae: 0.2083 - val_loss: 0.7229 - val_mse: 0.7229 - val_mae: 0.4176\n",
      "Epoch 113/150\n",
      "55/55 [==============================] - 11s 202ms/step - loss: 0.0791 - mse: 0.0791 - mae: 0.2079 - val_loss: 0.7606 - val_mse: 0.7606 - val_mae: 0.4201\n",
      "Epoch 114/150\n",
      "55/55 [==============================] - 11s 204ms/step - loss: 0.0691 - mse: 0.0691 - mae: 0.1905 - val_loss: 0.7369 - val_mse: 0.7369 - val_mae: 0.4183\n",
      "Epoch 115/150\n",
      "55/55 [==============================] - 11s 203ms/step - loss: 0.0874 - mse: 0.0874 - mae: 0.2155 - val_loss: 0.7592 - val_mse: 0.7592 - val_mae: 0.4301\n",
      "Epoch 116/150\n",
      "55/55 [==============================] - 11s 203ms/step - loss: 0.0714 - mse: 0.0714 - mae: 0.1982 - val_loss: 0.7373 - val_mse: 0.7373 - val_mae: 0.4174\n",
      "Epoch 117/150\n",
      "55/55 [==============================] - 11s 203ms/step - loss: 0.0736 - mse: 0.0736 - mae: 0.1979 - val_loss: 0.7892 - val_mse: 0.7892 - val_mae: 0.4325\n",
      "Epoch 118/150\n",
      "55/55 [==============================] - 11s 203ms/step - loss: 0.0694 - mse: 0.0694 - mae: 0.1929 - val_loss: 0.7731 - val_mse: 0.7731 - val_mae: 0.4330\n",
      "Epoch 119/150\n",
      "55/55 [==============================] - 11s 203ms/step - loss: 0.0881 - mse: 0.0881 - mae: 0.2083 - val_loss: 0.7812 - val_mse: 0.7812 - val_mae: 0.4414\n",
      "Epoch 120/150\n",
      "55/55 [==============================] - 11s 203ms/step - loss: 0.0711 - mse: 0.0711 - mae: 0.1954 - val_loss: 0.8275 - val_mse: 0.8275 - val_mae: 0.4604\n",
      "Epoch 121/150\n",
      "55/55 [==============================] - 11s 203ms/step - loss: 0.0702 - mse: 0.0702 - mae: 0.1912 - val_loss: 0.7653 - val_mse: 0.7653 - val_mae: 0.4370\n",
      "Epoch 122/150\n",
      "55/55 [==============================] - 11s 203ms/step - loss: 0.0651 - mse: 0.0651 - mae: 0.1864 - val_loss: 0.7778 - val_mse: 0.7778 - val_mae: 0.4418\n",
      "Epoch 123/150\n",
      "55/55 [==============================] - 11s 203ms/step - loss: 0.0695 - mse: 0.0695 - mae: 0.1890 - val_loss: 0.7732 - val_mse: 0.7732 - val_mae: 0.4290\n",
      "Epoch 124/150\n",
      "55/55 [==============================] - 11s 204ms/step - loss: 0.0704 - mse: 0.0704 - mae: 0.1938 - val_loss: 0.7461 - val_mse: 0.7461 - val_mae: 0.4248\n",
      "Epoch 125/150\n",
      "55/55 [==============================] - 11s 204ms/step - loss: 0.0688 - mse: 0.0688 - mae: 0.1916 - val_loss: 0.7619 - val_mse: 0.7619 - val_mae: 0.4320\n",
      "Epoch 126/150\n",
      "55/55 [==============================] - 11s 203ms/step - loss: 0.0689 - mse: 0.0689 - mae: 0.1906 - val_loss: 0.7906 - val_mse: 0.7906 - val_mae: 0.4342\n",
      "Epoch 127/150\n",
      "55/55 [==============================] - 11s 203ms/step - loss: 0.0702 - mse: 0.0702 - mae: 0.1929 - val_loss: 0.7138 - val_mse: 0.7138 - val_mae: 0.4135\n",
      "Epoch 128/150\n",
      "55/55 [==============================] - 11s 204ms/step - loss: 0.0647 - mse: 0.0647 - mae: 0.1831 - val_loss: 0.7705 - val_mse: 0.7705 - val_mae: 0.4277\n",
      "Epoch 129/150\n",
      "55/55 [==============================] - 11s 203ms/step - loss: 0.0606 - mse: 0.0606 - mae: 0.1791 - val_loss: 0.7531 - val_mse: 0.7531 - val_mae: 0.4237\n",
      "Epoch 130/150\n",
      "55/55 [==============================] - 11s 204ms/step - loss: 0.0715 - mse: 0.0715 - mae: 0.1932 - val_loss: 0.7634 - val_mse: 0.7634 - val_mae: 0.4279\n",
      "Epoch 131/150\n",
      "55/55 [==============================] - 11s 203ms/step - loss: 0.0667 - mse: 0.0667 - mae: 0.1932 - val_loss: 0.8014 - val_mse: 0.8014 - val_mae: 0.4585\n",
      "Epoch 132/150\n",
      "55/55 [==============================] - 11s 203ms/step - loss: 0.0691 - mse: 0.0691 - mae: 0.1888 - val_loss: 0.7315 - val_mse: 0.7315 - val_mae: 0.4210\n",
      "Epoch 133/150\n",
      "55/55 [==============================] - 11s 204ms/step - loss: 0.0690 - mse: 0.0690 - mae: 0.1945 - val_loss: 0.7378 - val_mse: 0.7378 - val_mae: 0.4224\n",
      "Epoch 134/150\n",
      "55/55 [==============================] - 11s 203ms/step - loss: 0.0656 - mse: 0.0656 - mae: 0.1910 - val_loss: 0.7672 - val_mse: 0.7672 - val_mae: 0.4267\n",
      "Epoch 135/150\n",
      "55/55 [==============================] - 11s 203ms/step - loss: 0.0777 - mse: 0.0777 - mae: 0.1951 - val_loss: 0.7365 - val_mse: 0.7365 - val_mae: 0.4148\n",
      "Epoch 136/150\n",
      "55/55 [==============================] - 11s 202ms/step - loss: 0.0705 - mse: 0.0705 - mae: 0.1881 - val_loss: 0.7089 - val_mse: 0.7089 - val_mae: 0.4166\n",
      "Epoch 137/150\n",
      "55/55 [==============================] - 11s 203ms/step - loss: 0.0922 - mse: 0.0922 - mae: 0.1953 - val_loss: 0.7125 - val_mse: 0.7125 - val_mae: 0.4272\n",
      "Epoch 138/150\n",
      "55/55 [==============================] - 11s 203ms/step - loss: 0.0961 - mse: 0.0961 - mae: 0.2105 - val_loss: 0.8086 - val_mse: 0.8086 - val_mae: 0.4579\n",
      "Epoch 139/150\n",
      "55/55 [==============================] - 11s 203ms/step - loss: 0.2073 - mse: 0.2073 - mae: 0.2715 - val_loss: 1.0074 - val_mse: 1.0074 - val_mae: 0.5602\n",
      "Epoch 140/150\n",
      "55/55 [==============================] - 11s 203ms/step - loss: 0.4151 - mse: 0.4151 - mae: 0.3513 - val_loss: 1.3948 - val_mse: 1.3948 - val_mae: 0.7007\n",
      "Epoch 141/150\n",
      "55/55 [==============================] - 11s 203ms/step - loss: 0.3794 - mse: 0.3794 - mae: 0.3662 - val_loss: 1.4508 - val_mse: 1.4508 - val_mae: 0.6224\n",
      "Epoch 142/150\n",
      "55/55 [==============================] - 11s 202ms/step - loss: 0.2570 - mse: 0.2570 - mae: 0.3144 - val_loss: 1.0670 - val_mse: 1.0670 - val_mae: 0.5462\n",
      "Epoch 143/150\n",
      "55/55 [==============================] - 11s 204ms/step - loss: 0.1830 - mse: 0.1830 - mae: 0.2672 - val_loss: 0.8421 - val_mse: 0.8421 - val_mae: 0.4826\n",
      "Epoch 144/150\n",
      "55/55 [==============================] - 11s 203ms/step - loss: 0.1537 - mse: 0.1537 - mae: 0.2518 - val_loss: 0.8023 - val_mse: 0.8023 - val_mae: 0.4482\n",
      "Epoch 145/150\n",
      "55/55 [==============================] - 11s 203ms/step - loss: 0.1060 - mse: 0.1060 - mae: 0.2239 - val_loss: 0.8053 - val_mse: 0.8053 - val_mae: 0.4370\n",
      "Epoch 146/150\n",
      "55/55 [==============================] - 11s 203ms/step - loss: 0.0846 - mse: 0.0846 - mae: 0.2062 - val_loss: 0.7995 - val_mse: 0.7995 - val_mae: 0.4457\n",
      "Epoch 147/150\n",
      "55/55 [==============================] - 11s 204ms/step - loss: 0.0821 - mse: 0.0821 - mae: 0.2009 - val_loss: 0.7853 - val_mse: 0.7853 - val_mae: 0.4253\n"
     ]
    },
    {
     "name": "stdout",
     "output_type": "stream",
     "text": [
      "Epoch 148/150\n",
      "55/55 [==============================] - 11s 203ms/step - loss: 0.0656 - mse: 0.0656 - mae: 0.1881 - val_loss: 0.8291 - val_mse: 0.8291 - val_mae: 0.4519\n",
      "Epoch 149/150\n",
      "55/55 [==============================] - 11s 203ms/step - loss: 0.0652 - mse: 0.0652 - mae: 0.1854 - val_loss: 0.8014 - val_mse: 0.8014 - val_mae: 0.4422\n",
      "Epoch 150/150\n",
      "55/55 [==============================] - 11s 202ms/step - loss: 0.0635 - mse: 0.0635 - mae: 0.1854 - val_loss: 0.8207 - val_mse: 0.8207 - val_mae: 0.4386\n",
      "EndTime : 2022-02-04 04:25:06.811962\n"
     ]
    }
   ],
   "source": [
    "StartTime8 = datetime.now()\n",
    "print(\"StartTime :\", StartTime8)\n",
    "with tf.device('/GPU:0'):\n",
    "    model_train = model.fit(train_X, training_label_array, batch_size=batch_size,epochs=training_epochs,verbose=1,\n",
    "                        validation_data=(test_X, test_label_array))\n",
    "\n",
    "EndTime8 = datetime.now()\n",
    "print(\"EndTime :\", EndTime8)"
   ]
  },
  {
   "cell_type": "code",
   "execution_count": 19,
   "metadata": {},
   "outputs": [],
   "source": [
    "import json\n",
    "workdir = \"D://ResNetIC50//Result//MEYDC-6K//ResNet\"\n",
    "# Option 1: Save Weights + Architecture\n",
    "model.save_weights(workdir+ '//MEYDC6K_ResNet_model_fix_v3.h5')\n",
    "with open(workdir + '//MEYDC6K_ResNet_model_architecture_fix_v3.json', 'w') as f:\n",
    "    f.write(model.to_json())\n",
    "# Option 1: Load Weights + Architecture\n",
    "# with open('model_architecture.json', 'r') as f:\n",
    "#     new_model_1 = model_from_json(f.read())\n",
    "# new_model_1.load_weights('model_weights.h5')"
   ]
  },
  {
   "cell_type": "code",
   "execution_count": 20,
   "metadata": {},
   "outputs": [],
   "source": [
    "# Option 2: Save/Load the Entire Model\n",
    "\n",
    "# Creates a HDF5 file 'my_model.h5'\n",
    "model.save(workdir + '//MEYDC6K_ResNet_model_fix_2080ti_v3.h5')\n",
    "\n",
    "# Deletes the existing model\n",
    "# del model  \n",
    "\n",
    "# Returns a compiled model identical to the previous one\n",
    "# model = load_model('my_model.h5')"
   ]
  },
  {
   "cell_type": "code",
   "execution_count": 21,
   "metadata": {},
   "outputs": [
    {
     "name": "stdout",
     "output_type": "stream",
     "text": [
      "19/19 [==============================] - 1s 27ms/step - loss: 0.8207 - mse: 0.8207 - mae: 0.4386\n"
     ]
    }
   ],
   "source": [
    "test_eval = model.evaluate(test_X, test_label_array, verbose=1)"
   ]
  },
  {
   "cell_type": "code",
   "execution_count": 22,
   "metadata": {},
   "outputs": [
    {
     "data": {
      "text/plain": [
       "[0.8207205533981323, 0.8207205533981323, 0.4386041760444641]"
      ]
     },
     "execution_count": 22,
     "metadata": {},
     "output_type": "execute_result"
    }
   ],
   "source": [
    "test_eval"
   ]
  },
  {
   "cell_type": "code",
   "execution_count": 23,
   "metadata": {},
   "outputs": [],
   "source": [
    "accuracy = model_train.history['mse']\n",
    "val_accuracy = model_train.history['val_mse']\n",
    "loss = model_train.history['loss']\n",
    "val_loss = model_train.history['val_loss']\n",
    "\n",
    "np_acc = np.array(accuracy)\n",
    "np_val_acc = np.array(val_accuracy)\n",
    "np_loss = np.array(loss)\n",
    "np_val_loss = np.array(val_loss)"
   ]
  },
  {
   "cell_type": "code",
   "execution_count": 24,
   "metadata": {},
   "outputs": [],
   "source": [
    "import matplotlib\n",
    "from matplotlib import pyplot as plt"
   ]
  },
  {
   "cell_type": "code",
   "execution_count": 25,
   "metadata": {},
   "outputs": [
    {
     "data": {
      "image/png": "[encoded data removed]",
      "text/plain": [
       "<Figure size 432x288 with 1 Axes>"
      ]
     },
     "metadata": {
      "needs_background": "light"
     },
     "output_type": "display_data"
    },
    {
     "data": {
      "image/png": "[encoded data removed]",
      "text/plain": [
       "<Figure size 432x288 with 1 Axes>"
      ]
     },
     "metadata": {
      "needs_background": "light"
     },
     "output_type": "display_data"
    }
   ],
   "source": [
    "# accuracy = model_train.history['acc']\n",
    "# val_accuracy = model_train.history['val_acc']\n",
    "# loss = model_train.history['loss']\n",
    "# val_loss = model_train.history['val_loss']\n",
    "epochs = range(len(accuracy))\n",
    "plt.plot(epochs, accuracy, 'bo', label='Training mse')\n",
    "plt.plot(epochs, val_accuracy, 'b', label='Validation mse')\n",
    "plt.title('Training and validation mse')\n",
    "plt.legend()\n",
    "plt.figure()\n",
    "plt.plot(epochs, loss, 'bo', label='Training loss')\n",
    "plt.plot(epochs, val_loss, 'b', label='Validation loss')\n",
    "plt.title('Training and validation loss')\n",
    "plt.legend()\n",
    "plt.show()"
   ]
  },
  {
   "cell_type": "code",
   "execution_count": 26,
   "metadata": {},
   "outputs": [],
   "source": [
    "predicted_classes = model.predict(test_X)"
   ]
  },
  {
   "cell_type": "code",
   "execution_count": 27,
   "metadata": {},
   "outputs": [],
   "source": [
    "predicted_value = predicted_classes"
   ]
  },
  {
   "cell_type": "code",
   "execution_count": 28,
   "metadata": {},
   "outputs": [],
   "source": [
    "a = pd.DataFrame(predicted_value)\n",
    "b = pd.DataFrame(test_label_array)\n",
    "c = pd.concat([a,b], axis=1)\n",
    "c.columns=[\"Predicted\",\"Test\"]"
   ]
  },
  {
   "cell_type": "code",
   "execution_count": 29,
   "metadata": {},
   "outputs": [],
   "source": [
    "c.to_csv(workdir + '//MEYDC6K_ResNet_pred_obs_table.csv')"
   ]
  },
  {
   "cell_type": "code",
   "execution_count": 30,
   "metadata": {
    "scrolled": true
   },
   "outputs": [
    {
     "data": {
      "text/html": [
       "<div>\n",
       "<style scoped>\n",
       "    .dataframe tbody tr th:only-of-type {\n",
       "        vertical-align: middle;\n",
       "    }\n",
       "\n",
       "    .dataframe tbody tr th {\n",
       "        vertical-align: top;\n",
       "    }\n",
       "\n",
       "    .dataframe thead th {\n",
       "        text-align: right;\n",
       "    }\n",
       "</style>\n",
       "<table border=\"1\" class=\"dataframe\">\n",
       "  <thead>\n",
       "    <tr style=\"text-align: right;\">\n",
       "      <th></th>\n",
       "      <th>Predicted</th>\n",
       "      <th>Test</th>\n",
       "    </tr>\n",
       "  </thead>\n",
       "  <tbody>\n",
       "    <tr>\n",
       "      <th>0</th>\n",
       "      <td>2.103336</td>\n",
       "      <td>2.079442</td>\n",
       "    </tr>\n",
       "    <tr>\n",
       "      <th>1</th>\n",
       "      <td>2.095790</td>\n",
       "      <td>2.079442</td>\n",
       "    </tr>\n",
       "    <tr>\n",
       "      <th>2</th>\n",
       "      <td>2.076671</td>\n",
       "      <td>2.079442</td>\n",
       "    </tr>\n",
       "    <tr>\n",
       "      <th>3</th>\n",
       "      <td>-1.450205</td>\n",
       "      <td>-2.723580</td>\n",
       "    </tr>\n",
       "    <tr>\n",
       "      <th>4</th>\n",
       "      <td>2.111608</td>\n",
       "      <td>2.079442</td>\n",
       "    </tr>\n",
       "    <tr>\n",
       "      <th>...</th>\n",
       "      <td>...</td>\n",
       "      <td>...</td>\n",
       "    </tr>\n",
       "    <tr>\n",
       "      <th>602</th>\n",
       "      <td>2.091429</td>\n",
       "      <td>2.079442</td>\n",
       "    </tr>\n",
       "    <tr>\n",
       "      <th>603</th>\n",
       "      <td>2.069661</td>\n",
       "      <td>2.079442</td>\n",
       "    </tr>\n",
       "    <tr>\n",
       "      <th>604</th>\n",
       "      <td>2.128259</td>\n",
       "      <td>2.079442</td>\n",
       "    </tr>\n",
       "    <tr>\n",
       "      <th>605</th>\n",
       "      <td>0.187499</td>\n",
       "      <td>2.079442</td>\n",
       "    </tr>\n",
       "    <tr>\n",
       "      <th>606</th>\n",
       "      <td>2.046232</td>\n",
       "      <td>2.079442</td>\n",
       "    </tr>\n",
       "  </tbody>\n",
       "</table>\n",
       "<p>607 rows × 2 columns</p>\n",
       "</div>"
      ],
      "text/plain": [
       "     Predicted      Test\n",
       "0     2.103336  2.079442\n",
       "1     2.095790  2.079442\n",
       "2     2.076671  2.079442\n",
       "3    -1.450205 -2.723580\n",
       "4     2.111608  2.079442\n",
       "..         ...       ...\n",
       "602   2.091429  2.079442\n",
       "603   2.069661  2.079442\n",
       "604   2.128259  2.079442\n",
       "605   0.187499  2.079442\n",
       "606   2.046232  2.079442\n",
       "\n",
       "[607 rows x 2 columns]"
      ]
     },
     "execution_count": 30,
     "metadata": {},
     "output_type": "execute_result"
    }
   ],
   "source": [
    "c"
   ]
  },
  {
   "cell_type": "code",
   "execution_count": 31,
   "metadata": {},
   "outputs": [
    {
     "data": {
      "text/plain": [
       "(607, 1)"
      ]
     },
     "execution_count": 31,
     "metadata": {},
     "output_type": "execute_result"
    }
   ],
   "source": [
    "predicted_value.shape"
   ]
  },
  {
   "cell_type": "code",
   "execution_count": 32,
   "metadata": {},
   "outputs": [
    {
     "data": {
      "text/plain": [
       "LinregressResult(slope=0.9064258667979536, intercept=0.10092491908378887, rvalue=0.8937577007912625, pvalue=8.037103600323976e-213, stderr=0.018494634063842576, intercept_stderr=0.039593055443857716)"
      ]
     },
     "execution_count": 32,
     "metadata": {},
     "output_type": "execute_result"
    }
   ],
   "source": [
    "from scipy.stats import linregress\n",
    "linregress(b[0], a[0])"
   ]
  },
  {
   "cell_type": "code",
   "execution_count": 33,
   "metadata": {},
   "outputs": [
    {
     "name": "stdout",
     "output_type": "stream",
     "text": [
      "0.7842146172841995\n"
     ]
    }
   ],
   "source": [
    "from sklearn.metrics import r2_score\n",
    "r2_value = r2_score(b,a)\n",
    "print(r2_value)"
   ]
  },
  {
   "cell_type": "code",
   "execution_count": 34,
   "metadata": {},
   "outputs": [
    {
     "name": "stdout",
     "output_type": "stream",
     "text": [
      "Final rmse value is = 0.9059363339577867\n"
     ]
    }
   ],
   "source": [
    "rse = ((b[0]-a[0])**2).sum()\n",
    "mse = rse / len(b)\n",
    "print(\"Final rmse value is =\",np.sqrt(mse))"
   ]
  },
  {
   "cell_type": "code",
   "execution_count": 35,
   "metadata": {},
   "outputs": [
    {
     "data": {
      "image/png": "[encoded data removed]",
      "text/plain": [
       "<Figure size 432x432 with 3 Axes>"
      ]
     },
     "metadata": {
      "needs_background": "light"
     },
     "output_type": "display_data"
    }
   ],
   "source": [
    "workdir = \"D://ResNetIC50//Result//Figure//MEYDC-6K\"\n",
    "import seaborn as sns\n",
    "\n",
    "g = sns.jointplot(x=\"Test\", y=\"Predicted\", data=c, kind='reg', color='#7C7C7C',\n",
    "                  joint_kws={'line_kws':{'color':'black'}})\n",
    "g.savefig(workdir+ '//MEYDC6K_ResNet.png', dpi=300)"
   ]
  },
  {
   "cell_type": "code",
   "execution_count": null,
   "metadata": {},
   "outputs": [],
   "source": []
  },
  {
   "cell_type": "code",
   "execution_count": null,
   "metadata": {},
   "outputs": [],
   "source": []
  }
 ],
 "metadata": {
  "kernelspec": {
   "display_name": "Python 3",
   "language": "python",
   "name": "python3"
  },
  "language_info": {
   "codemirror_mode": {
    "name": "ipython",
    "version": 3
   },
   "file_extension": ".py",
   "mimetype": "text/x-python",
   "name": "python",
   "nbconvert_exporter": "python",
   "pygments_lexer": "ipython3",
   "version": "3.7.11"
  }
 },
 "nbformat": 4,
 "nbformat_minor": 2
}
