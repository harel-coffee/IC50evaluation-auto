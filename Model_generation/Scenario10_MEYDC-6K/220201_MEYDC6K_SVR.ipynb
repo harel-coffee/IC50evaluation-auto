{
 "cells": [
  {
   "cell_type": "code",
   "execution_count": 1,
   "metadata": {},
   "outputs": [],
   "source": [
    "import os\n",
    "import pandas as pd\n",
    "import numpy as np\n",
    "import random\n",
    "from pandas import DataFrame\n",
    "from datetime import datetime\n",
    "\n",
    "workdir = \"D://Deep_learning//ResNetIC50_log//Dataset//MEYDC-6K\""
   ]
  },
  {
   "cell_type": "code",
   "execution_count": 2,
   "metadata": {},
   "outputs": [],
   "source": [
    "# < Important note > [ Please download input data from https://mega.nz/#F!CeYGDKyS!uqkmWJ4E2XSGJp_C2VO2gg]\n",
    "\n",
    "dataset = np.load(workdir + \"//MEYDC6K_dataset.npz\") # input file\n",
    "ss0 = np.load(workdir + '//MEYDC6K_dataset_r0.npz') # split for training and test"
   ]
  },
  {
   "cell_type": "code",
   "execution_count": 3,
   "metadata": {},
   "outputs": [],
   "source": [
    "x = dataset['x']\n",
    "y = dataset['y']\n",
    "# y_linear = dataset['y_lnIC50']\n",
    "ss0_train = ss0['train']\n",
    "ss0_test = ss0['test']"
   ]
  },
  {
   "cell_type": "code",
   "execution_count": 4,
   "metadata": {},
   "outputs": [],
   "source": [
    "training_image_array, training_label_array = x[ss0_train], y[ss0_train]\n",
    "test_image_array, test_label_array = x[ss0_test], y[ss0_test]\n",
    "\n",
    "# # In[9]:\n",
    "# ori = training_image_array\n",
    "# bat = np.zeros((ori.shape[0],178))\n",
    "# cat = np.hstack([ori,bat])\n",
    "# training_image_array = cat\n",
    "\n",
    "# # In[8]:\n",
    "# training_image_array.shape\n",
    "\n",
    "# # In[10]:\n",
    "# ori2 = test_image_array\n",
    "# bat2 = np.zeros((ori2.shape[0],178))\n",
    "# cat2 = np.hstack([ori2,bat2])\n",
    "# test_image_array = cat2\n"
   ]
  },
  {
   "cell_type": "code",
   "execution_count": 5,
   "metadata": {},
   "outputs": [
    {
     "name": "stdout",
     "output_type": "stream",
     "text": [
      "0 21\n"
     ]
    }
   ],
   "source": [
    "# In[15]:\n",
    "ab =[]\n",
    "for i in range(50,100):\n",
    "    ab.append(len(training_image_array) % i)\n",
    "    \n",
    "print(min(ab), ab.index(min(ab)))"
   ]
  },
  {
   "cell_type": "code",
   "execution_count": 6,
   "metadata": {},
   "outputs": [
    {
     "data": {
      "text/plain": [
       "(6074, 62718)"
      ]
     },
     "execution_count": 6,
     "metadata": {},
     "output_type": "execute_result"
    }
   ],
   "source": [
    "x.shape"
   ]
  },
  {
   "cell_type": "code",
   "execution_count": 7,
   "metadata": {},
   "outputs": [
    {
     "data": {
      "text/plain": [
       "(5467, 62718)"
      ]
     },
     "execution_count": 7,
     "metadata": {},
     "output_type": "execute_result"
    }
   ],
   "source": [
    "training_image_array.shape"
   ]
  },
  {
   "cell_type": "code",
   "execution_count": 8,
   "metadata": {},
   "outputs": [],
   "source": [
    "train_X, train_y, test_X, test_y = training_image_array, training_label_array, test_image_array, test_label_array\n",
    "\n",
    "# if K.image_data_format() == 'channels_first':\n",
    "#     train_X = train_X.reshape(train_X.shape[0], 1, img_rows, img_cols)\n",
    "#     test_X = test_X.reshape(x_test.shape[0], 1, img_rows, img_cols)\n",
    "#     input_shape = (1, img_rows, img_cols)\n",
    "# else:\n",
    "#     train_X = train_X.reshape(train_X.shape[0], img_rows, img_cols, 1)\n",
    "#     test_X = test_X.reshape(test_X.shape[0], img_rows, img_cols, 1)\n",
    "#     input_shape = (img_rows, img_cols, 1)\n"
   ]
  },
  {
   "cell_type": "code",
   "execution_count": 9,
   "metadata": {},
   "outputs": [],
   "source": [
    "# train_X = train_X.reshape(train_X.shape[0], train_X.shape[1], 1)\n",
    "# test_X = test_X.reshape(test_X.shape[0], test_X.shape[1], 1)\n",
    "# #input_shape = (img_rows, img_cols, 1)"
   ]
  },
  {
   "cell_type": "code",
   "execution_count": 10,
   "metadata": {},
   "outputs": [
    {
     "name": "stdout",
     "output_type": "stream",
     "text": [
      "(5467, 62718) (5467,) (607, 62718) (607,)\n"
     ]
    }
   ],
   "source": [
    "print(train_X.shape, train_y.shape, test_X.shape, test_y.shape)"
   ]
  },
  {
   "cell_type": "code",
   "execution_count": 11,
   "metadata": {},
   "outputs": [],
   "source": [
    "inds = np.where(np.isnan(test_X))"
   ]
  },
  {
   "cell_type": "code",
   "execution_count": 12,
   "metadata": {},
   "outputs": [
    {
     "data": {
      "text/plain": [
       "(array([], dtype=int64), array([], dtype=int64))"
      ]
     },
     "execution_count": 12,
     "metadata": {},
     "output_type": "execute_result"
    }
   ],
   "source": [
    "inds"
   ]
  },
  {
   "cell_type": "code",
   "execution_count": 13,
   "metadata": {},
   "outputs": [
    {
     "name": "stdout",
     "output_type": "stream",
     "text": [
      "train_X shape: (5467, 62718)\n",
      "5467 train samples\n",
      "607 test samples\n"
     ]
    }
   ],
   "source": [
    "train_X = train_X.astype('float32')\n",
    "test_X = test_X.astype('float32')\n",
    "# train_X /= 255\n",
    "# test_X /= 255\n",
    "print('train_X shape:', train_X.shape)\n",
    "print(train_X.shape[0], 'train samples')\n",
    "print(test_X.shape[0], 'test samples')"
   ]
  },
  {
   "cell_type": "code",
   "execution_count": 14,
   "metadata": {},
   "outputs": [],
   "source": [
    "import numpy as np\n",
    "from sklearn.svm import SVR\n",
    "import matplotlib.pyplot as plt\n",
    "\n",
    "# #############################################################################\n",
    "# Fit regression model\n",
    "svr_lin = SVR(C=0.01)\n",
    "y_lin = svr_lin.fit(train_X, train_y).predict(test_X)\n"
   ]
  },
  {
   "cell_type": "code",
   "execution_count": 15,
   "metadata": {},
   "outputs": [],
   "source": [
    "import matplotlib\n",
    "from matplotlib import pyplot as plt"
   ]
  },
  {
   "cell_type": "code",
   "execution_count": 16,
   "metadata": {},
   "outputs": [
    {
     "data": {
      "text/plain": [
       "array([1.97923162, 1.98437403, 1.97929717, 1.95863777, 1.9790983 ,\n",
       "       1.87115177, 1.98090406, 1.97996943, 1.97633336, 1.96892841,\n",
       "       1.97679807, 1.97641233, 1.96860788, 1.97513045, 1.98086914,\n",
       "       1.96672345, 1.98152266, 1.85395583, 1.96577614, 1.97900784,\n",
       "       1.9764248 , 1.97567413, 1.92240017, 1.97967507, 1.98265978,\n",
       "       1.90800674, 1.84916515, 1.9746377 , 1.97228481, 1.9716565 ,\n",
       "       1.9725001 , 1.97966466, 1.96315362, 1.98305997, 1.95818811,\n",
       "       1.96874797, 1.93024504, 1.96078607, 1.95098663, 1.9615007 ,\n",
       "       1.97952454, 1.87934033, 1.97539803, 1.96475206, 1.93355533,\n",
       "       1.97004936, 1.97954451, 1.9559519 , 1.979535  , 1.98246899,\n",
       "       1.96315569, 1.96016348, 1.97265306, 1.96330158, 1.98004727,\n",
       "       1.96088647, 1.96391845, 1.84807175, 1.97943717, 1.98059093,\n",
       "       1.97924871, 1.9641057 , 1.97691212, 1.9815996 , 1.97983641,\n",
       "       1.94174889, 1.98137676, 1.96079394, 1.96607735, 1.97766067,\n",
       "       1.8485075 , 1.96413609, 1.97913854, 1.9065625 , 1.9811966 ,\n",
       "       1.95872665, 1.97955161, 1.86380286, 1.96422636, 1.9781778 ,\n",
       "       1.97448089, 1.97727055, 1.98150104, 1.90161872, 1.92176401,\n",
       "       1.98275295, 1.91129804, 1.95478771, 1.98106389, 1.96763855,\n",
       "       1.95696386, 1.95468194, 1.95260411, 1.97353454, 1.97515837,\n",
       "       1.96259753, 1.97086463, 1.83619135, 1.97616839, 1.96533116,\n",
       "       1.93537113, 1.94676277, 1.97970558, 1.96714992, 1.9685488 ,\n",
       "       1.97621857, 1.95001406, 1.91448899, 1.97704432, 1.89671581,\n",
       "       1.97966299, 1.94755745, 1.97151786, 1.96456925, 1.95708055,\n",
       "       1.9792246 , 1.97847177, 1.96509278, 1.9156663 , 1.96825521,\n",
       "       1.96413992, 1.9543261 , 1.97483302, 1.95424812, 1.97175536,\n",
       "       1.97250956, 1.9635109 , 1.97638652, 1.9780992 , 1.96872056,\n",
       "       1.97870893, 1.96338974, 1.9775278 , 1.93900777, 1.9809436 ,\n",
       "       1.94678367, 1.96775408, 1.95331153, 1.96255589, 1.97459773,\n",
       "       1.97469385, 1.95647047, 1.96224004, 1.98072073, 1.94174372,\n",
       "       1.96071109, 1.94348823, 1.98101405, 1.97309739, 1.85678721,\n",
       "       1.96307987, 1.98124726, 1.95998606, 1.97489375, 1.96696078,\n",
       "       1.9734083 , 1.97915481, 1.94371573, 1.97462314, 1.9746653 ,\n",
       "       1.97641831, 1.96346464, 1.97959554, 1.97225051, 1.96565511,\n",
       "       1.97556372, 1.97956947, 1.95150902, 1.87792903, 1.96689982,\n",
       "       1.95065182, 1.97675349, 1.8779351 , 1.97150467, 1.94572719,\n",
       "       1.91767642, 1.97784396, 1.95485041, 1.9527137 , 1.97776597,\n",
       "       1.97817579, 1.97909904, 1.96567865, 1.97729938, 1.96931726,\n",
       "       1.95356509, 1.95491784, 1.97670881, 1.98247341, 1.95578473,\n",
       "       1.86348384, 1.97757459, 1.83850109, 1.98293621, 1.97731297,\n",
       "       1.97664943, 1.97529193, 1.9797376 , 1.86357446, 1.97135823,\n",
       "       1.97846101, 1.96897747, 1.98257785, 1.96913944, 1.98035851,\n",
       "       1.98143741, 1.94386751, 1.97412101, 1.97504407, 1.96303835,\n",
       "       1.97958561, 1.87531268, 1.93867822, 1.97120825, 1.97626325,\n",
       "       1.97947772, 1.96306132, 1.87493828, 1.96846156, 1.97935372,\n",
       "       1.98088332, 1.98096822, 1.96181818, 1.95342296, 1.97950338,\n",
       "       1.97281141, 1.97485328, 1.85041361, 1.98155461, 1.97308579,\n",
       "       1.97723178, 1.86353219, 1.95714799, 1.93906746, 1.91193576,\n",
       "       1.86819746, 1.94718422, 1.96107673, 1.86052632, 1.97108575,\n",
       "       1.94663967, 1.97745349, 1.98090634, 1.97636472, 1.96005865,\n",
       "       1.8608067 , 1.97950373, 1.86678384, 1.97940667, 1.91333648,\n",
       "       1.96364717, 1.95785081, 1.91433574, 1.97162168, 1.9710894 ,\n",
       "       1.9722139 , 1.84892269, 1.97810813, 1.95076312, 1.96815355,\n",
       "       1.9545973 , 1.97912074, 1.96997075, 1.9829095 , 1.95641237,\n",
       "       1.97885504, 1.97611831, 1.97930201, 1.9569754 , 1.95291255,\n",
       "       1.90799088, 1.98091512, 1.97626184, 1.83917421, 1.97938151,\n",
       "       1.96311359, 1.92918312, 1.97640236, 1.94929861, 1.97965153,\n",
       "       1.96210294, 1.97663607, 1.95125406, 1.91885142, 1.96919595,\n",
       "       1.97665061, 1.9777587 , 1.96858683, 1.95468862, 1.9616576 ,\n",
       "       1.92458561, 1.94688289, 1.97759218, 1.97902762, 1.97709324,\n",
       "       1.95511848, 1.95934003, 1.97799751, 1.95608672, 1.97855374,\n",
       "       1.97636896, 1.96378884, 1.96395845, 1.96323426, 1.86985108,\n",
       "       1.97883256, 1.95669113, 1.9633022 , 1.97848975, 1.97925432,\n",
       "       1.95348147, 1.97467436, 1.97914632, 1.98289781, 1.98444209,\n",
       "       1.91660398, 1.98099549, 1.95923094, 1.97976499, 1.94996961,\n",
       "       1.9794043 , 1.94433628, 1.98083426, 1.96404479, 1.98142784,\n",
       "       1.94575419, 1.97452159, 1.97939305, 1.88097045, 1.9637381 ,\n",
       "       1.97637191, 1.97612408, 1.97630211, 1.97167622, 1.96390511,\n",
       "       1.97783723, 1.90924059, 1.98016243, 1.97686796, 1.97620549,\n",
       "       1.97965729, 1.97527746, 1.97800183, 1.97634058, 1.95890375,\n",
       "       1.9699429 , 1.98130189, 1.97767255, 1.9595991 , 1.97204803,\n",
       "       1.97201729, 1.97461793, 1.96681134, 1.91284453, 1.97596358,\n",
       "       1.97738177, 1.97603074, 1.95422514, 1.97411696, 1.96012315,\n",
       "       1.96083037, 1.97165561, 1.96550427, 1.95281341, 1.97788615,\n",
       "       1.97895145, 1.97522229, 1.97355543, 1.93235172, 1.9760726 ,\n",
       "       1.97776503, 1.97430968, 1.9554722 , 1.97924932, 1.96678953,\n",
       "       1.89713963, 1.97286165, 1.96337935, 1.89735543, 1.84210241,\n",
       "       1.89773596, 1.98054075, 1.91561102, 1.97487294, 1.97764532,\n",
       "       1.84176325, 1.9733824 , 1.97623754, 1.98100911, 1.97869883,\n",
       "       1.97238482, 1.92997651, 1.97752054, 1.94779857, 1.96752564,\n",
       "       1.97768106, 1.96771839, 1.9767959 , 1.9672697 , 1.924712  ,\n",
       "       1.95851318, 1.97804971, 1.95774518, 1.97926886, 1.97965062,\n",
       "       1.98126311, 1.9843238 , 1.97948969, 1.85761965, 1.9640564 ,\n",
       "       1.97935451, 1.94330185, 1.94321011, 1.97694384, 1.98077489,\n",
       "       1.94819161, 1.95562506, 1.98080237, 1.976546  , 1.87365705,\n",
       "       1.97521893, 1.97543792, 1.97820904, 1.97614612, 1.95281427,\n",
       "       1.96827804, 1.96549413, 1.97929439, 1.96394592, 1.98108815,\n",
       "       1.979589  , 1.96864122, 1.97923683, 1.98095994, 1.97852639,\n",
       "       1.97773382, 1.91919596, 1.98020839, 1.97914067, 1.9605599 ,\n",
       "       1.97424759, 1.9604679 , 1.94976833, 1.97964888, 1.97900336,\n",
       "       1.97164559, 1.9810589 , 1.96396846, 1.93320408, 1.95843643,\n",
       "       1.95275314, 1.98015203, 1.96855754, 1.96130845, 1.9434583 ,\n",
       "       1.95588981, 1.9618238 , 1.98051352, 1.97961539, 1.97523828,\n",
       "       1.97808939, 1.97200324, 1.97839837, 1.96878158, 1.91608021,\n",
       "       1.97994963, 1.97851591, 1.9741713 , 1.97681989, 1.9794187 ,\n",
       "       1.96456027, 1.94495399, 1.87155074, 1.96546931, 1.97921194,\n",
       "       1.97952353, 1.97659091, 1.97560487, 1.94681401, 1.97883699,\n",
       "       1.96834728, 1.97784001, 1.97764477, 1.98146405, 1.97657118,\n",
       "       1.84254336, 1.9576914 , 1.97969633, 1.89958067, 1.97523658,\n",
       "       1.97076111, 1.95065217, 1.96159524, 1.97959478, 1.97765144,\n",
       "       1.97938149, 1.95803694, 1.98172958, 1.97570991, 1.97231466,\n",
       "       1.97217581, 1.97603417, 1.95040989, 1.97123934, 1.97913589,\n",
       "       1.97483456, 1.96140796, 1.89853685, 1.96343071, 1.91420437,\n",
       "       1.97799019, 1.95510715, 1.96895185, 1.97861581, 1.97598182,\n",
       "       1.95985693, 1.85855413, 1.97470234, 1.98112123, 1.9837341 ,\n",
       "       1.97910341, 1.96317708, 1.83324145, 1.94349713, 1.97670539,\n",
       "       1.97956105, 1.96157587, 1.97945615, 1.9223683 , 1.97668877,\n",
       "       1.97060667, 1.9763637 , 1.97800416, 1.9443452 , 1.95039317,\n",
       "       1.96642945, 1.97252813, 1.97957853, 1.94486179, 1.96564097,\n",
       "       1.97636454, 1.97756484, 1.98114913, 1.96072404, 1.96901502,\n",
       "       1.97760537, 1.9504813 , 1.91418558, 1.97790632, 1.94129934,\n",
       "       1.9585075 , 1.9615607 , 1.84700915, 1.94333565, 1.98080895,\n",
       "       1.95467801, 1.86225078, 1.94096451, 1.97417812, 1.9759134 ,\n",
       "       1.96922487, 1.94214509, 1.96696639, 1.9669081 , 1.97151015,\n",
       "       1.97427582, 1.97934372, 1.97618638, 1.98080878, 1.94984456,\n",
       "       1.83655504, 1.97873011, 1.95799834, 1.96430739, 1.91964694,\n",
       "       1.979124  , 1.96006835, 1.8929322 , 1.91601256, 1.98177192,\n",
       "       1.97281653, 1.95660679, 1.97247222, 1.94077418, 1.97610244,\n",
       "       1.96354977, 1.95943734, 1.91595272, 1.96142465, 1.96562446,\n",
       "       1.97432667, 1.97471662, 1.96294553, 1.95522695, 1.97645522,\n",
       "       1.97789068, 1.97614085, 1.95472695, 1.97318764, 1.97914123,\n",
       "       1.86829925, 1.97808461, 1.97306403, 1.97293628, 1.97521345,\n",
       "       1.86976488, 1.91935966])"
      ]
     },
     "execution_count": 16,
     "metadata": {},
     "output_type": "execute_result"
    }
   ],
   "source": [
    "y_lin"
   ]
  },
  {
   "cell_type": "code",
   "execution_count": 17,
   "metadata": {},
   "outputs": [
    {
     "data": {
      "text/plain": [
       "['D://Deep_learning//ResNetIC50_log//Result//MEYDC-6K//SVR//MEYDC6K_SVR_model.pkl']"
      ]
     },
     "execution_count": 17,
     "metadata": {},
     "output_type": "execute_result"
    }
   ],
   "source": [
    "import pickle\n",
    "import joblib\n",
    "workdir = \"D://Deep_learning//ResNetIC50_log//Result//MEYDC-6K//SVR\"\n",
    "joblib.dump(svr_lin, workdir + '//MEYDC6K_SVR_model.pkl') \n"
   ]
  },
  {
   "cell_type": "code",
   "execution_count": 18,
   "metadata": {},
   "outputs": [],
   "source": [
    "a = pd.DataFrame(y_lin)\n",
    "b = pd.DataFrame(test_label_array)\n",
    "c = pd.concat([a,b], axis=1)\n",
    "c.columns=[\"Predicted\",\"Test\"]"
   ]
  },
  {
   "cell_type": "code",
   "execution_count": 19,
   "metadata": {},
   "outputs": [],
   "source": [
    "c.to_csv(workdir + '//MEYDC6K_SVR_pred_obs_table.csv')"
   ]
  },
  {
   "cell_type": "code",
   "execution_count": 20,
   "metadata": {},
   "outputs": [
    {
     "data": {
      "text/html": [
       "<div>\n",
       "<style scoped>\n",
       "    .dataframe tbody tr th:only-of-type {\n",
       "        vertical-align: middle;\n",
       "    }\n",
       "\n",
       "    .dataframe tbody tr th {\n",
       "        vertical-align: top;\n",
       "    }\n",
       "\n",
       "    .dataframe thead th {\n",
       "        text-align: right;\n",
       "    }\n",
       "</style>\n",
       "<table border=\"1\" class=\"dataframe\">\n",
       "  <thead>\n",
       "    <tr style=\"text-align: right;\">\n",
       "      <th></th>\n",
       "      <th>Predicted</th>\n",
       "      <th>Test</th>\n",
       "    </tr>\n",
       "  </thead>\n",
       "  <tbody>\n",
       "    <tr>\n",
       "      <th>0</th>\n",
       "      <td>1.979232</td>\n",
       "      <td>2.079442</td>\n",
       "    </tr>\n",
       "    <tr>\n",
       "      <th>1</th>\n",
       "      <td>1.984374</td>\n",
       "      <td>2.079442</td>\n",
       "    </tr>\n",
       "    <tr>\n",
       "      <th>2</th>\n",
       "      <td>1.979297</td>\n",
       "      <td>2.079442</td>\n",
       "    </tr>\n",
       "    <tr>\n",
       "      <th>3</th>\n",
       "      <td>1.958638</td>\n",
       "      <td>-2.723580</td>\n",
       "    </tr>\n",
       "    <tr>\n",
       "      <th>4</th>\n",
       "      <td>1.979098</td>\n",
       "      <td>2.079442</td>\n",
       "    </tr>\n",
       "    <tr>\n",
       "      <th>...</th>\n",
       "      <td>...</td>\n",
       "      <td>...</td>\n",
       "    </tr>\n",
       "    <tr>\n",
       "      <th>602</th>\n",
       "      <td>1.973064</td>\n",
       "      <td>2.079442</td>\n",
       "    </tr>\n",
       "    <tr>\n",
       "      <th>603</th>\n",
       "      <td>1.972936</td>\n",
       "      <td>2.079442</td>\n",
       "    </tr>\n",
       "    <tr>\n",
       "      <th>604</th>\n",
       "      <td>1.975213</td>\n",
       "      <td>2.079442</td>\n",
       "    </tr>\n",
       "    <tr>\n",
       "      <th>605</th>\n",
       "      <td>1.869765</td>\n",
       "      <td>2.079442</td>\n",
       "    </tr>\n",
       "    <tr>\n",
       "      <th>606</th>\n",
       "      <td>1.919360</td>\n",
       "      <td>2.079442</td>\n",
       "    </tr>\n",
       "  </tbody>\n",
       "</table>\n",
       "<p>607 rows × 2 columns</p>\n",
       "</div>"
      ],
      "text/plain": [
       "     Predicted      Test\n",
       "0     1.979232  2.079442\n",
       "1     1.984374  2.079442\n",
       "2     1.979297  2.079442\n",
       "3     1.958638 -2.723580\n",
       "4     1.979098  2.079442\n",
       "..         ...       ...\n",
       "602   1.973064  2.079442\n",
       "603   1.972936  2.079442\n",
       "604   1.975213  2.079442\n",
       "605   1.869765  2.079442\n",
       "606   1.919360  2.079442\n",
       "\n",
       "[607 rows x 2 columns]"
      ]
     },
     "execution_count": 20,
     "metadata": {},
     "output_type": "execute_result"
    }
   ],
   "source": [
    "c"
   ]
  },
  {
   "cell_type": "code",
   "execution_count": 21,
   "metadata": {},
   "outputs": [
    {
     "data": {
      "text/plain": [
       "LinregressResult(slope=0.003047024255721848, intercept=1.9560745726634676, rvalue=0.1874372874497833, pvalue=3.323948366380493e-06, stderr=0.0006491962750429538)"
      ]
     },
     "execution_count": 21,
     "metadata": {},
     "output_type": "execute_result"
    }
   ],
   "source": [
    "from scipy.stats import linregress\n",
    "linregress(b[0], a[0])"
   ]
  },
  {
   "cell_type": "code",
   "execution_count": 22,
   "metadata": {},
   "outputs": [
    {
     "name": "stdout",
     "output_type": "stream",
     "text": [
      "-0.2984852160432687\n"
     ]
    }
   ],
   "source": [
    "from sklearn.metrics import r2_score\n",
    "r2_value = r2_score(b,a)\n",
    "print(r2_value)"
   ]
  },
  {
   "cell_type": "code",
   "execution_count": 23,
   "metadata": {},
   "outputs": [
    {
     "name": "stdout",
     "output_type": "stream",
     "text": [
      "Final rmse value is = 2.222312639521638\n"
     ]
    }
   ],
   "source": [
    "rse = ((b[0]-a[0])**2).sum()\n",
    "mse = rse / len(b)\n",
    "print(\"Final rmse value is =\",np.sqrt(mse))"
   ]
  },
  {
   "cell_type": "code",
   "execution_count": 24,
   "metadata": {},
   "outputs": [
    {
     "name": "stderr",
     "output_type": "stream",
     "text": [
      "C:\\Users\\ylab\\AppData\\Local\\conda\\conda\\envs\\ronny\\lib\\site-packages\\statsmodels\\tools\\_testing.py:19: FutureWarning: pandas.util.testing is deprecated. Use the functions in the public API at pandas.testing instead.\n",
      "  import pandas.util.testing as tm\n"
     ]
    },
    {
     "data": {
      "image/png": "[encoded data removed]",
      "text/plain": [
       "<Figure size 432x432 with 3 Axes>"
      ]
     },
     "metadata": {
      "needs_background": "light"
     },
     "output_type": "display_data"
    }
   ],
   "source": [
    "workdir = \"D://Deep_learning//ResNetIC50_log//Figure//Backbone//MEYDC-6K\"\n",
    "import seaborn as sns\n",
    "\n",
    "g = sns.jointplot(x=\"Test\", y=\"Predicted\", data=c, kind='reg', color='#7C7C7C',\n",
    "                  joint_kws={'line_kws':{'color':'black'}})\n",
    "g.savefig(workdir+ '//MEYDC6K_SVR.png', dpi=300)"
   ]
  },
  {
   "cell_type": "code",
   "execution_count": null,
   "metadata": {},
   "outputs": [],
   "source": []
  }
 ],
 "metadata": {
  "kernelspec": {
   "display_name": "Python 3",
   "language": "python",
   "name": "python3"
  },
  "language_info": {
   "codemirror_mode": {
    "name": "ipython",
    "version": 3
   },
   "file_extension": ".py",
   "mimetype": "text/x-python",
   "name": "python",
   "nbconvert_exporter": "python",
   "pygments_lexer": "ipython3",
   "version": "3.6.9"
  }
 },
 "nbformat": 4,
 "nbformat_minor": 2
}
