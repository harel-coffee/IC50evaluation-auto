{
 "cells": [
  {
   "cell_type": "code",
   "execution_count": 1,
   "metadata": {},
   "outputs": [
    {
     "name": "stderr",
     "output_type": "stream",
     "text": [
      "C:\\Users\\BGM18\\.conda\\envs\\ronny_keras\\lib\\site-packages\\tensorflow\\python\\framework\\dtypes.py:516: FutureWarning: Passing (type, 1) or '1type' as a synonym of type is deprecated; in a future version of numpy, it will be understood as (type, (1,)) / '(1,)type'.\n",
      "  _np_qint8 = np.dtype([(\"qint8\", np.int8, 1)])\n",
      "C:\\Users\\BGM18\\.conda\\envs\\ronny_keras\\lib\\site-packages\\tensorflow\\python\\framework\\dtypes.py:517: FutureWarning: Passing (type, 1) or '1type' as a synonym of type is deprecated; in a future version of numpy, it will be understood as (type, (1,)) / '(1,)type'.\n",
      "  _np_quint8 = np.dtype([(\"quint8\", np.uint8, 1)])\n",
      "C:\\Users\\BGM18\\.conda\\envs\\ronny_keras\\lib\\site-packages\\tensorflow\\python\\framework\\dtypes.py:518: FutureWarning: Passing (type, 1) or '1type' as a synonym of type is deprecated; in a future version of numpy, it will be understood as (type, (1,)) / '(1,)type'.\n",
      "  _np_qint16 = np.dtype([(\"qint16\", np.int16, 1)])\n",
      "C:\\Users\\BGM18\\.conda\\envs\\ronny_keras\\lib\\site-packages\\tensorflow\\python\\framework\\dtypes.py:519: FutureWarning: Passing (type, 1) or '1type' as a synonym of type is deprecated; in a future version of numpy, it will be understood as (type, (1,)) / '(1,)type'.\n",
      "  _np_quint16 = np.dtype([(\"quint16\", np.uint16, 1)])\n",
      "C:\\Users\\BGM18\\.conda\\envs\\ronny_keras\\lib\\site-packages\\tensorflow\\python\\framework\\dtypes.py:520: FutureWarning: Passing (type, 1) or '1type' as a synonym of type is deprecated; in a future version of numpy, it will be understood as (type, (1,)) / '(1,)type'.\n",
      "  _np_qint32 = np.dtype([(\"qint32\", np.int32, 1)])\n",
      "C:\\Users\\BGM18\\.conda\\envs\\ronny_keras\\lib\\site-packages\\tensorflow\\python\\framework\\dtypes.py:525: FutureWarning: Passing (type, 1) or '1type' as a synonym of type is deprecated; in a future version of numpy, it will be understood as (type, (1,)) / '(1,)type'.\n",
      "  np_resource = np.dtype([(\"resource\", np.ubyte, 1)])\n",
      "C:\\Users\\BGM18\\.conda\\envs\\ronny_keras\\lib\\site-packages\\tensorboard\\compat\\tensorflow_stub\\dtypes.py:541: FutureWarning: Passing (type, 1) or '1type' as a synonym of type is deprecated; in a future version of numpy, it will be understood as (type, (1,)) / '(1,)type'.\n",
      "  _np_qint8 = np.dtype([(\"qint8\", np.int8, 1)])\n",
      "C:\\Users\\BGM18\\.conda\\envs\\ronny_keras\\lib\\site-packages\\tensorboard\\compat\\tensorflow_stub\\dtypes.py:542: FutureWarning: Passing (type, 1) or '1type' as a synonym of type is deprecated; in a future version of numpy, it will be understood as (type, (1,)) / '(1,)type'.\n",
      "  _np_quint8 = np.dtype([(\"quint8\", np.uint8, 1)])\n",
      "C:\\Users\\BGM18\\.conda\\envs\\ronny_keras\\lib\\site-packages\\tensorboard\\compat\\tensorflow_stub\\dtypes.py:543: FutureWarning: Passing (type, 1) or '1type' as a synonym of type is deprecated; in a future version of numpy, it will be understood as (type, (1,)) / '(1,)type'.\n",
      "  _np_qint16 = np.dtype([(\"qint16\", np.int16, 1)])\n",
      "C:\\Users\\BGM18\\.conda\\envs\\ronny_keras\\lib\\site-packages\\tensorboard\\compat\\tensorflow_stub\\dtypes.py:544: FutureWarning: Passing (type, 1) or '1type' as a synonym of type is deprecated; in a future version of numpy, it will be understood as (type, (1,)) / '(1,)type'.\n",
      "  _np_quint16 = np.dtype([(\"quint16\", np.uint16, 1)])\n",
      "C:\\Users\\BGM18\\.conda\\envs\\ronny_keras\\lib\\site-packages\\tensorboard\\compat\\tensorflow_stub\\dtypes.py:545: FutureWarning: Passing (type, 1) or '1type' as a synonym of type is deprecated; in a future version of numpy, it will be understood as (type, (1,)) / '(1,)type'.\n",
      "  _np_qint32 = np.dtype([(\"qint32\", np.int32, 1)])\n",
      "C:\\Users\\BGM18\\.conda\\envs\\ronny_keras\\lib\\site-packages\\tensorboard\\compat\\tensorflow_stub\\dtypes.py:550: FutureWarning: Passing (type, 1) or '1type' as a synonym of type is deprecated; in a future version of numpy, it will be understood as (type, (1,)) / '(1,)type'.\n",
      "  np_resource = np.dtype([(\"resource\", np.ubyte, 1)])\n",
      "Using TensorFlow backend.\n"
     ]
    }
   ],
   "source": [
    "import os\n",
    "import sys\n",
    "import pandas as pd\n",
    "import numpy as np\n",
    "from sklearn import preprocessing\n",
    "import tensorflow as tf\n",
    "import random\n",
    "import matplotlib\n",
    "from matplotlib import pyplot as plt\n",
    "import statistics\n",
    "from pandas import DataFrame\n",
    "from datetime import datetime\n",
    "import keras\n",
    "from keras.models import Sequential,Input,Model\n",
    "from keras.layers import Dense, Dropout, Reshape, Flatten, Activation\n",
    "from keras.layers import Conv1D, MaxPooling1D, AveragePooling1D, GlobalAveragePooling1D\n",
    "from keras.layers import Conv2D, MaxPooling2D, Concatenate\n",
    "from keras.layers.normalization import BatchNormalization\n",
    "from keras.layers.advanced_activations import LeakyReLU\n",
    "from keras.optimizers import Adam, RMSprop\n",
    "#from keras import backend as K\n",
    "import keras.backend.tensorflow_backend as K\n",
    "from tensorflow.keras.callbacks import ModelCheckpoint, CSVLogger\n",
    "from keras.backend.tensorflow_backend import set_session\n",
    "from os.path import basename\n",
    "#import seaborn as sns\n",
    "from keras.models import load_model\n",
    "from keras.utils.vis_utils import plot_model\n",
    "from sklearn.metrics import r2_score\n",
    "from sklearn.metrics import mean_squared_error\n",
    "from matplotlib.patches import Patch\n",
    "from matplotlib.lines import Line2D\n",
    "from scipy.stats import pearsonr\n",
    "\n",
    "# from tensorflow.keras.callbacks import ModelCheckpoint, CSVLogger\n",
    "#from tensorflow.keras.optimizers import Adam\n",
    "\n",
    "\n",
    "\n",
    "\n",
    "config = tf.ConfigProto()\n",
    "config.gpu_options.per_process_gpu_memory_fraction = 0.7\n",
    "config.gpu_options.allow_growth = True\n",
    "sess = tf.Session(config=config)"
   ]
  },
  {
   "cell_type": "code",
   "execution_count": 2,
   "metadata": {},
   "outputs": [
    {
     "name": "stdout",
     "output_type": "stream",
     "text": [
      "[name: \"/device:CPU:0\"\n",
      "device_type: \"CPU\"\n",
      "memory_limit: 268435456\n",
      "locality {\n",
      "}\n",
      "incarnation: 5498911042914319064\n",
      ", name: \"/device:GPU:0\"\n",
      "device_type: \"GPU\"\n",
      "memory_limit: 8267812044\n",
      "locality {\n",
      "  bus_id: 1\n",
      "  links {\n",
      "  }\n",
      "}\n",
      "incarnation: 9054204814293409992\n",
      "physical_device_desc: \"device: 0, name: GeForce RTX 2080 Ti, pci bus id: 0000:01:00.0, compute capability: 7.5\"\n",
      "]\n"
     ]
    }
   ],
   "source": [
    "from tensorflow.python.client import device_lib\n",
    "print(device_lib.list_local_devices())\n",
    "\n",
    "\n",
    "# 출처: https://3months.tistory.com/206 [Deep Play]"
   ]
  },
  {
   "cell_type": "code",
   "execution_count": 5,
   "metadata": {},
   "outputs": [],
   "source": [
    "workdir = \"D://ResNetIC50//Dataset//MEYDC-6K\""
   ]
  },
  {
   "cell_type": "code",
   "execution_count": 6,
   "metadata": {},
   "outputs": [],
   "source": [
    "# < Important note > [ Please download input data from https://mega.nz/#F!CeYGDKyS!uqkmWJ4E2XSGJp_C2VO2gg]\n",
    "\n",
    "dataset = np.load(workdir + \"//MEYDC6K_dataset.npz\") # input file\n",
    "ss0 = np.load(workdir + '//MEYDC6K_dataset_r0.npz') # split for training and test"
   ]
  },
  {
   "cell_type": "code",
   "execution_count": 7,
   "metadata": {},
   "outputs": [],
   "source": [
    "x = dataset['x']\n",
    "y = dataset['y']\n",
    "# y_linear = dataset['y_lnIC50']\n",
    "ss0_train = ss0['train']\n",
    "ss0_test = ss0['test']"
   ]
  },
  {
   "cell_type": "code",
   "execution_count": 8,
   "metadata": {},
   "outputs": [],
   "source": [
    "training_image_array, training_label_array = x[ss0_train], y[ss0_train]\n",
    "test_image_array, test_label_array = x[ss0_test], y[ss0_test]\n",
    "\n",
    "# In[9]:\n",
    "# ori = training_image_array\n",
    "# bat = np.zeros((ori.shape[0],178))\n",
    "# cat = np.hstack([ori,bat])\n",
    "# training_image_array = cat\n",
    "\n",
    "# # In[8]:\n",
    "# training_image_array.shape\n",
    "\n",
    "# # In[10]:\n",
    "# ori2 = test_image_array\n",
    "# bat2 = np.zeros((ori2.shape[0],178))\n",
    "# cat2 = np.hstack([ori2,bat2])\n",
    "# test_image_array = cat2\n"
   ]
  },
  {
   "cell_type": "code",
   "execution_count": 9,
   "metadata": {},
   "outputs": [
    {
     "name": "stdout",
     "output_type": "stream",
     "text": [
      "6 27\n"
     ]
    }
   ],
   "source": [
    "# In[15]:\n",
    "ab =[]\n",
    "for i in range(100,200):\n",
    "    ab.append(len(training_image_array) % i)\n",
    "    \n",
    "print(min(ab), ab.index(min(ab)))"
   ]
  },
  {
   "cell_type": "code",
   "execution_count": 10,
   "metadata": {},
   "outputs": [
    {
     "data": {
      "text/plain": [
       "(6074, 62718)"
      ]
     },
     "execution_count": 10,
     "metadata": {},
     "output_type": "execute_result"
    }
   ],
   "source": [
    "x.shape"
   ]
  },
  {
   "cell_type": "code",
   "execution_count": 11,
   "metadata": {},
   "outputs": [
    {
     "data": {
      "text/plain": [
       "(5467, 62718)"
      ]
     },
     "execution_count": 11,
     "metadata": {},
     "output_type": "execute_result"
    }
   ],
   "source": [
    "training_image_array.shape"
   ]
  },
  {
   "cell_type": "code",
   "execution_count": 12,
   "metadata": {},
   "outputs": [],
   "source": [
    "# In[21]:\n",
    "\n",
    "num_classes = 1\n",
    "learning_rate = 0.0002\n",
    "training_epochs = 150\n",
    "batch_size = 100\n",
    "img_rows, img_cols = 154, 154\n"
   ]
  },
  {
   "cell_type": "code",
   "execution_count": 13,
   "metadata": {},
   "outputs": [],
   "source": [
    "train_X, train_y, test_X, test_y = training_image_array, training_label_array, test_image_array, test_label_array\n",
    "\n",
    "# if K.image_data_format() == 'channels_first':\n",
    "#     train_X = train_X.reshape(train_X.shape[0], 1, img_rows, img_cols)\n",
    "#     test_X = test_X.reshape(x_test.shape[0], 1, img_rows, img_cols)\n",
    "#     input_shape = (1, img_rows, img_cols)\n",
    "# else:\n",
    "#     train_X = train_X.reshape(train_X.shape[0], img_rows, img_cols, 1)\n",
    "#     test_X = test_X.reshape(test_X.shape[0], img_rows, img_cols, 1)\n",
    "#     input_shape = (img_rows, img_cols, 1)\n"
   ]
  },
  {
   "cell_type": "code",
   "execution_count": 14,
   "metadata": {},
   "outputs": [
    {
     "name": "stdout",
     "output_type": "stream",
     "text": [
      "60393\n"
     ]
    }
   ],
   "source": [
    "shape_value = 60393\n",
    "print(shape_value)"
   ]
  },
  {
   "cell_type": "code",
   "execution_count": 15,
   "metadata": {},
   "outputs": [
    {
     "data": {
      "text/plain": [
       "(5467, 62718)"
      ]
     },
     "execution_count": 15,
     "metadata": {},
     "output_type": "execute_result"
    }
   ],
   "source": [
    "train_X.shape"
   ]
  },
  {
   "cell_type": "code",
   "execution_count": 16,
   "metadata": {},
   "outputs": [],
   "source": [
    "train_X_cell = train_X[:,:shape_value]\n",
    "train_X_drug =train_X[:,shape_value:]\n",
    "test_X_cell = test_X[:,:shape_value]\n",
    "test_X_drug = test_X[:,shape_value:]"
   ]
  },
  {
   "cell_type": "code",
   "execution_count": 17,
   "metadata": {},
   "outputs": [
    {
     "data": {
      "text/plain": [
       "(5467, 60393)"
      ]
     },
     "execution_count": 17,
     "metadata": {},
     "output_type": "execute_result"
    }
   ],
   "source": [
    "train_X_cell.shape"
   ]
  },
  {
   "cell_type": "code",
   "execution_count": 18,
   "metadata": {},
   "outputs": [],
   "source": [
    "train_X_cell = train_X_cell.reshape(train_X_cell.shape[0], train_X_cell.shape[1], 1)\n",
    "train_X_drug = train_X_drug.reshape(train_X_drug.shape[0], train_X_drug.shape[1], 1)\n",
    "test_X_cell = test_X_cell.reshape(test_X_cell.shape[0], test_X_cell.shape[1], 1)\n",
    "test_X_drug = test_X_drug.reshape(test_X_drug.shape[0], test_X_drug.shape[1], 1)\n",
    "#input_shape = (img_rows, img_cols, 1)"
   ]
  },
  {
   "cell_type": "code",
   "execution_count": 19,
   "metadata": {},
   "outputs": [
    {
     "name": "stdout",
     "output_type": "stream",
     "text": [
      "(5467, 60393, 1) (5467, 2325, 1) (5467,) (607, 60393, 1) (607, 2325, 1) (607,)\n"
     ]
    }
   ],
   "source": [
    "print(train_X_cell.shape,train_X_drug.shape, train_y.shape, test_X_cell.shape,test_X_drug.shape, test_y.shape)"
   ]
  },
  {
   "cell_type": "code",
   "execution_count": 20,
   "metadata": {},
   "outputs": [
    {
     "data": {
      "text/plain": [
       "(5467, 60393, 1)"
      ]
     },
     "execution_count": 20,
     "metadata": {},
     "output_type": "execute_result"
    }
   ],
   "source": [
    "train_X_cell.shape"
   ]
  },
  {
   "cell_type": "code",
   "execution_count": 21,
   "metadata": {},
   "outputs": [
    {
     "name": "stdout",
     "output_type": "stream",
     "text": [
      "train_X shape: (5467, 62718)\n",
      "5467 train samples\n",
      "607 test samples\n"
     ]
    }
   ],
   "source": [
    "train_X_cell = train_X_cell.astype('float32')\n",
    "test_X_cell = test_X_cell.astype('float32')\n",
    "train_X_drug = train_X_drug.astype('float32')\n",
    "test_X_drug = test_X_drug.astype('float32')\n",
    "# train_X /= 255\n",
    "# test_X /= 255\n",
    "print('train_X shape:', train_X.shape)\n",
    "print(train_X.shape[0], 'train samples')\n",
    "print(test_X.shape[0], 'test samples')"
   ]
  },
  {
   "cell_type": "code",
   "execution_count": 22,
   "metadata": {},
   "outputs": [
    {
     "name": "stdout",
     "output_type": "stream",
     "text": [
      "WARNING:tensorflow:From C:\\Users\\BGM18\\.conda\\envs\\ronny_keras\\lib\\site-packages\\keras\\backend\\tensorflow_backend.py:4070: The name tf.nn.max_pool is deprecated. Please use tf.nn.max_pool2d instead.\n",
      "\n"
     ]
    }
   ],
   "source": [
    "with K.tf.device('/GPU:0'):\n",
    "    input_cell = Input(shape=(train_X_cell.shape[1], train_X_cell.shape[2]), name='cell_input')\n",
    "    input_drug = Input(shape=(train_X_drug.shape[1], train_X_drug.shape[2]), name='drug_input')\n",
    "\n",
    "    conv_cell_line_1 = Conv1D(filters=50, kernel_size=700, strides=5, activation='tanh')(input_cell)\n",
    "    maxpool_cell_line_1 = MaxPooling1D(pool_size=5)(conv_cell_line_1)\n",
    "    conv_cell_line_2 = Conv1D(filters=30, kernel_size=5, strides=2, activation='relu')(maxpool_cell_line_1)\n",
    "    maxpool_cell_line_2 = MaxPooling1D(pool_size=10)(conv_cell_line_2)\n",
    "    flatten_cell_line = Flatten()(maxpool_cell_line_2)\n",
    "    dense_cell_line = Dense(100, activation='relu')(flatten_cell_line)\n",
    "    dropout_cell_line = Dropout(0.1)(dense_cell_line)\n",
    "\n",
    "    conv_drug_1 = Conv1D(filters=50, kernel_size=200, strides=3, activation='tanh')(input_drug)\n",
    "    maxpool_drug_1 = MaxPooling1D(pool_size=5)(conv_drug_1)\n",
    "    conv_drug_2 = Conv1D(filters=30, kernel_size=50, strides=5, activation='relu')(maxpool_drug_1)\n",
    "    maxpool_drug_2 = MaxPooling1D(pool_size=10)(conv_drug_2)\n",
    "    flatten_drug = Flatten()(maxpool_drug_2)\n",
    "    dense_drug = Dense(100, activation='relu')(flatten_drug)\n",
    "    dropout_drug = Dropout(0.1)(dense_drug)\n",
    "\n",
    "    concatenate = Concatenate()([dropout_cell_line, dropout_drug])\n",
    "    dense_1 = Dense(300, activation='tanh')(concatenate)\n",
    "    dropout_1 = Dropout(0.1)(dense_1)\n",
    "    reshape_1 = Reshape((300,1))(dropout_1)\n",
    "    conv_1 = Conv1D(filters=30, kernel_size=150, strides=1, activation='relu')(reshape_1)\n",
    "    maxpool_1 = MaxPooling1D(pool_size=2)(conv_1)\n",
    "    conv_2 = Conv1D(filters=10, kernel_size=5, strides=1, activation='relu')(maxpool_1)\n",
    "    maxpool_2 = MaxPooling1D(pool_size=3)(conv_2)\n",
    "    conv_3 = Conv1D(filters=5, kernel_size=5, strides=1, activation='relu')(maxpool_2)\n",
    "    maxpool_3 = MaxPooling1D(pool_size=3)(conv_3)\n",
    "    dropout_2 = Dropout(0.1)(maxpool_3)\n",
    "    flatten = Flatten()(dropout_2)\n",
    "    dropout_3 = Dropout(0.2)(flatten)\n",
    "    output = Dense(1, activation='linear', name='pred_lnIC50')(dropout_3)\n",
    "    model = Model(inputs=[input_cell, input_drug], outputs=output, name='MasterModel')\n",
    "\n"
   ]
  },
  {
   "cell_type": "code",
   "execution_count": 23,
   "metadata": {
    "scrolled": true
   },
   "outputs": [
    {
     "name": "stdout",
     "output_type": "stream",
     "text": [
      "Model: \"MasterModel\"\n",
      "__________________________________________________________________________________________________\n",
      "Layer (type)                    Output Shape         Param #     Connected to                     \n",
      "==================================================================================================\n",
      "cell_input (InputLayer)         (None, 60393, 1)     0                                            \n",
      "__________________________________________________________________________________________________\n",
      "drug_input (InputLayer)         (None, 2325, 1)      0                                            \n",
      "__________________________________________________________________________________________________\n",
      "conv1d_1 (Conv1D)               (None, 11939, 50)    35050       cell_input[0][0]                 \n",
      "__________________________________________________________________________________________________\n",
      "conv1d_3 (Conv1D)               (None, 709, 50)      10050       drug_input[0][0]                 \n",
      "__________________________________________________________________________________________________\n",
      "max_pooling1d_1 (MaxPooling1D)  (None, 2387, 50)     0           conv1d_1[0][0]                   \n",
      "__________________________________________________________________________________________________\n",
      "max_pooling1d_3 (MaxPooling1D)  (None, 141, 50)      0           conv1d_3[0][0]                   \n",
      "__________________________________________________________________________________________________\n",
      "conv1d_2 (Conv1D)               (None, 1192, 30)     7530        max_pooling1d_1[0][0]            \n",
      "__________________________________________________________________________________________________\n",
      "conv1d_4 (Conv1D)               (None, 19, 30)       75030       max_pooling1d_3[0][0]            \n",
      "__________________________________________________________________________________________________\n",
      "max_pooling1d_2 (MaxPooling1D)  (None, 119, 30)      0           conv1d_2[0][0]                   \n",
      "__________________________________________________________________________________________________\n",
      "max_pooling1d_4 (MaxPooling1D)  (None, 1, 30)        0           conv1d_4[0][0]                   \n",
      "__________________________________________________________________________________________________\n",
      "flatten_1 (Flatten)             (None, 3570)         0           max_pooling1d_2[0][0]            \n",
      "__________________________________________________________________________________________________\n",
      "flatten_2 (Flatten)             (None, 30)           0           max_pooling1d_4[0][0]            \n",
      "__________________________________________________________________________________________________\n",
      "dense_1 (Dense)                 (None, 100)          357100      flatten_1[0][0]                  \n",
      "__________________________________________________________________________________________________\n",
      "dense_2 (Dense)                 (None, 100)          3100        flatten_2[0][0]                  \n",
      "__________________________________________________________________________________________________\n",
      "dropout_1 (Dropout)             (None, 100)          0           dense_1[0][0]                    \n",
      "__________________________________________________________________________________________________\n",
      "dropout_2 (Dropout)             (None, 100)          0           dense_2[0][0]                    \n",
      "__________________________________________________________________________________________________\n",
      "concatenate_1 (Concatenate)     (None, 200)          0           dropout_1[0][0]                  \n",
      "                                                                 dropout_2[0][0]                  \n",
      "__________________________________________________________________________________________________\n",
      "dense_3 (Dense)                 (None, 300)          60300       concatenate_1[0][0]              \n",
      "__________________________________________________________________________________________________\n",
      "dropout_3 (Dropout)             (None, 300)          0           dense_3[0][0]                    \n",
      "__________________________________________________________________________________________________\n",
      "reshape_1 (Reshape)             (None, 300, 1)       0           dropout_3[0][0]                  \n",
      "__________________________________________________________________________________________________\n",
      "conv1d_5 (Conv1D)               (None, 151, 30)      4530        reshape_1[0][0]                  \n",
      "__________________________________________________________________________________________________\n",
      "max_pooling1d_5 (MaxPooling1D)  (None, 75, 30)       0           conv1d_5[0][0]                   \n",
      "__________________________________________________________________________________________________\n",
      "conv1d_6 (Conv1D)               (None, 71, 10)       1510        max_pooling1d_5[0][0]            \n",
      "__________________________________________________________________________________________________\n",
      "max_pooling1d_6 (MaxPooling1D)  (None, 23, 10)       0           conv1d_6[0][0]                   \n",
      "__________________________________________________________________________________________________\n",
      "conv1d_7 (Conv1D)               (None, 19, 5)        255         max_pooling1d_6[0][0]            \n",
      "__________________________________________________________________________________________________\n",
      "max_pooling1d_7 (MaxPooling1D)  (None, 6, 5)         0           conv1d_7[0][0]                   \n",
      "__________________________________________________________________________________________________\n",
      "dropout_4 (Dropout)             (None, 6, 5)         0           max_pooling1d_7[0][0]            \n",
      "__________________________________________________________________________________________________\n",
      "flatten_3 (Flatten)             (None, 30)           0           dropout_4[0][0]                  \n",
      "__________________________________________________________________________________________________\n",
      "dropout_5 (Dropout)             (None, 30)           0           flatten_3[0][0]                  \n",
      "__________________________________________________________________________________________________\n",
      "pred_lnIC50 (Dense)             (None, 1)            31          dropout_5[0][0]                  \n",
      "==================================================================================================\n",
      "Total params: 554,486\n",
      "Trainable params: 554,486\n",
      "Non-trainable params: 0\n",
      "__________________________________________________________________________________________________\n"
     ]
    }
   ],
   "source": [
    "model.summary()"
   ]
  },
  {
   "cell_type": "code",
   "execution_count": 24,
   "metadata": {},
   "outputs": [],
   "source": [
    "config = tf.ConfigProto()\n",
    "config.gpu_options.allow_growth = True\n",
    "sess = tf.Session(config=config)"
   ]
  },
  {
   "cell_type": "code",
   "execution_count": 25,
   "metadata": {
    "scrolled": true
   },
   "outputs": [
    {
     "name": "stdout",
     "output_type": "stream",
     "text": [
      "StartTime : 2022-02-01 23:26:32.447663\n",
      "WARNING:tensorflow:From C:\\Users\\BGM18\\.conda\\envs\\ronny_keras\\lib\\site-packages\\keras\\backend\\tensorflow_backend.py:422: The name tf.global_variables is deprecated. Please use tf.compat.v1.global_variables instead.\n",
      "\n",
      "Train on 5467 samples, validate on 607 samples\n",
      "Epoch 1/150\n",
      "5467/5467 [==============================] - 5s 997us/step - loss: 4.1905 - mse: 4.1905 - mae: 1.6750 - val_loss: 3.4649 - val_mse: 3.4649 - val_mae: 1.4079\n",
      "Epoch 2/150\n",
      "5467/5467 [==============================] - 3s 564us/step - loss: 3.0336 - mse: 3.0336 - mae: 1.3314 - val_loss: 1.4730 - val_mse: 1.4730 - val_mae: 0.83664 - mae: \n",
      "Epoch 3/150\n",
      "5467/5467 [==============================] - 3s 569us/step - loss: 1.6920 - mse: 1.6920 - mae: 0.9107 - val_loss: 1.1724 - val_mse: 1.1724 - val_mae: 0.6853\n",
      "Epoch 4/150\n",
      "5467/5467 [==============================] - 3s 578us/step - loss: 1.4459 - mse: 1.4459 - mae: 0.8323 - val_loss: 1.1110 - val_mse: 1.1110 - val_mae: 0.6801s: 1.4599 - mse: 1.4599\n",
      "Epoch 5/150\n",
      "5467/5467 [==============================] - 3s 574us/step - loss: 1.4238 - mse: 1.4238 - mae: 0.8167 - val_loss: 1.0781 - val_mse: 1.0781 - val_mae: 0.6594\n",
      "Epoch 6/150\n",
      "5467/5467 [==============================] - 3s 572us/step - loss: 1.2878 - mse: 1.2878 - mae: 0.7816 - val_loss: 1.0764 - val_mse: 1.0764 - val_mae: 0.6268\n",
      "Epoch 7/150\n",
      "5467/5467 [==============================] - 3s 565us/step - loss: 1.2960 - mse: 1.2960 - mae: 0.7823 - val_loss: 1.0911 - val_mse: 1.0911 - val_mae: 0.6216: 1.2721 - mse: 1.2721 - mae: 0 - ETA: 1s - loss: 1.2738 - mse: \n",
      "Epoch 8/150\n",
      "5467/5467 [==============================] - 3s 578us/step - loss: 1.2685 - mse: 1.2685 - mae: 0.7704 - val_loss: 1.1950 - val_mse: 1.1950 - val_mae: 0.6860\n",
      "Epoch 9/150\n",
      "5467/5467 [==============================] - 3s 575us/step - loss: 1.2546 - mse: 1.2546 - mae: 0.7748 - val_loss: 1.0778 - val_mse: 1.0778 - val_mae: 0.6830\n",
      "Epoch 10/150\n",
      "5467/5467 [==============================] - 3s 575us/step - loss: 1.2092 - mse: 1.2092 - mae: 0.7524 - val_loss: 1.0809 - val_mse: 1.0809 - val_mae: 0.6441\n",
      "Epoch 11/150\n",
      "5467/5467 [==============================] - 3s 572us/step - loss: 1.2180 - mse: 1.2180 - mae: 0.7476 - val_loss: 1.0735 - val_mse: 1.0735 - val_mae: 0.6702\n",
      "Epoch 12/150\n",
      "5467/5467 [==============================] - 3s 577us/step - loss: 1.1965 - mse: 1.1965 - mae: 0.7452 - val_loss: 1.0816 - val_mse: 1.0816 - val_mae: 0.6341\n",
      "Epoch 13/150\n",
      "5467/5467 [==============================] - 3s 576us/step - loss: 1.1498 - mse: 1.1498 - mae: 0.7283 - val_loss: 1.1347 - val_mse: 1.1347 - val_mae: 0.6321\n",
      "Epoch 14/150\n",
      "5467/5467 [==============================] - 3s 571us/step - loss: 1.1532 - mse: 1.1532 - mae: 0.7269 - val_loss: 1.1043 - val_mse: 1.1043 - val_mae: 0.6581\n",
      "Epoch 15/150\n",
      "5467/5467 [==============================] - 3s 573us/step - loss: 1.1420 - mse: 1.1420 - mae: 0.7363 - val_loss: 1.0461 - val_mse: 1.0461 - val_mae: 0.6131\n",
      "Epoch 16/150\n",
      "5467/5467 [==============================] - 3s 572us/step - loss: 1.1417 - mse: 1.1417 - mae: 0.7241 - val_loss: 1.0711 - val_mse: 1.0711 - val_mae: 0.7084 1.0 - ETA: 0s - loss: 1.1399 - mse: 1.1399 - mae: 0.\n",
      "Epoch 17/150\n",
      "5467/5467 [==============================] - 3s 571us/step - loss: 1.0840 - mse: 1.0840 - mae: 0.7121 - val_loss: 1.0621 - val_mse: 1.0621 - val_mae: 0.6113\n",
      "Epoch 18/150\n",
      "5467/5467 [==============================] - 3s 580us/step - loss: 1.0664 - mse: 1.0664 - mae: 0.7080 - val_loss: 1.0085 - val_mse: 1.0085 - val_mae: 0.5831\n",
      "Epoch 19/150\n",
      "5467/5467 [==============================] - 3s 575us/step - loss: 1.0800 - mse: 1.0800 - mae: 0.7058 - val_loss: 1.0376 - val_mse: 1.0376 - val_mae: 0.6443\n",
      "Epoch 20/150\n",
      "5467/5467 [==============================] - 3s 572us/step - loss: 1.0174 - mse: 1.0174 - mae: 0.6860 - val_loss: 1.0459 - val_mse: 1.0459 - val_mae: 0.6038\n",
      "Epoch 21/150\n",
      "5467/5467 [==============================] - 3s 572us/step - loss: 0.9895 - mse: 0.9895 - mae: 0.6737 - val_loss: 0.9944 - val_mse: 0.9944 - val_mae: 0.6662\n",
      "Epoch 22/150\n",
      "5467/5467 [==============================] - 3s 580us/step - loss: 0.9947 - mse: 0.9947 - mae: 0.6799 - val_loss: 1.0406 - val_mse: 1.0406 - val_mae: 0.6131\n",
      "Epoch 23/150\n",
      "5467/5467 [==============================] - 3s 577us/step - loss: 0.9545 - mse: 0.9545 - mae: 0.6691 - val_loss: 0.9261 - val_mse: 0.9261 - val_mae: 0.5968\n",
      "Epoch 24/150\n",
      "5467/5467 [==============================] - 3s 571us/step - loss: 0.9431 - mse: 0.9431 - mae: 0.6687 - val_loss: 0.9405 - val_mse: 0.9405 - val_mae: 0.5987\n",
      "Epoch 25/150\n",
      "5467/5467 [==============================] - 3s 578us/step - loss: 0.9270 - mse: 0.9270 - mae: 0.6615 - val_loss: 0.9154 - val_mse: 0.9154 - val_mae: 0.5792\n",
      "Epoch 26/150\n",
      "5467/5467 [==============================] - 3s 581us/step - loss: 0.8955 - mse: 0.8955 - mae: 0.6554 - val_loss: 0.9631 - val_mse: 0.9631 - val_mae: 0.5775\n",
      "Epoch 27/150\n",
      "5467/5467 [==============================] - 3s 574us/step - loss: 0.9333 - mse: 0.9333 - mae: 0.6662 - val_loss: 0.9556 - val_mse: 0.9556 - val_mae: 0.5785\n",
      "Epoch 28/150\n",
      "5467/5467 [==============================] - 3s 574us/step - loss: 0.9079 - mse: 0.9079 - mae: 0.6577 - val_loss: 0.9266 - val_mse: 0.9266 - val_mae: 0.5398\n",
      "Epoch 29/150\n",
      "5467/5467 [==============================] - 3s 572us/step - loss: 0.8707 - mse: 0.8707 - mae: 0.6465 - val_loss: 0.9140 - val_mse: 0.9140 - val_mae: 0.5668\n",
      "Epoch 30/150\n",
      "5467/5467 [==============================] - 3s 573us/step - loss: 0.8648 - mse: 0.8648 - mae: 0.6379 - val_loss: 1.0016 - val_mse: 1.0016 - val_mae: 0.6162\n",
      "Epoch 31/150\n",
      "5467/5467 [==============================] - 3s 584us/step - loss: 0.8569 - mse: 0.8569 - mae: 0.6408 - val_loss: 0.8937 - val_mse: 0.8937 - val_mae: 0.5391\n",
      "Epoch 32/150\n",
      "5467/5467 [==============================] - 3s 578us/step - loss: 0.7953 - mse: 0.7953 - mae: 0.6153 - val_loss: 0.9961 - val_mse: 0.9961 - val_mae: 0.6126\n",
      "Epoch 33/150\n",
      "5467/5467 [==============================] - 3s 577us/step - loss: 0.8295 - mse: 0.8295 - mae: 0.6328 - val_loss: 0.9597 - val_mse: 0.9597 - val_mae: 0.6003\n",
      "Epoch 34/150\n",
      "5467/5467 [==============================] - 3s 572us/step - loss: 0.8403 - mse: 0.8403 - mae: 0.6343 - val_loss: 1.0141 - val_mse: 1.0141 - val_mae: 0.6641\n",
      "Epoch 35/150\n",
      "5467/5467 [==============================] - 3s 573us/step - loss: 0.8156 - mse: 0.8156 - mae: 0.6283 - val_loss: 0.9517 - val_mse: 0.9517 - val_mae: 0.5715\n",
      "Epoch 36/150\n",
      "5467/5467 [==============================] - 3s 572us/step - loss: 0.8061 - mse: 0.8061 - mae: 0.6245 - val_loss: 0.8856 - val_mse: 0.8856 - val_mae: 0.5178\n",
      "Epoch 37/150\n",
      "5467/5467 [==============================] - 3s 574us/step - loss: 0.7765 - mse: 0.7765 - mae: 0.6112 - val_loss: 0.9392 - val_mse: 0.9392 - val_mae: 0.5614\n",
      "Epoch 38/150\n",
      "5467/5467 [==============================] - 3s 571us/step - loss: 0.7858 - mse: 0.7858 - mae: 0.6159 - val_loss: 0.9584 - val_mse: 0.9584 - val_mae: 0.5788\n",
      "Epoch 39/150\n",
      "5467/5467 [==============================] - 3s 569us/step - loss: 0.7622 - mse: 0.7622 - mae: 0.6084 - val_loss: 0.9629 - val_mse: 0.9629 - val_mae: 0.5792\n",
      "Epoch 40/150\n",
      "5467/5467 [==============================] - 3s 569us/step - loss: 0.7699 - mse: 0.7699 - mae: 0.6085 - val_loss: 0.9500 - val_mse: 0.9500 - val_mae: 0.5844\n",
      "Epoch 41/150\n",
      "5467/5467 [==============================] - 3s 567us/step - loss: 0.7462 - mse: 0.7462 - mae: 0.5967 - val_loss: 0.9814 - val_mse: 0.9814 - val_mae: 0.5780\n",
      "Epoch 42/150\n",
      "5467/5467 [==============================] - 3s 570us/step - loss: 0.7615 - mse: 0.7615 - mae: 0.6057 - val_loss: 1.0227 - val_mse: 1.0227 - val_mae: 0.5669\n",
      "Epoch 43/150\n",
      "5467/5467 [==============================] - 3s 562us/step - loss: 0.7404 - mse: 0.7404 - mae: 0.5951 - val_loss: 0.9656 - val_mse: 0.9656 - val_mae: 0.5514\n",
      "Epoch 44/150\n",
      "5467/5467 [==============================] - 3s 576us/step - loss: 0.7678 - mse: 0.7678 - mae: 0.6086 - val_loss: 0.9528 - val_mse: 0.9528 - val_mae: 0.5894\n",
      "Epoch 45/150\n",
      "5467/5467 [==============================] - 3s 570us/step - loss: 0.7575 - mse: 0.7575 - mae: 0.6050 - val_loss: 0.9516 - val_mse: 0.9516 - val_mae: 0.5719\n",
      "Epoch 46/150\n"
     ]
    },
    {
     "name": "stdout",
     "output_type": "stream",
     "text": [
      "5467/5467 [==============================] - 3s 575us/step - loss: 0.7426 - mse: 0.7426 - mae: 0.5911 - val_loss: 0.9134 - val_mse: 0.9134 - val_mae: 0.5633\n",
      "Epoch 47/150\n",
      "5467/5467 [==============================] - 3s 570us/step - loss: 0.7208 - mse: 0.7208 - mae: 0.5899 - val_loss: 0.9334 - val_mse: 0.9334 - val_mae: 0.5471\n",
      "Epoch 48/150\n",
      "5467/5467 [==============================] - 3s 566us/step - loss: 0.7324 - mse: 0.7324 - mae: 0.5952 - val_loss: 0.9485 - val_mse: 0.9485 - val_mae: 0.5681\n",
      "Epoch 49/150\n",
      "5467/5467 [==============================] - 3s 567us/step - loss: 0.7262 - mse: 0.7262 - mae: 0.5915 - val_loss: 0.9495 - val_mse: 0.9495 - val_mae: 0.6098\n",
      "Epoch 50/150\n",
      "5467/5467 [==============================] - 3s 564us/step - loss: 0.7240 - mse: 0.7240 - mae: 0.5921 - val_loss: 0.9424 - val_mse: 0.9424 - val_mae: 0.6387\n",
      "Epoch 51/150\n",
      "5467/5467 [==============================] - 3s 570us/step - loss: 0.7053 - mse: 0.7053 - mae: 0.5791 - val_loss: 0.9103 - val_mse: 0.9103 - val_mae: 0.5418\n",
      "Epoch 52/150\n",
      "5467/5467 [==============================] - 3s 567us/step - loss: 0.7232 - mse: 0.7232 - mae: 0.5897 - val_loss: 0.9899 - val_mse: 0.9899 - val_mae: 0.6002\n",
      "Epoch 53/150\n",
      "5467/5467 [==============================] - 3s 573us/step - loss: 0.7214 - mse: 0.7214 - mae: 0.5901 - val_loss: 0.9499 - val_mse: 0.9499 - val_mae: 0.5767\n",
      "Epoch 54/150\n",
      "5467/5467 [==============================] - 3s 571us/step - loss: 0.6975 - mse: 0.6975 - mae: 0.5794 - val_loss: 0.9189 - val_mse: 0.9189 - val_mae: 0.5936\n",
      "Epoch 55/150\n",
      "5467/5467 [==============================] - 3s 575us/step - loss: 0.7221 - mse: 0.7221 - mae: 0.5926 - val_loss: 0.8906 - val_mse: 0.8906 - val_mae: 0.5610\n",
      "Epoch 56/150\n",
      "5467/5467 [==============================] - 3s 569us/step - loss: 0.7081 - mse: 0.7081 - mae: 0.5819 - val_loss: 0.8971 - val_mse: 0.8971 - val_mae: 0.5305\n",
      "Epoch 57/150\n",
      "5467/5467 [==============================] - 3s 568us/step - loss: 0.7061 - mse: 0.7061 - mae: 0.5826 - val_loss: 0.9549 - val_mse: 0.9549 - val_mae: 0.6174\n",
      "Epoch 58/150\n",
      "5467/5467 [==============================] - 3s 571us/step - loss: 0.6847 - mse: 0.6847 - mae: 0.5743 - val_loss: 0.9322 - val_mse: 0.9322 - val_mae: 0.5631\n",
      "Epoch 59/150\n",
      "5467/5467 [==============================] - 3s 569us/step - loss: 0.6852 - mse: 0.6852 - mae: 0.5793 - val_loss: 0.8879 - val_mse: 0.8879 - val_mae: 0.5784\n",
      "Epoch 60/150\n",
      "5467/5467 [==============================] - 3s 569us/step - loss: 0.6702 - mse: 0.6702 - mae: 0.5622 - val_loss: 0.8775 - val_mse: 0.8775 - val_mae: 0.5592\n",
      "Epoch 61/150\n",
      "5467/5467 [==============================] - 3s 572us/step - loss: 0.6890 - mse: 0.6890 - mae: 0.5740 - val_loss: 0.8865 - val_mse: 0.8865 - val_mae: 0.6002\n",
      "Epoch 62/150\n",
      "5467/5467 [==============================] - 3s 568us/step - loss: 0.6954 - mse: 0.6954 - mae: 0.5782 - val_loss: 0.9206 - val_mse: 0.9206 - val_mae: 0.5982\n",
      "Epoch 63/150\n",
      "5467/5467 [==============================] - 3s 566us/step - loss: 0.6698 - mse: 0.6698 - mae: 0.5661 - val_loss: 0.8900 - val_mse: 0.8900 - val_mae: 0.5287\n",
      "Epoch 64/150\n",
      "5467/5467 [==============================] - 3s 570us/step - loss: 0.6665 - mse: 0.6665 - mae: 0.5736 - val_loss: 0.8840 - val_mse: 0.8840 - val_mae: 0.5711\n",
      "Epoch 65/150\n",
      "5467/5467 [==============================] - 3s 570us/step - loss: 0.6483 - mse: 0.6483 - mae: 0.5591 - val_loss: 0.9088 - val_mse: 0.9088 - val_mae: 0.5749\n",
      "Epoch 66/150\n",
      "5467/5467 [==============================] - 3s 570us/step - loss: 0.6713 - mse: 0.6713 - mae: 0.5730 - val_loss: 0.8859 - val_mse: 0.8859 - val_mae: 0.5511\n",
      "Epoch 67/150\n",
      "5467/5467 [==============================] - 3s 573us/step - loss: 0.6610 - mse: 0.6610 - mae: 0.5567 - val_loss: 0.9087 - val_mse: 0.9087 - val_mae: 0.5773\n",
      "Epoch 68/150\n",
      "5467/5467 [==============================] - 3s 571us/step - loss: 0.6545 - mse: 0.6545 - mae: 0.5597 - val_loss: 0.9080 - val_mse: 0.9080 - val_mae: 0.6066\n",
      "Epoch 69/150\n",
      "5467/5467 [==============================] - 3s 571us/step - loss: 0.6387 - mse: 0.6387 - mae: 0.5543 - val_loss: 0.9079 - val_mse: 0.9079 - val_mae: 0.5296\n",
      "Epoch 70/150\n",
      "5467/5467 [==============================] - 3s 571us/step - loss: 0.6295 - mse: 0.6295 - mae: 0.5472 - val_loss: 0.8731 - val_mse: 0.8731 - val_mae: 0.5597\n",
      "Epoch 71/150\n",
      "5467/5467 [==============================] - ETA: 0s - loss: 0.6474 - mse: 0.6474 - mae: 0.556 - 3s 566us/step - loss: 0.6441 - mse: 0.6441 - mae: 0.5554 - val_loss: 0.9439 - val_mse: 0.9439 - val_mae: 0.5637\n",
      "Epoch 72/150\n",
      "5467/5467 [==============================] - 3s 568us/step - loss: 0.6326 - mse: 0.6326 - mae: 0.5511 - val_loss: 0.9173 - val_mse: 0.9173 - val_mae: 0.5456\n",
      "Epoch 73/150\n",
      "5467/5467 [==============================] - 3s 571us/step - loss: 0.6306 - mse: 0.6306 - mae: 0.5490 - val_loss: 0.8935 - val_mse: 0.8935 - val_mae: 0.5382\n",
      "Epoch 74/150\n",
      "5467/5467 [==============================] - 3s 570us/step - loss: 0.6249 - mse: 0.6249 - mae: 0.5463 - val_loss: 0.9130 - val_mse: 0.9130 - val_mae: 0.5901\n",
      "Epoch 75/150\n",
      "5467/5467 [==============================] - 3s 576us/step - loss: 0.6366 - mse: 0.6366 - mae: 0.5553 - val_loss: 0.9365 - val_mse: 0.9365 - val_mae: 0.5944\n",
      "Epoch 76/150\n",
      "5467/5467 [==============================] - 3s 571us/step - loss: 0.6294 - mse: 0.6294 - mae: 0.5526 - val_loss: 0.8812 - val_mse: 0.8812 - val_mae: 0.5577\n",
      "Epoch 77/150\n",
      "5467/5467 [==============================] - 3s 570us/step - loss: 0.6346 - mse: 0.6346 - mae: 0.5531 - val_loss: 0.9232 - val_mse: 0.9232 - val_mae: 0.5485\n",
      "Epoch 78/150\n",
      "5467/5467 [==============================] - 3s 567us/step - loss: 0.6192 - mse: 0.6192 - mae: 0.5477 - val_loss: 0.9157 - val_mse: 0.9157 - val_mae: 0.5652\n",
      "Epoch 79/150\n",
      "5467/5467 [==============================] - 3s 576us/step - loss: 0.6083 - mse: 0.6083 - mae: 0.5446 - val_loss: 0.9085 - val_mse: 0.9085 - val_mae: 0.5416\n",
      "Epoch 80/150\n",
      "5467/5467 [==============================] - 3s 577us/step - loss: 0.6177 - mse: 0.6177 - mae: 0.5433 - val_loss: 0.9131 - val_mse: 0.9131 - val_mae: 0.5504\n",
      "Epoch 81/150\n",
      "5467/5467 [==============================] - 3s 572us/step - loss: 0.6196 - mse: 0.6196 - mae: 0.5467 - val_loss: 0.9275 - val_mse: 0.9275 - val_mae: 0.5993\n",
      "Epoch 82/150\n",
      "5467/5467 [==============================] - 3s 568us/step - loss: 0.6324 - mse: 0.6324 - mae: 0.5521 - val_loss: 0.8610 - val_mse: 0.8610 - val_mae: 0.5399\n",
      "Epoch 83/150\n",
      "5467/5467 [==============================] - 3s 568us/step - loss: 0.6140 - mse: 0.6140 - mae: 0.5422 - val_loss: 0.9014 - val_mse: 0.9014 - val_mae: 0.5418\n",
      "Epoch 84/150\n",
      "5467/5467 [==============================] - 3s 573us/step - loss: 0.5933 - mse: 0.5933 - mae: 0.5332 - val_loss: 0.8837 - val_mse: 0.8837 - val_mae: 0.5256\n",
      "Epoch 85/150\n",
      "5467/5467 [==============================] - 3s 565us/step - loss: 0.6192 - mse: 0.6192 - mae: 0.5455 - val_loss: 0.9284 - val_mse: 0.9284 - val_mae: 0.5736\n",
      "Epoch 86/150\n",
      "5467/5467 [==============================] - 3s 568us/step - loss: 0.6111 - mse: 0.6111 - mae: 0.5405 - val_loss: 0.9146 - val_mse: 0.9146 - val_mae: 0.5746\n",
      "Epoch 87/150\n",
      "5467/5467 [==============================] - 3s 572us/step - loss: 0.5965 - mse: 0.5965 - mae: 0.5343 - val_loss: 0.9321 - val_mse: 0.9321 - val_mae: 0.5902\n",
      "Epoch 88/150\n",
      "5467/5467 [==============================] - 3s 567us/step - loss: 0.5922 - mse: 0.5922 - mae: 0.5370 - val_loss: 0.8942 - val_mse: 0.8942 - val_mae: 0.5675\n",
      "Epoch 89/150\n",
      "5467/5467 [==============================] - 3s 567us/step - loss: 0.5788 - mse: 0.5788 - mae: 0.5251 - val_loss: 0.9312 - val_mse: 0.9312 - val_mae: 0.5902\n",
      "Epoch 90/150\n",
      "5467/5467 [==============================] - 3s 569us/step - loss: 0.5786 - mse: 0.5786 - mae: 0.5308 - val_loss: 0.8550 - val_mse: 0.8550 - val_mae: 0.5340\n",
      "Epoch 91/150\n",
      "5467/5467 [==============================] - 3s 570us/step - loss: 0.5927 - mse: 0.5927 - mae: 0.5317 - val_loss: 0.9085 - val_mse: 0.9085 - val_mae: 0.5795\n",
      "Epoch 92/150\n",
      "5467/5467 [==============================] - 3s 570us/step - loss: 0.5839 - mse: 0.5839 - mae: 0.5350 - val_loss: 0.8442 - val_mse: 0.8442 - val_mae: 0.5164\n",
      "Epoch 93/150\n",
      "5467/5467 [==============================] - 3s 569us/step - loss: 0.5868 - mse: 0.5868 - mae: 0.5328 - val_loss: 0.8744 - val_mse: 0.8744 - val_mae: 0.5317\n"
     ]
    },
    {
     "name": "stdout",
     "output_type": "stream",
     "text": [
      "Epoch 94/150\n",
      "5467/5467 [==============================] - 3s 570us/step - loss: 0.5650 - mse: 0.5650 - mae: 0.5207 - val_loss: 0.8886 - val_mse: 0.8886 - val_mae: 0.5278\n",
      "Epoch 95/150\n",
      "5467/5467 [==============================] - 3s 567us/step - loss: 0.5725 - mse: 0.5725 - mae: 0.5281 - val_loss: 0.8927 - val_mse: 0.8927 - val_mae: 0.5460\n",
      "Epoch 96/150\n",
      "5467/5467 [==============================] - 3s 581us/step - loss: 0.5824 - mse: 0.5824 - mae: 0.5281 - val_loss: 0.8950 - val_mse: 0.8950 - val_mae: 0.5207\n",
      "Epoch 97/150\n",
      "5467/5467 [==============================] - 3s 563us/step - loss: 0.5561 - mse: 0.5561 - mae: 0.5195 - val_loss: 0.8771 - val_mse: 0.8771 - val_mae: 0.5465\n",
      "Epoch 98/150\n",
      "5467/5467 [==============================] - 3s 567us/step - loss: 0.5701 - mse: 0.5701 - mae: 0.5295 - val_loss: 0.8702 - val_mse: 0.8702 - val_mae: 0.5357\n",
      "Epoch 99/150\n",
      "5467/5467 [==============================] - 3s 568us/step - loss: 0.5407 - mse: 0.5407 - mae: 0.5142 - val_loss: 0.8338 - val_mse: 0.8338 - val_mae: 0.5029\n",
      "Epoch 100/150\n",
      "5467/5467 [==============================] - 3s 563us/step - loss: 0.5704 - mse: 0.5704 - mae: 0.5193 - val_loss: 0.8998 - val_mse: 0.8998 - val_mae: 0.5423\n",
      "Epoch 101/150\n",
      "5467/5467 [==============================] - 3s 579us/step - loss: 0.5515 - mse: 0.5515 - mae: 0.5167 - val_loss: 0.8743 - val_mse: 0.8743 - val_mae: 0.5224\n",
      "Epoch 102/150\n",
      "5467/5467 [==============================] - 3s 567us/step - loss: 0.5470 - mse: 0.5470 - mae: 0.5113 - val_loss: 0.9231 - val_mse: 0.9231 - val_mae: 0.5557\n",
      "Epoch 103/150\n",
      "5467/5467 [==============================] - 3s 567us/step - loss: 0.5553 - mse: 0.5553 - mae: 0.5197 - val_loss: 0.8578 - val_mse: 0.8578 - val_mae: 0.5116\n",
      "Epoch 104/150\n",
      "5467/5467 [==============================] - 3s 566us/step - loss: 0.5618 - mse: 0.5618 - mae: 0.5114 - val_loss: 0.9536 - val_mse: 0.9536 - val_mae: 0.5653\n",
      "Epoch 105/150\n",
      "5467/5467 [==============================] - 3s 575us/step - loss: 0.5580 - mse: 0.5580 - mae: 0.5184 - val_loss: 0.9750 - val_mse: 0.9750 - val_mae: 0.6088\n",
      "Epoch 106/150\n",
      "5467/5467 [==============================] - 3s 567us/step - loss: 0.5423 - mse: 0.5423 - mae: 0.5129 - val_loss: 0.9001 - val_mse: 0.9001 - val_mae: 0.5713\n",
      "Epoch 107/150\n",
      "5467/5467 [==============================] - 3s 568us/step - loss: 0.5437 - mse: 0.5437 - mae: 0.5163 - val_loss: 0.9077 - val_mse: 0.9077 - val_mae: 0.5481\n",
      "Epoch 108/150\n",
      "5467/5467 [==============================] - 3s 569us/step - loss: 0.5280 - mse: 0.5280 - mae: 0.5044 - val_loss: 0.9504 - val_mse: 0.9504 - val_mae: 0.5645\n",
      "Epoch 109/150\n",
      "5467/5467 [==============================] - 3s 575us/step - loss: 0.5608 - mse: 0.5608 - mae: 0.5187 - val_loss: 0.9300 - val_mse: 0.9300 - val_mae: 0.5419\n",
      "Epoch 110/150\n",
      "5467/5467 [==============================] - 3s 565us/step - loss: 0.5390 - mse: 0.5390 - mae: 0.5075 - val_loss: 0.8983 - val_mse: 0.8983 - val_mae: 0.5790\n",
      "Epoch 111/150\n",
      "5467/5467 [==============================] - 3s 566us/step - loss: 0.5437 - mse: 0.5437 - mae: 0.5104 - val_loss: 0.8672 - val_mse: 0.8672 - val_mae: 0.5274\n",
      "Epoch 112/150\n",
      "5467/5467 [==============================] - 3s 578us/step - loss: 0.5367 - mse: 0.5367 - mae: 0.5151 - val_loss: 0.9794 - val_mse: 0.9794 - val_mae: 0.5761\n",
      "Epoch 113/150\n",
      "5467/5467 [==============================] - 3s 571us/step - loss: 0.5262 - mse: 0.5262 - mae: 0.5073 - val_loss: 0.8677 - val_mse: 0.8677 - val_mae: 0.5299\n",
      "Epoch 114/150\n",
      "5467/5467 [==============================] - 3s 572us/step - loss: 0.5408 - mse: 0.5408 - mae: 0.5116 - val_loss: 0.9043 - val_mse: 0.9043 - val_mae: 0.5200\n",
      "Epoch 115/150\n",
      "5467/5467 [==============================] - 3s 576us/step - loss: 0.5358 - mse: 0.5358 - mae: 0.5085 - val_loss: 0.8999 - val_mse: 0.8999 - val_mae: 0.5314\n",
      "Epoch 116/150\n",
      "5467/5467 [==============================] - 3s 567us/step - loss: 0.5325 - mse: 0.5325 - mae: 0.5090 - val_loss: 0.8825 - val_mse: 0.8825 - val_mae: 0.5246\n",
      "Epoch 117/150\n",
      "5467/5467 [==============================] - 3s 567us/step - loss: 0.5174 - mse: 0.5174 - mae: 0.4999 - val_loss: 0.9419 - val_mse: 0.9419 - val_mae: 0.5356\n",
      "Epoch 118/150\n",
      "5467/5467 [==============================] - 3s 571us/step - loss: 0.5213 - mse: 0.5213 - mae: 0.5059 - val_loss: 0.8947 - val_mse: 0.8947 - val_mae: 0.5272\n",
      "Epoch 119/150\n",
      "5467/5467 [==============================] - 3s 568us/step - loss: 0.5285 - mse: 0.5285 - mae: 0.5065 - val_loss: 0.8664 - val_mse: 0.8664 - val_mae: 0.5365\n",
      "Epoch 120/150\n",
      "5467/5467 [==============================] - 3s 564us/step - loss: 0.5083 - mse: 0.5083 - mae: 0.4998 - val_loss: 0.9118 - val_mse: 0.9118 - val_mae: 0.5393\n",
      "Epoch 121/150\n",
      "5467/5467 [==============================] - 3s 567us/step - loss: 0.5073 - mse: 0.5073 - mae: 0.4983 - val_loss: 0.9191 - val_mse: 0.9191 - val_mae: 0.5412\n",
      "Epoch 122/150\n",
      "5467/5467 [==============================] - 3s 569us/step - loss: 0.5172 - mse: 0.5172 - mae: 0.4981 - val_loss: 0.8869 - val_mse: 0.8869 - val_mae: 0.5352\n",
      "Epoch 123/150\n",
      "5467/5467 [==============================] - 3s 568us/step - loss: 0.5031 - mse: 0.5031 - mae: 0.4970 - val_loss: 0.9150 - val_mse: 0.9150 - val_mae: 0.5503\n",
      "Epoch 124/150\n",
      "5467/5467 [==============================] - 3s 571us/step - loss: 0.5109 - mse: 0.5109 - mae: 0.4968 - val_loss: 0.8818 - val_mse: 0.8818 - val_mae: 0.5289\n",
      "Epoch 125/150\n",
      "5467/5467 [==============================] - 3s 566us/step - loss: 0.5139 - mse: 0.5139 - mae: 0.4999 - val_loss: 0.9108 - val_mse: 0.9108 - val_mae: 0.5696\n",
      "Epoch 126/150\n",
      "5467/5467 [==============================] - 3s 571us/step - loss: 0.4933 - mse: 0.4933 - mae: 0.4904 - val_loss: 0.8804 - val_mse: 0.8804 - val_mae: 0.5220\n",
      "Epoch 127/150\n",
      "5467/5467 [==============================] - 3s 565us/step - loss: 0.5142 - mse: 0.5142 - mae: 0.5008 - val_loss: 0.9111 - val_mse: 0.9111 - val_mae: 0.5840\n",
      "Epoch 128/150\n",
      "5467/5467 [==============================] - 3s 567us/step - loss: 0.5120 - mse: 0.5120 - mae: 0.4992 - val_loss: 0.9441 - val_mse: 0.9441 - val_mae: 0.5581\n",
      "Epoch 129/150\n",
      "5467/5467 [==============================] - 3s 570us/step - loss: 0.5007 - mse: 0.5007 - mae: 0.4963 - val_loss: 0.8795 - val_mse: 0.8795 - val_mae: 0.5138\n",
      "Epoch 130/150\n",
      "5467/5467 [==============================] - 3s 568us/step - loss: 0.4969 - mse: 0.4969 - mae: 0.4909 - val_loss: 0.9009 - val_mse: 0.9009 - val_mae: 0.5336\n",
      "Epoch 131/150\n",
      "5467/5467 [==============================] - 3s 566us/step - loss: 0.5086 - mse: 0.5086 - mae: 0.4939 - val_loss: 0.8863 - val_mse: 0.8863 - val_mae: 0.5439\n",
      "Epoch 132/150\n",
      "5467/5467 [==============================] - 3s 572us/step - loss: 0.5146 - mse: 0.5146 - mae: 0.4979 - val_loss: 0.8987 - val_mse: 0.8987 - val_mae: 0.5394\n",
      "Epoch 133/150\n",
      "5467/5467 [==============================] - 3s 566us/step - loss: 0.5075 - mse: 0.5075 - mae: 0.4940 - val_loss: 0.8676 - val_mse: 0.8676 - val_mae: 0.5263\n",
      "Epoch 134/150\n",
      "5467/5467 [==============================] - 3s 569us/step - loss: 0.4979 - mse: 0.4979 - mae: 0.4955 - val_loss: 0.9031 - val_mse: 0.9031 - val_mae: 0.5392\n",
      "Epoch 135/150\n",
      "5467/5467 [==============================] - 3s 570us/step - loss: 0.4995 - mse: 0.4995 - mae: 0.4913 - val_loss: 0.9452 - val_mse: 0.9452 - val_mae: 0.5307\n",
      "Epoch 136/150\n",
      "5467/5467 [==============================] - 3s 568us/step - loss: 0.4905 - mse: 0.4905 - mae: 0.4894 - val_loss: 0.8762 - val_mse: 0.8762 - val_mae: 0.5462\n",
      "Epoch 137/150\n",
      "5467/5467 [==============================] - 3s 564us/step - loss: 0.4834 - mse: 0.4834 - mae: 0.4850 - val_loss: 0.9376 - val_mse: 0.9376 - val_mae: 0.5370\n",
      "Epoch 138/150\n",
      "5467/5467 [==============================] - 3s 565us/step - loss: 0.4989 - mse: 0.4989 - mae: 0.4967 - val_loss: 0.8996 - val_mse: 0.8996 - val_mae: 0.5306\n",
      "Epoch 139/150\n",
      "5467/5467 [==============================] - 3s 562us/step - loss: 0.4796 - mse: 0.4796 - mae: 0.4810 - val_loss: 0.8518 - val_mse: 0.8518 - val_mae: 0.5229\n",
      "Epoch 140/150\n",
      "5467/5467 [==============================] - 3s 564us/step - loss: 0.4733 - mse: 0.4733 - mae: 0.4824 - val_loss: 0.8885 - val_mse: 0.8885 - val_mae: 0.5420\n",
      "Epoch 141/150\n",
      "5467/5467 [==============================] - 3s 564us/step - loss: 0.4862 - mse: 0.4862 - mae: 0.4831 - val_loss: 0.8730 - val_mse: 0.8730 - val_mae: 0.5391\n"
     ]
    },
    {
     "name": "stdout",
     "output_type": "stream",
     "text": [
      "Epoch 142/150\n",
      "5467/5467 [==============================] - 3s 562us/step - loss: 0.4655 - mse: 0.4655 - mae: 0.4746 - val_loss: 0.8963 - val_mse: 0.8963 - val_mae: 0.5061\n",
      "Epoch 143/150\n",
      "5467/5467 [==============================] - 3s 569us/step - loss: 0.4771 - mse: 0.4771 - mae: 0.4854 - val_loss: 0.8859 - val_mse: 0.8859 - val_mae: 0.5417\n",
      "Epoch 144/150\n",
      "5467/5467 [==============================] - 3s 567us/step - loss: 0.4803 - mse: 0.4803 - mae: 0.4851 - val_loss: 0.8408 - val_mse: 0.8408 - val_mae: 0.4952\n",
      "Epoch 145/150\n",
      "5467/5467 [==============================] - 3s 576us/step - loss: 0.4694 - mse: 0.4694 - mae: 0.4806 - val_loss: 0.8965 - val_mse: 0.8965 - val_mae: 0.5686\n",
      "Epoch 146/150\n",
      "5467/5467 [==============================] - 3s 570us/step - loss: 0.4678 - mse: 0.4678 - mae: 0.4790 - val_loss: 0.8765 - val_mse: 0.8765 - val_mae: 0.5625\n",
      "Epoch 147/150\n",
      "5467/5467 [==============================] - 3s 566us/step - loss: 0.4681 - mse: 0.4681 - mae: 0.4796 - val_loss: 0.8870 - val_mse: 0.8870 - val_mae: 0.5394\n",
      "Epoch 148/150\n",
      "5467/5467 [==============================] - 3s 566us/step - loss: 0.4683 - mse: 0.4683 - mae: 0.4809 - val_loss: 0.8394 - val_mse: 0.8394 - val_mae: 0.5262\n",
      "Epoch 149/150\n",
      "5467/5467 [==============================] - 3s 569us/step - loss: 0.4694 - mse: 0.4694 - mae: 0.4761 - val_loss: 0.9003 - val_mse: 0.9003 - val_mae: 0.5363\n",
      "Epoch 150/150\n",
      "5467/5467 [==============================] - 3s 572us/step - loss: 0.4698 - mse: 0.4698 - mae: 0.4775 - val_loss: 0.8567 - val_mse: 0.8567 - val_mae: 0.5400\n",
      "EndTime : 2022-02-01 23:34:25.217814\n"
     ]
    }
   ],
   "source": [
    "optim = Adam(lr=0.0002)\n",
    "\n",
    "model.compile(loss='mse',\n",
    "\t\t      optimizer=optim,\n",
    "\t\t\t  metrics=['mse','mae'])\n",
    "\n",
    "StartTime8 = datetime.now()\n",
    "print(\"StartTime :\", StartTime8)\n",
    "with K.tf.device('/GPU:0'):\n",
    "    model_train = model.fit([train_X_cell, train_X_drug], train_y, validation_data=([test_X_cell, test_X_drug], test_y),\n",
    "                            batch_size=batch_size,epochs=training_epochs,verbose=1)\n",
    "\n",
    "EndTime8 = datetime.now()\n",
    "print(\"EndTime :\", EndTime8)"
   ]
  },
  {
   "cell_type": "code",
   "execution_count": 26,
   "metadata": {},
   "outputs": [],
   "source": [
    "import json\n",
    "from keras.models import model_from_json, load_model\n",
    "workdir = \"D://ResNetIC50//Result//MEYDC-6K//CDRScan\"\n",
    "# Option 1: Save Weights + Architecture\n",
    "model.save_weights(workdir+ '//MEYDC6K_CDRScan_model_fix_v3.h5')\n",
    "with open(workdir + '//MEYDC6K_CDRScan_model_architecture_fix_v3.json', 'w') as f:\n",
    "    f.write(model.to_json())\n",
    "# Option 1: Load Weights + Architecture\n",
    "# with open('model_architecture.json', 'r') as f:\n",
    "#     new_model_1 = model_from_json(f.read())\n",
    "# new_model_1.load_weights('model_weights.h5')"
   ]
  },
  {
   "cell_type": "code",
   "execution_count": 27,
   "metadata": {},
   "outputs": [],
   "source": [
    "# Option 2: Save/Load the Entire Model\n",
    "from keras.models import load_model\n",
    "\n",
    "# Creates a HDF5 file 'my_model.h5'\n",
    "model.save(workdir + '//MEYDC6K_CDRScan_model_fix_2080ti_v3.h5')\n",
    "\n",
    "# Deletes the existing model\n",
    "# del model  \n",
    "\n",
    "# Returns a compiled model identical to the previous one\n",
    "# model = load_model('my_model.h5')"
   ]
  },
  {
   "cell_type": "code",
   "execution_count": 28,
   "metadata": {},
   "outputs": [
    {
     "name": "stdout",
     "output_type": "stream",
     "text": [
      "607/607 [==============================] - 0s 490us/step\n"
     ]
    }
   ],
   "source": [
    "test_eval = model.evaluate([test_X_cell,test_X_drug], test_label_array, verbose=1)"
   ]
  },
  {
   "cell_type": "code",
   "execution_count": 29,
   "metadata": {},
   "outputs": [
    {
     "data": {
      "text/plain": [
       "[0.8567388053780922, 0.856738805770874, 0.5400133728981018]"
      ]
     },
     "execution_count": 29,
     "metadata": {},
     "output_type": "execute_result"
    }
   ],
   "source": [
    "test_eval"
   ]
  },
  {
   "cell_type": "code",
   "execution_count": 30,
   "metadata": {},
   "outputs": [],
   "source": [
    "accuracy = model_train.history['mse']\n",
    "val_accuracy = model_train.history['val_mse']\n",
    "loss = model_train.history['loss']\n",
    "val_loss = model_train.history['val_loss']\n",
    "\n",
    "np_acc = np.array(accuracy)\n",
    "np_val_acc = np.array(val_accuracy)\n",
    "np_loss = np.array(loss)\n",
    "np_val_loss = np.array(val_loss)"
   ]
  },
  {
   "cell_type": "code",
   "execution_count": 31,
   "metadata": {},
   "outputs": [],
   "source": [
    "import matplotlib\n",
    "from matplotlib import pyplot as plt"
   ]
  },
  {
   "cell_type": "code",
   "execution_count": 32,
   "metadata": {},
   "outputs": [
    {
     "data": {
      "image/png": "[encoded data removed]",
      "text/plain": [
       "<Figure size 432x288 with 1 Axes>"
      ]
     },
     "metadata": {
      "needs_background": "light"
     },
     "output_type": "display_data"
    },
    {
     "data": {
      "image/png": "[encoded data removed]",
      "text/plain": [
       "<Figure size 432x288 with 1 Axes>"
      ]
     },
     "metadata": {
      "needs_background": "light"
     },
     "output_type": "display_data"
    }
   ],
   "source": [
    "# accuracy = model_train.history['acc']\n",
    "# val_accuracy = model_train.history['val_acc']\n",
    "# loss = model_train.history['loss']\n",
    "# val_loss = model_train.history['val_loss']\n",
    "epochs = range(len(accuracy))\n",
    "plt.plot(epochs, accuracy, 'bo', label='Training mse',c='red')\n",
    "plt.plot(epochs, val_accuracy, 'b', label='Validation mse',c='red')\n",
    "plt.title('Training and validation mse')\n",
    "plt.legend()\n",
    "plt.figure()\n",
    "plt.plot(epochs, loss, 'bo', label='Training loss',c='red')\n",
    "plt.plot(epochs, val_loss, 'b', label='Validation loss',c='red')\n",
    "plt.title('Training and validation loss')\n",
    "plt.legend()\n",
    "plt.show()"
   ]
  },
  {
   "cell_type": "code",
   "execution_count": 33,
   "metadata": {},
   "outputs": [],
   "source": [
    "predicted_classes = model.predict([test_X_cell,test_X_drug])"
   ]
  },
  {
   "cell_type": "code",
   "execution_count": 34,
   "metadata": {},
   "outputs": [],
   "source": [
    "predicted_value = predicted_classes"
   ]
  },
  {
   "cell_type": "code",
   "execution_count": 35,
   "metadata": {},
   "outputs": [],
   "source": [
    "a = pd.DataFrame(predicted_value)\n",
    "b = pd.DataFrame(test_label_array)\n",
    "c = pd.concat([a,b], axis=1)\n",
    "c.columns=[\"Predicted\",\"Test\"]"
   ]
  },
  {
   "cell_type": "code",
   "execution_count": 36,
   "metadata": {},
   "outputs": [],
   "source": [
    "c.to_csv(workdir + '//MEYDC6K_CDRScan_pred_obs_table.csv')"
   ]
  },
  {
   "cell_type": "code",
   "execution_count": 37,
   "metadata": {},
   "outputs": [
    {
     "data": {
      "text/html": [
       "<div>\n",
       "<style scoped>\n",
       "    .dataframe tbody tr th:only-of-type {\n",
       "        vertical-align: middle;\n",
       "    }\n",
       "\n",
       "    .dataframe tbody tr th {\n",
       "        vertical-align: top;\n",
       "    }\n",
       "\n",
       "    .dataframe thead th {\n",
       "        text-align: right;\n",
       "    }\n",
       "</style>\n",
       "<table border=\"1\" class=\"dataframe\">\n",
       "  <thead>\n",
       "    <tr style=\"text-align: right;\">\n",
       "      <th></th>\n",
       "      <th>Predicted</th>\n",
       "      <th>Test</th>\n",
       "    </tr>\n",
       "  </thead>\n",
       "  <tbody>\n",
       "    <tr>\n",
       "      <th>0</th>\n",
       "      <td>1.984818</td>\n",
       "      <td>2.079442</td>\n",
       "    </tr>\n",
       "    <tr>\n",
       "      <th>1</th>\n",
       "      <td>1.923188</td>\n",
       "      <td>2.079442</td>\n",
       "    </tr>\n",
       "    <tr>\n",
       "      <th>2</th>\n",
       "      <td>1.990400</td>\n",
       "      <td>2.079442</td>\n",
       "    </tr>\n",
       "    <tr>\n",
       "      <th>3</th>\n",
       "      <td>-1.268741</td>\n",
       "      <td>-2.723580</td>\n",
       "    </tr>\n",
       "    <tr>\n",
       "      <th>4</th>\n",
       "      <td>1.872484</td>\n",
       "      <td>2.079442</td>\n",
       "    </tr>\n",
       "    <tr>\n",
       "      <th>...</th>\n",
       "      <td>...</td>\n",
       "      <td>...</td>\n",
       "    </tr>\n",
       "    <tr>\n",
       "      <th>602</th>\n",
       "      <td>1.730198</td>\n",
       "      <td>2.079442</td>\n",
       "    </tr>\n",
       "    <tr>\n",
       "      <th>603</th>\n",
       "      <td>2.222931</td>\n",
       "      <td>2.079442</td>\n",
       "    </tr>\n",
       "    <tr>\n",
       "      <th>604</th>\n",
       "      <td>1.820425</td>\n",
       "      <td>2.079442</td>\n",
       "    </tr>\n",
       "    <tr>\n",
       "      <th>605</th>\n",
       "      <td>0.728492</td>\n",
       "      <td>2.079442</td>\n",
       "    </tr>\n",
       "    <tr>\n",
       "      <th>606</th>\n",
       "      <td>1.923776</td>\n",
       "      <td>2.079442</td>\n",
       "    </tr>\n",
       "  </tbody>\n",
       "</table>\n",
       "<p>607 rows × 2 columns</p>\n",
       "</div>"
      ],
      "text/plain": [
       "     Predicted      Test\n",
       "0     1.984818  2.079442\n",
       "1     1.923188  2.079442\n",
       "2     1.990400  2.079442\n",
       "3    -1.268741 -2.723580\n",
       "4     1.872484  2.079442\n",
       "..         ...       ...\n",
       "602   1.730198  2.079442\n",
       "603   2.222931  2.079442\n",
       "604   1.820425  2.079442\n",
       "605   0.728492  2.079442\n",
       "606   1.923776  2.079442\n",
       "\n",
       "[607 rows x 2 columns]"
      ]
     },
     "execution_count": 37,
     "metadata": {},
     "output_type": "execute_result"
    }
   ],
   "source": [
    "c"
   ]
  },
  {
   "cell_type": "code",
   "execution_count": 38,
   "metadata": {},
   "outputs": [
    {
     "data": {
      "text/plain": [
       "(607, 1)"
      ]
     },
     "execution_count": 38,
     "metadata": {},
     "output_type": "execute_result"
    }
   ],
   "source": [
    "predicted_value.shape"
   ]
  },
  {
   "cell_type": "code",
   "execution_count": 39,
   "metadata": {},
   "outputs": [
    {
     "data": {
      "text/plain": [
       "LinregressResult(slope=0.8403783169259901, intercept=0.025980662898236084, rvalue=0.8845902876453705, pvalue=1.3975988595836646e-202, stderr=0.018012941474442937)"
      ]
     },
     "execution_count": 39,
     "metadata": {},
     "output_type": "execute_result"
    }
   ],
   "source": [
    "from scipy.stats import linregress\n",
    "linregress(b[0], a[0])"
   ]
  },
  {
   "cell_type": "code",
   "execution_count": 40,
   "metadata": {},
   "outputs": [
    {
     "name": "stdout",
     "output_type": "stream",
     "text": [
      "0.7747446425290943\n"
     ]
    }
   ],
   "source": [
    "from sklearn.metrics import r2_score\n",
    "r2_value = r2_score(b,a)\n",
    "print(r2_value)"
   ]
  },
  {
   "cell_type": "code",
   "execution_count": 41,
   "metadata": {},
   "outputs": [
    {
     "name": "stdout",
     "output_type": "stream",
     "text": [
      "Final rmse value is = 0.9256018713418964\n"
     ]
    }
   ],
   "source": [
    "rse = ((b[0]-a[0])**2).sum()\n",
    "mse = rse / len(b)\n",
    "print(\"Final rmse value is =\",np.sqrt(mse))"
   ]
  },
  {
   "cell_type": "code",
   "execution_count": 42,
   "metadata": {},
   "outputs": [
    {
     "data": {
      "image/png": "[encoded data removed]",
      "text/plain": [
       "<Figure size 432x432 with 3 Axes>"
      ]
     },
     "metadata": {
      "needs_background": "light"
     },
     "output_type": "display_data"
    }
   ],
   "source": [
    "workdir = \"D://ResNetIC50//Result//Figure//MEYDC-6K\"\n",
    "import seaborn as sns\n",
    "\n",
    "g = sns.jointplot(x=\"Test\", y=\"Predicted\", data=c, kind='reg', color='#7C7C7C',\n",
    "                  joint_kws={'line_kws':{'color':'black'}})\n",
    "g.savefig(workdir+ '//MEYDC6K_CDRScan.png', dpi=300)"
   ]
  },
  {
   "cell_type": "code",
   "execution_count": null,
   "metadata": {},
   "outputs": [],
   "source": []
  },
  {
   "cell_type": "code",
   "execution_count": null,
   "metadata": {},
   "outputs": [],
   "source": []
  }
 ],
 "metadata": {
  "kernelspec": {
   "display_name": "Python 3",
   "language": "python",
   "name": "python3"
  },
  "language_info": {
   "codemirror_mode": {
    "name": "ipython",
    "version": 3
   },
   "file_extension": ".py",
   "mimetype": "text/x-python",
   "name": "python",
   "nbconvert_exporter": "python",
   "pygments_lexer": "ipython3",
   "version": "3.6.12"
  }
 },
 "nbformat": 4,
 "nbformat_minor": 2
}
