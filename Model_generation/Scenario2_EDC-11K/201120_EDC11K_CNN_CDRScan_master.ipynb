{
 "cells": [
  {
   "cell_type": "code",
   "execution_count": 1,
   "metadata": {},
   "outputs": [
    {
     "name": "stderr",
     "output_type": "stream",
     "text": [
      "C:\\Users\\a\\AppData\\Roaming\\Python\\Python37\\site-packages\\tensorflow\\python\\framework\\dtypes.py:526: FutureWarning: Passing (type, 1) or '1type' as a synonym of type is deprecated; in a future version of numpy, it will be understood as (type, (1,)) / '(1,)type'.\n",
      "  _np_qint8 = np.dtype([(\"qint8\", np.int8, 1)])\n",
      "C:\\Users\\a\\AppData\\Roaming\\Python\\Python37\\site-packages\\tensorflow\\python\\framework\\dtypes.py:527: FutureWarning: Passing (type, 1) or '1type' as a synonym of type is deprecated; in a future version of numpy, it will be understood as (type, (1,)) / '(1,)type'.\n",
      "  _np_quint8 = np.dtype([(\"quint8\", np.uint8, 1)])\n",
      "C:\\Users\\a\\AppData\\Roaming\\Python\\Python37\\site-packages\\tensorflow\\python\\framework\\dtypes.py:528: FutureWarning: Passing (type, 1) or '1type' as a synonym of type is deprecated; in a future version of numpy, it will be understood as (type, (1,)) / '(1,)type'.\n",
      "  _np_qint16 = np.dtype([(\"qint16\", np.int16, 1)])\n",
      "C:\\Users\\a\\AppData\\Roaming\\Python\\Python37\\site-packages\\tensorflow\\python\\framework\\dtypes.py:529: FutureWarning: Passing (type, 1) or '1type' as a synonym of type is deprecated; in a future version of numpy, it will be understood as (type, (1,)) / '(1,)type'.\n",
      "  _np_quint16 = np.dtype([(\"quint16\", np.uint16, 1)])\n",
      "C:\\Users\\a\\AppData\\Roaming\\Python\\Python37\\site-packages\\tensorflow\\python\\framework\\dtypes.py:530: FutureWarning: Passing (type, 1) or '1type' as a synonym of type is deprecated; in a future version of numpy, it will be understood as (type, (1,)) / '(1,)type'.\n",
      "  _np_qint32 = np.dtype([(\"qint32\", np.int32, 1)])\n",
      "C:\\Users\\a\\AppData\\Roaming\\Python\\Python37\\site-packages\\tensorflow\\python\\framework\\dtypes.py:535: FutureWarning: Passing (type, 1) or '1type' as a synonym of type is deprecated; in a future version of numpy, it will be understood as (type, (1,)) / '(1,)type'.\n",
      "  np_resource = np.dtype([(\"resource\", np.ubyte, 1)])\n",
      "Using TensorFlow backend.\n"
     ]
    }
   ],
   "source": [
    "import os\n",
    "import pandas as pd\n",
    "import numpy as np\n",
    "import tensorflow as tf\n",
    "import random\n",
    "from pandas import DataFrame\n",
    "from datetime import datetime\n",
    "import keras\n",
    "from keras.models import Sequential,Input,Model\n",
    "from keras.layers import Dense, Dropout, Flatten, Reshape, Activation\n",
    "from keras.layers import Conv1D, MaxPooling1D ,AveragePooling1D\n",
    "from keras.layers.normalization import BatchNormalization\n",
    "from keras.layers.advanced_activations import LeakyReLU\n",
    "from keras import backend as K\n",
    "from keras.callbacks import ModelCheckpoint, CSVLogger\n",
    "from keras.optimizers import Adam, RMSprop\n",
    "from keras.layers import Input, Dense, Conv1D, MaxPooling1D\n",
    "from keras.layers import Flatten, Concatenate, Dropout, Reshape, BatchNormalization\n",
    "from keras.models import Model\n"
   ]
  },
  {
   "cell_type": "code",
   "execution_count": 2,
   "metadata": {},
   "outputs": [
    {
     "name": "stdout",
     "output_type": "stream",
     "text": [
      "[name: \"/device:CPU:0\"\n",
      "device_type: \"CPU\"\n",
      "memory_limit: 268435456\n",
      "locality {\n",
      "}\n",
      "incarnation: 144086124944922380\n",
      ", name: \"/device:GPU:0\"\n",
      "device_type: \"GPU\"\n",
      "memory_limit: 10116497408\n",
      "locality {\n",
      "  bus_id: 1\n",
      "  links {\n",
      "  }\n",
      "}\n",
      "incarnation: 9647863048347301612\n",
      "physical_device_desc: \"device: 0, name: GeForce GTX 1080 Ti, pci bus id: 0000:01:00.0, compute capability: 6.1\"\n",
      "]\n"
     ]
    }
   ],
   "source": [
    "from tensorflow.python.client import device_lib\n",
    "print(device_lib.list_local_devices())\n",
    "\n",
    "\n",
    "# 출처: https://3months.tistory.com/206 [Deep Play]"
   ]
  },
  {
   "cell_type": "code",
   "execution_count": 3,
   "metadata": {},
   "outputs": [],
   "source": [
    "workdir = \"E://Ronny_TF//201120_EDC_EYDC_MDC_other_PC//Dataset_EDC_EYDC_MDC_regen\""
   ]
  },
  {
   "cell_type": "code",
   "execution_count": 4,
   "metadata": {},
   "outputs": [],
   "source": [
    "# < Important note > [ Please download input data from https://mega.nz/#F!CeYGDKyS!uqkmWJ4E2XSGJp_C2VO2gg]\n",
    "# IC50evaluation//Dataset//Scenario2_EDC-11K_minmax\n",
    "\n",
    "dataset = np.load(workdir + \"//EDC11K_dataset.npz\") # input file\n",
    "ss0 = np.load(workdir + '//EDC11K_datase_r0_9_1.npz') # split for training and test"
   ]
  },
  {
   "cell_type": "code",
   "execution_count": 5,
   "metadata": {},
   "outputs": [],
   "source": [
    "x = dataset['x']\n",
    "y = dataset['y']\n",
    "# y_linear = dataset['y_lnIC50']\n",
    "ss0_train = ss0['train']\n",
    "ss0_test = ss0['test']"
   ]
  },
  {
   "cell_type": "code",
   "execution_count": 6,
   "metadata": {},
   "outputs": [],
   "source": [
    "training_image_array, training_label_array = x[ss0_train], y[ss0_train]\n",
    "test_image_array, test_label_array = x[ss0_test], y[ss0_test]\n",
    "\n",
    "# In[9]:\n",
    "# ori = training_image_array\n",
    "# bat = np.zeros((ori.shape[0],178))\n",
    "# cat = np.hstack([ori,bat])\n",
    "# training_image_array = cat\n",
    "\n",
    "# # In[8]:\n",
    "# training_image_array.shape\n",
    "\n",
    "# # In[10]:\n",
    "# ori2 = test_image_array\n",
    "# bat2 = np.zeros((ori2.shape[0],178))\n",
    "# cat2 = np.hstack([ori2,bat2])\n",
    "# test_image_array = cat2\n"
   ]
  },
  {
   "cell_type": "code",
   "execution_count": 7,
   "metadata": {},
   "outputs": [
    {
     "name": "stdout",
     "output_type": "stream",
     "text": [
      "0 42\n"
     ]
    }
   ],
   "source": [
    "# In[15]:\n",
    "ab =[]\n",
    "for i in range(100,200):\n",
    "    ab.append(len(training_image_array) % i)\n",
    "    \n",
    "print(min(ab), ab.index(min(ab)))"
   ]
  },
  {
   "cell_type": "code",
   "execution_count": 8,
   "metadata": {},
   "outputs": [
    {
     "data": {
      "text/plain": [
       "(11360, 21313)"
      ]
     },
     "execution_count": 8,
     "metadata": {},
     "output_type": "execute_result"
    }
   ],
   "source": [
    "x.shape"
   ]
  },
  {
   "cell_type": "code",
   "execution_count": 9,
   "metadata": {},
   "outputs": [
    {
     "data": {
      "text/plain": [
       "(10224, 21313)"
      ]
     },
     "execution_count": 9,
     "metadata": {},
     "output_type": "execute_result"
    }
   ],
   "source": [
    "training_image_array.shape"
   ]
  },
  {
   "cell_type": "code",
   "execution_count": 10,
   "metadata": {},
   "outputs": [],
   "source": [
    "# In[21]:\n",
    "\n",
    "num_classes = 1\n",
    "learning_rate = 0.0002\n",
    "training_epochs = 150\n",
    "batch_size = 100\n",
    "img_rows, img_cols = 154, 154\n"
   ]
  },
  {
   "cell_type": "code",
   "execution_count": 11,
   "metadata": {},
   "outputs": [],
   "source": [
    "train_X, train_y, test_X, test_y = training_image_array, training_label_array, test_image_array, test_label_array\n",
    "\n",
    "# if K.image_data_format() == 'channels_first':\n",
    "#     train_X = train_X.reshape(train_X.shape[0], 1, img_rows, img_cols)\n",
    "#     test_X = test_X.reshape(x_test.shape[0], 1, img_rows, img_cols)\n",
    "#     input_shape = (1, img_rows, img_cols)\n",
    "# else:\n",
    "#     train_X = train_X.reshape(train_X.shape[0], img_rows, img_cols, 1)\n",
    "#     test_X = test_X.reshape(test_X.shape[0], img_rows, img_cols, 1)\n",
    "#     input_shape = (img_rows, img_cols, 1)\n"
   ]
  },
  {
   "cell_type": "code",
   "execution_count": 12,
   "metadata": {},
   "outputs": [
    {
     "name": "stdout",
     "output_type": "stream",
     "text": [
      "18988\n"
     ]
    }
   ],
   "source": [
    "# the number of genes in gene expression data\n",
    "shape_value = 18988\n",
    "print(shape_value)"
   ]
  },
  {
   "cell_type": "code",
   "execution_count": 13,
   "metadata": {},
   "outputs": [
    {
     "data": {
      "text/plain": [
       "(10224, 21313)"
      ]
     },
     "execution_count": 13,
     "metadata": {},
     "output_type": "execute_result"
    }
   ],
   "source": [
    "train_X.shape"
   ]
  },
  {
   "cell_type": "code",
   "execution_count": 14,
   "metadata": {},
   "outputs": [],
   "source": [
    "train_X_cell = train_X[:,:shape_value]\n",
    "train_X_drug =train_X[:,shape_value:]\n",
    "test_X_cell = test_X[:,:shape_value]\n",
    "test_X_drug = test_X[:,shape_value:]"
   ]
  },
  {
   "cell_type": "code",
   "execution_count": 15,
   "metadata": {},
   "outputs": [
    {
     "data": {
      "text/plain": [
       "(10224, 18988)"
      ]
     },
     "execution_count": 15,
     "metadata": {},
     "output_type": "execute_result"
    }
   ],
   "source": [
    "train_X_cell.shape"
   ]
  },
  {
   "cell_type": "code",
   "execution_count": 16,
   "metadata": {},
   "outputs": [],
   "source": [
    "train_X_cell = train_X_cell.reshape(train_X_cell.shape[0], train_X_cell.shape[1], 1)\n",
    "train_X_drug = train_X_drug.reshape(train_X_drug.shape[0], train_X_drug.shape[1], 1)\n",
    "test_X_cell = test_X_cell.reshape(test_X_cell.shape[0], test_X_cell.shape[1], 1)\n",
    "test_X_drug = test_X_drug.reshape(test_X_drug.shape[0], test_X_drug.shape[1], 1)\n",
    "#input_shape = (img_rows, img_cols, 1)"
   ]
  },
  {
   "cell_type": "code",
   "execution_count": 17,
   "metadata": {},
   "outputs": [
    {
     "name": "stdout",
     "output_type": "stream",
     "text": [
      "(10224, 18988, 1) (10224, 2325, 1) (10224,) (1136, 18988, 1) (1136, 2325, 1) (1136,)\n"
     ]
    }
   ],
   "source": [
    "print(train_X_cell.shape,train_X_drug.shape, train_y.shape, test_X_cell.shape,test_X_drug.shape, test_y.shape)"
   ]
  },
  {
   "cell_type": "code",
   "execution_count": 18,
   "metadata": {},
   "outputs": [
    {
     "data": {
      "text/plain": [
       "(10224, 18988, 1)"
      ]
     },
     "execution_count": 18,
     "metadata": {},
     "output_type": "execute_result"
    }
   ],
   "source": [
    "train_X_cell.shape"
   ]
  },
  {
   "cell_type": "code",
   "execution_count": 19,
   "metadata": {},
   "outputs": [
    {
     "name": "stdout",
     "output_type": "stream",
     "text": [
      "train_X shape: (10224, 21313)\n",
      "10224 train samples\n",
      "1136 test samples\n"
     ]
    }
   ],
   "source": [
    "train_X_cell = train_X_cell.astype('float32')\n",
    "test_X_cell = test_X_cell.astype('float32')\n",
    "train_X_drug = train_X_drug.astype('float32')\n",
    "test_X_drug = test_X_drug.astype('float32')\n",
    "# train_X /= 255\n",
    "# test_X /= 255\n",
    "print('train_X shape:', train_X.shape)\n",
    "print(train_X.shape[0], 'train samples')\n",
    "print(test_X.shape[0], 'test samples')"
   ]
  },
  {
   "cell_type": "code",
   "execution_count": 20,
   "metadata": {},
   "outputs": [
    {
     "name": "stdout",
     "output_type": "stream",
     "text": [
      "WARNING:tensorflow:From C:\\Users\\a\\AppData\\Roaming\\Python\\Python37\\site-packages\\tensorflow\\python\\framework\\op_def_library.py:263: colocate_with (from tensorflow.python.framework.ops) is deprecated and will be removed in a future version.\n",
      "Instructions for updating:\n",
      "Colocations handled automatically by placer.\n",
      "WARNING:tensorflow:From C:\\Users\\a\\AppData\\Roaming\\Python\\Python37\\site-packages\\keras\\backend\\tensorflow_backend.py:3445: calling dropout (from tensorflow.python.ops.nn_ops) with keep_prob is deprecated and will be removed in a future version.\n",
      "Instructions for updating:\n",
      "Please use `rate` instead of `keep_prob`. Rate should be set to `rate = 1 - keep_prob`.\n"
     ]
    }
   ],
   "source": [
    "with K.tf.device('/GPU:0'):\n",
    "    input_cell = Input(shape=(train_X_cell.shape[1], train_X_cell.shape[2]), name='cell_input')\n",
    "    input_drug = Input(shape=(train_X_drug.shape[1], train_X_drug.shape[2]), name='drug_input')\n",
    "\n",
    "    conv_cell_line_1 = Conv1D(filters=50, kernel_size=700, strides=5, activation='tanh')(input_cell)\n",
    "    maxpool_cell_line_1 = MaxPooling1D(pool_size=5)(conv_cell_line_1)\n",
    "    conv_cell_line_2 = Conv1D(filters=30, kernel_size=5, strides=2, activation='relu')(maxpool_cell_line_1)\n",
    "    maxpool_cell_line_2 = MaxPooling1D(pool_size=10)(conv_cell_line_2)\n",
    "    flatten_cell_line = Flatten()(maxpool_cell_line_2)\n",
    "    dense_cell_line = Dense(100, activation='relu')(flatten_cell_line)\n",
    "    dropout_cell_line = Dropout(0.1)(dense_cell_line)\n",
    "\n",
    "    conv_drug_1 = Conv1D(filters=50, kernel_size=200, strides=3, activation='tanh')(input_drug)\n",
    "    maxpool_drug_1 = MaxPooling1D(pool_size=5)(conv_drug_1)\n",
    "    conv_drug_2 = Conv1D(filters=30, kernel_size=50, strides=5, activation='relu')(maxpool_drug_1)\n",
    "    maxpool_drug_2 = MaxPooling1D(pool_size=10)(conv_drug_2)\n",
    "    flatten_drug = Flatten()(maxpool_drug_2)\n",
    "    dense_drug = Dense(100, activation='relu')(flatten_drug)\n",
    "    dropout_drug = Dropout(0.1)(dense_drug)\n",
    "\n",
    "    concatenate = Concatenate()([dropout_cell_line, dropout_drug])\n",
    "    dense_1 = Dense(300, activation='tanh')(concatenate)\n",
    "    dropout_1 = Dropout(0.1)(dense_1)\n",
    "    reshape_1 = Reshape((300,1))(dropout_1)\n",
    "    conv_1 = Conv1D(filters=30, kernel_size=150, strides=1, activation='relu')(reshape_1)\n",
    "    maxpool_1 = MaxPooling1D(pool_size=2)(conv_1)\n",
    "    conv_2 = Conv1D(filters=10, kernel_size=5, strides=1, activation='relu')(maxpool_1)\n",
    "    maxpool_2 = MaxPooling1D(pool_size=3)(conv_2)\n",
    "    conv_3 = Conv1D(filters=5, kernel_size=5, strides=1, activation='relu')(maxpool_2)\n",
    "    maxpool_3 = MaxPooling1D(pool_size=3)(conv_3)\n",
    "    dropout_2 = Dropout(0.1)(maxpool_3)\n",
    "    flatten = Flatten()(dropout_2)\n",
    "    dropout_3 = Dropout(0.2)(flatten)\n",
    "    output = Dense(1, activation='linear', name='pred_lnIC50')(dropout_3)\n",
    "    model = Model(inputs=[input_cell, input_drug], outputs=output, name='MasterModel')\n",
    "\n"
   ]
  },
  {
   "cell_type": "code",
   "execution_count": 21,
   "metadata": {
    "scrolled": false
   },
   "outputs": [
    {
     "name": "stdout",
     "output_type": "stream",
     "text": [
      "__________________________________________________________________________________________________\n",
      "Layer (type)                    Output Shape         Param #     Connected to                     \n",
      "==================================================================================================\n",
      "cell_input (InputLayer)         (None, 18988, 1)     0                                            \n",
      "__________________________________________________________________________________________________\n",
      "drug_input (InputLayer)         (None, 2325, 1)      0                                            \n",
      "__________________________________________________________________________________________________\n",
      "conv1d_1 (Conv1D)               (None, 3658, 50)     35050       cell_input[0][0]                 \n",
      "__________________________________________________________________________________________________\n",
      "conv1d_3 (Conv1D)               (None, 709, 50)      10050       drug_input[0][0]                 \n",
      "__________________________________________________________________________________________________\n",
      "max_pooling1d_1 (MaxPooling1D)  (None, 731, 50)      0           conv1d_1[0][0]                   \n",
      "__________________________________________________________________________________________________\n",
      "max_pooling1d_3 (MaxPooling1D)  (None, 141, 50)      0           conv1d_3[0][0]                   \n",
      "__________________________________________________________________________________________________\n",
      "conv1d_2 (Conv1D)               (None, 364, 30)      7530        max_pooling1d_1[0][0]            \n",
      "__________________________________________________________________________________________________\n",
      "conv1d_4 (Conv1D)               (None, 19, 30)       75030       max_pooling1d_3[0][0]            \n",
      "__________________________________________________________________________________________________\n",
      "max_pooling1d_2 (MaxPooling1D)  (None, 36, 30)       0           conv1d_2[0][0]                   \n",
      "__________________________________________________________________________________________________\n",
      "max_pooling1d_4 (MaxPooling1D)  (None, 1, 30)        0           conv1d_4[0][0]                   \n",
      "__________________________________________________________________________________________________\n",
      "flatten_1 (Flatten)             (None, 1080)         0           max_pooling1d_2[0][0]            \n",
      "__________________________________________________________________________________________________\n",
      "flatten_2 (Flatten)             (None, 30)           0           max_pooling1d_4[0][0]            \n",
      "__________________________________________________________________________________________________\n",
      "dense_1 (Dense)                 (None, 100)          108100      flatten_1[0][0]                  \n",
      "__________________________________________________________________________________________________\n",
      "dense_2 (Dense)                 (None, 100)          3100        flatten_2[0][0]                  \n",
      "__________________________________________________________________________________________________\n",
      "dropout_1 (Dropout)             (None, 100)          0           dense_1[0][0]                    \n",
      "__________________________________________________________________________________________________\n",
      "dropout_2 (Dropout)             (None, 100)          0           dense_2[0][0]                    \n",
      "__________________________________________________________________________________________________\n",
      "concatenate_1 (Concatenate)     (None, 200)          0           dropout_1[0][0]                  \n",
      "                                                                 dropout_2[0][0]                  \n",
      "__________________________________________________________________________________________________\n",
      "dense_3 (Dense)                 (None, 300)          60300       concatenate_1[0][0]              \n",
      "__________________________________________________________________________________________________\n",
      "dropout_3 (Dropout)             (None, 300)          0           dense_3[0][0]                    \n",
      "__________________________________________________________________________________________________\n",
      "reshape_1 (Reshape)             (None, 300, 1)       0           dropout_3[0][0]                  \n",
      "__________________________________________________________________________________________________\n",
      "conv1d_5 (Conv1D)               (None, 151, 30)      4530        reshape_1[0][0]                  \n",
      "__________________________________________________________________________________________________\n",
      "max_pooling1d_5 (MaxPooling1D)  (None, 75, 30)       0           conv1d_5[0][0]                   \n",
      "__________________________________________________________________________________________________\n",
      "conv1d_6 (Conv1D)               (None, 71, 10)       1510        max_pooling1d_5[0][0]            \n",
      "__________________________________________________________________________________________________\n",
      "max_pooling1d_6 (MaxPooling1D)  (None, 23, 10)       0           conv1d_6[0][0]                   \n",
      "__________________________________________________________________________________________________\n",
      "conv1d_7 (Conv1D)               (None, 19, 5)        255         max_pooling1d_6[0][0]            \n",
      "__________________________________________________________________________________________________\n",
      "max_pooling1d_7 (MaxPooling1D)  (None, 6, 5)         0           conv1d_7[0][0]                   \n",
      "__________________________________________________________________________________________________\n",
      "dropout_4 (Dropout)             (None, 6, 5)         0           max_pooling1d_7[0][0]            \n",
      "__________________________________________________________________________________________________\n",
      "flatten_3 (Flatten)             (None, 30)           0           dropout_4[0][0]                  \n",
      "__________________________________________________________________________________________________\n",
      "dropout_5 (Dropout)             (None, 30)           0           flatten_3[0][0]                  \n",
      "__________________________________________________________________________________________________\n",
      "pred_lnIC50 (Dense)             (None, 1)            31          dropout_5[0][0]                  \n",
      "==================================================================================================\n",
      "Total params: 305,486\n",
      "Trainable params: 305,486\n",
      "Non-trainable params: 0\n",
      "__________________________________________________________________________________________________\n"
     ]
    }
   ],
   "source": [
    "model.summary()"
   ]
  },
  {
   "cell_type": "code",
   "execution_count": 22,
   "metadata": {},
   "outputs": [],
   "source": [
    "config = tf.ConfigProto()\n",
    "config.gpu_options.allow_growth = True\n",
    "sess = tf.Session(config=config)"
   ]
  },
  {
   "cell_type": "code",
   "execution_count": 23,
   "metadata": {
    "scrolled": true
   },
   "outputs": [
    {
     "name": "stdout",
     "output_type": "stream",
     "text": [
      "StartTime : 2020-11-23 16:30:32.845446\n",
      "WARNING:tensorflow:From C:\\Users\\a\\AppData\\Roaming\\Python\\Python37\\site-packages\\tensorflow\\python\\ops\\math_ops.py:3066: to_int32 (from tensorflow.python.ops.math_ops) is deprecated and will be removed in a future version.\n",
      "Instructions for updating:\n",
      "Use tf.cast instead.\n",
      "Train on 10224 samples, validate on 1136 samples\n",
      "Epoch 1/150\n",
      "10224/10224 [==============================] - 6s 579us/step - loss: 3.1614 - mean_squared_error: 3.1614 - mean_absolute_error: 1.3364 - val_loss: 1.3792 - val_mean_squared_error: 1.3792 - val_mean_absolute_error: 0.6834\n",
      "Epoch 2/150\n",
      "10224/10224 [==============================] - 3s 338us/step - loss: 1.5454 - mean_squared_error: 1.5454 - mean_absolute_error: 0.8559 - val_loss: 1.1362 - val_mean_squared_error: 1.1362 - val_mean_absolute_error: 0.6167\n",
      "Epoch 3/150\n",
      "10224/10224 [==============================] - 4s 345us/step - loss: 1.3378 - mean_squared_error: 1.3378 - mean_absolute_error: 0.7883 - val_loss: 1.0627 - val_mean_squared_error: 1.0627 - val_mean_absolute_error: 0.6640\n",
      "Epoch 4/150\n",
      "10224/10224 [==============================] - 3s 339us/step - loss: 1.2915 - mean_squared_error: 1.2915 - mean_absolute_error: 0.7658 - val_loss: 1.0590 - val_mean_squared_error: 1.0590 - val_mean_absolute_error: 0.6683\n",
      "Epoch 5/150\n",
      "10224/10224 [==============================] - 3s 335us/step - loss: 1.2186 - mean_squared_error: 1.2186 - mean_absolute_error: 0.7451 - val_loss: 1.1033 - val_mean_squared_error: 1.1033 - val_mean_absolute_error: 0.6341\n",
      "Epoch 6/150\n",
      "10224/10224 [==============================] - 3s 341us/step - loss: 1.2161 - mean_squared_error: 1.2161 - mean_absolute_error: 0.7399 - val_loss: 1.0645 - val_mean_squared_error: 1.0645 - val_mean_absolute_error: 0.5993\n",
      "Epoch 7/150\n",
      "10224/10224 [==============================] - 4s 348us/step - loss: 1.1555 - mean_squared_error: 1.1555 - mean_absolute_error: 0.7217 - val_loss: 1.0362 - val_mean_squared_error: 1.0362 - val_mean_absolute_error: 0.6619\n",
      "Epoch 8/150\n",
      "10224/10224 [==============================] - 3s 338us/step - loss: 1.1734 - mean_squared_error: 1.1734 - mean_absolute_error: 0.7212 - val_loss: 0.9882 - val_mean_squared_error: 0.9882 - val_mean_absolute_error: 0.6195\n",
      "Epoch 9/150\n",
      "10224/10224 [==============================] - 3s 335us/step - loss: 1.1286 - mean_squared_error: 1.1286 - mean_absolute_error: 0.7126 - val_loss: 0.9985 - val_mean_squared_error: 0.9985 - val_mean_absolute_error: 0.6156\n",
      "Epoch 10/150\n",
      "10224/10224 [==============================] - 3s 336us/step - loss: 1.0945 - mean_squared_error: 1.0945 - mean_absolute_error: 0.7026 - val_loss: 1.0568 - val_mean_squared_error: 1.0568 - val_mean_absolute_error: 0.6162\n",
      "Epoch 11/150\n",
      "10224/10224 [==============================] - 3s 338us/step - loss: 1.0688 - mean_squared_error: 1.0688 - mean_absolute_error: 0.6909 - val_loss: 1.0022 - val_mean_squared_error: 1.0022 - val_mean_absolute_error: 0.5691\n",
      "Epoch 12/150\n",
      "10224/10224 [==============================] - 3s 337us/step - loss: 1.0364 - mean_squared_error: 1.0364 - mean_absolute_error: 0.6847 - val_loss: 0.9951 - val_mean_squared_error: 0.9951 - val_mean_absolute_error: 0.5715\n",
      "Epoch 13/150\n",
      "10224/10224 [==============================] - 3s 336us/step - loss: 0.9891 - mean_squared_error: 0.9891 - mean_absolute_error: 0.6652 - val_loss: 0.9749 - val_mean_squared_error: 0.9749 - val_mean_absolute_error: 0.6346\n",
      "Epoch 14/150\n",
      "10224/10224 [==============================] - 3s 335us/step - loss: 0.9937 - mean_squared_error: 0.9937 - mean_absolute_error: 0.6702 - val_loss: 0.9299 - val_mean_squared_error: 0.9299 - val_mean_absolute_error: 0.5888\n",
      "Epoch 15/150\n",
      "10224/10224 [==============================] - 3s 336us/step - loss: 0.9547 - mean_squared_error: 0.9547 - mean_absolute_error: 0.6606 - val_loss: 1.0170 - val_mean_squared_error: 1.0170 - val_mean_absolute_error: 0.6899\n",
      "Epoch 16/150\n",
      "10224/10224 [==============================] - 3s 335us/step - loss: 0.9482 - mean_squared_error: 0.9482 - mean_absolute_error: 0.6586 - val_loss: 0.9939 - val_mean_squared_error: 0.9939 - val_mean_absolute_error: 0.5794\n",
      "Epoch 17/150\n",
      "10224/10224 [==============================] - 3s 335us/step - loss: 0.9138 - mean_squared_error: 0.9138 - mean_absolute_error: 0.6444 - val_loss: 0.9356 - val_mean_squared_error: 0.9356 - val_mean_absolute_error: 0.5582\n",
      "Epoch 18/150\n",
      "10224/10224 [==============================] - 3s 338us/step - loss: 0.9063 - mean_squared_error: 0.9063 - mean_absolute_error: 0.6429 - val_loss: 0.8906 - val_mean_squared_error: 0.8906 - val_mean_absolute_error: 0.5730\n",
      "Epoch 19/150\n",
      "10224/10224 [==============================] - 3s 337us/step - loss: 0.8905 - mean_squared_error: 0.8905 - mean_absolute_error: 0.6443 - val_loss: 0.9067 - val_mean_squared_error: 0.9067 - val_mean_absolute_error: 0.5586\n",
      "Epoch 20/150\n",
      "10224/10224 [==============================] - 3s 335us/step - loss: 0.8760 - mean_squared_error: 0.8760 - mean_absolute_error: 0.6376 - val_loss: 0.9145 - val_mean_squared_error: 0.9145 - val_mean_absolute_error: 0.5473\n",
      "Epoch 21/150\n",
      "10224/10224 [==============================] - 3s 334us/step - loss: 0.8668 - mean_squared_error: 0.8668 - mean_absolute_error: 0.6315 - val_loss: 0.9403 - val_mean_squared_error: 0.9403 - val_mean_absolute_error: 0.6292\n",
      "Epoch 22/150\n",
      "10224/10224 [==============================] - 3s 338us/step - loss: 0.8421 - mean_squared_error: 0.8421 - mean_absolute_error: 0.6232 - val_loss: 0.8874 - val_mean_squared_error: 0.8874 - val_mean_absolute_error: 0.6091\n",
      "Epoch 23/150\n",
      "10224/10224 [==============================] - 3s 337us/step - loss: 0.8100 - mean_squared_error: 0.8100 - mean_absolute_error: 0.6119 - val_loss: 0.9382 - val_mean_squared_error: 0.9382 - val_mean_absolute_error: 0.6105\n",
      "Epoch 24/150\n",
      "10224/10224 [==============================] - 4s 344us/step - loss: 0.8259 - mean_squared_error: 0.8259 - mean_absolute_error: 0.6182 - val_loss: 0.9765 - val_mean_squared_error: 0.9765 - val_mean_absolute_error: 0.6005\n",
      "Epoch 25/150\n",
      "10224/10224 [==============================] - 4s 344us/step - loss: 0.7958 - mean_squared_error: 0.7958 - mean_absolute_error: 0.6125 - val_loss: 0.8935 - val_mean_squared_error: 0.8935 - val_mean_absolute_error: 0.5318\n",
      "Epoch 26/150\n",
      "10224/10224 [==============================] - 4s 345us/step - loss: 0.7924 - mean_squared_error: 0.7924 - mean_absolute_error: 0.6082 - val_loss: 0.9710 - val_mean_squared_error: 0.9710 - val_mean_absolute_error: 0.5400\n",
      "Epoch 27/150\n",
      "10224/10224 [==============================] - 4s 344us/step - loss: 0.7753 - mean_squared_error: 0.7753 - mean_absolute_error: 0.6014 - val_loss: 0.9780 - val_mean_squared_error: 0.9780 - val_mean_absolute_error: 0.6303\n",
      "Epoch 28/150\n",
      "10224/10224 [==============================] - 4s 344us/step - loss: 0.7708 - mean_squared_error: 0.7708 - mean_absolute_error: 0.6009 - val_loss: 1.0533 - val_mean_squared_error: 1.0533 - val_mean_absolute_error: 0.6369\n",
      "Epoch 29/150\n",
      "10224/10224 [==============================] - 4s 345us/step - loss: 0.7678 - mean_squared_error: 0.7678 - mean_absolute_error: 0.5989 - val_loss: 0.9663 - val_mean_squared_error: 0.9663 - val_mean_absolute_error: 0.6301\n",
      "Epoch 30/150\n",
      "10224/10224 [==============================] - 4s 344us/step - loss: 0.7546 - mean_squared_error: 0.7546 - mean_absolute_error: 0.5929 - val_loss: 0.8968 - val_mean_squared_error: 0.8968 - val_mean_absolute_error: 0.5728\n",
      "Epoch 31/150\n",
      "10224/10224 [==============================] - 4s 345us/step - loss: 0.7443 - mean_squared_error: 0.7443 - mean_absolute_error: 0.5929 - val_loss: 0.8936 - val_mean_squared_error: 0.8936 - val_mean_absolute_error: 0.6262\n",
      "Epoch 32/150\n",
      "10224/10224 [==============================] - 4s 347us/step - loss: 0.7483 - mean_squared_error: 0.7483 - mean_absolute_error: 0.5962 - val_loss: 0.9190 - val_mean_squared_error: 0.9190 - val_mean_absolute_error: 0.5448\n",
      "Epoch 33/150\n",
      "10224/10224 [==============================] - 4s 344us/step - loss: 0.7407 - mean_squared_error: 0.7407 - mean_absolute_error: 0.5906 - val_loss: 0.8866 - val_mean_squared_error: 0.8866 - val_mean_absolute_error: 0.6088\n",
      "Epoch 34/150\n"
     ]
    },
    {
     "name": "stdout",
     "output_type": "stream",
     "text": [
      "10224/10224 [==============================] - 4s 344us/step - loss: 0.7303 - mean_squared_error: 0.7303 - mean_absolute_error: 0.5913 - val_loss: 0.9249 - val_mean_squared_error: 0.9249 - val_mean_absolute_error: 0.5516\n",
      "Epoch 35/150\n",
      "10224/10224 [==============================] - 4s 344us/step - loss: 0.7106 - mean_squared_error: 0.7106 - mean_absolute_error: 0.5811 - val_loss: 0.9080 - val_mean_squared_error: 0.9080 - val_mean_absolute_error: 0.5715\n",
      "Epoch 36/150\n",
      "10224/10224 [==============================] - 4s 344us/step - loss: 0.7114 - mean_squared_error: 0.7114 - mean_absolute_error: 0.5777 - val_loss: 0.9397 - val_mean_squared_error: 0.9397 - val_mean_absolute_error: 0.6158\n",
      "Epoch 37/150\n",
      "10224/10224 [==============================] - 4s 344us/step - loss: 0.7084 - mean_squared_error: 0.7084 - mean_absolute_error: 0.5804 - val_loss: 0.9608 - val_mean_squared_error: 0.9608 - val_mean_absolute_error: 0.6108\n",
      "Epoch 38/150\n",
      "10224/10224 [==============================] - 4s 344us/step - loss: 0.6974 - mean_squared_error: 0.6974 - mean_absolute_error: 0.5774 - val_loss: 0.8893 - val_mean_squared_error: 0.8893 - val_mean_absolute_error: 0.5189\n",
      "Epoch 39/150\n",
      "10224/10224 [==============================] - 4s 344us/step - loss: 0.6968 - mean_squared_error: 0.6968 - mean_absolute_error: 0.5723 - val_loss: 0.8998 - val_mean_squared_error: 0.8998 - val_mean_absolute_error: 0.5739\n",
      "Epoch 40/150\n",
      "10224/10224 [==============================] - 4s 344us/step - loss: 0.6802 - mean_squared_error: 0.6802 - mean_absolute_error: 0.5670 - val_loss: 0.9354 - val_mean_squared_error: 0.9354 - val_mean_absolute_error: 0.5442\n",
      "Epoch 41/150\n",
      "10224/10224 [==============================] - 4s 344us/step - loss: 0.7025 - mean_squared_error: 0.7025 - mean_absolute_error: 0.5764 - val_loss: 0.9316 - val_mean_squared_error: 0.9316 - val_mean_absolute_error: 0.5511\n",
      "Epoch 42/150\n",
      "10224/10224 [==============================] - 4s 345us/step - loss: 0.6785 - mean_squared_error: 0.6785 - mean_absolute_error: 0.5683 - val_loss: 0.9371 - val_mean_squared_error: 0.9371 - val_mean_absolute_error: 0.5403\n",
      "Epoch 43/150\n",
      "10224/10224 [==============================] - 4s 344us/step - loss: 0.6917 - mean_squared_error: 0.6917 - mean_absolute_error: 0.5712 - val_loss: 0.9201 - val_mean_squared_error: 0.9201 - val_mean_absolute_error: 0.5341\n",
      "Epoch 44/150\n",
      "10224/10224 [==============================] - 4s 344us/step - loss: 0.6725 - mean_squared_error: 0.6725 - mean_absolute_error: 0.5651 - val_loss: 0.9054 - val_mean_squared_error: 0.9054 - val_mean_absolute_error: 0.5736\n",
      "Epoch 45/150\n",
      "10224/10224 [==============================] - 4s 344us/step - loss: 0.6610 - mean_squared_error: 0.6610 - mean_absolute_error: 0.5581 - val_loss: 0.9447 - val_mean_squared_error: 0.9447 - val_mean_absolute_error: 0.5909\n",
      "Epoch 46/150\n",
      "10224/10224 [==============================] - 4s 345us/step - loss: 0.6655 - mean_squared_error: 0.6655 - mean_absolute_error: 0.5611 - val_loss: 0.8751 - val_mean_squared_error: 0.8751 - val_mean_absolute_error: 0.5644\n",
      "Epoch 47/150\n",
      "10224/10224 [==============================] - 4s 342us/step - loss: 0.6511 - mean_squared_error: 0.6511 - mean_absolute_error: 0.5553 - val_loss: 0.8609 - val_mean_squared_error: 0.8609 - val_mean_absolute_error: 0.5358\n",
      "Epoch 48/150\n",
      "10224/10224 [==============================] - 4s 345us/step - loss: 0.6695 - mean_squared_error: 0.6695 - mean_absolute_error: 0.5645 - val_loss: 0.8895 - val_mean_squared_error: 0.8895 - val_mean_absolute_error: 0.5445\n",
      "Epoch 49/150\n",
      "10224/10224 [==============================] - 4s 344us/step - loss: 0.6665 - mean_squared_error: 0.6665 - mean_absolute_error: 0.5610 - val_loss: 0.8836 - val_mean_squared_error: 0.8836 - val_mean_absolute_error: 0.5594\n",
      "Epoch 50/150\n",
      "10224/10224 [==============================] - 4s 345us/step - loss: 0.6617 - mean_squared_error: 0.6617 - mean_absolute_error: 0.5613 - val_loss: 0.8996 - val_mean_squared_error: 0.8996 - val_mean_absolute_error: 0.5634\n",
      "Epoch 51/150\n",
      "10224/10224 [==============================] - 4s 347us/step - loss: 0.6462 - mean_squared_error: 0.6462 - mean_absolute_error: 0.5543 - val_loss: 0.8689 - val_mean_squared_error: 0.8689 - val_mean_absolute_error: 0.5151\n",
      "Epoch 52/150\n",
      "10224/10224 [==============================] - 4s 344us/step - loss: 0.6554 - mean_squared_error: 0.6554 - mean_absolute_error: 0.5521 - val_loss: 0.9074 - val_mean_squared_error: 0.9074 - val_mean_absolute_error: 0.5510\n",
      "Epoch 53/150\n",
      "10224/10224 [==============================] - 4s 344us/step - loss: 0.6355 - mean_squared_error: 0.6355 - mean_absolute_error: 0.5472 - val_loss: 0.8780 - val_mean_squared_error: 0.8780 - val_mean_absolute_error: 0.6001\n",
      "Epoch 54/150\n",
      "10224/10224 [==============================] - 4s 347us/step - loss: 0.6561 - mean_squared_error: 0.6561 - mean_absolute_error: 0.5557 - val_loss: 0.8929 - val_mean_squared_error: 0.8929 - val_mean_absolute_error: 0.5846\n",
      "Epoch 55/150\n",
      "10224/10224 [==============================] - 4s 345us/step - loss: 0.6357 - mean_squared_error: 0.6357 - mean_absolute_error: 0.5455 - val_loss: 0.8326 - val_mean_squared_error: 0.8326 - val_mean_absolute_error: 0.5516\n",
      "Epoch 56/150\n",
      "10224/10224 [==============================] - 4s 347us/step - loss: 0.6365 - mean_squared_error: 0.6365 - mean_absolute_error: 0.5454 - val_loss: 0.8975 - val_mean_squared_error: 0.8975 - val_mean_absolute_error: 0.5461\n",
      "Epoch 57/150\n",
      "10224/10224 [==============================] - 4s 345us/step - loss: 0.6345 - mean_squared_error: 0.6345 - mean_absolute_error: 0.5453 - val_loss: 0.8843 - val_mean_squared_error: 0.8843 - val_mean_absolute_error: 0.5785\n",
      "Epoch 58/150\n",
      "10224/10224 [==============================] - 4s 345us/step - loss: 0.6307 - mean_squared_error: 0.6307 - mean_absolute_error: 0.5435 - val_loss: 0.8858 - val_mean_squared_error: 0.8858 - val_mean_absolute_error: 0.5588\n",
      "Epoch 59/150\n",
      "10224/10224 [==============================] - 3s 342us/step - loss: 0.6411 - mean_squared_error: 0.6411 - mean_absolute_error: 0.5495 - val_loss: 0.8693 - val_mean_squared_error: 0.8693 - val_mean_absolute_error: 0.5851\n",
      "Epoch 60/150\n",
      "10224/10224 [==============================] - 4s 345us/step - loss: 0.6221 - mean_squared_error: 0.6221 - mean_absolute_error: 0.5418 - val_loss: 0.8761 - val_mean_squared_error: 0.8761 - val_mean_absolute_error: 0.5516\n",
      "Epoch 61/150\n",
      "10224/10224 [==============================] - 4s 345us/step - loss: 0.6243 - mean_squared_error: 0.6243 - mean_absolute_error: 0.5419 - val_loss: 0.8633 - val_mean_squared_error: 0.8633 - val_mean_absolute_error: 0.5089\n",
      "Epoch 62/150\n",
      "10224/10224 [==============================] - 4s 347us/step - loss: 0.6149 - mean_squared_error: 0.6149 - mean_absolute_error: 0.5375 - val_loss: 0.8849 - val_mean_squared_error: 0.8849 - val_mean_absolute_error: 0.5668\n",
      "Epoch 63/150\n",
      "10224/10224 [==============================] - 4s 347us/step - loss: 0.6028 - mean_squared_error: 0.6028 - mean_absolute_error: 0.5325 - val_loss: 0.8646 - val_mean_squared_error: 0.8646 - val_mean_absolute_error: 0.5552\n",
      "Epoch 64/150\n",
      "10224/10224 [==============================] - 4s 344us/step - loss: 0.6102 - mean_squared_error: 0.6102 - mean_absolute_error: 0.5335 - val_loss: 0.9055 - val_mean_squared_error: 0.9055 - val_mean_absolute_error: 0.5339\n",
      "Epoch 65/150\n",
      "10224/10224 [==============================] - 4s 347us/step - loss: 0.6305 - mean_squared_error: 0.6305 - mean_absolute_error: 0.5432 - val_loss: 0.8317 - val_mean_squared_error: 0.8317 - val_mean_absolute_error: 0.5410\n",
      "Epoch 66/150\n",
      "10224/10224 [==============================] - 4s 345us/step - loss: 0.6181 - mean_squared_error: 0.6181 - mean_absolute_error: 0.5364 - val_loss: 0.9201 - val_mean_squared_error: 0.9201 - val_mean_absolute_error: 0.5883\n",
      "Epoch 67/150\n",
      "10224/10224 [==============================] - 4s 345us/step - loss: 0.5938 - mean_squared_error: 0.5938 - mean_absolute_error: 0.5265 - val_loss: 0.8658 - val_mean_squared_error: 0.8658 - val_mean_absolute_error: 0.5466\n",
      "Epoch 68/150\n",
      "10224/10224 [==============================] - 4s 344us/step - loss: 0.6142 - mean_squared_error: 0.6142 - mean_absolute_error: 0.5368 - val_loss: 0.8426 - val_mean_squared_error: 0.8426 - val_mean_absolute_error: 0.5493\n",
      "Epoch 69/150\n"
     ]
    },
    {
     "name": "stdout",
     "output_type": "stream",
     "text": [
      "10224/10224 [==============================] - 4s 347us/step - loss: 0.5865 - mean_squared_error: 0.5865 - mean_absolute_error: 0.5267 - val_loss: 0.9452 - val_mean_squared_error: 0.9452 - val_mean_absolute_error: 0.5868\n",
      "Epoch 70/150\n",
      "10224/10224 [==============================] - 4s 347us/step - loss: 0.5908 - mean_squared_error: 0.5908 - mean_absolute_error: 0.5270 - val_loss: 0.9427 - val_mean_squared_error: 0.9427 - val_mean_absolute_error: 0.5931\n",
      "Epoch 71/150\n",
      "10224/10224 [==============================] - 4s 345us/step - loss: 0.5870 - mean_squared_error: 0.5870 - mean_absolute_error: 0.5248 - val_loss: 0.8326 - val_mean_squared_error: 0.8326 - val_mean_absolute_error: 0.5436\n",
      "Epoch 72/150\n",
      "10224/10224 [==============================] - 4s 348us/step - loss: 0.5738 - mean_squared_error: 0.5738 - mean_absolute_error: 0.5186 - val_loss: 0.8395 - val_mean_squared_error: 0.8395 - val_mean_absolute_error: 0.5241\n",
      "Epoch 73/150\n",
      "10224/10224 [==============================] - 4s 345us/step - loss: 0.6000 - mean_squared_error: 0.6000 - mean_absolute_error: 0.5300 - val_loss: 0.8599 - val_mean_squared_error: 0.8599 - val_mean_absolute_error: 0.5657\n",
      "Epoch 74/150\n",
      "10224/10224 [==============================] - 4s 350us/step - loss: 0.5800 - mean_squared_error: 0.5800 - mean_absolute_error: 0.5251 - val_loss: 0.9032 - val_mean_squared_error: 0.9032 - val_mean_absolute_error: 0.5217\n",
      "Epoch 75/150\n",
      "10224/10224 [==============================] - 4s 345us/step - loss: 0.5726 - mean_squared_error: 0.5726 - mean_absolute_error: 0.5159 - val_loss: 0.8456 - val_mean_squared_error: 0.8456 - val_mean_absolute_error: 0.5633\n",
      "Epoch 76/150\n",
      "10224/10224 [==============================] - 4s 347us/step - loss: 0.5848 - mean_squared_error: 0.5848 - mean_absolute_error: 0.5216 - val_loss: 0.8694 - val_mean_squared_error: 0.8694 - val_mean_absolute_error: 0.5202\n",
      "Epoch 77/150\n",
      "10224/10224 [==============================] - 4s 345us/step - loss: 0.5708 - mean_squared_error: 0.5708 - mean_absolute_error: 0.5164 - val_loss: 0.8889 - val_mean_squared_error: 0.8889 - val_mean_absolute_error: 0.5667\n",
      "Epoch 78/150\n",
      "10224/10224 [==============================] - 4s 347us/step - loss: 0.5869 - mean_squared_error: 0.5869 - mean_absolute_error: 0.5248 - val_loss: 0.8395 - val_mean_squared_error: 0.8395 - val_mean_absolute_error: 0.5237\n",
      "Epoch 79/150\n",
      "10224/10224 [==============================] - 4s 345us/step - loss: 0.5658 - mean_squared_error: 0.5658 - mean_absolute_error: 0.5093 - val_loss: 0.8282 - val_mean_squared_error: 0.8282 - val_mean_absolute_error: 0.5478\n",
      "Epoch 80/150\n",
      "10224/10224 [==============================] - 4s 344us/step - loss: 0.5745 - mean_squared_error: 0.5745 - mean_absolute_error: 0.5178 - val_loss: 0.8481 - val_mean_squared_error: 0.8481 - val_mean_absolute_error: 0.5520\n",
      "Epoch 81/150\n",
      "10224/10224 [==============================] - 4s 347us/step - loss: 0.5728 - mean_squared_error: 0.5728 - mean_absolute_error: 0.5160 - val_loss: 0.9122 - val_mean_squared_error: 0.9122 - val_mean_absolute_error: 0.5422\n",
      "Epoch 82/150\n",
      "10224/10224 [==============================] - 4s 345us/step - loss: 0.5616 - mean_squared_error: 0.5616 - mean_absolute_error: 0.5127 - val_loss: 0.8893 - val_mean_squared_error: 0.8893 - val_mean_absolute_error: 0.5818\n",
      "Epoch 83/150\n",
      "10224/10224 [==============================] - 4s 345us/step - loss: 0.5657 - mean_squared_error: 0.5657 - mean_absolute_error: 0.5137 - val_loss: 0.8416 - val_mean_squared_error: 0.8416 - val_mean_absolute_error: 0.5636\n",
      "Epoch 84/150\n",
      "10224/10224 [==============================] - 4s 347us/step - loss: 0.5588 - mean_squared_error: 0.5588 - mean_absolute_error: 0.5135 - val_loss: 0.9498 - val_mean_squared_error: 0.9498 - val_mean_absolute_error: 0.6064\n",
      "Epoch 85/150\n",
      "10224/10224 [==============================] - 4s 347us/step - loss: 0.5687 - mean_squared_error: 0.5687 - mean_absolute_error: 0.5152 - val_loss: 0.8843 - val_mean_squared_error: 0.8843 - val_mean_absolute_error: 0.5608\n",
      "Epoch 86/150\n",
      "10224/10224 [==============================] - 4s 345us/step - loss: 0.5655 - mean_squared_error: 0.5655 - mean_absolute_error: 0.5165 - val_loss: 0.8745 - val_mean_squared_error: 0.8745 - val_mean_absolute_error: 0.5881\n",
      "Epoch 87/150\n",
      "10224/10224 [==============================] - 4s 347us/step - loss: 0.5614 - mean_squared_error: 0.5614 - mean_absolute_error: 0.5131 - val_loss: 0.8688 - val_mean_squared_error: 0.8688 - val_mean_absolute_error: 0.5293\n",
      "Epoch 88/150\n",
      "10224/10224 [==============================] - 4s 345us/step - loss: 0.5613 - mean_squared_error: 0.5613 - mean_absolute_error: 0.5107 - val_loss: 0.8772 - val_mean_squared_error: 0.8772 - val_mean_absolute_error: 0.5769\n",
      "Epoch 89/150\n",
      "10224/10224 [==============================] - 4s 347us/step - loss: 0.5720 - mean_squared_error: 0.5720 - mean_absolute_error: 0.5176 - val_loss: 0.8621 - val_mean_squared_error: 0.8621 - val_mean_absolute_error: 0.5324\n",
      "Epoch 90/150\n",
      "10224/10224 [==============================] - 4s 348us/step - loss: 0.5525 - mean_squared_error: 0.5525 - mean_absolute_error: 0.5065 - val_loss: 0.8268 - val_mean_squared_error: 0.8268 - val_mean_absolute_error: 0.5363\n",
      "Epoch 91/150\n",
      "10224/10224 [==============================] - 4s 347us/step - loss: 0.5588 - mean_squared_error: 0.5588 - mean_absolute_error: 0.5082 - val_loss: 0.8739 - val_mean_squared_error: 0.8739 - val_mean_absolute_error: 0.5512\n",
      "Epoch 92/150\n",
      "10224/10224 [==============================] - 4s 347us/step - loss: 0.5406 - mean_squared_error: 0.5406 - mean_absolute_error: 0.5059 - val_loss: 0.9069 - val_mean_squared_error: 0.9069 - val_mean_absolute_error: 0.5388\n",
      "Epoch 93/150\n",
      "10224/10224 [==============================] - 4s 347us/step - loss: 0.5496 - mean_squared_error: 0.5496 - mean_absolute_error: 0.5089 - val_loss: 0.8442 - val_mean_squared_error: 0.8442 - val_mean_absolute_error: 0.5097\n",
      "Epoch 94/150\n",
      "10224/10224 [==============================] - 4s 347us/step - loss: 0.5429 - mean_squared_error: 0.5429 - mean_absolute_error: 0.5044 - val_loss: 0.8722 - val_mean_squared_error: 0.8722 - val_mean_absolute_error: 0.5547\n",
      "Epoch 95/150\n",
      "10224/10224 [==============================] - 4s 345us/step - loss: 0.5393 - mean_squared_error: 0.5393 - mean_absolute_error: 0.5026 - val_loss: 0.8291 - val_mean_squared_error: 0.8291 - val_mean_absolute_error: 0.5439\n",
      "Epoch 96/150\n",
      "10224/10224 [==============================] - 4s 345us/step - loss: 0.5453 - mean_squared_error: 0.5453 - mean_absolute_error: 0.5049 - val_loss: 0.8203 - val_mean_squared_error: 0.8203 - val_mean_absolute_error: 0.5358\n",
      "Epoch 97/150\n",
      "10224/10224 [==============================] - 4s 347us/step - loss: 0.5433 - mean_squared_error: 0.5433 - mean_absolute_error: 0.5028 - val_loss: 0.8662 - val_mean_squared_error: 0.8662 - val_mean_absolute_error: 0.5790\n",
      "Epoch 98/150\n",
      "10224/10224 [==============================] - 4s 348us/step - loss: 0.5283 - mean_squared_error: 0.5283 - mean_absolute_error: 0.4941 - val_loss: 0.9019 - val_mean_squared_error: 0.9019 - val_mean_absolute_error: 0.5700\n",
      "Epoch 99/150\n",
      "10224/10224 [==============================] - 4s 345us/step - loss: 0.5364 - mean_squared_error: 0.5364 - mean_absolute_error: 0.5012 - val_loss: 0.8284 - val_mean_squared_error: 0.8284 - val_mean_absolute_error: 0.5076\n",
      "Epoch 100/150\n",
      "10224/10224 [==============================] - 4s 348us/step - loss: 0.5386 - mean_squared_error: 0.5386 - mean_absolute_error: 0.5018 - val_loss: 0.8913 - val_mean_squared_error: 0.8913 - val_mean_absolute_error: 0.5181\n",
      "Epoch 101/150\n",
      "10224/10224 [==============================] - 4s 345us/step - loss: 0.5341 - mean_squared_error: 0.5341 - mean_absolute_error: 0.4994 - val_loss: 0.8333 - val_mean_squared_error: 0.8333 - val_mean_absolute_error: 0.5107\n",
      "Epoch 102/150\n",
      "10224/10224 [==============================] - 4s 348us/step - loss: 0.5247 - mean_squared_error: 0.5247 - mean_absolute_error: 0.4984 - val_loss: 0.8342 - val_mean_squared_error: 0.8342 - val_mean_absolute_error: 0.5231\n",
      "Epoch 103/150\n",
      "10224/10224 [==============================] - 4s 347us/step - loss: 0.5237 - mean_squared_error: 0.5237 - mean_absolute_error: 0.4929 - val_loss: 0.8512 - val_mean_squared_error: 0.8512 - val_mean_absolute_error: 0.5417\n",
      "Epoch 104/150\n"
     ]
    },
    {
     "name": "stdout",
     "output_type": "stream",
     "text": [
      "10224/10224 [==============================] - 4s 347us/step - loss: 0.5268 - mean_squared_error: 0.5268 - mean_absolute_error: 0.4969 - val_loss: 0.8648 - val_mean_squared_error: 0.8648 - val_mean_absolute_error: 0.5636\n",
      "Epoch 105/150\n",
      "10224/10224 [==============================] - 4s 345us/step - loss: 0.5291 - mean_squared_error: 0.5291 - mean_absolute_error: 0.4975 - val_loss: 0.8723 - val_mean_squared_error: 0.8723 - val_mean_absolute_error: 0.5575\n",
      "Epoch 106/150\n",
      "10224/10224 [==============================] - 4s 347us/step - loss: 0.5268 - mean_squared_error: 0.5268 - mean_absolute_error: 0.4950 - val_loss: 0.8371 - val_mean_squared_error: 0.8371 - val_mean_absolute_error: 0.5322\n",
      "Epoch 107/150\n",
      "10224/10224 [==============================] - 4s 347us/step - loss: 0.5121 - mean_squared_error: 0.5121 - mean_absolute_error: 0.4893 - val_loss: 0.8325 - val_mean_squared_error: 0.8325 - val_mean_absolute_error: 0.5301\n",
      "Epoch 108/150\n",
      "10224/10224 [==============================] - 4s 347us/step - loss: 0.5113 - mean_squared_error: 0.5113 - mean_absolute_error: 0.4874 - val_loss: 0.8477 - val_mean_squared_error: 0.8477 - val_mean_absolute_error: 0.5388\n",
      "Epoch 109/150\n",
      "10224/10224 [==============================] - 4s 347us/step - loss: 0.5091 - mean_squared_error: 0.5091 - mean_absolute_error: 0.4868 - val_loss: 0.8561 - val_mean_squared_error: 0.8561 - val_mean_absolute_error: 0.5351_squared_error: 0.4837\n",
      "Epoch 110/150\n",
      "10224/10224 [==============================] - 4s 347us/step - loss: 0.5161 - mean_squared_error: 0.5161 - mean_absolute_error: 0.4930 - val_loss: 0.8466 - val_mean_squared_error: 0.8466 - val_mean_absolute_error: 0.5140\n",
      "Epoch 111/150\n",
      "10224/10224 [==============================] - 4s 348us/step - loss: 0.5271 - mean_squared_error: 0.5271 - mean_absolute_error: 0.4939 - val_loss: 0.8645 - val_mean_squared_error: 0.8645 - val_mean_absolute_error: 0.5582\n",
      "Epoch 112/150\n",
      "10224/10224 [==============================] - 4s 348us/step - loss: 0.5203 - mean_squared_error: 0.5203 - mean_absolute_error: 0.4898 - val_loss: 0.8596 - val_mean_squared_error: 0.8596 - val_mean_absolute_error: 0.5660\n",
      "Epoch 113/150\n",
      "10224/10224 [==============================] - 4s 347us/step - loss: 0.5059 - mean_squared_error: 0.5059 - mean_absolute_error: 0.4834 - val_loss: 0.8709 - val_mean_squared_error: 0.8709 - val_mean_absolute_error: 0.5434\n",
      "Epoch 114/150\n",
      "10224/10224 [==============================] - 4s 350us/step - loss: 0.5022 - mean_squared_error: 0.5022 - mean_absolute_error: 0.4876 - val_loss: 0.8649 - val_mean_squared_error: 0.8649 - val_mean_absolute_error: 0.5201\n",
      "Epoch 115/150\n",
      "10224/10224 [==============================] - 4s 348us/step - loss: 0.5208 - mean_squared_error: 0.5208 - mean_absolute_error: 0.4918 - val_loss: 0.8266 - val_mean_squared_error: 0.8266 - val_mean_absolute_error: 0.5432\n",
      "Epoch 116/150\n",
      "10224/10224 [==============================] - 4s 347us/step - loss: 0.5165 - mean_squared_error: 0.5165 - mean_absolute_error: 0.4903 - val_loss: 0.8370 - val_mean_squared_error: 0.8370 - val_mean_absolute_error: 0.5104\n",
      "Epoch 117/150\n",
      "10224/10224 [==============================] - 4s 347us/step - loss: 0.4885 - mean_squared_error: 0.4885 - mean_absolute_error: 0.4788 - val_loss: 0.8270 - val_mean_squared_error: 0.8270 - val_mean_absolute_error: 0.5230\n",
      "Epoch 118/150\n",
      "10224/10224 [==============================] - 4s 345us/step - loss: 0.5092 - mean_squared_error: 0.5092 - mean_absolute_error: 0.4868 - val_loss: 0.9044 - val_mean_squared_error: 0.9044 - val_mean_absolute_error: 0.5652\n",
      "Epoch 119/150\n",
      "10224/10224 [==============================] - 4s 348us/step - loss: 0.5102 - mean_squared_error: 0.5102 - mean_absolute_error: 0.4849 - val_loss: 0.8348 - val_mean_squared_error: 0.8348 - val_mean_absolute_error: 0.5643\n",
      "Epoch 120/150\n",
      "10224/10224 [==============================] - 4s 350us/step - loss: 0.5027 - mean_squared_error: 0.5027 - mean_absolute_error: 0.4813 - val_loss: 0.8301 - val_mean_squared_error: 0.8301 - val_mean_absolute_error: 0.5259\n",
      "Epoch 121/150\n",
      "10224/10224 [==============================] - 4s 347us/step - loss: 0.4977 - mean_squared_error: 0.4977 - mean_absolute_error: 0.4822 - val_loss: 0.8256 - val_mean_squared_error: 0.8256 - val_mean_absolute_error: 0.5270\n",
      "Epoch 122/150\n",
      "10224/10224 [==============================] - 4s 348us/step - loss: 0.4993 - mean_squared_error: 0.4993 - mean_absolute_error: 0.4846 - val_loss: 0.8764 - val_mean_squared_error: 0.8764 - val_mean_absolute_error: 0.5336\n",
      "Epoch 123/150\n",
      "10224/10224 [==============================] - 4s 348us/step - loss: 0.4992 - mean_squared_error: 0.4992 - mean_absolute_error: 0.4839 - val_loss: 0.8316 - val_mean_squared_error: 0.8316 - val_mean_absolute_error: 0.5055\n",
      "Epoch 124/150\n",
      "10224/10224 [==============================] - 4s 348us/step - loss: 0.4938 - mean_squared_error: 0.4938 - mean_absolute_error: 0.4795 - val_loss: 0.8129 - val_mean_squared_error: 0.8129 - val_mean_absolute_error: 0.5135\n",
      "Epoch 125/150\n",
      "10224/10224 [==============================] - 4s 348us/step - loss: 0.4937 - mean_squared_error: 0.4937 - mean_absolute_error: 0.4829 - val_loss: 0.8753 - val_mean_squared_error: 0.8753 - val_mean_absolute_error: 0.5822\n",
      "Epoch 126/150\n",
      "10224/10224 [==============================] - 4s 350us/step - loss: 0.5006 - mean_squared_error: 0.5006 - mean_absolute_error: 0.4862 - val_loss: 0.8377 - val_mean_squared_error: 0.8377 - val_mean_absolute_error: 0.5086\n",
      "Epoch 127/150\n",
      "10224/10224 [==============================] - 4s 348us/step - loss: 0.4942 - mean_squared_error: 0.4942 - mean_absolute_error: 0.4836 - val_loss: 0.8477 - val_mean_squared_error: 0.8477 - val_mean_absolute_error: 0.5330\n",
      "Epoch 128/150\n",
      "10224/10224 [==============================] - 4s 347us/step - loss: 0.4901 - mean_squared_error: 0.4901 - mean_absolute_error: 0.4790 - val_loss: 0.8679 - val_mean_squared_error: 0.8679 - val_mean_absolute_error: 0.5096\n",
      "Epoch 129/150\n",
      "10224/10224 [==============================] - 4s 348us/step - loss: 0.4863 - mean_squared_error: 0.4863 - mean_absolute_error: 0.4797 - val_loss: 0.8272 - val_mean_squared_error: 0.8272 - val_mean_absolute_error: 0.5047\n",
      "Epoch 130/150\n",
      "10224/10224 [==============================] - 4s 344us/step - loss: 0.4926 - mean_squared_error: 0.4926 - mean_absolute_error: 0.4807 - val_loss: 0.8559 - val_mean_squared_error: 0.8559 - val_mean_absolute_error: 0.5399\n",
      "Epoch 131/150\n",
      "10224/10224 [==============================] - 4s 347us/step - loss: 0.4805 - mean_squared_error: 0.4805 - mean_absolute_error: 0.4735 - val_loss: 0.8385 - val_mean_squared_error: 0.8385 - val_mean_absolute_error: 0.5501\n",
      "Epoch 132/150\n",
      "10224/10224 [==============================] - 4s 347us/step - loss: 0.4847 - mean_squared_error: 0.4847 - mean_absolute_error: 0.4732 - val_loss: 0.7914 - val_mean_squared_error: 0.7914 - val_mean_absolute_error: 0.4916\n",
      "Epoch 133/150\n",
      "10224/10224 [==============================] - 4s 345us/step - loss: 0.4846 - mean_squared_error: 0.4846 - mean_absolute_error: 0.4731 - val_loss: 0.8323 - val_mean_squared_error: 0.8323 - val_mean_absolute_error: 0.5286\n",
      "Epoch 134/150\n",
      "10224/10224 [==============================] - 4s 345us/step - loss: 0.4756 - mean_squared_error: 0.4756 - mean_absolute_error: 0.4740 - val_loss: 0.8435 - val_mean_squared_error: 0.8435 - val_mean_absolute_error: 0.5004\n",
      "Epoch 135/150\n",
      "10224/10224 [==============================] - 4s 347us/step - loss: 0.4942 - mean_squared_error: 0.4942 - mean_absolute_error: 0.4746 - val_loss: 0.8368 - val_mean_squared_error: 0.8368 - val_mean_absolute_error: 0.5278\n",
      "Epoch 136/150\n",
      "10224/10224 [==============================] - 4s 345us/step - loss: 0.4856 - mean_squared_error: 0.4856 - mean_absolute_error: 0.4750 - val_loss: 0.8105 - val_mean_squared_error: 0.8105 - val_mean_absolute_error: 0.5053\n",
      "Epoch 137/150\n",
      "10224/10224 [==============================] - 4s 348us/step - loss: 0.4694 - mean_squared_error: 0.4694 - mean_absolute_error: 0.4656 - val_loss: 0.8637 - val_mean_squared_error: 0.8637 - val_mean_absolute_error: 0.5448\n",
      "Epoch 138/150\n",
      "10224/10224 [==============================] - 4s 348us/step - loss: 0.4684 - mean_squared_error: 0.4684 - mean_absolute_error: 0.4698 - val_loss: 0.8579 - val_mean_squared_error: 0.8579 - val_mean_absolute_error: 0.5316\n"
     ]
    },
    {
     "name": "stdout",
     "output_type": "stream",
     "text": [
      "Epoch 139/150\n",
      "10224/10224 [==============================] - 4s 345us/step - loss: 0.4770 - mean_squared_error: 0.4770 - mean_absolute_error: 0.4696 - val_loss: 0.8248 - val_mean_squared_error: 0.8248 - val_mean_absolute_error: 0.5287\n",
      "Epoch 140/150\n",
      "10224/10224 [==============================] - 4s 348us/step - loss: 0.4611 - mean_squared_error: 0.4611 - mean_absolute_error: 0.4635 - val_loss: 0.8123 - val_mean_squared_error: 0.8123 - val_mean_absolute_error: 0.4882\n",
      "Epoch 141/150\n",
      "10224/10224 [==============================] - 4s 347us/step - loss: 0.4667 - mean_squared_error: 0.4667 - mean_absolute_error: 0.4686 - val_loss: 0.8102 - val_mean_squared_error: 0.8102 - val_mean_absolute_error: 0.5252\n",
      "Epoch 142/150\n",
      "10224/10224 [==============================] - 4s 342us/step - loss: 0.4666 - mean_squared_error: 0.4666 - mean_absolute_error: 0.4663 - val_loss: 0.9000 - val_mean_squared_error: 0.9000 - val_mean_absolute_error: 0.5306\n",
      "Epoch 143/150\n",
      "10224/10224 [==============================] - 4s 345us/step - loss: 0.4636 - mean_squared_error: 0.4636 - mean_absolute_error: 0.4670 - val_loss: 0.8474 - val_mean_squared_error: 0.8474 - val_mean_absolute_error: 0.5301\n",
      "Epoch 144/150\n",
      "10224/10224 [==============================] - 4s 345us/step - loss: 0.4736 - mean_squared_error: 0.4736 - mean_absolute_error: 0.4675 - val_loss: 0.8626 - val_mean_squared_error: 0.8626 - val_mean_absolute_error: 0.5331\n",
      "Epoch 145/150\n",
      "10224/10224 [==============================] - 4s 344us/step - loss: 0.4679 - mean_squared_error: 0.4679 - mean_absolute_error: 0.4673 - val_loss: 0.8737 - val_mean_squared_error: 0.8737 - val_mean_absolute_error: 0.5100\n",
      "Epoch 146/150\n",
      "10224/10224 [==============================] - 4s 344us/step - loss: 0.4663 - mean_squared_error: 0.4663 - mean_absolute_error: 0.4684 - val_loss: 0.8844 - val_mean_squared_error: 0.8844 - val_mean_absolute_error: 0.5547\n",
      "Epoch 147/150\n",
      "10224/10224 [==============================] - 4s 347us/step - loss: 0.4690 - mean_squared_error: 0.4690 - mean_absolute_error: 0.4706 - val_loss: 0.8587 - val_mean_squared_error: 0.8587 - val_mean_absolute_error: 0.5660\n",
      "Epoch 148/150\n",
      "10224/10224 [==============================] - 4s 344us/step - loss: 0.4627 - mean_squared_error: 0.4627 - mean_absolute_error: 0.4637 - val_loss: 0.8215 - val_mean_squared_error: 0.8215 - val_mean_absolute_error: 0.5341\n",
      "Epoch 149/150\n",
      "10224/10224 [==============================] - 4s 345us/step - loss: 0.4685 - mean_squared_error: 0.4685 - mean_absolute_error: 0.4651 - val_loss: 0.8442 - val_mean_squared_error: 0.8442 - val_mean_absolute_error: 0.5483\n",
      "Epoch 150/150\n",
      "10224/10224 [==============================] - 4s 347us/step - loss: 0.4508 - mean_squared_error: 0.4508 - mean_absolute_error: 0.4579 - val_loss: 0.8709 - val_mean_squared_error: 0.8709 - val_mean_absolute_error: 0.5236\n",
      "EndTime : 2020-11-23 16:39:24.781049\n"
     ]
    }
   ],
   "source": [
    "optim = Adam(lr=0.0002)\n",
    "\n",
    "model.compile(loss='mse',\n",
    "\t\t      optimizer=optim,\n",
    "\t\t\t  metrics=['mse','mae'])\n",
    "\n",
    "StartTime8 = datetime.now()\n",
    "print(\"StartTime :\", StartTime8)\n",
    "with K.tf.device('/GPU:0'):\n",
    "    model_train = model.fit([train_X_cell, train_X_drug], train_y, validation_data=([test_X_cell, test_X_drug], test_y),\n",
    "                            batch_size=batch_size,epochs=training_epochs,verbose=1)\n",
    "\n",
    "EndTime8 = datetime.now()\n",
    "print(\"EndTime :\", EndTime8)"
   ]
  },
  {
   "cell_type": "code",
   "execution_count": 24,
   "metadata": {},
   "outputs": [],
   "source": [
    "import json\n",
    "from keras.models import model_from_json, load_model\n",
    "workdir = \"E://Ronny_TF//201120_EDC_EYDC_MDC_other_PC//Result//EDC11K//CNN\"\n",
    "# Option 1: Save Weights + Architecture\n",
    "model.save_weights(workdir+ '//EDC11K_CNN_model_fix_v3.h5')\n",
    "with open(workdir + '//EDC11K_CNN_model_architecture_fix_v3.json', 'w') as f:\n",
    "    f.write(model.to_json())\n",
    "# Option 1: Load Weights + Architecture\n",
    "# with open('model_architecture.json', 'r') as f:\n",
    "#     new_model_1 = model_from_json(f.read())\n",
    "# new_model_1.load_weights('model_weights.h5')"
   ]
  },
  {
   "cell_type": "code",
   "execution_count": 25,
   "metadata": {},
   "outputs": [],
   "source": [
    "# Option 2: Save/Load the Entire Model\n",
    "from keras.models import load_model\n",
    "\n",
    "# Creates a HDF5 file 'my_model.h5'\n",
    "model.save(workdir + '//EDC11K_CNN_model_fix_2080ti_v3.h5')\n",
    "\n",
    "# Deletes the existing model\n",
    "# del model  \n",
    "\n",
    "# Returns a compiled model identical to the previous one\n",
    "# model = load_model('my_model.h5')"
   ]
  },
  {
   "cell_type": "code",
   "execution_count": 26,
   "metadata": {},
   "outputs": [
    {
     "name": "stdout",
     "output_type": "stream",
     "text": [
      "1136/1136 [==============================] - 0s 257us/step\n"
     ]
    }
   ],
   "source": [
    "test_eval = model.evaluate([test_X_cell,test_X_drug], test_label_array, verbose=1)"
   ]
  },
  {
   "cell_type": "code",
   "execution_count": 27,
   "metadata": {},
   "outputs": [
    {
     "data": {
      "text/plain": [
       "[0.8709160106282838, 0.8709160106282838, 0.52360832019591]"
      ]
     },
     "execution_count": 27,
     "metadata": {},
     "output_type": "execute_result"
    }
   ],
   "source": [
    "test_eval"
   ]
  },
  {
   "cell_type": "code",
   "execution_count": 28,
   "metadata": {},
   "outputs": [],
   "source": [
    "accuracy = model_train.history['mean_squared_error']\n",
    "val_accuracy = model_train.history['val_mean_squared_error']\n",
    "loss = model_train.history['loss']\n",
    "val_loss = model_train.history['val_loss']\n",
    "\n",
    "np_acc = np.array(accuracy)\n",
    "np_val_acc = np.array(val_accuracy)\n",
    "np_loss = np.array(loss)\n",
    "np_val_loss = np.array(val_loss)"
   ]
  },
  {
   "cell_type": "code",
   "execution_count": 29,
   "metadata": {},
   "outputs": [],
   "source": [
    "import matplotlib\n",
    "from matplotlib import pyplot as plt"
   ]
  },
  {
   "cell_type": "code",
   "execution_count": 30,
   "metadata": {},
   "outputs": [
    {
     "data": {
      "image/png": "[encoded data removed]",
      "text/plain": [
       "<Figure size 432x288 with 1 Axes>"
      ]
     },
     "metadata": {
      "needs_background": "light"
     },
     "output_type": "display_data"
    },
    {
     "data": {
      "image/png": "[encoded data removed]",
      "text/plain": [
       "<Figure size 432x288 with 1 Axes>"
      ]
     },
     "metadata": {
      "needs_background": "light"
     },
     "output_type": "display_data"
    }
   ],
   "source": [
    "# accuracy = model_train.history['acc']\n",
    "# val_accuracy = model_train.history['val_acc']\n",
    "# loss = model_train.history['loss']\n",
    "# val_loss = model_train.history['val_loss']\n",
    "epochs = range(len(accuracy))\n",
    "plt.plot(epochs, accuracy, 'bo', label='Training mse',c='red')\n",
    "plt.plot(epochs, val_accuracy, 'b', label='Validation mse',c='red')\n",
    "plt.title('Training and validation mse')\n",
    "plt.legend()\n",
    "plt.figure()\n",
    "plt.plot(epochs, loss, 'bo', label='Training loss',c='red')\n",
    "plt.plot(epochs, val_loss, 'b', label='Validation loss',c='red')\n",
    "plt.title('Training and validation loss')\n",
    "plt.legend()\n",
    "plt.show()"
   ]
  },
  {
   "cell_type": "code",
   "execution_count": 31,
   "metadata": {},
   "outputs": [],
   "source": [
    "predicted_classes = model.predict([test_X_cell,test_X_drug])"
   ]
  },
  {
   "cell_type": "code",
   "execution_count": 32,
   "metadata": {},
   "outputs": [],
   "source": [
    "predicted_value = predicted_classes"
   ]
  },
  {
   "cell_type": "code",
   "execution_count": 33,
   "metadata": {},
   "outputs": [],
   "source": [
    "a = pd.DataFrame(predicted_value)\n",
    "b = pd.DataFrame(test_label_array)\n",
    "c = pd.concat([a,b], axis=1)\n",
    "c.columns=[\"Predicted\",\"Test\"]"
   ]
  },
  {
   "cell_type": "code",
   "execution_count": 34,
   "metadata": {},
   "outputs": [],
   "source": [
    "c.to_csv(workdir + '//EDC11K_CNN_pred_obs_table.csv')"
   ]
  },
  {
   "cell_type": "code",
   "execution_count": 35,
   "metadata": {},
   "outputs": [
    {
     "data": {
      "text/html": [
       "<div>\n",
       "<style scoped>\n",
       "    .dataframe tbody tr th:only-of-type {\n",
       "        vertical-align: middle;\n",
       "    }\n",
       "\n",
       "    .dataframe tbody tr th {\n",
       "        vertical-align: top;\n",
       "    }\n",
       "\n",
       "    .dataframe thead th {\n",
       "        text-align: right;\n",
       "    }\n",
       "</style>\n",
       "<table border=\"1\" class=\"dataframe\">\n",
       "  <thead>\n",
       "    <tr style=\"text-align: right;\">\n",
       "      <th></th>\n",
       "      <th>Predicted</th>\n",
       "      <th>Test</th>\n",
       "    </tr>\n",
       "  </thead>\n",
       "  <tbody>\n",
       "    <tr>\n",
       "      <th>0</th>\n",
       "      <td>-0.093960</td>\n",
       "      <td>0.194956</td>\n",
       "    </tr>\n",
       "    <tr>\n",
       "      <th>1</th>\n",
       "      <td>-2.601379</td>\n",
       "      <td>-0.678423</td>\n",
       "    </tr>\n",
       "    <tr>\n",
       "      <th>2</th>\n",
       "      <td>1.936490</td>\n",
       "      <td>2.079442</td>\n",
       "    </tr>\n",
       "    <tr>\n",
       "      <th>3</th>\n",
       "      <td>1.770970</td>\n",
       "      <td>2.079442</td>\n",
       "    </tr>\n",
       "    <tr>\n",
       "      <th>4</th>\n",
       "      <td>1.611902</td>\n",
       "      <td>1.269606</td>\n",
       "    </tr>\n",
       "    <tr>\n",
       "      <th>...</th>\n",
       "      <td>...</td>\n",
       "      <td>...</td>\n",
       "    </tr>\n",
       "    <tr>\n",
       "      <th>1131</th>\n",
       "      <td>2.041679</td>\n",
       "      <td>2.079442</td>\n",
       "    </tr>\n",
       "    <tr>\n",
       "      <th>1132</th>\n",
       "      <td>2.092882</td>\n",
       "      <td>2.079442</td>\n",
       "    </tr>\n",
       "    <tr>\n",
       "      <th>1133</th>\n",
       "      <td>1.890145</td>\n",
       "      <td>2.079442</td>\n",
       "    </tr>\n",
       "    <tr>\n",
       "      <th>1134</th>\n",
       "      <td>1.390846</td>\n",
       "      <td>0.178212</td>\n",
       "    </tr>\n",
       "    <tr>\n",
       "      <th>1135</th>\n",
       "      <td>1.985864</td>\n",
       "      <td>2.079442</td>\n",
       "    </tr>\n",
       "  </tbody>\n",
       "</table>\n",
       "<p>1136 rows × 2 columns</p>\n",
       "</div>"
      ],
      "text/plain": [
       "      Predicted      Test\n",
       "0     -0.093960  0.194956\n",
       "1     -2.601379 -0.678423\n",
       "2      1.936490  2.079442\n",
       "3      1.770970  2.079442\n",
       "4      1.611902  1.269606\n",
       "...         ...       ...\n",
       "1131   2.041679  2.079442\n",
       "1132   2.092882  2.079442\n",
       "1133   1.890145  2.079442\n",
       "1134   1.390846  0.178212\n",
       "1135   1.985864  2.079442\n",
       "\n",
       "[1136 rows x 2 columns]"
      ]
     },
     "execution_count": 35,
     "metadata": {},
     "output_type": "execute_result"
    }
   ],
   "source": [
    "c"
   ]
  },
  {
   "cell_type": "code",
   "execution_count": 36,
   "metadata": {},
   "outputs": [
    {
     "data": {
      "text/plain": [
       "(1136, 1)"
      ]
     },
     "execution_count": 36,
     "metadata": {},
     "output_type": "execute_result"
    }
   ],
   "source": [
    "predicted_value.shape"
   ]
  },
  {
   "cell_type": "code",
   "execution_count": 37,
   "metadata": {},
   "outputs": [
    {
     "data": {
      "text/plain": [
       "LinregressResult(slope=0.8113346073312864, intercept=0.16693400422132687, rvalue=0.8783885038532488, pvalue=0.0, stderr=0.013109522014565115)"
      ]
     },
     "execution_count": 37,
     "metadata": {},
     "output_type": "execute_result"
    }
   ],
   "source": [
    "from scipy.stats import linregress\n",
    "linregress(b[0], a[0])"
   ]
  },
  {
   "cell_type": "code",
   "execution_count": 38,
   "metadata": {},
   "outputs": [
    {
     "name": "stdout",
     "output_type": "stream",
     "text": [
      "0.7695144664908358\n"
     ]
    }
   ],
   "source": [
    "from sklearn.metrics import r2_score\n",
    "r2_value = r2_score(b,a)\n",
    "print(r2_value)"
   ]
  },
  {
   "cell_type": "code",
   "execution_count": 39,
   "metadata": {},
   "outputs": [
    {
     "name": "stdout",
     "output_type": "stream",
     "text": [
      "Final rmse value is = 0.9332288417491342\n"
     ]
    }
   ],
   "source": [
    "rse = ((b[0]-a[0])**2).sum()\n",
    "mse = rse / len(b)\n",
    "print(\"Final rmse value is =\",np.sqrt(mse))"
   ]
  },
  {
   "cell_type": "code",
   "execution_count": 40,
   "metadata": {},
   "outputs": [
    {
     "data": {
      "image/png": "[encoded data removed]",
      "text/plain": [
       "<Figure size 432x432 with 3 Axes>"
      ]
     },
     "metadata": {
      "needs_background": "light"
     },
     "output_type": "display_data"
    }
   ],
   "source": [
    "workdir = \"E://Ronny_TF//201120_EDC_EYDC_MDC_other_PC//Result//Fig_backbone//EDC11K\"\n",
    "import seaborn as sns\n",
    "\n",
    "g = sns.jointplot(x=\"Test\", y=\"Predicted\", data=c, kind='reg', color='#7C7C7C',\n",
    "                  joint_kws={'line_kws':{'color':'black'}})\n",
    "g.savefig(workdir+ '//EDC11K_CNN.png', dpi=300)"
   ]
  },
  {
   "cell_type": "code",
   "execution_count": null,
   "metadata": {},
   "outputs": [],
   "source": []
  }
 ],
 "metadata": {
  "kernelspec": {
   "display_name": "Python 3",
   "language": "python",
   "name": "python3"
  },
  "language_info": {
   "codemirror_mode": {
    "name": "ipython",
    "version": 3
   },
   "file_extension": ".py",
   "mimetype": "text/x-python",
   "name": "python",
   "nbconvert_exporter": "python",
   "pygments_lexer": "ipython3",
   "version": "3.7.9"
  }
 },
 "nbformat": 4,
 "nbformat_minor": 2
}
