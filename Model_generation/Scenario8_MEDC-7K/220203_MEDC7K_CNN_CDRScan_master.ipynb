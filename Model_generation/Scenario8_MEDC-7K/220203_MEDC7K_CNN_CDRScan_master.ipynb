{
 "cells": [
  {
   "cell_type": "code",
   "execution_count": 1,
   "metadata": {},
   "outputs": [
    {
     "name": "stderr",
     "output_type": "stream",
     "text": [
      "C:\\Users\\BGM18\\.conda\\envs\\ronny_keras\\lib\\site-packages\\tensorflow\\python\\framework\\dtypes.py:516: FutureWarning: Passing (type, 1) or '1type' as a synonym of type is deprecated; in a future version of numpy, it will be understood as (type, (1,)) / '(1,)type'.\n",
      "  _np_qint8 = np.dtype([(\"qint8\", np.int8, 1)])\n",
      "C:\\Users\\BGM18\\.conda\\envs\\ronny_keras\\lib\\site-packages\\tensorflow\\python\\framework\\dtypes.py:517: FutureWarning: Passing (type, 1) or '1type' as a synonym of type is deprecated; in a future version of numpy, it will be understood as (type, (1,)) / '(1,)type'.\n",
      "  _np_quint8 = np.dtype([(\"quint8\", np.uint8, 1)])\n",
      "C:\\Users\\BGM18\\.conda\\envs\\ronny_keras\\lib\\site-packages\\tensorflow\\python\\framework\\dtypes.py:518: FutureWarning: Passing (type, 1) or '1type' as a synonym of type is deprecated; in a future version of numpy, it will be understood as (type, (1,)) / '(1,)type'.\n",
      "  _np_qint16 = np.dtype([(\"qint16\", np.int16, 1)])\n",
      "C:\\Users\\BGM18\\.conda\\envs\\ronny_keras\\lib\\site-packages\\tensorflow\\python\\framework\\dtypes.py:519: FutureWarning: Passing (type, 1) or '1type' as a synonym of type is deprecated; in a future version of numpy, it will be understood as (type, (1,)) / '(1,)type'.\n",
      "  _np_quint16 = np.dtype([(\"quint16\", np.uint16, 1)])\n",
      "C:\\Users\\BGM18\\.conda\\envs\\ronny_keras\\lib\\site-packages\\tensorflow\\python\\framework\\dtypes.py:520: FutureWarning: Passing (type, 1) or '1type' as a synonym of type is deprecated; in a future version of numpy, it will be understood as (type, (1,)) / '(1,)type'.\n",
      "  _np_qint32 = np.dtype([(\"qint32\", np.int32, 1)])\n",
      "C:\\Users\\BGM18\\.conda\\envs\\ronny_keras\\lib\\site-packages\\tensorflow\\python\\framework\\dtypes.py:525: FutureWarning: Passing (type, 1) or '1type' as a synonym of type is deprecated; in a future version of numpy, it will be understood as (type, (1,)) / '(1,)type'.\n",
      "  np_resource = np.dtype([(\"resource\", np.ubyte, 1)])\n",
      "C:\\Users\\BGM18\\.conda\\envs\\ronny_keras\\lib\\site-packages\\tensorboard\\compat\\tensorflow_stub\\dtypes.py:541: FutureWarning: Passing (type, 1) or '1type' as a synonym of type is deprecated; in a future version of numpy, it will be understood as (type, (1,)) / '(1,)type'.\n",
      "  _np_qint8 = np.dtype([(\"qint8\", np.int8, 1)])\n",
      "C:\\Users\\BGM18\\.conda\\envs\\ronny_keras\\lib\\site-packages\\tensorboard\\compat\\tensorflow_stub\\dtypes.py:542: FutureWarning: Passing (type, 1) or '1type' as a synonym of type is deprecated; in a future version of numpy, it will be understood as (type, (1,)) / '(1,)type'.\n",
      "  _np_quint8 = np.dtype([(\"quint8\", np.uint8, 1)])\n",
      "C:\\Users\\BGM18\\.conda\\envs\\ronny_keras\\lib\\site-packages\\tensorboard\\compat\\tensorflow_stub\\dtypes.py:543: FutureWarning: Passing (type, 1) or '1type' as a synonym of type is deprecated; in a future version of numpy, it will be understood as (type, (1,)) / '(1,)type'.\n",
      "  _np_qint16 = np.dtype([(\"qint16\", np.int16, 1)])\n",
      "C:\\Users\\BGM18\\.conda\\envs\\ronny_keras\\lib\\site-packages\\tensorboard\\compat\\tensorflow_stub\\dtypes.py:544: FutureWarning: Passing (type, 1) or '1type' as a synonym of type is deprecated; in a future version of numpy, it will be understood as (type, (1,)) / '(1,)type'.\n",
      "  _np_quint16 = np.dtype([(\"quint16\", np.uint16, 1)])\n",
      "C:\\Users\\BGM18\\.conda\\envs\\ronny_keras\\lib\\site-packages\\tensorboard\\compat\\tensorflow_stub\\dtypes.py:545: FutureWarning: Passing (type, 1) or '1type' as a synonym of type is deprecated; in a future version of numpy, it will be understood as (type, (1,)) / '(1,)type'.\n",
      "  _np_qint32 = np.dtype([(\"qint32\", np.int32, 1)])\n",
      "C:\\Users\\BGM18\\.conda\\envs\\ronny_keras\\lib\\site-packages\\tensorboard\\compat\\tensorflow_stub\\dtypes.py:550: FutureWarning: Passing (type, 1) or '1type' as a synonym of type is deprecated; in a future version of numpy, it will be understood as (type, (1,)) / '(1,)type'.\n",
      "  np_resource = np.dtype([(\"resource\", np.ubyte, 1)])\n",
      "Using TensorFlow backend.\n"
     ]
    }
   ],
   "source": [
    "import os\n",
    "import sys\n",
    "import pandas as pd\n",
    "import numpy as np\n",
    "from sklearn import preprocessing\n",
    "import tensorflow as tf\n",
    "import random\n",
    "import matplotlib\n",
    "from matplotlib import pyplot as plt\n",
    "import statistics\n",
    "from pandas import DataFrame\n",
    "from datetime import datetime\n",
    "import keras\n",
    "from keras.models import Sequential,Input,Model\n",
    "from keras.layers import Dense, Dropout, Reshape, Flatten, Activation\n",
    "from keras.layers import Conv1D, MaxPooling1D, AveragePooling1D, GlobalAveragePooling1D\n",
    "from keras.layers import Conv2D, MaxPooling2D, Concatenate\n",
    "from keras.layers.normalization import BatchNormalization\n",
    "from keras.layers.advanced_activations import LeakyReLU\n",
    "from keras.optimizers import Adam, RMSprop\n",
    "#from keras import backend as K\n",
    "import keras.backend.tensorflow_backend as K\n",
    "from tensorflow.keras.callbacks import ModelCheckpoint, CSVLogger\n",
    "from keras.backend.tensorflow_backend import set_session\n",
    "from os.path import basename\n",
    "#import seaborn as sns\n",
    "from keras.models import load_model\n",
    "from keras.utils.vis_utils import plot_model\n",
    "from sklearn.metrics import r2_score\n",
    "from sklearn.metrics import mean_squared_error\n",
    "from matplotlib.patches import Patch\n",
    "from matplotlib.lines import Line2D\n",
    "from scipy.stats import pearsonr\n",
    "\n",
    "# from tensorflow.keras.callbacks import ModelCheckpoint, CSVLogger\n",
    "#from tensorflow.keras.optimizers import Adam\n",
    "\n",
    "\n",
    "\n",
    "\n",
    "config = tf.ConfigProto()\n",
    "config.gpu_options.per_process_gpu_memory_fraction = 0.7\n",
    "config.gpu_options.allow_growth = True\n",
    "sess = tf.Session(config=config)"
   ]
  },
  {
   "cell_type": "code",
   "execution_count": 2,
   "metadata": {},
   "outputs": [
    {
     "name": "stdout",
     "output_type": "stream",
     "text": [
      "[name: \"/device:CPU:0\"\n",
      "device_type: \"CPU\"\n",
      "memory_limit: 268435456\n",
      "locality {\n",
      "}\n",
      "incarnation: 9276920751294928318\n",
      ", name: \"/device:GPU:0\"\n",
      "device_type: \"GPU\"\n",
      "memory_limit: 8267812044\n",
      "locality {\n",
      "  bus_id: 1\n",
      "  links {\n",
      "  }\n",
      "}\n",
      "incarnation: 905397146633193051\n",
      "physical_device_desc: \"device: 0, name: GeForce RTX 2080 Ti, pci bus id: 0000:01:00.0, compute capability: 7.5\"\n",
      "]\n"
     ]
    }
   ],
   "source": [
    "from tensorflow.python.client import device_lib\n",
    "print(device_lib.list_local_devices())\n",
    "\n",
    "\n",
    "# 출처: https://3months.tistory.com/206 [Deep Play]"
   ]
  },
  {
   "cell_type": "code",
   "execution_count": 3,
   "metadata": {},
   "outputs": [],
   "source": [
    "workdir = \"D://ResNetIC50//Dataset//MEDC-7K\""
   ]
  },
  {
   "cell_type": "code",
   "execution_count": 4,
   "metadata": {},
   "outputs": [],
   "source": [
    "# < Important note > [ Please download input data from https://mega.nz/#F!CeYGDKyS!uqkmWJ4E2XSGJp_C2VO2gg]\n",
    "\n",
    "dataset = np.load(workdir + \"//MEDC7K_dataset.npz\") # input file\n",
    "ss0 = np.load(workdir + '//MEDC7K_dataset_r0.npz') # split for training and test"
   ]
  },
  {
   "cell_type": "code",
   "execution_count": 5,
   "metadata": {},
   "outputs": [],
   "source": [
    "x = dataset['x']\n",
    "y = dataset['y']\n",
    "# y_linear = dataset['y_lnIC50']\n",
    "ss0_train = ss0['train']\n",
    "ss0_test = ss0['test']"
   ]
  },
  {
   "cell_type": "code",
   "execution_count": 6,
   "metadata": {},
   "outputs": [],
   "source": [
    "training_image_array, training_label_array = x[ss0_train], y[ss0_train]\n",
    "test_image_array, test_label_array = x[ss0_test], y[ss0_test]\n",
    "\n",
    "# In[9]:\n",
    "# ori = training_image_array\n",
    "# bat = np.zeros((ori.shape[0],178))\n",
    "# cat = np.hstack([ori,bat])\n",
    "# training_image_array = cat\n",
    "\n",
    "# # In[8]:\n",
    "# training_image_array.shape\n",
    "\n",
    "# # In[10]:\n",
    "# ori2 = test_image_array\n",
    "# bat2 = np.zeros((ori2.shape[0],178))\n",
    "# cat2 = np.hstack([ori2,bat2])\n",
    "# test_image_array = cat2\n"
   ]
  },
  {
   "cell_type": "code",
   "execution_count": 7,
   "metadata": {},
   "outputs": [
    {
     "name": "stdout",
     "output_type": "stream",
     "text": [
      "1 17\n"
     ]
    }
   ],
   "source": [
    "# In[15]:\n",
    "ab =[]\n",
    "for i in range(100,200):\n",
    "    ab.append(len(training_image_array) % i)\n",
    "    \n",
    "print(min(ab), ab.index(min(ab)))"
   ]
  },
  {
   "cell_type": "code",
   "execution_count": 8,
   "metadata": {},
   "outputs": [
    {
     "data": {
      "text/plain": [
       "(7151, 42526)"
      ]
     },
     "execution_count": 8,
     "metadata": {},
     "output_type": "execute_result"
    }
   ],
   "source": [
    "x.shape"
   ]
  },
  {
   "cell_type": "code",
   "execution_count": 9,
   "metadata": {},
   "outputs": [
    {
     "data": {
      "text/plain": [
       "(6436, 42526)"
      ]
     },
     "execution_count": 9,
     "metadata": {},
     "output_type": "execute_result"
    }
   ],
   "source": [
    "training_image_array.shape"
   ]
  },
  {
   "cell_type": "code",
   "execution_count": 10,
   "metadata": {},
   "outputs": [],
   "source": [
    "# In[21]:\n",
    "\n",
    "num_classes = 1\n",
    "learning_rate = 0.0002\n",
    "training_epochs = 150\n",
    "batch_size = 100\n",
    "img_rows, img_cols = 154, 154\n"
   ]
  },
  {
   "cell_type": "code",
   "execution_count": 11,
   "metadata": {},
   "outputs": [],
   "source": [
    "train_X, train_y, test_X, test_y = training_image_array, training_label_array, test_image_array, test_label_array\n",
    "\n",
    "# if K.image_data_format() == 'channels_first':\n",
    "#     train_X = train_X.reshape(train_X.shape[0], 1, img_rows, img_cols)\n",
    "#     test_X = test_X.reshape(x_test.shape[0], 1, img_rows, img_cols)\n",
    "#     input_shape = (1, img_rows, img_cols)\n",
    "# else:\n",
    "#     train_X = train_X.reshape(train_X.shape[0], img_rows, img_cols, 1)\n",
    "#     test_X = test_X.reshape(test_X.shape[0], img_rows, img_cols, 1)\n",
    "#     input_shape = (img_rows, img_cols, 1)\n"
   ]
  },
  {
   "cell_type": "code",
   "execution_count": 12,
   "metadata": {},
   "outputs": [
    {
     "name": "stdout",
     "output_type": "stream",
     "text": [
      "40201\n"
     ]
    }
   ],
   "source": [
    "shape_value = 40201\n",
    "print(shape_value)"
   ]
  },
  {
   "cell_type": "code",
   "execution_count": 13,
   "metadata": {},
   "outputs": [
    {
     "data": {
      "text/plain": [
       "(6436, 42526)"
      ]
     },
     "execution_count": 13,
     "metadata": {},
     "output_type": "execute_result"
    }
   ],
   "source": [
    "train_X.shape"
   ]
  },
  {
   "cell_type": "code",
   "execution_count": 14,
   "metadata": {},
   "outputs": [],
   "source": [
    "train_X_cell = train_X[:,:shape_value]\n",
    "train_X_drug =train_X[:,shape_value:]\n",
    "test_X_cell = test_X[:,:shape_value]\n",
    "test_X_drug = test_X[:,shape_value:]"
   ]
  },
  {
   "cell_type": "code",
   "execution_count": 15,
   "metadata": {},
   "outputs": [
    {
     "data": {
      "text/plain": [
       "(6436, 40201)"
      ]
     },
     "execution_count": 15,
     "metadata": {},
     "output_type": "execute_result"
    }
   ],
   "source": [
    "train_X_cell.shape"
   ]
  },
  {
   "cell_type": "code",
   "execution_count": 16,
   "metadata": {},
   "outputs": [],
   "source": [
    "train_X_cell = train_X_cell.reshape(train_X_cell.shape[0], train_X_cell.shape[1], 1)\n",
    "train_X_drug = train_X_drug.reshape(train_X_drug.shape[0], train_X_drug.shape[1], 1)\n",
    "test_X_cell = test_X_cell.reshape(test_X_cell.shape[0], test_X_cell.shape[1], 1)\n",
    "test_X_drug = test_X_drug.reshape(test_X_drug.shape[0], test_X_drug.shape[1], 1)\n",
    "#input_shape = (img_rows, img_cols, 1)"
   ]
  },
  {
   "cell_type": "code",
   "execution_count": 17,
   "metadata": {},
   "outputs": [
    {
     "name": "stdout",
     "output_type": "stream",
     "text": [
      "(6436, 40201, 1) (6436, 2325, 1) (6436,) (715, 40201, 1) (715, 2325, 1) (715,)\n"
     ]
    }
   ],
   "source": [
    "print(train_X_cell.shape,train_X_drug.shape, train_y.shape, test_X_cell.shape,test_X_drug.shape, test_y.shape)"
   ]
  },
  {
   "cell_type": "code",
   "execution_count": 18,
   "metadata": {},
   "outputs": [
    {
     "data": {
      "text/plain": [
       "(6436, 40201, 1)"
      ]
     },
     "execution_count": 18,
     "metadata": {},
     "output_type": "execute_result"
    }
   ],
   "source": [
    "train_X_cell.shape"
   ]
  },
  {
   "cell_type": "code",
   "execution_count": 19,
   "metadata": {},
   "outputs": [
    {
     "name": "stdout",
     "output_type": "stream",
     "text": [
      "train_X shape: (6436, 42526)\n",
      "6436 train samples\n",
      "715 test samples\n"
     ]
    }
   ],
   "source": [
    "train_X_cell = train_X_cell.astype('float32')\n",
    "test_X_cell = test_X_cell.astype('float32')\n",
    "train_X_drug = train_X_drug.astype('float32')\n",
    "test_X_drug = test_X_drug.astype('float32')\n",
    "# train_X /= 255\n",
    "# test_X /= 255\n",
    "print('train_X shape:', train_X.shape)\n",
    "print(train_X.shape[0], 'train samples')\n",
    "print(test_X.shape[0], 'test samples')"
   ]
  },
  {
   "cell_type": "code",
   "execution_count": 20,
   "metadata": {},
   "outputs": [
    {
     "name": "stdout",
     "output_type": "stream",
     "text": [
      "WARNING:tensorflow:From C:\\Users\\BGM18\\.conda\\envs\\ronny_keras\\lib\\site-packages\\keras\\backend\\tensorflow_backend.py:4070: The name tf.nn.max_pool is deprecated. Please use tf.nn.max_pool2d instead.\n",
      "\n"
     ]
    }
   ],
   "source": [
    "with K.tf.device('/GPU:0'):\n",
    "    input_cell = Input(shape=(train_X_cell.shape[1], train_X_cell.shape[2]), name='cell_input')\n",
    "    input_drug = Input(shape=(train_X_drug.shape[1], train_X_drug.shape[2]), name='drug_input')\n",
    "\n",
    "    conv_cell_line_1 = Conv1D(filters=50, kernel_size=700, strides=5, activation='tanh')(input_cell)\n",
    "    maxpool_cell_line_1 = MaxPooling1D(pool_size=5)(conv_cell_line_1)\n",
    "    conv_cell_line_2 = Conv1D(filters=30, kernel_size=5, strides=2, activation='relu')(maxpool_cell_line_1)\n",
    "    maxpool_cell_line_2 = MaxPooling1D(pool_size=10)(conv_cell_line_2)\n",
    "    flatten_cell_line = Flatten()(maxpool_cell_line_2)\n",
    "    dense_cell_line = Dense(100, activation='relu')(flatten_cell_line)\n",
    "    dropout_cell_line = Dropout(0.1)(dense_cell_line)\n",
    "\n",
    "    conv_drug_1 = Conv1D(filters=50, kernel_size=200, strides=3, activation='tanh')(input_drug)\n",
    "    maxpool_drug_1 = MaxPooling1D(pool_size=5)(conv_drug_1)\n",
    "    conv_drug_2 = Conv1D(filters=30, kernel_size=50, strides=5, activation='relu')(maxpool_drug_1)\n",
    "    maxpool_drug_2 = MaxPooling1D(pool_size=10)(conv_drug_2)\n",
    "    flatten_drug = Flatten()(maxpool_drug_2)\n",
    "    dense_drug = Dense(100, activation='relu')(flatten_drug)\n",
    "    dropout_drug = Dropout(0.1)(dense_drug)\n",
    "\n",
    "    concatenate = Concatenate()([dropout_cell_line, dropout_drug])\n",
    "    dense_1 = Dense(300, activation='tanh')(concatenate)\n",
    "    dropout_1 = Dropout(0.1)(dense_1)\n",
    "    reshape_1 = Reshape((300,1))(dropout_1)\n",
    "    conv_1 = Conv1D(filters=30, kernel_size=150, strides=1, activation='relu')(reshape_1)\n",
    "    maxpool_1 = MaxPooling1D(pool_size=2)(conv_1)\n",
    "    conv_2 = Conv1D(filters=10, kernel_size=5, strides=1, activation='relu')(maxpool_1)\n",
    "    maxpool_2 = MaxPooling1D(pool_size=3)(conv_2)\n",
    "    conv_3 = Conv1D(filters=5, kernel_size=5, strides=1, activation='relu')(maxpool_2)\n",
    "    maxpool_3 = MaxPooling1D(pool_size=3)(conv_3)\n",
    "    dropout_2 = Dropout(0.1)(maxpool_3)\n",
    "    flatten = Flatten()(dropout_2)\n",
    "    dropout_3 = Dropout(0.2)(flatten)\n",
    "    output = Dense(1, activation='linear', name='pred_lnIC50')(dropout_3)\n",
    "    model = Model(inputs=[input_cell, input_drug], outputs=output, name='MasterModel')\n",
    "\n"
   ]
  },
  {
   "cell_type": "code",
   "execution_count": 21,
   "metadata": {
    "scrolled": true
   },
   "outputs": [
    {
     "name": "stdout",
     "output_type": "stream",
     "text": [
      "Model: \"MasterModel\"\n",
      "__________________________________________________________________________________________________\n",
      "Layer (type)                    Output Shape         Param #     Connected to                     \n",
      "==================================================================================================\n",
      "cell_input (InputLayer)         (None, 40201, 1)     0                                            \n",
      "__________________________________________________________________________________________________\n",
      "drug_input (InputLayer)         (None, 2325, 1)      0                                            \n",
      "__________________________________________________________________________________________________\n",
      "conv1d_1 (Conv1D)               (None, 7901, 50)     35050       cell_input[0][0]                 \n",
      "__________________________________________________________________________________________________\n",
      "conv1d_3 (Conv1D)               (None, 709, 50)      10050       drug_input[0][0]                 \n",
      "__________________________________________________________________________________________________\n",
      "max_pooling1d_1 (MaxPooling1D)  (None, 1580, 50)     0           conv1d_1[0][0]                   \n",
      "__________________________________________________________________________________________________\n",
      "max_pooling1d_3 (MaxPooling1D)  (None, 141, 50)      0           conv1d_3[0][0]                   \n",
      "__________________________________________________________________________________________________\n",
      "conv1d_2 (Conv1D)               (None, 788, 30)      7530        max_pooling1d_1[0][0]            \n",
      "__________________________________________________________________________________________________\n",
      "conv1d_4 (Conv1D)               (None, 19, 30)       75030       max_pooling1d_3[0][0]            \n",
      "__________________________________________________________________________________________________\n",
      "max_pooling1d_2 (MaxPooling1D)  (None, 78, 30)       0           conv1d_2[0][0]                   \n",
      "__________________________________________________________________________________________________\n",
      "max_pooling1d_4 (MaxPooling1D)  (None, 1, 30)        0           conv1d_4[0][0]                   \n",
      "__________________________________________________________________________________________________\n",
      "flatten_1 (Flatten)             (None, 2340)         0           max_pooling1d_2[0][0]            \n",
      "__________________________________________________________________________________________________\n",
      "flatten_2 (Flatten)             (None, 30)           0           max_pooling1d_4[0][0]            \n",
      "__________________________________________________________________________________________________\n",
      "dense_1 (Dense)                 (None, 100)          234100      flatten_1[0][0]                  \n",
      "__________________________________________________________________________________________________\n",
      "dense_2 (Dense)                 (None, 100)          3100        flatten_2[0][0]                  \n",
      "__________________________________________________________________________________________________\n",
      "dropout_1 (Dropout)             (None, 100)          0           dense_1[0][0]                    \n",
      "__________________________________________________________________________________________________\n",
      "dropout_2 (Dropout)             (None, 100)          0           dense_2[0][0]                    \n",
      "__________________________________________________________________________________________________\n",
      "concatenate_1 (Concatenate)     (None, 200)          0           dropout_1[0][0]                  \n",
      "                                                                 dropout_2[0][0]                  \n",
      "__________________________________________________________________________________________________\n",
      "dense_3 (Dense)                 (None, 300)          60300       concatenate_1[0][0]              \n",
      "__________________________________________________________________________________________________\n",
      "dropout_3 (Dropout)             (None, 300)          0           dense_3[0][0]                    \n",
      "__________________________________________________________________________________________________\n",
      "reshape_1 (Reshape)             (None, 300, 1)       0           dropout_3[0][0]                  \n",
      "__________________________________________________________________________________________________\n",
      "conv1d_5 (Conv1D)               (None, 151, 30)      4530        reshape_1[0][0]                  \n",
      "__________________________________________________________________________________________________\n",
      "max_pooling1d_5 (MaxPooling1D)  (None, 75, 30)       0           conv1d_5[0][0]                   \n",
      "__________________________________________________________________________________________________\n",
      "conv1d_6 (Conv1D)               (None, 71, 10)       1510        max_pooling1d_5[0][0]            \n",
      "__________________________________________________________________________________________________\n",
      "max_pooling1d_6 (MaxPooling1D)  (None, 23, 10)       0           conv1d_6[0][0]                   \n",
      "__________________________________________________________________________________________________\n",
      "conv1d_7 (Conv1D)               (None, 19, 5)        255         max_pooling1d_6[0][0]            \n",
      "__________________________________________________________________________________________________\n",
      "max_pooling1d_7 (MaxPooling1D)  (None, 6, 5)         0           conv1d_7[0][0]                   \n",
      "__________________________________________________________________________________________________\n",
      "dropout_4 (Dropout)             (None, 6, 5)         0           max_pooling1d_7[0][0]            \n",
      "__________________________________________________________________________________________________\n",
      "flatten_3 (Flatten)             (None, 30)           0           dropout_4[0][0]                  \n",
      "__________________________________________________________________________________________________\n",
      "dropout_5 (Dropout)             (None, 30)           0           flatten_3[0][0]                  \n",
      "__________________________________________________________________________________________________\n",
      "pred_lnIC50 (Dense)             (None, 1)            31          dropout_5[0][0]                  \n",
      "==================================================================================================\n",
      "Total params: 431,486\n",
      "Trainable params: 431,486\n",
      "Non-trainable params: 0\n",
      "__________________________________________________________________________________________________\n"
     ]
    }
   ],
   "source": [
    "model.summary()"
   ]
  },
  {
   "cell_type": "code",
   "execution_count": 22,
   "metadata": {},
   "outputs": [],
   "source": [
    "config = tf.ConfigProto()\n",
    "config.gpu_options.allow_growth = True\n",
    "sess = tf.Session(config=config)"
   ]
  },
  {
   "cell_type": "code",
   "execution_count": 23,
   "metadata": {
    "scrolled": true
   },
   "outputs": [
    {
     "name": "stdout",
     "output_type": "stream",
     "text": [
      "StartTime : 2022-02-08 09:06:06.502619\n",
      "WARNING:tensorflow:From C:\\Users\\BGM18\\.conda\\envs\\ronny_keras\\lib\\site-packages\\keras\\backend\\tensorflow_backend.py:422: The name tf.global_variables is deprecated. Please use tf.compat.v1.global_variables instead.\n",
      "\n",
      "Train on 6436 samples, validate on 715 samples\n",
      "Epoch 1/150\n",
      "6436/6436 [==============================] - 5s 728us/step - loss: 3.9519 - mse: 3.9519 - mae: 1.5821 - val_loss: 2.9075 - val_mse: 2.9075 - val_mae: 1.2745\n",
      "Epoch 2/150\n",
      "6436/6436 [==============================] - 3s 396us/step - loss: 2.0771 - mse: 2.0771 - mae: 1.0242 - val_loss: 1.4083 - val_mse: 1.4083 - val_mae: 0.7515\n",
      "Epoch 3/150\n",
      "6436/6436 [==============================] - 3s 400us/step - loss: 1.4870 - mse: 1.4870 - mae: 0.8344 - val_loss: 1.3277 - val_mse: 1.3277 - val_mae: 0.7542\n",
      "Epoch 4/150\n",
      "6436/6436 [==============================] - 2s 387us/step - loss: 1.3793 - mse: 1.3793 - mae: 0.7987 - val_loss: 1.2580 - val_mse: 1.2580 - val_mae: 0.6592\n",
      "Epoch 5/150\n",
      "6436/6436 [==============================] - 2s 388us/step - loss: 1.3154 - mse: 1.3154 - mae: 0.7763 - val_loss: 1.2853 - val_mse: 1.2853 - val_mae: 0.6331\n",
      "Epoch 6/150\n",
      "6436/6436 [==============================] - 3s 391us/step - loss: 1.2906 - mse: 1.2906 - mae: 0.7755 - val_loss: 1.3287 - val_mse: 1.3287 - val_mae: 0.6291\n",
      "Epoch 7/150\n",
      "6436/6436 [==============================] - 3s 395us/step - loss: 1.2682 - mse: 1.2682 - mae: 0.7641 - val_loss: 1.2685 - val_mse: 1.2685 - val_mae: 0.7184\n",
      "Epoch 8/150\n",
      "6436/6436 [==============================] - 3s 393us/step - loss: 1.2663 - mse: 1.2663 - mae: 0.7624 - val_loss: 1.2230 - val_mse: 1.2230 - val_mae: 0.6342\n",
      "Epoch 9/150\n",
      "6436/6436 [==============================] - 2s 387us/step - loss: 1.2316 - mse: 1.2316 - mae: 0.7482 - val_loss: 1.1713 - val_mse: 1.1713 - val_mae: 0.6667\n",
      "Epoch 10/150\n",
      "6436/6436 [==============================] - 3s 396us/step - loss: 1.2172 - mse: 1.2172 - mae: 0.7472 - val_loss: 1.3092 - val_mse: 1.3092 - val_mae: 0.7814\n",
      "Epoch 11/150\n",
      "6436/6436 [==============================] - 3s 392us/step - loss: 1.1855 - mse: 1.1855 - mae: 0.7291 - val_loss: 1.1827 - val_mse: 1.1827 - val_mae: 0.6914\n",
      "Epoch 12/150\n",
      "6436/6436 [==============================] - 2s 388us/step - loss: 1.1752 - mse: 1.1752 - mae: 0.7274 - val_loss: 1.3243 - val_mse: 1.3243 - val_mae: 0.7650\n",
      "Epoch 13/150\n",
      "6436/6436 [==============================] - 3s 389us/step - loss: 1.1469 - mse: 1.1469 - mae: 0.7207 - val_loss: 1.1682 - val_mse: 1.1682 - val_mae: 0.7117\n",
      "Epoch 14/150\n",
      "6436/6436 [==============================] - 3s 391us/step - loss: 1.1529 - mse: 1.1529 - mae: 0.7212 - val_loss: 1.1406 - val_mse: 1.1406 - val_mae: 0.6383\n",
      "Epoch 15/150\n",
      "6436/6436 [==============================] - 3s 390us/step - loss: 1.1172 - mse: 1.1172 - mae: 0.7121 - val_loss: 1.1819 - val_mse: 1.1819 - val_mae: 0.6886\n",
      "Epoch 16/150\n",
      "6436/6436 [==============================] - 3s 389us/step - loss: 1.0984 - mse: 1.0984 - mae: 0.7064 - val_loss: 1.1303 - val_mse: 1.1303 - val_mae: 0.7020\n",
      "Epoch 17/150\n",
      "6436/6436 [==============================] - 3s 401us/step - loss: 1.1099 - mse: 1.1099 - mae: 0.7100 - val_loss: 1.1311 - val_mse: 1.1311 - val_mae: 0.6435\n",
      "Epoch 18/150\n",
      "6436/6436 [==============================] - 3s 390us/step - loss: 1.0810 - mse: 1.0810 - mae: 0.7016 - val_loss: 1.1466 - val_mse: 1.1466 - val_mae: 0.6529\n",
      "Epoch 19/150\n",
      "6436/6436 [==============================] - 3s 403us/step - loss: 1.0584 - mse: 1.0584 - mae: 0.6929 - val_loss: 1.1035 - val_mse: 1.1035 - val_mae: 0.6175\n",
      "Epoch 20/150\n",
      "6436/6436 [==============================] - 2s 387us/step - loss: 1.0542 - mse: 1.0542 - mae: 0.6937 - val_loss: 1.1513 - val_mse: 1.1513 - val_mae: 0.7178\n",
      "Epoch 21/150\n",
      "6436/6436 [==============================] - 3s 393us/step - loss: 1.0312 - mse: 1.0312 - mae: 0.6841 - val_loss: 1.1438 - val_mse: 1.1438 - val_mae: 0.6178\n",
      "Epoch 22/150\n",
      "6436/6436 [==============================] - 3s 393us/step - loss: 1.0362 - mse: 1.0362 - mae: 0.6851 - val_loss: 1.1041 - val_mse: 1.1041 - val_mae: 0.6914\n",
      "Epoch 23/150\n",
      "6436/6436 [==============================] - 3s 393us/step - loss: 1.0482 - mse: 1.0482 - mae: 0.6893 - val_loss: 1.0950 - val_mse: 1.0950 - val_mae: 0.6498\n",
      "Epoch 24/150\n",
      "6436/6436 [==============================] - 2s 387us/step - loss: 1.0117 - mse: 1.0117 - mae: 0.6762 - val_loss: 1.0722 - val_mse: 1.0722 - val_mae: 0.6474\n",
      "Epoch 25/150\n",
      "6436/6436 [==============================] - 2s 386us/step - loss: 0.9563 - mse: 0.9563 - mae: 0.6608 - val_loss: 1.0828 - val_mse: 1.0828 - val_mae: 0.6004\n",
      "Epoch 26/150\n",
      "6436/6436 [==============================] - 3s 397us/step - loss: 0.9736 - mse: 0.9736 - mae: 0.6652 - val_loss: 1.0328 - val_mse: 1.0328 - val_mae: 0.6235\n",
      "Epoch 27/150\n",
      "6436/6436 [==============================] - 2s 383us/step - loss: 1.0056 - mse: 1.0056 - mae: 0.6803 - val_loss: 1.0384 - val_mse: 1.0384 - val_mae: 0.6026\n",
      "Epoch 28/150\n",
      "6436/6436 [==============================] - ETA: 0s - loss: 0.9321 - mse: 0.9321 - mae: 0.660 - 3s 389us/step - loss: 0.9335 - mse: 0.9335 - mae: 0.6604 - val_loss: 1.1199 - val_mse: 1.1199 - val_mae: 0.6643\n",
      "Epoch 29/150\n",
      "6436/6436 [==============================] - 3s 396us/step - loss: 0.9124 - mse: 0.9124 - mae: 0.6501 - val_loss: 1.0398 - val_mse: 1.0398 - val_mae: 0.6960\n",
      "Epoch 30/150\n",
      "6436/6436 [==============================] - 3s 393us/step - loss: 0.8935 - mse: 0.8935 - mae: 0.6450 - val_loss: 1.0455 - val_mse: 1.0455 - val_mae: 0.5982\n",
      "Epoch 31/150\n",
      "6436/6436 [==============================] - 3s 392us/step - loss: 0.8853 - mse: 0.8853 - mae: 0.6388 - val_loss: 1.0125 - val_mse: 1.0125 - val_mae: 0.5819\n",
      "Epoch 32/150\n",
      "6436/6436 [==============================] - 2s 387us/step - loss: 0.8671 - mse: 0.8671 - mae: 0.6336 - val_loss: 1.0451 - val_mse: 1.0451 - val_mae: 0.6646\n",
      "Epoch 33/150\n",
      "6436/6436 [==============================] - 3s 397us/step - loss: 0.8930 - mse: 0.8930 - mae: 0.6454 - val_loss: 1.0154 - val_mse: 1.0154 - val_mae: 0.6338\n",
      "Epoch 34/150\n",
      "6436/6436 [==============================] - 3s 402us/step - loss: 0.8334 - mse: 0.8334 - mae: 0.6226 - val_loss: 0.9790 - val_mse: 0.9790 - val_mae: 0.6127\n",
      "Epoch 35/150\n",
      "6436/6436 [==============================] - 3s 391us/step - loss: 0.8482 - mse: 0.8482 - mae: 0.6320 - val_loss: 1.0077 - val_mse: 1.0077 - val_mae: 0.6112\n",
      "Epoch 36/150\n",
      "6436/6436 [==============================] - 2s 388us/step - loss: 0.8295 - mse: 0.8295 - mae: 0.6247 - val_loss: 1.0097 - val_mse: 1.0097 - val_mae: 0.6053\n",
      "Epoch 37/150\n",
      "6436/6436 [==============================] - 3s 392us/step - loss: 0.8174 - mse: 0.8174 - mae: 0.6181 - val_loss: 0.9520 - val_mse: 0.9520 - val_mae: 0.5900\n",
      "Epoch 38/150\n",
      "6436/6436 [==============================] - 3s 393us/step - loss: 0.8228 - mse: 0.8228 - mae: 0.6212 - val_loss: 0.9750 - val_mse: 0.9750 - val_mae: 0.6523\n",
      "Epoch 39/150\n",
      "6436/6436 [==============================] - 3s 394us/step - loss: 0.8172 - mse: 0.8172 - mae: 0.6222 - val_loss: 1.0768 - val_mse: 1.0768 - val_mae: 0.5974\n",
      "Epoch 40/150\n",
      "6436/6436 [==============================] - 3s 390us/step - loss: 0.8062 - mse: 0.8062 - mae: 0.6196 - val_loss: 0.9836 - val_mse: 0.9836 - val_mae: 0.5768\n",
      "Epoch 41/150\n",
      "6436/6436 [==============================] - 3s 399us/step - loss: 0.8094 - mse: 0.8094 - mae: 0.6234 - val_loss: 0.9466 - val_mse: 0.9466 - val_mae: 0.6013\n",
      "Epoch 42/150\n",
      "6436/6436 [==============================] - 3s 403us/step - loss: 0.7787 - mse: 0.7787 - mae: 0.6058 - val_loss: 0.9866 - val_mse: 0.9866 - val_mae: 0.5927\n",
      "Epoch 43/150\n",
      "6436/6436 [==============================] - 3s 402us/step - loss: 0.7700 - mse: 0.7700 - mae: 0.6039 - val_loss: 0.9561 - val_mse: 0.9561 - val_mae: 0.5602\n",
      "Epoch 44/150\n",
      "6436/6436 [==============================] - 3s 392us/step - loss: 0.7651 - mse: 0.7651 - mae: 0.5955 - val_loss: 0.9619 - val_mse: 0.9619 - val_mae: 0.6451\n",
      "Epoch 45/150\n",
      "6436/6436 [==============================] - 3s 390us/step - loss: 0.7693 - mse: 0.7693 - mae: 0.6020 - val_loss: 0.9976 - val_mse: 0.9976 - val_mae: 0.5618\n",
      "Epoch 46/150\n",
      "6436/6436 [==============================] - 3s 391us/step - loss: 0.7695 - mse: 0.7695 - mae: 0.6017 - val_loss: 1.0361 - val_mse: 1.0361 - val_mae: 0.6430\n",
      "Epoch 47/150\n"
     ]
    },
    {
     "name": "stdout",
     "output_type": "stream",
     "text": [
      "6436/6436 [==============================] - 3s 397us/step - loss: 0.7546 - mse: 0.7546 - mae: 0.6023 - val_loss: 0.9611 - val_mse: 0.9611 - val_mae: 0.6354\n",
      "Epoch 48/150\n",
      "6436/6436 [==============================] - 3s 397us/step - loss: 0.7461 - mse: 0.7461 - mae: 0.5958 - val_loss: 0.9551 - val_mse: 0.9551 - val_mae: 0.6015\n",
      "Epoch 49/150\n",
      "6436/6436 [==============================] - 3s 402us/step - loss: 0.7344 - mse: 0.7344 - mae: 0.5871 - val_loss: 1.0013 - val_mse: 1.0013 - val_mae: 0.5677\n",
      "Epoch 50/150\n",
      "6436/6436 [==============================] - 3s 389us/step - loss: 0.7290 - mse: 0.7290 - mae: 0.5889 - val_loss: 0.9696 - val_mse: 0.9696 - val_mae: 0.5947\n",
      "Epoch 51/150\n",
      "6436/6436 [==============================] - 3s 394us/step - loss: 0.7333 - mse: 0.7333 - mae: 0.5870 - val_loss: 0.9810 - val_mse: 0.9810 - val_mae: 0.5733\n",
      "Epoch 52/150\n",
      "6436/6436 [==============================] - 3s 392us/step - loss: 0.7376 - mse: 0.7376 - mae: 0.5898 - val_loss: 1.0010 - val_mse: 1.0010 - val_mae: 0.6423\n",
      "Epoch 53/150\n",
      "6436/6436 [==============================] - 3s 388us/step - loss: 0.7279 - mse: 0.7279 - mae: 0.5887 - val_loss: 0.9519 - val_mse: 0.9519 - val_mae: 0.6051\n",
      "Epoch 54/150\n",
      "6436/6436 [==============================] - 3s 398us/step - loss: 0.7119 - mse: 0.7119 - mae: 0.5774 - val_loss: 0.9645 - val_mse: 0.9645 - val_mae: 0.6103\n",
      "Epoch 55/150\n",
      "6436/6436 [==============================] - 3s 394us/step - loss: 0.7300 - mse: 0.7300 - mae: 0.5880 - val_loss: 0.9831 - val_mse: 0.9831 - val_mae: 0.5777\n",
      "Epoch 56/150\n",
      "6436/6436 [==============================] - 3s 395us/step - loss: 0.7170 - mse: 0.7170 - mae: 0.5848 - val_loss: 0.9766 - val_mse: 0.9766 - val_mae: 0.6164\n",
      "Epoch 57/150\n",
      "6436/6436 [==============================] - 3s 404us/step - loss: 0.7046 - mse: 0.7046 - mae: 0.5745 - val_loss: 1.0069 - val_mse: 1.0069 - val_mae: 0.5892\n",
      "Epoch 58/150\n",
      "6436/6436 [==============================] - 3s 390us/step - loss: 0.7323 - mse: 0.7323 - mae: 0.5913 - val_loss: 0.9210 - val_mse: 0.9210 - val_mae: 0.5696\n",
      "Epoch 59/150\n",
      "6436/6436 [==============================] - 3s 394us/step - loss: 0.6713 - mse: 0.6713 - mae: 0.5610 - val_loss: 0.9186 - val_mse: 0.9186 - val_mae: 0.5740\n",
      "Epoch 60/150\n",
      "6436/6436 [==============================] - 3s 390us/step - loss: 0.6682 - mse: 0.6682 - mae: 0.5605 - val_loss: 0.9446 - val_mse: 0.9446 - val_mae: 0.5640\n",
      "Epoch 61/150\n",
      "6436/6436 [==============================] - 3s 391us/step - loss: 0.6802 - mse: 0.6802 - mae: 0.5676 - val_loss: 0.9712 - val_mse: 0.9712 - val_mae: 0.5998\n",
      "Epoch 62/150\n",
      "6436/6436 [==============================] - 3s 394us/step - loss: 0.6657 - mse: 0.6657 - mae: 0.5655 - val_loss: 0.9699 - val_mse: 0.9699 - val_mae: 0.5904\n",
      "Epoch 63/150\n",
      "6436/6436 [==============================] - 3s 399us/step - loss: 0.6561 - mse: 0.6561 - mae: 0.5572 - val_loss: 0.9878 - val_mse: 0.9878 - val_mae: 0.6110\n",
      "Epoch 64/150\n",
      "6436/6436 [==============================] - 3s 402us/step - loss: 0.6683 - mse: 0.6683 - mae: 0.5557 - val_loss: 0.9819 - val_mse: 0.9819 - val_mae: 0.5825\n",
      "Epoch 65/150\n",
      "6436/6436 [==============================] - 3s 400us/step - loss: 0.6581 - mse: 0.6581 - mae: 0.5536 - val_loss: 0.9604 - val_mse: 0.9604 - val_mae: 0.5884\n",
      "Epoch 66/150\n",
      "6436/6436 [==============================] - 3s 401us/step - loss: 0.6580 - mse: 0.6580 - mae: 0.5592 - val_loss: 1.0099 - val_mse: 1.0099 - val_mae: 0.6102\n",
      "Epoch 67/150\n",
      "6436/6436 [==============================] - 3s 392us/step - loss: 0.6355 - mse: 0.6355 - mae: 0.5516 - val_loss: 0.9453 - val_mse: 0.9453 - val_mae: 0.5662\n",
      "Epoch 68/150\n",
      "6436/6436 [==============================] - 3s 390us/step - loss: 0.6298 - mse: 0.6298 - mae: 0.5429 - val_loss: 0.9445 - val_mse: 0.9445 - val_mae: 0.6213\n",
      "Epoch 69/150\n",
      "6436/6436 [==============================] - 3s 396us/step - loss: 0.6455 - mse: 0.6455 - mae: 0.5541 - val_loss: 0.9778 - val_mse: 0.9778 - val_mae: 0.6020\n",
      "Epoch 70/150\n",
      "6436/6436 [==============================] - 2s 388us/step - loss: 0.6396 - mse: 0.6396 - mae: 0.5450 - val_loss: 0.9503 - val_mse: 0.9503 - val_mae: 0.5977\n",
      "Epoch 71/150\n",
      "6436/6436 [==============================] - 3s 397us/step - loss: 0.6602 - mse: 0.6602 - mae: 0.5571 - val_loss: 0.9926 - val_mse: 0.9926 - val_mae: 0.6372\n",
      "Epoch 72/150\n",
      "6436/6436 [==============================] - 3s 394us/step - loss: 0.6223 - mse: 0.6223 - mae: 0.5425 - val_loss: 0.9411 - val_mse: 0.9411 - val_mae: 0.5604\n",
      "Epoch 73/150\n",
      "6436/6436 [==============================] - 3s 393us/step - loss: 0.6237 - mse: 0.6237 - mae: 0.5395 - val_loss: 0.9508 - val_mse: 0.9508 - val_mae: 0.5722\n",
      "Epoch 74/150\n",
      "6436/6436 [==============================] - 3s 398us/step - loss: 0.6392 - mse: 0.6392 - mae: 0.5450 - val_loss: 1.0623 - val_mse: 1.0623 - val_mae: 0.6103\n",
      "Epoch 75/150\n",
      "6436/6436 [==============================] - 3s 390us/step - loss: 0.6291 - mse: 0.6291 - mae: 0.5429 - val_loss: 0.9388 - val_mse: 0.9388 - val_mae: 0.5861\n",
      "Epoch 76/150\n",
      "6436/6436 [==============================] - 3s 394us/step - loss: 0.6272 - mse: 0.6272 - mae: 0.5436 - val_loss: 0.9834 - val_mse: 0.9834 - val_mae: 0.5455\n",
      "Epoch 77/150\n",
      "6436/6436 [==============================] - 3s 398us/step - loss: 0.6006 - mse: 0.6006 - mae: 0.5288 - val_loss: 0.9508 - val_mse: 0.9508 - val_mae: 0.6376\n",
      "Epoch 78/150\n",
      "6436/6436 [==============================] - 3s 397us/step - loss: 0.6317 - mse: 0.6317 - mae: 0.5479 - val_loss: 0.9474 - val_mse: 0.9474 - val_mae: 0.5400\n",
      "Epoch 79/150\n",
      "6436/6436 [==============================] - 3s 393us/step - loss: 0.6360 - mse: 0.6360 - mae: 0.5473 - val_loss: 0.9040 - val_mse: 0.9040 - val_mae: 0.5307\n",
      "Epoch 80/150\n",
      "6436/6436 [==============================] - 3s 408us/step - loss: 0.6122 - mse: 0.6122 - mae: 0.5375 - val_loss: 1.0007 - val_mse: 1.0007 - val_mae: 0.6153\n",
      "Epoch 81/150\n",
      "6436/6436 [==============================] - 3s 395us/step - loss: 0.6130 - mse: 0.6130 - mae: 0.5346 - val_loss: 0.9913 - val_mse: 0.9913 - val_mae: 0.6187\n",
      "Epoch 82/150\n",
      "6436/6436 [==============================] - 3s 392us/step - loss: 0.6109 - mse: 0.6109 - mae: 0.5381 - val_loss: 0.9490 - val_mse: 0.9490 - val_mae: 0.5486\n",
      "Epoch 83/150\n",
      "6436/6436 [==============================] - 3s 397us/step - loss: 0.6117 - mse: 0.6117 - mae: 0.5338 - val_loss: 0.9732 - val_mse: 0.9732 - val_mae: 0.5557\n",
      "Epoch 84/150\n",
      "6436/6436 [==============================] - 3s 393us/step - loss: 0.6192 - mse: 0.6192 - mae: 0.5399 - val_loss: 0.9511 - val_mse: 0.9511 - val_mae: 0.5389\n",
      "Epoch 85/150\n",
      "6436/6436 [==============================] - 3s 389us/step - loss: 0.6137 - mse: 0.6137 - mae: 0.5355 - val_loss: 0.9574 - val_mse: 0.9574 - val_mae: 0.5855\n",
      "Epoch 86/150\n",
      "6436/6436 [==============================] - ETA: 0s - loss: 0.6211 - mse: 0.6211 - mae: 0.542 - 3s 405us/step - loss: 0.6225 - mse: 0.6225 - mae: 0.5420 - val_loss: 0.9852 - val_mse: 0.9852 - val_mae: 0.5737\n",
      "Epoch 87/150\n",
      "6436/6436 [==============================] - 3s 393us/step - loss: 0.6058 - mse: 0.6058 - mae: 0.5330 - val_loss: 0.9885 - val_mse: 0.9885 - val_mae: 0.5989\n",
      "Epoch 88/150\n",
      "6436/6436 [==============================] - 3s 398us/step - loss: 0.5909 - mse: 0.5909 - mae: 0.5281 - val_loss: 0.9685 - val_mse: 0.9685 - val_mae: 0.5640\n",
      "Epoch 89/150\n",
      "6436/6436 [==============================] - 3s 392us/step - loss: 0.6165 - mse: 0.6165 - mae: 0.5361 - val_loss: 0.9539 - val_mse: 0.9539 - val_mae: 0.5823\n",
      "Epoch 90/150\n",
      "6436/6436 [==============================] - 3s 396us/step - loss: 0.6001 - mse: 0.6001 - mae: 0.5323 - val_loss: 0.9652 - val_mse: 0.9652 - val_mae: 0.5347\n",
      "Epoch 91/150\n",
      "6436/6436 [==============================] - 3s 392us/step - loss: 0.6044 - mse: 0.6044 - mae: 0.5348 - val_loss: 0.9567 - val_mse: 0.9567 - val_mae: 0.5760\n",
      "Epoch 92/150\n",
      "6436/6436 [==============================] - 3s 394us/step - loss: 0.5851 - mse: 0.5851 - mae: 0.5182 - val_loss: 0.9831 - val_mse: 0.9831 - val_mae: 0.6037\n",
      "Epoch 93/150\n",
      "6436/6436 [==============================] - 3s 393us/step - loss: 0.5729 - mse: 0.5729 - mae: 0.5199 - val_loss: 0.9734 - val_mse: 0.9734 - val_mae: 0.5920\n",
      "Epoch 94/150\n",
      "6436/6436 [==============================] - 3s 391us/step - loss: 0.5832 - mse: 0.5832 - mae: 0.5238 - val_loss: 0.9641 - val_mse: 0.9641 - val_mae: 0.5591\n"
     ]
    },
    {
     "name": "stdout",
     "output_type": "stream",
     "text": [
      "Epoch 95/150\n",
      "6436/6436 [==============================] - 3s 397us/step - loss: 0.5939 - mse: 0.5939 - mae: 0.5288 - val_loss: 0.9903 - val_mse: 0.9903 - val_mae: 0.5506\n",
      "Epoch 96/150\n",
      "6436/6436 [==============================] - 3s 394us/step - loss: 0.5973 - mse: 0.5973 - mae: 0.5264 - val_loss: 1.0071 - val_mse: 1.0071 - val_mae: 0.6138\n",
      "Epoch 97/150\n",
      "6436/6436 [==============================] - 3s 399us/step - loss: 0.5844 - mse: 0.5844 - mae: 0.5239 - val_loss: 0.9429 - val_mse: 0.9429 - val_mae: 0.5810\n",
      "Epoch 98/150\n",
      "6436/6436 [==============================] - 3s 400us/step - loss: 0.5936 - mse: 0.5936 - mae: 0.5245 - val_loss: 0.9661 - val_mse: 0.9661 - val_mae: 0.5623\n",
      "Epoch 99/150\n",
      "6436/6436 [==============================] - 3s 400us/step - loss: 0.5839 - mse: 0.5839 - mae: 0.5235 - val_loss: 0.9457 - val_mse: 0.9457 - val_mae: 0.5712\n",
      "Epoch 100/150\n",
      "6436/6436 [==============================] - 3s 400us/step - loss: 0.5828 - mse: 0.5828 - mae: 0.5239 - val_loss: 0.9447 - val_mse: 0.9447 - val_mae: 0.5833\n",
      "Epoch 101/150\n",
      "6436/6436 [==============================] - 3s 400us/step - loss: 0.5805 - mse: 0.5805 - mae: 0.5205 - val_loss: 0.9275 - val_mse: 0.9275 - val_mae: 0.5688\n",
      "Epoch 102/150\n",
      "6436/6436 [==============================] - 3s 397us/step - loss: 0.5794 - mse: 0.5794 - mae: 0.5206 - val_loss: 0.9725 - val_mse: 0.9725 - val_mae: 0.5425\n",
      "Epoch 103/150\n",
      "6436/6436 [==============================] - 3s 395us/step - loss: 0.5561 - mse: 0.5561 - mae: 0.5126 - val_loss: 0.9633 - val_mse: 0.9633 - val_mae: 0.5783\n",
      "Epoch 104/150\n",
      "6436/6436 [==============================] - 3s 394us/step - loss: 0.5473 - mse: 0.5473 - mae: 0.5079 - val_loss: 0.9243 - val_mse: 0.9243 - val_mae: 0.5604\n",
      "Epoch 105/150\n",
      "6436/6436 [==============================] - 3s 392us/step - loss: 0.5807 - mse: 0.5807 - mae: 0.5218 - val_loss: 0.9355 - val_mse: 0.9355 - val_mae: 0.6209\n",
      "Epoch 106/150\n",
      "6436/6436 [==============================] - 3s 392us/step - loss: 0.5542 - mse: 0.5542 - mae: 0.5123 - val_loss: 0.9068 - val_mse: 0.9068 - val_mae: 0.5710\n",
      "Epoch 107/150\n",
      "6436/6436 [==============================] - 3s 402us/step - loss: 0.5637 - mse: 0.5637 - mae: 0.5132 - val_loss: 0.9593 - val_mse: 0.9593 - val_mae: 0.5609\n",
      "Epoch 108/150\n",
      "6436/6436 [==============================] - 3s 394us/step - loss: 0.5899 - mse: 0.5899 - mae: 0.5275 - val_loss: 0.9432 - val_mse: 0.9432 - val_mae: 0.5616\n",
      "Epoch 109/150\n",
      "6436/6436 [==============================] - 3s 394us/step - loss: 0.5643 - mse: 0.5643 - mae: 0.5088 - val_loss: 0.9548 - val_mse: 0.9548 - val_mae: 0.5711\n",
      "Epoch 110/150\n",
      "6436/6436 [==============================] - 3s 392us/step - loss: 0.5544 - mse: 0.5544 - mae: 0.5064 - val_loss: 0.9834 - val_mse: 0.9834 - val_mae: 0.5781\n",
      "Epoch 111/150\n",
      "6436/6436 [==============================] - 3s 404us/step - loss: 0.5575 - mse: 0.5575 - mae: 0.5103 - val_loss: 0.9452 - val_mse: 0.9452 - val_mae: 0.5920\n",
      "Epoch 112/150\n",
      "6436/6436 [==============================] - 3s 397us/step - loss: 0.5578 - mse: 0.5578 - mae: 0.5115 - val_loss: 0.9667 - val_mse: 0.9667 - val_mae: 0.5596\n",
      "Epoch 113/150\n",
      "6436/6436 [==============================] - 3s 398us/step - loss: 0.5777 - mse: 0.5777 - mae: 0.5184 - val_loss: 1.0379 - val_mse: 1.0379 - val_mae: 0.6006\n",
      "Epoch 114/150\n",
      "6436/6436 [==============================] - 3s 393us/step - loss: 0.5716 - mse: 0.5716 - mae: 0.5151 - val_loss: 0.9080 - val_mse: 0.9080 - val_mae: 0.5480\n",
      "Epoch 115/150\n",
      "6436/6436 [==============================] - ETA: 0s - loss: 0.5296 - mse: 0.5296 - mae: 0.4977- ETA: 0s - loss: 0.5002 - mse: 0.5002 - ma - 3s 403us/step - loss: 0.5297 - mse: 0.5297 - mae: 0.4978 - val_loss: 0.9589 - val_mse: 0.9589 - val_mae: 0.5740\n",
      "Epoch 116/150\n",
      "6436/6436 [==============================] - 3s 398us/step - loss: 0.5669 - mse: 0.5669 - mae: 0.5110 - val_loss: 0.9315 - val_mse: 0.9315 - val_mae: 0.5751\n",
      "Epoch 117/150\n",
      "6436/6436 [==============================] - 3s 402us/step - loss: 0.5527 - mse: 0.5527 - mae: 0.5082 - val_loss: 0.9457 - val_mse: 0.9457 - val_mae: 0.5629\n",
      "Epoch 118/150\n",
      "6436/6436 [==============================] - 3s 403us/step - loss: 0.5322 - mse: 0.5322 - mae: 0.4988 - val_loss: 0.9624 - val_mse: 0.9624 - val_mae: 0.5779\n",
      "Epoch 119/150\n",
      "6436/6436 [==============================] - 3s 395us/step - loss: 0.5223 - mse: 0.5223 - mae: 0.4976 - val_loss: 0.9634 - val_mse: 0.9634 - val_mae: 0.5876\n",
      "Epoch 120/150\n",
      "6436/6436 [==============================] - 3s 391us/step - loss: 0.5484 - mse: 0.5484 - mae: 0.5136 - val_loss: 0.9385 - val_mse: 0.9385 - val_mae: 0.5817\n",
      "Epoch 121/150\n",
      "6436/6436 [==============================] - 3s 400us/step - loss: 0.5485 - mse: 0.5485 - mae: 0.5025 - val_loss: 0.9901 - val_mse: 0.9901 - val_mae: 0.5631\n",
      "Epoch 122/150\n",
      "6436/6436 [==============================] - 3s 392us/step - loss: 0.5476 - mse: 0.5476 - mae: 0.5040 - val_loss: 0.9352 - val_mse: 0.9352 - val_mae: 0.5800\n",
      "Epoch 123/150\n",
      "6436/6436 [==============================] - 3s 402us/step - loss: 0.5496 - mse: 0.5496 - mae: 0.5056 - val_loss: 0.9375 - val_mse: 0.9375 - val_mae: 0.5472\n",
      "Epoch 124/150\n",
      "6436/6436 [==============================] - 3s 396us/step - loss: 0.5316 - mse: 0.5316 - mae: 0.4973 - val_loss: 0.9328 - val_mse: 0.9328 - val_mae: 0.5496\n",
      "Epoch 125/150\n",
      "6436/6436 [==============================] - 3s 401us/step - loss: 0.5441 - mse: 0.5441 - mae: 0.5026 - val_loss: 0.9656 - val_mse: 0.9656 - val_mae: 0.5726\n",
      "Epoch 126/150\n",
      "6436/6436 [==============================] - 3s 405us/step - loss: 0.5322 - mse: 0.5322 - mae: 0.4982 - val_loss: 0.9353 - val_mse: 0.9353 - val_mae: 0.5577\n",
      "Epoch 127/150\n",
      "6436/6436 [==============================] - 3s 397us/step - loss: 0.5394 - mse: 0.5394 - mae: 0.5032 - val_loss: 0.9342 - val_mse: 0.9342 - val_mae: 0.5525\n",
      "Epoch 128/150\n",
      "6436/6436 [==============================] - 3s 391us/step - loss: 0.5337 - mse: 0.5337 - mae: 0.4997 - val_loss: 0.9254 - val_mse: 0.9254 - val_mae: 0.5630\n",
      "Epoch 129/150\n",
      "6436/6436 [==============================] - 3s 398us/step - loss: 0.5232 - mse: 0.5232 - mae: 0.4966 - val_loss: 0.9343 - val_mse: 0.9343 - val_mae: 0.5729\n",
      "Epoch 130/150\n",
      "6436/6436 [==============================] - 3s 397us/step - loss: 0.5310 - mse: 0.5310 - mae: 0.4970 - val_loss: 0.9336 - val_mse: 0.9336 - val_mae: 0.5476\n",
      "Epoch 131/150\n",
      "6436/6436 [==============================] - 3s 404us/step - loss: 0.5338 - mse: 0.5338 - mae: 0.4990 - val_loss: 0.9405 - val_mse: 0.9405 - val_mae: 0.5959\n",
      "Epoch 132/150\n",
      "6436/6436 [==============================] - 3s 399us/step - loss: 0.5231 - mse: 0.5231 - mae: 0.4933 - val_loss: 0.9256 - val_mse: 0.9256 - val_mae: 0.5468\n",
      "Epoch 133/150\n",
      "6436/6436 [==============================] - 3s 394us/step - loss: 0.5088 - mse: 0.5088 - mae: 0.4908 - val_loss: 0.9706 - val_mse: 0.9706 - val_mae: 0.5796\n",
      "Epoch 134/150\n",
      "6436/6436 [==============================] - 3s 400us/step - loss: 0.5360 - mse: 0.5360 - mae: 0.4994 - val_loss: 0.9631 - val_mse: 0.9631 - val_mae: 0.5740\n",
      "Epoch 135/150\n",
      "6436/6436 [==============================] - 3s 395us/step - loss: 0.5441 - mse: 0.5441 - mae: 0.5056 - val_loss: 0.9942 - val_mse: 0.9942 - val_mae: 0.5906\n",
      "Epoch 136/150\n",
      "6436/6436 [==============================] - 3s 396us/step - loss: 0.5090 - mse: 0.5090 - mae: 0.4913 - val_loss: 0.9198 - val_mse: 0.9198 - val_mae: 0.5800\n",
      "Epoch 137/150\n",
      "6436/6436 [==============================] - 3s 396us/step - loss: 0.5214 - mse: 0.5214 - mae: 0.4920 - val_loss: 1.0107 - val_mse: 1.0107 - val_mae: 0.6084\n",
      "Epoch 138/150\n",
      "6436/6436 [==============================] - 3s 410us/step - loss: 0.5243 - mse: 0.5243 - mae: 0.4977 - val_loss: 0.9364 - val_mse: 0.9364 - val_mae: 0.5576\n",
      "Epoch 139/150\n",
      "6436/6436 [==============================] - 3s 403us/step - loss: 0.5044 - mse: 0.5044 - mae: 0.4832 - val_loss: 0.9320 - val_mse: 0.9320 - val_mae: 0.5469\n",
      "Epoch 140/150\n",
      "6436/6436 [==============================] - 3s 393us/step - loss: 0.5130 - mse: 0.5130 - mae: 0.4887 - val_loss: 0.9200 - val_mse: 0.9200 - val_mae: 0.5732\n",
      "Epoch 141/150\n",
      "6436/6436 [==============================] - 3s 395us/step - loss: 0.5175 - mse: 0.5175 - mae: 0.4967 - val_loss: 0.9207 - val_mse: 0.9207 - val_mae: 0.5414\n",
      "Epoch 142/150\n"
     ]
    },
    {
     "name": "stdout",
     "output_type": "stream",
     "text": [
      "6436/6436 [==============================] - 3s 407us/step - loss: 0.5031 - mse: 0.5031 - mae: 0.4817 - val_loss: 0.9646 - val_mse: 0.9646 - val_mae: 0.6258\n",
      "Epoch 143/150\n",
      "6436/6436 [==============================] - 3s 406us/step - loss: 0.5241 - mse: 0.5241 - mae: 0.4981 - val_loss: 0.9066 - val_mse: 0.9066 - val_mae: 0.5630\n",
      "Epoch 144/150\n",
      "6436/6436 [==============================] - 3s 394us/step - loss: 0.5104 - mse: 0.5104 - mae: 0.4893 - val_loss: 0.9309 - val_mse: 0.9309 - val_mae: 0.5672\n",
      "Epoch 145/150\n",
      "6436/6436 [==============================] - 3s 403us/step - loss: 0.5134 - mse: 0.5134 - mae: 0.4898 - val_loss: 0.9562 - val_mse: 0.9562 - val_mae: 0.5540\n",
      "Epoch 146/150\n",
      "6436/6436 [==============================] - 3s 395us/step - loss: 0.5074 - mse: 0.5074 - mae: 0.4876 - val_loss: 0.9113 - val_mse: 0.9113 - val_mae: 0.5838\n",
      "Epoch 147/150\n",
      "6436/6436 [==============================] - 3s 399us/step - loss: 0.4944 - mse: 0.4944 - mae: 0.4833 - val_loss: 0.9096 - val_mse: 0.9096 - val_mae: 0.5469\n",
      "Epoch 148/150\n",
      "6436/6436 [==============================] - 3s 395us/step - loss: 0.5035 - mse: 0.5035 - mae: 0.4870 - val_loss: 0.9057 - val_mse: 0.9057 - val_mae: 0.5359\n",
      "Epoch 149/150\n",
      "6436/6436 [==============================] - 3s 409us/step - loss: 0.5161 - mse: 0.5161 - mae: 0.4928 - val_loss: 0.8959 - val_mse: 0.8959 - val_mae: 0.5490\n",
      "Epoch 150/150\n",
      "6436/6436 [==============================] - 3s 392us/step - loss: 0.5187 - mse: 0.5187 - mae: 0.4939 - val_loss: 0.8907 - val_mse: 0.8907 - val_mae: 0.5531\n",
      "EndTime : 2022-02-08 09:12:32.688673\n"
     ]
    }
   ],
   "source": [
    "optim = Adam(lr=0.0002)\n",
    "\n",
    "model.compile(loss='mse',\n",
    "\t\t      optimizer=optim,\n",
    "\t\t\t  metrics=['mse','mae'])\n",
    "\n",
    "StartTime8 = datetime.now()\n",
    "print(\"StartTime :\", StartTime8)\n",
    "with K.tf.device('/GPU:0'):\n",
    "    model_train = model.fit([train_X_cell, train_X_drug], train_y, validation_data=([test_X_cell, test_X_drug], test_y),\n",
    "                            batch_size=batch_size,epochs=training_epochs,verbose=1)\n",
    "\n",
    "EndTime8 = datetime.now()\n",
    "print(\"EndTime :\", EndTime8)"
   ]
  },
  {
   "cell_type": "code",
   "execution_count": 24,
   "metadata": {},
   "outputs": [],
   "source": [
    "import json\n",
    "from keras.models import model_from_json, load_model\n",
    "workdir = \"D://ResNetIC50//Result//MEDC-7K//CDRScan\"\n",
    "# Option 1: Save Weights + Architecture\n",
    "model.save_weights(workdir+ '//MEDC7K_CDRScan_model_fix_v3.h5')\n",
    "with open(workdir + '//MEDC7K_CDRScan_model_architecture_fix_v3.json', 'w') as f:\n",
    "    f.write(model.to_json())\n",
    "# Option 1: Load Weights + Architecture\n",
    "# with open('model_architecture.json', 'r') as f:\n",
    "#     new_model_1 = model_from_json(f.read())\n",
    "# new_model_1.load_weights('model_weights.h5')"
   ]
  },
  {
   "cell_type": "code",
   "execution_count": 25,
   "metadata": {},
   "outputs": [],
   "source": [
    "# Option 2: Save/Load the Entire Model\n",
    "from keras.models import load_model\n",
    "\n",
    "# Creates a HDF5 file 'my_model.h5'\n",
    "model.save(workdir + '//MEDC7K_CDRScan_model_fix_2080ti_v3.h5')\n",
    "\n",
    "# Deletes the existing model\n",
    "# del model  \n",
    "\n",
    "# Returns a compiled model identical to the previous one\n",
    "# model = load_model('my_model.h5')"
   ]
  },
  {
   "cell_type": "code",
   "execution_count": 26,
   "metadata": {},
   "outputs": [
    {
     "name": "stdout",
     "output_type": "stream",
     "text": [
      "715/715 [==============================] - 0s 311us/step\n"
     ]
    }
   ],
   "source": [
    "test_eval = model.evaluate([test_X_cell,test_X_drug], test_label_array, verbose=1)"
   ]
  },
  {
   "cell_type": "code",
   "execution_count": 27,
   "metadata": {},
   "outputs": [
    {
     "data": {
      "text/plain": [
       "[0.8906728347541986, 0.8906727433204651, 0.5531220436096191]"
      ]
     },
     "execution_count": 27,
     "metadata": {},
     "output_type": "execute_result"
    }
   ],
   "source": [
    "test_eval"
   ]
  },
  {
   "cell_type": "code",
   "execution_count": 28,
   "metadata": {},
   "outputs": [],
   "source": [
    "accuracy = model_train.history['mse']\n",
    "val_accuracy = model_train.history['val_mse']\n",
    "loss = model_train.history['loss']\n",
    "val_loss = model_train.history['val_loss']\n",
    "\n",
    "np_acc = np.array(accuracy)\n",
    "np_val_acc = np.array(val_accuracy)\n",
    "np_loss = np.array(loss)\n",
    "np_val_loss = np.array(val_loss)"
   ]
  },
  {
   "cell_type": "code",
   "execution_count": 29,
   "metadata": {},
   "outputs": [],
   "source": [
    "import matplotlib\n",
    "from matplotlib import pyplot as plt"
   ]
  },
  {
   "cell_type": "code",
   "execution_count": 30,
   "metadata": {},
   "outputs": [
    {
     "data": {
      "image/png": "[encoded data removed]",
      "text/plain": [
       "<Figure size 432x288 with 1 Axes>"
      ]
     },
     "metadata": {
      "needs_background": "light"
     },
     "output_type": "display_data"
    },
    {
     "data": {
      "image/png": "[encoded data removed]",
      "text/plain": [
       "<Figure size 432x288 with 1 Axes>"
      ]
     },
     "metadata": {
      "needs_background": "light"
     },
     "output_type": "display_data"
    }
   ],
   "source": [
    "# accuracy = model_train.history['acc']\n",
    "# val_accuracy = model_train.history['val_acc']\n",
    "# loss = model_train.history['loss']\n",
    "# val_loss = model_train.history['val_loss']\n",
    "epochs = range(len(accuracy))\n",
    "plt.plot(epochs, accuracy, 'bo', label='Training mse',c='red')\n",
    "plt.plot(epochs, val_accuracy, 'b', label='Validation mse',c='red')\n",
    "plt.title('Training and validation mse')\n",
    "plt.legend()\n",
    "plt.figure()\n",
    "plt.plot(epochs, loss, 'bo', label='Training loss',c='red')\n",
    "plt.plot(epochs, val_loss, 'b', label='Validation loss',c='red')\n",
    "plt.title('Training and validation loss')\n",
    "plt.legend()\n",
    "plt.show()"
   ]
  },
  {
   "cell_type": "code",
   "execution_count": 31,
   "metadata": {},
   "outputs": [],
   "source": [
    "predicted_classes = model.predict([test_X_cell,test_X_drug])"
   ]
  },
  {
   "cell_type": "code",
   "execution_count": 32,
   "metadata": {},
   "outputs": [],
   "source": [
    "predicted_value = predicted_classes"
   ]
  },
  {
   "cell_type": "code",
   "execution_count": 33,
   "metadata": {},
   "outputs": [],
   "source": [
    "a = pd.DataFrame(predicted_value)\n",
    "b = pd.DataFrame(test_label_array)\n",
    "c = pd.concat([a,b], axis=1)\n",
    "c.columns=[\"Predicted\",\"Test\"]"
   ]
  },
  {
   "cell_type": "code",
   "execution_count": 34,
   "metadata": {},
   "outputs": [],
   "source": [
    "c.to_csv(workdir + '//MEDC7K_CDRScan_pred_obs_table.csv')"
   ]
  },
  {
   "cell_type": "code",
   "execution_count": 35,
   "metadata": {},
   "outputs": [
    {
     "data": {
      "text/html": [
       "<div>\n",
       "<style scoped>\n",
       "    .dataframe tbody tr th:only-of-type {\n",
       "        vertical-align: middle;\n",
       "    }\n",
       "\n",
       "    .dataframe tbody tr th {\n",
       "        vertical-align: top;\n",
       "    }\n",
       "\n",
       "    .dataframe thead th {\n",
       "        text-align: right;\n",
       "    }\n",
       "</style>\n",
       "<table border=\"1\" class=\"dataframe\">\n",
       "  <thead>\n",
       "    <tr style=\"text-align: right;\">\n",
       "      <th></th>\n",
       "      <th>Predicted</th>\n",
       "      <th>Test</th>\n",
       "    </tr>\n",
       "  </thead>\n",
       "  <tbody>\n",
       "    <tr>\n",
       "      <th>0</th>\n",
       "      <td>0.844471</td>\n",
       "      <td>2.079442</td>\n",
       "    </tr>\n",
       "    <tr>\n",
       "      <th>1</th>\n",
       "      <td>2.105642</td>\n",
       "      <td>2.079442</td>\n",
       "    </tr>\n",
       "    <tr>\n",
       "      <th>2</th>\n",
       "      <td>1.778991</td>\n",
       "      <td>2.079442</td>\n",
       "    </tr>\n",
       "    <tr>\n",
       "      <th>3</th>\n",
       "      <td>-2.348425</td>\n",
       "      <td>-3.130012</td>\n",
       "    </tr>\n",
       "    <tr>\n",
       "      <th>4</th>\n",
       "      <td>-1.664641</td>\n",
       "      <td>-0.205019</td>\n",
       "    </tr>\n",
       "    <tr>\n",
       "      <th>...</th>\n",
       "      <td>...</td>\n",
       "      <td>...</td>\n",
       "    </tr>\n",
       "    <tr>\n",
       "      <th>710</th>\n",
       "      <td>1.987022</td>\n",
       "      <td>2.079442</td>\n",
       "    </tr>\n",
       "    <tr>\n",
       "      <th>711</th>\n",
       "      <td>1.981227</td>\n",
       "      <td>2.079442</td>\n",
       "    </tr>\n",
       "    <tr>\n",
       "      <th>712</th>\n",
       "      <td>2.120395</td>\n",
       "      <td>2.079442</td>\n",
       "    </tr>\n",
       "    <tr>\n",
       "      <th>713</th>\n",
       "      <td>2.144827</td>\n",
       "      <td>2.079442</td>\n",
       "    </tr>\n",
       "    <tr>\n",
       "      <th>714</th>\n",
       "      <td>2.082849</td>\n",
       "      <td>2.079442</td>\n",
       "    </tr>\n",
       "  </tbody>\n",
       "</table>\n",
       "<p>715 rows × 2 columns</p>\n",
       "</div>"
      ],
      "text/plain": [
       "     Predicted      Test\n",
       "0     0.844471  2.079442\n",
       "1     2.105642  2.079442\n",
       "2     1.778991  2.079442\n",
       "3    -2.348425 -3.130012\n",
       "4    -1.664641 -0.205019\n",
       "..         ...       ...\n",
       "710   1.987022  2.079442\n",
       "711   1.981227  2.079442\n",
       "712   2.120395  2.079442\n",
       "713   2.144827  2.079442\n",
       "714   2.082849  2.079442\n",
       "\n",
       "[715 rows x 2 columns]"
      ]
     },
     "execution_count": 35,
     "metadata": {},
     "output_type": "execute_result"
    }
   ],
   "source": [
    "c"
   ]
  },
  {
   "cell_type": "code",
   "execution_count": 36,
   "metadata": {},
   "outputs": [
    {
     "data": {
      "text/plain": [
       "(715, 1)"
      ]
     },
     "execution_count": 36,
     "metadata": {},
     "output_type": "execute_result"
    }
   ],
   "source": [
    "predicted_value.shape"
   ]
  },
  {
   "cell_type": "code",
   "execution_count": 37,
   "metadata": {},
   "outputs": [
    {
     "data": {
      "text/plain": [
       "LinregressResult(slope=0.8127858145627654, intercept=0.1129759586317789, rvalue=0.8761122259817795, pvalue=4.110635094320255e-228, stderr=0.016750016577500904)"
      ]
     },
     "execution_count": 37,
     "metadata": {},
     "output_type": "execute_result"
    }
   ],
   "source": [
    "from scipy.stats import linregress\n",
    "linregress(b[0], a[0])"
   ]
  },
  {
   "cell_type": "code",
   "execution_count": 38,
   "metadata": {},
   "outputs": [
    {
     "name": "stdout",
     "output_type": "stream",
     "text": [
      "0.7641016307037467\n"
     ]
    }
   ],
   "source": [
    "from sklearn.metrics import r2_score\n",
    "r2_value = r2_score(b,a)\n",
    "print(r2_value)"
   ]
  },
  {
   "cell_type": "code",
   "execution_count": 39,
   "metadata": {},
   "outputs": [
    {
     "name": "stdout",
     "output_type": "stream",
     "text": [
      "Final rmse value is = 0.9437546763447565\n"
     ]
    }
   ],
   "source": [
    "rse = ((b[0]-a[0])**2).sum()\n",
    "mse = rse / len(b)\n",
    "print(\"Final rmse value is =\",np.sqrt(mse))"
   ]
  },
  {
   "cell_type": "code",
   "execution_count": 40,
   "metadata": {},
   "outputs": [
    {
     "data": {
      "image/png": "[encoded data removed]",
      "text/plain": [
       "<Figure size 432x432 with 3 Axes>"
      ]
     },
     "metadata": {
      "needs_background": "light"
     },
     "output_type": "display_data"
    }
   ],
   "source": [
    "workdir = \"D://ResNetIC50//Result//Figure//MEDC-7K\"\n",
    "import seaborn as sns\n",
    "\n",
    "g = sns.jointplot(x=\"Test\", y=\"Predicted\", data=c, kind='reg', color='#7C7C7C',\n",
    "                  joint_kws={'line_kws':{'color':'black'}})\n",
    "g.savefig(workdir+ '//MEDC7K_CDRScan.png', dpi=300)"
   ]
  },
  {
   "cell_type": "code",
   "execution_count": null,
   "metadata": {},
   "outputs": [],
   "source": []
  },
  {
   "cell_type": "code",
   "execution_count": null,
   "metadata": {},
   "outputs": [],
   "source": []
  }
 ],
 "metadata": {
  "kernelspec": {
   "display_name": "Python 3",
   "language": "python",
   "name": "python3"
  },
  "language_info": {
   "codemirror_mode": {
    "name": "ipython",
    "version": 3
   },
   "file_extension": ".py",
   "mimetype": "text/x-python",
   "name": "python",
   "nbconvert_exporter": "python",
   "pygments_lexer": "ipython3",
   "version": "3.6.12"
  }
 },
 "nbformat": 4,
 "nbformat_minor": 2
}
