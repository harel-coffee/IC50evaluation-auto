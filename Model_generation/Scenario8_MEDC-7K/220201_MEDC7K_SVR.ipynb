{
 "cells": [
  {
   "cell_type": "code",
   "execution_count": 1,
   "metadata": {},
   "outputs": [],
   "source": [
    "import os\n",
    "import pandas as pd\n",
    "import numpy as np\n",
    "import random\n",
    "from pandas import DataFrame\n",
    "from datetime import datetime\n",
    "\n",
    "workdir = \"D://Deep_learning//ResNetIC50_log//Dataset//MEDC-7K\""
   ]
  },
  {
   "cell_type": "code",
   "execution_count": 2,
   "metadata": {},
   "outputs": [],
   "source": [
    "# < Important note > [ Please download input data from https://mega.nz/#F!CeYGDKyS!uqkmWJ4E2XSGJp_C2VO2gg]\n",
    "\n",
    "dataset = np.load(workdir + \"//MEDC7K_dataset.npz\") # input file\n",
    "ss0 = np.load(workdir + '//MEDC7K_dataset_r0.npz') # split for training and test"
   ]
  },
  {
   "cell_type": "code",
   "execution_count": 3,
   "metadata": {},
   "outputs": [],
   "source": [
    "x = dataset['x']\n",
    "y = dataset['y']\n",
    "# y_linear = dataset['y_lnIC50']\n",
    "ss0_train = ss0['train']\n",
    "ss0_test = ss0['test']"
   ]
  },
  {
   "cell_type": "code",
   "execution_count": 4,
   "metadata": {},
   "outputs": [],
   "source": [
    "training_image_array, training_label_array = x[ss0_train], y[ss0_train]\n",
    "test_image_array, test_label_array = x[ss0_test], y[ss0_test]\n",
    "\n",
    "# # In[9]:\n",
    "# ori = training_image_array\n",
    "# bat = np.zeros((ori.shape[0],178))\n",
    "# cat = np.hstack([ori,bat])\n",
    "# training_image_array = cat\n",
    "\n",
    "# # In[8]:\n",
    "# training_image_array.shape\n",
    "\n",
    "# # In[10]:\n",
    "# ori2 = test_image_array\n",
    "# bat2 = np.zeros((ori2.shape[0],178))\n",
    "# cat2 = np.hstack([ori2,bat2])\n",
    "# test_image_array = cat2\n"
   ]
  },
  {
   "cell_type": "code",
   "execution_count": 5,
   "metadata": {},
   "outputs": [
    {
     "name": "stdout",
     "output_type": "stream",
     "text": [
      "1 5\n"
     ]
    }
   ],
   "source": [
    "# In[15]:\n",
    "ab =[]\n",
    "for i in range(50,100):\n",
    "    ab.append(len(training_image_array) % i)\n",
    "    \n",
    "print(min(ab), ab.index(min(ab)))"
   ]
  },
  {
   "cell_type": "code",
   "execution_count": 6,
   "metadata": {},
   "outputs": [
    {
     "data": {
      "text/plain": [
       "(7151, 42526)"
      ]
     },
     "execution_count": 6,
     "metadata": {},
     "output_type": "execute_result"
    }
   ],
   "source": [
    "x.shape"
   ]
  },
  {
   "cell_type": "code",
   "execution_count": 7,
   "metadata": {},
   "outputs": [
    {
     "data": {
      "text/plain": [
       "(6436, 42526)"
      ]
     },
     "execution_count": 7,
     "metadata": {},
     "output_type": "execute_result"
    }
   ],
   "source": [
    "training_image_array.shape"
   ]
  },
  {
   "cell_type": "code",
   "execution_count": 8,
   "metadata": {},
   "outputs": [],
   "source": [
    "train_X, train_y, test_X, test_y = training_image_array, training_label_array, test_image_array, test_label_array\n",
    "\n",
    "# if K.image_data_format() == 'channels_first':\n",
    "#     train_X = train_X.reshape(train_X.shape[0], 1, img_rows, img_cols)\n",
    "#     test_X = test_X.reshape(x_test.shape[0], 1, img_rows, img_cols)\n",
    "#     input_shape = (1, img_rows, img_cols)\n",
    "# else:\n",
    "#     train_X = train_X.reshape(train_X.shape[0], img_rows, img_cols, 1)\n",
    "#     test_X = test_X.reshape(test_X.shape[0], img_rows, img_cols, 1)\n",
    "#     input_shape = (img_rows, img_cols, 1)\n"
   ]
  },
  {
   "cell_type": "code",
   "execution_count": 9,
   "metadata": {},
   "outputs": [],
   "source": [
    "# train_X = train_X.reshape(train_X.shape[0], train_X.shape[1], 1)\n",
    "# test_X = test_X.reshape(test_X.shape[0], test_X.shape[1], 1)\n",
    "# #input_shape = (img_rows, img_cols, 1)"
   ]
  },
  {
   "cell_type": "code",
   "execution_count": 10,
   "metadata": {},
   "outputs": [
    {
     "name": "stdout",
     "output_type": "stream",
     "text": [
      "(6436, 42526) (6436,) (715, 42526) (715,)\n"
     ]
    }
   ],
   "source": [
    "print(train_X.shape, train_y.shape, test_X.shape, test_y.shape)"
   ]
  },
  {
   "cell_type": "code",
   "execution_count": 11,
   "metadata": {},
   "outputs": [],
   "source": [
    "inds = np.where(np.isnan(test_X))"
   ]
  },
  {
   "cell_type": "code",
   "execution_count": 12,
   "metadata": {},
   "outputs": [
    {
     "data": {
      "text/plain": [
       "(array([], dtype=int64), array([], dtype=int64))"
      ]
     },
     "execution_count": 12,
     "metadata": {},
     "output_type": "execute_result"
    }
   ],
   "source": [
    "inds"
   ]
  },
  {
   "cell_type": "code",
   "execution_count": 13,
   "metadata": {},
   "outputs": [
    {
     "name": "stdout",
     "output_type": "stream",
     "text": [
      "train_X shape: (6436, 42526)\n",
      "6436 train samples\n",
      "715 test samples\n"
     ]
    }
   ],
   "source": [
    "train_X = train_X.astype('float32')\n",
    "test_X = test_X.astype('float32')\n",
    "# train_X /= 255\n",
    "# test_X /= 255\n",
    "print('train_X shape:', train_X.shape)\n",
    "print(train_X.shape[0], 'train samples')\n",
    "print(test_X.shape[0], 'test samples')"
   ]
  },
  {
   "cell_type": "code",
   "execution_count": 14,
   "metadata": {},
   "outputs": [],
   "source": [
    "import numpy as np\n",
    "from sklearn.svm import SVR\n",
    "import matplotlib.pyplot as plt\n",
    "\n",
    "# #############################################################################\n",
    "# Fit regression model\n",
    "svr_lin = SVR(C=0.01)\n",
    "y_lin = svr_lin.fit(train_X, train_y).predict(test_X)\n"
   ]
  },
  {
   "cell_type": "code",
   "execution_count": 15,
   "metadata": {},
   "outputs": [],
   "source": [
    "import matplotlib\n",
    "from matplotlib import pyplot as plt"
   ]
  },
  {
   "cell_type": "code",
   "execution_count": 16,
   "metadata": {},
   "outputs": [
    {
     "data": {
      "text/plain": [
       "array([1.98171723, 1.95966044, 1.95689085, 1.92211305, 1.93498783,\n",
       "       1.98068343, 1.93183821, 1.9220537 , 1.97948178, 1.93200682,\n",
       "       1.9683825 , 1.97950111, 1.98670819, 1.97642767, 1.97339562,\n",
       "       1.97913068, 1.97987398, 1.96994605, 1.95769977, 1.97961636,\n",
       "       1.96972241, 1.97173518, 1.97093094, 1.93711471, 1.97936755,\n",
       "       1.96858705, 1.97836653, 1.97037636, 1.9843748 , 1.98683483,\n",
       "       1.97197549, 1.98190322, 1.96385942, 1.92950041, 1.92804619,\n",
       "       1.93704042, 1.97891321, 1.97697324, 1.96241604, 1.9848842 ,\n",
       "       1.97840206, 1.97936906, 1.9347572 , 1.97423562, 1.98107175,\n",
       "       1.95712134, 1.96241668, 1.97993365, 1.98313777, 1.9757371 ,\n",
       "       1.98889444, 1.9865176 , 1.97231709, 1.97372994, 1.9793796 ,\n",
       "       1.97154348, 1.96627781, 1.96108108, 1.97032571, 1.87798957,\n",
       "       1.97582456, 1.98190101, 1.96983368, 1.97141171, 1.93832139,\n",
       "       1.93938608, 1.97957799, 1.90920586, 1.95798651, 1.96020754,\n",
       "       1.93019536, 1.98459438, 1.89947761, 1.9625664 , 1.98062345,\n",
       "       1.98580176, 1.92164409, 1.97469892, 1.89944572, 1.97872533,\n",
       "       1.9793395 , 1.9316669 , 1.97561269, 1.96736035, 1.9793628 ,\n",
       "       1.97513841, 1.95603232, 1.90336824, 1.94950547, 1.9808724 ,\n",
       "       1.96067981, 1.97227722, 1.9793029 , 1.93298389, 1.8586191 ,\n",
       "       1.98124349, 1.96891449, 1.97643069, 1.90435412, 1.9752905 ,\n",
       "       1.97794699, 1.97907917, 1.98731259, 1.9787846 , 1.96847314,\n",
       "       1.97274675, 1.94938987, 1.97256793, 1.96993966, 1.97844896,\n",
       "       1.96151211, 1.97647274, 1.96797021, 1.87479764, 1.98083031,\n",
       "       1.97951902, 1.98247449, 1.968889  , 1.92355961, 1.929802  ,\n",
       "       1.97634923, 1.94782489, 1.96831466, 1.95322783, 1.942337  ,\n",
       "       1.95917194, 1.9869252 , 1.97431282, 1.95961481, 1.97925209,\n",
       "       1.96230249, 1.96862584, 1.97106754, 1.96206989, 1.96020853,\n",
       "       1.98061911, 1.97210625, 1.9567921 , 1.9602265 , 1.9691741 ,\n",
       "       1.96057089, 1.9778169 , 1.98001069, 1.9579663 , 1.97338699,\n",
       "       1.97955152, 1.95463383, 1.97342523, 1.9735473 , 1.94825814,\n",
       "       1.98214572, 1.98167107, 1.95232514, 1.88653315, 1.84433436,\n",
       "       1.97954054, 1.97301223, 1.97792931, 1.95608216, 1.97781557,\n",
       "       1.96034405, 1.95490532, 1.98266975, 1.9653705 , 1.93517696,\n",
       "       1.97942413, 1.93068866, 1.97895858, 1.97588557, 1.96109257,\n",
       "       1.97580496, 1.97631361, 1.97157666, 1.91156327, 1.97259084,\n",
       "       1.97050596, 1.98274672, 1.9795295 , 1.97363888, 1.96057434,\n",
       "       1.97952993, 1.9241986 , 1.9709507 , 1.98706622, 1.9612147 ,\n",
       "       1.96784304, 1.90508298, 1.89665936, 1.95737873, 1.96890995,\n",
       "       1.97558881, 1.94102852, 1.97003175, 1.97890806, 1.97641741,\n",
       "       1.97763259, 1.95312819, 1.95621285, 1.96690159, 1.93024898,\n",
       "       1.95743604, 1.90273573, 1.9870913 , 1.98205792, 1.98054533,\n",
       "       1.97931828, 1.96085571, 1.97927105, 1.92431352, 1.97011469,\n",
       "       1.94343622, 1.914952  , 1.97939187, 1.92896307, 1.85583378,\n",
       "       1.97928809, 1.96876255, 1.93480792, 1.92612653, 1.95610607,\n",
       "       1.97969423, 1.9691775 , 1.94898008, 1.93087758, 1.94236279,\n",
       "       1.94819196, 1.9707243 , 1.9484353 , 1.98212086, 1.97218985,\n",
       "       1.97633257, 1.86569395, 1.97770449, 1.9714701 , 1.97679587,\n",
       "       1.9286487 , 1.97086226, 1.91894903, 1.9760844 , 1.98423274,\n",
       "       1.98008609, 1.96938461, 1.97847639, 1.9743279 , 1.97424208,\n",
       "       1.90705682, 1.9784231 , 1.97959462, 1.96295055, 1.97917322,\n",
       "       1.96713265, 1.9326744 , 1.9805792 , 1.97932626, 1.98290695,\n",
       "       1.96852656, 1.87602139, 1.98680657, 1.87058395, 1.97150829,\n",
       "       1.98462001, 1.9855195 , 1.92082064, 1.97802274, 1.97231127,\n",
       "       1.97695131, 1.96483676, 1.97774162, 1.9449853 , 1.97907126,\n",
       "       1.8993291 , 1.97106977, 1.96294388, 1.89058427, 1.93380386,\n",
       "       1.97257169, 1.97997235, 1.96109325, 1.93787051, 1.96085326,\n",
       "       1.91905119, 1.8780343 , 1.97237561, 1.90542301, 1.91822872,\n",
       "       1.95531366, 1.98601272, 1.97896905, 1.95425042, 1.97740691,\n",
       "       1.93345938, 1.92926105, 1.98845445, 1.96237364, 1.96713576,\n",
       "       1.93254598, 1.98334088, 1.95404769, 1.97578315, 1.90202429,\n",
       "       1.9835316 , 1.92555182, 1.96784238, 1.93738709, 1.97928678,\n",
       "       1.9150986 , 1.97660023, 1.8640999 , 1.98416494, 1.96767999,\n",
       "       1.88084251, 1.97949026, 1.97824506, 1.94718417, 1.93573305,\n",
       "       1.97896933, 1.97963537, 1.88699864, 1.97986192, 1.97920532,\n",
       "       1.97219187, 1.97345671, 1.98579624, 1.95862238, 1.97342277,\n",
       "       1.96991705, 1.97885823, 1.93270042, 1.97926535, 1.96921676,\n",
       "       1.9796594 , 1.97933958, 1.98361597, 1.94419873, 1.97901018,\n",
       "       1.96881183, 1.97159865, 1.96781593, 1.92721203, 1.91101568,\n",
       "       1.88216037, 1.95203076, 1.98270802, 1.97204119, 1.97635791,\n",
       "       1.97397295, 1.9764893 , 1.97370805, 1.96048397, 1.97106876,\n",
       "       1.93527334, 1.87927736, 1.96447796, 1.91774587, 1.96129844,\n",
       "       1.97192866, 1.93512649, 1.89094277, 1.95407402, 1.9507066 ,\n",
       "       1.95995009, 1.9762875 , 1.92371839, 1.98017648, 1.91952956,\n",
       "       1.98563918, 1.96046824, 1.87065829, 1.95081104, 1.91598989,\n",
       "       1.96169806, 1.96463527, 1.97004773, 1.98248639, 1.96850677,\n",
       "       1.91469104, 1.9761694 , 1.97692271, 1.9378083 , 1.85779933,\n",
       "       1.96424323, 1.97304604, 1.98564736, 1.98513188, 1.96467514,\n",
       "       1.96287037, 1.96869861, 1.98439601, 1.97355623, 1.9810311 ,\n",
       "       1.97339189, 1.97480726, 1.96907276, 1.97929945, 1.96547368,\n",
       "       1.97482076, 1.93043814, 1.97936446, 1.9843859 , 1.98115824,\n",
       "       1.96022605, 1.981501  , 1.98051393, 1.9584316 , 1.96843564,\n",
       "       1.97137756, 1.96879434, 1.97565206, 1.96193658, 1.95660341,\n",
       "       1.97607382, 1.96323877, 1.89101105, 1.95752894, 1.97047157,\n",
       "       1.95727326, 1.89099531, 1.94755328, 1.92074283, 1.98191972,\n",
       "       1.92168456, 1.96967909, 1.97827064, 1.96163371, 1.92739531,\n",
       "       1.97100038, 1.98073905, 1.97482233, 1.97337125, 1.95031825,\n",
       "       1.96394449, 1.97275367, 1.91600654, 1.88085267, 1.97987275,\n",
       "       1.97127602, 1.97953894, 1.92843548, 1.96022844, 1.95208042,\n",
       "       1.87174206, 1.92813107, 1.98001806, 1.96757913, 1.9806491 ,\n",
       "       1.96623554, 1.97155136, 1.96517306, 1.96411509, 1.98839332,\n",
       "       1.98308383, 1.93429242, 1.95300966, 1.96003713, 1.95758763,\n",
       "       1.95984723, 1.97128176, 1.98361557, 1.96443761, 1.98241942,\n",
       "       1.90435395, 1.86993783, 1.98259338, 1.96853907, 1.96773574,\n",
       "       1.97834292, 1.98236069, 1.9325902 , 1.9712168 , 1.96796006,\n",
       "       1.9744455 , 1.96505677, 1.95431543, 1.91208642, 1.84244556,\n",
       "       1.97040035, 1.97083936, 1.98424873, 1.96213386, 1.97952047,\n",
       "       1.97819428, 1.97909066, 1.93410926, 1.97469717, 1.97104758,\n",
       "       1.96161159, 1.97187179, 1.9540934 , 1.97942751, 1.87340241,\n",
       "       1.91527624, 1.98667566, 1.97943307, 1.98422902, 1.9793513 ,\n",
       "       1.91698713, 1.93698702, 1.96412756, 1.97956875, 1.94801952,\n",
       "       1.98803159, 1.97927261, 1.97440534, 1.97606749, 1.95727431,\n",
       "       1.97303824, 1.97664026, 1.96445205, 1.96739079, 1.96919371,\n",
       "       1.97074562, 1.96868459, 1.97879981, 1.94015799, 1.93525936,\n",
       "       1.96681349, 1.95394868, 1.98490557, 1.97096268, 1.94228267,\n",
       "       1.98741923, 1.96751693, 1.93560509, 1.92572813, 1.96911504,\n",
       "       1.97223999, 1.97941352, 1.97767674, 1.97762081, 1.94091322,\n",
       "       1.97853281, 1.91171119, 1.91363802, 1.913858  , 1.92375472,\n",
       "       1.95770549, 1.98448962, 1.96183674, 1.95888469, 1.97033827,\n",
       "       1.87663763, 1.97867251, 1.92466482, 1.97662043, 1.93264002,\n",
       "       1.98114952, 1.97328977, 1.97547498, 1.95650406, 1.85920355,\n",
       "       1.96760607, 1.95642661, 1.97602091, 1.98359573, 1.96840775,\n",
       "       1.96218952, 1.87785271, 1.97167551, 1.97900769, 1.95263161,\n",
       "       1.96524315, 1.97293505, 1.97548014, 1.95262068, 1.93074808,\n",
       "       1.97955477, 1.98075193, 1.97052025, 1.98325038, 1.92550249,\n",
       "       1.95141387, 1.9162552 , 1.97665152, 1.97209871, 1.93180564,\n",
       "       1.91226021, 1.98215358, 1.96850203, 1.97285272, 1.95577528,\n",
       "       1.93055805, 1.97434194, 1.96037536, 1.93239092, 1.97668035,\n",
       "       1.98442845, 1.96796362, 1.98271917, 1.96333612, 1.92244256,\n",
       "       1.93952513, 1.89651843, 1.96129895, 1.97597402, 1.97784443,\n",
       "       1.96293771, 1.93252436, 1.96533444, 1.97555964, 1.9713457 ,\n",
       "       1.96850425, 1.97798189, 1.97934761, 1.97954822, 1.96484133,\n",
       "       1.93135769, 1.97156869, 1.96479304, 1.97942932, 1.97936896,\n",
       "       1.9454139 , 1.97965527, 1.971955  , 1.96188101, 1.92995829,\n",
       "       1.97622043, 1.97143183, 1.95678375, 1.97752573, 1.8949553 ,\n",
       "       1.98012479, 1.98974572, 1.97992395, 1.97621493, 1.97472669,\n",
       "       1.95790805, 1.97931176, 1.94556314, 1.93564162, 1.97669003,\n",
       "       1.9283606 , 1.97463194, 1.96593859, 1.95263884, 1.97710375,\n",
       "       1.98751585, 1.97938174, 1.98105391, 1.96684767, 1.97324128,\n",
       "       1.96258229, 1.9710005 , 1.9793037 , 1.93398124, 1.97085883,\n",
       "       1.87132555, 1.91400484, 1.97097989, 1.98298002, 1.97651975,\n",
       "       1.9790078 , 1.93697217, 1.9461333 , 1.90250771, 1.95652256,\n",
       "       1.97817784, 1.98389476, 1.97930586, 1.96198861, 1.98468056,\n",
       "       1.97906844, 1.97549597, 1.96162982, 1.95112757, 1.88538755,\n",
       "       1.97796921, 1.90176724, 1.98690323, 1.96576811, 1.96046389,\n",
       "       1.98657059, 1.91424874, 1.92498041, 1.9656755 , 1.98594414,\n",
       "       1.85130643, 1.92519019, 1.9356734 , 1.96966463, 1.93404768,\n",
       "       1.97788819, 1.97681768, 1.9804639 , 1.91342349, 1.93920755,\n",
       "       1.97528535, 1.97654255, 1.96832957, 1.96418603, 1.95987322,\n",
       "       1.92906599, 1.97787414, 1.92843381, 1.91021103, 1.96784163,\n",
       "       1.97914441, 1.94256163, 1.96996716, 1.97432537, 1.97930509,\n",
       "       1.96513608, 1.97564941, 1.97791   , 1.97993742, 1.97808348,\n",
       "       1.9627697 , 1.98693883, 1.9710728 , 1.97864698, 1.98393   ,\n",
       "       1.97935633, 1.97993696, 1.97397405, 1.98058814, 1.97383029])"
      ]
     },
     "execution_count": 16,
     "metadata": {},
     "output_type": "execute_result"
    }
   ],
   "source": [
    "y_lin"
   ]
  },
  {
   "cell_type": "code",
   "execution_count": 17,
   "metadata": {},
   "outputs": [
    {
     "ename": "FileNotFoundError",
     "evalue": "[Errno 2] No such file or directory: 'D://Deep_learning//ResNetIC50_log//Result//MEDC-7K//SCR//MEDC7K_SVR_model.pkl'",
     "output_type": "error",
     "traceback": [
      "\u001b[1;31m---------------------------------------------------------------------------\u001b[0m",
      "\u001b[1;31mFileNotFoundError\u001b[0m                         Traceback (most recent call last)",
      "\u001b[1;32m<ipython-input-17-8f200f8fb571>\u001b[0m in \u001b[0;36m<module>\u001b[1;34m()\u001b[0m\n\u001b[0;32m      2\u001b[0m \u001b[1;32mimport\u001b[0m \u001b[0mjoblib\u001b[0m\u001b[1;33m\u001b[0m\u001b[1;33m\u001b[0m\u001b[0m\n\u001b[0;32m      3\u001b[0m \u001b[0mworkdir\u001b[0m \u001b[1;33m=\u001b[0m \u001b[1;34m\"D://Deep_learning//ResNetIC50_log//Result//MEDC-7K//SCR\"\u001b[0m\u001b[1;33m\u001b[0m\u001b[1;33m\u001b[0m\u001b[0m\n\u001b[1;32m----> 4\u001b[1;33m \u001b[0mjoblib\u001b[0m\u001b[1;33m.\u001b[0m\u001b[0mdump\u001b[0m\u001b[1;33m(\u001b[0m\u001b[0msvr_lin\u001b[0m\u001b[1;33m,\u001b[0m \u001b[0mworkdir\u001b[0m \u001b[1;33m+\u001b[0m \u001b[1;34m'//MEDC7K_SVR_model.pkl'\u001b[0m\u001b[1;33m)\u001b[0m\u001b[1;33m\u001b[0m\u001b[1;33m\u001b[0m\u001b[0m\n\u001b[0m",
      "\u001b[1;32mC:\\Users\\ylab\\AppData\\Local\\conda\\conda\\envs\\ronny\\lib\\site-packages\\joblib\\numpy_pickle.py\u001b[0m in \u001b[0;36mdump\u001b[1;34m(value, filename, compress, protocol, cache_size)\u001b[0m\n\u001b[0;32m    502\u001b[0m             \u001b[0mNumpyPickler\u001b[0m\u001b[1;33m(\u001b[0m\u001b[0mf\u001b[0m\u001b[1;33m,\u001b[0m \u001b[0mprotocol\u001b[0m\u001b[1;33m=\u001b[0m\u001b[0mprotocol\u001b[0m\u001b[1;33m)\u001b[0m\u001b[1;33m.\u001b[0m\u001b[0mdump\u001b[0m\u001b[1;33m(\u001b[0m\u001b[0mvalue\u001b[0m\u001b[1;33m)\u001b[0m\u001b[1;33m\u001b[0m\u001b[1;33m\u001b[0m\u001b[0m\n\u001b[0;32m    503\u001b[0m     \u001b[1;32melif\u001b[0m \u001b[0mis_filename\u001b[0m\u001b[1;33m:\u001b[0m\u001b[1;33m\u001b[0m\u001b[1;33m\u001b[0m\u001b[0m\n\u001b[1;32m--> 504\u001b[1;33m         \u001b[1;32mwith\u001b[0m \u001b[0mopen\u001b[0m\u001b[1;33m(\u001b[0m\u001b[0mfilename\u001b[0m\u001b[1;33m,\u001b[0m \u001b[1;34m'wb'\u001b[0m\u001b[1;33m)\u001b[0m \u001b[1;32mas\u001b[0m \u001b[0mf\u001b[0m\u001b[1;33m:\u001b[0m\u001b[1;33m\u001b[0m\u001b[1;33m\u001b[0m\u001b[0m\n\u001b[0m\u001b[0;32m    505\u001b[0m             \u001b[0mNumpyPickler\u001b[0m\u001b[1;33m(\u001b[0m\u001b[0mf\u001b[0m\u001b[1;33m,\u001b[0m \u001b[0mprotocol\u001b[0m\u001b[1;33m=\u001b[0m\u001b[0mprotocol\u001b[0m\u001b[1;33m)\u001b[0m\u001b[1;33m.\u001b[0m\u001b[0mdump\u001b[0m\u001b[1;33m(\u001b[0m\u001b[0mvalue\u001b[0m\u001b[1;33m)\u001b[0m\u001b[1;33m\u001b[0m\u001b[1;33m\u001b[0m\u001b[0m\n\u001b[0;32m    506\u001b[0m     \u001b[1;32melse\u001b[0m\u001b[1;33m:\u001b[0m\u001b[1;33m\u001b[0m\u001b[1;33m\u001b[0m\u001b[0m\n",
      "\u001b[1;31mFileNotFoundError\u001b[0m: [Errno 2] No such file or directory: 'D://Deep_learning//ResNetIC50_log//Result//MEDC-7K//SCR//MEDC7K_SVR_model.pkl'"
     ]
    }
   ],
   "source": [
    "import pickle\n",
    "import joblib\n",
    "workdir = \"D://Deep_learning//ResNetIC50_log//Result//MEDC-7K//SCR\"\n",
    "joblib.dump(svr_lin, workdir + '//MEDC7K_SVR_model.pkl') "
   ]
  },
  {
   "cell_type": "code",
   "execution_count": null,
   "metadata": {},
   "outputs": [],
   "source": [
    "a = pd.DataFrame(y_lin)\n",
    "b = pd.DataFrame(test_label_array)\n",
    "c = pd.concat([a,b], axis=1)\n",
    "c.columns=[\"Predicted\",\"Test\"]"
   ]
  },
  {
   "cell_type": "code",
   "execution_count": null,
   "metadata": {},
   "outputs": [],
   "source": [
    "c.to_csv(workdir + '//MEDC7K_SVR_pred_obs_table.csv')"
   ]
  },
  {
   "cell_type": "code",
   "execution_count": null,
   "metadata": {},
   "outputs": [],
   "source": [
    "c"
   ]
  },
  {
   "cell_type": "code",
   "execution_count": null,
   "metadata": {},
   "outputs": [],
   "source": [
    "from scipy.stats import linregress\n",
    "linregress(b[0], a[0])"
   ]
  },
  {
   "cell_type": "code",
   "execution_count": null,
   "metadata": {},
   "outputs": [],
   "source": [
    "from sklearn.metrics import r2_score\n",
    "r2_value = r2_score(b,a)\n",
    "print(r2_value)"
   ]
  },
  {
   "cell_type": "code",
   "execution_count": null,
   "metadata": {},
   "outputs": [],
   "source": [
    "rse = ((b[0]-a[0])**2).sum()\n",
    "mse = rse / len(b)\n",
    "print(\"Final rmse value is =\",np.sqrt(mse))"
   ]
  },
  {
   "cell_type": "code",
   "execution_count": null,
   "metadata": {},
   "outputs": [],
   "source": [
    "workdir = \"D://Deep_learning//ResNetIC50_log//Figure//Backbone//MEDC-7K\"\n",
    "import seaborn as sns\n",
    "\n",
    "g = sns.jointplot(x=\"Test\", y=\"Predicted\", data=c, kind='reg', color='#7C7C7C',\n",
    "                  joint_kws={'line_kws':{'color':'black'}})\n",
    "g.savefig(workdir+ '//MEDC7K_SVR.png', dpi=300)"
   ]
  },
  {
   "cell_type": "code",
   "execution_count": null,
   "metadata": {},
   "outputs": [],
   "source": []
  }
 ],
 "metadata": {
  "kernelspec": {
   "display_name": "Python 3",
   "language": "python",
   "name": "python3"
  },
  "language_info": {
   "codemirror_mode": {
    "name": "ipython",
    "version": 3
   },
   "file_extension": ".py",
   "mimetype": "text/x-python",
   "name": "python",
   "nbconvert_exporter": "python",
   "pygments_lexer": "ipython3",
   "version": "3.6.9"
  }
 },
 "nbformat": 4,
 "nbformat_minor": 2
}
